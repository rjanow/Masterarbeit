{
  "nbformat": 4,
  "nbformat_minor": 0,
  "metadata": {
    "colab": {
      "provenance": [],
      "authorship_tag": "ABX9TyMvlamb45xVMSWy9w0Nzu6f",
      "include_colab_link": true
    },
    "kernelspec": {
      "name": "python3",
      "display_name": "Python 3"
    },
    "language_info": {
      "name": "python"
    }
  },
  "cells": [
    {
      "cell_type": "markdown",
      "metadata": {
        "id": "view-in-github",
        "colab_type": "text"
      },
      "source": [
        "<a href=\"https://colab.research.google.com/github/rjanow/Masterarbeit/blob/main/modeling_and_prediction_Quantile_LSTM_SeperateHeads.ipynb\" target=\"_parent\"><img src=\"https://colab.research.google.com/assets/colab-badge.svg\" alt=\"Open In Colab\"/></a>"
      ]
    },
    {
      "cell_type": "markdown",
      "source": [
        "# A Novel Multi head Attention Qunatile LSTM"
      ],
      "metadata": {
        "id": "VRi0XUtXk1uQ"
      }
    },
    {
      "cell_type": "code",
      "execution_count": null,
      "metadata": {
        "id": "VpmHq8vHknOc"
      },
      "outputs": [],
      "source": [
        "# Verbinden mit der Google-Drive\n",
        "from google.colab import drive\n",
        "import os\n",
        "drive.mount('/content/drive')"
      ]
    },
    {
      "cell_type": "code",
      "source": [
        "!pip install tensorflow\n",
        "!pip install keras"
      ],
      "metadata": {
        "id": "el9oU_pB1v8V"
      },
      "execution_count": null,
      "outputs": []
    },
    {
      "cell_type": "code",
      "source": [
        "import tensorflow as tf\n",
        "import keras\n",
        "import pandas as pd\n",
        "import numpy as np\n",
        "import matplotlib.pyplot as plt\n",
        "\n",
        "from keras.models import Sequential, Model\n",
        "from keras.layers import Dense, Dropout, LSTM, Bidirectional, Input\n",
        "from sklearn.preprocessing import MinMaxScaler\n",
        "from sklearn.metrics import mean_squared_error, mean_absolute_error, r2_score"
      ],
      "metadata": {
        "id": "6oWkMTFv10Wt"
      },
      "execution_count": null,
      "outputs": []
    },
    {
      "cell_type": "markdown",
      "source": [
        "## Funktionen:"
      ],
      "metadata": {
        "id": "gTFHaoKf11Hb"
      }
    },
    {
      "cell_type": "code",
      "source": [
        " Pfad zur CSV-Datei auf Google-Drive\n",
        "name_Messwerte = 'Messdaten_CAMS_GHI.csv'\n",
        "name_Vorhersage = 'Vorhersagedaten_CAMS_VarIdx.csv'\n",
        "folder_import = '/content/drive/My Drive/Colab_Notebooks/Clean_Data/'"
      ],
      "metadata": {
        "id": "3GBMjF5f14KM"
      },
      "execution_count": null,
      "outputs": []
    },
    {
      "cell_type": "code",
      "source": [
        "# Pfad zum Abspeichern des trainierten Modells in Google-Drive\n",
        "\n",
        "model_path = '/content/drive/My Drive/Colab_Notebooks/LSTM_Model/full_model.keras'\n",
        "weights_path = '/content/drive/My Drive/Colab_Notebooks/LSTM_Model/model_weights.weights.h5'\n",
        "\n",
        "# Pfad für den Testdatensatz\n",
        "\n",
        "testdata_path_X = '/content/drive/My Drive/Colab_Notebooks/LSTM_Model/model_testdata_X.csv'\n",
        "testdata_path_Y = '/content/drive/My Drive/Colab_Notebooks/LSTM_Model/model_testdata_Y.csv'\n",
        "\n",
        "# Pfad für die Logdatei\n",
        "\n",
        "text_file_path = \"/content/drive/MyDrive/Colab_Notebooks/LSTM_Model/model_results.txt\""
      ],
      "metadata": {
        "id": "328bLyxp15uW"
      },
      "execution_count": null,
      "outputs": []
    },
    {
      "cell_type": "code",
      "source": [
        "# Import der Messdaten\n",
        "df_Messdaten = pd.read_csv(folder_import + name_Messwerte)"
      ],
      "metadata": {
        "id": "FL2LlazU16-k"
      },
      "execution_count": null,
      "outputs": []
    },
    {
      "cell_type": "code",
      "source": [
        "# Import der Vorhersagedaten\n",
        "df_Vorhersage = pd.read_csv(folder_import + name_Vorhersage)"
      ],
      "metadata": {
        "id": "3tLhHHbS1-h4"
      },
      "execution_count": null,
      "outputs": []
    },
    {
      "cell_type": "code",
      "source": [
        "# Konvertiere die Zeitspalten in ein gemeinsames Format und führe einen Merge der Datensätze durch\n",
        "df_Messdaten['Datetime'] = pd.to_datetime(df_Messdaten['Datetime'])\n",
        "df_Vorhersage['Datetime'] = pd.to_datetime(df_Vorhersage['Datetime'])"
      ],
      "metadata": {
        "id": "5jBvsOYC2AB_"
      },
      "execution_count": null,
      "outputs": []
    },
    {
      "cell_type": "code",
      "source": [
        "# Spalten in den Messdaten\n",
        "df_Messdaten.columns"
      ],
      "metadata": {
        "id": "5paIaqq82Baq"
      },
      "execution_count": null,
      "outputs": []
    },
    {
      "cell_type": "markdown",
      "source": [
        "## Funktionsdefinition:"
      ],
      "metadata": {
        "id": "_SkewNmV2CdL"
      }
    },
    {
      "cell_type": "code",
      "source": [
        "def quantile_loss(q, y_true, y_pred):\n",
        "    \"\"\"Berechnet den Pinball Loss für mehrere Quantile.\"\"\"\n",
        "    e = y_true - y_pred\n",
        "    return tf.reduce_mean(tf.maximum(q * e, (q - 1) * e), axis=-1)  # Reduziere entlang der letzten Achse"
      ],
      "metadata": {
        "id": "LwDXjZgp2FU0"
      },
      "execution_count": null,
      "outputs": []
    },
    {
      "cell_type": "code",
      "source": [
        "def multi_quantile_loss(y_true, y_pred):\n",
        "    losses = []\n",
        "    for i, q in enumerate(quantiles):\n",
        "        losses.append(quantile_loss(q, y_true[:, i], y_pred[:, i]))\n",
        "    return tf.reduce_mean(losses)"
      ],
      "metadata": {
        "id": "dY18d0c_2G8J"
      },
      "execution_count": null,
      "outputs": []
    },
    {
      "cell_type": "markdown",
      "source": [
        "## Config:"
      ],
      "metadata": {
        "id": "1hVXxnXz2IOM"
      }
    },
    {
      "cell_type": "code",
      "source": [
        "model_name = \"LSTM_mit_Vorhersagewerten_1Step\""
      ],
      "metadata": {
        "id": "ddCYscrf2KsW"
      },
      "execution_count": null,
      "outputs": []
    },
    {
      "cell_type": "code",
      "source": [
        "# Beispiel: Nur 'SZA' als Feature und 'UVI' als Label\n",
        "columns_X = ['Clear_sky_GHI', 'Clear_sky_BHI', 'GHI', 'BHI', 'Temp', 'SZA', 'time_sin', 'time_cos', 'date_sin', 'date_cos']\n",
        "columns_y = ['UVI']"
      ],
      "metadata": {
        "id": "q70UvBBJ2Mdc"
      },
      "execution_count": null,
      "outputs": []
    },
    {
      "cell_type": "code",
      "source": [
        "quantiles = [0.1, 0.25, 0.5, 0.75, 0.9]"
      ],
      "metadata": {
        "id": "5p9PXHR82NtA"
      },
      "execution_count": null,
      "outputs": []
    },
    {
      "cell_type": "code",
      "source": [
        "model_config = {\n",
        "    \"units_1\": 64,\n",
        "    \"units_2\": 32,\n",
        "    \"dropout_rate\": 0.1,\n",
        "    \"final_activation\": \"linear\"\n",
        "}"
      ],
      "metadata": {
        "id": "mV8wpdWk2Pqp"
      },
      "execution_count": null,
      "outputs": []
    },
    {
      "cell_type": "code",
      "source": [
        "training_config = {\n",
        "    \"loss\": multi_quantile_loss,\n",
        "    \"optimizer\": \"adam\",\n",
        "    \"metrics\": [\n",
        "        \"mse\",\n",
        "        \"mae\",\n",
        "        \"mape\",\n",
        "        keras.metrics.RootMeanSquaredError(name=\"rmse\")\n",
        "    ]\n",
        "}"
      ],
      "metadata": {
        "id": "K9ghAt7G2RbC"
      },
      "execution_count": null,
      "outputs": []
    },
    {
      "cell_type": "code",
      "source": [
        "fit_config = {\n",
        "    \"epochs\": 10,\n",
        "    \"batch_size\": 32,\n",
        "    \"sequence_length\": 16\n",
        "}"
      ],
      "metadata": {
        "id": "ANYtSDYC2S_Q"
      },
      "execution_count": null,
      "outputs": []
    }
  ]
}