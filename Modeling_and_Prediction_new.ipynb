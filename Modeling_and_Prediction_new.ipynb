{
  "nbformat": 4,
  "nbformat_minor": 0,
  "metadata": {
    "colab": {
      "provenance": [],
      "authorship_tag": "ABX9TyMjQhf397GnByZwBPNDY1xb",
      "include_colab_link": true
    },
    "kernelspec": {
      "name": "python3",
      "display_name": "Python 3"
    },
    "language_info": {
      "name": "python"
    }
  },
  "cells": [
    {
      "cell_type": "markdown",
      "metadata": {
        "id": "view-in-github",
        "colab_type": "text"
      },
      "source": [
        "<a href=\"https://colab.research.google.com/github/rjanow/Masterarbeit/blob/main/Modeling_and_Prediction_new.ipynb\" target=\"_parent\"><img src=\"https://colab.research.google.com/assets/colab-badge.svg\" alt=\"Open In Colab\"/></a>"
      ]
    },
    {
      "cell_type": "code",
      "execution_count": 30,
      "metadata": {
        "id": "YB6UmPFWkff5"
      },
      "outputs": [],
      "source": [
        "!pip -q install wandb --upgrade"
      ]
    },
    {
      "cell_type": "code",
      "source": [
        "import os\n",
        "import datetime as dt\n",
        "import numpy as np\n",
        "import pandas as pd\n",
        "import tensorflow as tf\n",
        "from tensorflow import keras\n",
        "from keras import layers\n",
        "from sklearn.preprocessing import MinMaxScaler\n",
        "import joblib\n",
        "import wandb\n",
        "from wandb.integration.keras import WandbCallback"
      ],
      "metadata": {
        "id": "6DMMu_9zpRMP"
      },
      "execution_count": 31,
      "outputs": []
    },
    {
      "cell_type": "code",
      "source": [
        "from google.colab import drive\n",
        "drive.mount('/content/drive')"
      ],
      "metadata": {
        "colab": {
          "base_uri": "https://localhost:8080/"
        },
        "id": "IkExEFUypggV",
        "outputId": "d266e7d2-0271-4880-8317-9ee4df67e47c"
      },
      "execution_count": 32,
      "outputs": [
        {
          "output_type": "stream",
          "name": "stdout",
          "text": [
            "Drive already mounted at /content/drive; to attempt to forcibly remount, call drive.mount(\"/content/drive\", force_remount=True).\n"
          ]
        }
      ]
    },
    {
      "cell_type": "code",
      "source": [
        "# Reproduzierbarkeit\n",
        "SEED = 42\n",
        "np.random.seed(SEED)\n",
        "tf.random.set_seed(SEED)"
      ],
      "metadata": {
        "id": "733upzW0pRPH"
      },
      "execution_count": 33,
      "outputs": []
    },
    {
      "cell_type": "code",
      "source": [
        "name_Messwerte   = 'Messdaten_CAMS_GHI.csv'\n",
        "name_Vorhersage  = 'Vorhersagedaten_CAMS_VarIdx.csv'\n",
        "folder_import    = '/content/drive/My Drive/Colab_Notebooks/Clean_Data/'\n",
        "\n",
        "model_path       = '/content/drive/My Drive/Colab_Notebooks/LSTM_Model/full_model.keras'\n",
        "weights_path     = '/content/drive/My Drive/Colab_Notebooks/LSTM_Model/model_weights.weights.h5'\n",
        "\n",
        "testdata_path_X  = '/content/drive/My Drive/Colab_Notebooks/LSTM_Model/model_testdata_X.csv'\n",
        "testdata_path_Y  = '/content/drive/My Drive/Colab_Notebooks/LSTM_Model/model_testdata_Y.csv'\n",
        "\n",
        "text_file_path   = \"/content/drive/MyDrive/Colab_Notebooks/LSTM_Model/model_results.txt\"\n",
        "\n",
        "# Optional: Scaler speichern\n",
        "scaler_x_path    = '/content/drive/My Drive/Colab_Notebooks/LSTM_Model/scaler_X.pkl'\n",
        "scaler_y_path    = '/content/drive/My Drive/Colab_Notebooks/LSTM_Model/scaler_y.pkl'"
      ],
      "metadata": {
        "id": "MqeiCyEapRRz"
      },
      "execution_count": 34,
      "outputs": []
    },
    {
      "cell_type": "code",
      "source": [
        "model_config = {\n",
        "    \"units_1\": 64,\n",
        "    # \"units_2\": 64,\n",
        "    \"units_3\" : 32,\n",
        "    \"dropout_rate\": 0.1,\n",
        "    \"final_activation\": \"linear\"\n",
        "}"
      ],
      "metadata": {
        "id": "tvOo7lvKpRVJ"
      },
      "execution_count": 35,
      "outputs": []
    },
    {
      "cell_type": "code",
      "source": [
        "training_config = {\n",
        "    \"loss\": \"mean_squared_error\",\n",
        "    \"optimizer\": \"adam\",\n",
        "    \"metrics\": [\n",
        "        \"mse\",\n",
        "        \"mae\",\n",
        "        \"mape\",\n",
        "        keras.metrics.RootMeanSquaredError(name=\"rmse\")\n",
        "    ]\n",
        "}"
      ],
      "metadata": {
        "id": "fCHqM8vTpRbB"
      },
      "execution_count": 36,
      "outputs": []
    },
    {
      "cell_type": "code",
      "source": [
        "fit_config = {\n",
        "    \"epochs\": 10,\n",
        "    \"batch_size\": 32,        # die ersten Modelle liefen mit 32\n",
        "    \"sequence_length\": 64\n",
        "}"
      ],
      "metadata": {
        "id": "fubYIc_qpO_F"
      },
      "execution_count": 37,
      "outputs": []
    },
    {
      "cell_type": "code",
      "source": [
        "path_mess   = os.path.join(folder_import, name_Messwerte)\n",
        "path_vorher = os.path.join(folder_import, name_Vorhersage)\n",
        "\n",
        "df_mess   = pd.read_csv(path_mess)\n",
        "df_vorher = pd.read_csv(path_vorher)"
      ],
      "metadata": {
        "id": "-LRq7U37pkqV"
      },
      "execution_count": 38,
      "outputs": []
    },
    {
      "cell_type": "code",
      "source": [
        "df_mess.set_index('Datetime', inplace=True)\n",
        "df_mess.index = pd.to_datetime(df_mess.index)"
      ],
      "metadata": {
        "id": "s6Jo6CCp1Uk5"
      },
      "execution_count": 39,
      "outputs": []
    },
    {
      "cell_type": "code",
      "source": [
        "df_vorher.set_index('Datetime', inplace=True)\n",
        "df_vorher.index = pd.to_datetime(df_vorher.index)"
      ],
      "metadata": {
        "id": "B0BrjIWe1L8f"
      },
      "execution_count": 40,
      "outputs": []
    },
    {
      "cell_type": "code",
      "source": [
        "\n",
        "def merge_high_low_freq(\n",
        "    df_high,                # z.B. df_mess (2-Min-Index)\n",
        "    df_low,                 # z.B. df_vorher (1h-Index)\n",
        "    direction=\"backward\",   # \"backward\" | \"forward\" | \"nearest\"\n",
        "    tolerance=\"31min\",      # max. Abstand, sonst NaN\n",
        "    suffix_low=\"_f\"\n",
        "):\n",
        "    # Sicherstellen: DatetimeIndex, sortiert\n",
        "    df_high = df_high.sort_index()\n",
        "    df_low  = df_low.sort_index()\n",
        "\n",
        "    # Index -> Spalte für merge_asof\n",
        "    hi = df_high.rename_axis(\"ts\").reset_index()\n",
        "    lo = df_low.rename_axis(\"ts\").reset_index()\n",
        "\n",
        "    merged = pd.merge_asof(\n",
        "        hi, lo, on=\"ts\",\n",
        "        direction=direction,\n",
        "        tolerance=pd.Timedelta(tolerance),\n",
        "        suffixes=(\"\", suffix_low)\n",
        "    )\n",
        "\n",
        "    merged = merged.set_index(\"ts\").sort_index()\n",
        "    return merged"
      ],
      "metadata": {
        "id": "T-0KodleplxJ"
      },
      "execution_count": 41,
      "outputs": []
    },
    {
      "cell_type": "code",
      "source": [
        "df = merge_high_low_freq(df_mess, df_vorher, direction=\"backward\", tolerance=\"40min\")"
      ],
      "metadata": {
        "id": "owf54j0Y2C7Y"
      },
      "execution_count": 42,
      "outputs": []
    },
    {
      "cell_type": "code",
      "source": [
        "print(df.isnull().sum())"
      ],
      "metadata": {
        "colab": {
          "base_uri": "https://localhost:8080/"
        },
        "id": "_c_9s9vz5Rli",
        "outputId": "283d10ce-db85-40d4-fcf0-f19cc90d77dd"
      },
      "execution_count": 43,
      "outputs": [
        {
          "output_type": "stream",
          "name": "stdout",
          "text": [
            "Observation_period        0\n",
            "Clear_sky_GHI             0\n",
            "Clear_sky_BHI             0\n",
            "GHI                       0\n",
            "BHI                       0\n",
            "UVI                       0\n",
            "UVA                       0\n",
            "UVB                       0\n",
            "erythem                   0\n",
            "Datum                     0\n",
            "Uhrzeit                   0\n",
            "Messzeitpunkt             0\n",
            "ghi                       0\n",
            "Dif                       0\n",
            "Glo_SPLite                0\n",
            "Dir                       0\n",
            "Temp                      0\n",
            "DiffGreater2              0\n",
            "SZA                       0\n",
            "time_sin                  0\n",
            "time_cos                  0\n",
            "date_sin                  0\n",
            "date_cos                  0\n",
            "Date                      0\n",
            "Hour                      0\n",
            "aod469                34413\n",
            "aod550                34413\n",
            "gtco3                 34413\n",
            "uvbed                 34413\n",
            "uvbedcs               34413\n",
            "hcc                   34413\n",
            "lcc                   34413\n",
            "tcc                   34413\n",
            "index_sigma           65751\n",
            "index_coimbra         65751\n",
            "index_stein           65751\n",
            "kc                    65751\n",
            "dtype: int64\n"
          ]
        }
      ]
    },
    {
      "cell_type": "code",
      "source": [
        "candidate_X = [c for c in ['GHI','BHI','Clear_sky_GHI','Clear_sky_BHI','SZA','time_sin','time_cos','date_sin','date_cos','Temp']\n",
        "               if c in df.columns]\n",
        "columns_X = candidate_X  # <- hier bei Bedarf erweitern/ändern\n",
        "columns_y = [\"UVI\"] if \"UVI\" in df.columns else [\"UV\"]  # wähle 'UVI' oder ersatzweise 'UV'\n",
        "\n",
        "print(\"Features (X):\", columns_X)\n",
        "print(\"Target (y):\", columns_y)"
      ],
      "metadata": {
        "colab": {
          "base_uri": "https://localhost:8080/"
        },
        "id": "U7YtfP3bpq7w",
        "outputId": "53a5cd48-e848-437d-b98f-dff725cfbc8f"
      },
      "execution_count": 44,
      "outputs": [
        {
          "output_type": "stream",
          "name": "stdout",
          "text": [
            "Features (X): ['GHI', 'BHI', 'Clear_sky_GHI', 'Clear_sky_BHI', 'SZA', 'time_sin', 'time_cos', 'date_sin', 'date_cos', 'Temp']\n",
            "Target (y): ['UVI']\n"
          ]
        }
      ]
    },
    {
      "cell_type": "code",
      "source": [
        "total_length = len(df)\n",
        "train_size   = round(total_length * 0.80)\n",
        "val_size     = round(total_length * 0.10)\n",
        "test_size    = total_length - train_size - val_size  # restliche 10%\n",
        "\n",
        "train_df = df.iloc[:train_size].copy()\n",
        "val_df   = df.iloc[train_size : train_size + val_size].copy()\n",
        "test_df  = df.iloc[train_size + val_size :].copy()\n",
        "\n",
        "print(f\"Train: {train_df.shape}, Val: {val_df.shape}, Test: {test_df.shape}\")"
      ],
      "metadata": {
        "colab": {
          "base_uri": "https://localhost:8080/"
        },
        "id": "PtVqa5Spprmn",
        "outputId": "3a0f7449-a35a-4dc3-af97-b6641260cb8a"
      },
      "execution_count": 45,
      "outputs": [
        {
          "output_type": "stream",
          "name": "stdout",
          "text": [
            "Train: (77386, 37), Val: (9673, 37), Test: (9673, 37)\n"
          ]
        }
      ]
    },
    {
      "cell_type": "code",
      "source": [
        "scaler_X = MinMaxScaler()\n",
        "scaler_y = MinMaxScaler()\n",
        "\n",
        "train_df[columns_X] = scaler_X.fit_transform(train_df[columns_X])\n",
        "train_df[columns_y] = scaler_y.fit_transform(train_df[columns_y])\n",
        "\n",
        "val_df[columns_X] = scaler_X.transform(val_df[columns_X])\n",
        "val_df[columns_y] = scaler_y.transform(val_df[columns_y])\n",
        "\n",
        "test_df[columns_X] = scaler_X.transform(test_df[columns_X])\n",
        "test_df[columns_y] = scaler_y.transform(test_df[columns_y])"
      ],
      "metadata": {
        "id": "HgNLmW3wpt9R"
      },
      "execution_count": 46,
      "outputs": []
    },
    {
      "cell_type": "code",
      "source": [
        "joblib.dump(scaler_X, scaler_x_path)\n",
        "joblib.dump(scaler_y, scaler_y_path)"
      ],
      "metadata": {
        "colab": {
          "base_uri": "https://localhost:8080/"
        },
        "id": "bNV1UJbJpw1w",
        "outputId": "26248684-7407-4a11-819e-f865c85312b3"
      },
      "execution_count": 47,
      "outputs": [
        {
          "output_type": "execute_result",
          "data": {
            "text/plain": [
              "['/content/drive/My Drive/Colab_Notebooks/LSTM_Model/scaler_y.pkl']"
            ]
          },
          "metadata": {},
          "execution_count": 47
        }
      ]
    },
    {
      "cell_type": "code",
      "source": [
        "def make_sequences(df_in: pd.DataFrame, X_cols, y_cols, seq_len: int):\n",
        "    X_seq, y_seq = [], []\n",
        "    values_X = df_in[X_cols].values\n",
        "    values_y = df_in[y_cols].values\n",
        "    for i in range(len(df_in) - seq_len):\n",
        "        X_seq.append(values_X[i:i+seq_len])\n",
        "        # One-step-ahead: nächster Zeitpunkt als Ziel\n",
        "        y_seq.append(values_y[i+seq_len])\n",
        "    return np.array(X_seq, dtype=np.float32), np.array(y_seq, dtype=np.float32)\n",
        "\n",
        "SEQ_LEN = fit_config[\"sequence_length\"]\n",
        "\n",
        "X_train, y_train = make_sequences(train_df, columns_X, columns_y, SEQ_LEN)\n",
        "X_val,   y_val   = make_sequences(val_df,   columns_X, columns_y, SEQ_LEN)\n",
        "X_test,  y_test  = make_sequences(test_df,  columns_X, columns_y, SEQ_LEN)\n",
        "\n",
        "print(\"X_train:\", X_train.shape, \"y_train:\", y_train.shape)\n",
        "print(\"X_val:\", X_val.shape, \"y_val:\", y_val.shape)\n",
        "print(\"X_test:\", X_test.shape, \"y_test:\", y_test.shape)"
      ],
      "metadata": {
        "colab": {
          "base_uri": "https://localhost:8080/"
        },
        "id": "pfGFjr3qp054",
        "outputId": "7b7eb90f-78df-41b8-b706-8deadb59746f"
      },
      "execution_count": 48,
      "outputs": [
        {
          "output_type": "stream",
          "name": "stdout",
          "text": [
            "X_train: (77322, 64, 10) y_train: (77322, 1)\n",
            "X_val: (9609, 64, 10) y_val: (9609, 1)\n",
            "X_test: (9609, 64, 10) y_test: (9609, 1)\n"
          ]
        }
      ]
    },
    {
      "cell_type": "code",
      "source": [
        "pd.DataFrame(X_test.reshape(X_test.shape[0], -1)).to_csv(testdata_path_X, index=False)\n",
        "pd.DataFrame(y_test, columns=columns_y).to_csv(testdata_path_Y, index=False)"
      ],
      "metadata": {
        "id": "GR9pBgVxp1aW"
      },
      "execution_count": 49,
      "outputs": []
    },
    {
      "cell_type": "code",
      "source": [
        "n_features = len(columns_X)\n",
        "n_targets  = len(columns_y)\n",
        "\n",
        "inputs = keras.Input(shape=(SEQ_LEN, n_features))\n",
        "\n",
        "x = layers.LSTM(model_config[\"units_1\"], return_sequences=True)(inputs)\n",
        "x = layers.Dropout(model_config[\"dropout_rate\"])(x)\n",
        "\n",
        "# NEU: zusätzliche LSTM-Schicht (Sequenzen bleiben erhalten)\n",
        "x = layers.LSTM(model_config.get(\"units_1b\", model_config[\"units_1\"]), return_sequences=True)(x)\n",
        "x = layers.Dropout(model_config[\"dropout_rate\"])(x)\n",
        "\n",
        "# # Bestehende 2. LSTM muss Sequenzen zurückgeben, weil noch eine LSTM folgt\n",
        "# x = layers.LSTM(model_config[\"units_2\"], return_sequences=True)(x)\n",
        "# x = layers.Dropout(model_config[\"dropout_rate\"])(x)\n",
        "\n",
        "# Letzte LSTM ohne return_sequences (default=False)\n",
        "x = layers.LSTM(model_config[\"units_3\"])(x)\n",
        "x = layers.Dropout(model_config[\"dropout_rate\"])(x)\n",
        "\n",
        "outputs = layers.Dense(n_targets, activation=model_config[\"final_activation\"])(x)\n",
        "\n",
        "model = keras.Model(inputs, outputs, name=\"lstm_uv_forecast\")\n",
        "model.compile(\n",
        "    loss=training_config[\"loss\"],\n",
        "    optimizer=training_config[\"optimizer\"],\n",
        "    metrics=training_config[\"metrics\"]\n",
        ")\n",
        "model.summary()"
      ],
      "metadata": {
        "colab": {
          "base_uri": "https://localhost:8080/",
          "height": 408
        },
        "id": "pWx0TTu3p32z",
        "outputId": "c5c951c0-dcd6-428e-ab48-5c15780a428a"
      },
      "execution_count": 50,
      "outputs": [
        {
          "output_type": "display_data",
          "data": {
            "text/plain": [
              "\u001b[1mModel: \"lstm_uv_forecast\"\u001b[0m\n"
            ],
            "text/html": [
              "<pre style=\"white-space:pre;overflow-x:auto;line-height:normal;font-family:Menlo,'DejaVu Sans Mono',consolas,'Courier New',monospace\"><span style=\"font-weight: bold\">Model: \"lstm_uv_forecast\"</span>\n",
              "</pre>\n"
            ]
          },
          "metadata": {}
        },
        {
          "output_type": "display_data",
          "data": {
            "text/plain": [
              "┏━━━━━━━━━━━━━━━━━━━━━━━━━━━━━━━━━┳━━━━━━━━━━━━━━━━━━━━━━━━┳━━━━━━━━━━━━━━━┓\n",
              "┃\u001b[1m \u001b[0m\u001b[1mLayer (type)                   \u001b[0m\u001b[1m \u001b[0m┃\u001b[1m \u001b[0m\u001b[1mOutput Shape          \u001b[0m\u001b[1m \u001b[0m┃\u001b[1m \u001b[0m\u001b[1m      Param #\u001b[0m\u001b[1m \u001b[0m┃\n",
              "┡━━━━━━━━━━━━━━━━━━━━━━━━━━━━━━━━━╇━━━━━━━━━━━━━━━━━━━━━━━━╇━━━━━━━━━━━━━━━┩\n",
              "│ input_layer_1 (\u001b[38;5;33mInputLayer\u001b[0m)      │ (\u001b[38;5;45mNone\u001b[0m, \u001b[38;5;34m64\u001b[0m, \u001b[38;5;34m10\u001b[0m)         │             \u001b[38;5;34m0\u001b[0m │\n",
              "├─────────────────────────────────┼────────────────────────┼───────────────┤\n",
              "│ lstm_3 (\u001b[38;5;33mLSTM\u001b[0m)                   │ (\u001b[38;5;45mNone\u001b[0m, \u001b[38;5;34m64\u001b[0m, \u001b[38;5;34m64\u001b[0m)         │        \u001b[38;5;34m19,200\u001b[0m │\n",
              "├─────────────────────────────────┼────────────────────────┼───────────────┤\n",
              "│ dropout_3 (\u001b[38;5;33mDropout\u001b[0m)             │ (\u001b[38;5;45mNone\u001b[0m, \u001b[38;5;34m64\u001b[0m, \u001b[38;5;34m64\u001b[0m)         │             \u001b[38;5;34m0\u001b[0m │\n",
              "├─────────────────────────────────┼────────────────────────┼───────────────┤\n",
              "│ lstm_4 (\u001b[38;5;33mLSTM\u001b[0m)                   │ (\u001b[38;5;45mNone\u001b[0m, \u001b[38;5;34m64\u001b[0m, \u001b[38;5;34m64\u001b[0m)         │        \u001b[38;5;34m33,024\u001b[0m │\n",
              "├─────────────────────────────────┼────────────────────────┼───────────────┤\n",
              "│ dropout_4 (\u001b[38;5;33mDropout\u001b[0m)             │ (\u001b[38;5;45mNone\u001b[0m, \u001b[38;5;34m64\u001b[0m, \u001b[38;5;34m64\u001b[0m)         │             \u001b[38;5;34m0\u001b[0m │\n",
              "├─────────────────────────────────┼────────────────────────┼───────────────┤\n",
              "│ lstm_5 (\u001b[38;5;33mLSTM\u001b[0m)                   │ (\u001b[38;5;45mNone\u001b[0m, \u001b[38;5;34m32\u001b[0m)             │        \u001b[38;5;34m12,416\u001b[0m │\n",
              "├─────────────────────────────────┼────────────────────────┼───────────────┤\n",
              "│ dropout_5 (\u001b[38;5;33mDropout\u001b[0m)             │ (\u001b[38;5;45mNone\u001b[0m, \u001b[38;5;34m32\u001b[0m)             │             \u001b[38;5;34m0\u001b[0m │\n",
              "├─────────────────────────────────┼────────────────────────┼───────────────┤\n",
              "│ dense_1 (\u001b[38;5;33mDense\u001b[0m)                 │ (\u001b[38;5;45mNone\u001b[0m, \u001b[38;5;34m1\u001b[0m)              │            \u001b[38;5;34m33\u001b[0m │\n",
              "└─────────────────────────────────┴────────────────────────┴───────────────┘\n"
            ],
            "text/html": [
              "<pre style=\"white-space:pre;overflow-x:auto;line-height:normal;font-family:Menlo,'DejaVu Sans Mono',consolas,'Courier New',monospace\">┏━━━━━━━━━━━━━━━━━━━━━━━━━━━━━━━━━┳━━━━━━━━━━━━━━━━━━━━━━━━┳━━━━━━━━━━━━━━━┓\n",
              "┃<span style=\"font-weight: bold\"> Layer (type)                    </span>┃<span style=\"font-weight: bold\"> Output Shape           </span>┃<span style=\"font-weight: bold\">       Param # </span>┃\n",
              "┡━━━━━━━━━━━━━━━━━━━━━━━━━━━━━━━━━╇━━━━━━━━━━━━━━━━━━━━━━━━╇━━━━━━━━━━━━━━━┩\n",
              "│ input_layer_1 (<span style=\"color: #0087ff; text-decoration-color: #0087ff\">InputLayer</span>)      │ (<span style=\"color: #00d7ff; text-decoration-color: #00d7ff\">None</span>, <span style=\"color: #00af00; text-decoration-color: #00af00\">64</span>, <span style=\"color: #00af00; text-decoration-color: #00af00\">10</span>)         │             <span style=\"color: #00af00; text-decoration-color: #00af00\">0</span> │\n",
              "├─────────────────────────────────┼────────────────────────┼───────────────┤\n",
              "│ lstm_3 (<span style=\"color: #0087ff; text-decoration-color: #0087ff\">LSTM</span>)                   │ (<span style=\"color: #00d7ff; text-decoration-color: #00d7ff\">None</span>, <span style=\"color: #00af00; text-decoration-color: #00af00\">64</span>, <span style=\"color: #00af00; text-decoration-color: #00af00\">64</span>)         │        <span style=\"color: #00af00; text-decoration-color: #00af00\">19,200</span> │\n",
              "├─────────────────────────────────┼────────────────────────┼───────────────┤\n",
              "│ dropout_3 (<span style=\"color: #0087ff; text-decoration-color: #0087ff\">Dropout</span>)             │ (<span style=\"color: #00d7ff; text-decoration-color: #00d7ff\">None</span>, <span style=\"color: #00af00; text-decoration-color: #00af00\">64</span>, <span style=\"color: #00af00; text-decoration-color: #00af00\">64</span>)         │             <span style=\"color: #00af00; text-decoration-color: #00af00\">0</span> │\n",
              "├─────────────────────────────────┼────────────────────────┼───────────────┤\n",
              "│ lstm_4 (<span style=\"color: #0087ff; text-decoration-color: #0087ff\">LSTM</span>)                   │ (<span style=\"color: #00d7ff; text-decoration-color: #00d7ff\">None</span>, <span style=\"color: #00af00; text-decoration-color: #00af00\">64</span>, <span style=\"color: #00af00; text-decoration-color: #00af00\">64</span>)         │        <span style=\"color: #00af00; text-decoration-color: #00af00\">33,024</span> │\n",
              "├─────────────────────────────────┼────────────────────────┼───────────────┤\n",
              "│ dropout_4 (<span style=\"color: #0087ff; text-decoration-color: #0087ff\">Dropout</span>)             │ (<span style=\"color: #00d7ff; text-decoration-color: #00d7ff\">None</span>, <span style=\"color: #00af00; text-decoration-color: #00af00\">64</span>, <span style=\"color: #00af00; text-decoration-color: #00af00\">64</span>)         │             <span style=\"color: #00af00; text-decoration-color: #00af00\">0</span> │\n",
              "├─────────────────────────────────┼────────────────────────┼───────────────┤\n",
              "│ lstm_5 (<span style=\"color: #0087ff; text-decoration-color: #0087ff\">LSTM</span>)                   │ (<span style=\"color: #00d7ff; text-decoration-color: #00d7ff\">None</span>, <span style=\"color: #00af00; text-decoration-color: #00af00\">32</span>)             │        <span style=\"color: #00af00; text-decoration-color: #00af00\">12,416</span> │\n",
              "├─────────────────────────────────┼────────────────────────┼───────────────┤\n",
              "│ dropout_5 (<span style=\"color: #0087ff; text-decoration-color: #0087ff\">Dropout</span>)             │ (<span style=\"color: #00d7ff; text-decoration-color: #00d7ff\">None</span>, <span style=\"color: #00af00; text-decoration-color: #00af00\">32</span>)             │             <span style=\"color: #00af00; text-decoration-color: #00af00\">0</span> │\n",
              "├─────────────────────────────────┼────────────────────────┼───────────────┤\n",
              "│ dense_1 (<span style=\"color: #0087ff; text-decoration-color: #0087ff\">Dense</span>)                 │ (<span style=\"color: #00d7ff; text-decoration-color: #00d7ff\">None</span>, <span style=\"color: #00af00; text-decoration-color: #00af00\">1</span>)              │            <span style=\"color: #00af00; text-decoration-color: #00af00\">33</span> │\n",
              "└─────────────────────────────────┴────────────────────────┴───────────────┘\n",
              "</pre>\n"
            ]
          },
          "metadata": {}
        },
        {
          "output_type": "display_data",
          "data": {
            "text/plain": [
              "\u001b[1m Total params: \u001b[0m\u001b[38;5;34m64,673\u001b[0m (252.63 KB)\n"
            ],
            "text/html": [
              "<pre style=\"white-space:pre;overflow-x:auto;line-height:normal;font-family:Menlo,'DejaVu Sans Mono',consolas,'Courier New',monospace\"><span style=\"font-weight: bold\"> Total params: </span><span style=\"color: #00af00; text-decoration-color: #00af00\">64,673</span> (252.63 KB)\n",
              "</pre>\n"
            ]
          },
          "metadata": {}
        },
        {
          "output_type": "display_data",
          "data": {
            "text/plain": [
              "\u001b[1m Trainable params: \u001b[0m\u001b[38;5;34m64,673\u001b[0m (252.63 KB)\n"
            ],
            "text/html": [
              "<pre style=\"white-space:pre;overflow-x:auto;line-height:normal;font-family:Menlo,'DejaVu Sans Mono',consolas,'Courier New',monospace\"><span style=\"font-weight: bold\"> Trainable params: </span><span style=\"color: #00af00; text-decoration-color: #00af00\">64,673</span> (252.63 KB)\n",
              "</pre>\n"
            ]
          },
          "metadata": {}
        },
        {
          "output_type": "display_data",
          "data": {
            "text/plain": [
              "\u001b[1m Non-trainable params: \u001b[0m\u001b[38;5;34m0\u001b[0m (0.00 B)\n"
            ],
            "text/html": [
              "<pre style=\"white-space:pre;overflow-x:auto;line-height:normal;font-family:Menlo,'DejaVu Sans Mono',consolas,'Courier New',monospace\"><span style=\"font-weight: bold\"> Non-trainable params: </span><span style=\"color: #00af00; text-decoration-color: #00af00\">0</span> (0.00 B)\n",
              "</pre>\n"
            ]
          },
          "metadata": {}
        }
      ]
    },
    {
      "cell_type": "code",
      "source": [
        "# API-KEY: e414a24f0e911b489706e194692432c001883cd3\n",
        "wandb.login(key= 'e414a24f0e911b489706e194692432c001883cd3')"
      ],
      "metadata": {
        "colab": {
          "base_uri": "https://localhost:8080/"
        },
        "id": "2epqZomEp6mJ",
        "outputId": "beddcc31-f976-4ba1-b786-1460e88f6a59"
      },
      "execution_count": 51,
      "outputs": [
        {
          "output_type": "stream",
          "name": "stderr",
          "text": [
            "\u001b[34m\u001b[1mwandb\u001b[0m: \u001b[33mWARNING\u001b[0m If you're specifying your api key in code, ensure this code is not shared publicly.\n",
            "\u001b[34m\u001b[1mwandb\u001b[0m: \u001b[33mWARNING\u001b[0m Consider setting the WANDB_API_KEY environment variable, or running `wandb login` from the command line.\n",
            "\u001b[34m\u001b[1mwandb\u001b[0m: Appending key for api.wandb.ai to your netrc file: /root/.netrc\n"
          ]
        },
        {
          "output_type": "execute_result",
          "data": {
            "text/plain": [
              "True"
            ]
          },
          "metadata": {},
          "execution_count": 51
        }
      ]
    },
    {
      "cell_type": "code",
      "source": [
        "wandb_run = wandb.init(\n",
        "    project=\"uv-forecasting\",\n",
        "    name=f\"lstm-{dt.datetime.now().strftime('%Y%m%d-%H%M%S')}\",\n",
        "    config={\n",
        "        \"model_config\": model_config,\n",
        "        \"training_config\": {\n",
        "            \"loss\": training_config[\"loss\"],\n",
        "            \"optimizer\": \"adam\",\n",
        "            \"metrics\": [\"mse\", \"mae\", \"mape\", \"rmse\"]\n",
        "        },\n",
        "        \"fit_config\": fit_config,\n",
        "        \"n_features\": n_features,\n",
        "        \"n_targets\": n_targets,\n",
        "        \"sequence_length\": SEQ_LEN,\n",
        "        \"split_sizes\": {\n",
        "            \"train\": train_size, \"val\": val_size, \"test\": test_size\n",
        "        },\n",
        "        \"columns_X\": columns_X,\n",
        "        \"columns_y\": columns_y\n",
        "    }\n",
        ")\n",
        "\n",
        "# =========================\n",
        "# Callbacks (inkl. W&B)\n",
        "# =========================\n",
        "callbacks = [\n",
        "    WandbCallback(\n",
        "        save_model=False,     # wir speichern selbst unten\n",
        "        log_weights=False,    # optional\n",
        "        save_graph=False      # <-- Graph-Logging ausschalten (Fix für Keras 3)\n",
        "    ),\n",
        "    keras.callbacks.EarlyStopping(monitor=\"val_rmse\", patience=5, mode=\"min\", restore_best_weights=True),\n",
        "    keras.callbacks.ModelCheckpoint(\n",
        "        filepath=weights_path, save_weights_only=True,\n",
        "        monitor=\"val_rmse\", mode=\"min\", save_best_only=True, verbose=1\n",
        "    ),\n",
        "    keras.callbacks.CSVLogger(text_file_path.replace(\".txt\", \"_history.csv\"))\n",
        "]"
      ],
      "metadata": {
        "colab": {
          "base_uri": "https://localhost:8080/",
          "height": 121
        },
        "id": "XoOygyu6p8Zt",
        "outputId": "f5c43945-1f7f-495b-b8cb-707d6bdcbe8a"
      },
      "execution_count": 52,
      "outputs": [
        {
          "output_type": "display_data",
          "data": {
            "text/plain": [
              "<IPython.core.display.HTML object>"
            ],
            "text/html": [
              "creating run (0.0s)"
            ]
          },
          "metadata": {}
        },
        {
          "output_type": "display_data",
          "data": {
            "text/plain": [
              "<IPython.core.display.HTML object>"
            ],
            "text/html": [
              "Tracking run with wandb version 0.21.3"
            ]
          },
          "metadata": {}
        },
        {
          "output_type": "display_data",
          "data": {
            "text/plain": [
              "<IPython.core.display.HTML object>"
            ],
            "text/html": [
              "Run data is saved locally in <code>/content/wandb/run-20250901_101736-uq3x2dg3</code>"
            ]
          },
          "metadata": {}
        },
        {
          "output_type": "display_data",
          "data": {
            "text/plain": [
              "<IPython.core.display.HTML object>"
            ],
            "text/html": [
              "Syncing run <strong><a href='https://wandb.ai/robin-janowitz-hochschule-bonn-rhein-sieg/uv-forecasting/runs/uq3x2dg3' target=\"_blank\">lstm-20250901-101736</a></strong> to <a href='https://wandb.ai/robin-janowitz-hochschule-bonn-rhein-sieg/uv-forecasting' target=\"_blank\">Weights & Biases</a> (<a href='https://wandb.me/developer-guide' target=\"_blank\">docs</a>)<br>"
            ]
          },
          "metadata": {}
        },
        {
          "output_type": "display_data",
          "data": {
            "text/plain": [
              "<IPython.core.display.HTML object>"
            ],
            "text/html": [
              " View project at <a href='https://wandb.ai/robin-janowitz-hochschule-bonn-rhein-sieg/uv-forecasting' target=\"_blank\">https://wandb.ai/robin-janowitz-hochschule-bonn-rhein-sieg/uv-forecasting</a>"
            ]
          },
          "metadata": {}
        },
        {
          "output_type": "display_data",
          "data": {
            "text/plain": [
              "<IPython.core.display.HTML object>"
            ],
            "text/html": [
              " View run at <a href='https://wandb.ai/robin-janowitz-hochschule-bonn-rhein-sieg/uv-forecasting/runs/uq3x2dg3' target=\"_blank\">https://wandb.ai/robin-janowitz-hochschule-bonn-rhein-sieg/uv-forecasting/runs/uq3x2dg3</a>"
            ]
          },
          "metadata": {}
        }
      ]
    },
    {
      "cell_type": "code",
      "source": [
        "history = model.fit(\n",
        "    X_train, y_train,\n",
        "    validation_data=(X_val, y_val),\n",
        "    epochs=fit_config[\"epochs\"],\n",
        "    batch_size=fit_config[\"batch_size\"],\n",
        "    callbacks=callbacks,\n",
        "    verbose=1\n",
        ")"
      ],
      "metadata": {
        "colab": {
          "base_uri": "https://localhost:8080/"
        },
        "id": "nfM_FKPjqFR1",
        "outputId": "f66043db-0070-48a0-dd87-20f84b955d65"
      },
      "execution_count": 53,
      "outputs": [
        {
          "metadata": {
            "tags": null
          },
          "name": "stdout",
          "output_type": "stream",
          "text": [
            "Epoch 1/10\n",
            "\u001b[1m2417/2417\u001b[0m \u001b[32m━━━━━━━━━━━━━━━━━━━━\u001b[0m\u001b[37m\u001b[0m \u001b[1m0s\u001b[0m 101ms/step - loss: 0.0036 - mae: 0.0343 - mape: 13430.7773 - mse: 0.0036 - rmse: 0.0586\n",
            "Epoch 1: val_rmse improved from inf to 0.06738, saving model to /content/drive/My Drive/Colab_Notebooks/LSTM_Model/model_weights.weights.h5\n",
            "\u001b[1m2417/2417\u001b[0m \u001b[32m━━━━━━━━━━━━━━━━━━━━\u001b[0m\u001b[37m\u001b[0m \u001b[1m263s\u001b[0m 106ms/step - loss: 0.0036 - mae: 0.0343 - mape: 13428.5703 - mse: 0.0036 - rmse: 0.0586 - val_loss: 0.0045 - val_mae: 0.0409 - val_mape: 40.3865 - val_mse: 0.0045 - val_rmse: 0.0674\n",
            "Epoch 2/10\n",
            "\u001b[1m2417/2417\u001b[0m \u001b[32m━━━━━━━━━━━━━━━━━━━━\u001b[0m\u001b[37m\u001b[0m \u001b[1m0s\u001b[0m 106ms/step - loss: 0.0021 - mae: 0.0258 - mape: 4650.7607 - mse: 0.0021 - rmse: 0.0461\n",
            "Epoch 2: val_rmse improved from 0.06738 to 0.06463, saving model to /content/drive/My Drive/Colab_Notebooks/LSTM_Model/model_weights.weights.h5\n",
            "\u001b[1m2417/2417\u001b[0m \u001b[32m━━━━━━━━━━━━━━━━━━━━\u001b[0m\u001b[37m\u001b[0m \u001b[1m271s\u001b[0m 110ms/step - loss: 0.0021 - mae: 0.0258 - mape: 4650.8652 - mse: 0.0021 - rmse: 0.0461 - val_loss: 0.0042 - val_mae: 0.0398 - val_mape: 33.1598 - val_mse: 0.0042 - val_rmse: 0.0646\n",
            "Epoch 3/10\n",
            "\u001b[1m2417/2417\u001b[0m \u001b[32m━━━━━━━━━━━━━━━━━━━━\u001b[0m\u001b[37m\u001b[0m \u001b[1m0s\u001b[0m 104ms/step - loss: 0.0020 - mae: 0.0251 - mape: 5708.4209 - mse: 0.0020 - rmse: 0.0445\n",
            "Epoch 3: val_rmse improved from 0.06463 to 0.06297, saving model to /content/drive/My Drive/Colab_Notebooks/LSTM_Model/model_weights.weights.h5\n",
            "\u001b[1m2417/2417\u001b[0m \u001b[32m━━━━━━━━━━━━━━━━━━━━\u001b[0m\u001b[37m\u001b[0m \u001b[1m319s\u001b[0m 109ms/step - loss: 0.0020 - mae: 0.0251 - mape: 5708.2661 - mse: 0.0020 - rmse: 0.0445 - val_loss: 0.0040 - val_mae: 0.0381 - val_mape: 36.6366 - val_mse: 0.0040 - val_rmse: 0.0630\n",
            "Epoch 4/10\n",
            "\u001b[1m2417/2417\u001b[0m \u001b[32m━━━━━━━━━━━━━━━━━━━━\u001b[0m\u001b[37m\u001b[0m \u001b[1m0s\u001b[0m 103ms/step - loss: 0.0019 - mae: 0.0247 - mape: 6927.0522 - mse: 0.0019 - rmse: 0.0438\n",
            "Epoch 4: val_rmse improved from 0.06297 to 0.06237, saving model to /content/drive/My Drive/Colab_Notebooks/LSTM_Model/model_weights.weights.h5\n",
            "\u001b[1m2417/2417\u001b[0m \u001b[32m━━━━━━━━━━━━━━━━━━━━\u001b[0m\u001b[37m\u001b[0m \u001b[1m319s\u001b[0m 107ms/step - loss: 0.0019 - mae: 0.0247 - mape: 6926.6958 - mse: 0.0019 - rmse: 0.0438 - val_loss: 0.0039 - val_mae: 0.0383 - val_mape: 41.0763 - val_mse: 0.0039 - val_rmse: 0.0624\n",
            "Epoch 5/10\n",
            "\u001b[1m2417/2417\u001b[0m \u001b[32m━━━━━━━━━━━━━━━━━━━━\u001b[0m\u001b[37m\u001b[0m \u001b[1m0s\u001b[0m 105ms/step - loss: 0.0019 - mae: 0.0243 - mape: 3416.5535 - mse: 0.0019 - rmse: 0.0431\n",
            "Epoch 5: val_rmse did not improve from 0.06237\n",
            "\u001b[1m2417/2417\u001b[0m \u001b[32m━━━━━━━━━━━━━━━━━━━━\u001b[0m\u001b[37m\u001b[0m \u001b[1m263s\u001b[0m 108ms/step - loss: 0.0019 - mae: 0.0243 - mape: 3417.0322 - mse: 0.0019 - rmse: 0.0431 - val_loss: 0.0039 - val_mae: 0.0377 - val_mape: 38.1712 - val_mse: 0.0039 - val_rmse: 0.0624\n",
            "Epoch 6/10\n",
            "\u001b[1m2417/2417\u001b[0m \u001b[32m━━━━━━━━━━━━━━━━━━━━\u001b[0m\u001b[37m\u001b[0m \u001b[1m0s\u001b[0m 105ms/step - loss: 0.0018 - mae: 0.0241 - mape: 4044.0518 - mse: 0.0018 - rmse: 0.0427\n",
            "Epoch 6: val_rmse improved from 0.06237 to 0.06218, saving model to /content/drive/My Drive/Colab_Notebooks/LSTM_Model/model_weights.weights.h5\n",
            "\u001b[1m2417/2417\u001b[0m \u001b[32m━━━━━━━━━━━━━━━━━━━━\u001b[0m\u001b[37m\u001b[0m \u001b[1m265s\u001b[0m 109ms/step - loss: 0.0018 - mae: 0.0241 - mape: 4044.2046 - mse: 0.0018 - rmse: 0.0427 - val_loss: 0.0039 - val_mae: 0.0369 - val_mape: 34.5633 - val_mse: 0.0039 - val_rmse: 0.0622\n",
            "Epoch 7/10\n",
            "\u001b[1m2417/2417\u001b[0m \u001b[32m━━━━━━━━━━━━━━━━━━━━\u001b[0m\u001b[37m\u001b[0m \u001b[1m0s\u001b[0m 110ms/step - loss: 0.0018 - mae: 0.0237 - mape: 3775.8237 - mse: 0.0018 - rmse: 0.0423\n",
            "Epoch 7: val_rmse improved from 0.06218 to 0.06135, saving model to /content/drive/My Drive/Colab_Notebooks/LSTM_Model/model_weights.weights.h5\n",
            "\u001b[1m2417/2417\u001b[0m \u001b[32m━━━━━━━━━━━━━━━━━━━━\u001b[0m\u001b[37m\u001b[0m \u001b[1m335s\u001b[0m 114ms/step - loss: 0.0018 - mae: 0.0237 - mape: 3776.1135 - mse: 0.0018 - rmse: 0.0423 - val_loss: 0.0038 - val_mae: 0.0372 - val_mape: 34.2851 - val_mse: 0.0038 - val_rmse: 0.0613\n",
            "Epoch 8/10\n",
            "\u001b[1m2417/2417\u001b[0m \u001b[32m━━━━━━━━━━━━━━━━━━━━\u001b[0m\u001b[37m\u001b[0m \u001b[1m0s\u001b[0m 103ms/step - loss: 0.0018 - mae: 0.0237 - mape: 4425.4756 - mse: 0.0018 - rmse: 0.0423\n",
            "Epoch 8: val_rmse improved from 0.06135 to 0.06119, saving model to /content/drive/My Drive/Colab_Notebooks/LSTM_Model/model_weights.weights.h5\n",
            "\u001b[1m2417/2417\u001b[0m \u001b[32m━━━━━━━━━━━━━━━━━━━━\u001b[0m\u001b[37m\u001b[0m \u001b[1m307s\u001b[0m 108ms/step - loss: 0.0018 - mae: 0.0237 - mape: 4425.5078 - mse: 0.0018 - rmse: 0.0423 - val_loss: 0.0037 - val_mae: 0.0368 - val_mape: 36.3672 - val_mse: 0.0037 - val_rmse: 0.0612\n",
            "Epoch 9/10\n",
            "\u001b[1m2417/2417\u001b[0m \u001b[32m━━━━━━━━━━━━━━━━━━━━\u001b[0m\u001b[37m\u001b[0m \u001b[1m0s\u001b[0m 103ms/step - loss: 0.0017 - mae: 0.0234 - mape: 3958.2498 - mse: 0.0017 - rmse: 0.0418\n",
            "Epoch 9: val_rmse improved from 0.06119 to 0.06064, saving model to /content/drive/My Drive/Colab_Notebooks/LSTM_Model/model_weights.weights.h5\n",
            "\u001b[1m2417/2417\u001b[0m \u001b[32m━━━━━━━━━━━━━━━━━━━━\u001b[0m\u001b[37m\u001b[0m \u001b[1m261s\u001b[0m 108ms/step - loss: 0.0017 - mae: 0.0234 - mape: 3958.3743 - mse: 0.0017 - rmse: 0.0418 - val_loss: 0.0037 - val_mae: 0.0365 - val_mape: 33.3845 - val_mse: 0.0037 - val_rmse: 0.0606\n",
            "Epoch 10/10\n",
            "\u001b[1m2417/2417\u001b[0m \u001b[32m━━━━━━━━━━━━━━━━━━━━\u001b[0m\u001b[37m\u001b[0m \u001b[1m0s\u001b[0m 102ms/step - loss: 0.0017 - mae: 0.0231 - mape: 4313.2520 - mse: 0.0017 - rmse: 0.0414\n",
            "Epoch 10: val_rmse did not improve from 0.06064\n",
            "\u001b[1m2417/2417\u001b[0m \u001b[32m━━━━━━━━━━━━━━━━━━━━\u001b[0m\u001b[37m\u001b[0m \u001b[1m259s\u001b[0m 107ms/step - loss: 0.0017 - mae: 0.0231 - mape: 4313.2734 - mse: 0.0017 - rmse: 0.0414 - val_loss: 0.0038 - val_mae: 0.0365 - val_mape: 33.8852 - val_mse: 0.0038 - val_rmse: 0.0618\n"
          ]
        }
      ]
    },
    {
      "cell_type": "code",
      "source": [
        "eval_results = model.evaluate(X_test, y_test, verbose=0)\n",
        "metrics_names = model.metrics_names\n",
        "results_dict = {name: float(val) for name, val in zip(metrics_names, eval_results)}\n",
        "print(\"Test-Ergebnisse:\", results_dict)"
      ],
      "metadata": {
        "colab": {
          "base_uri": "https://localhost:8080/"
        },
        "id": "z6w-XHgPqGc5",
        "outputId": "f3690d4c-b3d8-489d-da11-16c96d62352f"
      },
      "execution_count": 54,
      "outputs": [
        {
          "metadata": {
            "tags": null
          },
          "name": "stdout",
          "output_type": "stream",
          "text": [
            "Test-Ergebnisse: {'loss': 0.004982481710612774, 'compile_metrics': 0.004982481710612774}\n"
          ]
        }
      ]
    },
    {
      "cell_type": "code",
      "source": [
        "wandb.log({f\"test/{k}\": v for k, v in results_dict.items()})"
      ],
      "metadata": {
        "id": "xd_yKcjHqJIB"
      },
      "execution_count": 55,
      "outputs": []
    },
    {
      "cell_type": "code",
      "source": [
        "if os.path.exists(weights_path):\n",
        "    model.load_weights(weights_path)"
      ],
      "metadata": {
        "id": "JwOZjDJ3qKmZ"
      },
      "execution_count": 56,
      "outputs": []
    },
    {
      "cell_type": "code",
      "source": [
        "model.save(model_path)"
      ],
      "metadata": {
        "id": "J1OfIxW8qMVV"
      },
      "execution_count": 57,
      "outputs": []
    },
    {
      "cell_type": "code",
      "source": [
        "with open(text_file_path, \"w\") as f:\n",
        "    f.write(\"=== LSTM UV-Forecasting – Ergebnisse ===\\n\")\n",
        "    f.write(f\"Zeit: {dt.datetime.now()}\\n\\n\")\n",
        "    f.write(\"Konfigurationen:\\n\")\n",
        "    f.write(f\"model_config: {model_config}\\n\")\n",
        "    f.write(f\"training_config: {training_config}\\n\")\n",
        "    f.write(f\"fit_config: {fit_config}\\n\")\n",
        "    f.write(f\"Features (X): {columns_X}\\nZiel (y): {columns_y}\\n\\n\")\n",
        "    f.write(\"Test-Performance:\\n\")\n",
        "    for k, v in results_dict.items():\n",
        "        f.write(f\"  {k}: {v:.6f}\\n\")\n",
        "    f.write(\"\\nPfade:\\n\")\n",
        "    f.write(f\"  model_path:   {model_path}\\n\")\n",
        "    f.write(f\"  weights_path: {weights_path}\\n\")\n",
        "    f.write(f\"  test_X_csv:   {testdata_path_X}\\n\")\n",
        "    f.write(f\"  test_Y_csv:   {testdata_path_Y}\\n\")\n",
        "    f.write(f\"  scaler_X:     {scaler_x_path}\\n\")\n",
        "    f.write(f\"  scaler_y:     {scaler_y_path}\\n\")\n",
        "\n",
        "wandb.finish()"
      ],
      "metadata": {
        "colab": {
          "base_uri": "https://localhost:8080/",
          "height": 746
        },
        "id": "ZLdirqXzqO1t",
        "outputId": "0bb7f874-365e-4e5c-e49f-c3639934da82"
      },
      "execution_count": 58,
      "outputs": [
        {
          "data": {
            "text/html": [],
            "text/plain": [
              "<IPython.core.display.HTML object>"
            ]
          },
          "metadata": {},
          "output_type": "display_data"
        },
        {
          "data": {
            "text/html": [
              "<br>    <style><br>        .wandb-row {<br>            display: flex;<br>            flex-direction: row;<br>            flex-wrap: wrap;<br>            justify-content: flex-start;<br>            width: 100%;<br>        }<br>        .wandb-col {<br>            display: flex;<br>            flex-direction: column;<br>            flex-basis: 100%;<br>            flex: 1;<br>            padding: 10px;<br>        }<br>    </style><br><div class=\"wandb-row\"><div class=\"wandb-col\"><h3>Run history:</h3><br/><table class=\"wandb\"><tr><td>epoch</td><td>▁▂▃▃▄▅▆▆▇█</td></tr><tr><td>loss</td><td>█▄▃▂▂▂▂▂▁▁</td></tr><tr><td>mae</td><td>█▄▃▃▂▂▂▂▁▁</td></tr><tr><td>mape</td><td>█▂▃▄▂▁▁▁▁▁</td></tr><tr><td>mse</td><td>█▄▃▂▂▂▂▂▁▁</td></tr><tr><td>rmse</td><td>█▄▃▃▂▂▂▂▁▁</td></tr><tr><td>test/compile_metrics</td><td>▁</td></tr><tr><td>test/loss</td><td>▁</td></tr><tr><td>val_loss</td><td>█▅▃▃▃▃▂▂▁▂</td></tr><tr><td>val_mae</td><td>█▆▃▄▃▂▂▁▁▁</td></tr><tr><td>+3</td><td>...</td></tr></table><br/></div><div class=\"wandb-col\"><h3>Run summary:</h3><br/><table class=\"wandb\"><tr><td>best_epoch</td><td>8</td></tr><tr><td>best_val_loss</td><td>0.00368</td></tr><tr><td>epoch</td><td>9</td></tr><tr><td>loss</td><td>0.00169</td></tr><tr><td>mae</td><td>0.02297</td></tr><tr><td>mape</td><td>4365.48584</td></tr><tr><td>mse</td><td>0.00169</td></tr><tr><td>rmse</td><td>0.04114</td></tr><tr><td>test/compile_metrics</td><td>0.00498</td></tr><tr><td>test/loss</td><td>0.00498</td></tr><tr><td>+5</td><td>...</td></tr></table><br/></div></div>"
            ],
            "text/plain": [
              "<IPython.core.display.HTML object>"
            ]
          },
          "metadata": {},
          "output_type": "display_data"
        },
        {
          "data": {
            "text/html": [
              " View run <strong style=\"color:#cdcd00\">lstm-20250901-101736</strong> at: <a href='https://wandb.ai/robin-janowitz-hochschule-bonn-rhein-sieg/uv-forecasting/runs/uq3x2dg3' target=\"_blank\">https://wandb.ai/robin-janowitz-hochschule-bonn-rhein-sieg/uv-forecasting/runs/uq3x2dg3</a><br> View project at: <a href='https://wandb.ai/robin-janowitz-hochschule-bonn-rhein-sieg/uv-forecasting' target=\"_blank\">https://wandb.ai/robin-janowitz-hochschule-bonn-rhein-sieg/uv-forecasting</a><br>Synced 5 W&B file(s), 0 media file(s), 0 artifact file(s) and 0 other file(s)"
            ],
            "text/plain": [
              "<IPython.core.display.HTML object>"
            ]
          },
          "metadata": {},
          "output_type": "display_data"
        },
        {
          "data": {
            "text/html": [
              "Find logs at: <code>./wandb/run-20250901_101736-uq3x2dg3/logs</code>"
            ],
            "text/plain": [
              "<IPython.core.display.HTML object>"
            ]
          },
          "metadata": {},
          "output_type": "display_data"
        }
      ]
    },
    {
      "cell_type": "code",
      "source": [],
      "metadata": {
        "id": "AzLYKIfB902b"
      },
      "execution_count": 58,
      "outputs": []
    }
  ]
}