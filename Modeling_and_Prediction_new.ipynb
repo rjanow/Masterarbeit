{
  "nbformat": 4,
  "nbformat_minor": 0,
  "metadata": {
    "colab": {
      "provenance": [],
      "authorship_tag": "ABX9TyMXY4iM8uV9q1qFW3VNS/ds",
      "include_colab_link": true
    },
    "kernelspec": {
      "name": "python3",
      "display_name": "Python 3"
    },
    "language_info": {
      "name": "python"
    }
  },
  "cells": [
    {
      "cell_type": "markdown",
      "metadata": {
        "id": "view-in-github",
        "colab_type": "text"
      },
      "source": [
        "<a href=\"https://colab.research.google.com/github/rjanow/Masterarbeit/blob/main/Modeling_and_Prediction_new.ipynb\" target=\"_parent\"><img src=\"https://colab.research.google.com/assets/colab-badge.svg\" alt=\"Open In Colab\"/></a>"
      ]
    },
    {
      "cell_type": "code",
      "execution_count": 1,
      "metadata": {
        "id": "YB6UmPFWkff5"
      },
      "outputs": [],
      "source": [
        "!pip -q install wandb --upgrade"
      ]
    },
    {
      "cell_type": "code",
      "source": [
        "import os\n",
        "import datetime as dt\n",
        "import numpy as np\n",
        "import pandas as pd\n",
        "import tensorflow as tf\n",
        "from tensorflow import keras\n",
        "from keras import layers\n",
        "from sklearn.preprocessing import MinMaxScaler\n",
        "import joblib\n",
        "import wandb\n",
        "from wandb.integration.keras import WandbCallback"
      ],
      "metadata": {
        "id": "6DMMu_9zpRMP"
      },
      "execution_count": 2,
      "outputs": []
    },
    {
      "cell_type": "code",
      "source": [
        "from google.colab import drive\n",
        "drive.mount('/content/drive')"
      ],
      "metadata": {
        "colab": {
          "base_uri": "https://localhost:8080/"
        },
        "id": "IkExEFUypggV",
        "outputId": "2ede3dd7-8ffe-409a-eca3-e05ed9c698c9"
      },
      "execution_count": 3,
      "outputs": [
        {
          "output_type": "stream",
          "name": "stdout",
          "text": [
            "Drive already mounted at /content/drive; to attempt to forcibly remount, call drive.mount(\"/content/drive\", force_remount=True).\n"
          ]
        }
      ]
    },
    {
      "cell_type": "code",
      "source": [
        "# Reproduzierbarkeit\n",
        "SEED = 42\n",
        "np.random.seed(SEED)\n",
        "tf.random.set_seed(SEED)"
      ],
      "metadata": {
        "id": "733upzW0pRPH"
      },
      "execution_count": 4,
      "outputs": []
    },
    {
      "cell_type": "code",
      "source": [
        "name_Messwerte   = 'Messdaten_CAMS_GHI.csv'\n",
        "name_Vorhersage  = 'Vorhersagedaten_CAMS_VarIdx.csv'\n",
        "folder_import    = '/content/drive/My Drive/Colab_Notebooks/Clean_Data/'\n",
        "\n",
        "model_path       = '/content/drive/My Drive/Colab_Notebooks/LSTM_Model/full_model.keras'\n",
        "weights_path     = '/content/drive/My Drive/Colab_Notebooks/LSTM_Model/model_weights.weights.h5'\n",
        "\n",
        "testdata_path_X  = '/content/drive/My Drive/Colab_Notebooks/LSTM_Model/model_testdata_X.csv'\n",
        "testdata_path_Y  = '/content/drive/My Drive/Colab_Notebooks/LSTM_Model/model_testdata_Y.csv'\n",
        "\n",
        "text_file_path   = \"/content/drive/MyDrive/Colab_Notebooks/LSTM_Model/model_results.txt\"\n",
        "\n",
        "# Optional: Scaler speichern\n",
        "scaler_x_path    = '/content/drive/My Drive/Colab_Notebooks/LSTM_Model/scaler_X.pkl'\n",
        "scaler_y_path    = '/content/drive/My Drive/Colab_Notebooks/LSTM_Model/scaler_y.pkl'"
      ],
      "metadata": {
        "id": "MqeiCyEapRRz"
      },
      "execution_count": 5,
      "outputs": []
    },
    {
      "cell_type": "code",
      "source": [
        "model_config = {\n",
        "    \"units_1\": 64,\n",
        "    \"units_2\": 32,\n",
        "    \"dropout_rate\": 0.1,\n",
        "    \"final_activation\": \"linear\"\n",
        "}"
      ],
      "metadata": {
        "id": "tvOo7lvKpRVJ"
      },
      "execution_count": 6,
      "outputs": []
    },
    {
      "cell_type": "code",
      "source": [
        "training_config = {\n",
        "    \"loss\": \"mean_squared_error\",\n",
        "    \"optimizer\": \"adam\",\n",
        "    \"metrics\": [\n",
        "        \"mse\",\n",
        "        \"mae\",\n",
        "        \"mape\",\n",
        "        keras.metrics.RootMeanSquaredError(name=\"rmse\")\n",
        "    ]\n",
        "}"
      ],
      "metadata": {
        "id": "fCHqM8vTpRbB"
      },
      "execution_count": 7,
      "outputs": []
    },
    {
      "cell_type": "code",
      "source": [
        "fit_config = {\n",
        "    \"epochs\": 10,\n",
        "    \"batch_size\": 32,\n",
        "    \"sequence_length\": 16\n",
        "}"
      ],
      "metadata": {
        "id": "fubYIc_qpO_F"
      },
      "execution_count": 8,
      "outputs": []
    },
    {
      "cell_type": "code",
      "source": [
        "path_mess   = os.path.join(folder_import, name_Messwerte)\n",
        "path_vorher = os.path.join(folder_import, name_Vorhersage)\n",
        "\n",
        "df_mess   = pd.read_csv(path_mess)\n",
        "df_vorher = pd.read_csv(path_vorher)"
      ],
      "metadata": {
        "id": "-LRq7U37pkqV"
      },
      "execution_count": 9,
      "outputs": []
    },
    {
      "cell_type": "code",
      "source": [
        "df_mess.set_index('Datetime', inplace=True)\n",
        "df_mess.index = pd.to_datetime(df_mess.index)"
      ],
      "metadata": {
        "id": "s6Jo6CCp1Uk5"
      },
      "execution_count": 10,
      "outputs": []
    },
    {
      "cell_type": "code",
      "source": [
        "df_vorher.set_index('Datetime', inplace=True)\n",
        "df_vorher.index = pd.to_datetime(df_vorher.index)"
      ],
      "metadata": {
        "id": "B0BrjIWe1L8f"
      },
      "execution_count": 11,
      "outputs": []
    },
    {
      "cell_type": "code",
      "source": [
        "\n",
        "def merge_high_low_freq(\n",
        "    df_high,                # z.B. df_mess (2-Min-Index)\n",
        "    df_low,                 # z.B. df_vorher (1h-Index)\n",
        "    direction=\"backward\",   # \"backward\" | \"forward\" | \"nearest\"\n",
        "    tolerance=\"31min\",      # max. Abstand, sonst NaN\n",
        "    suffix_low=\"_f\"\n",
        "):\n",
        "    # Sicherstellen: DatetimeIndex, sortiert\n",
        "    df_high = df_high.sort_index()\n",
        "    df_low  = df_low.sort_index()\n",
        "\n",
        "    # Index -> Spalte für merge_asof\n",
        "    hi = df_high.rename_axis(\"ts\").reset_index()\n",
        "    lo = df_low.rename_axis(\"ts\").reset_index()\n",
        "\n",
        "    merged = pd.merge_asof(\n",
        "        hi, lo, on=\"ts\",\n",
        "        direction=direction,\n",
        "        tolerance=pd.Timedelta(tolerance),\n",
        "        suffixes=(\"\", suffix_low)\n",
        "    )\n",
        "\n",
        "    merged = merged.set_index(\"ts\").sort_index()\n",
        "    return merged"
      ],
      "metadata": {
        "id": "T-0KodleplxJ"
      },
      "execution_count": 12,
      "outputs": []
    },
    {
      "cell_type": "code",
      "source": [
        "df = merge_high_low_freq(df_mess, df_vorher, direction=\"backward\", tolerance=\"40min\")"
      ],
      "metadata": {
        "id": "owf54j0Y2C7Y"
      },
      "execution_count": 13,
      "outputs": []
    },
    {
      "cell_type": "code",
      "source": [
        "print(df)"
      ],
      "metadata": {
        "colab": {
          "base_uri": "https://localhost:8080/"
        },
        "id": "_c_9s9vz5Rli",
        "outputId": "b48d127b-f5b7-422a-f48b-e30bd5a10893"
      },
      "execution_count": 14,
      "outputs": [
        {
          "output_type": "stream",
          "name": "stdout",
          "text": [
            "                      Observation_period  Clear_sky_GHI  Clear_sky_BHI  \\\n",
            "ts                                                                       \n",
            "2022-06-15 07:20:00  2022-06-15 07:20:00        566.244        463.071   \n",
            "2022-06-15 07:22:00  2022-06-15 07:22:00        571.440        467.799   \n",
            "2022-06-15 07:24:00  2022-06-15 07:24:00        576.618        472.512   \n",
            "2022-06-15 07:26:00  2022-06-15 07:26:00        581.772        477.204   \n",
            "2022-06-15 07:28:00  2022-06-15 07:28:00        586.905        481.881   \n",
            "...                                  ...            ...            ...   \n",
            "2023-08-19 05:48:00  2023-08-19 05:48:00        148.533         82.110   \n",
            "2023-08-19 05:50:00  2023-08-19 05:50:00        153.717         85.974   \n",
            "2023-08-19 05:52:00  2023-08-19 05:52:00        158.928         89.892   \n",
            "2023-08-19 05:54:00  2023-08-19 05:54:00        164.172         93.858   \n",
            "2023-08-19 05:56:00  2023-08-19 05:56:00        169.440         97.872   \n",
            "\n",
            "                         GHI       BHI       UVI       UVA         UVB  \\\n",
            "ts                                                                       \n",
            "2022-06-15 07:20:00  566.244  463.0710  2.408378  4.686417  281.330695   \n",
            "2022-06-15 07:22:00  571.440  467.7990  2.408378  4.686417  281.330695   \n",
            "2022-06-15 07:24:00  576.618  472.5120  2.462381  4.793073  287.094062   \n",
            "2022-06-15 07:26:00  581.772  477.2040  2.479048  4.817792  288.902613   \n",
            "2022-06-15 07:28:00  586.905  481.8810  2.543531  4.953151  292.450776   \n",
            "...                      ...       ...       ...       ...         ...   \n",
            "2023-08-19 05:48:00   64.545    1.3872  0.306965  0.383479   77.133209   \n",
            "2023-08-19 05:50:00   79.956    1.8315  0.312439  0.401176   76.895074   \n",
            "2023-08-19 05:52:00   96.276    2.3115  0.314239  0.414659   75.176522   \n",
            "2023-08-19 05:54:00  113.508    2.8275  0.316836  0.424958   74.945108   \n",
            "2023-08-19 05:56:00  127.272    3.2559  0.312412  0.433032   70.716230   \n",
            "\n",
            "                      erythem       Datum  ...    gtco3     uvbed  uvbedcs  \\\n",
            "ts                                         ...                               \n",
            "2022-06-15 07:20:00  0.060209  2022-06-15  ...  0.00698  2.215356  2.21571   \n",
            "2022-06-15 07:22:00  0.060209  2022-06-15  ...  0.00698  2.215356  2.21571   \n",
            "2022-06-15 07:24:00  0.061560  2022-06-15  ...  0.00698  2.215356  2.21571   \n",
            "2022-06-15 07:26:00  0.061976  2022-06-15  ...  0.00698  2.215356  2.21571   \n",
            "2022-06-15 07:28:00  0.063588  2022-06-15  ...  0.00698  2.215356  2.21571   \n",
            "...                       ...         ...  ...      ...       ...      ...   \n",
            "2023-08-19 05:48:00  0.007674  2023-08-19  ...      NaN       NaN      NaN   \n",
            "2023-08-19 05:50:00  0.007811  2023-08-19  ...      NaN       NaN      NaN   \n",
            "2023-08-19 05:52:00  0.007856  2023-08-19  ...      NaN       NaN      NaN   \n",
            "2023-08-19 05:54:00  0.007921  2023-08-19  ...      NaN       NaN      NaN   \n",
            "2023-08-19 05:56:00  0.007810  2023-08-19  ...      NaN       NaN      NaN   \n",
            "\n",
            "                          hcc  lcc       tcc  index_sigma  index_coimbra  \\\n",
            "ts                                                                         \n",
            "2022-06-15 07:20:00  0.080463  0.0  0.080463          NaN            NaN   \n",
            "2022-06-15 07:22:00  0.080463  0.0  0.080463          NaN            NaN   \n",
            "2022-06-15 07:24:00  0.080463  0.0  0.080463          NaN            NaN   \n",
            "2022-06-15 07:26:00  0.080463  0.0  0.080463          NaN            NaN   \n",
            "2022-06-15 07:28:00  0.080463  0.0  0.080463          NaN            NaN   \n",
            "...                       ...  ...       ...          ...            ...   \n",
            "2023-08-19 05:48:00       NaN  NaN       NaN          NaN            NaN   \n",
            "2023-08-19 05:50:00       NaN  NaN       NaN          NaN            NaN   \n",
            "2023-08-19 05:52:00       NaN  NaN       NaN          NaN            NaN   \n",
            "2023-08-19 05:54:00       NaN  NaN       NaN          NaN            NaN   \n",
            "2023-08-19 05:56:00       NaN  NaN       NaN          NaN            NaN   \n",
            "\n",
            "                     index_stein  kc  \n",
            "ts                                    \n",
            "2022-06-15 07:20:00          NaN NaN  \n",
            "2022-06-15 07:22:00          NaN NaN  \n",
            "2022-06-15 07:24:00          NaN NaN  \n",
            "2022-06-15 07:26:00          NaN NaN  \n",
            "2022-06-15 07:28:00          NaN NaN  \n",
            "...                          ...  ..  \n",
            "2023-08-19 05:48:00          NaN NaN  \n",
            "2023-08-19 05:50:00          NaN NaN  \n",
            "2023-08-19 05:52:00          NaN NaN  \n",
            "2023-08-19 05:54:00          NaN NaN  \n",
            "2023-08-19 05:56:00          NaN NaN  \n",
            "\n",
            "[96732 rows x 37 columns]\n"
          ]
        }
      ]
    },
    {
      "cell_type": "code",
      "source": [
        "candidate_X = [c for c in ['ghi','SZA','time_sin','time_cos','date_sin','date_cos','Temp']\n",
        "               if c in df.columns]\n",
        "columns_X = candidate_X  # <- hier bei Bedarf erweitern/ändern\n",
        "columns_y = [\"UVI\"] if \"UVI\" in df.columns else [\"UV\"]  # wähle 'UVI' oder ersatzweise 'UV'\n",
        "\n",
        "print(\"Features (X):\", columns_X)\n",
        "print(\"Target (y):\", columns_y)"
      ],
      "metadata": {
        "colab": {
          "base_uri": "https://localhost:8080/"
        },
        "id": "U7YtfP3bpq7w",
        "outputId": "c835e56d-05d2-4eda-99ee-273f735d4387"
      },
      "execution_count": 15,
      "outputs": [
        {
          "output_type": "stream",
          "name": "stdout",
          "text": [
            "Features (X): ['ghi', 'SZA', 'time_sin', 'time_cos', 'date_sin', 'date_cos', 'Temp']\n",
            "Target (y): ['UVI']\n"
          ]
        }
      ]
    },
    {
      "cell_type": "code",
      "source": [
        "total_length = len(df)\n",
        "train_size   = round(total_length * 0.80)\n",
        "val_size     = round(total_length * 0.10)\n",
        "test_size    = total_length - train_size - val_size  # restliche 10%\n",
        "\n",
        "train_df = df.iloc[:train_size].copy()\n",
        "val_df   = df.iloc[train_size : train_size + val_size].copy()\n",
        "test_df  = df.iloc[train_size + val_size :].copy()\n",
        "\n",
        "print(f\"Train: {train_df.shape}, Val: {val_df.shape}, Test: {test_df.shape}\")"
      ],
      "metadata": {
        "colab": {
          "base_uri": "https://localhost:8080/"
        },
        "id": "PtVqa5Spprmn",
        "outputId": "58ab17fa-121f-4f78-fa2b-a4d8faf4a0fc"
      },
      "execution_count": 16,
      "outputs": [
        {
          "output_type": "stream",
          "name": "stdout",
          "text": [
            "Train: (77386, 37), Val: (9673, 37), Test: (9673, 37)\n"
          ]
        }
      ]
    },
    {
      "cell_type": "code",
      "source": [
        "scaler_X = MinMaxScaler()\n",
        "scaler_y = MinMaxScaler()\n",
        "\n",
        "train_df[columns_X] = scaler_X.fit_transform(train_df[columns_X])\n",
        "train_df[columns_y] = scaler_y.fit_transform(train_df[columns_y])\n",
        "\n",
        "val_df[columns_X] = scaler_X.transform(val_df[columns_X])\n",
        "val_df[columns_y] = scaler_y.transform(val_df[columns_y])\n",
        "\n",
        "test_df[columns_X] = scaler_X.transform(test_df[columns_X])\n",
        "test_df[columns_y] = scaler_y.transform(test_df[columns_y])"
      ],
      "metadata": {
        "id": "HgNLmW3wpt9R"
      },
      "execution_count": 17,
      "outputs": []
    },
    {
      "cell_type": "code",
      "source": [
        "joblib.dump(scaler_X, scaler_x_path)\n",
        "joblib.dump(scaler_y, scaler_y_path)"
      ],
      "metadata": {
        "colab": {
          "base_uri": "https://localhost:8080/"
        },
        "id": "bNV1UJbJpw1w",
        "outputId": "bcc18c11-ed1d-40d8-fe93-5fe0c69b760f"
      },
      "execution_count": 18,
      "outputs": [
        {
          "output_type": "execute_result",
          "data": {
            "text/plain": [
              "['/content/drive/My Drive/Colab_Notebooks/LSTM_Model/scaler_y.pkl']"
            ]
          },
          "metadata": {},
          "execution_count": 18
        }
      ]
    },
    {
      "cell_type": "code",
      "source": [
        "def make_sequences(df_in: pd.DataFrame, X_cols, y_cols, seq_len: int):\n",
        "    X_seq, y_seq = [], []\n",
        "    values_X = df_in[X_cols].values\n",
        "    values_y = df_in[y_cols].values\n",
        "    for i in range(len(df_in) - seq_len):\n",
        "        X_seq.append(values_X[i:i+seq_len])\n",
        "        # One-step-ahead: nächster Zeitpunkt als Ziel\n",
        "        y_seq.append(values_y[i+seq_len])\n",
        "    return np.array(X_seq, dtype=np.float32), np.array(y_seq, dtype=np.float32)\n",
        "\n",
        "SEQ_LEN = fit_config[\"sequence_length\"]\n",
        "\n",
        "X_train, y_train = make_sequences(train_df, columns_X, columns_y, SEQ_LEN)\n",
        "X_val,   y_val   = make_sequences(val_df,   columns_X, columns_y, SEQ_LEN)\n",
        "X_test,  y_test  = make_sequences(test_df,  columns_X, columns_y, SEQ_LEN)\n",
        "\n",
        "print(\"X_train:\", X_train.shape, \"y_train:\", y_train.shape)\n",
        "print(\"X_val:\", X_val.shape, \"y_val:\", y_val.shape)\n",
        "print(\"X_test:\", X_test.shape, \"y_test:\", y_test.shape)"
      ],
      "metadata": {
        "colab": {
          "base_uri": "https://localhost:8080/"
        },
        "id": "pfGFjr3qp054",
        "outputId": "31869bc5-15b1-40ca-9cca-4872fd54df1a"
      },
      "execution_count": 19,
      "outputs": [
        {
          "output_type": "stream",
          "name": "stdout",
          "text": [
            "X_train: (77370, 16, 7) y_train: (77370, 1)\n",
            "X_val: (9657, 16, 7) y_val: (9657, 1)\n",
            "X_test: (9657, 16, 7) y_test: (9657, 1)\n"
          ]
        }
      ]
    },
    {
      "cell_type": "code",
      "source": [
        "pd.DataFrame(X_test.reshape(X_test.shape[0], -1)).to_csv(testdata_path_X, index=False)\n",
        "pd.DataFrame(y_test, columns=columns_y).to_csv(testdata_path_Y, index=False)"
      ],
      "metadata": {
        "id": "GR9pBgVxp1aW"
      },
      "execution_count": 20,
      "outputs": []
    },
    {
      "cell_type": "code",
      "source": [
        "n_features = len(columns_X)\n",
        "n_targets  = len(columns_y)\n",
        "\n",
        "inputs = keras.Input(shape=(SEQ_LEN, n_features))\n",
        "x = layers.LSTM(model_config[\"units_1\"], return_sequences=True)(inputs)\n",
        "x = layers.Dropout(model_config[\"dropout_rate\"])(x)\n",
        "x = layers.LSTM(model_config[\"units_2\"])(x)\n",
        "x = layers.Dropout(model_config[\"dropout_rate\"])(x)\n",
        "outputs = layers.Dense(n_targets, activation=model_config[\"final_activation\"])(x)\n",
        "\n",
        "model = keras.Model(inputs, outputs, name=\"lstm_uv_forecast\")\n",
        "model.compile(\n",
        "    loss=training_config[\"loss\"],\n",
        "    optimizer=training_config[\"optimizer\"],\n",
        "    metrics=training_config[\"metrics\"]\n",
        ")\n",
        "model.summary()"
      ],
      "metadata": {
        "colab": {
          "base_uri": "https://localhost:8080/",
          "height": 327
        },
        "id": "pWx0TTu3p32z",
        "outputId": "6745a9e2-5a0c-4cff-a27b-8e6b444aec99"
      },
      "execution_count": 21,
      "outputs": [
        {
          "output_type": "display_data",
          "data": {
            "text/plain": [
              "\u001b[1mModel: \"lstm_uv_forecast\"\u001b[0m\n"
            ],
            "text/html": [
              "<pre style=\"white-space:pre;overflow-x:auto;line-height:normal;font-family:Menlo,'DejaVu Sans Mono',consolas,'Courier New',monospace\"><span style=\"font-weight: bold\">Model: \"lstm_uv_forecast\"</span>\n",
              "</pre>\n"
            ]
          },
          "metadata": {}
        },
        {
          "output_type": "display_data",
          "data": {
            "text/plain": [
              "┏━━━━━━━━━━━━━━━━━━━━━━━━━━━━━━━━━┳━━━━━━━━━━━━━━━━━━━━━━━━┳━━━━━━━━━━━━━━━┓\n",
              "┃\u001b[1m \u001b[0m\u001b[1mLayer (type)                   \u001b[0m\u001b[1m \u001b[0m┃\u001b[1m \u001b[0m\u001b[1mOutput Shape          \u001b[0m\u001b[1m \u001b[0m┃\u001b[1m \u001b[0m\u001b[1m      Param #\u001b[0m\u001b[1m \u001b[0m┃\n",
              "┡━━━━━━━━━━━━━━━━━━━━━━━━━━━━━━━━━╇━━━━━━━━━━━━━━━━━━━━━━━━╇━━━━━━━━━━━━━━━┩\n",
              "│ input_layer (\u001b[38;5;33mInputLayer\u001b[0m)        │ (\u001b[38;5;45mNone\u001b[0m, \u001b[38;5;34m16\u001b[0m, \u001b[38;5;34m7\u001b[0m)          │             \u001b[38;5;34m0\u001b[0m │\n",
              "├─────────────────────────────────┼────────────────────────┼───────────────┤\n",
              "│ lstm (\u001b[38;5;33mLSTM\u001b[0m)                     │ (\u001b[38;5;45mNone\u001b[0m, \u001b[38;5;34m16\u001b[0m, \u001b[38;5;34m64\u001b[0m)         │        \u001b[38;5;34m18,432\u001b[0m │\n",
              "├─────────────────────────────────┼────────────────────────┼───────────────┤\n",
              "│ dropout (\u001b[38;5;33mDropout\u001b[0m)               │ (\u001b[38;5;45mNone\u001b[0m, \u001b[38;5;34m16\u001b[0m, \u001b[38;5;34m64\u001b[0m)         │             \u001b[38;5;34m0\u001b[0m │\n",
              "├─────────────────────────────────┼────────────────────────┼───────────────┤\n",
              "│ lstm_1 (\u001b[38;5;33mLSTM\u001b[0m)                   │ (\u001b[38;5;45mNone\u001b[0m, \u001b[38;5;34m32\u001b[0m)             │        \u001b[38;5;34m12,416\u001b[0m │\n",
              "├─────────────────────────────────┼────────────────────────┼───────────────┤\n",
              "│ dropout_1 (\u001b[38;5;33mDropout\u001b[0m)             │ (\u001b[38;5;45mNone\u001b[0m, \u001b[38;5;34m32\u001b[0m)             │             \u001b[38;5;34m0\u001b[0m │\n",
              "├─────────────────────────────────┼────────────────────────┼───────────────┤\n",
              "│ dense (\u001b[38;5;33mDense\u001b[0m)                   │ (\u001b[38;5;45mNone\u001b[0m, \u001b[38;5;34m1\u001b[0m)              │            \u001b[38;5;34m33\u001b[0m │\n",
              "└─────────────────────────────────┴────────────────────────┴───────────────┘\n"
            ],
            "text/html": [
              "<pre style=\"white-space:pre;overflow-x:auto;line-height:normal;font-family:Menlo,'DejaVu Sans Mono',consolas,'Courier New',monospace\">┏━━━━━━━━━━━━━━━━━━━━━━━━━━━━━━━━━┳━━━━━━━━━━━━━━━━━━━━━━━━┳━━━━━━━━━━━━━━━┓\n",
              "┃<span style=\"font-weight: bold\"> Layer (type)                    </span>┃<span style=\"font-weight: bold\"> Output Shape           </span>┃<span style=\"font-weight: bold\">       Param # </span>┃\n",
              "┡━━━━━━━━━━━━━━━━━━━━━━━━━━━━━━━━━╇━━━━━━━━━━━━━━━━━━━━━━━━╇━━━━━━━━━━━━━━━┩\n",
              "│ input_layer (<span style=\"color: #0087ff; text-decoration-color: #0087ff\">InputLayer</span>)        │ (<span style=\"color: #00d7ff; text-decoration-color: #00d7ff\">None</span>, <span style=\"color: #00af00; text-decoration-color: #00af00\">16</span>, <span style=\"color: #00af00; text-decoration-color: #00af00\">7</span>)          │             <span style=\"color: #00af00; text-decoration-color: #00af00\">0</span> │\n",
              "├─────────────────────────────────┼────────────────────────┼───────────────┤\n",
              "│ lstm (<span style=\"color: #0087ff; text-decoration-color: #0087ff\">LSTM</span>)                     │ (<span style=\"color: #00d7ff; text-decoration-color: #00d7ff\">None</span>, <span style=\"color: #00af00; text-decoration-color: #00af00\">16</span>, <span style=\"color: #00af00; text-decoration-color: #00af00\">64</span>)         │        <span style=\"color: #00af00; text-decoration-color: #00af00\">18,432</span> │\n",
              "├─────────────────────────────────┼────────────────────────┼───────────────┤\n",
              "│ dropout (<span style=\"color: #0087ff; text-decoration-color: #0087ff\">Dropout</span>)               │ (<span style=\"color: #00d7ff; text-decoration-color: #00d7ff\">None</span>, <span style=\"color: #00af00; text-decoration-color: #00af00\">16</span>, <span style=\"color: #00af00; text-decoration-color: #00af00\">64</span>)         │             <span style=\"color: #00af00; text-decoration-color: #00af00\">0</span> │\n",
              "├─────────────────────────────────┼────────────────────────┼───────────────┤\n",
              "│ lstm_1 (<span style=\"color: #0087ff; text-decoration-color: #0087ff\">LSTM</span>)                   │ (<span style=\"color: #00d7ff; text-decoration-color: #00d7ff\">None</span>, <span style=\"color: #00af00; text-decoration-color: #00af00\">32</span>)             │        <span style=\"color: #00af00; text-decoration-color: #00af00\">12,416</span> │\n",
              "├─────────────────────────────────┼────────────────────────┼───────────────┤\n",
              "│ dropout_1 (<span style=\"color: #0087ff; text-decoration-color: #0087ff\">Dropout</span>)             │ (<span style=\"color: #00d7ff; text-decoration-color: #00d7ff\">None</span>, <span style=\"color: #00af00; text-decoration-color: #00af00\">32</span>)             │             <span style=\"color: #00af00; text-decoration-color: #00af00\">0</span> │\n",
              "├─────────────────────────────────┼────────────────────────┼───────────────┤\n",
              "│ dense (<span style=\"color: #0087ff; text-decoration-color: #0087ff\">Dense</span>)                   │ (<span style=\"color: #00d7ff; text-decoration-color: #00d7ff\">None</span>, <span style=\"color: #00af00; text-decoration-color: #00af00\">1</span>)              │            <span style=\"color: #00af00; text-decoration-color: #00af00\">33</span> │\n",
              "└─────────────────────────────────┴────────────────────────┴───────────────┘\n",
              "</pre>\n"
            ]
          },
          "metadata": {}
        },
        {
          "output_type": "display_data",
          "data": {
            "text/plain": [
              "\u001b[1m Total params: \u001b[0m\u001b[38;5;34m30,881\u001b[0m (120.63 KB)\n"
            ],
            "text/html": [
              "<pre style=\"white-space:pre;overflow-x:auto;line-height:normal;font-family:Menlo,'DejaVu Sans Mono',consolas,'Courier New',monospace\"><span style=\"font-weight: bold\"> Total params: </span><span style=\"color: #00af00; text-decoration-color: #00af00\">30,881</span> (120.63 KB)\n",
              "</pre>\n"
            ]
          },
          "metadata": {}
        },
        {
          "output_type": "display_data",
          "data": {
            "text/plain": [
              "\u001b[1m Trainable params: \u001b[0m\u001b[38;5;34m30,881\u001b[0m (120.63 KB)\n"
            ],
            "text/html": [
              "<pre style=\"white-space:pre;overflow-x:auto;line-height:normal;font-family:Menlo,'DejaVu Sans Mono',consolas,'Courier New',monospace\"><span style=\"font-weight: bold\"> Trainable params: </span><span style=\"color: #00af00; text-decoration-color: #00af00\">30,881</span> (120.63 KB)\n",
              "</pre>\n"
            ]
          },
          "metadata": {}
        },
        {
          "output_type": "display_data",
          "data": {
            "text/plain": [
              "\u001b[1m Non-trainable params: \u001b[0m\u001b[38;5;34m0\u001b[0m (0.00 B)\n"
            ],
            "text/html": [
              "<pre style=\"white-space:pre;overflow-x:auto;line-height:normal;font-family:Menlo,'DejaVu Sans Mono',consolas,'Courier New',monospace\"><span style=\"font-weight: bold\"> Non-trainable params: </span><span style=\"color: #00af00; text-decoration-color: #00af00\">0</span> (0.00 B)\n",
              "</pre>\n"
            ]
          },
          "metadata": {}
        }
      ]
    },
    {
      "cell_type": "code",
      "source": [
        "# API-KEY: e414a24f0e911b489706e194692432c001883cd3\n",
        "wandb.login()"
      ],
      "metadata": {
        "colab": {
          "base_uri": "https://localhost:8080/"
        },
        "id": "2epqZomEp6mJ",
        "outputId": "9edf9708-da4f-4b5d-ea32-078ed995c729"
      },
      "execution_count": 22,
      "outputs": [
        {
          "output_type": "stream",
          "name": "stderr",
          "text": [
            "\u001b[34m\u001b[1mwandb\u001b[0m: Currently logged in as: \u001b[33mrobin-janowitz\u001b[0m (\u001b[33mrobin-janowitz-hochschule-bonn-rhein-sieg\u001b[0m) to \u001b[32mhttps://api.wandb.ai\u001b[0m. Use \u001b[1m`wandb login --relogin`\u001b[0m to force relogin\n"
          ]
        },
        {
          "output_type": "execute_result",
          "data": {
            "text/plain": [
              "True"
            ]
          },
          "metadata": {},
          "execution_count": 22
        }
      ]
    },
    {
      "cell_type": "code",
      "source": [
        "wandb_run = wandb.init(\n",
        "    project=\"uv-forecasting\",\n",
        "    name=f\"lstm-{dt.datetime.now().strftime('%Y%m%d-%H%M%S')}\",\n",
        "    config={\n",
        "        \"model_config\": model_config,\n",
        "        \"training_config\": {\n",
        "            \"loss\": training_config[\"loss\"],\n",
        "            \"optimizer\": \"adam\",\n",
        "            \"metrics\": [\"mse\", \"mae\", \"mape\", \"rmse\"]\n",
        "        },\n",
        "        \"fit_config\": fit_config,\n",
        "        \"n_features\": n_features,\n",
        "        \"n_targets\": n_targets,\n",
        "        \"sequence_length\": SEQ_LEN,\n",
        "        \"split_sizes\": {\n",
        "            \"train\": train_size, \"val\": val_size, \"test\": test_size\n",
        "        },\n",
        "        \"columns_X\": columns_X,\n",
        "        \"columns_y\": columns_y\n",
        "    }\n",
        ")\n",
        "\n",
        "# =========================\n",
        "# Callbacks (inkl. W&B)\n",
        "# =========================\n",
        "callbacks = [\n",
        "    WandbCallback(\n",
        "        save_model=False,     # wir speichern selbst unten\n",
        "        log_weights=False,    # optional\n",
        "        save_graph=False      # <-- Graph-Logging ausschalten (Fix für Keras 3)\n",
        "    ),\n",
        "    keras.callbacks.EarlyStopping(monitor=\"val_rmse\", patience=5, mode=\"min\", restore_best_weights=True),\n",
        "    keras.callbacks.ModelCheckpoint(\n",
        "        filepath=weights_path, save_weights_only=True,\n",
        "        monitor=\"val_rmse\", mode=\"min\", save_best_only=True, verbose=1\n",
        "    ),\n",
        "    keras.callbacks.CSVLogger(text_file_path.replace(\".txt\", \"_history.csv\"))\n",
        "]"
      ],
      "metadata": {
        "colab": {
          "base_uri": "https://localhost:8080/",
          "height": 143
        },
        "id": "XoOygyu6p8Zt",
        "outputId": "2952c155-e06f-48c9-a24b-39848ccbb090"
      },
      "execution_count": 23,
      "outputs": [
        {
          "output_type": "display_data",
          "data": {
            "text/plain": [
              "<IPython.core.display.HTML object>"
            ],
            "text/html": [
              "Tracking run with wandb version 0.21.1"
            ]
          },
          "metadata": {}
        },
        {
          "output_type": "display_data",
          "data": {
            "text/plain": [
              "<IPython.core.display.HTML object>"
            ],
            "text/html": [
              "Run data is saved locally in <code>/content/wandb/run-20250817_202326-gs4bubyw</code>"
            ]
          },
          "metadata": {}
        },
        {
          "output_type": "display_data",
          "data": {
            "text/plain": [
              "<IPython.core.display.HTML object>"
            ],
            "text/html": [
              "Syncing run <strong><a href='https://wandb.ai/robin-janowitz-hochschule-bonn-rhein-sieg/uv-forecasting/runs/gs4bubyw' target=\"_blank\">lstm-20250817-202326</a></strong> to <a href='https://wandb.ai/robin-janowitz-hochschule-bonn-rhein-sieg/uv-forecasting' target=\"_blank\">Weights & Biases</a> (<a href='https://wandb.me/developer-guide' target=\"_blank\">docs</a>)<br>"
            ]
          },
          "metadata": {}
        },
        {
          "output_type": "display_data",
          "data": {
            "text/plain": [
              "<IPython.core.display.HTML object>"
            ],
            "text/html": [
              " View project at <a href='https://wandb.ai/robin-janowitz-hochschule-bonn-rhein-sieg/uv-forecasting' target=\"_blank\">https://wandb.ai/robin-janowitz-hochschule-bonn-rhein-sieg/uv-forecasting</a>"
            ]
          },
          "metadata": {}
        },
        {
          "output_type": "display_data",
          "data": {
            "text/plain": [
              "<IPython.core.display.HTML object>"
            ],
            "text/html": [
              " View run at <a href='https://wandb.ai/robin-janowitz-hochschule-bonn-rhein-sieg/uv-forecasting/runs/gs4bubyw' target=\"_blank\">https://wandb.ai/robin-janowitz-hochschule-bonn-rhein-sieg/uv-forecasting/runs/gs4bubyw</a>"
            ]
          },
          "metadata": {}
        },
        {
          "output_type": "stream",
          "name": "stderr",
          "text": [
            "\u001b[34m\u001b[1mwandb\u001b[0m: \u001b[33mWARNING\u001b[0m WandbCallback is deprecated and will be removed in a future release. Please use the WandbMetricsLogger, WandbModelCheckpoint, and WandbEvalCallback callbacks instead. See https://docs.wandb.ai/guides/integrations/keras for more information.\n"
          ]
        }
      ]
    },
    {
      "cell_type": "code",
      "source": [
        "history = model.fit(\n",
        "    X_train, y_train,\n",
        "    validation_data=(X_val, y_val),\n",
        "    epochs=fit_config[\"epochs\"],\n",
        "    batch_size=fit_config[\"batch_size\"],\n",
        "    callbacks=callbacks,\n",
        "    verbose=1\n",
        ")"
      ],
      "metadata": {
        "colab": {
          "base_uri": "https://localhost:8080/"
        },
        "id": "nfM_FKPjqFR1",
        "outputId": "51ee7372-d7c2-47ad-d643-8f1e1bd7061e"
      },
      "execution_count": 24,
      "outputs": [
        {
          "output_type": "stream",
          "name": "stdout",
          "text": [
            "Epoch 1/10\n",
            "\u001b[1m2416/2418\u001b[0m \u001b[32m━━━━━━━━━━━━━━━━━━━\u001b[0m\u001b[37m━\u001b[0m \u001b[1m0s\u001b[0m 21ms/step - loss: 0.0035 - mae: 0.0341 - mape: 11435.1025 - mse: 0.0035 - rmse: 0.0562\n",
            "Epoch 1: val_rmse improved from inf to 0.04849, saving model to /content/drive/My Drive/Colab_Notebooks/LSTM_Model/model_weights.weights.h5\n",
            "\u001b[1m2418/2418\u001b[0m \u001b[32m━━━━━━━━━━━━━━━━━━━━\u001b[0m\u001b[37m\u001b[0m \u001b[1m65s\u001b[0m 22ms/step - loss: 0.0035 - mae: 0.0341 - mape: 11429.6934 - mse: 0.0035 - rmse: 0.0562 - val_loss: 0.0024 - val_mae: 0.0289 - val_mape: 31.3760 - val_mse: 0.0024 - val_rmse: 0.0485\n",
            "Epoch 2/10\n",
            "\u001b[1m2416/2418\u001b[0m \u001b[32m━━━━━━━━━━━━━━━━━━━\u001b[0m\u001b[37m━\u001b[0m \u001b[1m0s\u001b[0m 24ms/step - loss: 0.0011 - mae: 0.0194 - mape: 5965.3584 - mse: 0.0011 - rmse: 0.0327\n",
            "Epoch 2: val_rmse improved from 0.04849 to 0.04386, saving model to /content/drive/My Drive/Colab_Notebooks/LSTM_Model/model_weights.weights.h5\n",
            "\u001b[1m2418/2418\u001b[0m \u001b[32m━━━━━━━━━━━━━━━━━━━━\u001b[0m\u001b[37m\u001b[0m \u001b[1m90s\u001b[0m 25ms/step - loss: 0.0011 - mae: 0.0194 - mape: 5963.6230 - mse: 0.0011 - rmse: 0.0327 - val_loss: 0.0019 - val_mae: 0.0251 - val_mape: 30.2398 - val_mse: 0.0019 - val_rmse: 0.0439\n",
            "Epoch 3/10\n",
            "\u001b[1m2418/2418\u001b[0m \u001b[32m━━━━━━━━━━━━━━━━━━━━\u001b[0m\u001b[37m\u001b[0m \u001b[1m0s\u001b[0m 21ms/step - loss: 9.2840e-04 - mae: 0.0182 - mape: 4808.4990 - mse: 9.2840e-04 - rmse: 0.0305\n",
            "Epoch 3: val_rmse improved from 0.04386 to 0.04352, saving model to /content/drive/My Drive/Colab_Notebooks/LSTM_Model/model_weights.weights.h5\n",
            "\u001b[1m2418/2418\u001b[0m \u001b[32m━━━━━━━━━━━━━━━━━━━━\u001b[0m\u001b[37m\u001b[0m \u001b[1m53s\u001b[0m 22ms/step - loss: 9.2839e-04 - mae: 0.0182 - mape: 4808.2773 - mse: 9.2839e-04 - rmse: 0.0305 - val_loss: 0.0019 - val_mae: 0.0246 - val_mape: 35.6525 - val_mse: 0.0019 - val_rmse: 0.0435\n",
            "Epoch 4/10\n",
            "\u001b[1m2418/2418\u001b[0m \u001b[32m━━━━━━━━━━━━━━━━━━━━\u001b[0m\u001b[37m\u001b[0m \u001b[1m0s\u001b[0m 21ms/step - loss: 8.7096e-04 - mae: 0.0177 - mape: 5452.8208 - mse: 8.7096e-04 - rmse: 0.0295\n",
            "Epoch 4: val_rmse improved from 0.04352 to 0.04176, saving model to /content/drive/My Drive/Colab_Notebooks/LSTM_Model/model_weights.weights.h5\n",
            "\u001b[1m2418/2418\u001b[0m \u001b[32m━━━━━━━━━━━━━━━━━━━━\u001b[0m\u001b[37m\u001b[0m \u001b[1m81s\u001b[0m 22ms/step - loss: 8.7096e-04 - mae: 0.0177 - mape: 5452.6260 - mse: 8.7096e-04 - rmse: 0.0295 - val_loss: 0.0017 - val_mae: 0.0226 - val_mape: 17.9704 - val_mse: 0.0017 - val_rmse: 0.0418\n",
            "Epoch 5/10\n",
            "\u001b[1m2417/2418\u001b[0m \u001b[32m━━━━━━━━━━━━━━━━━━━\u001b[0m\u001b[37m━\u001b[0m \u001b[1m0s\u001b[0m 21ms/step - loss: 8.5178e-04 - mae: 0.0174 - mape: 5725.8765 - mse: 8.5178e-04 - rmse: 0.0292\n",
            "Epoch 5: val_rmse did not improve from 0.04176\n",
            "\u001b[1m2418/2418\u001b[0m \u001b[32m━━━━━━━━━━━━━━━━━━━━\u001b[0m\u001b[37m\u001b[0m \u001b[1m54s\u001b[0m 22ms/step - loss: 8.5177e-04 - mae: 0.0174 - mape: 5724.9819 - mse: 8.5177e-04 - rmse: 0.0292 - val_loss: 0.0019 - val_mae: 0.0237 - val_mape: 18.5446 - val_mse: 0.0019 - val_rmse: 0.0432\n",
            "Epoch 6/10\n",
            "\u001b[1m2418/2418\u001b[0m \u001b[32m━━━━━━━━━━━━━━━━━━━━\u001b[0m\u001b[37m\u001b[0m \u001b[1m0s\u001b[0m 21ms/step - loss: 8.1868e-04 - mae: 0.0171 - mape: 5680.8477 - mse: 8.1868e-04 - rmse: 0.0286\n",
            "Epoch 6: val_rmse did not improve from 0.04176\n",
            "\u001b[1m2418/2418\u001b[0m \u001b[32m━━━━━━━━━━━━━━━━━━━━\u001b[0m\u001b[37m\u001b[0m \u001b[1m80s\u001b[0m 22ms/step - loss: 8.1868e-04 - mae: 0.0171 - mape: 5680.3364 - mse: 8.1868e-04 - rmse: 0.0286 - val_loss: 0.0022 - val_mae: 0.0265 - val_mape: 22.9212 - val_mse: 0.0022 - val_rmse: 0.0465\n",
            "Epoch 7/10\n",
            "\u001b[1m2417/2418\u001b[0m \u001b[32m━━━━━━━━━━━━━━━━━━━\u001b[0m\u001b[37m━\u001b[0m \u001b[1m0s\u001b[0m 21ms/step - loss: 7.9519e-04 - mae: 0.0167 - mape: 5425.0288 - mse: 7.9519e-04 - rmse: 0.0282\n",
            "Epoch 7: val_rmse did not improve from 0.04176\n",
            "\u001b[1m2418/2418\u001b[0m \u001b[32m━━━━━━━━━━━━━━━━━━━━\u001b[0m\u001b[37m\u001b[0m \u001b[1m53s\u001b[0m 22ms/step - loss: 7.9519e-04 - mae: 0.0167 - mape: 5424.1338 - mse: 7.9519e-04 - rmse: 0.0282 - val_loss: 0.0020 - val_mae: 0.0246 - val_mape: 17.9408 - val_mse: 0.0020 - val_rmse: 0.0442\n",
            "Epoch 8/10\n",
            "\u001b[1m2418/2418\u001b[0m \u001b[32m━━━━━━━━━━━━━━━━━━━━\u001b[0m\u001b[37m\u001b[0m \u001b[1m0s\u001b[0m 21ms/step - loss: 7.9434e-04 - mae: 0.0167 - mape: 4699.1436 - mse: 7.9434e-04 - rmse: 0.0282\n",
            "Epoch 8: val_rmse did not improve from 0.04176\n",
            "\u001b[1m2418/2418\u001b[0m \u001b[32m━━━━━━━━━━━━━━━━━━━━\u001b[0m\u001b[37m\u001b[0m \u001b[1m81s\u001b[0m 21ms/step - loss: 7.9434e-04 - mae: 0.0167 - mape: 4698.8135 - mse: 7.9434e-04 - rmse: 0.0282 - val_loss: 0.0019 - val_mae: 0.0241 - val_mape: 17.3958 - val_mse: 0.0019 - val_rmse: 0.0437\n",
            "Epoch 9/10\n",
            "\u001b[1m2417/2418\u001b[0m \u001b[32m━━━━━━━━━━━━━━━━━━━\u001b[0m\u001b[37m━\u001b[0m \u001b[1m0s\u001b[0m 21ms/step - loss: 7.7075e-04 - mae: 0.0164 - mape: 5433.8184 - mse: 7.7075e-04 - rmse: 0.0278\n",
            "Epoch 9: val_rmse did not improve from 0.04176\n",
            "\u001b[1m2418/2418\u001b[0m \u001b[32m━━━━━━━━━━━━━━━━━━━━\u001b[0m\u001b[37m\u001b[0m \u001b[1m83s\u001b[0m 22ms/step - loss: 7.7075e-04 - mae: 0.0164 - mape: 5433.0977 - mse: 7.7075e-04 - rmse: 0.0278 - val_loss: 0.0019 - val_mae: 0.0241 - val_mape: 19.1594 - val_mse: 0.0019 - val_rmse: 0.0434\n"
          ]
        }
      ]
    },
    {
      "cell_type": "code",
      "source": [
        "eval_results = model.evaluate(X_test, y_test, verbose=0)\n",
        "metrics_names = model.metrics_names\n",
        "results_dict = {name: float(val) for name, val in zip(metrics_names, eval_results)}\n",
        "print(\"Test-Ergebnisse:\", results_dict)"
      ],
      "metadata": {
        "colab": {
          "base_uri": "https://localhost:8080/"
        },
        "id": "z6w-XHgPqGc5",
        "outputId": "688766d5-7daf-4e6d-cf49-a56dbc6dc904"
      },
      "execution_count": 25,
      "outputs": [
        {
          "output_type": "stream",
          "name": "stdout",
          "text": [
            "Test-Ergebnisse: {'loss': 0.0027228479739278555, 'compile_metrics': 0.0027228479739278555}\n"
          ]
        }
      ]
    },
    {
      "cell_type": "code",
      "source": [
        "wandb.log({f\"test/{k}\": v for k, v in results_dict.items()})"
      ],
      "metadata": {
        "id": "xd_yKcjHqJIB"
      },
      "execution_count": 26,
      "outputs": []
    },
    {
      "cell_type": "code",
      "source": [
        "if os.path.exists(weights_path):\n",
        "    model.load_weights(weights_path)"
      ],
      "metadata": {
        "id": "JwOZjDJ3qKmZ"
      },
      "execution_count": 27,
      "outputs": []
    },
    {
      "cell_type": "code",
      "source": [
        "model.save(model_path)"
      ],
      "metadata": {
        "id": "J1OfIxW8qMVV"
      },
      "execution_count": 28,
      "outputs": []
    },
    {
      "cell_type": "code",
      "source": [
        "with open(text_file_path, \"w\") as f:\n",
        "    f.write(\"=== LSTM UV-Forecasting – Ergebnisse ===\\n\")\n",
        "    f.write(f\"Zeit: {dt.datetime.now()}\\n\\n\")\n",
        "    f.write(\"Konfigurationen:\\n\")\n",
        "    f.write(f\"model_config: {model_config}\\n\")\n",
        "    f.write(f\"training_config: {training_config}\\n\")\n",
        "    f.write(f\"fit_config: {fit_config}\\n\")\n",
        "    f.write(f\"Features (X): {columns_X}\\nZiel (y): {columns_y}\\n\\n\")\n",
        "    f.write(\"Test-Performance:\\n\")\n",
        "    for k, v in results_dict.items():\n",
        "        f.write(f\"  {k}: {v:.6f}\\n\")\n",
        "    f.write(\"\\nPfade:\\n\")\n",
        "    f.write(f\"  model_path:   {model_path}\\n\")\n",
        "    f.write(f\"  weights_path: {weights_path}\\n\")\n",
        "    f.write(f\"  test_X_csv:   {testdata_path_X}\\n\")\n",
        "    f.write(f\"  test_Y_csv:   {testdata_path_Y}\\n\")\n",
        "    f.write(f\"  scaler_X:     {scaler_x_path}\\n\")\n",
        "    f.write(f\"  scaler_y:     {scaler_y_path}\\n\")\n",
        "\n",
        "wandb.finish()"
      ],
      "metadata": {
        "colab": {
          "base_uri": "https://localhost:8080/",
          "height": 859
        },
        "id": "ZLdirqXzqO1t",
        "outputId": "20b2ee77-b055-4b94-ab15-77b0b4cdec63"
      },
      "execution_count": 29,
      "outputs": [
        {
          "output_type": "display_data",
          "data": {
            "text/plain": [
              "<IPython.core.display.HTML object>"
            ],
            "text/html": []
          },
          "metadata": {}
        },
        {
          "output_type": "display_data",
          "data": {
            "text/plain": [
              "<IPython.core.display.HTML object>"
            ],
            "text/html": [
              "<br>    <style><br>        .wandb-row {<br>            display: flex;<br>            flex-direction: row;<br>            flex-wrap: wrap;<br>            justify-content: flex-start;<br>            width: 100%;<br>        }<br>        .wandb-col {<br>            display: flex;<br>            flex-direction: column;<br>            flex-basis: 100%;<br>            flex: 1;<br>            padding: 10px;<br>        }<br>    </style><br><div class=\"wandb-row\"><div class=\"wandb-col\"><h3>Run history:</h3><br/><table class=\"wandb\"><tr><td>epoch</td><td>▁▂▃▄▅▅▆▇█</td></tr><tr><td>loss</td><td>█▂▂▂▁▁▁▁▁</td></tr><tr><td>mae</td><td>█▃▂▂▂▁▁▁▁</td></tr><tr><td>mape</td><td>█▂▂▃▃▂▂▁▂</td></tr><tr><td>mse</td><td>█▂▂▂▁▁▁▁▁</td></tr><tr><td>rmse</td><td>█▃▂▂▂▁▁▁▁</td></tr><tr><td>test/compile_metrics</td><td>▁</td></tr><tr><td>test/loss</td><td>▁</td></tr><tr><td>val_loss</td><td>█▃▃▁▂▆▃▃▃</td></tr><tr><td>val_mae</td><td>█▄▃▁▂▅▃▃▃</td></tr><tr><td>val_mape</td><td>▆▆█▁▁▃▁▁▂</td></tr><tr><td>val_mse</td><td>█▃▃▁▂▆▃▃▃</td></tr><tr><td>val_rmse</td><td>█▃▃▁▃▆▄▃▃</td></tr></table><br/></div><div class=\"wandb-col\"><h3>Run summary:</h3><br/><table class=\"wandb\"><tr><td>best_epoch</td><td>3</td></tr><tr><td>best_val_loss</td><td>0.00174</td></tr><tr><td>epoch</td><td>8</td></tr><tr><td>loss</td><td>0.00077</td></tr><tr><td>mae</td><td>0.01641</td></tr><tr><td>mape</td><td>4562.20703</td></tr><tr><td>mse</td><td>0.00077</td></tr><tr><td>rmse</td><td>0.0277</td></tr><tr><td>test/compile_metrics</td><td>0.00272</td></tr><tr><td>test/loss</td><td>0.00272</td></tr><tr><td>val_loss</td><td>0.00189</td></tr><tr><td>val_mae</td><td>0.02414</td></tr><tr><td>val_mape</td><td>19.15938</td></tr><tr><td>val_mse</td><td>0.00189</td></tr><tr><td>val_rmse</td><td>0.04343</td></tr></table><br/></div></div>"
            ]
          },
          "metadata": {}
        },
        {
          "output_type": "display_data",
          "data": {
            "text/plain": [
              "<IPython.core.display.HTML object>"
            ],
            "text/html": [
              " View run <strong style=\"color:#cdcd00\">lstm-20250817-202326</strong> at: <a href='https://wandb.ai/robin-janowitz-hochschule-bonn-rhein-sieg/uv-forecasting/runs/gs4bubyw' target=\"_blank\">https://wandb.ai/robin-janowitz-hochschule-bonn-rhein-sieg/uv-forecasting/runs/gs4bubyw</a><br> View project at: <a href='https://wandb.ai/robin-janowitz-hochschule-bonn-rhein-sieg/uv-forecasting' target=\"_blank\">https://wandb.ai/robin-janowitz-hochschule-bonn-rhein-sieg/uv-forecasting</a><br>Synced 5 W&B file(s), 0 media file(s), 0 artifact file(s) and 0 other file(s)"
            ]
          },
          "metadata": {}
        },
        {
          "output_type": "display_data",
          "data": {
            "text/plain": [
              "<IPython.core.display.HTML object>"
            ],
            "text/html": [
              "Find logs at: <code>./wandb/run-20250817_202326-gs4bubyw/logs</code>"
            ]
          },
          "metadata": {}
        }
      ]
    },
    {
      "cell_type": "code",
      "source": [],
      "metadata": {
        "id": "AzLYKIfB902b"
      },
      "execution_count": 29,
      "outputs": []
    }
  ]
}