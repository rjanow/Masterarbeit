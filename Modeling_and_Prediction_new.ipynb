{
  "nbformat": 4,
  "nbformat_minor": 0,
  "metadata": {
    "colab": {
      "provenance": [],
      "authorship_tag": "ABX9TyNw4ea2+eFze9awY+NrivEQ",
      "include_colab_link": true
    },
    "kernelspec": {
      "name": "python3",
      "display_name": "Python 3"
    },
    "language_info": {
      "name": "python"
    }
  },
  "cells": [
    {
      "cell_type": "markdown",
      "metadata": {
        "id": "view-in-github",
        "colab_type": "text"
      },
      "source": [
        "<a href=\"https://colab.research.google.com/github/rjanow/Masterarbeit/blob/main/Modeling_and_Prediction_new.ipynb\" target=\"_parent\"><img src=\"https://colab.research.google.com/assets/colab-badge.svg\" alt=\"Open In Colab\"/></a>"
      ]
    },
    {
      "cell_type": "markdown",
      "source": [
        "# LSTM"
      ],
      "metadata": {
        "id": "0Ng7WlqRF6Uv"
      }
    },
    {
      "cell_type": "markdown",
      "source": [
        "In diesem Skript wird ein erstes Modell erzeugt, um aus den gemssenen Globalstrahlungsdaten den UVI zu berechen."
      ],
      "metadata": {
        "id": "AsUt2K5PFuQh"
      }
    },
    {
      "cell_type": "code",
      "source": [
        "# Verbinden mit der Google-Drive\n",
        "from google.colab import drive\n",
        "drive.mount('/content/drive')"
      ],
      "metadata": {
        "colab": {
          "base_uri": "https://localhost:8080/"
        },
        "id": "CN5x7YhZ99QP",
        "outputId": "3aed0b01-b940-4095-b5bf-208463f51193"
      },
      "execution_count": 1,
      "outputs": [
        {
          "output_type": "stream",
          "name": "stdout",
          "text": [
            "Mounted at /content/drive\n"
          ]
        }
      ]
    },
    {
      "cell_type": "markdown",
      "source": [],
      "metadata": {
        "id": "XgnNp1CjFzPc"
      }
    },
    {
      "cell_type": "code",
      "source": [
        "!pip install tensorflow == 2.6.0"
      ],
      "metadata": {
        "colab": {
          "base_uri": "https://localhost:8080/"
        },
        "id": "MSK4Ns8Op4YG",
        "outputId": "6d26c65d-8bb6-42ed-c8e6-32689ebb51b3"
      },
      "execution_count": 2,
      "outputs": [
        {
          "output_type": "stream",
          "name": "stdout",
          "text": [
            "\u001b[31mERROR: Invalid requirement: '==': Expected package name at the start of dependency specifier\n",
            "    ==\n",
            "    ^\u001b[0m\u001b[31m\n",
            "\u001b[0m"
          ]
        }
      ]
    },
    {
      "cell_type": "code",
      "source": [
        "import tensorflow.keras as keras\n",
        "import pandas as pd\n",
        "import numpy as np\n",
        "import matplotlib.pyplot as plt\n",
        "\n",
        "from keras.models import Sequential\n",
        "from keras.layers import Dense, Dropout, LSTM, Bidirectional\n",
        "from sklearn.preprocessing import MinMaxScaler"
      ],
      "metadata": {
        "id": "L1rcvDzU-F-w"
      },
      "execution_count": 3,
      "outputs": []
    },
    {
      "cell_type": "code",
      "source": [
        "# Pfad zur CSV-Datei auf Google Drive\n",
        "name_Messwerte = 'Messdaten_CAMS_GHI.csv'\n",
        "name_Vorhersage = 'Vorhersagedaten_CAMS_VarIdx.csv'\n",
        "folder_import = '/content/drive/My Drive/Colab_Notebooks/Clean_Data/'"
      ],
      "metadata": {
        "id": "yBFyA7hw9-XT"
      },
      "execution_count": 4,
      "outputs": []
    },
    {
      "cell_type": "code",
      "source": [
        "# Import der Messdaten\n",
        "df_Messdaten = pd.read_csv(folder_import + name_Messwerte)"
      ],
      "metadata": {
        "id": "1RAsBy3qGHTE"
      },
      "execution_count": 5,
      "outputs": []
    },
    {
      "cell_type": "code",
      "source": [
        "# Import der Vorhersagedaten\n",
        "df_Vorhersage = pd.read_csv(folder_import + name_Vorhersage)"
      ],
      "metadata": {
        "id": "t1qhUxgIUU3v"
      },
      "execution_count": 6,
      "outputs": []
    },
    {
      "cell_type": "code",
      "source": [
        "# Konvertiere die Zeitspalten in ein gemeinsames Format und führe einen Merge der Datensätze durch\n",
        "df_Messdaten['Datetime'] = pd.to_datetime(df_Messdaten['Datetime'])\n",
        "df_Vorhersage['Datetime'] = pd.to_datetime(df_Vorhersage['Datetime'])"
      ],
      "metadata": {
        "id": "ETDBeb_894PE"
      },
      "execution_count": 7,
      "outputs": []
    },
    {
      "cell_type": "code",
      "source": [
        "\n",
        "df_Messdaten.columns"
      ],
      "metadata": {
        "colab": {
          "base_uri": "https://localhost:8080/"
        },
        "id": "gCdeBkhdUqUJ",
        "outputId": "ba897a7a-c6d6-4beb-87ea-8fbda325e014"
      },
      "execution_count": 8,
      "outputs": [
        {
          "output_type": "execute_result",
          "data": {
            "text/plain": [
              "Index(['Datetime', 'Observation_period', 'Clear_sky_GHI', 'Clear_sky_BHI',\n",
              "       'GHI', 'BHI', 'UVI', 'UVA', 'UVB', 'erythem', 'Datum', 'Uhrzeit',\n",
              "       'Messzeitpunkt', 'ghi', 'Dif', 'Glo_SPLite', 'Dir', 'Temp',\n",
              "       'DiffGreater2', 'SZA', 'time_sin', 'time_cos', 'date_sin', 'date_cos',\n",
              "       'Date', 'Hour'],\n",
              "      dtype='object')"
            ]
          },
          "metadata": {},
          "execution_count": 8
        }
      ]
    },
    {
      "cell_type": "code",
      "source": [
        "# Relevante Spalten\n",
        "indipendent_variablen = ['ghi', 'SZA', 'time_sin', 'time_cos', 'date_sin', 'date_cos']\n",
        "dependent_variablen = ['UVI']\n",
        "\n",
        "columns = indipendent_variablen + dependent_variablen"
      ],
      "metadata": {
        "id": "KG0T5leibAVE"
      },
      "execution_count": 9,
      "outputs": []
    },
    {
      "cell_type": "code",
      "source": [
        "#Applying a scaler for regression\n",
        "MMS = MinMaxScaler()\n",
        "df_Messdaten[columns] = MMS.fit_transform(df_Messdaten[columns])"
      ],
      "metadata": {
        "id": "bQvT2EKj-mJD"
      },
      "execution_count": 10,
      "outputs": []
    },
    {
      "cell_type": "code",
      "source": [
        "#Splitting in training and testing samples\n",
        "training_size = round(len(df_Messdaten) * 0.80)\n",
        "train_data = df_Messdaten[columns][:training_size]\n",
        "test_data  = df_Messdaten[columns][training_size:]\n",
        "\n",
        "print(train_data, test_data)"
      ],
      "metadata": {
        "colab": {
          "base_uri": "https://localhost:8080/"
        },
        "id": "_VEGIoX8kavw",
        "outputId": "d70326c5-73a2-42c7-90cc-b58a9c74e553"
      },
      "execution_count": 11,
      "outputs": [
        {
          "output_type": "stream",
          "name": "stdout",
          "text": [
            "            ghi       SZA  time_sin  time_cos  date_sin  date_cos       UVI\n",
            "0      0.449763  0.394655  0.969096  0.403006  0.641161  0.020303  0.281919\n",
            "1      0.452447  0.390193  0.969096  0.403006  0.641161  0.020303  0.281919\n",
            "2      0.455624  0.385734  0.967568  0.397968  0.641161  0.020303  0.288240\n",
            "3      0.458118  0.381277  0.966004  0.392947  0.641161  0.020303  0.290191\n",
            "4      0.463850  0.376825  0.964405  0.387943  0.641161  0.020303  0.297739\n",
            "...         ...       ...       ...       ...       ...       ...       ...\n",
            "77381  0.342308  0.574718  0.058526  0.326979  0.971797  0.334079  0.093193\n",
            "77382  0.152062  0.579150  0.056495  0.331739  0.971797  0.334079  0.078514\n",
            "77383  0.125504  0.583587  0.054497  0.336521  0.971797  0.334079  0.070488\n",
            "77384  0.108314  0.588028  0.052533  0.341323  0.971797  0.334079  0.067234\n",
            "77385  0.095241  0.592473  0.050603  0.346147  0.971797  0.334079  0.062044\n",
            "\n",
            "[77386 rows x 7 columns]             ghi       SZA  time_sin  time_cos  date_sin  date_cos       UVI\n",
            "77386  0.079275  0.596921  0.048707  0.350992  0.971797  0.334079  0.058865\n",
            "77387  0.069880  0.601373  0.046846  0.355856  0.971797  0.334079  0.055703\n",
            "77388  0.071556  0.605828  0.045019  0.360741  0.971797  0.334079  0.054544\n",
            "77389  0.079093  0.610286  0.043227  0.365644  0.971797  0.334079  0.054791\n",
            "77390  0.114911  0.614747  0.041470  0.370567  0.971797  0.334079  0.054480\n",
            "...         ...       ...       ...       ...       ...       ...       ...\n",
            "96727  0.188603  0.718702  0.999315  0.648583  0.130304  0.163493  0.035933\n",
            "96728  0.189374  0.714245  0.999524  0.643211  0.130304  0.163493  0.036573\n",
            "96729  0.174686  0.709785  0.999695  0.637837  0.130304  0.163493  0.036784\n",
            "96730  0.174665  0.705323  0.999829  0.632461  0.130304  0.163493  0.037088\n",
            "96731  0.137522  0.700858  0.999924  0.627084  0.130304  0.163493  0.036570\n",
            "\n",
            "[19346 rows x 7 columns]\n"
          ]
        }
      ]
    },
    {
      "cell_type": "code",
      "source": [
        "def create_sequence(dataset,sequence_len):\n",
        "  sequences = []\n",
        "  labels = []\n",
        "  start_idx = 0\n",
        "  for stop_idx in range(sequence_len,len(dataset)):\n",
        "    sequences.append(dataset.iloc[start_idx:stop_idx])\n",
        "    labels.append(dataset.iloc[stop_idx])\n",
        "    start_idx += 1\n",
        "  return (np.array(sequences),np.array(labels))"
      ],
      "metadata": {
        "id": "GMgoe7wrkn2H"
      },
      "execution_count": 12,
      "outputs": []
    },
    {
      "cell_type": "code",
      "source": [
        "# Erstellen des Trainigs- und Validierungsdatensatzes\n",
        "X_train, y_train = create_sequence(train_data,100)\n",
        "X_val, y_val = create_sequence(test_data,100)\n",
        "\n",
        "print(X_train.shape, X_val.shape)"
      ],
      "metadata": {
        "colab": {
          "base_uri": "https://localhost:8080/"
        },
        "id": "wYi5BLd3kqn7",
        "outputId": "86e1394d-6858-4cc2-faa7-74a316a6b577"
      },
      "execution_count": 13,
      "outputs": [
        {
          "output_type": "stream",
          "name": "stdout",
          "text": [
            "(77286, 100, 7) (19246, 100, 7)\n"
          ]
        }
      ]
    },
    {
      "cell_type": "code",
      "source": [
        "#Creating LSTM for regression\n",
        "\n",
        "model = Sequential()\n",
        "model.add(LSTM(units = 64, return_sequences=True, input_shape = (X_train.shape[1], X_train.shape[2])))\n",
        "model.add(Dropout(0.1))\n",
        "model.add(LSTM(units = 32))\n",
        "model.add(Dense(1))\n",
        "model.compile(loss='mean_squared_error', optimizer='adam', metrics=['mean_absolute_error'])"
      ],
      "metadata": {
        "colab": {
          "base_uri": "https://localhost:8080/"
        },
        "id": "58LU_zfHkwY-",
        "outputId": "7d29a977-abe7-4419-b86e-eec5cb6c2127"
      },
      "execution_count": 14,
      "outputs": [
        {
          "output_type": "stream",
          "name": "stderr",
          "text": [
            "/usr/local/lib/python3.11/dist-packages/keras/src/layers/rnn/rnn.py:204: UserWarning: Do not pass an `input_shape`/`input_dim` argument to a layer. When using Sequential models, prefer using an `Input(shape)` object as the first layer in the model instead.\n",
            "  super().__init__(**kwargs)\n"
          ]
        }
      ]
    },
    {
      "cell_type": "code",
      "source": [
        "history = model.fit(X_train, y_train, epochs = 4, validation_data = (X_val, y_val), verbose = 1)"
      ],
      "metadata": {
        "colab": {
          "base_uri": "https://localhost:8080/"
        },
        "id": "ln2ZkEBrkxY6",
        "outputId": "30c6f28b-721a-4f12-fe98-ed1c011ac8d7"
      },
      "execution_count": null,
      "outputs": [
        {
          "output_type": "stream",
          "name": "stdout",
          "text": [
            "Epoch 1/4\n",
            "\u001b[1m2416/2416\u001b[0m \u001b[32m━━━━━━━━━━━━━━━━━━━━\u001b[0m\u001b[37m\u001b[0m \u001b[1m266s\u001b[0m 108ms/step - loss: 0.0963 - mean_absolute_error: 0.2709 - val_loss: 0.0799 - val_mean_absolute_error: 0.2356\n",
            "Epoch 2/4\n",
            "\u001b[1m 365/2416\u001b[0m \u001b[32m━━━\u001b[0m\u001b[37m━━━━━━━━━━━━━━━━━\u001b[0m \u001b[1m3:26\u001b[0m 101ms/step - loss: 0.0957 - mean_absolute_error: 0.2702"
          ]
        }
      ]
    },
    {
      "cell_type": "code",
      "source": [
        "#Plot of error and loss\n",
        "error = history.history['mean_absolute_error']\n",
        "val_error = history.history['val_mean_absolute_error']\n",
        "\n",
        "loss = history.history['loss']\n",
        "val_loss = history.history['val_loss']\n",
        "\n",
        "epochs_range = range(1, len(val_error)+1)\n",
        "plt.figure(figsize=(12, 4))\n",
        "\n",
        "plt.subplot(1, 2, 1)\n",
        "plt.plot(epochs_range, error, label='Training error')\n",
        "plt.plot(epochs_range, val_error, label='Validation error')\n",
        "plt.legend(loc='lower right')\n",
        "plt.xlim(1, len(val_error)+1)\n",
        "plt.title('Training and Validation error')\n",
        "\n",
        "plt.subplot(1, 2, 2)\n",
        "plt.plot(epochs_range, loss, label='Training Loss')\n",
        "plt.plot(epochs_range, val_loss, label='Validation Loss')\n",
        "plt.legend(loc='upper right')\n",
        "plt.xlim(1, len(val_error)+1)\n",
        "plt.title('Training and Validation Loss')\n",
        "plt.show()"
      ],
      "metadata": {
        "id": "g28ruYJtk3md"
      },
      "execution_count": null,
      "outputs": []
    },
    {
      "cell_type": "code",
      "source": [
        "test_predicted = model.predict(X_val)\n",
        "\n",
        "fig=plt.figure(figsize=(20,5))\n",
        "plt.subplot(1,2,1)\n",
        "plt.plot(test_predicted,label='Radiation, predicted')\n",
        "plt.plot(y_val,label=\"Radiation\")\n",
        "plt.title('Prediction on the global sample')\n",
        "plt.legend()"
      ],
      "metadata": {
        "id": "mscQprCtk5OQ"
      },
      "execution_count": null,
      "outputs": []
    },
    {
      "cell_type": "code",
      "source": [
        "fig=plt.figure(figsize=(20,5))\n",
        "plt.subplot(1,2,1)\n",
        "plt.plot(np.arange(3100,3700),test_predicted[3100:3700],label='Radiation, predicted')\n",
        "plt.plot(np.arange(3100,3700),y_val[3100:3700],label=\"Radiation\")\n",
        "plt.legend()"
      ],
      "metadata": {
        "id": "nI9xGzFSk6rp"
      },
      "execution_count": null,
      "outputs": []
    }
  ]
}