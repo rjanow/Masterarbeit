{
  "nbformat": 4,
  "nbformat_minor": 0,
  "metadata": {
    "colab": {
      "provenance": [],
      "include_colab_link": true
    },
    "kernelspec": {
      "name": "python3",
      "display_name": "Python 3"
    },
    "language_info": {
      "name": "python"
    }
  },
  "cells": [
    {
      "cell_type": "markdown",
      "metadata": {
        "id": "view-in-github",
        "colab_type": "text"
      },
      "source": [
        "<a href=\"https://colab.research.google.com/github/rjanow/Masterarbeit/blob/main/preprocessing_netCDF4_to_DF.ipynb\" target=\"_parent\"><img src=\"https://colab.research.google.com/assets/colab-badge.svg\" alt=\"Open In Colab\"/></a>"
      ]
    },
    {
      "cell_type": "markdown",
      "source": [
        "# Script um die netCDF4 Vorhersagewerte in einen Dataframe abzuspeichern"
      ],
      "metadata": {
        "id": "i2B2OHrSGmDT"
      }
    },
    {
      "cell_type": "markdown",
      "source": [
        "**Dokumentenname: netCDF4_to_CSV.ipynb**\n",
        "\n",
        "Es werden die Vorhersagedaten von CAMS aus dem netCDF4-Format in einen Dataframe umgewandelt."
      ],
      "metadata": {
        "id": "daD59hWqtJil"
      }
    },
    {
      "cell_type": "markdown",
      "source": [
        "## Allgemeine Einstelllungen:"
      ],
      "metadata": {
        "id": "JihVkTkbjiKN"
      }
    },
    {
      "cell_type": "code",
      "execution_count": 1,
      "metadata": {
        "colab": {
          "base_uri": "https://localhost:8080/"
        },
        "id": "-s8BHga-2vKo",
        "outputId": "89f7a030-6a18-449f-ee39-55926e0dbae8"
      },
      "outputs": [
        {
          "output_type": "stream",
          "name": "stdout",
          "text": [
            "Requirement already satisfied: netCDF4 in /usr/local/lib/python3.10/dist-packages (1.6.5)\n",
            "Requirement already satisfied: cftime in /usr/local/lib/python3.10/dist-packages (from netCDF4) (1.6.3)\n",
            "Requirement already satisfied: certifi in /usr/local/lib/python3.10/dist-packages (from netCDF4) (2024.2.2)\n",
            "Requirement already satisfied: numpy in /usr/local/lib/python3.10/dist-packages (from netCDF4) (1.25.2)\n"
          ]
        }
      ],
      "source": [
        "# Installation der netCDF4 Bibliothek, da diese nicht standardmäßig in Google-Colab implementiert ist.\n",
        "!pip install netCDF4"
      ]
    },
    {
      "cell_type": "markdown",
      "source": [
        "## Import der benötigten Module und allgemeines Setup:"
      ],
      "metadata": {
        "id": "Cc71yyMstuWW"
      }
    },
    {
      "cell_type": "code",
      "source": [
        "# Import der benötigten Module\n",
        "import os\n",
        "import pickle\n",
        "import netCDF4 as nc\n",
        "import numpy as np\n",
        "import pandas as pd\n",
        "import datetime as dt\n",
        "import matplotlib.pyplot as plt"
      ],
      "metadata": {
        "id": "aIT9A4pzVh0d"
      },
      "execution_count": 2,
      "outputs": []
    },
    {
      "cell_type": "markdown",
      "source": [
        "Mount der Google-Drive:"
      ],
      "metadata": {
        "id": "Mlo4MrUXt3vD"
      }
    },
    {
      "cell_type": "code",
      "source": [
        "from google.colab import drive\n",
        "\n",
        "# Mounten des Google-Drive Kontos\n",
        "drive.mount('/content/drive')"
      ],
      "metadata": {
        "colab": {
          "base_uri": "https://localhost:8080/"
        },
        "id": "h2_FeYPA_Mfq",
        "outputId": "979d757b-9235-4ad3-bbb5-85892d5dcd2d"
      },
      "execution_count": 3,
      "outputs": [
        {
          "output_type": "stream",
          "name": "stdout",
          "text": [
            "Drive already mounted at /content/drive; to attempt to forcibly remount, call drive.mount(\"/content/drive\", force_remount=True).\n"
          ]
        }
      ]
    },
    {
      "cell_type": "code",
      "source": [
        "# Zeit wird in Stunden seit 1.1.1900 00:00 angegeben\n",
        "origin = dt.datetime(1900, 1, 1, 0, 0, 0, 0)"
      ],
      "metadata": {
        "id": "WDT9g8r_LvX2"
      },
      "execution_count": 4,
      "outputs": []
    },
    {
      "cell_type": "code",
      "source": [
        "# Drive Ordner mit den Vorhersagewerten im NetCDF4-Format\n",
        "folder_import = '/content/drive/My Drive/Colab_Notebooks/netCDF4_Wetterdaten/'\n",
        "\n",
        "folder_export = '/content/drive/My Drive/Colab_Notebooks/CAMS_Vorhersage/'\n",
        "name_export = 'CAMS_std_CSV'"
      ],
      "metadata": {
        "id": "pALUt9Lh_Q4Y"
      },
      "execution_count": 5,
      "outputs": []
    },
    {
      "cell_type": "markdown",
      "source": [
        "## Einlesen der NetCDF4-Dateien:"
      ],
      "metadata": {
        "id": "mENI5XOei_ck"
      }
    },
    {
      "cell_type": "code",
      "source": [
        "def read_nc_files_in_google_drive(folder_path):\n",
        "    nc_files = []  # Liste, um die NetCDF4-Datensätze abzuspeichern\n",
        "\n",
        "    if os.path.exists(folder_path):\n",
        "        # Durchsuchen des Drive-Ordners nach Dateien\n",
        "        for file_name in os.listdir(folder_path):\n",
        "            file_path = os.path.join(folder_path, file_name)\n",
        "\n",
        "            # Überprüfen, ob die Datei eine NetCDF4-Datei ist\n",
        "            if file_name.endswith(\".nc\"):\n",
        "                try:\n",
        "                    # Öffnen der NetCDF4-Datei und huzfügen zur Liste\n",
        "                    nc_file = nc.Dataset(file_path)\n",
        "                    nc_files.append(nc_file)\n",
        "                    print(nc_file)\n",
        "                except Exception as e:\n",
        "                    print(f\"Fehler beim Öffnen von {file_name}: {str(e)}\")\n",
        "\n",
        "    return nc_files"
      ],
      "metadata": {
        "id": "raa9HC67BJ3O"
      },
      "execution_count": 6,
      "outputs": []
    },
    {
      "cell_type": "code",
      "source": [
        "# Funktionsaufruf zum Einlesen der NetCDF4-Dateien\n",
        "netcdf_files = read_nc_files_in_google_drive(folder_import)"
      ],
      "metadata": {
        "id": "qjoiyX9ABN9c",
        "colab": {
          "base_uri": "https://localhost:8080/"
        },
        "outputId": "62e63d4c-3300-40cd-df13-55e3b62a9997"
      },
      "execution_count": 7,
      "outputs": [
        {
          "output_type": "stream",
          "name": "stdout",
          "text": [
            "<class 'netCDF4._netCDF4.Dataset'>\n",
            "root group (NETCDF3_64BIT_OFFSET data model, file format NETCDF3):\n",
            "    Conventions: CF-1.6\n",
            "    history: 2023-10-26 11:10:13 GMT by grib_to_netcdf-2.25.1: /opt/ecmwf/mars-client/bin/grib_to_netcdf.bin -S param -o /cache/tmp/845854f7-e797-43e6-a680-0f7b20869ac9-adaptor.mars_constrained.external-1698318597.7512727-2202-23-tmp.nc /cache/tmp/845854f7-e797-43e6-a680-0f7b20869ac9-adaptor.mars_constrained.external-1698318591.7085574-2202-22-tmp.grib\n",
            "    dimensions(sizes): longitude(1), latitude(1), time(720)\n",
            "    variables(dimensions): float32 longitude(longitude), float32 latitude(latitude), int32 time(time), int16 t2m(time, latitude, longitude), int16 hcc(time, latitude, longitude), int16 lcc(time, latitude, longitude), int16 sund(time, latitude, longitude), int16 ssrd(time, latitude, longitude), int16 aod469(time, latitude, longitude), int16 aod550(time, latitude, longitude), int16 tcc(time, latitude, longitude), int16 gtco3(time, latitude, longitude), int16 tp(time, latitude, longitude), int16 uvbed(time, latitude, longitude), int16 uvbedcs(time, latitude, longitude), int16 d2m(time, latitude, longitude)\n",
            "    groups: \n",
            "<class 'netCDF4._netCDF4.Dataset'>\n",
            "root group (NETCDF3_64BIT_OFFSET data model, file format NETCDF3):\n",
            "    Conventions: CF-1.6\n",
            "    history: 2023-10-26 11:28:58 GMT by grib_to_netcdf-2.25.1: /opt/ecmwf/mars-client/bin/grib_to_netcdf.bin -S param -o /cache/tmp/8b940623-e899-4b4f-83cf-3a863c86b483-adaptor.mars_constrained.external-1698319722.6757488-4964-5-tmp.nc /cache/tmp/8b940623-e899-4b4f-83cf-3a863c86b483-adaptor.mars_constrained.external-1698319716.8285758-4964-4-tmp.grib\n",
            "    dimensions(sizes): longitude(1), latitude(1), time(744)\n",
            "    variables(dimensions): float32 longitude(longitude), float32 latitude(latitude), int32 time(time), int16 t2m(time, latitude, longitude), int16 hcc(time, latitude, longitude), int16 lcc(time, latitude, longitude), int16 sund(time, latitude, longitude), int16 ssrd(time, latitude, longitude), int16 aod469(time, latitude, longitude), int16 aod550(time, latitude, longitude), int16 tcc(time, latitude, longitude), int16 gtco3(time, latitude, longitude), int16 tp(time, latitude, longitude), int16 uvbed(time, latitude, longitude), int16 uvbedcs(time, latitude, longitude), int16 d2m(time, latitude, longitude)\n",
            "    groups: \n",
            "<class 'netCDF4._netCDF4.Dataset'>\n",
            "root group (NETCDF3_64BIT_OFFSET data model, file format NETCDF3):\n",
            "    Conventions: CF-1.6\n",
            "    history: 2023-10-26 11:49:34 GMT by grib_to_netcdf-2.25.1: /opt/ecmwf/mars-client/bin/grib_to_netcdf.bin -S param -o /cache/tmp/08266875-fc15-40d5-b660-776b59c2b279-adaptor.mars_constrained.external-1698320960.172149-23483-24-tmp.nc /cache/tmp/08266875-fc15-40d5-b660-776b59c2b279-adaptor.mars_constrained.external-1698320954.6184793-23483-23-tmp.grib\n",
            "    dimensions(sizes): longitude(1), latitude(1), time(744)\n",
            "    variables(dimensions): float32 longitude(longitude), float32 latitude(latitude), int32 time(time), int16 t2m(time, latitude, longitude), int16 hcc(time, latitude, longitude), int16 lcc(time, latitude, longitude), int16 sund(time, latitude, longitude), int16 ssrd(time, latitude, longitude), int16 aod469(time, latitude, longitude), int16 aod550(time, latitude, longitude), int16 tcc(time, latitude, longitude), int16 gtco3(time, latitude, longitude), int16 tp(time, latitude, longitude), int16 uvbed(time, latitude, longitude), int16 uvbedcs(time, latitude, longitude), int16 d2m(time, latitude, longitude)\n",
            "    groups: \n",
            "<class 'netCDF4._netCDF4.Dataset'>\n",
            "root group (NETCDF3_64BIT_OFFSET data model, file format NETCDF3):\n",
            "    Conventions: CF-1.6\n",
            "    history: 2023-10-26 14:18:57 GMT by grib_to_netcdf-2.25.1: /opt/ecmwf/mars-client/bin/grib_to_netcdf.bin -S param -o /cache/tmp/a0f5a8a5-08c0-4dbb-a3f7-b872fba3c652-adaptor.mars_constrained.external-1698329922.4978464-15368-4-tmp.nc /cache/tmp/a0f5a8a5-08c0-4dbb-a3f7-b872fba3c652-adaptor.mars_constrained.external-1698329916.831651-15368-3-tmp.grib\n",
            "    dimensions(sizes): longitude(1), latitude(1), time(744)\n",
            "    variables(dimensions): float32 longitude(longitude), float32 latitude(latitude), int32 time(time), int16 t2m(time, latitude, longitude), int16 hcc(time, latitude, longitude), int16 lcc(time, latitude, longitude), int16 sund(time, latitude, longitude), int16 ssrd(time, latitude, longitude), int16 aod469(time, latitude, longitude), int16 aod550(time, latitude, longitude), int16 tcc(time, latitude, longitude), int16 gtco3(time, latitude, longitude), int16 tp(time, latitude, longitude), int16 uvbed(time, latitude, longitude), int16 uvbedcs(time, latitude, longitude), int16 d2m(time, latitude, longitude)\n",
            "    groups: \n",
            "<class 'netCDF4._netCDF4.Dataset'>\n",
            "root group (NETCDF3_64BIT_OFFSET data model, file format NETCDF3):\n",
            "    Conventions: CF-1.6\n",
            "    history: 2023-10-26 14:47:59 GMT by grib_to_netcdf-2.25.1: /opt/ecmwf/mars-client/bin/grib_to_netcdf.bin -S param -o /cache/tmp/a8f3d588-e4c2-4a2f-a71f-80657f9f489f-adaptor.mars_constrained.external-1698331663.481272-30530-20-tmp.nc /cache/tmp/a8f3d588-e4c2-4a2f-a71f-80657f9f489f-adaptor.mars_constrained.external-1698331657.3417242-30530-19-tmp.grib\n",
            "    dimensions(sizes): longitude(1), latitude(1), time(720)\n",
            "    variables(dimensions): float32 longitude(longitude), float32 latitude(latitude), int32 time(time), int16 t2m(time, latitude, longitude), int16 hcc(time, latitude, longitude), int16 lcc(time, latitude, longitude), int16 sund(time, latitude, longitude), int16 ssrd(time, latitude, longitude), int16 aod469(time, latitude, longitude), int16 aod550(time, latitude, longitude), int16 tcc(time, latitude, longitude), int16 gtco3(time, latitude, longitude), int16 tp(time, latitude, longitude), int16 uvbed(time, latitude, longitude), int16 uvbedcs(time, latitude, longitude), int16 d2m(time, latitude, longitude)\n",
            "    groups: \n",
            "<class 'netCDF4._netCDF4.Dataset'>\n",
            "root group (NETCDF3_64BIT_OFFSET data model, file format NETCDF3):\n",
            "    Conventions: CF-1.6\n",
            "    history: 2023-10-26 16:15:17 GMT by grib_to_netcdf-2.25.1: /opt/ecmwf/mars-client/bin/grib_to_netcdf.bin -S param -o /cache/tmp/3dc39ee4-935c-4181-8a07-f5e6dc6fa388-adaptor.mars_constrained.external-1698336903.0086198-29113-4-tmp.nc /cache/tmp/3dc39ee4-935c-4181-8a07-f5e6dc6fa388-adaptor.mars_constrained.external-1698336897.1736546-29113-3-tmp.grib\n",
            "    dimensions(sizes): longitude(1), latitude(1), time(744)\n",
            "    variables(dimensions): float32 longitude(longitude), float32 latitude(latitude), int32 time(time), int16 t2m(time, latitude, longitude), int16 hcc(time, latitude, longitude), int16 lcc(time, latitude, longitude), int16 sund(time, latitude, longitude), int16 ssrd(time, latitude, longitude), int16 aod469(time, latitude, longitude), int16 aod550(time, latitude, longitude), int16 tcc(time, latitude, longitude), int16 gtco3(time, latitude, longitude), int16 tp(time, latitude, longitude), int16 uvbed(time, latitude, longitude), int16 uvbedcs(time, latitude, longitude), int16 d2m(time, latitude, longitude)\n",
            "    groups: \n",
            "<class 'netCDF4._netCDF4.Dataset'>\n",
            "root group (NETCDF3_64BIT_OFFSET data model, file format NETCDF3):\n",
            "    Conventions: CF-1.6\n",
            "    history: 2023-10-26 16:51:04 GMT by grib_to_netcdf-2.25.1: /opt/ecmwf/mars-client/bin/grib_to_netcdf.bin -S param -o /cache/tmp/bd94c5de-e26a-4139-b017-f5b865879488-adaptor.mars_constrained.external-1698339048.7823672-22032-16-tmp.nc /cache/tmp/bd94c5de-e26a-4139-b017-f5b865879488-adaptor.mars_constrained.external-1698339042.4092734-22032-15-tmp.grib\n",
            "    dimensions(sizes): longitude(1), latitude(1), time(744)\n",
            "    variables(dimensions): float32 longitude(longitude), float32 latitude(latitude), int32 time(time), int16 t2m(time, latitude, longitude), int16 hcc(time, latitude, longitude), int16 lcc(time, latitude, longitude), int16 sund(time, latitude, longitude), int16 ssrd(time, latitude, longitude), int16 aod469(time, latitude, longitude), int16 aod550(time, latitude, longitude), int16 tcc(time, latitude, longitude), int16 gtco3(time, latitude, longitude), int16 tp(time, latitude, longitude), int16 uvbed(time, latitude, longitude), int16 uvbedcs(time, latitude, longitude), int16 d2m(time, latitude, longitude)\n",
            "    groups: \n",
            "<class 'netCDF4._netCDF4.Dataset'>\n",
            "root group (NETCDF3_64BIT_OFFSET data model, file format NETCDF3):\n",
            "    Conventions: CF-1.6\n",
            "    history: 2023-10-26 17:07:33 GMT by grib_to_netcdf-2.25.1: /opt/ecmwf/mars-client/bin/grib_to_netcdf.bin -S param -o /cache/tmp/e4a576be-11f0-40c7-b0b3-0b557fcefa74-adaptor.mars_constrained.external-1698340039.2397387-11962-10-tmp.nc /cache/tmp/e4a576be-11f0-40c7-b0b3-0b557fcefa74-adaptor.mars_constrained.external-1698340033.689777-11962-9-tmp.grib\n",
            "    dimensions(sizes): longitude(1), latitude(1), time(672)\n",
            "    variables(dimensions): float32 longitude(longitude), float32 latitude(latitude), int32 time(time), int16 t2m(time, latitude, longitude), int16 hcc(time, latitude, longitude), int16 lcc(time, latitude, longitude), int16 sund(time, latitude, longitude), int16 ssrd(time, latitude, longitude), int16 aod469(time, latitude, longitude), int16 aod550(time, latitude, longitude), int16 tcc(time, latitude, longitude), int16 gtco3(time, latitude, longitude), int16 tp(time, latitude, longitude), int16 uvbed(time, latitude, longitude), int16 uvbedcs(time, latitude, longitude), int16 d2m(time, latitude, longitude)\n",
            "    groups: \n",
            "<class 'netCDF4._netCDF4.Dataset'>\n",
            "root group (NETCDF3_64BIT_OFFSET data model, file format NETCDF3):\n",
            "    Conventions: CF-1.6\n",
            "    history: 2023-10-26 18:24:23 GMT by grib_to_netcdf-2.25.1: /opt/ecmwf/mars-client/bin/grib_to_netcdf.bin -S param -o /cache/tmp/accd9b79-9286-4a95-ab17-b455c2fcad30-adaptor.mars_constrained.external-1698344648.1571152-31419-17-tmp.nc /cache/tmp/accd9b79-9286-4a95-ab17-b455c2fcad30-adaptor.mars_constrained.external-1698344642.4490526-31419-16-tmp.grib\n",
            "    dimensions(sizes): longitude(1), latitude(1), time(720)\n",
            "    variables(dimensions): float32 longitude(longitude), float32 latitude(latitude), int32 time(time), int16 t2m(time, latitude, longitude), int16 hcc(time, latitude, longitude), int16 lcc(time, latitude, longitude), int16 sund(time, latitude, longitude), int16 ssrd(time, latitude, longitude), int16 aod469(time, latitude, longitude), int16 aod550(time, latitude, longitude), int16 tcc(time, latitude, longitude), int16 gtco3(time, latitude, longitude), int16 tp(time, latitude, longitude), int16 uvbed(time, latitude, longitude), int16 uvbedcs(time, latitude, longitude), int16 d2m(time, latitude, longitude)\n",
            "    groups: \n",
            "<class 'netCDF4._netCDF4.Dataset'>\n",
            "root group (NETCDF3_64BIT_OFFSET data model, file format NETCDF3):\n",
            "    Conventions: CF-1.6\n",
            "    history: 2023-10-26 18:29:49 GMT by grib_to_netcdf-2.25.1: /opt/ecmwf/mars-client/bin/grib_to_netcdf.bin -S param -o /cache/tmp/a8f7f0c5-6552-47a6-accd-994f2e8fab8b-adaptor.mars_constrained.external-1698344974.0549178-12973-4-tmp.nc /cache/tmp/a8f7f0c5-6552-47a6-accd-994f2e8fab8b-adaptor.mars_constrained.external-1698344967.8143125-12973-3-tmp.grib\n",
            "    dimensions(sizes): longitude(1), latitude(1), time(744)\n",
            "    variables(dimensions): float32 longitude(longitude), float32 latitude(latitude), int32 time(time), int16 t2m(time, latitude, longitude), int16 hcc(time, latitude, longitude), int16 lcc(time, latitude, longitude), int16 sund(time, latitude, longitude), int16 ssrd(time, latitude, longitude), int16 aod469(time, latitude, longitude), int16 aod550(time, latitude, longitude), int16 tcc(time, latitude, longitude), int16 gtco3(time, latitude, longitude), int16 tp(time, latitude, longitude), int16 uvbed(time, latitude, longitude), int16 uvbedcs(time, latitude, longitude), int16 d2m(time, latitude, longitude)\n",
            "    groups: \n",
            "<class 'netCDF4._netCDF4.Dataset'>\n",
            "root group (NETCDF3_64BIT_OFFSET data model, file format NETCDF3):\n",
            "    Conventions: CF-1.6\n",
            "    history: 2023-10-26 18:54:42 GMT by grib_to_netcdf-2.25.1: /opt/ecmwf/mars-client/bin/grib_to_netcdf.bin -S param -o /cache/tmp/f12931c7-9b0a-47a2-9cca-fe07727ae325-adaptor.mars_constrained.external-1698346467.702886-25599-4-tmp.nc /cache/tmp/f12931c7-9b0a-47a2-9cca-fe07727ae325-adaptor.mars_constrained.external-1698346461.7551184-25599-3-tmp.grib\n",
            "    dimensions(sizes): longitude(1), latitude(1), time(744)\n",
            "    variables(dimensions): float32 longitude(longitude), float32 latitude(latitude), int32 time(time), int16 t2m(time, latitude, longitude), int16 hcc(time, latitude, longitude), int16 lcc(time, latitude, longitude), int16 sund(time, latitude, longitude), int16 ssrd(time, latitude, longitude), int16 aod469(time, latitude, longitude), int16 aod550(time, latitude, longitude), int16 tcc(time, latitude, longitude), int16 gtco3(time, latitude, longitude), int16 tp(time, latitude, longitude), int16 uvbed(time, latitude, longitude), int16 uvbedcs(time, latitude, longitude), int16 d2m(time, latitude, longitude)\n",
            "    groups: \n",
            "<class 'netCDF4._netCDF4.Dataset'>\n",
            "root group (NETCDF3_64BIT_OFFSET data model, file format NETCDF3):\n",
            "    Conventions: CF-1.6\n",
            "    history: 2023-10-26 20:58:07 GMT by grib_to_netcdf-2.25.1: /opt/ecmwf/mars-client/bin/grib_to_netcdf.bin -S param -o /cache/tmp/a3220f1d-18f9-44ab-95c9-149291692ce9-adaptor.mars_constrained.external-1698353872.714005-13743-18-tmp.nc /cache/tmp/a3220f1d-18f9-44ab-95c9-149291692ce9-adaptor.mars_constrained.external-1698353867.1810617-13743-17-tmp.grib\n",
            "    dimensions(sizes): longitude(1), latitude(1), time(744)\n",
            "    variables(dimensions): float32 longitude(longitude), float32 latitude(latitude), int32 time(time), int16 t2m(time, latitude, longitude), int16 hcc(time, latitude, longitude), int16 lcc(time, latitude, longitude), int16 sund(time, latitude, longitude), int16 ssrd(time, latitude, longitude), int16 aod469(time, latitude, longitude), int16 aod550(time, latitude, longitude), int16 tcc(time, latitude, longitude), int16 gtco3(time, latitude, longitude), int16 tp(time, latitude, longitude), int16 uvbed(time, latitude, longitude), int16 uvbedcs(time, latitude, longitude), int16 d2m(time, latitude, longitude)\n",
            "    groups: \n",
            "<class 'netCDF4._netCDF4.Dataset'>\n",
            "root group (NETCDF3_64BIT_OFFSET data model, file format NETCDF3):\n",
            "    Conventions: CF-1.6\n",
            "    history: 2023-10-26 21:21:38 GMT by grib_to_netcdf-2.25.1: /opt/ecmwf/mars-client/bin/grib_to_netcdf.bin -S param -o /cache/tmp/92c8e2ab-79b8-402b-a303-8bb19d78b38e-adaptor.mars_constrained.external-1698355283.6439552-18608-6-tmp.nc /cache/tmp/92c8e2ab-79b8-402b-a303-8bb19d78b38e-adaptor.mars_constrained.external-1698355277.8405747-18608-5-tmp.grib\n",
            "    dimensions(sizes): longitude(1), latitude(1), time(720)\n",
            "    variables(dimensions): float32 longitude(longitude), float32 latitude(latitude), int32 time(time), int16 t2m(time, latitude, longitude), int16 hcc(time, latitude, longitude), int16 lcc(time, latitude, longitude), int16 sund(time, latitude, longitude), int16 ssrd(time, latitude, longitude), int16 aod469(time, latitude, longitude), int16 aod550(time, latitude, longitude), int16 tcc(time, latitude, longitude), int16 gtco3(time, latitude, longitude), int16 tp(time, latitude, longitude), int16 uvbed(time, latitude, longitude), int16 uvbedcs(time, latitude, longitude), int16 d2m(time, latitude, longitude)\n",
            "    groups: \n",
            "<class 'netCDF4._netCDF4.Dataset'>\n",
            "root group (NETCDF3_64BIT_OFFSET data model, file format NETCDF3):\n",
            "    Conventions: CF-1.6\n",
            "    history: 2023-10-27 12:59:55 GMT by grib_to_netcdf-2.25.1: /opt/ecmwf/mars-client/bin/grib_to_netcdf.bin -S param -o /cache/tmp/e7b4b8f1-d278-4c37-a69f-efc812899edf-adaptor.mars_constrained.external-1698411580.3100214-14490-19-tmp.nc /cache/tmp/e7b4b8f1-d278-4c37-a69f-efc812899edf-adaptor.mars_constrained.external-1698411574.385799-14490-18-tmp.grib\n",
            "    dimensions(sizes): longitude(1), latitude(1), time(720)\n",
            "    variables(dimensions): float32 longitude(longitude), float32 latitude(latitude), int32 time(time), int16 t2m(time, latitude, longitude), int16 hcc(time, latitude, longitude), int16 lcc(time, latitude, longitude), int16 sund(time, latitude, longitude), int16 ssrd(time, latitude, longitude), int16 aod469(time, latitude, longitude), int16 aod550(time, latitude, longitude), int16 tcc(time, latitude, longitude), int16 gtco3(time, latitude, longitude), int16 tp(time, latitude, longitude), int16 uvbed(time, latitude, longitude), int16 uvbedcs(time, latitude, longitude), int16 d2m(time, latitude, longitude)\n",
            "    groups: \n"
          ]
        }
      ]
    },
    {
      "cell_type": "code",
      "source": [
        "# netcdf_files"
      ],
      "metadata": {
        "id": "60XudhcPW65D"
      },
      "execution_count": 8,
      "outputs": []
    },
    {
      "cell_type": "markdown",
      "source": [
        "## Variablen Deklaration:"
      ],
      "metadata": {
        "id": "F54mh2H2uNjd"
      }
    },
    {
      "cell_type": "code",
      "source": [
        "#Variablen Deklaration\n",
        "latitudes = np.empty((1, 1))\n",
        "longitudes = np.empty((1, 1))\n",
        "time = np.empty((1, 1))\n",
        "aod469 = np.empty((1, 1))   # Aerosol Optical Depth at 469\n",
        "aod550 = np.empty((1, 1))   # Aerosol Optical Depth at 550\n",
        "gtco3 = np.empty((1, 1))    # Total Ozon Column\n",
        "uvbed = np.empty((1, 1))    # UVI All-Sky\n",
        "uvbedcs = np.empty((1, 1))  # UVI Clear-Sky\n",
        "hcc = np.empty((1, 1))      # High-Cloud-Cover\n",
        "lcc = np.empty((1, 1))      # Low-Cloud-Cover\n",
        "tcc = np.empty((1, 1))      # Total-Cloud-Cover\n",
        "# neu\n",
        "tp = np.empty((1, 1))       # Total Precipitation\n",
        "d2m = np.empty((1, 1))      # 2 Metre Dewpoint Temperature\n",
        "t2m = np.empty((1, 1))      # 2 Metre Temperature\n",
        "sund = np.empty((1, 1))     # Sunshine Duration\n",
        "ssrd = np.empty((1, 1))     # Surface Solar Radiation Downwards"
      ],
      "metadata": {
        "id": "UoEl-3yuEr3B"
      },
      "execution_count": 9,
      "outputs": []
    },
    {
      "cell_type": "code",
      "source": [
        "# Zuordnen der Variabeln zu entsprechenden NP-Arrays\n",
        "# fehlende Werte werden durch NaN Werte ersetzt, das mehrdimensionale Array wird zu einem eindimensonalen formatiert\n",
        "\n",
        "for nc_file in netcdf_files:\n",
        "    latitudes = np.append(latitudes, nc_file.variables['latitude'][0])\n",
        "    longitudes = np.append(longitudes, nc_file.variables['longitude'][0])\n",
        "    time = np.append(time, nc_file.variables['time'][:].filled(np.nan))\n",
        "    aod469 = np.append(aod469, nc_file.variables['aod469'][:].filled(np.nan).reshape(-3))\n",
        "    aod550 = np.append(aod550, nc_file.variables['aod550'][:].filled(np.nan).reshape(-3))\n",
        "    gtco3 = np.append(gtco3, nc_file.variables['gtco3'][:].filled(np.nan).reshape(-3))\n",
        "    uvbed = np.append(uvbed, nc_file.variables['uvbed'][:].filled(np.nan).reshape(-3))\n",
        "    uvbedcs = np.append(uvbedcs, nc_file.variables['uvbedcs'][:].filled(np.nan).reshape(-3))\n",
        "    hcc = np.append(hcc, nc_file.variables['hcc'][:].filled(np.nan).reshape(-3))\n",
        "    lcc = np.append(lcc, nc_file.variables['lcc'][:].filled(np.nan).reshape(-3))\n",
        "    tcc = np.append(tcc, nc_file.variables['tcc'][:].filled(np.nan).reshape(-3))\n",
        "    # neu\n",
        "    tp = np.append(uvbedcs, nc_file.variables['tp'][:].filled(np.nan).reshape(-3))\n",
        "    d2m = np.append(hcc, nc_file.variables['d2m'][:].filled(np.nan).reshape(-3))\n",
        "    t2m = np.append(lcc, nc_file.variables['t2m'][:].filled(np.nan).reshape(-3))\n",
        "    sund = np.append(tcc, nc_file.variables['sund'][:].filled(np.nan).reshape(-3))\n",
        "    ssrd = np.append(tcc, nc_file.variables['ssrd'][:].filled(np.nan).reshape(-3))"
      ],
      "metadata": {
        "id": "WpEhJuiYGKJf"
      },
      "execution_count": 10,
      "outputs": []
    },
    {
      "cell_type": "code",
      "source": [
        "# Größe der verschiedenen Datensätze\n",
        "print(len(time), len(aod469), len(aod550), len(uvbed), len(uvbedcs), len(hcc), len(lcc), len(tcc), len(tp), len(d2m), len(t2m), len(sund), len(ssrd))"
      ],
      "metadata": {
        "colab": {
          "base_uri": "https://localhost:8080/"
        },
        "id": "-FxwLLuggWMF",
        "outputId": "5ede69c4-2be1-4deb-9a4e-af06ad357836"
      },
      "execution_count": 11,
      "outputs": [
        {
          "output_type": "stream",
          "name": "stdout",
          "text": [
            "10225 10225 10225 10225 10225 10225 10225 10225 10945 10945 10945 10945 10945\n"
          ]
        }
      ]
    },
    {
      "cell_type": "markdown",
      "source": [
        "## Berechnen der richtigen DateTime-Werte und erstellen eines Dataframes:"
      ],
      "metadata": {
        "id": "r8P4Gg-rufVl"
      }
    },
    {
      "cell_type": "code",
      "source": [
        "# richtigen Zeitstempel berechnen\n",
        "datetime = np.empty((1,1))\n",
        "datetime = np.array([origin + dt.timedelta(hours=int(i)) for i in time])"
      ],
      "metadata": {
        "id": "V8Sfh_WRC5pi"
      },
      "execution_count": 12,
      "outputs": []
    },
    {
      "cell_type": "code",
      "source": [
        "# Zuorden der NP-Arrays in einen Dataframe\n",
        "df_cams = pd.DataFrame({'Datetime': datetime, 'aod469': aod469, 'aod550': aod550, 'gtco3': gtco3,\n",
        "                         'uvbed': uvbed,'uvbedcs': uvbedcs, 'hcc': hcc, 'lcc': lcc, 'tcc': tcc})"
      ],
      "metadata": {
        "id": "PdvXQnQBULsX"
      },
      "execution_count": 13,
      "outputs": []
    },
    {
      "cell_type": "code",
      "source": [
        "# UV-Index berechnen\n",
        "df_cams['uvbed'] = df_cams['uvbed'] * 40\n",
        "df_cams['uvbedcs'] = df_cams['uvbedcs'] * 40"
      ],
      "metadata": {
        "id": "IV3PuyvhT7gI"
      },
      "execution_count": 14,
      "outputs": []
    },
    {
      "cell_type": "code",
      "source": [
        "# Zeitstempel in Pandas-DateTime umwandeln\n",
        "df_cams['Datetime'] = pd.to_datetime(df_cams['Datetime'], format='%Y-%m-%d %H:%M:%S')\n",
        "# Index des DF setzen\n",
        "df_cams.set_index('Datetime', inplace=True)"
      ],
      "metadata": {
        "id": "a2ZkgFNvmks9"
      },
      "execution_count": 15,
      "outputs": []
    },
    {
      "cell_type": "code",
      "source": [
        "# Sontieren des DataFrame in die richtige Reihenfolge\n",
        "df_cams_sorted = pd.DataFrame()\n",
        "df_cams_sorted = df_cams.sort_index().drop(df_cams.index[0])"
      ],
      "metadata": {
        "id": "iayKm6uoF_B5"
      },
      "execution_count": 16,
      "outputs": []
    },
    {
      "cell_type": "code",
      "source": [
        "# Ausgabe des sotierten Dataframes\n",
        "df_cams_sorted"
      ],
      "metadata": {
        "id": "PyHPpi-tLZKQ",
        "colab": {
          "base_uri": "https://localhost:8080/",
          "height": 455
        },
        "outputId": "c2e7a7ff-c859-4a39-8c30-1f3f7084960a"
      },
      "execution_count": 17,
      "outputs": [
        {
          "output_type": "execute_result",
          "data": {
            "text/plain": [
              "                       aod469    aod550     gtco3         uvbed       uvbedcs  \\\n",
              "Datetime                                                                        \n",
              "2022-06-01 00:00:00  0.261836  0.211588  0.008161 -5.551115e-16  5.551115e-16   \n",
              "2022-06-01 01:00:00  0.272371  0.220283  0.008044 -5.551115e-16  5.551115e-16   \n",
              "2022-06-01 02:00:00  0.237297  0.190401  0.007992 -5.551115e-16  5.551115e-16   \n",
              "2022-06-01 03:00:00  0.195020  0.155880  0.007971 -5.551115e-16  5.551115e-16   \n",
              "2022-06-01 04:00:00  0.164975  0.131777  0.007959  7.204596e-02  7.198133e-02   \n",
              "...                       ...       ...       ...           ...           ...   \n",
              "2023-07-31 19:00:00  0.131174  0.109557  0.006663  5.551115e-16  5.551115e-16   \n",
              "2023-07-31 20:00:00  0.126791  0.106162  0.006666  5.551115e-16  5.551115e-16   \n",
              "2023-07-31 21:00:00  0.133466  0.111809  0.006700  5.551115e-16  5.551115e-16   \n",
              "2023-07-31 22:00:00  0.162170  0.136924  0.006741  5.551115e-16  5.551115e-16   \n",
              "2023-07-31 23:00:00  0.148363  0.125927  0.006755  5.551115e-16  5.551115e-16   \n",
              "\n",
              "                          hcc       lcc       tcc  \n",
              "Datetime                                           \n",
              "2022-06-01 00:00:00  0.000000  0.000000  0.504647  \n",
              "2022-06-01 01:00:00  0.000000  0.000000  0.681122  \n",
              "2022-06-01 02:00:00  0.124487  0.015687  0.414249  \n",
              "2022-06-01 03:00:00  0.071994  0.005310  0.076343  \n",
              "2022-06-01 04:00:00  0.000000  0.001114  0.001785  \n",
              "...                       ...       ...       ...  \n",
              "2023-07-31 19:00:00  1.000000  0.259121  1.000000  \n",
              "2023-07-31 20:00:00  1.000000  0.473365  1.000000  \n",
              "2023-07-31 21:00:00  0.999878  0.934537  1.000000  \n",
              "2023-07-31 22:00:00  1.000000  0.984985  1.000000  \n",
              "2023-07-31 23:00:00  1.000000  0.812720  1.000000  \n",
              "\n",
              "[10224 rows x 8 columns]"
            ],
            "text/html": [
              "\n",
              "  <div id=\"df-f560f562-ef61-4e34-9300-abea664a7200\" class=\"colab-df-container\">\n",
              "    <div>\n",
              "<style scoped>\n",
              "    .dataframe tbody tr th:only-of-type {\n",
              "        vertical-align: middle;\n",
              "    }\n",
              "\n",
              "    .dataframe tbody tr th {\n",
              "        vertical-align: top;\n",
              "    }\n",
              "\n",
              "    .dataframe thead th {\n",
              "        text-align: right;\n",
              "    }\n",
              "</style>\n",
              "<table border=\"1\" class=\"dataframe\">\n",
              "  <thead>\n",
              "    <tr style=\"text-align: right;\">\n",
              "      <th></th>\n",
              "      <th>aod469</th>\n",
              "      <th>aod550</th>\n",
              "      <th>gtco3</th>\n",
              "      <th>uvbed</th>\n",
              "      <th>uvbedcs</th>\n",
              "      <th>hcc</th>\n",
              "      <th>lcc</th>\n",
              "      <th>tcc</th>\n",
              "    </tr>\n",
              "    <tr>\n",
              "      <th>Datetime</th>\n",
              "      <th></th>\n",
              "      <th></th>\n",
              "      <th></th>\n",
              "      <th></th>\n",
              "      <th></th>\n",
              "      <th></th>\n",
              "      <th></th>\n",
              "      <th></th>\n",
              "    </tr>\n",
              "  </thead>\n",
              "  <tbody>\n",
              "    <tr>\n",
              "      <th>2022-06-01 00:00:00</th>\n",
              "      <td>0.261836</td>\n",
              "      <td>0.211588</td>\n",
              "      <td>0.008161</td>\n",
              "      <td>-5.551115e-16</td>\n",
              "      <td>5.551115e-16</td>\n",
              "      <td>0.000000</td>\n",
              "      <td>0.000000</td>\n",
              "      <td>0.504647</td>\n",
              "    </tr>\n",
              "    <tr>\n",
              "      <th>2022-06-01 01:00:00</th>\n",
              "      <td>0.272371</td>\n",
              "      <td>0.220283</td>\n",
              "      <td>0.008044</td>\n",
              "      <td>-5.551115e-16</td>\n",
              "      <td>5.551115e-16</td>\n",
              "      <td>0.000000</td>\n",
              "      <td>0.000000</td>\n",
              "      <td>0.681122</td>\n",
              "    </tr>\n",
              "    <tr>\n",
              "      <th>2022-06-01 02:00:00</th>\n",
              "      <td>0.237297</td>\n",
              "      <td>0.190401</td>\n",
              "      <td>0.007992</td>\n",
              "      <td>-5.551115e-16</td>\n",
              "      <td>5.551115e-16</td>\n",
              "      <td>0.124487</td>\n",
              "      <td>0.015687</td>\n",
              "      <td>0.414249</td>\n",
              "    </tr>\n",
              "    <tr>\n",
              "      <th>2022-06-01 03:00:00</th>\n",
              "      <td>0.195020</td>\n",
              "      <td>0.155880</td>\n",
              "      <td>0.007971</td>\n",
              "      <td>-5.551115e-16</td>\n",
              "      <td>5.551115e-16</td>\n",
              "      <td>0.071994</td>\n",
              "      <td>0.005310</td>\n",
              "      <td>0.076343</td>\n",
              "    </tr>\n",
              "    <tr>\n",
              "      <th>2022-06-01 04:00:00</th>\n",
              "      <td>0.164975</td>\n",
              "      <td>0.131777</td>\n",
              "      <td>0.007959</td>\n",
              "      <td>7.204596e-02</td>\n",
              "      <td>7.198133e-02</td>\n",
              "      <td>0.000000</td>\n",
              "      <td>0.001114</td>\n",
              "      <td>0.001785</td>\n",
              "    </tr>\n",
              "    <tr>\n",
              "      <th>...</th>\n",
              "      <td>...</td>\n",
              "      <td>...</td>\n",
              "      <td>...</td>\n",
              "      <td>...</td>\n",
              "      <td>...</td>\n",
              "      <td>...</td>\n",
              "      <td>...</td>\n",
              "      <td>...</td>\n",
              "    </tr>\n",
              "    <tr>\n",
              "      <th>2023-07-31 19:00:00</th>\n",
              "      <td>0.131174</td>\n",
              "      <td>0.109557</td>\n",
              "      <td>0.006663</td>\n",
              "      <td>5.551115e-16</td>\n",
              "      <td>5.551115e-16</td>\n",
              "      <td>1.000000</td>\n",
              "      <td>0.259121</td>\n",
              "      <td>1.000000</td>\n",
              "    </tr>\n",
              "    <tr>\n",
              "      <th>2023-07-31 20:00:00</th>\n",
              "      <td>0.126791</td>\n",
              "      <td>0.106162</td>\n",
              "      <td>0.006666</td>\n",
              "      <td>5.551115e-16</td>\n",
              "      <td>5.551115e-16</td>\n",
              "      <td>1.000000</td>\n",
              "      <td>0.473365</td>\n",
              "      <td>1.000000</td>\n",
              "    </tr>\n",
              "    <tr>\n",
              "      <th>2023-07-31 21:00:00</th>\n",
              "      <td>0.133466</td>\n",
              "      <td>0.111809</td>\n",
              "      <td>0.006700</td>\n",
              "      <td>5.551115e-16</td>\n",
              "      <td>5.551115e-16</td>\n",
              "      <td>0.999878</td>\n",
              "      <td>0.934537</td>\n",
              "      <td>1.000000</td>\n",
              "    </tr>\n",
              "    <tr>\n",
              "      <th>2023-07-31 22:00:00</th>\n",
              "      <td>0.162170</td>\n",
              "      <td>0.136924</td>\n",
              "      <td>0.006741</td>\n",
              "      <td>5.551115e-16</td>\n",
              "      <td>5.551115e-16</td>\n",
              "      <td>1.000000</td>\n",
              "      <td>0.984985</td>\n",
              "      <td>1.000000</td>\n",
              "    </tr>\n",
              "    <tr>\n",
              "      <th>2023-07-31 23:00:00</th>\n",
              "      <td>0.148363</td>\n",
              "      <td>0.125927</td>\n",
              "      <td>0.006755</td>\n",
              "      <td>5.551115e-16</td>\n",
              "      <td>5.551115e-16</td>\n",
              "      <td>1.000000</td>\n",
              "      <td>0.812720</td>\n",
              "      <td>1.000000</td>\n",
              "    </tr>\n",
              "  </tbody>\n",
              "</table>\n",
              "<p>10224 rows × 8 columns</p>\n",
              "</div>\n",
              "    <div class=\"colab-df-buttons\">\n",
              "\n",
              "  <div class=\"colab-df-container\">\n",
              "    <button class=\"colab-df-convert\" onclick=\"convertToInteractive('df-f560f562-ef61-4e34-9300-abea664a7200')\"\n",
              "            title=\"Convert this dataframe to an interactive table.\"\n",
              "            style=\"display:none;\">\n",
              "\n",
              "  <svg xmlns=\"http://www.w3.org/2000/svg\" height=\"24px\" viewBox=\"0 -960 960 960\">\n",
              "    <path d=\"M120-120v-720h720v720H120Zm60-500h600v-160H180v160Zm220 220h160v-160H400v160Zm0 220h160v-160H400v160ZM180-400h160v-160H180v160Zm440 0h160v-160H620v160ZM180-180h160v-160H180v160Zm440 0h160v-160H620v160Z\"/>\n",
              "  </svg>\n",
              "    </button>\n",
              "\n",
              "  <style>\n",
              "    .colab-df-container {\n",
              "      display:flex;\n",
              "      gap: 12px;\n",
              "    }\n",
              "\n",
              "    .colab-df-convert {\n",
              "      background-color: #E8F0FE;\n",
              "      border: none;\n",
              "      border-radius: 50%;\n",
              "      cursor: pointer;\n",
              "      display: none;\n",
              "      fill: #1967D2;\n",
              "      height: 32px;\n",
              "      padding: 0 0 0 0;\n",
              "      width: 32px;\n",
              "    }\n",
              "\n",
              "    .colab-df-convert:hover {\n",
              "      background-color: #E2EBFA;\n",
              "      box-shadow: 0px 1px 2px rgba(60, 64, 67, 0.3), 0px 1px 3px 1px rgba(60, 64, 67, 0.15);\n",
              "      fill: #174EA6;\n",
              "    }\n",
              "\n",
              "    .colab-df-buttons div {\n",
              "      margin-bottom: 4px;\n",
              "    }\n",
              "\n",
              "    [theme=dark] .colab-df-convert {\n",
              "      background-color: #3B4455;\n",
              "      fill: #D2E3FC;\n",
              "    }\n",
              "\n",
              "    [theme=dark] .colab-df-convert:hover {\n",
              "      background-color: #434B5C;\n",
              "      box-shadow: 0px 1px 3px 1px rgba(0, 0, 0, 0.15);\n",
              "      filter: drop-shadow(0px 1px 2px rgba(0, 0, 0, 0.3));\n",
              "      fill: #FFFFFF;\n",
              "    }\n",
              "  </style>\n",
              "\n",
              "    <script>\n",
              "      const buttonEl =\n",
              "        document.querySelector('#df-f560f562-ef61-4e34-9300-abea664a7200 button.colab-df-convert');\n",
              "      buttonEl.style.display =\n",
              "        google.colab.kernel.accessAllowed ? 'block' : 'none';\n",
              "\n",
              "      async function convertToInteractive(key) {\n",
              "        const element = document.querySelector('#df-f560f562-ef61-4e34-9300-abea664a7200');\n",
              "        const dataTable =\n",
              "          await google.colab.kernel.invokeFunction('convertToInteractive',\n",
              "                                                    [key], {});\n",
              "        if (!dataTable) return;\n",
              "\n",
              "        const docLinkHtml = 'Like what you see? Visit the ' +\n",
              "          '<a target=\"_blank\" href=https://colab.research.google.com/notebooks/data_table.ipynb>data table notebook</a>'\n",
              "          + ' to learn more about interactive tables.';\n",
              "        element.innerHTML = '';\n",
              "        dataTable['output_type'] = 'display_data';\n",
              "        await google.colab.output.renderOutput(dataTable, element);\n",
              "        const docLink = document.createElement('div');\n",
              "        docLink.innerHTML = docLinkHtml;\n",
              "        element.appendChild(docLink);\n",
              "      }\n",
              "    </script>\n",
              "  </div>\n",
              "\n",
              "\n",
              "<div id=\"df-2f4bc89d-7f5d-4c2b-a09a-8266ddbf19fa\">\n",
              "  <button class=\"colab-df-quickchart\" onclick=\"quickchart('df-2f4bc89d-7f5d-4c2b-a09a-8266ddbf19fa')\"\n",
              "            title=\"Suggest charts\"\n",
              "            style=\"display:none;\">\n",
              "\n",
              "<svg xmlns=\"http://www.w3.org/2000/svg\" height=\"24px\"viewBox=\"0 0 24 24\"\n",
              "     width=\"24px\">\n",
              "    <g>\n",
              "        <path d=\"M19 3H5c-1.1 0-2 .9-2 2v14c0 1.1.9 2 2 2h14c1.1 0 2-.9 2-2V5c0-1.1-.9-2-2-2zM9 17H7v-7h2v7zm4 0h-2V7h2v10zm4 0h-2v-4h2v4z\"/>\n",
              "    </g>\n",
              "</svg>\n",
              "  </button>\n",
              "\n",
              "<style>\n",
              "  .colab-df-quickchart {\n",
              "      --bg-color: #E8F0FE;\n",
              "      --fill-color: #1967D2;\n",
              "      --hover-bg-color: #E2EBFA;\n",
              "      --hover-fill-color: #174EA6;\n",
              "      --disabled-fill-color: #AAA;\n",
              "      --disabled-bg-color: #DDD;\n",
              "  }\n",
              "\n",
              "  [theme=dark] .colab-df-quickchart {\n",
              "      --bg-color: #3B4455;\n",
              "      --fill-color: #D2E3FC;\n",
              "      --hover-bg-color: #434B5C;\n",
              "      --hover-fill-color: #FFFFFF;\n",
              "      --disabled-bg-color: #3B4455;\n",
              "      --disabled-fill-color: #666;\n",
              "  }\n",
              "\n",
              "  .colab-df-quickchart {\n",
              "    background-color: var(--bg-color);\n",
              "    border: none;\n",
              "    border-radius: 50%;\n",
              "    cursor: pointer;\n",
              "    display: none;\n",
              "    fill: var(--fill-color);\n",
              "    height: 32px;\n",
              "    padding: 0;\n",
              "    width: 32px;\n",
              "  }\n",
              "\n",
              "  .colab-df-quickchart:hover {\n",
              "    background-color: var(--hover-bg-color);\n",
              "    box-shadow: 0 1px 2px rgba(60, 64, 67, 0.3), 0 1px 3px 1px rgba(60, 64, 67, 0.15);\n",
              "    fill: var(--button-hover-fill-color);\n",
              "  }\n",
              "\n",
              "  .colab-df-quickchart-complete:disabled,\n",
              "  .colab-df-quickchart-complete:disabled:hover {\n",
              "    background-color: var(--disabled-bg-color);\n",
              "    fill: var(--disabled-fill-color);\n",
              "    box-shadow: none;\n",
              "  }\n",
              "\n",
              "  .colab-df-spinner {\n",
              "    border: 2px solid var(--fill-color);\n",
              "    border-color: transparent;\n",
              "    border-bottom-color: var(--fill-color);\n",
              "    animation:\n",
              "      spin 1s steps(1) infinite;\n",
              "  }\n",
              "\n",
              "  @keyframes spin {\n",
              "    0% {\n",
              "      border-color: transparent;\n",
              "      border-bottom-color: var(--fill-color);\n",
              "      border-left-color: var(--fill-color);\n",
              "    }\n",
              "    20% {\n",
              "      border-color: transparent;\n",
              "      border-left-color: var(--fill-color);\n",
              "      border-top-color: var(--fill-color);\n",
              "    }\n",
              "    30% {\n",
              "      border-color: transparent;\n",
              "      border-left-color: var(--fill-color);\n",
              "      border-top-color: var(--fill-color);\n",
              "      border-right-color: var(--fill-color);\n",
              "    }\n",
              "    40% {\n",
              "      border-color: transparent;\n",
              "      border-right-color: var(--fill-color);\n",
              "      border-top-color: var(--fill-color);\n",
              "    }\n",
              "    60% {\n",
              "      border-color: transparent;\n",
              "      border-right-color: var(--fill-color);\n",
              "    }\n",
              "    80% {\n",
              "      border-color: transparent;\n",
              "      border-right-color: var(--fill-color);\n",
              "      border-bottom-color: var(--fill-color);\n",
              "    }\n",
              "    90% {\n",
              "      border-color: transparent;\n",
              "      border-bottom-color: var(--fill-color);\n",
              "    }\n",
              "  }\n",
              "</style>\n",
              "\n",
              "  <script>\n",
              "    async function quickchart(key) {\n",
              "      const quickchartButtonEl =\n",
              "        document.querySelector('#' + key + ' button');\n",
              "      quickchartButtonEl.disabled = true;  // To prevent multiple clicks.\n",
              "      quickchartButtonEl.classList.add('colab-df-spinner');\n",
              "      try {\n",
              "        const charts = await google.colab.kernel.invokeFunction(\n",
              "            'suggestCharts', [key], {});\n",
              "      } catch (error) {\n",
              "        console.error('Error during call to suggestCharts:', error);\n",
              "      }\n",
              "      quickchartButtonEl.classList.remove('colab-df-spinner');\n",
              "      quickchartButtonEl.classList.add('colab-df-quickchart-complete');\n",
              "    }\n",
              "    (() => {\n",
              "      let quickchartButtonEl =\n",
              "        document.querySelector('#df-2f4bc89d-7f5d-4c2b-a09a-8266ddbf19fa button');\n",
              "      quickchartButtonEl.style.display =\n",
              "        google.colab.kernel.accessAllowed ? 'block' : 'none';\n",
              "    })();\n",
              "  </script>\n",
              "</div>\n",
              "    </div>\n",
              "  </div>\n"
            ],
            "application/vnd.google.colaboratory.intrinsic+json": {
              "type": "dataframe",
              "variable_name": "df_cams_sorted",
              "summary": "{\n  \"name\": \"df_cams_sorted\",\n  \"rows\": 10224,\n  \"fields\": [\n    {\n      \"column\": \"Datetime\",\n      \"properties\": {\n        \"dtype\": \"date\",\n        \"min\": \"2022-06-01 00:00:00\",\n        \"max\": \"2023-07-31 23:00:00\",\n        \"num_unique_values\": 10224,\n        \"samples\": [\n          \"2023-01-11 03:00:00\",\n          \"2023-07-24 21:00:00\",\n          \"2023-03-14 11:00:00\"\n        ],\n        \"semantic_type\": \"\",\n        \"description\": \"\"\n      }\n    },\n    {\n      \"column\": \"aod469\",\n      \"properties\": {\n        \"dtype\": \"number\",\n        \"std\": 0.14414652801719752,\n        \"min\": 0.02160317450761795,\n        \"max\": 1.3453960418701172,\n        \"num_unique_values\": 10056,\n        \"samples\": [\n          0.2946590299603268,\n          0.05429706644391506,\n          0.09779658908746347\n        ],\n        \"semantic_type\": \"\",\n        \"description\": \"\"\n      }\n    },\n    {\n      \"column\": \"aod550\",\n      \"properties\": {\n        \"dtype\": \"number\",\n        \"std\": 0.1184515181634329,\n        \"min\": 0.017586197704076767,\n        \"max\": 1.1227216720581055,\n        \"num_unique_values\": 10057,\n        \"samples\": [\n          0.21096586634732833,\n          0.04757084581189379,\n          0.08166072045117939\n        ],\n        \"semantic_type\": \"\",\n        \"description\": \"\"\n      }\n    },\n    {\n      \"column\": \"gtco3\",\n      \"properties\": {\n        \"dtype\": \"number\",\n        \"std\": 0.0007686963267695072,\n        \"min\": 0.004843380302190781,\n        \"max\": 0.010137714445590973,\n        \"num_unique_values\": 10141,\n        \"samples\": [\n          0.006861503803617501,\n          0.006421051736018187,\n          0.007052179122453913\n        ],\n        \"semantic_type\": \"\",\n        \"description\": \"\"\n      }\n    },\n    {\n      \"column\": \"uvbed\",\n      \"properties\": {\n        \"dtype\": \"number\",\n        \"std\": 1.4934870454001576,\n        \"min\": -5.551115123125783e-16,\n        \"max\": 7.96558141708374,\n        \"num_unique_values\": 5319,\n        \"samples\": [\n          0.04346498814309929,\n          0.8496100453646621,\n          0.006099364610301916\n        ],\n        \"semantic_type\": \"\",\n        \"description\": \"\"\n      }\n    },\n    {\n      \"column\": \"uvbedcs\",\n      \"properties\": {\n        \"dtype\": \"number\",\n        \"std\": 1.8290045932679737,\n        \"min\": -5.551115123125783e-16,\n        \"max\": 7.98314094543457,\n        \"num_unique_values\": 5329,\n        \"samples\": [\n          5.1431628996439684,\n          1.8272138668955167,\n          1.7564272362846114\n        ],\n        \"semantic_type\": \"\",\n        \"description\": \"\"\n      }\n    },\n    {\n      \"column\": \"hcc\",\n      \"properties\": {\n        \"dtype\": \"number\",\n        \"std\": 0.4325435552276325,\n        \"min\": 0.0,\n        \"max\": 1.0,\n        \"num_unique_values\": 4984,\n        \"samples\": [\n          0.6092350418872934,\n          0.020615567729235673,\n          0.05816916667938293\n        ],\n        \"semantic_type\": \"\",\n        \"description\": \"\"\n      }\n    },\n    {\n      \"column\": \"lcc\",\n      \"properties\": {\n        \"dtype\": \"number\",\n        \"std\": 0.41202051342878576,\n        \"min\": 0.0,\n        \"max\": 1.0,\n        \"num_unique_values\": 5468,\n        \"samples\": [\n          0.6462698182595028,\n          0.7455785634718386,\n          0.09415103840813027\n        ],\n        \"semantic_type\": \"\",\n        \"description\": \"\"\n      }\n    },\n    {\n      \"column\": \"tcc\",\n      \"properties\": {\n        \"dtype\": \"number\",\n        \"std\": 0.3865343182123058,\n        \"min\": 0.0,\n        \"max\": 1.0,\n        \"num_unique_values\": 5596,\n        \"samples\": [\n          0.4529626295149009,\n          0.06410510735049518,\n          0.9881586376329483\n        ],\n        \"semantic_type\": \"\",\n        \"description\": \"\"\n      }\n    }\n  ]\n}"
            }
          },
          "metadata": {},
          "execution_count": 17
        }
      ]
    },
    {
      "cell_type": "markdown",
      "source": [
        "## Prüfen, ob der Dataframe alle Einträge enthält:"
      ],
      "metadata": {
        "id": "XaRfKKbmndO7"
      }
    },
    {
      "cell_type": "code",
      "source": [
        "# Prüfen, ob der Dataframe alle Einträge enthält\n",
        "for i in range(len(df_cams_sorted) - 1):\n",
        "    time_diff = df_cams_sorted.index[i + 1] - df_cams_sorted.index[i]\n",
        "    if time_diff != pd.to_timedelta('1H'):\n",
        "        print(f\"Index {i} und Index {i + 1} haben keinen Abstand von einer Stunde.\")"
      ],
      "metadata": {
        "id": "hJIvtXFbL4Ji"
      },
      "execution_count": 18,
      "outputs": []
    },
    {
      "cell_type": "markdown",
      "source": [
        "## Abspeichern des Dataframes mit stündlicher Auflösung:"
      ],
      "metadata": {
        "id": "zjKvaqw4jU0n"
      }
    },
    {
      "cell_type": "code",
      "source": [
        "def save_dataframe_to_drive(dataframe, folder_path, filename):\n",
        "\n",
        "    # Erstellen des vollen Pfades zur Datei\n",
        "    full_path = os.path.join(folder_path, filename)\n",
        "\n",
        "    # Speichern des DataFrame als CSV-Datei auf Google-Drive\n",
        "    dataframe.to_csv(full_path)\n",
        "\n",
        "    print(f'Der DataFrame wurde als {filename} in {folder_path} auf Google Drive gespeichert.')"
      ],
      "metadata": {
        "id": "38Mwi6sJDihp"
      },
      "execution_count": 19,
      "outputs": []
    },
    {
      "cell_type": "code",
      "source": [
        "# Abspeichern des konvertierten DF als CSV\n",
        "save_dataframe_to_drive(df_cams_sorted, folder_export, name_export)"
      ],
      "metadata": {
        "id": "d7XCZUzEDAz3",
        "colab": {
          "base_uri": "https://localhost:8080/"
        },
        "outputId": "4a682f6f-38f4-4eff-eed7-5c6ef1751f67"
      },
      "execution_count": 20,
      "outputs": [
        {
          "output_type": "stream",
          "name": "stdout",
          "text": [
            "Der DataFrame wurde als CAMS_std_CSV in /content/drive/My Drive/Colab_Notebooks/CAMS_Vorhersage/ auf Google Drive gespeichert.\n"
          ]
        }
      ]
    },
    {
      "cell_type": "markdown",
      "source": [
        "## Abspeichern des Dataframes mit 2 Min. Auflösung."
      ],
      "metadata": {
        "id": "yAPYiqb-kVdJ"
      }
    },
    {
      "cell_type": "code",
      "source": [
        "# Resampling der Zeitreihe auf 2 Min. und interpolation der fehlenden Messwerte\n",
        "# df_cams_resampled = df_cams.resample('2T')\n",
        "# df_cams_interpolated = df_cams_resampled.interpolate(method='polynomial', order = 1)"
      ],
      "metadata": {
        "id": "ZZC3q3n-IUv_"
      },
      "execution_count": 21,
      "outputs": []
    },
    {
      "cell_type": "code",
      "source": [
        "# Abspeichern des konvertierten DF als CSV\n",
        "# dateiname = 'CSV_Cams_2M'\n",
        "# save_dataframe_to_drive(df_cams_interpolated, '/content/drive/My Drive/Colab_Notebooks/CSV_Vorhersage', dateiname)"
      ],
      "metadata": {
        "id": "TFwR_uY4khMB"
      },
      "execution_count": 22,
      "outputs": []
    },
    {
      "cell_type": "code",
      "source": [
        "# dateiname = 'pickle_Cams_2M'\n",
        "# df_cams_interpolated.to_pickle(pickle_path + dateiname)"
      ],
      "metadata": {
        "id": "iNQTyRwF0Ff6"
      },
      "execution_count": 23,
      "outputs": []
    }
  ]
}