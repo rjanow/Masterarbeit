{
  "nbformat": 4,
  "nbformat_minor": 0,
  "metadata": {
    "colab": {
      "provenance": [],
      "authorship_tag": "ABX9TyP6fysMa1PxiIdfxhZtS3vm",
      "include_colab_link": true
    },
    "kernelspec": {
      "name": "python3",
      "display_name": "Python 3"
    },
    "language_info": {
      "name": "python"
    }
  },
  "cells": [
    {
      "cell_type": "markdown",
      "metadata": {
        "id": "view-in-github",
        "colab_type": "text"
      },
      "source": [
        "<a href=\"https://colab.research.google.com/github/rjanow/Masterarbeit/blob/main/1_EDA.ipynb\" target=\"_parent\"><img src=\"https://colab.research.google.com/assets/colab-badge.svg\" alt=\"Open In Colab\"/></a>"
      ]
    },
    {
      "cell_type": "markdown",
      "source": [
        "# Predicting UVI with LSTMs"
      ],
      "metadata": {
        "id": "Pya7NE9rw_L7"
      }
    },
    {
      "cell_type": "markdown",
      "source": [
        "[Notebook 0: Data Cleaning](./0_DataCleaning.ipynb)\n",
        "\n",
        "[Notebook 1: EDA](./1_EDA.ipynb)\n",
        "\n",
        "[Notebook 2: Modeling and Predictions](./2_Modeling_and_Predictions.ipynb)\n",
        "\n",
        "[Notebook 3: Technical Report](./3_Technical_Report.ipynb)"
      ],
      "metadata": {
        "id": "eENmQwwoNiU-"
      }
    },
    {
      "cell_type": "markdown",
      "source": [
        "In deiesem Notebook werden die aufgezeichenten UVI-Messungen weiter verarbeitet und für das Training vorbereitet.\n",
        "\n",
        "\n",
        "- Einlesen der UVI-Werte\n",
        "- Ersetzen von fehlenden Messwerten\n",
        "\n",
        "- Einlesen der weiteren Inputwerte\n",
        "- EDA (exploratory data analysis)"
      ],
      "metadata": {
        "id": "CT_W0-FVw943"
      }
    },
    {
      "cell_type": "code",
      "source": [
        "# Verbinden mit der Google-Drive\n",
        "from google.colab import drive\n",
        "drive.mount('/content/drive')"
      ],
      "metadata": {
        "id": "1SZflPUFXQMy",
        "colab": {
          "base_uri": "https://localhost:8080/"
        },
        "outputId": "59f6c992-0ec2-418b-e35c-ece26d9043f6"
      },
      "execution_count": null,
      "outputs": [
        {
          "output_type": "stream",
          "name": "stdout",
          "text": [
            "Mounted at /content/drive\n"
          ]
        }
      ]
    },
    {
      "cell_type": "code",
      "source": [
        "## import modules\n",
        "\n",
        "import numpy as np\n",
        "import pandas as pd\n",
        "import matplotlib.pyplot as plt\n",
        "import matplotlib.dates as mdates\n",
        "\n",
        "from datetime import datetime\n",
        "from datetime import timedelta\n",
        "\n",
        "import matplotlib\n",
        "import seaborn as sns"
      ],
      "metadata": {
        "id": "PkdOG-2sz6ni"
      },
      "execution_count": null,
      "outputs": []
    },
    {
      "cell_type": "code",
      "source": [
        "latitude = 50.2\n",
        "longitude = 7.8\n",
        "\n",
        "seconds_in_day = 24*60*60\n",
        "seconds_in_year = (365.2425)*seconds_in_day"
      ],
      "metadata": {
        "id": "shv1JklsbKRR"
      },
      "execution_count": null,
      "outputs": []
    },
    {
      "cell_type": "code",
      "source": [
        "# Pfad zur CSV-Datei auf Google Drive\n",
        "drive_path = '/content/drive/My Drive/Colab_Notebooks/CSV_UVI/'"
      ],
      "metadata": {
        "id": "9Y0wG7A1TZGS"
      },
      "execution_count": null,
      "outputs": []
    }
  ]
}