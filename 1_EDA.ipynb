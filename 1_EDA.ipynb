{
  "nbformat": 4,
  "nbformat_minor": 0,
  "metadata": {
    "colab": {
      "provenance": [],
      "authorship_tag": "ABX9TyPqIUQZLWuHP/txyhYsAjGt",
      "include_colab_link": true
    },
    "kernelspec": {
      "name": "python3",
      "display_name": "Python 3"
    },
    "language_info": {
      "name": "python"
    }
  },
  "cells": [
    {
      "cell_type": "markdown",
      "metadata": {
        "id": "view-in-github",
        "colab_type": "text"
      },
      "source": [
        "<a href=\"https://colab.research.google.com/github/rjanow/Masterarbeit/blob/main/1_EDA.ipynb\" target=\"_parent\"><img src=\"https://colab.research.google.com/assets/colab-badge.svg\" alt=\"Open In Colab\"/></a>"
      ]
    },
    {
      "cell_type": "markdown",
      "source": [
        "# Predicting UVI with LSTMs"
      ],
      "metadata": {
        "id": "Pya7NE9rw_L7"
      }
    },
    {
      "cell_type": "markdown",
      "source": [
        "[Notebook 0: Data Cleaning](./0_DataCleaning.ipynb)\n",
        "\n",
        "[Notebook 1: EDA](./1_EDA.ipynb)\n",
        "\n",
        "[Notebook 2: Modeling and Predictions](./2_Modeling_and_Predictions.ipynb)\n",
        "\n",
        "[Notebook 3: Technical Report](./3_Technical_Report.ipynb)"
      ],
      "metadata": {
        "id": "eENmQwwoNiU-"
      }
    },
    {
      "cell_type": "markdown",
      "source": [
        "Was wird in diesem Notebook gemacht?"
      ],
      "metadata": {
        "id": "CT_W0-FVw943"
      }
    },
    {
      "cell_type": "markdown",
      "source": [
        "## Verbinden mit der Google Drive und Import der benötigten Module:"
      ],
      "metadata": {
        "id": "yfUu0pEEN7e3"
      }
    },
    {
      "cell_type": "code",
      "source": [
        "# Verbinden mit der Google-Drive\n",
        "from google.colab import drive\n",
        "drive.mount('/content/drive')"
      ],
      "metadata": {
        "id": "1SZflPUFXQMy"
      },
      "execution_count": null,
      "outputs": []
    },
    {
      "cell_type": "code",
      "source": [
        "!pip install factor_analyzer"
      ],
      "metadata": {
        "id": "RJDcuz0QWP1z"
      },
      "execution_count": null,
      "outputs": []
    },
    {
      "cell_type": "code",
      "source": [
        "## import modules\n",
        "\n",
        "import os\n",
        "import numpy as np\n",
        "import pandas as pd\n",
        "import matplotlib\n",
        "import matplotlib.pyplot as plt\n",
        "import matplotlib.dates as mdates\n",
        "import seaborn as sns\n",
        "\n",
        "from datetime import datetime\n",
        "from datetime import timedelta\n",
        "\n",
        "from scipy.fft import fft"
      ],
      "metadata": {
        "id": "PkdOG-2sz6ni"
      },
      "execution_count": null,
      "outputs": []
    },
    {
      "cell_type": "code",
      "source": [
        "# Größe der Plots festlegen\n",
        "matplotlib.rcParams['figure.figsize'] = (13, 8)"
      ],
      "metadata": {
        "id": "DbA0GHYidVel"
      },
      "execution_count": null,
      "outputs": []
    },
    {
      "cell_type": "code",
      "source": [
        "latitude = 50.2\n",
        "longitude = 7.8\n",
        "\n",
        "seconds_in_day = 24*60*60\n",
        "seconds_in_year = (365.2425)*seconds_in_day"
      ],
      "metadata": {
        "id": "shv1JklsbKRR"
      },
      "execution_count": null,
      "outputs": []
    },
    {
      "cell_type": "markdown",
      "source": [
        "## Import der Daten:"
      ],
      "metadata": {
        "id": "5IymDBSDzVe8"
      }
    },
    {
      "cell_type": "code",
      "source": [
        "# Pfad zur CSV-Datei auf Google Drive\n",
        "name_Messwerte = 'UVI_Messdaten.csv'\n",
        "name_Vorhersage = 'Vorhersage.csv'\n",
        "name_Solar_Messwerte = 'Solys_Messdaten.csv'\n",
        "drive_path = '/content/drive/My Drive/Colab_Notebooks/Clean_Data/'\n",
        "output_plot_path = '/content/drive/My Drive/Colab_Notebooks/plot_daily_UVI/'"
      ],
      "metadata": {
        "id": "9Y0wG7A1TZGS"
      },
      "execution_count": null,
      "outputs": []
    },
    {
      "cell_type": "code",
      "source": [
        "# Import der Daten für die EDA\n",
        "df_UVI = pd.read_csv(drive_path + name_Messwerte)\n",
        "df_Solys = pd.read_csv(drive_path + name_Solar_Messwerte)\n",
        "df_CAMS = pd.read_csv(drive_path + name_Vorhersage)\n",
        "\n",
        "# Messzeitpunkt in Datetime umwandeln\n",
        "df_UVI.set_index('Datetime', inplace=True)\n",
        "df_Solys.set_index('Datetime', inplace=True)\n",
        "df_CAMS.set_index('Datetime', inplace=True)\n",
        "\n",
        "# Index in Datetime umwandeln\n",
        "df_UVI.index = pd.to_datetime(df_UVI.index)\n",
        "df_Solys.index = pd.to_datetime(df_Solys.index)\n",
        "df_CAMS.index = pd.to_datetime(df_CAMS.index)\n",
        "\n",
        "# NaN Einträge durch 0 ersetzen\n",
        "df_UVI['UVI'] = df_UVI['UVI'].fillna(0)\n",
        "df_UVI['erythem'] = df_UVI['erythem'].fillna(0)\n",
        "df_Solys.fillna(0)"
      ],
      "metadata": {
        "id": "6a6UN1j_OS8o"
      },
      "execution_count": null,
      "outputs": []
    },
    {
      "cell_type": "code",
      "source": [
        "# Stündlicher Durchschitt ohne Nullen\n",
        "df_UVI_hourly = df_UVI[df_UVI['UVI'] != 0][['UVI','erythem', 'SZA']].resample('H').mean()"
      ],
      "metadata": {
        "id": "aSpBP7GYJQQm"
      },
      "execution_count": null,
      "outputs": []
    },
    {
      "cell_type": "code",
      "source": [
        "# Stündlicher Durchschitt mit Nullen\n",
        "df_UVI_hourly_withZero = df_UVI[['UVI','erythem', 'SZA']].resample('H').mean()"
      ],
      "metadata": {
        "id": "0-fA2NTePtLK"
      },
      "execution_count": null,
      "outputs": []
    },
    {
      "cell_type": "markdown",
      "source": [
        "## Allgemeine Informationen:"
      ],
      "metadata": {
        "id": "IT0UJAFFSk-F"
      }
    },
    {
      "cell_type": "code",
      "source": [
        "# Dateitypen der einzelnen Spalten\n",
        "print(df_UVI.dtypes, df_Solys.dtypes, df_CAMS.dtypes)"
      ],
      "metadata": {
        "id": "eGL3q81xigkD"
      },
      "execution_count": null,
      "outputs": []
    },
    {
      "cell_type": "code",
      "source": [
        "# Allgemeine Informationen über die Messdaten\n",
        "round(df_UVI.describe(), 2).T"
      ],
      "metadata": {
        "id": "Dv6MHrn7RIhD"
      },
      "execution_count": null,
      "outputs": []
    },
    {
      "cell_type": "code",
      "source": [
        "# Allgemeine Informationen über die Messdaten\n",
        "round(df_Solys.describe(), 2).T"
      ],
      "metadata": {
        "id": "shPvPR0Vemab"
      },
      "execution_count": null,
      "outputs": []
    },
    {
      "cell_type": "code",
      "source": [
        "# Allgemeine Informationen über die Vorhersagedaten\n",
        "round(df_CAMS.describe(), 2).T"
      ],
      "metadata": {
        "id": "8G3KMYHRRNSI"
      },
      "execution_count": null,
      "outputs": []
    },
    {
      "cell_type": "code",
      "source": [
        "# Prüfen, ob es Nullwerte in den Daten gibt\n",
        "print(df_UVI.info(), '\\n --------------------- \\n', df_UVI.isnull().sum())"
      ],
      "metadata": {
        "id": "B8DGOhODndti"
      },
      "execution_count": null,
      "outputs": []
    },
    {
      "cell_type": "code",
      "source": [
        "# Allgemeine Informationen über die stündlich aufgelösten Messdaten\n",
        "df_UVI_hourly.info()"
      ],
      "metadata": {
        "id": "4eqrLK1_nuJ5"
      },
      "execution_count": null,
      "outputs": []
    },
    {
      "cell_type": "code",
      "source": [
        "df_UVI_hourly_withZero.info()"
      ],
      "metadata": {
        "id": "QaRvFHsDnuwH"
      },
      "execution_count": null,
      "outputs": []
    },
    {
      "cell_type": "code",
      "source": [
        "df_CAMS.info()"
      ],
      "metadata": {
        "id": "SgZ8FHVEaSRm"
      },
      "execution_count": null,
      "outputs": []
    },
    {
      "cell_type": "markdown",
      "source": [
        "## Outliner finden:"
      ],
      "metadata": {
        "id": "S45izXiD0g6i"
      }
    },
    {
      "cell_type": "code",
      "source": [
        "# Interquartile Range berechnen\n",
        "\n",
        "Q1_UVI = df_UVI['UVI'].quantile(0.25)\n",
        "Q2_UVI = df_UVI['UVI'].quantile(0.5)\n",
        "Q3_UVI = df_UVI['UVI'].quantile(0.75)\n",
        "\n",
        "IQR_UVI = Q3_UVI - Q1_UVI\n",
        "\n",
        "print(f\"25. Perzentil: {round(Q1_UVI, 3)}, 5. Perzentil: {round(Q2_UVI, 3)}, 75. Perzentil: {round(Q3_UVI, 3)}, IQR: {round(IQR_UVI, 3)}\")"
      ],
      "metadata": {
        "id": "1Jhpz_IO0nHT"
      },
      "execution_count": null,
      "outputs": []
    },
    {
      "cell_type": "code",
      "source": [
        "# Z-score berechnen\n",
        "\n",
        "df_ZScore = pd.DataFrame()\n",
        "\n",
        "mittelwert = df_UVI['UVI'].mean()\n",
        "standardabweichung = df_UVI['UVI'].std()\n",
        "\n",
        "df_ZScore['Z-Score'] = (df_UVI['UVI'] - mittelwert) / standardabweichung\n",
        "plt.plot(df_ZScore)"
      ],
      "metadata": {
        "id": "3twMA-RwNC4-"
      },
      "execution_count": null,
      "outputs": []
    },
    {
      "cell_type": "markdown",
      "source": [
        "## Plotten der Dataframes:"
      ],
      "metadata": {
        "id": "kHK-UVWghCKT"
      }
    },
    {
      "cell_type": "markdown",
      "source": [
        "### Plot der Tagesdurchschnitte:"
      ],
      "metadata": {
        "id": "7-ygWbthhYH2"
      }
    },
    {
      "cell_type": "code",
      "source": [
        "# Plot der Tagessumme\n",
        "df_UVI.groupby('Date').sum()[['UVI']].plot()\n",
        "plt.title('Plot der Tagessumme');\n",
        "plt.xticks(rotation=45)"
      ],
      "metadata": {
        "id": "JI2rKbK2b6Kv"
      },
      "execution_count": null,
      "outputs": []
    },
    {
      "cell_type": "code",
      "source": [
        "# Average DNI/GHI/DHI over DOY.\n",
        "df_UVI.groupby('Uhrzeit').mean()[['UVI']].plot()\n",
        "plt.title('Sum GHI/DNI/DHI by time of day');"
      ],
      "metadata": {
        "id": "Ye9WK3I7dNhP"
      },
      "execution_count": null,
      "outputs": []
    },
    {
      "cell_type": "code",
      "source": [
        "# Irradiance metrics over time\n",
        "df_UVI[['UVI']].plot()\n",
        "plt.title('UVI über die Zeit');"
      ],
      "metadata": {
        "id": "GVc14iEQgXwh"
      },
      "execution_count": null,
      "outputs": []
    },
    {
      "cell_type": "code",
      "source": [
        "def plot_daily_mean_data(df1, df2, value_column1='UVI', value_column2='Wert2'):\n",
        "\n",
        "    # Resample auf tägliche Auflösung und Berechnung des Durchschnitts\n",
        "    df1_daily = df1.resample('D').mean()\n",
        "    df2_daily = df2.resample('D').mean()\n",
        "\n",
        "    # Erstellen Sie den Plot\n",
        "    plt.figure(figsize=(12, 6))\n",
        "    plt.plot(df1_daily.index, df1_daily[value_column1], label='DataFrame 1', marker='o')\n",
        "    plt.plot(df2_daily.index, df2_daily[value_column2], label='DataFrame 2', marker='x')\n",
        "\n",
        "    plt.title('Tägliche Messwerte')\n",
        "    plt.xlabel('Datum')\n",
        "    plt.ylabel('Durchschnittlicher Messwert')\n",
        "    plt.legend()\n",
        "    plt.grid(True)\n",
        "\n",
        "    # Rotieren Sie die X-Achsenbeschriftungen für bessere Lesbarkeit\n",
        "    plt.xticks(rotation=45)\n",
        "\n",
        "    # Zeigen Sie den Plot an\n",
        "    plt.tight_layout()\n",
        "    plt.show()"
      ],
      "metadata": {
        "id": "xY4ecWOQRd-i"
      },
      "execution_count": null,
      "outputs": []
    },
    {
      "cell_type": "code",
      "source": [
        "# plot_daily_mean_data(df_UVI, df_CAMS)"
      ],
      "metadata": {
        "id": "7PWUCObySxAq"
      },
      "execution_count": null,
      "outputs": []
    },
    {
      "cell_type": "markdown",
      "source": [
        "### Plot der täglichen Verläufe:"
      ],
      "metadata": {
        "id": "eV14uPWjhdZT"
      }
    },
    {
      "cell_type": "code",
      "source": [
        "df_plot_daily = pd.concat([df_UVI[['UVI', 'SZA']], df_CAMS[['aod469', 'uvbed', 'uvbedcs', 'tcc']]], axis = 1)"
      ],
      "metadata": {
        "id": "-QZFF8jbbCXl"
      },
      "execution_count": null,
      "outputs": []
    },
    {
      "cell_type": "code",
      "source": [
        "def create_daily_plots(df, columns_to_plot):\n",
        "    # Gruppieren nach Tag\n",
        "    grouped = df.groupby(df.index.date)\n",
        "\n",
        "    # Stil für Seaborn-Plots festlegen\n",
        "    sns.set(style=\"darkgrid\")\n",
        "\n",
        "    for date, group in grouped:\n",
        "        fig, ax1 = plt.subplots(figsize=(10, 6))  # Hauptfigur und erste Achse erstellen\n",
        "\n",
        "        twin1 = ax1.twinx()\n",
        "        twin2 = ax1.twinx()\n",
        "        twin3 = ax1.twinx()\n",
        "        twin4 = ax1.twinx()\n",
        "\n",
        "        twin1.spines.right.set_position((\"axes\", 1))\n",
        "        twin2.spines.right.set_position((\"axes\", 1.1))\n",
        "        twin3.spines.right.set_position((\"axes\", 1.22))\n",
        "        twin4.spines.right.set_position((\"axes\", 1.33))\n",
        "\n",
        "        # Erste Achse erstellen (links)\n",
        "        sns.set(style=\"whitegrid\")\n",
        "\n",
        "        # # Zweiter Plot mit Seaborn auf der zweiten Y-Achse\n",
        "        sns.lineplot(data=df, x=df.index, y='UVI', label='UVI', marker='o', color='b', ax=ax1)\n",
        "\n",
        "        sns.lineplot(data=df, x=df.index, y='SZA', label='SZA', marker='o', color='r', ax=twin1)\n",
        "\n",
        "        sns.lineplot(data=df, x=df.index, y='uvbed', label='UVI', marker='o', color='g', ax=twin2)\n",
        "\n",
        "        sns.lineplot(data=df, x=df.index, y='uvbedcs', label='UVI CS', marker='o', color='k', ax=twin3)\n",
        "\n",
        "        sns.lineplot(data=df, x=df.index, y='tcc', label='TCC', marker='o', color='y', ax=twin4)\n",
        "\n",
        "        plt.xlabel('Uhrzeit')\n",
        "        plt.legend(loc='upper left')\n",
        "        plt.title(f'Tagesverlauf für den {date}')\n",
        "        plt.show()"
      ],
      "metadata": {
        "id": "B4fMZTX6ciPM"
      },
      "execution_count": null,
      "outputs": []
    },
    {
      "cell_type": "code",
      "source": [
        "cols_to_plot = ['UVI', 'SZA', 'aod469', 'uvbed', 'uvbedcs', 'tcc']\n",
        "create_daily_plots(df_plot_daily[0:300], cols_to_plot)"
      ],
      "metadata": {
        "id": "zkttaOg8dTxY"
      },
      "execution_count": null,
      "outputs": []
    },
    {
      "cell_type": "markdown",
      "source": [
        "## Korrelation der Stündlichen Mittelwerte:"
      ],
      "metadata": {
        "id": "NekWL9A4oCub"
      }
    },
    {
      "cell_type": "markdown",
      "source": [
        "Berechnen der Varabilitätsindices Indizes:"
      ],
      "metadata": {
        "id": "YmQtlmwHLl5s"
      }
    },
    {
      "cell_type": "code",
      "source": [
        "df_corr_hour = pd.concat([df_UVI_hourly[['UVI', 'SZA']], df_CAMS[['aod469', 'aod550', 'hcc', 'mcc', 'lcc', 'tcc', 'uvbed', 'uvbedcs']]], axis = 1)"
      ],
      "metadata": {
        "id": "8KA0KaN3flxT"
      },
      "execution_count": null,
      "outputs": []
    },
    {
      "cell_type": "code",
      "source": [
        "# Increase the size of the heatmap.\n",
        "plt.figure(figsize=(18, 8))\n",
        "# Store heatmap object in a variable to easily access it when you want to include more features (such as title).\n",
        "# Set the range of values to be displayed on the colormap from -1 to 1, and set the annotation to True to display the correlation values on the heatmap.\n",
        "heatmap = sns.heatmap(df_corr_hour.corr(), fmt='.2f', vmin=-1, vmax=1, annot=True, square=True)\n",
        "# Give a title to the heatmap. Pad defines the distance of the title from the top of the heatmap.\n",
        "heatmap.set_title('Korrelation zwischen UVI und meteorologischen Daten', fontdict={'fontsize':12}, pad=12);"
      ],
      "metadata": {
        "id": "7leYm0v8EOIc"
      },
      "execution_count": null,
      "outputs": []
    },
    {
      "cell_type": "code",
      "source": [
        "sns.heatmap(df_corr_hour.corr()[['UVI']], annot=True)\n",
        "plt.title('Korrelation zwischen UVI und Features');"
      ],
      "metadata": {
        "id": "7gHaRW_TbK0N"
      },
      "execution_count": null,
      "outputs": []
    },
    {
      "cell_type": "markdown",
      "source": [
        "## Korrelation zwischen den Solarstrahlungsdaten und dem UVI:"
      ],
      "metadata": {
        "id": "Ex83Lv1BfjtY"
      }
    },
    {
      "cell_type": "code",
      "source": [
        "df_corr = pd.concat([df_UVI[['UVI', 'SZA']], df_Solys[['Glo', 'Dif', 'Glo_SPLite', 'Dir', 'Temp']]], axis = 1)"
      ],
      "metadata": {
        "id": "VASVazCaftL9"
      },
      "execution_count": null,
      "outputs": []
    },
    {
      "cell_type": "code",
      "source": [
        "sns.heatmap(df_corr.corr()[['UVI']], annot=True)\n",
        "plt.title('Korrelation zwischen UVI und Features');"
      ],
      "metadata": {
        "id": "1edARAdrgCFC"
      },
      "execution_count": null,
      "outputs": []
    },
    {
      "cell_type": "markdown",
      "source": [],
      "metadata": {
        "id": "16t61FwqzQ6y"
      }
    },
    {
      "cell_type": "markdown",
      "source": [
        "## Paarweise Vergleich des UVI und der Vorhersagewerte:"
      ],
      "metadata": {
        "id": "3zNZg7ifoKa_"
      }
    },
    {
      "cell_type": "code",
      "source": [
        "# plot pairwise relationships of the dataset\n",
        "sns.set()  # set the seaborn's theme as default\n",
        "g = sns.pairplot(df_corr_hour)\n",
        "\n",
        "# set the title\n",
        "g.fig.suptitle(\"Pairwise Relations between Features\", y=1.03);"
      ],
      "metadata": {
        "id": "cvXL4oNrDOJI"
      },
      "execution_count": null,
      "outputs": []
    },
    {
      "cell_type": "markdown",
      "source": [
        "## Effekt der Solarstrahlung auf den UVI:"
      ],
      "metadata": {
        "id": "k7WabdUeDOb4"
      }
    },
    {
      "cell_type": "code",
      "source": [
        "df_Solys, df_UVI\n",
        "\n",
        "# check the relationship between `Radiation` and `SystemProduction`\n",
        "sns.set()\n",
        "df_Solys_UVI_1M = pd.concat([df_UVI[['UVI', 'SZA']], df_Solys], axis = 1).resample(\"1M\").sum()\n",
        "df_Solys_UVI_1M = df_Solys_UVI_1M.agg(np.log10)\n",
        "\n",
        "# plot the line graph\n",
        "df_Solys_UVI_1M.plot(figsize=(7, 6), xlabel=\"Date\", ylabel=\"Log Scale\");\n",
        "\n",
        "# set the title\n",
        "plt.title(\"Relationship between Solar Radiation, Sunshine & Energy Production\");\n",
        "\n",
        "# set the legend to outside the grid\n",
        "plt.legend(bbox_to_anchor=(1, 1));"
      ],
      "metadata": {
        "id": "kgTbUqkxDgUH"
      },
      "execution_count": null,
      "outputs": []
    },
    {
      "cell_type": "markdown",
      "source": [
        "## Effekt der gemessenen und Vorhergesagten Temperatur auf den UVI:"
      ],
      "metadata": {
        "id": "vQJFZDxUDOiJ"
      }
    },
    {
      "cell_type": "code",
      "source": [
        "# check the proportions of the AirTemperature categories\n",
        "df_Solys_UVI = pd.concat([df_UVI[['UVI', 'SZA']], df_Solys], axis = 1)\n",
        "\n",
        "df_Solys_UVI.loc[:, \"Temp\"] = pd.cut(df_Solys_UVI.Temp,\n",
        "                                         bins=[-np.inf, 0, 15, 20, 25, 30, np.inf], # get the bins for a total of 6 labels\n",
        "                                         labels=['Very Cold', 'Cold', 'Standard', 'Ordinary', 'Room Temp', 'Moderate'])\\\n",
        "                                    .cat.remove_unused_categories() # remove the empty categories\n",
        "\n",
        "sns.set()  # set the seaborn theme to default\n",
        "sns.barplot(data=df_Solys_UVI.Temp.value_counts(normalize=True).to_frame().T)  # plotting a barplot\n",
        "\n",
        "# set the labels and title\n",
        "plt.xlabel(\"Air Temperature\")\n",
        "plt.ylabel(\"Proportions\")\n",
        "plt.title(\"Distribution of Air Temperature\");"
      ],
      "metadata": {
        "id": "O9Gugv2UDtv0"
      },
      "execution_count": null,
      "outputs": []
    },
    {
      "cell_type": "code",
      "source": [
        "# Effect of Air Temperature on Power Generation by Sunlight\n",
        "sns.set()\n",
        "df_Solys_UVI.loc[:, \"Glo\"] = pd.cut(df_Solys_UVI.Glo, bins=3,  # make 3 bins of the data for 3 labels\n",
        "                                   labels=[\"Low\", \"Moderate\", \"High\"]).cat.remove_unused_categories()\n",
        "\n",
        "plt.subplots(figsize=(15, 4))  # set the figure dimensions\n",
        "sns.boxplot(data=df_Solys_UVI, x=\"Temp\", hue=\"Glo\", y=\"UVI\", sym=\"\")  # plot a boxplot with no outliers\n",
        "\n",
        "# set the labels and title\n",
        "plt.xlabel(\"Air Temperature\")\n",
        "plt.ylabel(\"UVI\")\n",
        "plt.title(\"Effect of Air Temperature on UVI by Solar Radiation\");"
      ],
      "metadata": {
        "id": "Bl0x_WxwST2R"
      },
      "execution_count": null,
      "outputs": []
    },
    {
      "cell_type": "code",
      "source": [
        "df_Solys_UVI"
      ],
      "metadata": {
        "id": "i-30Xbh7TVwg"
      },
      "execution_count": null,
      "outputs": []
    },
    {
      "cell_type": "markdown",
      "source": [
        "## Korrelation zwischen der Strahlungsmessung und dem UVI"
      ],
      "metadata": {
        "id": "vztbhsvspL2x"
      }
    },
    {
      "cell_type": "code",
      "source": [
        "df_Solys_UVI_corr = pd.concat([df_UVI[['UVI', 'SZA']], df_Solys], axis = 1)\n",
        "\n",
        "sns.set()  # set the seaborn's theme as default\n",
        "g = sns.pairplot(df_Solys_UVI_corr)\n",
        "\n",
        "# set the title\n",
        "g.fig.suptitle(\"Pairwise Relations between Features\", y=1.03);"
      ],
      "metadata": {
        "id": "9CRoEagNpVpX"
      },
      "execution_count": null,
      "outputs": []
    },
    {
      "cell_type": "code",
      "source": [
        "sns.scatterplot(data=df_Solys_UVI_corr, x='UVI', y='Glo')\n",
        "plt.show()"
      ],
      "metadata": {
        "id": "n6xcV5adt_ft"
      },
      "execution_count": null,
      "outputs": []
    },
    {
      "cell_type": "markdown",
      "source": [
        "## Finden von Nullwerten in den UVI Daten"
      ],
      "metadata": {
        "id": "bbM6JehDwbiX"
      }
    },
    {
      "cell_type": "code",
      "source": [
        "# Zeilen an denen die Solys Daten NaN-Einträge besitzen\n",
        "df_Solys_UVI_corr[df_Solys_UVI_corr.isnull().any(axis=1)]"
      ],
      "metadata": {
        "id": "o-vuukPPu2Vi"
      },
      "execution_count": null,
      "outputs": []
    },
    {
      "cell_type": "code",
      "source": [
        "df_Solys_UVI_corr"
      ],
      "metadata": {
        "id": "OLAl0WZI1af4"
      },
      "execution_count": null,
      "outputs": []
    }
  ]
}