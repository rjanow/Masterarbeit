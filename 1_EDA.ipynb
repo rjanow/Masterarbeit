{
  "nbformat": 4,
  "nbformat_minor": 0,
  "metadata": {
    "colab": {
      "provenance": [],
      "authorship_tag": "ABX9TyNVFHUBvWGvccbUBacuwIyW",
      "include_colab_link": true
    },
    "kernelspec": {
      "name": "python3",
      "display_name": "Python 3"
    },
    "language_info": {
      "name": "python"
    }
  },
  "cells": [
    {
      "cell_type": "markdown",
      "metadata": {
        "id": "view-in-github",
        "colab_type": "text"
      },
      "source": [
        "<a href=\"https://colab.research.google.com/github/rjanow/Masterarbeit/blob/main/1_EDA.ipynb\" target=\"_parent\"><img src=\"https://colab.research.google.com/assets/colab-badge.svg\" alt=\"Open In Colab\"/></a>"
      ]
    },
    {
      "cell_type": "markdown",
      "source": [
        "# Predicting UVI with LSTMs"
      ],
      "metadata": {
        "id": "Pya7NE9rw_L7"
      }
    },
    {
      "cell_type": "markdown",
      "source": [
        "[Notebook 0: Data Cleaning](./0_DataCleaning.ipynb)\n",
        "\n",
        "[Notebook 1: EDA](./1_EDA.ipynb)\n",
        "\n",
        "[Notebook 2: Modeling and Predictions](./2_Modeling_and_Predictions.ipynb)\n",
        "\n",
        "[Notebook 3: Technical Report](./3_Technical_Report.ipynb)"
      ],
      "metadata": {
        "id": "eENmQwwoNiU-"
      }
    },
    {
      "cell_type": "markdown",
      "source": [
        "Was wird in diesem Notebook gemacht?"
      ],
      "metadata": {
        "id": "CT_W0-FVw943"
      }
    },
    {
      "cell_type": "markdown",
      "source": [
        "## Verbinden mit der Google Drive und Import der benötigten Module:"
      ],
      "metadata": {
        "id": "yfUu0pEEN7e3"
      }
    },
    {
      "cell_type": "code",
      "source": [
        "# Verbinden mit der Google-Drive\n",
        "from google.colab import drive\n",
        "drive.mount('/content/drive')"
      ],
      "metadata": {
        "id": "1SZflPUFXQMy",
        "colab": {
          "base_uri": "https://localhost:8080/"
        },
        "outputId": "9040d8ac-ca6f-44b3-e8de-03a122116799"
      },
      "execution_count": 24,
      "outputs": [
        {
          "output_type": "stream",
          "name": "stdout",
          "text": [
            "Drive already mounted at /content/drive; to attempt to forcibly remount, call drive.mount(\"/content/drive\", force_remount=True).\n"
          ]
        }
      ]
    },
    {
      "cell_type": "code",
      "source": [
        "## import modules\n",
        "\n",
        "import numpy as np\n",
        "import pandas as pd\n",
        "import matplotlib.pyplot as plt\n",
        "import matplotlib.dates as mdates\n",
        "\n",
        "from datetime import datetime\n",
        "from datetime import timedelta\n",
        "\n",
        "import matplotlib\n",
        "import seaborn as sns"
      ],
      "metadata": {
        "id": "PkdOG-2sz6ni"
      },
      "execution_count": 25,
      "outputs": []
    },
    {
      "cell_type": "code",
      "source": [
        "latitude = 50.2\n",
        "longitude = 7.8\n",
        "\n",
        "seconds_in_day = 24*60*60\n",
        "seconds_in_year = (365.2425)*seconds_in_day"
      ],
      "metadata": {
        "id": "shv1JklsbKRR"
      },
      "execution_count": 26,
      "outputs": []
    },
    {
      "cell_type": "code",
      "source": [
        "# Pfad zur CSV-Datei auf Google Drive\n",
        "name_Messwerte = 'Messdaten.csv'\n",
        "name_Vorhersage = 'Vorhersage.csv'\n",
        "drive_path = '/content/drive/My Drive/Colab_Notebooks/Clean_Data/'"
      ],
      "metadata": {
        "id": "9Y0wG7A1TZGS"
      },
      "execution_count": 29,
      "outputs": []
    },
    {
      "cell_type": "code",
      "source": [
        "# Import der Daten für die EDA\n",
        "df_UVI = pd.read_csv(drive_path + name_Messwerte)\n",
        "df_CAMS = pd.read_csv(drive_path + name_Vorhersage)\n",
        "\n",
        "# Messzeitpunkt in Datetime umwandeln\n",
        "df_UVI['Datetime'] = pd.to_datetime(df_UVI['Datetime'])\n",
        "df_CAMS['Datetime'] = pd.to_datetime(df_CAMS['Datetime'])\n",
        "\n",
        "df_UVI.set_index('Datetime', inplace=True)\n",
        "df_CAMS.set_index('Datetime', inplace=True)"
      ],
      "metadata": {
        "id": "6a6UN1j_OS8o"
      },
      "execution_count": 30,
      "outputs": []
    },
    {
      "cell_type": "code",
      "source": [
        "df_UVI_hourly = df_UVI[['UVI','erythem', 'SolarZenithAngle']].resample('H').mean()"
      ],
      "metadata": {
        "id": "0-fA2NTePtLK"
      },
      "execution_count": 38,
      "outputs": []
    },
    {
      "cell_type": "code",
      "source": [
        "df_UVI_hourly"
      ],
      "metadata": {
        "id": "i1TzUXqdQdrE",
        "outputId": "da574ca5-a83d-466e-bc79-ca0b999e30a5",
        "colab": {
          "base_uri": "https://localhost:8080/"
        }
      },
      "execution_count": 39,
      "outputs": [
        {
          "output_type": "execute_result",
          "data": {
            "text/plain": [
              "(                          UVI   erythem  SolarZenithAngle\n",
              " Datetime                                                 \n",
              " 2022-06-15 07:00:00  1.746515  0.043663         52.061586\n",
              " 2022-06-15 08:00:00  3.356615  0.083915         44.471938\n",
              " 2022-06-15 09:00:00  5.684107  0.142103         36.261871\n",
              " 2022-06-15 10:00:00  6.511567  0.162789         30.133790\n",
              " 2022-06-15 11:00:00  7.114456  0.177861         27.689482\n",
              " ...                       ...       ...               ...\n",
              " 2023-05-26 05:00:00  0.453827  0.011346         73.676475\n",
              " 2023-05-26 06:00:00  1.170444  0.029261         64.313051\n",
              " 2023-05-26 07:00:00  2.363173  0.059079         54.880384\n",
              " 2023-05-26 08:00:00  3.769669  0.094242         45.825942\n",
              " 2023-05-26 09:00:00  4.491994  0.112300         40.648502\n",
              " \n",
              " [8283 rows x 3 columns],\n",
              "                      Unnamed: 0       Datum   Uhrzeit  Messzeitpunkt  \\\n",
              " Datetime                                                               \n",
              " 2022-06-15 07:21:00           0  2022-06-15  07:21:00        26460.0   \n",
              " 2022-06-15 07:23:00           1  2022-06-15  07:23:00        26580.0   \n",
              " 2022-06-15 07:25:00           2  2022-06-15  07:25:00        26700.0   \n",
              " 2022-06-15 07:27:00           3  2022-06-15  07:27:00        26820.0   \n",
              " 2022-06-15 07:29:00           4  2022-06-15  07:29:00        26940.0   \n",
              " ...                         ...         ...       ...            ...   \n",
              " 2023-05-26 09:04:00      101736  2023-05-26  09:04:00        32640.0   \n",
              " 2023-05-26 09:06:00      101737  2023-05-26  09:06:00        32760.0   \n",
              " 2023-05-26 09:08:00      101738  2023-05-26  09:08:00        32880.0   \n",
              " 2023-05-26 09:10:00      101739  2023-05-26  09:10:00        33000.0   \n",
              " 2023-05-26 09:12:00      101740  2023-05-26  09:12:00        33120.0   \n",
              " \n",
              "                       erythem       UVI  DiffGreater2  SolarZenithAngle  \\\n",
              " Datetime                                                                  \n",
              " 2022-06-15 07:21:00  0.060209  2.408378           0.0         55.032236   \n",
              " 2022-06-15 07:23:00  0.061560  2.462381           0.0         54.717711   \n",
              " 2022-06-15 07:25:00  0.061976  2.479048           0.0         54.403414   \n",
              " 2022-06-15 07:27:00  0.063588  2.543531           0.0         54.089361   \n",
              " 2022-06-15 07:29:00  0.064412  2.576485           0.0         53.775570   \n",
              " ...                       ...       ...           ...               ...   \n",
              " 2023-05-26 09:04:00  0.117537  4.701465           0.0         40.909176   \n",
              " 2023-05-26 09:06:00  0.118624  4.744953           0.0         40.644895   \n",
              " 2023-05-26 09:08:00  0.094757  3.790279           0.0         40.382418   \n",
              " 2023-05-26 09:10:00       NaN       NaN           0.0         40.121787   \n",
              " 2023-05-26 09:12:00       NaN       NaN           0.0         39.863049   \n",
              " \n",
              "                      time_sin  time_cos  date_sin  date_cos        Date  Hour  \n",
              " Datetime                                                                       \n",
              " 2022-06-15 07:21:00  0.938191 -0.346117  0.281247 -0.959635  2022-06-15     7  \n",
              " 2022-06-15 07:23:00  0.935135 -0.354291  0.281243 -0.959637  2022-06-15     7  \n",
              " 2022-06-15 07:25:00  0.932008 -0.362438  0.281240 -0.959638  2022-06-15     7  \n",
              " 2022-06-15 07:27:00  0.928810 -0.370557  0.281236 -0.959639  2022-06-15     7  \n",
              " 2022-06-15 07:29:00  0.925541 -0.378649  0.281232 -0.959640  2022-06-15     7  \n",
              " ...                       ...       ...       ...       ...         ...   ...  \n",
              " 2023-05-26 09:04:00  0.694658 -0.719340  0.588298 -0.808644  2023-05-26     9  \n",
              " 2023-05-26 09:06:00  0.688355 -0.725374  0.588295 -0.808646  2023-05-26     9  \n",
              " 2023-05-26 09:08:00  0.681998 -0.731354  0.588292 -0.808648  2023-05-26     9  \n",
              " 2023-05-26 09:10:00  0.675590 -0.737277  0.588289 -0.808651  2023-05-26     9  \n",
              " 2023-05-26 09:12:00  0.669131 -0.743145  0.588286 -0.808653  2023-05-26     9  \n",
              " \n",
              " [101741 rows x 14 columns])"
            ]
          },
          "metadata": {},
          "execution_count": 39
        }
      ]
    }
  ]
}