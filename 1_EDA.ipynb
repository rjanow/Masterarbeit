{
  "nbformat": 4,
  "nbformat_minor": 0,
  "metadata": {
    "colab": {
      "provenance": [],
      "authorship_tag": "ABX9TyOm/0P7z3/I6bgDRp2xWqMO",
      "include_colab_link": true
    },
    "kernelspec": {
      "name": "python3",
      "display_name": "Python 3"
    },
    "language_info": {
      "name": "python"
    }
  },
  "cells": [
    {
      "cell_type": "markdown",
      "metadata": {
        "id": "view-in-github",
        "colab_type": "text"
      },
      "source": [
        "<a href=\"https://colab.research.google.com/github/rjanow/Masterarbeit/blob/main/1_EDA.ipynb\" target=\"_parent\"><img src=\"https://colab.research.google.com/assets/colab-badge.svg\" alt=\"Open In Colab\"/></a>"
      ]
    },
    {
      "cell_type": "markdown",
      "source": [
        "# Predicting UVI with LSTMs"
      ],
      "metadata": {
        "id": "Pya7NE9rw_L7"
      }
    },
    {
      "cell_type": "markdown",
      "source": [
        "[Notebook 0: Data Cleaning](./0_DataCleaning.ipynb)\n",
        "\n",
        "[Notebook 1: EDA](./1_EDA.ipynb)\n",
        "\n",
        "[Notebook 2: Modeling and Predictions](./2_Modeling_and_Predictions.ipynb)\n",
        "\n",
        "[Notebook 3: Technical Report](./3_Technical_Report.ipynb)"
      ],
      "metadata": {
        "id": "eENmQwwoNiU-"
      }
    },
    {
      "cell_type": "markdown",
      "source": [
        "Was wird in diesem Notebook gemacht?"
      ],
      "metadata": {
        "id": "CT_W0-FVw943"
      }
    },
    {
      "cell_type": "markdown",
      "source": [
        "## Verbinden mit der Google Drive und Import der benötigten Module:"
      ],
      "metadata": {
        "id": "yfUu0pEEN7e3"
      }
    },
    {
      "cell_type": "code",
      "source": [
        "# Verbinden mit der Google-Drive\n",
        "from google.colab import drive\n",
        "drive.mount('/content/drive')"
      ],
      "metadata": {
        "id": "1SZflPUFXQMy",
        "colab": {
          "base_uri": "https://localhost:8080/"
        },
        "outputId": "9040d8ac-ca6f-44b3-e8de-03a122116799"
      },
      "execution_count": 24,
      "outputs": [
        {
          "output_type": "stream",
          "name": "stdout",
          "text": [
            "Drive already mounted at /content/drive; to attempt to forcibly remount, call drive.mount(\"/content/drive\", force_remount=True).\n"
          ]
        }
      ]
    },
    {
      "cell_type": "code",
      "source": [
        "## import modules\n",
        "\n",
        "import os\n",
        "import numpy as np\n",
        "import pandas as pd\n",
        "import matplotlib.pyplot as plt\n",
        "import matplotlib.dates as mdates\n",
        "\n",
        "from datetime import datetime\n",
        "from datetime import timedelta\n",
        "\n",
        "import matplotlib\n",
        "import seaborn as sns"
      ],
      "metadata": {
        "id": "PkdOG-2sz6ni"
      },
      "execution_count": 46,
      "outputs": []
    },
    {
      "cell_type": "code",
      "source": [
        "latitude = 50.2\n",
        "longitude = 7.8\n",
        "\n",
        "seconds_in_day = 24*60*60\n",
        "seconds_in_year = (365.2425)*seconds_in_day"
      ],
      "metadata": {
        "id": "shv1JklsbKRR"
      },
      "execution_count": 26,
      "outputs": []
    },
    {
      "cell_type": "code",
      "source": [
        "# Pfad zur CSV-Datei auf Google Drive\n",
        "name_Messwerte = 'Messdaten.csv'\n",
        "name_Vorhersage = 'Vorhersage.csv'\n",
        "drive_path = '/content/drive/My Drive/Colab_Notebooks/Clean_Data/'\n",
        "output_plot_path = '/content/drive/My Drive/plot_daily_UVI'"
      ],
      "metadata": {
        "id": "9Y0wG7A1TZGS"
      },
      "execution_count": 49,
      "outputs": []
    },
    {
      "cell_type": "code",
      "source": [
        "# Import der Daten für die EDA\n",
        "df_UVI = pd.read_csv(drive_path + name_Messwerte)\n",
        "df_CAMS = pd.read_csv(drive_path + name_Vorhersage)\n",
        "\n",
        "# Messzeitpunkt in Datetime umwandeln\n",
        "df_UVI['Datetime'] = pd.to_datetime(df_UVI['Datetime'])\n",
        "df_CAMS['Datetime'] = pd.to_datetime(df_CAMS['Datetime'])\n",
        "\n",
        "df_UVI.set_index('Datetime', inplace=True)\n",
        "df_CAMS.set_index('Datetime', inplace=True)"
      ],
      "metadata": {
        "id": "6a6UN1j_OS8o"
      },
      "execution_count": 30,
      "outputs": []
    },
    {
      "cell_type": "code",
      "source": [
        "df_UVI_hourly = df_UVI[['UVI','erythem', 'SolarZenithAngle']].resample('H').mean()"
      ],
      "metadata": {
        "id": "0-fA2NTePtLK"
      },
      "execution_count": 38,
      "outputs": []
    },
    {
      "cell_type": "markdown",
      "source": [
        "## Plotten der Dataframes:"
      ],
      "metadata": {
        "id": "kHK-UVWghCKT"
      }
    },
    {
      "cell_type": "markdown",
      "source": [
        "### Plot der Tagesdurchschnitte:"
      ],
      "metadata": {
        "id": "7-ygWbthhYH2"
      }
    },
    {
      "cell_type": "code",
      "source": [
        "def plot_daily_mean_data(df1, df2, value_column1='UVI', value_column2='Wert2'):\n",
        "\n",
        "    # Resample auf tägliche Auflösung und Berechnung des Durchschnitts\n",
        "    df1_daily = df1.resample('D').mean()\n",
        "    df2_daily = df2.resample('D').mean()\n",
        "\n",
        "    # Erstellen Sie den Plot\n",
        "    plt.figure(figsize=(12, 6))\n",
        "    plt.plot(df1_daily.index, df1_daily[value_column1], label='DataFrame 1', marker='o')\n",
        "    plt.plot(df2_daily.index, df2_daily[value_column2], label='DataFrame 2', marker='x')\n",
        "\n",
        "    plt.title('Tägliche Messwerte')\n",
        "    plt.xlabel('Datum')\n",
        "    plt.ylabel('Durchschnittlicher Messwert')\n",
        "    plt.legend()\n",
        "    plt.grid(True)\n",
        "\n",
        "    # Rotieren Sie die X-Achsenbeschriftungen für bessere Lesbarkeit\n",
        "    plt.xticks(rotation=45)\n",
        "\n",
        "    # Zeigen Sie den Plot an\n",
        "    plt.tight_layout()\n",
        "    plt.show()"
      ],
      "metadata": {
        "id": "xY4ecWOQRd-i"
      },
      "execution_count": 40,
      "outputs": []
    },
    {
      "cell_type": "code",
      "source": [
        "plot_daily_mean_data(df_UVI, df_CAMS)"
      ],
      "metadata": {
        "id": "7PWUCObySxAq"
      },
      "execution_count": null,
      "outputs": []
    },
    {
      "cell_type": "markdown",
      "source": [
        "### Plot der täglichen Verläufe:"
      ],
      "metadata": {
        "id": "eV14uPWjhdZT"
      }
    },
    {
      "cell_type": "code",
      "source": [
        "def plot_daily_data_and_save(df1, df2, output_dir, columns1=['Wert1'], columns2=['Wert2']):\n",
        "\n",
        "    # Erstellen Sie das Ausgabeverzeichnis, wenn es nicht vorhanden ist\n",
        "    if not os.path.exists(output_dir):\n",
        "        os.makedirs(output_dir)\n",
        "\n",
        "    # Gruppieren Sie die DataFrames nach Tag und plotten Sie den Verlauf für jeden Tag\n",
        "    for date, group1 in df1.groupby(df1.index.date):\n",
        "        group2 = df2[df2.index.date == date]\n",
        "\n",
        "        # Erstellen Sie Subplots für jeden Wert\n",
        "        fig, axes = plt.subplots(len(columns1) + len(columns2), 1, figsize=(10, 6 * (len(columns1) + len(columns2))))\n",
        "\n",
        "        for i, col in enumerate(columns1):\n",
        "            axes[i].plot(group1.index, group1[col], label=f'DataFrame 1 - {col}')\n",
        "            axes[i].set_ylabel(f'{col} (DataFrame 1)')\n",
        "            axes[i].grid(True)\n",
        "\n",
        "        for i, col in enumerate(columns2, start=len(columns1)):\n",
        "            axes[i].plot(group2.index, group2[col], label=f'DataFrame 2 - {col}')\n",
        "            axes[i].set_ylabel(f'{col} (DataFrame 2)')\n",
        "            axes[i].grid(True)\n",
        "\n",
        "        plt.xlabel('Stunde')\n",
        "        plt.suptitle(f'Messwerte für {date}', y=0.92)  # Einstellen des Titels oberhalb der Subplots\n",
        "        plt.tight_layout()\n",
        "\n",
        "        # Speichern Sie den Plot als Bild\n",
        "        plot_filename = os.path.join(output_dir, f'plot_{date}.png')\n",
        "        plt.savefig(plot_filename)\n",
        "        plt.close()  # Schließen Sie den aktuellen Plot, um Speicher freizugeben"
      ],
      "metadata": {
        "id": "p5yGgbewfU57"
      },
      "execution_count": 47,
      "outputs": []
    },
    {
      "cell_type": "code",
      "source": [
        "columns_UVI = ['UVI', 'erythem']  # Beispiel für Spalten aus df1\n",
        "columns_CAMS = ['aod469', 'aod550']  # Beispiel für Spalten aus df2\n",
        "plot_daily_data_and_save(df_UVI, df_CAMS, output_directory, columns1, columns2)"
      ],
      "metadata": {
        "colab": {
          "base_uri": "https://localhost:8080/",
          "height": 211
        },
        "id": "SS0EirAUTT5x",
        "outputId": "1a032e44-54f8-402e-8add-c7e67d2f07a9"
      },
      "execution_count": 48,
      "outputs": [
        {
          "output_type": "error",
          "ename": "NameError",
          "evalue": "ignored",
          "traceback": [
            "\u001b[0;31m---------------------------------------------------------------------------\u001b[0m",
            "\u001b[0;31mNameError\u001b[0m                                 Traceback (most recent call last)",
            "\u001b[0;32m<ipython-input-48-0590752fe0d6>\u001b[0m in \u001b[0;36m<cell line: 3>\u001b[0;34m()\u001b[0m\n\u001b[1;32m      1\u001b[0m \u001b[0mcolumns_UVI\u001b[0m \u001b[0;34m=\u001b[0m \u001b[0;34m[\u001b[0m\u001b[0;34m'UVI'\u001b[0m\u001b[0;34m,\u001b[0m \u001b[0;34m'erythem'\u001b[0m\u001b[0;34m]\u001b[0m  \u001b[0;31m# Beispiel für Spalten aus df1\u001b[0m\u001b[0;34m\u001b[0m\u001b[0;34m\u001b[0m\u001b[0m\n\u001b[1;32m      2\u001b[0m \u001b[0mcolumns_CAMS\u001b[0m \u001b[0;34m=\u001b[0m \u001b[0;34m[\u001b[0m\u001b[0;34m'aod469'\u001b[0m\u001b[0;34m,\u001b[0m \u001b[0;34m'aod550'\u001b[0m\u001b[0;34m]\u001b[0m  \u001b[0;31m# Beispiel für Spalten aus df2\u001b[0m\u001b[0;34m\u001b[0m\u001b[0;34m\u001b[0m\u001b[0m\n\u001b[0;32m----> 3\u001b[0;31m \u001b[0mplot_daily_data_and_save\u001b[0m\u001b[0;34m(\u001b[0m\u001b[0mdf_UVI\u001b[0m\u001b[0;34m,\u001b[0m \u001b[0mdf_CAMS\u001b[0m\u001b[0;34m,\u001b[0m \u001b[0moutput_directory\u001b[0m\u001b[0;34m,\u001b[0m \u001b[0mcolumns1\u001b[0m\u001b[0;34m,\u001b[0m \u001b[0mcolumns2\u001b[0m\u001b[0;34m)\u001b[0m\u001b[0;34m\u001b[0m\u001b[0;34m\u001b[0m\u001b[0m\n\u001b[0m",
            "\u001b[0;31mNameError\u001b[0m: name 'output_directory' is not defined"
          ]
        }
      ]
    },
    {
      "cell_type": "code",
      "source": [],
      "metadata": {
        "id": "8KA0KaN3flxT"
      },
      "execution_count": null,
      "outputs": []
    }
  ]
}