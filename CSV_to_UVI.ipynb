{
  "nbformat": 4,
  "nbformat_minor": 0,
  "metadata": {
    "colab": {
      "provenance": [],
      "authorship_tag": "ABX9TyOM2rTuGizAI8QeomOwaMiT",
      "include_colab_link": true
    },
    "kernelspec": {
      "name": "python3",
      "display_name": "Python 3"
    },
    "language_info": {
      "name": "python"
    }
  },
  "cells": [
    {
      "cell_type": "markdown",
      "metadata": {
        "id": "view-in-github",
        "colab_type": "text"
      },
      "source": [
        "<a href=\"https://colab.research.google.com/github/rjanow/Masterarbeit/blob/main/CSV_to_UVI.ipynb\" target=\"_parent\"><img src=\"https://colab.research.google.com/assets/colab-badge.svg\" alt=\"Open In Colab\"/></a>"
      ]
    },
    {
      "cell_type": "markdown",
      "source": [
        "# Hier wird mit Hilfe der vorverarebiteten Messdaten der UVI berechnet:"
      ],
      "metadata": {
        "id": "NIP7or0zyBfy"
      }
    },
    {
      "cell_type": "markdown",
      "source": [
        "**Dokumentenname: CSV_to_UVI.ipynb**\n",
        "\n",
        "Es werden die vorverarbeiteten UV-Spektren in einen UVI und in die UVA und UVB Strahlung aggregiert. Zu Beginn muss das Skript *UV_Measurement_to_CSV* ausgeführt werden, um die Spektren in einen Dataframe umzuwandeln. Aufgrund der großen Datenmenge geschieht die Verarbeitung für jeden Monat getrennt."
      ],
      "metadata": {
        "id": "xqfE_b8wwIq-"
      }
    },
    {
      "cell_type": "markdown",
      "source": [
        "## Import der benötigten Module:"
      ],
      "metadata": {
        "id": "dF2bn7NPxOTE"
      }
    },
    {
      "cell_type": "code",
      "source": [
        "# Import der benötigten Module\n",
        "import os\n",
        "import pandas as pd\n",
        "import numpy as np\n",
        "import matplotlib.pyplot as plt"
      ],
      "metadata": {
        "id": "_A1lAVyv5xfL"
      },
      "execution_count": 1,
      "outputs": []
    },
    {
      "cell_type": "markdown",
      "source": [
        "Mount der Google-Drive:"
      ],
      "metadata": {
        "id": "z3pYHXSOxU6I"
      }
    },
    {
      "cell_type": "code",
      "source": [
        "# Mount google drive\n",
        "from google.colab import drive\n",
        "from google.colab import files\n",
        "\n",
        "drive.mount('/content/drive')"
      ],
      "metadata": {
        "colab": {
          "base_uri": "https://localhost:8080/"
        },
        "id": "_y2YMPgL78lg",
        "outputId": "06753920-23aa-415f-c3d0-40d92c92d6db"
      },
      "execution_count": 2,
      "outputs": [
        {
          "output_type": "stream",
          "name": "stdout",
          "text": [
            "Drive already mounted at /content/drive; to attempt to forcibly remount, call drive.mount(\"/content/drive\", force_remount=True).\n"
          ]
        }
      ]
    },
    {
      "cell_type": "markdown",
      "source": [
        "**Monat der Exportiert werden sollen:**\n",
        "\n",
        "22.06\n",
        "22.07\n",
        "22.08\n",
        "22.09\n",
        "22.10\n",
        "22.11\n",
        "22.12\n",
        "23.01\n",
        "23.02\n",
        "23.03\n",
        "23.04\n",
        "23.05\n",
        "23.06\n",
        "23.07\n",
        "23.08"
      ],
      "metadata": {
        "id": "EdODSS4Pjage"
      }
    },
    {
      "cell_type": "code",
      "source": [
        "month = '22.06'"
      ],
      "metadata": {
        "id": "-xtIHFgTHfLD"
      },
      "execution_count": 3,
      "outputs": []
    },
    {
      "cell_type": "markdown",
      "source": [
        "## Daten einlesen:"
      ],
      "metadata": {
        "id": "kiskXWeUyEjq"
      }
    },
    {
      "cell_type": "code",
      "source": [
        "# Import der CSV mit den rohen Messdaten\n",
        "# Pfad zur CSV-Datei auf Google Drive\n",
        "drive_path = '/content/drive/My Drive/Colab_Notebooks/CSV_Messdaten/' + month\n",
        "\n",
        "# CSV-Datei einlesen und DataFrame erstellen\n",
        "df_Messdaten = pd.read_csv(drive_path)"
      ],
      "metadata": {
        "id": "fAFHfjJGyO4j"
      },
      "execution_count": 4,
      "outputs": []
    },
    {
      "cell_type": "markdown",
      "source": [
        "## Definetion der UV-Gewichtungsfunktion und UVA und UVB Bereich:"
      ],
      "metadata": {
        "id": "SP5mGJoryJf5"
      }
    },
    {
      "cell_type": "code",
      "source": [
        "# Gewichtungsfunktion für den UVI\n",
        "def weight_function(Wellenlaenge):\n",
        "    if Wellenlaenge <= 298:\n",
        "        return 1\n",
        "    elif Wellenlaenge > 298 and Wellenlaenge <= 328:\n",
        "        return 10**(0.094 * (298.0 - Wellenlaenge))\n",
        "    elif Wellenlaenge > 328 and Wellenlaenge <= 400:\n",
        "        return 10**(0.015 * (139.0 - Wellenlaenge))\n",
        "    else:\n",
        "        return 0"
      ],
      "metadata": {
        "id": "W04C2o97vtra"
      },
      "execution_count": 5,
      "outputs": []
    },
    {
      "cell_type": "code",
      "source": [
        "# Bereich von Spalte x bis Spalte y (einschließlich y)\n",
        "x_UVI = '290.0'\n",
        "y_UVI = '400.0'\n",
        "selected_columns_UVI = df_Messdaten.columns[(df_Messdaten.columns.get_loc(x_UVI)):(df_Messdaten.columns.get_loc(y_UVI)+1)]"
      ],
      "metadata": {
        "id": "keEeM8bm5OGW"
      },
      "execution_count": 6,
      "outputs": []
    },
    {
      "cell_type": "code",
      "source": [
        "# UVB Bereich von 290 bis 320.1 nm\n",
        "x_UVB = '290.0'\n",
        "y_UVB = '315.0'\n",
        "selected_columns_UVA = df_Messdaten.columns[(df_Messdaten.columns.get_loc(x_UVB)):(df_Messdaten.columns.get_loc(y_UVB)+1)]"
      ],
      "metadata": {
        "id": "ckacBkgqej9G"
      },
      "execution_count": 7,
      "outputs": []
    },
    {
      "cell_type": "code",
      "source": [
        "# UVA Bereich von 320.1 bis 400 nm\n",
        "x_UVA = '315.1'\n",
        "y_UVA = '400.0'\n",
        "selected_columns_UVB = df_Messdaten.columns[(df_Messdaten.columns.get_loc(x_UVA)):(df_Messdaten.columns.get_loc(y_UVA)+1)]"
      ],
      "metadata": {
        "id": "le_EoINHi-OD"
      },
      "execution_count": 8,
      "outputs": []
    },
    {
      "cell_type": "markdown",
      "source": [
        "## Erythemgewichtete UV-Messwerte, UVI und UVA UVB bestimmen:"
      ],
      "metadata": {
        "id": "SaTSIaNdya6I"
      }
    },
    {
      "cell_type": "code",
      "source": [
        "# Erythemgewichtete UV-Messwerte\n",
        "df_Gewichtet = []\n",
        "df_Gewichtet = df_Messdaten[selected_columns_UVI].apply(lambda col: col * weight_function(float(col.name)), axis=0)"
      ],
      "metadata": {
        "id": "9a3VGaYEvyXR"
      },
      "execution_count": 9,
      "outputs": []
    },
    {
      "cell_type": "code",
      "source": [
        "def integrate_row(row):\n",
        "    x_values = np.array([float(col) for col in row.index])  # X-Werte aus Spaltennamen extrahieren\n",
        "    y_values = np.array(row)\n",
        "    integral = np.trapz(y_values, x_values)\n",
        "    return integral"
      ],
      "metadata": {
        "id": "busivxMc0ShI"
      },
      "execution_count": 10,
      "outputs": []
    },
    {
      "cell_type": "code",
      "source": [
        "def calculate_UV_ABC(df):\n",
        "    return df.sum(axis=1)"
      ],
      "metadata": {
        "id": "B5UyjcgjduGh"
      },
      "execution_count": 11,
      "outputs": []
    },
    {
      "cell_type": "code",
      "source": [
        "# Summe der Messwerte über das UVA und UVB Spektrum\n",
        "UVA = calculate_UV_ABC(df_Messdaten[selected_columns_UVA])\n",
        "UVB = calculate_UV_ABC(df_Messdaten[selected_columns_UVB])\n",
        "# Spalte umbenennen\n",
        "UVA.name = 'UVB'\n",
        "UVB.name = 'UVB'"
      ],
      "metadata": {
        "id": "0Wh7HH1-kE3p"
      },
      "execution_count": 12,
      "outputs": []
    },
    {
      "cell_type": "code",
      "source": [
        "ser_UVI = []\n",
        "df_UVI = []\n",
        "\n",
        "# Integration der gewichteten UV-Messwerte\n",
        "ser_UVI = df_Gewichtet.apply(integrate_row, axis=1)\n",
        "# Umwandeln der Serie in einen Dataframe\n",
        "df_UVI = pd.DataFrame(ser_UVI, columns=['erythem'])"
      ],
      "metadata": {
        "id": "pQ-Mg1syLv4k"
      },
      "execution_count": 13,
      "outputs": []
    },
    {
      "cell_type": "code",
      "source": [
        "# Dem Dataframe die Werte für UVA und UVB hinzufügen\n",
        "df_UV = pd.concat([df_UVI, UVA, UVB], axis=1)"
      ],
      "metadata": {
        "id": "jnEEfuJ0IEou"
      },
      "execution_count": 15,
      "outputs": []
    },
    {
      "cell_type": "code",
      "source": [
        "type(df_Gewichtet), type(df_UV)"
      ],
      "metadata": {
        "colab": {
          "base_uri": "https://localhost:8080/"
        },
        "id": "kAOX9B7gcgrZ",
        "outputId": "59b7e213-a7de-47b1-d17f-84d66ff41bb2"
      },
      "execution_count": 16,
      "outputs": [
        {
          "output_type": "execute_result",
          "data": {
            "text/plain": [
              "(pandas.core.frame.DataFrame, pandas.core.frame.DataFrame)"
            ]
          },
          "metadata": {},
          "execution_count": 16
        }
      ]
    },
    {
      "cell_type": "markdown",
      "source": [
        "## Abspeichern der UVI, UVA, UVB Messwerte in einen Dataframe:"
      ],
      "metadata": {
        "id": "XEmhbwhIAJ3x"
      }
    },
    {
      "cell_type": "code",
      "source": [
        "# Exportieren\n",
        "columns_to_copy = ['Datetime', 'Datum', 'Uhrzeit', 'Messzeitpunkt', 'UVA', 'UVB']\n",
        "\n",
        "for col in columns_to_copy:\n",
        "  df_Gewichtet.insert(0, col, df_Messdaten[col])\n",
        "  df_UV.insert(0, col, df_Messdaten[col])\n",
        "  df_UV['UVI'] = df_UV['erythem'].copy() * 40,"
      ],
      "metadata": {
        "id": "aPrTWfZraXOX",
        "outputId": "87b96ab3-ce37-4943-c4ad-547f14b27265",
        "colab": {
          "base_uri": "https://localhost:8080/",
          "height": 321
        }
      },
      "execution_count": 17,
      "outputs": [
        {
          "output_type": "error",
          "ename": "ValueError",
          "evalue": "Length of values (1) does not match length of index (7308)",
          "traceback": [
            "\u001b[0;31m---------------------------------------------------------------------------\u001b[0m",
            "\u001b[0;31mValueError\u001b[0m                                Traceback (most recent call last)",
            "\u001b[0;32m<ipython-input-17-6d5b6fe4e175>\u001b[0m in \u001b[0;36m<cell line: 4>\u001b[0;34m()\u001b[0m\n\u001b[1;32m      5\u001b[0m   \u001b[0mdf_Gewichtet\u001b[0m\u001b[0;34m.\u001b[0m\u001b[0minsert\u001b[0m\u001b[0;34m(\u001b[0m\u001b[0;36m0\u001b[0m\u001b[0;34m,\u001b[0m \u001b[0mcol\u001b[0m\u001b[0;34m,\u001b[0m \u001b[0mdf_Messdaten\u001b[0m\u001b[0;34m[\u001b[0m\u001b[0mcol\u001b[0m\u001b[0;34m]\u001b[0m\u001b[0;34m)\u001b[0m\u001b[0;34m\u001b[0m\u001b[0;34m\u001b[0m\u001b[0m\n\u001b[1;32m      6\u001b[0m   \u001b[0mdf_UV\u001b[0m\u001b[0;34m.\u001b[0m\u001b[0minsert\u001b[0m\u001b[0;34m(\u001b[0m\u001b[0;36m0\u001b[0m\u001b[0;34m,\u001b[0m \u001b[0mcol\u001b[0m\u001b[0;34m,\u001b[0m \u001b[0mdf_Messdaten\u001b[0m\u001b[0;34m[\u001b[0m\u001b[0mcol\u001b[0m\u001b[0;34m]\u001b[0m\u001b[0;34m)\u001b[0m\u001b[0;34m\u001b[0m\u001b[0;34m\u001b[0m\u001b[0m\n\u001b[0;32m----> 7\u001b[0;31m   \u001b[0mdf_UV\u001b[0m\u001b[0;34m[\u001b[0m\u001b[0;34m'UVI'\u001b[0m\u001b[0;34m]\u001b[0m \u001b[0;34m=\u001b[0m \u001b[0mdf_UV\u001b[0m\u001b[0;34m[\u001b[0m\u001b[0;34m'erythem'\u001b[0m\u001b[0;34m]\u001b[0m\u001b[0;34m.\u001b[0m\u001b[0mcopy\u001b[0m\u001b[0;34m(\u001b[0m\u001b[0;34m)\u001b[0m \u001b[0;34m*\u001b[0m \u001b[0;36m40\u001b[0m\u001b[0;34m,\u001b[0m\u001b[0;34m\u001b[0m\u001b[0;34m\u001b[0m\u001b[0m\n\u001b[0m",
            "\u001b[0;32m/usr/local/lib/python3.10/dist-packages/pandas/core/frame.py\u001b[0m in \u001b[0;36m__setitem__\u001b[0;34m(self, key, value)\u001b[0m\n\u001b[1;32m   3978\u001b[0m         \u001b[0;32melse\u001b[0m\u001b[0;34m:\u001b[0m\u001b[0;34m\u001b[0m\u001b[0;34m\u001b[0m\u001b[0m\n\u001b[1;32m   3979\u001b[0m             \u001b[0;31m# set column\u001b[0m\u001b[0;34m\u001b[0m\u001b[0;34m\u001b[0m\u001b[0m\n\u001b[0;32m-> 3980\u001b[0;31m             \u001b[0mself\u001b[0m\u001b[0;34m.\u001b[0m\u001b[0m_set_item\u001b[0m\u001b[0;34m(\u001b[0m\u001b[0mkey\u001b[0m\u001b[0;34m,\u001b[0m \u001b[0mvalue\u001b[0m\u001b[0;34m)\u001b[0m\u001b[0;34m\u001b[0m\u001b[0;34m\u001b[0m\u001b[0m\n\u001b[0m\u001b[1;32m   3981\u001b[0m \u001b[0;34m\u001b[0m\u001b[0m\n\u001b[1;32m   3982\u001b[0m     \u001b[0;32mdef\u001b[0m \u001b[0m_setitem_slice\u001b[0m\u001b[0;34m(\u001b[0m\u001b[0mself\u001b[0m\u001b[0;34m,\u001b[0m \u001b[0mkey\u001b[0m\u001b[0;34m:\u001b[0m \u001b[0mslice\u001b[0m\u001b[0;34m,\u001b[0m \u001b[0mvalue\u001b[0m\u001b[0;34m)\u001b[0m\u001b[0;34m:\u001b[0m\u001b[0;34m\u001b[0m\u001b[0;34m\u001b[0m\u001b[0m\n",
            "\u001b[0;32m/usr/local/lib/python3.10/dist-packages/pandas/core/frame.py\u001b[0m in \u001b[0;36m_set_item\u001b[0;34m(self, key, value)\u001b[0m\n\u001b[1;32m   4172\u001b[0m         \u001b[0mensure\u001b[0m \u001b[0mhomogeneity\u001b[0m\u001b[0;34m.\u001b[0m\u001b[0;34m\u001b[0m\u001b[0;34m\u001b[0m\u001b[0m\n\u001b[1;32m   4173\u001b[0m         \"\"\"\n\u001b[0;32m-> 4174\u001b[0;31m         \u001b[0mvalue\u001b[0m \u001b[0;34m=\u001b[0m \u001b[0mself\u001b[0m\u001b[0;34m.\u001b[0m\u001b[0m_sanitize_column\u001b[0m\u001b[0;34m(\u001b[0m\u001b[0mvalue\u001b[0m\u001b[0;34m)\u001b[0m\u001b[0;34m\u001b[0m\u001b[0;34m\u001b[0m\u001b[0m\n\u001b[0m\u001b[1;32m   4175\u001b[0m \u001b[0;34m\u001b[0m\u001b[0m\n\u001b[1;32m   4176\u001b[0m         if (\n",
            "\u001b[0;32m/usr/local/lib/python3.10/dist-packages/pandas/core/frame.py\u001b[0m in \u001b[0;36m_sanitize_column\u001b[0;34m(self, value)\u001b[0m\n\u001b[1;32m   4913\u001b[0m \u001b[0;34m\u001b[0m\u001b[0m\n\u001b[1;32m   4914\u001b[0m         \u001b[0;32mif\u001b[0m \u001b[0mis_list_like\u001b[0m\u001b[0;34m(\u001b[0m\u001b[0mvalue\u001b[0m\u001b[0;34m)\u001b[0m\u001b[0;34m:\u001b[0m\u001b[0;34m\u001b[0m\u001b[0;34m\u001b[0m\u001b[0m\n\u001b[0;32m-> 4915\u001b[0;31m             \u001b[0mcom\u001b[0m\u001b[0;34m.\u001b[0m\u001b[0mrequire_length_match\u001b[0m\u001b[0;34m(\u001b[0m\u001b[0mvalue\u001b[0m\u001b[0;34m,\u001b[0m \u001b[0mself\u001b[0m\u001b[0;34m.\u001b[0m\u001b[0mindex\u001b[0m\u001b[0;34m)\u001b[0m\u001b[0;34m\u001b[0m\u001b[0;34m\u001b[0m\u001b[0m\n\u001b[0m\u001b[1;32m   4916\u001b[0m         \u001b[0;32mreturn\u001b[0m \u001b[0msanitize_array\u001b[0m\u001b[0;34m(\u001b[0m\u001b[0mvalue\u001b[0m\u001b[0;34m,\u001b[0m \u001b[0mself\u001b[0m\u001b[0;34m.\u001b[0m\u001b[0mindex\u001b[0m\u001b[0;34m,\u001b[0m \u001b[0mcopy\u001b[0m\u001b[0;34m=\u001b[0m\u001b[0;32mTrue\u001b[0m\u001b[0;34m,\u001b[0m \u001b[0mallow_2d\u001b[0m\u001b[0;34m=\u001b[0m\u001b[0;32mTrue\u001b[0m\u001b[0;34m)\u001b[0m\u001b[0;34m\u001b[0m\u001b[0;34m\u001b[0m\u001b[0m\n\u001b[1;32m   4917\u001b[0m \u001b[0;34m\u001b[0m\u001b[0m\n",
            "\u001b[0;32m/usr/local/lib/python3.10/dist-packages/pandas/core/common.py\u001b[0m in \u001b[0;36mrequire_length_match\u001b[0;34m(data, index)\u001b[0m\n\u001b[1;32m    569\u001b[0m     \"\"\"\n\u001b[1;32m    570\u001b[0m     \u001b[0;32mif\u001b[0m \u001b[0mlen\u001b[0m\u001b[0;34m(\u001b[0m\u001b[0mdata\u001b[0m\u001b[0;34m)\u001b[0m \u001b[0;34m!=\u001b[0m \u001b[0mlen\u001b[0m\u001b[0;34m(\u001b[0m\u001b[0mindex\u001b[0m\u001b[0;34m)\u001b[0m\u001b[0;34m:\u001b[0m\u001b[0;34m\u001b[0m\u001b[0;34m\u001b[0m\u001b[0m\n\u001b[0;32m--> 571\u001b[0;31m         raise ValueError(\n\u001b[0m\u001b[1;32m    572\u001b[0m             \u001b[0;34m\"Length of values \"\u001b[0m\u001b[0;34m\u001b[0m\u001b[0;34m\u001b[0m\u001b[0m\n\u001b[1;32m    573\u001b[0m             \u001b[0;34mf\"({len(data)}) \"\u001b[0m\u001b[0;34m\u001b[0m\u001b[0;34m\u001b[0m\u001b[0m\n",
            "\u001b[0;31mValueError\u001b[0m: Length of values (1) does not match length of index (7308)"
          ]
        }
      ]
    },
    {
      "cell_type": "code",
      "source": [
        "df_UV"
      ],
      "metadata": {
        "id": "iI1gi53dbS_a"
      },
      "execution_count": null,
      "outputs": []
    },
    {
      "cell_type": "code",
      "source": [
        "def save_dataframe_to_drive(dataframe, folder_path, filename):\n",
        "\n",
        "    # Erstelle den vollen Pfad zur Datei\n",
        "    full_path = os.path.join(folder_path, filename)\n",
        "\n",
        "    # Speichere den DataFrame als CSV-Datei auf Google Drive\n",
        "    dataframe.to_csv(full_path, index=False)\n",
        "\n",
        "    print(f'Der DataFrame wurde als {filename} in {folder_path} auf Google Drive gespeichert.')"
      ],
      "metadata": {
        "id": "TcSpTUV4efjn"
      },
      "execution_count": null,
      "outputs": []
    },
    {
      "cell_type": "code",
      "source": [
        "plt.plot(df_UV['UVI'])"
      ],
      "metadata": {
        "id": "7u3jHrV3hP9C"
      },
      "execution_count": null,
      "outputs": []
    },
    {
      "cell_type": "code",
      "source": [
        "# save_dataframe_to_drive(df_UV, '/content/drive/My Drive/Colab_Notebooks/CSV_UVI', month)"
      ],
      "metadata": {
        "id": "POBk1RHxegfB"
      },
      "execution_count": null,
      "outputs": []
    },
    {
      "cell_type": "code",
      "source": [
        "# save_dataframe_to_drive(df_Gewichtet, '/content/drive/My Drive/Colab_Notebooks/CSV_Gewichtet', month)"
      ],
      "metadata": {
        "id": "3Xcot1MzfZCt"
      },
      "execution_count": null,
      "outputs": []
    }
  ]
}