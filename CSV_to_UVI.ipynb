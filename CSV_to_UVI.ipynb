{
  "nbformat": 4,
  "nbformat_minor": 0,
  "metadata": {
    "colab": {
      "provenance": [],
      "authorship_tag": "ABX9TyMapuYkwnoLjksRfXU0XcTQ",
      "include_colab_link": true
    },
    "kernelspec": {
      "name": "python3",
      "display_name": "Python 3"
    },
    "language_info": {
      "name": "python"
    }
  },
  "cells": [
    {
      "cell_type": "markdown",
      "metadata": {
        "id": "view-in-github",
        "colab_type": "text"
      },
      "source": [
        "<a href=\"https://colab.research.google.com/github/rjanow/Masterarbeit/blob/main/CSV_to_UVI.ipynb\" target=\"_parent\"><img src=\"https://colab.research.google.com/assets/colab-badge.svg\" alt=\"Open In Colab\"/></a>"
      ]
    },
    {
      "cell_type": "markdown",
      "source": [
        "# Hier wird mit Hilfe der Messdaten der UVI berechnet"
      ],
      "metadata": {
        "id": "NIP7or0zyBfy"
      }
    },
    {
      "cell_type": "code",
      "source": [
        "# Import der benötigten Module\n",
        "import os\n",
        "import pandas as pd\n",
        "import numpy as np\n",
        "import matplotlib.pyplot as plt\n",
        "\n",
        "from google.colab import drive\n",
        "from google.colab import files"
      ],
      "metadata": {
        "id": "_A1lAVyv5xfL"
      },
      "execution_count": 1,
      "outputs": []
    },
    {
      "cell_type": "code",
      "source": [
        "# Mount google drive\n",
        "drive.mount('/content/drive')"
      ],
      "metadata": {
        "colab": {
          "base_uri": "https://localhost:8080/"
        },
        "id": "_y2YMPgL78lg",
        "outputId": "fcf41fc5-fb4a-4e9a-d943-723aa94e29fe"
      },
      "execution_count": 2,
      "outputs": [
        {
          "output_type": "stream",
          "name": "stdout",
          "text": [
            "Drive already mounted at /content/drive; to attempt to forcibly remount, call drive.mount(\"/content/drive\", force_remount=True).\n"
          ]
        }
      ]
    },
    {
      "cell_type": "markdown",
      "source": [
        "**Monat der Exportiert werden sollen:**"
      ],
      "metadata": {
        "id": "EdODSS4Pjage"
      }
    },
    {
      "cell_type": "code",
      "source": [
        "month = '22.06'"
      ],
      "metadata": {
        "id": "-xtIHFgTHfLD"
      },
      "execution_count": 3,
      "outputs": []
    },
    {
      "cell_type": "code",
      "source": [
        "# Import der CSV mit den rohen Messdaten\n",
        "# Pfad zur CSV-Datei auf Google Drive\n",
        "drive_path = '/content/drive/My Drive/Colab_Notebooks/CSV_Messdaten/' + month\n",
        "\n",
        "# CSV-Datei einlesen und DataFrame erstellen\n",
        "df_Messdaten = pd.read_csv(drive_path)"
      ],
      "metadata": {
        "id": "fAFHfjJGyO4j"
      },
      "execution_count": 4,
      "outputs": []
    },
    {
      "cell_type": "code",
      "source": [
        "# Gewichtungsfunktion für den UVI\n",
        "def weight_function(Wellenlaenge):\n",
        "    if Wellenlaenge <= 298:\n",
        "        return 1\n",
        "    elif Wellenlaenge > 298 and Wellenlaenge <= 328:\n",
        "        return 10**(0.094 * (298.0 - Wellenlaenge))\n",
        "    elif Wellenlaenge > 328 and Wellenlaenge <= 400:\n",
        "        return 10**(0.015 * (139.0 - Wellenlaenge))\n",
        "    else:\n",
        "        return 0"
      ],
      "metadata": {
        "id": "W04C2o97vtra"
      },
      "execution_count": 5,
      "outputs": []
    },
    {
      "cell_type": "code",
      "source": [
        "# Bereich von Spalte x bis Spalte y (einschließlich y)\n",
        "x_UVI = '290.0'\n",
        "y_UVI = '400.0'\n",
        "selected_columns_UVI = df_Messdaten.columns[(df_Messdaten.columns.get_loc(x_UVI)):(df_Messdaten.columns.get_loc(y_UVI)+1)]"
      ],
      "metadata": {
        "id": "keEeM8bm5OGW"
      },
      "execution_count": 6,
      "outputs": []
    },
    {
      "cell_type": "code",
      "source": [
        "# UVB Bereich von 290 bis 320.1 nm\n",
        "x_UVB = '290.0'\n",
        "y_UVB = '320.0'\n",
        "selected_columns_UVA = df_Messdaten.columns[(df_Messdaten.columns.get_loc(x_UVB)):(df_Messdaten.columns.get_loc(y_UVB)+1)]"
      ],
      "metadata": {
        "id": "ckacBkgqej9G"
      },
      "execution_count": 7,
      "outputs": []
    },
    {
      "cell_type": "code",
      "source": [
        "# UVA Bereich von 320.1 bis 400 nm\n",
        "x_UVA = '320.1'\n",
        "y_UVA = '400.0'\n",
        "selected_columns_UVB = df_Messdaten.columns[(df_Messdaten.columns.get_loc(x_UVA)):(df_Messdaten.columns.get_loc(y_UVA)+1)]"
      ],
      "metadata": {
        "id": "le_EoINHi-OD"
      },
      "execution_count": 8,
      "outputs": []
    },
    {
      "cell_type": "code",
      "source": [
        "# Erythemgewichtete UV-Messwerte\n",
        "df_Gewichtet = []\n",
        "df_Gewichtet = df_Messdaten[selected_columns_UVI].apply(lambda col: col * weight_function(float(col.name)), axis=0)"
      ],
      "metadata": {
        "id": "9a3VGaYEvyXR"
      },
      "execution_count": 10,
      "outputs": []
    },
    {
      "cell_type": "code",
      "source": [
        "def integrate_row(row):\n",
        "    x_values = np.array([float(col) for col in row.index])  # X-Werte aus Spaltennamen extrahieren\n",
        "    y_values = np.array(row)\n",
        "    integral = np.trapz(y_values, x_values)\n",
        "    return integral"
      ],
      "metadata": {
        "id": "busivxMc0ShI"
      },
      "execution_count": 11,
      "outputs": []
    },
    {
      "cell_type": "code",
      "source": [
        "def calculate_UV_ABC(df):\n",
        "    return df.sum(axis=1)"
      ],
      "metadata": {
        "id": "B5UyjcgjduGh"
      },
      "execution_count": 12,
      "outputs": []
    },
    {
      "cell_type": "code",
      "source": [
        "# Summe der Messwerte über das UVA und UVB Spektrum\n",
        "UVA = calculate_UV_ABC(df_Messdaten[selected_columns_UVA])\n",
        "UVB = calculate_UV_ABC(df_Messdaten[selected_columns_UVB])"
      ],
      "metadata": {
        "id": "0Wh7HH1-kE3p"
      },
      "execution_count": 13,
      "outputs": []
    },
    {
      "cell_type": "code",
      "source": [
        "ser_UVI = []\n",
        "df_UVI = []\n",
        "\n",
        "# Integration der gewichteten UV-Messwerte\n",
        "ser_UVI = df_Gewichtet.apply(integrate_row, axis=1)\n",
        "#\n",
        "df_UVI = pd.DataFrame(ser_UVI, columns=['erythem'])"
      ],
      "metadata": {
        "id": "pQ-Mg1syLv4k"
      },
      "execution_count": 14,
      "outputs": []
    },
    {
      "cell_type": "code",
      "source": [
        "type(df_Gewichtet), type(df_UVI)"
      ],
      "metadata": {
        "colab": {
          "base_uri": "https://localhost:8080/"
        },
        "id": "kAOX9B7gcgrZ",
        "outputId": "56434db4-eeca-47c7-9ef4-f5498f17980e"
      },
      "execution_count": 15,
      "outputs": [
        {
          "output_type": "execute_result",
          "data": {
            "text/plain": [
              "(pandas.core.frame.DataFrame, pandas.core.frame.DataFrame)"
            ]
          },
          "metadata": {},
          "execution_count": 15
        }
      ]
    },
    {
      "cell_type": "code",
      "source": [
        "# Exportieren\n",
        "columns_to_copy = ['Datetime', 'Datum', 'Uhrzeit', 'Messzeitpunkt']\n",
        "\n",
        "for col in columns_to_copy:\n",
        "  df_Gewichtet.insert(0, col, df_Messdaten[col])\n",
        "  df_UVI.insert(0, col, df_Messdaten[col])\n",
        "  df_UVI['UVI'] = df_UVI['erythem'].copy() * 40"
      ],
      "metadata": {
        "id": "aPrTWfZraXOX"
      },
      "execution_count": 16,
      "outputs": []
    },
    {
      "cell_type": "code",
      "source": [
        "# df_UVI"
      ],
      "metadata": {
        "id": "iI1gi53dbS_a"
      },
      "execution_count": 17,
      "outputs": []
    },
    {
      "cell_type": "code",
      "source": [
        "def save_dataframe_to_drive(dataframe, folder_path, filename):\n",
        "\n",
        "    # Erstelle den vollen Pfad zur Datei\n",
        "    full_path = os.path.join(folder_path, filename)\n",
        "\n",
        "    # Speichere den DataFrame als CSV-Datei auf Google Drive\n",
        "    dataframe.to_csv(full_path, index=False)\n",
        "\n",
        "    print(f'Der DataFrame wurde als {filename} in {folder_path} auf Google Drive gespeichert.')"
      ],
      "metadata": {
        "id": "TcSpTUV4efjn"
      },
      "execution_count": 18,
      "outputs": []
    },
    {
      "cell_type": "code",
      "source": [
        "plt.plot(df_UVI['UVI'])"
      ],
      "metadata": {
        "colab": {
          "base_uri": "https://localhost:8080/",
          "height": 447
        },
        "id": "7u3jHrV3hP9C",
        "outputId": "8d406ec9-b722-4a9f-8538-6e3f57f82744"
      },
      "execution_count": 19,
      "outputs": [
        {
          "output_type": "execute_result",
          "data": {
            "text/plain": [
              "[<matplotlib.lines.Line2D at 0x7a4eedc83c70>]"
            ]
          },
          "metadata": {},
          "execution_count": 19
        },
        {
          "output_type": "display_data",
          "data": {
            "text/plain": [
              "<Figure size 640x480 with 1 Axes>"
            ],
            "image/png": "[encoded data removed]"
          },
          "metadata": {}
        }
      ]
    },
    {
      "cell_type": "code",
      "source": [
        "# save_dataframe_to_drive(df_UVI, '/content/drive/My Drive/Colab_Notebooks/CSV_UVI', month)"
      ],
      "metadata": {
        "id": "POBk1RHxegfB"
      },
      "execution_count": 20,
      "outputs": []
    },
    {
      "cell_type": "code",
      "source": [
        "# save_dataframe_to_drive(df_Gewichtet, '/content/drive/My Drive/Colab_Notebooks/CSV_Gewichtet', month)"
      ],
      "metadata": {
        "id": "3Xcot1MzfZCt"
      },
      "execution_count": 21,
      "outputs": []
    }
  ]
}