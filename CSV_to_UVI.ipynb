{
  "nbformat": 4,
  "nbformat_minor": 0,
  "metadata": {
    "colab": {
      "provenance": [],
      "authorship_tag": "ABX9TyOk0Fwf/nDfimgQ+7atFzHn",
      "include_colab_link": true
    },
    "kernelspec": {
      "name": "python3",
      "display_name": "Python 3"
    },
    "language_info": {
      "name": "python"
    }
  },
  "cells": [
    {
      "cell_type": "markdown",
      "metadata": {
        "id": "view-in-github",
        "colab_type": "text"
      },
      "source": [
        "<a href=\"https://colab.research.google.com/github/rjanow/Masterarbeit/blob/main/CSV_to_UVI.ipynb\" target=\"_parent\"><img src=\"https://colab.research.google.com/assets/colab-badge.svg\" alt=\"Open In Colab\"/></a>"
      ]
    },
    {
      "cell_type": "markdown",
      "source": [
        "# Hier wird mit Hilfe der Messdaten der UVI berechnet"
      ],
      "metadata": {
        "id": "NIP7or0zyBfy"
      }
    },
    {
      "cell_type": "code",
      "source": [
        "# Import der benötigten Module\n",
        "import pandas as pd\n",
        "import numpy as np\n",
        "\n",
        "\n",
        "from google.colab import drive\n",
        "from google.colab import files"
      ],
      "metadata": {
        "id": "_A1lAVyv5xfL"
      },
      "execution_count": 1,
      "outputs": []
    },
    {
      "cell_type": "code",
      "source": [
        "# Mount google drive\n",
        "drive.mount('/content/drive')"
      ],
      "metadata": {
        "colab": {
          "base_uri": "https://localhost:8080/"
        },
        "id": "_y2YMPgL78lg",
        "outputId": "ef10646b-c5b9-43d1-a1ed-e4e02df33786"
      },
      "execution_count": 2,
      "outputs": [
        {
          "output_type": "stream",
          "name": "stdout",
          "text": [
            "Mounted at /content/drive\n"
          ]
        }
      ]
    },
    {
      "cell_type": "code",
      "source": [
        "# Monat der importiert werden soll\n",
        "month = '22.06'"
      ],
      "metadata": {
        "id": "-xtIHFgTHfLD"
      },
      "execution_count": 3,
      "outputs": []
    },
    {
      "cell_type": "code",
      "source": [
        "# Import der CSV mit den rohen Messdaten\n",
        "# Pfad zur CSV-Datei auf Google Drive\n",
        "drive_path = '/content/drive/My Drive/Colab_Notebooks/CSV_Messdaten/' + month\n",
        "\n",
        "# CSV-Datei einlesen und DataFrame erstellen\n",
        "df_Messdaten = pd.read_csv(drive_path)"
      ],
      "metadata": {
        "id": "fAFHfjJGyO4j"
      },
      "execution_count": 4,
      "outputs": []
    },
    {
      "cell_type": "code",
      "source": [
        "# Ausgabe des Dataframe\n",
        "print(df_Messdaten)"
      ],
      "metadata": {
        "colab": {
          "base_uri": "https://localhost:8080/"
        },
        "id": "SMxkwdSh8N-E",
        "outputId": "cfac1a17-a3d7-4eb1-ee58-b5ceaa30342a"
      },
      "execution_count": 5,
      "outputs": [
        {
          "output_type": "stream",
          "name": "stdout",
          "text": [
            "                 Datetime       Datum   Uhrzeit  Messzeitpunkt  290.0  290.1  \\\n",
            "0     2022-06-15 07:21:00  2022-06-15  07:21:00          26460    0.0    0.0   \n",
            "1     2022-06-15 07:23:00  2022-06-15  07:23:00          26580    0.0    0.0   \n",
            "2     2022-06-15 07:25:00  2022-06-15  07:25:00          26700    0.0    0.0   \n",
            "3     2022-06-15 07:27:00  2022-06-15  07:27:00          26820    0.0    0.0   \n",
            "4     2022-06-15 07:29:00  2022-06-15  07:29:00          26940    0.0    0.0   \n",
            "...                   ...         ...       ...            ...    ...    ...   \n",
            "7303  2022-06-30 18:49:00  2022-06-30  18:49:00          67740    0.0    0.0   \n",
            "7304  2022-06-30 18:51:00  2022-06-30  18:51:00          67860    0.0    0.0   \n",
            "7305  2022-06-30 18:53:00  2022-06-30  18:53:00          67980    0.0    0.0   \n",
            "7306  2022-06-30 18:55:00  2022-06-30  18:55:00          68100    0.0    0.0   \n",
            "7307  2022-06-30 18:57:00  2022-06-30  18:57:00          68220    0.0    0.0   \n",
            "\n",
            "      290.2  290.3  290.4  290.5  ...     419.1     419.2     419.3     419.4  \\\n",
            "0       0.0    0.0    0.0    0.0  ...  0.693500  0.691910  0.685560  0.669900   \n",
            "1       0.0    0.0    0.0    0.0  ...  0.723340  0.720150  0.715980  0.697770   \n",
            "2       0.0    0.0    0.0    0.0  ...  0.724600  0.719900  0.709220  0.693840   \n",
            "3       0.0    0.0    0.0    0.0  ...  0.739360  0.737440  0.729150  0.709380   \n",
            "4       0.0    0.0    0.0    0.0  ...  0.741280  0.741840  0.731630  0.710630   \n",
            "...     ...    ...    ...    ...  ...       ...       ...       ...       ...   \n",
            "7303    0.0    0.0    0.0    0.0  ...  0.017621  0.017573  0.017332  0.016969   \n",
            "7304    0.0    0.0    0.0    0.0  ...  0.015729  0.015730  0.015471  0.015085   \n",
            "7305    0.0    0.0    0.0    0.0  ...  0.015218  0.015181  0.014969  0.014715   \n",
            "7306    0.0    0.0    0.0    0.0  ...  0.017840  0.017820  0.017549  0.017234   \n",
            "7307    0.0    0.0    0.0    0.0  ...  0.017203  0.017194  0.017027  0.016621   \n",
            "\n",
            "         419.5     419.6     419.7     419.8     419.9     420.0  \n",
            "0     0.656610  0.646640  0.640170  0.636880  0.636530  0.642410  \n",
            "1     0.691250  0.678760  0.669920  0.663800  0.661820  0.669270  \n",
            "2     0.686640  0.676700  0.666200  0.661930  0.661600  0.671780  \n",
            "3     0.700580  0.692580  0.680470  0.672850  0.671560  0.675320  \n",
            "4     0.701250  0.692140  0.682440  0.676410  0.677050  0.685110  \n",
            "...        ...       ...       ...       ...       ...       ...  \n",
            "7303  0.016789  0.016625  0.016391  0.016304  0.016265  0.016429  \n",
            "7304  0.014909  0.014752  0.014533  0.014590  0.014665  0.014806  \n",
            "7305  0.014497  0.014267  0.014077  0.013996  0.014004  0.014091  \n",
            "7306  0.016933  0.016672  0.016487  0.016417  0.016472  0.016619  \n",
            "7307  0.016348  0.016120  0.016008  0.015902  0.015833  0.016020  \n",
            "\n",
            "[7308 rows x 1305 columns]\n"
          ]
        }
      ]
    },
    {
      "cell_type": "code",
      "source": [
        "# calculate UVI\n",
        "def calc_uvi(wavelength, spec):\n",
        "    s_er = np.array(\n",
        "        [(lambda x: 1 if x <= 298 else (10**(0.094*(298.0-x)) if x <= 328\n",
        "                                        else 10**(0.015*(139.0-x))))(i)\n",
        "         for i in wavelength])\n",
        "\n",
        "    uvi = 40 * np.sum(np.array(spec) * s_er * 0.1)\n",
        "    # uvi = 40 * uvi_temp.sum()\n",
        "\n",
        "    return uvi"
      ],
      "metadata": {
        "id": "SJjk3zdRIq_R"
      },
      "execution_count": 11,
      "outputs": []
    },
    {
      "cell_type": "code",
      "source": [
        "# Berechnen des UVI aus den Messdaten\n",
        "l = np.linspace(290, 420, 1301)\n",
        "df_UVI = []\n",
        "# calculate for each spectrum the uvi\n",
        "for line in df_Messdaten.values():\n",
        "    df_UVI.append(calc_uvi(l, line))"
      ],
      "metadata": {
        "colab": {
          "base_uri": "https://localhost:8080/",
          "height": 228
        },
        "id": "keEeM8bm5OGW",
        "outputId": "16e4424c-6fa5-4191-de00-27f14cee2c08"
      },
      "execution_count": 12,
      "outputs": [
        {
          "output_type": "error",
          "ename": "TypeError",
          "evalue": "ignored",
          "traceback": [
            "\u001b[0;31m---------------------------------------------------------------------------\u001b[0m",
            "\u001b[0;31mTypeError\u001b[0m                                 Traceback (most recent call last)",
            "\u001b[0;32m<ipython-input-12-502d83a104ed>\u001b[0m in \u001b[0;36m<cell line: 5>\u001b[0;34m()\u001b[0m\n\u001b[1;32m      3\u001b[0m \u001b[0mdf_UVI\u001b[0m \u001b[0;34m=\u001b[0m \u001b[0;34m[\u001b[0m\u001b[0;34m]\u001b[0m\u001b[0;34m\u001b[0m\u001b[0;34m\u001b[0m\u001b[0m\n\u001b[1;32m      4\u001b[0m \u001b[0;31m# calculate for each spectrum the uvi\u001b[0m\u001b[0;34m\u001b[0m\u001b[0;34m\u001b[0m\u001b[0m\n\u001b[0;32m----> 5\u001b[0;31m \u001b[0;32mfor\u001b[0m \u001b[0mline\u001b[0m \u001b[0;32min\u001b[0m \u001b[0mdf_Messdaten\u001b[0m\u001b[0;34m.\u001b[0m\u001b[0mvalues\u001b[0m\u001b[0;34m(\u001b[0m\u001b[0;34m)\u001b[0m\u001b[0;34m:\u001b[0m\u001b[0;34m\u001b[0m\u001b[0;34m\u001b[0m\u001b[0m\n\u001b[0m\u001b[1;32m      6\u001b[0m     \u001b[0mdf_UVI\u001b[0m\u001b[0;34m.\u001b[0m\u001b[0mappend\u001b[0m\u001b[0;34m(\u001b[0m\u001b[0mcalc_uvi\u001b[0m\u001b[0;34m(\u001b[0m\u001b[0ml\u001b[0m\u001b[0;34m,\u001b[0m \u001b[0mline\u001b[0m\u001b[0;34m)\u001b[0m\u001b[0;34m)\u001b[0m\u001b[0;34m\u001b[0m\u001b[0;34m\u001b[0m\u001b[0m\n",
            "\u001b[0;31mTypeError\u001b[0m: 'numpy.ndarray' object is not callable"
          ]
        }
      ]
    },
    {
      "cell_type": "code",
      "source": [
        "# Berechnen des UVI aus den Messdaten\n"
      ],
      "metadata": {
        "id": "uEA3abCBICLr"
      },
      "execution_count": null,
      "outputs": []
    },
    {
      "cell_type": "code",
      "source": [
        "# Abspeichern der Messdaten als CSV"
      ],
      "metadata": {
        "id": "ra4ScmL35TQq"
      },
      "execution_count": null,
      "outputs": []
    }
  ]
}