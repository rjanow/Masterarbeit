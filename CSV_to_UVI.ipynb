{
  "nbformat": 4,
  "nbformat_minor": 0,
  "metadata": {
    "colab": {
      "provenance": [],
      "authorship_tag": "ABX9TyMbBKDYlUcQfDeJReSa5uwO",
      "include_colab_link": true
    },
    "kernelspec": {
      "name": "python3",
      "display_name": "Python 3"
    },
    "language_info": {
      "name": "python"
    }
  },
  "cells": [
    {
      "cell_type": "markdown",
      "metadata": {
        "id": "view-in-github",
        "colab_type": "text"
      },
      "source": [
        "<a href=\"https://colab.research.google.com/github/rjanow/Masterarbeit/blob/main/CSV_to_UVI.ipynb\" target=\"_parent\"><img src=\"https://colab.research.google.com/assets/colab-badge.svg\" alt=\"Open In Colab\"/></a>"
      ]
    },
    {
      "cell_type": "markdown",
      "source": [
        "# Hier wird mit Hilfe der Messdaten der UVI berechnet"
      ],
      "metadata": {
        "id": "NIP7or0zyBfy"
      }
    },
    {
      "cell_type": "code",
      "source": [
        "# Import der benötigten Module\n",
        "import os\n",
        "import pandas as pd\n",
        "import numpy as np\n",
        "import matplotlib.pyplot as plt\n",
        "\n",
        "from google.colab import drive\n",
        "from google.colab import files"
      ],
      "metadata": {
        "id": "_A1lAVyv5xfL"
      },
      "execution_count": 1,
      "outputs": []
    },
    {
      "cell_type": "code",
      "source": [
        "# Mount google drive\n",
        "drive.mount('/content/drive')"
      ],
      "metadata": {
        "colab": {
          "base_uri": "https://localhost:8080/"
        },
        "id": "_y2YMPgL78lg",
        "outputId": "04d5b0ec-0860-464e-a919-8241a19b4bad"
      },
      "execution_count": 2,
      "outputs": [
        {
          "output_type": "stream",
          "name": "stdout",
          "text": [
            "Drive already mounted at /content/drive; to attempt to forcibly remount, call drive.mount(\"/content/drive\", force_remount=True).\n"
          ]
        }
      ]
    },
    {
      "cell_type": "code",
      "source": [
        "# Monat der importiert werden soll\n",
        "month = '22.06'"
      ],
      "metadata": {
        "id": "-xtIHFgTHfLD"
      },
      "execution_count": 3,
      "outputs": []
    },
    {
      "cell_type": "code",
      "source": [
        "# Import der CSV mit den rohen Messdaten\n",
        "# Pfad zur CSV-Datei auf Google Drive\n",
        "drive_path = '/content/drive/My Drive/Colab_Notebooks/CSV_Messdaten/' + month\n",
        "\n",
        "# CSV-Datei einlesen und DataFrame erstellen\n",
        "df_Messdaten = pd.read_csv(drive_path)"
      ],
      "metadata": {
        "id": "fAFHfjJGyO4j"
      },
      "execution_count": 4,
      "outputs": []
    },
    {
      "cell_type": "code",
      "source": [
        "# df_Messdaten"
      ],
      "metadata": {
        "colab": {
          "base_uri": "https://localhost:8080/",
          "height": 790
        },
        "id": "iTtIIMXSai7k",
        "outputId": "54f27502-015a-4fee-b4af-70749747524c"
      },
      "execution_count": 5,
      "outputs": [
        {
          "output_type": "execute_result",
          "data": {
            "text/plain": [
              "                 Datetime       Datum   Uhrzeit  Messzeitpunkt  290.0  290.1  \\\n",
              "0     2022-06-15 07:21:00  2022-06-15  07:21:00          26460    0.0    0.0   \n",
              "1     2022-06-15 07:23:00  2022-06-15  07:23:00          26580    0.0    0.0   \n",
              "2     2022-06-15 07:25:00  2022-06-15  07:25:00          26700    0.0    0.0   \n",
              "3     2022-06-15 07:27:00  2022-06-15  07:27:00          26820    0.0    0.0   \n",
              "4     2022-06-15 07:29:00  2022-06-15  07:29:00          26940    0.0    0.0   \n",
              "...                   ...         ...       ...            ...    ...    ...   \n",
              "7303  2022-06-30 18:49:00  2022-06-30  18:49:00          67740    0.0    0.0   \n",
              "7304  2022-06-30 18:51:00  2022-06-30  18:51:00          67860    0.0    0.0   \n",
              "7305  2022-06-30 18:53:00  2022-06-30  18:53:00          67980    0.0    0.0   \n",
              "7306  2022-06-30 18:55:00  2022-06-30  18:55:00          68100    0.0    0.0   \n",
              "7307  2022-06-30 18:57:00  2022-06-30  18:57:00          68220    0.0    0.0   \n",
              "\n",
              "      290.2  290.3  290.4  290.5  ...     419.1     419.2     419.3     419.4  \\\n",
              "0       0.0    0.0    0.0    0.0  ...  0.693500  0.691910  0.685560  0.669900   \n",
              "1       0.0    0.0    0.0    0.0  ...  0.723340  0.720150  0.715980  0.697770   \n",
              "2       0.0    0.0    0.0    0.0  ...  0.724600  0.719900  0.709220  0.693840   \n",
              "3       0.0    0.0    0.0    0.0  ...  0.739360  0.737440  0.729150  0.709380   \n",
              "4       0.0    0.0    0.0    0.0  ...  0.741280  0.741840  0.731630  0.710630   \n",
              "...     ...    ...    ...    ...  ...       ...       ...       ...       ...   \n",
              "7303    0.0    0.0    0.0    0.0  ...  0.017621  0.017573  0.017332  0.016969   \n",
              "7304    0.0    0.0    0.0    0.0  ...  0.015729  0.015730  0.015471  0.015085   \n",
              "7305    0.0    0.0    0.0    0.0  ...  0.015218  0.015181  0.014969  0.014715   \n",
              "7306    0.0    0.0    0.0    0.0  ...  0.017840  0.017820  0.017549  0.017234   \n",
              "7307    0.0    0.0    0.0    0.0  ...  0.017203  0.017194  0.017027  0.016621   \n",
              "\n",
              "         419.5     419.6     419.7     419.8     419.9     420.0  \n",
              "0     0.656610  0.646640  0.640170  0.636880  0.636530  0.642410  \n",
              "1     0.691250  0.678760  0.669920  0.663800  0.661820  0.669270  \n",
              "2     0.686640  0.676700  0.666200  0.661930  0.661600  0.671780  \n",
              "3     0.700580  0.692580  0.680470  0.672850  0.671560  0.675320  \n",
              "4     0.701250  0.692140  0.682440  0.676410  0.677050  0.685110  \n",
              "...        ...       ...       ...       ...       ...       ...  \n",
              "7303  0.016789  0.016625  0.016391  0.016304  0.016265  0.016429  \n",
              "7304  0.014909  0.014752  0.014533  0.014590  0.014665  0.014806  \n",
              "7305  0.014497  0.014267  0.014077  0.013996  0.014004  0.014091  \n",
              "7306  0.016933  0.016672  0.016487  0.016417  0.016472  0.016619  \n",
              "7307  0.016348  0.016120  0.016008  0.015902  0.015833  0.016020  \n",
              "\n",
              "[7308 rows x 1305 columns]"
            ],
            "text/html": [
              "\n",
              "  <div id=\"df-b308e0cf-7767-4ade-8798-58bdfa3e8f4c\" class=\"colab-df-container\">\n",
              "    <div>\n",
              "<style scoped>\n",
              "    .dataframe tbody tr th:only-of-type {\n",
              "        vertical-align: middle;\n",
              "    }\n",
              "\n",
              "    .dataframe tbody tr th {\n",
              "        vertical-align: top;\n",
              "    }\n",
              "\n",
              "    .dataframe thead th {\n",
              "        text-align: right;\n",
              "    }\n",
              "</style>\n",
              "<table border=\"1\" class=\"dataframe\">\n",
              "  <thead>\n",
              "    <tr style=\"text-align: right;\">\n",
              "      <th></th>\n",
              "      <th>Datetime</th>\n",
              "      <th>Datum</th>\n",
              "      <th>Uhrzeit</th>\n",
              "      <th>Messzeitpunkt</th>\n",
              "      <th>290.0</th>\n",
              "      <th>290.1</th>\n",
              "      <th>290.2</th>\n",
              "      <th>290.3</th>\n",
              "      <th>290.4</th>\n",
              "      <th>290.5</th>\n",
              "      <th>...</th>\n",
              "      <th>419.1</th>\n",
              "      <th>419.2</th>\n",
              "      <th>419.3</th>\n",
              "      <th>419.4</th>\n",
              "      <th>419.5</th>\n",
              "      <th>419.6</th>\n",
              "      <th>419.7</th>\n",
              "      <th>419.8</th>\n",
              "      <th>419.9</th>\n",
              "      <th>420.0</th>\n",
              "    </tr>\n",
              "  </thead>\n",
              "  <tbody>\n",
              "    <tr>\n",
              "      <th>0</th>\n",
              "      <td>2022-06-15 07:21:00</td>\n",
              "      <td>2022-06-15</td>\n",
              "      <td>07:21:00</td>\n",
              "      <td>26460</td>\n",
              "      <td>0.0</td>\n",
              "      <td>0.0</td>\n",
              "      <td>0.0</td>\n",
              "      <td>0.0</td>\n",
              "      <td>0.0</td>\n",
              "      <td>0.0</td>\n",
              "      <td>...</td>\n",
              "      <td>0.693500</td>\n",
              "      <td>0.691910</td>\n",
              "      <td>0.685560</td>\n",
              "      <td>0.669900</td>\n",
              "      <td>0.656610</td>\n",
              "      <td>0.646640</td>\n",
              "      <td>0.640170</td>\n",
              "      <td>0.636880</td>\n",
              "      <td>0.636530</td>\n",
              "      <td>0.642410</td>\n",
              "    </tr>\n",
              "    <tr>\n",
              "      <th>1</th>\n",
              "      <td>2022-06-15 07:23:00</td>\n",
              "      <td>2022-06-15</td>\n",
              "      <td>07:23:00</td>\n",
              "      <td>26580</td>\n",
              "      <td>0.0</td>\n",
              "      <td>0.0</td>\n",
              "      <td>0.0</td>\n",
              "      <td>0.0</td>\n",
              "      <td>0.0</td>\n",
              "      <td>0.0</td>\n",
              "      <td>...</td>\n",
              "      <td>0.723340</td>\n",
              "      <td>0.720150</td>\n",
              "      <td>0.715980</td>\n",
              "      <td>0.697770</td>\n",
              "      <td>0.691250</td>\n",
              "      <td>0.678760</td>\n",
              "      <td>0.669920</td>\n",
              "      <td>0.663800</td>\n",
              "      <td>0.661820</td>\n",
              "      <td>0.669270</td>\n",
              "    </tr>\n",
              "    <tr>\n",
              "      <th>2</th>\n",
              "      <td>2022-06-15 07:25:00</td>\n",
              "      <td>2022-06-15</td>\n",
              "      <td>07:25:00</td>\n",
              "      <td>26700</td>\n",
              "      <td>0.0</td>\n",
              "      <td>0.0</td>\n",
              "      <td>0.0</td>\n",
              "      <td>0.0</td>\n",
              "      <td>0.0</td>\n",
              "      <td>0.0</td>\n",
              "      <td>...</td>\n",
              "      <td>0.724600</td>\n",
              "      <td>0.719900</td>\n",
              "      <td>0.709220</td>\n",
              "      <td>0.693840</td>\n",
              "      <td>0.686640</td>\n",
              "      <td>0.676700</td>\n",
              "      <td>0.666200</td>\n",
              "      <td>0.661930</td>\n",
              "      <td>0.661600</td>\n",
              "      <td>0.671780</td>\n",
              "    </tr>\n",
              "    <tr>\n",
              "      <th>3</th>\n",
              "      <td>2022-06-15 07:27:00</td>\n",
              "      <td>2022-06-15</td>\n",
              "      <td>07:27:00</td>\n",
              "      <td>26820</td>\n",
              "      <td>0.0</td>\n",
              "      <td>0.0</td>\n",
              "      <td>0.0</td>\n",
              "      <td>0.0</td>\n",
              "      <td>0.0</td>\n",
              "      <td>0.0</td>\n",
              "      <td>...</td>\n",
              "      <td>0.739360</td>\n",
              "      <td>0.737440</td>\n",
              "      <td>0.729150</td>\n",
              "      <td>0.709380</td>\n",
              "      <td>0.700580</td>\n",
              "      <td>0.692580</td>\n",
              "      <td>0.680470</td>\n",
              "      <td>0.672850</td>\n",
              "      <td>0.671560</td>\n",
              "      <td>0.675320</td>\n",
              "    </tr>\n",
              "    <tr>\n",
              "      <th>4</th>\n",
              "      <td>2022-06-15 07:29:00</td>\n",
              "      <td>2022-06-15</td>\n",
              "      <td>07:29:00</td>\n",
              "      <td>26940</td>\n",
              "      <td>0.0</td>\n",
              "      <td>0.0</td>\n",
              "      <td>0.0</td>\n",
              "      <td>0.0</td>\n",
              "      <td>0.0</td>\n",
              "      <td>0.0</td>\n",
              "      <td>...</td>\n",
              "      <td>0.741280</td>\n",
              "      <td>0.741840</td>\n",
              "      <td>0.731630</td>\n",
              "      <td>0.710630</td>\n",
              "      <td>0.701250</td>\n",
              "      <td>0.692140</td>\n",
              "      <td>0.682440</td>\n",
              "      <td>0.676410</td>\n",
              "      <td>0.677050</td>\n",
              "      <td>0.685110</td>\n",
              "    </tr>\n",
              "    <tr>\n",
              "      <th>...</th>\n",
              "      <td>...</td>\n",
              "      <td>...</td>\n",
              "      <td>...</td>\n",
              "      <td>...</td>\n",
              "      <td>...</td>\n",
              "      <td>...</td>\n",
              "      <td>...</td>\n",
              "      <td>...</td>\n",
              "      <td>...</td>\n",
              "      <td>...</td>\n",
              "      <td>...</td>\n",
              "      <td>...</td>\n",
              "      <td>...</td>\n",
              "      <td>...</td>\n",
              "      <td>...</td>\n",
              "      <td>...</td>\n",
              "      <td>...</td>\n",
              "      <td>...</td>\n",
              "      <td>...</td>\n",
              "      <td>...</td>\n",
              "      <td>...</td>\n",
              "    </tr>\n",
              "    <tr>\n",
              "      <th>7303</th>\n",
              "      <td>2022-06-30 18:49:00</td>\n",
              "      <td>2022-06-30</td>\n",
              "      <td>18:49:00</td>\n",
              "      <td>67740</td>\n",
              "      <td>0.0</td>\n",
              "      <td>0.0</td>\n",
              "      <td>0.0</td>\n",
              "      <td>0.0</td>\n",
              "      <td>0.0</td>\n",
              "      <td>0.0</td>\n",
              "      <td>...</td>\n",
              "      <td>0.017621</td>\n",
              "      <td>0.017573</td>\n",
              "      <td>0.017332</td>\n",
              "      <td>0.016969</td>\n",
              "      <td>0.016789</td>\n",
              "      <td>0.016625</td>\n",
              "      <td>0.016391</td>\n",
              "      <td>0.016304</td>\n",
              "      <td>0.016265</td>\n",
              "      <td>0.016429</td>\n",
              "    </tr>\n",
              "    <tr>\n",
              "      <th>7304</th>\n",
              "      <td>2022-06-30 18:51:00</td>\n",
              "      <td>2022-06-30</td>\n",
              "      <td>18:51:00</td>\n",
              "      <td>67860</td>\n",
              "      <td>0.0</td>\n",
              "      <td>0.0</td>\n",
              "      <td>0.0</td>\n",
              "      <td>0.0</td>\n",
              "      <td>0.0</td>\n",
              "      <td>0.0</td>\n",
              "      <td>...</td>\n",
              "      <td>0.015729</td>\n",
              "      <td>0.015730</td>\n",
              "      <td>0.015471</td>\n",
              "      <td>0.015085</td>\n",
              "      <td>0.014909</td>\n",
              "      <td>0.014752</td>\n",
              "      <td>0.014533</td>\n",
              "      <td>0.014590</td>\n",
              "      <td>0.014665</td>\n",
              "      <td>0.014806</td>\n",
              "    </tr>\n",
              "    <tr>\n",
              "      <th>7305</th>\n",
              "      <td>2022-06-30 18:53:00</td>\n",
              "      <td>2022-06-30</td>\n",
              "      <td>18:53:00</td>\n",
              "      <td>67980</td>\n",
              "      <td>0.0</td>\n",
              "      <td>0.0</td>\n",
              "      <td>0.0</td>\n",
              "      <td>0.0</td>\n",
              "      <td>0.0</td>\n",
              "      <td>0.0</td>\n",
              "      <td>...</td>\n",
              "      <td>0.015218</td>\n",
              "      <td>0.015181</td>\n",
              "      <td>0.014969</td>\n",
              "      <td>0.014715</td>\n",
              "      <td>0.014497</td>\n",
              "      <td>0.014267</td>\n",
              "      <td>0.014077</td>\n",
              "      <td>0.013996</td>\n",
              "      <td>0.014004</td>\n",
              "      <td>0.014091</td>\n",
              "    </tr>\n",
              "    <tr>\n",
              "      <th>7306</th>\n",
              "      <td>2022-06-30 18:55:00</td>\n",
              "      <td>2022-06-30</td>\n",
              "      <td>18:55:00</td>\n",
              "      <td>68100</td>\n",
              "      <td>0.0</td>\n",
              "      <td>0.0</td>\n",
              "      <td>0.0</td>\n",
              "      <td>0.0</td>\n",
              "      <td>0.0</td>\n",
              "      <td>0.0</td>\n",
              "      <td>...</td>\n",
              "      <td>0.017840</td>\n",
              "      <td>0.017820</td>\n",
              "      <td>0.017549</td>\n",
              "      <td>0.017234</td>\n",
              "      <td>0.016933</td>\n",
              "      <td>0.016672</td>\n",
              "      <td>0.016487</td>\n",
              "      <td>0.016417</td>\n",
              "      <td>0.016472</td>\n",
              "      <td>0.016619</td>\n",
              "    </tr>\n",
              "    <tr>\n",
              "      <th>7307</th>\n",
              "      <td>2022-06-30 18:57:00</td>\n",
              "      <td>2022-06-30</td>\n",
              "      <td>18:57:00</td>\n",
              "      <td>68220</td>\n",
              "      <td>0.0</td>\n",
              "      <td>0.0</td>\n",
              "      <td>0.0</td>\n",
              "      <td>0.0</td>\n",
              "      <td>0.0</td>\n",
              "      <td>0.0</td>\n",
              "      <td>...</td>\n",
              "      <td>0.017203</td>\n",
              "      <td>0.017194</td>\n",
              "      <td>0.017027</td>\n",
              "      <td>0.016621</td>\n",
              "      <td>0.016348</td>\n",
              "      <td>0.016120</td>\n",
              "      <td>0.016008</td>\n",
              "      <td>0.015902</td>\n",
              "      <td>0.015833</td>\n",
              "      <td>0.016020</td>\n",
              "    </tr>\n",
              "  </tbody>\n",
              "</table>\n",
              "<p>7308 rows × 1305 columns</p>\n",
              "</div>\n",
              "    <div class=\"colab-df-buttons\">\n",
              "\n",
              "  <div class=\"colab-df-container\">\n",
              "    <button class=\"colab-df-convert\" onclick=\"convertToInteractive('df-b308e0cf-7767-4ade-8798-58bdfa3e8f4c')\"\n",
              "            title=\"Convert this dataframe to an interactive table.\"\n",
              "            style=\"display:none;\">\n",
              "\n",
              "  <svg xmlns=\"http://www.w3.org/2000/svg\" height=\"24px\" viewBox=\"0 -960 960 960\">\n",
              "    <path d=\"M120-120v-720h720v720H120Zm60-500h600v-160H180v160Zm220 220h160v-160H400v160Zm0 220h160v-160H400v160ZM180-400h160v-160H180v160Zm440 0h160v-160H620v160ZM180-180h160v-160H180v160Zm440 0h160v-160H620v160Z\"/>\n",
              "  </svg>\n",
              "    </button>\n",
              "\n",
              "  <style>\n",
              "    .colab-df-container {\n",
              "      display:flex;\n",
              "      gap: 12px;\n",
              "    }\n",
              "\n",
              "    .colab-df-convert {\n",
              "      background-color: #E8F0FE;\n",
              "      border: none;\n",
              "      border-radius: 50%;\n",
              "      cursor: pointer;\n",
              "      display: none;\n",
              "      fill: #1967D2;\n",
              "      height: 32px;\n",
              "      padding: 0 0 0 0;\n",
              "      width: 32px;\n",
              "    }\n",
              "\n",
              "    .colab-df-convert:hover {\n",
              "      background-color: #E2EBFA;\n",
              "      box-shadow: 0px 1px 2px rgba(60, 64, 67, 0.3), 0px 1px 3px 1px rgba(60, 64, 67, 0.15);\n",
              "      fill: #174EA6;\n",
              "    }\n",
              "\n",
              "    .colab-df-buttons div {\n",
              "      margin-bottom: 4px;\n",
              "    }\n",
              "\n",
              "    [theme=dark] .colab-df-convert {\n",
              "      background-color: #3B4455;\n",
              "      fill: #D2E3FC;\n",
              "    }\n",
              "\n",
              "    [theme=dark] .colab-df-convert:hover {\n",
              "      background-color: #434B5C;\n",
              "      box-shadow: 0px 1px 3px 1px rgba(0, 0, 0, 0.15);\n",
              "      filter: drop-shadow(0px 1px 2px rgba(0, 0, 0, 0.3));\n",
              "      fill: #FFFFFF;\n",
              "    }\n",
              "  </style>\n",
              "\n",
              "    <script>\n",
              "      const buttonEl =\n",
              "        document.querySelector('#df-b308e0cf-7767-4ade-8798-58bdfa3e8f4c button.colab-df-convert');\n",
              "      buttonEl.style.display =\n",
              "        google.colab.kernel.accessAllowed ? 'block' : 'none';\n",
              "\n",
              "      async function convertToInteractive(key) {\n",
              "        const element = document.querySelector('#df-b308e0cf-7767-4ade-8798-58bdfa3e8f4c');\n",
              "        const dataTable =\n",
              "          await google.colab.kernel.invokeFunction('convertToInteractive',\n",
              "                                                    [key], {});\n",
              "        if (!dataTable) return;\n",
              "\n",
              "        const docLinkHtml = 'Like what you see? Visit the ' +\n",
              "          '<a target=\"_blank\" href=https://colab.research.google.com/notebooks/data_table.ipynb>data table notebook</a>'\n",
              "          + ' to learn more about interactive tables.';\n",
              "        element.innerHTML = '';\n",
              "        dataTable['output_type'] = 'display_data';\n",
              "        await google.colab.output.renderOutput(dataTable, element);\n",
              "        const docLink = document.createElement('div');\n",
              "        docLink.innerHTML = docLinkHtml;\n",
              "        element.appendChild(docLink);\n",
              "      }\n",
              "    </script>\n",
              "  </div>\n",
              "\n",
              "\n",
              "<div id=\"df-25923874-9fbe-4f9b-a87c-3cc38a1df2f8\">\n",
              "  <button class=\"colab-df-quickchart\" onclick=\"quickchart('df-25923874-9fbe-4f9b-a87c-3cc38a1df2f8')\"\n",
              "            title=\"Suggest charts.\"\n",
              "            style=\"display:none;\">\n",
              "\n",
              "<svg xmlns=\"http://www.w3.org/2000/svg\" height=\"24px\"viewBox=\"0 0 24 24\"\n",
              "     width=\"24px\">\n",
              "    <g>\n",
              "        <path d=\"M19 3H5c-1.1 0-2 .9-2 2v14c0 1.1.9 2 2 2h14c1.1 0 2-.9 2-2V5c0-1.1-.9-2-2-2zM9 17H7v-7h2v7zm4 0h-2V7h2v10zm4 0h-2v-4h2v4z\"/>\n",
              "    </g>\n",
              "</svg>\n",
              "  </button>\n",
              "\n",
              "<style>\n",
              "  .colab-df-quickchart {\n",
              "    background-color: #E8F0FE;\n",
              "    border: none;\n",
              "    border-radius: 50%;\n",
              "    cursor: pointer;\n",
              "    display: none;\n",
              "    fill: #1967D2;\n",
              "    height: 32px;\n",
              "    padding: 0 0 0 0;\n",
              "    width: 32px;\n",
              "  }\n",
              "\n",
              "  .colab-df-quickchart:hover {\n",
              "    background-color: #E2EBFA;\n",
              "    box-shadow: 0px 1px 2px rgba(60, 64, 67, 0.3), 0px 1px 3px 1px rgba(60, 64, 67, 0.15);\n",
              "    fill: #174EA6;\n",
              "  }\n",
              "\n",
              "  [theme=dark] .colab-df-quickchart {\n",
              "    background-color: #3B4455;\n",
              "    fill: #D2E3FC;\n",
              "  }\n",
              "\n",
              "  [theme=dark] .colab-df-quickchart:hover {\n",
              "    background-color: #434B5C;\n",
              "    box-shadow: 0px 1px 3px 1px rgba(0, 0, 0, 0.15);\n",
              "    filter: drop-shadow(0px 1px 2px rgba(0, 0, 0, 0.3));\n",
              "    fill: #FFFFFF;\n",
              "  }\n",
              "</style>\n",
              "\n",
              "  <script>\n",
              "    async function quickchart(key) {\n",
              "      const charts = await google.colab.kernel.invokeFunction(\n",
              "          'suggestCharts', [key], {});\n",
              "    }\n",
              "    (() => {\n",
              "      let quickchartButtonEl =\n",
              "        document.querySelector('#df-25923874-9fbe-4f9b-a87c-3cc38a1df2f8 button');\n",
              "      quickchartButtonEl.style.display =\n",
              "        google.colab.kernel.accessAllowed ? 'block' : 'none';\n",
              "    })();\n",
              "  </script>\n",
              "</div>\n",
              "    </div>\n",
              "  </div>\n"
            ]
          },
          "metadata": {},
          "execution_count": 5
        }
      ]
    },
    {
      "cell_type": "code",
      "source": [
        "# Benutzerdefinierte Gewichtungsfunktion\n",
        "def weight_function(Wellenlaenge):\n",
        "    if Wellenlaenge <= 298:\n",
        "        return 1\n",
        "    elif Wellenlaenge > 298 and Wellenlaenge <= 328:\n",
        "        return 10**(0.094 * (298.0 - Wellenlaenge))\n",
        "    elif Wellenlaenge > 328 and Wellenlaenge <= 400:\n",
        "        return 10**(0.015 * (139.0 - Wellenlaenge))\n",
        "    else:\n",
        "        return 0"
      ],
      "metadata": {
        "id": "W04C2o97vtra"
      },
      "execution_count": 6,
      "outputs": []
    },
    {
      "cell_type": "code",
      "source": [
        "# Anwenden der Gewichtungsfunktion auf den DataFrame\n",
        "# Bereich von Spalte x bis Spalte y (einschließlich y)\n",
        "x = '290.0'\n",
        "y = '400.0'\n",
        "selected_columns = df_Messdaten.columns[(df_Messdaten.columns.get_loc(x)):(df_Messdaten.columns.get_loc(y)+1)]"
      ],
      "metadata": {
        "id": "keEeM8bm5OGW"
      },
      "execution_count": 7,
      "outputs": []
    },
    {
      "cell_type": "code",
      "source": [
        "df_Gewichtet = []\n",
        "df_Gewichtet = df_Messdaten[selected_columns].apply(lambda col: col * weight_function(float(col.name)), axis=0)"
      ],
      "metadata": {
        "id": "9a3VGaYEvyXR"
      },
      "execution_count": 8,
      "outputs": []
    },
    {
      "cell_type": "code",
      "source": [
        "def integrate_row(row):\n",
        "    x_values = np.array([float(col) for col in row.index])  # X-Werte aus Spaltennamen extrahieren\n",
        "    y_values = np.array(row)\n",
        "    integral = np.trapz(y_values, x_values)\n",
        "    return integral"
      ],
      "metadata": {
        "id": "busivxMc0ShI"
      },
      "execution_count": 9,
      "outputs": []
    },
    {
      "cell_type": "code",
      "source": [
        "ser_UVI = []\n",
        "df_UVI = []\n",
        "\n",
        "ser_UVI = df_Gewichtet.apply(integrate_row, axis=1)\n",
        "df_UVI = pd.DataFrame(ser_UVI, columns=['erythem'])"
      ],
      "metadata": {
        "id": "pQ-Mg1syLv4k"
      },
      "execution_count": 10,
      "outputs": []
    },
    {
      "cell_type": "code",
      "source": [
        "type(df_Gewichtet), type(df_UVI)"
      ],
      "metadata": {
        "colab": {
          "base_uri": "https://localhost:8080/"
        },
        "id": "kAOX9B7gcgrZ",
        "outputId": "060a29a7-e933-4803-c5c6-6a5dc286f009"
      },
      "execution_count": 11,
      "outputs": [
        {
          "output_type": "execute_result",
          "data": {
            "text/plain": [
              "(pandas.core.frame.DataFrame, pandas.core.frame.DataFrame)"
            ]
          },
          "metadata": {},
          "execution_count": 11
        }
      ]
    },
    {
      "cell_type": "code",
      "source": [
        "# Exportieren\n",
        "columns_to_copy = ['Messzeitpunkt', 'Uhrzeit', 'Datum', 'Datetime']\n",
        "\n",
        "for col in columns_to_copy:\n",
        "  df_Gewichtet.insert(0, col, df_Messdaten[col])\n",
        "  df_UVI.insert(0, col, df_Messdaten[col])\n",
        "  df_UVI['UVI'] = df_UVI['erythem'].copy() * 40"
      ],
      "metadata": {
        "id": "aPrTWfZraXOX"
      },
      "execution_count": 12,
      "outputs": []
    },
    {
      "cell_type": "code",
      "source": [
        "# df_UVI"
      ],
      "metadata": {
        "id": "iI1gi53dbS_a"
      },
      "execution_count": 13,
      "outputs": []
    },
    {
      "cell_type": "code",
      "source": [
        "def save_dataframe_to_drive(dataframe, folder_path, filename):\n",
        "\n",
        "    # Erstelle den vollen Pfad zur Datei\n",
        "    full_path = os.path.join(folder_path, filename)\n",
        "\n",
        "    # Speichere den DataFrame als CSV-Datei auf Google Drive\n",
        "    dataframe.to_csv(full_path, index=False)\n",
        "\n",
        "    print(f'Der DataFrame wurde als {filename} in {folder_path} auf Google Drive gespeichert.')"
      ],
      "metadata": {
        "id": "TcSpTUV4efjn"
      },
      "execution_count": 14,
      "outputs": []
    },
    {
      "cell_type": "code",
      "source": [
        "plt.plot(df_UVI['UVI'])"
      ],
      "metadata": {
        "colab": {
          "base_uri": "https://localhost:8080/",
          "height": 447
        },
        "id": "7u3jHrV3hP9C",
        "outputId": "0bda75f0-f62c-4358-b165-e1332a27f9a0"
      },
      "execution_count": 15,
      "outputs": [
        {
          "output_type": "execute_result",
          "data": {
            "text/plain": [
              "[<matplotlib.lines.Line2D at 0x7bacab5a8580>]"
            ]
          },
          "metadata": {},
          "execution_count": 15
        },
        {
          "output_type": "display_data",
          "data": {
            "text/plain": [
              "<Figure size 640x480 with 1 Axes>"
            ],
            "image/png": "[encoded data removed]"
          },
          "metadata": {}
        }
      ]
    },
    {
      "cell_type": "code",
      "source": [
        "save_dataframe_to_drive(df_UVI, '/content/drive/My Drive/Colab_Notebooks/CSV_UVI', month)"
      ],
      "metadata": {
        "colab": {
          "base_uri": "https://localhost:8080/"
        },
        "id": "POBk1RHxegfB",
        "outputId": "ceb0c7c5-fe19-4246-ad97-def553dfc192"
      },
      "execution_count": 16,
      "outputs": [
        {
          "output_type": "stream",
          "name": "stdout",
          "text": [
            "Der DataFrame wurde als 22.06 in /content/drive/My Drive/Colab_Notebooks/CSV_UVI auf Google Drive gespeichert.\n"
          ]
        }
      ]
    },
    {
      "cell_type": "code",
      "source": [
        "# save_dataframe_to_drive(df_Gewichtet, '/content/drive/My Drive/Colab_Notebooks/CSV_Gewichtet', month)"
      ],
      "metadata": {
        "id": "3Xcot1MzfZCt"
      },
      "execution_count": 17,
      "outputs": []
    }
  ]
}