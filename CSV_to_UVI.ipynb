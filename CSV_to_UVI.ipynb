{
  "nbformat": 4,
  "nbformat_minor": 0,
  "metadata": {
    "colab": {
      "provenance": [],
      "authorship_tag": "ABX9TyPZDsYqoQTl8jkr7mFrMJQq",
      "include_colab_link": true
    },
    "kernelspec": {
      "name": "python3",
      "display_name": "Python 3"
    },
    "language_info": {
      "name": "python"
    }
  },
  "cells": [
    {
      "cell_type": "markdown",
      "metadata": {
        "id": "view-in-github",
        "colab_type": "text"
      },
      "source": [
        "<a href=\"https://colab.research.google.com/github/rjanow/Masterarbeit/blob/main/CSV_to_UVI.ipynb\" target=\"_parent\"><img src=\"https://colab.research.google.com/assets/colab-badge.svg\" alt=\"Open In Colab\"/></a>"
      ]
    },
    {
      "cell_type": "markdown",
      "source": [
        "# Hier wird mit Hilfe der vorverarebiteten Messdaten der UVI berechnet:"
      ],
      "metadata": {
        "id": "NIP7or0zyBfy"
      }
    },
    {
      "cell_type": "markdown",
      "source": [
        "**Dokumentenname: CSV_to_UVI.ipynb**\n",
        "\n",
        "Es werden die vorverarbeiteten UV-Spektren in einen UVI und in die UVA und UVB Strahlung aggregiert. Zu Beginn muss das Skript *UV_Measurement_to_CSV* ausgeführt werden, um die Spektren in einen Dataframe umzuwandeln. Aufgrund der großen Datenmenge geschieht die Verarbeitung für jeden Monat getrennt."
      ],
      "metadata": {
        "id": "xqfE_b8wwIq-"
      }
    },
    {
      "cell_type": "markdown",
      "source": [
        "## Import der benötigten Module und allgemeine Settings:"
      ],
      "metadata": {
        "id": "dF2bn7NPxOTE"
      }
    },
    {
      "cell_type": "code",
      "source": [
        "# Import der benötigten Module\n",
        "import os\n",
        "import pandas as pd\n",
        "import numpy as np\n",
        "import matplotlib.pyplot as plt"
      ],
      "metadata": {
        "id": "_A1lAVyv5xfL"
      },
      "execution_count": 1,
      "outputs": []
    },
    {
      "cell_type": "markdown",
      "source": [
        "Mount der Google-Drive:"
      ],
      "metadata": {
        "id": "z3pYHXSOxU6I"
      }
    },
    {
      "cell_type": "code",
      "source": [
        "# Mount google drive\n",
        "from google.colab import drive\n",
        "from google.colab import files\n",
        "\n",
        "drive.mount('/content/drive')"
      ],
      "metadata": {
        "colab": {
          "base_uri": "https://localhost:8080/"
        },
        "id": "_y2YMPgL78lg",
        "outputId": "423b30dd-3393-4fa8-d255-28f350e28eaa"
      },
      "execution_count": 2,
      "outputs": [
        {
          "output_type": "stream",
          "name": "stdout",
          "text": [
            "Drive already mounted at /content/drive; to attempt to forcibly remount, call drive.mount(\"/content/drive\", force_remount=True).\n"
          ]
        }
      ]
    },
    {
      "cell_type": "markdown",
      "source": [
        "**Monat der Exportiert werden sollen:**\n",
        "\n",
        "22.06\n",
        "22.07\n",
        "22.08\n",
        "22.09\n",
        "22.10\n",
        "22.11\n",
        "22.12\n",
        "23.01\n",
        "23.02\n",
        "23.03\n",
        "23.04\n",
        "23.05\n",
        "23.06\n",
        "23.07\n",
        "23.08"
      ],
      "metadata": {
        "id": "EdODSS4Pjage"
      }
    },
    {
      "cell_type": "code",
      "source": [
        "month = '23.03'"
      ],
      "metadata": {
        "id": "-xtIHFgTHfLD"
      },
      "execution_count": 3,
      "outputs": []
    },
    {
      "cell_type": "markdown",
      "source": [
        "## Daten einlesen:"
      ],
      "metadata": {
        "id": "kiskXWeUyEjq"
      }
    },
    {
      "cell_type": "code",
      "source": [
        "# Import der CSV mit den rohen Messdaten\n",
        "# Pfad zur CSV-Datei auf Google Drive\n",
        "drive_path = '/content/drive/My Drive/Colab_Notebooks/CSV_Messdaten/' + month\n",
        "\n",
        "# CSV-Datei einlesen und DataFrame erstellen\n",
        "df_Messdaten = pd.read_csv(drive_path)"
      ],
      "metadata": {
        "id": "fAFHfjJGyO4j"
      },
      "execution_count": 4,
      "outputs": []
    },
    {
      "cell_type": "markdown",
      "source": [
        "## Definetion der UV-Gewichtungsfunktion und UVA und UVB Bereich:"
      ],
      "metadata": {
        "id": "SP5mGJoryJf5"
      }
    },
    {
      "cell_type": "code",
      "source": [
        "# Gewichtungsfunktion für den UVI\n",
        "def weight_function(Wellenlaenge):\n",
        "    if Wellenlaenge <= 298:\n",
        "        return 1\n",
        "    elif Wellenlaenge > 298 and Wellenlaenge <= 328:\n",
        "        return 10**(0.094 * (298.0 - Wellenlaenge))\n",
        "    elif Wellenlaenge > 328 and Wellenlaenge <= 400:\n",
        "        return 10**(0.015 * (139.0 - Wellenlaenge))\n",
        "    else:\n",
        "        return 0"
      ],
      "metadata": {
        "id": "W04C2o97vtra"
      },
      "execution_count": 5,
      "outputs": []
    },
    {
      "cell_type": "code",
      "source": [
        "# Bereich von Spalte x bis Spalte y (einschließlich y)\n",
        "x_UVI = '290.0'\n",
        "y_UVI = '400.0'\n",
        "selected_columns_UVI = df_Messdaten.columns[(df_Messdaten.columns.get_loc(x_UVI)):(df_Messdaten.columns.get_loc(y_UVI)+1)]"
      ],
      "metadata": {
        "id": "keEeM8bm5OGW"
      },
      "execution_count": 6,
      "outputs": []
    },
    {
      "cell_type": "code",
      "source": [
        "# UVB Bereich von 290 bis 320.1 nm\n",
        "x_UVB = '290.0'\n",
        "y_UVB = '315.0'\n",
        "selected_columns_UVA = df_Messdaten.columns[(df_Messdaten.columns.get_loc(x_UVB)):(df_Messdaten.columns.get_loc(y_UVB)+1)]"
      ],
      "metadata": {
        "id": "ckacBkgqej9G"
      },
      "execution_count": 7,
      "outputs": []
    },
    {
      "cell_type": "code",
      "source": [
        "# UVA Bereich von 320.1 bis 400 nm\n",
        "x_UVA = '315.1'\n",
        "y_UVA = '400.0'\n",
        "selected_columns_UVB = df_Messdaten.columns[(df_Messdaten.columns.get_loc(x_UVA)):(df_Messdaten.columns.get_loc(y_UVA)+1)]"
      ],
      "metadata": {
        "id": "le_EoINHi-OD"
      },
      "execution_count": 8,
      "outputs": []
    },
    {
      "cell_type": "markdown",
      "source": [
        "## Erythemgewichtete UV-Messwerte, UVI und UVA UVB bestimmen:"
      ],
      "metadata": {
        "id": "SaTSIaNdya6I"
      }
    },
    {
      "cell_type": "code",
      "source": [
        "# Erythemgewichtete UV-Messwerte\n",
        "df_Gewichtet = []\n",
        "df_Gewichtet = df_Messdaten[selected_columns_UVI].apply(lambda col: col * weight_function(float(col.name)), axis=0)"
      ],
      "metadata": {
        "id": "9a3VGaYEvyXR"
      },
      "execution_count": 9,
      "outputs": []
    },
    {
      "cell_type": "code",
      "source": [
        "def integrate_row(row):\n",
        "    x_values = np.array([float(col) for col in row.index])  # X-Werte aus Spaltennamen extrahieren\n",
        "    y_values = np.array(row)\n",
        "    integral = np.trapz(y_values, x_values)\n",
        "    return integral"
      ],
      "metadata": {
        "id": "busivxMc0ShI"
      },
      "execution_count": 10,
      "outputs": []
    },
    {
      "cell_type": "code",
      "source": [
        "def calculate_UV_ABC(df):\n",
        "    return df.sum(axis=1)"
      ],
      "metadata": {
        "id": "B5UyjcgjduGh"
      },
      "execution_count": 11,
      "outputs": []
    },
    {
      "cell_type": "code",
      "source": [
        "# Summe der Messwerte über das UVA und UVB Spektrum\n",
        "UVA = calculate_UV_ABC(df_Messdaten[selected_columns_UVA])\n",
        "UVB = calculate_UV_ABC(df_Messdaten[selected_columns_UVB])\n",
        "# Spalte umbenennen\n",
        "UVA.name = 'UVA'\n",
        "UVB.name = 'UVB'"
      ],
      "metadata": {
        "id": "0Wh7HH1-kE3p"
      },
      "execution_count": 12,
      "outputs": []
    },
    {
      "cell_type": "code",
      "source": [
        "ser_UVI = []\n",
        "df_UVI = []\n",
        "\n",
        "# Integration der gewichteten UV-Messwerte\n",
        "ser_UVI = df_Gewichtet.apply(integrate_row, axis=1)\n",
        "# Umwandeln der Serie in einen Dataframe\n",
        "df_UVI = pd.DataFrame(ser_UVI, columns=['erythem'])"
      ],
      "metadata": {
        "id": "pQ-Mg1syLv4k"
      },
      "execution_count": 13,
      "outputs": []
    },
    {
      "cell_type": "code",
      "source": [
        "# Dem Dataframe die Werte für UVA und UVB hinzufügen\n",
        "df_UV = pd.concat([df_UVI, UVA, UVB], axis=1)"
      ],
      "metadata": {
        "id": "jnEEfuJ0IEou"
      },
      "execution_count": 14,
      "outputs": []
    },
    {
      "cell_type": "code",
      "source": [
        "type(df_Gewichtet), type(df_UV)"
      ],
      "metadata": {
        "colab": {
          "base_uri": "https://localhost:8080/"
        },
        "id": "kAOX9B7gcgrZ",
        "outputId": "1199d886-5240-4386-d82b-5d136407ecbf"
      },
      "execution_count": 15,
      "outputs": [
        {
          "output_type": "execute_result",
          "data": {
            "text/plain": [
              "(pandas.core.frame.DataFrame, pandas.core.frame.DataFrame)"
            ]
          },
          "metadata": {},
          "execution_count": 15
        }
      ]
    },
    {
      "cell_type": "markdown",
      "source": [
        "## Abspeichern der UVI, UVA, UVB Messwerte in einen Dataframe:"
      ],
      "metadata": {
        "id": "XEmhbwhIAJ3x"
      }
    },
    {
      "cell_type": "code",
      "source": [
        "# Exportieren\n",
        "\n",
        "columns_to_copy = ['Datetime', 'Datum', 'Uhrzeit', 'Messzeitpunkt']\n",
        "\n",
        "for col in columns_to_copy:\n",
        "  df_Gewichtet.insert(0, col, df_Messdaten[col])\n",
        "  df_UV.insert(0, col, df_Messdaten[col])\n",
        "  df_UV['UVI'] = df_UV['erythem'].copy() * 40"
      ],
      "metadata": {
        "id": "aPrTWfZraXOX"
      },
      "execution_count": 16,
      "outputs": []
    },
    {
      "cell_type": "code",
      "source": [
        "# Ändern der Reihenfolge der Spalten\n",
        "# Aktuelle Spaltennamen\n",
        "new_columns = ['Datetime','UVI','UVA','UVB','erythem','Datum','Uhrzeit','Messzeitpunkt']\n",
        "df_UV = df_UV[new_columns]"
      ],
      "metadata": {
        "id": "iiu21SIlYbxZ"
      },
      "execution_count": 17,
      "outputs": []
    },
    {
      "cell_type": "code",
      "source": [
        "df_UV"
      ],
      "metadata": {
        "id": "iI1gi53dbS_a",
        "colab": {
          "base_uri": "https://localhost:8080/",
          "height": 424
        },
        "outputId": "46404a35-0dd6-4ba3-da46-4ab3d398e478"
      },
      "execution_count": 18,
      "outputs": [
        {
          "output_type": "execute_result",
          "data": {
            "text/plain": [
              "                 Datetime       UVI       UVA        UVB   erythem  \\\n",
              "0     2023-03-01 06:04:00  0.002678  0.002117   0.952284  0.000067   \n",
              "1     2023-03-01 06:06:00  0.003563  0.002880   1.243193  0.000089   \n",
              "2     2023-03-01 06:08:00  0.005072  0.004098   1.613060  0.000127   \n",
              "3     2023-03-01 06:10:00  0.005727  0.004413   2.033943  0.000143   \n",
              "4     2023-03-01 06:12:00  0.006890  0.005106   2.477650  0.000172   \n",
              "...                   ...       ...       ...        ...       ...   \n",
              "8144  2023-03-31 17:22:00  0.035329  0.022257  11.136937  0.000883   \n",
              "8145  2023-03-31 17:24:00  0.031442  0.019633  10.084515  0.000786   \n",
              "8146  2023-03-31 17:26:00  0.031442  0.019088  10.278980  0.000786   \n",
              "8147  2023-03-31 17:28:00  0.029583  0.017683   9.650105  0.000740   \n",
              "8148  2023-03-31 17:30:00  0.026385  0.015781   8.669020  0.000660   \n",
              "\n",
              "           Datum   Uhrzeit  Messzeitpunkt  \n",
              "0     2023-03-01  06:04:00          21840  \n",
              "1     2023-03-01  06:06:00          21960  \n",
              "2     2023-03-01  06:08:00          22080  \n",
              "3     2023-03-01  06:10:00          22200  \n",
              "4     2023-03-01  06:12:00          22320  \n",
              "...          ...       ...            ...  \n",
              "8144  2023-03-31  17:22:00          62520  \n",
              "8145  2023-03-31  17:24:00          62640  \n",
              "8146  2023-03-31  17:26:00          62760  \n",
              "8147  2023-03-31  17:28:00          62880  \n",
              "8148  2023-03-31  17:30:00          63000  \n",
              "\n",
              "[8149 rows x 8 columns]"
            ],
            "text/html": [
              "\n",
              "  <div id=\"df-c26d47b5-2716-471f-ae50-6b92aaec1336\" class=\"colab-df-container\">\n",
              "    <div>\n",
              "<style scoped>\n",
              "    .dataframe tbody tr th:only-of-type {\n",
              "        vertical-align: middle;\n",
              "    }\n",
              "\n",
              "    .dataframe tbody tr th {\n",
              "        vertical-align: top;\n",
              "    }\n",
              "\n",
              "    .dataframe thead th {\n",
              "        text-align: right;\n",
              "    }\n",
              "</style>\n",
              "<table border=\"1\" class=\"dataframe\">\n",
              "  <thead>\n",
              "    <tr style=\"text-align: right;\">\n",
              "      <th></th>\n",
              "      <th>Datetime</th>\n",
              "      <th>UVI</th>\n",
              "      <th>UVA</th>\n",
              "      <th>UVB</th>\n",
              "      <th>erythem</th>\n",
              "      <th>Datum</th>\n",
              "      <th>Uhrzeit</th>\n",
              "      <th>Messzeitpunkt</th>\n",
              "    </tr>\n",
              "  </thead>\n",
              "  <tbody>\n",
              "    <tr>\n",
              "      <th>0</th>\n",
              "      <td>2023-03-01 06:04:00</td>\n",
              "      <td>0.002678</td>\n",
              "      <td>0.002117</td>\n",
              "      <td>0.952284</td>\n",
              "      <td>0.000067</td>\n",
              "      <td>2023-03-01</td>\n",
              "      <td>06:04:00</td>\n",
              "      <td>21840</td>\n",
              "    </tr>\n",
              "    <tr>\n",
              "      <th>1</th>\n",
              "      <td>2023-03-01 06:06:00</td>\n",
              "      <td>0.003563</td>\n",
              "      <td>0.002880</td>\n",
              "      <td>1.243193</td>\n",
              "      <td>0.000089</td>\n",
              "      <td>2023-03-01</td>\n",
              "      <td>06:06:00</td>\n",
              "      <td>21960</td>\n",
              "    </tr>\n",
              "    <tr>\n",
              "      <th>2</th>\n",
              "      <td>2023-03-01 06:08:00</td>\n",
              "      <td>0.005072</td>\n",
              "      <td>0.004098</td>\n",
              "      <td>1.613060</td>\n",
              "      <td>0.000127</td>\n",
              "      <td>2023-03-01</td>\n",
              "      <td>06:08:00</td>\n",
              "      <td>22080</td>\n",
              "    </tr>\n",
              "    <tr>\n",
              "      <th>3</th>\n",
              "      <td>2023-03-01 06:10:00</td>\n",
              "      <td>0.005727</td>\n",
              "      <td>0.004413</td>\n",
              "      <td>2.033943</td>\n",
              "      <td>0.000143</td>\n",
              "      <td>2023-03-01</td>\n",
              "      <td>06:10:00</td>\n",
              "      <td>22200</td>\n",
              "    </tr>\n",
              "    <tr>\n",
              "      <th>4</th>\n",
              "      <td>2023-03-01 06:12:00</td>\n",
              "      <td>0.006890</td>\n",
              "      <td>0.005106</td>\n",
              "      <td>2.477650</td>\n",
              "      <td>0.000172</td>\n",
              "      <td>2023-03-01</td>\n",
              "      <td>06:12:00</td>\n",
              "      <td>22320</td>\n",
              "    </tr>\n",
              "    <tr>\n",
              "      <th>...</th>\n",
              "      <td>...</td>\n",
              "      <td>...</td>\n",
              "      <td>...</td>\n",
              "      <td>...</td>\n",
              "      <td>...</td>\n",
              "      <td>...</td>\n",
              "      <td>...</td>\n",
              "      <td>...</td>\n",
              "    </tr>\n",
              "    <tr>\n",
              "      <th>8144</th>\n",
              "      <td>2023-03-31 17:22:00</td>\n",
              "      <td>0.035329</td>\n",
              "      <td>0.022257</td>\n",
              "      <td>11.136937</td>\n",
              "      <td>0.000883</td>\n",
              "      <td>2023-03-31</td>\n",
              "      <td>17:22:00</td>\n",
              "      <td>62520</td>\n",
              "    </tr>\n",
              "    <tr>\n",
              "      <th>8145</th>\n",
              "      <td>2023-03-31 17:24:00</td>\n",
              "      <td>0.031442</td>\n",
              "      <td>0.019633</td>\n",
              "      <td>10.084515</td>\n",
              "      <td>0.000786</td>\n",
              "      <td>2023-03-31</td>\n",
              "      <td>17:24:00</td>\n",
              "      <td>62640</td>\n",
              "    </tr>\n",
              "    <tr>\n",
              "      <th>8146</th>\n",
              "      <td>2023-03-31 17:26:00</td>\n",
              "      <td>0.031442</td>\n",
              "      <td>0.019088</td>\n",
              "      <td>10.278980</td>\n",
              "      <td>0.000786</td>\n",
              "      <td>2023-03-31</td>\n",
              "      <td>17:26:00</td>\n",
              "      <td>62760</td>\n",
              "    </tr>\n",
              "    <tr>\n",
              "      <th>8147</th>\n",
              "      <td>2023-03-31 17:28:00</td>\n",
              "      <td>0.029583</td>\n",
              "      <td>0.017683</td>\n",
              "      <td>9.650105</td>\n",
              "      <td>0.000740</td>\n",
              "      <td>2023-03-31</td>\n",
              "      <td>17:28:00</td>\n",
              "      <td>62880</td>\n",
              "    </tr>\n",
              "    <tr>\n",
              "      <th>8148</th>\n",
              "      <td>2023-03-31 17:30:00</td>\n",
              "      <td>0.026385</td>\n",
              "      <td>0.015781</td>\n",
              "      <td>8.669020</td>\n",
              "      <td>0.000660</td>\n",
              "      <td>2023-03-31</td>\n",
              "      <td>17:30:00</td>\n",
              "      <td>63000</td>\n",
              "    </tr>\n",
              "  </tbody>\n",
              "</table>\n",
              "<p>8149 rows × 8 columns</p>\n",
              "</div>\n",
              "    <div class=\"colab-df-buttons\">\n",
              "\n",
              "  <div class=\"colab-df-container\">\n",
              "    <button class=\"colab-df-convert\" onclick=\"convertToInteractive('df-c26d47b5-2716-471f-ae50-6b92aaec1336')\"\n",
              "            title=\"Convert this dataframe to an interactive table.\"\n",
              "            style=\"display:none;\">\n",
              "\n",
              "  <svg xmlns=\"http://www.w3.org/2000/svg\" height=\"24px\" viewBox=\"0 -960 960 960\">\n",
              "    <path d=\"M120-120v-720h720v720H120Zm60-500h600v-160H180v160Zm220 220h160v-160H400v160Zm0 220h160v-160H400v160ZM180-400h160v-160H180v160Zm440 0h160v-160H620v160ZM180-180h160v-160H180v160Zm440 0h160v-160H620v160Z\"/>\n",
              "  </svg>\n",
              "    </button>\n",
              "\n",
              "  <style>\n",
              "    .colab-df-container {\n",
              "      display:flex;\n",
              "      gap: 12px;\n",
              "    }\n",
              "\n",
              "    .colab-df-convert {\n",
              "      background-color: #E8F0FE;\n",
              "      border: none;\n",
              "      border-radius: 50%;\n",
              "      cursor: pointer;\n",
              "      display: none;\n",
              "      fill: #1967D2;\n",
              "      height: 32px;\n",
              "      padding: 0 0 0 0;\n",
              "      width: 32px;\n",
              "    }\n",
              "\n",
              "    .colab-df-convert:hover {\n",
              "      background-color: #E2EBFA;\n",
              "      box-shadow: 0px 1px 2px rgba(60, 64, 67, 0.3), 0px 1px 3px 1px rgba(60, 64, 67, 0.15);\n",
              "      fill: #174EA6;\n",
              "    }\n",
              "\n",
              "    .colab-df-buttons div {\n",
              "      margin-bottom: 4px;\n",
              "    }\n",
              "\n",
              "    [theme=dark] .colab-df-convert {\n",
              "      background-color: #3B4455;\n",
              "      fill: #D2E3FC;\n",
              "    }\n",
              "\n",
              "    [theme=dark] .colab-df-convert:hover {\n",
              "      background-color: #434B5C;\n",
              "      box-shadow: 0px 1px 3px 1px rgba(0, 0, 0, 0.15);\n",
              "      filter: drop-shadow(0px 1px 2px rgba(0, 0, 0, 0.3));\n",
              "      fill: #FFFFFF;\n",
              "    }\n",
              "  </style>\n",
              "\n",
              "    <script>\n",
              "      const buttonEl =\n",
              "        document.querySelector('#df-c26d47b5-2716-471f-ae50-6b92aaec1336 button.colab-df-convert');\n",
              "      buttonEl.style.display =\n",
              "        google.colab.kernel.accessAllowed ? 'block' : 'none';\n",
              "\n",
              "      async function convertToInteractive(key) {\n",
              "        const element = document.querySelector('#df-c26d47b5-2716-471f-ae50-6b92aaec1336');\n",
              "        const dataTable =\n",
              "          await google.colab.kernel.invokeFunction('convertToInteractive',\n",
              "                                                    [key], {});\n",
              "        if (!dataTable) return;\n",
              "\n",
              "        const docLinkHtml = 'Like what you see? Visit the ' +\n",
              "          '<a target=\"_blank\" href=https://colab.research.google.com/notebooks/data_table.ipynb>data table notebook</a>'\n",
              "          + ' to learn more about interactive tables.';\n",
              "        element.innerHTML = '';\n",
              "        dataTable['output_type'] = 'display_data';\n",
              "        await google.colab.output.renderOutput(dataTable, element);\n",
              "        const docLink = document.createElement('div');\n",
              "        docLink.innerHTML = docLinkHtml;\n",
              "        element.appendChild(docLink);\n",
              "      }\n",
              "    </script>\n",
              "  </div>\n",
              "\n",
              "\n",
              "<div id=\"df-e7f9c4f0-e328-4781-af68-cd67312352eb\">\n",
              "  <button class=\"colab-df-quickchart\" onclick=\"quickchart('df-e7f9c4f0-e328-4781-af68-cd67312352eb')\"\n",
              "            title=\"Suggest charts\"\n",
              "            style=\"display:none;\">\n",
              "\n",
              "<svg xmlns=\"http://www.w3.org/2000/svg\" height=\"24px\"viewBox=\"0 0 24 24\"\n",
              "     width=\"24px\">\n",
              "    <g>\n",
              "        <path d=\"M19 3H5c-1.1 0-2 .9-2 2v14c0 1.1.9 2 2 2h14c1.1 0 2-.9 2-2V5c0-1.1-.9-2-2-2zM9 17H7v-7h2v7zm4 0h-2V7h2v10zm4 0h-2v-4h2v4z\"/>\n",
              "    </g>\n",
              "</svg>\n",
              "  </button>\n",
              "\n",
              "<style>\n",
              "  .colab-df-quickchart {\n",
              "      --bg-color: #E8F0FE;\n",
              "      --fill-color: #1967D2;\n",
              "      --hover-bg-color: #E2EBFA;\n",
              "      --hover-fill-color: #174EA6;\n",
              "      --disabled-fill-color: #AAA;\n",
              "      --disabled-bg-color: #DDD;\n",
              "  }\n",
              "\n",
              "  [theme=dark] .colab-df-quickchart {\n",
              "      --bg-color: #3B4455;\n",
              "      --fill-color: #D2E3FC;\n",
              "      --hover-bg-color: #434B5C;\n",
              "      --hover-fill-color: #FFFFFF;\n",
              "      --disabled-bg-color: #3B4455;\n",
              "      --disabled-fill-color: #666;\n",
              "  }\n",
              "\n",
              "  .colab-df-quickchart {\n",
              "    background-color: var(--bg-color);\n",
              "    border: none;\n",
              "    border-radius: 50%;\n",
              "    cursor: pointer;\n",
              "    display: none;\n",
              "    fill: var(--fill-color);\n",
              "    height: 32px;\n",
              "    padding: 0;\n",
              "    width: 32px;\n",
              "  }\n",
              "\n",
              "  .colab-df-quickchart:hover {\n",
              "    background-color: var(--hover-bg-color);\n",
              "    box-shadow: 0 1px 2px rgba(60, 64, 67, 0.3), 0 1px 3px 1px rgba(60, 64, 67, 0.15);\n",
              "    fill: var(--button-hover-fill-color);\n",
              "  }\n",
              "\n",
              "  .colab-df-quickchart-complete:disabled,\n",
              "  .colab-df-quickchart-complete:disabled:hover {\n",
              "    background-color: var(--disabled-bg-color);\n",
              "    fill: var(--disabled-fill-color);\n",
              "    box-shadow: none;\n",
              "  }\n",
              "\n",
              "  .colab-df-spinner {\n",
              "    border: 2px solid var(--fill-color);\n",
              "    border-color: transparent;\n",
              "    border-bottom-color: var(--fill-color);\n",
              "    animation:\n",
              "      spin 1s steps(1) infinite;\n",
              "  }\n",
              "\n",
              "  @keyframes spin {\n",
              "    0% {\n",
              "      border-color: transparent;\n",
              "      border-bottom-color: var(--fill-color);\n",
              "      border-left-color: var(--fill-color);\n",
              "    }\n",
              "    20% {\n",
              "      border-color: transparent;\n",
              "      border-left-color: var(--fill-color);\n",
              "      border-top-color: var(--fill-color);\n",
              "    }\n",
              "    30% {\n",
              "      border-color: transparent;\n",
              "      border-left-color: var(--fill-color);\n",
              "      border-top-color: var(--fill-color);\n",
              "      border-right-color: var(--fill-color);\n",
              "    }\n",
              "    40% {\n",
              "      border-color: transparent;\n",
              "      border-right-color: var(--fill-color);\n",
              "      border-top-color: var(--fill-color);\n",
              "    }\n",
              "    60% {\n",
              "      border-color: transparent;\n",
              "      border-right-color: var(--fill-color);\n",
              "    }\n",
              "    80% {\n",
              "      border-color: transparent;\n",
              "      border-right-color: var(--fill-color);\n",
              "      border-bottom-color: var(--fill-color);\n",
              "    }\n",
              "    90% {\n",
              "      border-color: transparent;\n",
              "      border-bottom-color: var(--fill-color);\n",
              "    }\n",
              "  }\n",
              "</style>\n",
              "\n",
              "  <script>\n",
              "    async function quickchart(key) {\n",
              "      const quickchartButtonEl =\n",
              "        document.querySelector('#' + key + ' button');\n",
              "      quickchartButtonEl.disabled = true;  // To prevent multiple clicks.\n",
              "      quickchartButtonEl.classList.add('colab-df-spinner');\n",
              "      try {\n",
              "        const charts = await google.colab.kernel.invokeFunction(\n",
              "            'suggestCharts', [key], {});\n",
              "      } catch (error) {\n",
              "        console.error('Error during call to suggestCharts:', error);\n",
              "      }\n",
              "      quickchartButtonEl.classList.remove('colab-df-spinner');\n",
              "      quickchartButtonEl.classList.add('colab-df-quickchart-complete');\n",
              "    }\n",
              "    (() => {\n",
              "      let quickchartButtonEl =\n",
              "        document.querySelector('#df-e7f9c4f0-e328-4781-af68-cd67312352eb button');\n",
              "      quickchartButtonEl.style.display =\n",
              "        google.colab.kernel.accessAllowed ? 'block' : 'none';\n",
              "    })();\n",
              "  </script>\n",
              "</div>\n",
              "    </div>\n",
              "  </div>\n"
            ],
            "application/vnd.google.colaboratory.intrinsic+json": {
              "type": "dataframe",
              "variable_name": "df_UV",
              "summary": "{\n  \"name\": \"df_UV\",\n  \"rows\": 8149,\n  \"fields\": [\n    {\n      \"column\": \"Datetime\",\n      \"properties\": {\n        \"dtype\": \"object\",\n        \"num_unique_values\": 8149,\n        \"samples\": [\n          \"2023-03-08 16:37:00\",\n          \"2023-03-02 11:20:00\",\n          \"2023-03-31 17:28:00\"\n        ],\n        \"semantic_type\": \"\",\n        \"description\": \"\"\n      }\n    },\n    {\n      \"column\": \"UVI\",\n      \"properties\": {\n        \"dtype\": \"number\",\n        \"std\": 0.721109174904205,\n        \"min\": 0.00033418314513252123,\n        \"max\": 4.16205349908206,\n        \"num_unique_values\": 8149,\n        \"samples\": [\n          0.047381741289603804,\n          1.6658970500483217,\n          0.029582896620082687\n        ],\n        \"semantic_type\": \"\",\n        \"description\": \"\"\n      }\n    },\n    {\n      \"column\": \"UVA\",\n      \"properties\": {\n        \"dtype\": \"number\",\n        \"std\": 1.4331582973162886,\n        \"min\": 0.00011814309999999999,\n        \"max\": 8.175154983199999,\n        \"num_unique_values\": 8149,\n        \"samples\": [\n          0.0285807928,\n          3.045543812500001,\n          0.0176825334\n        ],\n        \"semantic_type\": \"\",\n        \"description\": \"\"\n      }\n    },\n    {\n      \"column\": \"UVB\",\n      \"properties\": {\n        \"dtype\": \"number\",\n        \"std\": 84.00384345647353,\n        \"min\": 0.1253351704999999,\n        \"max\": 445.1097600000001,\n        \"num_unique_values\": 8149,\n        \"samples\": [\n          15.54563507,\n          251.98474799999985,\n          9.650104799999998\n        ],\n        \"semantic_type\": \"\",\n        \"description\": \"\"\n      }\n    },\n    {\n      \"column\": \"erythem\",\n      \"properties\": {\n        \"dtype\": \"number\",\n        \"std\": 0.018027729372605127,\n        \"min\": 8.35457862831303e-06,\n        \"max\": 0.1040513374770515,\n        \"num_unique_values\": 8149,\n        \"samples\": [\n          0.001184543532240095,\n          0.04164742625120804,\n          0.0007395724155020672\n        ],\n        \"semantic_type\": \"\",\n        \"description\": \"\"\n      }\n    },\n    {\n      \"column\": \"Datum\",\n      \"properties\": {\n        \"dtype\": \"object\",\n        \"num_unique_values\": 29,\n        \"samples\": [\n          \"2023-03-30\",\n          \"2023-03-17\",\n          \"2023-03-13\"\n        ],\n        \"semantic_type\": \"\",\n        \"description\": \"\"\n      }\n    },\n    {\n      \"column\": \"Uhrzeit\",\n      \"properties\": {\n        \"dtype\": \"object\",\n        \"num_unique_values\": 727,\n        \"samples\": [\n          \"12:09:00\",\n          \"17:16:00\",\n          \"07:37:00\"\n        ],\n        \"semantic_type\": \"\",\n        \"description\": \"\"\n      }\n    },\n    {\n      \"column\": \"Messzeitpunkt\",\n      \"properties\": {\n        \"dtype\": \"number\",\n        \"std\": 12005,\n        \"min\": 18720,\n        \"max\": 63000,\n        \"num_unique_values\": 727,\n        \"samples\": [\n          43740,\n          62160,\n          27420\n        ],\n        \"semantic_type\": \"\",\n        \"description\": \"\"\n      }\n    }\n  ]\n}"
            }
          },
          "metadata": {},
          "execution_count": 18
        }
      ]
    },
    {
      "cell_type": "code",
      "source": [
        "def save_dataframe_to_drive(dataframe, folder_path, filename):\n",
        "\n",
        "    # Erstelle den vollen Pfad zur Datei\n",
        "    full_path = os.path.join(folder_path, filename)\n",
        "\n",
        "    # Speichere den DataFrame als CSV-Datei auf Google Drive\n",
        "    dataframe.to_csv(full_path, index=False)\n",
        "\n",
        "    print(f'Der DataFrame wurde als {filename} in {folder_path} auf Google Drive gespeichert.')"
      ],
      "metadata": {
        "id": "TcSpTUV4efjn"
      },
      "execution_count": 19,
      "outputs": []
    },
    {
      "cell_type": "code",
      "source": [
        "plt.plot(df_UV['UVI'])"
      ],
      "metadata": {
        "colab": {
          "base_uri": "https://localhost:8080/",
          "height": 447
        },
        "id": "7u3jHrV3hP9C",
        "outputId": "fa7a9847-4c5c-4828-d0d9-29d184592870"
      },
      "execution_count": 20,
      "outputs": [
        {
          "output_type": "execute_result",
          "data": {
            "text/plain": [
              "[<matplotlib.lines.Line2D at 0x7d58889ad810>]"
            ]
          },
          "metadata": {},
          "execution_count": 20
        },
        {
          "output_type": "display_data",
          "data": {
            "text/plain": [
              "<Figure size 640x480 with 1 Axes>"
            ],
            "image/png": "[encoded data removed]"
          },
          "metadata": {}
        }
      ]
    },
    {
      "cell_type": "code",
      "source": [
        "save_dataframe_to_drive(df_UV, '/content/drive/My Drive/Colab_Notebooks/CSV_UVI', month)"
      ],
      "metadata": {
        "id": "POBk1RHxegfB",
        "colab": {
          "base_uri": "https://localhost:8080/"
        },
        "outputId": "7cd227e4-fade-4209-a596-149f669f3e5d"
      },
      "execution_count": 21,
      "outputs": [
        {
          "output_type": "stream",
          "name": "stdout",
          "text": [
            "Der DataFrame wurde als 23.03 in /content/drive/My Drive/Colab_Notebooks/CSV_UVI auf Google Drive gespeichert.\n"
          ]
        }
      ]
    },
    {
      "cell_type": "code",
      "source": [
        "# save_dataframe_to_drive(df_Gewichtet, '/content/drive/My Drive/Colab_Notebooks/CSV_Gewichtet', month)"
      ],
      "metadata": {
        "id": "3Xcot1MzfZCt"
      },
      "execution_count": 22,
      "outputs": []
    }
  ]
}