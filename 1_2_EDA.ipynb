{
  "nbformat": 4,
  "nbformat_minor": 0,
  "metadata": {
    "colab": {
      "provenance": [],
      "authorship_tag": "ABX9TyPzLvV+Hs7YEoDrV+Rdbyez",
      "include_colab_link": true
    },
    "kernelspec": {
      "name": "python3",
      "display_name": "Python 3"
    },
    "language_info": {
      "name": "python"
    }
  },
  "cells": [
    {
      "cell_type": "markdown",
      "metadata": {
        "id": "view-in-github",
        "colab_type": "text"
      },
      "source": [
        "<a href=\"https://colab.research.google.com/github/rjanow/Masterarbeit/blob/main/1_2_EDA.ipynb\" target=\"_parent\"><img src=\"https://colab.research.google.com/assets/colab-badge.svg\" alt=\"Open In Colab\"/></a>"
      ]
    },
    {
      "cell_type": "markdown",
      "source": [
        "## Verbinden mit der Google Drive und Import der benötigten Module:"
      ],
      "metadata": {
        "id": "yfUu0pEEN7e3"
      }
    },
    {
      "cell_type": "code",
      "source": [
        "# Verbinden mit der Google-Drive\n",
        "from google.colab import drive\n",
        "drive.mount('/content/drive')"
      ],
      "metadata": {
        "id": "1SZflPUFXQMy",
        "colab": {
          "base_uri": "https://localhost:8080/"
        },
        "outputId": "43efc89e-e225-4ef4-e5b9-e8df5f9d9799"
      },
      "execution_count": 1,
      "outputs": [
        {
          "output_type": "stream",
          "name": "stdout",
          "text": [
            "Drive already mounted at /content/drive; to attempt to forcibly remount, call drive.mount(\"/content/drive\", force_remount=True).\n"
          ]
        }
      ]
    },
    {
      "cell_type": "code",
      "source": [
        "import io, os, sys, setuptools, tokenize"
      ],
      "metadata": {
        "id": "f-CbyqZla-MB"
      },
      "execution_count": 2,
      "outputs": []
    },
    {
      "cell_type": "code",
      "source": [
        "!pip install pvlib"
      ],
      "metadata": {
        "id": "K2E_SQUSHrEm",
        "colab": {
          "base_uri": "https://localhost:8080/"
        },
        "outputId": "b4021c78-0d86-4906-898e-c1c4d45ef531"
      },
      "execution_count": 3,
      "outputs": [
        {
          "output_type": "stream",
          "name": "stdout",
          "text": [
            "Requirement already satisfied: pvlib in /usr/local/lib/python3.10/dist-packages (0.10.3)\n",
            "Requirement already satisfied: numpy>=1.16.0 in /usr/local/lib/python3.10/dist-packages (from pvlib) (1.25.2)\n",
            "Requirement already satisfied: pandas>=0.25.0 in /usr/local/lib/python3.10/dist-packages (from pvlib) (1.5.3)\n",
            "Requirement already satisfied: pytz in /usr/local/lib/python3.10/dist-packages (from pvlib) (2023.4)\n",
            "Requirement already satisfied: requests in /usr/local/lib/python3.10/dist-packages (from pvlib) (2.31.0)\n",
            "Requirement already satisfied: scipy>=1.5.0 in /usr/local/lib/python3.10/dist-packages (from pvlib) (1.11.4)\n",
            "Requirement already satisfied: h5py in /usr/local/lib/python3.10/dist-packages (from pvlib) (3.9.0)\n",
            "Requirement already satisfied: python-dateutil>=2.8.1 in /usr/local/lib/python3.10/dist-packages (from pandas>=0.25.0->pvlib) (2.8.2)\n",
            "Requirement already satisfied: charset-normalizer<4,>=2 in /usr/local/lib/python3.10/dist-packages (from requests->pvlib) (3.3.2)\n",
            "Requirement already satisfied: idna<4,>=2.5 in /usr/local/lib/python3.10/dist-packages (from requests->pvlib) (3.6)\n",
            "Requirement already satisfied: urllib3<3,>=1.21.1 in /usr/local/lib/python3.10/dist-packages (from requests->pvlib) (2.0.7)\n",
            "Requirement already satisfied: certifi>=2017.4.17 in /usr/local/lib/python3.10/dist-packages (from requests->pvlib) (2024.2.2)\n",
            "Requirement already satisfied: six>=1.5 in /usr/local/lib/python3.10/dist-packages (from python-dateutil>=2.8.1->pandas>=0.25.0->pvlib) (1.16.0)\n"
          ]
        }
      ]
    },
    {
      "cell_type": "code",
      "source": [
        "## import modules\n",
        "\n",
        "import numpy as np\n",
        "import pandas as pd\n",
        "import matplotlib\n",
        "import matplotlib.pyplot as plt\n",
        "import matplotlib.dates as mdates\n",
        "import seaborn as sns\n",
        "import pvlib\n",
        "\n",
        "from datetime import datetime\n",
        "from datetime import timedelta\n",
        "from prophet import Prophet\n",
        "from math import sqrt\n",
        "\n",
        "from scipy.fft import fft"
      ],
      "metadata": {
        "id": "PkdOG-2sz6ni"
      },
      "execution_count": 4,
      "outputs": []
    },
    {
      "cell_type": "code",
      "source": [
        "# Größe der Plots festlegen\n",
        "matplotlib.rcParams['figure.figsize'] = (13, 8)"
      ],
      "metadata": {
        "id": "DbA0GHYidVel"
      },
      "execution_count": 5,
      "outputs": []
    },
    {
      "cell_type": "code",
      "source": [
        "latitude = 50.2\n",
        "longitude = 7.8\n",
        "\n",
        "seconds_in_day = 24*60*60\n",
        "seconds_in_year = (365.2425)*seconds_in_day\n",
        "\n",
        "tz, altitude, name = 'Europe/Berlin', 70, 'SanktAugustin'\n",
        "tus = pvlib.location.Location(latitude, longitude, tz, altitude, name)"
      ],
      "metadata": {
        "id": "shv1JklsbKRR"
      },
      "execution_count": 6,
      "outputs": []
    },
    {
      "cell_type": "code",
      "source": [
        "# Pfad zur CSV-Datei auf Google Drive\n",
        "name_Messwerte = 'UVI_Messdaten.csv'\n",
        "name_Vorhersage = 'Vorhersage.csv'\n",
        "name_Solar_Messwerte = 'Solys_Messdaten.csv'\n",
        "name_VarIdx = 'Var_Index.csv'\n",
        "\n",
        "drive_path = '/content/drive/My Drive/Colab_Notebooks/Clean_Data/'\n",
        "output_plot_path = '/content/drive/My Drive/Colab_Notebooks/plot_daily_UVI/'"
      ],
      "metadata": {
        "id": "9Y0wG7A1TZGS"
      },
      "execution_count": 7,
      "outputs": []
    },
    {
      "cell_type": "code",
      "source": [
        "# Import der Daten für die EDA\n",
        "df_UVI = pd.read_csv(drive_path + name_Messwerte)\n",
        "df_Solys = pd.read_csv(drive_path + name_Solar_Messwerte)\n",
        "df_CAMS = pd.read_csv(drive_path + name_Vorhersage)\n",
        "df_VarIdx = pd.read_csv(drive_path + name_VarIdx)\n",
        "\n",
        "# Messzeitpunkt in Datetime umwandeln\n",
        "df_UVI.set_index('Datetime', inplace=True)\n",
        "df_Solys.set_index('Datetime', inplace=True)\n",
        "df_CAMS.set_index('Datetime', inplace=True)\n",
        "df_VarIdx.set_index('Datetime', inplace=True)\n",
        "\n",
        "# Index in Datetime umwandeln\n",
        "df_UVI.index = pd.to_datetime(df_UVI.index)\n",
        "df_Solys.index = pd.to_datetime(df_Solys.index)\n",
        "df_CAMS.index = pd.to_datetime(df_CAMS.index)\n",
        "df_VarIdx.index = pd.to_datetime(df_VarIdx.index)\n",
        "\n",
        "# NaN Einträge durch 0 ersetzen\n",
        "df_UVI['UVI'] = df_UVI['UVI'].fillna(0)\n",
        "df_UVI['erythem'] = df_UVI['erythem'].fillna(0)\n",
        "df_Solys.dropna(inplace = True)"
      ],
      "metadata": {
        "id": "6a6UN1j_OS8o"
      },
      "execution_count": 8,
      "outputs": []
    },
    {
      "cell_type": "code",
      "source": [
        "# Stündlicher Durchschitt ohne Nullen\n",
        "df_UVI_hourly = df_UVI[df_UVI['UVI'] != 0][['UVI','erythem', 'SZA']].resample('H').mean()"
      ],
      "metadata": {
        "id": "aSpBP7GYJQQm"
      },
      "execution_count": 9,
      "outputs": []
    },
    {
      "cell_type": "code",
      "source": [
        "# Stündlicher Durchschitt mit Nullen\n",
        "df_UVI_hourly_withZero = df_UVI[['UVI','erythem', 'SZA']].resample('H').mean()"
      ],
      "metadata": {
        "id": "0-fA2NTePtLK"
      },
      "execution_count": 10,
      "outputs": []
    },
    {
      "cell_type": "markdown",
      "source": [
        "# Clear-Sky und All-Sky Tage gruppieren:"
      ],
      "metadata": {
        "id": "-0p7vMxPJlqh"
      }
    },
    {
      "cell_type": "code",
      "source": [
        "df_VarIdx_Day = df_VarIdx.resample('D').mean()"
      ],
      "metadata": {
        "id": "mjFZ4R4ygpje"
      },
      "execution_count": 11,
      "outputs": []
    },
    {
      "cell_type": "code",
      "source": [
        "df_VarIdx_Day.describe()"
      ],
      "metadata": {
        "id": "YNYZiFV6Hguj",
        "outputId": "4b6b9183-8a03-4f5f-9066-ee7d4cb796e9",
        "colab": {
          "base_uri": "https://localhost:8080/",
          "height": 300
        }
      },
      "execution_count": 12,
      "outputs": [
        {
          "output_type": "execute_result",
          "data": {
            "text/plain": [
              "       index_sigma  index_coimbra  index_stein\n",
              "count   289.000000     289.000000   289.000000\n",
              "mean      0.345894       1.052174     9.053808\n",
              "std       2.767702       6.029707     7.983077\n",
              "min       0.001988       0.003466     0.386333\n",
              "25%       0.017134       0.091783     2.673958\n",
              "50%       0.032740       0.148616     6.336590\n",
              "75%       0.085007       0.249296    13.126597\n",
              "max      44.791870      72.502588    40.420145"
            ],
            "text/html": [
              "\n",
              "  <div id=\"df-b45de248-4ab4-4cbe-9cb7-71cf31b22394\" class=\"colab-df-container\">\n",
              "    <div>\n",
              "<style scoped>\n",
              "    .dataframe tbody tr th:only-of-type {\n",
              "        vertical-align: middle;\n",
              "    }\n",
              "\n",
              "    .dataframe tbody tr th {\n",
              "        vertical-align: top;\n",
              "    }\n",
              "\n",
              "    .dataframe thead th {\n",
              "        text-align: right;\n",
              "    }\n",
              "</style>\n",
              "<table border=\"1\" class=\"dataframe\">\n",
              "  <thead>\n",
              "    <tr style=\"text-align: right;\">\n",
              "      <th></th>\n",
              "      <th>index_sigma</th>\n",
              "      <th>index_coimbra</th>\n",
              "      <th>index_stein</th>\n",
              "    </tr>\n",
              "  </thead>\n",
              "  <tbody>\n",
              "    <tr>\n",
              "      <th>count</th>\n",
              "      <td>289.000000</td>\n",
              "      <td>289.000000</td>\n",
              "      <td>289.000000</td>\n",
              "    </tr>\n",
              "    <tr>\n",
              "      <th>mean</th>\n",
              "      <td>0.345894</td>\n",
              "      <td>1.052174</td>\n",
              "      <td>9.053808</td>\n",
              "    </tr>\n",
              "    <tr>\n",
              "      <th>std</th>\n",
              "      <td>2.767702</td>\n",
              "      <td>6.029707</td>\n",
              "      <td>7.983077</td>\n",
              "    </tr>\n",
              "    <tr>\n",
              "      <th>min</th>\n",
              "      <td>0.001988</td>\n",
              "      <td>0.003466</td>\n",
              "      <td>0.386333</td>\n",
              "    </tr>\n",
              "    <tr>\n",
              "      <th>25%</th>\n",
              "      <td>0.017134</td>\n",
              "      <td>0.091783</td>\n",
              "      <td>2.673958</td>\n",
              "    </tr>\n",
              "    <tr>\n",
              "      <th>50%</th>\n",
              "      <td>0.032740</td>\n",
              "      <td>0.148616</td>\n",
              "      <td>6.336590</td>\n",
              "    </tr>\n",
              "    <tr>\n",
              "      <th>75%</th>\n",
              "      <td>0.085007</td>\n",
              "      <td>0.249296</td>\n",
              "      <td>13.126597</td>\n",
              "    </tr>\n",
              "    <tr>\n",
              "      <th>max</th>\n",
              "      <td>44.791870</td>\n",
              "      <td>72.502588</td>\n",
              "      <td>40.420145</td>\n",
              "    </tr>\n",
              "  </tbody>\n",
              "</table>\n",
              "</div>\n",
              "    <div class=\"colab-df-buttons\">\n",
              "\n",
              "  <div class=\"colab-df-container\">\n",
              "    <button class=\"colab-df-convert\" onclick=\"convertToInteractive('df-b45de248-4ab4-4cbe-9cb7-71cf31b22394')\"\n",
              "            title=\"Convert this dataframe to an interactive table.\"\n",
              "            style=\"display:none;\">\n",
              "\n",
              "  <svg xmlns=\"http://www.w3.org/2000/svg\" height=\"24px\" viewBox=\"0 -960 960 960\">\n",
              "    <path d=\"M120-120v-720h720v720H120Zm60-500h600v-160H180v160Zm220 220h160v-160H400v160Zm0 220h160v-160H400v160ZM180-400h160v-160H180v160Zm440 0h160v-160H620v160ZM180-180h160v-160H180v160Zm440 0h160v-160H620v160Z\"/>\n",
              "  </svg>\n",
              "    </button>\n",
              "\n",
              "  <style>\n",
              "    .colab-df-container {\n",
              "      display:flex;\n",
              "      gap: 12px;\n",
              "    }\n",
              "\n",
              "    .colab-df-convert {\n",
              "      background-color: #E8F0FE;\n",
              "      border: none;\n",
              "      border-radius: 50%;\n",
              "      cursor: pointer;\n",
              "      display: none;\n",
              "      fill: #1967D2;\n",
              "      height: 32px;\n",
              "      padding: 0 0 0 0;\n",
              "      width: 32px;\n",
              "    }\n",
              "\n",
              "    .colab-df-convert:hover {\n",
              "      background-color: #E2EBFA;\n",
              "      box-shadow: 0px 1px 2px rgba(60, 64, 67, 0.3), 0px 1px 3px 1px rgba(60, 64, 67, 0.15);\n",
              "      fill: #174EA6;\n",
              "    }\n",
              "\n",
              "    .colab-df-buttons div {\n",
              "      margin-bottom: 4px;\n",
              "    }\n",
              "\n",
              "    [theme=dark] .colab-df-convert {\n",
              "      background-color: #3B4455;\n",
              "      fill: #D2E3FC;\n",
              "    }\n",
              "\n",
              "    [theme=dark] .colab-df-convert:hover {\n",
              "      background-color: #434B5C;\n",
              "      box-shadow: 0px 1px 3px 1px rgba(0, 0, 0, 0.15);\n",
              "      filter: drop-shadow(0px 1px 2px rgba(0, 0, 0, 0.3));\n",
              "      fill: #FFFFFF;\n",
              "    }\n",
              "  </style>\n",
              "\n",
              "    <script>\n",
              "      const buttonEl =\n",
              "        document.querySelector('#df-b45de248-4ab4-4cbe-9cb7-71cf31b22394 button.colab-df-convert');\n",
              "      buttonEl.style.display =\n",
              "        google.colab.kernel.accessAllowed ? 'block' : 'none';\n",
              "\n",
              "      async function convertToInteractive(key) {\n",
              "        const element = document.querySelector('#df-b45de248-4ab4-4cbe-9cb7-71cf31b22394');\n",
              "        const dataTable =\n",
              "          await google.colab.kernel.invokeFunction('convertToInteractive',\n",
              "                                                    [key], {});\n",
              "        if (!dataTable) return;\n",
              "\n",
              "        const docLinkHtml = 'Like what you see? Visit the ' +\n",
              "          '<a target=\"_blank\" href=https://colab.research.google.com/notebooks/data_table.ipynb>data table notebook</a>'\n",
              "          + ' to learn more about interactive tables.';\n",
              "        element.innerHTML = '';\n",
              "        dataTable['output_type'] = 'display_data';\n",
              "        await google.colab.output.renderOutput(dataTable, element);\n",
              "        const docLink = document.createElement('div');\n",
              "        docLink.innerHTML = docLinkHtml;\n",
              "        element.appendChild(docLink);\n",
              "      }\n",
              "    </script>\n",
              "  </div>\n",
              "\n",
              "\n",
              "<div id=\"df-d81aaa76-e8e2-426d-b8d3-383edf49c765\">\n",
              "  <button class=\"colab-df-quickchart\" onclick=\"quickchart('df-d81aaa76-e8e2-426d-b8d3-383edf49c765')\"\n",
              "            title=\"Suggest charts\"\n",
              "            style=\"display:none;\">\n",
              "\n",
              "<svg xmlns=\"http://www.w3.org/2000/svg\" height=\"24px\"viewBox=\"0 0 24 24\"\n",
              "     width=\"24px\">\n",
              "    <g>\n",
              "        <path d=\"M19 3H5c-1.1 0-2 .9-2 2v14c0 1.1.9 2 2 2h14c1.1 0 2-.9 2-2V5c0-1.1-.9-2-2-2zM9 17H7v-7h2v7zm4 0h-2V7h2v10zm4 0h-2v-4h2v4z\"/>\n",
              "    </g>\n",
              "</svg>\n",
              "  </button>\n",
              "\n",
              "<style>\n",
              "  .colab-df-quickchart {\n",
              "      --bg-color: #E8F0FE;\n",
              "      --fill-color: #1967D2;\n",
              "      --hover-bg-color: #E2EBFA;\n",
              "      --hover-fill-color: #174EA6;\n",
              "      --disabled-fill-color: #AAA;\n",
              "      --disabled-bg-color: #DDD;\n",
              "  }\n",
              "\n",
              "  [theme=dark] .colab-df-quickchart {\n",
              "      --bg-color: #3B4455;\n",
              "      --fill-color: #D2E3FC;\n",
              "      --hover-bg-color: #434B5C;\n",
              "      --hover-fill-color: #FFFFFF;\n",
              "      --disabled-bg-color: #3B4455;\n",
              "      --disabled-fill-color: #666;\n",
              "  }\n",
              "\n",
              "  .colab-df-quickchart {\n",
              "    background-color: var(--bg-color);\n",
              "    border: none;\n",
              "    border-radius: 50%;\n",
              "    cursor: pointer;\n",
              "    display: none;\n",
              "    fill: var(--fill-color);\n",
              "    height: 32px;\n",
              "    padding: 0;\n",
              "    width: 32px;\n",
              "  }\n",
              "\n",
              "  .colab-df-quickchart:hover {\n",
              "    background-color: var(--hover-bg-color);\n",
              "    box-shadow: 0 1px 2px rgba(60, 64, 67, 0.3), 0 1px 3px 1px rgba(60, 64, 67, 0.15);\n",
              "    fill: var(--button-hover-fill-color);\n",
              "  }\n",
              "\n",
              "  .colab-df-quickchart-complete:disabled,\n",
              "  .colab-df-quickchart-complete:disabled:hover {\n",
              "    background-color: var(--disabled-bg-color);\n",
              "    fill: var(--disabled-fill-color);\n",
              "    box-shadow: none;\n",
              "  }\n",
              "\n",
              "  .colab-df-spinner {\n",
              "    border: 2px solid var(--fill-color);\n",
              "    border-color: transparent;\n",
              "    border-bottom-color: var(--fill-color);\n",
              "    animation:\n",
              "      spin 1s steps(1) infinite;\n",
              "  }\n",
              "\n",
              "  @keyframes spin {\n",
              "    0% {\n",
              "      border-color: transparent;\n",
              "      border-bottom-color: var(--fill-color);\n",
              "      border-left-color: var(--fill-color);\n",
              "    }\n",
              "    20% {\n",
              "      border-color: transparent;\n",
              "      border-left-color: var(--fill-color);\n",
              "      border-top-color: var(--fill-color);\n",
              "    }\n",
              "    30% {\n",
              "      border-color: transparent;\n",
              "      border-left-color: var(--fill-color);\n",
              "      border-top-color: var(--fill-color);\n",
              "      border-right-color: var(--fill-color);\n",
              "    }\n",
              "    40% {\n",
              "      border-color: transparent;\n",
              "      border-right-color: var(--fill-color);\n",
              "      border-top-color: var(--fill-color);\n",
              "    }\n",
              "    60% {\n",
              "      border-color: transparent;\n",
              "      border-right-color: var(--fill-color);\n",
              "    }\n",
              "    80% {\n",
              "      border-color: transparent;\n",
              "      border-right-color: var(--fill-color);\n",
              "      border-bottom-color: var(--fill-color);\n",
              "    }\n",
              "    90% {\n",
              "      border-color: transparent;\n",
              "      border-bottom-color: var(--fill-color);\n",
              "    }\n",
              "  }\n",
              "</style>\n",
              "\n",
              "  <script>\n",
              "    async function quickchart(key) {\n",
              "      const quickchartButtonEl =\n",
              "        document.querySelector('#' + key + ' button');\n",
              "      quickchartButtonEl.disabled = true;  // To prevent multiple clicks.\n",
              "      quickchartButtonEl.classList.add('colab-df-spinner');\n",
              "      try {\n",
              "        const charts = await google.colab.kernel.invokeFunction(\n",
              "            'suggestCharts', [key], {});\n",
              "      } catch (error) {\n",
              "        console.error('Error during call to suggestCharts:', error);\n",
              "      }\n",
              "      quickchartButtonEl.classList.remove('colab-df-spinner');\n",
              "      quickchartButtonEl.classList.add('colab-df-quickchart-complete');\n",
              "    }\n",
              "    (() => {\n",
              "      let quickchartButtonEl =\n",
              "        document.querySelector('#df-d81aaa76-e8e2-426d-b8d3-383edf49c765 button');\n",
              "      quickchartButtonEl.style.display =\n",
              "        google.colab.kernel.accessAllowed ? 'block' : 'none';\n",
              "    })();\n",
              "  </script>\n",
              "</div>\n",
              "    </div>\n",
              "  </div>\n"
            ],
            "application/vnd.google.colaboratory.intrinsic+json": {
              "type": "dataframe",
              "summary": "{\n  \"name\": \"df_VarIdx_Day\",\n  \"rows\": 8,\n  \"fields\": [\n    {\n      \"column\": \"index_sigma\",\n      \"properties\": {\n        \"dtype\": \"number\",\n        \"std\": 100.94935646743151,\n        \"min\": 0.0019882900474682995,\n        \"max\": 289.0,\n        \"samples\": [\n          0.3458938719235592,\n          0.03273973206182952,\n          289.0\n        ],\n        \"num_unique_values\": 8,\n        \"semantic_type\": \"\",\n        \"description\": \"\"\n      }\n    },\n    {\n      \"column\": \"index_coimbra\",\n      \"properties\": {\n        \"dtype\": \"number\",\n        \"std\": 101.26901602073359,\n        \"min\": 0.0034663603463126556,\n        \"max\": 289.0,\n        \"samples\": [\n          1.0521737949818715,\n          0.14861582802765394,\n          289.0\n        ],\n        \"num_unique_values\": 8,\n        \"semantic_type\": \"\",\n        \"description\": \"\"\n      }\n    },\n    {\n      \"column\": \"index_stein\",\n      \"properties\": {\n        \"dtype\": \"number\",\n        \"std\": 98.92415662320603,\n        \"min\": 0.38633304009321573,\n        \"max\": 289.0,\n        \"samples\": [\n          9.05380797343864,\n          6.336590471189712,\n          289.0\n        ],\n        \"num_unique_values\": 8,\n        \"semantic_type\": \"\",\n        \"description\": \"\"\n      }\n    }\n  ]\n}"
            }
          },
          "metadata": {},
          "execution_count": 12
        }
      ]
    },
    {
      "cell_type": "code",
      "source": [
        "# Funktion um die Messdaten nach ihrer Variabilität zu klassifizieren\n",
        "def kategorie_zuordnen(row, avg_values, coimbra):\n",
        "    avg = avg_values.get(row.name.floor('D'), np.nan)\n",
        "    coi = coimbra.get(row.name.floor('D'), np.nan)\n",
        "\n",
        "    if pd.isna(avg):\n",
        "        return 'Unbekannt'  # Für den Fall, dass kein Durchschnittswert vorhanden ist\n",
        "    elif 1 < avg < 3:\n",
        "        return 1, avg, coi\n",
        "    elif 20 < avg < 41:\n",
        "        return 3, avg, coi\n",
        "    else:\n",
        "        return 2, avg, coi\n",
        "\n",
        "# Tägliche Durchschnittswerte aus DataFrame A in DataFrame B einfügen\n",
        "# Anwenden der Funktion und Zuweisung der Ergebnisse zu neuen Spalten\n",
        "temp_df = df_Solys.apply(kategorie_zuordnen, avg_values = df_VarIdx_Day['index_stein'].to_dict(), coimbra = df_VarIdx_Day['index_coimbra'].to_dict(), axis=1)\n",
        "\n",
        "# Benenne die Spalten des temporären DataFrame um\n",
        "temp_df = pd.DataFrame(temp_df.tolist(), index=temp_df.index)\n",
        "\n",
        "# Füge die neuen Spalten zum ursprünglichen DataFrame hinzu\n",
        "df_Solys = pd.concat([df_Solys, temp_df[[0, 1, 2]]], axis=1)\n",
        "df_Solys.rename(columns={0: 'Var', 1: 'index_stein', 2: 'index_coimbra'}, inplace = True)"
      ],
      "metadata": {
        "id": "wXvPSTu7FCvE"
      },
      "execution_count": 13,
      "outputs": []
    },
    {
      "cell_type": "code",
      "source": [
        "df_Solys"
      ],
      "metadata": {
        "id": "0HTNIrNij2Lt",
        "outputId": "1906d6ef-b3c8-47b8-aa63-0e0c0708bd74",
        "colab": {
          "base_uri": "https://localhost:8080/",
          "height": 455
        }
      },
      "execution_count": 14,
      "outputs": [
        {
          "output_type": "execute_result",
          "data": {
            "text/plain": [
              "                            Glo         Dif  Glo_SPLite         Dir  \\\n",
              "Datetime                                                              \n",
              "2022-06-15 07:21:00  554.483333   72.400000  567.525000  853.966667   \n",
              "2022-06-15 07:23:00  557.791667   73.475000  571.233333  851.991667   \n",
              "2022-06-15 07:25:00  561.708333   74.800000  574.766667  850.225000   \n",
              "2022-06-15 07:27:00  564.783333   75.383333  577.875000  848.400000   \n",
              "2022-06-15 07:29:00  571.850000   76.233333  584.958333  852.433333   \n",
              "...                         ...         ...         ...         ...   \n",
              "2023-08-19 05:48:00  232.516667  148.866667  251.808333  419.441667   \n",
              "2023-08-19 05:50:00  233.466667  145.483333  252.866667  426.958333   \n",
              "2023-08-19 05:52:00  215.358333  140.125000  232.941667  356.283333   \n",
              "2023-08-19 05:54:00  215.333333  134.258333  233.008333  372.275000   \n",
              "2023-08-19 05:56:00  169.541667  128.416667  182.391667  191.358333   \n",
              "\n",
              "                          Temp Var index_stein index_coimbra  \n",
              "Datetime                                                      \n",
              "2022-06-15 07:21:00  27.258333   2    3.245913      0.069262  \n",
              "2022-06-15 07:23:00  28.058333   2    3.245913      0.069262  \n",
              "2022-06-15 07:25:00  28.616667   2    3.245913      0.069262  \n",
              "2022-06-15 07:27:00  26.791667   2    3.245913      0.069262  \n",
              "2022-06-15 07:29:00  28.600000   2    3.245913      0.069262  \n",
              "...                        ...  ..         ...           ...  \n",
              "2023-08-19 05:48:00  24.183333   1    2.673958      0.165664  \n",
              "2023-08-19 05:50:00  24.375000   1    2.673958      0.165664  \n",
              "2023-08-19 05:52:00  24.550000   1    2.673958      0.165664  \n",
              "2023-08-19 05:54:00  24.800000   1    2.673958      0.165664  \n",
              "2023-08-19 05:56:00  24.633333   1    2.673958      0.165664  \n",
              "\n",
              "[97260 rows x 8 columns]"
            ],
            "text/html": [
              "\n",
              "  <div id=\"df-35e3cc53-dcf1-4c75-a047-998d5ef4cecf\" class=\"colab-df-container\">\n",
              "    <div>\n",
              "<style scoped>\n",
              "    .dataframe tbody tr th:only-of-type {\n",
              "        vertical-align: middle;\n",
              "    }\n",
              "\n",
              "    .dataframe tbody tr th {\n",
              "        vertical-align: top;\n",
              "    }\n",
              "\n",
              "    .dataframe thead th {\n",
              "        text-align: right;\n",
              "    }\n",
              "</style>\n",
              "<table border=\"1\" class=\"dataframe\">\n",
              "  <thead>\n",
              "    <tr style=\"text-align: right;\">\n",
              "      <th></th>\n",
              "      <th>Glo</th>\n",
              "      <th>Dif</th>\n",
              "      <th>Glo_SPLite</th>\n",
              "      <th>Dir</th>\n",
              "      <th>Temp</th>\n",
              "      <th>Var</th>\n",
              "      <th>index_stein</th>\n",
              "      <th>index_coimbra</th>\n",
              "    </tr>\n",
              "    <tr>\n",
              "      <th>Datetime</th>\n",
              "      <th></th>\n",
              "      <th></th>\n",
              "      <th></th>\n",
              "      <th></th>\n",
              "      <th></th>\n",
              "      <th></th>\n",
              "      <th></th>\n",
              "      <th></th>\n",
              "    </tr>\n",
              "  </thead>\n",
              "  <tbody>\n",
              "    <tr>\n",
              "      <th>2022-06-15 07:21:00</th>\n",
              "      <td>554.483333</td>\n",
              "      <td>72.400000</td>\n",
              "      <td>567.525000</td>\n",
              "      <td>853.966667</td>\n",
              "      <td>27.258333</td>\n",
              "      <td>2</td>\n",
              "      <td>3.245913</td>\n",
              "      <td>0.069262</td>\n",
              "    </tr>\n",
              "    <tr>\n",
              "      <th>2022-06-15 07:23:00</th>\n",
              "      <td>557.791667</td>\n",
              "      <td>73.475000</td>\n",
              "      <td>571.233333</td>\n",
              "      <td>851.991667</td>\n",
              "      <td>28.058333</td>\n",
              "      <td>2</td>\n",
              "      <td>3.245913</td>\n",
              "      <td>0.069262</td>\n",
              "    </tr>\n",
              "    <tr>\n",
              "      <th>2022-06-15 07:25:00</th>\n",
              "      <td>561.708333</td>\n",
              "      <td>74.800000</td>\n",
              "      <td>574.766667</td>\n",
              "      <td>850.225000</td>\n",
              "      <td>28.616667</td>\n",
              "      <td>2</td>\n",
              "      <td>3.245913</td>\n",
              "      <td>0.069262</td>\n",
              "    </tr>\n",
              "    <tr>\n",
              "      <th>2022-06-15 07:27:00</th>\n",
              "      <td>564.783333</td>\n",
              "      <td>75.383333</td>\n",
              "      <td>577.875000</td>\n",
              "      <td>848.400000</td>\n",
              "      <td>26.791667</td>\n",
              "      <td>2</td>\n",
              "      <td>3.245913</td>\n",
              "      <td>0.069262</td>\n",
              "    </tr>\n",
              "    <tr>\n",
              "      <th>2022-06-15 07:29:00</th>\n",
              "      <td>571.850000</td>\n",
              "      <td>76.233333</td>\n",
              "      <td>584.958333</td>\n",
              "      <td>852.433333</td>\n",
              "      <td>28.600000</td>\n",
              "      <td>2</td>\n",
              "      <td>3.245913</td>\n",
              "      <td>0.069262</td>\n",
              "    </tr>\n",
              "    <tr>\n",
              "      <th>...</th>\n",
              "      <td>...</td>\n",
              "      <td>...</td>\n",
              "      <td>...</td>\n",
              "      <td>...</td>\n",
              "      <td>...</td>\n",
              "      <td>...</td>\n",
              "      <td>...</td>\n",
              "      <td>...</td>\n",
              "    </tr>\n",
              "    <tr>\n",
              "      <th>2023-08-19 05:48:00</th>\n",
              "      <td>232.516667</td>\n",
              "      <td>148.866667</td>\n",
              "      <td>251.808333</td>\n",
              "      <td>419.441667</td>\n",
              "      <td>24.183333</td>\n",
              "      <td>1</td>\n",
              "      <td>2.673958</td>\n",
              "      <td>0.165664</td>\n",
              "    </tr>\n",
              "    <tr>\n",
              "      <th>2023-08-19 05:50:00</th>\n",
              "      <td>233.466667</td>\n",
              "      <td>145.483333</td>\n",
              "      <td>252.866667</td>\n",
              "      <td>426.958333</td>\n",
              "      <td>24.375000</td>\n",
              "      <td>1</td>\n",
              "      <td>2.673958</td>\n",
              "      <td>0.165664</td>\n",
              "    </tr>\n",
              "    <tr>\n",
              "      <th>2023-08-19 05:52:00</th>\n",
              "      <td>215.358333</td>\n",
              "      <td>140.125000</td>\n",
              "      <td>232.941667</td>\n",
              "      <td>356.283333</td>\n",
              "      <td>24.550000</td>\n",
              "      <td>1</td>\n",
              "      <td>2.673958</td>\n",
              "      <td>0.165664</td>\n",
              "    </tr>\n",
              "    <tr>\n",
              "      <th>2023-08-19 05:54:00</th>\n",
              "      <td>215.333333</td>\n",
              "      <td>134.258333</td>\n",
              "      <td>233.008333</td>\n",
              "      <td>372.275000</td>\n",
              "      <td>24.800000</td>\n",
              "      <td>1</td>\n",
              "      <td>2.673958</td>\n",
              "      <td>0.165664</td>\n",
              "    </tr>\n",
              "    <tr>\n",
              "      <th>2023-08-19 05:56:00</th>\n",
              "      <td>169.541667</td>\n",
              "      <td>128.416667</td>\n",
              "      <td>182.391667</td>\n",
              "      <td>191.358333</td>\n",
              "      <td>24.633333</td>\n",
              "      <td>1</td>\n",
              "      <td>2.673958</td>\n",
              "      <td>0.165664</td>\n",
              "    </tr>\n",
              "  </tbody>\n",
              "</table>\n",
              "<p>97260 rows × 8 columns</p>\n",
              "</div>\n",
              "    <div class=\"colab-df-buttons\">\n",
              "\n",
              "  <div class=\"colab-df-container\">\n",
              "    <button class=\"colab-df-convert\" onclick=\"convertToInteractive('df-35e3cc53-dcf1-4c75-a047-998d5ef4cecf')\"\n",
              "            title=\"Convert this dataframe to an interactive table.\"\n",
              "            style=\"display:none;\">\n",
              "\n",
              "  <svg xmlns=\"http://www.w3.org/2000/svg\" height=\"24px\" viewBox=\"0 -960 960 960\">\n",
              "    <path d=\"M120-120v-720h720v720H120Zm60-500h600v-160H180v160Zm220 220h160v-160H400v160Zm0 220h160v-160H400v160ZM180-400h160v-160H180v160Zm440 0h160v-160H620v160ZM180-180h160v-160H180v160Zm440 0h160v-160H620v160Z\"/>\n",
              "  </svg>\n",
              "    </button>\n",
              "\n",
              "  <style>\n",
              "    .colab-df-container {\n",
              "      display:flex;\n",
              "      gap: 12px;\n",
              "    }\n",
              "\n",
              "    .colab-df-convert {\n",
              "      background-color: #E8F0FE;\n",
              "      border: none;\n",
              "      border-radius: 50%;\n",
              "      cursor: pointer;\n",
              "      display: none;\n",
              "      fill: #1967D2;\n",
              "      height: 32px;\n",
              "      padding: 0 0 0 0;\n",
              "      width: 32px;\n",
              "    }\n",
              "\n",
              "    .colab-df-convert:hover {\n",
              "      background-color: #E2EBFA;\n",
              "      box-shadow: 0px 1px 2px rgba(60, 64, 67, 0.3), 0px 1px 3px 1px rgba(60, 64, 67, 0.15);\n",
              "      fill: #174EA6;\n",
              "    }\n",
              "\n",
              "    .colab-df-buttons div {\n",
              "      margin-bottom: 4px;\n",
              "    }\n",
              "\n",
              "    [theme=dark] .colab-df-convert {\n",
              "      background-color: #3B4455;\n",
              "      fill: #D2E3FC;\n",
              "    }\n",
              "\n",
              "    [theme=dark] .colab-df-convert:hover {\n",
              "      background-color: #434B5C;\n",
              "      box-shadow: 0px 1px 3px 1px rgba(0, 0, 0, 0.15);\n",
              "      filter: drop-shadow(0px 1px 2px rgba(0, 0, 0, 0.3));\n",
              "      fill: #FFFFFF;\n",
              "    }\n",
              "  </style>\n",
              "\n",
              "    <script>\n",
              "      const buttonEl =\n",
              "        document.querySelector('#df-35e3cc53-dcf1-4c75-a047-998d5ef4cecf button.colab-df-convert');\n",
              "      buttonEl.style.display =\n",
              "        google.colab.kernel.accessAllowed ? 'block' : 'none';\n",
              "\n",
              "      async function convertToInteractive(key) {\n",
              "        const element = document.querySelector('#df-35e3cc53-dcf1-4c75-a047-998d5ef4cecf');\n",
              "        const dataTable =\n",
              "          await google.colab.kernel.invokeFunction('convertToInteractive',\n",
              "                                                    [key], {});\n",
              "        if (!dataTable) return;\n",
              "\n",
              "        const docLinkHtml = 'Like what you see? Visit the ' +\n",
              "          '<a target=\"_blank\" href=https://colab.research.google.com/notebooks/data_table.ipynb>data table notebook</a>'\n",
              "          + ' to learn more about interactive tables.';\n",
              "        element.innerHTML = '';\n",
              "        dataTable['output_type'] = 'display_data';\n",
              "        await google.colab.output.renderOutput(dataTable, element);\n",
              "        const docLink = document.createElement('div');\n",
              "        docLink.innerHTML = docLinkHtml;\n",
              "        element.appendChild(docLink);\n",
              "      }\n",
              "    </script>\n",
              "  </div>\n",
              "\n",
              "\n",
              "<div id=\"df-071aecaa-6d2a-4aba-a460-aeed534ef7bc\">\n",
              "  <button class=\"colab-df-quickchart\" onclick=\"quickchart('df-071aecaa-6d2a-4aba-a460-aeed534ef7bc')\"\n",
              "            title=\"Suggest charts\"\n",
              "            style=\"display:none;\">\n",
              "\n",
              "<svg xmlns=\"http://www.w3.org/2000/svg\" height=\"24px\"viewBox=\"0 0 24 24\"\n",
              "     width=\"24px\">\n",
              "    <g>\n",
              "        <path d=\"M19 3H5c-1.1 0-2 .9-2 2v14c0 1.1.9 2 2 2h14c1.1 0 2-.9 2-2V5c0-1.1-.9-2-2-2zM9 17H7v-7h2v7zm4 0h-2V7h2v10zm4 0h-2v-4h2v4z\"/>\n",
              "    </g>\n",
              "</svg>\n",
              "  </button>\n",
              "\n",
              "<style>\n",
              "  .colab-df-quickchart {\n",
              "      --bg-color: #E8F0FE;\n",
              "      --fill-color: #1967D2;\n",
              "      --hover-bg-color: #E2EBFA;\n",
              "      --hover-fill-color: #174EA6;\n",
              "      --disabled-fill-color: #AAA;\n",
              "      --disabled-bg-color: #DDD;\n",
              "  }\n",
              "\n",
              "  [theme=dark] .colab-df-quickchart {\n",
              "      --bg-color: #3B4455;\n",
              "      --fill-color: #D2E3FC;\n",
              "      --hover-bg-color: #434B5C;\n",
              "      --hover-fill-color: #FFFFFF;\n",
              "      --disabled-bg-color: #3B4455;\n",
              "      --disabled-fill-color: #666;\n",
              "  }\n",
              "\n",
              "  .colab-df-quickchart {\n",
              "    background-color: var(--bg-color);\n",
              "    border: none;\n",
              "    border-radius: 50%;\n",
              "    cursor: pointer;\n",
              "    display: none;\n",
              "    fill: var(--fill-color);\n",
              "    height: 32px;\n",
              "    padding: 0;\n",
              "    width: 32px;\n",
              "  }\n",
              "\n",
              "  .colab-df-quickchart:hover {\n",
              "    background-color: var(--hover-bg-color);\n",
              "    box-shadow: 0 1px 2px rgba(60, 64, 67, 0.3), 0 1px 3px 1px rgba(60, 64, 67, 0.15);\n",
              "    fill: var(--button-hover-fill-color);\n",
              "  }\n",
              "\n",
              "  .colab-df-quickchart-complete:disabled,\n",
              "  .colab-df-quickchart-complete:disabled:hover {\n",
              "    background-color: var(--disabled-bg-color);\n",
              "    fill: var(--disabled-fill-color);\n",
              "    box-shadow: none;\n",
              "  }\n",
              "\n",
              "  .colab-df-spinner {\n",
              "    border: 2px solid var(--fill-color);\n",
              "    border-color: transparent;\n",
              "    border-bottom-color: var(--fill-color);\n",
              "    animation:\n",
              "      spin 1s steps(1) infinite;\n",
              "  }\n",
              "\n",
              "  @keyframes spin {\n",
              "    0% {\n",
              "      border-color: transparent;\n",
              "      border-bottom-color: var(--fill-color);\n",
              "      border-left-color: var(--fill-color);\n",
              "    }\n",
              "    20% {\n",
              "      border-color: transparent;\n",
              "      border-left-color: var(--fill-color);\n",
              "      border-top-color: var(--fill-color);\n",
              "    }\n",
              "    30% {\n",
              "      border-color: transparent;\n",
              "      border-left-color: var(--fill-color);\n",
              "      border-top-color: var(--fill-color);\n",
              "      border-right-color: var(--fill-color);\n",
              "    }\n",
              "    40% {\n",
              "      border-color: transparent;\n",
              "      border-right-color: var(--fill-color);\n",
              "      border-top-color: var(--fill-color);\n",
              "    }\n",
              "    60% {\n",
              "      border-color: transparent;\n",
              "      border-right-color: var(--fill-color);\n",
              "    }\n",
              "    80% {\n",
              "      border-color: transparent;\n",
              "      border-right-color: var(--fill-color);\n",
              "      border-bottom-color: var(--fill-color);\n",
              "    }\n",
              "    90% {\n",
              "      border-color: transparent;\n",
              "      border-bottom-color: var(--fill-color);\n",
              "    }\n",
              "  }\n",
              "</style>\n",
              "\n",
              "  <script>\n",
              "    async function quickchart(key) {\n",
              "      const quickchartButtonEl =\n",
              "        document.querySelector('#' + key + ' button');\n",
              "      quickchartButtonEl.disabled = true;  // To prevent multiple clicks.\n",
              "      quickchartButtonEl.classList.add('colab-df-spinner');\n",
              "      try {\n",
              "        const charts = await google.colab.kernel.invokeFunction(\n",
              "            'suggestCharts', [key], {});\n",
              "      } catch (error) {\n",
              "        console.error('Error during call to suggestCharts:', error);\n",
              "      }\n",
              "      quickchartButtonEl.classList.remove('colab-df-spinner');\n",
              "      quickchartButtonEl.classList.add('colab-df-quickchart-complete');\n",
              "    }\n",
              "    (() => {\n",
              "      let quickchartButtonEl =\n",
              "        document.querySelector('#df-071aecaa-6d2a-4aba-a460-aeed534ef7bc button');\n",
              "      quickchartButtonEl.style.display =\n",
              "        google.colab.kernel.accessAllowed ? 'block' : 'none';\n",
              "    })();\n",
              "  </script>\n",
              "</div>\n",
              "    </div>\n",
              "  </div>\n"
            ],
            "application/vnd.google.colaboratory.intrinsic+json": {
              "type": "dataframe",
              "variable_name": "df_Solys",
              "summary": "{\n  \"name\": \"df_Solys\",\n  \"rows\": 97260,\n  \"fields\": [\n    {\n      \"column\": \"Glo\",\n      \"properties\": {\n        \"dtype\": \"number\",\n        \"std\": 250.23180179667463,\n        \"min\": 0.0,\n        \"max\": 1232.8333333333333,\n        \"samples\": [\n          594.5583333333333,\n          654.0833333333334,\n          33.608333333333334\n        ],\n        \"num_unique_values\": 53962,\n        \"semantic_type\": \"\",\n        \"description\": \"\"\n      }\n    },\n    {\n      \"column\": \"Dif\",\n      \"properties\": {\n        \"dtype\": \"number\",\n        \"std\": 109.7808257851639,\n        \"min\": 0.0,\n        \"max\": 655.3166666666667,\n        \"samples\": [\n          372.2833333333333,\n          406.01666666666665,\n          529.5583333333333\n        ],\n        \"num_unique_values\": 37840,\n        \"semantic_type\": \"\",\n        \"description\": \"\"\n      }\n    },\n    {\n      \"column\": \"Glo_SPLite\",\n      \"properties\": {\n        \"dtype\": \"number\",\n        \"std\": 248.56748862279875,\n        \"min\": 0.0,\n        \"max\": 1189.925,\n        \"samples\": [\n          96.675,\n          72.94166666666666,\n          201.1\n        ],\n        \"num_unique_values\": 54685,\n        \"semantic_type\": \"\",\n        \"description\": \"\"\n      }\n    },\n    {\n      \"column\": \"Dir\",\n      \"properties\": {\n        \"dtype\": \"number\",\n        \"std\": 324.93863870858473,\n        \"min\": 0.0,\n        \"max\": 1016.7583333333332,\n        \"samples\": [\n          528.775,\n          846.0749999999999,\n          61.675\n        ],\n        \"num_unique_values\": 41470,\n        \"semantic_type\": \"\",\n        \"description\": \"\"\n      }\n    },\n    {\n      \"column\": \"Temp\",\n      \"properties\": {\n        \"dtype\": \"number\",\n        \"std\": 8.589711303267206,\n        \"min\": -7.8,\n        \"max\": 54.32000000000001,\n        \"samples\": [\n          34.233333333333334,\n          2.725,\n          15.941666666666668\n        ],\n        \"num_unique_values\": 5863,\n        \"semantic_type\": \"\",\n        \"description\": \"\"\n      }\n    },\n    {\n      \"column\": \"Var\",\n      \"properties\": {\n        \"dtype\": \"category\",\n        \"samples\": [\n          1,\n          \"U\",\n          2\n        ],\n        \"num_unique_values\": 4,\n        \"semantic_type\": \"\",\n        \"description\": \"\"\n      }\n    },\n    {\n      \"column\": \"index_stein\",\n      \"properties\": {\n        \"dtype\": \"category\",\n        \"samples\": [\n          11.398531057715722,\n          15.615693226303026,\n          3.244786422484982\n        ],\n        \"num_unique_values\": 290,\n        \"semantic_type\": \"\",\n        \"description\": \"\"\n      }\n    },\n    {\n      \"column\": \"index_coimbra\",\n      \"properties\": {\n        \"dtype\": \"category\",\n        \"samples\": [\n          0.1635937356644685,\n          0.09920699656325958,\n          0.0983997952003656\n        ],\n        \"num_unique_values\": 290,\n        \"semantic_type\": \"\",\n        \"description\": \"\"\n      }\n    }\n  ]\n}"
            }
          },
          "metadata": {},
          "execution_count": 14
        }
      ]
    },
    {
      "cell_type": "code",
      "source": [
        "df_Solys_VarHigh = pd.merge(df_Solys[['Glo', 'Dir', 'Var', 'index_stein', 'index_coimbra']][df_Solys['Var'] == 3], df_UVI['UVI'], left_index=True, right_index=True, how='inner')\n",
        "# df_Solys_VarHigh = pd.merge(df_Solys_VarHigh, df_CAMS[['uvbed', 'uvbedcs']], left_index=True, right_index=True, how='inner')\n",
        "\n",
        "df_Solys_VarLow = pd.merge(df_Solys[['Glo', 'Dir', 'Var', 'index_stein', 'index_coimbra']][df_Solys['Var'] == 1], df_UVI['UVI'], left_index=True, right_index=True, how='inner')\n",
        "# df_Solys_VarLow = pd.merge(df_Solys_VarLow, df_CAMS[['uvbed', 'uvbedcs']], left_index=True, right_index=True, how='inner')"
      ],
      "metadata": {
        "id": "JqxgQyxWnb_V"
      },
      "execution_count": 15,
      "outputs": []
    },
    {
      "cell_type": "code",
      "source": [
        "def plot_Var_days(df, save_dir, Var):\n",
        "\n",
        "    # Erstelle einen Ordner im Drive, falls nicht vorhanden\n",
        "    if not os.path.exists(save_dir):\n",
        "        os.makedirs(save_dir)\n",
        "\n",
        "    # Gruppiere die Daten nach Datum (Tag)\n",
        "    grouped = df.groupby(df.index.date)\n",
        "\n",
        "    for date, group in grouped:\n",
        "        fig, ax1 = plt.subplots(figsize=(10, 6))\n",
        "\n",
        "        # Erste Achse für 'Glo'\n",
        "        color = 'tab:red'\n",
        "        sns.lineplot(x=group.index, y=group['Glo'], ax=ax1, color=color, label='Glo')\n",
        "        ax1.set_xlabel('Uhrzeit')\n",
        "        ax1.set_ylabel('Globalstrahlung [W/m2]', color=color)\n",
        "        ax1.tick_params(axis='y', labelcolor=color)\n",
        "\n",
        "        ax1.xaxis.set_major_formatter(mdates.DateFormatter('%H:%M'))\n",
        "\n",
        "        # Zweite Achse für 'UVI'\n",
        "        ax2 = ax1.twinx()\n",
        "        color = 'tab:blue'\n",
        "        sns.lineplot(x=group.index, y=group['UVI'], ax=ax2, color=color, label='UVI')\n",
        "        ax2.set_ylabel('UV-Index', color=color)\n",
        "        ax2.tick_params(axis='y', labelcolor=color)\n",
        "\n",
        "        index_stein = round(group['index_stein'].iloc[0], 2)\n",
        "        index_coimbra = round(group['index_coimbra'].iloc[0], 2)\n",
        "\n",
        "        plt.title(f'Daten für {Var}:{date} \\n Index Stein: {index_stein}, Index Coimbra: {index_coimbra},')\n",
        "        fig.tight_layout()\n",
        "\n",
        "        # Speichere den Plot im vorher erstellten Ordner\n",
        "        file_name = f'{date}.png'\n",
        "        file_path = os.path.join(save_dir, file_name)\n",
        "        plt.savefig(file_path)\n",
        "        plt.close()  # Schließe die Figur, um Ressourcen freizugeben"
      ],
      "metadata": {
        "id": "9nKT580TIoBL"
      },
      "execution_count": 16,
      "outputs": []
    },
    {
      "cell_type": "code",
      "source": [
        "plot_Var_days(df_Solys_VarHigh, '/content/drive/My Drive/Colab_Notebooks/HighVarDays_Plots', 'High-Var-Tag')"
      ],
      "metadata": {
        "id": "Mpg5Jy0fIo2O"
      },
      "execution_count": null,
      "outputs": []
    },
    {
      "cell_type": "code",
      "source": [
        "plot_Var_days(df_Solys_VarLow, '/content/drive/My Drive/Colab_Notebooks/LowVarDays_Plots', 'Low-Var-Tag')"
      ],
      "metadata": {
        "id": "0BrqL51qw2Tq"
      },
      "execution_count": null,
      "outputs": []
    },
    {
      "cell_type": "markdown",
      "source": [
        "## Dataframes hoher und niedriger Variabilität:"
      ],
      "metadata": {
        "id": "uWifSka7m_3v"
      }
    },
    {
      "cell_type": "code",
      "source": [
        "# Korrelation an Tagen mit hoher Variabilität\n",
        "sns.heatmap(df_Solys_VarHigh[['UVI', 'Glo', 'Dir']].corr()[['UVI']], annot=True)\n",
        "plt.title('Korrelation zwischen UVI und Glo/CAMS \\n hohe Variabilität');\n",
        "plt.savefig('/content/drive/My Drive/Colab_Notebooks/plot_TSA/UVI_Cams_HighVar.png')\n",
        "plt.close()"
      ],
      "metadata": {
        "id": "O1rKym1_sAnq"
      },
      "execution_count": null,
      "outputs": []
    },
    {
      "cell_type": "code",
      "source": [
        "# Korrelation an Tagen mit niedriger Variabilität\n",
        "sns.heatmap(df_Solys_VarLow[['UVI', 'Glo', 'Dir']].corr()[['UVI']], annot=True)\n",
        "plt.title('Korrelation zwischen UVI und Glo/CAMS \\n geringe Variabilität');\n",
        "plt.savefig('/content/drive/My Drive/Colab_Notebooks/plot_TSA/UVI_Cams_LowVar.png')\n",
        "plt.close()"
      ],
      "metadata": {
        "id": "J0uYBO7hsBLM"
      },
      "execution_count": null,
      "outputs": []
    },
    {
      "cell_type": "markdown",
      "source": [
        "# Univarainte Analyse:"
      ],
      "metadata": {
        "id": "ZSaLV9-O75NK"
      }
    },
    {
      "cell_type": "code",
      "source": [
        "# Dateitypen der einzelnen Spalten\n",
        "print(df_UVI.dtypes, df_Solys.dtypes, df_CAMS.dtypes)"
      ],
      "metadata": {
        "id": "W0Gd3Mis77G6"
      },
      "execution_count": null,
      "outputs": []
    },
    {
      "cell_type": "code",
      "source": [
        "# Allgemeine Informationen über die Messdaten\n",
        "round(df_UVI.describe(), 2).T"
      ],
      "metadata": {
        "id": "tkQ8JLnP79Ix"
      },
      "execution_count": null,
      "outputs": []
    },
    {
      "cell_type": "code",
      "source": [
        "# Allgemeine Informationen über die Messdaten\n",
        "round(df_Solys.describe(), 2).T"
      ],
      "metadata": {
        "id": "4VtwwY9-7-zO"
      },
      "execution_count": null,
      "outputs": []
    },
    {
      "cell_type": "code",
      "source": [
        "# Allgemeine Informationen über die Vorhersagedaten\n",
        "round(df_CAMS.describe(), 2).T"
      ],
      "metadata": {
        "id": "6BXHomNn8EjV"
      },
      "execution_count": null,
      "outputs": []
    },
    {
      "cell_type": "code",
      "source": [
        "# Allgemeine Informationen über die Vorhersagedaten\n",
        "round(df_VarIdx.describe(), 2).T"
      ],
      "metadata": {
        "id": "8x7NXQlpBgfp"
      },
      "execution_count": null,
      "outputs": []
    },
    {
      "cell_type": "code",
      "source": [
        "# Prüfen, ob es Nullwerte in den Daten gibt\n",
        "print(df_UVI.info(), '\\n --------------------- \\n', df_UVI.isnull().sum())"
      ],
      "metadata": {
        "id": "n0LToKE_8GqZ"
      },
      "execution_count": null,
      "outputs": []
    },
    {
      "cell_type": "code",
      "source": [
        "# Allgemeine Informationen über die stündlich aufgelösten Messdaten\n",
        "df_UVI_hourly.info()"
      ],
      "metadata": {
        "id": "MVIZirqf8Jby"
      },
      "execution_count": null,
      "outputs": []
    },
    {
      "cell_type": "code",
      "source": [
        "df_UVI_hourly_withZero.info()"
      ],
      "metadata": {
        "id": "VPjspsNG8MNg"
      },
      "execution_count": null,
      "outputs": []
    },
    {
      "cell_type": "code",
      "source": [
        "df_CAMS.info()"
      ],
      "metadata": {
        "id": "1RFZY3oP8MuY"
      },
      "execution_count": null,
      "outputs": []
    },
    {
      "cell_type": "code",
      "source": [
        "# Setze den Namen der Spalte, die du überprüfen möchtest\n",
        "spalten_name = 'UVI'\n",
        "\n",
        "print(df_UVI[spalten_name].loc(0))\n",
        "\n",
        "# Finde alle Zeilen, in denen in der ausgewählten Spalte ein Nullwert steht\n",
        "zeilen_zu_loeschen = df_UVI[df_UVI[spalten_name].isna()].index\n",
        "\n",
        "# Lösche diese Zeilen aus dem DataFrame\n",
        "df_bereinigt = df_UVI.drop(index=zeilen_zu_loeschen)"
      ],
      "metadata": {
        "id": "n27WJFXzz2en"
      },
      "execution_count": null,
      "outputs": []
    },
    {
      "cell_type": "markdown",
      "source": [
        "## Histogram der einzelnen Werte:"
      ],
      "metadata": {
        "id": "5f1Bhba4IxJV"
      }
    },
    {
      "cell_type": "code",
      "source": [
        "# Verteilung der gemessenen UVI-Werte\n",
        "n, bins, patches = plt.hist(\n",
        "x=df_UVI['UVI'], bins='auto',\n",
        "alpha=0.7, rwidth=0.85\n",
        ")\n",
        "plt.grid(axis='y', alpha=0.75)\n",
        "plt.title('Histogram UVI Verteilung')\n",
        "plt.xlabel('UVI')\n",
        "plt.ylabel('Frequency')\n",
        "plt.savefig('/content/drive/My Drive/Colab_Notebooks/plot_TSA/Histogram_UVI_Verteilung.png')\n",
        "plt.close()"
      ],
      "metadata": {
        "id": "p6p8C47B8WhP"
      },
      "execution_count": null,
      "outputs": []
    },
    {
      "cell_type": "code",
      "source": [
        "# Verteilung der SZA über alle Messdaten\n",
        "n, bins, patches = plt.hist(\n",
        "x=df_UVI['SZA'], bins='auto',\n",
        "alpha=0.7, rwidth=0.85\n",
        ")\n",
        "plt.grid(axis='y', alpha=0.75)\n",
        "plt.title('Histogram SZA Verteilung')\n",
        "plt.xlabel('SZA')\n",
        "plt.ylabel('Frequency')\n",
        "plt.savefig('/content/drive/My Drive/Colab_Notebooks/plot_TSA/Histogram_SZA_Verteilung.png')\n",
        "plt.close()"
      ],
      "metadata": {
        "id": "U1REZwJx8del"
      },
      "execution_count": null,
      "outputs": []
    },
    {
      "cell_type": "markdown",
      "source": [
        "## Outliner finden:"
      ],
      "metadata": {
        "id": "S45izXiD0g6i"
      }
    },
    {
      "cell_type": "code",
      "source": [
        "# Interquartile Range berechnen\n",
        "\n",
        "Q1_UVI = df_UVI['UVI'].quantile(0.25)\n",
        "Q2_UVI = df_UVI['UVI'].quantile(0.5)\n",
        "Q3_UVI = df_UVI['UVI'].quantile(0.75)\n",
        "\n",
        "IQR_UVI = Q3_UVI - Q1_UVI\n",
        "\n",
        "print(f\"25. Perzentil: {round(Q1_UVI, 3)}, 5. Perzentil: {round(Q2_UVI, 3)}, 75. Perzentil: {round(Q3_UVI, 3)}, IQR: {round(IQR_UVI, 3)}\")"
      ],
      "metadata": {
        "id": "mYNKJjve89DI"
      },
      "execution_count": null,
      "outputs": []
    },
    {
      "cell_type": "code",
      "source": [
        "# Z-score über alle Messdaten berechnen\n",
        "\n",
        "df_ZScore = pd.DataFrame()\n",
        "\n",
        "mittelwert = df_UVI['UVI'].mean()\n",
        "standardabweichung = df_UVI['UVI'].std()\n",
        "\n",
        "df_ZScore['Z-Score'] = (df_UVI['UVI'] - mittelwert) / standardabweichung\n",
        "plt.plot(df_ZScore)\n",
        "plt.title('Z-Score des UVI')\n",
        "plt.savefig('/content/drive/My Drive/Colab_Notebooks/plot_TSA/Z_Score_UVI.png')\n",
        "plt.close()"
      ],
      "metadata": {
        "id": "ChnM_M5H9Aa3"
      },
      "execution_count": null,
      "outputs": []
    },
    {
      "cell_type": "markdown",
      "source": [
        "## Plotten der Dataframes:"
      ],
      "metadata": {
        "id": "kHK-UVWghCKT"
      }
    },
    {
      "cell_type": "code",
      "source": [
        "# Plot der Erythem-Tagessumme\n",
        "df_UVI.groupby('Date').sum()[['erythem']].plot()\n",
        "plt.title('Plot der Erythem-Tagessumme');\n",
        "plt.xticks(rotation=45)\n",
        "plt.savefig('/content/drive/My Drive/Colab_Notebooks/plot_TSA/Erythem_Tagessumme.png')\n",
        "plt.close()"
      ],
      "metadata": {
        "id": "BFm3lx1i9MpB"
      },
      "execution_count": null,
      "outputs": []
    },
    {
      "cell_type": "code",
      "source": [
        "# Average DNI/GHI/DHI over DOY.\n",
        "\n",
        "# df_UVI.groupby('Uhrzeit').mean()[['UVI']].plot()\n",
        "# plt.title('Durchschnitt des UVI über die Tageszeit');"
      ],
      "metadata": {
        "id": "3UumG9gC9V5V"
      },
      "execution_count": null,
      "outputs": []
    },
    {
      "cell_type": "markdown",
      "source": [
        "# Multivarainte Analyse:"
      ],
      "metadata": {
        "id": "vzy9cY7HJwZT"
      }
    },
    {
      "cell_type": "markdown",
      "source": [
        "## Korrelation der Stündlichen Mittelwerte:"
      ],
      "metadata": {
        "id": "NekWL9A4oCub"
      }
    },
    {
      "cell_type": "code",
      "source": [
        "# Dataframe für den Plot erstellen\n",
        "df_corr_hour = pd.concat([df_UVI_hourly[['UVI', 'SZA']], df_CAMS[['aod469', 'aod550', 'hcc', 'mcc', 'lcc', 'tcc', 'uvbed', 'uvbedcs']]], axis = 1)"
      ],
      "metadata": {
        "id": "FF930h029oxq"
      },
      "execution_count": null,
      "outputs": []
    },
    {
      "cell_type": "code",
      "source": [
        "# Increase the size of the heatmap.\n",
        "plt.figure(figsize=(18, 8))\n",
        "# Store heatmap object in a variable to easily access it when you want to include more features (such as title).\n",
        "# Set the range of values to be displayed on the colormap from -1 to 1, and set the annotation to True to display the correlation values on the heatmap.\n",
        "heatmap = sns.heatmap(df_corr_hour.corr(), fmt='.2f', vmin=-1, vmax=1, annot=True, square=True)\n",
        "# Give a title to the heatmap. Pad defines the distance of the title from the top of the heatmap.\n",
        "heatmap.set_title('Korrelation zwischen UVI und CMAS-Daten', fontdict={'fontsize':12}, pad=12);\n",
        "plt.savefig('/content/drive/My Drive/Colab_Notebooks/plot_TSA/Korrelation_UVI_CAMS.png')\n",
        "plt.close()"
      ],
      "metadata": {
        "id": "N9XIRQ3j9sth"
      },
      "execution_count": null,
      "outputs": []
    },
    {
      "cell_type": "code",
      "source": [
        "sns.heatmap(df_corr_hour[['UVI','aod469', 'aod550', 'hcc', 'mcc', 'lcc', 'tcc', 'uvbed', 'uvbedcs']].corr()[['UVI']], annot=True)\n",
        "plt.title('Korrelation zwischen UVI und CAMS-Daten');\n",
        "plt.savefig('/content/drive/My Drive/Colab_Notebooks/plot_TSA/Korrelation_UVI_CAMS.png')\n",
        "plt.close()"
      ],
      "metadata": {
        "id": "DGc9sGVw9vcp"
      },
      "execution_count": null,
      "outputs": []
    },
    {
      "cell_type": "markdown",
      "source": [
        "## Korrelation zwischen den Solarstrahlungsdaten und dem UVI:"
      ],
      "metadata": {
        "id": "Ex83Lv1BfjtY"
      }
    },
    {
      "cell_type": "code",
      "source": [
        "df_corr = pd.concat([df_UVI[['UVI', 'SZA']], df_Solys[['Glo', 'Dif', 'Glo_SPLite', 'Dir', 'Temp']]], axis = 1)"
      ],
      "metadata": {
        "id": "k6hRdIac91VP"
      },
      "execution_count": null,
      "outputs": []
    },
    {
      "cell_type": "code",
      "source": [
        "sns.heatmap(df_corr.corr()[['UVI']], annot=True)\n",
        "plt.title('Korrelation zwischen UVI und SOLYS-Daten');\n",
        "plt.savefig('/content/drive/My Drive/Colab_Notebooks/plot_TSA/Korrelation_UVI_Solys.png')\n",
        "plt.close()"
      ],
      "metadata": {
        "id": "AK-MjFd6937k"
      },
      "execution_count": null,
      "outputs": []
    },
    {
      "cell_type": "markdown",
      "source": [
        "## Paarweise Vergleich des UVI und der Vorhersagewerte:"
      ],
      "metadata": {
        "id": "3zNZg7ifoKa_"
      }
    },
    {
      "cell_type": "code",
      "source": [
        "# plot pairwise relationships of the dataset\n",
        "sns.set()  # set the seaborn's theme as default\n",
        "g = sns.pairplot(df_corr_hour)\n",
        "\n",
        "# set the title\n",
        "g.fig.suptitle(\"Paarweise Vergleich zwischen UVI und CAMS-Features\", y=1.03);\n",
        "\n",
        "plt.savefig('/content/drive/My Drive/Colab_Notebooks/plot_TSA/Scatter_UVI_CAMS.png')\n",
        "plt.close()"
      ],
      "metadata": {
        "id": "gh6pIxDS997T"
      },
      "execution_count": null,
      "outputs": []
    },
    {
      "cell_type": "markdown",
      "source": [
        "## Effekt der Solarstrahlung auf den UVI:"
      ],
      "metadata": {
        "id": "k7WabdUeDOb4"
      }
    },
    {
      "cell_type": "code",
      "source": [
        "df_Solys, df_UVI\n",
        "\n",
        "# check the relationship between `Radiation` and `SystemProduction`\n",
        "sns.set()\n",
        "df_Solys_UVI_1M = pd.concat([df_UVI[['UVI', 'SZA']], df_Solys], axis = 1).resample(\"1M\").sum()\n",
        "df_Solys_UVI_1M = df_Solys_UVI_1M.agg(np.log10)\n",
        "\n",
        "# plot the line graph\n",
        "df_Solys_UVI_1M.plot(figsize=(7, 6), xlabel=\"Date\", ylabel=\"Log Scale\");\n",
        "\n",
        "# set the title\n",
        "plt.title(\"Relationship between Solar Radiation, Sunshine & Energy Production\");\n",
        "\n",
        "# set the legend to outside the grid\n",
        "plt.legend(bbox_to_anchor=(1, 1));\n",
        "plt.close()"
      ],
      "metadata": {
        "id": "FJkiqaVc-DUB"
      },
      "execution_count": null,
      "outputs": []
    },
    {
      "cell_type": "markdown",
      "source": [
        "## Effekt der gemessenen und Vorhergesagten Temperatur auf den UVI:"
      ],
      "metadata": {
        "id": "cHlG-npC-j35"
      }
    },
    {
      "cell_type": "code",
      "source": [
        "# check the proportions of the AirTemperature categories\n",
        "df_Solys_UVI = pd.concat([df_UVI[['UVI', 'SZA']], df_Solys], axis = 1)\n",
        "\n",
        "df_Solys_UVI.loc[:, \"Temp\"] = pd.cut(df_Solys_UVI.Temp,\n",
        "                                         bins=[-np.inf, 0, 15, 20, 25, 30, np.inf], # get the bins for a total of 6 labels\n",
        "                                         labels=['Very Cold', 'Cold', 'Standard', 'Ordinary', 'Room Temp', 'Moderate'])\\\n",
        "                                    .cat.remove_unused_categories() # remove the empty categories\n",
        "\n",
        "sns.set()  # set the seaborn theme to default\n",
        "sns.barplot(data=df_Solys_UVI.Temp.value_counts(normalize=True).to_frame().T)  # plotting a barplot\n",
        "\n",
        "# set the labels and title\n",
        "plt.xlabel(\"Air Temperature\")\n",
        "plt.ylabel(\"Proportions\")\n",
        "plt.title(\"Distribution of Air Temperature\");\n",
        "plt.close()"
      ],
      "metadata": {
        "id": "vYVVpCtW-m99"
      },
      "execution_count": null,
      "outputs": []
    },
    {
      "cell_type": "code",
      "source": [
        "# # Effect of Air Temperature on Power Generation by Sunlight\n",
        "# sns.set()\n",
        "\n",
        "# plt.subplots(figsize=(15, 4))  # set the figure dimensions\n",
        "# sns.boxplot(data=df_Solys_UVI, x=\"Temp\", hue=\"Glo\", y=\"UVI\")  # plot a boxplot with no outliers\n",
        "\n",
        "# # set the labels and title\n",
        "# plt.xlabel(\"Air Temperature\")\n",
        "# plt.ylabel(\"UVI\")\n",
        "# plt.title(\"Effect of Air Temperature on UVI by Solar Radiation\");\n",
        "# plt.close()"
      ],
      "metadata": {
        "id": "pV5pSIBq-p7F"
      },
      "execution_count": null,
      "outputs": []
    },
    {
      "cell_type": "markdown",
      "source": [
        "## Korrelation zwischen der Strahlungsmessung und dem UVI"
      ],
      "metadata": {
        "id": "vztbhsvspL2x"
      }
    },
    {
      "cell_type": "code",
      "source": [
        "df_Solys_UVI_corr = pd.concat([df_UVI[['UVI', 'SZA']], df_Solys], axis = 1)\n",
        "\n",
        "sns.set()  # set the seaborn's theme as default\n",
        "g = sns.pairplot(df_Solys_UVI_corr)\n",
        "\n",
        "# set the title\n",
        "g.fig.suptitle(\"Paarweise Vergleich zwischen UVI und Solys-Features\", y=1.03);\n",
        "\n",
        "plt.savefig('/content/drive/My Drive/Colab_Notebooks/plot_TSA/Scatter_UVI_Solys.png')\n",
        "plt.close()"
      ],
      "metadata": {
        "id": "qov275S9-U2m"
      },
      "execution_count": null,
      "outputs": []
    },
    {
      "cell_type": "code",
      "source": [
        "# Setze den Namen der Spalte, die du überprüfen möchtest\n",
        "spalten_name = 'UVI'\n",
        "# Finde alle Zeilen, in denen in der ausgewählten Spalte ein Nullwert steht\n",
        "zeilen_zu_loeschen = df_Solys_UVI_corr[df_Solys_UVI_corr[spalten_name] == 0.0].index\n",
        "# Lösche diese Zeilen aus dem DataFrame\n",
        "df_SolUVI_drop = df_Solys_UVI_corr.drop(index=zeilen_zu_loeschen)"
      ],
      "metadata": {
        "id": "yhbgzKU48Sm4"
      },
      "execution_count": null,
      "outputs": []
    },
    {
      "cell_type": "code",
      "source": [
        "sns.scatterplot(data=df_SolUVI_drop, x='UVI', y='Glo', hue= 'SZA', palette=\"bright\")\n",
        "sns.regplot(data=df_SolUVI_drop, x='UVI', y='Glo', line_kws={\"color\": \"red\"}, scatter=False)\n",
        "\n",
        "plt.xlabel(\"UVI\")\n",
        "plt.ylabel(\"GHI [W/m^2]\")\n",
        "\n",
        "plt.show()\n",
        "\n",
        "plt.savefig('/content/drive/My Drive/Colab_Notebooks/plot_TSA/Korrelation_UVI_GHI.png')\n",
        "plt.close()"
      ],
      "metadata": {
        "id": "sdHXQBd--VYd"
      },
      "execution_count": null,
      "outputs": []
    },
    {
      "cell_type": "markdown",
      "source": [
        "## Finden von Nullwerten in den UVI Daten"
      ],
      "metadata": {
        "id": "bbM6JehDwbiX"
      }
    },
    {
      "cell_type": "code",
      "source": [
        "# Zeilen an denen die Solys Daten NaN-Einträge besitzen\n",
        "df_Solys_UVI_corr[df_Solys_UVI_corr.isnull().any(axis=1)]"
      ],
      "metadata": {
        "id": "jrR-PjZw-Z-s"
      },
      "execution_count": null,
      "outputs": []
    },
    {
      "cell_type": "code",
      "source": [
        "df_Solys_UVI_corr"
      ],
      "metadata": {
        "id": "Hr9U6zlv-bNH"
      },
      "execution_count": null,
      "outputs": []
    }
  ]
}