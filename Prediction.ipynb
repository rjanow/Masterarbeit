{
  "nbformat": 4,
  "nbformat_minor": 0,
  "metadata": {
    "colab": {
      "provenance": [],
      "authorship_tag": "ABX9TyNxbNaIR+5uLvvTQfLlvQdK",
      "include_colab_link": true
    },
    "kernelspec": {
      "name": "python3",
      "display_name": "Python 3"
    },
    "language_info": {
      "name": "python"
    }
  },
  "cells": [
    {
      "cell_type": "markdown",
      "metadata": {
        "id": "view-in-github",
        "colab_type": "text"
      },
      "source": [
        "<a href=\"https://colab.research.google.com/github/rjanow/Masterarbeit/blob/main/Prediction.ipynb\" target=\"_parent\"><img src=\"https://colab.research.google.com/assets/colab-badge.svg\" alt=\"Open In Colab\"/></a>"
      ]
    },
    {
      "cell_type": "code",
      "execution_count": null,
      "metadata": {
        "colab": {
          "base_uri": "https://localhost:8080/"
        },
        "id": "LQ_TWvpugTKa",
        "outputId": "6e60974c-1ca6-4150-e350-7ed0d3086a06"
      },
      "outputs": [
        {
          "output_type": "stream",
          "name": "stdout",
          "text": [
            "Mounted at /content/drive\n"
          ]
        }
      ],
      "source": [
        "# Verbinden mit der Google-Drive\n",
        "import os\n",
        "\n",
        "from google.colab import drive\n",
        "drive.mount('/content/drive')"
      ]
    },
    {
      "cell_type": "code",
      "source": [
        "# Tensorflow installieren\n"
      ],
      "metadata": {
        "id": "Ok1ehcrvht0v"
      },
      "execution_count": null,
      "outputs": []
    },
    {
      "cell_type": "code",
      "source": [
        "import tensorflow.keras as keras\n",
        "import pandas as pd\n",
        "import numpy as np\n",
        "import matplotlib.pyplot as plt\n",
        "\n",
        "from keras.models import Sequential\n",
        "from keras.layers import Dense, Dropout, LSTM, Bidirectional\n",
        "from sklearn.preprocessing import MinMaxScaler"
      ],
      "metadata": {
        "id": "wonNwLvigT4k"
      },
      "execution_count": null,
      "outputs": []
    },
    {
      "cell_type": "code",
      "source": [
        "# Pfad zur CSV-Datei auf Google Drive\n",
        "name_Messwerte = 'Messdaten_CAMS_GHI.csv'\n",
        "name_Vorhersage = 'Vorhersagedaten_CAMS_VarIdx.csv'\n",
        "folder_import = '/content/drive/My Drive/Colab_Notebooks/Clean_Data/'"
      ],
      "metadata": {
        "id": "hnohgqFogWBA"
      },
      "execution_count": null,
      "outputs": []
    },
    {
      "cell_type": "code",
      "source": [
        "# Pfad zu den Gewichten , der Modelarchitektur und den Validierungsdaten\n",
        "validation_data_path = '/content/drive/My Drive/Colab_Notebooks/LSTM_Model/validation_data.csv'\n",
        "\n",
        "weights_dir = '/content/drive/My Drive/Colab_Notebooks/LSTM_Model/'\n",
        "weights_name = 'model_weights.weights.h5'\n",
        "weights_path = os.path.join(weights_dir, weights_name)\n",
        "\n",
        "model_dir = '/content/drive/My Drive/Colab_Notebooks/LSTM_Model/'\n",
        "model_name = 'full_model.keras'\n",
        "model_path = os.path.join(model_dir, model_name)"
      ],
      "metadata": {
        "id": "uShRC9PmhkjD"
      },
      "execution_count": null,
      "outputs": []
    },
    {
      "cell_type": "code",
      "source": [
        "# Laden des SavedModel-Modells\n",
        "model_loaded_saved = load_model(model_export_path)"
      ],
      "metadata": {
        "id": "3xjp5YVU3RWq"
      },
      "execution_count": null,
      "outputs": []
    },
    {
      "cell_type": "code",
      "source": [
        "loaded_validation_data = pd.read_csv(validation_data_path)\n",
        "\n",
        "# Zerlege die Daten wieder in X_val und y_val\n",
        "X_val_loaded = loaded_validation_data.iloc[:, :-1].values  # Alle Spalten außer der letzten\n",
        "X_val_loaded = X_val_loaded.reshape(-1, 100, 6)  # Originalform wiederherstellen (z. B. (19246, 100, 6))\n",
        "y_val_loaded = loaded_validation_data['y_val'].values  # Letzte Spalte"
      ],
      "metadata": {
        "colab": {
          "base_uri": "https://localhost:8080/",
          "height": 211
        },
        "id": "4AXqiPKhmYaS",
        "outputId": "c5361674-42ea-4c36-b31b-b56e90d861b1"
      },
      "execution_count": null,
      "outputs": [
        {
          "output_type": "error",
          "ename": "NameError",
          "evalue": "name 'validation_data_path' is not defined",
          "traceback": [
            "\u001b[0;31m---------------------------------------------------------------------------\u001b[0m",
            "\u001b[0;31mNameError\u001b[0m                                 Traceback (most recent call last)",
            "\u001b[0;32m<ipython-input-6-8e32fdffba81>\u001b[0m in \u001b[0;36m<cell line: 0>\u001b[0;34m()\u001b[0m\n\u001b[0;32m----> 1\u001b[0;31m \u001b[0mloaded_validation_data\u001b[0m \u001b[0;34m=\u001b[0m \u001b[0mpd\u001b[0m\u001b[0;34m.\u001b[0m\u001b[0mread_csv\u001b[0m\u001b[0;34m(\u001b[0m\u001b[0mvalidation_data_path\u001b[0m\u001b[0;34m)\u001b[0m\u001b[0;34m\u001b[0m\u001b[0;34m\u001b[0m\u001b[0m\n\u001b[0m\u001b[1;32m      2\u001b[0m \u001b[0;34m\u001b[0m\u001b[0m\n\u001b[1;32m      3\u001b[0m \u001b[0;31m# Zerlege die Daten wieder in X_val und y_val\u001b[0m\u001b[0;34m\u001b[0m\u001b[0;34m\u001b[0m\u001b[0m\n\u001b[1;32m      4\u001b[0m \u001b[0mX_val_loaded\u001b[0m \u001b[0;34m=\u001b[0m \u001b[0mloaded_validation_data\u001b[0m\u001b[0;34m.\u001b[0m\u001b[0miloc\u001b[0m\u001b[0;34m[\u001b[0m\u001b[0;34m:\u001b[0m\u001b[0;34m,\u001b[0m \u001b[0;34m:\u001b[0m\u001b[0;34m-\u001b[0m\u001b[0;36m1\u001b[0m\u001b[0;34m]\u001b[0m\u001b[0;34m.\u001b[0m\u001b[0mvalues\u001b[0m  \u001b[0;31m# Alle Spalten außer der letzten\u001b[0m\u001b[0;34m\u001b[0m\u001b[0;34m\u001b[0m\u001b[0m\n\u001b[1;32m      5\u001b[0m \u001b[0mX_val_loaded\u001b[0m \u001b[0;34m=\u001b[0m \u001b[0mX_val_loaded\u001b[0m\u001b[0;34m.\u001b[0m\u001b[0mreshape\u001b[0m\u001b[0;34m(\u001b[0m\u001b[0;34m-\u001b[0m\u001b[0;36m1\u001b[0m\u001b[0;34m,\u001b[0m \u001b[0;36m100\u001b[0m\u001b[0;34m,\u001b[0m \u001b[0;36m6\u001b[0m\u001b[0;34m)\u001b[0m  \u001b[0;31m# Originalform wiederherstellen (z. B. (19246, 100, 6))\u001b[0m\u001b[0;34m\u001b[0m\u001b[0;34m\u001b[0m\u001b[0m\n",
            "\u001b[0;31mNameError\u001b[0m: name 'validation_data_path' is not defined"
          ]
        }
      ]
    },
    {
      "cell_type": "code",
      "source": [],
      "metadata": {
        "id": "nUv7vEuo14dZ"
      },
      "execution_count": null,
      "outputs": []
    },
    {
      "cell_type": "code",
      "source": [
        "#Plot of error and loss\n",
        "error = history.history['mean_absolute_error']\n",
        "val_error = history.history['val_mean_absolute_error']\n",
        "\n",
        "loss = history.history['loss']\n",
        "val_loss = history.history['val_loss']\n",
        "\n",
        "epochs_range = range(1, len(val_error)+1)\n",
        "plt.figure(figsize=(12, 4))\n",
        "\n",
        "plt.subplot(1, 2, 1)\n",
        "plt.plot(epochs_range, error, label='Training error')\n",
        "plt.plot(epochs_range, val_error, label='Validation error')\n",
        "plt.legend(loc='lower right')\n",
        "plt.xlim(1, len(val_error)+1)\n",
        "plt.title('Training and Validation error')\n",
        "\n",
        "plt.subplot(1, 2, 2)\n",
        "plt.plot(epochs_range, loss, label='Training Loss')\n",
        "plt.plot(epochs_range, val_loss, label='Validation Loss')\n",
        "plt.legend(loc='upper right')\n",
        "plt.xlim(1, len(val_error)+1)\n",
        "plt.title('Training and Validation Loss')\n",
        "plt.show()"
      ],
      "metadata": {
        "id": "FGqfKY2bgYOn"
      },
      "execution_count": null,
      "outputs": []
    },
    {
      "cell_type": "code",
      "source": [
        "test_predicted = model.predict(X_val)\n",
        "\n",
        "test_predicted = test_predicted.flatten()\n",
        "y_val = y_val.flatten()\n",
        "\n",
        "fig=plt.figure(figsize=(20,5))\n",
        "plt.subplot(1,2,1)\n",
        "plt.plot(test_predicted,label='Radiation, predicted')\n",
        "plt.plot(y_val,label=\"Radiation\")\n",
        "plt.title('Prediction on the global sample')\n",
        "plt.legend()"
      ],
      "metadata": {
        "id": "yBPuRxn4hSns"
      },
      "execution_count": null,
      "outputs": []
    },
    {
      "cell_type": "code",
      "source": [
        "fig=plt.figure(figsize=(20,5))\n",
        "plt.subplot(1,2,1)\n",
        "plt.plot(np.arange(3100,3700),test_predicted[3100:3700],label='Radiation, predicted')\n",
        "plt.plot(np.arange(3100,3700),y_val[3100:3700],label=\"Radiation\")\n",
        "plt.legend()"
      ],
      "metadata": {
        "id": "8hi1YNFNhZCR"
      },
      "execution_count": null,
      "outputs": []
    }
  ]
}