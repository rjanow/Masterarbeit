{
  "nbformat": 4,
  "nbformat_minor": 0,
  "metadata": {
    "colab": {
      "provenance": [],
      "authorship_tag": "ABX9TyMntKO7Kg2qKg+bUwhHNIxg",
      "include_colab_link": true
    },
    "kernelspec": {
      "name": "python3",
      "display_name": "Python 3"
    },
    "language_info": {
      "name": "python"
    }
  },
  "cells": [
    {
      "cell_type": "markdown",
      "metadata": {
        "id": "view-in-github",
        "colab_type": "text"
      },
      "source": [
        "<a href=\"https://colab.research.google.com/github/rjanow/Masterarbeit/blob/main/2_Modeling_and_Prediction.ipynb\" target=\"_parent\"><img src=\"https://colab.research.google.com/assets/colab-badge.svg\" alt=\"Open In Colab\"/></a>"
      ]
    },
    {
      "cell_type": "markdown",
      "source": [
        "# Modeling and Predictions\n",
        "[Notebook 1: EDA and Data Cleaning](./1_EDA_and_DataCleaning.ipynb)\n",
        "\n",
        "[Notebook 2: Modeling and Predictions](./2_Modeling_and_Predictions.ipynb)\n",
        "\n",
        "Notebook 3: Discussion and Technical Report\n",
        "\n",
        "... Was geschieht in diesem Dokument? ...\n",
        "\n",
        "1. Features\n",
        "2. Resampling\n",
        "3. Modeling\n",
        "4. Scaling\n",
        "5. Lagged features\n",
        "6. Train test split, fit models, evaluate"
      ],
      "metadata": {
        "id": "980eB95e3ZFF"
      }
    },
    {
      "cell_type": "code",
      "source": [
        "## import modules"
      ],
      "metadata": {
        "id": "n8kTUCRv4Mrx"
      },
      "execution_count": null,
      "outputs": []
    },
    {
      "cell_type": "markdown",
      "source": [],
      "metadata": {
        "id": "vcZ-mWj9-151"
      }
    }
  ]
}