{
  "nbformat": 4,
  "nbformat_minor": 0,
  "metadata": {
    "colab": {
      "provenance": [],
      "authorship_tag": "ABX9TyNiFHnT6tCyrn+503FFKKN4",
      "include_colab_link": true
    },
    "kernelspec": {
      "name": "python3",
      "display_name": "Python 3"
    },
    "language_info": {
      "name": "python"
    }
  },
  "cells": [
    {
      "cell_type": "markdown",
      "metadata": {
        "id": "view-in-github",
        "colab_type": "text"
      },
      "source": [
        "<a href=\"https://colab.research.google.com/github/rjanow/Masterarbeit/blob/main/0_DataCleaning.ipynb\" target=\"_parent\"><img src=\"https://colab.research.google.com/assets/colab-badge.svg\" alt=\"Open In Colab\"/></a>"
      ]
    },
    {
      "cell_type": "markdown",
      "source": [
        "# Predicting UVI with LSTMs\n",
        "\n",
        "[Notebook 0: Data Cleaning](./0_DataCleaning.ipynb)\n",
        "\n",
        "[Notebook 1: EDA](./1_EDA_and_Cleaning.ipynb)\n",
        "\n",
        "[Notebook 2: Modeling and Predictions](./2_Modeling_and_Predictions.ipynb)\n",
        "\n",
        "[Notebook 3: Technical Report](./3_Technical_Report.ipynb)"
      ],
      "metadata": {
        "id": "Pya7NE9rw_L7"
      }
    },
    {
      "cell_type": "markdown",
      "source": [
        "## Allgemeine Einstellungen:"
      ],
      "metadata": {
        "id": "XyGPXUGTlUJn"
      }
    },
    {
      "cell_type": "code",
      "source": [
        "# Installation der pvlib um den Sonnenstandswinkel zu berechnen\n",
        "!pip install pvlib"
      ],
      "metadata": {
        "id": "sZo5aGbp6Qzv",
        "outputId": "a5a1eb2a-be77-41a5-9b98-273bb635f19f",
        "colab": {
          "base_uri": "https://localhost:8080/"
        }
      },
      "execution_count": null,
      "outputs": [
        {
          "output_type": "stream",
          "name": "stdout",
          "text": [
            "Collecting pvlib\n",
            "  Downloading pvlib-0.10.2-py3-none-any.whl (29.5 MB)\n",
            "\u001b[2K     \u001b[90m━━━━━━━━━━━━━━━━━━━━━━━━━━━━━━━━━━━━━━━━\u001b[0m \u001b[32m29.5/29.5 MB\u001b[0m \u001b[31m48.1 MB/s\u001b[0m eta \u001b[36m0:00:00\u001b[0m\n",
            "\u001b[?25hRequirement already satisfied: numpy>=1.16.0 in /usr/local/lib/python3.10/dist-packages (from pvlib) (1.23.5)\n",
            "Requirement already satisfied: pandas>=0.25.0 in /usr/local/lib/python3.10/dist-packages (from pvlib) (1.5.3)\n",
            "Requirement already satisfied: pytz in /usr/local/lib/python3.10/dist-packages (from pvlib) (2023.3.post1)\n",
            "Requirement already satisfied: requests in /usr/local/lib/python3.10/dist-packages (from pvlib) (2.31.0)\n",
            "Requirement already satisfied: scipy>=1.4.0 in /usr/local/lib/python3.10/dist-packages (from pvlib) (1.11.4)\n",
            "Requirement already satisfied: h5py in /usr/local/lib/python3.10/dist-packages (from pvlib) (3.9.0)\n",
            "Requirement already satisfied: python-dateutil>=2.8.1 in /usr/local/lib/python3.10/dist-packages (from pandas>=0.25.0->pvlib) (2.8.2)\n",
            "Requirement already satisfied: charset-normalizer<4,>=2 in /usr/local/lib/python3.10/dist-packages (from requests->pvlib) (3.3.2)\n",
            "Requirement already satisfied: idna<4,>=2.5 in /usr/local/lib/python3.10/dist-packages (from requests->pvlib) (3.6)\n",
            "Requirement already satisfied: urllib3<3,>=1.21.1 in /usr/local/lib/python3.10/dist-packages (from requests->pvlib) (2.0.7)\n",
            "Requirement already satisfied: certifi>=2017.4.17 in /usr/local/lib/python3.10/dist-packages (from requests->pvlib) (2023.11.17)\n",
            "Requirement already satisfied: six>=1.5 in /usr/local/lib/python3.10/dist-packages (from python-dateutil>=2.8.1->pandas>=0.25.0->pvlib) (1.16.0)\n",
            "Installing collected packages: pvlib\n",
            "Successfully installed pvlib-0.10.2\n"
          ]
        }
      ]
    },
    {
      "cell_type": "markdown",
      "source": [
        "In deiesem Notebook werden die aufgezeichenten UVI-Messungen weiter verarbeitet und für das Training vorbereitet.\n",
        "\n",
        "\n",
        "- Einlesen der UVI-Werte\n",
        "- Ersetzen von fehlenden Messwerten\n",
        "\n",
        "- Einlesen der weiteren Inputwerte\n",
        "- EDA (exploratory data analysis)"
      ],
      "metadata": {
        "id": "CT_W0-FVw943"
      }
    },
    {
      "cell_type": "code",
      "source": [
        "# Verbinden mit der Google-Drive\n",
        "from google.colab import drive\n",
        "drive.mount('/content/drive')"
      ],
      "metadata": {
        "id": "1SZflPUFXQMy",
        "colab": {
          "base_uri": "https://localhost:8080/"
        },
        "outputId": "3877af21-bac4-4dab-fa20-82e824c8c71e"
      },
      "execution_count": null,
      "outputs": [
        {
          "output_type": "stream",
          "name": "stdout",
          "text": [
            "Mounted at /content/drive\n"
          ]
        }
      ]
    },
    {
      "cell_type": "code",
      "source": [
        "# import der benötigten Module\n",
        "\n",
        "import numpy as np\n",
        "import pandas as pd\n",
        "import matplotlib.pyplot as plt\n",
        "import matplotlib.dates as mdates\n",
        "import pvlib\n",
        "\n",
        "from datetime import datetime\n",
        "from datetime import timedelta\n",
        "\n",
        "import matplotlib\n",
        "import seaborn as sns"
      ],
      "metadata": {
        "id": "PkdOG-2sz6ni"
      },
      "execution_count": null,
      "outputs": []
    },
    {
      "cell_type": "code",
      "source": [
        "# Standort der Messstaion für die Berechnung des Sonnenstandswinkel\n",
        "latitude = 50.8\n",
        "longitude = 7.2\n",
        "\n",
        "# Angaben um das Datum und die Uhrzeit in Sin und Cos zu codieren\n",
        "seconds_in_day = 24*60*60\n",
        "seconds_in_year = (365.2425)*seconds_in_day"
      ],
      "metadata": {
        "id": "shv1JklsbKRR"
      },
      "execution_count": null,
      "outputs": []
    },
    {
      "cell_type": "code",
      "source": [
        "# Pfad zu den Messwerten / Vorhersagewerten und dem Speicherort auf Google Drive\n",
        "drive_path = '/content/drive/My Drive/Colab_Notebooks/CSV_UVI/'\n",
        "drive_path_solys = '/content/drive/My Drive/Colab_Notebooks/SOLYS_CSV/'\n",
        "pickle_path = '/content/drive/My Drive/Colab_Notebooks/CAMS_Vorhersage/'\n",
        "save_folder = '/content/drive/My Drive/Colab_Notebooks/Clean_Data/'"
      ],
      "metadata": {
        "id": "9Y0wG7A1TZGS"
      },
      "execution_count": null,
      "outputs": []
    },
    {
      "cell_type": "markdown",
      "source": [
        "## Import der UVI-Messdaten:\n",
        "\n",
        "Die Messdaten sind in CSV-Dateien gespeichert, diese müssen importiert werden."
      ],
      "metadata": {
        "id": "xQ--fkAQ0mTI"
      }
    },
    {
      "cell_type": "code",
      "source": [
        "## Code zum Import der Messdaten\n",
        "file_list = ['22.06', '22.07', '22.08', '22.09', '22.10', '22.11', '22.12', '23.01', '23.02', '23.03', '23.04', '23.05', '23.07', '23.08']  # Hier wird angegeben, welche Monate importiert werden sollen\n",
        "dataframes = []\n",
        "df_UVI_combined = []\n",
        "\n",
        "for filename in file_list:\n",
        "    file_path = drive_path + filename\n",
        "    df_import = pd.read_csv(file_path)\n",
        "    dataframes.append(df_import)\n",
        "\n",
        "df_UVI_combined = pd.concat(dataframes, ignore_index=True)\n",
        "df_UVI_combined['Datetime'] = pd.to_datetime(df_UVI_combined['Datetime'])"
      ],
      "metadata": {
        "id": "oBIFSSvi1Dox"
      },
      "execution_count": null,
      "outputs": []
    },
    {
      "cell_type": "code",
      "source": [
        "# Dataframe ausgeben\n",
        "df_UVI_combined.fillna(0)"
      ],
      "metadata": {
        "id": "1zmKoxHXuzVp",
        "outputId": "dfd4ea5d-32a2-44c1-f1b2-ffa29a5eddee",
        "colab": {
          "base_uri": "https://localhost:8080/",
          "height": 424
        }
      },
      "execution_count": null,
      "outputs": [
        {
          "output_type": "execute_result",
          "data": {
            "text/plain": [
              "        Messzeitpunkt   Uhrzeit       Datum            Datetime   erythem  \\\n",
              "0               26460  07:21:00  2022-06-15 2022-06-15 07:21:00  0.060209   \n",
              "1               26580  07:23:00  2022-06-15 2022-06-15 07:23:00  0.061560   \n",
              "2               26700  07:25:00  2022-06-15 2022-06-15 07:25:00  0.061976   \n",
              "3               26820  07:27:00  2022-06-15 2022-06-15 07:27:00  0.063588   \n",
              "4               26940  07:29:00  2022-06-15 2022-06-15 07:29:00  0.064412   \n",
              "...               ...       ...         ...                 ...       ...   \n",
              "118862          66840  18:34:00  2023-08-12 2023-08-12 18:34:00  0.000605   \n",
              "118863          66960  18:36:00  2023-08-12 2023-08-12 18:36:00  0.000512   \n",
              "118864          67080  18:38:00  2023-08-12 2023-08-12 18:38:00  0.000481   \n",
              "118865          67200  18:40:00  2023-08-12 2023-08-12 18:40:00  0.000461   \n",
              "118866          67320  18:42:00  2023-08-12 2023-08-12 18:42:00  0.000372   \n",
              "\n",
              "             UVI  \n",
              "0       2.408378  \n",
              "1       2.462381  \n",
              "2       2.479048  \n",
              "3       2.543531  \n",
              "4       2.576485  \n",
              "...          ...  \n",
              "118862  0.024202  \n",
              "118863  0.020477  \n",
              "118864  0.019234  \n",
              "118865  0.018458  \n",
              "118866  0.014863  \n",
              "\n",
              "[118867 rows x 6 columns]"
            ],
            "text/html": [
              "\n",
              "  <div id=\"df-b7ab6a99-a829-4a20-a823-46a6af91c5c9\" class=\"colab-df-container\">\n",
              "    <div>\n",
              "<style scoped>\n",
              "    .dataframe tbody tr th:only-of-type {\n",
              "        vertical-align: middle;\n",
              "    }\n",
              "\n",
              "    .dataframe tbody tr th {\n",
              "        vertical-align: top;\n",
              "    }\n",
              "\n",
              "    .dataframe thead th {\n",
              "        text-align: right;\n",
              "    }\n",
              "</style>\n",
              "<table border=\"1\" class=\"dataframe\">\n",
              "  <thead>\n",
              "    <tr style=\"text-align: right;\">\n",
              "      <th></th>\n",
              "      <th>Messzeitpunkt</th>\n",
              "      <th>Uhrzeit</th>\n",
              "      <th>Datum</th>\n",
              "      <th>Datetime</th>\n",
              "      <th>erythem</th>\n",
              "      <th>UVI</th>\n",
              "    </tr>\n",
              "  </thead>\n",
              "  <tbody>\n",
              "    <tr>\n",
              "      <th>0</th>\n",
              "      <td>26460</td>\n",
              "      <td>07:21:00</td>\n",
              "      <td>2022-06-15</td>\n",
              "      <td>2022-06-15 07:21:00</td>\n",
              "      <td>0.060209</td>\n",
              "      <td>2.408378</td>\n",
              "    </tr>\n",
              "    <tr>\n",
              "      <th>1</th>\n",
              "      <td>26580</td>\n",
              "      <td>07:23:00</td>\n",
              "      <td>2022-06-15</td>\n",
              "      <td>2022-06-15 07:23:00</td>\n",
              "      <td>0.061560</td>\n",
              "      <td>2.462381</td>\n",
              "    </tr>\n",
              "    <tr>\n",
              "      <th>2</th>\n",
              "      <td>26700</td>\n",
              "      <td>07:25:00</td>\n",
              "      <td>2022-06-15</td>\n",
              "      <td>2022-06-15 07:25:00</td>\n",
              "      <td>0.061976</td>\n",
              "      <td>2.479048</td>\n",
              "    </tr>\n",
              "    <tr>\n",
              "      <th>3</th>\n",
              "      <td>26820</td>\n",
              "      <td>07:27:00</td>\n",
              "      <td>2022-06-15</td>\n",
              "      <td>2022-06-15 07:27:00</td>\n",
              "      <td>0.063588</td>\n",
              "      <td>2.543531</td>\n",
              "    </tr>\n",
              "    <tr>\n",
              "      <th>4</th>\n",
              "      <td>26940</td>\n",
              "      <td>07:29:00</td>\n",
              "      <td>2022-06-15</td>\n",
              "      <td>2022-06-15 07:29:00</td>\n",
              "      <td>0.064412</td>\n",
              "      <td>2.576485</td>\n",
              "    </tr>\n",
              "    <tr>\n",
              "      <th>...</th>\n",
              "      <td>...</td>\n",
              "      <td>...</td>\n",
              "      <td>...</td>\n",
              "      <td>...</td>\n",
              "      <td>...</td>\n",
              "      <td>...</td>\n",
              "    </tr>\n",
              "    <tr>\n",
              "      <th>118862</th>\n",
              "      <td>66840</td>\n",
              "      <td>18:34:00</td>\n",
              "      <td>2023-08-12</td>\n",
              "      <td>2023-08-12 18:34:00</td>\n",
              "      <td>0.000605</td>\n",
              "      <td>0.024202</td>\n",
              "    </tr>\n",
              "    <tr>\n",
              "      <th>118863</th>\n",
              "      <td>66960</td>\n",
              "      <td>18:36:00</td>\n",
              "      <td>2023-08-12</td>\n",
              "      <td>2023-08-12 18:36:00</td>\n",
              "      <td>0.000512</td>\n",
              "      <td>0.020477</td>\n",
              "    </tr>\n",
              "    <tr>\n",
              "      <th>118864</th>\n",
              "      <td>67080</td>\n",
              "      <td>18:38:00</td>\n",
              "      <td>2023-08-12</td>\n",
              "      <td>2023-08-12 18:38:00</td>\n",
              "      <td>0.000481</td>\n",
              "      <td>0.019234</td>\n",
              "    </tr>\n",
              "    <tr>\n",
              "      <th>118865</th>\n",
              "      <td>67200</td>\n",
              "      <td>18:40:00</td>\n",
              "      <td>2023-08-12</td>\n",
              "      <td>2023-08-12 18:40:00</td>\n",
              "      <td>0.000461</td>\n",
              "      <td>0.018458</td>\n",
              "    </tr>\n",
              "    <tr>\n",
              "      <th>118866</th>\n",
              "      <td>67320</td>\n",
              "      <td>18:42:00</td>\n",
              "      <td>2023-08-12</td>\n",
              "      <td>2023-08-12 18:42:00</td>\n",
              "      <td>0.000372</td>\n",
              "      <td>0.014863</td>\n",
              "    </tr>\n",
              "  </tbody>\n",
              "</table>\n",
              "<p>118867 rows × 6 columns</p>\n",
              "</div>\n",
              "    <div class=\"colab-df-buttons\">\n",
              "\n",
              "  <div class=\"colab-df-container\">\n",
              "    <button class=\"colab-df-convert\" onclick=\"convertToInteractive('df-b7ab6a99-a829-4a20-a823-46a6af91c5c9')\"\n",
              "            title=\"Convert this dataframe to an interactive table.\"\n",
              "            style=\"display:none;\">\n",
              "\n",
              "  <svg xmlns=\"http://www.w3.org/2000/svg\" height=\"24px\" viewBox=\"0 -960 960 960\">\n",
              "    <path d=\"M120-120v-720h720v720H120Zm60-500h600v-160H180v160Zm220 220h160v-160H400v160Zm0 220h160v-160H400v160ZM180-400h160v-160H180v160Zm440 0h160v-160H620v160ZM180-180h160v-160H180v160Zm440 0h160v-160H620v160Z\"/>\n",
              "  </svg>\n",
              "    </button>\n",
              "\n",
              "  <style>\n",
              "    .colab-df-container {\n",
              "      display:flex;\n",
              "      gap: 12px;\n",
              "    }\n",
              "\n",
              "    .colab-df-convert {\n",
              "      background-color: #E8F0FE;\n",
              "      border: none;\n",
              "      border-radius: 50%;\n",
              "      cursor: pointer;\n",
              "      display: none;\n",
              "      fill: #1967D2;\n",
              "      height: 32px;\n",
              "      padding: 0 0 0 0;\n",
              "      width: 32px;\n",
              "    }\n",
              "\n",
              "    .colab-df-convert:hover {\n",
              "      background-color: #E2EBFA;\n",
              "      box-shadow: 0px 1px 2px rgba(60, 64, 67, 0.3), 0px 1px 3px 1px rgba(60, 64, 67, 0.15);\n",
              "      fill: #174EA6;\n",
              "    }\n",
              "\n",
              "    .colab-df-buttons div {\n",
              "      margin-bottom: 4px;\n",
              "    }\n",
              "\n",
              "    [theme=dark] .colab-df-convert {\n",
              "      background-color: #3B4455;\n",
              "      fill: #D2E3FC;\n",
              "    }\n",
              "\n",
              "    [theme=dark] .colab-df-convert:hover {\n",
              "      background-color: #434B5C;\n",
              "      box-shadow: 0px 1px 3px 1px rgba(0, 0, 0, 0.15);\n",
              "      filter: drop-shadow(0px 1px 2px rgba(0, 0, 0, 0.3));\n",
              "      fill: #FFFFFF;\n",
              "    }\n",
              "  </style>\n",
              "\n",
              "    <script>\n",
              "      const buttonEl =\n",
              "        document.querySelector('#df-b7ab6a99-a829-4a20-a823-46a6af91c5c9 button.colab-df-convert');\n",
              "      buttonEl.style.display =\n",
              "        google.colab.kernel.accessAllowed ? 'block' : 'none';\n",
              "\n",
              "      async function convertToInteractive(key) {\n",
              "        const element = document.querySelector('#df-b7ab6a99-a829-4a20-a823-46a6af91c5c9');\n",
              "        const dataTable =\n",
              "          await google.colab.kernel.invokeFunction('convertToInteractive',\n",
              "                                                    [key], {});\n",
              "        if (!dataTable) return;\n",
              "\n",
              "        const docLinkHtml = 'Like what you see? Visit the ' +\n",
              "          '<a target=\"_blank\" href=https://colab.research.google.com/notebooks/data_table.ipynb>data table notebook</a>'\n",
              "          + ' to learn more about interactive tables.';\n",
              "        element.innerHTML = '';\n",
              "        dataTable['output_type'] = 'display_data';\n",
              "        await google.colab.output.renderOutput(dataTable, element);\n",
              "        const docLink = document.createElement('div');\n",
              "        docLink.innerHTML = docLinkHtml;\n",
              "        element.appendChild(docLink);\n",
              "      }\n",
              "    </script>\n",
              "  </div>\n",
              "\n",
              "\n",
              "<div id=\"df-2995df1e-4c16-454f-9707-26295a37cdd6\">\n",
              "  <button class=\"colab-df-quickchart\" onclick=\"quickchart('df-2995df1e-4c16-454f-9707-26295a37cdd6')\"\n",
              "            title=\"Suggest charts\"\n",
              "            style=\"display:none;\">\n",
              "\n",
              "<svg xmlns=\"http://www.w3.org/2000/svg\" height=\"24px\"viewBox=\"0 0 24 24\"\n",
              "     width=\"24px\">\n",
              "    <g>\n",
              "        <path d=\"M19 3H5c-1.1 0-2 .9-2 2v14c0 1.1.9 2 2 2h14c1.1 0 2-.9 2-2V5c0-1.1-.9-2-2-2zM9 17H7v-7h2v7zm4 0h-2V7h2v10zm4 0h-2v-4h2v4z\"/>\n",
              "    </g>\n",
              "</svg>\n",
              "  </button>\n",
              "\n",
              "<style>\n",
              "  .colab-df-quickchart {\n",
              "      --bg-color: #E8F0FE;\n",
              "      --fill-color: #1967D2;\n",
              "      --hover-bg-color: #E2EBFA;\n",
              "      --hover-fill-color: #174EA6;\n",
              "      --disabled-fill-color: #AAA;\n",
              "      --disabled-bg-color: #DDD;\n",
              "  }\n",
              "\n",
              "  [theme=dark] .colab-df-quickchart {\n",
              "      --bg-color: #3B4455;\n",
              "      --fill-color: #D2E3FC;\n",
              "      --hover-bg-color: #434B5C;\n",
              "      --hover-fill-color: #FFFFFF;\n",
              "      --disabled-bg-color: #3B4455;\n",
              "      --disabled-fill-color: #666;\n",
              "  }\n",
              "\n",
              "  .colab-df-quickchart {\n",
              "    background-color: var(--bg-color);\n",
              "    border: none;\n",
              "    border-radius: 50%;\n",
              "    cursor: pointer;\n",
              "    display: none;\n",
              "    fill: var(--fill-color);\n",
              "    height: 32px;\n",
              "    padding: 0;\n",
              "    width: 32px;\n",
              "  }\n",
              "\n",
              "  .colab-df-quickchart:hover {\n",
              "    background-color: var(--hover-bg-color);\n",
              "    box-shadow: 0 1px 2px rgba(60, 64, 67, 0.3), 0 1px 3px 1px rgba(60, 64, 67, 0.15);\n",
              "    fill: var(--button-hover-fill-color);\n",
              "  }\n",
              "\n",
              "  .colab-df-quickchart-complete:disabled,\n",
              "  .colab-df-quickchart-complete:disabled:hover {\n",
              "    background-color: var(--disabled-bg-color);\n",
              "    fill: var(--disabled-fill-color);\n",
              "    box-shadow: none;\n",
              "  }\n",
              "\n",
              "  .colab-df-spinner {\n",
              "    border: 2px solid var(--fill-color);\n",
              "    border-color: transparent;\n",
              "    border-bottom-color: var(--fill-color);\n",
              "    animation:\n",
              "      spin 1s steps(1) infinite;\n",
              "  }\n",
              "\n",
              "  @keyframes spin {\n",
              "    0% {\n",
              "      border-color: transparent;\n",
              "      border-bottom-color: var(--fill-color);\n",
              "      border-left-color: var(--fill-color);\n",
              "    }\n",
              "    20% {\n",
              "      border-color: transparent;\n",
              "      border-left-color: var(--fill-color);\n",
              "      border-top-color: var(--fill-color);\n",
              "    }\n",
              "    30% {\n",
              "      border-color: transparent;\n",
              "      border-left-color: var(--fill-color);\n",
              "      border-top-color: var(--fill-color);\n",
              "      border-right-color: var(--fill-color);\n",
              "    }\n",
              "    40% {\n",
              "      border-color: transparent;\n",
              "      border-right-color: var(--fill-color);\n",
              "      border-top-color: var(--fill-color);\n",
              "    }\n",
              "    60% {\n",
              "      border-color: transparent;\n",
              "      border-right-color: var(--fill-color);\n",
              "    }\n",
              "    80% {\n",
              "      border-color: transparent;\n",
              "      border-right-color: var(--fill-color);\n",
              "      border-bottom-color: var(--fill-color);\n",
              "    }\n",
              "    90% {\n",
              "      border-color: transparent;\n",
              "      border-bottom-color: var(--fill-color);\n",
              "    }\n",
              "  }\n",
              "</style>\n",
              "\n",
              "  <script>\n",
              "    async function quickchart(key) {\n",
              "      const quickchartButtonEl =\n",
              "        document.querySelector('#' + key + ' button');\n",
              "      quickchartButtonEl.disabled = true;  // To prevent multiple clicks.\n",
              "      quickchartButtonEl.classList.add('colab-df-spinner');\n",
              "      try {\n",
              "        const charts = await google.colab.kernel.invokeFunction(\n",
              "            'suggestCharts', [key], {});\n",
              "      } catch (error) {\n",
              "        console.error('Error during call to suggestCharts:', error);\n",
              "      }\n",
              "      quickchartButtonEl.classList.remove('colab-df-spinner');\n",
              "      quickchartButtonEl.classList.add('colab-df-quickchart-complete');\n",
              "    }\n",
              "    (() => {\n",
              "      let quickchartButtonEl =\n",
              "        document.querySelector('#df-2995df1e-4c16-454f-9707-26295a37cdd6 button');\n",
              "      quickchartButtonEl.style.display =\n",
              "        google.colab.kernel.accessAllowed ? 'block' : 'none';\n",
              "    })();\n",
              "  </script>\n",
              "</div>\n",
              "    </div>\n",
              "  </div>\n"
            ]
          },
          "metadata": {},
          "execution_count": 7
        }
      ]
    },
    {
      "cell_type": "markdown",
      "source": [
        "## Import der Solarstrahlungsdaten"
      ],
      "metadata": {
        "id": "WIPKTgRbI7gg"
      }
    },
    {
      "cell_type": "code",
      "source": [
        "dateiname = 'Solys_CSV'\n",
        "df_Solys = pd.read_csv(drive_path_solys + dateiname)"
      ],
      "metadata": {
        "id": "TRSTySEzJAgt"
      },
      "execution_count": null,
      "outputs": []
    },
    {
      "cell_type": "code",
      "source": [
        "df_Solys['Datetime'] = pd.to_datetime(df_Solys['Datetime'])"
      ],
      "metadata": {
        "id": "LwwH53hKtpFT"
      },
      "execution_count": null,
      "outputs": []
    },
    {
      "cell_type": "code",
      "source": [
        "df_Solys.set_index('Datetime', inplace = True)"
      ],
      "metadata": {
        "id": "r-U_M8MTuKoa"
      },
      "execution_count": null,
      "outputs": []
    },
    {
      "cell_type": "code",
      "source": [
        "df_Solys"
      ],
      "metadata": {
        "id": "WiNPhuaMKOg1",
        "outputId": "fc4b9570-0a33-472c-8c23-30f6fe05353e",
        "colab": {
          "base_uri": "https://localhost:8080/",
          "height": 455
        }
      },
      "execution_count": null,
      "outputs": [
        {
          "output_type": "execute_result",
          "data": {
            "text/plain": [
              "                            Glo         Dif  Glo_SPLite       Dir       Temp\n",
              "Datetime                                                                    \n",
              "2022-04-25 08:06:00  245.833333  246.866667  259.233333  2.400000  10.766667\n",
              "2022-04-25 08:08:00  237.058333  237.666667  249.200000  2.350000  10.658333\n",
              "2022-04-25 08:10:00  206.466667  206.675000  217.633333  2.316667  10.058333\n",
              "2022-04-25 08:12:00  188.858333  189.400000  200.900000  2.316667  10.608333\n",
              "2022-04-25 08:14:00  186.991667  187.616667  199.800000  2.208333  10.391667\n",
              "...                         ...         ...         ...       ...        ...\n",
              "2023-11-09 08:10:00    9.975000   10.500000   11.266667  1.400000   8.683333\n",
              "2023-11-09 08:12:00   10.233333   10.741667   11.291667  1.400000   8.708333\n",
              "2023-11-09 08:14:00   10.775000   11.275000   11.691667  1.416667   8.716667\n",
              "2023-11-09 08:16:00   11.916667   12.441667   12.883333  1.416667   8.700000\n",
              "2023-11-09 08:18:00   14.000000   14.530000   15.100000  1.470000   8.810000\n",
              "\n",
              "[405367 rows x 5 columns]"
            ],
            "text/html": [
              "\n",
              "  <div id=\"df-0f674140-cf4c-416c-8492-058b6bd1b578\" class=\"colab-df-container\">\n",
              "    <div>\n",
              "<style scoped>\n",
              "    .dataframe tbody tr th:only-of-type {\n",
              "        vertical-align: middle;\n",
              "    }\n",
              "\n",
              "    .dataframe tbody tr th {\n",
              "        vertical-align: top;\n",
              "    }\n",
              "\n",
              "    .dataframe thead th {\n",
              "        text-align: right;\n",
              "    }\n",
              "</style>\n",
              "<table border=\"1\" class=\"dataframe\">\n",
              "  <thead>\n",
              "    <tr style=\"text-align: right;\">\n",
              "      <th></th>\n",
              "      <th>Glo</th>\n",
              "      <th>Dif</th>\n",
              "      <th>Glo_SPLite</th>\n",
              "      <th>Dir</th>\n",
              "      <th>Temp</th>\n",
              "    </tr>\n",
              "    <tr>\n",
              "      <th>Datetime</th>\n",
              "      <th></th>\n",
              "      <th></th>\n",
              "      <th></th>\n",
              "      <th></th>\n",
              "      <th></th>\n",
              "    </tr>\n",
              "  </thead>\n",
              "  <tbody>\n",
              "    <tr>\n",
              "      <th>2022-04-25 08:06:00</th>\n",
              "      <td>245.833333</td>\n",
              "      <td>246.866667</td>\n",
              "      <td>259.233333</td>\n",
              "      <td>2.400000</td>\n",
              "      <td>10.766667</td>\n",
              "    </tr>\n",
              "    <tr>\n",
              "      <th>2022-04-25 08:08:00</th>\n",
              "      <td>237.058333</td>\n",
              "      <td>237.666667</td>\n",
              "      <td>249.200000</td>\n",
              "      <td>2.350000</td>\n",
              "      <td>10.658333</td>\n",
              "    </tr>\n",
              "    <tr>\n",
              "      <th>2022-04-25 08:10:00</th>\n",
              "      <td>206.466667</td>\n",
              "      <td>206.675000</td>\n",
              "      <td>217.633333</td>\n",
              "      <td>2.316667</td>\n",
              "      <td>10.058333</td>\n",
              "    </tr>\n",
              "    <tr>\n",
              "      <th>2022-04-25 08:12:00</th>\n",
              "      <td>188.858333</td>\n",
              "      <td>189.400000</td>\n",
              "      <td>200.900000</td>\n",
              "      <td>2.316667</td>\n",
              "      <td>10.608333</td>\n",
              "    </tr>\n",
              "    <tr>\n",
              "      <th>2022-04-25 08:14:00</th>\n",
              "      <td>186.991667</td>\n",
              "      <td>187.616667</td>\n",
              "      <td>199.800000</td>\n",
              "      <td>2.208333</td>\n",
              "      <td>10.391667</td>\n",
              "    </tr>\n",
              "    <tr>\n",
              "      <th>...</th>\n",
              "      <td>...</td>\n",
              "      <td>...</td>\n",
              "      <td>...</td>\n",
              "      <td>...</td>\n",
              "      <td>...</td>\n",
              "    </tr>\n",
              "    <tr>\n",
              "      <th>2023-11-09 08:10:00</th>\n",
              "      <td>9.975000</td>\n",
              "      <td>10.500000</td>\n",
              "      <td>11.266667</td>\n",
              "      <td>1.400000</td>\n",
              "      <td>8.683333</td>\n",
              "    </tr>\n",
              "    <tr>\n",
              "      <th>2023-11-09 08:12:00</th>\n",
              "      <td>10.233333</td>\n",
              "      <td>10.741667</td>\n",
              "      <td>11.291667</td>\n",
              "      <td>1.400000</td>\n",
              "      <td>8.708333</td>\n",
              "    </tr>\n",
              "    <tr>\n",
              "      <th>2023-11-09 08:14:00</th>\n",
              "      <td>10.775000</td>\n",
              "      <td>11.275000</td>\n",
              "      <td>11.691667</td>\n",
              "      <td>1.416667</td>\n",
              "      <td>8.716667</td>\n",
              "    </tr>\n",
              "    <tr>\n",
              "      <th>2023-11-09 08:16:00</th>\n",
              "      <td>11.916667</td>\n",
              "      <td>12.441667</td>\n",
              "      <td>12.883333</td>\n",
              "      <td>1.416667</td>\n",
              "      <td>8.700000</td>\n",
              "    </tr>\n",
              "    <tr>\n",
              "      <th>2023-11-09 08:18:00</th>\n",
              "      <td>14.000000</td>\n",
              "      <td>14.530000</td>\n",
              "      <td>15.100000</td>\n",
              "      <td>1.470000</td>\n",
              "      <td>8.810000</td>\n",
              "    </tr>\n",
              "  </tbody>\n",
              "</table>\n",
              "<p>405367 rows × 5 columns</p>\n",
              "</div>\n",
              "    <div class=\"colab-df-buttons\">\n",
              "\n",
              "  <div class=\"colab-df-container\">\n",
              "    <button class=\"colab-df-convert\" onclick=\"convertToInteractive('df-0f674140-cf4c-416c-8492-058b6bd1b578')\"\n",
              "            title=\"Convert this dataframe to an interactive table.\"\n",
              "            style=\"display:none;\">\n",
              "\n",
              "  <svg xmlns=\"http://www.w3.org/2000/svg\" height=\"24px\" viewBox=\"0 -960 960 960\">\n",
              "    <path d=\"M120-120v-720h720v720H120Zm60-500h600v-160H180v160Zm220 220h160v-160H400v160Zm0 220h160v-160H400v160ZM180-400h160v-160H180v160Zm440 0h160v-160H620v160ZM180-180h160v-160H180v160Zm440 0h160v-160H620v160Z\"/>\n",
              "  </svg>\n",
              "    </button>\n",
              "\n",
              "  <style>\n",
              "    .colab-df-container {\n",
              "      display:flex;\n",
              "      gap: 12px;\n",
              "    }\n",
              "\n",
              "    .colab-df-convert {\n",
              "      background-color: #E8F0FE;\n",
              "      border: none;\n",
              "      border-radius: 50%;\n",
              "      cursor: pointer;\n",
              "      display: none;\n",
              "      fill: #1967D2;\n",
              "      height: 32px;\n",
              "      padding: 0 0 0 0;\n",
              "      width: 32px;\n",
              "    }\n",
              "\n",
              "    .colab-df-convert:hover {\n",
              "      background-color: #E2EBFA;\n",
              "      box-shadow: 0px 1px 2px rgba(60, 64, 67, 0.3), 0px 1px 3px 1px rgba(60, 64, 67, 0.15);\n",
              "      fill: #174EA6;\n",
              "    }\n",
              "\n",
              "    .colab-df-buttons div {\n",
              "      margin-bottom: 4px;\n",
              "    }\n",
              "\n",
              "    [theme=dark] .colab-df-convert {\n",
              "      background-color: #3B4455;\n",
              "      fill: #D2E3FC;\n",
              "    }\n",
              "\n",
              "    [theme=dark] .colab-df-convert:hover {\n",
              "      background-color: #434B5C;\n",
              "      box-shadow: 0px 1px 3px 1px rgba(0, 0, 0, 0.15);\n",
              "      filter: drop-shadow(0px 1px 2px rgba(0, 0, 0, 0.3));\n",
              "      fill: #FFFFFF;\n",
              "    }\n",
              "  </style>\n",
              "\n",
              "    <script>\n",
              "      const buttonEl =\n",
              "        document.querySelector('#df-0f674140-cf4c-416c-8492-058b6bd1b578 button.colab-df-convert');\n",
              "      buttonEl.style.display =\n",
              "        google.colab.kernel.accessAllowed ? 'block' : 'none';\n",
              "\n",
              "      async function convertToInteractive(key) {\n",
              "        const element = document.querySelector('#df-0f674140-cf4c-416c-8492-058b6bd1b578');\n",
              "        const dataTable =\n",
              "          await google.colab.kernel.invokeFunction('convertToInteractive',\n",
              "                                                    [key], {});\n",
              "        if (!dataTable) return;\n",
              "\n",
              "        const docLinkHtml = 'Like what you see? Visit the ' +\n",
              "          '<a target=\"_blank\" href=https://colab.research.google.com/notebooks/data_table.ipynb>data table notebook</a>'\n",
              "          + ' to learn more about interactive tables.';\n",
              "        element.innerHTML = '';\n",
              "        dataTable['output_type'] = 'display_data';\n",
              "        await google.colab.output.renderOutput(dataTable, element);\n",
              "        const docLink = document.createElement('div');\n",
              "        docLink.innerHTML = docLinkHtml;\n",
              "        element.appendChild(docLink);\n",
              "      }\n",
              "    </script>\n",
              "  </div>\n",
              "\n",
              "\n",
              "<div id=\"df-a738c254-d84b-466e-8988-488930a96784\">\n",
              "  <button class=\"colab-df-quickchart\" onclick=\"quickchart('df-a738c254-d84b-466e-8988-488930a96784')\"\n",
              "            title=\"Suggest charts\"\n",
              "            style=\"display:none;\">\n",
              "\n",
              "<svg xmlns=\"http://www.w3.org/2000/svg\" height=\"24px\"viewBox=\"0 0 24 24\"\n",
              "     width=\"24px\">\n",
              "    <g>\n",
              "        <path d=\"M19 3H5c-1.1 0-2 .9-2 2v14c0 1.1.9 2 2 2h14c1.1 0 2-.9 2-2V5c0-1.1-.9-2-2-2zM9 17H7v-7h2v7zm4 0h-2V7h2v10zm4 0h-2v-4h2v4z\"/>\n",
              "    </g>\n",
              "</svg>\n",
              "  </button>\n",
              "\n",
              "<style>\n",
              "  .colab-df-quickchart {\n",
              "      --bg-color: #E8F0FE;\n",
              "      --fill-color: #1967D2;\n",
              "      --hover-bg-color: #E2EBFA;\n",
              "      --hover-fill-color: #174EA6;\n",
              "      --disabled-fill-color: #AAA;\n",
              "      --disabled-bg-color: #DDD;\n",
              "  }\n",
              "\n",
              "  [theme=dark] .colab-df-quickchart {\n",
              "      --bg-color: #3B4455;\n",
              "      --fill-color: #D2E3FC;\n",
              "      --hover-bg-color: #434B5C;\n",
              "      --hover-fill-color: #FFFFFF;\n",
              "      --disabled-bg-color: #3B4455;\n",
              "      --disabled-fill-color: #666;\n",
              "  }\n",
              "\n",
              "  .colab-df-quickchart {\n",
              "    background-color: var(--bg-color);\n",
              "    border: none;\n",
              "    border-radius: 50%;\n",
              "    cursor: pointer;\n",
              "    display: none;\n",
              "    fill: var(--fill-color);\n",
              "    height: 32px;\n",
              "    padding: 0;\n",
              "    width: 32px;\n",
              "  }\n",
              "\n",
              "  .colab-df-quickchart:hover {\n",
              "    background-color: var(--hover-bg-color);\n",
              "    box-shadow: 0 1px 2px rgba(60, 64, 67, 0.3), 0 1px 3px 1px rgba(60, 64, 67, 0.15);\n",
              "    fill: var(--button-hover-fill-color);\n",
              "  }\n",
              "\n",
              "  .colab-df-quickchart-complete:disabled,\n",
              "  .colab-df-quickchart-complete:disabled:hover {\n",
              "    background-color: var(--disabled-bg-color);\n",
              "    fill: var(--disabled-fill-color);\n",
              "    box-shadow: none;\n",
              "  }\n",
              "\n",
              "  .colab-df-spinner {\n",
              "    border: 2px solid var(--fill-color);\n",
              "    border-color: transparent;\n",
              "    border-bottom-color: var(--fill-color);\n",
              "    animation:\n",
              "      spin 1s steps(1) infinite;\n",
              "  }\n",
              "\n",
              "  @keyframes spin {\n",
              "    0% {\n",
              "      border-color: transparent;\n",
              "      border-bottom-color: var(--fill-color);\n",
              "      border-left-color: var(--fill-color);\n",
              "    }\n",
              "    20% {\n",
              "      border-color: transparent;\n",
              "      border-left-color: var(--fill-color);\n",
              "      border-top-color: var(--fill-color);\n",
              "    }\n",
              "    30% {\n",
              "      border-color: transparent;\n",
              "      border-left-color: var(--fill-color);\n",
              "      border-top-color: var(--fill-color);\n",
              "      border-right-color: var(--fill-color);\n",
              "    }\n",
              "    40% {\n",
              "      border-color: transparent;\n",
              "      border-right-color: var(--fill-color);\n",
              "      border-top-color: var(--fill-color);\n",
              "    }\n",
              "    60% {\n",
              "      border-color: transparent;\n",
              "      border-right-color: var(--fill-color);\n",
              "    }\n",
              "    80% {\n",
              "      border-color: transparent;\n",
              "      border-right-color: var(--fill-color);\n",
              "      border-bottom-color: var(--fill-color);\n",
              "    }\n",
              "    90% {\n",
              "      border-color: transparent;\n",
              "      border-bottom-color: var(--fill-color);\n",
              "    }\n",
              "  }\n",
              "</style>\n",
              "\n",
              "  <script>\n",
              "    async function quickchart(key) {\n",
              "      const quickchartButtonEl =\n",
              "        document.querySelector('#' + key + ' button');\n",
              "      quickchartButtonEl.disabled = true;  // To prevent multiple clicks.\n",
              "      quickchartButtonEl.classList.add('colab-df-spinner');\n",
              "      try {\n",
              "        const charts = await google.colab.kernel.invokeFunction(\n",
              "            'suggestCharts', [key], {});\n",
              "      } catch (error) {\n",
              "        console.error('Error during call to suggestCharts:', error);\n",
              "      }\n",
              "      quickchartButtonEl.classList.remove('colab-df-spinner');\n",
              "      quickchartButtonEl.classList.add('colab-df-quickchart-complete');\n",
              "    }\n",
              "    (() => {\n",
              "      let quickchartButtonEl =\n",
              "        document.querySelector('#df-a738c254-d84b-466e-8988-488930a96784 button');\n",
              "      quickchartButtonEl.style.display =\n",
              "        google.colab.kernel.accessAllowed ? 'block' : 'none';\n",
              "    })();\n",
              "  </script>\n",
              "</div>\n",
              "    </div>\n",
              "  </div>\n"
            ]
          },
          "metadata": {},
          "execution_count": 13
        }
      ]
    },
    {
      "cell_type": "markdown",
      "source": [
        "## Bereinigen der Messdaten\n",
        "\n",
        "Hier wird erklärt, was zum Bereinigen der Messdaten getan werden muss.\n",
        "\n",
        "- Fehlende Messtage müssen ersetzt werden:\n",
        "  - Prüfen, ob die Messwerte zusammenhängen.\n",
        "  - Hinzufügen neuer Zeilen, falls die Messwerte nicht zusammen Hängen."
      ],
      "metadata": {
        "id": "D0HkvdeS1C2o"
      }
    },
    {
      "cell_type": "markdown",
      "source": [
        "**Hier wird geprüft, ob die Messwerte zusammenhängend sind:**"
      ],
      "metadata": {
        "id": "_3NzWoAvWWlw"
      }
    },
    {
      "cell_type": "code",
      "source": [
        "def insert_missing_rows(df):\n",
        "    # Sortieren des DataFrame nach 'Datetime'\n",
        "    df.sort_values(by='Datetime', inplace=True)\n",
        "\n",
        "    # Initialisieren einer Liste, um die Zeilen mit fehlenden Daten einzufügen\n",
        "    rows_to_insert = []\n",
        "\n",
        "    # Gruppieren des DataFrame nach 'Datum'\n",
        "    grouped = df.groupby('Datum')\n",
        "\n",
        "    for date, group in grouped:\n",
        "        # Sortieren der Gruppe nach 'Datetime'\n",
        "        group.sort_values(by='Datetime', inplace=True)\n",
        "\n",
        "        for i in range(1, len(group)):\n",
        "            current_time = group.iloc[i]['Datetime']\n",
        "            prev_time = group.iloc[i - 1]['Datetime']\n",
        "            time_diff = current_time - prev_time\n",
        "\n",
        "            if time_diff > timedelta(minutes=2):\n",
        "                while prev_time + timedelta(minutes=2) < current_time:\n",
        "                    prev_time += timedelta(minutes=2)\n",
        "                    new_row = {\n",
        "                        'Datetime': prev_time,\n",
        "                        'Datum': date,\n",
        "                        'Uhrzeit': prev_time.time(),\n",
        "                        'Messzeitpunkt': (prev_time - prev_time.replace(hour=0, minute=0, second=0, microsecond=0)).total_seconds(),\n",
        "                        'erythem': 0,\n",
        "                        'UVI': 0,\n",
        "                        'DiffGreater2': 1,\n",
        "                    }\n",
        "                    rows_to_insert.append(new_row)\n",
        "\n",
        "    # Einfügen der fehlenden Zeilen in einen DataFrame\n",
        "    if rows_to_insert:\n",
        "        df = df.append(rows_to_insert, ignore_index=True)\n",
        "\n",
        "    # Sortieren des DataFrame nach 'Datetime'\n",
        "    df.sort_values(by='Datetime', inplace=True)\n",
        "    df = df.reset_index(drop = True)\n",
        "    df['DiffGreater2'] = df['DiffGreater2'].fillna(0)\n",
        "\n",
        "    return df"
      ],
      "metadata": {
        "id": "WRBAj8ZtBLVF"
      },
      "execution_count": null,
      "outputs": []
    },
    {
      "cell_type": "code",
      "source": [
        "df_UVI_WRows = pd.DataFrame()\n",
        "df_UVI_WRows = insert_missing_rows(df_UVI_combined)"
      ],
      "metadata": {
        "id": "rqr4oMiBFyCu",
        "outputId": "f7d51649-5b60-43c3-f45e-5ca7574e2d40",
        "colab": {
          "base_uri": "https://localhost:8080/"
        }
      },
      "execution_count": null,
      "outputs": [
        {
          "output_type": "stream",
          "name": "stderr",
          "text": [
            "<ipython-input-14-a09571970f8b>:36: FutureWarning: The frame.append method is deprecated and will be removed from pandas in a future version. Use pandas.concat instead.\n",
            "  df = df.append(rows_to_insert, ignore_index=True)\n"
          ]
        }
      ]
    },
    {
      "cell_type": "markdown",
      "source": [
        "## Sonnenstandswinkel hinzufügen"
      ],
      "metadata": {
        "id": "vZRrJ5IvZZi1"
      }
    },
    {
      "cell_type": "code",
      "source": [
        "def calculate_solar_zenith_angle(dataframe, date_column, latitude, longitude, altitude=0):\n",
        "\n",
        "    # Kopiere das ursprüngliche DataFrame, um es nicht zu ändern.\n",
        "    result_df = dataframe.copy()\n",
        "\n",
        "    # Konvertiere die Datumsspalte in einen datetime-Datentyp, falls sie es nicht bereits ist.\n",
        "    if not pd.api.types.is_datetime64_any_dtype(dataframe[date_column]):\n",
        "        result_df[date_column] = pd.to_datetime(dataframe[date_column])\n",
        "\n",
        "    # Iteriere über die Zeilen des DataFrames und berechne den Solarzenitwinkel für jedes Datum.\n",
        "    solar_zenith_angles = []\n",
        "    for date in result_df[date_column]:\n",
        "        solar_position = pvlib.solarposition.get_solarposition(date, latitude, longitude, altitude)\n",
        "        solar_zenith_angle = solar_position['zenith'].values[0]\n",
        "        solar_zenith_angles.append(solar_zenith_angle)\n",
        "\n",
        "    # Füge die berechneten Solarzenitwinkel dem DataFrame hinzu.\n",
        "    result_df['SZA'] = solar_zenith_angles\n",
        "\n",
        "    return result_df"
      ],
      "metadata": {
        "id": "HAPp0JwnZfZ2"
      },
      "execution_count": null,
      "outputs": []
    },
    {
      "cell_type": "code",
      "source": [
        "df_UVI_WRows_SZ = pd.DataFrame()\n",
        "df_UVI_WRows_SZ = calculate_solar_zenith_angle(df_UVI_WRows, 'Datetime', latitude, longitude)"
      ],
      "metadata": {
        "id": "SflssDZzZ3FR"
      },
      "execution_count": null,
      "outputs": []
    },
    {
      "cell_type": "markdown",
      "source": [
        "## Zeit und Datum in Sin und Cos codieren\n",
        "- Cyclical Encoding der Messzeit als Sinus und Cosinus"
      ],
      "metadata": {
        "id": "hO9In_g6XMGp"
      }
    },
    {
      "cell_type": "code",
      "source": [
        "def calculate_date_in_sine_cosine(dataframe, day, year):\n",
        "\n",
        "    result_df = dataframe.copy()\n",
        "\n",
        "    result_df['time_sin'] = np.sin(2*np.pi*result_df['Messzeitpunkt']/day)\n",
        "    result_df['time_cos'] = np.cos(2*np.pi*result_df['Messzeitpunkt']/day)\n",
        "    result_df['date_sin'] = np.sin((2*np.pi*result_df['Datetime'].dt.dayofyear * 24 * 60 * 60) / year)\n",
        "    result_df['date_cos'] = np.cos((2*np.pi*result_df['Datetime'].dt.dayofyear * 24 * 60 * 60) / year)\n",
        "\n",
        "    return result_df"
      ],
      "metadata": {
        "id": "AYaxsEifXX_h"
      },
      "execution_count": null,
      "outputs": []
    },
    {
      "cell_type": "code",
      "source": [
        "df_UVI_SZ_SC = calculate_date_in_sine_cosine(df_UVI_WRows_SZ, seconds_in_day, seconds_in_year)"
      ],
      "metadata": {
        "id": "t7OSPXlHwbwu"
      },
      "execution_count": null,
      "outputs": []
    },
    {
      "cell_type": "markdown",
      "source": [
        "## Erstellen einer Liste mit Stunden an denen es Messwerte gibt:"
      ],
      "metadata": {
        "id": "puBlU4G34r6n"
      }
    },
    {
      "cell_type": "code",
      "source": [
        "# Herausschreiben des Datums und der Stunde aus den Messdaten um im Folgeden nur die relevanten Vorhersagedaten auszuwählen\n",
        "df_UVI_SZ_SC['Date'] = df_UVI_SZ_SC['Datetime'].dt.date\n",
        "df_UVI_SZ_SC['Hour'] = df_UVI_SZ_SC['Datetime'].dt.hour"
      ],
      "metadata": {
        "id": "r2gGQHzM4z5L"
      },
      "execution_count": null,
      "outputs": []
    },
    {
      "cell_type": "code",
      "source": [
        "df_date_std = df_UVI_SZ_SC.groupby(['Date', 'Hour']).size().reset_index(name='Count')"
      ],
      "metadata": {
        "id": "mGKWHPUr5XzO"
      },
      "execution_count": null,
      "outputs": []
    },
    {
      "cell_type": "code",
      "source": [
        "df_date_std['Datetime'] = pd.to_datetime(df_date_std['Date'].astype(str) + ' ' + df_date_std['Hour'].astype(str) + ':00:00')"
      ],
      "metadata": {
        "id": "TdQYu9hO5WIf"
      },
      "execution_count": null,
      "outputs": []
    },
    {
      "cell_type": "code",
      "source": [
        "df_date_std.set_index('Datetime', inplace=True)"
      ],
      "metadata": {
        "id": "e7MUFEcC7UFz"
      },
      "execution_count": null,
      "outputs": []
    },
    {
      "cell_type": "markdown",
      "source": [
        "## Erstellen einer Liste mit Zeitstemplen an denen es Messwerte gibt:"
      ],
      "metadata": {
        "id": "a6WzmPa_yzKi"
      }
    },
    {
      "cell_type": "code",
      "source": [
        "df_date = pd.DataFrame(pd.to_datetime(df_UVI_SZ_SC['Datetime']))\n",
        "df_date.set_index('Datetime', inplace=True)"
      ],
      "metadata": {
        "id": "5UZF8nony78O"
      },
      "execution_count": null,
      "outputs": []
    },
    {
      "cell_type": "markdown",
      "source": [
        "## Import der Vorhersagedaten und löschen nicht gebrauchter Einträge:"
      ],
      "metadata": {
        "id": "4fZwJA-GTByt"
      }
    },
    {
      "cell_type": "code",
      "source": [
        "dateiname = 'CSV_Cams_std'\n",
        "df_cams_std = pd.read_csv(pickle_path + dateiname)\n",
        "df_cams_std['Datetime'] = pd.to_datetime(df_cams_std['Datetime'])"
      ],
      "metadata": {
        "id": "5pzdBLEuqsSy"
      },
      "execution_count": null,
      "outputs": []
    },
    {
      "cell_type": "code",
      "source": [
        "# Datetime als Index festlegen\n",
        "df_cams_std.set_index('Datetime', inplace=True)"
      ],
      "metadata": {
        "id": "B4uNPvoBTkhR"
      },
      "execution_count": null,
      "outputs": []
    },
    {
      "cell_type": "code",
      "source": [
        "# Löschen aller nicht relevanten Einträge\n",
        "df_cams_std = df_cams_std[df_cams_std.index.isin(df_date_std.index)]"
      ],
      "metadata": {
        "id": "J_vSdZXXvOU6"
      },
      "execution_count": null,
      "outputs": []
    },
    {
      "cell_type": "markdown",
      "source": [
        "## Löschen nicht gebrauchter Solys Strahlungsdaten\n",
        "Die Strahlungsdaten werden an die UVI-Messdaten angepasst"
      ],
      "metadata": {
        "id": "CK-CCHooyQNj"
      }
    },
    {
      "cell_type": "code",
      "source": [
        "df_Solys_std = pd.merge_asof(df_date, df_Solys, left_index=True, right_index=True, tolerance=pd.Timedelta('1min'))"
      ],
      "metadata": {
        "id": "LrT9xFiUyPH0"
      },
      "execution_count": null,
      "outputs": []
    },
    {
      "cell_type": "code",
      "source": [
        "df_Solys_std"
      ],
      "metadata": {
        "id": "W-104XVK5r-i",
        "outputId": "573fa752-73bc-4525-d704-7f5d79083f12",
        "colab": {
          "base_uri": "https://localhost:8080/",
          "height": 455
        }
      },
      "execution_count": null,
      "outputs": [
        {
          "output_type": "execute_result",
          "data": {
            "text/plain": [
              "                            Glo         Dif  Glo_SPLite         Dir       Temp\n",
              "Datetime                                                                      \n",
              "2022-06-15 07:21:00  554.483333   72.400000  567.525000  853.966667  27.258333\n",
              "2022-06-15 07:23:00  557.791667   73.475000  571.233333  851.991667  28.058333\n",
              "2022-06-15 07:25:00  561.708333   74.800000  574.766667  850.225000  28.616667\n",
              "2022-06-15 07:27:00  564.783333   75.383333  577.875000  848.400000  26.791667\n",
              "2022-06-15 07:29:00  571.850000   76.233333  584.958333  852.433333  28.600000\n",
              "...                         ...         ...         ...         ...        ...\n",
              "2023-08-19 05:48:00  232.516667  148.866667  251.808333  419.441667  24.183333\n",
              "2023-08-19 05:50:00  233.466667  145.483333  252.866667  426.958333  24.375000\n",
              "2023-08-19 05:52:00  215.358333  140.125000  232.941667  356.283333  24.550000\n",
              "2023-08-19 05:54:00  215.333333  134.258333  233.008333  372.275000  24.800000\n",
              "2023-08-19 05:56:00  169.541667  128.416667  182.391667  191.358333  24.633333\n",
              "\n",
              "[120028 rows x 5 columns]"
            ],
            "text/html": [
              "\n",
              "  <div id=\"df-a200b4dc-6119-4d62-93f9-bc1b7d1d7222\" class=\"colab-df-container\">\n",
              "    <div>\n",
              "<style scoped>\n",
              "    .dataframe tbody tr th:only-of-type {\n",
              "        vertical-align: middle;\n",
              "    }\n",
              "\n",
              "    .dataframe tbody tr th {\n",
              "        vertical-align: top;\n",
              "    }\n",
              "\n",
              "    .dataframe thead th {\n",
              "        text-align: right;\n",
              "    }\n",
              "</style>\n",
              "<table border=\"1\" class=\"dataframe\">\n",
              "  <thead>\n",
              "    <tr style=\"text-align: right;\">\n",
              "      <th></th>\n",
              "      <th>Glo</th>\n",
              "      <th>Dif</th>\n",
              "      <th>Glo_SPLite</th>\n",
              "      <th>Dir</th>\n",
              "      <th>Temp</th>\n",
              "    </tr>\n",
              "    <tr>\n",
              "      <th>Datetime</th>\n",
              "      <th></th>\n",
              "      <th></th>\n",
              "      <th></th>\n",
              "      <th></th>\n",
              "      <th></th>\n",
              "    </tr>\n",
              "  </thead>\n",
              "  <tbody>\n",
              "    <tr>\n",
              "      <th>2022-06-15 07:21:00</th>\n",
              "      <td>554.483333</td>\n",
              "      <td>72.400000</td>\n",
              "      <td>567.525000</td>\n",
              "      <td>853.966667</td>\n",
              "      <td>27.258333</td>\n",
              "    </tr>\n",
              "    <tr>\n",
              "      <th>2022-06-15 07:23:00</th>\n",
              "      <td>557.791667</td>\n",
              "      <td>73.475000</td>\n",
              "      <td>571.233333</td>\n",
              "      <td>851.991667</td>\n",
              "      <td>28.058333</td>\n",
              "    </tr>\n",
              "    <tr>\n",
              "      <th>2022-06-15 07:25:00</th>\n",
              "      <td>561.708333</td>\n",
              "      <td>74.800000</td>\n",
              "      <td>574.766667</td>\n",
              "      <td>850.225000</td>\n",
              "      <td>28.616667</td>\n",
              "    </tr>\n",
              "    <tr>\n",
              "      <th>2022-06-15 07:27:00</th>\n",
              "      <td>564.783333</td>\n",
              "      <td>75.383333</td>\n",
              "      <td>577.875000</td>\n",
              "      <td>848.400000</td>\n",
              "      <td>26.791667</td>\n",
              "    </tr>\n",
              "    <tr>\n",
              "      <th>2022-06-15 07:29:00</th>\n",
              "      <td>571.850000</td>\n",
              "      <td>76.233333</td>\n",
              "      <td>584.958333</td>\n",
              "      <td>852.433333</td>\n",
              "      <td>28.600000</td>\n",
              "    </tr>\n",
              "    <tr>\n",
              "      <th>...</th>\n",
              "      <td>...</td>\n",
              "      <td>...</td>\n",
              "      <td>...</td>\n",
              "      <td>...</td>\n",
              "      <td>...</td>\n",
              "    </tr>\n",
              "    <tr>\n",
              "      <th>2023-08-19 05:48:00</th>\n",
              "      <td>232.516667</td>\n",
              "      <td>148.866667</td>\n",
              "      <td>251.808333</td>\n",
              "      <td>419.441667</td>\n",
              "      <td>24.183333</td>\n",
              "    </tr>\n",
              "    <tr>\n",
              "      <th>2023-08-19 05:50:00</th>\n",
              "      <td>233.466667</td>\n",
              "      <td>145.483333</td>\n",
              "      <td>252.866667</td>\n",
              "      <td>426.958333</td>\n",
              "      <td>24.375000</td>\n",
              "    </tr>\n",
              "    <tr>\n",
              "      <th>2023-08-19 05:52:00</th>\n",
              "      <td>215.358333</td>\n",
              "      <td>140.125000</td>\n",
              "      <td>232.941667</td>\n",
              "      <td>356.283333</td>\n",
              "      <td>24.550000</td>\n",
              "    </tr>\n",
              "    <tr>\n",
              "      <th>2023-08-19 05:54:00</th>\n",
              "      <td>215.333333</td>\n",
              "      <td>134.258333</td>\n",
              "      <td>233.008333</td>\n",
              "      <td>372.275000</td>\n",
              "      <td>24.800000</td>\n",
              "    </tr>\n",
              "    <tr>\n",
              "      <th>2023-08-19 05:56:00</th>\n",
              "      <td>169.541667</td>\n",
              "      <td>128.416667</td>\n",
              "      <td>182.391667</td>\n",
              "      <td>191.358333</td>\n",
              "      <td>24.633333</td>\n",
              "    </tr>\n",
              "  </tbody>\n",
              "</table>\n",
              "<p>120028 rows × 5 columns</p>\n",
              "</div>\n",
              "    <div class=\"colab-df-buttons\">\n",
              "\n",
              "  <div class=\"colab-df-container\">\n",
              "    <button class=\"colab-df-convert\" onclick=\"convertToInteractive('df-a200b4dc-6119-4d62-93f9-bc1b7d1d7222')\"\n",
              "            title=\"Convert this dataframe to an interactive table.\"\n",
              "            style=\"display:none;\">\n",
              "\n",
              "  <svg xmlns=\"http://www.w3.org/2000/svg\" height=\"24px\" viewBox=\"0 -960 960 960\">\n",
              "    <path d=\"M120-120v-720h720v720H120Zm60-500h600v-160H180v160Zm220 220h160v-160H400v160Zm0 220h160v-160H400v160ZM180-400h160v-160H180v160Zm440 0h160v-160H620v160ZM180-180h160v-160H180v160Zm440 0h160v-160H620v160Z\"/>\n",
              "  </svg>\n",
              "    </button>\n",
              "\n",
              "  <style>\n",
              "    .colab-df-container {\n",
              "      display:flex;\n",
              "      gap: 12px;\n",
              "    }\n",
              "\n",
              "    .colab-df-convert {\n",
              "      background-color: #E8F0FE;\n",
              "      border: none;\n",
              "      border-radius: 50%;\n",
              "      cursor: pointer;\n",
              "      display: none;\n",
              "      fill: #1967D2;\n",
              "      height: 32px;\n",
              "      padding: 0 0 0 0;\n",
              "      width: 32px;\n",
              "    }\n",
              "\n",
              "    .colab-df-convert:hover {\n",
              "      background-color: #E2EBFA;\n",
              "      box-shadow: 0px 1px 2px rgba(60, 64, 67, 0.3), 0px 1px 3px 1px rgba(60, 64, 67, 0.15);\n",
              "      fill: #174EA6;\n",
              "    }\n",
              "\n",
              "    .colab-df-buttons div {\n",
              "      margin-bottom: 4px;\n",
              "    }\n",
              "\n",
              "    [theme=dark] .colab-df-convert {\n",
              "      background-color: #3B4455;\n",
              "      fill: #D2E3FC;\n",
              "    }\n",
              "\n",
              "    [theme=dark] .colab-df-convert:hover {\n",
              "      background-color: #434B5C;\n",
              "      box-shadow: 0px 1px 3px 1px rgba(0, 0, 0, 0.15);\n",
              "      filter: drop-shadow(0px 1px 2px rgba(0, 0, 0, 0.3));\n",
              "      fill: #FFFFFF;\n",
              "    }\n",
              "  </style>\n",
              "\n",
              "    <script>\n",
              "      const buttonEl =\n",
              "        document.querySelector('#df-a200b4dc-6119-4d62-93f9-bc1b7d1d7222 button.colab-df-convert');\n",
              "      buttonEl.style.display =\n",
              "        google.colab.kernel.accessAllowed ? 'block' : 'none';\n",
              "\n",
              "      async function convertToInteractive(key) {\n",
              "        const element = document.querySelector('#df-a200b4dc-6119-4d62-93f9-bc1b7d1d7222');\n",
              "        const dataTable =\n",
              "          await google.colab.kernel.invokeFunction('convertToInteractive',\n",
              "                                                    [key], {});\n",
              "        if (!dataTable) return;\n",
              "\n",
              "        const docLinkHtml = 'Like what you see? Visit the ' +\n",
              "          '<a target=\"_blank\" href=https://colab.research.google.com/notebooks/data_table.ipynb>data table notebook</a>'\n",
              "          + ' to learn more about interactive tables.';\n",
              "        element.innerHTML = '';\n",
              "        dataTable['output_type'] = 'display_data';\n",
              "        await google.colab.output.renderOutput(dataTable, element);\n",
              "        const docLink = document.createElement('div');\n",
              "        docLink.innerHTML = docLinkHtml;\n",
              "        element.appendChild(docLink);\n",
              "      }\n",
              "    </script>\n",
              "  </div>\n",
              "\n",
              "\n",
              "<div id=\"df-3cdedb0b-7a9b-4e0f-a79d-3d23d3193170\">\n",
              "  <button class=\"colab-df-quickchart\" onclick=\"quickchart('df-3cdedb0b-7a9b-4e0f-a79d-3d23d3193170')\"\n",
              "            title=\"Suggest charts\"\n",
              "            style=\"display:none;\">\n",
              "\n",
              "<svg xmlns=\"http://www.w3.org/2000/svg\" height=\"24px\"viewBox=\"0 0 24 24\"\n",
              "     width=\"24px\">\n",
              "    <g>\n",
              "        <path d=\"M19 3H5c-1.1 0-2 .9-2 2v14c0 1.1.9 2 2 2h14c1.1 0 2-.9 2-2V5c0-1.1-.9-2-2-2zM9 17H7v-7h2v7zm4 0h-2V7h2v10zm4 0h-2v-4h2v4z\"/>\n",
              "    </g>\n",
              "</svg>\n",
              "  </button>\n",
              "\n",
              "<style>\n",
              "  .colab-df-quickchart {\n",
              "      --bg-color: #E8F0FE;\n",
              "      --fill-color: #1967D2;\n",
              "      --hover-bg-color: #E2EBFA;\n",
              "      --hover-fill-color: #174EA6;\n",
              "      --disabled-fill-color: #AAA;\n",
              "      --disabled-bg-color: #DDD;\n",
              "  }\n",
              "\n",
              "  [theme=dark] .colab-df-quickchart {\n",
              "      --bg-color: #3B4455;\n",
              "      --fill-color: #D2E3FC;\n",
              "      --hover-bg-color: #434B5C;\n",
              "      --hover-fill-color: #FFFFFF;\n",
              "      --disabled-bg-color: #3B4455;\n",
              "      --disabled-fill-color: #666;\n",
              "  }\n",
              "\n",
              "  .colab-df-quickchart {\n",
              "    background-color: var(--bg-color);\n",
              "    border: none;\n",
              "    border-radius: 50%;\n",
              "    cursor: pointer;\n",
              "    display: none;\n",
              "    fill: var(--fill-color);\n",
              "    height: 32px;\n",
              "    padding: 0;\n",
              "    width: 32px;\n",
              "  }\n",
              "\n",
              "  .colab-df-quickchart:hover {\n",
              "    background-color: var(--hover-bg-color);\n",
              "    box-shadow: 0 1px 2px rgba(60, 64, 67, 0.3), 0 1px 3px 1px rgba(60, 64, 67, 0.15);\n",
              "    fill: var(--button-hover-fill-color);\n",
              "  }\n",
              "\n",
              "  .colab-df-quickchart-complete:disabled,\n",
              "  .colab-df-quickchart-complete:disabled:hover {\n",
              "    background-color: var(--disabled-bg-color);\n",
              "    fill: var(--disabled-fill-color);\n",
              "    box-shadow: none;\n",
              "  }\n",
              "\n",
              "  .colab-df-spinner {\n",
              "    border: 2px solid var(--fill-color);\n",
              "    border-color: transparent;\n",
              "    border-bottom-color: var(--fill-color);\n",
              "    animation:\n",
              "      spin 1s steps(1) infinite;\n",
              "  }\n",
              "\n",
              "  @keyframes spin {\n",
              "    0% {\n",
              "      border-color: transparent;\n",
              "      border-bottom-color: var(--fill-color);\n",
              "      border-left-color: var(--fill-color);\n",
              "    }\n",
              "    20% {\n",
              "      border-color: transparent;\n",
              "      border-left-color: var(--fill-color);\n",
              "      border-top-color: var(--fill-color);\n",
              "    }\n",
              "    30% {\n",
              "      border-color: transparent;\n",
              "      border-left-color: var(--fill-color);\n",
              "      border-top-color: var(--fill-color);\n",
              "      border-right-color: var(--fill-color);\n",
              "    }\n",
              "    40% {\n",
              "      border-color: transparent;\n",
              "      border-right-color: var(--fill-color);\n",
              "      border-top-color: var(--fill-color);\n",
              "    }\n",
              "    60% {\n",
              "      border-color: transparent;\n",
              "      border-right-color: var(--fill-color);\n",
              "    }\n",
              "    80% {\n",
              "      border-color: transparent;\n",
              "      border-right-color: var(--fill-color);\n",
              "      border-bottom-color: var(--fill-color);\n",
              "    }\n",
              "    90% {\n",
              "      border-color: transparent;\n",
              "      border-bottom-color: var(--fill-color);\n",
              "    }\n",
              "  }\n",
              "</style>\n",
              "\n",
              "  <script>\n",
              "    async function quickchart(key) {\n",
              "      const quickchartButtonEl =\n",
              "        document.querySelector('#' + key + ' button');\n",
              "      quickchartButtonEl.disabled = true;  // To prevent multiple clicks.\n",
              "      quickchartButtonEl.classList.add('colab-df-spinner');\n",
              "      try {\n",
              "        const charts = await google.colab.kernel.invokeFunction(\n",
              "            'suggestCharts', [key], {});\n",
              "      } catch (error) {\n",
              "        console.error('Error during call to suggestCharts:', error);\n",
              "      }\n",
              "      quickchartButtonEl.classList.remove('colab-df-spinner');\n",
              "      quickchartButtonEl.classList.add('colab-df-quickchart-complete');\n",
              "    }\n",
              "    (() => {\n",
              "      let quickchartButtonEl =\n",
              "        document.querySelector('#df-3cdedb0b-7a9b-4e0f-a79d-3d23d3193170 button');\n",
              "      quickchartButtonEl.style.display =\n",
              "        google.colab.kernel.accessAllowed ? 'block' : 'none';\n",
              "    })();\n",
              "  </script>\n",
              "</div>\n",
              "    </div>\n",
              "  </div>\n"
            ]
          },
          "metadata": {},
          "execution_count": 59
        }
      ]
    },
    {
      "cell_type": "markdown",
      "source": [
        "## Abspeichern des DataFrames als CSV"
      ],
      "metadata": {
        "id": "fgusUV49Sv8-"
      }
    },
    {
      "cell_type": "code",
      "source": [
        "df_UVI_SZ_SC.isnull().sum()"
      ],
      "metadata": {
        "id": "4WO7uXJFsPlP",
        "outputId": "e8979589-6fd8-4baa-9d00-93267c86b5bf",
        "colab": {
          "base_uri": "https://localhost:8080/"
        }
      },
      "execution_count": null,
      "outputs": [
        {
          "output_type": "execute_result",
          "data": {
            "text/plain": [
              "Messzeitpunkt    0\n",
              "Uhrzeit          0\n",
              "Datum            0\n",
              "Datetime         0\n",
              "erythem          2\n",
              "UVI              2\n",
              "DiffGreater2     0\n",
              "SZA              0\n",
              "time_sin         0\n",
              "time_cos         0\n",
              "date_sin         0\n",
              "date_cos         0\n",
              "Date             0\n",
              "Hour             0\n",
              "dtype: int64"
            ]
          },
          "metadata": {},
          "execution_count": 60
        }
      ]
    },
    {
      "cell_type": "code",
      "source": [
        "# Irradiance metrics over time\n",
        "df_UVI_SZ_SC[['UVI']].plot()\n",
        "plt.title('UVI über die Zeit');"
      ],
      "metadata": {
        "id": "yQVN-oWMjof_",
        "outputId": "14817faf-bfe4-453f-94b5-ea55a62d6af0",
        "colab": {
          "base_uri": "https://localhost:8080/",
          "height": 452
        }
      },
      "execution_count": null,
      "outputs": [
        {
          "output_type": "display_data",
          "data": {
            "text/plain": [
              "<Figure size 640x480 with 1 Axes>"
            ],
            "image/png": "[encoded data removed]"
          },
          "metadata": {}
        }
      ]
    },
    {
      "cell_type": "code",
      "source": [
        "def export_dataframes_to_csv(df1, df2, df3, file1_name, file2_name, file3_name, folder_name):\n",
        "\n",
        "    try:\n",
        "        # Exportiere den ersten DataFrame in eine CSV-Datei\n",
        "        df1.to_csv(folder_name + file1_name)\n",
        "        print(f'DataFrame 1 wurde erfolgreich in \"{file1_name}\" exportiert.')\n",
        "\n",
        "        # Exportiere den zweiten DataFrame in eine CSV-Datei\n",
        "        df2.to_csv(folder_name + file2_name)\n",
        "        print(f'DataFrame 2 wurde erfolgreich in \"{file2_name}\" exportiert.')\n",
        "\n",
        "        # Exportiere den dritten DataFrame in eine CSV-Datei\n",
        "        df3.to_csv(folder_name + file3_name)\n",
        "        print(f'DataFrame 3 wurde erfolgreich in \"{file3_name}\" exportiert.')\n",
        "\n",
        "    except Exception as e:\n",
        "        print(f'Fehler beim Export der DataFrames: {str(e)}')"
      ],
      "metadata": {
        "id": "BvYSzsdmqjtc"
      },
      "execution_count": null,
      "outputs": []
    },
    {
      "cell_type": "code",
      "source": [
        "export_dataframes_to_csv(df_UVI_SZ_SC, df_Solys_std, df_cams_std, 'UVI_Messdaten.csv', 'Solys_Messdaten.csv', 'Vorhersage.csv', save_folder)"
      ],
      "metadata": {
        "id": "VwaVNp7B4fxv",
        "outputId": "9ca82da2-86db-444e-deb9-cc22ed3e5209",
        "colab": {
          "base_uri": "https://localhost:8080/"
        }
      },
      "execution_count": null,
      "outputs": [
        {
          "output_type": "stream",
          "name": "stdout",
          "text": [
            "DataFrame 1 wurde erfolgreich in \"UVI_Messdaten.csv\" exportiert.\n",
            "DataFrame 2 wurde erfolgreich in \"Solys_Messdaten.csv\" exportiert.\n",
            "DataFrame 3 wurde erfolgreich in \"Vorhersage.csv\" exportiert.\n"
          ]
        }
      ]
    },
    {
      "cell_type": "code",
      "source": [],
      "metadata": {
        "id": "5fK_TPL4CHc0"
      },
      "execution_count": null,
      "outputs": []
    }
  ]
}
