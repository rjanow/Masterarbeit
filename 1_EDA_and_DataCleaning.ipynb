{
  "nbformat": 4,
  "nbformat_minor": 0,
  "metadata": {
    "colab": {
      "provenance": [],
      "authorship_tag": "ABX9TyOzubZJewh/JcdaD4UikrtE",
      "include_colab_link": true
    },
    "kernelspec": {
      "name": "python3",
      "display_name": "Python 3"
    },
    "language_info": {
      "name": "python"
    }
  },
  "cells": [
    {
      "cell_type": "markdown",
      "metadata": {
        "id": "view-in-github",
        "colab_type": "text"
      },
      "source": [
        "<a href=\"https://colab.research.google.com/github/rjanow/Masterarbeit/blob/main/1_EDA_and_DataCleaning.ipynb\" target=\"_parent\"><img src=\"https://colab.research.google.com/assets/colab-badge.svg\" alt=\"Open In Colab\"/></a>"
      ]
    },
    {
      "cell_type": "markdown",
      "source": [
        "## Predicting UVI with LSTMs\n",
        "\n",
        "[Notebook 1: EDA and Cleaning](./1_EDA and Cleaning.ipynb)\n",
        "\n",
        "[Notebook 2: Modeling and Predictions](./2_Modeling and Predictions.ipynb)\n",
        "\n",
        "[Notebook 3: Technical Report](./3_Technical_Report.ipynb)"
      ],
      "metadata": {
        "id": "Pya7NE9rw_L7"
      }
    },
    {
      "cell_type": "markdown",
      "source": [
        "In deiesem Notebook werden die aufgezeichenten UVI-Messungen weiter verarbeitet und für das Training vorbereitet.\n",
        "\n",
        "\n",
        "- Einlesen der UVI-Werte\n",
        "- Ersetzen von fehlenden Messwerten\n",
        "\n",
        "- Einlesen der weiteren Inputwerte\n",
        "- EDA (exploratory data analysis)"
      ],
      "metadata": {
        "id": "CT_W0-FVw943"
      }
    },
    {
      "cell_type": "code",
      "source": [
        "## import modules\n",
        "\n",
        "import numpy as np\n",
        "import pandas as pd\n",
        "import matplotlib.pyplot as plt\n",
        "import matplotlib.dates as mdates\n",
        "\n",
        "from datetime import datetime\n",
        "from datetime import timedelta\n",
        "\n",
        "import matplotlib\n",
        "import seaborn as sns\n",
        "\n",
        "from google.colab import drive"
      ],
      "metadata": {
        "id": "PkdOG-2sz6ni"
      },
      "execution_count": null,
      "outputs": []
    },
    {
      "cell_type": "code",
      "source": [
        "\n",
        "# Verbinden mit der Google-Drive\n",
        "drive.mount('/content/drive')"
      ],
      "metadata": {
        "id": "1SZflPUFXQMy",
        "colab": {
          "base_uri": "https://localhost:8080/"
        },
        "outputId": "ada36d04-c1fe-4c3a-8548-795f59c078e0"
      },
      "execution_count": null,
      "outputs": [
        {
          "output_type": "stream",
          "name": "stdout",
          "text": [
            "Mounted at /content/drive\n"
          ]
        }
      ]
    },
    {
      "cell_type": "code",
      "source": [
        "# Pfad zur CSV-Datei auf Google Drive\n",
        "drive_path = '/content/drive/My Drive/Colab_Notebooks/CSV_UVI/'"
      ],
      "metadata": {
        "id": "9Y0wG7A1TZGS"
      },
      "execution_count": null,
      "outputs": []
    },
    {
      "cell_type": "markdown",
      "source": [
        "# Import der Messdaten\n",
        "\n",
        "Die Messdaten sind in einer CSV-Datei gespeichert, diese muss importiert werden."
      ],
      "metadata": {
        "id": "xQ--fkAQ0mTI"
      }
    },
    {
      "cell_type": "code",
      "source": [
        "## Code zum Import der Messdaten\n",
        "file_list = ['22.06', '22.07']  # Hier wird angegeben, welche Monate importiert werden sollen\n",
        "dataframes = []\n",
        "df_UVI_combined = []\n",
        "\n",
        "for filename in file_list:\n",
        "    file_path = drive_path + filename\n",
        "    df_import = pd.read_csv(file_path)\n",
        "    dataframes.append(df_import)\n",
        "\n",
        "df_UVI_combined = pd.concat(dataframes, ignore_index=True)\n",
        "df_UVI_combined['Datetime'] = pd.to_datetime(df_UVI_combined['Datetime'])"
      ],
      "metadata": {
        "id": "oBIFSSvi1Dox"
      },
      "execution_count": null,
      "outputs": []
    },
    {
      "cell_type": "code",
      "source": [
        "# Spaltennamen des Dataframe ausgeben\n",
        "df_UVI_combined.columns\n",
        "# Dataframe ausgeben\n",
        "df_UVI_combined"
      ],
      "metadata": {
        "id": "1zmKoxHXuzVp",
        "outputId": "10179585-f219-4957-c4a0-e81739a57f98",
        "colab": {
          "base_uri": "https://localhost:8080/"
        }
      },
      "execution_count": null,
      "outputs": [
        {
          "output_type": "execute_result",
          "data": {
            "text/plain": [
              "Index(['Datetime', 'Datum', 'Uhrzeit', 'Messzeitpunkt', 'erythem', 'UVI'], dtype='object')"
            ]
          },
          "metadata": {},
          "execution_count": 5
        }
      ]
    },
    {
      "cell_type": "markdown",
      "source": [
        "# Erstes Plotten der Messdaten"
      ],
      "metadata": {
        "id": "cB4w7rrYlHmI"
      }
    },
    {
      "cell_type": "code",
      "source": [
        "# Funktion zum Plotten aller Messdaten\n",
        "def plot_data_per_day(dataframe, date_column, value_column, x_column, dates, save_path):\n",
        "    for date in dates:\n",
        "        subset = dataframe[dataframe[date_column] == date]\n",
        "\n",
        "        plt.figure(figsize=(10, 6))\n",
        "        ax = sns.lineplot(data=subset, x=x_column, y=value_column)\n",
        "\n",
        "        #interval = 2  # Intervall in Stunden\n",
        "        #ax.xaxis.set_major_locator(mdates.HourLocator(interval=interval))\n",
        "\n",
        "        plt.xticks(rotation=45)\n",
        "        plt.title(f'Verlauf des UVI für den {date}')\n",
        "        plt.xlabel('Uhrzeit (UTC)')\n",
        "        plt.ylabel('UVI')\n",
        "        plt.tight_layout()\n",
        "        # plt.show()\n",
        "\n",
        "        plot_filename = f'{date}.png'\n",
        "        plot_filepath = save_path + plot_filename\n",
        "        plt.savefig(plot_filepath)  # Plot speichern\n",
        "        plt.close()  # Plot schließen, um Ressourcen freizugeben"
      ],
      "metadata": {
        "id": "4feyJU9GiHj6"
      },
      "execution_count": null,
      "outputs": []
    },
    {
      "cell_type": "code",
      "source": [
        "# Funktion zum Erzeugen einer Liste mit Daten die geplottet werden sollen\n",
        "def generate_dates_to_plot(start_date, end_date):\n",
        "    date_range = []\n",
        "    current_date = start_date\n",
        "\n",
        "    while current_date <= end_date:\n",
        "        date_range.append(current_date.strftime('%Y-%m-%d'))\n",
        "        current_date += timedelta(days=1)\n",
        "\n",
        "    return date_range"
      ],
      "metadata": {
        "id": "y07dtmqSv4cD"
      },
      "execution_count": null,
      "outputs": []
    },
    {
      "cell_type": "code",
      "source": [
        "# Erzeugen einer Liste mit Daten\n",
        "start_date = datetime(2022, 6, 15)\n",
        "end_date = datetime(2022, 6, 15)\n",
        "\n",
        "dates_to_plot = generate_dates_to_plot(start_date, end_date)"
      ],
      "metadata": {
        "id": "d5NXoBJkvoAR"
      },
      "execution_count": null,
      "outputs": []
    },
    {
      "cell_type": "code",
      "source": [
        "# Speicherort für die Plots der täglichen Messdaten\n",
        "daily_plots_path = '/content/drive/My Drive/Colab_Notebooks/plot_daily_UVI/'"
      ],
      "metadata": {
        "id": "Zqo91-zqkJlj"
      },
      "execution_count": null,
      "outputs": []
    },
    {
      "cell_type": "code",
      "source": [
        "# Funktion zum Plotten der Messdaten aufrufen\n",
        "plot_data_per_day(df_UVI_combined, 'Datum', 'UVI', 'Uhrzeit', dates_to_plot, daily_plots_path)"
      ],
      "metadata": {
        "id": "bP6wxGwZuUDP"
      },
      "execution_count": null,
      "outputs": []
    },
    {
      "cell_type": "markdown",
      "source": [
        "# Bereinigen der Messdaten\n",
        "\n",
        "Hier wird erklärt, was zum Bereinigen der Messdaten getan werden muss.\n",
        "\n",
        "- Fehlende Messtage müssen ersetzt werden\n",
        "- Outliers müssen ersetzt werden"
      ],
      "metadata": {
        "id": "D0HkvdeS1C2o"
      }
    },
    {
      "cell_type": "markdown",
      "source": [
        "**Hier wird geprüft, ob die Messwerte zusammenhängend sind:**"
      ],
      "metadata": {
        "id": "_3NzWoAvWWlw"
      }
    },
    {
      "cell_type": "code",
      "source": [
        "def insert_missing_rows(df):\n",
        "    # Sortieren Sie den DataFrame nach 'Datetime'\n",
        "    df.sort_values(by='Datetime', inplace=True)\n",
        "\n",
        "    # Initialisieren Sie eine leere Liste, um die Zeilen mit fehlenden Daten einzufügen\n",
        "    rows_to_insert = []\n",
        "\n",
        "    # Gruppieren Sie den DataFrame nach 'Datum'\n",
        "    grouped = df.groupby('Datum')\n",
        "\n",
        "    for date, group in grouped:\n",
        "        # Sortieren Sie die Gruppe nach 'Datetime'\n",
        "        group.sort_values(by='Datetime', inplace=True)\n",
        "\n",
        "        # Iterieren Sie durch die Zeilen in der Gruppe\n",
        "        for i in range(1, len(group)):\n",
        "            current_time = group.iloc[i]['Datetime']\n",
        "            prev_time = group.iloc[i - 1]['Datetime']\n",
        "            time_diff = current_time - prev_time\n",
        "\n",
        "            if time_diff > timedelta(minutes=2):\n",
        "                while prev_time + timedelta(minutes=2) < current_time:\n",
        "                    prev_time += timedelta(minutes=2)\n",
        "                    new_row = {\n",
        "                        'Datetime': prev_time,\n",
        "                        'Datum': date,\n",
        "                        'Uhrzeit': prev_time.time(),\n",
        "                        'Messzeitpunkt': (prev_time - prev_time.replace(hour=0, minute=0, second=0, microsecond=0)).total_seconds(),\n",
        "                        'erythem': 0,\n",
        "                        'UVI': 0,\n",
        "                        'DiffGreater2': 1,\n",
        "                    }\n",
        "                    rows_to_insert.append(new_row)\n",
        "\n",
        "    # Fügen Sie die fehlenden Zeilen in den DataFrame ein\n",
        "    if rows_to_insert:\n",
        "        df = df.append(rows_to_insert, ignore_index=True)\n",
        "\n",
        "    # Sortieren Sie den DataFrame wieder nach 'Datetime'\n",
        "    df.sort_values(by='Datetime', inplace=True)\n",
        "    df = df.reset_index(drop = True)\n",
        "\n",
        "    return df"
      ],
      "metadata": {
        "id": "WRBAj8ZtBLVF"
      },
      "execution_count": null,
      "outputs": []
    },
    {
      "cell_type": "code",
      "source": [
        "df_UVI_combined_WMisRows = insert_missing_rows(df_UVI_combined)"
      ],
      "metadata": {
        "id": "rqr4oMiBFyCu",
        "outputId": "65c4c2e5-e703-4316-8ac9-0423aaf83659",
        "colab": {
          "base_uri": "https://localhost:8080/"
        }
      },
      "execution_count": null,
      "outputs": [
        {
          "output_type": "stream",
          "name": "stderr",
          "text": [
            "<ipython-input-149-9b5fad42d66d>:39: FutureWarning: The frame.append method is deprecated and will be removed from pandas in a future version. Use pandas.concat instead.\n",
            "  df = df.append(rows_to_insert, ignore_index=True)\n"
          ]
        }
      ]
    },
    {
      "cell_type": "code",
      "source": [
        "df_UVI_combined_WMisRows"
      ],
      "metadata": {
        "id": "ovT-bHlKvTAD"
      },
      "execution_count": null,
      "outputs": []
    },
    {
      "cell_type": "markdown",
      "source": [
        "Nach Datum gruppieren:"
      ],
      "metadata": {
        "id": "H4BjgrjcDuhh"
      }
    },
    {
      "cell_type": "code",
      "source": [
        "gruppiert_nach_datum = df_UVI_combined.groupby('Datum')"
      ],
      "metadata": {
        "id": "R6du57utDtzg"
      },
      "execution_count": null,
      "outputs": []
    },
    {
      "cell_type": "markdown",
      "source": [
        "# Plotten von Zusammenhängen in den Messdaten"
      ],
      "metadata": {
        "id": "SJ9cwEpV1ZfC"
      }
    },
    {
      "cell_type": "code",
      "source": [
        "## Code zum Plotten von Zusammenhängen in den Messdaten"
      ],
      "metadata": {
        "id": "t1Cj6_bc1709"
      },
      "execution_count": null,
      "outputs": []
    },
    {
      "cell_type": "markdown",
      "source": [
        "# Daten zu \"pickel\" speichern\n",
        "\n",
        "https://docs.python.org/3/library/pickle.html\n",
        "\n",
        " - The pickle module implements binary protocols for serializing and de-serializing a *Python object structure*. “Pickling” is the process whereby a *Python object hierarchy is converted into a byte stream*, and “unpickling” is the inverse operation, whereby a byte stream (from a binary file or bytes-like object) is converted back into an object hierarchy. Pickling (and unpickling) is alternatively known as “serialization”, “marshalling,” 1 or “flattening”; however, to avoid confusion, the terms used here are “pickling” and “unpickling\"."
      ],
      "metadata": {
        "id": "KyI3tqBT2A8x"
      }
    },
    {
      "cell_type": "code",
      "source": [
        "## Code um Messdaten zu pickel zu speichern"
      ],
      "metadata": {
        "id": "PfVyQKsj2QpD"
      },
      "execution_count": null,
      "outputs": []
    },
    {
      "cell_type": "code",
      "source": [],
      "metadata": {
        "id": "rvEC6j0-_O00"
      },
      "execution_count": null,
      "outputs": []
    }
  ]
}