{
  "nbformat": 4,
  "nbformat_minor": 0,
  "metadata": {
    "colab": {
      "provenance": [],
      "authorship_tag": "ABX9TyPwRIyXco/BeQqC5X6pYrX/",
      "include_colab_link": true
    },
    "kernelspec": {
      "name": "python3",
      "display_name": "Python 3"
    },
    "language_info": {
      "name": "python"
    }
  },
  "cells": [
    {
      "cell_type": "markdown",
      "metadata": {
        "id": "view-in-github",
        "colab_type": "text"
      },
      "source": [
        "<a href=\"https://colab.research.google.com/github/rjanow/Masterarbeit/blob/main/1_EDA_and_DataCleaning.ipynb\" target=\"_parent\"><img src=\"https://colab.research.google.com/assets/colab-badge.svg\" alt=\"Open In Colab\"/></a>"
      ]
    },
    {
      "cell_type": "markdown",
      "source": [
        "## Predicting UVI with LSTMs\n",
        "\n",
        "[Notebook 1: EDA and Cleaning](./1_EDA and Cleaning.ipynb)\n",
        "\n",
        "[Notebook 2: Modeling and Predictions](./2_Modeling and Predictions.ipynb)\n",
        "\n",
        "[Notebook 3: Technical Report](./3_Technical_Report.ipynb)"
      ],
      "metadata": {
        "id": "Pya7NE9rw_L7"
      }
    },
    {
      "cell_type": "markdown",
      "source": [
        "This notebook explores raw UVI-data from the BTS2048-UV-WP spectroradiometer and prepares it for modeling.\n",
        "\n",
        "\n",
        "- Read in UVI-data\n",
        "- Negative values and unnecessary features\n",
        "- Plot basic relationships\n",
        "- EDA (exploratory data analysis)\n",
        "- cleaning"
      ],
      "metadata": {
        "id": "CT_W0-FVw943"
      }
    },
    {
      "cell_type": "code",
      "source": [
        "## import modules\n",
        "\n",
        "import numpy as np\n",
        "import pandas as pd\n",
        "import matplotlib.pyplot as plt\n",
        "\n",
        "from datetime import datetime\n",
        "from datetime import timedelta\n",
        "\n",
        "import matplotlib\n",
        "import seaborn as sns"
      ],
      "metadata": {
        "id": "PkdOG-2sz6ni"
      },
      "execution_count": null,
      "outputs": []
    },
    {
      "cell_type": "markdown",
      "source": [
        "# Import der Messdaten\n",
        "\n",
        "Die Messdaten sind in einer CSV-Datei gespeichert, diese muss importiert werden."
      ],
      "metadata": {
        "id": "xQ--fkAQ0mTI"
      }
    },
    {
      "cell_type": "code",
      "source": [
        "## Code zum Import der Messdaten"
      ],
      "metadata": {
        "id": "oBIFSSvi1Dox"
      },
      "execution_count": null,
      "outputs": []
    },
    {
      "cell_type": "markdown",
      "source": [
        "# Bereinigen der Messdaten\n",
        "\n",
        "Hier wird erklärt, was zum Bereinigen der Messdaten getan werden muss.\n",
        "\n",
        "- Fehlende Messtage müssen ersetzt werden\n",
        "- Outliers müssen ersetzt werden"
      ],
      "metadata": {
        "id": "D0HkvdeS1C2o"
      }
    },
    {
      "cell_type": "code",
      "source": [
        "## Code zum Bereinigen der Messdaten"
      ],
      "metadata": {
        "id": "ipp3_ZWB1VwT"
      },
      "execution_count": null,
      "outputs": []
    },
    {
      "cell_type": "markdown",
      "source": [
        "# Plotten von Zusammenhängen in den Messdaten"
      ],
      "metadata": {
        "id": "SJ9cwEpV1ZfC"
      }
    },
    {
      "cell_type": "code",
      "source": [
        "## Code zum Plotten von Zusammenhängen in den Messdaten"
      ],
      "metadata": {
        "id": "t1Cj6_bc1709"
      },
      "execution_count": null,
      "outputs": []
    },
    {
      "cell_type": "markdown",
      "source": [
        "# Daten zu \"pickel\" speichern\n",
        "\n",
        "https://docs.python.org/3/library/pickle.html\n",
        "\n",
        " - The pickle module implements binary protocols for serializing and de-serializing a *Python object structure*. “Pickling” is the process whereby a *Python object hierarchy is converted into a byte stream*, and “unpickling” is the inverse operation, whereby a byte stream (from a binary file or bytes-like object) is converted back into an object hierarchy. Pickling (and unpickling) is alternatively known as “serialization”, “marshalling,” 1 or “flattening”; however, to avoid confusion, the terms used here are “pickling” and “unpickling\"."
      ],
      "metadata": {
        "id": "KyI3tqBT2A8x"
      }
    },
    {
      "cell_type": "code",
      "source": [
        "## Code um Messdaten zu pickel zu speichern"
      ],
      "metadata": {
        "id": "PfVyQKsj2QpD"
      },
      "execution_count": null,
      "outputs": []
    }
  ]
}