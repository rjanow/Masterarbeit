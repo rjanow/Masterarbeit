{
  "nbformat": 4,
  "nbformat_minor": 0,
  "metadata": {
    "colab": {
      "provenance": [],
      "authorship_tag": "ABX9TyPbFkyBxXB30pvvtbvmUm2y",
      "include_colab_link": true
    },
    "kernelspec": {
      "name": "python3",
      "display_name": "Python 3"
    },
    "language_info": {
      "name": "python"
    }
  },
  "cells": [
    {
      "cell_type": "markdown",
      "metadata": {
        "id": "view-in-github",
        "colab_type": "text"
      },
      "source": [
        "<a href=\"https://colab.research.google.com/github/rjanow/Masterarbeit/blob/main/netCDF4_to_CSV.ipynb\" target=\"_parent\"><img src=\"https://colab.research.google.com/assets/colab-badge.svg\" alt=\"Open In Colab\"/></a>"
      ]
    },
    {
      "cell_type": "markdown",
      "source": [
        "# Script um die netCDF4 Vorhersagewerte in einen Dataframe abzuspeichern"
      ],
      "metadata": {
        "id": "i2B2OHrSGmDT"
      }
    },
    {
      "cell_type": "markdown",
      "source": [
        "## Allgemeine Einstelllungen:"
      ],
      "metadata": {
        "id": "JihVkTkbjiKN"
      }
    },
    {
      "cell_type": "code",
      "execution_count": 1,
      "metadata": {
        "colab": {
          "base_uri": "https://localhost:8080/"
        },
        "id": "-s8BHga-2vKo",
        "outputId": "e57dbd1e-109c-48a7-bfad-5564783fdc4f"
      },
      "outputs": [
        {
          "output_type": "stream",
          "name": "stdout",
          "text": [
            "Requirement already satisfied: netCDF4 in /usr/local/lib/python3.10/dist-packages (1.6.4)\n",
            "Requirement already satisfied: cftime in /usr/local/lib/python3.10/dist-packages (from netCDF4) (1.6.2)\n",
            "Requirement already satisfied: certifi in /usr/local/lib/python3.10/dist-packages (from netCDF4) (2023.7.22)\n",
            "Requirement already satisfied: numpy in /usr/local/lib/python3.10/dist-packages (from netCDF4) (1.23.5)\n"
          ]
        }
      ],
      "source": [
        "!pip install netCDF4"
      ]
    },
    {
      "cell_type": "code",
      "source": [
        "from google.colab import drive\n",
        "\n",
        "# Mounten des Google-Drive Kontos\n",
        "drive.mount('/content/drive')"
      ],
      "metadata": {
        "colab": {
          "base_uri": "https://localhost:8080/"
        },
        "id": "h2_FeYPA_Mfq",
        "outputId": "79c210b4-694a-4d6e-ef49-8f992a9a68e9"
      },
      "execution_count": 2,
      "outputs": [
        {
          "output_type": "stream",
          "name": "stdout",
          "text": [
            "Drive already mounted at /content/drive; to attempt to forcibly remount, call drive.mount(\"/content/drive\", force_remount=True).\n"
          ]
        }
      ]
    },
    {
      "cell_type": "code",
      "source": [
        "# Import der benötigten Module\n",
        "import os\n",
        "import pickle\n",
        "import netCDF4 as nc\n",
        "import numpy as np\n",
        "import pandas as pd\n",
        "import datetime as dt\n",
        "import matplotlib.pyplot as plt"
      ],
      "metadata": {
        "id": "aIT9A4pzVh0d"
      },
      "execution_count": 3,
      "outputs": []
    },
    {
      "cell_type": "code",
      "source": [
        "# Zeit wird in Stunden seit 1.1.1900 00:00 angegeben\n",
        "origin = dt.datetime(1900, 1, 1, 0, 0, 0, 0)"
      ],
      "metadata": {
        "id": "WDT9g8r_LvX2"
      },
      "execution_count": 4,
      "outputs": []
    },
    {
      "cell_type": "code",
      "source": [
        "# Drive Ordner mit den Vorhersagewerten im NetCDF4-Format\n",
        "drive_folder = '/content/drive/My Drive/Colab_Notebooks/netCDF4_Wetterdaten/'\n",
        "pickle_path = '/content/drive/My Drive/Colab_Notebooks/CSV_Vorhersage'"
      ],
      "metadata": {
        "id": "pALUt9Lh_Q4Y"
      },
      "execution_count": 5,
      "outputs": []
    },
    {
      "cell_type": "markdown",
      "source": [
        "## Einlesen der NetCDF4-Dateien:"
      ],
      "metadata": {
        "id": "mENI5XOei_ck"
      }
    },
    {
      "cell_type": "code",
      "source": [
        "def read_nc_files_in_google_drive(folder_path):\n",
        "    nc_files = []  # Liste, um die NetCDF4-Datensätze abzuspeichern\n",
        "\n",
        "    if os.path.exists(folder_path):\n",
        "        # Durchsuchen des Drive-Ordners nach Dateien\n",
        "        for file_name in os.listdir(folder_path):\n",
        "            file_path = os.path.join(folder_path, file_name)\n",
        "\n",
        "            # Überprüfen, ob die Datei eine NetCDF4-Datei ist\n",
        "            if file_name.endswith(\".nc\"):\n",
        "                try:\n",
        "                    # Öffnen der NetCDF4-Datei und huzfügen zur Liste\n",
        "                    nc_file = nc.Dataset(file_path)\n",
        "                    nc_files.append(nc_file)\n",
        "                except Exception as e:\n",
        "                    print(f\"Fehler beim Öffnen von {file_name}: {str(e)}\")\n",
        "\n",
        "    return nc_files"
      ],
      "metadata": {
        "id": "raa9HC67BJ3O"
      },
      "execution_count": 6,
      "outputs": []
    },
    {
      "cell_type": "code",
      "source": [
        "# Funktionsaufruf zum Einlesen der NetCDF4-Dateien\n",
        "netcdf_files = read_nc_files_in_google_drive(drive_folder)"
      ],
      "metadata": {
        "id": "qjoiyX9ABN9c"
      },
      "execution_count": 7,
      "outputs": []
    },
    {
      "cell_type": "code",
      "source": [
        "# Variablen Deklaration\n",
        "latitudes = np.empty((1, 1))\n",
        "longitudes = np.empty((1, 1))\n",
        "time = np.empty((1, 1))\n",
        "aod469 = np.empty((1, 1))\n",
        "aod550 = np.empty((1, 1))\n",
        "aod670 = np.empty((1, 1))\n",
        "aod865 = np.empty((1, 1))\n",
        "gtco3 = np.empty((1, 1))\n",
        "uvbed = np.empty((1, 1))\n",
        "uvbedcs = np.empty((1, 1))\n",
        "hcc = np.empty((1, 1))\n",
        "lcc = np.empty((1, 1))\n",
        "mcc = np.empty((1, 1))\n",
        "tcc = np.empty((1, 1))\n",
        "cbh = np.empty((1, 1))"
      ],
      "metadata": {
        "id": "UoEl-3yuEr3B"
      },
      "execution_count": 8,
      "outputs": []
    },
    {
      "cell_type": "code",
      "source": [
        "# Zuordnen der Variabeln zu entsprechenden NP-Arrays\n",
        "# fehlende Werte werden durch NaN Werte ersetzt, das mehrdimensionale Array wird zu einem eindimensonalen formatiert\n",
        "for nc_file in netcdf_files:\n",
        "    latitudes = np.append(latitudes, nc_file.variables['latitude'][0])\n",
        "    longitudes = np.append(longitudes, nc_file.variables['longitude'][0])\n",
        "    time = np.append(time, nc_file.variables['time'][:].filled(np.nan))\n",
        "    aod469 = np.append(aod469, nc_file.variables['aod469'][:].filled(np.nan).reshape(-3))\n",
        "    aod550 = np.append(aod550, nc_file.variables['aod550'][:].filled(np.nan).reshape(-3))\n",
        "    aod670 = np.append(aod670, nc_file.variables['aod670'][:].filled(np.nan).reshape(-3))\n",
        "    aod865 = np.append(aod865, nc_file.variables['aod865'][:].filled(np.nan).reshape(-3))\n",
        "    gtco3 = np.append(gtco3, nc_file.variables['gtco3'][:].filled(np.nan).reshape(-3))\n",
        "    uvbed = np.append(uvbed, nc_file.variables['uvbed'][:].filled(np.nan).reshape(-3))\n",
        "    uvbedcs = np.append(uvbedcs, nc_file.variables['uvbedcs'][:].filled(np.nan).reshape(-3))\n",
        "    hcc = np.append(hcc, nc_file.variables['hcc'][:].filled(np.nan).reshape(-3))\n",
        "    lcc = np.append(lcc, nc_file.variables['lcc'][:].filled(np.nan).reshape(-3))\n",
        "    mcc = np.append(mcc, nc_file.variables['mcc'][:].filled(np.nan).reshape(-3))\n",
        "    tcc = np.append(tcc, nc_file.variables['tcc'][:].filled(np.nan).reshape(-3))\n",
        "    cbh = np.append(cbh, nc_file.variables['cbh'][:].filled(np.nan).reshape(-3))"
      ],
      "metadata": {
        "id": "WpEhJuiYGKJf"
      },
      "execution_count": 9,
      "outputs": []
    },
    {
      "cell_type": "code",
      "source": [
        "print(len(time), len(aod469), len(aod550), len(aod670), len(aod865), len(aod865), len(uvbed), len(uvbedcs), len(hcc), len(lcc), len(mcc), len(tcc), len(cbh))"
      ],
      "metadata": {
        "colab": {
          "base_uri": "https://localhost:8080/"
        },
        "id": "-FxwLLuggWMF",
        "outputId": "b5dd50b5-447a-4698-b6d0-08410b18fae5"
      },
      "execution_count": 10,
      "outputs": [
        {
          "output_type": "stream",
          "name": "stdout",
          "text": [
            "11689 11689 11689 11689 11689 11689 11689 11689 11689 11689 11689 11689 11689\n"
          ]
        }
      ]
    },
    {
      "cell_type": "code",
      "source": [
        "# richtige DateTime berechen\n",
        "datetime = np.empty((1,1))\n",
        "datetime = np.array([origin + dt.timedelta(hours=int(i)) for i in time])"
      ],
      "metadata": {
        "id": "V8Sfh_WRC5pi"
      },
      "execution_count": 11,
      "outputs": []
    },
    {
      "cell_type": "code",
      "source": [
        "# Zuorden der NP-Arrays in einen Dataframe\n",
        "df_cams = pd.DataFrame({'time': datetime, 'aod469': aod469, 'aod550': aod550,'aod670': aod670,'aod865': aod865,'aod865': gtco3,\n",
        "                        'uvbed': uvbed,'uvbedcs': uvbedcs, 'hcc': hcc, 'lcc': lcc, 'mcc': mcc, 'tcc': tcc, 'cbh': cbh})"
      ],
      "metadata": {
        "id": "tggfH_Un_F_f"
      },
      "execution_count": 12,
      "outputs": []
    },
    {
      "cell_type": "code",
      "source": [
        "# Index des DF setzen\n",
        "df_cams.set_index('time', inplace=True)"
      ],
      "metadata": {
        "id": "EqRlKYcOCayt"
      },
      "execution_count": 13,
      "outputs": []
    },
    {
      "cell_type": "code",
      "source": [
        "# Sontieren des DataFrame in die richtige Reihenfolge\n",
        "df_cams_sorted = pd.DataFrame()\n",
        "df_cams_sorted = df_cams.sort_index().drop(df_cams.index[0])"
      ],
      "metadata": {
        "id": "iayKm6uoF_B5"
      },
      "execution_count": 14,
      "outputs": []
    },
    {
      "cell_type": "code",
      "source": [
        "# Ausgabe des sotierten Dataframes\n",
        "df_cams_sorted"
      ],
      "metadata": {
        "colab": {
          "base_uri": "https://localhost:8080/",
          "height": 455
        },
        "id": "PyHPpi-tLZKQ",
        "outputId": "1dbf3a30-5e23-49c3-f2f5-30de261c62a0"
      },
      "execution_count": 15,
      "outputs": [
        {
          "output_type": "execute_result",
          "data": {
            "text/plain": [
              "                       aod469    aod550    aod670    aod865         uvbed  \\\n",
              "time                                                                        \n",
              "2022-06-01 00:00:00  0.279180  0.224989  0.166234  0.008305  1.387779e-17   \n",
              "2022-06-01 01:00:00  0.298263  0.241389  0.179282  0.008164  1.387779e-17   \n",
              "2022-06-01 02:00:00  0.257216  0.207651  0.153842  0.008086  1.387779e-17   \n",
              "2022-06-01 03:00:00  0.204455  0.164444  0.121328  0.008019  1.387779e-17   \n",
              "2022-06-01 04:00:00  0.169221  0.136005  0.100293  0.007981  1.773255e-03   \n",
              "...                       ...       ...       ...       ...           ...   \n",
              "2023-09-30 19:00:00  0.303813  0.246127  0.181648  0.005928  0.000000e+00   \n",
              "2023-09-30 20:00:00  0.288060  0.233771  0.172870  0.005911  0.000000e+00   \n",
              "2023-09-30 21:00:00  0.266354  0.216345  0.160130  0.005897  0.000000e+00   \n",
              "2023-09-30 22:00:00  0.240483  0.195343  0.144486  0.005882  0.000000e+00   \n",
              "2023-09-30 23:00:00  0.218179  0.177158  0.130880  0.005866  0.000000e+00   \n",
              "\n",
              "                          uvbedcs       hcc       lcc       mcc       tcc  \\\n",
              "time                                                                        \n",
              "2022-06-01 00:00:00  1.387779e-17  0.000000  0.044893  0.367693  0.371660   \n",
              "2022-06-01 01:00:00  1.387779e-17  0.000000  0.156517  0.360444  0.408237   \n",
              "2022-06-01 02:00:00  1.387779e-17  0.879633  0.198541  0.250774  0.914822   \n",
              "2022-06-01 03:00:00  1.387779e-17  0.771794  0.054888  0.028138  0.785864   \n",
              "2022-06-01 04:00:00  1.776398e-03  0.039751  0.005265  0.003006  0.047488   \n",
              "...                           ...       ...       ...       ...       ...   \n",
              "2023-09-30 19:00:00  0.000000e+00  0.875284  0.000015  0.132758  0.892131   \n",
              "2023-09-30 20:00:00  0.000000e+00  0.311812  0.000000  0.002487  0.313766   \n",
              "2023-09-30 21:00:00  0.000000e+00  0.000000  0.000000  0.000000  0.000000   \n",
              "2023-09-30 22:00:00  0.000000e+00  0.000000  0.000000  0.000732  0.000732   \n",
              "2023-09-30 23:00:00  0.000000e+00  0.191140  0.000000  0.000183  0.191278   \n",
              "\n",
              "                              cbh  \n",
              "time                               \n",
              "2022-06-01 00:00:00   2119.024617  \n",
              "2022-06-01 01:00:00   1342.479134  \n",
              "2022-06-01 02:00:00   1363.938076  \n",
              "2022-06-01 03:00:00   2026.099732  \n",
              "2022-06-01 04:00:00           NaN  \n",
              "...                           ...  \n",
              "2023-09-30 19:00:00   4631.659686  \n",
              "2023-09-30 20:00:00  11384.323732  \n",
              "2023-09-30 21:00:00           NaN  \n",
              "2023-09-30 22:00:00           NaN  \n",
              "2023-09-30 23:00:00           NaN  \n",
              "\n",
              "[11688 rows x 11 columns]"
            ],
            "text/html": [
              "\n",
              "  <div id=\"df-28f620cd-7ca2-4554-894a-8fba562aeebb\" class=\"colab-df-container\">\n",
              "    <div>\n",
              "<style scoped>\n",
              "    .dataframe tbody tr th:only-of-type {\n",
              "        vertical-align: middle;\n",
              "    }\n",
              "\n",
              "    .dataframe tbody tr th {\n",
              "        vertical-align: top;\n",
              "    }\n",
              "\n",
              "    .dataframe thead th {\n",
              "        text-align: right;\n",
              "    }\n",
              "</style>\n",
              "<table border=\"1\" class=\"dataframe\">\n",
              "  <thead>\n",
              "    <tr style=\"text-align: right;\">\n",
              "      <th></th>\n",
              "      <th>aod469</th>\n",
              "      <th>aod550</th>\n",
              "      <th>aod670</th>\n",
              "      <th>aod865</th>\n",
              "      <th>uvbed</th>\n",
              "      <th>uvbedcs</th>\n",
              "      <th>hcc</th>\n",
              "      <th>lcc</th>\n",
              "      <th>mcc</th>\n",
              "      <th>tcc</th>\n",
              "      <th>cbh</th>\n",
              "    </tr>\n",
              "    <tr>\n",
              "      <th>time</th>\n",
              "      <th></th>\n",
              "      <th></th>\n",
              "      <th></th>\n",
              "      <th></th>\n",
              "      <th></th>\n",
              "      <th></th>\n",
              "      <th></th>\n",
              "      <th></th>\n",
              "      <th></th>\n",
              "      <th></th>\n",
              "      <th></th>\n",
              "    </tr>\n",
              "  </thead>\n",
              "  <tbody>\n",
              "    <tr>\n",
              "      <th>2022-06-01 00:00:00</th>\n",
              "      <td>0.279180</td>\n",
              "      <td>0.224989</td>\n",
              "      <td>0.166234</td>\n",
              "      <td>0.008305</td>\n",
              "      <td>1.387779e-17</td>\n",
              "      <td>1.387779e-17</td>\n",
              "      <td>0.000000</td>\n",
              "      <td>0.044893</td>\n",
              "      <td>0.367693</td>\n",
              "      <td>0.371660</td>\n",
              "      <td>2119.024617</td>\n",
              "    </tr>\n",
              "    <tr>\n",
              "      <th>2022-06-01 01:00:00</th>\n",
              "      <td>0.298263</td>\n",
              "      <td>0.241389</td>\n",
              "      <td>0.179282</td>\n",
              "      <td>0.008164</td>\n",
              "      <td>1.387779e-17</td>\n",
              "      <td>1.387779e-17</td>\n",
              "      <td>0.000000</td>\n",
              "      <td>0.156517</td>\n",
              "      <td>0.360444</td>\n",
              "      <td>0.408237</td>\n",
              "      <td>1342.479134</td>\n",
              "    </tr>\n",
              "    <tr>\n",
              "      <th>2022-06-01 02:00:00</th>\n",
              "      <td>0.257216</td>\n",
              "      <td>0.207651</td>\n",
              "      <td>0.153842</td>\n",
              "      <td>0.008086</td>\n",
              "      <td>1.387779e-17</td>\n",
              "      <td>1.387779e-17</td>\n",
              "      <td>0.879633</td>\n",
              "      <td>0.198541</td>\n",
              "      <td>0.250774</td>\n",
              "      <td>0.914822</td>\n",
              "      <td>1363.938076</td>\n",
              "    </tr>\n",
              "    <tr>\n",
              "      <th>2022-06-01 03:00:00</th>\n",
              "      <td>0.204455</td>\n",
              "      <td>0.164444</td>\n",
              "      <td>0.121328</td>\n",
              "      <td>0.008019</td>\n",
              "      <td>1.387779e-17</td>\n",
              "      <td>1.387779e-17</td>\n",
              "      <td>0.771794</td>\n",
              "      <td>0.054888</td>\n",
              "      <td>0.028138</td>\n",
              "      <td>0.785864</td>\n",
              "      <td>2026.099732</td>\n",
              "    </tr>\n",
              "    <tr>\n",
              "      <th>2022-06-01 04:00:00</th>\n",
              "      <td>0.169221</td>\n",
              "      <td>0.136005</td>\n",
              "      <td>0.100293</td>\n",
              "      <td>0.007981</td>\n",
              "      <td>1.773255e-03</td>\n",
              "      <td>1.776398e-03</td>\n",
              "      <td>0.039751</td>\n",
              "      <td>0.005265</td>\n",
              "      <td>0.003006</td>\n",
              "      <td>0.047488</td>\n",
              "      <td>NaN</td>\n",
              "    </tr>\n",
              "    <tr>\n",
              "      <th>...</th>\n",
              "      <td>...</td>\n",
              "      <td>...</td>\n",
              "      <td>...</td>\n",
              "      <td>...</td>\n",
              "      <td>...</td>\n",
              "      <td>...</td>\n",
              "      <td>...</td>\n",
              "      <td>...</td>\n",
              "      <td>...</td>\n",
              "      <td>...</td>\n",
              "      <td>...</td>\n",
              "    </tr>\n",
              "    <tr>\n",
              "      <th>2023-09-30 19:00:00</th>\n",
              "      <td>0.303813</td>\n",
              "      <td>0.246127</td>\n",
              "      <td>0.181648</td>\n",
              "      <td>0.005928</td>\n",
              "      <td>0.000000e+00</td>\n",
              "      <td>0.000000e+00</td>\n",
              "      <td>0.875284</td>\n",
              "      <td>0.000015</td>\n",
              "      <td>0.132758</td>\n",
              "      <td>0.892131</td>\n",
              "      <td>4631.659686</td>\n",
              "    </tr>\n",
              "    <tr>\n",
              "      <th>2023-09-30 20:00:00</th>\n",
              "      <td>0.288060</td>\n",
              "      <td>0.233771</td>\n",
              "      <td>0.172870</td>\n",
              "      <td>0.005911</td>\n",
              "      <td>0.000000e+00</td>\n",
              "      <td>0.000000e+00</td>\n",
              "      <td>0.311812</td>\n",
              "      <td>0.000000</td>\n",
              "      <td>0.002487</td>\n",
              "      <td>0.313766</td>\n",
              "      <td>11384.323732</td>\n",
              "    </tr>\n",
              "    <tr>\n",
              "      <th>2023-09-30 21:00:00</th>\n",
              "      <td>0.266354</td>\n",
              "      <td>0.216345</td>\n",
              "      <td>0.160130</td>\n",
              "      <td>0.005897</td>\n",
              "      <td>0.000000e+00</td>\n",
              "      <td>0.000000e+00</td>\n",
              "      <td>0.000000</td>\n",
              "      <td>0.000000</td>\n",
              "      <td>0.000000</td>\n",
              "      <td>0.000000</td>\n",
              "      <td>NaN</td>\n",
              "    </tr>\n",
              "    <tr>\n",
              "      <th>2023-09-30 22:00:00</th>\n",
              "      <td>0.240483</td>\n",
              "      <td>0.195343</td>\n",
              "      <td>0.144486</td>\n",
              "      <td>0.005882</td>\n",
              "      <td>0.000000e+00</td>\n",
              "      <td>0.000000e+00</td>\n",
              "      <td>0.000000</td>\n",
              "      <td>0.000000</td>\n",
              "      <td>0.000732</td>\n",
              "      <td>0.000732</td>\n",
              "      <td>NaN</td>\n",
              "    </tr>\n",
              "    <tr>\n",
              "      <th>2023-09-30 23:00:00</th>\n",
              "      <td>0.218179</td>\n",
              "      <td>0.177158</td>\n",
              "      <td>0.130880</td>\n",
              "      <td>0.005866</td>\n",
              "      <td>0.000000e+00</td>\n",
              "      <td>0.000000e+00</td>\n",
              "      <td>0.191140</td>\n",
              "      <td>0.000000</td>\n",
              "      <td>0.000183</td>\n",
              "      <td>0.191278</td>\n",
              "      <td>NaN</td>\n",
              "    </tr>\n",
              "  </tbody>\n",
              "</table>\n",
              "<p>11688 rows × 11 columns</p>\n",
              "</div>\n",
              "    <div class=\"colab-df-buttons\">\n",
              "\n",
              "  <div class=\"colab-df-container\">\n",
              "    <button class=\"colab-df-convert\" onclick=\"convertToInteractive('df-28f620cd-7ca2-4554-894a-8fba562aeebb')\"\n",
              "            title=\"Convert this dataframe to an interactive table.\"\n",
              "            style=\"display:none;\">\n",
              "\n",
              "  <svg xmlns=\"http://www.w3.org/2000/svg\" height=\"24px\" viewBox=\"0 -960 960 960\">\n",
              "    <path d=\"M120-120v-720h720v720H120Zm60-500h600v-160H180v160Zm220 220h160v-160H400v160Zm0 220h160v-160H400v160ZM180-400h160v-160H180v160Zm440 0h160v-160H620v160ZM180-180h160v-160H180v160Zm440 0h160v-160H620v160Z\"/>\n",
              "  </svg>\n",
              "    </button>\n",
              "\n",
              "  <style>\n",
              "    .colab-df-container {\n",
              "      display:flex;\n",
              "      gap: 12px;\n",
              "    }\n",
              "\n",
              "    .colab-df-convert {\n",
              "      background-color: #E8F0FE;\n",
              "      border: none;\n",
              "      border-radius: 50%;\n",
              "      cursor: pointer;\n",
              "      display: none;\n",
              "      fill: #1967D2;\n",
              "      height: 32px;\n",
              "      padding: 0 0 0 0;\n",
              "      width: 32px;\n",
              "    }\n",
              "\n",
              "    .colab-df-convert:hover {\n",
              "      background-color: #E2EBFA;\n",
              "      box-shadow: 0px 1px 2px rgba(60, 64, 67, 0.3), 0px 1px 3px 1px rgba(60, 64, 67, 0.15);\n",
              "      fill: #174EA6;\n",
              "    }\n",
              "\n",
              "    .colab-df-buttons div {\n",
              "      margin-bottom: 4px;\n",
              "    }\n",
              "\n",
              "    [theme=dark] .colab-df-convert {\n",
              "      background-color: #3B4455;\n",
              "      fill: #D2E3FC;\n",
              "    }\n",
              "\n",
              "    [theme=dark] .colab-df-convert:hover {\n",
              "      background-color: #434B5C;\n",
              "      box-shadow: 0px 1px 3px 1px rgba(0, 0, 0, 0.15);\n",
              "      filter: drop-shadow(0px 1px 2px rgba(0, 0, 0, 0.3));\n",
              "      fill: #FFFFFF;\n",
              "    }\n",
              "  </style>\n",
              "\n",
              "    <script>\n",
              "      const buttonEl =\n",
              "        document.querySelector('#df-28f620cd-7ca2-4554-894a-8fba562aeebb button.colab-df-convert');\n",
              "      buttonEl.style.display =\n",
              "        google.colab.kernel.accessAllowed ? 'block' : 'none';\n",
              "\n",
              "      async function convertToInteractive(key) {\n",
              "        const element = document.querySelector('#df-28f620cd-7ca2-4554-894a-8fba562aeebb');\n",
              "        const dataTable =\n",
              "          await google.colab.kernel.invokeFunction('convertToInteractive',\n",
              "                                                    [key], {});\n",
              "        if (!dataTable) return;\n",
              "\n",
              "        const docLinkHtml = 'Like what you see? Visit the ' +\n",
              "          '<a target=\"_blank\" href=https://colab.research.google.com/notebooks/data_table.ipynb>data table notebook</a>'\n",
              "          + ' to learn more about interactive tables.';\n",
              "        element.innerHTML = '';\n",
              "        dataTable['output_type'] = 'display_data';\n",
              "        await google.colab.output.renderOutput(dataTable, element);\n",
              "        const docLink = document.createElement('div');\n",
              "        docLink.innerHTML = docLinkHtml;\n",
              "        element.appendChild(docLink);\n",
              "      }\n",
              "    </script>\n",
              "  </div>\n",
              "\n",
              "\n",
              "<div id=\"df-b8e1599f-2c09-44fa-a547-d32efc27ea76\">\n",
              "  <button class=\"colab-df-quickchart\" onclick=\"quickchart('df-b8e1599f-2c09-44fa-a547-d32efc27ea76')\"\n",
              "            title=\"Suggest charts.\"\n",
              "            style=\"display:none;\">\n",
              "\n",
              "<svg xmlns=\"http://www.w3.org/2000/svg\" height=\"24px\"viewBox=\"0 0 24 24\"\n",
              "     width=\"24px\">\n",
              "    <g>\n",
              "        <path d=\"M19 3H5c-1.1 0-2 .9-2 2v14c0 1.1.9 2 2 2h14c1.1 0 2-.9 2-2V5c0-1.1-.9-2-2-2zM9 17H7v-7h2v7zm4 0h-2V7h2v10zm4 0h-2v-4h2v4z\"/>\n",
              "    </g>\n",
              "</svg>\n",
              "  </button>\n",
              "\n",
              "<style>\n",
              "  .colab-df-quickchart {\n",
              "      --bg-color: #E8F0FE;\n",
              "      --fill-color: #1967D2;\n",
              "      --hover-bg-color: #E2EBFA;\n",
              "      --hover-fill-color: #174EA6;\n",
              "      --disabled-fill-color: #AAA;\n",
              "      --disabled-bg-color: #DDD;\n",
              "  }\n",
              "\n",
              "  [theme=dark] .colab-df-quickchart {\n",
              "      --bg-color: #3B4455;\n",
              "      --fill-color: #D2E3FC;\n",
              "      --hover-bg-color: #434B5C;\n",
              "      --hover-fill-color: #FFFFFF;\n",
              "      --disabled-bg-color: #3B4455;\n",
              "      --disabled-fill-color: #666;\n",
              "  }\n",
              "\n",
              "  .colab-df-quickchart {\n",
              "    background-color: var(--bg-color);\n",
              "    border: none;\n",
              "    border-radius: 50%;\n",
              "    cursor: pointer;\n",
              "    display: none;\n",
              "    fill: var(--fill-color);\n",
              "    height: 32px;\n",
              "    padding: 0;\n",
              "    width: 32px;\n",
              "  }\n",
              "\n",
              "  .colab-df-quickchart:hover {\n",
              "    background-color: var(--hover-bg-color);\n",
              "    box-shadow: 0 1px 2px rgba(60, 64, 67, 0.3), 0 1px 3px 1px rgba(60, 64, 67, 0.15);\n",
              "    fill: var(--button-hover-fill-color);\n",
              "  }\n",
              "\n",
              "  .colab-df-quickchart-complete:disabled,\n",
              "  .colab-df-quickchart-complete:disabled:hover {\n",
              "    background-color: var(--disabled-bg-color);\n",
              "    fill: var(--disabled-fill-color);\n",
              "    box-shadow: none;\n",
              "  }\n",
              "\n",
              "  .colab-df-spinner {\n",
              "    border: 2px solid var(--fill-color);\n",
              "    border-color: transparent;\n",
              "    border-bottom-color: var(--fill-color);\n",
              "    animation:\n",
              "      spin 1s steps(1) infinite;\n",
              "  }\n",
              "\n",
              "  @keyframes spin {\n",
              "    0% {\n",
              "      border-color: transparent;\n",
              "      border-bottom-color: var(--fill-color);\n",
              "      border-left-color: var(--fill-color);\n",
              "    }\n",
              "    20% {\n",
              "      border-color: transparent;\n",
              "      border-left-color: var(--fill-color);\n",
              "      border-top-color: var(--fill-color);\n",
              "    }\n",
              "    30% {\n",
              "      border-color: transparent;\n",
              "      border-left-color: var(--fill-color);\n",
              "      border-top-color: var(--fill-color);\n",
              "      border-right-color: var(--fill-color);\n",
              "    }\n",
              "    40% {\n",
              "      border-color: transparent;\n",
              "      border-right-color: var(--fill-color);\n",
              "      border-top-color: var(--fill-color);\n",
              "    }\n",
              "    60% {\n",
              "      border-color: transparent;\n",
              "      border-right-color: var(--fill-color);\n",
              "    }\n",
              "    80% {\n",
              "      border-color: transparent;\n",
              "      border-right-color: var(--fill-color);\n",
              "      border-bottom-color: var(--fill-color);\n",
              "    }\n",
              "    90% {\n",
              "      border-color: transparent;\n",
              "      border-bottom-color: var(--fill-color);\n",
              "    }\n",
              "  }\n",
              "</style>\n",
              "\n",
              "  <script>\n",
              "    async function quickchart(key) {\n",
              "      const quickchartButtonEl =\n",
              "        document.querySelector('#' + key + ' button');\n",
              "      quickchartButtonEl.disabled = true;  // To prevent multiple clicks.\n",
              "      quickchartButtonEl.classList.add('colab-df-spinner');\n",
              "      try {\n",
              "        const charts = await google.colab.kernel.invokeFunction(\n",
              "            'suggestCharts', [key], {});\n",
              "      } catch (error) {\n",
              "        console.error('Error during call to suggestCharts:', error);\n",
              "      }\n",
              "      quickchartButtonEl.classList.remove('colab-df-spinner');\n",
              "      quickchartButtonEl.classList.add('colab-df-quickchart-complete');\n",
              "    }\n",
              "    (() => {\n",
              "      let quickchartButtonEl =\n",
              "        document.querySelector('#df-b8e1599f-2c09-44fa-a547-d32efc27ea76 button');\n",
              "      quickchartButtonEl.style.display =\n",
              "        google.colab.kernel.accessAllowed ? 'block' : 'none';\n",
              "    })();\n",
              "  </script>\n",
              "</div>\n",
              "    </div>\n",
              "  </div>\n"
            ]
          },
          "metadata": {},
          "execution_count": 15
        }
      ]
    },
    {
      "cell_type": "code",
      "source": [
        "# Prüfen, ob der Dataframe alle einträge enthält\n",
        "for i in range(len(df_cams_sorted) - 1):\n",
        "    time_diff = df_cams_sorted.index[i + 1] - df_cams_sorted.index[i]\n",
        "    if time_diff != pd.to_timedelta('1H'):\n",
        "        print(f\"Index {i} und Index {i + 1} haben keinen Abstand von einer Stunde.\")"
      ],
      "metadata": {
        "id": "hJIvtXFbL4Ji"
      },
      "execution_count": 16,
      "outputs": []
    },
    {
      "cell_type": "markdown",
      "source": [
        "## Abspeichern der Vorhersagewerte mit stündlicher Auflösung:"
      ],
      "metadata": {
        "id": "zjKvaqw4jU0n"
      }
    },
    {
      "cell_type": "code",
      "source": [
        "def save_dataframe_to_drive(dataframe, folder_path, filename):\n",
        "\n",
        "    # Erstellen des vollen Pfades zur Datei\n",
        "    full_path = os.path.join(folder_path, filename)\n",
        "\n",
        "    # Speichern des DataFrame als CSV-Datei auf Google Drive\n",
        "    dataframe.to_csv(full_path, index=False)\n",
        "\n",
        "    print(f'Der DataFrame wurde als {filename} in {folder_path} auf Google Drive gespeichert.')"
      ],
      "metadata": {
        "id": "38Mwi6sJDihp"
      },
      "execution_count": 17,
      "outputs": []
    },
    {
      "cell_type": "code",
      "source": [
        "# Abspeichern des konvertierten DF als CSV\n",
        "# dateiname = 'CSV_Cams_std'\n",
        "# save_dataframe_to_drive(df_cams_sorted, '/content/drive/My Drive/Colab_Notebooks/CSV_Vorhersage', dateiname)"
      ],
      "metadata": {
        "id": "d7XCZUzEDAz3"
      },
      "execution_count": 18,
      "outputs": []
    },
    {
      "cell_type": "code",
      "source": [
        "dateiname = 'pickle_Cams_std'\n",
        "df_cams_sorted.to_pickle(pickle_path + dateiname)"
      ],
      "metadata": {
        "id": "Y3CEW_eKz4oZ"
      },
      "execution_count": 19,
      "outputs": []
    },
    {
      "cell_type": "markdown",
      "source": [
        "## Abspeichern des Dataframe mit 2 Min. Auflösung."
      ],
      "metadata": {
        "id": "yAPYiqb-kVdJ"
      }
    },
    {
      "cell_type": "code",
      "source": [
        "# Resampling der Zeitreihe auf 2 Min. und interpolation der fehlenden Messwerte\n",
        "df_cams_resampled = df_cams.resample('2T')\n",
        "df_cams_interpolated = df_cams_resampled.interpolate(method='polynomial', order = 1)"
      ],
      "metadata": {
        "id": "ZZC3q3n-IUv_"
      },
      "execution_count": 20,
      "outputs": []
    },
    {
      "cell_type": "code",
      "source": [
        "# Abspeichern des konvertierten DF als CSV\n",
        "# dateiname = 'CSV_Cams_2M'\n",
        "# save_dataframe_to_drive(df_cams_interpolated, '/content/drive/My Drive/Colab_Notebooks/CSV_Vorhersage', dateiname)"
      ],
      "metadata": {
        "id": "TFwR_uY4khMB"
      },
      "execution_count": 21,
      "outputs": []
    },
    {
      "cell_type": "code",
      "source": [
        "dateiname = 'pickle_Cams_2M'\n",
        "df_cams_interpolated.to_pickle(pickle_path + dateiname)"
      ],
      "metadata": {
        "id": "iNQTyRwF0Ff6"
      },
      "execution_count": 24,
      "outputs": []
    }
  ]
}