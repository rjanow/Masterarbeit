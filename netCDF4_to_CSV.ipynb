{
  "nbformat": 4,
  "nbformat_minor": 0,
  "metadata": {
    "colab": {
      "provenance": [],
      "authorship_tag": "ABX9TyP7tBt2yqysvCcb22t8ayT7",
      "include_colab_link": true
    },
    "kernelspec": {
      "name": "python3",
      "display_name": "Python 3"
    },
    "language_info": {
      "name": "python"
    }
  },
  "cells": [
    {
      "cell_type": "markdown",
      "metadata": {
        "id": "view-in-github",
        "colab_type": "text"
      },
      "source": [
        "<a href=\"https://colab.research.google.com/github/rjanow/Masterarbeit/blob/main/netCDF4_to_CSV.ipynb\" target=\"_parent\"><img src=\"https://colab.research.google.com/assets/colab-badge.svg\" alt=\"Open In Colab\"/></a>"
      ]
    },
    {
      "cell_type": "markdown",
      "source": [
        "# Script um die netCDF4 Vorhersagewerte in einen Dataframe abzuspeichern"
      ],
      "metadata": {
        "id": "i2B2OHrSGmDT"
      }
    },
    {
      "cell_type": "markdown",
      "source": [
        "## Allgemeine Einstelllungen:"
      ],
      "metadata": {
        "id": "JihVkTkbjiKN"
      }
    },
    {
      "cell_type": "code",
      "execution_count": 26,
      "metadata": {
        "colab": {
          "base_uri": "https://localhost:8080/"
        },
        "id": "-s8BHga-2vKo",
        "outputId": "97f79270-1036-4172-8017-7c44695a05ff"
      },
      "outputs": [
        {
          "output_type": "stream",
          "name": "stdout",
          "text": [
            "Requirement already satisfied: netCDF4 in /usr/local/lib/python3.10/dist-packages (1.6.5)\n",
            "Requirement already satisfied: cftime in /usr/local/lib/python3.10/dist-packages (from netCDF4) (1.6.3)\n",
            "Requirement already satisfied: certifi in /usr/local/lib/python3.10/dist-packages (from netCDF4) (2023.7.22)\n",
            "Requirement already satisfied: numpy in /usr/local/lib/python3.10/dist-packages (from netCDF4) (1.23.5)\n"
          ]
        }
      ],
      "source": [
        "!pip install netCDF4"
      ]
    },
    {
      "cell_type": "code",
      "source": [
        "from google.colab import drive\n",
        "\n",
        "# Mounten des Google-Drive Kontos\n",
        "drive.mount('/content/drive')"
      ],
      "metadata": {
        "colab": {
          "base_uri": "https://localhost:8080/"
        },
        "id": "h2_FeYPA_Mfq",
        "outputId": "88a4d611-3901-4eac-c239-5267e1cba91f"
      },
      "execution_count": 27,
      "outputs": [
        {
          "output_type": "stream",
          "name": "stdout",
          "text": [
            "Drive already mounted at /content/drive; to attempt to forcibly remount, call drive.mount(\"/content/drive\", force_remount=True).\n"
          ]
        }
      ]
    },
    {
      "cell_type": "code",
      "source": [
        "# Import der benötigten Module\n",
        "import os\n",
        "import pickle\n",
        "import netCDF4 as nc\n",
        "import numpy as np\n",
        "import pandas as pd\n",
        "import datetime as dt\n",
        "import matplotlib.pyplot as plt"
      ],
      "metadata": {
        "id": "aIT9A4pzVh0d"
      },
      "execution_count": 28,
      "outputs": []
    },
    {
      "cell_type": "code",
      "source": [
        "# Zeit wird in Stunden seit 1.1.1900 00:00 angegeben\n",
        "origin = dt.datetime(1900, 1, 1, 0, 0, 0, 0)"
      ],
      "metadata": {
        "id": "WDT9g8r_LvX2"
      },
      "execution_count": 29,
      "outputs": []
    },
    {
      "cell_type": "code",
      "source": [
        "# Drive Ordner mit den Vorhersagewerten im NetCDF4-Format\n",
        "drive_folder = '/content/drive/My Drive/Colab_Notebooks/netCDF4_Wetterdaten/'\n",
        "pickle_path = '/content/drive/My Drive/Colab_Notebooks/CAMS_Vorhersage/'"
      ],
      "metadata": {
        "id": "pALUt9Lh_Q4Y"
      },
      "execution_count": 30,
      "outputs": []
    },
    {
      "cell_type": "markdown",
      "source": [
        "## Einlesen der NetCDF4-Dateien:"
      ],
      "metadata": {
        "id": "mENI5XOei_ck"
      }
    },
    {
      "cell_type": "code",
      "source": [
        "def read_nc_files_in_google_drive(folder_path):\n",
        "    nc_files = []  # Liste, um die NetCDF4-Datensätze abzuspeichern\n",
        "\n",
        "    if os.path.exists(folder_path):\n",
        "        # Durchsuchen des Drive-Ordners nach Dateien\n",
        "        for file_name in os.listdir(folder_path):\n",
        "            file_path = os.path.join(folder_path, file_name)\n",
        "\n",
        "            # Überprüfen, ob die Datei eine NetCDF4-Datei ist\n",
        "            if file_name.endswith(\".nc\"):\n",
        "                try:\n",
        "                    # Öffnen der NetCDF4-Datei und huzfügen zur Liste\n",
        "                    nc_file = nc.Dataset(file_path)\n",
        "                    nc_files.append(nc_file)\n",
        "                    print(nc_file)\n",
        "                except Exception as e:\n",
        "                    print(f\"Fehler beim Öffnen von {file_name}: {str(e)}\")\n",
        "\n",
        "    return nc_files"
      ],
      "metadata": {
        "id": "raa9HC67BJ3O"
      },
      "execution_count": 31,
      "outputs": []
    },
    {
      "cell_type": "code",
      "source": [
        "# Funktionsaufruf zum Einlesen der NetCDF4-Dateien\n",
        "netcdf_files = read_nc_files_in_google_drive(drive_folder)"
      ],
      "metadata": {
        "id": "qjoiyX9ABN9c",
        "colab": {
          "base_uri": "https://localhost:8080/"
        },
        "outputId": "0fd6638f-81a9-4ff7-d21e-32818bd95f4a"
      },
      "execution_count": 32,
      "outputs": [
        {
          "output_type": "stream",
          "name": "stdout",
          "text": [
            "<class 'netCDF4._netCDF4.Dataset'>\n",
            "root group (NETCDF3_64BIT_OFFSET data model, file format NETCDF3):\n",
            "    Conventions: CF-1.6\n",
            "    history: 2023-10-26 11:10:13 GMT by grib_to_netcdf-2.25.1: /opt/ecmwf/mars-client/bin/grib_to_netcdf.bin -S param -o /cache/tmp/845854f7-e797-43e6-a680-0f7b20869ac9-adaptor.mars_constrained.external-1698318597.7512727-2202-23-tmp.nc /cache/tmp/845854f7-e797-43e6-a680-0f7b20869ac9-adaptor.mars_constrained.external-1698318591.7085574-2202-22-tmp.grib\n",
            "    dimensions(sizes): longitude(1), latitude(1), time(720)\n",
            "    variables(dimensions): float32 longitude(longitude), float32 latitude(latitude), int32 time(time), int16 t2m(time, latitude, longitude), int16 hcc(time, latitude, longitude), int16 lcc(time, latitude, longitude), int16 sund(time, latitude, longitude), int16 ssrd(time, latitude, longitude), int16 aod469(time, latitude, longitude), int16 aod550(time, latitude, longitude), int16 tcc(time, latitude, longitude), int16 gtco3(time, latitude, longitude), int16 tp(time, latitude, longitude), int16 uvbed(time, latitude, longitude), int16 uvbedcs(time, latitude, longitude), int16 d2m(time, latitude, longitude)\n",
            "    groups: \n",
            "<class 'netCDF4._netCDF4.Dataset'>\n",
            "root group (NETCDF3_64BIT_OFFSET data model, file format NETCDF3):\n",
            "    Conventions: CF-1.6\n",
            "    history: 2023-10-26 11:28:58 GMT by grib_to_netcdf-2.25.1: /opt/ecmwf/mars-client/bin/grib_to_netcdf.bin -S param -o /cache/tmp/8b940623-e899-4b4f-83cf-3a863c86b483-adaptor.mars_constrained.external-1698319722.6757488-4964-5-tmp.nc /cache/tmp/8b940623-e899-4b4f-83cf-3a863c86b483-adaptor.mars_constrained.external-1698319716.8285758-4964-4-tmp.grib\n",
            "    dimensions(sizes): longitude(1), latitude(1), time(744)\n",
            "    variables(dimensions): float32 longitude(longitude), float32 latitude(latitude), int32 time(time), int16 t2m(time, latitude, longitude), int16 hcc(time, latitude, longitude), int16 lcc(time, latitude, longitude), int16 sund(time, latitude, longitude), int16 ssrd(time, latitude, longitude), int16 aod469(time, latitude, longitude), int16 aod550(time, latitude, longitude), int16 tcc(time, latitude, longitude), int16 gtco3(time, latitude, longitude), int16 tp(time, latitude, longitude), int16 uvbed(time, latitude, longitude), int16 uvbedcs(time, latitude, longitude), int16 d2m(time, latitude, longitude)\n",
            "    groups: \n",
            "<class 'netCDF4._netCDF4.Dataset'>\n",
            "root group (NETCDF3_64BIT_OFFSET data model, file format NETCDF3):\n",
            "    Conventions: CF-1.6\n",
            "    history: 2023-10-26 11:49:34 GMT by grib_to_netcdf-2.25.1: /opt/ecmwf/mars-client/bin/grib_to_netcdf.bin -S param -o /cache/tmp/08266875-fc15-40d5-b660-776b59c2b279-adaptor.mars_constrained.external-1698320960.172149-23483-24-tmp.nc /cache/tmp/08266875-fc15-40d5-b660-776b59c2b279-adaptor.mars_constrained.external-1698320954.6184793-23483-23-tmp.grib\n",
            "    dimensions(sizes): longitude(1), latitude(1), time(744)\n",
            "    variables(dimensions): float32 longitude(longitude), float32 latitude(latitude), int32 time(time), int16 t2m(time, latitude, longitude), int16 hcc(time, latitude, longitude), int16 lcc(time, latitude, longitude), int16 sund(time, latitude, longitude), int16 ssrd(time, latitude, longitude), int16 aod469(time, latitude, longitude), int16 aod550(time, latitude, longitude), int16 tcc(time, latitude, longitude), int16 gtco3(time, latitude, longitude), int16 tp(time, latitude, longitude), int16 uvbed(time, latitude, longitude), int16 uvbedcs(time, latitude, longitude), int16 d2m(time, latitude, longitude)\n",
            "    groups: \n",
            "<class 'netCDF4._netCDF4.Dataset'>\n",
            "root group (NETCDF3_64BIT_OFFSET data model, file format NETCDF3):\n",
            "    Conventions: CF-1.6\n",
            "    history: 2023-10-26 14:18:57 GMT by grib_to_netcdf-2.25.1: /opt/ecmwf/mars-client/bin/grib_to_netcdf.bin -S param -o /cache/tmp/a0f5a8a5-08c0-4dbb-a3f7-b872fba3c652-adaptor.mars_constrained.external-1698329922.4978464-15368-4-tmp.nc /cache/tmp/a0f5a8a5-08c0-4dbb-a3f7-b872fba3c652-adaptor.mars_constrained.external-1698329916.831651-15368-3-tmp.grib\n",
            "    dimensions(sizes): longitude(1), latitude(1), time(744)\n",
            "    variables(dimensions): float32 longitude(longitude), float32 latitude(latitude), int32 time(time), int16 t2m(time, latitude, longitude), int16 hcc(time, latitude, longitude), int16 lcc(time, latitude, longitude), int16 sund(time, latitude, longitude), int16 ssrd(time, latitude, longitude), int16 aod469(time, latitude, longitude), int16 aod550(time, latitude, longitude), int16 tcc(time, latitude, longitude), int16 gtco3(time, latitude, longitude), int16 tp(time, latitude, longitude), int16 uvbed(time, latitude, longitude), int16 uvbedcs(time, latitude, longitude), int16 d2m(time, latitude, longitude)\n",
            "    groups: \n",
            "<class 'netCDF4._netCDF4.Dataset'>\n",
            "root group (NETCDF3_64BIT_OFFSET data model, file format NETCDF3):\n",
            "    Conventions: CF-1.6\n",
            "    history: 2023-10-26 14:47:59 GMT by grib_to_netcdf-2.25.1: /opt/ecmwf/mars-client/bin/grib_to_netcdf.bin -S param -o /cache/tmp/a8f3d588-e4c2-4a2f-a71f-80657f9f489f-adaptor.mars_constrained.external-1698331663.481272-30530-20-tmp.nc /cache/tmp/a8f3d588-e4c2-4a2f-a71f-80657f9f489f-adaptor.mars_constrained.external-1698331657.3417242-30530-19-tmp.grib\n",
            "    dimensions(sizes): longitude(1), latitude(1), time(720)\n",
            "    variables(dimensions): float32 longitude(longitude), float32 latitude(latitude), int32 time(time), int16 t2m(time, latitude, longitude), int16 hcc(time, latitude, longitude), int16 lcc(time, latitude, longitude), int16 sund(time, latitude, longitude), int16 ssrd(time, latitude, longitude), int16 aod469(time, latitude, longitude), int16 aod550(time, latitude, longitude), int16 tcc(time, latitude, longitude), int16 gtco3(time, latitude, longitude), int16 tp(time, latitude, longitude), int16 uvbed(time, latitude, longitude), int16 uvbedcs(time, latitude, longitude), int16 d2m(time, latitude, longitude)\n",
            "    groups: \n",
            "<class 'netCDF4._netCDF4.Dataset'>\n",
            "root group (NETCDF3_64BIT_OFFSET data model, file format NETCDF3):\n",
            "    Conventions: CF-1.6\n",
            "    history: 2023-10-26 16:15:17 GMT by grib_to_netcdf-2.25.1: /opt/ecmwf/mars-client/bin/grib_to_netcdf.bin -S param -o /cache/tmp/3dc39ee4-935c-4181-8a07-f5e6dc6fa388-adaptor.mars_constrained.external-1698336903.0086198-29113-4-tmp.nc /cache/tmp/3dc39ee4-935c-4181-8a07-f5e6dc6fa388-adaptor.mars_constrained.external-1698336897.1736546-29113-3-tmp.grib\n",
            "    dimensions(sizes): longitude(1), latitude(1), time(744)\n",
            "    variables(dimensions): float32 longitude(longitude), float32 latitude(latitude), int32 time(time), int16 t2m(time, latitude, longitude), int16 hcc(time, latitude, longitude), int16 lcc(time, latitude, longitude), int16 sund(time, latitude, longitude), int16 ssrd(time, latitude, longitude), int16 aod469(time, latitude, longitude), int16 aod550(time, latitude, longitude), int16 tcc(time, latitude, longitude), int16 gtco3(time, latitude, longitude), int16 tp(time, latitude, longitude), int16 uvbed(time, latitude, longitude), int16 uvbedcs(time, latitude, longitude), int16 d2m(time, latitude, longitude)\n",
            "    groups: \n",
            "<class 'netCDF4._netCDF4.Dataset'>\n",
            "root group (NETCDF3_64BIT_OFFSET data model, file format NETCDF3):\n",
            "    Conventions: CF-1.6\n",
            "    history: 2023-10-26 16:51:04 GMT by grib_to_netcdf-2.25.1: /opt/ecmwf/mars-client/bin/grib_to_netcdf.bin -S param -o /cache/tmp/bd94c5de-e26a-4139-b017-f5b865879488-adaptor.mars_constrained.external-1698339048.7823672-22032-16-tmp.nc /cache/tmp/bd94c5de-e26a-4139-b017-f5b865879488-adaptor.mars_constrained.external-1698339042.4092734-22032-15-tmp.grib\n",
            "    dimensions(sizes): longitude(1), latitude(1), time(744)\n",
            "    variables(dimensions): float32 longitude(longitude), float32 latitude(latitude), int32 time(time), int16 t2m(time, latitude, longitude), int16 hcc(time, latitude, longitude), int16 lcc(time, latitude, longitude), int16 sund(time, latitude, longitude), int16 ssrd(time, latitude, longitude), int16 aod469(time, latitude, longitude), int16 aod550(time, latitude, longitude), int16 tcc(time, latitude, longitude), int16 gtco3(time, latitude, longitude), int16 tp(time, latitude, longitude), int16 uvbed(time, latitude, longitude), int16 uvbedcs(time, latitude, longitude), int16 d2m(time, latitude, longitude)\n",
            "    groups: \n",
            "<class 'netCDF4._netCDF4.Dataset'>\n",
            "root group (NETCDF3_64BIT_OFFSET data model, file format NETCDF3):\n",
            "    Conventions: CF-1.6\n",
            "    history: 2023-10-26 17:07:33 GMT by grib_to_netcdf-2.25.1: /opt/ecmwf/mars-client/bin/grib_to_netcdf.bin -S param -o /cache/tmp/e4a576be-11f0-40c7-b0b3-0b557fcefa74-adaptor.mars_constrained.external-1698340039.2397387-11962-10-tmp.nc /cache/tmp/e4a576be-11f0-40c7-b0b3-0b557fcefa74-adaptor.mars_constrained.external-1698340033.689777-11962-9-tmp.grib\n",
            "    dimensions(sizes): longitude(1), latitude(1), time(672)\n",
            "    variables(dimensions): float32 longitude(longitude), float32 latitude(latitude), int32 time(time), int16 t2m(time, latitude, longitude), int16 hcc(time, latitude, longitude), int16 lcc(time, latitude, longitude), int16 sund(time, latitude, longitude), int16 ssrd(time, latitude, longitude), int16 aod469(time, latitude, longitude), int16 aod550(time, latitude, longitude), int16 tcc(time, latitude, longitude), int16 gtco3(time, latitude, longitude), int16 tp(time, latitude, longitude), int16 uvbed(time, latitude, longitude), int16 uvbedcs(time, latitude, longitude), int16 d2m(time, latitude, longitude)\n",
            "    groups: \n",
            "<class 'netCDF4._netCDF4.Dataset'>\n",
            "root group (NETCDF3_64BIT_OFFSET data model, file format NETCDF3):\n",
            "    Conventions: CF-1.6\n",
            "    history: 2023-10-26 18:24:23 GMT by grib_to_netcdf-2.25.1: /opt/ecmwf/mars-client/bin/grib_to_netcdf.bin -S param -o /cache/tmp/accd9b79-9286-4a95-ab17-b455c2fcad30-adaptor.mars_constrained.external-1698344648.1571152-31419-17-tmp.nc /cache/tmp/accd9b79-9286-4a95-ab17-b455c2fcad30-adaptor.mars_constrained.external-1698344642.4490526-31419-16-tmp.grib\n",
            "    dimensions(sizes): longitude(1), latitude(1), time(720)\n",
            "    variables(dimensions): float32 longitude(longitude), float32 latitude(latitude), int32 time(time), int16 t2m(time, latitude, longitude), int16 hcc(time, latitude, longitude), int16 lcc(time, latitude, longitude), int16 sund(time, latitude, longitude), int16 ssrd(time, latitude, longitude), int16 aod469(time, latitude, longitude), int16 aod550(time, latitude, longitude), int16 tcc(time, latitude, longitude), int16 gtco3(time, latitude, longitude), int16 tp(time, latitude, longitude), int16 uvbed(time, latitude, longitude), int16 uvbedcs(time, latitude, longitude), int16 d2m(time, latitude, longitude)\n",
            "    groups: \n",
            "<class 'netCDF4._netCDF4.Dataset'>\n",
            "root group (NETCDF3_64BIT_OFFSET data model, file format NETCDF3):\n",
            "    Conventions: CF-1.6\n",
            "    history: 2023-10-26 18:29:49 GMT by grib_to_netcdf-2.25.1: /opt/ecmwf/mars-client/bin/grib_to_netcdf.bin -S param -o /cache/tmp/a8f7f0c5-6552-47a6-accd-994f2e8fab8b-adaptor.mars_constrained.external-1698344974.0549178-12973-4-tmp.nc /cache/tmp/a8f7f0c5-6552-47a6-accd-994f2e8fab8b-adaptor.mars_constrained.external-1698344967.8143125-12973-3-tmp.grib\n",
            "    dimensions(sizes): longitude(1), latitude(1), time(744)\n",
            "    variables(dimensions): float32 longitude(longitude), float32 latitude(latitude), int32 time(time), int16 t2m(time, latitude, longitude), int16 hcc(time, latitude, longitude), int16 lcc(time, latitude, longitude), int16 sund(time, latitude, longitude), int16 ssrd(time, latitude, longitude), int16 aod469(time, latitude, longitude), int16 aod550(time, latitude, longitude), int16 tcc(time, latitude, longitude), int16 gtco3(time, latitude, longitude), int16 tp(time, latitude, longitude), int16 uvbed(time, latitude, longitude), int16 uvbedcs(time, latitude, longitude), int16 d2m(time, latitude, longitude)\n",
            "    groups: \n",
            "<class 'netCDF4._netCDF4.Dataset'>\n",
            "root group (NETCDF3_64BIT_OFFSET data model, file format NETCDF3):\n",
            "    Conventions: CF-1.6\n",
            "    history: 2023-10-26 18:54:42 GMT by grib_to_netcdf-2.25.1: /opt/ecmwf/mars-client/bin/grib_to_netcdf.bin -S param -o /cache/tmp/f12931c7-9b0a-47a2-9cca-fe07727ae325-adaptor.mars_constrained.external-1698346467.702886-25599-4-tmp.nc /cache/tmp/f12931c7-9b0a-47a2-9cca-fe07727ae325-adaptor.mars_constrained.external-1698346461.7551184-25599-3-tmp.grib\n",
            "    dimensions(sizes): longitude(1), latitude(1), time(744)\n",
            "    variables(dimensions): float32 longitude(longitude), float32 latitude(latitude), int32 time(time), int16 t2m(time, latitude, longitude), int16 hcc(time, latitude, longitude), int16 lcc(time, latitude, longitude), int16 sund(time, latitude, longitude), int16 ssrd(time, latitude, longitude), int16 aod469(time, latitude, longitude), int16 aod550(time, latitude, longitude), int16 tcc(time, latitude, longitude), int16 gtco3(time, latitude, longitude), int16 tp(time, latitude, longitude), int16 uvbed(time, latitude, longitude), int16 uvbedcs(time, latitude, longitude), int16 d2m(time, latitude, longitude)\n",
            "    groups: \n",
            "<class 'netCDF4._netCDF4.Dataset'>\n",
            "root group (NETCDF3_64BIT_OFFSET data model, file format NETCDF3):\n",
            "    Conventions: CF-1.6\n",
            "    history: 2023-10-26 20:58:07 GMT by grib_to_netcdf-2.25.1: /opt/ecmwf/mars-client/bin/grib_to_netcdf.bin -S param -o /cache/tmp/a3220f1d-18f9-44ab-95c9-149291692ce9-adaptor.mars_constrained.external-1698353872.714005-13743-18-tmp.nc /cache/tmp/a3220f1d-18f9-44ab-95c9-149291692ce9-adaptor.mars_constrained.external-1698353867.1810617-13743-17-tmp.grib\n",
            "    dimensions(sizes): longitude(1), latitude(1), time(744)\n",
            "    variables(dimensions): float32 longitude(longitude), float32 latitude(latitude), int32 time(time), int16 t2m(time, latitude, longitude), int16 hcc(time, latitude, longitude), int16 lcc(time, latitude, longitude), int16 sund(time, latitude, longitude), int16 ssrd(time, latitude, longitude), int16 aod469(time, latitude, longitude), int16 aod550(time, latitude, longitude), int16 tcc(time, latitude, longitude), int16 gtco3(time, latitude, longitude), int16 tp(time, latitude, longitude), int16 uvbed(time, latitude, longitude), int16 uvbedcs(time, latitude, longitude), int16 d2m(time, latitude, longitude)\n",
            "    groups: \n",
            "<class 'netCDF4._netCDF4.Dataset'>\n",
            "root group (NETCDF3_64BIT_OFFSET data model, file format NETCDF3):\n",
            "    Conventions: CF-1.6\n",
            "    history: 2023-10-26 21:21:38 GMT by grib_to_netcdf-2.25.1: /opt/ecmwf/mars-client/bin/grib_to_netcdf.bin -S param -o /cache/tmp/92c8e2ab-79b8-402b-a303-8bb19d78b38e-adaptor.mars_constrained.external-1698355283.6439552-18608-6-tmp.nc /cache/tmp/92c8e2ab-79b8-402b-a303-8bb19d78b38e-adaptor.mars_constrained.external-1698355277.8405747-18608-5-tmp.grib\n",
            "    dimensions(sizes): longitude(1), latitude(1), time(720)\n",
            "    variables(dimensions): float32 longitude(longitude), float32 latitude(latitude), int32 time(time), int16 t2m(time, latitude, longitude), int16 hcc(time, latitude, longitude), int16 lcc(time, latitude, longitude), int16 sund(time, latitude, longitude), int16 ssrd(time, latitude, longitude), int16 aod469(time, latitude, longitude), int16 aod550(time, latitude, longitude), int16 tcc(time, latitude, longitude), int16 gtco3(time, latitude, longitude), int16 tp(time, latitude, longitude), int16 uvbed(time, latitude, longitude), int16 uvbedcs(time, latitude, longitude), int16 d2m(time, latitude, longitude)\n",
            "    groups: \n",
            "<class 'netCDF4._netCDF4.Dataset'>\n",
            "root group (NETCDF3_64BIT_OFFSET data model, file format NETCDF3):\n",
            "    Conventions: CF-1.6\n",
            "    history: 2023-10-27 12:59:55 GMT by grib_to_netcdf-2.25.1: /opt/ecmwf/mars-client/bin/grib_to_netcdf.bin -S param -o /cache/tmp/e7b4b8f1-d278-4c37-a69f-efc812899edf-adaptor.mars_constrained.external-1698411580.3100214-14490-19-tmp.nc /cache/tmp/e7b4b8f1-d278-4c37-a69f-efc812899edf-adaptor.mars_constrained.external-1698411574.385799-14490-18-tmp.grib\n",
            "    dimensions(sizes): longitude(1), latitude(1), time(720)\n",
            "    variables(dimensions): float32 longitude(longitude), float32 latitude(latitude), int32 time(time), int16 t2m(time, latitude, longitude), int16 hcc(time, latitude, longitude), int16 lcc(time, latitude, longitude), int16 sund(time, latitude, longitude), int16 ssrd(time, latitude, longitude), int16 aod469(time, latitude, longitude), int16 aod550(time, latitude, longitude), int16 tcc(time, latitude, longitude), int16 gtco3(time, latitude, longitude), int16 tp(time, latitude, longitude), int16 uvbed(time, latitude, longitude), int16 uvbedcs(time, latitude, longitude), int16 d2m(time, latitude, longitude)\n",
            "    groups: \n"
          ]
        }
      ]
    },
    {
      "cell_type": "code",
      "source": [
        "# netcdf_files"
      ],
      "metadata": {
        "id": "60XudhcPW65D"
      },
      "execution_count": 33,
      "outputs": []
    },
    {
      "cell_type": "code",
      "source": [
        "#Variablen Deklaration\n",
        "latitudes = np.empty((1, 1))\n",
        "longitudes = np.empty((1, 1))\n",
        "time = np.empty((1, 1))\n",
        "aod469 = np.empty((1, 1))   # Aerosol Optical Depth at 469\n",
        "aod550 = np.empty((1, 1))   # Aerosol Optical Depth at 550\n",
        "gtco3 = np.empty((1, 1))    # Total Ozon Column\n",
        "uvbed = np.empty((1, 1))    # UVI All-Sky\n",
        "uvbedcs = np.empty((1, 1))  # UVI Clear-Sky\n",
        "hcc = np.empty((1, 1))      # High-Cloud-Cover\n",
        "lcc = np.empty((1, 1))      # Low-Cloud-Cover\n",
        "tcc = np.empty((1, 1))      # Total-Cloud-Cover\n",
        "# neu\n",
        "tp = np.empty((1, 1))       # Total Precipitation\n",
        "d2m = np.empty((1, 1))      # 2 Metre Dewpoint Temperature\n",
        "t2m = np.empty((1, 1))      # 2 Metre Temperature\n",
        "sund = np.empty((1, 1))     # Sunshine Duration\n",
        "ssrd = np.empty((1, 1))     # Surface Solar Radiation Downwards"
      ],
      "metadata": {
        "id": "UoEl-3yuEr3B"
      },
      "execution_count": 40,
      "outputs": []
    },
    {
      "cell_type": "code",
      "source": [
        "# Zuordnen der Variabeln zu entsprechenden NP-Arrays\n",
        "# fehlende Werte werden durch NaN Werte ersetzt, das mehrdimensionale Array wird zu einem eindimensonalen formatiert\n",
        "\n",
        "for nc_file in netcdf_files:\n",
        "    latitudes = np.append(latitudes, nc_file.variables['latitude'][0])\n",
        "    longitudes = np.append(longitudes, nc_file.variables['longitude'][0])\n",
        "    time = np.append(time, nc_file.variables['time'][:].filled(np.nan))\n",
        "    aod469 = np.append(aod469, nc_file.variables['aod469'][:].filled(np.nan).reshape(-3))\n",
        "    aod550 = np.append(aod550, nc_file.variables['aod550'][:].filled(np.nan).reshape(-3))\n",
        "    gtco3 = np.append(gtco3, nc_file.variables['gtco3'][:].filled(np.nan).reshape(-3))\n",
        "    uvbed = np.append(uvbed, nc_file.variables['uvbed'][:].filled(np.nan).reshape(-3))\n",
        "    uvbedcs = np.append(uvbedcs, nc_file.variables['uvbedcs'][:].filled(np.nan).reshape(-3))\n",
        "    hcc = np.append(hcc, nc_file.variables['hcc'][:].filled(np.nan).reshape(-3))\n",
        "    lcc = np.append(lcc, nc_file.variables['lcc'][:].filled(np.nan).reshape(-3))\n",
        "    tcc = np.append(tcc, nc_file.variables['tcc'][:].filled(np.nan).reshape(-3))\n",
        "    # neu\n",
        "    tp = np.append(uvbedcs, nc_file.variables['tp'][:].filled(np.nan).reshape(-3))\n",
        "    d2m = np.append(hcc, nc_file.variables['d2m'][:].filled(np.nan).reshape(-3))\n",
        "    t2m = np.append(lcc, nc_file.variables['t2m'][:].filled(np.nan).reshape(-3))\n",
        "    sund = np.append(tcc, nc_file.variables['sund'][:].filled(np.nan).reshape(-3))\n",
        "    ssrd = np.append(tcc, nc_file.variables['ssrd'][:].filled(np.nan).reshape(-3))"
      ],
      "metadata": {
        "id": "WpEhJuiYGKJf"
      },
      "execution_count": 41,
      "outputs": []
    },
    {
      "cell_type": "code",
      "source": [
        "print(len(time), len(aod469), len(aod550), len(uvbed), len(uvbedcs), len(hcc), len(lcc), len(tcc), len(tp), len(d2m), len(t2m), len(sund), len(ssrd))"
      ],
      "metadata": {
        "colab": {
          "base_uri": "https://localhost:8080/"
        },
        "id": "-FxwLLuggWMF",
        "outputId": "20ccbf39-9668-4329-a94d-0775124ed5a1"
      },
      "execution_count": 42,
      "outputs": [
        {
          "output_type": "stream",
          "name": "stdout",
          "text": [
            "10225 10225 10225 10225 10225 10225 10225 10225 10945 10945 10945 10945 10945\n"
          ]
        }
      ]
    },
    {
      "cell_type": "code",
      "source": [
        "# richtige DateTime berechen\n",
        "datetime = np.empty((1,1))\n",
        "datetime = np.array([origin + dt.timedelta(hours=int(i)) for i in time])"
      ],
      "metadata": {
        "id": "V8Sfh_WRC5pi"
      },
      "execution_count": 38,
      "outputs": []
    },
    {
      "cell_type": "code",
      "source": [
        "# Zuorden der NP-Arrays in einen Dataframe\n",
        "df_cams = pd.DataFrame({'Datetime': datetime, 'aod469': aod469, 'aod550': aod550, 'gtco3': gtco3,\n",
        "                         'uvbed': uvbed,'uvbedcs': uvbedcs, 'hcc': hcc, 'lcc': lcc, 'mcc': mcc, 'tcc': tcc, 'cbh': cbh})"
      ],
      "metadata": {
        "id": "PdvXQnQBULsX"
      },
      "execution_count": null,
      "outputs": []
    },
    {
      "cell_type": "code",
      "source": [
        "df_cams['uvbed'] = df_cams['uvbed'] * 40\n",
        "df_cams['uvbedcs'] = df_cams['uvbedcs'] * 40"
      ],
      "metadata": {
        "id": "IV3PuyvhT7gI"
      },
      "execution_count": null,
      "outputs": []
    },
    {
      "cell_type": "code",
      "source": [
        "df_cams['Datetime'] = pd.to_datetime(df_cams['Datetime'], format='%Y-%m-%d %H:%M:%S')"
      ],
      "metadata": {
        "id": "a2ZkgFNvmks9"
      },
      "execution_count": null,
      "outputs": []
    },
    {
      "cell_type": "code",
      "source": [
        "# Index des DF setzen\n",
        "df_cams.set_index('Datetime', inplace=True)"
      ],
      "metadata": {
        "id": "w97rm3fvnagc"
      },
      "execution_count": null,
      "outputs": []
    },
    {
      "cell_type": "code",
      "source": [
        "# Sontieren des DataFrame in die richtige Reihenfolge\n",
        "df_cams_sorted = pd.DataFrame()\n",
        "df_cams_sorted = df_cams.sort_index().drop(df_cams.index[0])"
      ],
      "metadata": {
        "id": "iayKm6uoF_B5"
      },
      "execution_count": null,
      "outputs": []
    },
    {
      "cell_type": "code",
      "source": [
        "# Ausgabe des sotierten Dataframes\n",
        "df_cams_sorted"
      ],
      "metadata": {
        "id": "PyHPpi-tLZKQ"
      },
      "execution_count": null,
      "outputs": []
    },
    {
      "cell_type": "markdown",
      "source": [
        "## Prüfen, ob der Dataframe alle Einträge enthält:"
      ],
      "metadata": {
        "id": "XaRfKKbmndO7"
      }
    },
    {
      "cell_type": "code",
      "source": [
        "# Prüfen, ob der Dataframe alle Einträge enthält\n",
        "for i in range(len(df_cams_sorted) - 1):\n",
        "    time_diff = df_cams_sorted.index[i + 1] - df_cams_sorted.index[i]\n",
        "    if time_diff != pd.to_timedelta('1H'):\n",
        "        print(f\"Index {i} und Index {i + 1} haben keinen Abstand von einer Stunde.\")"
      ],
      "metadata": {
        "id": "hJIvtXFbL4Ji"
      },
      "execution_count": null,
      "outputs": []
    },
    {
      "cell_type": "markdown",
      "source": [
        "## Abspeichern der Vorhersagewerte mit stündlicher Auflösung:"
      ],
      "metadata": {
        "id": "zjKvaqw4jU0n"
      }
    },
    {
      "cell_type": "code",
      "source": [
        "def save_dataframe_to_drive(dataframe, folder_path, filename):\n",
        "\n",
        "    # Erstellen des vollen Pfades zur Datei\n",
        "    full_path = os.path.join(folder_path, filename)\n",
        "\n",
        "    # Speichern des DataFrame als CSV-Datei auf Google Drive\n",
        "    dataframe.to_csv(full_path)\n",
        "\n",
        "    print(f'Der DataFrame wurde als {filename} in {folder_path} auf Google Drive gespeichert.')"
      ],
      "metadata": {
        "id": "38Mwi6sJDihp"
      },
      "execution_count": null,
      "outputs": []
    },
    {
      "cell_type": "code",
      "source": [
        "# Abspeichern des konvertierten DF als CSV\n",
        "dateiname = 'CSV_Cams_std'\n",
        "save_dataframe_to_drive(df_cams_sorted, pickle_path, dateiname)"
      ],
      "metadata": {
        "id": "d7XCZUzEDAz3"
      },
      "execution_count": null,
      "outputs": []
    },
    {
      "cell_type": "code",
      "source": [
        "df_cams_sorted"
      ],
      "metadata": {
        "id": "F93JE1s-sTDy"
      },
      "execution_count": null,
      "outputs": []
    },
    {
      "cell_type": "code",
      "source": [
        "# dateiname = 'pickle_CAMS_std'\n",
        "# df_cams_sorted.to_pickle(pickle_path + dateiname)"
      ],
      "metadata": {
        "id": "Y3CEW_eKz4oZ"
      },
      "execution_count": null,
      "outputs": []
    },
    {
      "cell_type": "markdown",
      "source": [
        "## Abspeichern des Dataframe mit 2 Min. Auflösung."
      ],
      "metadata": {
        "id": "yAPYiqb-kVdJ"
      }
    },
    {
      "cell_type": "code",
      "source": [
        "# Resampling der Zeitreihe auf 2 Min. und interpolation der fehlenden Messwerte\n",
        "# df_cams_resampled = df_cams.resample('2T')\n",
        "# df_cams_interpolated = df_cams_resampled.interpolate(method='polynomial', order = 1)"
      ],
      "metadata": {
        "id": "ZZC3q3n-IUv_"
      },
      "execution_count": null,
      "outputs": []
    },
    {
      "cell_type": "code",
      "source": [
        "# Abspeichern des konvertierten DF als CSV\n",
        "# dateiname = 'CSV_Cams_2M'\n",
        "# save_dataframe_to_drive(df_cams_interpolated, '/content/drive/My Drive/Colab_Notebooks/CSV_Vorhersage', dateiname)"
      ],
      "metadata": {
        "id": "TFwR_uY4khMB"
      },
      "execution_count": null,
      "outputs": []
    },
    {
      "cell_type": "code",
      "source": [
        "# dateiname = 'pickle_Cams_2M'\n",
        "# df_cams_interpolated.to_pickle(pickle_path + dateiname)"
      ],
      "metadata": {
        "id": "iNQTyRwF0Ff6"
      },
      "execution_count": null,
      "outputs": []
    }
  ]
}