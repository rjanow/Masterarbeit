{
  "nbformat": 4,
  "nbformat_minor": 0,
  "metadata": {
    "colab": {
      "provenance": [],
      "authorship_tag": "ABX9TyN7RIPGFvEoFHoLdfnd2OrV",
      "include_colab_link": true
    },
    "kernelspec": {
      "name": "python3",
      "display_name": "Python 3"
    },
    "language_info": {
      "name": "python"
    }
  },
  "cells": [
    {
      "cell_type": "markdown",
      "metadata": {
        "id": "view-in-github",
        "colab_type": "text"
      },
      "source": [
        "<a href=\"https://colab.research.google.com/github/rjanow/Masterarbeit/blob/main/netCDF4_to_CSV.ipynb\" target=\"_parent\"><img src=\"https://colab.research.google.com/assets/colab-badge.svg\" alt=\"Open In Colab\"/></a>"
      ]
    },
    {
      "cell_type": "markdown",
      "source": [
        "# Script um die netCDF4 Vorhersagewerte in einen Dataframe abzuspeichern"
      ],
      "metadata": {
        "id": "i2B2OHrSGmDT"
      }
    },
    {
      "cell_type": "markdown",
      "source": [
        "## Allgemeine Einstelllungen:"
      ],
      "metadata": {
        "id": "JihVkTkbjiKN"
      }
    },
    {
      "cell_type": "code",
      "execution_count": 1,
      "metadata": {
        "colab": {
          "base_uri": "https://localhost:8080/"
        },
        "id": "-s8BHga-2vKo",
        "outputId": "e28b5de5-f7af-450b-b8c8-9f4d73cb3a85"
      },
      "outputs": [
        {
          "output_type": "stream",
          "name": "stdout",
          "text": [
            "Requirement already satisfied: netCDF4 in /usr/local/lib/python3.10/dist-packages (1.6.4)\n",
            "Requirement already satisfied: cftime in /usr/local/lib/python3.10/dist-packages (from netCDF4) (1.6.2)\n",
            "Requirement already satisfied: certifi in /usr/local/lib/python3.10/dist-packages (from netCDF4) (2023.7.22)\n",
            "Requirement already satisfied: numpy in /usr/local/lib/python3.10/dist-packages (from netCDF4) (1.23.5)\n"
          ]
        }
      ],
      "source": [
        "!pip install netCDF4"
      ]
    },
    {
      "cell_type": "code",
      "source": [
        "from google.colab import drive\n",
        "\n",
        "# Mounten des Google-Drive Kontos\n",
        "drive.mount('/content/drive')"
      ],
      "metadata": {
        "colab": {
          "base_uri": "https://localhost:8080/"
        },
        "id": "h2_FeYPA_Mfq",
        "outputId": "37cbe22c-7003-4cdd-d26d-95a6b232438c"
      },
      "execution_count": 2,
      "outputs": [
        {
          "output_type": "stream",
          "name": "stdout",
          "text": [
            "Drive already mounted at /content/drive; to attempt to forcibly remount, call drive.mount(\"/content/drive\", force_remount=True).\n"
          ]
        }
      ]
    },
    {
      "cell_type": "code",
      "source": [
        "# Import der benötigten Module\n",
        "import os\n",
        "import netCDF4 as nc\n",
        "import numpy as np\n",
        "import pandas as pd\n",
        "import datetime as dt\n",
        "import matplotlib.pyplot as plt"
      ],
      "metadata": {
        "id": "aIT9A4pzVh0d"
      },
      "execution_count": 3,
      "outputs": []
    },
    {
      "cell_type": "code",
      "source": [
        "# Zeit wird in Stunden seit 1.1.1900 00:00 angegeben\n",
        "origin = dt.datetime(1900, 1, 1, 0, 0, 0, 0)"
      ],
      "metadata": {
        "id": "WDT9g8r_LvX2"
      },
      "execution_count": 4,
      "outputs": []
    },
    {
      "cell_type": "code",
      "source": [
        "# Drive Ordner mit den Vorhersagewerten im NetCDF4-Format\n",
        "drive_folder = '/content/drive/My Drive/Colab_Notebooks/netCDF4_Wetterdaten/'"
      ],
      "metadata": {
        "id": "pALUt9Lh_Q4Y"
      },
      "execution_count": 5,
      "outputs": []
    },
    {
      "cell_type": "markdown",
      "source": [
        "## Einlesen der NetCDF4-Dateien:"
      ],
      "metadata": {
        "id": "mENI5XOei_ck"
      }
    },
    {
      "cell_type": "code",
      "source": [
        "def read_nc_files_in_google_drive(folder_path):\n",
        "    nc_files = []  # Liste, um die NetCDF4-Datensätze abzuspeichern\n",
        "\n",
        "    if os.path.exists(folder_path):\n",
        "        # Durchsuchen des Drive-Ordners nach Dateien\n",
        "        for file_name in os.listdir(folder_path):\n",
        "            file_path = os.path.join(folder_path, file_name)\n",
        "\n",
        "            # Überprüfen, ob die Datei eine NetCDF4-Datei ist\n",
        "            if file_name.endswith(\".nc\"):\n",
        "                try:\n",
        "                    # Öffnen der NetCDF4-Datei und huzfügen zur Liste\n",
        "                    nc_file = nc.Dataset(file_path)\n",
        "                    nc_files.append(nc_file)\n",
        "                except Exception as e:\n",
        "                    print(f\"Fehler beim Öffnen von {file_name}: {str(e)}\")\n",
        "\n",
        "    return nc_files"
      ],
      "metadata": {
        "id": "raa9HC67BJ3O"
      },
      "execution_count": 6,
      "outputs": []
    },
    {
      "cell_type": "code",
      "source": [
        "# Funktionsaufruf zum Einlesen der NetCDF4-Dateien\n",
        "netcdf_files = read_nc_files_in_google_drive(drive_folder)"
      ],
      "metadata": {
        "id": "qjoiyX9ABN9c"
      },
      "execution_count": 7,
      "outputs": []
    },
    {
      "cell_type": "code",
      "source": [
        "# Variablen Deklaration\n",
        "latitudes = np.empty((1, 1))\n",
        "longitudes = np.empty((1, 1))\n",
        "time = np.empty((1, 1))\n",
        "aod469 = np.empty((1, 1))\n",
        "aod550 = np.empty((1, 1))\n",
        "aod670 = np.empty((1, 1))\n",
        "aod865 = np.empty((1, 1))\n",
        "gtco3 = np.empty((1, 1))\n",
        "uvbed = np.empty((1, 1))\n",
        "uvbedcs = np.empty((1, 1))\n",
        "hcc = np.empty((1, 1))\n",
        "lcc = np.empty((1, 1))\n",
        "mcc = np.empty((1, 1))\n",
        "tcc = np.empty((1, 1))\n",
        "cbh = np.empty((1, 1))"
      ],
      "metadata": {
        "id": "UoEl-3yuEr3B"
      },
      "execution_count": 8,
      "outputs": []
    },
    {
      "cell_type": "code",
      "source": [
        "# Zuordnen der Variabeln zu entsprechenden NP-Arrays\n",
        "# fehlende Werte werden durch NaN Werte ersetzt, das mehrdimensionale Array wird zu einem eindimensonalen formatiert\n",
        "for nc_file in netcdf_files:\n",
        "    latitudes = np.append(latitudes, nc_file.variables['latitude'][0])\n",
        "    longitudes = np.append(longitudes, nc_file.variables['longitude'][0])\n",
        "    time = np.append(time, nc_file.variables['time'][:].filled(np.nan))\n",
        "    aod469 = np.append(aod469, nc_file.variables['aod469'][:].filled(np.nan).reshape(-3))\n",
        "    aod550 = np.append(aod550, nc_file.variables['aod550'][:].filled(np.nan).reshape(-3))\n",
        "    aod670 = np.append(aod670, nc_file.variables['aod670'][:].filled(np.nan).reshape(-3))\n",
        "    aod865 = np.append(aod865, nc_file.variables['aod865'][:].filled(np.nan).reshape(-3))\n",
        "    gtco3 = np.append(gtco3, nc_file.variables['gtco3'][:].filled(np.nan).reshape(-3))\n",
        "    uvbed = np.append(uvbed, nc_file.variables['uvbed'][:].filled(np.nan).reshape(-3))\n",
        "    uvbedcs = np.append(uvbedcs, nc_file.variables['uvbedcs'][:].filled(np.nan).reshape(-3))\n",
        "    hcc = np.append(hcc, nc_file.variables['hcc'][:].filled(np.nan).reshape(-3))\n",
        "    lcc = np.append(lcc, nc_file.variables['lcc'][:].filled(np.nan).reshape(-3))\n",
        "    mcc = np.append(mcc, nc_file.variables['mcc'][:].filled(np.nan).reshape(-3))\n",
        "    tcc = np.append(tcc, nc_file.variables['tcc'][:].filled(np.nan).reshape(-3))\n",
        "    cbh = np.append(cbh, nc_file.variables['cbh'][:].filled(np.nan).reshape(-3))"
      ],
      "metadata": {
        "id": "WpEhJuiYGKJf"
      },
      "execution_count": 9,
      "outputs": []
    },
    {
      "cell_type": "code",
      "source": [
        "print(len(time), len(aod469), len(aod550), len(aod670), len(aod865), len(aod865), len(uvbed), len(uvbedcs), len(hcc), len(lcc), len(mcc), len(tcc), len(cbh))"
      ],
      "metadata": {
        "colab": {
          "base_uri": "https://localhost:8080/"
        },
        "id": "-FxwLLuggWMF",
        "outputId": "f4927338-f3d8-408c-c893-4319753a190a"
      },
      "execution_count": 10,
      "outputs": [
        {
          "output_type": "stream",
          "name": "stdout",
          "text": [
            "11689 11689 11689 11689 11689 11689 11689 11689 11689 11689 11689 11689 11689\n"
          ]
        }
      ]
    },
    {
      "cell_type": "code",
      "source": [
        "# richtige DateTime berechen\n",
        "datetime = np.empty((1,1))\n",
        "datetime = np.array([origin + dt.timedelta(hours=int(i)) for i in time])"
      ],
      "metadata": {
        "id": "V8Sfh_WRC5pi"
      },
      "execution_count": 11,
      "outputs": []
    },
    {
      "cell_type": "code",
      "source": [
        "# Zuorden der NP-Arrays in einen Dataframe\n",
        "df_cams = pd.DataFrame({'time': datetime, 'aod469': aod469, 'aod550': aod550,'aod670': aod670,'aod865': aod865,'aod865': gtco3,\n",
        "                        'uvbed': uvbed,'uvbedcs': uvbedcs, 'hcc': hcc, 'lcc': lcc, 'mcc': mcc, 'tcc': tcc, 'cbh': cbh})"
      ],
      "metadata": {
        "id": "tggfH_Un_F_f"
      },
      "execution_count": 12,
      "outputs": []
    },
    {
      "cell_type": "code",
      "source": [
        "# Index des DF setzen\n",
        "df_cams.set_index('time', inplace=True)"
      ],
      "metadata": {
        "id": "EqRlKYcOCayt"
      },
      "execution_count": 13,
      "outputs": []
    },
    {
      "cell_type": "code",
      "source": [
        "# Sontieren des DataFrame in die richtige Reihenfolge\n",
        "df_cams_sorted = pd.DataFrame()\n",
        "df_cams_sorted = df_cams.sort_index().drop(df_cams.index[0])"
      ],
      "metadata": {
        "id": "iayKm6uoF_B5"
      },
      "execution_count": 14,
      "outputs": []
    },
    {
      "cell_type": "code",
      "source": [
        "# Ausgabe des sotierten Dataframes\n",
        "df_cams_sorted"
      ],
      "metadata": {
        "id": "PyHPpi-tLZKQ"
      },
      "execution_count": null,
      "outputs": []
    },
    {
      "cell_type": "code",
      "source": [
        "# Prüfen, ob der Dataframe alle einträge enthält\n",
        "for i in range(len(df_cams_sorted) - 1):\n",
        "    time_diff = df_cams_sorted.index[i + 1] - df_cams_sorted.index[i]\n",
        "    if time_diff != pd.to_timedelta('1H'):\n",
        "        print(f\"Index {i} und Index {i + 1} haben keinen Abstand von einer Stunde.\")"
      ],
      "metadata": {
        "id": "hJIvtXFbL4Ji"
      },
      "execution_count": 16,
      "outputs": []
    },
    {
      "cell_type": "markdown",
      "source": [
        "## Abspeichern der Vorhersagewerte mit stündlicher Auflösung:"
      ],
      "metadata": {
        "id": "zjKvaqw4jU0n"
      }
    },
    {
      "cell_type": "code",
      "source": [
        "def save_dataframe_to_drive(dataframe, folder_path, filename):\n",
        "\n",
        "    # Erstellen des vollen Pfades zur Datei\n",
        "    full_path = os.path.join(folder_path, filename)\n",
        "\n",
        "    # Speichern des DataFrame als CSV-Datei auf Google Drive\n",
        "    dataframe.to_csv(full_path, index=False)\n",
        "\n",
        "    print(f'Der DataFrame wurde als {filename} in {folder_path} auf Google Drive gespeichert.')"
      ],
      "metadata": {
        "id": "38Mwi6sJDihp"
      },
      "execution_count": 22,
      "outputs": []
    },
    {
      "cell_type": "code",
      "source": [
        "# Abspeichern des konvertierten DF als CSV\n",
        "dateiname = 'CSV_Cams_std'\n",
        "save_dataframe_to_drive(df_cams_sorted, '/content/drive/My Drive/Colab_Notebooks/CSV_Vorhersage', dateiname)"
      ],
      "metadata": {
        "id": "d7XCZUzEDAz3"
      },
      "execution_count": null,
      "outputs": []
    },
    {
      "cell_type": "markdown",
      "source": [
        "## Abspeichern des Dataframe mit 2 Min. Auflösung."
      ],
      "metadata": {
        "id": "yAPYiqb-kVdJ"
      }
    },
    {
      "cell_type": "code",
      "source": [
        "# Resampling der Zeitreihe auf 2 Min. und interpolation der fehlenden Messwerte\n",
        "df_cams_resampled = df_cams.resample('2T')\n",
        "df_cams_interpolated = df_cams_resampled.interpolate(method='polynomial', order = 1)"
      ],
      "metadata": {
        "id": "ZZC3q3n-IUv_"
      },
      "execution_count": 17,
      "outputs": []
    },
    {
      "cell_type": "code",
      "source": [
        "# Abspeichern des konvertierten DF als CSV\n",
        "dateiname = 'CSV_Cams_2M'\n",
        "save_dataframe_to_drive(df_cams_interpolated, '/content/drive/My Drive/Colab_Notebooks/CSV_Vorhersage', dateiname)"
      ],
      "metadata": {
        "id": "TFwR_uY4khMB"
      },
      "execution_count": null,
      "outputs": []
    }
  ]
}