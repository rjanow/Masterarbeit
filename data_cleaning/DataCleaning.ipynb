{
  "nbformat": 4,
  "nbformat_minor": 0,
  "metadata": {
    "colab": {
      "provenance": [],
      "authorship_tag": "ABX9TyM58sC+6lvXfPMKVORY+OPw",
      "include_colab_link": true
    },
    "kernelspec": {
      "name": "python3",
      "display_name": "Python 3"
    },
    "language_info": {
      "name": "python"
    }
  },
  "cells": [
    {
      "cell_type": "markdown",
      "metadata": {
        "id": "view-in-github",
        "colab_type": "text"
      },
      "source": [
        "<a href=\"https://colab.research.google.com/github/rjanow/Masterarbeit/blob/main/data_cleaning/DataCleaning.ipynb\" target=\"_parent\"><img src=\"https://colab.research.google.com/assets/colab-badge.svg\" alt=\"Open In Colab\"/></a>"
      ]
    },
    {
      "cell_type": "markdown",
      "source": [
        "# Skript um die Messdaten un Vorhersagedaten zusammen zu fühern und dieses zu bereinigen. Zudem werden weitere Features die für das Trainig des Netzwerks wichtig sind erzeugt.\n",
        "\n",
        "Dateiname: Data_Cleaning\n",
        "\n",
        "[Notebook 0: Data Cleaning](./0_DataCleaning.ipynb)\n",
        "\n",
        "[Notebook 1: EDA](./1_EDA_and_Cleaning.ipynb)\n",
        "\n",
        "[Notebook 2: Modeling and Predictions](./2_Modeling_and_Predictions.ipynb)\n",
        "\n",
        "[Notebook 3: Technical Report](./3_Technical_Report.ipynb)"
      ],
      "metadata": {
        "id": "Pya7NE9rw_L7"
      }
    },
    {
      "cell_type": "markdown",
      "source": [
        "## Installation der Bibliothek PVlib:\n",
        "Dieses Modul wird für die Berechnung des Sonnenstandwinkels verwendet."
      ],
      "metadata": {
        "id": "XyGPXUGTlUJn"
      }
    },
    {
      "cell_type": "code",
      "source": [
        "# Installation der pvlib um den Sonnenstandswinkel zu berechnen\n",
        "!pip install pvlib"
      ],
      "metadata": {
        "id": "sZo5aGbp6Qzv",
        "outputId": "de676ded-2ea9-4339-b7b8-cf939f9cb5c6",
        "colab": {
          "base_uri": "https://localhost:8080/"
        }
      },
      "execution_count": 1,
      "outputs": [
        {
          "output_type": "stream",
          "name": "stdout",
          "text": [
            "Requirement already satisfied: pvlib in /usr/local/lib/python3.10/dist-packages (0.10.4)\n",
            "Requirement already satisfied: numpy>=1.17.3 in /usr/local/lib/python3.10/dist-packages (from pvlib) (1.25.2)\n",
            "Requirement already satisfied: pandas>=1.3.0 in /usr/local/lib/python3.10/dist-packages (from pvlib) (2.0.3)\n",
            "Requirement already satisfied: pytz in /usr/local/lib/python3.10/dist-packages (from pvlib) (2023.4)\n",
            "Requirement already satisfied: requests in /usr/local/lib/python3.10/dist-packages (from pvlib) (2.31.0)\n",
            "Requirement already satisfied: scipy>=1.5.0 in /usr/local/lib/python3.10/dist-packages (from pvlib) (1.11.4)\n",
            "Requirement already satisfied: h5py in /usr/local/lib/python3.10/dist-packages (from pvlib) (3.9.0)\n",
            "Requirement already satisfied: python-dateutil>=2.8.2 in /usr/local/lib/python3.10/dist-packages (from pandas>=1.3.0->pvlib) (2.8.2)\n",
            "Requirement already satisfied: tzdata>=2022.1 in /usr/local/lib/python3.10/dist-packages (from pandas>=1.3.0->pvlib) (2024.1)\n",
            "Requirement already satisfied: charset-normalizer<4,>=2 in /usr/local/lib/python3.10/dist-packages (from requests->pvlib) (3.3.2)\n",
            "Requirement already satisfied: idna<4,>=2.5 in /usr/local/lib/python3.10/dist-packages (from requests->pvlib) (3.6)\n",
            "Requirement already satisfied: urllib3<3,>=1.21.1 in /usr/local/lib/python3.10/dist-packages (from requests->pvlib) (2.0.7)\n",
            "Requirement already satisfied: certifi>=2017.4.17 in /usr/local/lib/python3.10/dist-packages (from requests->pvlib) (2024.2.2)\n",
            "Requirement already satisfied: six>=1.5 in /usr/local/lib/python3.10/dist-packages (from python-dateutil>=2.8.2->pandas>=1.3.0->pvlib) (1.16.0)\n"
          ]
        }
      ]
    },
    {
      "cell_type": "markdown",
      "source": [
        "## Import der benötigten Module und allgemeines Setup:"
      ],
      "metadata": {
        "id": "lWgvw9lEzJUr"
      }
    },
    {
      "cell_type": "code",
      "source": [
        "# Verbinden mit der Google-Drive\n",
        "from google.colab import drive\n",
        "drive.mount('/content/drive')"
      ],
      "metadata": {
        "id": "1SZflPUFXQMy",
        "colab": {
          "base_uri": "https://localhost:8080/"
        },
        "outputId": "d0711407-2351-429c-aaec-c1f50d75892a"
      },
      "execution_count": 2,
      "outputs": [
        {
          "output_type": "stream",
          "name": "stdout",
          "text": [
            "Drive already mounted at /content/drive; to attempt to forcibly remount, call drive.mount(\"/content/drive\", force_remount=True).\n"
          ]
        }
      ]
    },
    {
      "cell_type": "code",
      "source": [
        "# import der benötigten Module\n",
        "\n",
        "import numpy as np\n",
        "import pandas as pd\n",
        "import matplotlib.pyplot as plt\n",
        "import matplotlib.dates as mdates\n",
        "import pvlib\n",
        "\n",
        "from datetime import datetime\n",
        "from datetime import timedelta\n",
        "\n",
        "import matplotlib\n",
        "import seaborn as sns"
      ],
      "metadata": {
        "id": "PkdOG-2sz6ni"
      },
      "execution_count": 3,
      "outputs": []
    },
    {
      "cell_type": "code",
      "source": [
        "# Standort der Messstaion für die Berechnung des Sonnenstandswinkel\n",
        "latitude = 50.8\n",
        "longitude = 7.2\n",
        "\n",
        "# Angaben um das Datum und die Uhrzeit in Sin und Cos zu codieren\n",
        "seconds_in_day = 24*60*60\n",
        "seconds_in_year = (365.2425)*seconds_in_day"
      ],
      "metadata": {
        "id": "shv1JklsbKRR"
      },
      "execution_count": 4,
      "outputs": []
    },
    {
      "cell_type": "code",
      "source": [
        "# Pfad zu den Messwerten / Vorhersagewerten und dem Speicherort auf Google Drive\n",
        "# Import\n",
        "folder_UVI = '/content/drive/My Drive/Colab_Notebooks/CSV_UVI/'\n",
        "folder_Solys = '/content/drive/My Drive/Colab_Notebooks/SOLYS_CSV/'\n",
        "folder_CAMS = '/content/drive/My Drive/Colab_Notebooks/CAMS_Vorhersage/'\n",
        "folder_VarIdx = '/content/drive/My Drive/Colab_Notebooks/CAMS_Vorhersage/'\n",
        "\n",
        "name_UVI = ['22.06', '22.07', '22.08', '22.09', '22.10', '22.11', '22.12', '23.01', '23.02', '23.03', '23.04', '23.05', '23.07', '23.08']  # Hier wird angegeben, welche Monate importiert werden sollen\n",
        "name_Solys = 'Solys_CSV'\n",
        "name_CAMS = 'CAMS_std_CSV'\n",
        "name_CAMS_Glo = 'CAMS_Glo_CSV'\n",
        "name_CAMS_TCC = 'CAMS_TCC_CSV'\n",
        "name_VarIdx = 'blabla'\n",
        "\n",
        "# Export"
      ],
      "metadata": {
        "id": "9Y0wG7A1TZGS"
      },
      "execution_count": 5,
      "outputs": []
    },
    {
      "cell_type": "markdown",
      "source": [
        "## Import der UVI-Messdaten:\n",
        "\n",
        "Die Messdaten sind in CSV-Dateien gespeichert und müssen importiert werden."
      ],
      "metadata": {
        "id": "xQ--fkAQ0mTI"
      }
    },
    {
      "cell_type": "code",
      "source": [
        "## Code zum Import der Messdaten\n",
        "dataframes = []\n",
        "df_UVI_combined = []\n",
        "\n",
        "for name in name_UVI:\n",
        "  file_path = folder_UVI + name\n",
        "  # print(file_path)\n",
        "  df_import = pd.read_csv(file_path)\n",
        "  dataframes.append(df_import)\n",
        "\n",
        "df_UVI_combined = pd.concat(dataframes, ignore_index=True)\n",
        "df_UVI_combined['Datetime'] = pd.to_datetime(df_UVI_combined['Datetime'])"
      ],
      "metadata": {
        "id": "oBIFSSvi1Dox"
      },
      "execution_count": 6,
      "outputs": []
    },
    {
      "cell_type": "code",
      "source": [
        "# df_UVI_combined.fillna(0)"
      ],
      "metadata": {
        "id": "1zmKoxHXuzVp"
      },
      "execution_count": 7,
      "outputs": []
    },
    {
      "cell_type": "markdown",
      "source": [
        "## Import der Solys-Messdaten:\n",
        "\n",
        "Messdaten mit einer 2-minütigen Auflösung. Die Daten sind noch nicht reduziert."
      ],
      "metadata": {
        "id": "WIPKTgRbI7gg"
      }
    },
    {
      "cell_type": "code",
      "source": [
        "# Einlesen der Solys-Messdaten:\n",
        "df_Solys = pd.read_csv(folder_Solys + name_Solys)\n",
        "\n",
        "# Die Spalte mit dem Zeitstempel in das Datetimeformat umwandeln und als Index speichern\n",
        "df_Solys['Datetime'] = pd.to_datetime(df_Solys['Datetime'])\n",
        "df_Solys.set_index('Datetime', inplace = True)"
      ],
      "metadata": {
        "id": "TRSTySEzJAgt"
      },
      "execution_count": 8,
      "outputs": []
    },
    {
      "cell_type": "code",
      "source": [
        "# df_Solys"
      ],
      "metadata": {
        "id": "LwwH53hKtpFT"
      },
      "execution_count": 9,
      "outputs": []
    },
    {
      "cell_type": "markdown",
      "source": [
        "## Import der CAMS-Vorhersagedaten:\n",
        "\n",
        "Die Daten sind noch nicht reduziert und es gibt für jede Stunde des Tages eine Vorhersage."
      ],
      "metadata": {
        "id": "5aVEMfwxXY0U"
      }
    },
    {
      "cell_type": "code",
      "source": [
        "# Einlesen der Solys-Messdaten:\n",
        "df_CAMS = pd.read_csv(folder_CAMS + name_CAMS)\n",
        "\n",
        "# Die Spalte mit dem Zeitstempel in das Datetimeformat umwandeln und als Index speichern\n",
        "df_CAMS['Datetime'] = pd.to_datetime(df_CAMS['Datetime'])\n",
        "df_CAMS.set_index('Datetime', inplace = True)"
      ],
      "metadata": {
        "id": "w9R47TNzXX4H"
      },
      "execution_count": 10,
      "outputs": []
    },
    {
      "cell_type": "code",
      "source": [
        "# df_CAMS"
      ],
      "metadata": {
        "id": "w6nCW1qIYog0"
      },
      "execution_count": 11,
      "outputs": []
    },
    {
      "cell_type": "markdown",
      "source": [
        "## Import der CAMS-Globalstrahlungs-Vorhersagedaten:"
      ],
      "metadata": {
        "id": "_WZrIo77XgYI"
      }
    },
    {
      "cell_type": "code",
      "source": [
        "# Einlesen der Solys-Messdaten:\n",
        "df_CAMS_GLO = pd.read_csv(folder_CAMS + name_CAMS_Glo)\n",
        "\n",
        "# Die Spalte mit dem Zeitstempel in das Datetimeformat umwandeln und als Index speichern\n",
        "df_CAMS_GLO['Datetime'] = pd.to_datetime(df_CAMS_GLO['Observation_period'])\n",
        "df_CAMS_GLO.set_index('Datetime', inplace = True)\n",
        "df_CAMS_GLO.drop(['Unnamed: 0', 'Observation_period'], axis = 1)"
      ],
      "metadata": {
        "colab": {
          "base_uri": "https://localhost:8080/",
          "height": 455
        },
        "id": "5Uu55ZrRXngd",
        "outputId": "7ea30b60-7cfd-43af-9c5a-bccb7e92e9eb"
      },
      "execution_count": 12,
      "outputs": [
        {
          "output_type": "execute_result",
          "data": {
            "text/plain": [
              "                     Clear_sky_GHI  Clear_sky_BHI  GHI  BHI\n",
              "Datetime                                                   \n",
              "2022-06-01 00:01:00            0.0            0.0  0.0  0.0\n",
              "2022-06-01 00:03:00            0.0            0.0  0.0  0.0\n",
              "2022-06-01 00:05:00            0.0            0.0  0.0  0.0\n",
              "2022-06-01 00:07:00            0.0            0.0  0.0  0.0\n",
              "2022-06-01 00:09:00            0.0            0.0  0.0  0.0\n",
              "...                            ...            ...  ...  ...\n",
              "2023-08-31 23:51:00            0.0            0.0  0.0  0.0\n",
              "2023-08-31 23:53:00            0.0            0.0  0.0  0.0\n",
              "2023-08-31 23:55:00            0.0            0.0  0.0  0.0\n",
              "2023-08-31 23:57:00            0.0            0.0  0.0  0.0\n",
              "2023-08-31 23:59:00            0.0            0.0  0.0  0.0\n",
              "\n",
              "[329040 rows x 4 columns]"
            ],
            "text/html": [
              "\n",
              "  <div id=\"df-29830c45-006d-49c8-bc15-c87860bf8516\" class=\"colab-df-container\">\n",
              "    <div>\n",
              "<style scoped>\n",
              "    .dataframe tbody tr th:only-of-type {\n",
              "        vertical-align: middle;\n",
              "    }\n",
              "\n",
              "    .dataframe tbody tr th {\n",
              "        vertical-align: top;\n",
              "    }\n",
              "\n",
              "    .dataframe thead th {\n",
              "        text-align: right;\n",
              "    }\n",
              "</style>\n",
              "<table border=\"1\" class=\"dataframe\">\n",
              "  <thead>\n",
              "    <tr style=\"text-align: right;\">\n",
              "      <th></th>\n",
              "      <th>Clear_sky_GHI</th>\n",
              "      <th>Clear_sky_BHI</th>\n",
              "      <th>GHI</th>\n",
              "      <th>BHI</th>\n",
              "    </tr>\n",
              "    <tr>\n",
              "      <th>Datetime</th>\n",
              "      <th></th>\n",
              "      <th></th>\n",
              "      <th></th>\n",
              "      <th></th>\n",
              "    </tr>\n",
              "  </thead>\n",
              "  <tbody>\n",
              "    <tr>\n",
              "      <th>2022-06-01 00:01:00</th>\n",
              "      <td>0.0</td>\n",
              "      <td>0.0</td>\n",
              "      <td>0.0</td>\n",
              "      <td>0.0</td>\n",
              "    </tr>\n",
              "    <tr>\n",
              "      <th>2022-06-01 00:03:00</th>\n",
              "      <td>0.0</td>\n",
              "      <td>0.0</td>\n",
              "      <td>0.0</td>\n",
              "      <td>0.0</td>\n",
              "    </tr>\n",
              "    <tr>\n",
              "      <th>2022-06-01 00:05:00</th>\n",
              "      <td>0.0</td>\n",
              "      <td>0.0</td>\n",
              "      <td>0.0</td>\n",
              "      <td>0.0</td>\n",
              "    </tr>\n",
              "    <tr>\n",
              "      <th>2022-06-01 00:07:00</th>\n",
              "      <td>0.0</td>\n",
              "      <td>0.0</td>\n",
              "      <td>0.0</td>\n",
              "      <td>0.0</td>\n",
              "    </tr>\n",
              "    <tr>\n",
              "      <th>2022-06-01 00:09:00</th>\n",
              "      <td>0.0</td>\n",
              "      <td>0.0</td>\n",
              "      <td>0.0</td>\n",
              "      <td>0.0</td>\n",
              "    </tr>\n",
              "    <tr>\n",
              "      <th>...</th>\n",
              "      <td>...</td>\n",
              "      <td>...</td>\n",
              "      <td>...</td>\n",
              "      <td>...</td>\n",
              "    </tr>\n",
              "    <tr>\n",
              "      <th>2023-08-31 23:51:00</th>\n",
              "      <td>0.0</td>\n",
              "      <td>0.0</td>\n",
              "      <td>0.0</td>\n",
              "      <td>0.0</td>\n",
              "    </tr>\n",
              "    <tr>\n",
              "      <th>2023-08-31 23:53:00</th>\n",
              "      <td>0.0</td>\n",
              "      <td>0.0</td>\n",
              "      <td>0.0</td>\n",
              "      <td>0.0</td>\n",
              "    </tr>\n",
              "    <tr>\n",
              "      <th>2023-08-31 23:55:00</th>\n",
              "      <td>0.0</td>\n",
              "      <td>0.0</td>\n",
              "      <td>0.0</td>\n",
              "      <td>0.0</td>\n",
              "    </tr>\n",
              "    <tr>\n",
              "      <th>2023-08-31 23:57:00</th>\n",
              "      <td>0.0</td>\n",
              "      <td>0.0</td>\n",
              "      <td>0.0</td>\n",
              "      <td>0.0</td>\n",
              "    </tr>\n",
              "    <tr>\n",
              "      <th>2023-08-31 23:59:00</th>\n",
              "      <td>0.0</td>\n",
              "      <td>0.0</td>\n",
              "      <td>0.0</td>\n",
              "      <td>0.0</td>\n",
              "    </tr>\n",
              "  </tbody>\n",
              "</table>\n",
              "<p>329040 rows × 4 columns</p>\n",
              "</div>\n",
              "    <div class=\"colab-df-buttons\">\n",
              "\n",
              "  <div class=\"colab-df-container\">\n",
              "    <button class=\"colab-df-convert\" onclick=\"convertToInteractive('df-29830c45-006d-49c8-bc15-c87860bf8516')\"\n",
              "            title=\"Convert this dataframe to an interactive table.\"\n",
              "            style=\"display:none;\">\n",
              "\n",
              "  <svg xmlns=\"http://www.w3.org/2000/svg\" height=\"24px\" viewBox=\"0 -960 960 960\">\n",
              "    <path d=\"M120-120v-720h720v720H120Zm60-500h600v-160H180v160Zm220 220h160v-160H400v160Zm0 220h160v-160H400v160ZM180-400h160v-160H180v160Zm440 0h160v-160H620v160ZM180-180h160v-160H180v160Zm440 0h160v-160H620v160Z\"/>\n",
              "  </svg>\n",
              "    </button>\n",
              "\n",
              "  <style>\n",
              "    .colab-df-container {\n",
              "      display:flex;\n",
              "      gap: 12px;\n",
              "    }\n",
              "\n",
              "    .colab-df-convert {\n",
              "      background-color: #E8F0FE;\n",
              "      border: none;\n",
              "      border-radius: 50%;\n",
              "      cursor: pointer;\n",
              "      display: none;\n",
              "      fill: #1967D2;\n",
              "      height: 32px;\n",
              "      padding: 0 0 0 0;\n",
              "      width: 32px;\n",
              "    }\n",
              "\n",
              "    .colab-df-convert:hover {\n",
              "      background-color: #E2EBFA;\n",
              "      box-shadow: 0px 1px 2px rgba(60, 64, 67, 0.3), 0px 1px 3px 1px rgba(60, 64, 67, 0.15);\n",
              "      fill: #174EA6;\n",
              "    }\n",
              "\n",
              "    .colab-df-buttons div {\n",
              "      margin-bottom: 4px;\n",
              "    }\n",
              "\n",
              "    [theme=dark] .colab-df-convert {\n",
              "      background-color: #3B4455;\n",
              "      fill: #D2E3FC;\n",
              "    }\n",
              "\n",
              "    [theme=dark] .colab-df-convert:hover {\n",
              "      background-color: #434B5C;\n",
              "      box-shadow: 0px 1px 3px 1px rgba(0, 0, 0, 0.15);\n",
              "      filter: drop-shadow(0px 1px 2px rgba(0, 0, 0, 0.3));\n",
              "      fill: #FFFFFF;\n",
              "    }\n",
              "  </style>\n",
              "\n",
              "    <script>\n",
              "      const buttonEl =\n",
              "        document.querySelector('#df-29830c45-006d-49c8-bc15-c87860bf8516 button.colab-df-convert');\n",
              "      buttonEl.style.display =\n",
              "        google.colab.kernel.accessAllowed ? 'block' : 'none';\n",
              "\n",
              "      async function convertToInteractive(key) {\n",
              "        const element = document.querySelector('#df-29830c45-006d-49c8-bc15-c87860bf8516');\n",
              "        const dataTable =\n",
              "          await google.colab.kernel.invokeFunction('convertToInteractive',\n",
              "                                                    [key], {});\n",
              "        if (!dataTable) return;\n",
              "\n",
              "        const docLinkHtml = 'Like what you see? Visit the ' +\n",
              "          '<a target=\"_blank\" href=https://colab.research.google.com/notebooks/data_table.ipynb>data table notebook</a>'\n",
              "          + ' to learn more about interactive tables.';\n",
              "        element.innerHTML = '';\n",
              "        dataTable['output_type'] = 'display_data';\n",
              "        await google.colab.output.renderOutput(dataTable, element);\n",
              "        const docLink = document.createElement('div');\n",
              "        docLink.innerHTML = docLinkHtml;\n",
              "        element.appendChild(docLink);\n",
              "      }\n",
              "    </script>\n",
              "  </div>\n",
              "\n",
              "\n",
              "<div id=\"df-03c73809-3c0c-44d8-aa64-96344411c475\">\n",
              "  <button class=\"colab-df-quickchart\" onclick=\"quickchart('df-03c73809-3c0c-44d8-aa64-96344411c475')\"\n",
              "            title=\"Suggest charts\"\n",
              "            style=\"display:none;\">\n",
              "\n",
              "<svg xmlns=\"http://www.w3.org/2000/svg\" height=\"24px\"viewBox=\"0 0 24 24\"\n",
              "     width=\"24px\">\n",
              "    <g>\n",
              "        <path d=\"M19 3H5c-1.1 0-2 .9-2 2v14c0 1.1.9 2 2 2h14c1.1 0 2-.9 2-2V5c0-1.1-.9-2-2-2zM9 17H7v-7h2v7zm4 0h-2V7h2v10zm4 0h-2v-4h2v4z\"/>\n",
              "    </g>\n",
              "</svg>\n",
              "  </button>\n",
              "\n",
              "<style>\n",
              "  .colab-df-quickchart {\n",
              "      --bg-color: #E8F0FE;\n",
              "      --fill-color: #1967D2;\n",
              "      --hover-bg-color: #E2EBFA;\n",
              "      --hover-fill-color: #174EA6;\n",
              "      --disabled-fill-color: #AAA;\n",
              "      --disabled-bg-color: #DDD;\n",
              "  }\n",
              "\n",
              "  [theme=dark] .colab-df-quickchart {\n",
              "      --bg-color: #3B4455;\n",
              "      --fill-color: #D2E3FC;\n",
              "      --hover-bg-color: #434B5C;\n",
              "      --hover-fill-color: #FFFFFF;\n",
              "      --disabled-bg-color: #3B4455;\n",
              "      --disabled-fill-color: #666;\n",
              "  }\n",
              "\n",
              "  .colab-df-quickchart {\n",
              "    background-color: var(--bg-color);\n",
              "    border: none;\n",
              "    border-radius: 50%;\n",
              "    cursor: pointer;\n",
              "    display: none;\n",
              "    fill: var(--fill-color);\n",
              "    height: 32px;\n",
              "    padding: 0;\n",
              "    width: 32px;\n",
              "  }\n",
              "\n",
              "  .colab-df-quickchart:hover {\n",
              "    background-color: var(--hover-bg-color);\n",
              "    box-shadow: 0 1px 2px rgba(60, 64, 67, 0.3), 0 1px 3px 1px rgba(60, 64, 67, 0.15);\n",
              "    fill: var(--button-hover-fill-color);\n",
              "  }\n",
              "\n",
              "  .colab-df-quickchart-complete:disabled,\n",
              "  .colab-df-quickchart-complete:disabled:hover {\n",
              "    background-color: var(--disabled-bg-color);\n",
              "    fill: var(--disabled-fill-color);\n",
              "    box-shadow: none;\n",
              "  }\n",
              "\n",
              "  .colab-df-spinner {\n",
              "    border: 2px solid var(--fill-color);\n",
              "    border-color: transparent;\n",
              "    border-bottom-color: var(--fill-color);\n",
              "    animation:\n",
              "      spin 1s steps(1) infinite;\n",
              "  }\n",
              "\n",
              "  @keyframes spin {\n",
              "    0% {\n",
              "      border-color: transparent;\n",
              "      border-bottom-color: var(--fill-color);\n",
              "      border-left-color: var(--fill-color);\n",
              "    }\n",
              "    20% {\n",
              "      border-color: transparent;\n",
              "      border-left-color: var(--fill-color);\n",
              "      border-top-color: var(--fill-color);\n",
              "    }\n",
              "    30% {\n",
              "      border-color: transparent;\n",
              "      border-left-color: var(--fill-color);\n",
              "      border-top-color: var(--fill-color);\n",
              "      border-right-color: var(--fill-color);\n",
              "    }\n",
              "    40% {\n",
              "      border-color: transparent;\n",
              "      border-right-color: var(--fill-color);\n",
              "      border-top-color: var(--fill-color);\n",
              "    }\n",
              "    60% {\n",
              "      border-color: transparent;\n",
              "      border-right-color: var(--fill-color);\n",
              "    }\n",
              "    80% {\n",
              "      border-color: transparent;\n",
              "      border-right-color: var(--fill-color);\n",
              "      border-bottom-color: var(--fill-color);\n",
              "    }\n",
              "    90% {\n",
              "      border-color: transparent;\n",
              "      border-bottom-color: var(--fill-color);\n",
              "    }\n",
              "  }\n",
              "</style>\n",
              "\n",
              "  <script>\n",
              "    async function quickchart(key) {\n",
              "      const quickchartButtonEl =\n",
              "        document.querySelector('#' + key + ' button');\n",
              "      quickchartButtonEl.disabled = true;  // To prevent multiple clicks.\n",
              "      quickchartButtonEl.classList.add('colab-df-spinner');\n",
              "      try {\n",
              "        const charts = await google.colab.kernel.invokeFunction(\n",
              "            'suggestCharts', [key], {});\n",
              "      } catch (error) {\n",
              "        console.error('Error during call to suggestCharts:', error);\n",
              "      }\n",
              "      quickchartButtonEl.classList.remove('colab-df-spinner');\n",
              "      quickchartButtonEl.classList.add('colab-df-quickchart-complete');\n",
              "    }\n",
              "    (() => {\n",
              "      let quickchartButtonEl =\n",
              "        document.querySelector('#df-03c73809-3c0c-44d8-aa64-96344411c475 button');\n",
              "      quickchartButtonEl.style.display =\n",
              "        google.colab.kernel.accessAllowed ? 'block' : 'none';\n",
              "    })();\n",
              "  </script>\n",
              "</div>\n",
              "    </div>\n",
              "  </div>\n"
            ],
            "application/vnd.google.colaboratory.intrinsic+json": {
              "type": "dataframe"
            }
          },
          "metadata": {},
          "execution_count": 12
        }
      ]
    },
    {
      "cell_type": "markdown",
      "source": [
        "## Import der CAMS-TCC-Vorhersagedaten:"
      ],
      "metadata": {
        "id": "BkcJd5e3XovL"
      }
    },
    {
      "cell_type": "code",
      "source": [
        "# Einlesen der Solys-Messdaten:\n",
        "df_CAMS_TCC = pd.read_csv(folder_CAMS + name_CAMS_TCC, index_col=[0, 1])\n",
        "\n",
        "# ! Der Index muss noch in Datetime umgewndelt werden !\n",
        "\n",
        "# Die Spalte mit dem Zeitstempel in das Datetimeformat umwandeln und als Index speichern\n",
        "# df_CAMS_TCC['Datetime'] = pd.to_datetime(df_CAMS_TCC['Datetime'])\n",
        "# df_CAMS_TCC.set_index('Datetime', inplace = True)"
      ],
      "metadata": {
        "colab": {
          "base_uri": "https://localhost:8080/",
          "height": 478
        },
        "id": "dhTExW3GXvOP",
        "outputId": "f1497497-e2a4-4d7b-a156-ad0b9f394d20"
      },
      "execution_count": 20,
      "outputs": [
        {
          "output_type": "error",
          "ename": "KeyError",
          "evalue": "'Datetime'",
          "traceback": [
            "\u001b[0;31m---------------------------------------------------------------------------\u001b[0m",
            "\u001b[0;31mKeyError\u001b[0m                                  Traceback (most recent call last)",
            "\u001b[0;32m/usr/local/lib/python3.10/dist-packages/pandas/core/indexes/base.py\u001b[0m in \u001b[0;36mget_loc\u001b[0;34m(self, key)\u001b[0m\n\u001b[1;32m   3652\u001b[0m         \u001b[0;32mtry\u001b[0m\u001b[0;34m:\u001b[0m\u001b[0;34m\u001b[0m\u001b[0;34m\u001b[0m\u001b[0m\n\u001b[0;32m-> 3653\u001b[0;31m             \u001b[0;32mreturn\u001b[0m \u001b[0mself\u001b[0m\u001b[0;34m.\u001b[0m\u001b[0m_engine\u001b[0m\u001b[0;34m.\u001b[0m\u001b[0mget_loc\u001b[0m\u001b[0;34m(\u001b[0m\u001b[0mcasted_key\u001b[0m\u001b[0;34m)\u001b[0m\u001b[0;34m\u001b[0m\u001b[0;34m\u001b[0m\u001b[0m\n\u001b[0m\u001b[1;32m   3654\u001b[0m         \u001b[0;32mexcept\u001b[0m \u001b[0mKeyError\u001b[0m \u001b[0;32mas\u001b[0m \u001b[0merr\u001b[0m\u001b[0;34m:\u001b[0m\u001b[0;34m\u001b[0m\u001b[0;34m\u001b[0m\u001b[0m\n",
            "\u001b[0;32m/usr/local/lib/python3.10/dist-packages/pandas/_libs/index.pyx\u001b[0m in \u001b[0;36mpandas._libs.index.IndexEngine.get_loc\u001b[0;34m()\u001b[0m\n",
            "\u001b[0;32m/usr/local/lib/python3.10/dist-packages/pandas/_libs/index.pyx\u001b[0m in \u001b[0;36mpandas._libs.index.IndexEngine.get_loc\u001b[0;34m()\u001b[0m\n",
            "\u001b[0;32mpandas/_libs/hashtable_class_helper.pxi\u001b[0m in \u001b[0;36mpandas._libs.hashtable.PyObjectHashTable.get_item\u001b[0;34m()\u001b[0m\n",
            "\u001b[0;32mpandas/_libs/hashtable_class_helper.pxi\u001b[0m in \u001b[0;36mpandas._libs.hashtable.PyObjectHashTable.get_item\u001b[0;34m()\u001b[0m\n",
            "\u001b[0;31mKeyError\u001b[0m: 'Datetime'",
            "\nThe above exception was the direct cause of the following exception:\n",
            "\u001b[0;31mKeyError\u001b[0m                                  Traceback (most recent call last)",
            "\u001b[0;32m<ipython-input-20-927fe31260f2>\u001b[0m in \u001b[0;36m<cell line: 5>\u001b[0;34m()\u001b[0m\n\u001b[1;32m      3\u001b[0m \u001b[0;34m\u001b[0m\u001b[0m\n\u001b[1;32m      4\u001b[0m \u001b[0;31m# Die Spalte mit dem Zeitstempel in das Datetimeformat umwandeln und als Index speichern\u001b[0m\u001b[0;34m\u001b[0m\u001b[0;34m\u001b[0m\u001b[0m\n\u001b[0;32m----> 5\u001b[0;31m \u001b[0mdf_CAMS_TCC\u001b[0m\u001b[0;34m[\u001b[0m\u001b[0;34m'Datetime'\u001b[0m\u001b[0;34m]\u001b[0m \u001b[0;34m=\u001b[0m \u001b[0mpd\u001b[0m\u001b[0;34m.\u001b[0m\u001b[0mto_datetime\u001b[0m\u001b[0;34m(\u001b[0m\u001b[0mdf_CAMS_TCC\u001b[0m\u001b[0;34m[\u001b[0m\u001b[0;34m'Datetime'\u001b[0m\u001b[0;34m]\u001b[0m\u001b[0;34m)\u001b[0m\u001b[0;34m\u001b[0m\u001b[0;34m\u001b[0m\u001b[0m\n\u001b[0m\u001b[1;32m      6\u001b[0m \u001b[0;31m# df_CAMS_TCC.set_index('Datetime', inplace = True)\u001b[0m\u001b[0;34m\u001b[0m\u001b[0;34m\u001b[0m\u001b[0m\n",
            "\u001b[0;32m/usr/local/lib/python3.10/dist-packages/pandas/core/frame.py\u001b[0m in \u001b[0;36m__getitem__\u001b[0;34m(self, key)\u001b[0m\n\u001b[1;32m   3759\u001b[0m             \u001b[0;32mif\u001b[0m \u001b[0mself\u001b[0m\u001b[0;34m.\u001b[0m\u001b[0mcolumns\u001b[0m\u001b[0;34m.\u001b[0m\u001b[0mnlevels\u001b[0m \u001b[0;34m>\u001b[0m \u001b[0;36m1\u001b[0m\u001b[0;34m:\u001b[0m\u001b[0;34m\u001b[0m\u001b[0;34m\u001b[0m\u001b[0m\n\u001b[1;32m   3760\u001b[0m                 \u001b[0;32mreturn\u001b[0m \u001b[0mself\u001b[0m\u001b[0;34m.\u001b[0m\u001b[0m_getitem_multilevel\u001b[0m\u001b[0;34m(\u001b[0m\u001b[0mkey\u001b[0m\u001b[0;34m)\u001b[0m\u001b[0;34m\u001b[0m\u001b[0;34m\u001b[0m\u001b[0m\n\u001b[0;32m-> 3761\u001b[0;31m             \u001b[0mindexer\u001b[0m \u001b[0;34m=\u001b[0m \u001b[0mself\u001b[0m\u001b[0;34m.\u001b[0m\u001b[0mcolumns\u001b[0m\u001b[0;34m.\u001b[0m\u001b[0mget_loc\u001b[0m\u001b[0;34m(\u001b[0m\u001b[0mkey\u001b[0m\u001b[0;34m)\u001b[0m\u001b[0;34m\u001b[0m\u001b[0;34m\u001b[0m\u001b[0m\n\u001b[0m\u001b[1;32m   3762\u001b[0m             \u001b[0;32mif\u001b[0m \u001b[0mis_integer\u001b[0m\u001b[0;34m(\u001b[0m\u001b[0mindexer\u001b[0m\u001b[0;34m)\u001b[0m\u001b[0;34m:\u001b[0m\u001b[0;34m\u001b[0m\u001b[0;34m\u001b[0m\u001b[0m\n\u001b[1;32m   3763\u001b[0m                 \u001b[0mindexer\u001b[0m \u001b[0;34m=\u001b[0m \u001b[0;34m[\u001b[0m\u001b[0mindexer\u001b[0m\u001b[0;34m]\u001b[0m\u001b[0;34m\u001b[0m\u001b[0;34m\u001b[0m\u001b[0m\n",
            "\u001b[0;32m/usr/local/lib/python3.10/dist-packages/pandas/core/indexes/base.py\u001b[0m in \u001b[0;36mget_loc\u001b[0;34m(self, key)\u001b[0m\n\u001b[1;32m   3653\u001b[0m             \u001b[0;32mreturn\u001b[0m \u001b[0mself\u001b[0m\u001b[0;34m.\u001b[0m\u001b[0m_engine\u001b[0m\u001b[0;34m.\u001b[0m\u001b[0mget_loc\u001b[0m\u001b[0;34m(\u001b[0m\u001b[0mcasted_key\u001b[0m\u001b[0;34m)\u001b[0m\u001b[0;34m\u001b[0m\u001b[0;34m\u001b[0m\u001b[0m\n\u001b[1;32m   3654\u001b[0m         \u001b[0;32mexcept\u001b[0m \u001b[0mKeyError\u001b[0m \u001b[0;32mas\u001b[0m \u001b[0merr\u001b[0m\u001b[0;34m:\u001b[0m\u001b[0;34m\u001b[0m\u001b[0;34m\u001b[0m\u001b[0m\n\u001b[0;32m-> 3655\u001b[0;31m             \u001b[0;32mraise\u001b[0m \u001b[0mKeyError\u001b[0m\u001b[0;34m(\u001b[0m\u001b[0mkey\u001b[0m\u001b[0;34m)\u001b[0m \u001b[0;32mfrom\u001b[0m \u001b[0merr\u001b[0m\u001b[0;34m\u001b[0m\u001b[0;34m\u001b[0m\u001b[0m\n\u001b[0m\u001b[1;32m   3656\u001b[0m         \u001b[0;32mexcept\u001b[0m \u001b[0mTypeError\u001b[0m\u001b[0;34m:\u001b[0m\u001b[0;34m\u001b[0m\u001b[0;34m\u001b[0m\u001b[0m\n\u001b[1;32m   3657\u001b[0m             \u001b[0;31m# If we have a listlike key, _check_indexing_error will raise\u001b[0m\u001b[0;34m\u001b[0m\u001b[0;34m\u001b[0m\u001b[0m\n",
            "\u001b[0;31mKeyError\u001b[0m: 'Datetime'"
          ]
        }
      ]
    },
    {
      "cell_type": "code",
      "source": [
        "# df_CAMS_TCC"
      ],
      "metadata": {
        "colab": {
          "base_uri": "https://localhost:8080/",
          "height": 455
        },
        "id": "n1KsjjrOXvRF",
        "outputId": "60a5f881-48ea-4d03-b39f-6bbbb30a2f16"
      },
      "execution_count": 21,
      "outputs": [
        {
          "output_type": "execute_result",
          "data": {
            "text/plain": [
              "                                       tcc\n",
              "Datetime            coords                \n",
              "2022-05-01 00:00:00 (2.0, 55.0)   1.000008\n",
              "                    (2.0, 54.6)   0.983405\n",
              "                    (2.0, 54.2)   0.981605\n",
              "                    (2.0, 53.8)   0.853729\n",
              "                    (2.0, 53.4)   0.663335\n",
              "...                                    ...\n",
              "2023-05-31 23:00:00 (12.0, 46.6)  0.048037\n",
              "                    (12.0, 46.2)  0.152428\n",
              "                    (12.0, 45.8)  0.246214\n",
              "                    (12.0, 45.4)  0.216122\n",
              "                    (12.0, 45.0)  0.184107\n",
              "\n",
              "[6424704 rows x 1 columns]"
            ],
            "text/html": [
              "\n",
              "  <div id=\"df-4115c738-4b0a-422c-916c-f7bf33557bf3\" class=\"colab-df-container\">\n",
              "    <div>\n",
              "<style scoped>\n",
              "    .dataframe tbody tr th:only-of-type {\n",
              "        vertical-align: middle;\n",
              "    }\n",
              "\n",
              "    .dataframe tbody tr th {\n",
              "        vertical-align: top;\n",
              "    }\n",
              "\n",
              "    .dataframe thead th {\n",
              "        text-align: right;\n",
              "    }\n",
              "</style>\n",
              "<table border=\"1\" class=\"dataframe\">\n",
              "  <thead>\n",
              "    <tr style=\"text-align: right;\">\n",
              "      <th></th>\n",
              "      <th></th>\n",
              "      <th>tcc</th>\n",
              "    </tr>\n",
              "    <tr>\n",
              "      <th>Datetime</th>\n",
              "      <th>coords</th>\n",
              "      <th></th>\n",
              "    </tr>\n",
              "  </thead>\n",
              "  <tbody>\n",
              "    <tr>\n",
              "      <th rowspan=\"5\" valign=\"top\">2022-05-01 00:00:00</th>\n",
              "      <th>(2.0, 55.0)</th>\n",
              "      <td>1.000008</td>\n",
              "    </tr>\n",
              "    <tr>\n",
              "      <th>(2.0, 54.6)</th>\n",
              "      <td>0.983405</td>\n",
              "    </tr>\n",
              "    <tr>\n",
              "      <th>(2.0, 54.2)</th>\n",
              "      <td>0.981605</td>\n",
              "    </tr>\n",
              "    <tr>\n",
              "      <th>(2.0, 53.8)</th>\n",
              "      <td>0.853729</td>\n",
              "    </tr>\n",
              "    <tr>\n",
              "      <th>(2.0, 53.4)</th>\n",
              "      <td>0.663335</td>\n",
              "    </tr>\n",
              "    <tr>\n",
              "      <th>...</th>\n",
              "      <th>...</th>\n",
              "      <td>...</td>\n",
              "    </tr>\n",
              "    <tr>\n",
              "      <th rowspan=\"5\" valign=\"top\">2023-05-31 23:00:00</th>\n",
              "      <th>(12.0, 46.6)</th>\n",
              "      <td>0.048037</td>\n",
              "    </tr>\n",
              "    <tr>\n",
              "      <th>(12.0, 46.2)</th>\n",
              "      <td>0.152428</td>\n",
              "    </tr>\n",
              "    <tr>\n",
              "      <th>(12.0, 45.8)</th>\n",
              "      <td>0.246214</td>\n",
              "    </tr>\n",
              "    <tr>\n",
              "      <th>(12.0, 45.4)</th>\n",
              "      <td>0.216122</td>\n",
              "    </tr>\n",
              "    <tr>\n",
              "      <th>(12.0, 45.0)</th>\n",
              "      <td>0.184107</td>\n",
              "    </tr>\n",
              "  </tbody>\n",
              "</table>\n",
              "<p>6424704 rows × 1 columns</p>\n",
              "</div>\n",
              "    <div class=\"colab-df-buttons\">\n",
              "\n",
              "  <div class=\"colab-df-container\">\n",
              "    <button class=\"colab-df-convert\" onclick=\"convertToInteractive('df-4115c738-4b0a-422c-916c-f7bf33557bf3')\"\n",
              "            title=\"Convert this dataframe to an interactive table.\"\n",
              "            style=\"display:none;\">\n",
              "\n",
              "  <svg xmlns=\"http://www.w3.org/2000/svg\" height=\"24px\" viewBox=\"0 -960 960 960\">\n",
              "    <path d=\"M120-120v-720h720v720H120Zm60-500h600v-160H180v160Zm220 220h160v-160H400v160Zm0 220h160v-160H400v160ZM180-400h160v-160H180v160Zm440 0h160v-160H620v160ZM180-180h160v-160H180v160Zm440 0h160v-160H620v160Z\"/>\n",
              "  </svg>\n",
              "    </button>\n",
              "\n",
              "  <style>\n",
              "    .colab-df-container {\n",
              "      display:flex;\n",
              "      gap: 12px;\n",
              "    }\n",
              "\n",
              "    .colab-df-convert {\n",
              "      background-color: #E8F0FE;\n",
              "      border: none;\n",
              "      border-radius: 50%;\n",
              "      cursor: pointer;\n",
              "      display: none;\n",
              "      fill: #1967D2;\n",
              "      height: 32px;\n",
              "      padding: 0 0 0 0;\n",
              "      width: 32px;\n",
              "    }\n",
              "\n",
              "    .colab-df-convert:hover {\n",
              "      background-color: #E2EBFA;\n",
              "      box-shadow: 0px 1px 2px rgba(60, 64, 67, 0.3), 0px 1px 3px 1px rgba(60, 64, 67, 0.15);\n",
              "      fill: #174EA6;\n",
              "    }\n",
              "\n",
              "    .colab-df-buttons div {\n",
              "      margin-bottom: 4px;\n",
              "    }\n",
              "\n",
              "    [theme=dark] .colab-df-convert {\n",
              "      background-color: #3B4455;\n",
              "      fill: #D2E3FC;\n",
              "    }\n",
              "\n",
              "    [theme=dark] .colab-df-convert:hover {\n",
              "      background-color: #434B5C;\n",
              "      box-shadow: 0px 1px 3px 1px rgba(0, 0, 0, 0.15);\n",
              "      filter: drop-shadow(0px 1px 2px rgba(0, 0, 0, 0.3));\n",
              "      fill: #FFFFFF;\n",
              "    }\n",
              "  </style>\n",
              "\n",
              "    <script>\n",
              "      const buttonEl =\n",
              "        document.querySelector('#df-4115c738-4b0a-422c-916c-f7bf33557bf3 button.colab-df-convert');\n",
              "      buttonEl.style.display =\n",
              "        google.colab.kernel.accessAllowed ? 'block' : 'none';\n",
              "\n",
              "      async function convertToInteractive(key) {\n",
              "        const element = document.querySelector('#df-4115c738-4b0a-422c-916c-f7bf33557bf3');\n",
              "        const dataTable =\n",
              "          await google.colab.kernel.invokeFunction('convertToInteractive',\n",
              "                                                    [key], {});\n",
              "        if (!dataTable) return;\n",
              "\n",
              "        const docLinkHtml = 'Like what you see? Visit the ' +\n",
              "          '<a target=\"_blank\" href=https://colab.research.google.com/notebooks/data_table.ipynb>data table notebook</a>'\n",
              "          + ' to learn more about interactive tables.';\n",
              "        element.innerHTML = '';\n",
              "        dataTable['output_type'] = 'display_data';\n",
              "        await google.colab.output.renderOutput(dataTable, element);\n",
              "        const docLink = document.createElement('div');\n",
              "        docLink.innerHTML = docLinkHtml;\n",
              "        element.appendChild(docLink);\n",
              "      }\n",
              "    </script>\n",
              "  </div>\n",
              "\n",
              "\n",
              "<div id=\"df-eb28d7f3-1a38-46f9-b19c-3fc9948beb99\">\n",
              "  <button class=\"colab-df-quickchart\" onclick=\"quickchart('df-eb28d7f3-1a38-46f9-b19c-3fc9948beb99')\"\n",
              "            title=\"Suggest charts\"\n",
              "            style=\"display:none;\">\n",
              "\n",
              "<svg xmlns=\"http://www.w3.org/2000/svg\" height=\"24px\"viewBox=\"0 0 24 24\"\n",
              "     width=\"24px\">\n",
              "    <g>\n",
              "        <path d=\"M19 3H5c-1.1 0-2 .9-2 2v14c0 1.1.9 2 2 2h14c1.1 0 2-.9 2-2V5c0-1.1-.9-2-2-2zM9 17H7v-7h2v7zm4 0h-2V7h2v10zm4 0h-2v-4h2v4z\"/>\n",
              "    </g>\n",
              "</svg>\n",
              "  </button>\n",
              "\n",
              "<style>\n",
              "  .colab-df-quickchart {\n",
              "      --bg-color: #E8F0FE;\n",
              "      --fill-color: #1967D2;\n",
              "      --hover-bg-color: #E2EBFA;\n",
              "      --hover-fill-color: #174EA6;\n",
              "      --disabled-fill-color: #AAA;\n",
              "      --disabled-bg-color: #DDD;\n",
              "  }\n",
              "\n",
              "  [theme=dark] .colab-df-quickchart {\n",
              "      --bg-color: #3B4455;\n",
              "      --fill-color: #D2E3FC;\n",
              "      --hover-bg-color: #434B5C;\n",
              "      --hover-fill-color: #FFFFFF;\n",
              "      --disabled-bg-color: #3B4455;\n",
              "      --disabled-fill-color: #666;\n",
              "  }\n",
              "\n",
              "  .colab-df-quickchart {\n",
              "    background-color: var(--bg-color);\n",
              "    border: none;\n",
              "    border-radius: 50%;\n",
              "    cursor: pointer;\n",
              "    display: none;\n",
              "    fill: var(--fill-color);\n",
              "    height: 32px;\n",
              "    padding: 0;\n",
              "    width: 32px;\n",
              "  }\n",
              "\n",
              "  .colab-df-quickchart:hover {\n",
              "    background-color: var(--hover-bg-color);\n",
              "    box-shadow: 0 1px 2px rgba(60, 64, 67, 0.3), 0 1px 3px 1px rgba(60, 64, 67, 0.15);\n",
              "    fill: var(--button-hover-fill-color);\n",
              "  }\n",
              "\n",
              "  .colab-df-quickchart-complete:disabled,\n",
              "  .colab-df-quickchart-complete:disabled:hover {\n",
              "    background-color: var(--disabled-bg-color);\n",
              "    fill: var(--disabled-fill-color);\n",
              "    box-shadow: none;\n",
              "  }\n",
              "\n",
              "  .colab-df-spinner {\n",
              "    border: 2px solid var(--fill-color);\n",
              "    border-color: transparent;\n",
              "    border-bottom-color: var(--fill-color);\n",
              "    animation:\n",
              "      spin 1s steps(1) infinite;\n",
              "  }\n",
              "\n",
              "  @keyframes spin {\n",
              "    0% {\n",
              "      border-color: transparent;\n",
              "      border-bottom-color: var(--fill-color);\n",
              "      border-left-color: var(--fill-color);\n",
              "    }\n",
              "    20% {\n",
              "      border-color: transparent;\n",
              "      border-left-color: var(--fill-color);\n",
              "      border-top-color: var(--fill-color);\n",
              "    }\n",
              "    30% {\n",
              "      border-color: transparent;\n",
              "      border-left-color: var(--fill-color);\n",
              "      border-top-color: var(--fill-color);\n",
              "      border-right-color: var(--fill-color);\n",
              "    }\n",
              "    40% {\n",
              "      border-color: transparent;\n",
              "      border-right-color: var(--fill-color);\n",
              "      border-top-color: var(--fill-color);\n",
              "    }\n",
              "    60% {\n",
              "      border-color: transparent;\n",
              "      border-right-color: var(--fill-color);\n",
              "    }\n",
              "    80% {\n",
              "      border-color: transparent;\n",
              "      border-right-color: var(--fill-color);\n",
              "      border-bottom-color: var(--fill-color);\n",
              "    }\n",
              "    90% {\n",
              "      border-color: transparent;\n",
              "      border-bottom-color: var(--fill-color);\n",
              "    }\n",
              "  }\n",
              "</style>\n",
              "\n",
              "  <script>\n",
              "    async function quickchart(key) {\n",
              "      const quickchartButtonEl =\n",
              "        document.querySelector('#' + key + ' button');\n",
              "      quickchartButtonEl.disabled = true;  // To prevent multiple clicks.\n",
              "      quickchartButtonEl.classList.add('colab-df-spinner');\n",
              "      try {\n",
              "        const charts = await google.colab.kernel.invokeFunction(\n",
              "            'suggestCharts', [key], {});\n",
              "      } catch (error) {\n",
              "        console.error('Error during call to suggestCharts:', error);\n",
              "      }\n",
              "      quickchartButtonEl.classList.remove('colab-df-spinner');\n",
              "      quickchartButtonEl.classList.add('colab-df-quickchart-complete');\n",
              "    }\n",
              "    (() => {\n",
              "      let quickchartButtonEl =\n",
              "        document.querySelector('#df-eb28d7f3-1a38-46f9-b19c-3fc9948beb99 button');\n",
              "      quickchartButtonEl.style.display =\n",
              "        google.colab.kernel.accessAllowed ? 'block' : 'none';\n",
              "    })();\n",
              "  </script>\n",
              "</div>\n",
              "    </div>\n",
              "  </div>\n"
            ],
            "application/vnd.google.colaboratory.intrinsic+json": {
              "type": "dataframe",
              "variable_name": "df_CAMS_TCC"
            }
          },
          "metadata": {},
          "execution_count": 21
        }
      ]
    },
    {
      "cell_type": "markdown",
      "source": [
        "## Bereinigen der Messdaten\n",
        "\n",
        "Hier wird erklärt, was zum Bereinigen der Messdaten getan werden muss.\n",
        "\n",
        "- Fehlende Messtage müssen ersetzt werden:\n",
        "  - Prüfen, ob die Messwerte zusammenhängen.\n",
        "  - Hinzufügen neuer Zeilen, falls die Messwerte nicht zusammen Hängen."
      ],
      "metadata": {
        "id": "D0HkvdeS1C2o"
      }
    },
    {
      "cell_type": "markdown",
      "source": [
        "**Hier wird geprüft, ob die Messwerte zusammenhängend sind:**"
      ],
      "metadata": {
        "id": "_3NzWoAvWWlw"
      }
    },
    {
      "cell_type": "code",
      "source": [
        "def insert_missing_rows(df):\n",
        "    # Sortieren des DataFrame nach 'Datetime'\n",
        "    df.sort_values(by='Datetime', inplace=True)\n",
        "\n",
        "    # Initialisieren einer Liste, um die Zeilen mit fehlenden Daten einzufügen\n",
        "    rows_to_insert = []\n",
        "\n",
        "    # Gruppieren des DataFrame nach 'Datum'\n",
        "    grouped = df.groupby('Datum')\n",
        "\n",
        "    for date, group in grouped:\n",
        "        # Sortieren der Gruppe nach 'Datetime'\n",
        "        group.sort_values(by='Datetime', inplace=True)\n",
        "\n",
        "        for i in range(1, len(group)):\n",
        "            current_time = group.iloc[i]['Datetime']\n",
        "            prev_time = group.iloc[i - 1]['Datetime']\n",
        "            time_diff = current_time - prev_time\n",
        "\n",
        "            if time_diff > timedelta(minutes=2):\n",
        "                while prev_time + timedelta(minutes=2) < current_time:\n",
        "                    prev_time += timedelta(minutes=2)\n",
        "                    new_row = {\n",
        "                        'Datetime': prev_time,\n",
        "                        'Datum': date,\n",
        "                        'Uhrzeit': prev_time.time(),\n",
        "                        'Messzeitpunkt': (prev_time - prev_time.replace(hour=0, minute=0, second=0, microsecond=0)).total_seconds(),\n",
        "                        'erythem': 0,\n",
        "                        'UVI': 0,\n",
        "                        'DiffGreater2': 1,\n",
        "                    }\n",
        "                    rows_to_insert.append(new_row)\n",
        "\n",
        "    # Einfügen der fehlenden Zeilen in einen DataFrame\n",
        "    if rows_to_insert:\n",
        "        df = df.append(rows_to_insert, ignore_index=True)\n",
        "\n",
        "    # Sortieren des DataFrame nach 'Datetime'\n",
        "    df.sort_values(by='Datetime', inplace=True)\n",
        "    df = df.reset_index(drop = True)\n",
        "    df['DiffGreater2'] = df['DiffGreater2'].fillna(0)\n",
        "\n",
        "    return df"
      ],
      "metadata": {
        "id": "WRBAj8ZtBLVF"
      },
      "execution_count": null,
      "outputs": []
    },
    {
      "cell_type": "code",
      "source": [
        "df_UVI_WRows = pd.DataFrame()\n",
        "df_UVI_WRows = insert_missing_rows(df_UVI_combined)"
      ],
      "metadata": {
        "id": "rqr4oMiBFyCu"
      },
      "execution_count": null,
      "outputs": []
    },
    {
      "cell_type": "markdown",
      "source": [
        "## Sonnenstandswinkel hinzufügen"
      ],
      "metadata": {
        "id": "vZRrJ5IvZZi1"
      }
    },
    {
      "cell_type": "code",
      "source": [
        "def calculate_solar_zenith_angle(dataframe, date_column, latitude, longitude, altitude=0):\n",
        "\n",
        "    # Kopiere das ursprüngliche DataFrame, um es nicht zu ändern.\n",
        "    result_df = dataframe.copy()\n",
        "\n",
        "    # Konvertiere die Datumsspalte in einen datetime-Datentyp, falls sie es nicht bereits ist.\n",
        "    if not pd.api.types.is_datetime64_any_dtype(dataframe[date_column]):\n",
        "        result_df[date_column] = pd.to_datetime(dataframe[date_column])\n",
        "\n",
        "    # Iteriere über die Zeilen des DataFrames und berechne den Solarzenitwinkel für jedes Datum.\n",
        "    solar_zenith_angles = []\n",
        "    for date in result_df[date_column]:\n",
        "        solar_position = pvlib.solarposition.get_solarposition(date, latitude, longitude, altitude)\n",
        "        solar_zenith_angle = solar_position['zenith'].values[0]\n",
        "        solar_zenith_angles.append(solar_zenith_angle)\n",
        "\n",
        "    # Füge die berechneten Solarzenitwinkel dem DataFrame hinzu.\n",
        "    result_df['SZA'] = solar_zenith_angles\n",
        "\n",
        "    return result_df"
      ],
      "metadata": {
        "id": "HAPp0JwnZfZ2"
      },
      "execution_count": null,
      "outputs": []
    },
    {
      "cell_type": "code",
      "source": [
        "df_UVI_WRows_SZ = pd.DataFrame()\n",
        "df_UVI_WRows_SZ = calculate_solar_zenith_angle(df_UVI_WRows, 'Datetime', latitude, longitude)"
      ],
      "metadata": {
        "id": "SflssDZzZ3FR"
      },
      "execution_count": null,
      "outputs": []
    },
    {
      "cell_type": "markdown",
      "source": [
        "## Zeit und Datum in Sin und Cos codieren\n",
        "- Cyclical Encoding der Messzeit als Sinus und Cosinus"
      ],
      "metadata": {
        "id": "hO9In_g6XMGp"
      }
    },
    {
      "cell_type": "code",
      "source": [
        "def calculate_date_in_sine_cosine(dataframe, day, year):\n",
        "\n",
        "    result_df = dataframe.copy()\n",
        "\n",
        "    result_df['time_sin'] = np.sin(2*np.pi*result_df['Messzeitpunkt']/day)\n",
        "    result_df['time_cos'] = np.cos(2*np.pi*result_df['Messzeitpunkt']/day)\n",
        "    result_df['date_sin'] = np.sin((2*np.pi*result_df['Datetime'].dt.dayofyear * 24 * 60 * 60) / year)\n",
        "    result_df['date_cos'] = np.cos((2*np.pi*result_df['Datetime'].dt.dayofyear * 24 * 60 * 60) / year)\n",
        "\n",
        "    return result_df"
      ],
      "metadata": {
        "id": "AYaxsEifXX_h"
      },
      "execution_count": null,
      "outputs": []
    },
    {
      "cell_type": "code",
      "source": [
        "df_UVI_SZ_SC = calculate_date_in_sine_cosine(df_UVI_WRows_SZ, seconds_in_day, seconds_in_year)"
      ],
      "metadata": {
        "id": "t7OSPXlHwbwu"
      },
      "execution_count": null,
      "outputs": []
    },
    {
      "cell_type": "markdown",
      "source": [
        "## Erstellen einer Liste mit Stunden an denen es Messwerte gibt:"
      ],
      "metadata": {
        "id": "puBlU4G34r6n"
      }
    },
    {
      "cell_type": "code",
      "source": [
        "# Herausschreiben des Datums und der Stunde aus den Messdaten um im Folgeden nur die relevanten Vorhersagedaten auszuwählen\n",
        "df_UVI_SZ_SC['Date'] = df_UVI_SZ_SC['Datetime'].dt.date\n",
        "df_UVI_SZ_SC['Hour'] = df_UVI_SZ_SC['Datetime'].dt.hour"
      ],
      "metadata": {
        "id": "r2gGQHzM4z5L"
      },
      "execution_count": null,
      "outputs": []
    },
    {
      "cell_type": "code",
      "source": [
        "df_date_std = df_UVI_SZ_SC.groupby(['Date', 'Hour']).size().reset_index(name='Count')"
      ],
      "metadata": {
        "id": "mGKWHPUr5XzO"
      },
      "execution_count": null,
      "outputs": []
    },
    {
      "cell_type": "code",
      "source": [
        "df_date_std['Datetime'] = pd.to_datetime(df_date_std['Date'].astype(str) + ' ' + df_date_std['Hour'].astype(str) + ':00:00')"
      ],
      "metadata": {
        "id": "TdQYu9hO5WIf"
      },
      "execution_count": null,
      "outputs": []
    },
    {
      "cell_type": "code",
      "source": [
        "df_date_std.set_index('Datetime', inplace=True)"
      ],
      "metadata": {
        "id": "e7MUFEcC7UFz"
      },
      "execution_count": null,
      "outputs": []
    },
    {
      "cell_type": "markdown",
      "source": [
        "## Erstellen einer Liste mit Zeitstemplen an denen es Messwerte gibt:"
      ],
      "metadata": {
        "id": "a6WzmPa_yzKi"
      }
    },
    {
      "cell_type": "code",
      "source": [
        "df_date = pd.DataFrame(pd.to_datetime(df_UVI_SZ_SC['Datetime']))\n",
        "df_date.set_index('Datetime', inplace=True)"
      ],
      "metadata": {
        "id": "5UZF8nony78O"
      },
      "execution_count": null,
      "outputs": []
    },
    {
      "cell_type": "markdown",
      "source": [
        "## Import der Vorhersagedaten und löschen nicht gebrauchter Einträge:"
      ],
      "metadata": {
        "id": "4fZwJA-GTByt"
      }
    },
    {
      "cell_type": "code",
      "source": [
        "dateiname = 'CSV_Cams_std'\n",
        "df_cams_std = pd.read_csv(pickle_path + dateiname)\n",
        "df_cams_std['Datetime'] = pd.to_datetime(df_cams_std['Datetime'])"
      ],
      "metadata": {
        "id": "5pzdBLEuqsSy"
      },
      "execution_count": null,
      "outputs": []
    },
    {
      "cell_type": "code",
      "source": [
        "# Datetime als Index festlegen\n",
        "df_cams_std.set_index('Datetime', inplace=True)"
      ],
      "metadata": {
        "id": "B4uNPvoBTkhR"
      },
      "execution_count": null,
      "outputs": []
    },
    {
      "cell_type": "code",
      "source": [
        "# Löschen aller nicht relevanten Einträge\n",
        "df_cams_std = df_cams_std[df_cams_std.index.isin(df_date_std.index)]"
      ],
      "metadata": {
        "id": "J_vSdZXXvOU6"
      },
      "execution_count": null,
      "outputs": []
    },
    {
      "cell_type": "markdown",
      "source": [
        "## Löschen nicht gebrauchter Solys Strahlungsdaten\n",
        "Die Strahlungsdaten werden an die UVI-Messdaten angepasst"
      ],
      "metadata": {
        "id": "CK-CCHooyQNj"
      }
    },
    {
      "cell_type": "code",
      "source": [
        "df_Solys_std = pd.merge_asof(df_date, df_Solys, left_index=True, right_index=True, tolerance=pd.Timedelta('1min'))"
      ],
      "metadata": {
        "id": "LrT9xFiUyPH0"
      },
      "execution_count": null,
      "outputs": []
    },
    {
      "cell_type": "code",
      "source": [
        "df_Solys_std"
      ],
      "metadata": {
        "id": "W-104XVK5r-i"
      },
      "execution_count": null,
      "outputs": []
    },
    {
      "cell_type": "markdown",
      "source": [
        "## Abspeichern des DataFrames als CSV"
      ],
      "metadata": {
        "id": "fgusUV49Sv8-"
      }
    },
    {
      "cell_type": "code",
      "source": [
        "df_UVI_SZ_SC.isnull().sum()"
      ],
      "metadata": {
        "id": "4WO7uXJFsPlP"
      },
      "execution_count": null,
      "outputs": []
    },
    {
      "cell_type": "code",
      "source": [
        "# Irradiance metrics over time\n",
        "df_UVI_SZ_SC[['UVI']].plot()\n",
        "plt.title('UVI über die Zeit');"
      ],
      "metadata": {
        "id": "yQVN-oWMjof_"
      },
      "execution_count": null,
      "outputs": []
    },
    {
      "cell_type": "code",
      "source": [
        "def export_dataframes_to_csv(df1, df2, df3, file1_name, file2_name, file3_name, folder_name):\n",
        "\n",
        "    try:\n",
        "        # Exportiere den ersten DataFrame in eine CSV-Datei\n",
        "        df1.to_csv(folder_name + file1_name)\n",
        "        print(f'DataFrame 1 wurde erfolgreich in \"{file1_name}\" exportiert.')\n",
        "\n",
        "        # Exportiere den zweiten DataFrame in eine CSV-Datei\n",
        "        df2.to_csv(folder_name + file2_name)\n",
        "        print(f'DataFrame 2 wurde erfolgreich in \"{file2_name}\" exportiert.')\n",
        "\n",
        "        # Exportiere den dritten DataFrame in eine CSV-Datei\n",
        "        df3.to_csv(folder_name + file3_name)\n",
        "        print(f'DataFrame 3 wurde erfolgreich in \"{file3_name}\" exportiert.')\n",
        "\n",
        "    except Exception as e:\n",
        "        print(f'Fehler beim Export der DataFrames: {str(e)}')"
      ],
      "metadata": {
        "id": "BvYSzsdmqjtc"
      },
      "execution_count": null,
      "outputs": []
    },
    {
      "cell_type": "code",
      "source": [
        "export_dataframes_to_csv(df_UVI_SZ_SC, df_Solys_std, df_cams_std, 'UVI_Messdaten.csv', 'Solys_Messdaten.csv', 'Vorhersage.csv', save_folder)"
      ],
      "metadata": {
        "id": "VwaVNp7B4fxv"
      },
      "execution_count": null,
      "outputs": []
    },
    {
      "cell_type": "code",
      "source": [],
      "metadata": {
        "id": "5fK_TPL4CHc0"
      },
      "execution_count": null,
      "outputs": []
    }
  ]
}