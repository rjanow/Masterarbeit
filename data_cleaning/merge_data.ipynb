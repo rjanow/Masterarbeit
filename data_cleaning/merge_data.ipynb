{
  "nbformat": 4,
  "nbformat_minor": 0,
  "metadata": {
    "colab": {
      "provenance": [],
      "authorship_tag": "ABX9TyOKEMlYFFZ28u8KQd0ft5ke",
      "include_colab_link": true
    },
    "kernelspec": {
      "name": "python3",
      "display_name": "Python 3"
    },
    "language_info": {
      "name": "python"
    }
  },
  "cells": [
    {
      "cell_type": "markdown",
      "metadata": {
        "id": "view-in-github",
        "colab_type": "text"
      },
      "source": [
        "<a href=\"https://colab.research.google.com/github/rjanow/Masterarbeit/blob/main/data_cleaning/merge_data.ipynb\" target=\"_parent\"><img src=\"https://colab.research.google.com/assets/colab-badge.svg\" alt=\"Open In Colab\"/></a>"
      ]
    },
    {
      "cell_type": "markdown",
      "source": [
        "# Daten Zusammenführen - Veraltet"
      ],
      "metadata": {
        "id": "vmSL79KMliQp"
      }
    },
    {
      "cell_type": "markdown",
      "source": [
        "## Import der benötigten Module und allgemeines Setup:"
      ],
      "metadata": {
        "id": "uckxHAV2TCA4"
      }
    },
    {
      "cell_type": "code",
      "source": [
        "## import modules\n",
        "import os, sys\n",
        "\n",
        "import numpy as np\n",
        "import pandas as pd\n",
        "import matplotlib\n",
        "\n",
        "import seaborn as sns\n",
        "from matplotlib import pyplot as plt\n",
        "\n",
        "from datetime import datetime\n",
        "from datetime import timedelta"
      ],
      "metadata": {
        "id": "hl6J8SFpTkH8"
      },
      "execution_count": null,
      "outputs": []
    },
    {
      "cell_type": "code",
      "execution_count": null,
      "metadata": {
        "colab": {
          "base_uri": "https://localhost:8080/"
        },
        "id": "GHS-Bzu1SA_n",
        "outputId": "a5e78131-0bdd-4189-c06f-5129bff60629"
      },
      "outputs": [
        {
          "output_type": "stream",
          "name": "stdout",
          "text": [
            "Drive already mounted at /content/drive; to attempt to forcibly remount, call drive.mount(\"/content/drive\", force_remount=True).\n"
          ]
        }
      ],
      "source": [
        "# Verbinden mit der Google-Drive herstellen\n",
        "from google.colab import drive\n",
        "drive.mount('/content/drive')"
      ]
    },
    {
      "cell_type": "code",
      "source": [
        "# Standort der Messstation\n",
        "latitude = 50.2\n",
        "longitude = 7.8\n",
        "\n",
        "# Kennwerte um den richtigen Zeitstempel zu berechnen\n",
        "seconds_in_day = 24*60*60\n",
        "seconds_in_year = (365.2425)*seconds_in_day"
      ],
      "metadata": {
        "id": "_s-trb_CTnFz"
      },
      "execution_count": null,
      "outputs": []
    },
    {
      "cell_type": "code",
      "source": [
        "# Pfad und Dateinamen zu den Dataframes auf der Google-Drive\n",
        "\n",
        "# UVI-Index Messwerte\n",
        "name_Messwerte = 'UVI_Messdaten.csv'\n",
        "# Globalstrahlungsmesswerte\n",
        "name_Solar_Messwerte = 'Solys_Messdaten.csv'\n",
        "# CAMS Meteorologische Vorhersagedaten\n",
        "name_Vorhersage = 'Vorhersage.csv'\n",
        "# CAMS Globalstrahlungsvorhersage\n",
        "name_GlobalVorhersage = 'solar_radiation_forecast.csv'\n",
        "\n",
        "# Angabe der benötigten Dateipfade\n",
        "drive_path = '/content/drive/My Drive/Colab_Notebooks/Clean_Data/'\n",
        "GLO_drive_path = '/content/drive/My Drive/Colab_Notebooks/CSV_SolarRadiation/'\n",
        "output_plot_path = '/content/drive/My Drive/Colab_Notebooks/plot_daily_UVI/'"
      ],
      "metadata": {
        "id": "NDktkvD1To81"
      },
      "execution_count": null,
      "outputs": []
    },
    {
      "cell_type": "markdown",
      "source": [
        "## Einlesen der Globalstrahlungsdaten, UVI-Daten und CAMS-Vorhersagedaten:"
      ],
      "metadata": {
        "id": "q0rBA9XH1OxP"
      }
    },
    {
      "cell_type": "code",
      "source": [
        "# Import der Daten für die EDA\n",
        "df_UVI = pd.read_csv(drive_path + name_Messwerte)\n",
        "df_Solys = pd.read_csv(drive_path + name_Solar_Messwerte)\n",
        "df_CAMS = pd.read_csv(drive_path + name_Vorhersage)\n",
        "df_GLO_CAMS = pd.read_csv(GLO_drive_path + name_GlobalVorhersage)\n",
        "\n",
        "# Messzeitpunkt in Datetime umwandeln\n",
        "df_UVI.set_index('Datetime', inplace=True)\n",
        "df_Solys.set_index('Datetime', inplace=True)\n",
        "df_CAMS.set_index('Datetime', inplace=True)\n",
        "df_GLO_CAMS.set_index('Observation_period', inplace=True)\n",
        "\n",
        "# Index in Datetime umwandeln\n",
        "df_UVI.index = pd.to_datetime(df_UVI.index)\n",
        "df_Solys.index = pd.to_datetime(df_Solys.index)\n",
        "df_CAMS.index = pd.to_datetime(df_CAMS.index)\n",
        "df_GLO_CAMS.index = pd.to_datetime(df_GLO_CAMS.index)"
      ],
      "metadata": {
        "id": "nukih7_URkCO"
      },
      "execution_count": null,
      "outputs": []
    },
    {
      "cell_type": "markdown",
      "source": [
        "### In der CAMS-Globalstrahlungvorhersage die Nullwerte löschen"
      ],
      "metadata": {
        "id": "Im8luwDX9ER-"
      }
    },
    {
      "cell_type": "code",
      "source": [
        "def plot_datetime_timelines(dfs, labels=None, colors=None, save_path=None):\n",
        "    \"\"\"\n",
        "    Plottet die Zeitpunkte der DatetimeIndex von vier DataFrames auf einem gemeinsamen Zeitstrahl.\n",
        "\n",
        "    Parameters:\n",
        "    dfs (list): Liste von vier pandas DataFrames mit einem DatetimeIndex.\n",
        "    labels (list, optional): Liste von Labels für jeden DataFrame.\n",
        "    colors (list, optional): Liste von Farben für jede Zeitreihe.\n",
        "\n",
        "    Returns:\n",
        "    None\n",
        "    \"\"\"\n",
        "    if labels is None:\n",
        "        labels = [f\"DF{i+1}\" for i in range(len(dfs))]\n",
        "    if colors is None:\n",
        "        colors = ['blue', 'orange', 'green', 'red']\n",
        "\n",
        "    plt.figure(figsize=(12, 4))\n",
        "    for i, df in enumerate(dfs):\n",
        "        datetimes = df.index\n",
        "        y_vals = [i + 1] * len(datetimes)\n",
        "        plt.scatter(datetimes, y_vals, marker='|', s=200, color=colors[i], label=labels[i])\n",
        "\n",
        "    plt.yticks(range(1, len(dfs) + 1), labels)\n",
        "    plt.xlabel('Zeit')\n",
        "    plt.title('Zeitstrahl der vorhandenen Daten')\n",
        "    plt.legend(loc='upper right')\n",
        "    plt.tight_layout()\n",
        "    plt.grid(True)\n",
        "\n",
        "    if save_path:\n",
        "        plt.savefig(save_path, dpi=300)\n",
        "        print(f\"Plot gespeichert unter: {save_path}\")\n",
        "\n",
        "    plt.show()\n",
        "\n"
      ],
      "metadata": {
        "id": "UVV_fuYuzz2M"
      },
      "execution_count": null,
      "outputs": []
    },
    {
      "cell_type": "code",
      "source": [
        "plot_datetime_timelines([df_UVI, df_Solys, df_GLO_CAMS, df_CAMS],\n",
        "                        labels=[\"Messung UVI\", \"Messung Globalstrahlung\", \"Vorhersage Globalstrahlung\", \"Vorhersage Atmosphärendaten\"], save_path = output_plot_path)"
      ],
      "metadata": {
        "id": "Mz2Y_pBM0D1B",
        "outputId": "06d2f99f-a129-4b8f-aa85-a584bfa2ec4b",
        "colab": {
          "base_uri": "https://localhost:8080/",
          "height": 325
        }
      },
      "execution_count": null,
      "outputs": [
        {
          "output_type": "stream",
          "name": "stdout",
          "text": [
            "Plot gespeichert unter: /content/drive/My Drive/Colab_Notebooks/plot_daily_UVI/\n"
          ]
        },
        {
          "output_type": "display_data",
          "data": {
            "text/plain": [
              "<Figure size 1200x400 with 1 Axes>"
            ],
            "image/png": "[encoded data removed]"
          },
          "metadata": {}
        }
      ]
    },
    {
      "cell_type": "code",
      "source": [
        "# NaN Einträge durch 0 ersetzen\n",
        "df_UVI['UVI'] = df_UVI['UVI'].fillna(0)\n",
        "df_UVI['erythem'] = df_UVI['erythem'].fillna(0)\n",
        "df_Solys.dropna(inplace = True)"
      ],
      "metadata": {
        "id": "baQb7D9H2tJz"
      },
      "execution_count": null,
      "outputs": []
    },
    {
      "cell_type": "code",
      "source": [
        "# In df_GLO_CMAS ersetzen aller 0 Einträge durch nan\n",
        "df_GLO_CAMS.replace(0, np.nan, inplace=True)\n",
        "# Entfernen aller Zeilen mit NaN-Werten\n",
        "df_GLO_CAMS.dropna(inplace=True)\n",
        "# Prüfen, ob in dem Datraframe Nullwerte enthalten sind\n",
        "df_GLO_CAMS.isnull().sum()"
      ],
      "metadata": {
        "id": "nAbYo4N9LBdw",
        "colab": {
          "base_uri": "https://localhost:8080/",
          "height": 210
        },
        "outputId": "7ab2a5fc-3ec4-446d-e1e6-fea185610f2a"
      },
      "execution_count": null,
      "outputs": [
        {
          "output_type": "execute_result",
          "data": {
            "text/plain": [
              "Clear_sky_GHI    0\n",
              "Clear_sky_BHI    0\n",
              "GHI              0\n",
              "BHI              0\n",
              "dtype: int64"
            ],
            "text/html": [
              "<div>\n",
              "<style scoped>\n",
              "    .dataframe tbody tr th:only-of-type {\n",
              "        vertical-align: middle;\n",
              "    }\n",
              "\n",
              "    .dataframe tbody tr th {\n",
              "        vertical-align: top;\n",
              "    }\n",
              "\n",
              "    .dataframe thead th {\n",
              "        text-align: right;\n",
              "    }\n",
              "</style>\n",
              "<table border=\"1\" class=\"dataframe\">\n",
              "  <thead>\n",
              "    <tr style=\"text-align: right;\">\n",
              "      <th></th>\n",
              "      <th>0</th>\n",
              "    </tr>\n",
              "  </thead>\n",
              "  <tbody>\n",
              "    <tr>\n",
              "      <th>Clear_sky_GHI</th>\n",
              "      <td>0</td>\n",
              "    </tr>\n",
              "    <tr>\n",
              "      <th>Clear_sky_BHI</th>\n",
              "      <td>0</td>\n",
              "    </tr>\n",
              "    <tr>\n",
              "      <th>GHI</th>\n",
              "      <td>0</td>\n",
              "    </tr>\n",
              "    <tr>\n",
              "      <th>BHI</th>\n",
              "      <td>0</td>\n",
              "    </tr>\n",
              "  </tbody>\n",
              "</table>\n",
              "</div><br><label><b>dtype:</b> int64</label>"
            ]
          },
          "metadata": {},
          "execution_count": 9
        }
      ]
    },
    {
      "source": [
        "# Plotten der GHI-Werte über das Jahr\n",
        "df_GLO_CAMS['GHI'].plot(kind='line', figsize=(8, 4), title='GHI')\n",
        "plt.gca().spines[['top', 'right']].set_visible(False)"
      ],
      "cell_type": "code",
      "metadata": {
        "colab": {
          "base_uri": "https://localhost:8080/",
          "height": 401
        },
        "id": "ntDIcB2oLapc",
        "outputId": "04f2c0b7-cda0-49e8-d7e0-a8e27e993bdc"
      },
      "execution_count": null,
      "outputs": [
        {
          "output_type": "display_data",
          "data": {
            "text/plain": [
              "<Figure size 800x400 with 1 Axes>"
            ],
            "image/png": "[encoded data removed]"
          },
          "metadata": {}
        }
      ]
    },
    {
      "cell_type": "markdown",
      "source": [
        "## Löschen von nicht gebrauchten Zeilen:\n",
        "\n",
        "Die Datensätze Solys GHI, UVI, CAMS Vorhersage und CAMS Globalstrahlung haben alle unterschiedlich viele Einträgen. Die Solys-Daten besitzen die wenigsten Einträge. Deshalb werden alle anderen Datensätze an die Einträge in die Solys-Daten angepasst."
      ],
      "metadata": {
        "id": "HUQ8ArDQ9gS1"
      }
    },
    {
      "cell_type": "code",
      "source": [
        "def keep_common_rows(df_a, df_b):\n",
        "    # Sicherstellen, dass beide DataFrames einen DateTime-Index haben\n",
        "    df_a.index = pd.to_datetime(df_a.index)\n",
        "    df_b.index = pd.to_datetime(df_b.index)\n",
        "\n",
        "    # Finden der gemeinsamen Zeitpunkte unter Berücksichtigung der Minute-Verschiebung\n",
        "    common_index = df_a.index.isin(df_b.index) # df_a.index.shift(-pd.Timedelta(minutes=1)).isin(df_b.index)\n",
        "\n",
        "    # Filtern von DataFrame A basierend auf den gefundenen gemeinsamen Zeitpunkten\n",
        "    df_a_filtered = df_a[common_index]\n",
        "\n",
        "    return df_a_filtered"
      ],
      "metadata": {
        "id": "IMfoFSdXNF2r"
      },
      "execution_count": null,
      "outputs": []
    },
    {
      "cell_type": "code",
      "source": [
        "# Reduzieren der CAMS-Globalstrahlungsvorhersagedaten\n",
        "df_GLO_CAMS = keep_common_rows(df_GLO_CAMS, df_Solys)"
      ],
      "metadata": {
        "id": "z-YhI88KujfK"
      },
      "execution_count": null,
      "outputs": []
    },
    {
      "cell_type": "code",
      "source": [
        "df_GLO_CAMS"
      ],
      "metadata": {
        "colab": {
          "base_uri": "https://localhost:8080/",
          "height": 455
        },
        "id": "J_ac7GLJ3mkB",
        "outputId": "e1417bf6-80fe-4e4e-88c8-a6eedaf0fbc2"
      },
      "execution_count": null,
      "outputs": [
        {
          "output_type": "execute_result",
          "data": {
            "text/plain": [
              "                     Clear_sky_GHI  Clear_sky_BHI      GHI       BHI\n",
              "Observation_period                                                  \n",
              "2022-06-15 07:21:00        188.748        154.357  188.748  154.3570\n",
              "2022-06-15 07:23:00        190.480        155.933  190.480  155.9330\n",
              "2022-06-15 07:25:00        192.206        157.504  192.206  157.5040\n",
              "2022-06-15 07:27:00        193.924        159.068  193.924  159.0680\n",
              "2022-06-15 07:29:00        195.635        160.627  195.635  160.6270\n",
              "...                            ...            ...      ...       ...\n",
              "2023-03-22 12:19:00        213.539        171.420   77.163    0.0839\n",
              "2023-03-22 12:21:00        213.134        171.004   76.276    0.0764\n",
              "2023-03-22 12:23:00        212.708        170.571   75.385    0.0689\n",
              "2023-03-22 12:25:00        212.264        170.121   74.490    0.0613\n",
              "2023-03-22 12:27:00        211.801        169.653   73.123    0.0540\n",
              "\n",
              "[36017 rows x 4 columns]"
            ],
            "text/html": [
              "\n",
              "  <div id=\"df-867f64e5-75af-411b-a7d2-4ab8bb3760ea\" class=\"colab-df-container\">\n",
              "    <div>\n",
              "<style scoped>\n",
              "    .dataframe tbody tr th:only-of-type {\n",
              "        vertical-align: middle;\n",
              "    }\n",
              "\n",
              "    .dataframe tbody tr th {\n",
              "        vertical-align: top;\n",
              "    }\n",
              "\n",
              "    .dataframe thead th {\n",
              "        text-align: right;\n",
              "    }\n",
              "</style>\n",
              "<table border=\"1\" class=\"dataframe\">\n",
              "  <thead>\n",
              "    <tr style=\"text-align: right;\">\n",
              "      <th></th>\n",
              "      <th>Clear_sky_GHI</th>\n",
              "      <th>Clear_sky_BHI</th>\n",
              "      <th>GHI</th>\n",
              "      <th>BHI</th>\n",
              "    </tr>\n",
              "    <tr>\n",
              "      <th>Observation_period</th>\n",
              "      <th></th>\n",
              "      <th></th>\n",
              "      <th></th>\n",
              "      <th></th>\n",
              "    </tr>\n",
              "  </thead>\n",
              "  <tbody>\n",
              "    <tr>\n",
              "      <th>2022-06-15 07:21:00</th>\n",
              "      <td>188.748</td>\n",
              "      <td>154.357</td>\n",
              "      <td>188.748</td>\n",
              "      <td>154.3570</td>\n",
              "    </tr>\n",
              "    <tr>\n",
              "      <th>2022-06-15 07:23:00</th>\n",
              "      <td>190.480</td>\n",
              "      <td>155.933</td>\n",
              "      <td>190.480</td>\n",
              "      <td>155.9330</td>\n",
              "    </tr>\n",
              "    <tr>\n",
              "      <th>2022-06-15 07:25:00</th>\n",
              "      <td>192.206</td>\n",
              "      <td>157.504</td>\n",
              "      <td>192.206</td>\n",
              "      <td>157.5040</td>\n",
              "    </tr>\n",
              "    <tr>\n",
              "      <th>2022-06-15 07:27:00</th>\n",
              "      <td>193.924</td>\n",
              "      <td>159.068</td>\n",
              "      <td>193.924</td>\n",
              "      <td>159.0680</td>\n",
              "    </tr>\n",
              "    <tr>\n",
              "      <th>2022-06-15 07:29:00</th>\n",
              "      <td>195.635</td>\n",
              "      <td>160.627</td>\n",
              "      <td>195.635</td>\n",
              "      <td>160.6270</td>\n",
              "    </tr>\n",
              "    <tr>\n",
              "      <th>...</th>\n",
              "      <td>...</td>\n",
              "      <td>...</td>\n",
              "      <td>...</td>\n",
              "      <td>...</td>\n",
              "    </tr>\n",
              "    <tr>\n",
              "      <th>2023-03-22 12:19:00</th>\n",
              "      <td>213.539</td>\n",
              "      <td>171.420</td>\n",
              "      <td>77.163</td>\n",
              "      <td>0.0839</td>\n",
              "    </tr>\n",
              "    <tr>\n",
              "      <th>2023-03-22 12:21:00</th>\n",
              "      <td>213.134</td>\n",
              "      <td>171.004</td>\n",
              "      <td>76.276</td>\n",
              "      <td>0.0764</td>\n",
              "    </tr>\n",
              "    <tr>\n",
              "      <th>2023-03-22 12:23:00</th>\n",
              "      <td>212.708</td>\n",
              "      <td>170.571</td>\n",
              "      <td>75.385</td>\n",
              "      <td>0.0689</td>\n",
              "    </tr>\n",
              "    <tr>\n",
              "      <th>2023-03-22 12:25:00</th>\n",
              "      <td>212.264</td>\n",
              "      <td>170.121</td>\n",
              "      <td>74.490</td>\n",
              "      <td>0.0613</td>\n",
              "    </tr>\n",
              "    <tr>\n",
              "      <th>2023-03-22 12:27:00</th>\n",
              "      <td>211.801</td>\n",
              "      <td>169.653</td>\n",
              "      <td>73.123</td>\n",
              "      <td>0.0540</td>\n",
              "    </tr>\n",
              "  </tbody>\n",
              "</table>\n",
              "<p>36017 rows × 4 columns</p>\n",
              "</div>\n",
              "    <div class=\"colab-df-buttons\">\n",
              "\n",
              "  <div class=\"colab-df-container\">\n",
              "    <button class=\"colab-df-convert\" onclick=\"convertToInteractive('df-867f64e5-75af-411b-a7d2-4ab8bb3760ea')\"\n",
              "            title=\"Convert this dataframe to an interactive table.\"\n",
              "            style=\"display:none;\">\n",
              "\n",
              "  <svg xmlns=\"http://www.w3.org/2000/svg\" height=\"24px\" viewBox=\"0 -960 960 960\">\n",
              "    <path d=\"M120-120v-720h720v720H120Zm60-500h600v-160H180v160Zm220 220h160v-160H400v160Zm0 220h160v-160H400v160ZM180-400h160v-160H180v160Zm440 0h160v-160H620v160ZM180-180h160v-160H180v160Zm440 0h160v-160H620v160Z\"/>\n",
              "  </svg>\n",
              "    </button>\n",
              "\n",
              "  <style>\n",
              "    .colab-df-container {\n",
              "      display:flex;\n",
              "      gap: 12px;\n",
              "    }\n",
              "\n",
              "    .colab-df-convert {\n",
              "      background-color: #E8F0FE;\n",
              "      border: none;\n",
              "      border-radius: 50%;\n",
              "      cursor: pointer;\n",
              "      display: none;\n",
              "      fill: #1967D2;\n",
              "      height: 32px;\n",
              "      padding: 0 0 0 0;\n",
              "      width: 32px;\n",
              "    }\n",
              "\n",
              "    .colab-df-convert:hover {\n",
              "      background-color: #E2EBFA;\n",
              "      box-shadow: 0px 1px 2px rgba(60, 64, 67, 0.3), 0px 1px 3px 1px rgba(60, 64, 67, 0.15);\n",
              "      fill: #174EA6;\n",
              "    }\n",
              "\n",
              "    .colab-df-buttons div {\n",
              "      margin-bottom: 4px;\n",
              "    }\n",
              "\n",
              "    [theme=dark] .colab-df-convert {\n",
              "      background-color: #3B4455;\n",
              "      fill: #D2E3FC;\n",
              "    }\n",
              "\n",
              "    [theme=dark] .colab-df-convert:hover {\n",
              "      background-color: #434B5C;\n",
              "      box-shadow: 0px 1px 3px 1px rgba(0, 0, 0, 0.15);\n",
              "      filter: drop-shadow(0px 1px 2px rgba(0, 0, 0, 0.3));\n",
              "      fill: #FFFFFF;\n",
              "    }\n",
              "  </style>\n",
              "\n",
              "    <script>\n",
              "      const buttonEl =\n",
              "        document.querySelector('#df-867f64e5-75af-411b-a7d2-4ab8bb3760ea button.colab-df-convert');\n",
              "      buttonEl.style.display =\n",
              "        google.colab.kernel.accessAllowed ? 'block' : 'none';\n",
              "\n",
              "      async function convertToInteractive(key) {\n",
              "        const element = document.querySelector('#df-867f64e5-75af-411b-a7d2-4ab8bb3760ea');\n",
              "        const dataTable =\n",
              "          await google.colab.kernel.invokeFunction('convertToInteractive',\n",
              "                                                    [key], {});\n",
              "        if (!dataTable) return;\n",
              "\n",
              "        const docLinkHtml = 'Like what you see? Visit the ' +\n",
              "          '<a target=\"_blank\" href=https://colab.research.google.com/notebooks/data_table.ipynb>data table notebook</a>'\n",
              "          + ' to learn more about interactive tables.';\n",
              "        element.innerHTML = '';\n",
              "        dataTable['output_type'] = 'display_data';\n",
              "        await google.colab.output.renderOutput(dataTable, element);\n",
              "        const docLink = document.createElement('div');\n",
              "        docLink.innerHTML = docLinkHtml;\n",
              "        element.appendChild(docLink);\n",
              "      }\n",
              "    </script>\n",
              "  </div>\n",
              "\n",
              "\n",
              "<div id=\"df-06b4e664-39c8-459e-af74-ca9e4bc04906\">\n",
              "  <button class=\"colab-df-quickchart\" onclick=\"quickchart('df-06b4e664-39c8-459e-af74-ca9e4bc04906')\"\n",
              "            title=\"Suggest charts\"\n",
              "            style=\"display:none;\">\n",
              "\n",
              "<svg xmlns=\"http://www.w3.org/2000/svg\" height=\"24px\"viewBox=\"0 0 24 24\"\n",
              "     width=\"24px\">\n",
              "    <g>\n",
              "        <path d=\"M19 3H5c-1.1 0-2 .9-2 2v14c0 1.1.9 2 2 2h14c1.1 0 2-.9 2-2V5c0-1.1-.9-2-2-2zM9 17H7v-7h2v7zm4 0h-2V7h2v10zm4 0h-2v-4h2v4z\"/>\n",
              "    </g>\n",
              "</svg>\n",
              "  </button>\n",
              "\n",
              "<style>\n",
              "  .colab-df-quickchart {\n",
              "      --bg-color: #E8F0FE;\n",
              "      --fill-color: #1967D2;\n",
              "      --hover-bg-color: #E2EBFA;\n",
              "      --hover-fill-color: #174EA6;\n",
              "      --disabled-fill-color: #AAA;\n",
              "      --disabled-bg-color: #DDD;\n",
              "  }\n",
              "\n",
              "  [theme=dark] .colab-df-quickchart {\n",
              "      --bg-color: #3B4455;\n",
              "      --fill-color: #D2E3FC;\n",
              "      --hover-bg-color: #434B5C;\n",
              "      --hover-fill-color: #FFFFFF;\n",
              "      --disabled-bg-color: #3B4455;\n",
              "      --disabled-fill-color: #666;\n",
              "  }\n",
              "\n",
              "  .colab-df-quickchart {\n",
              "    background-color: var(--bg-color);\n",
              "    border: none;\n",
              "    border-radius: 50%;\n",
              "    cursor: pointer;\n",
              "    display: none;\n",
              "    fill: var(--fill-color);\n",
              "    height: 32px;\n",
              "    padding: 0;\n",
              "    width: 32px;\n",
              "  }\n",
              "\n",
              "  .colab-df-quickchart:hover {\n",
              "    background-color: var(--hover-bg-color);\n",
              "    box-shadow: 0 1px 2px rgba(60, 64, 67, 0.3), 0 1px 3px 1px rgba(60, 64, 67, 0.15);\n",
              "    fill: var(--button-hover-fill-color);\n",
              "  }\n",
              "\n",
              "  .colab-df-quickchart-complete:disabled,\n",
              "  .colab-df-quickchart-complete:disabled:hover {\n",
              "    background-color: var(--disabled-bg-color);\n",
              "    fill: var(--disabled-fill-color);\n",
              "    box-shadow: none;\n",
              "  }\n",
              "\n",
              "  .colab-df-spinner {\n",
              "    border: 2px solid var(--fill-color);\n",
              "    border-color: transparent;\n",
              "    border-bottom-color: var(--fill-color);\n",
              "    animation:\n",
              "      spin 1s steps(1) infinite;\n",
              "  }\n",
              "\n",
              "  @keyframes spin {\n",
              "    0% {\n",
              "      border-color: transparent;\n",
              "      border-bottom-color: var(--fill-color);\n",
              "      border-left-color: var(--fill-color);\n",
              "    }\n",
              "    20% {\n",
              "      border-color: transparent;\n",
              "      border-left-color: var(--fill-color);\n",
              "      border-top-color: var(--fill-color);\n",
              "    }\n",
              "    30% {\n",
              "      border-color: transparent;\n",
              "      border-left-color: var(--fill-color);\n",
              "      border-top-color: var(--fill-color);\n",
              "      border-right-color: var(--fill-color);\n",
              "    }\n",
              "    40% {\n",
              "      border-color: transparent;\n",
              "      border-right-color: var(--fill-color);\n",
              "      border-top-color: var(--fill-color);\n",
              "    }\n",
              "    60% {\n",
              "      border-color: transparent;\n",
              "      border-right-color: var(--fill-color);\n",
              "    }\n",
              "    80% {\n",
              "      border-color: transparent;\n",
              "      border-right-color: var(--fill-color);\n",
              "      border-bottom-color: var(--fill-color);\n",
              "    }\n",
              "    90% {\n",
              "      border-color: transparent;\n",
              "      border-bottom-color: var(--fill-color);\n",
              "    }\n",
              "  }\n",
              "</style>\n",
              "\n",
              "  <script>\n",
              "    async function quickchart(key) {\n",
              "      const quickchartButtonEl =\n",
              "        document.querySelector('#' + key + ' button');\n",
              "      quickchartButtonEl.disabled = true;  // To prevent multiple clicks.\n",
              "      quickchartButtonEl.classList.add('colab-df-spinner');\n",
              "      try {\n",
              "        const charts = await google.colab.kernel.invokeFunction(\n",
              "            'suggestCharts', [key], {});\n",
              "      } catch (error) {\n",
              "        console.error('Error during call to suggestCharts:', error);\n",
              "      }\n",
              "      quickchartButtonEl.classList.remove('colab-df-spinner');\n",
              "      quickchartButtonEl.classList.add('colab-df-quickchart-complete');\n",
              "    }\n",
              "    (() => {\n",
              "      let quickchartButtonEl =\n",
              "        document.querySelector('#df-06b4e664-39c8-459e-af74-ca9e4bc04906 button');\n",
              "      quickchartButtonEl.style.display =\n",
              "        google.colab.kernel.accessAllowed ? 'block' : 'none';\n",
              "    })();\n",
              "  </script>\n",
              "</div>\n",
              "\n",
              "  <div id=\"id_c9c5dd3c-1135-4721-b3a8-cde843e8a92c\">\n",
              "    <style>\n",
              "      .colab-df-generate {\n",
              "        background-color: #E8F0FE;\n",
              "        border: none;\n",
              "        border-radius: 50%;\n",
              "        cursor: pointer;\n",
              "        display: none;\n",
              "        fill: #1967D2;\n",
              "        height: 32px;\n",
              "        padding: 0 0 0 0;\n",
              "        width: 32px;\n",
              "      }\n",
              "\n",
              "      .colab-df-generate:hover {\n",
              "        background-color: #E2EBFA;\n",
              "        box-shadow: 0px 1px 2px rgba(60, 64, 67, 0.3), 0px 1px 3px 1px rgba(60, 64, 67, 0.15);\n",
              "        fill: #174EA6;\n",
              "      }\n",
              "\n",
              "      [theme=dark] .colab-df-generate {\n",
              "        background-color: #3B4455;\n",
              "        fill: #D2E3FC;\n",
              "      }\n",
              "\n",
              "      [theme=dark] .colab-df-generate:hover {\n",
              "        background-color: #434B5C;\n",
              "        box-shadow: 0px 1px 3px 1px rgba(0, 0, 0, 0.15);\n",
              "        filter: drop-shadow(0px 1px 2px rgba(0, 0, 0, 0.3));\n",
              "        fill: #FFFFFF;\n",
              "      }\n",
              "    </style>\n",
              "    <button class=\"colab-df-generate\" onclick=\"generateWithVariable('df_GLO_CAMS')\"\n",
              "            title=\"Generate code using this dataframe.\"\n",
              "            style=\"display:none;\">\n",
              "\n",
              "  <svg xmlns=\"http://www.w3.org/2000/svg\" height=\"24px\"viewBox=\"0 0 24 24\"\n",
              "       width=\"24px\">\n",
              "    <path d=\"M7,19H8.4L18.45,9,17,7.55,7,17.6ZM5,21V16.75L18.45,3.32a2,2,0,0,1,2.83,0l1.4,1.43a1.91,1.91,0,0,1,.58,1.4,1.91,1.91,0,0,1-.58,1.4L9.25,21ZM18.45,9,17,7.55Zm-12,3A5.31,5.31,0,0,0,4.9,8.1,5.31,5.31,0,0,0,1,6.5,5.31,5.31,0,0,0,4.9,4.9,5.31,5.31,0,0,0,6.5,1,5.31,5.31,0,0,0,8.1,4.9,5.31,5.31,0,0,0,12,6.5,5.46,5.46,0,0,0,6.5,12Z\"/>\n",
              "  </svg>\n",
              "    </button>\n",
              "    <script>\n",
              "      (() => {\n",
              "      const buttonEl =\n",
              "        document.querySelector('#id_c9c5dd3c-1135-4721-b3a8-cde843e8a92c button.colab-df-generate');\n",
              "      buttonEl.style.display =\n",
              "        google.colab.kernel.accessAllowed ? 'block' : 'none';\n",
              "\n",
              "      buttonEl.onclick = () => {\n",
              "        google.colab.notebook.generateWithVariable('df_GLO_CAMS');\n",
              "      }\n",
              "      })();\n",
              "    </script>\n",
              "  </div>\n",
              "\n",
              "    </div>\n",
              "  </div>\n"
            ],
            "application/vnd.google.colaboratory.intrinsic+json": {
              "type": "dataframe",
              "variable_name": "df_GLO_CAMS",
              "summary": "{\n  \"name\": \"df_GLO_CAMS\",\n  \"rows\": 36017,\n  \"fields\": [\n    {\n      \"column\": \"Observation_period\",\n      \"properties\": {\n        \"dtype\": \"date\",\n        \"min\": \"2022-06-15 07:21:00\",\n        \"max\": \"2023-03-22 12:27:00\",\n        \"num_unique_values\": 36017,\n        \"samples\": [\n          \"2022-07-05 09:33:00\",\n          \"2022-10-15 08:45:00\",\n          \"2022-07-08 07:57:00\"\n        ],\n        \"semantic_type\": \"\",\n        \"description\": \"\"\n      }\n    },\n    {\n      \"column\": \"Clear_sky_GHI\",\n      \"properties\": {\n        \"dtype\": \"number\",\n        \"std\": 88.58836978184905,\n        \"min\": 0.0056,\n        \"max\": 310.509,\n        \"num_unique_values\": 34073,\n        \"samples\": [\n          42.144,\n          40.814,\n          286.185\n        ],\n        \"semantic_type\": \"\",\n        \"description\": \"\"\n      }\n    },\n    {\n      \"column\": \"Clear_sky_BHI\",\n      \"properties\": {\n        \"dtype\": \"number\",\n        \"std\": 77.0264225111511,\n        \"min\": 0.0001,\n        \"max\": 270.874,\n        \"num_unique_values\": 33337,\n        \"samples\": [\n          213.007,\n          0.8866,\n          148.103\n        ],\n        \"semantic_type\": \"\",\n        \"description\": \"\"\n      }\n    },\n    {\n      \"column\": \"GHI\",\n      \"properties\": {\n        \"dtype\": \"number\",\n        \"std\": 80.74368914275793,\n        \"min\": 0.0054,\n        \"max\": 310.509,\n        \"num_unique_values\": 33578,\n        \"samples\": [\n          63.371,\n          144.078,\n          82.5\n        ],\n        \"semantic_type\": \"\",\n        \"description\": \"\"\n      }\n    },\n    {\n      \"column\": \"BHI\",\n      \"properties\": {\n        \"dtype\": \"number\",\n        \"std\": 69.3807279482596,\n        \"min\": 0.0001,\n        \"max\": 270.874,\n        \"num_unique_values\": 27025,\n        \"samples\": [\n          1.6614,\n          45.957,\n          1.5689000000000002\n        ],\n        \"semantic_type\": \"\",\n        \"description\": \"\"\n      }\n    }\n  ]\n}"
            }
          },
          "metadata": {},
          "execution_count": 13
        }
      ]
    },
    {
      "cell_type": "code",
      "source": [
        "def save_dataframe_to_drive(dataframe, folder_path, filename):\n",
        "\n",
        "    # Erstelle den vollen Pfad zur Datei\n",
        "    full_path = os.path.join(folder_path, filename)\n",
        "    dataframe.reset_index(inplace=True)\n",
        "\n",
        "    # Speichere den DataFrame als CSV-Datei auf Google Drive\n",
        "    dataframe.to_csv(full_path, index=False)\n",
        "\n",
        "    print(f'Der DataFrame wurde als {filename} in {folder_path} auf Google Drive gespeichert.')"
      ],
      "metadata": {
        "id": "7dsO58_jv8KJ"
      },
      "execution_count": null,
      "outputs": []
    },
    {
      "cell_type": "code",
      "source": [
        "df_file_name = 'solar_radiation_forecast.csv'\n",
        "# save_dataframe_to_drive(df_GLO_CAMS, '/content/drive/My Drive/Colab_Notebooks/Clean_Data', df_file_name)"
      ],
      "metadata": {
        "id": "yqfIQcX1wBR4"
      },
      "execution_count": null,
      "outputs": []
    }
  ]
}