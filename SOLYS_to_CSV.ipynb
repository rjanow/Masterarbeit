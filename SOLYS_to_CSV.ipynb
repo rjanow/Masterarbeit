{
  "nbformat": 4,
  "nbformat_minor": 0,
  "metadata": {
    "colab": {
      "provenance": [],
      "authorship_tag": "ABX9TyMWo1h6xic/KEWOQpCtg84i",
      "include_colab_link": true
    },
    "kernelspec": {
      "name": "python3",
      "display_name": "Python 3"
    },
    "language_info": {
      "name": "python"
    }
  },
  "cells": [
    {
      "cell_type": "markdown",
      "metadata": {
        "id": "view-in-github",
        "colab_type": "text"
      },
      "source": [
        "<a href=\"https://colab.research.google.com/github/rjanow/Masterarbeit/blob/main/SOLYS_to_CSV.ipynb\" target=\"_parent\"><img src=\"https://colab.research.google.com/assets/colab-badge.svg\" alt=\"Open In Colab\"/></a>"
      ]
    },
    {
      "cell_type": "markdown",
      "source": [
        "# SOLYS_to_CSV"
      ],
      "metadata": {
        "id": "3LK9CU9zPOU0"
      }
    },
    {
      "cell_type": "markdown",
      "source": [
        "Hier werden die Sun-Tracker Daten in eine CSV umgewandelt:"
      ],
      "metadata": {
        "id": "OOTOrkjJPXYI"
      }
    },
    {
      "cell_type": "code",
      "source": [
        "import os\n",
        "import pandas as pd\n",
        "import matplotlib.pyplot  as plt\n",
        "\n",
        "from google.colab import drive"
      ],
      "metadata": {
        "id": "3udlYHXdT3qP"
      },
      "execution_count": 1,
      "outputs": []
    },
    {
      "cell_type": "code",
      "source": [
        "# Pfad zum Ordner der Drive in dem die Messdaten gespeichert sind\n",
        "folder_path = f'/content/drive/My Drive/Colab_Notebooks/SOLYS_Messdaten'"
      ],
      "metadata": {
        "id": "PcVioCsdUJiE"
      },
      "execution_count": 2,
      "outputs": []
    },
    {
      "cell_type": "code",
      "execution_count": 13,
      "metadata": {
        "id": "hnRLH004OjzA"
      },
      "outputs": [],
      "source": [
        "# Funktion zum Laden aller Dateien in einem Google Drive-Ordner\n",
        "def load_data_from_drive_folder(folder_path, header_lines=7, encoding = 'cp1252'):\n",
        "\n",
        "    # Liste, um alle DataFrames zu speichern\n",
        "    dfs = []\n",
        "\n",
        "    # Durchlaufen alle Dateien im angegebenen Ordner\n",
        "    for filename in os.listdir(folder_path):\n",
        "        file_path = os.path.join(folder_path, filename)\n",
        "\n",
        "        # Überprüfe, ob es eine Datei ist und lade sie\n",
        "        if os.path.isfile(file_path):\n",
        "            df = pd.read_csv(file_path, skiprows=header_lines, sep = '\\t', encoding=encoding)\n",
        "            dfs.append(df)\n",
        "\n",
        "    # Kombinieren aller DataFrames\n",
        "    combined_df = pd.concat(dfs, ignore_index=True)\n",
        "\n",
        "    return combined_df"
      ]
    },
    {
      "cell_type": "code",
      "source": [
        "# Aufruf der Funktion zum Einlesen der Messdaten\n",
        "df = load_data_from_drive_folder(folder_path)"
      ],
      "metadata": {
        "id": "GYBWYgqqT60k"
      },
      "execution_count": 14,
      "outputs": []
    },
    {
      "cell_type": "markdown",
      "source": [
        "## Löschen und umbenennen der Spalten:"
      ],
      "metadata": {
        "id": "kfhcpY6SZAZD"
      }
    },
    {
      "cell_type": "code",
      "source": [
        "# Löschen der nicht benötigten Splaten\n",
        "df_Solys = df.drop(columns = ['Unit', 'Unnamed: 10', ' °C', ' °C.1'], axis=1)"
      ],
      "metadata": {
        "id": "-CtH1nwgZ31E"
      },
      "execution_count": 16,
      "outputs": []
    },
    {
      "cell_type": "code",
      "source": [
        "# df_Solys"
      ],
      "metadata": {
        "id": "f7utnwPjbuun"
      },
      "execution_count": null,
      "outputs": []
    },
    {
      "cell_type": "code",
      "source": [
        "# Umbenennen der Splatennamen\n",
        "df_Solys.columns = ['Datetime', 'Glo', 'Dif', 'Glo_SPLite', 'PV_Zelle', 'Dir', 'Temp']"
      ],
      "metadata": {
        "id": "B96T1O5fZF60"
      },
      "execution_count": 18,
      "outputs": []
    },
    {
      "cell_type": "code",
      "source": [
        "# Datetime-Spalte als Index setzen\n",
        "df_Solys.set_index('Datetime', inplace = True)"
      ],
      "metadata": {
        "id": "0WxlfIJvV-hS"
      },
      "execution_count": 19,
      "outputs": []
    },
    {
      "cell_type": "markdown",
      "source": [
        "## Messungen in die richtige Reihenfolge bringen:"
      ],
      "metadata": {
        "id": "GZ3of4DUdsrz"
      }
    },
    {
      "cell_type": "code",
      "source": [
        "# Sotieren des Index in chronologischer Reihenfolge\n",
        "df_Solys.sort_index(ascending=True, inplace = True)"
      ],
      "metadata": {
        "id": "4iRf6Ae1fn7y"
      },
      "execution_count": 20,
      "outputs": []
    },
    {
      "cell_type": "code",
      "source": [
        "# Prüfen, ob die Messdaten in chronologischer Reihenfolge sind\n",
        "chronologisch = df_Solys.index.is_monotonic_increasing\n",
        "print(f\"Der Index ist in chronologischer Reihenfolge: {chronologisch}\")"
      ],
      "metadata": {
        "id": "ukuyzDbPeKpg"
      },
      "execution_count": 21,
      "outputs": []
    },
    {
      "cell_type": "markdown",
      "source": [
        "## Plotten der Messdaten:"
      ],
      "metadata": {
        "id": "aWPSe2ezdy6w"
      }
    },
    {
      "cell_type": "code",
      "source": [
        "plt.plot(df_Solys['Glo'])"
      ],
      "metadata": {
        "colab": {
          "base_uri": "https://localhost:8080/"
        },
        "id": "4WSbTgo_ctDc",
        "outputId": "560965fd-9956-4338-b244-b08b6fcda198"
      },
      "execution_count": null,
      "outputs": [
        {
          "output_type": "execute_result",
          "data": {
            "text/plain": [
              "[<matplotlib.lines.Line2D at 0x7be2790eab30>]"
            ]
          },
          "metadata": {},
          "execution_count": 23
        }
      ]
    }
  ]
}