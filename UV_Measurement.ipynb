{
  "nbformat": 4,
  "nbformat_minor": 0,
  "metadata": {
    "colab": {
      "provenance": [],
      "authorship_tag": "ABX9TyORLIDWTcQk7JA6gSFlIR1w",
      "include_colab_link": true
    },
    "kernelspec": {
      "name": "python3",
      "display_name": "Python 3"
    },
    "language_info": {
      "name": "python"
    }
  },
  "cells": [
    {
      "cell_type": "markdown",
      "metadata": {
        "id": "view-in-github",
        "colab_type": "text"
      },
      "source": [
        "<a href=\"https://colab.research.google.com/github/rjanow/Masterarbeit/blob/main/UV_Measurement.ipynb\" target=\"_parent\"><img src=\"https://colab.research.google.com/assets/colab-badge.svg\" alt=\"Open In Colab\"/></a>"
      ]
    },
    {
      "cell_type": "markdown",
      "source": [
        "**Hier werden die Rohdaten des BTS2048-UV-WP in eine nutzbare CSV-Datei geschrieben**"
      ],
      "metadata": {
        "id": "VbXcbReNyuop"
      }
    },
    {
      "cell_type": "markdown",
      "source": [
        "Dokumentenname: Import_UV_Measurement.ipynb\n",
        "\n",
        "Es werden die OR0-Daten (NasaAmes-Format), die eigentlich für den Versand an das BFS gedacht sind umgewandelt und in eine CSV-Datei geschrieben."
      ],
      "metadata": {
        "id": "_Euu6x1XyxGL"
      }
    },
    {
      "cell_type": "code",
      "source": [
        "# Import der benötigten Module\n",
        "import os, sys\n",
        "import json\n",
        "import datetime\n",
        "import pandas as pd\n",
        "import numpy as np\n",
        "import csv\n",
        "import re\n",
        "\n",
        "from scipy.io import netcdf\n",
        "from datetime import timedelta\n",
        "from datetime import datetime"
      ],
      "metadata": {
        "id": "6GGZwyBJzVsp"
      },
      "execution_count": 2,
      "outputs": []
    },
    {
      "cell_type": "markdown",
      "source": [
        "Zu Beginn muss die Google-Drive eingerichtet werden, in der die Messdaten (OR0-Dateien) gespeichert sind. Danach werden alle verfügbaren Unterordner aufgerufen. So wird geprüft, ob der Mount richtig funktioniert hat."
      ],
      "metadata": {
        "id": "EKAQlrHyWWIP"
      }
    },
    {
      "cell_type": "code",
      "source": [
        "from google.colab import drive\n",
        "drive.mount('/content/drive')\n",
        "\n",
        "drive_path = '/content/drive/MyDrive'\n",
        "# Durchsuche den Google Drive-Pfad\n",
        "for root, dirs, files in os.walk(drive_path):\n",
        "    for dir in dirs:\n",
        "        # Gib den Namen des Unterordners aus\n",
        "        print(os.path.join(root, dir))"
      ],
      "metadata": {
        "colab": {
          "base_uri": "https://localhost:8080/"
        },
        "id": "T_iN54-sVUVL",
        "outputId": "f5466d79-bc7d-4a5f-e02e-e02b3c407a99"
      },
      "execution_count": 3,
      "outputs": [
        {
          "output_type": "stream",
          "name": "stdout",
          "text": [
            "Mounted at /content/drive\n",
            "/content/drive/MyDrive/Colab_Notebooks\n",
            "/content/drive/MyDrive/Colab Notebooks\n",
            "/content/drive/MyDrive/Colab_Notebooks/CSV_Messdaten\n",
            "/content/drive/MyDrive/Colab_Notebooks/CouchDB File\n",
            "/content/drive/MyDrive/Colab_Notebooks/NasaAmes_Messdaten\n",
            "/content/drive/MyDrive/Colab_Notebooks/NasaAmes_Messdaten/Data\n"
          ]
        }
      ]
    },
    {
      "cell_type": "markdown",
      "source": [
        "Danach werden die einzelnen OR0-Dateien (NasaAmes Format) geladen und umgewandelt.\n",
        "\n",
        "Das NasaAmes Format: https://espoarchive.nasa.gov/content/Ames_Format_Specification_v20\n",
        "\n",
        "Die Messdaten sind unter dem FFI (File Format Index) 2005 gespeichert. Dieser Standard ist durch die Nasa nicht dokumentiert. Deshalb nachfolgend ein eigener Parser, der die Daten in eine nutzbare CSV umwandelt."
      ],
      "metadata": {
        "id": "ZRL9H_KEZpgG"
      }
    },
    {
      "cell_type": "markdown",
      "source": [
        "**Umwandeln einer Datei...**\n",
        "\n",
        "- **lines** = enthält die OR0-Datei in Zeilen aufgeteilt\n",
        "- **header** = Enthält den Dateikopf\n",
        "- **end_line_header** = enthält die Zeile an dem der Header endet"
      ],
      "metadata": {
        "id": "TI_gn6B6_qGL"
      }
    },
    {
      "cell_type": "markdown",
      "source": [
        "**Datei einlesen:**"
      ],
      "metadata": {
        "id": "7_mIBaD2FwwZ"
      }
    },
    {
      "cell_type": "code",
      "source": [
        "# Testweise Öffnen einer Datei um zu prüfen, ob die Verbindung zu Google Drive funktioniert\n",
        "file_path = r'/content/drive/MyDrive/Colab_Notebooks/NasaAmes_Messdaten/Data/SA220615.OR0'  # Dateipfad in der Google-Drive\n",
        "\n",
        "with open(file_path, 'r') as file:\n",
        "    # Inhalt der Datei lesen\n",
        "    content = file.read()"
      ],
      "metadata": {
        "id": "LJXRx3MKM8L1"
      },
      "execution_count": 5,
      "outputs": []
    },
    {
      "cell_type": "code",
      "source": [
        "# Zeilen in eine Liste aufteilen\n",
        "lines = content.split('\\n')"
      ],
      "metadata": {
        "id": "JxBOhrPFQIYc"
      },
      "execution_count": 6,
      "outputs": []
    },
    {
      "cell_type": "code",
      "source": [
        "print(lines[0:15])"
      ],
      "metadata": {
        "colab": {
          "base_uri": "https://localhost:8080/"
        },
        "id": "DmNHz7O7wW8o",
        "outputId": "c2937af7-0cda-40df-9f02-afc4d019cb79"
      },
      "execution_count": 7,
      "outputs": [
        {
          "output_type": "stream",
          "name": "stdout",
          "text": [
            "['NLHEAD=207 FFI=2005        ', 'R.Janowitz', 'DGUV', 'ELONG=7.182 NLAT=50.780 HEIGHT=70m', 's-UV-Mo-Net', '1 1', '2022 06 15  2022 06 15', '0 360', '1301', '1301', '  290.000  290.100  290.200  290.300  290.400  290.500  290.600  290.700', '  290.800  290.900  291.000  291.100  291.200  291.300  291.400  291.500', '  291.600  291.700  291.800  291.900  292.000  292.100  292.200  292.300', '  292.400  292.500  292.600  292.700  292.800  292.900  293.000  293.100', '  293.200  293.300  293.400  293.500  293.600  293.700  293.800  293.900']\n"
          ]
        }
      ]
    },
    {
      "cell_type": "markdown",
      "source": [
        "**Header extrahieren:**"
      ],
      "metadata": {
        "id": "AaUuqtlgK2Qq"
      }
    },
    {
      "cell_type": "code",
      "source": [
        "# Funktion um den Dateiheader zu extrahieren\n",
        "def extract_header(dataset):\n",
        "    header_content = \"\"\n",
        "    end_line_header = None\n",
        "\n",
        "    for i, line in enumerate(dataset):\n",
        "        header_content += line + \"\\n\"\n",
        "        if line.strip() == \"Pyranometer: readout interval [secs]=5\":\n",
        "            end_line_header = i\n",
        "            break\n",
        "\n",
        "\n",
        "    return header_content, end_line_header"
      ],
      "metadata": {
        "id": "YQTw-OjYPUkp"
      },
      "execution_count": 8,
      "outputs": []
    },
    {
      "cell_type": "code",
      "source": [
        "header = extract_header(lines)"
      ],
      "metadata": {
        "id": "AX_Abqjueo9u"
      },
      "execution_count": 9,
      "outputs": []
    },
    {
      "cell_type": "markdown",
      "source": [
        "**Dataframe mit Wellenlängen erstellen**"
      ],
      "metadata": {
        "id": "4sWE034DaFBt"
      }
    },
    {
      "cell_type": "code",
      "source": [
        "def create_df_Wellenlaenge(start, end, step):\n",
        "    # Erstelle eine Liste mit den gewünschten Werten\n",
        "    numbers_list = [round(num, 3) for num in list(np.arange(start, end + step, step))]\n",
        "    # Erstelle den Dataframe\n",
        "    df = pd.DataFrame({'Wellenlaenge': numbers_list})\n",
        "\n",
        "    return df"
      ],
      "metadata": {
        "id": "vR4lB-9hAJZ6"
      },
      "execution_count": 10,
      "outputs": []
    },
    {
      "cell_type": "code",
      "source": [
        "df_Wellenlaenge = create_df_Wellenlaenge(290, 420, 0.1)"
      ],
      "metadata": {
        "id": "ke6b38SlA3B1"
      },
      "execution_count": 11,
      "outputs": []
    },
    {
      "cell_type": "code",
      "source": [
        "df_Wellenlaenge"
      ],
      "metadata": {
        "colab": {
          "base_uri": "https://localhost:8080/",
          "height": 423
        },
        "id": "wDxtXP76DiIT",
        "outputId": "424eba04-3ed6-4196-caa5-58386e4f3d29"
      },
      "execution_count": 12,
      "outputs": [
        {
          "output_type": "execute_result",
          "data": {
            "text/plain": [
              "      Wellenlaenge\n",
              "0            290.0\n",
              "1            290.1\n",
              "2            290.2\n",
              "3            290.3\n",
              "4            290.4\n",
              "...            ...\n",
              "1297         419.7\n",
              "1298         419.8\n",
              "1299         419.9\n",
              "1300         420.0\n",
              "1301         420.1\n",
              "\n",
              "[1302 rows x 1 columns]"
            ],
            "text/html": [
              "\n",
              "\n",
              "  <div id=\"df-290ac884-7cd5-4eea-af3c-6a2b28c924b2\">\n",
              "    <div class=\"colab-df-container\">\n",
              "      <div>\n",
              "<style scoped>\n",
              "    .dataframe tbody tr th:only-of-type {\n",
              "        vertical-align: middle;\n",
              "    }\n",
              "\n",
              "    .dataframe tbody tr th {\n",
              "        vertical-align: top;\n",
              "    }\n",
              "\n",
              "    .dataframe thead th {\n",
              "        text-align: right;\n",
              "    }\n",
              "</style>\n",
              "<table border=\"1\" class=\"dataframe\">\n",
              "  <thead>\n",
              "    <tr style=\"text-align: right;\">\n",
              "      <th></th>\n",
              "      <th>Wellenlaenge</th>\n",
              "    </tr>\n",
              "  </thead>\n",
              "  <tbody>\n",
              "    <tr>\n",
              "      <th>0</th>\n",
              "      <td>290.0</td>\n",
              "    </tr>\n",
              "    <tr>\n",
              "      <th>1</th>\n",
              "      <td>290.1</td>\n",
              "    </tr>\n",
              "    <tr>\n",
              "      <th>2</th>\n",
              "      <td>290.2</td>\n",
              "    </tr>\n",
              "    <tr>\n",
              "      <th>3</th>\n",
              "      <td>290.3</td>\n",
              "    </tr>\n",
              "    <tr>\n",
              "      <th>4</th>\n",
              "      <td>290.4</td>\n",
              "    </tr>\n",
              "    <tr>\n",
              "      <th>...</th>\n",
              "      <td>...</td>\n",
              "    </tr>\n",
              "    <tr>\n",
              "      <th>1297</th>\n",
              "      <td>419.7</td>\n",
              "    </tr>\n",
              "    <tr>\n",
              "      <th>1298</th>\n",
              "      <td>419.8</td>\n",
              "    </tr>\n",
              "    <tr>\n",
              "      <th>1299</th>\n",
              "      <td>419.9</td>\n",
              "    </tr>\n",
              "    <tr>\n",
              "      <th>1300</th>\n",
              "      <td>420.0</td>\n",
              "    </tr>\n",
              "    <tr>\n",
              "      <th>1301</th>\n",
              "      <td>420.1</td>\n",
              "    </tr>\n",
              "  </tbody>\n",
              "</table>\n",
              "<p>1302 rows × 1 columns</p>\n",
              "</div>\n",
              "      <button class=\"colab-df-convert\" onclick=\"convertToInteractive('df-290ac884-7cd5-4eea-af3c-6a2b28c924b2')\"\n",
              "              title=\"Convert this dataframe to an interactive table.\"\n",
              "              style=\"display:none;\">\n",
              "\n",
              "  <svg xmlns=\"http://www.w3.org/2000/svg\" height=\"24px\"viewBox=\"0 0 24 24\"\n",
              "       width=\"24px\">\n",
              "    <path d=\"M0 0h24v24H0V0z\" fill=\"none\"/>\n",
              "    <path d=\"M18.56 5.44l.94 2.06.94-2.06 2.06-.94-2.06-.94-.94-2.06-.94 2.06-2.06.94zm-11 1L8.5 8.5l.94-2.06 2.06-.94-2.06-.94L8.5 2.5l-.94 2.06-2.06.94zm10 10l.94 2.06.94-2.06 2.06-.94-2.06-.94-.94-2.06-.94 2.06-2.06.94z\"/><path d=\"M17.41 7.96l-1.37-1.37c-.4-.4-.92-.59-1.43-.59-.52 0-1.04.2-1.43.59L10.3 9.45l-7.72 7.72c-.78.78-.78 2.05 0 2.83L4 21.41c.39.39.9.59 1.41.59.51 0 1.02-.2 1.41-.59l7.78-7.78 2.81-2.81c.8-.78.8-2.07 0-2.86zM5.41 20L4 18.59l7.72-7.72 1.47 1.35L5.41 20z\"/>\n",
              "  </svg>\n",
              "      </button>\n",
              "\n",
              "\n",
              "\n",
              "    <div id=\"df-35c29069-d810-4106-b100-d7e50c092422\">\n",
              "      <button class=\"colab-df-quickchart\" onclick=\"quickchart('df-35c29069-d810-4106-b100-d7e50c092422')\"\n",
              "              title=\"Suggest charts.\"\n",
              "              style=\"display:none;\">\n",
              "\n",
              "<svg xmlns=\"http://www.w3.org/2000/svg\" height=\"24px\"viewBox=\"0 0 24 24\"\n",
              "     width=\"24px\">\n",
              "    <g>\n",
              "        <path d=\"M19 3H5c-1.1 0-2 .9-2 2v14c0 1.1.9 2 2 2h14c1.1 0 2-.9 2-2V5c0-1.1-.9-2-2-2zM9 17H7v-7h2v7zm4 0h-2V7h2v10zm4 0h-2v-4h2v4z\"/>\n",
              "    </g>\n",
              "</svg>\n",
              "      </button>\n",
              "    </div>\n",
              "\n",
              "<style>\n",
              "  .colab-df-quickchart {\n",
              "    background-color: #E8F0FE;\n",
              "    border: none;\n",
              "    border-radius: 50%;\n",
              "    cursor: pointer;\n",
              "    display: none;\n",
              "    fill: #1967D2;\n",
              "    height: 32px;\n",
              "    padding: 0 0 0 0;\n",
              "    width: 32px;\n",
              "  }\n",
              "\n",
              "  .colab-df-quickchart:hover {\n",
              "    background-color: #E2EBFA;\n",
              "    box-shadow: 0px 1px 2px rgba(60, 64, 67, 0.3), 0px 1px 3px 1px rgba(60, 64, 67, 0.15);\n",
              "    fill: #174EA6;\n",
              "  }\n",
              "\n",
              "  [theme=dark] .colab-df-quickchart {\n",
              "    background-color: #3B4455;\n",
              "    fill: #D2E3FC;\n",
              "  }\n",
              "\n",
              "  [theme=dark] .colab-df-quickchart:hover {\n",
              "    background-color: #434B5C;\n",
              "    box-shadow: 0px 1px 3px 1px rgba(0, 0, 0, 0.15);\n",
              "    filter: drop-shadow(0px 1px 2px rgba(0, 0, 0, 0.3));\n",
              "    fill: #FFFFFF;\n",
              "  }\n",
              "</style>\n",
              "\n",
              "    <script>\n",
              "      async function quickchart(key) {\n",
              "        const containerElement = document.querySelector('#' + key);\n",
              "        const charts = await google.colab.kernel.invokeFunction(\n",
              "            'suggestCharts', [key], {});\n",
              "      }\n",
              "    </script>\n",
              "\n",
              "      <script>\n",
              "\n",
              "function displayQuickchartButton(domScope) {\n",
              "  let quickchartButtonEl =\n",
              "    domScope.querySelector('#df-35c29069-d810-4106-b100-d7e50c092422 button.colab-df-quickchart');\n",
              "  quickchartButtonEl.style.display =\n",
              "    google.colab.kernel.accessAllowed ? 'block' : 'none';\n",
              "}\n",
              "\n",
              "        displayQuickchartButton(document);\n",
              "      </script>\n",
              "      <style>\n",
              "    .colab-df-container {\n",
              "      display:flex;\n",
              "      flex-wrap:wrap;\n",
              "      gap: 12px;\n",
              "    }\n",
              "\n",
              "    .colab-df-convert {\n",
              "      background-color: #E8F0FE;\n",
              "      border: none;\n",
              "      border-radius: 50%;\n",
              "      cursor: pointer;\n",
              "      display: none;\n",
              "      fill: #1967D2;\n",
              "      height: 32px;\n",
              "      padding: 0 0 0 0;\n",
              "      width: 32px;\n",
              "    }\n",
              "\n",
              "    .colab-df-convert:hover {\n",
              "      background-color: #E2EBFA;\n",
              "      box-shadow: 0px 1px 2px rgba(60, 64, 67, 0.3), 0px 1px 3px 1px rgba(60, 64, 67, 0.15);\n",
              "      fill: #174EA6;\n",
              "    }\n",
              "\n",
              "    [theme=dark] .colab-df-convert {\n",
              "      background-color: #3B4455;\n",
              "      fill: #D2E3FC;\n",
              "    }\n",
              "\n",
              "    [theme=dark] .colab-df-convert:hover {\n",
              "      background-color: #434B5C;\n",
              "      box-shadow: 0px 1px 3px 1px rgba(0, 0, 0, 0.15);\n",
              "      filter: drop-shadow(0px 1px 2px rgba(0, 0, 0, 0.3));\n",
              "      fill: #FFFFFF;\n",
              "    }\n",
              "  </style>\n",
              "\n",
              "      <script>\n",
              "        const buttonEl =\n",
              "          document.querySelector('#df-290ac884-7cd5-4eea-af3c-6a2b28c924b2 button.colab-df-convert');\n",
              "        buttonEl.style.display =\n",
              "          google.colab.kernel.accessAllowed ? 'block' : 'none';\n",
              "\n",
              "        async function convertToInteractive(key) {\n",
              "          const element = document.querySelector('#df-290ac884-7cd5-4eea-af3c-6a2b28c924b2');\n",
              "          const dataTable =\n",
              "            await google.colab.kernel.invokeFunction('convertToInteractive',\n",
              "                                                     [key], {});\n",
              "          if (!dataTable) return;\n",
              "\n",
              "          const docLinkHtml = 'Like what you see? Visit the ' +\n",
              "            '<a target=\"_blank\" href=https://colab.research.google.com/notebooks/data_table.ipynb>data table notebook</a>'\n",
              "            + ' to learn more about interactive tables.';\n",
              "          element.innerHTML = '';\n",
              "          dataTable['output_type'] = 'display_data';\n",
              "          await google.colab.output.renderOutput(dataTable, element);\n",
              "          const docLink = document.createElement('div');\n",
              "          docLink.innerHTML = docLinkHtml;\n",
              "          element.appendChild(docLink);\n",
              "        }\n",
              "      </script>\n",
              "    </div>\n",
              "  </div>\n"
            ]
          },
          "metadata": {},
          "execution_count": 12
        }
      ]
    },
    {
      "cell_type": "markdown",
      "source": [
        "**Nach Datum in Header suchen:**"
      ],
      "metadata": {
        "id": "OTl6cJnMLlVd"
      }
    },
    {
      "cell_type": "code",
      "source": [
        "# Funktion um das Datum aus dem Header zu extrahieren\n",
        "def extract_date(header_content):\n",
        "    header_split = header_content.split('\\n')\n",
        "    date_line = header_split[6]\n",
        "    start_date = date_line.split()[0:3]\n",
        "    end_date = date_line.split()[3:6]\n",
        "    if start_date == end_date:\n",
        "        start_date = [int(element) for element in start_date]\n",
        "        date_object = datetime(start_date[0], start_date[1], start_date[2])\n",
        "        return date_object\n",
        "    else:\n",
        "        return \"Error: Start and end dates are not the same\""
      ],
      "metadata": {
        "id": "hz4ucEhhHNDf"
      },
      "execution_count": 13,
      "outputs": []
    },
    {
      "cell_type": "code",
      "source": [
        "date = extract_date(header[0])\n",
        "print(\"Datum:\", date)"
      ],
      "metadata": {
        "id": "MZ-113EHGHDR",
        "colab": {
          "base_uri": "https://localhost:8080/"
        },
        "outputId": "4994e015-ebcf-4d5e-c5c9-9fba7e62a7de"
      },
      "execution_count": 14,
      "outputs": [
        {
          "output_type": "stream",
          "name": "stdout",
          "text": [
            "Datum: 2022-06-15 00:00:00\n"
          ]
        }
      ]
    },
    {
      "cell_type": "code",
      "source": [
        "header[0]"
      ],
      "metadata": {
        "colab": {
          "base_uri": "https://localhost:8080/",
          "height": 109
        },
        "id": "HdsEwAA2r6wF",
        "outputId": "a25e7bb9-4956-4049-c9fb-62df7d8a36ca"
      },
      "execution_count": 19,
      "outputs": [
        {
          "output_type": "execute_result",
          "data": {
            "text/plain": [
              "'NLHEAD=207 FFI=2005        \\nR.Janowitz\\nDGUV\\nELONG=7.182 NLAT=50.780 HEIGHT=70m\\ns-UV-Mo-Net\\n1 1\\n2022 06 15  2022 06 15\\n0 360\\n1301\\n1301\\n  290.000  290.100  290.200  290.300  290.400  290.500  290.600  290.700\\n  290.800  290.900  291.000  291.100  291.200  291.300  291.400  291.500\\n  291.600  291.700  291.800  291.900  292.000  292.100  292.200  292.300\\n  292.400  292.500  292.600  292.700  292.800  292.900  293.000  293.100\\n  293.200  293.300  293.400  293.500  293.600  293.700  293.800  293.900\\n  294.000  294.100  294.200  294.300  294.400  294.500  294.600  294.700\\n  294.800  294.900  295.000  295.100  295.200  295.300  295.400  295.500\\n  295.600  295.700  295.800  295.900  296.000  296.100  296.200  296.300\\n  296.400  296.500  296.600  296.700  296.800  296.900  297.000  297.100\\n  297.200  297.300  297.400  297.500  297.600  297.700  297.800  297.900\\n  298.000  298.100  298.200  298.300  298.400  298.500  298.600  298.700\\n  298.800  298.900  299.000  299.100  299.200  299.300  299.400  299.500\\n  299.600  299.700  299.800  299.900  300.000  300.100  300.200  300.300\\n  300.400  300.500  300.600  300.700  300.800  300.900  301.000  301.100\\n  301.200  301.300  301.400  301.500  301.600  301.700  301.800  301.900\\n  302.000  302.100  302.200  302.300  302.400  302.500  302.600  302.700\\n  302.800  302.900  303.000  303.100  303.200  303.300  303.400  303.500\\n  303.600  303.700  303.800  303.900  304.000  304.100  304.200  304.300\\n  304.400  304.500  304.600  304.700  304.800  304.900  305.000  305.100\\n  305.200  305.300  305.400  305.500  305.600  305.700  305.800  305.900\\n  306.000  306.100  306.200  306.300  306.400  306.500  306.600  306.700\\n  306.800  306.900  307.000  307.100  307.200  307.300  307.400  307.500\\n  307.600  307.700  307.800  307.900  308.000  308.100  308.200  308.300\\n  308.400  308.500  308.600  308.700  308.800  308.900  309.000  309.100\\n  309.200  309.300  309.400  309.500  309.600  309.700  309.800  309.900\\n  310.000  310.100  310.200  310.300  310.400  310.500  310.600  310.700\\n  310.800  310.900  311.000  311.100  311.200  311.300  311.400  311.500\\n  311.600  311.700  311.800  311.900  312.000  312.100  312.200  312.300\\n  312.400  312.500  312.600  312.700  312.800  312.900  313.000  313.100\\n  313.200  313.300  313.400  313.500  313.600  313.700  313.800  313.900\\n  314.000  314.100  314.200  314.300  314.400  314.500  314.600  314.700\\n  314.800  314.900  315.000  315.100  315.200  315.300  315.400  315.500\\n  315.600  315.700  315.800  315.900  316.000  316.100  316.200  316.300\\n  316.400  316.500  316.600  316.700  316.800  316.900  317.000  317.100\\n  317.200  317.300  317.400  317.500  317.600  317.700  317.800  317.900\\n  318.000  318.100  318.200  318.300  318.400  318.500  318.600  318.700\\n  318.800  318.900  319.000  319.100  319.200  319.300  319.400  319.500\\n  319.600  319.700  319.800  319.900  320.000  320.100  320.200  320.300\\n  320.400  320.500  320.600  320.700  320.800  320.900  321.000  321.100\\n  321.200  321.300  321.400  321.500  321.600  321.700  321.800  321.900\\n  322.000  322.100  322.200  322.300  322.400  322.500  322.600  322.700\\n  322.800  322.900  323.000  323.100  323.200  323.300  323.400  323.500\\n  323.600  323.700  323.800  323.900  324.000  324.100  324.200  324.300\\n  324.400  324.500  324.600  324.700  324.800  324.900  325.000  325.100\\n  325.200  325.300  325.400  325.500  325.600  325.700  325.800  325.900\\n  326.000  326.100  326.200  326.300  326.400  326.500  326.600  326.700\\n  326.800  326.900  327.000  327.100  327.200  327.300  327.400  327.500\\n  327.600  327.700  327.800  327.900  328.000  328.100  328.200  328.300\\n  328.400  328.500  328.600  328.700  328.800  328.900  329.000  329.100\\n  329.200  329.300  329.400  329.500  329.600  329.700  329.800  329.900\\n  330.000  330.100  330.200  330.300  330.400  330.500  330.600  330.700\\n  330.800  330.900  331.000  331.100  331.200  331.300  331.400  331.500\\n  331.600  331.700  331.800  331.900  332.000  332.100  332.200  332.300\\n  332.400  332.500  332.600  332.700  332.800  332.900  333.000  333.100\\n  333.200  333.300  333.400  333.500  333.600  333.700  333.800  333.900\\n  334.000  334.100  334.200  334.300  334.400  334.500  334.600  334.700\\n  334.800  334.900  335.000  335.100  335.200  335.300  335.400  335.500\\n  335.600  335.700  335.800  335.900  336.000  336.100  336.200  336.300\\n  336.400  336.500  336.600  336.700  336.800  336.900  337.000  337.100\\n  337.200  337.300  337.400  337.500  337.600  337.700  337.800  337.900\\n  338.000  338.100  338.200  338.300  338.400  338.500  338.600  338.700\\n  338.800  338.900  339.000  339.100  339.200  339.300  339.400  339.500\\n  339.600  339.700  339.800  339.900  340.000  340.100  340.200  340.300\\n  340.400  340.500  340.600  340.700  340.800  340.900  341.000  341.100\\n  341.200  341.300  341.400  341.500  341.600  341.700  341.800  341.900\\n  342.000  342.100  342.200  342.300  342.400  342.500  342.600  342.700\\n  342.800  342.900  343.000  343.100  343.200  343.300  343.400  343.500\\n  343.600  343.700  343.800  343.900  344.000  344.100  344.200  344.300\\n  344.400  344.500  344.600  344.700  344.800  344.900  345.000  345.100\\n  345.200  345.300  345.400  345.500  345.600  345.700  345.800  345.900\\n  346.000  346.100  346.200  346.300  346.400  346.500  346.600  346.700\\n  346.800  346.900  347.000  347.100  347.200  347.300  347.400  347.500\\n  347.600  347.700  347.800  347.900  348.000  348.100  348.200  348.300\\n  348.400  348.500  348.600  348.700  348.800  348.900  349.000  349.100\\n  349.200  349.300  349.400  349.500  349.600  349.700  349.800  349.900\\n  350.000  350.100  350.200  350.300  350.400  350.500  350.600  350.700\\n  350.800  350.900  351.000  351.100  351.200  351.300  351.400  351.500\\n  351.600  351.700  351.800  351.900  352.000  352.100  352.200  352.300\\n  352.400  352.500  352.600  352.700  352.800  352.900  353.000  353.100\\n  353.200  353.300  353.400  353.500  353.600  353.700  353.800  353.900\\n  354.000  354.100  354.200  354.300  354.400  354.500  354.600  354.700\\n  354.800  354.900  355.000  355.100  355.200  355.300  355.400  355.500\\n  355.600  355.700  355.800  355.900  356.000  356.100  356.200  356.300\\n  356.400  356.500  356.600  356.700  356.800  356.900  357.000  357.100\\n  357.200  357.300  357.400  357.500  357.600  357.700  357.800  357.900\\n  358.000  358.100  358.200  358.300  358.400  358.500  358.600  358.700\\n  358.800  358.900  359.000  359.100  359.200  359.300  359.400  359.500\\n  359.600  359.700  359.800  359.900  360.000  360.100  360.200  360.300\\n  360.400  360.500  360.600  360.700  360.800  360.900  361.000  361.100\\n  361.200  361.300  361.400  361.500  361.600  361.700  361.800  361.900\\n  362.000  362.100  362.200  362.300  362.400  362.500  362.600  362.700\\n  362.800  362.900  363.000  363.100  363.200  363.300  363.400  363.500\\n  363.600  363.700  363.800  363.900  364.000  364.100  364.200  364.300\\n  364.400  364.500  364.600  364.700  364.800  364.900  365.000  365.100\\n  365.200  365.300  365.400  365.500  365.600  365.700  365.800  365.900\\n  366.000  366.100  366.200  366.300  366.400  366.500  366.600  366.700\\n  366.800  366.900  367.000  367.100  367.200  367.300  367.400  367.500\\n  367.600  367.700  367.800  367.900  368.000  368.100  368.200  368.300\\n  368.400  368.500  368.600  368.700  368.800  368.900  369.000  369.100\\n  369.200  369.300  369.400  369.500  369.600  369.700  369.800  369.900\\n  370.000  370.100  370.200  370.300  370.400  370.500  370.600  370.700\\n  370.800  370.900  371.000  371.100  371.200  371.300  371.400  371.500\\n  371.600  371.700  371.800  371.900  372.000  372.100  372.200  372.300\\n  372.400  372.500  372.600  372.700  372.800  372.900  373.000  373.100\\n  373.200  373.300  373.400  373.500  373.600  373.700  373.800  373.900\\n  374.000  374.100  374.200  374.300  374.400  374.500  374.600  374.700\\n  374.800  374.900  375.000  375.100  375.200  375.300  375.400  375.500\\n  375.600  375.700  375.800  375.900  376.000  376.100  376.200  376.300\\n  376.400  376.500  376.600  376.700  376.800  376.900  377.000  377.100\\n  377.200  377.300  377.400  377.500  377.600  377.700  377.800  377.900\\n  378.000  378.100  378.200  378.300  378.400  378.500  378.600  378.700\\n  378.800  378.900  379.000  379.100  379.200  379.300  379.400  379.500\\n  379.600  379.700  379.800  379.900  380.000  380.100  380.200  380.300\\n  380.400  380.500  380.600  380.700  380.800  380.900  381.000  381.100\\n  381.200  381.300  381.400  381.500  381.600  381.700  381.800  381.900\\n  382.000  382.100  382.200  382.300  382.400  382.500  382.600  382.700\\n  382.800  382.900  383.000  383.100  383.200  383.300  383.400  383.500\\n  383.600  383.700  383.800  383.900  384.000  384.100  384.200  384.300\\n  384.400  384.500  384.600  384.700  384.800  384.900  385.000  385.100\\n  385.200  385.300  385.400  385.500  385.600  385.700  385.800  385.900\\n  386.000  386.100  386.200  386.300  386.400  386.500  386.600  386.700\\n  386.800  386.900  387.000  387.100  387.200  387.300  387.400  387.500\\n  387.600  387.700  387.800  387.900  388.000  388.100  388.200  388.300\\n  388.400  388.500  388.600  388.700  388.800  388.900  389.000  389.100\\n  389.200  389.300  389.400  389.500  389.600  389.700  389.800  389.900\\n  390.000  390.100  390.200  390.300  390.400  390.500  390.600  390.700\\n  390.800  390.900  391.000  391.100  391.200  391.300  391.400  391.500\\n  391.600  391.700  391.800  391.900  392.000  392.100  392.200  392.300\\n  392.400  392.500  392.600  392.700  392.800  392.900  393.000  393.100\\n  393.200  393.300  393.400  393.500  393.600  393.700  393.800  393.900\\n  394.000  394.100  394.200  394.300  394.400  394.500  394.600  394.700\\n  394.800  394.900  395.000  395.100  395.200  395.300  395.400  395.500\\n  395.600  395.700  395.800  395.900  396.000  396.100  396.200  396.300\\n  396.400  396.500  396.600  396.700  396.800  396.900  397.000  397.100\\n  397.200  397.300  397.400  397.500  397.600  397.700  397.800  397.900\\n  398.000  398.100  398.200  398.300  398.400  398.500  398.600  398.700\\n  398.800  398.900  399.000  399.100  399.200  399.300  399.400  399.500\\n  399.600  399.700  399.800  399.900  400.000  400.100  400.200  400.300\\n  400.400  400.500  400.600  400.700  400.800  400.900  401.000  401.100\\n  401.200  401.300  401.400  401.500  401.600  401.700  401.800  401.900\\n  402.000  402.100  402.200  402.300  402.400  402.500  402.600  402.700\\n  402.800  402.900  403.000  403.100  403.200  403.300  403.400  403.500\\n  403.600  403.700  403.800  403.900  404.000  404.100  404.200  404.300\\n  404.400  404.500  404.600  404.700  404.800  404.900  405.000  405.100\\n  405.200  405.300  405.400  405.500  405.600  405.700  405.800  405.900\\n  406.000  406.100  406.200  406.300  406.400  406.500  406.600  406.700\\n  406.800  406.900  407.000  407.100  407.200  407.300  407.400  407.500\\n  407.600  407.700  407.800  407.900  408.000  408.100  408.200  408.300\\n  408.400  408.500  408.600  408.700  408.800  408.900  409.000  409.100\\n  409.200  409.300  409.400  409.500  409.600  409.700  409.800  409.900\\n  410.000  410.100  410.200  410.300  410.400  410.500  410.600  410.700\\n  410.800  410.900  411.000  411.100  411.200  411.300  411.400  411.500\\n  411.600  411.700  411.800  411.900  412.000  412.100  412.200  412.300\\n  412.400  412.500  412.600  412.700  412.800  412.900  413.000  413.100\\n  413.200  413.300  413.400  413.500  413.600  413.700  413.800  413.900\\n  414.000  414.100  414.200  414.300  414.400  414.500  414.600  414.700\\n  414.800  414.900  415.000  415.100  415.200  415.300  415.400  415.500\\n  415.600  415.700  415.800  415.900  416.000  416.100  416.200  416.300\\n  416.400  416.500  416.600  416.700  416.800  416.900  417.000  417.100\\n  417.200  417.300  417.400  417.500  417.600  417.700  417.800  417.900\\n  418.000  418.100  418.200  418.300  418.400  418.500  418.600  418.700\\n  418.800  418.900  419.000  419.100  419.200  419.300  419.400  419.500\\n  419.600  419.700  419.800  419.900  420.000\\nWavelengths in Nanometer\\nElapsed time in UT seconds from zero hours on day given by DATE\\n1\\n1.0000000E+00\\n9.9999999E+99\\nemittance\\n3 5 4 4 0\\n1 1 1 1 1 1 1 1 1 1 1 1 1 1 1 1\\n999999 99999.999 9.999E+9\\n99999.99 9.99999E+99 999.9 9.999E+9 9.999E+9\\n9.999E+9 9.999E+9 9.999E+9 9.999E+9\\n9.999E+9 9.999E+9 9.999E+9 9.999E+9\\nTime in secs from start of scan to end of scan\\nOffset in Nanometers to nominal wavelength scale at [nm]: 393.360\\nOutside temperature [deg C]:\\nDet1: ADC Offset in counts at start of scan\\nDet1: Dark current in nA at start of scan\\nTemperature in deg Celsius of monochromator mechanics at start of scan\\nPhotomultiplier high voltage [V]\\nPhotomultiplier temperature [deg C]\\nPyranometer: mean over 360 secs\\nPyranometer: sigma over 360 secs\\nPyranometer: mean over time duration of scan [W/sqm]\\nPyranometer: sigma over time duration of scan [W/sqm]\\nErymeter: mean over 360 secs, starting 90 secs before start of scan\\nErymeter: sigma over 360 secs, starting 90 secs before start of scan\\nErymeter: mean over time duration of scan [W/sqm]\\nErymeter: sigma over time duration of scan [W/sqm]\\n2\\nneue Hard-und Software am 14.6.2012 : DM300 und Solarscan\\nCALIBRATION: wavelength:BTS2048_0906_1325_WCAL,radiometric:BTS2048\\n2\\nPyranometer ohne IU-Wandler\\nPyranometer: readout interval [secs]=5\\n'"
            ],
            "application/vnd.google.colaboratory.intrinsic+json": {
              "type": "string"
            }
          },
          "metadata": {},
          "execution_count": 19
        }
      ]
    },
    {
      "cell_type": "markdown",
      "source": [
        "**Header aus Datensatz löschen:**"
      ],
      "metadata": {
        "id": "L_0hAYmkOyxy"
      }
    },
    {
      "cell_type": "code",
      "source": [
        "def remove_header(lines_content, end_line):\n",
        "        lines_WO_header_fnc = []\n",
        "        lines_WO_header_fnc = lines_content\n",
        "\n",
        "        del lines_WO_header_fnc[:end_line+1]\n",
        "\n",
        "        return lines_WO_header_fnc"
      ],
      "metadata": {
        "id": "2I9Ta7L_OxSC"
      },
      "execution_count": null,
      "outputs": []
    },
    {
      "cell_type": "markdown",
      "source": [
        "Spalten des Datensatz in einzelne Elemente aufteilen:"
      ],
      "metadata": {
        "id": "FBHCpg_g5GPa"
      }
    },
    {
      "cell_type": "code",
      "source": [
        "def extract_numbers(ursprungs_liste):\n",
        "    neue_liste = []\n",
        "\n",
        "    for element in ursprungs_liste:\n",
        "        zahlen = element.split()\n",
        "        for zahl in zahlen:\n",
        "            neue_liste.append(zahl)\n",
        "\n",
        "    return neue_liste"
      ],
      "metadata": {
        "id": "suxZzFoO5GbL"
      },
      "execution_count": null,
      "outputs": []
    },
    {
      "cell_type": "code",
      "source": [
        "lines_WO_header = remove_header(lines, header[1])\n",
        "lines_WOH_split = extract_numbers(lines_WO_header)\n",
        "\n",
        "print(lines_WO_header[0:10],'\\n', lines_WOH_split[0:10])"
      ],
      "metadata": {
        "id": "_K6jgcAeO57S",
        "colab": {
          "base_uri": "https://localhost:8080/"
        },
        "outputId": "a9b8b7b7-008b-48d5-f453-079efe27c19e"
      },
      "execution_count": null,
      "outputs": [
        {
          "output_type": "stream",
          "name": "stdout",
          "text": [
            "['26460', '113 4.000E-02 9.999E+9', '2.000E+00 0.000E+00 999.9 9.999E+9 9.999E+9 ', '9.999E+9 9.999E+9 9.999E+9 9.999E+9', '9.999E+9 9.999E+9 9.999E+9 9.999E+9', '  0.0000E+00  0.0000E+00  0.0000E+00  0.0000E+00  0.0000E+00', '  0.0000E+00  0.0000E+00  0.0000E+00  0.0000E+00  0.0000E+00', '  0.0000E+00  0.0000E+00  0.0000E+00  0.0000E+00  0.0000E+00', '  0.0000E+00  0.0000E+00  0.0000E+00  0.0000E+00  0.0000E+00', '  0.0000E+00  0.0000E+00  0.0000E+00  0.0000E+00  0.0000E+00'] \n",
            " ['26460', '113', '4.000E-02', '9.999E+9', '2.000E+00', '0.000E+00', '999.9', '9.999E+9', '9.999E+9', '9.999E+9']\n"
          ]
        }
      ]
    },
    {
      "cell_type": "markdown",
      "source": [
        "**Zeitstempel in Datensatz finden:**"
      ],
      "metadata": {
        "id": "uscoR4cRFvIn"
      }
    },
    {
      "cell_type": "code",
      "source": [
        "# Funktion um den Anfang einer einzelnen Messung zu finden\n",
        "def split_dataset(dataset):\n",
        "    data_packages = []\n",
        "    current_package = []\n",
        "\n",
        "    for i, line in enumerate(dataset):\n",
        "        if line.strip().isdigit() and len(line.strip()) == 5:\n",
        "            if i + 1 < len(dataset) and dataset[i + 1].strip().isdigit() and len(dataset[i + 1].strip()) in [2, 3]:\n",
        "                if current_package:\n",
        "                    data_packages.append(current_package)\n",
        "                    current_package = []\n",
        "            current_package.append(line)\n",
        "\n",
        "    if current_package:\n",
        "        data_packages.append(current_package)\n",
        "\n",
        "    return data_packages"
      ],
      "metadata": {
        "id": "WI-aukhcgE1E"
      },
      "execution_count": null,
      "outputs": []
    },
    {
      "cell_type": "code",
      "source": [
        "data_packages = split_dataset(lines_WO_header)"
      ],
      "metadata": {
        "id": "3dJYofTuiM6m"
      },
      "execution_count": null,
      "outputs": []
    },
    {
      "cell_type": "code",
      "source": [
        "for i, package in enumerate(data_packages):\n",
        "    print(package)"
      ],
      "metadata": {
        "colab": {
          "base_uri": "https://localhost:8080/"
        },
        "id": "KVBa3PwWiXSi",
        "outputId": "bebb2e1b-189e-4cbf-eb6f-c3856d63ea40"
      },
      "execution_count": null,
      "outputs": [
        {
          "output_type": "stream",
          "name": "stdout",
          "text": [
            "['26460', '26580', '26700', '26820', '26940', '27060', '27180', '27300', '27420', '27540', '27660', '27780', '27900', '29700', '29820', '29940', '30060', '30180', '30300', '30420', '30540', '30660', '30780', '30900', '31020', '31140', '31260', '31380', '31500', '31620', '31740', '31860', '31980', '32100', '32220', '32340', '32460', '32580', '32700', '32820', '32940', '33060', '33180', '33300', '33420', '33540', '33660', '33780', '33900', '34020', '34140', '34260', '34380', '34500', '34620', '34740', '34860', '34980', '35100', '35220', '35340', '35460', '35580', '35700', '35820', '35940', '36060', '36180', '36300', '36420', '36540', '36660', '36780', '36900', '37020', '37140', '37260', '37380', '37500', '37620', '37740', '37860', '37980', '38100', '38340', '38460', '38580', '38700', '38820', '38940', '39060', '39180', '39300', '39420', '39540', '39660', '39780', '39900', '40020', '40140', '40260', '40380', '40500', '40620', '40740', '40860', '40980', '41100', '41220', '41340', '41460', '41580', '41700', '41820', '41940', '42060', '42180', '42300', '42420', '42540', '42660', '42780', '42900', '43020', '43140', '43260', '43380', '43500', '43620', '43740', '43860', '43980', '44100', '44220', '44340', '44460', '44580', '44700', '44820', '44940', '45060', '45180', '45300', '45420', '45540', '45660', '45780', '45900', '46020', '46140', '46260', '46380', '46500', '46620', '46740', '46860', '46980', '47100', '47220', '47340', '47460', '47580', '47700', '47820', '47940', '48060', '48180', '48300', '48420', '48540', '48660', '48780', '48900', '49380', '49500', '49620', '49740', '49860', '49980', '50100', '50220', '50340', '50460', '50580', '50700', '50820', '50940', '51060', '51180', '51300', '51420', '51540', '51660', '51780', '51900', '52860', '52980', '53100', '53220', '53340', '53460', '53580', '53700', '53820', '53940', '54060', '54180', '54300', '54420', '54540', '54660', '54780', '54900', '55020', '55140', '55260', '55380', '55500', '55620', '55740', '55860', '55980', '56100', '56220', '56340', '56460', '56580', '56700', '56820', '56940', '57060', '57180', '57300', '57420', '57540', '57660', '57780', '57900', '58020', '58140', '58260', '58380', '58500', '58620', '58740', '58860', '58980', '59100', '59220', '59340', '59460', '59580', '59700', '59820', '59940', '60060', '60180', '60300', '60420', '60540', '60660', '60780', '60900', '61020', '61140', '61260', '61380', '61500', '61620', '61740', '61860', '61980', '62100', '62220', '62340', '62460', '62580', '62700', '62820', '62940', '63060', '63180', '63300', '63420', '63540', '63660', '63780', '63900', '64020', '64140', '64260', '64380', '64500', '64620', '64740', '64860', '64980', '65100', '65220', '65340', '65460', '65580', '65700', '65820', '65940', '66060', '66180', '66300', '66420', '66540', '66660', '66780', '66900', '67020', '67140', '67260', '67380', '67500', '67620', '67740', '67860', '67980', '68100', '68220']\n"
          ]
        }
      ]
    },
    {
      "cell_type": "markdown",
      "source": [
        "Den Zeitstempeln ein Indice zuorden:"
      ],
      "metadata": {
        "id": "zyN8Idu93o1H"
      }
    },
    {
      "cell_type": "code",
      "source": [
        "def find_indices(elemente, meine_liste):\n",
        "    indices = []\n",
        "\n",
        "    for element in elemente:\n",
        "        if element in meine_liste:\n",
        "            indices.append(meine_liste.index(element))\n",
        "        else:\n",
        "            indices.append(-1)\n",
        "\n",
        "    return indices"
      ],
      "metadata": {
        "id": "ud464ZrF3pL5"
      },
      "execution_count": null,
      "outputs": []
    },
    {
      "cell_type": "code",
      "source": [
        "# Beispielaufruf der Funktion\n",
        "indices_Timestamp = find_indices(package, lines_WOH_split)\n",
        "print(indices_Timestamp)"
      ],
      "metadata": {
        "colab": {
          "base_uri": "https://localhost:8080/"
        },
        "id": "NwmqQb2U32ZZ",
        "outputId": "df9642fc-1002-4a1a-e621-f9ddc1ee6dda"
      },
      "execution_count": null,
      "outputs": [
        {
          "output_type": "stream",
          "name": "stdout",
          "text": [
            "[0, 1318, 2636, 3954, 5272, 6590, 7908, 9226, 10544, 11862, 13180, 14498, 15816, 17134, 18452, 19770, 21088, 22406, 23724, 25042, 26360, 27678, 28996, 30314, 31632, 32950, 34268, 35586, 36904, 38222, 39540, 40858, 42176, 43494, 44812, 46130, 47448, 48766, 50084, 51402, 52720, 54038, 55356, 56674, 57992, 59310, 60628, 61946, 63264, 64582, 65900, 67218, 68536, 69854, 71172, 72490, 73808, 75126, 76444, 77762, 79080, 80398, 81716, 83034, 84352, 85670, 86988, 88306, 89624, 90942, 92260, 93578, 94896, 96214, 97532, 98850, 100168, 101486, 102804, 104122, 105440, 106758, 108076, 109394, 110712, 112030, 113348, 114666, 115984, 117302, 118620, 119938, 121256, 122574, 123892, 125210, 126528, 127846, 129164, 130482, 131800, 133118, 134436, 135754, 137072, 138390, 139708, 141026, 142344, 143662, 144980, 146298, 147616, 148934, 150252, 151570, 152888, 154206, 155524, 156842, 158160, 159478, 160796, 162114, 163432, 164750, 166068, 167386, 168704, 170022, 171340, 172658, 173976, 175294, 176612, 177930, 179248, 180566, 181884, 183202, 184520, 185838, 187156, 188474, 189792, 191110, 192428, 193746, 195064, 196382, 197700, 199018, 200336, 201654, 202972, 204290, 205608, 206926, 208244, 209562, 210880, 212198, 213516, 214834, 216152, 217470, 218788, 220106, 221424, 222742, 224060, 225378, 226696, 228014, 229332, 230650, 231968, 233286, 234604, 235922, 237240, 238558, 239876, 241194, 242512, 243830, 245148, 246466, 247784, 249102, 250420, 251738, 253056, 254374, 255692, 257010, 257027, 257044, 257061, 258379, 259697, 261015, 262333, 263651, 264969, 266287, 267605, 268923, 270241, 271559, 272877, 274195, 275513, 276831, 278149, 279467, 280785, 282103, 283421, 284739, 286057, 287375, 288693, 290011, 291329, 292647, 293965, 295283, 296601, 297919, 299237, 300555, 301873, 303191, 304509, 305827, 307145, 308463, 309781, 311099, 312417, 313735, 315053, 316371, 317689, 319007, 320325, 321643, 322961, 324279, 325597, 326915, 328233, 329551, 330869, 332187, 333505, 334823, 336141, 337459, 338777, 340095, 341413, 342731, 344049, 345367, 346685, 348003, 349321, 350639, 351957, 353275, 354593, 355911, 357229, 358547, 359865, 361183, 362501, 363819, 365137, 366455, 367773, 369091, 370409, 371727, 373045, 374363, 375681, 376999, 378317, 379635, 380953, 382271, 383589, 384907, 386225, 387543, 388861, 390179, 391497, 392815, 394133, 395451, 396769, 398087, 399405, 400723, 402041, 403359, 404677, 405995, 407313, 408631, 409949, 411267, 412585, 413903, 415221, 416539, 417857, 419175, 420493, 421811]\n"
          ]
        }
      ]
    },
    {
      "cell_type": "markdown",
      "source": [
        "**Zeitstempel in eine Uhrzeit umwandeln:**"
      ],
      "metadata": {
        "id": "Qh26OqFdZOgN"
      }
    },
    {
      "cell_type": "code",
      "source": [
        "# Funktion um den Zeitstempel der Messung in eine Uhrzeit und ein Datum umzuwandeln\n",
        "def seconds_to_time(time_seconds, date):\n",
        "    data = []\n",
        "\n",
        "    for sec in time_seconds:\n",
        "        hours = int(sec) // 3600\n",
        "        minutes = (int(sec) % 3600) // 60\n",
        "        seconds = int(sec) % 60\n",
        "        time = pd.to_datetime(f\"{date} {hours:02d}:{minutes:02d}:{seconds:02d}\")\n",
        "        data.append({'Datum':date,'Stunden': hours, 'Minuten': minutes, 'Sekunden': seconds, 'Uhrzeit': time})\n",
        "\n",
        "    df = pd.DataFrame(data)\n",
        "    return df"
      ],
      "metadata": {
        "id": "vOmsONI3iaNz"
      },
      "execution_count": null,
      "outputs": []
    },
    {
      "cell_type": "code",
      "source": [
        "df_time = seconds_to_time(package, date)\n",
        "\n",
        "# Ausgabe des DataFrames\n",
        "print(df_time)"
      ],
      "metadata": {
        "colab": {
          "base_uri": "https://localhost:8080/"
        },
        "id": "DbmsPJVw7Rcm",
        "outputId": "cb1f4393-d28a-45a2-bf2d-594a2ead050d"
      },
      "execution_count": null,
      "outputs": [
        {
          "output_type": "stream",
          "name": "stdout",
          "text": [
            "         Datum  Stunden  Minuten  Sekunden             Uhrzeit\n",
            "0   2022-06-15        7       21         0 2022-06-15 07:21:00\n",
            "1   2022-06-15        7       23         0 2022-06-15 07:23:00\n",
            "2   2022-06-15        7       25         0 2022-06-15 07:25:00\n",
            "3   2022-06-15        7       27         0 2022-06-15 07:27:00\n",
            "4   2022-06-15        7       29         0 2022-06-15 07:29:00\n",
            "..         ...      ...      ...       ...                 ...\n",
            "319 2022-06-15       18       49         0 2022-06-15 18:49:00\n",
            "320 2022-06-15       18       51         0 2022-06-15 18:51:00\n",
            "321 2022-06-15       18       53         0 2022-06-15 18:53:00\n",
            "322 2022-06-15       18       55         0 2022-06-15 18:55:00\n",
            "323 2022-06-15       18       57         0 2022-06-15 18:57:00\n",
            "\n",
            "[324 rows x 5 columns]\n"
          ]
        }
      ]
    },
    {
      "cell_type": "markdown",
      "source": [
        "**Herausschreiben der einzelnen Messungen**"
      ],
      "metadata": {
        "id": "5hJxnPp03cSX"
      }
    },
    {
      "cell_type": "code",
      "source": [
        "def split_data(lines_WOH_fnc, split_indices):\n",
        "    data_parts = []\n",
        "    for i in range(len(split_indices)):\n",
        "        if i == 0:\n",
        "            data_parts.append(lines_WOH_fnc[:split_indices[i]])\n",
        "        else:\n",
        "            data_parts.append(lines_WOH_fnc[split_indices[i-1]:split_indices[i]])\n",
        "    data_parts.append(lines_WOH_fnc[split_indices[-1]:])\n",
        "    df = pd.DataFrame(data_parts)\n",
        "    num_cols = max([len(x) for x in data_parts])\n",
        "    col_names = ['Col{}'.format(i+1) for i in range(num_cols)]\n",
        "    df.columns = col_names\n",
        "    df = df.drop(df.index[0]).reset_index(drop=True)\n",
        "    return df\n"
      ],
      "metadata": {
        "id": "1IEkUxzb3i-V"
      },
      "execution_count": null,
      "outputs": []
    },
    {
      "cell_type": "code",
      "source": [
        "print(lines_WO_header[:5], type(data_packages[0]))"
      ],
      "metadata": {
        "colab": {
          "base_uri": "https://localhost:8080/"
        },
        "id": "DWzXzxAC6J_9",
        "outputId": "d743843b-4519-4236-b952-3622d5050dce"
      },
      "execution_count": null,
      "outputs": [
        {
          "output_type": "stream",
          "name": "stdout",
          "text": [
            "['26460', '113 4.000E-02 9.999E+9', '2.000E+00 0.000E+00 999.9 9.999E+9 9.999E+9 ', '9.999E+9 9.999E+9 9.999E+9 9.999E+9', '9.999E+9 9.999E+9 9.999E+9 9.999E+9'] <class 'list'>\n"
          ]
        }
      ]
    },
    {
      "cell_type": "code",
      "source": [
        "df_Messung = split_data(lines_WOH_split, indices_Timestamp)\n",
        "print(df_Messung)"
      ],
      "metadata": {
        "id": "ry_pkWk-3-GY"
      },
      "execution_count": null,
      "outputs": []
    },
    {
      "cell_type": "markdown",
      "source": [
        "Dataframe in die richtige Form bringen:"
      ],
      "metadata": {
        "id": "V1Ix8IzK-7Nm"
      }
    },
    {
      "cell_type": "code",
      "source": [
        "df_Mea_Time = pd.concat([df_time, df_Messung], axis = 1)"
      ],
      "metadata": {
        "id": "3b5raYOF-2QS"
      },
      "execution_count": null,
      "outputs": []
    },
    {
      "cell_type": "code",
      "source": [
        "df_Mea_Time"
      ],
      "metadata": {
        "colab": {
          "base_uri": "https://localhost:8080/",
          "height": 467
        },
        "id": "BpN2w325GE7l",
        "outputId": "212e72b7-e51a-4c8f-beb2-bfafebacd990"
      },
      "execution_count": null,
      "outputs": [
        {
          "output_type": "execute_result",
          "data": {
            "text/plain": [
              "         Datum  Stunden  Minuten  Sekunden             Uhrzeit   Col1 Col2  \\\n",
              "0   2022-06-15        7       21         0 2022-06-15 07:21:00  26460  113   \n",
              "1   2022-06-15        7       23         0 2022-06-15 07:23:00  26580  111   \n",
              "2   2022-06-15        7       25         0 2022-06-15 07:25:00  26700  111   \n",
              "3   2022-06-15        7       27         0 2022-06-15 07:27:00  26820   99   \n",
              "4   2022-06-15        7       29         0 2022-06-15 07:29:00  26940   99   \n",
              "..         ...      ...      ...       ...                 ...    ...  ...   \n",
              "319 2022-06-15       18       49         0 2022-06-15 18:49:00  67740   89   \n",
              "320 2022-06-15       18       51         0 2022-06-15 18:51:00  67860   89   \n",
              "321 2022-06-15       18       53         0 2022-06-15 18:53:00  67980   89   \n",
              "322 2022-06-15       18       55         0 2022-06-15 18:55:00  68100   89   \n",
              "323 2022-06-15       18       57         0 2022-06-15 18:57:00  68220   89   \n",
              "\n",
              "          Col3      Col4       Col5  ...     Col1309     Col1310     Col1311  \\\n",
              "0    4.000E-02  9.999E+9  2.000E+00  ...  6.9350E-01  6.9191E-01  6.8556E-01   \n",
              "1    4.000E-02  9.999E+9  2.000E+00  ...  7.2334E-01  7.2015E-01  7.1598E-01   \n",
              "2    4.000E-02  9.999E+9  2.000E+00  ...  7.2460E-01  7.1990E-01  7.0922E-01   \n",
              "3    4.000E-02  9.999E+9  2.000E+00  ...  7.3936E-01  7.3744E-01  7.2915E-01   \n",
              "4    4.000E-02  9.999E+9  2.000E+00  ...  7.4128E-01  7.4184E-01  7.3163E-01   \n",
              "..         ...       ...        ...  ...         ...         ...         ...   \n",
              "319  4.000E-02  9.999E+9  2.000E+00  ...  8.2003E-02  8.1929E-02  8.0928E-02   \n",
              "320  4.000E-02  9.999E+9  2.000E+00  ...  7.6489E-02  7.6430E-02  7.5537E-02   \n",
              "321  4.000E-02  9.999E+9  2.000E+00  ...  7.2186E-02  7.1815E-02  7.0883E-02   \n",
              "322  4.000E-02  9.999E+9  2.000E+00  ...  6.8763E-02  6.8413E-02  6.7896E-02   \n",
              "323  4.000E-02  9.999E+9  2.000E+00  ...  6.5581E-02  6.5554E-02  6.4851E-02   \n",
              "\n",
              "        Col1312     Col1313     Col1314     Col1315     Col1316     Col1317  \\\n",
              "0    6.6990E-01  6.5661E-01  6.4664E-01  6.4017E-01  6.3688E-01  6.3653E-01   \n",
              "1    6.9777E-01  6.9125E-01  6.7876E-01  6.6992E-01  6.6380E-01  6.6182E-01   \n",
              "2    6.9384E-01  6.8664E-01  6.7670E-01  6.6620E-01  6.6193E-01  6.6160E-01   \n",
              "3    7.0938E-01  7.0058E-01  6.9258E-01  6.8047E-01  6.7285E-01  6.7156E-01   \n",
              "4    7.1063E-01  7.0125E-01  6.9214E-01  6.8244E-01  6.7641E-01  6.7705E-01   \n",
              "..          ...         ...         ...         ...         ...         ...   \n",
              "319  7.9448E-02  7.8117E-02  7.7030E-02  7.6182E-02  7.5869E-02  7.6060E-02   \n",
              "320  7.3979E-02  7.2590E-02  7.1879E-02  7.1247E-02  7.0469E-02  7.0405E-02   \n",
              "321  6.9747E-02  6.8370E-02  6.7801E-02  6.7060E-02  6.6754E-02  6.6754E-02   \n",
              "322  6.6890E-02  6.5856E-02  6.4921E-02  6.4072E-02  6.3652E-02  6.3222E-02   \n",
              "323  6.3738E-02  6.2449E-02  6.1469E-02  6.0786E-02  6.0603E-02  6.0833E-02   \n",
              "\n",
              "        Col1318  \n",
              "0    6.4241E-01  \n",
              "1    6.6927E-01  \n",
              "2    6.7178E-01  \n",
              "3    6.7532E-01  \n",
              "4    6.8511E-01  \n",
              "..          ...  \n",
              "319  7.6254E-02  \n",
              "320  7.0938E-02  \n",
              "321  6.7196E-02  \n",
              "322  6.3753E-02  \n",
              "323  6.1292E-02  \n",
              "\n",
              "[324 rows x 1323 columns]"
            ],
            "text/html": [
              "\n",
              "\n",
              "  <div id=\"df-7a54f15c-8323-486a-a9f6-5f3f8ed2f99b\">\n",
              "    <div class=\"colab-df-container\">\n",
              "      <div>\n",
              "<style scoped>\n",
              "    .dataframe tbody tr th:only-of-type {\n",
              "        vertical-align: middle;\n",
              "    }\n",
              "\n",
              "    .dataframe tbody tr th {\n",
              "        vertical-align: top;\n",
              "    }\n",
              "\n",
              "    .dataframe thead th {\n",
              "        text-align: right;\n",
              "    }\n",
              "</style>\n",
              "<table border=\"1\" class=\"dataframe\">\n",
              "  <thead>\n",
              "    <tr style=\"text-align: right;\">\n",
              "      <th></th>\n",
              "      <th>Datum</th>\n",
              "      <th>Stunden</th>\n",
              "      <th>Minuten</th>\n",
              "      <th>Sekunden</th>\n",
              "      <th>Uhrzeit</th>\n",
              "      <th>Col1</th>\n",
              "      <th>Col2</th>\n",
              "      <th>Col3</th>\n",
              "      <th>Col4</th>\n",
              "      <th>Col5</th>\n",
              "      <th>...</th>\n",
              "      <th>Col1309</th>\n",
              "      <th>Col1310</th>\n",
              "      <th>Col1311</th>\n",
              "      <th>Col1312</th>\n",
              "      <th>Col1313</th>\n",
              "      <th>Col1314</th>\n",
              "      <th>Col1315</th>\n",
              "      <th>Col1316</th>\n",
              "      <th>Col1317</th>\n",
              "      <th>Col1318</th>\n",
              "    </tr>\n",
              "  </thead>\n",
              "  <tbody>\n",
              "    <tr>\n",
              "      <th>0</th>\n",
              "      <td>2022-06-15</td>\n",
              "      <td>7</td>\n",
              "      <td>21</td>\n",
              "      <td>0</td>\n",
              "      <td>2022-06-15 07:21:00</td>\n",
              "      <td>26460</td>\n",
              "      <td>113</td>\n",
              "      <td>4.000E-02</td>\n",
              "      <td>9.999E+9</td>\n",
              "      <td>2.000E+00</td>\n",
              "      <td>...</td>\n",
              "      <td>6.9350E-01</td>\n",
              "      <td>6.9191E-01</td>\n",
              "      <td>6.8556E-01</td>\n",
              "      <td>6.6990E-01</td>\n",
              "      <td>6.5661E-01</td>\n",
              "      <td>6.4664E-01</td>\n",
              "      <td>6.4017E-01</td>\n",
              "      <td>6.3688E-01</td>\n",
              "      <td>6.3653E-01</td>\n",
              "      <td>6.4241E-01</td>\n",
              "    </tr>\n",
              "    <tr>\n",
              "      <th>1</th>\n",
              "      <td>2022-06-15</td>\n",
              "      <td>7</td>\n",
              "      <td>23</td>\n",
              "      <td>0</td>\n",
              "      <td>2022-06-15 07:23:00</td>\n",
              "      <td>26580</td>\n",
              "      <td>111</td>\n",
              "      <td>4.000E-02</td>\n",
              "      <td>9.999E+9</td>\n",
              "      <td>2.000E+00</td>\n",
              "      <td>...</td>\n",
              "      <td>7.2334E-01</td>\n",
              "      <td>7.2015E-01</td>\n",
              "      <td>7.1598E-01</td>\n",
              "      <td>6.9777E-01</td>\n",
              "      <td>6.9125E-01</td>\n",
              "      <td>6.7876E-01</td>\n",
              "      <td>6.6992E-01</td>\n",
              "      <td>6.6380E-01</td>\n",
              "      <td>6.6182E-01</td>\n",
              "      <td>6.6927E-01</td>\n",
              "    </tr>\n",
              "    <tr>\n",
              "      <th>2</th>\n",
              "      <td>2022-06-15</td>\n",
              "      <td>7</td>\n",
              "      <td>25</td>\n",
              "      <td>0</td>\n",
              "      <td>2022-06-15 07:25:00</td>\n",
              "      <td>26700</td>\n",
              "      <td>111</td>\n",
              "      <td>4.000E-02</td>\n",
              "      <td>9.999E+9</td>\n",
              "      <td>2.000E+00</td>\n",
              "      <td>...</td>\n",
              "      <td>7.2460E-01</td>\n",
              "      <td>7.1990E-01</td>\n",
              "      <td>7.0922E-01</td>\n",
              "      <td>6.9384E-01</td>\n",
              "      <td>6.8664E-01</td>\n",
              "      <td>6.7670E-01</td>\n",
              "      <td>6.6620E-01</td>\n",
              "      <td>6.6193E-01</td>\n",
              "      <td>6.6160E-01</td>\n",
              "      <td>6.7178E-01</td>\n",
              "    </tr>\n",
              "    <tr>\n",
              "      <th>3</th>\n",
              "      <td>2022-06-15</td>\n",
              "      <td>7</td>\n",
              "      <td>27</td>\n",
              "      <td>0</td>\n",
              "      <td>2022-06-15 07:27:00</td>\n",
              "      <td>26820</td>\n",
              "      <td>99</td>\n",
              "      <td>4.000E-02</td>\n",
              "      <td>9.999E+9</td>\n",
              "      <td>2.000E+00</td>\n",
              "      <td>...</td>\n",
              "      <td>7.3936E-01</td>\n",
              "      <td>7.3744E-01</td>\n",
              "      <td>7.2915E-01</td>\n",
              "      <td>7.0938E-01</td>\n",
              "      <td>7.0058E-01</td>\n",
              "      <td>6.9258E-01</td>\n",
              "      <td>6.8047E-01</td>\n",
              "      <td>6.7285E-01</td>\n",
              "      <td>6.7156E-01</td>\n",
              "      <td>6.7532E-01</td>\n",
              "    </tr>\n",
              "    <tr>\n",
              "      <th>4</th>\n",
              "      <td>2022-06-15</td>\n",
              "      <td>7</td>\n",
              "      <td>29</td>\n",
              "      <td>0</td>\n",
              "      <td>2022-06-15 07:29:00</td>\n",
              "      <td>26940</td>\n",
              "      <td>99</td>\n",
              "      <td>4.000E-02</td>\n",
              "      <td>9.999E+9</td>\n",
              "      <td>2.000E+00</td>\n",
              "      <td>...</td>\n",
              "      <td>7.4128E-01</td>\n",
              "      <td>7.4184E-01</td>\n",
              "      <td>7.3163E-01</td>\n",
              "      <td>7.1063E-01</td>\n",
              "      <td>7.0125E-01</td>\n",
              "      <td>6.9214E-01</td>\n",
              "      <td>6.8244E-01</td>\n",
              "      <td>6.7641E-01</td>\n",
              "      <td>6.7705E-01</td>\n",
              "      <td>6.8511E-01</td>\n",
              "    </tr>\n",
              "    <tr>\n",
              "      <th>...</th>\n",
              "      <td>...</td>\n",
              "      <td>...</td>\n",
              "      <td>...</td>\n",
              "      <td>...</td>\n",
              "      <td>...</td>\n",
              "      <td>...</td>\n",
              "      <td>...</td>\n",
              "      <td>...</td>\n",
              "      <td>...</td>\n",
              "      <td>...</td>\n",
              "      <td>...</td>\n",
              "      <td>...</td>\n",
              "      <td>...</td>\n",
              "      <td>...</td>\n",
              "      <td>...</td>\n",
              "      <td>...</td>\n",
              "      <td>...</td>\n",
              "      <td>...</td>\n",
              "      <td>...</td>\n",
              "      <td>...</td>\n",
              "      <td>...</td>\n",
              "    </tr>\n",
              "    <tr>\n",
              "      <th>319</th>\n",
              "      <td>2022-06-15</td>\n",
              "      <td>18</td>\n",
              "      <td>49</td>\n",
              "      <td>0</td>\n",
              "      <td>2022-06-15 18:49:00</td>\n",
              "      <td>67740</td>\n",
              "      <td>89</td>\n",
              "      <td>4.000E-02</td>\n",
              "      <td>9.999E+9</td>\n",
              "      <td>2.000E+00</td>\n",
              "      <td>...</td>\n",
              "      <td>8.2003E-02</td>\n",
              "      <td>8.1929E-02</td>\n",
              "      <td>8.0928E-02</td>\n",
              "      <td>7.9448E-02</td>\n",
              "      <td>7.8117E-02</td>\n",
              "      <td>7.7030E-02</td>\n",
              "      <td>7.6182E-02</td>\n",
              "      <td>7.5869E-02</td>\n",
              "      <td>7.6060E-02</td>\n",
              "      <td>7.6254E-02</td>\n",
              "    </tr>\n",
              "    <tr>\n",
              "      <th>320</th>\n",
              "      <td>2022-06-15</td>\n",
              "      <td>18</td>\n",
              "      <td>51</td>\n",
              "      <td>0</td>\n",
              "      <td>2022-06-15 18:51:00</td>\n",
              "      <td>67860</td>\n",
              "      <td>89</td>\n",
              "      <td>4.000E-02</td>\n",
              "      <td>9.999E+9</td>\n",
              "      <td>2.000E+00</td>\n",
              "      <td>...</td>\n",
              "      <td>7.6489E-02</td>\n",
              "      <td>7.6430E-02</td>\n",
              "      <td>7.5537E-02</td>\n",
              "      <td>7.3979E-02</td>\n",
              "      <td>7.2590E-02</td>\n",
              "      <td>7.1879E-02</td>\n",
              "      <td>7.1247E-02</td>\n",
              "      <td>7.0469E-02</td>\n",
              "      <td>7.0405E-02</td>\n",
              "      <td>7.0938E-02</td>\n",
              "    </tr>\n",
              "    <tr>\n",
              "      <th>321</th>\n",
              "      <td>2022-06-15</td>\n",
              "      <td>18</td>\n",
              "      <td>53</td>\n",
              "      <td>0</td>\n",
              "      <td>2022-06-15 18:53:00</td>\n",
              "      <td>67980</td>\n",
              "      <td>89</td>\n",
              "      <td>4.000E-02</td>\n",
              "      <td>9.999E+9</td>\n",
              "      <td>2.000E+00</td>\n",
              "      <td>...</td>\n",
              "      <td>7.2186E-02</td>\n",
              "      <td>7.1815E-02</td>\n",
              "      <td>7.0883E-02</td>\n",
              "      <td>6.9747E-02</td>\n",
              "      <td>6.8370E-02</td>\n",
              "      <td>6.7801E-02</td>\n",
              "      <td>6.7060E-02</td>\n",
              "      <td>6.6754E-02</td>\n",
              "      <td>6.6754E-02</td>\n",
              "      <td>6.7196E-02</td>\n",
              "    </tr>\n",
              "    <tr>\n",
              "      <th>322</th>\n",
              "      <td>2022-06-15</td>\n",
              "      <td>18</td>\n",
              "      <td>55</td>\n",
              "      <td>0</td>\n",
              "      <td>2022-06-15 18:55:00</td>\n",
              "      <td>68100</td>\n",
              "      <td>89</td>\n",
              "      <td>4.000E-02</td>\n",
              "      <td>9.999E+9</td>\n",
              "      <td>2.000E+00</td>\n",
              "      <td>...</td>\n",
              "      <td>6.8763E-02</td>\n",
              "      <td>6.8413E-02</td>\n",
              "      <td>6.7896E-02</td>\n",
              "      <td>6.6890E-02</td>\n",
              "      <td>6.5856E-02</td>\n",
              "      <td>6.4921E-02</td>\n",
              "      <td>6.4072E-02</td>\n",
              "      <td>6.3652E-02</td>\n",
              "      <td>6.3222E-02</td>\n",
              "      <td>6.3753E-02</td>\n",
              "    </tr>\n",
              "    <tr>\n",
              "      <th>323</th>\n",
              "      <td>2022-06-15</td>\n",
              "      <td>18</td>\n",
              "      <td>57</td>\n",
              "      <td>0</td>\n",
              "      <td>2022-06-15 18:57:00</td>\n",
              "      <td>68220</td>\n",
              "      <td>89</td>\n",
              "      <td>4.000E-02</td>\n",
              "      <td>9.999E+9</td>\n",
              "      <td>2.000E+00</td>\n",
              "      <td>...</td>\n",
              "      <td>6.5581E-02</td>\n",
              "      <td>6.5554E-02</td>\n",
              "      <td>6.4851E-02</td>\n",
              "      <td>6.3738E-02</td>\n",
              "      <td>6.2449E-02</td>\n",
              "      <td>6.1469E-02</td>\n",
              "      <td>6.0786E-02</td>\n",
              "      <td>6.0603E-02</td>\n",
              "      <td>6.0833E-02</td>\n",
              "      <td>6.1292E-02</td>\n",
              "    </tr>\n",
              "  </tbody>\n",
              "</table>\n",
              "<p>324 rows × 1323 columns</p>\n",
              "</div>\n",
              "      <button class=\"colab-df-convert\" onclick=\"convertToInteractive('df-7a54f15c-8323-486a-a9f6-5f3f8ed2f99b')\"\n",
              "              title=\"Convert this dataframe to an interactive table.\"\n",
              "              style=\"display:none;\">\n",
              "\n",
              "  <svg xmlns=\"http://www.w3.org/2000/svg\" height=\"24px\"viewBox=\"0 0 24 24\"\n",
              "       width=\"24px\">\n",
              "    <path d=\"M0 0h24v24H0V0z\" fill=\"none\"/>\n",
              "    <path d=\"M18.56 5.44l.94 2.06.94-2.06 2.06-.94-2.06-.94-.94-2.06-.94 2.06-2.06.94zm-11 1L8.5 8.5l.94-2.06 2.06-.94-2.06-.94L8.5 2.5l-.94 2.06-2.06.94zm10 10l.94 2.06.94-2.06 2.06-.94-2.06-.94-.94-2.06-.94 2.06-2.06.94z\"/><path d=\"M17.41 7.96l-1.37-1.37c-.4-.4-.92-.59-1.43-.59-.52 0-1.04.2-1.43.59L10.3 9.45l-7.72 7.72c-.78.78-.78 2.05 0 2.83L4 21.41c.39.39.9.59 1.41.59.51 0 1.02-.2 1.41-.59l7.78-7.78 2.81-2.81c.8-.78.8-2.07 0-2.86zM5.41 20L4 18.59l7.72-7.72 1.47 1.35L5.41 20z\"/>\n",
              "  </svg>\n",
              "      </button>\n",
              "\n",
              "\n",
              "\n",
              "    <div id=\"df-d02f4f32-32f4-4100-a76c-cfe4e12d315e\">\n",
              "      <button class=\"colab-df-quickchart\" onclick=\"quickchart('df-d02f4f32-32f4-4100-a76c-cfe4e12d315e')\"\n",
              "              title=\"Suggest charts.\"\n",
              "              style=\"display:none;\">\n",
              "\n",
              "<svg xmlns=\"http://www.w3.org/2000/svg\" height=\"24px\"viewBox=\"0 0 24 24\"\n",
              "     width=\"24px\">\n",
              "    <g>\n",
              "        <path d=\"M19 3H5c-1.1 0-2 .9-2 2v14c0 1.1.9 2 2 2h14c1.1 0 2-.9 2-2V5c0-1.1-.9-2-2-2zM9 17H7v-7h2v7zm4 0h-2V7h2v10zm4 0h-2v-4h2v4z\"/>\n",
              "    </g>\n",
              "</svg>\n",
              "      </button>\n",
              "    </div>\n",
              "\n",
              "<style>\n",
              "  .colab-df-quickchart {\n",
              "    background-color: #E8F0FE;\n",
              "    border: none;\n",
              "    border-radius: 50%;\n",
              "    cursor: pointer;\n",
              "    display: none;\n",
              "    fill: #1967D2;\n",
              "    height: 32px;\n",
              "    padding: 0 0 0 0;\n",
              "    width: 32px;\n",
              "  }\n",
              "\n",
              "  .colab-df-quickchart:hover {\n",
              "    background-color: #E2EBFA;\n",
              "    box-shadow: 0px 1px 2px rgba(60, 64, 67, 0.3), 0px 1px 3px 1px rgba(60, 64, 67, 0.15);\n",
              "    fill: #174EA6;\n",
              "  }\n",
              "\n",
              "  [theme=dark] .colab-df-quickchart {\n",
              "    background-color: #3B4455;\n",
              "    fill: #D2E3FC;\n",
              "  }\n",
              "\n",
              "  [theme=dark] .colab-df-quickchart:hover {\n",
              "    background-color: #434B5C;\n",
              "    box-shadow: 0px 1px 3px 1px rgba(0, 0, 0, 0.15);\n",
              "    filter: drop-shadow(0px 1px 2px rgba(0, 0, 0, 0.3));\n",
              "    fill: #FFFFFF;\n",
              "  }\n",
              "</style>\n",
              "\n",
              "    <script>\n",
              "      async function quickchart(key) {\n",
              "        const containerElement = document.querySelector('#' + key);\n",
              "        const charts = await google.colab.kernel.invokeFunction(\n",
              "            'suggestCharts', [key], {});\n",
              "      }\n",
              "    </script>\n",
              "\n",
              "      <script>\n",
              "\n",
              "function displayQuickchartButton(domScope) {\n",
              "  let quickchartButtonEl =\n",
              "    domScope.querySelector('#df-d02f4f32-32f4-4100-a76c-cfe4e12d315e button.colab-df-quickchart');\n",
              "  quickchartButtonEl.style.display =\n",
              "    google.colab.kernel.accessAllowed ? 'block' : 'none';\n",
              "}\n",
              "\n",
              "        displayQuickchartButton(document);\n",
              "      </script>\n",
              "      <style>\n",
              "    .colab-df-container {\n",
              "      display:flex;\n",
              "      flex-wrap:wrap;\n",
              "      gap: 12px;\n",
              "    }\n",
              "\n",
              "    .colab-df-convert {\n",
              "      background-color: #E8F0FE;\n",
              "      border: none;\n",
              "      border-radius: 50%;\n",
              "      cursor: pointer;\n",
              "      display: none;\n",
              "      fill: #1967D2;\n",
              "      height: 32px;\n",
              "      padding: 0 0 0 0;\n",
              "      width: 32px;\n",
              "    }\n",
              "\n",
              "    .colab-df-convert:hover {\n",
              "      background-color: #E2EBFA;\n",
              "      box-shadow: 0px 1px 2px rgba(60, 64, 67, 0.3), 0px 1px 3px 1px rgba(60, 64, 67, 0.15);\n",
              "      fill: #174EA6;\n",
              "    }\n",
              "\n",
              "    [theme=dark] .colab-df-convert {\n",
              "      background-color: #3B4455;\n",
              "      fill: #D2E3FC;\n",
              "    }\n",
              "\n",
              "    [theme=dark] .colab-df-convert:hover {\n",
              "      background-color: #434B5C;\n",
              "      box-shadow: 0px 1px 3px 1px rgba(0, 0, 0, 0.15);\n",
              "      filter: drop-shadow(0px 1px 2px rgba(0, 0, 0, 0.3));\n",
              "      fill: #FFFFFF;\n",
              "    }\n",
              "  </style>\n",
              "\n",
              "      <script>\n",
              "        const buttonEl =\n",
              "          document.querySelector('#df-7a54f15c-8323-486a-a9f6-5f3f8ed2f99b button.colab-df-convert');\n",
              "        buttonEl.style.display =\n",
              "          google.colab.kernel.accessAllowed ? 'block' : 'none';\n",
              "\n",
              "        async function convertToInteractive(key) {\n",
              "          const element = document.querySelector('#df-7a54f15c-8323-486a-a9f6-5f3f8ed2f99b');\n",
              "          const dataTable =\n",
              "            await google.colab.kernel.invokeFunction('convertToInteractive',\n",
              "                                                     [key], {});\n",
              "          if (!dataTable) return;\n",
              "\n",
              "          const docLinkHtml = 'Like what you see? Visit the ' +\n",
              "            '<a target=\"_blank\" href=https://colab.research.google.com/notebooks/data_table.ipynb>data table notebook</a>'\n",
              "            + ' to learn more about interactive tables.';\n",
              "          element.innerHTML = '';\n",
              "          dataTable['output_type'] = 'display_data';\n",
              "          await google.colab.output.renderOutput(dataTable, element);\n",
              "          const docLink = document.createElement('div');\n",
              "          docLink.innerHTML = docLinkHtml;\n",
              "          element.appendChild(docLink);\n",
              "        }\n",
              "      </script>\n",
              "    </div>\n",
              "  </div>\n"
            ]
          },
          "metadata": {},
          "execution_count": 165
        }
      ]
    },
    {
      "cell_type": "code",
      "source": [
        "start_index = 5\n",
        "num_elements = 1318\n",
        "\n",
        "columns_to_rename = [\"col\" + str(i) for i in range(start_index, start_index + num_elements)]"
      ],
      "metadata": {
        "id": "wyS4DeYMGCWU"
      },
      "execution_count": null,
      "outputs": []
    },
    {
      "cell_type": "code",
      "source": [
        "df_Wellenlaenge.iloc[0][0]"
      ],
      "metadata": {
        "colab": {
          "base_uri": "https://localhost:8080/"
        },
        "id": "82EybRhWK6o3",
        "outputId": "47762df6-5503-414a-8f88-30553ff02875"
      },
      "execution_count": null,
      "outputs": [
        {
          "output_type": "execute_result",
          "data": {
            "text/plain": [
              "290.0"
            ]
          },
          "metadata": {},
          "execution_count": 174
        }
      ]
    },
    {
      "cell_type": "code",
      "source": [
        "# Mapping-Datenstruktur für die Umbenennung erstellen\n",
        "mapping = dict(zip(columns_to_rename, df_Wellenlänge))\n",
        "\n",
        "# Die Spalten umbenennen\n",
        "df_MeaTime_final = columns_to_rename.rename(columns=mapping)"
      ],
      "metadata": {
        "colab": {
          "base_uri": "https://localhost:8080/",
          "height": 200
        },
        "id": "rjRLRx9gGJc0",
        "outputId": "2f84d0bd-8caf-4c44-a5a3-297991836811"
      },
      "execution_count": null,
      "outputs": [
        {
          "output_type": "error",
          "ename": "AttributeError",
          "evalue": "ignored",
          "traceback": [
            "\u001b[0;31m---------------------------------------------------------------------------\u001b[0m",
            "\u001b[0;31mAttributeError\u001b[0m                            Traceback (most recent call last)",
            "\u001b[0;32m<ipython-input-175-bbb5d139df28>\u001b[0m in \u001b[0;36m<cell line: 5>\u001b[0;34m()\u001b[0m\n\u001b[1;32m      3\u001b[0m \u001b[0;34m\u001b[0m\u001b[0m\n\u001b[1;32m      4\u001b[0m \u001b[0;31m# Die Spalten umbenennen\u001b[0m\u001b[0;34m\u001b[0m\u001b[0;34m\u001b[0m\u001b[0m\n\u001b[0;32m----> 5\u001b[0;31m \u001b[0mdf_MeaTime_final\u001b[0m \u001b[0;34m=\u001b[0m \u001b[0mcolumns_to_rename\u001b[0m\u001b[0;34m.\u001b[0m\u001b[0mrename\u001b[0m\u001b[0;34m(\u001b[0m\u001b[0mcolumns\u001b[0m\u001b[0;34m=\u001b[0m\u001b[0mmapping\u001b[0m\u001b[0;34m)\u001b[0m\u001b[0;34m\u001b[0m\u001b[0;34m\u001b[0m\u001b[0m\n\u001b[0m",
            "\u001b[0;31mAttributeError\u001b[0m: 'list' object has no attribute 'rename'"
          ]
        }
      ]
    },
    {
      "cell_type": "markdown",
      "source": [
        "**Umschreiben der Messwerte in einen Dataframe**"
      ],
      "metadata": {
        "id": "sZQDWhs_WDhQ"
      }
    },
    {
      "cell_type": "markdown",
      "source": [
        "**Umwandeln aller Messdaten**"
      ],
      "metadata": {
        "id": "g7Cbzs6Yy2DB"
      }
    }
  ]
}