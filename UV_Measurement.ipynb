{
  "nbformat": 4,
  "nbformat_minor": 0,
  "metadata": {
    "colab": {
      "provenance": [],
      "authorship_tag": "ABX9TyMVJPitoqZQhLuzdjJwcjjz",
      "include_colab_link": true
    },
    "kernelspec": {
      "name": "python3",
      "display_name": "Python 3"
    },
    "language_info": {
      "name": "python"
    }
  },
  "cells": [
    {
      "cell_type": "markdown",
      "metadata": {
        "id": "view-in-github",
        "colab_type": "text"
      },
      "source": [
        "<a href=\"https://colab.research.google.com/github/rjanow/Masterarbeit/blob/main/UV_Measurement.ipynb\" target=\"_parent\"><img src=\"https://colab.research.google.com/assets/colab-badge.svg\" alt=\"Open In Colab\"/></a>"
      ]
    },
    {
      "cell_type": "markdown",
      "source": [
        "**Hier werden die Rohdaten des BTS2048-UV-WP in eine nutzbare CSV-Datei geschrieben**"
      ],
      "metadata": {
        "id": "VbXcbReNyuop"
      }
    },
    {
      "cell_type": "markdown",
      "source": [
        "Dokumentenname: Import_UV_Measurement.ipynb\n",
        "\n",
        "Es werden die OR0-Daten (NasaAmes-Format), die eigentlich für den Versand an das BFS gedacht sind umgewandelt und in eine CSV-Datei geschrieben."
      ],
      "metadata": {
        "id": "_Euu6x1XyxGL"
      }
    },
    {
      "cell_type": "code",
      "source": [
        "# Import der benötigten Module\n",
        "import os, sys\n",
        "import json\n",
        "import datetime\n",
        "import pandas as pd\n",
        "import numpy as np\n",
        "import csv\n",
        "import re\n",
        "\n",
        "from scipy.io import netcdf\n",
        "from datetime import timedelta\n",
        "from datetime import datetime"
      ],
      "metadata": {
        "id": "6GGZwyBJzVsp"
      },
      "execution_count": 82,
      "outputs": []
    },
    {
      "cell_type": "markdown",
      "source": [
        "Zu Beginn muss die Google-Drive eingerichtet werden, in der die Messdaten (OR0-Dateien) gespeichert sind. Danach werden alle verfügbaren Unterordner aufgerufen. So wird geprüft, ob der Mount richtig funktioniert hat."
      ],
      "metadata": {
        "id": "EKAQlrHyWWIP"
      }
    },
    {
      "cell_type": "code",
      "source": [
        "from google.colab import drive\n",
        "drive.mount('/content/drive')\n",
        "\n",
        "drive_path = '/content/drive/MyDrive'\n",
        "# Durchsuche den Google Drive-Pfad\n",
        "for root, dirs, files in os.walk(drive_path):\n",
        "    for dir in dirs:\n",
        "        # Gib den Namen des Unterordners aus\n",
        "        print(os.path.join(root, dir))"
      ],
      "metadata": {
        "colab": {
          "base_uri": "https://localhost:8080/"
        },
        "id": "T_iN54-sVUVL",
        "outputId": "595d704e-1bf9-450c-e9fb-4fd9903b44e3"
      },
      "execution_count": 83,
      "outputs": [
        {
          "output_type": "stream",
          "name": "stdout",
          "text": [
            "Drive already mounted at /content/drive; to attempt to forcibly remount, call drive.mount(\"/content/drive\", force_remount=True).\n",
            "/content/drive/MyDrive/Colab Notebooks\n",
            "/content/drive/MyDrive/Colab Notebooks/CSV_Messdaten\n",
            "/content/drive/MyDrive/Colab Notebooks/CouchDB File\n",
            "/content/drive/MyDrive/Colab Notebooks/NasaAmes_Messdaten\n",
            "/content/drive/MyDrive/Colab Notebooks/NasaAmes_Messdaten/Data\n"
          ]
        }
      ]
    },
    {
      "cell_type": "markdown",
      "source": [
        "Danach werden die einzelnen OR0-Dateien (NasaAmes Format) geladen und umgewandelt.\n",
        "\n",
        "Das NasaAmes Format: https://espoarchive.nasa.gov/content/Ames_Format_Specification_v20\n",
        "\n",
        "Die Messdaten sind unter dem FFI (File Format Index) 2005 gespeichert. Dieser Standard ist durch die Nasa nicht dokumentiert. Deshalb nachfolgend ein eigener Parser, der die Daten in eine nutzbare CSV umwandelt."
      ],
      "metadata": {
        "id": "ZRL9H_KEZpgG"
      }
    },
    {
      "cell_type": "markdown",
      "source": [
        "**Umwandeln einer Datei...**\n",
        "\n",
        "- **lines** = enthält die OR0-Datei in Zeilen aufgeteilt\n",
        "- **header** = Enthält den Dateikopf\n",
        "- **end_line_header** = enthält die Zeile an dem der Header endet"
      ],
      "metadata": {
        "id": "TI_gn6B6_qGL"
      }
    },
    {
      "cell_type": "markdown",
      "source": [
        "**Datei einlesen:**"
      ],
      "metadata": {
        "id": "7_mIBaD2FwwZ"
      }
    },
    {
      "cell_type": "code",
      "source": [
        "# Testweise Öffnen einer Datei um zu prüfen, ob die Verbindung zu Google Drive funktioniert\n",
        "file_path = r'/content/drive/MyDrive/Colab Notebooks/NasaAmes_Messdaten/Data/SA220615.OR0'  # Dateipfad in der Google-Drive\n",
        "\n",
        "with open(file_path, 'r') as file:\n",
        "    # Inhalt der Datei lesen\n",
        "    content = file.read()"
      ],
      "metadata": {
        "id": "LJXRx3MKM8L1"
      },
      "execution_count": 84,
      "outputs": []
    },
    {
      "cell_type": "code",
      "source": [
        "# Zeilen in eine Liste aufteilen\n",
        "lines = content.split('\\n')"
      ],
      "metadata": {
        "id": "JxBOhrPFQIYc"
      },
      "execution_count": 85,
      "outputs": []
    },
    {
      "cell_type": "code",
      "source": [
        "print(lines[0:15])"
      ],
      "metadata": {
        "colab": {
          "base_uri": "https://localhost:8080/"
        },
        "id": "DmNHz7O7wW8o",
        "outputId": "397b68dc-f439-4770-f57e-3f303a332fab"
      },
      "execution_count": 86,
      "outputs": [
        {
          "output_type": "stream",
          "name": "stdout",
          "text": [
            "['NLHEAD=207 FFI=2005        ', 'R.Janowitz', 'DGUV', 'ELONG=7.182 NLAT=50.780 HEIGHT=70m', 's-UV-Mo-Net', '1 1', '2022 06 15  2022 06 15', '0 360', '1301', '1301', '  290.000  290.100  290.200  290.300  290.400  290.500  290.600  290.700', '  290.800  290.900  291.000  291.100  291.200  291.300  291.400  291.500', '  291.600  291.700  291.800  291.900  292.000  292.100  292.200  292.300', '  292.400  292.500  292.600  292.700  292.800  292.900  293.000  293.100', '  293.200  293.300  293.400  293.500  293.600  293.700  293.800  293.900']\n"
          ]
        }
      ]
    },
    {
      "cell_type": "markdown",
      "source": [
        "**Header extrahieren:**"
      ],
      "metadata": {
        "id": "AaUuqtlgK2Qq"
      }
    },
    {
      "cell_type": "code",
      "source": [
        "# Funktion um den Dateiheader zu extrahieren\n",
        "def extract_header(dataset):\n",
        "    header_content = \"\"\n",
        "    end_line_header = None\n",
        "\n",
        "    for i, line in enumerate(dataset):\n",
        "        header_content += line + \"\\n\"\n",
        "        if line.strip() == \"Pyranometer: readout interval [secs]=5\":\n",
        "            end_line_header = i\n",
        "            break\n",
        "\n",
        "\n",
        "    return header_content, end_line_header"
      ],
      "metadata": {
        "id": "YQTw-OjYPUkp"
      },
      "execution_count": 87,
      "outputs": []
    },
    {
      "cell_type": "code",
      "source": [
        "header = extract_header(lines)"
      ],
      "metadata": {
        "id": "AX_Abqjueo9u"
      },
      "execution_count": 88,
      "outputs": []
    },
    {
      "cell_type": "markdown",
      "source": [
        "**Dataframe mit Wellenlängen erstellen**"
      ],
      "metadata": {
        "id": "4sWE034DaFBt"
      }
    },
    {
      "cell_type": "code",
      "source": [
        "def create_df_Wellenlänge(start, end, step):\n",
        "    # Erstelle eine Liste mit den gewünschten Werten\n",
        "    numbers_list = [round(num, 3) for num in list(np.arange(start, end + step, step))]\n",
        "    # Erstelle den Dataframe\n",
        "    df = pd.DataFrame({'Wellenlänge': numbers_list})\n",
        "\n",
        "    return df"
      ],
      "metadata": {
        "id": "vR4lB-9hAJZ6"
      },
      "execution_count": 160,
      "outputs": []
    },
    {
      "cell_type": "code",
      "source": [
        "df_Wellenlänge = create_df_Wellenlänge(290, 420, 0.1)"
      ],
      "metadata": {
        "id": "ke6b38SlA3B1"
      },
      "execution_count": 161,
      "outputs": []
    },
    {
      "cell_type": "code",
      "source": [
        "df_Wellenlänge"
      ],
      "metadata": {
        "colab": {
          "base_uri": "https://localhost:8080/",
          "height": 423
        },
        "id": "wDxtXP76DiIT",
        "outputId": "ee19e727-49c1-4d9f-a123-71538f3d6536"
      },
      "execution_count": 162,
      "outputs": [
        {
          "output_type": "execute_result",
          "data": {
            "text/plain": [
              "      Wellenlänge\n",
              "0           290.0\n",
              "1           290.1\n",
              "2           290.2\n",
              "3           290.3\n",
              "4           290.4\n",
              "...           ...\n",
              "1297        419.7\n",
              "1298        419.8\n",
              "1299        419.9\n",
              "1300        420.0\n",
              "1301        420.1\n",
              "\n",
              "[1302 rows x 1 columns]"
            ],
            "text/html": [
              "\n",
              "\n",
              "  <div id=\"df-0a9860f0-e4c0-47b9-afae-5850a55cd53d\">\n",
              "    <div class=\"colab-df-container\">\n",
              "      <div>\n",
              "<style scoped>\n",
              "    .dataframe tbody tr th:only-of-type {\n",
              "        vertical-align: middle;\n",
              "    }\n",
              "\n",
              "    .dataframe tbody tr th {\n",
              "        vertical-align: top;\n",
              "    }\n",
              "\n",
              "    .dataframe thead th {\n",
              "        text-align: right;\n",
              "    }\n",
              "</style>\n",
              "<table border=\"1\" class=\"dataframe\">\n",
              "  <thead>\n",
              "    <tr style=\"text-align: right;\">\n",
              "      <th></th>\n",
              "      <th>Wellenlänge</th>\n",
              "    </tr>\n",
              "  </thead>\n",
              "  <tbody>\n",
              "    <tr>\n",
              "      <th>0</th>\n",
              "      <td>290.0</td>\n",
              "    </tr>\n",
              "    <tr>\n",
              "      <th>1</th>\n",
              "      <td>290.1</td>\n",
              "    </tr>\n",
              "    <tr>\n",
              "      <th>2</th>\n",
              "      <td>290.2</td>\n",
              "    </tr>\n",
              "    <tr>\n",
              "      <th>3</th>\n",
              "      <td>290.3</td>\n",
              "    </tr>\n",
              "    <tr>\n",
              "      <th>4</th>\n",
              "      <td>290.4</td>\n",
              "    </tr>\n",
              "    <tr>\n",
              "      <th>...</th>\n",
              "      <td>...</td>\n",
              "    </tr>\n",
              "    <tr>\n",
              "      <th>1297</th>\n",
              "      <td>419.7</td>\n",
              "    </tr>\n",
              "    <tr>\n",
              "      <th>1298</th>\n",
              "      <td>419.8</td>\n",
              "    </tr>\n",
              "    <tr>\n",
              "      <th>1299</th>\n",
              "      <td>419.9</td>\n",
              "    </tr>\n",
              "    <tr>\n",
              "      <th>1300</th>\n",
              "      <td>420.0</td>\n",
              "    </tr>\n",
              "    <tr>\n",
              "      <th>1301</th>\n",
              "      <td>420.1</td>\n",
              "    </tr>\n",
              "  </tbody>\n",
              "</table>\n",
              "<p>1302 rows × 1 columns</p>\n",
              "</div>\n",
              "      <button class=\"colab-df-convert\" onclick=\"convertToInteractive('df-0a9860f0-e4c0-47b9-afae-5850a55cd53d')\"\n",
              "              title=\"Convert this dataframe to an interactive table.\"\n",
              "              style=\"display:none;\">\n",
              "\n",
              "  <svg xmlns=\"http://www.w3.org/2000/svg\" height=\"24px\"viewBox=\"0 0 24 24\"\n",
              "       width=\"24px\">\n",
              "    <path d=\"M0 0h24v24H0V0z\" fill=\"none\"/>\n",
              "    <path d=\"M18.56 5.44l.94 2.06.94-2.06 2.06-.94-2.06-.94-.94-2.06-.94 2.06-2.06.94zm-11 1L8.5 8.5l.94-2.06 2.06-.94-2.06-.94L8.5 2.5l-.94 2.06-2.06.94zm10 10l.94 2.06.94-2.06 2.06-.94-2.06-.94-.94-2.06-.94 2.06-2.06.94z\"/><path d=\"M17.41 7.96l-1.37-1.37c-.4-.4-.92-.59-1.43-.59-.52 0-1.04.2-1.43.59L10.3 9.45l-7.72 7.72c-.78.78-.78 2.05 0 2.83L4 21.41c.39.39.9.59 1.41.59.51 0 1.02-.2 1.41-.59l7.78-7.78 2.81-2.81c.8-.78.8-2.07 0-2.86zM5.41 20L4 18.59l7.72-7.72 1.47 1.35L5.41 20z\"/>\n",
              "  </svg>\n",
              "      </button>\n",
              "\n",
              "\n",
              "\n",
              "    <div id=\"df-45a928aa-b95e-4cc0-876b-d66655f517ea\">\n",
              "      <button class=\"colab-df-quickchart\" onclick=\"quickchart('df-45a928aa-b95e-4cc0-876b-d66655f517ea')\"\n",
              "              title=\"Suggest charts.\"\n",
              "              style=\"display:none;\">\n",
              "\n",
              "<svg xmlns=\"http://www.w3.org/2000/svg\" height=\"24px\"viewBox=\"0 0 24 24\"\n",
              "     width=\"24px\">\n",
              "    <g>\n",
              "        <path d=\"M19 3H5c-1.1 0-2 .9-2 2v14c0 1.1.9 2 2 2h14c1.1 0 2-.9 2-2V5c0-1.1-.9-2-2-2zM9 17H7v-7h2v7zm4 0h-2V7h2v10zm4 0h-2v-4h2v4z\"/>\n",
              "    </g>\n",
              "</svg>\n",
              "      </button>\n",
              "    </div>\n",
              "\n",
              "<style>\n",
              "  .colab-df-quickchart {\n",
              "    background-color: #E8F0FE;\n",
              "    border: none;\n",
              "    border-radius: 50%;\n",
              "    cursor: pointer;\n",
              "    display: none;\n",
              "    fill: #1967D2;\n",
              "    height: 32px;\n",
              "    padding: 0 0 0 0;\n",
              "    width: 32px;\n",
              "  }\n",
              "\n",
              "  .colab-df-quickchart:hover {\n",
              "    background-color: #E2EBFA;\n",
              "    box-shadow: 0px 1px 2px rgba(60, 64, 67, 0.3), 0px 1px 3px 1px rgba(60, 64, 67, 0.15);\n",
              "    fill: #174EA6;\n",
              "  }\n",
              "\n",
              "  [theme=dark] .colab-df-quickchart {\n",
              "    background-color: #3B4455;\n",
              "    fill: #D2E3FC;\n",
              "  }\n",
              "\n",
              "  [theme=dark] .colab-df-quickchart:hover {\n",
              "    background-color: #434B5C;\n",
              "    box-shadow: 0px 1px 3px 1px rgba(0, 0, 0, 0.15);\n",
              "    filter: drop-shadow(0px 1px 2px rgba(0, 0, 0, 0.3));\n",
              "    fill: #FFFFFF;\n",
              "  }\n",
              "</style>\n",
              "\n",
              "    <script>\n",
              "      async function quickchart(key) {\n",
              "        const containerElement = document.querySelector('#' + key);\n",
              "        const charts = await google.colab.kernel.invokeFunction(\n",
              "            'suggestCharts', [key], {});\n",
              "      }\n",
              "    </script>\n",
              "\n",
              "      <script>\n",
              "\n",
              "function displayQuickchartButton(domScope) {\n",
              "  let quickchartButtonEl =\n",
              "    domScope.querySelector('#df-45a928aa-b95e-4cc0-876b-d66655f517ea button.colab-df-quickchart');\n",
              "  quickchartButtonEl.style.display =\n",
              "    google.colab.kernel.accessAllowed ? 'block' : 'none';\n",
              "}\n",
              "\n",
              "        displayQuickchartButton(document);\n",
              "      </script>\n",
              "      <style>\n",
              "    .colab-df-container {\n",
              "      display:flex;\n",
              "      flex-wrap:wrap;\n",
              "      gap: 12px;\n",
              "    }\n",
              "\n",
              "    .colab-df-convert {\n",
              "      background-color: #E8F0FE;\n",
              "      border: none;\n",
              "      border-radius: 50%;\n",
              "      cursor: pointer;\n",
              "      display: none;\n",
              "      fill: #1967D2;\n",
              "      height: 32px;\n",
              "      padding: 0 0 0 0;\n",
              "      width: 32px;\n",
              "    }\n",
              "\n",
              "    .colab-df-convert:hover {\n",
              "      background-color: #E2EBFA;\n",
              "      box-shadow: 0px 1px 2px rgba(60, 64, 67, 0.3), 0px 1px 3px 1px rgba(60, 64, 67, 0.15);\n",
              "      fill: #174EA6;\n",
              "    }\n",
              "\n",
              "    [theme=dark] .colab-df-convert {\n",
              "      background-color: #3B4455;\n",
              "      fill: #D2E3FC;\n",
              "    }\n",
              "\n",
              "    [theme=dark] .colab-df-convert:hover {\n",
              "      background-color: #434B5C;\n",
              "      box-shadow: 0px 1px 3px 1px rgba(0, 0, 0, 0.15);\n",
              "      filter: drop-shadow(0px 1px 2px rgba(0, 0, 0, 0.3));\n",
              "      fill: #FFFFFF;\n",
              "    }\n",
              "  </style>\n",
              "\n",
              "      <script>\n",
              "        const buttonEl =\n",
              "          document.querySelector('#df-0a9860f0-e4c0-47b9-afae-5850a55cd53d button.colab-df-convert');\n",
              "        buttonEl.style.display =\n",
              "          google.colab.kernel.accessAllowed ? 'block' : 'none';\n",
              "\n",
              "        async function convertToInteractive(key) {\n",
              "          const element = document.querySelector('#df-0a9860f0-e4c0-47b9-afae-5850a55cd53d');\n",
              "          const dataTable =\n",
              "            await google.colab.kernel.invokeFunction('convertToInteractive',\n",
              "                                                     [key], {});\n",
              "          if (!dataTable) return;\n",
              "\n",
              "          const docLinkHtml = 'Like what you see? Visit the ' +\n",
              "            '<a target=\"_blank\" href=https://colab.research.google.com/notebooks/data_table.ipynb>data table notebook</a>'\n",
              "            + ' to learn more about interactive tables.';\n",
              "          element.innerHTML = '';\n",
              "          dataTable['output_type'] = 'display_data';\n",
              "          await google.colab.output.renderOutput(dataTable, element);\n",
              "          const docLink = document.createElement('div');\n",
              "          docLink.innerHTML = docLinkHtml;\n",
              "          element.appendChild(docLink);\n",
              "        }\n",
              "      </script>\n",
              "    </div>\n",
              "  </div>\n"
            ]
          },
          "metadata": {},
          "execution_count": 162
        }
      ]
    },
    {
      "cell_type": "markdown",
      "source": [
        "**Nach Datum in Header suchen:**"
      ],
      "metadata": {
        "id": "OTl6cJnMLlVd"
      }
    },
    {
      "cell_type": "code",
      "source": [
        "# Funktion um das Datum aus dem Header zu extrahieren\n",
        "def extract_date(header_content):\n",
        "    header_split = header_content.split('\\n')\n",
        "    date_line = header_split[6]\n",
        "    start_date = date_line.split()[0:3]\n",
        "    end_date = date_line.split()[3:6]\n",
        "    if start_date == end_date:\n",
        "        start_date = [int(element) for element in start_date]\n",
        "        date_object = datetime(start_date[0], start_date[1], start_date[2])\n",
        "        return date_object\n",
        "    else:\n",
        "        return \"Error: Start and end dates are not the same\""
      ],
      "metadata": {
        "id": "hz4ucEhhHNDf"
      },
      "execution_count": 90,
      "outputs": []
    },
    {
      "cell_type": "code",
      "source": [
        "date = extract_date(header[0])\n",
        "print(\"Datum:\", date)"
      ],
      "metadata": {
        "id": "MZ-113EHGHDR",
        "colab": {
          "base_uri": "https://localhost:8080/"
        },
        "outputId": "4e67e71d-a23f-4e6c-8fbe-f380ab0467e9"
      },
      "execution_count": 91,
      "outputs": [
        {
          "output_type": "stream",
          "name": "stdout",
          "text": [
            "Datum: 2022-06-15 00:00:00\n"
          ]
        }
      ]
    },
    {
      "cell_type": "markdown",
      "source": [
        "**Header aus Datensatz löschen:**"
      ],
      "metadata": {
        "id": "L_0hAYmkOyxy"
      }
    },
    {
      "cell_type": "code",
      "source": [
        "def remove_header(lines_content, end_line):\n",
        "        lines_WO_header_fnc = []\n",
        "        lines_WO_header_fnc = lines_content\n",
        "\n",
        "        del lines_WO_header_fnc[:end_line+1]\n",
        "\n",
        "        return lines_WO_header_fnc"
      ],
      "metadata": {
        "id": "2I9Ta7L_OxSC"
      },
      "execution_count": 92,
      "outputs": []
    },
    {
      "cell_type": "markdown",
      "source": [
        "Spalten des Datensatz in einzelne Elemente aufteilen:"
      ],
      "metadata": {
        "id": "FBHCpg_g5GPa"
      }
    },
    {
      "cell_type": "code",
      "source": [
        "def extract_numbers(ursprungs_liste):\n",
        "    neue_liste = []\n",
        "\n",
        "    for element in ursprungs_liste:\n",
        "        zahlen = element.split()\n",
        "        for zahl in zahlen:\n",
        "            neue_liste.append(zahl)\n",
        "\n",
        "    return neue_liste"
      ],
      "metadata": {
        "id": "suxZzFoO5GbL"
      },
      "execution_count": 93,
      "outputs": []
    },
    {
      "cell_type": "code",
      "source": [
        "lines_WO_header = remove_header(lines, header[1])\n",
        "lines_WOH_split = extract_numbers(lines_WO_header)\n",
        "\n",
        "print(lines_WO_header[0:10],'\\n', lines_WOH_fnc[0:10])"
      ],
      "metadata": {
        "id": "_K6jgcAeO57S",
        "colab": {
          "base_uri": "https://localhost:8080/"
        },
        "outputId": "a9b8b7b7-008b-48d5-f453-079efe27c19e"
      },
      "execution_count": 94,
      "outputs": [
        {
          "output_type": "stream",
          "name": "stdout",
          "text": [
            "['26460', '113 4.000E-02 9.999E+9', '2.000E+00 0.000E+00 999.9 9.999E+9 9.999E+9 ', '9.999E+9 9.999E+9 9.999E+9 9.999E+9', '9.999E+9 9.999E+9 9.999E+9 9.999E+9', '  0.0000E+00  0.0000E+00  0.0000E+00  0.0000E+00  0.0000E+00', '  0.0000E+00  0.0000E+00  0.0000E+00  0.0000E+00  0.0000E+00', '  0.0000E+00  0.0000E+00  0.0000E+00  0.0000E+00  0.0000E+00', '  0.0000E+00  0.0000E+00  0.0000E+00  0.0000E+00  0.0000E+00', '  0.0000E+00  0.0000E+00  0.0000E+00  0.0000E+00  0.0000E+00'] \n",
            " ['26460', '113', '4.000E-02', '9.999E+9', '2.000E+00', '0.000E+00', '999.9', '9.999E+9', '9.999E+9', '9.999E+9']\n"
          ]
        }
      ]
    },
    {
      "cell_type": "markdown",
      "source": [
        "**Zeitstempel in Datensatz finden:**"
      ],
      "metadata": {
        "id": "uscoR4cRFvIn"
      }
    },
    {
      "cell_type": "code",
      "source": [
        "# Funktion um den Anfang einer einzelnen Messung zu finden\n",
        "def split_dataset(dataset):\n",
        "    data_packages = []\n",
        "    current_package = []\n",
        "\n",
        "    for i, line in enumerate(dataset):\n",
        "        if line.strip().isdigit() and len(line.strip()) == 5:\n",
        "            if i + 1 < len(dataset) and dataset[i + 1].strip().isdigit() and len(dataset[i + 1].strip()) in [2, 3]:\n",
        "                if current_package:\n",
        "                    data_packages.append(current_package)\n",
        "                    current_package = []\n",
        "            current_package.append(line)\n",
        "\n",
        "    if current_package:\n",
        "        data_packages.append(current_package)\n",
        "\n",
        "    return data_packages"
      ],
      "metadata": {
        "id": "WI-aukhcgE1E"
      },
      "execution_count": 95,
      "outputs": []
    },
    {
      "cell_type": "code",
      "source": [
        "data_packages = split_dataset(lines_WO_header)"
      ],
      "metadata": {
        "id": "3dJYofTuiM6m"
      },
      "execution_count": 96,
      "outputs": []
    },
    {
      "cell_type": "code",
      "source": [
        "for i, package in enumerate(data_packages):\n",
        "    print(package)"
      ],
      "metadata": {
        "colab": {
          "base_uri": "https://localhost:8080/"
        },
        "id": "KVBa3PwWiXSi",
        "outputId": "bebb2e1b-189e-4cbf-eb6f-c3856d63ea40"
      },
      "execution_count": 97,
      "outputs": [
        {
          "output_type": "stream",
          "name": "stdout",
          "text": [
            "['26460', '26580', '26700', '26820', '26940', '27060', '27180', '27300', '27420', '27540', '27660', '27780', '27900', '29700', '29820', '29940', '30060', '30180', '30300', '30420', '30540', '30660', '30780', '30900', '31020', '31140', '31260', '31380', '31500', '31620', '31740', '31860', '31980', '32100', '32220', '32340', '32460', '32580', '32700', '32820', '32940', '33060', '33180', '33300', '33420', '33540', '33660', '33780', '33900', '34020', '34140', '34260', '34380', '34500', '34620', '34740', '34860', '34980', '35100', '35220', '35340', '35460', '35580', '35700', '35820', '35940', '36060', '36180', '36300', '36420', '36540', '36660', '36780', '36900', '37020', '37140', '37260', '37380', '37500', '37620', '37740', '37860', '37980', '38100', '38340', '38460', '38580', '38700', '38820', '38940', '39060', '39180', '39300', '39420', '39540', '39660', '39780', '39900', '40020', '40140', '40260', '40380', '40500', '40620', '40740', '40860', '40980', '41100', '41220', '41340', '41460', '41580', '41700', '41820', '41940', '42060', '42180', '42300', '42420', '42540', '42660', '42780', '42900', '43020', '43140', '43260', '43380', '43500', '43620', '43740', '43860', '43980', '44100', '44220', '44340', '44460', '44580', '44700', '44820', '44940', '45060', '45180', '45300', '45420', '45540', '45660', '45780', '45900', '46020', '46140', '46260', '46380', '46500', '46620', '46740', '46860', '46980', '47100', '47220', '47340', '47460', '47580', '47700', '47820', '47940', '48060', '48180', '48300', '48420', '48540', '48660', '48780', '48900', '49380', '49500', '49620', '49740', '49860', '49980', '50100', '50220', '50340', '50460', '50580', '50700', '50820', '50940', '51060', '51180', '51300', '51420', '51540', '51660', '51780', '51900', '52860', '52980', '53100', '53220', '53340', '53460', '53580', '53700', '53820', '53940', '54060', '54180', '54300', '54420', '54540', '54660', '54780', '54900', '55020', '55140', '55260', '55380', '55500', '55620', '55740', '55860', '55980', '56100', '56220', '56340', '56460', '56580', '56700', '56820', '56940', '57060', '57180', '57300', '57420', '57540', '57660', '57780', '57900', '58020', '58140', '58260', '58380', '58500', '58620', '58740', '58860', '58980', '59100', '59220', '59340', '59460', '59580', '59700', '59820', '59940', '60060', '60180', '60300', '60420', '60540', '60660', '60780', '60900', '61020', '61140', '61260', '61380', '61500', '61620', '61740', '61860', '61980', '62100', '62220', '62340', '62460', '62580', '62700', '62820', '62940', '63060', '63180', '63300', '63420', '63540', '63660', '63780', '63900', '64020', '64140', '64260', '64380', '64500', '64620', '64740', '64860', '64980', '65100', '65220', '65340', '65460', '65580', '65700', '65820', '65940', '66060', '66180', '66300', '66420', '66540', '66660', '66780', '66900', '67020', '67140', '67260', '67380', '67500', '67620', '67740', '67860', '67980', '68100', '68220']\n"
          ]
        }
      ]
    },
    {
      "cell_type": "markdown",
      "source": [
        "Den Zeitstempeln ein Indice zuorden:"
      ],
      "metadata": {
        "id": "zyN8Idu93o1H"
      }
    },
    {
      "cell_type": "code",
      "source": [
        "def find_indices(elemente, meine_liste):\n",
        "    indices = []\n",
        "\n",
        "    for element in elemente:\n",
        "        if element in meine_liste:\n",
        "            indices.append(meine_liste.index(element))\n",
        "        else:\n",
        "            indices.append(-1)\n",
        "\n",
        "    return indices"
      ],
      "metadata": {
        "id": "ud464ZrF3pL5"
      },
      "execution_count": 98,
      "outputs": []
    },
    {
      "cell_type": "code",
      "source": [
        "# Beispielaufruf der Funktion\n",
        "indices_Timestamp = find_indices(package, lines_WOH_split)\n",
        "print(indices_Timestamp)"
      ],
      "metadata": {
        "colab": {
          "base_uri": "https://localhost:8080/"
        },
        "id": "NwmqQb2U32ZZ",
        "outputId": "df9642fc-1002-4a1a-e621-f9ddc1ee6dda"
      },
      "execution_count": 99,
      "outputs": [
        {
          "output_type": "stream",
          "name": "stdout",
          "text": [
            "[0, 1318, 2636, 3954, 5272, 6590, 7908, 9226, 10544, 11862, 13180, 14498, 15816, 17134, 18452, 19770, 21088, 22406, 23724, 25042, 26360, 27678, 28996, 30314, 31632, 32950, 34268, 35586, 36904, 38222, 39540, 40858, 42176, 43494, 44812, 46130, 47448, 48766, 50084, 51402, 52720, 54038, 55356, 56674, 57992, 59310, 60628, 61946, 63264, 64582, 65900, 67218, 68536, 69854, 71172, 72490, 73808, 75126, 76444, 77762, 79080, 80398, 81716, 83034, 84352, 85670, 86988, 88306, 89624, 90942, 92260, 93578, 94896, 96214, 97532, 98850, 100168, 101486, 102804, 104122, 105440, 106758, 108076, 109394, 110712, 112030, 113348, 114666, 115984, 117302, 118620, 119938, 121256, 122574, 123892, 125210, 126528, 127846, 129164, 130482, 131800, 133118, 134436, 135754, 137072, 138390, 139708, 141026, 142344, 143662, 144980, 146298, 147616, 148934, 150252, 151570, 152888, 154206, 155524, 156842, 158160, 159478, 160796, 162114, 163432, 164750, 166068, 167386, 168704, 170022, 171340, 172658, 173976, 175294, 176612, 177930, 179248, 180566, 181884, 183202, 184520, 185838, 187156, 188474, 189792, 191110, 192428, 193746, 195064, 196382, 197700, 199018, 200336, 201654, 202972, 204290, 205608, 206926, 208244, 209562, 210880, 212198, 213516, 214834, 216152, 217470, 218788, 220106, 221424, 222742, 224060, 225378, 226696, 228014, 229332, 230650, 231968, 233286, 234604, 235922, 237240, 238558, 239876, 241194, 242512, 243830, 245148, 246466, 247784, 249102, 250420, 251738, 253056, 254374, 255692, 257010, 257027, 257044, 257061, 258379, 259697, 261015, 262333, 263651, 264969, 266287, 267605, 268923, 270241, 271559, 272877, 274195, 275513, 276831, 278149, 279467, 280785, 282103, 283421, 284739, 286057, 287375, 288693, 290011, 291329, 292647, 293965, 295283, 296601, 297919, 299237, 300555, 301873, 303191, 304509, 305827, 307145, 308463, 309781, 311099, 312417, 313735, 315053, 316371, 317689, 319007, 320325, 321643, 322961, 324279, 325597, 326915, 328233, 329551, 330869, 332187, 333505, 334823, 336141, 337459, 338777, 340095, 341413, 342731, 344049, 345367, 346685, 348003, 349321, 350639, 351957, 353275, 354593, 355911, 357229, 358547, 359865, 361183, 362501, 363819, 365137, 366455, 367773, 369091, 370409, 371727, 373045, 374363, 375681, 376999, 378317, 379635, 380953, 382271, 383589, 384907, 386225, 387543, 388861, 390179, 391497, 392815, 394133, 395451, 396769, 398087, 399405, 400723, 402041, 403359, 404677, 405995, 407313, 408631, 409949, 411267, 412585, 413903, 415221, 416539, 417857, 419175, 420493, 421811]\n"
          ]
        }
      ]
    },
    {
      "cell_type": "markdown",
      "source": [
        "**Zeitstempel in eine Uhrzeit umwandeln:**"
      ],
      "metadata": {
        "id": "Qh26OqFdZOgN"
      }
    },
    {
      "cell_type": "code",
      "source": [
        "# Funktion um den Zeitstempel der Messung in eine Uhrzeit und ein Datum umzuwandeln\n",
        "def seconds_to_time(time_seconds, date):\n",
        "    data = []\n",
        "\n",
        "    for sec in time_seconds:\n",
        "        hours = int(sec) // 3600\n",
        "        minutes = (int(sec) % 3600) // 60\n",
        "        seconds = int(sec) % 60\n",
        "        time = pd.to_datetime(f\"{date} {hours:02d}:{minutes:02d}:{seconds:02d}\")\n",
        "        data.append({'Datum':date,'Stunden': hours, 'Minuten': minutes, 'Sekunden': seconds, 'Uhrzeit': time})\n",
        "\n",
        "    df = pd.DataFrame(data)\n",
        "    return df"
      ],
      "metadata": {
        "id": "vOmsONI3iaNz"
      },
      "execution_count": 100,
      "outputs": []
    },
    {
      "cell_type": "code",
      "source": [
        "df_time = seconds_to_time(package, date)\n",
        "\n",
        "# Ausgabe des DataFrames\n",
        "print(df_time)"
      ],
      "metadata": {
        "colab": {
          "base_uri": "https://localhost:8080/"
        },
        "id": "DbmsPJVw7Rcm",
        "outputId": "cb1f4393-d28a-45a2-bf2d-594a2ead050d"
      },
      "execution_count": 131,
      "outputs": [
        {
          "output_type": "stream",
          "name": "stdout",
          "text": [
            "         Datum  Stunden  Minuten  Sekunden             Uhrzeit\n",
            "0   2022-06-15        7       21         0 2022-06-15 07:21:00\n",
            "1   2022-06-15        7       23         0 2022-06-15 07:23:00\n",
            "2   2022-06-15        7       25         0 2022-06-15 07:25:00\n",
            "3   2022-06-15        7       27         0 2022-06-15 07:27:00\n",
            "4   2022-06-15        7       29         0 2022-06-15 07:29:00\n",
            "..         ...      ...      ...       ...                 ...\n",
            "319 2022-06-15       18       49         0 2022-06-15 18:49:00\n",
            "320 2022-06-15       18       51         0 2022-06-15 18:51:00\n",
            "321 2022-06-15       18       53         0 2022-06-15 18:53:00\n",
            "322 2022-06-15       18       55         0 2022-06-15 18:55:00\n",
            "323 2022-06-15       18       57         0 2022-06-15 18:57:00\n",
            "\n",
            "[324 rows x 5 columns]\n"
          ]
        }
      ]
    },
    {
      "cell_type": "markdown",
      "source": [
        "**Herausschreiben der einzelnen Messungen**"
      ],
      "metadata": {
        "id": "5hJxnPp03cSX"
      }
    },
    {
      "cell_type": "code",
      "source": [
        "def split_data(lines_WOH_fnc, split_indices):\n",
        "    data_parts = []\n",
        "    for i in range(len(split_indices)):\n",
        "        if i == 0:\n",
        "            data_parts.append(lines_WOH_fnc[:split_indices[i]])\n",
        "        else:\n",
        "            data_parts.append(lines_WOH_fnc[split_indices[i-1]:split_indices[i]])\n",
        "    data_parts.append(lines_WOH_fnc[split_indices[-1]:])\n",
        "    df = pd.DataFrame(data_parts)\n",
        "    num_cols = max([len(x) for x in data_parts])\n",
        "    col_names = ['Col{}'.format(i+1) for i in range(num_cols)]\n",
        "    df.columns = col_names\n",
        "    df = df.drop(df.index[0]).reset_index(drop=True)\n",
        "    return df\n"
      ],
      "metadata": {
        "id": "1IEkUxzb3i-V"
      },
      "execution_count": 128,
      "outputs": []
    },
    {
      "cell_type": "code",
      "source": [
        "print(lines_WO_header[:5], type(data_packages[0]))"
      ],
      "metadata": {
        "colab": {
          "base_uri": "https://localhost:8080/"
        },
        "id": "DWzXzxAC6J_9",
        "outputId": "d743843b-4519-4236-b952-3622d5050dce"
      },
      "execution_count": 129,
      "outputs": [
        {
          "output_type": "stream",
          "name": "stdout",
          "text": [
            "['26460', '113 4.000E-02 9.999E+9', '2.000E+00 0.000E+00 999.9 9.999E+9 9.999E+9 ', '9.999E+9 9.999E+9 9.999E+9 9.999E+9', '9.999E+9 9.999E+9 9.999E+9 9.999E+9'] <class 'list'>\n"
          ]
        }
      ]
    },
    {
      "cell_type": "code",
      "source": [
        "df_Messung = split_data(lines_WOH_split, indices_Timestamp)\n",
        "print(df_Messung)"
      ],
      "metadata": {
        "id": "ry_pkWk-3-GY"
      },
      "execution_count": null,
      "outputs": []
    },
    {
      "cell_type": "markdown",
      "source": [
        "Dataframe in die richtige Form bringen:"
      ],
      "metadata": {
        "id": "V1Ix8IzK-7Nm"
      }
    },
    {
      "cell_type": "code",
      "source": [
        "df_Mea_Time = pd.concat([df_time, df_Messung], axis = 1)\n",
        "df_Mea_Time"
      ],
      "metadata": {
        "colab": {
          "base_uri": "https://localhost:8080/",
          "height": 467
        },
        "id": "3b5raYOF-2QS",
        "outputId": "091bee3e-ef3b-49f5-ac47-43b1cb65e0f9"
      },
      "execution_count": 134,
      "outputs": [
        {
          "output_type": "execute_result",
          "data": {
            "text/plain": [
              "         Datum  Stunden  Minuten  Sekunden             Uhrzeit   Col1 Col2  \\\n",
              "0   2022-06-15        7       21         0 2022-06-15 07:21:00  26460  113   \n",
              "1   2022-06-15        7       23         0 2022-06-15 07:23:00  26580  111   \n",
              "2   2022-06-15        7       25         0 2022-06-15 07:25:00  26700  111   \n",
              "3   2022-06-15        7       27         0 2022-06-15 07:27:00  26820   99   \n",
              "4   2022-06-15        7       29         0 2022-06-15 07:29:00  26940   99   \n",
              "..         ...      ...      ...       ...                 ...    ...  ...   \n",
              "319 2022-06-15       18       49         0 2022-06-15 18:49:00  67740   89   \n",
              "320 2022-06-15       18       51         0 2022-06-15 18:51:00  67860   89   \n",
              "321 2022-06-15       18       53         0 2022-06-15 18:53:00  67980   89   \n",
              "322 2022-06-15       18       55         0 2022-06-15 18:55:00  68100   89   \n",
              "323 2022-06-15       18       57         0 2022-06-15 18:57:00  68220   89   \n",
              "\n",
              "          Col3      Col4       Col5  ...     Col1309     Col1310     Col1311  \\\n",
              "0    4.000E-02  9.999E+9  2.000E+00  ...  6.9350E-01  6.9191E-01  6.8556E-01   \n",
              "1    4.000E-02  9.999E+9  2.000E+00  ...  7.2334E-01  7.2015E-01  7.1598E-01   \n",
              "2    4.000E-02  9.999E+9  2.000E+00  ...  7.2460E-01  7.1990E-01  7.0922E-01   \n",
              "3    4.000E-02  9.999E+9  2.000E+00  ...  7.3936E-01  7.3744E-01  7.2915E-01   \n",
              "4    4.000E-02  9.999E+9  2.000E+00  ...  7.4128E-01  7.4184E-01  7.3163E-01   \n",
              "..         ...       ...        ...  ...         ...         ...         ...   \n",
              "319  4.000E-02  9.999E+9  2.000E+00  ...  8.2003E-02  8.1929E-02  8.0928E-02   \n",
              "320  4.000E-02  9.999E+9  2.000E+00  ...  7.6489E-02  7.6430E-02  7.5537E-02   \n",
              "321  4.000E-02  9.999E+9  2.000E+00  ...  7.2186E-02  7.1815E-02  7.0883E-02   \n",
              "322  4.000E-02  9.999E+9  2.000E+00  ...  6.8763E-02  6.8413E-02  6.7896E-02   \n",
              "323  4.000E-02  9.999E+9  2.000E+00  ...  6.5581E-02  6.5554E-02  6.4851E-02   \n",
              "\n",
              "        Col1312     Col1313     Col1314     Col1315     Col1316     Col1317  \\\n",
              "0    6.6990E-01  6.5661E-01  6.4664E-01  6.4017E-01  6.3688E-01  6.3653E-01   \n",
              "1    6.9777E-01  6.9125E-01  6.7876E-01  6.6992E-01  6.6380E-01  6.6182E-01   \n",
              "2    6.9384E-01  6.8664E-01  6.7670E-01  6.6620E-01  6.6193E-01  6.6160E-01   \n",
              "3    7.0938E-01  7.0058E-01  6.9258E-01  6.8047E-01  6.7285E-01  6.7156E-01   \n",
              "4    7.1063E-01  7.0125E-01  6.9214E-01  6.8244E-01  6.7641E-01  6.7705E-01   \n",
              "..          ...         ...         ...         ...         ...         ...   \n",
              "319  7.9448E-02  7.8117E-02  7.7030E-02  7.6182E-02  7.5869E-02  7.6060E-02   \n",
              "320  7.3979E-02  7.2590E-02  7.1879E-02  7.1247E-02  7.0469E-02  7.0405E-02   \n",
              "321  6.9747E-02  6.8370E-02  6.7801E-02  6.7060E-02  6.6754E-02  6.6754E-02   \n",
              "322  6.6890E-02  6.5856E-02  6.4921E-02  6.4072E-02  6.3652E-02  6.3222E-02   \n",
              "323  6.3738E-02  6.2449E-02  6.1469E-02  6.0786E-02  6.0603E-02  6.0833E-02   \n",
              "\n",
              "        Col1318  \n",
              "0    6.4241E-01  \n",
              "1    6.6927E-01  \n",
              "2    6.7178E-01  \n",
              "3    6.7532E-01  \n",
              "4    6.8511E-01  \n",
              "..          ...  \n",
              "319  7.6254E-02  \n",
              "320  7.0938E-02  \n",
              "321  6.7196E-02  \n",
              "322  6.3753E-02  \n",
              "323  6.1292E-02  \n",
              "\n",
              "[324 rows x 1323 columns]"
            ],
            "text/html": [
              "\n",
              "\n",
              "  <div id=\"df-7ecb066a-69ee-4b29-a00a-143b37338861\">\n",
              "    <div class=\"colab-df-container\">\n",
              "      <div>\n",
              "<style scoped>\n",
              "    .dataframe tbody tr th:only-of-type {\n",
              "        vertical-align: middle;\n",
              "    }\n",
              "\n",
              "    .dataframe tbody tr th {\n",
              "        vertical-align: top;\n",
              "    }\n",
              "\n",
              "    .dataframe thead th {\n",
              "        text-align: right;\n",
              "    }\n",
              "</style>\n",
              "<table border=\"1\" class=\"dataframe\">\n",
              "  <thead>\n",
              "    <tr style=\"text-align: right;\">\n",
              "      <th></th>\n",
              "      <th>Datum</th>\n",
              "      <th>Stunden</th>\n",
              "      <th>Minuten</th>\n",
              "      <th>Sekunden</th>\n",
              "      <th>Uhrzeit</th>\n",
              "      <th>Col1</th>\n",
              "      <th>Col2</th>\n",
              "      <th>Col3</th>\n",
              "      <th>Col4</th>\n",
              "      <th>Col5</th>\n",
              "      <th>...</th>\n",
              "      <th>Col1309</th>\n",
              "      <th>Col1310</th>\n",
              "      <th>Col1311</th>\n",
              "      <th>Col1312</th>\n",
              "      <th>Col1313</th>\n",
              "      <th>Col1314</th>\n",
              "      <th>Col1315</th>\n",
              "      <th>Col1316</th>\n",
              "      <th>Col1317</th>\n",
              "      <th>Col1318</th>\n",
              "    </tr>\n",
              "  </thead>\n",
              "  <tbody>\n",
              "    <tr>\n",
              "      <th>0</th>\n",
              "      <td>2022-06-15</td>\n",
              "      <td>7</td>\n",
              "      <td>21</td>\n",
              "      <td>0</td>\n",
              "      <td>2022-06-15 07:21:00</td>\n",
              "      <td>26460</td>\n",
              "      <td>113</td>\n",
              "      <td>4.000E-02</td>\n",
              "      <td>9.999E+9</td>\n",
              "      <td>2.000E+00</td>\n",
              "      <td>...</td>\n",
              "      <td>6.9350E-01</td>\n",
              "      <td>6.9191E-01</td>\n",
              "      <td>6.8556E-01</td>\n",
              "      <td>6.6990E-01</td>\n",
              "      <td>6.5661E-01</td>\n",
              "      <td>6.4664E-01</td>\n",
              "      <td>6.4017E-01</td>\n",
              "      <td>6.3688E-01</td>\n",
              "      <td>6.3653E-01</td>\n",
              "      <td>6.4241E-01</td>\n",
              "    </tr>\n",
              "    <tr>\n",
              "      <th>1</th>\n",
              "      <td>2022-06-15</td>\n",
              "      <td>7</td>\n",
              "      <td>23</td>\n",
              "      <td>0</td>\n",
              "      <td>2022-06-15 07:23:00</td>\n",
              "      <td>26580</td>\n",
              "      <td>111</td>\n",
              "      <td>4.000E-02</td>\n",
              "      <td>9.999E+9</td>\n",
              "      <td>2.000E+00</td>\n",
              "      <td>...</td>\n",
              "      <td>7.2334E-01</td>\n",
              "      <td>7.2015E-01</td>\n",
              "      <td>7.1598E-01</td>\n",
              "      <td>6.9777E-01</td>\n",
              "      <td>6.9125E-01</td>\n",
              "      <td>6.7876E-01</td>\n",
              "      <td>6.6992E-01</td>\n",
              "      <td>6.6380E-01</td>\n",
              "      <td>6.6182E-01</td>\n",
              "      <td>6.6927E-01</td>\n",
              "    </tr>\n",
              "    <tr>\n",
              "      <th>2</th>\n",
              "      <td>2022-06-15</td>\n",
              "      <td>7</td>\n",
              "      <td>25</td>\n",
              "      <td>0</td>\n",
              "      <td>2022-06-15 07:25:00</td>\n",
              "      <td>26700</td>\n",
              "      <td>111</td>\n",
              "      <td>4.000E-02</td>\n",
              "      <td>9.999E+9</td>\n",
              "      <td>2.000E+00</td>\n",
              "      <td>...</td>\n",
              "      <td>7.2460E-01</td>\n",
              "      <td>7.1990E-01</td>\n",
              "      <td>7.0922E-01</td>\n",
              "      <td>6.9384E-01</td>\n",
              "      <td>6.8664E-01</td>\n",
              "      <td>6.7670E-01</td>\n",
              "      <td>6.6620E-01</td>\n",
              "      <td>6.6193E-01</td>\n",
              "      <td>6.6160E-01</td>\n",
              "      <td>6.7178E-01</td>\n",
              "    </tr>\n",
              "    <tr>\n",
              "      <th>3</th>\n",
              "      <td>2022-06-15</td>\n",
              "      <td>7</td>\n",
              "      <td>27</td>\n",
              "      <td>0</td>\n",
              "      <td>2022-06-15 07:27:00</td>\n",
              "      <td>26820</td>\n",
              "      <td>99</td>\n",
              "      <td>4.000E-02</td>\n",
              "      <td>9.999E+9</td>\n",
              "      <td>2.000E+00</td>\n",
              "      <td>...</td>\n",
              "      <td>7.3936E-01</td>\n",
              "      <td>7.3744E-01</td>\n",
              "      <td>7.2915E-01</td>\n",
              "      <td>7.0938E-01</td>\n",
              "      <td>7.0058E-01</td>\n",
              "      <td>6.9258E-01</td>\n",
              "      <td>6.8047E-01</td>\n",
              "      <td>6.7285E-01</td>\n",
              "      <td>6.7156E-01</td>\n",
              "      <td>6.7532E-01</td>\n",
              "    </tr>\n",
              "    <tr>\n",
              "      <th>4</th>\n",
              "      <td>2022-06-15</td>\n",
              "      <td>7</td>\n",
              "      <td>29</td>\n",
              "      <td>0</td>\n",
              "      <td>2022-06-15 07:29:00</td>\n",
              "      <td>26940</td>\n",
              "      <td>99</td>\n",
              "      <td>4.000E-02</td>\n",
              "      <td>9.999E+9</td>\n",
              "      <td>2.000E+00</td>\n",
              "      <td>...</td>\n",
              "      <td>7.4128E-01</td>\n",
              "      <td>7.4184E-01</td>\n",
              "      <td>7.3163E-01</td>\n",
              "      <td>7.1063E-01</td>\n",
              "      <td>7.0125E-01</td>\n",
              "      <td>6.9214E-01</td>\n",
              "      <td>6.8244E-01</td>\n",
              "      <td>6.7641E-01</td>\n",
              "      <td>6.7705E-01</td>\n",
              "      <td>6.8511E-01</td>\n",
              "    </tr>\n",
              "    <tr>\n",
              "      <th>...</th>\n",
              "      <td>...</td>\n",
              "      <td>...</td>\n",
              "      <td>...</td>\n",
              "      <td>...</td>\n",
              "      <td>...</td>\n",
              "      <td>...</td>\n",
              "      <td>...</td>\n",
              "      <td>...</td>\n",
              "      <td>...</td>\n",
              "      <td>...</td>\n",
              "      <td>...</td>\n",
              "      <td>...</td>\n",
              "      <td>...</td>\n",
              "      <td>...</td>\n",
              "      <td>...</td>\n",
              "      <td>...</td>\n",
              "      <td>...</td>\n",
              "      <td>...</td>\n",
              "      <td>...</td>\n",
              "      <td>...</td>\n",
              "      <td>...</td>\n",
              "    </tr>\n",
              "    <tr>\n",
              "      <th>319</th>\n",
              "      <td>2022-06-15</td>\n",
              "      <td>18</td>\n",
              "      <td>49</td>\n",
              "      <td>0</td>\n",
              "      <td>2022-06-15 18:49:00</td>\n",
              "      <td>67740</td>\n",
              "      <td>89</td>\n",
              "      <td>4.000E-02</td>\n",
              "      <td>9.999E+9</td>\n",
              "      <td>2.000E+00</td>\n",
              "      <td>...</td>\n",
              "      <td>8.2003E-02</td>\n",
              "      <td>8.1929E-02</td>\n",
              "      <td>8.0928E-02</td>\n",
              "      <td>7.9448E-02</td>\n",
              "      <td>7.8117E-02</td>\n",
              "      <td>7.7030E-02</td>\n",
              "      <td>7.6182E-02</td>\n",
              "      <td>7.5869E-02</td>\n",
              "      <td>7.6060E-02</td>\n",
              "      <td>7.6254E-02</td>\n",
              "    </tr>\n",
              "    <tr>\n",
              "      <th>320</th>\n",
              "      <td>2022-06-15</td>\n",
              "      <td>18</td>\n",
              "      <td>51</td>\n",
              "      <td>0</td>\n",
              "      <td>2022-06-15 18:51:00</td>\n",
              "      <td>67860</td>\n",
              "      <td>89</td>\n",
              "      <td>4.000E-02</td>\n",
              "      <td>9.999E+9</td>\n",
              "      <td>2.000E+00</td>\n",
              "      <td>...</td>\n",
              "      <td>7.6489E-02</td>\n",
              "      <td>7.6430E-02</td>\n",
              "      <td>7.5537E-02</td>\n",
              "      <td>7.3979E-02</td>\n",
              "      <td>7.2590E-02</td>\n",
              "      <td>7.1879E-02</td>\n",
              "      <td>7.1247E-02</td>\n",
              "      <td>7.0469E-02</td>\n",
              "      <td>7.0405E-02</td>\n",
              "      <td>7.0938E-02</td>\n",
              "    </tr>\n",
              "    <tr>\n",
              "      <th>321</th>\n",
              "      <td>2022-06-15</td>\n",
              "      <td>18</td>\n",
              "      <td>53</td>\n",
              "      <td>0</td>\n",
              "      <td>2022-06-15 18:53:00</td>\n",
              "      <td>67980</td>\n",
              "      <td>89</td>\n",
              "      <td>4.000E-02</td>\n",
              "      <td>9.999E+9</td>\n",
              "      <td>2.000E+00</td>\n",
              "      <td>...</td>\n",
              "      <td>7.2186E-02</td>\n",
              "      <td>7.1815E-02</td>\n",
              "      <td>7.0883E-02</td>\n",
              "      <td>6.9747E-02</td>\n",
              "      <td>6.8370E-02</td>\n",
              "      <td>6.7801E-02</td>\n",
              "      <td>6.7060E-02</td>\n",
              "      <td>6.6754E-02</td>\n",
              "      <td>6.6754E-02</td>\n",
              "      <td>6.7196E-02</td>\n",
              "    </tr>\n",
              "    <tr>\n",
              "      <th>322</th>\n",
              "      <td>2022-06-15</td>\n",
              "      <td>18</td>\n",
              "      <td>55</td>\n",
              "      <td>0</td>\n",
              "      <td>2022-06-15 18:55:00</td>\n",
              "      <td>68100</td>\n",
              "      <td>89</td>\n",
              "      <td>4.000E-02</td>\n",
              "      <td>9.999E+9</td>\n",
              "      <td>2.000E+00</td>\n",
              "      <td>...</td>\n",
              "      <td>6.8763E-02</td>\n",
              "      <td>6.8413E-02</td>\n",
              "      <td>6.7896E-02</td>\n",
              "      <td>6.6890E-02</td>\n",
              "      <td>6.5856E-02</td>\n",
              "      <td>6.4921E-02</td>\n",
              "      <td>6.4072E-02</td>\n",
              "      <td>6.3652E-02</td>\n",
              "      <td>6.3222E-02</td>\n",
              "      <td>6.3753E-02</td>\n",
              "    </tr>\n",
              "    <tr>\n",
              "      <th>323</th>\n",
              "      <td>2022-06-15</td>\n",
              "      <td>18</td>\n",
              "      <td>57</td>\n",
              "      <td>0</td>\n",
              "      <td>2022-06-15 18:57:00</td>\n",
              "      <td>68220</td>\n",
              "      <td>89</td>\n",
              "      <td>4.000E-02</td>\n",
              "      <td>9.999E+9</td>\n",
              "      <td>2.000E+00</td>\n",
              "      <td>...</td>\n",
              "      <td>6.5581E-02</td>\n",
              "      <td>6.5554E-02</td>\n",
              "      <td>6.4851E-02</td>\n",
              "      <td>6.3738E-02</td>\n",
              "      <td>6.2449E-02</td>\n",
              "      <td>6.1469E-02</td>\n",
              "      <td>6.0786E-02</td>\n",
              "      <td>6.0603E-02</td>\n",
              "      <td>6.0833E-02</td>\n",
              "      <td>6.1292E-02</td>\n",
              "    </tr>\n",
              "  </tbody>\n",
              "</table>\n",
              "<p>324 rows × 1323 columns</p>\n",
              "</div>\n",
              "      <button class=\"colab-df-convert\" onclick=\"convertToInteractive('df-7ecb066a-69ee-4b29-a00a-143b37338861')\"\n",
              "              title=\"Convert this dataframe to an interactive table.\"\n",
              "              style=\"display:none;\">\n",
              "\n",
              "  <svg xmlns=\"http://www.w3.org/2000/svg\" height=\"24px\"viewBox=\"0 0 24 24\"\n",
              "       width=\"24px\">\n",
              "    <path d=\"M0 0h24v24H0V0z\" fill=\"none\"/>\n",
              "    <path d=\"M18.56 5.44l.94 2.06.94-2.06 2.06-.94-2.06-.94-.94-2.06-.94 2.06-2.06.94zm-11 1L8.5 8.5l.94-2.06 2.06-.94-2.06-.94L8.5 2.5l-.94 2.06-2.06.94zm10 10l.94 2.06.94-2.06 2.06-.94-2.06-.94-.94-2.06-.94 2.06-2.06.94z\"/><path d=\"M17.41 7.96l-1.37-1.37c-.4-.4-.92-.59-1.43-.59-.52 0-1.04.2-1.43.59L10.3 9.45l-7.72 7.72c-.78.78-.78 2.05 0 2.83L4 21.41c.39.39.9.59 1.41.59.51 0 1.02-.2 1.41-.59l7.78-7.78 2.81-2.81c.8-.78.8-2.07 0-2.86zM5.41 20L4 18.59l7.72-7.72 1.47 1.35L5.41 20z\"/>\n",
              "  </svg>\n",
              "      </button>\n",
              "\n",
              "\n",
              "\n",
              "    <div id=\"df-99996689-0874-42b8-839f-b87f553b707f\">\n",
              "      <button class=\"colab-df-quickchart\" onclick=\"quickchart('df-99996689-0874-42b8-839f-b87f553b707f')\"\n",
              "              title=\"Suggest charts.\"\n",
              "              style=\"display:none;\">\n",
              "\n",
              "<svg xmlns=\"http://www.w3.org/2000/svg\" height=\"24px\"viewBox=\"0 0 24 24\"\n",
              "     width=\"24px\">\n",
              "    <g>\n",
              "        <path d=\"M19 3H5c-1.1 0-2 .9-2 2v14c0 1.1.9 2 2 2h14c1.1 0 2-.9 2-2V5c0-1.1-.9-2-2-2zM9 17H7v-7h2v7zm4 0h-2V7h2v10zm4 0h-2v-4h2v4z\"/>\n",
              "    </g>\n",
              "</svg>\n",
              "      </button>\n",
              "    </div>\n",
              "\n",
              "<style>\n",
              "  .colab-df-quickchart {\n",
              "    background-color: #E8F0FE;\n",
              "    border: none;\n",
              "    border-radius: 50%;\n",
              "    cursor: pointer;\n",
              "    display: none;\n",
              "    fill: #1967D2;\n",
              "    height: 32px;\n",
              "    padding: 0 0 0 0;\n",
              "    width: 32px;\n",
              "  }\n",
              "\n",
              "  .colab-df-quickchart:hover {\n",
              "    background-color: #E2EBFA;\n",
              "    box-shadow: 0px 1px 2px rgba(60, 64, 67, 0.3), 0px 1px 3px 1px rgba(60, 64, 67, 0.15);\n",
              "    fill: #174EA6;\n",
              "  }\n",
              "\n",
              "  [theme=dark] .colab-df-quickchart {\n",
              "    background-color: #3B4455;\n",
              "    fill: #D2E3FC;\n",
              "  }\n",
              "\n",
              "  [theme=dark] .colab-df-quickchart:hover {\n",
              "    background-color: #434B5C;\n",
              "    box-shadow: 0px 1px 3px 1px rgba(0, 0, 0, 0.15);\n",
              "    filter: drop-shadow(0px 1px 2px rgba(0, 0, 0, 0.3));\n",
              "    fill: #FFFFFF;\n",
              "  }\n",
              "</style>\n",
              "\n",
              "    <script>\n",
              "      async function quickchart(key) {\n",
              "        const containerElement = document.querySelector('#' + key);\n",
              "        const charts = await google.colab.kernel.invokeFunction(\n",
              "            'suggestCharts', [key], {});\n",
              "      }\n",
              "    </script>\n",
              "\n",
              "      <script>\n",
              "\n",
              "function displayQuickchartButton(domScope) {\n",
              "  let quickchartButtonEl =\n",
              "    domScope.querySelector('#df-99996689-0874-42b8-839f-b87f553b707f button.colab-df-quickchart');\n",
              "  quickchartButtonEl.style.display =\n",
              "    google.colab.kernel.accessAllowed ? 'block' : 'none';\n",
              "}\n",
              "\n",
              "        displayQuickchartButton(document);\n",
              "      </script>\n",
              "      <style>\n",
              "    .colab-df-container {\n",
              "      display:flex;\n",
              "      flex-wrap:wrap;\n",
              "      gap: 12px;\n",
              "    }\n",
              "\n",
              "    .colab-df-convert {\n",
              "      background-color: #E8F0FE;\n",
              "      border: none;\n",
              "      border-radius: 50%;\n",
              "      cursor: pointer;\n",
              "      display: none;\n",
              "      fill: #1967D2;\n",
              "      height: 32px;\n",
              "      padding: 0 0 0 0;\n",
              "      width: 32px;\n",
              "    }\n",
              "\n",
              "    .colab-df-convert:hover {\n",
              "      background-color: #E2EBFA;\n",
              "      box-shadow: 0px 1px 2px rgba(60, 64, 67, 0.3), 0px 1px 3px 1px rgba(60, 64, 67, 0.15);\n",
              "      fill: #174EA6;\n",
              "    }\n",
              "\n",
              "    [theme=dark] .colab-df-convert {\n",
              "      background-color: #3B4455;\n",
              "      fill: #D2E3FC;\n",
              "    }\n",
              "\n",
              "    [theme=dark] .colab-df-convert:hover {\n",
              "      background-color: #434B5C;\n",
              "      box-shadow: 0px 1px 3px 1px rgba(0, 0, 0, 0.15);\n",
              "      filter: drop-shadow(0px 1px 2px rgba(0, 0, 0, 0.3));\n",
              "      fill: #FFFFFF;\n",
              "    }\n",
              "  </style>\n",
              "\n",
              "      <script>\n",
              "        const buttonEl =\n",
              "          document.querySelector('#df-7ecb066a-69ee-4b29-a00a-143b37338861 button.colab-df-convert');\n",
              "        buttonEl.style.display =\n",
              "          google.colab.kernel.accessAllowed ? 'block' : 'none';\n",
              "\n",
              "        async function convertToInteractive(key) {\n",
              "          const element = document.querySelector('#df-7ecb066a-69ee-4b29-a00a-143b37338861');\n",
              "          const dataTable =\n",
              "            await google.colab.kernel.invokeFunction('convertToInteractive',\n",
              "                                                     [key], {});\n",
              "          if (!dataTable) return;\n",
              "\n",
              "          const docLinkHtml = 'Like what you see? Visit the ' +\n",
              "            '<a target=\"_blank\" href=https://colab.research.google.com/notebooks/data_table.ipynb>data table notebook</a>'\n",
              "            + ' to learn more about interactive tables.';\n",
              "          element.innerHTML = '';\n",
              "          dataTable['output_type'] = 'display_data';\n",
              "          await google.colab.output.renderOutput(dataTable, element);\n",
              "          const docLink = document.createElement('div');\n",
              "          docLink.innerHTML = docLinkHtml;\n",
              "          element.appendChild(docLink);\n",
              "        }\n",
              "      </script>\n",
              "    </div>\n",
              "  </div>\n"
            ]
          },
          "metadata": {},
          "execution_count": 134
        }
      ]
    },
    {
      "cell_type": "markdown",
      "source": [
        "**Umschreiben der Messwerte in einen Dataframe**"
      ],
      "metadata": {
        "id": "sZQDWhs_WDhQ"
      }
    },
    {
      "cell_type": "code",
      "source": [
        "def parse_data(data, package_ids):\n",
        "    # Teile den Datensatz anhand der Package-IDs\n",
        "    data_parts = data.split('\\n')[:-1]  # Letztes Element ist leer\n",
        "    data_parts = [x.split() for x in data_parts]\n",
        "    data_parts = [x[1:] for x in data_parts if int(x[0]) in package_ids]\n",
        "    # Erstelle einen Pandas DataFrame\n",
        "    df = pd.DataFrame(data_parts)\n",
        "    # Benenne die Spalten\n",
        "    num_cols = len(df.columns)\n",
        "    col_names = ['Col{}'.format(i+1) for i in range(num_cols)]\n",
        "    df.columns = col_names\n",
        "    return df"
      ],
      "metadata": {
        "id": "R2_HdAaNNwEG"
      },
      "execution_count": null,
      "outputs": []
    },
    {
      "cell_type": "code",
      "source": [
        "df = parse_data(data, package)\n",
        "print(df)"
      ],
      "metadata": {
        "colab": {
          "base_uri": "https://localhost:8080/",
          "height": 183
        },
        "id": "gIKN5TunNypC",
        "outputId": "b5da322b-7cd6-409d-c959-208597b04773"
      },
      "execution_count": null,
      "outputs": [
        {
          "output_type": "error",
          "ename": "NameError",
          "evalue": "ignored",
          "traceback": [
            "\u001b[0;31m---------------------------------------------------------------------------\u001b[0m",
            "\u001b[0;31mNameError\u001b[0m                                 Traceback (most recent call last)",
            "\u001b[0;32m<ipython-input-36-25072ca68507>\u001b[0m in \u001b[0;36m<cell line: 1>\u001b[0;34m()\u001b[0m\n\u001b[0;32m----> 1\u001b[0;31m \u001b[0mdf\u001b[0m \u001b[0;34m=\u001b[0m \u001b[0mparse_data\u001b[0m\u001b[0;34m(\u001b[0m\u001b[0mdata\u001b[0m\u001b[0;34m)\u001b[0m\u001b[0;34m\u001b[0m\u001b[0;34m\u001b[0m\u001b[0m\n\u001b[0m\u001b[1;32m      2\u001b[0m \u001b[0mprint\u001b[0m\u001b[0;34m(\u001b[0m\u001b[0mdf\u001b[0m\u001b[0;34m)\u001b[0m\u001b[0;34m\u001b[0m\u001b[0;34m\u001b[0m\u001b[0m\n",
            "\u001b[0;31mNameError\u001b[0m: name 'data' is not defined"
          ]
        }
      ]
    },
    {
      "cell_type": "markdown",
      "source": [
        "**Umwandeln aller Messdaten**"
      ],
      "metadata": {
        "id": "g7Cbzs6Yy2DB"
      }
    },
    {
      "cell_type": "code",
      "source": [
        "# Funktion um die OR0-Dateien einzulesen\n",
        "def read_files_with_extension(folder_path, extension, min_file_size):\n",
        "    file_contents = []\n",
        "\n",
        "    for file_name in os.listdir(folder_path):\n",
        "        if file_name.endswith(extension):\n",
        "            file_path = os.path.join(folder_path, file_name)\n",
        "\n",
        "            # Überprüfe die Dateigröße\n",
        "            if os.path.getsize(file_path) >= min_file_size:\n",
        "                with open(file_path, 'r') as file:\n",
        "                    content = file.read()\n",
        "                    file_contents.append(content)\n",
        "\n",
        "    return file_contents"
      ],
      "metadata": {
        "id": "_4uAnO4qxObG"
      },
      "execution_count": null,
      "outputs": []
    },
    {
      "cell_type": "code",
      "source": [
        "folder_path = r\"/content/drive/MyDrive/Colab Notebooks/NasaAmes_Messdaten/Data\"\n",
        "extension = '.OR0'\n",
        "min_file_size = 100  # Mindestgröße der Datei in Bytes\n",
        "\n",
        "result = read_files_with_extension(folder_path, extension, min_file_size)"
      ],
      "metadata": {
        "id": "uv2WtWq0Z7zD"
      },
      "execution_count": null,
      "outputs": []
    },
    {
      "cell_type": "markdown",
      "source": [
        "Im nächsten Schritt werden die OR0-Dateien (NasaAmes Format) in eine CSV-Datei abgespeichert.\n"
      ],
      "metadata": {
        "id": "B7pXTVFmzPOz"
      }
    },
    {
      "cell_type": "code",
      "source": [
        "def write_list_to_csv(result, file_path):\n",
        "    with open(file_path, 'w', newline='') as file:\n",
        "        writer = csv.writer(file)\n",
        "        writer.writerows(result)"
      ],
      "metadata": {
        "id": "3Fbt3ZAU6uQw"
      },
      "execution_count": null,
      "outputs": []
    },
    {
      "cell_type": "code",
      "source": [
        "file_path = '/content/drive/MyDrive/Colab Notebooks/CSV_Messdaten/Messdaten.csv'  # Passe den Dateipfad entsprechend an\n",
        "\n",
        "write_list_to_csv(result, file_path)"
      ],
      "metadata": {
        "id": "nCYM1c818qJl"
      },
      "execution_count": null,
      "outputs": []
    },
    {
      "cell_type": "code",
      "source": [],
      "metadata": {
        "id": "UsYV3dUhOc6P"
      },
      "execution_count": null,
      "outputs": []
    }
  ]
}