{
  "nbformat": 4,
  "nbformat_minor": 0,
  "metadata": {
    "colab": {
      "provenance": [],
      "authorship_tag": "ABX9TyOCFE/BCVdriVjZcq07kXpp",
      "include_colab_link": true
    },
    "kernelspec": {
      "name": "python3",
      "display_name": "Python 3"
    },
    "language_info": {
      "name": "python"
    }
  },
  "cells": [
    {
      "cell_type": "markdown",
      "metadata": {
        "id": "view-in-github",
        "colab_type": "text"
      },
      "source": [
        "<a href=\"https://colab.research.google.com/github/rjanow/Masterarbeit/blob/main/UV_Measurement.ipynb\" target=\"_parent\"><img src=\"https://colab.research.google.com/assets/colab-badge.svg\" alt=\"Open In Colab\"/></a>"
      ]
    },
    {
      "cell_type": "markdown",
      "source": [
        "**Hier werden die Rohdaten des BTS2048-UV-WP in eine nutzbare CSV-Datei geschrieben**"
      ],
      "metadata": {
        "id": "VbXcbReNyuop"
      }
    },
    {
      "cell_type": "markdown",
      "source": [
        "Dokumentenname: Import_UV_Measurement.ipynb\n",
        "\n",
        "Es werden die OR0-Daten (NasaAmes-Format), die eigentlich für den Versand an das BFS gedacht sind umgewandelt und in eine CSV-Datei geschrieben."
      ],
      "metadata": {
        "id": "_Euu6x1XyxGL"
      }
    },
    {
      "cell_type": "code",
      "source": [
        "# import der benötigten Module\n",
        "import os, sys\n",
        "import json\n",
        "import datetime\n",
        "import pandas as pd\n",
        "import numpy as np\n",
        "import csv\n",
        "import re\n",
        "\n",
        "from scipy.io import netcdf\n",
        "from datetime import timedelta"
      ],
      "metadata": {
        "id": "6GGZwyBJzVsp"
      },
      "execution_count": null,
      "outputs": []
    },
    {
      "cell_type": "markdown",
      "source": [
        "Zu Beginn muss die Google-Drive eingerichtet werden, in der die Messdaten (OR0-Dateien) gespeichert sind. Danach werden alle verfügbaren Unterordner aufgerufen. So wird geprüft, ob der Mount richtig funktioniert hat."
      ],
      "metadata": {
        "id": "EKAQlrHyWWIP"
      }
    },
    {
      "cell_type": "code",
      "source": [
        "from google.colab import drive\n",
        "drive.mount('/content/drive')\n",
        "\n",
        "drive_path = '/content/drive/MyDrive'\n",
        "# Durchsuche den Google Drive-Pfad\n",
        "for root, dirs, files in os.walk(drive_path):\n",
        "    for dir in dirs:\n",
        "        # Gib den Namen des Unterordners aus\n",
        "        print(os.path.join(root, dir))"
      ],
      "metadata": {
        "colab": {
          "base_uri": "https://localhost:8080/"
        },
        "id": "T_iN54-sVUVL",
        "outputId": "36b36512-cb1f-43f8-9b60-4998447b89ca"
      },
      "execution_count": null,
      "outputs": [
        {
          "output_type": "stream",
          "name": "stdout",
          "text": [
            "Mounted at /content/drive\n"
          ]
        }
      ]
    },
    {
      "cell_type": "markdown",
      "source": [
        "Danach werden die einzelnen OR0-Dateien (NasaAmes Format) geladen und umgewandelt.\n",
        "\n",
        "Das NasaAmes Format: https://espoarchive.nasa.gov/content/Ames_Format_Specification_v20\n",
        "\n",
        "Die Messdaten sind unter dem FFI (File Format Index) 2005 gespeichert. Dieser Standard ist durch die Nasa nicht dokumentiert. Deshalb nachfolgend ein eigener Parser, der die Daten in eine nutzbare CSV umwandelt."
      ],
      "metadata": {
        "id": "ZRL9H_KEZpgG"
      }
    },
    {
      "cell_type": "markdown",
      "source": [
        "**Umwandeln einer Datei**\n",
        "\n",
        "- **lines** = enthält die OR0-Datei in Zeilen aufgeteilt\n",
        "- **header** = Enthält den Dateikopf\n",
        "- **end_line_header** = enthält die Zeile an dem der Header endet"
      ],
      "metadata": {
        "id": "TI_gn6B6_qGL"
      }
    },
    {
      "cell_type": "markdown",
      "source": [
        "**Datei einlesen:**"
      ],
      "metadata": {
        "id": "7_mIBaD2FwwZ"
      }
    },
    {
      "cell_type": "code",
      "source": [
        "# Testweise Öffnen einer Datei um zu prüfen, ob die Verbindung zu Google Drive funktioniert\n",
        "file_path = r'/content/drive/MyDrive/Colab Notebooks/NasaAmes_Messdaten/Data/SA220615.OR0'  # Dateipfad in der Google-Drive\n",
        "\n",
        "with open(file_path, 'r') as file:\n",
        "    # Inhalt der Datei lesen\n",
        "    content = file.read()"
      ],
      "metadata": {
        "id": "LJXRx3MKM8L1"
      },
      "execution_count": null,
      "outputs": []
    },
    {
      "cell_type": "code",
      "source": [
        "# Zeilen in eine Liste aufteilen\n",
        "lines = content.split('\\n')"
      ],
      "metadata": {
        "id": "JxBOhrPFQIYc"
      },
      "execution_count": null,
      "outputs": []
    },
    {
      "cell_type": "markdown",
      "source": [
        "**Header extrahieren:**"
      ],
      "metadata": {
        "id": "AaUuqtlgK2Qq"
      }
    },
    {
      "cell_type": "code",
      "source": [
        "# Funktion um den Dateiheader zu extrahieren\n",
        "def extract_header(dataset):\n",
        "    header = \"\"\n",
        "    end_line_header = None\n",
        "\n",
        "    for i, line in enumerate(dataset):\n",
        "        header += line + \"\\n\"\n",
        "        if line.strip() == \"Pyranometer: readout interval [secs]=5\":\n",
        "            end_line_header = i\n",
        "            break\n",
        "\n",
        "\n",
        "    return header, end_line_header"
      ],
      "metadata": {
        "id": "YQTw-OjYPUkp"
      },
      "execution_count": null,
      "outputs": []
    },
    {
      "cell_type": "code",
      "source": [
        "header = extract_header(lines)"
      ],
      "metadata": {
        "id": "AX_Abqjueo9u"
      },
      "execution_count": null,
      "outputs": []
    },
    {
      "cell_type": "code",
      "source": [
        "print(header[0])"
      ],
      "metadata": {
        "id": "pZxst7LnJZXF"
      },
      "execution_count": null,
      "outputs": []
    },
    {
      "cell_type": "markdown",
      "source": [
        "**Nach Datum in Header suchen:**"
      ],
      "metadata": {
        "id": "OTl6cJnMLlVd"
      }
    },
    {
      "cell_type": "code",
      "source": [
        "def search_date(data):\n",
        "    for line in data:\n",
        "        print(line)\n",
        "        if len(line.split()) == 3:\n",
        "            return line.strip()\n",
        "    return None"
      ],
      "metadata": {
        "id": "hz4ucEhhHNDf"
      },
      "execution_count": null,
      "outputs": []
    },
    {
      "cell_type": "code",
      "source": [
        "result = search_date(header[0])\n",
        "\n",
        "if result:\n",
        "    print(\"Datum gefunden:\", result)\n",
        "else:\n",
        "    print(\"Datum nicht gefunden.\")"
      ],
      "metadata": {
        "id": "MZ-113EHGHDR"
      },
      "execution_count": null,
      "outputs": []
    },
    {
      "cell_type": "markdown",
      "source": [
        "**Daten in einzelne Messungen aufteilen:**"
      ],
      "metadata": {
        "id": "uscoR4cRFvIn"
      }
    },
    {
      "cell_type": "code",
      "source": [
        "# Funktion um den Anfang einer einzelnen Messung zu finden\n",
        "def split_dataset(dataset):\n",
        "    data_packages = []\n",
        "    current_package = []\n",
        "\n",
        "    for i, line in enumerate(dataset):\n",
        "        if line.strip().isdigit() and len(line.strip()) == 5:\n",
        "            if i + 1 < len(dataset) and dataset[i + 1].strip().isdigit() and len(dataset[i + 1].strip()) in [2, 3]:\n",
        "                if current_package:\n",
        "                    data_packages.append(current_package)\n",
        "                    current_package = []\n",
        "            current_package.append(line)\n",
        "\n",
        "    if current_package:\n",
        "        data_packages.append(current_package)\n",
        "\n",
        "    return data_packages"
      ],
      "metadata": {
        "id": "WI-aukhcgE1E"
      },
      "execution_count": null,
      "outputs": []
    },
    {
      "cell_type": "code",
      "source": [
        "data_packages = split_dataset(lines)"
      ],
      "metadata": {
        "id": "3dJYofTuiM6m"
      },
      "execution_count": null,
      "outputs": []
    },
    {
      "cell_type": "code",
      "source": [
        "for i, package in enumerate(data_packages):\n",
        "    print(\"Datenpaket\", i+1)\n",
        "    print(package)"
      ],
      "metadata": {
        "colab": {
          "base_uri": "https://localhost:8080/"
        },
        "id": "KVBa3PwWiXSi",
        "outputId": "b85ec3a3-ca52-42c5-d3bd-b97b337c1716"
      },
      "execution_count": null,
      "outputs": [
        {
          "output_type": "stream",
          "name": "stdout",
          "text": [
            "Datenpaket 1\n",
            "['26460', '26580', '26700', '26820', '26940', '27060', '27180', '27300', '27420', '27540', '27660', '27780', '27900', '29700', '29820', '29940', '30060', '30180', '30300', '30420', '30540', '30660', '30780', '30900', '31020', '31140', '31260', '31380', '31500', '31620', '31740', '31860', '31980', '32100', '32220', '32340', '32460', '32580', '32700', '32820', '32940', '33060', '33180', '33300', '33420', '33540', '33660', '33780', '33900', '34020', '34140', '34260', '34380', '34500', '34620', '34740', '34860', '34980', '35100', '35220', '35340', '35460', '35580', '35700', '35820', '35940', '36060', '36180', '36300', '36420', '36540', '36660', '36780', '36900', '37020', '37140', '37260', '37380', '37500', '37620', '37740', '37860', '37980', '38100', '38340', '38460', '38580', '38700', '38820', '38940', '39060', '39180', '39300', '39420', '39540', '39660', '39780', '39900', '40020', '40140', '40260', '40380', '40500', '40620', '40740', '40860', '40980', '41100', '41220', '41340', '41460', '41580', '41700', '41820', '41940', '42060', '42180', '42300', '42420', '42540', '42660', '42780', '42900', '43020', '43140', '43260', '43380', '43500', '43620', '43740', '43860', '43980', '44100', '44220', '44340', '44460', '44580', '44700', '44820', '44940', '45060', '45180', '45300', '45420', '45540', '45660', '45780', '45900', '46020', '46140', '46260', '46380', '46500', '46620', '46740', '46860', '46980', '47100', '47220', '47340', '47460', '47580', '47700', '47820', '47940', '48060', '48180', '48300', '48420', '48540', '48660', '48780', '48900', '49380', '49500', '49620', '49740', '49860', '49980', '50100', '50220', '50340', '50460', '50580', '50700', '50820', '50940', '51060', '51180', '51300', '51420', '51540', '51660', '51780', '51900', '52860', '52980', '53100', '53220', '53340', '53460', '53580', '53700', '53820', '53940', '54060', '54180', '54300', '54420', '54540', '54660', '54780', '54900', '55020', '55140', '55260', '55380', '55500', '55620', '55740', '55860', '55980', '56100', '56220', '56340', '56460', '56580', '56700', '56820', '56940', '57060', '57180', '57300', '57420', '57540', '57660', '57780', '57900', '58020', '58140', '58260', '58380', '58500', '58620', '58740', '58860', '58980', '59100', '59220', '59340', '59460', '59580', '59700', '59820', '59940', '60060', '60180', '60300', '60420', '60540', '60660', '60780', '60900', '61020', '61140', '61260', '61380', '61500', '61620', '61740', '61860', '61980', '62100', '62220', '62340', '62460', '62580', '62700', '62820', '62940', '63060', '63180', '63300', '63420', '63540', '63660', '63780', '63900', '64020', '64140', '64260', '64380', '64500', '64620', '64740', '64860', '64980', '65100', '65220', '65340', '65460', '65580', '65700', '65820', '65940', '66060', '66180', '66300', '66420', '66540', '66660', '66780', '66900', '67020', '67140', '67260', '67380', '67500', '67620', '67740', '67860', '67980', '68100', '68220']\n"
          ]
        }
      ]
    },
    {
      "cell_type": "code",
      "source": [
        "# Funktion um den Zeitstempel der Messung in eine Uhrzeit und ein Datum umzuwandeln\n",
        "def seconds_to_time(time_seconds):\n",
        "    data = []\n",
        "\n",
        "    for sec in time_seconds:\n",
        "        hours = int(sec) // 3600\n",
        "        minutes = (int(sec) % 3600) // 60\n",
        "        seconds = int(sec) % 60\n",
        "        time = pd.to_datetime(f\"{hours:02d}:{minutes:02d}:{seconds:02d}\")\n",
        "        data.append({'Stunden': hours, 'Minuten': minutes, 'Sekunden': seconds, 'Uhrzeit': time})\n",
        "\n",
        "    df = pd.DataFrame(data)\n",
        "    return df"
      ],
      "metadata": {
        "id": "vOmsONI3iaNz"
      },
      "execution_count": null,
      "outputs": []
    },
    {
      "cell_type": "code",
      "source": [
        "time_df = seconds_to_time(package)\n",
        "\n",
        "# Ausgabe des DataFrames\n",
        "print(time_df)"
      ],
      "metadata": {
        "colab": {
          "base_uri": "https://localhost:8080/"
        },
        "id": "DbmsPJVw7Rcm",
        "outputId": "6d5992ce-63be-449f-8dd3-821ac9526411"
      },
      "execution_count": null,
      "outputs": [
        {
          "output_type": "stream",
          "name": "stdout",
          "text": [
            "     Stunden  Minuten  Sekunden             Uhrzeit\n",
            "0          7       21         0 2023-07-06 07:21:00\n",
            "1          7       23         0 2023-07-06 07:23:00\n",
            "2          7       25         0 2023-07-06 07:25:00\n",
            "3          7       27         0 2023-07-06 07:27:00\n",
            "4          7       29         0 2023-07-06 07:29:00\n",
            "..       ...      ...       ...                 ...\n",
            "319       18       49         0 2023-07-06 18:49:00\n",
            "320       18       51         0 2023-07-06 18:51:00\n",
            "321       18       53         0 2023-07-06 18:53:00\n",
            "322       18       55         0 2023-07-06 18:55:00\n",
            "323       18       57         0 2023-07-06 18:57:00\n",
            "\n",
            "[324 rows x 4 columns]\n"
          ]
        }
      ]
    },
    {
      "cell_type": "markdown",
      "source": [],
      "metadata": {
        "id": "sZQDWhs_WDhQ"
      }
    },
    {
      "cell_type": "markdown",
      "source": [
        "**Umwandeln aller Messdaten**"
      ],
      "metadata": {
        "id": "g7Cbzs6Yy2DB"
      }
    },
    {
      "cell_type": "code",
      "source": [
        "# Funktion um die OR0-Dateien einzulesen\n",
        "def read_files_with_extension(folder_path, extension, min_file_size):\n",
        "    file_contents = []\n",
        "\n",
        "    for file_name in os.listdir(folder_path):\n",
        "        if file_name.endswith(extension):\n",
        "            file_path = os.path.join(folder_path, file_name)\n",
        "\n",
        "            # Überprüfe die Dateigröße\n",
        "            if os.path.getsize(file_path) >= min_file_size:\n",
        "                with open(file_path, 'r') as file:\n",
        "                    content = file.read()\n",
        "                    file_contents.append(content)\n",
        "\n",
        "    return file_contents"
      ],
      "metadata": {
        "id": "_4uAnO4qxObG"
      },
      "execution_count": null,
      "outputs": []
    },
    {
      "cell_type": "code",
      "source": [
        "folder_path = r\"/content/drive/MyDrive/Colab Notebooks/NasaAmes_Messdaten/Data\"\n",
        "extension = '.OR0'\n",
        "min_file_size = 100  # Mindestgröße der Datei in Bytes\n",
        "\n",
        "result = read_files_with_extension(folder_path, extension, min_file_size)"
      ],
      "metadata": {
        "id": "uv2WtWq0Z7zD"
      },
      "execution_count": null,
      "outputs": []
    },
    {
      "cell_type": "markdown",
      "source": [
        "Im nächsten Schritt werden die OR0-Dateien (NasaAmes Format) in eine CSV-Datei abgespeichert.\n"
      ],
      "metadata": {
        "id": "B7pXTVFmzPOz"
      }
    },
    {
      "cell_type": "code",
      "source": [
        "def write_list_to_csv(result, file_path):\n",
        "    with open(file_path, 'w', newline='') as file:\n",
        "        writer = csv.writer(file)\n",
        "        writer.writerows(result)"
      ],
      "metadata": {
        "id": "3Fbt3ZAU6uQw"
      },
      "execution_count": null,
      "outputs": []
    },
    {
      "cell_type": "code",
      "source": [
        "file_path = '/content/drive/MyDrive/Colab Notebooks/CSV_Messdaten/Messdaten.csv'  # Passe den Dateipfad entsprechend an\n",
        "\n",
        "write_list_to_csv(result, file_path)"
      ],
      "metadata": {
        "id": "nCYM1c818qJl"
      },
      "execution_count": null,
      "outputs": []
    },
    {
      "cell_type": "code",
      "source": [],
      "metadata": {
        "id": "UsYV3dUhOc6P"
      },
      "execution_count": null,
      "outputs": []
    }
  ]
}