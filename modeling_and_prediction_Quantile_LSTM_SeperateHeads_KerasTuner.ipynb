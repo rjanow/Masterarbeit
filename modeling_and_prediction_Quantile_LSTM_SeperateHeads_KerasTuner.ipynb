{
  "cells": [
    {
      "cell_type": "markdown",
      "metadata": {
        "id": "view-in-github",
        "colab_type": "text"
      },
      "source": [
        "<a href=\"https://colab.research.google.com/github/rjanow/Masterarbeit/blob/main/modeling_and_prediction_Quantile_LSTM_SeperateHeads_KerasTuner.ipynb\" target=\"_parent\"><img src=\"https://colab.research.google.com/assets/colab-badge.svg\" alt=\"Open In Colab\"/></a>"
      ]
    },
    {
      "cell_type": "markdown",
      "metadata": {
        "id": "VRi0XUtXk1uQ"
      },
      "source": [
        "# A Novel Multi head Attention Qunatile LSTM"
      ]
    },
    {
      "cell_type": "code",
      "execution_count": null,
      "metadata": {
        "colab": {
          "base_uri": "https://localhost:8080/"
        },
        "id": "VpmHq8vHknOc",
        "outputId": "11f56c3b-d525-4c2b-fc4e-6f93a4f18f6c"
      },
      "outputs": [
        {
          "name": "stdout",
          "output_type": "stream",
          "text": [
            "Mounted at /content/drive\n"
          ]
        }
      ],
      "source": [
        "# Verbinden mit der Google-Drive\n",
        "from google.colab import drive\n",
        "import os\n",
        "drive.mount('/content/drive')"
      ]
    },
    {
      "cell_type": "code",
      "execution_count": null,
      "metadata": {
        "colab": {
          "base_uri": "https://localhost:8080/"
        },
        "id": "el9oU_pB1v8V",
        "outputId": "8caad7b0-42d8-43b7-e71d-704b296d7f83"
      },
      "outputs": [
        {
          "name": "stdout",
          "output_type": "stream",
          "text": [
            "Requirement already satisfied: tensorflow in /usr/local/lib/python3.11/dist-packages (2.18.0)\n",
            "Requirement already satisfied: absl-py>=1.0.0 in /usr/local/lib/python3.11/dist-packages (from tensorflow) (1.4.0)\n",
            "Requirement already satisfied: astunparse>=1.6.0 in /usr/local/lib/python3.11/dist-packages (from tensorflow) (1.6.3)\n",
            "Requirement already satisfied: flatbuffers>=24.3.25 in /usr/local/lib/python3.11/dist-packages (from tensorflow) (25.2.10)\n",
            "Requirement already satisfied: gast!=0.5.0,!=0.5.1,!=0.5.2,>=0.2.1 in /usr/local/lib/python3.11/dist-packages (from tensorflow) (0.6.0)\n",
            "Requirement already satisfied: google-pasta>=0.1.1 in /usr/local/lib/python3.11/dist-packages (from tensorflow) (0.2.0)\n",
            "Requirement already satisfied: libclang>=13.0.0 in /usr/local/lib/python3.11/dist-packages (from tensorflow) (18.1.1)\n",
            "Requirement already satisfied: opt-einsum>=2.3.2 in /usr/local/lib/python3.11/dist-packages (from tensorflow) (3.4.0)\n",
            "Requirement already satisfied: packaging in /usr/local/lib/python3.11/dist-packages (from tensorflow) (24.2)\n",
            "Requirement already satisfied: protobuf!=4.21.0,!=4.21.1,!=4.21.2,!=4.21.3,!=4.21.4,!=4.21.5,<6.0.0dev,>=3.20.3 in /usr/local/lib/python3.11/dist-packages (from tensorflow) (4.25.6)\n",
            "Requirement already satisfied: requests<3,>=2.21.0 in /usr/local/lib/python3.11/dist-packages (from tensorflow) (2.32.3)\n",
            "Requirement already satisfied: setuptools in /usr/local/lib/python3.11/dist-packages (from tensorflow) (75.1.0)\n",
            "Requirement already satisfied: six>=1.12.0 in /usr/local/lib/python3.11/dist-packages (from tensorflow) (1.17.0)\n",
            "Requirement already satisfied: termcolor>=1.1.0 in /usr/local/lib/python3.11/dist-packages (from tensorflow) (2.5.0)\n",
            "Requirement already satisfied: typing-extensions>=3.6.6 in /usr/local/lib/python3.11/dist-packages (from tensorflow) (4.12.2)\n",
            "Requirement already satisfied: wrapt>=1.11.0 in /usr/local/lib/python3.11/dist-packages (from tensorflow) (1.17.2)\n",
            "Requirement already satisfied: grpcio<2.0,>=1.24.3 in /usr/local/lib/python3.11/dist-packages (from tensorflow) (1.70.0)\n",
            "Requirement already satisfied: tensorboard<2.19,>=2.18 in /usr/local/lib/python3.11/dist-packages (from tensorflow) (2.18.0)\n",
            "Requirement already satisfied: keras>=3.5.0 in /usr/local/lib/python3.11/dist-packages (from tensorflow) (3.8.0)\n",
            "Requirement already satisfied: numpy<2.1.0,>=1.26.0 in /usr/local/lib/python3.11/dist-packages (from tensorflow) (1.26.4)\n",
            "Requirement already satisfied: h5py>=3.11.0 in /usr/local/lib/python3.11/dist-packages (from tensorflow) (3.12.1)\n",
            "Requirement already satisfied: ml-dtypes<0.5.0,>=0.4.0 in /usr/local/lib/python3.11/dist-packages (from tensorflow) (0.4.1)\n",
            "Requirement already satisfied: tensorflow-io-gcs-filesystem>=0.23.1 in /usr/local/lib/python3.11/dist-packages (from tensorflow) (0.37.1)\n",
            "Requirement already satisfied: wheel<1.0,>=0.23.0 in /usr/local/lib/python3.11/dist-packages (from astunparse>=1.6.0->tensorflow) (0.45.1)\n",
            "Requirement already satisfied: rich in /usr/local/lib/python3.11/dist-packages (from keras>=3.5.0->tensorflow) (13.9.4)\n",
            "Requirement already satisfied: namex in /usr/local/lib/python3.11/dist-packages (from keras>=3.5.0->tensorflow) (0.0.8)\n",
            "Requirement already satisfied: optree in /usr/local/lib/python3.11/dist-packages (from keras>=3.5.0->tensorflow) (0.14.0)\n",
            "Requirement already satisfied: charset-normalizer<4,>=2 in /usr/local/lib/python3.11/dist-packages (from requests<3,>=2.21.0->tensorflow) (3.4.1)\n",
            "Requirement already satisfied: idna<4,>=2.5 in /usr/local/lib/python3.11/dist-packages (from requests<3,>=2.21.0->tensorflow) (3.10)\n",
            "Requirement already satisfied: urllib3<3,>=1.21.1 in /usr/local/lib/python3.11/dist-packages (from requests<3,>=2.21.0->tensorflow) (2.3.0)\n",
            "Requirement already satisfied: certifi>=2017.4.17 in /usr/local/lib/python3.11/dist-packages (from requests<3,>=2.21.0->tensorflow) (2025.1.31)\n",
            "Requirement already satisfied: markdown>=2.6.8 in /usr/local/lib/python3.11/dist-packages (from tensorboard<2.19,>=2.18->tensorflow) (3.7)\n",
            "Requirement already satisfied: tensorboard-data-server<0.8.0,>=0.7.0 in /usr/local/lib/python3.11/dist-packages (from tensorboard<2.19,>=2.18->tensorflow) (0.7.2)\n",
            "Requirement already satisfied: werkzeug>=1.0.1 in /usr/local/lib/python3.11/dist-packages (from tensorboard<2.19,>=2.18->tensorflow) (3.1.3)\n",
            "Requirement already satisfied: MarkupSafe>=2.1.1 in /usr/local/lib/python3.11/dist-packages (from werkzeug>=1.0.1->tensorboard<2.19,>=2.18->tensorflow) (3.0.2)\n",
            "Requirement already satisfied: markdown-it-py>=2.2.0 in /usr/local/lib/python3.11/dist-packages (from rich->keras>=3.5.0->tensorflow) (3.0.0)\n",
            "Requirement already satisfied: pygments<3.0.0,>=2.13.0 in /usr/local/lib/python3.11/dist-packages (from rich->keras>=3.5.0->tensorflow) (2.18.0)\n",
            "Requirement already satisfied: mdurl~=0.1 in /usr/local/lib/python3.11/dist-packages (from markdown-it-py>=2.2.0->rich->keras>=3.5.0->tensorflow) (0.1.2)\n",
            "Requirement already satisfied: keras in /usr/local/lib/python3.11/dist-packages (3.8.0)\n",
            "Requirement already satisfied: absl-py in /usr/local/lib/python3.11/dist-packages (from keras) (1.4.0)\n",
            "Requirement already satisfied: numpy in /usr/local/lib/python3.11/dist-packages (from keras) (1.26.4)\n",
            "Requirement already satisfied: rich in /usr/local/lib/python3.11/dist-packages (from keras) (13.9.4)\n",
            "Requirement already satisfied: namex in /usr/local/lib/python3.11/dist-packages (from keras) (0.0.8)\n",
            "Requirement already satisfied: h5py in /usr/local/lib/python3.11/dist-packages (from keras) (3.12.1)\n",
            "Requirement already satisfied: optree in /usr/local/lib/python3.11/dist-packages (from keras) (0.14.0)\n",
            "Requirement already satisfied: ml-dtypes in /usr/local/lib/python3.11/dist-packages (from keras) (0.4.1)\n",
            "Requirement already satisfied: packaging in /usr/local/lib/python3.11/dist-packages (from keras) (24.2)\n",
            "Requirement already satisfied: typing-extensions>=4.5.0 in /usr/local/lib/python3.11/dist-packages (from optree->keras) (4.12.2)\n",
            "Requirement already satisfied: markdown-it-py>=2.2.0 in /usr/local/lib/python3.11/dist-packages (from rich->keras) (3.0.0)\n",
            "Requirement already satisfied: pygments<3.0.0,>=2.13.0 in /usr/local/lib/python3.11/dist-packages (from rich->keras) (2.18.0)\n",
            "Requirement already satisfied: mdurl~=0.1 in /usr/local/lib/python3.11/dist-packages (from markdown-it-py>=2.2.0->rich->keras) (0.1.2)\n"
          ]
        }
      ],
      "source": [
        "!pip install tensorflow\n",
        "!pip install keras"
      ]
    },
    {
      "cell_type": "code",
      "execution_count": null,
      "metadata": {
        "id": "6oWkMTFv10Wt"
      },
      "outputs": [],
      "source": [
        "import tensorflow as tf\n",
        "import keras\n",
        "import pandas as pd\n",
        "import numpy as np\n",
        "import matplotlib.pyplot as plt\n",
        "\n",
        "from keras.models import Sequential, Model\n",
        "from keras.layers import Dense, Dropout, LSTM, Bidirectional, Input\n",
        "from sklearn.preprocessing import MinMaxScaler\n",
        "from sklearn.metrics import mean_squared_error, mean_absolute_error, r2_score"
      ]
    },
    {
      "cell_type": "markdown",
      "metadata": {
        "id": "gTFHaoKf11Hb"
      },
      "source": [
        "## Funktionen:"
      ]
    },
    {
      "cell_type": "code",
      "execution_count": null,
      "metadata": {
        "id": "3GBMjF5f14KM"
      },
      "outputs": [],
      "source": [
        "# Pfad zur CSV-Datei auf Google-Drive\n",
        "name_Messwerte = 'Messdaten_CAMS_GHI.csv'\n",
        "name_Vorhersage = 'Vorhersagedaten_CAMS_VarIdx.csv'\n",
        "folder_import = '/content/drive/My Drive/Colab_Notebooks/Clean_Data/'"
      ]
    },
    {
      "cell_type": "code",
      "execution_count": null,
      "metadata": {
        "id": "328bLyxp15uW"
      },
      "outputs": [],
      "source": [
        "# Pfad zum Abspeichern des trainierten Modells in Google-Drive\n",
        "\n",
        "model_path = '/content/drive/My Drive/Colab_Notebooks/LSTM_Model/full_model.keras'\n",
        "weights_path = '/content/drive/My Drive/Colab_Notebooks/LSTM_Model/model_weights.weights.h5'\n",
        "\n",
        "# Pfad für den Testdatensatz\n",
        "\n",
        "testdata_path_X = '/content/drive/My Drive/Colab_Notebooks/LSTM_Model/model_testdata_X.csv'\n",
        "testdata_path_Y = '/content/drive/My Drive/Colab_Notebooks/LSTM_Model/model_testdata_Y.csv'\n",
        "\n",
        "# Pfad für die Logdatei\n",
        "\n",
        "text_file_path = \"/content/drive/MyDrive/Colab_Notebooks/LSTM_Model/model_results.txt\""
      ]
    },
    {
      "cell_type": "code",
      "execution_count": null,
      "metadata": {
        "id": "FL2LlazU16-k"
      },
      "outputs": [],
      "source": [
        "# Import der Messdaten\n",
        "df_Messdaten = pd.read_csv(folder_import + name_Messwerte)"
      ]
    },
    {
      "cell_type": "code",
      "execution_count": null,
      "metadata": {
        "id": "3tLhHHbS1-h4"
      },
      "outputs": [],
      "source": [
        "# Import der Vorhersagedaten\n",
        "df_Vorhersage = pd.read_csv(folder_import + name_Vorhersage)"
      ]
    },
    {
      "cell_type": "code",
      "execution_count": null,
      "metadata": {
        "id": "5jBvsOYC2AB_"
      },
      "outputs": [],
      "source": [
        "# Konvertiere die Zeitspalten in ein gemeinsames Format und führe einen Merge der Datensätze durch\n",
        "df_Messdaten['Datetime'] = pd.to_datetime(df_Messdaten['Datetime'])\n",
        "df_Vorhersage['Datetime'] = pd.to_datetime(df_Vorhersage['Datetime'])"
      ]
    },
    {
      "cell_type": "code",
      "execution_count": null,
      "metadata": {
        "colab": {
          "base_uri": "https://localhost:8080/"
        },
        "id": "5paIaqq82Baq",
        "outputId": "603cc882-92c7-451d-b158-d38824471067"
      },
      "outputs": [
        {
          "data": {
            "text/plain": [
              "Index(['Datetime', 'Observation_period', 'Clear_sky_GHI', 'Clear_sky_BHI',\n",
              "       'GHI', 'BHI', 'UVI', 'UVA', 'UVB', 'erythem', 'Datum', 'Uhrzeit',\n",
              "       'Messzeitpunkt', 'ghi', 'Dif', 'Glo_SPLite', 'Dir', 'Temp',\n",
              "       'DiffGreater2', 'SZA', 'time_sin', 'time_cos', 'date_sin', 'date_cos',\n",
              "       'Date', 'Hour'],\n",
              "      dtype='object')"
            ]
          },
          "execution_count": 9,
          "metadata": {},
          "output_type": "execute_result"
        }
      ],
      "source": [
        "# Spalten in den Messdaten\n",
        "df_Messdaten.columns"
      ]
    },
    {
      "cell_type": "markdown",
      "metadata": {
        "id": "_SkewNmV2CdL"
      },
      "source": [
        "## Funktionsdefinition:"
      ]
    },
    {
      "cell_type": "code",
      "execution_count": null,
      "metadata": {
        "id": "LwDXjZgp2FU0"
      },
      "outputs": [],
      "source": [
        "def quantile_loss(q, y_true, y_pred):\n",
        "    \"\"\"Berechnet den Pinball Loss für mehrere Quantile.\"\"\"\n",
        "    e = y_true - y_pred\n",
        "    return tf.reduce_mean(tf.maximum(q * e, (q - 1) * e), axis=-1)  # Reduziere entlang der letzten Achse"
      ]
    },
    {
      "cell_type": "code",
      "execution_count": null,
      "metadata": {
        "id": "dY18d0c_2G8J"
      },
      "outputs": [],
      "source": [
        "def multi_quantile_loss(y_true, y_pred):\n",
        "    losses = []\n",
        "    for i, q in enumerate(quantiles):\n",
        "        losses.append(quantile_loss(q, y_true[:, i], y_pred[:, i]))\n",
        "    return tf.reduce_mean(losses)"
      ]
    },
    {
      "cell_type": "markdown",
      "metadata": {
        "id": "1hVXxnXz2IOM"
      },
      "source": [
        "## Config:"
      ]
    },
    {
      "cell_type": "code",
      "execution_count": null,
      "metadata": {
        "id": "ddCYscrf2KsW"
      },
      "outputs": [],
      "source": [
        "model_name = \"LSTM_mit_Vorhersagewerten_1Step\""
      ]
    },
    {
      "cell_type": "code",
      "execution_count": null,
      "metadata": {
        "id": "q70UvBBJ2Mdc"
      },
      "outputs": [],
      "source": [
        "# Beispiel: Nur 'SZA' als Feature und 'UVI' als Label\n",
        "columns_X = ['Clear_sky_GHI', 'Clear_sky_BHI', 'GHI', 'BHI', 'Temp', 'SZA', 'time_sin', 'time_cos', 'date_sin', 'date_cos']\n",
        "columns_y = ['UVI']"
      ]
    },
    {
      "cell_type": "code",
      "execution_count": null,
      "metadata": {
        "id": "5p9PXHR82NtA"
      },
      "outputs": [],
      "source": [
        "quantiles = [0.1, 0.25, 0.5, 0.75, 0.9]"
      ]
    },
    {
      "cell_type": "code",
      "execution_count": null,
      "metadata": {
        "id": "mV8wpdWk2Pqp"
      },
      "outputs": [],
      "source": [
        "model_config = {\n",
        "    \"units_1\": 64,\n",
        "    \"units_2\": 32,\n",
        "    \"dropout_rate\": 0.1,\n",
        "    \"final_activation\": \"linear\"\n",
        "}"
      ]
    },
    {
      "cell_type": "code",
      "execution_count": null,
      "metadata": {
        "id": "K9ghAt7G2RbC"
      },
      "outputs": [],
      "source": [
        "training_config = {\n",
        "    \"loss\": multi_quantile_loss,\n",
        "    \"optimizer\": \"adam\",\n",
        "    \"metrics\": [\n",
        "        \"mse\",\n",
        "        \"mae\",\n",
        "        \"mape\",\n",
        "        keras.metrics.RootMeanSquaredError(name=\"rmse\")\n",
        "    ]\n",
        "}"
      ]
    },
    {
      "cell_type": "code",
      "execution_count": null,
      "metadata": {
        "id": "ANYtSDYC2S_Q"
      },
      "outputs": [],
      "source": [
        "fit_config = {\n",
        "    \"epochs\": 40,\n",
        "    \"batch_size\": 64,\n",
        "    \"sequence_length\": 64\n",
        "}"
      ]
    },
    {
      "cell_type": "markdown",
      "metadata": {
        "id": "gWcGSekT4vGU"
      },
      "source": [
        "## Setup:"
      ]
    },
    {
      "cell_type": "code",
      "execution_count": null,
      "metadata": {
        "colab": {
          "base_uri": "https://localhost:8080/"
        },
        "id": "lnv8y9vC4um6",
        "outputId": "1d4b017b-50aa-4710-a3e7-6311411699ff"
      },
      "outputs": [
        {
          "name": "stdout",
          "output_type": "stream",
          "text": [
            "Train: (77386, 26)\n",
            "Val: (9673, 26)\n",
            "Test: (9673, 26)\n"
          ]
        }
      ],
      "source": [
        "df = df_Messdaten.copy()  # deine Messdaten\n",
        "\n",
        "total_length = len(df)\n",
        "train_size   = round(total_length * 0.80)\n",
        "val_size     = round(total_length * 0.10)\n",
        "test_size    = total_length - train_size - val_size  # restliche 10%\n",
        "\n",
        "# Skaliere X und Y separat (immer zuerst nur auf dem Trainingsbereich fitten!)\n",
        "scaler_X = MinMaxScaler()\n",
        "scaler_y = MinMaxScaler()\n",
        "\n",
        "# 1) Nur Trainingsdatensatz extrahieren\n",
        "train_df = df.iloc[:train_size]\n",
        "# Fit des Scalers NUR auf Trainingsdaten\n",
        "train_df = df.iloc[:train_size].copy()\n",
        "train_df.loc[:, columns_X] = scaler_X.fit_transform(train_df[columns_X])\n",
        "train_df.loc[:, columns_y] = scaler_y.fit_transform(train_df[columns_y])\n",
        "\n",
        "# 2) Für Validation\n",
        "val_df = df.iloc[train_size : train_size + val_size].copy()\n",
        "val_df[columns_X] = scaler_X.transform(val_df[columns_X])\n",
        "val_df[columns_y] = scaler_y.transform(val_df[columns_y])\n",
        "\n",
        "# 3) Für Test\n",
        "test_df = df.iloc[train_size + val_size :].copy()\n",
        "test_df[columns_X] = scaler_X.transform(test_df[columns_X])\n",
        "test_df[columns_y] = scaler_y.transform(test_df[columns_y])\n",
        "\n",
        "# Kontrolle\n",
        "print(\"Train:\", train_df.shape)\n",
        "print(\"Val:\", val_df.shape)\n",
        "print(\"Test:\", test_df.shape)"
      ]
    },
    {
      "cell_type": "code",
      "execution_count": null,
      "metadata": {
        "id": "uS4VVRmV41SP"
      },
      "outputs": [],
      "source": [
        "def create_sequence_OneStepAhead(X, y, seq_length):\n",
        "    sequences = []\n",
        "    labels = []\n",
        "    # bis len(X)-1, damit \"stop_idx + 1\" nicht out-of-range ist\n",
        "    for stop_idx in range(seq_length, len(X)-1):\n",
        "        x_seq = X.iloc[stop_idx-seq_length:stop_idx].values\n",
        "        y_label = y.iloc[stop_idx + 1]  # => label ist der nächste Zeitschritt\n",
        "        sequences.append(x_seq)\n",
        "        labels.append(y_label)\n",
        "    return np.array(sequences), np.array(labels)"
      ]
    },
    {
      "cell_type": "code",
      "execution_count": null,
      "metadata": {
        "colab": {
          "base_uri": "https://localhost:8080/"
        },
        "id": "McbQJmDa43sT",
        "outputId": "7a770e57-3360-4333-d338-4708428aae30"
      },
      "outputs": [
        {
          "name": "stdout",
          "output_type": "stream",
          "text": [
            "X_train_seq: (77321, 64, 10) y_train_seq: (77321, 5)\n",
            "X_val_seq: (9608, 64, 10) y_val_seq: (9608, 5)\n",
            "X_test_seq: (9608, 64, 10) y_test_seq: (9608, 5)\n"
          ]
        }
      ],
      "source": [
        "sequence_len = fit_config[\"sequence_length\"]\n",
        "\n",
        "X_train_seq, y_train_seq = create_sequence_OneStepAhead(train_df[columns_X], train_df[columns_y], sequence_len)\n",
        "X_val_seq,   y_val_seq   = create_sequence_OneStepAhead(val_df[columns_X],   val_df[columns_y],   sequence_len)\n",
        "X_test_seq,  y_test_seq  = create_sequence_OneStepAhead(test_df[columns_X],  test_df[columns_y],  sequence_len)\n",
        "\n",
        "y_train_seq = np.tile(y_train_seq, (1, len(quantiles)))  # (77369, 5)\n",
        "y_val_seq   = np.tile(y_val_seq, (1, len(quantiles)))\n",
        "y_test_seq  = np.tile(y_test_seq, (1, len(quantiles)))\n",
        "\n",
        "print(\"X_train_seq:\", X_train_seq.shape, \"y_train_seq:\", y_train_seq.shape)\n",
        "print(\"X_val_seq:\", X_val_seq.shape,\"y_val_seq:\", y_val_seq.shape)\n",
        "print(\"X_test_seq:\", X_test_seq.shape,\"y_test_seq:\",  y_test_seq.shape)"
      ]
    },
    {
      "cell_type": "code",
      "execution_count": null,
      "metadata": {
        "id": "B0IdwFiY59Mf"
      },
      "outputs": [],
      "source": [
        "y_train_list = [y_train_seq[:, i] for i in range(len(quantiles))]\n",
        "y_val_list   = [y_val_seq[:,   i] for i in range(len(quantiles))]\n",
        "y_test_list  = [y_test_seq[:,  i] for i in range(len(quantiles))]"
      ]
    },
    {
      "cell_type": "markdown",
      "metadata": {
        "id": "Ll-c7KsZ6E6f"
      },
      "source": [
        "## Model Definition:"
      ]
    },
    {
      "cell_type": "code",
      "execution_count": null,
      "metadata": {
        "id": "AFDHc-fc6AjJ"
      },
      "outputs": [],
      "source": [
        "main_input = Input(shape=(sequence_len, len(columns_X)), name=\"main_input\")\n",
        "\n",
        "# Beispielhafte LSTM-Basis (2 LSTM-Schichten + Dropout)\n",
        "x = LSTM(model_config[\"units_1\"], return_sequences=True)(main_input)\n",
        "x = Dropout(model_config[\"dropout_rate\"])(x)\n",
        "x = LSTM(model_config[\"units_2\"], return_sequences=False)(x)\n",
        "x = Dropout(model_config[\"dropout_rate\"])(x)\n",
        "\n",
        "# Separate Heads pro Quantil\n",
        "heads = []\n",
        "for i, q in enumerate(quantiles):\n",
        "    out = Dense(1, activation=model_config[\"final_activation\"], name=f\"quantile_{int(q*100)}\")(x)\n",
        "    heads.append(out)"
      ]
    },
    {
      "cell_type": "code",
      "execution_count": null,
      "metadata": {
        "id": "Jtmg0kC66OhK"
      },
      "outputs": [],
      "source": [
        "model = Model(inputs=main_input, outputs=heads)"
      ]
    },
    {
      "cell_type": "code",
      "execution_count": null,
      "metadata": {
        "id": "nEHI81ce6QWt"
      },
      "outputs": [],
      "source": [
        "losses = {}\n",
        "for i, q in enumerate(quantiles):\n",
        "    # \"quantile_10\", \"quantile_25\", usw.\n",
        "    key_name = f\"quantile_{int(q*100)}\"\n",
        "    losses[key_name] = (lambda y_true, y_pred, q=q: quantile_loss(q, y_true, y_pred))"
      ]
    },
    {
      "cell_type": "code",
      "execution_count": null,
      "metadata": {
        "id": "-gy4YfXg6R2y"
      },
      "outputs": [],
      "source": [
        "metrics_dict = {}\n",
        "for q in quantiles:\n",
        "    key_name = f\"quantile_{int(q*100)}\"\n",
        "    metrics_dict[key_name] = [\n",
        "        \"mse\",\n",
        "        \"mae\",\n",
        "        \"mape\",\n",
        "        keras.metrics.RootMeanSquaredError(name=\"rmse\")\n",
        "    ]"
      ]
    },
    {
      "cell_type": "code",
      "execution_count": null,
      "metadata": {
        "id": "YgcHO9LW6TNG"
      },
      "outputs": [],
      "source": [
        "model.compile(\n",
        "    optimizer=training_config[\"optimizer\"],\n",
        "    loss=losses,\n",
        "    metrics=metrics_dict\n",
        ")"
      ]
    },
    {
      "cell_type": "code",
      "execution_count": null,
      "metadata": {
        "colab": {
          "base_uri": "https://localhost:8080/",
          "height": 476
        },
        "id": "YS6pYXNV6Ugu",
        "outputId": "e52433d0-bfd5-4ff7-810d-4c2a6f007d79"
      },
      "outputs": [
        {
          "data": {
            "text/html": [
              "<pre style=\"white-space:pre;overflow-x:auto;line-height:normal;font-family:Menlo,'DejaVu Sans Mono',consolas,'Courier New',monospace\"><span style=\"font-weight: bold\">Model: \"functional\"</span>\n",
              "</pre>\n"
            ],
            "text/plain": [
              "\u001b[1mModel: \"functional\"\u001b[0m\n"
            ]
          },
          "metadata": {},
          "output_type": "display_data"
        },
        {
          "data": {
            "text/html": [
              "<pre style=\"white-space:pre;overflow-x:auto;line-height:normal;font-family:Menlo,'DejaVu Sans Mono',consolas,'Courier New',monospace\">┏━━━━━━━━━━━━━━━━━━━━━━━━━━━┳━━━━━━━━━━━━━━━━━━━━━━━━┳━━━━━━━━━━━━━━━━┳━━━━━━━━━━━━━━━━━━━━━━━━┓\n",
              "┃<span style=\"font-weight: bold\"> Layer (type)              </span>┃<span style=\"font-weight: bold\"> Output Shape           </span>┃<span style=\"font-weight: bold\">        Param # </span>┃<span style=\"font-weight: bold\"> Connected to           </span>┃\n",
              "┡━━━━━━━━━━━━━━━━━━━━━━━━━━━╇━━━━━━━━━━━━━━━━━━━━━━━━╇━━━━━━━━━━━━━━━━╇━━━━━━━━━━━━━━━━━━━━━━━━┩\n",
              "│ main_input (<span style=\"color: #0087ff; text-decoration-color: #0087ff\">InputLayer</span>)   │ (<span style=\"color: #00d7ff; text-decoration-color: #00d7ff\">None</span>, <span style=\"color: #00af00; text-decoration-color: #00af00\">64</span>, <span style=\"color: #00af00; text-decoration-color: #00af00\">10</span>)         │              <span style=\"color: #00af00; text-decoration-color: #00af00\">0</span> │ -                      │\n",
              "├───────────────────────────┼────────────────────────┼────────────────┼────────────────────────┤\n",
              "│ lstm (<span style=\"color: #0087ff; text-decoration-color: #0087ff\">LSTM</span>)               │ (<span style=\"color: #00d7ff; text-decoration-color: #00d7ff\">None</span>, <span style=\"color: #00af00; text-decoration-color: #00af00\">64</span>, <span style=\"color: #00af00; text-decoration-color: #00af00\">64</span>)         │         <span style=\"color: #00af00; text-decoration-color: #00af00\">19,200</span> │ main_input[<span style=\"color: #00af00; text-decoration-color: #00af00\">0</span>][<span style=\"color: #00af00; text-decoration-color: #00af00\">0</span>]       │\n",
              "├───────────────────────────┼────────────────────────┼────────────────┼────────────────────────┤\n",
              "│ dropout (<span style=\"color: #0087ff; text-decoration-color: #0087ff\">Dropout</span>)         │ (<span style=\"color: #00d7ff; text-decoration-color: #00d7ff\">None</span>, <span style=\"color: #00af00; text-decoration-color: #00af00\">64</span>, <span style=\"color: #00af00; text-decoration-color: #00af00\">64</span>)         │              <span style=\"color: #00af00; text-decoration-color: #00af00\">0</span> │ lstm[<span style=\"color: #00af00; text-decoration-color: #00af00\">0</span>][<span style=\"color: #00af00; text-decoration-color: #00af00\">0</span>]             │\n",
              "├───────────────────────────┼────────────────────────┼────────────────┼────────────────────────┤\n",
              "│ lstm_1 (<span style=\"color: #0087ff; text-decoration-color: #0087ff\">LSTM</span>)             │ (<span style=\"color: #00d7ff; text-decoration-color: #00d7ff\">None</span>, <span style=\"color: #00af00; text-decoration-color: #00af00\">32</span>)             │         <span style=\"color: #00af00; text-decoration-color: #00af00\">12,416</span> │ dropout[<span style=\"color: #00af00; text-decoration-color: #00af00\">0</span>][<span style=\"color: #00af00; text-decoration-color: #00af00\">0</span>]          │\n",
              "├───────────────────────────┼────────────────────────┼────────────────┼────────────────────────┤\n",
              "│ dropout_1 (<span style=\"color: #0087ff; text-decoration-color: #0087ff\">Dropout</span>)       │ (<span style=\"color: #00d7ff; text-decoration-color: #00d7ff\">None</span>, <span style=\"color: #00af00; text-decoration-color: #00af00\">32</span>)             │              <span style=\"color: #00af00; text-decoration-color: #00af00\">0</span> │ lstm_1[<span style=\"color: #00af00; text-decoration-color: #00af00\">0</span>][<span style=\"color: #00af00; text-decoration-color: #00af00\">0</span>]           │\n",
              "├───────────────────────────┼────────────────────────┼────────────────┼────────────────────────┤\n",
              "│ quantile_10 (<span style=\"color: #0087ff; text-decoration-color: #0087ff\">Dense</span>)       │ (<span style=\"color: #00d7ff; text-decoration-color: #00d7ff\">None</span>, <span style=\"color: #00af00; text-decoration-color: #00af00\">1</span>)              │             <span style=\"color: #00af00; text-decoration-color: #00af00\">33</span> │ dropout_1[<span style=\"color: #00af00; text-decoration-color: #00af00\">0</span>][<span style=\"color: #00af00; text-decoration-color: #00af00\">0</span>]        │\n",
              "├───────────────────────────┼────────────────────────┼────────────────┼────────────────────────┤\n",
              "│ quantile_25 (<span style=\"color: #0087ff; text-decoration-color: #0087ff\">Dense</span>)       │ (<span style=\"color: #00d7ff; text-decoration-color: #00d7ff\">None</span>, <span style=\"color: #00af00; text-decoration-color: #00af00\">1</span>)              │             <span style=\"color: #00af00; text-decoration-color: #00af00\">33</span> │ dropout_1[<span style=\"color: #00af00; text-decoration-color: #00af00\">0</span>][<span style=\"color: #00af00; text-decoration-color: #00af00\">0</span>]        │\n",
              "├───────────────────────────┼────────────────────────┼────────────────┼────────────────────────┤\n",
              "│ quantile_50 (<span style=\"color: #0087ff; text-decoration-color: #0087ff\">Dense</span>)       │ (<span style=\"color: #00d7ff; text-decoration-color: #00d7ff\">None</span>, <span style=\"color: #00af00; text-decoration-color: #00af00\">1</span>)              │             <span style=\"color: #00af00; text-decoration-color: #00af00\">33</span> │ dropout_1[<span style=\"color: #00af00; text-decoration-color: #00af00\">0</span>][<span style=\"color: #00af00; text-decoration-color: #00af00\">0</span>]        │\n",
              "├───────────────────────────┼────────────────────────┼────────────────┼────────────────────────┤\n",
              "│ quantile_75 (<span style=\"color: #0087ff; text-decoration-color: #0087ff\">Dense</span>)       │ (<span style=\"color: #00d7ff; text-decoration-color: #00d7ff\">None</span>, <span style=\"color: #00af00; text-decoration-color: #00af00\">1</span>)              │             <span style=\"color: #00af00; text-decoration-color: #00af00\">33</span> │ dropout_1[<span style=\"color: #00af00; text-decoration-color: #00af00\">0</span>][<span style=\"color: #00af00; text-decoration-color: #00af00\">0</span>]        │\n",
              "├───────────────────────────┼────────────────────────┼────────────────┼────────────────────────┤\n",
              "│ quantile_90 (<span style=\"color: #0087ff; text-decoration-color: #0087ff\">Dense</span>)       │ (<span style=\"color: #00d7ff; text-decoration-color: #00d7ff\">None</span>, <span style=\"color: #00af00; text-decoration-color: #00af00\">1</span>)              │             <span style=\"color: #00af00; text-decoration-color: #00af00\">33</span> │ dropout_1[<span style=\"color: #00af00; text-decoration-color: #00af00\">0</span>][<span style=\"color: #00af00; text-decoration-color: #00af00\">0</span>]        │\n",
              "└───────────────────────────┴────────────────────────┴────────────────┴────────────────────────┘\n",
              "</pre>\n"
            ],
            "text/plain": [
              "┏━━━━━━━━━━━━━━━━━━━━━━━━━━━┳━━━━━━━━━━━━━━━━━━━━━━━━┳━━━━━━━━━━━━━━━━┳━━━━━━━━━━━━━━━━━━━━━━━━┓\n",
              "┃\u001b[1m \u001b[0m\u001b[1mLayer (type)             \u001b[0m\u001b[1m \u001b[0m┃\u001b[1m \u001b[0m\u001b[1mOutput Shape          \u001b[0m\u001b[1m \u001b[0m┃\u001b[1m \u001b[0m\u001b[1m       Param #\u001b[0m\u001b[1m \u001b[0m┃\u001b[1m \u001b[0m\u001b[1mConnected to          \u001b[0m\u001b[1m \u001b[0m┃\n",
              "┡━━━━━━━━━━━━━━━━━━━━━━━━━━━╇━━━━━━━━━━━━━━━━━━━━━━━━╇━━━━━━━━━━━━━━━━╇━━━━━━━━━━━━━━━━━━━━━━━━┩\n",
              "│ main_input (\u001b[38;5;33mInputLayer\u001b[0m)   │ (\u001b[38;5;45mNone\u001b[0m, \u001b[38;5;34m64\u001b[0m, \u001b[38;5;34m10\u001b[0m)         │              \u001b[38;5;34m0\u001b[0m │ -                      │\n",
              "├───────────────────────────┼────────────────────────┼────────────────┼────────────────────────┤\n",
              "│ lstm (\u001b[38;5;33mLSTM\u001b[0m)               │ (\u001b[38;5;45mNone\u001b[0m, \u001b[38;5;34m64\u001b[0m, \u001b[38;5;34m64\u001b[0m)         │         \u001b[38;5;34m19,200\u001b[0m │ main_input[\u001b[38;5;34m0\u001b[0m][\u001b[38;5;34m0\u001b[0m]       │\n",
              "├───────────────────────────┼────────────────────────┼────────────────┼────────────────────────┤\n",
              "│ dropout (\u001b[38;5;33mDropout\u001b[0m)         │ (\u001b[38;5;45mNone\u001b[0m, \u001b[38;5;34m64\u001b[0m, \u001b[38;5;34m64\u001b[0m)         │              \u001b[38;5;34m0\u001b[0m │ lstm[\u001b[38;5;34m0\u001b[0m][\u001b[38;5;34m0\u001b[0m]             │\n",
              "├───────────────────────────┼────────────────────────┼────────────────┼────────────────────────┤\n",
              "│ lstm_1 (\u001b[38;5;33mLSTM\u001b[0m)             │ (\u001b[38;5;45mNone\u001b[0m, \u001b[38;5;34m32\u001b[0m)             │         \u001b[38;5;34m12,416\u001b[0m │ dropout[\u001b[38;5;34m0\u001b[0m][\u001b[38;5;34m0\u001b[0m]          │\n",
              "├───────────────────────────┼────────────────────────┼────────────────┼────────────────────────┤\n",
              "│ dropout_1 (\u001b[38;5;33mDropout\u001b[0m)       │ (\u001b[38;5;45mNone\u001b[0m, \u001b[38;5;34m32\u001b[0m)             │              \u001b[38;5;34m0\u001b[0m │ lstm_1[\u001b[38;5;34m0\u001b[0m][\u001b[38;5;34m0\u001b[0m]           │\n",
              "├───────────────────────────┼────────────────────────┼────────────────┼────────────────────────┤\n",
              "│ quantile_10 (\u001b[38;5;33mDense\u001b[0m)       │ (\u001b[38;5;45mNone\u001b[0m, \u001b[38;5;34m1\u001b[0m)              │             \u001b[38;5;34m33\u001b[0m │ dropout_1[\u001b[38;5;34m0\u001b[0m][\u001b[38;5;34m0\u001b[0m]        │\n",
              "├───────────────────────────┼────────────────────────┼────────────────┼────────────────────────┤\n",
              "│ quantile_25 (\u001b[38;5;33mDense\u001b[0m)       │ (\u001b[38;5;45mNone\u001b[0m, \u001b[38;5;34m1\u001b[0m)              │             \u001b[38;5;34m33\u001b[0m │ dropout_1[\u001b[38;5;34m0\u001b[0m][\u001b[38;5;34m0\u001b[0m]        │\n",
              "├───────────────────────────┼────────────────────────┼────────────────┼────────────────────────┤\n",
              "│ quantile_50 (\u001b[38;5;33mDense\u001b[0m)       │ (\u001b[38;5;45mNone\u001b[0m, \u001b[38;5;34m1\u001b[0m)              │             \u001b[38;5;34m33\u001b[0m │ dropout_1[\u001b[38;5;34m0\u001b[0m][\u001b[38;5;34m0\u001b[0m]        │\n",
              "├───────────────────────────┼────────────────────────┼────────────────┼────────────────────────┤\n",
              "│ quantile_75 (\u001b[38;5;33mDense\u001b[0m)       │ (\u001b[38;5;45mNone\u001b[0m, \u001b[38;5;34m1\u001b[0m)              │             \u001b[38;5;34m33\u001b[0m │ dropout_1[\u001b[38;5;34m0\u001b[0m][\u001b[38;5;34m0\u001b[0m]        │\n",
              "├───────────────────────────┼────────────────────────┼────────────────┼────────────────────────┤\n",
              "│ quantile_90 (\u001b[38;5;33mDense\u001b[0m)       │ (\u001b[38;5;45mNone\u001b[0m, \u001b[38;5;34m1\u001b[0m)              │             \u001b[38;5;34m33\u001b[0m │ dropout_1[\u001b[38;5;34m0\u001b[0m][\u001b[38;5;34m0\u001b[0m]        │\n",
              "└───────────────────────────┴────────────────────────┴────────────────┴────────────────────────┘\n"
            ]
          },
          "metadata": {},
          "output_type": "display_data"
        },
        {
          "data": {
            "text/html": [
              "<pre style=\"white-space:pre;overflow-x:auto;line-height:normal;font-family:Menlo,'DejaVu Sans Mono',consolas,'Courier New',monospace\"><span style=\"font-weight: bold\"> Total params: </span><span style=\"color: #00af00; text-decoration-color: #00af00\">31,781</span> (124.14 KB)\n",
              "</pre>\n"
            ],
            "text/plain": [
              "\u001b[1m Total params: \u001b[0m\u001b[38;5;34m31,781\u001b[0m (124.14 KB)\n"
            ]
          },
          "metadata": {},
          "output_type": "display_data"
        },
        {
          "data": {
            "text/html": [
              "<pre style=\"white-space:pre;overflow-x:auto;line-height:normal;font-family:Menlo,'DejaVu Sans Mono',consolas,'Courier New',monospace\"><span style=\"font-weight: bold\"> Trainable params: </span><span style=\"color: #00af00; text-decoration-color: #00af00\">31,781</span> (124.14 KB)\n",
              "</pre>\n"
            ],
            "text/plain": [
              "\u001b[1m Trainable params: \u001b[0m\u001b[38;5;34m31,781\u001b[0m (124.14 KB)\n"
            ]
          },
          "metadata": {},
          "output_type": "display_data"
        },
        {
          "data": {
            "text/html": [
              "<pre style=\"white-space:pre;overflow-x:auto;line-height:normal;font-family:Menlo,'DejaVu Sans Mono',consolas,'Courier New',monospace\"><span style=\"font-weight: bold\"> Non-trainable params: </span><span style=\"color: #00af00; text-decoration-color: #00af00\">0</span> (0.00 B)\n",
              "</pre>\n"
            ],
            "text/plain": [
              "\u001b[1m Non-trainable params: \u001b[0m\u001b[38;5;34m0\u001b[0m (0.00 B)\n"
            ]
          },
          "metadata": {},
          "output_type": "display_data"
        }
      ],
      "source": [
        "model.summary()"
      ]
    },
    {
      "cell_type": "code",
      "execution_count": null,
      "metadata": {
        "colab": {
          "background_save": true,
          "base_uri": "https://localhost:8080/"
        },
        "id": "o5ZpzCDr6Vx9",
        "outputId": "7786a0d9-2a7c-486c-b2a2-913d9a928265"
      },
      "outputs": [
        {
          "name": "stdout",
          "output_type": "stream",
          "text": [
            "Epoch 1/40\n",
            "\u001b[1m1209/1209\u001b[0m \u001b[32m━━━━━━━━━━━━━━━━━━━━\u001b[0m\u001b[37m\u001b[0m \u001b[1m53s\u001b[0m 36ms/step - loss: 0.0755 - quantile_10_loss: 0.0086 - quantile_10_mae: 0.0699 - quantile_10_mape: 9430.5488 - quantile_10_mse: 0.0144 - quantile_10_rmse: 0.1159 - quantile_25_loss: 0.0154 - quantile_25_mae: 0.0490 - quantile_25_mape: 8733.8975 - quantile_25_mse: 0.0086 - quantile_25_rmse: 0.0881 - quantile_50_loss: 0.0204 - quantile_50_mae: 0.0408 - quantile_50_mape: 5032.4980 - quantile_50_mse: 0.0056 - quantile_50_rmse: 0.0709 - quantile_75_loss: 0.0187 - quantile_75_mae: 0.0509 - quantile_75_mape: 5343.9219 - quantile_75_mse: 0.0077 - quantile_75_rmse: 0.0833 - quantile_90_loss: 0.0124 - quantile_90_mae: 0.0707 - quantile_90_mape: 4918.6270 - quantile_90_mse: 0.0126 - quantile_90_rmse: 0.1088 - val_loss: 0.0725 - val_quantile_10_loss: 0.0101 - val_quantile_10_mae: 0.0735 - val_quantile_10_mape: 42.3756 - val_quantile_10_mse: 0.0117 - val_quantile_10_rmse: 0.1084 - val_quantile_25_loss: 0.0172 - val_quantile_25_mae: 0.0490 - val_quantile_25_mape: 34.0851 - val_quantile_25_mse: 0.0060 - val_quantile_25_rmse: 0.0777 - val_quantile_50_loss: 0.0207 - val_quantile_50_mae: 0.0407 - val_quantile_50_mape: 48.8228 - val_quantile_50_mse: 0.0047 - val_quantile_50_rmse: 0.0686 - val_quantile_75_loss: 0.0163 - val_quantile_75_mae: 0.0487 - val_quantile_75_mape: 76.1712 - val_quantile_75_mse: 0.0066 - val_quantile_75_rmse: 0.0813 - val_quantile_90_loss: 0.0094 - val_quantile_90_mae: 0.0757 - val_quantile_90_mape: 113.3269 - val_quantile_90_mse: 0.0131 - val_quantile_90_rmse: 0.1146\n",
            "Epoch 2/40\n",
            "\u001b[1m1209/1209\u001b[0m \u001b[32m━━━━━━━━━━━━━━━━━━━━\u001b[0m\u001b[37m\u001b[0m \u001b[1m78s\u001b[0m 36ms/step - loss: 0.0446 - quantile_10_loss: 0.0056 - quantile_10_mae: 0.0434 - quantile_10_mape: 3091.4316 - quantile_10_mse: 0.0059 - quantile_10_rmse: 0.0765 - quantile_25_loss: 0.0099 - quantile_25_mae: 0.0305 - quantile_25_mape: 2538.0864 - quantile_25_mse: 0.0033 - quantile_25_rmse: 0.0572 - quantile_50_loss: 0.0126 - quantile_50_mae: 0.0252 - quantile_50_mape: 1906.7223 - quantile_50_mse: 0.0023 - quantile_50_rmse: 0.0482 - quantile_75_loss: 0.0103 - quantile_75_mae: 0.0303 - quantile_75_mape: 3361.9749 - quantile_75_mse: 0.0031 - quantile_75_rmse: 0.0559 - quantile_90_loss: 0.0061 - quantile_90_mae: 0.0451 - quantile_90_mape: 4859.6289 - quantile_90_mse: 0.0061 - quantile_90_rmse: 0.0783 - val_loss: 0.0705 - val_quantile_10_loss: 0.0097 - val_quantile_10_mae: 0.0712 - val_quantile_10_mape: 62.9838 - val_quantile_10_mse: 0.0108 - val_quantile_10_rmse: 0.1041 - val_quantile_25_loss: 0.0163 - val_quantile_25_mae: 0.0487 - val_quantile_25_mape: 36.3747 - val_quantile_25_mse: 0.0062 - val_quantile_25_rmse: 0.0787 - val_quantile_50_loss: 0.0201 - val_quantile_50_mae: 0.0396 - val_quantile_50_mape: 33.9695 - val_quantile_50_mse: 0.0047 - val_quantile_50_rmse: 0.0686 - val_quantile_75_loss: 0.0160 - val_quantile_75_mae: 0.0501 - val_quantile_75_mape: 48.6606 - val_quantile_75_mse: 0.0071 - val_quantile_75_rmse: 0.0841 - val_quantile_90_loss: 0.0093 - val_quantile_90_mae: 0.0765 - val_quantile_90_mape: 83.0832 - val_quantile_90_mse: 0.0136 - val_quantile_90_rmse: 0.1168\n",
            "Epoch 3/40\n",
            "\u001b[1m1209/1209\u001b[0m \u001b[32m━━━━━━━━━━━━━━━━━━━━\u001b[0m\u001b[37m\u001b[0m \u001b[1m80s\u001b[0m 34ms/step - loss: 0.0417 - quantile_10_loss: 0.0054 - quantile_10_mae: 0.0408 - quantile_10_mape: 2660.9243 - quantile_10_mse: 0.0053 - quantile_10_rmse: 0.0730 - quantile_25_loss: 0.0094 - quantile_25_mae: 0.0283 - quantile_25_mape: 1552.8319 - quantile_25_mse: 0.0029 - quantile_25_rmse: 0.0538 - quantile_50_loss: 0.0117 - quantile_50_mae: 0.0235 - quantile_50_mape: 1874.4934 - quantile_50_mse: 0.0021 - quantile_50_rmse: 0.0458 - quantile_75_loss: 0.0096 - quantile_75_mae: 0.0285 - quantile_75_mape: 3077.0671 - quantile_75_mse: 0.0029 - quantile_75_rmse: 0.0543 - quantile_90_loss: 0.0056 - quantile_90_mae: 0.0416 - quantile_90_mape: 4918.2104 - quantile_90_mse: 0.0055 - quantile_90_rmse: 0.0739 - val_loss: 0.0704 - val_quantile_10_loss: 0.0096 - val_quantile_10_mae: 0.0679 - val_quantile_10_mape: 42.5357 - val_quantile_10_mse: 0.0102 - val_quantile_10_rmse: 0.1008 - val_quantile_25_loss: 0.0167 - val_quantile_25_mae: 0.0503 - val_quantile_25_mape: 34.1984 - val_quantile_25_mse: 0.0061 - val_quantile_25_rmse: 0.0782 - val_quantile_50_loss: 0.0205 - val_quantile_50_mae: 0.0404 - val_quantile_50_mape: 32.6499 - val_quantile_50_mse: 0.0044 - val_quantile_50_rmse: 0.0663 - val_quantile_75_loss: 0.0161 - val_quantile_75_mae: 0.0410 - val_quantile_75_mape: 41.8428 - val_quantile_75_mse: 0.0051 - val_quantile_75_rmse: 0.0712 - val_quantile_90_loss: 0.0087 - val_quantile_90_mae: 0.0587 - val_quantile_90_mape: 60.6401 - val_quantile_90_mse: 0.0093 - val_quantile_90_rmse: 0.0962\n",
            "Epoch 4/40\n",
            "\u001b[1m1209/1209\u001b[0m \u001b[32m━━━━━━━━━━━━━━━━━━━━\u001b[0m\u001b[37m\u001b[0m \u001b[1m83s\u001b[0m 35ms/step - loss: 0.0407 - quantile_10_loss: 0.0053 - quantile_10_mae: 0.0395 - quantile_10_mape: 1895.4398 - quantile_10_mse: 0.0050 - quantile_10_rmse: 0.0706 - quantile_25_loss: 0.0092 - quantile_25_mae: 0.0276 - quantile_25_mape: 1507.6547 - quantile_25_mse: 0.0027 - quantile_25_rmse: 0.0524 - quantile_50_loss: 0.0114 - quantile_50_mae: 0.0229 - quantile_50_mape: 1675.9766 - quantile_50_mse: 0.0020 - quantile_50_rmse: 0.0448 - quantile_75_loss: 0.0094 - quantile_75_mae: 0.0278 - quantile_75_mape: 2681.3882 - quantile_75_mse: 0.0028 - quantile_75_rmse: 0.0533 - quantile_90_loss: 0.0054 - quantile_90_mae: 0.0402 - quantile_90_mape: 4146.0840 - quantile_90_mse: 0.0052 - quantile_90_rmse: 0.0719 - val_loss: 0.0677 - val_quantile_10_loss: 0.0095 - val_quantile_10_mae: 0.0646 - val_quantile_10_mape: 50.7864 - val_quantile_10_mse: 0.0093 - val_quantile_10_rmse: 0.0967 - val_quantile_25_loss: 0.0161 - val_quantile_25_mae: 0.0455 - val_quantile_25_mape: 35.6429 - val_quantile_25_mse: 0.0054 - val_quantile_25_rmse: 0.0735 - val_quantile_50_loss: 0.0193 - val_quantile_50_mae: 0.0379 - val_quantile_50_mape: 33.8613 - val_quantile_50_mse: 0.0042 - val_quantile_50_rmse: 0.0649 - val_quantile_75_loss: 0.0151 - val_quantile_75_mae: 0.0458 - val_quantile_75_mape: 48.0858 - val_quantile_75_mse: 0.0059 - val_quantile_75_rmse: 0.0771 - val_quantile_90_loss: 0.0087 - val_quantile_90_mae: 0.0701 - val_quantile_90_mape: 68.0181 - val_quantile_90_mse: 0.0117 - val_quantile_90_rmse: 0.1082\n",
            "Epoch 5/40\n",
            "\u001b[1m1209/1209\u001b[0m \u001b[32m━━━━━━━━━━━━━━━━━━━━\u001b[0m\u001b[37m\u001b[0m \u001b[1m42s\u001b[0m 35ms/step - loss: 0.0396 - quantile_10_loss: 0.0051 - quantile_10_mae: 0.0382 - quantile_10_mape: 1843.4042 - quantile_10_mse: 0.0047 - quantile_10_rmse: 0.0688 - quantile_25_loss: 0.0089 - quantile_25_mae: 0.0269 - quantile_25_mape: 1275.8217 - quantile_25_mse: 0.0027 - quantile_25_rmse: 0.0516 - quantile_50_loss: 0.0111 - quantile_50_mae: 0.0223 - quantile_50_mape: 1629.8026 - quantile_50_mse: 0.0019 - quantile_50_rmse: 0.0439 - quantile_75_loss: 0.0091 - quantile_75_mae: 0.0271 - quantile_75_mape: 2366.6870 - quantile_75_mse: 0.0027 - quantile_75_rmse: 0.0519 - quantile_90_loss: 0.0053 - quantile_90_mae: 0.0394 - quantile_90_mape: 3694.1804 - quantile_90_mse: 0.0051 - quantile_90_rmse: 0.0711 - val_loss: 0.0671 - val_quantile_10_loss: 0.0093 - val_quantile_10_mae: 0.0646 - val_quantile_10_mape: 37.3388 - val_quantile_10_mse: 0.0095 - val_quantile_10_rmse: 0.0976 - val_quantile_25_loss: 0.0162 - val_quantile_25_mae: 0.0447 - val_quantile_25_mape: 33.0775 - val_quantile_25_mse: 0.0052 - val_quantile_25_rmse: 0.0721 - val_quantile_50_loss: 0.0191 - val_quantile_50_mae: 0.0375 - val_quantile_50_mape: 42.9183 - val_quantile_50_mse: 0.0041 - val_quantile_50_rmse: 0.0641 - val_quantile_75_loss: 0.0152 - val_quantile_75_mae: 0.0477 - val_quantile_75_mape: 70.2067 - val_quantile_75_mse: 0.0062 - val_quantile_75_rmse: 0.0787 - val_quantile_90_loss: 0.0085 - val_quantile_90_mae: 0.0700 - val_quantile_90_mape: 93.6507 - val_quantile_90_mse: 0.0115 - val_quantile_90_rmse: 0.1074\n",
            "Epoch 6/40\n",
            "\u001b[1m1209/1209\u001b[0m \u001b[32m━━━━━━━━━━━━━━━━━━━━\u001b[0m\u001b[37m\u001b[0m \u001b[1m87s\u001b[0m 39ms/step - loss: 0.0394 - quantile_10_loss: 0.0051 - quantile_10_mae: 0.0378 - quantile_10_mape: 2101.4534 - quantile_10_mse: 0.0047 - quantile_10_rmse: 0.0684 - quantile_25_loss: 0.0089 - quantile_25_mae: 0.0266 - quantile_25_mape: 1693.6334 - quantile_25_mse: 0.0026 - quantile_25_rmse: 0.0514 - quantile_50_loss: 0.0111 - quantile_50_mae: 0.0222 - quantile_50_mape: 1861.9319 - quantile_50_mse: 0.0019 - quantile_50_rmse: 0.0440 - quantile_75_loss: 0.0091 - quantile_75_mae: 0.0271 - quantile_75_mape: 2583.9871 - quantile_75_mse: 0.0027 - quantile_75_rmse: 0.0522 - quantile_90_loss: 0.0052 - quantile_90_mae: 0.0394 - quantile_90_mape: 4096.5732 - quantile_90_mse: 0.0052 - quantile_90_rmse: 0.0718 - val_loss: 0.0674 - val_quantile_10_loss: 0.0096 - val_quantile_10_mae: 0.0620 - val_quantile_10_mape: 39.8146 - val_quantile_10_mse: 0.0086 - val_quantile_10_rmse: 0.0928 - val_quantile_25_loss: 0.0162 - val_quantile_25_mae: 0.0470 - val_quantile_25_mape: 33.0166 - val_quantile_25_mse: 0.0054 - val_quantile_25_rmse: 0.0733 - val_quantile_50_loss: 0.0191 - val_quantile_50_mae: 0.0376 - val_quantile_50_mape: 32.1067 - val_quantile_50_mse: 0.0041 - val_quantile_50_rmse: 0.0641 - val_quantile_75_loss: 0.0152 - val_quantile_75_mae: 0.0456 - val_quantile_75_mape: 44.8030 - val_quantile_75_mse: 0.0061 - val_quantile_75_rmse: 0.0784 - val_quantile_90_loss: 0.0085 - val_quantile_90_mae: 0.0597 - val_quantile_90_mape: 66.2396 - val_quantile_90_mse: 0.0095 - val_quantile_90_rmse: 0.0975\n",
            "Epoch 7/40\n",
            "\u001b[1m1209/1209\u001b[0m \u001b[32m━━━━━━━━━━━━━━━━━━━━\u001b[0m\u001b[37m\u001b[0m \u001b[1m79s\u001b[0m 36ms/step - loss: 0.0387 - quantile_10_loss: 0.0050 - quantile_10_mae: 0.0374 - quantile_10_mape: 1913.7802 - quantile_10_mse: 0.0046 - quantile_10_rmse: 0.0679 - quantile_25_loss: 0.0088 - quantile_25_mae: 0.0264 - quantile_25_mape: 1540.6287 - quantile_25_mse: 0.0026 - quantile_25_rmse: 0.0510 - quantile_50_loss: 0.0109 - quantile_50_mae: 0.0218 - quantile_50_mape: 1498.0063 - quantile_50_mse: 0.0019 - quantile_50_rmse: 0.0434 - quantile_75_loss: 0.0088 - quantile_75_mae: 0.0264 - quantile_75_mape: 2375.8210 - quantile_75_mse: 0.0026 - quantile_75_rmse: 0.0514 - quantile_90_loss: 0.0051 - quantile_90_mae: 0.0375 - quantile_90_mape: 3397.0461 - quantile_90_mse: 0.0046 - quantile_90_rmse: 0.0682 - val_loss: 0.0724 - val_quantile_10_loss: 0.0098 - val_quantile_10_mae: 0.0566 - val_quantile_10_mape: 41.2508 - val_quantile_10_mse: 0.0074 - val_quantile_10_rmse: 0.0858 - val_quantile_25_loss: 0.0168 - val_quantile_25_mae: 0.0411 - val_quantile_25_mape: 32.2797 - val_quantile_25_mse: 0.0045 - val_quantile_25_rmse: 0.0672 - val_quantile_50_loss: 0.0213 - val_quantile_50_mae: 0.0418 - val_quantile_50_mape: 33.7719 - val_quantile_50_mse: 0.0053 - val_quantile_50_rmse: 0.0725 - val_quantile_75_loss: 0.0164 - val_quantile_75_mae: 0.0562 - val_quantile_75_mape: 47.1049 - val_quantile_75_mse: 0.0088 - val_quantile_75_rmse: 0.0936 - val_quantile_90_loss: 0.0094 - val_quantile_90_mae: 0.0843 - val_quantile_90_mape: 73.4854 - val_quantile_90_mse: 0.0167 - val_quantile_90_rmse: 0.1292\n",
            "Epoch 8/40\n",
            "\u001b[1m1209/1209\u001b[0m \u001b[32m━━━━━━━━━━━━━━━━━━━━\u001b[0m\u001b[37m\u001b[0m \u001b[1m79s\u001b[0m 35ms/step - loss: 0.0385 - quantile_10_loss: 0.0050 - quantile_10_mae: 0.0371 - quantile_10_mape: 1974.9478 - quantile_10_mse: 0.0045 - quantile_10_rmse: 0.0670 - quantile_25_loss: 0.0087 - quantile_25_mae: 0.0259 - quantile_25_mape: 1558.9202 - quantile_25_mse: 0.0025 - quantile_25_rmse: 0.0501 - quantile_50_loss: 0.0108 - quantile_50_mae: 0.0216 - quantile_50_mape: 1647.4026 - quantile_50_mse: 0.0019 - quantile_50_rmse: 0.0433 - quantile_75_loss: 0.0088 - quantile_75_mae: 0.0262 - quantile_75_mape: 2565.6797 - quantile_75_mse: 0.0026 - quantile_75_rmse: 0.0509 - quantile_90_loss: 0.0051 - quantile_90_mae: 0.0380 - quantile_90_mape: 4299.4111 - quantile_90_mse: 0.0048 - quantile_90_rmse: 0.0692 - val_loss: 0.0685 - val_quantile_10_loss: 0.0095 - val_quantile_10_mae: 0.0581 - val_quantile_10_mape: 42.5164 - val_quantile_10_mse: 0.0081 - val_quantile_10_rmse: 0.0899 - val_quantile_25_loss: 0.0159 - val_quantile_25_mae: 0.0449 - val_quantile_25_mape: 32.2221 - val_quantile_25_mse: 0.0054 - val_quantile_25_rmse: 0.0734 - val_quantile_50_loss: 0.0195 - val_quantile_50_mae: 0.0385 - val_quantile_50_mape: 32.2508 - val_quantile_50_mse: 0.0043 - val_quantile_50_rmse: 0.0654 - val_quantile_75_loss: 0.0158 - val_quantile_75_mae: 0.0480 - val_quantile_75_mape: 39.6363 - val_quantile_75_mse: 0.0066 - val_quantile_75_rmse: 0.0810 - val_quantile_90_loss: 0.0087 - val_quantile_90_mae: 0.0663 - val_quantile_90_mape: 55.4605 - val_quantile_90_mse: 0.0110 - val_quantile_90_rmse: 0.1051\n",
            "Epoch 9/40\n",
            "\u001b[1m1209/1209\u001b[0m \u001b[32m━━━━━━━━━━━━━━━━━━━━\u001b[0m\u001b[37m\u001b[0m \u001b[1m82s\u001b[0m 35ms/step - loss: 0.0381 - quantile_10_loss: 0.0050 - quantile_10_mae: 0.0368 - quantile_10_mape: 2022.6171 - quantile_10_mse: 0.0045 - quantile_10_rmse: 0.0668 - quantile_25_loss: 0.0086 - quantile_25_mae: 0.0259 - quantile_25_mape: 2020.4982 - quantile_25_mse: 0.0025 - quantile_25_rmse: 0.0502 - quantile_50_loss: 0.0107 - quantile_50_mae: 0.0215 - quantile_50_mape: 2023.1918 - quantile_50_mse: 0.0018 - quantile_50_rmse: 0.0428 - quantile_75_loss: 0.0087 - quantile_75_mae: 0.0261 - quantile_75_mape: 2846.3430 - quantile_75_mse: 0.0026 - quantile_75_rmse: 0.0509 - quantile_90_loss: 0.0050 - quantile_90_mae: 0.0375 - quantile_90_mape: 4252.1675 - quantile_90_mse: 0.0047 - quantile_90_rmse: 0.0684 - val_loss: 0.0673 - val_quantile_10_loss: 0.0093 - val_quantile_10_mae: 0.0656 - val_quantile_10_mape: 42.9046 - val_quantile_10_mse: 0.0094 - val_quantile_10_rmse: 0.0969 - val_quantile_25_loss: 0.0159 - val_quantile_25_mae: 0.0467 - val_quantile_25_mape: 34.7990 - val_quantile_25_mse: 0.0054 - val_quantile_25_rmse: 0.0733 - val_quantile_50_loss: 0.0191 - val_quantile_50_mae: 0.0376 - val_quantile_50_mape: 30.8783 - val_quantile_50_mse: 0.0040 - val_quantile_50_rmse: 0.0636 - val_quantile_75_loss: 0.0153 - val_quantile_75_mae: 0.0406 - val_quantile_75_mape: 40.6471 - val_quantile_75_mse: 0.0049 - val_quantile_75_rmse: 0.0703 - val_quantile_90_loss: 0.0087 - val_quantile_90_mae: 0.0549 - val_quantile_90_mape: 64.2221 - val_quantile_90_mse: 0.0082 - val_quantile_90_rmse: 0.0904\n",
            "Epoch 10/40\n",
            "\u001b[1m1209/1209\u001b[0m \u001b[32m━━━━━━━━━━━━━━━━━━━━\u001b[0m\u001b[37m\u001b[0m \u001b[1m82s\u001b[0m 35ms/step - loss: 0.0371 - quantile_10_loss: 0.0048 - quantile_10_mae: 0.0361 - quantile_10_mape: 1206.4985 - quantile_10_mse: 0.0043 - quantile_10_rmse: 0.0655 - quantile_25_loss: 0.0084 - quantile_25_mae: 0.0252 - quantile_25_mape: 882.5113 - quantile_25_mse: 0.0024 - quantile_25_rmse: 0.0488 - quantile_50_loss: 0.0105 - quantile_50_mae: 0.0209 - quantile_50_mape: 1334.5677 - quantile_50_mse: 0.0017 - quantile_50_rmse: 0.0417 - quantile_75_loss: 0.0085 - quantile_75_mae: 0.0253 - quantile_75_mape: 2263.4678 - quantile_75_mse: 0.0024 - quantile_75_rmse: 0.0494 - quantile_90_loss: 0.0049 - quantile_90_mae: 0.0364 - quantile_90_mape: 3529.2395 - quantile_90_mse: 0.0044 - quantile_90_rmse: 0.0664 - val_loss: 0.0657 - val_quantile_10_loss: 0.0093 - val_quantile_10_mae: 0.0590 - val_quantile_10_mape: 33.5856 - val_quantile_10_mse: 0.0084 - val_quantile_10_rmse: 0.0917 - val_quantile_25_loss: 0.0155 - val_quantile_25_mae: 0.0426 - val_quantile_25_mape: 30.4080 - val_quantile_25_mse: 0.0049 - val_quantile_25_rmse: 0.0703 - val_quantile_50_loss: 0.0187 - val_quantile_50_mae: 0.0369 - val_quantile_50_mape: 33.8220 - val_quantile_50_mse: 0.0041 - val_quantile_50_rmse: 0.0637 - val_quantile_75_loss: 0.0148 - val_quantile_75_mae: 0.0458 - val_quantile_75_mape: 44.0729 - val_quantile_75_mse: 0.0062 - val_quantile_75_rmse: 0.0786 - val_quantile_90_loss: 0.0083 - val_quantile_90_mae: 0.0667 - val_quantile_90_mape: 61.1779 - val_quantile_90_mse: 0.0114 - val_quantile_90_rmse: 0.1067\n",
            "Epoch 11/40\n",
            "\u001b[1m1209/1209\u001b[0m \u001b[32m━━━━━━━━━━━━━━━━━━━━\u001b[0m\u001b[37m\u001b[0m \u001b[1m83s\u001b[0m 36ms/step - loss: 0.0377 - quantile_10_loss: 0.0050 - quantile_10_mae: 0.0364 - quantile_10_mape: 2609.4387 - quantile_10_mse: 0.0045 - quantile_10_rmse: 0.0669 - quantile_25_loss: 0.0085 - quantile_25_mae: 0.0256 - quantile_25_mape: 1947.2611 - quantile_25_mse: 0.0025 - quantile_25_rmse: 0.0501 - quantile_50_loss: 0.0106 - quantile_50_mae: 0.0212 - quantile_50_mape: 1861.9528 - quantile_50_mse: 0.0018 - quantile_50_rmse: 0.0427 - quantile_75_loss: 0.0086 - quantile_75_mae: 0.0257 - quantile_75_mape: 2329.8518 - quantile_75_mse: 0.0025 - quantile_75_rmse: 0.0504 - quantile_90_loss: 0.0050 - quantile_90_mae: 0.0369 - quantile_90_mape: 3260.0222 - quantile_90_mse: 0.0046 - quantile_90_rmse: 0.0679 - val_loss: 0.0661 - val_quantile_10_loss: 0.0095 - val_quantile_10_mae: 0.0620 - val_quantile_10_mape: 48.6457 - val_quantile_10_mse: 0.0083 - val_quantile_10_rmse: 0.0909 - val_quantile_25_loss: 0.0159 - val_quantile_25_mae: 0.0458 - val_quantile_25_mape: 34.1937 - val_quantile_25_mse: 0.0051 - val_quantile_25_rmse: 0.0715 - val_quantile_50_loss: 0.0189 - val_quantile_50_mae: 0.0372 - val_quantile_50_mape: 32.4031 - val_quantile_50_mse: 0.0040 - val_quantile_50_rmse: 0.0633 - val_quantile_75_loss: 0.0147 - val_quantile_75_mae: 0.0430 - val_quantile_75_mape: 39.1817 - val_quantile_75_mse: 0.0056 - val_quantile_75_rmse: 0.0749 - val_quantile_90_loss: 0.0081 - val_quantile_90_mae: 0.0618 - val_quantile_90_mape: 55.8526 - val_quantile_90_mse: 0.0101 - val_quantile_90_rmse: 0.1003\n",
            "Epoch 12/40\n",
            "\u001b[1m1209/1209\u001b[0m \u001b[32m━━━━━━━━━━━━━━━━━━━━\u001b[0m\u001b[37m\u001b[0m \u001b[1m44s\u001b[0m 37ms/step - loss: 0.0373 - quantile_10_loss: 0.0049 - quantile_10_mae: 0.0363 - quantile_10_mape: 1643.0367 - quantile_10_mse: 0.0044 - quantile_10_rmse: 0.0661 - quantile_25_loss: 0.0085 - quantile_25_mae: 0.0254 - quantile_25_mape: 1145.9760 - quantile_25_mse: 0.0025 - quantile_25_rmse: 0.0496 - quantile_50_loss: 0.0105 - quantile_50_mae: 0.0210 - quantile_50_mape: 1146.6718 - quantile_50_mse: 0.0018 - quantile_50_rmse: 0.0423 - quantile_75_loss: 0.0085 - quantile_75_mae: 0.0255 - quantile_75_mape: 1862.9050 - quantile_75_mse: 0.0025 - quantile_75_rmse: 0.0501 - quantile_90_loss: 0.0049 - quantile_90_mae: 0.0362 - quantile_90_mape: 2852.0146 - quantile_90_mse: 0.0044 - quantile_90_rmse: 0.0667 - val_loss: 0.0668 - val_quantile_10_loss: 0.0092 - val_quantile_10_mae: 0.0615 - val_quantile_10_mape: 44.8287 - val_quantile_10_mse: 0.0085 - val_quantile_10_rmse: 0.0924 - val_quantile_25_loss: 0.0156 - val_quantile_25_mae: 0.0439 - val_quantile_25_mape: 33.4520 - val_quantile_25_mse: 0.0050 - val_quantile_25_rmse: 0.0708 - val_quantile_50_loss: 0.0189 - val_quantile_50_mae: 0.0374 - val_quantile_50_mape: 30.8230 - val_quantile_50_mse: 0.0040 - val_quantile_50_rmse: 0.0635 - val_quantile_75_loss: 0.0153 - val_quantile_75_mae: 0.0459 - val_quantile_75_mape: 38.0368 - val_quantile_75_mse: 0.0060 - val_quantile_75_rmse: 0.0774 - val_quantile_90_loss: 0.0085 - val_quantile_90_mae: 0.0609 - val_quantile_90_mape: 56.9441 - val_quantile_90_mse: 0.0096 - val_quantile_90_rmse: 0.0978\n",
            "Epoch 13/40\n",
            "\u001b[1m1209/1209\u001b[0m \u001b[32m━━━━━━━━━━━━━━━━━━━━\u001b[0m\u001b[37m\u001b[0m \u001b[1m79s\u001b[0m 34ms/step - loss: 0.0366 - quantile_10_loss: 0.0048 - quantile_10_mae: 0.0357 - quantile_10_mape: 1608.3589 - quantile_10_mse: 0.0043 - quantile_10_rmse: 0.0652 - quantile_25_loss: 0.0083 - quantile_25_mae: 0.0249 - quantile_25_mape: 1214.7869 - quantile_25_mse: 0.0023 - quantile_25_rmse: 0.0484 - quantile_50_loss: 0.0103 - quantile_50_mae: 0.0206 - quantile_50_mape: 1321.9421 - quantile_50_mse: 0.0017 - quantile_50_rmse: 0.0414 - quantile_75_loss: 0.0083 - quantile_75_mae: 0.0250 - quantile_75_mape: 1864.7638 - quantile_75_mse: 0.0024 - quantile_75_rmse: 0.0491 - quantile_90_loss: 0.0048 - quantile_90_mae: 0.0356 - quantile_90_mape: 2796.8899 - quantile_90_mse: 0.0043 - quantile_90_rmse: 0.0657 - val_loss: 0.0661 - val_quantile_10_loss: 0.0091 - val_quantile_10_mae: 0.0607 - val_quantile_10_mape: 40.4729 - val_quantile_10_mse: 0.0086 - val_quantile_10_rmse: 0.0928 - val_quantile_25_loss: 0.0155 - val_quantile_25_mae: 0.0446 - val_quantile_25_mape: 32.2367 - val_quantile_25_mse: 0.0052 - val_quantile_25_rmse: 0.0722 - val_quantile_50_loss: 0.0188 - val_quantile_50_mae: 0.0371 - val_quantile_50_mape: 30.3907 - val_quantile_50_mse: 0.0040 - val_quantile_50_rmse: 0.0634 - val_quantile_75_loss: 0.0150 - val_quantile_75_mae: 0.0421 - val_quantile_75_mape: 37.3555 - val_quantile_75_mse: 0.0053 - val_quantile_75_rmse: 0.0726 - val_quantile_90_loss: 0.0084 - val_quantile_90_mae: 0.0598 - val_quantile_90_mape: 57.7305 - val_quantile_90_mse: 0.0093 - val_quantile_90_rmse: 0.0966\n",
            "Epoch 14/40\n",
            "\u001b[1m1209/1209\u001b[0m \u001b[32m━━━━━━━━━━━━━━━━━━━━\u001b[0m\u001b[37m\u001b[0m \u001b[1m83s\u001b[0m 36ms/step - loss: 0.0365 - quantile_10_loss: 0.0048 - quantile_10_mae: 0.0352 - quantile_10_mape: 1783.5687 - quantile_10_mse: 0.0041 - quantile_10_rmse: 0.0644 - quantile_25_loss: 0.0083 - quantile_25_mae: 0.0247 - quantile_25_mape: 1467.9471 - quantile_25_mse: 0.0023 - quantile_25_rmse: 0.0483 - quantile_50_loss: 0.0103 - quantile_50_mae: 0.0206 - quantile_50_mape: 1632.5997 - quantile_50_mse: 0.0017 - quantile_50_rmse: 0.0416 - quantile_75_loss: 0.0083 - quantile_75_mae: 0.0250 - quantile_75_mape: 2309.0068 - quantile_75_mse: 0.0024 - quantile_75_rmse: 0.0494 - quantile_90_loss: 0.0048 - quantile_90_mae: 0.0359 - quantile_90_mape: 3206.2283 - quantile_90_mse: 0.0044 - quantile_90_rmse: 0.0665 - val_loss: 0.0712 - val_quantile_10_loss: 0.0106 - val_quantile_10_mae: 0.0517 - val_quantile_10_mape: 39.6887 - val_quantile_10_mse: 0.0062 - val_quantile_10_rmse: 0.0790 - val_quantile_25_loss: 0.0172 - val_quantile_25_mae: 0.0409 - val_quantile_25_mape: 33.5887 - val_quantile_25_mse: 0.0044 - val_quantile_25_rmse: 0.0666 - val_quantile_50_loss: 0.0204 - val_quantile_50_mae: 0.0401 - val_quantile_50_mape: 34.0609 - val_quantile_50_mse: 0.0048 - val_quantile_50_rmse: 0.0692 - val_quantile_75_loss: 0.0156 - val_quantile_75_mae: 0.0497 - val_quantile_75_mape: 47.0041 - val_quantile_75_mse: 0.0073 - val_quantile_75_rmse: 0.0853 - val_quantile_90_loss: 0.0086 - val_quantile_90_mae: 0.0677 - val_quantile_90_mape: 65.7250 - val_quantile_90_mse: 0.0121 - val_quantile_90_rmse: 0.1099\n",
            "Epoch 15/40\n",
            "\u001b[1m1209/1209\u001b[0m \u001b[32m━━━━━━━━━━━━━━━━━━━━\u001b[0m\u001b[37m\u001b[0m \u001b[1m81s\u001b[0m 35ms/step - loss: 0.0364 - quantile_10_loss: 0.0048 - quantile_10_mae: 0.0351 - quantile_10_mape: 2158.0459 - quantile_10_mse: 0.0041 - quantile_10_rmse: 0.0641 - quantile_25_loss: 0.0083 - quantile_25_mae: 0.0248 - quantile_25_mape: 1772.2302 - quantile_25_mse: 0.0023 - quantile_25_rmse: 0.0483 - quantile_50_loss: 0.0103 - quantile_50_mae: 0.0206 - quantile_50_mape: 1835.0337 - quantile_50_mse: 0.0017 - quantile_50_rmse: 0.0415 - quantile_75_loss: 0.0083 - quantile_75_mae: 0.0250 - quantile_75_mape: 2199.1196 - quantile_75_mse: 0.0025 - quantile_75_rmse: 0.0496 - quantile_90_loss: 0.0048 - quantile_90_mae: 0.0356 - quantile_90_mape: 3247.3708 - quantile_90_mse: 0.0044 - quantile_90_rmse: 0.0662 - val_loss: 0.0665 - val_quantile_10_loss: 0.0090 - val_quantile_10_mae: 0.0622 - val_quantile_10_mape: 39.8810 - val_quantile_10_mse: 0.0088 - val_quantile_10_rmse: 0.0936 - val_quantile_25_loss: 0.0153 - val_quantile_25_mae: 0.0443 - val_quantile_25_mape: 31.1534 - val_quantile_25_mse: 0.0052 - val_quantile_25_rmse: 0.0720 - val_quantile_50_loss: 0.0189 - val_quantile_50_mae: 0.0374 - val_quantile_50_mape: 30.3228 - val_quantile_50_mse: 0.0042 - val_quantile_50_rmse: 0.0645 - val_quantile_75_loss: 0.0153 - val_quantile_75_mae: 0.0463 - val_quantile_75_mape: 40.2958 - val_quantile_75_mse: 0.0061 - val_quantile_75_rmse: 0.0783 - val_quantile_90_loss: 0.0087 - val_quantile_90_mae: 0.0653 - val_quantile_90_mape: 58.0214 - val_quantile_90_mse: 0.0107 - val_quantile_90_rmse: 0.1033\n",
            "Epoch 16/40\n",
            "\u001b[1m1209/1209\u001b[0m \u001b[32m━━━━━━━━━━━━━━━━━━━━\u001b[0m\u001b[37m\u001b[0m \u001b[1m43s\u001b[0m 35ms/step - loss: 0.0368 - quantile_10_loss: 0.0049 - quantile_10_mae: 0.0359 - quantile_10_mape: 2055.1611 - quantile_10_mse: 0.0043 - quantile_10_rmse: 0.0658 - quantile_25_loss: 0.0084 - quantile_25_mae: 0.0249 - quantile_25_mape: 1421.5656 - quantile_25_mse: 0.0024 - quantile_25_rmse: 0.0488 - quantile_50_loss: 0.0104 - quantile_50_mae: 0.0207 - quantile_50_mape: 1195.8480 - quantile_50_mse: 0.0018 - quantile_50_rmse: 0.0420 - quantile_75_loss: 0.0084 - quantile_75_mae: 0.0252 - quantile_75_mape: 2119.9822 - quantile_75_mse: 0.0025 - quantile_75_rmse: 0.0499 - quantile_90_loss: 0.0049 - quantile_90_mae: 0.0360 - quantile_90_mape: 3480.3040 - quantile_90_mse: 0.0045 - quantile_90_rmse: 0.0668 - val_loss: 0.0703 - val_quantile_10_loss: 0.0103 - val_quantile_10_mae: 0.0535 - val_quantile_10_mape: 40.4713 - val_quantile_10_mse: 0.0066 - val_quantile_10_rmse: 0.0815 - val_quantile_25_loss: 0.0170 - val_quantile_25_mae: 0.0404 - val_quantile_25_mape: 30.6093 - val_quantile_25_mse: 0.0045 - val_quantile_25_rmse: 0.0669 - val_quantile_50_loss: 0.0200 - val_quantile_50_mae: 0.0392 - val_quantile_50_mape: 33.1757 - val_quantile_50_mse: 0.0046 - val_quantile_50_rmse: 0.0682 - val_quantile_75_loss: 0.0158 - val_quantile_75_mae: 0.0504 - val_quantile_75_mape: 45.1909 - val_quantile_75_mse: 0.0074 - val_quantile_75_rmse: 0.0859 - val_quantile_90_loss: 0.0088 - val_quantile_90_mae: 0.0697 - val_quantile_90_mape: 64.9662 - val_quantile_90_mse: 0.0125 - val_quantile_90_rmse: 0.1116\n",
            "Epoch 17/40\n",
            "\u001b[1m1209/1209\u001b[0m \u001b[32m━━━━━━━━━━━━━━━━━━━━\u001b[0m\u001b[37m\u001b[0m \u001b[1m81s\u001b[0m 34ms/step - loss: 0.0360 - quantile_10_loss: 0.0047 - quantile_10_mae: 0.0349 - quantile_10_mape: 1702.9445 - quantile_10_mse: 0.0040 - quantile_10_rmse: 0.0636 - quantile_25_loss: 0.0082 - quantile_25_mae: 0.0245 - quantile_25_mape: 1446.8660 - quantile_25_mse: 0.0023 - quantile_25_rmse: 0.0477 - quantile_50_loss: 0.0102 - quantile_50_mae: 0.0203 - quantile_50_mape: 1340.0801 - quantile_50_mse: 0.0017 - quantile_50_rmse: 0.0410 - quantile_75_loss: 0.0082 - quantile_75_mae: 0.0246 - quantile_75_mape: 1671.0237 - quantile_75_mse: 0.0024 - quantile_75_rmse: 0.0487 - quantile_90_loss: 0.0047 - quantile_90_mae: 0.0350 - quantile_90_mape: 2353.7844 - quantile_90_mse: 0.0042 - quantile_90_rmse: 0.0648 - val_loss: 0.0715 - val_quantile_10_loss: 0.0100 - val_quantile_10_mae: 0.0537 - val_quantile_10_mape: 44.8426 - val_quantile_10_mse: 0.0069 - val_quantile_10_rmse: 0.0829 - val_quantile_25_loss: 0.0174 - val_quantile_25_mae: 0.0428 - val_quantile_25_mape: 35.4123 - val_quantile_25_mse: 0.0048 - val_quantile_25_rmse: 0.0694 - val_quantile_50_loss: 0.0204 - val_quantile_50_mae: 0.0403 - val_quantile_50_mape: 30.7367 - val_quantile_50_mse: 0.0048 - val_quantile_50_rmse: 0.0689 - val_quantile_75_loss: 0.0157 - val_quantile_75_mae: 0.0470 - val_quantile_75_mape: 42.6784 - val_quantile_75_mse: 0.0064 - val_quantile_75_rmse: 0.0798 - val_quantile_90_loss: 0.0089 - val_quantile_90_mae: 0.0654 - val_quantile_90_mape: 60.7724 - val_quantile_90_mse: 0.0109 - val_quantile_90_rmse: 0.1045\n",
            "Epoch 18/40\n",
            "\u001b[1m1209/1209\u001b[0m \u001b[32m━━━━━━━━━━━━━━━━━━━━\u001b[0m\u001b[37m\u001b[0m \u001b[1m42s\u001b[0m 35ms/step - loss: 0.0359 - quantile_10_loss: 0.0047 - quantile_10_mae: 0.0349 - quantile_10_mape: 2046.4165 - quantile_10_mse: 0.0041 - quantile_10_rmse: 0.0636 - quantile_25_loss: 0.0082 - quantile_25_mae: 0.0243 - quantile_25_mape: 1652.9713 - quantile_25_mse: 0.0023 - quantile_25_rmse: 0.0475 - quantile_50_loss: 0.0101 - quantile_50_mae: 0.0202 - quantile_50_mape: 1515.7516 - quantile_50_mse: 0.0017 - quantile_50_rmse: 0.0410 - quantile_75_loss: 0.0081 - quantile_75_mae: 0.0246 - quantile_75_mape: 1809.9469 - quantile_75_mse: 0.0024 - quantile_75_rmse: 0.0488 - quantile_90_loss: 0.0047 - quantile_90_mae: 0.0351 - quantile_90_mape: 2958.9910 - quantile_90_mse: 0.0043 - quantile_90_rmse: 0.0652 - val_loss: 0.0686 - val_quantile_10_loss: 0.0093 - val_quantile_10_mae: 0.0581 - val_quantile_10_mape: 42.4679 - val_quantile_10_mse: 0.0077 - val_quantile_10_rmse: 0.0878 - val_quantile_25_loss: 0.0156 - val_quantile_25_mae: 0.0437 - val_quantile_25_mape: 33.3130 - val_quantile_25_mse: 0.0050 - val_quantile_25_rmse: 0.0708 - val_quantile_50_loss: 0.0192 - val_quantile_50_mae: 0.0381 - val_quantile_50_mape: 30.7228 - val_quantile_50_mse: 0.0042 - val_quantile_50_rmse: 0.0649 - val_quantile_75_loss: 0.0157 - val_quantile_75_mae: 0.0441 - val_quantile_75_mape: 36.0653 - val_quantile_75_mse: 0.0057 - val_quantile_75_rmse: 0.0756 - val_quantile_90_loss: 0.0092 - val_quantile_90_mae: 0.0568 - val_quantile_90_mape: 49.1296 - val_quantile_90_mse: 0.0088 - val_quantile_90_rmse: 0.0937\n",
            "Epoch 19/40\n",
            "\u001b[1m1209/1209\u001b[0m \u001b[32m━━━━━━━━━━━━━━━━━━━━\u001b[0m\u001b[37m\u001b[0m \u001b[1m42s\u001b[0m 35ms/step - loss: 0.0359 - quantile_10_loss: 0.0047 - quantile_10_mae: 0.0347 - quantile_10_mape: 1826.3795 - quantile_10_mse: 0.0040 - quantile_10_rmse: 0.0632 - quantile_25_loss: 0.0082 - quantile_25_mae: 0.0244 - quantile_25_mape: 1547.0396 - quantile_25_mse: 0.0023 - quantile_25_rmse: 0.0477 - quantile_50_loss: 0.0101 - quantile_50_mae: 0.0203 - quantile_50_mape: 1629.4821 - quantile_50_mse: 0.0017 - quantile_50_rmse: 0.0408 - quantile_75_loss: 0.0082 - quantile_75_mae: 0.0245 - quantile_75_mape: 2546.7600 - quantile_75_mse: 0.0023 - quantile_75_rmse: 0.0484 - quantile_90_loss: 0.0047 - quantile_90_mae: 0.0350 - quantile_90_mape: 3676.1609 - quantile_90_mse: 0.0043 - quantile_90_rmse: 0.0653 - val_loss: 0.0670 - val_quantile_10_loss: 0.0091 - val_quantile_10_mae: 0.0593 - val_quantile_10_mape: 41.3225 - val_quantile_10_mse: 0.0081 - val_quantile_10_rmse: 0.0902 - val_quantile_25_loss: 0.0154 - val_quantile_25_mae: 0.0436 - val_quantile_25_mape: 31.9679 - val_quantile_25_mse: 0.0051 - val_quantile_25_rmse: 0.0714 - val_quantile_50_loss: 0.0187 - val_quantile_50_mae: 0.0372 - val_quantile_50_mape: 28.9461 - val_quantile_50_mse: 0.0041 - val_quantile_50_rmse: 0.0643 - val_quantile_75_loss: 0.0152 - val_quantile_75_mae: 0.0410 - val_quantile_75_mape: 37.1625 - val_quantile_75_mse: 0.0051 - val_quantile_75_rmse: 0.0711 - val_quantile_90_loss: 0.0089 - val_quantile_90_mae: 0.0557 - val_quantile_90_mape: 54.2255 - val_quantile_90_mse: 0.0082 - val_quantile_90_rmse: 0.0903\n",
            "Epoch 20/40\n",
            "\u001b[1m1209/1209\u001b[0m \u001b[32m━━━━━━━━━━━━━━━━━━━━\u001b[0m\u001b[37m\u001b[0m \u001b[1m81s\u001b[0m 34ms/step - loss: 0.0359 - quantile_10_loss: 0.0048 - quantile_10_mae: 0.0350 - quantile_10_mape: 1585.8329 - quantile_10_mse: 0.0041 - quantile_10_rmse: 0.0640 - quantile_25_loss: 0.0082 - quantile_25_mae: 0.0245 - quantile_25_mape: 1371.2786 - quantile_25_mse: 0.0023 - quantile_25_rmse: 0.0477 - quantile_50_loss: 0.0101 - quantile_50_mae: 0.0202 - quantile_50_mape: 1730.7130 - quantile_50_mse: 0.0017 - quantile_50_rmse: 0.0409 - quantile_75_loss: 0.0082 - quantile_75_mae: 0.0244 - quantile_75_mape: 2348.1465 - quantile_75_mse: 0.0023 - quantile_75_rmse: 0.0485 - quantile_90_loss: 0.0047 - quantile_90_mae: 0.0348 - quantile_90_mape: 3331.4023 - quantile_90_mse: 0.0042 - quantile_90_rmse: 0.0646 - val_loss: 0.0675 - val_quantile_10_loss: 0.0092 - val_quantile_10_mae: 0.0586 - val_quantile_10_mape: 37.7775 - val_quantile_10_mse: 0.0079 - val_quantile_10_rmse: 0.0887 - val_quantile_25_loss: 0.0155 - val_quantile_25_mae: 0.0456 - val_quantile_25_mape: 31.5066 - val_quantile_25_mse: 0.0053 - val_quantile_25_rmse: 0.0725 - val_quantile_50_loss: 0.0189 - val_quantile_50_mae: 0.0375 - val_quantile_50_mape: 32.1145 - val_quantile_50_mse: 0.0041 - val_quantile_50_rmse: 0.0638 - val_quantile_75_loss: 0.0155 - val_quantile_75_mae: 0.0398 - val_quantile_75_mape: 49.7583 - val_quantile_75_mse: 0.0047 - val_quantile_75_rmse: 0.0684 - val_quantile_90_loss: 0.0088 - val_quantile_90_mae: 0.0533 - val_quantile_90_mape: 65.3150 - val_quantile_90_mse: 0.0077 - val_quantile_90_rmse: 0.0876\n",
            "Epoch 21/40\n",
            "\u001b[1m1209/1209\u001b[0m \u001b[32m━━━━━━━━━━━━━━━━━━━━\u001b[0m\u001b[37m\u001b[0m \u001b[1m84s\u001b[0m 36ms/step - loss: 0.0353 - quantile_10_loss: 0.0047 - quantile_10_mae: 0.0342 - quantile_10_mape: 1389.6864 - quantile_10_mse: 0.0039 - quantile_10_rmse: 0.0626 - quantile_25_loss: 0.0080 - quantile_25_mae: 0.0240 - quantile_25_mape: 1065.3956 - quantile_25_mse: 0.0022 - quantile_25_rmse: 0.0469 - quantile_50_loss: 0.0099 - quantile_50_mae: 0.0199 - quantile_50_mape: 1089.5084 - quantile_50_mse: 0.0016 - quantile_50_rmse: 0.0402 - quantile_75_loss: 0.0080 - quantile_75_mae: 0.0240 - quantile_75_mape: 1681.6234 - quantile_75_mse: 0.0022 - quantile_75_rmse: 0.0474 - quantile_90_loss: 0.0046 - quantile_90_mae: 0.0344 - quantile_90_mape: 2470.9299 - quantile_90_mse: 0.0040 - quantile_90_rmse: 0.0635 - val_loss: 0.0674 - val_quantile_10_loss: 0.0092 - val_quantile_10_mae: 0.0571 - val_quantile_10_mape: 34.3267 - val_quantile_10_mse: 0.0081 - val_quantile_10_rmse: 0.0900 - val_quantile_25_loss: 0.0155 - val_quantile_25_mae: 0.0435 - val_quantile_25_mape: 29.1943 - val_quantile_25_mse: 0.0053 - val_quantile_25_rmse: 0.0729 - val_quantile_50_loss: 0.0191 - val_quantile_50_mae: 0.0379 - val_quantile_50_mape: 29.9663 - val_quantile_50_mse: 0.0043 - val_quantile_50_rmse: 0.0657 - val_quantile_75_loss: 0.0154 - val_quantile_75_mae: 0.0480 - val_quantile_75_mape: 47.1062 - val_quantile_75_mse: 0.0063 - val_quantile_75_rmse: 0.0796 - val_quantile_90_loss: 0.0087 - val_quantile_90_mae: 0.0627 - val_quantile_90_mape: 66.8092 - val_quantile_90_mse: 0.0095 - val_quantile_90_rmse: 0.0975\n",
            "Epoch 22/40\n",
            "\u001b[1m1209/1209\u001b[0m \u001b[32m━━━━━━━━━━━━━━━━━━━━\u001b[0m\u001b[37m\u001b[0m \u001b[1m82s\u001b[0m 35ms/step - loss: 0.0351 - quantile_10_loss: 0.0047 - quantile_10_mae: 0.0342 - quantile_10_mape: 2007.5066 - quantile_10_mse: 0.0039 - quantile_10_rmse: 0.0626 - quantile_25_loss: 0.0080 - quantile_25_mae: 0.0240 - quantile_25_mape: 1462.5587 - quantile_25_mse: 0.0022 - quantile_25_rmse: 0.0470 - quantile_50_loss: 0.0099 - quantile_50_mae: 0.0198 - quantile_50_mape: 1565.1975 - quantile_50_mse: 0.0016 - quantile_50_rmse: 0.0401 - quantile_75_loss: 0.0080 - quantile_75_mae: 0.0239 - quantile_75_mape: 2471.9924 - quantile_75_mse: 0.0022 - quantile_75_rmse: 0.0474 - quantile_90_loss: 0.0046 - quantile_90_mae: 0.0342 - quantile_90_mape: 3430.4893 - quantile_90_mse: 0.0040 - quantile_90_rmse: 0.0632 - val_loss: 0.0688 - val_quantile_10_loss: 0.0095 - val_quantile_10_mae: 0.0544 - val_quantile_10_mape: 37.4128 - val_quantile_10_mse: 0.0074 - val_quantile_10_rmse: 0.0858 - val_quantile_25_loss: 0.0160 - val_quantile_25_mae: 0.0434 - val_quantile_25_mape: 30.3641 - val_quantile_25_mse: 0.0052 - val_quantile_25_rmse: 0.0718 - val_quantile_50_loss: 0.0191 - val_quantile_50_mae: 0.0380 - val_quantile_50_mape: 31.6999 - val_quantile_50_mse: 0.0043 - val_quantile_50_rmse: 0.0656 - val_quantile_75_loss: 0.0156 - val_quantile_75_mae: 0.0427 - val_quantile_75_mape: 43.8678 - val_quantile_75_mse: 0.0054 - val_quantile_75_rmse: 0.0734 - val_quantile_90_loss: 0.0091 - val_quantile_90_mae: 0.0571 - val_quantile_90_mape: 61.2192 - val_quantile_90_mse: 0.0086 - val_quantile_90_rmse: 0.0928\n",
            "Epoch 23/40\n",
            "\u001b[1m1209/1209\u001b[0m \u001b[32m━━━━━━━━━━━━━━━━━━━━\u001b[0m\u001b[37m\u001b[0m \u001b[1m81s\u001b[0m 35ms/step - loss: 0.0348 - quantile_10_loss: 0.0047 - quantile_10_mae: 0.0341 - quantile_10_mape: 1296.7905 - quantile_10_mse: 0.0039 - quantile_10_rmse: 0.0621 - quantile_25_loss: 0.0080 - quantile_25_mae: 0.0238 - quantile_25_mape: 1099.3483 - quantile_25_mse: 0.0021 - quantile_25_rmse: 0.0462 - quantile_50_loss: 0.0098 - quantile_50_mae: 0.0196 - quantile_50_mape: 1074.1345 - quantile_50_mse: 0.0016 - quantile_50_rmse: 0.0397 - quantile_75_loss: 0.0079 - quantile_75_mae: 0.0237 - quantile_75_mape: 1685.5177 - quantile_75_mse: 0.0022 - quantile_75_rmse: 0.0468 - quantile_90_loss: 0.0045 - quantile_90_mae: 0.0337 - quantile_90_mape: 2628.8081 - quantile_90_mse: 0.0039 - quantile_90_rmse: 0.0621 - val_loss: 0.0683 - val_quantile_10_loss: 0.0096 - val_quantile_10_mae: 0.0538 - val_quantile_10_mape: 33.5673 - val_quantile_10_mse: 0.0074 - val_quantile_10_rmse: 0.0859 - val_quantile_25_loss: 0.0161 - val_quantile_25_mae: 0.0415 - val_quantile_25_mape: 28.9005 - val_quantile_25_mse: 0.0049 - val_quantile_25_rmse: 0.0701 - val_quantile_50_loss: 0.0190 - val_quantile_50_mae: 0.0377 - val_quantile_50_mape: 30.2156 - val_quantile_50_mse: 0.0043 - val_quantile_50_rmse: 0.0653 - val_quantile_75_loss: 0.0153 - val_quantile_75_mae: 0.0453 - val_quantile_75_mape: 41.6822 - val_quantile_75_mse: 0.0058 - val_quantile_75_rmse: 0.0765 - val_quantile_90_loss: 0.0089 - val_quantile_90_mae: 0.0589 - val_quantile_90_mape: 53.1664 - val_quantile_90_mse: 0.0089 - val_quantile_90_rmse: 0.0946\n",
            "Epoch 24/40\n",
            "\u001b[1m1209/1209\u001b[0m \u001b[32m━━━━━━━━━━━━━━━━━━━━\u001b[0m\u001b[37m\u001b[0m \u001b[1m83s\u001b[0m 36ms/step - loss: 0.0348 - quantile_10_loss: 0.0047 - quantile_10_mae: 0.0343 - quantile_10_mape: 1475.2024 - quantile_10_mse: 0.0040 - quantile_10_rmse: 0.0633 - quantile_25_loss: 0.0080 - quantile_25_mae: 0.0238 - quantile_25_mape: 1216.5913 - quantile_25_mse: 0.0022 - quantile_25_rmse: 0.0466 - quantile_50_loss: 0.0098 - quantile_50_mae: 0.0197 - quantile_50_mape: 1287.3624 - quantile_50_mse: 0.0016 - quantile_50_rmse: 0.0399 - quantile_75_loss: 0.0078 - quantile_75_mae: 0.0236 - quantile_75_mape: 1973.2345 - quantile_75_mse: 0.0022 - quantile_75_rmse: 0.0471 - quantile_90_loss: 0.0045 - quantile_90_mae: 0.0336 - quantile_90_mape: 2895.5955 - quantile_90_mse: 0.0039 - quantile_90_rmse: 0.0627 - val_loss: 0.0679 - val_quantile_10_loss: 0.0097 - val_quantile_10_mae: 0.0537 - val_quantile_10_mape: 33.9711 - val_quantile_10_mse: 0.0071 - val_quantile_10_rmse: 0.0841 - val_quantile_25_loss: 0.0158 - val_quantile_25_mae: 0.0419 - val_quantile_25_mape: 28.9882 - val_quantile_25_mse: 0.0049 - val_quantile_25_rmse: 0.0697 - val_quantile_50_loss: 0.0188 - val_quantile_50_mae: 0.0373 - val_quantile_50_mape: 29.8698 - val_quantile_50_mse: 0.0041 - val_quantile_50_rmse: 0.0644 - val_quantile_75_loss: 0.0153 - val_quantile_75_mae: 0.0399 - val_quantile_75_mape: 39.0611 - val_quantile_75_mse: 0.0049 - val_quantile_75_rmse: 0.0700 - val_quantile_90_loss: 0.0091 - val_quantile_90_mae: 0.0530 - val_quantile_90_mape: 50.2389 - val_quantile_90_mse: 0.0078 - val_quantile_90_rmse: 0.0883\n",
            "Epoch 25/40\n",
            "\u001b[1m1209/1209\u001b[0m \u001b[32m━━━━━━━━━━━━━━━━━━━━\u001b[0m\u001b[37m\u001b[0m \u001b[1m81s\u001b[0m 35ms/step - loss: 0.0350 - quantile_10_loss: 0.0047 - quantile_10_mae: 0.0344 - quantile_10_mape: 1942.5857 - quantile_10_mse: 0.0040 - quantile_10_rmse: 0.0631 - quantile_25_loss: 0.0080 - quantile_25_mae: 0.0238 - quantile_25_mape: 1597.0488 - quantile_25_mse: 0.0022 - quantile_25_rmse: 0.0467 - quantile_50_loss: 0.0098 - quantile_50_mae: 0.0197 - quantile_50_mape: 1603.8854 - quantile_50_mse: 0.0016 - quantile_50_rmse: 0.0401 - quantile_75_loss: 0.0080 - quantile_75_mae: 0.0238 - quantile_75_mape: 1930.8401 - quantile_75_mse: 0.0022 - quantile_75_rmse: 0.0473 - quantile_90_loss: 0.0045 - quantile_90_mae: 0.0338 - quantile_90_mape: 2789.5986 - quantile_90_mse: 0.0040 - quantile_90_rmse: 0.0631 - val_loss: 0.0683 - val_quantile_10_loss: 0.0095 - val_quantile_10_mae: 0.0576 - val_quantile_10_mape: 39.7264 - val_quantile_10_mse: 0.0077 - val_quantile_10_rmse: 0.0880 - val_quantile_25_loss: 0.0162 - val_quantile_25_mae: 0.0417 - val_quantile_25_mape: 29.4613 - val_quantile_25_mse: 0.0048 - val_quantile_25_rmse: 0.0694 - val_quantile_50_loss: 0.0192 - val_quantile_50_mae: 0.0382 - val_quantile_50_mape: 30.7176 - val_quantile_50_mse: 0.0043 - val_quantile_50_rmse: 0.0656 - val_quantile_75_loss: 0.0152 - val_quantile_75_mae: 0.0436 - val_quantile_75_mape: 40.5449 - val_quantile_75_mse: 0.0056 - val_quantile_75_rmse: 0.0746 - val_quantile_90_loss: 0.0087 - val_quantile_90_mae: 0.0612 - val_quantile_90_mape: 58.0768 - val_quantile_90_mse: 0.0095 - val_quantile_90_rmse: 0.0975\n",
            "Epoch 26/40\n",
            "\u001b[1m1209/1209\u001b[0m \u001b[32m━━━━━━━━━━━━━━━━━━━━\u001b[0m\u001b[37m\u001b[0m \u001b[1m83s\u001b[0m 36ms/step - loss: 0.0347 - quantile_10_loss: 0.0046 - quantile_10_mae: 0.0343 - quantile_10_mape: 1377.3456 - quantile_10_mse: 0.0040 - quantile_10_rmse: 0.0633 - quantile_25_loss: 0.0079 - quantile_25_mae: 0.0237 - quantile_25_mape: 990.2974 - quantile_25_mse: 0.0021 - quantile_25_rmse: 0.0463 - quantile_50_loss: 0.0098 - quantile_50_mae: 0.0196 - quantile_50_mape: 1442.1110 - quantile_50_mse: 0.0016 - quantile_50_rmse: 0.0396 - quantile_75_loss: 0.0079 - quantile_75_mae: 0.0235 - quantile_75_mape: 2437.2368 - quantile_75_mse: 0.0022 - quantile_75_rmse: 0.0467 - quantile_90_loss: 0.0045 - quantile_90_mae: 0.0337 - quantile_90_mape: 3573.7378 - quantile_90_mse: 0.0039 - quantile_90_rmse: 0.0626 - val_loss: 0.0687 - val_quantile_10_loss: 0.0094 - val_quantile_10_mae: 0.0561 - val_quantile_10_mape: 37.0476 - val_quantile_10_mse: 0.0075 - val_quantile_10_rmse: 0.0868 - val_quantile_25_loss: 0.0155 - val_quantile_25_mae: 0.0433 - val_quantile_25_mape: 29.8422 - val_quantile_25_mse: 0.0052 - val_quantile_25_rmse: 0.0721 - val_quantile_50_loss: 0.0190 - val_quantile_50_mae: 0.0379 - val_quantile_50_mape: 31.5089 - val_quantile_50_mse: 0.0043 - val_quantile_50_rmse: 0.0660 - val_quantile_75_loss: 0.0157 - val_quantile_75_mae: 0.0430 - val_quantile_75_mape: 41.1006 - val_quantile_75_mse: 0.0054 - val_quantile_75_rmse: 0.0737 - val_quantile_90_loss: 0.0093 - val_quantile_90_mae: 0.0600 - val_quantile_90_mape: 58.8014 - val_quantile_90_mse: 0.0092 - val_quantile_90_rmse: 0.0957\n",
            "Epoch 27/40\n",
            "\u001b[1m1209/1209\u001b[0m \u001b[32m━━━━━━━━━━━━━━━━━━━━\u001b[0m\u001b[37m\u001b[0m \u001b[1m82s\u001b[0m 37ms/step - loss: 0.0346 - quantile_10_loss: 0.0047 - quantile_10_mae: 0.0337 - quantile_10_mape: 1643.8489 - quantile_10_mse: 0.0038 - quantile_10_rmse: 0.0619 - quantile_25_loss: 0.0080 - quantile_25_mae: 0.0235 - quantile_25_mape: 1308.7899 - quantile_25_mse: 0.0021 - quantile_25_rmse: 0.0462 - quantile_50_loss: 0.0097 - quantile_50_mae: 0.0195 - quantile_50_mape: 1482.4861 - quantile_50_mse: 0.0016 - quantile_50_rmse: 0.0398 - quantile_75_loss: 0.0078 - quantile_75_mae: 0.0235 - quantile_75_mape: 2306.3682 - quantile_75_mse: 0.0022 - quantile_75_rmse: 0.0469 - quantile_90_loss: 0.0045 - quantile_90_mae: 0.0334 - quantile_90_mape: 3475.1389 - quantile_90_mse: 0.0039 - quantile_90_rmse: 0.0625 - val_loss: 0.0692 - val_quantile_10_loss: 0.0094 - val_quantile_10_mae: 0.0563 - val_quantile_10_mape: 34.8045 - val_quantile_10_mse: 0.0077 - val_quantile_10_rmse: 0.0880 - val_quantile_25_loss: 0.0156 - val_quantile_25_mae: 0.0436 - val_quantile_25_mape: 29.5423 - val_quantile_25_mse: 0.0053 - val_quantile_25_rmse: 0.0728 - val_quantile_50_loss: 0.0192 - val_quantile_50_mae: 0.0381 - val_quantile_50_mape: 29.0962 - val_quantile_50_mse: 0.0044 - val_quantile_50_rmse: 0.0666 - val_quantile_75_loss: 0.0158 - val_quantile_75_mae: 0.0416 - val_quantile_75_mape: 37.8853 - val_quantile_75_mse: 0.0052 - val_quantile_75_rmse: 0.0723 - val_quantile_90_loss: 0.0097 - val_quantile_90_mae: 0.0521 - val_quantile_90_mape: 53.4057 - val_quantile_90_mse: 0.0074 - val_quantile_90_rmse: 0.0860\n",
            "Epoch 28/40\n",
            "\u001b[1m1209/1209\u001b[0m \u001b[32m━━━━━━━━━━━━━━━━━━━━\u001b[0m\u001b[37m\u001b[0m \u001b[1m79s\u001b[0m 35ms/step - loss: 0.0341 - quantile_10_loss: 0.0046 - quantile_10_mae: 0.0331 - quantile_10_mape: 2040.5593 - quantile_10_mse: 0.0037 - quantile_10_rmse: 0.0605 - quantile_25_loss: 0.0078 - quantile_25_mae: 0.0231 - quantile_25_mape: 1680.0625 - quantile_25_mse: 0.0021 - quantile_25_rmse: 0.0454 - quantile_50_loss: 0.0096 - quantile_50_mae: 0.0192 - quantile_50_mape: 1634.0363 - quantile_50_mse: 0.0015 - quantile_50_rmse: 0.0391 - quantile_75_loss: 0.0077 - quantile_75_mae: 0.0231 - quantile_75_mape: 1795.2982 - quantile_75_mse: 0.0021 - quantile_75_rmse: 0.0460 - quantile_90_loss: 0.0044 - quantile_90_mae: 0.0329 - quantile_90_mape: 2787.2900 - quantile_90_mse: 0.0038 - quantile_90_rmse: 0.0614 - val_loss: 0.0686 - val_quantile_10_loss: 0.0100 - val_quantile_10_mae: 0.0546 - val_quantile_10_mape: 39.6551 - val_quantile_10_mse: 0.0071 - val_quantile_10_rmse: 0.0841 - val_quantile_25_loss: 0.0160 - val_quantile_25_mae: 0.0422 - val_quantile_25_mape: 30.0584 - val_quantile_25_mse: 0.0049 - val_quantile_25_rmse: 0.0702 - val_quantile_50_loss: 0.0191 - val_quantile_50_mae: 0.0379 - val_quantile_50_mape: 30.0022 - val_quantile_50_mse: 0.0043 - val_quantile_50_rmse: 0.0655 - val_quantile_75_loss: 0.0153 - val_quantile_75_mae: 0.0422 - val_quantile_75_mape: 41.1171 - val_quantile_75_mse: 0.0054 - val_quantile_75_rmse: 0.0733 - val_quantile_90_loss: 0.0089 - val_quantile_90_mae: 0.0559 - val_quantile_90_mape: 62.4189 - val_quantile_90_mse: 0.0083 - val_quantile_90_rmse: 0.0912\n",
            "Epoch 29/40\n",
            "\u001b[1m1209/1209\u001b[0m \u001b[32m━━━━━━━━━━━━━━━━━━━━\u001b[0m\u001b[37m\u001b[0m \u001b[1m83s\u001b[0m 36ms/step - loss: 0.0341 - quantile_10_loss: 0.0046 - quantile_10_mae: 0.0333 - quantile_10_mape: 1227.2341 - quantile_10_mse: 0.0036 - quantile_10_rmse: 0.0604 - quantile_25_loss: 0.0079 - quantile_25_mae: 0.0231 - quantile_25_mape: 900.4030 - quantile_25_mse: 0.0020 - quantile_25_rmse: 0.0448 - quantile_50_loss: 0.0096 - quantile_50_mae: 0.0192 - quantile_50_mape: 975.0165 - quantile_50_mse: 0.0015 - quantile_50_rmse: 0.0388 - quantile_75_loss: 0.0077 - quantile_75_mae: 0.0232 - quantile_75_mape: 1540.9733 - quantile_75_mse: 0.0022 - quantile_75_rmse: 0.0464 - quantile_90_loss: 0.0044 - quantile_90_mae: 0.0331 - quantile_90_mape: 2277.6577 - quantile_90_mse: 0.0038 - quantile_90_rmse: 0.0617 - val_loss: 0.0693 - val_quantile_10_loss: 0.0095 - val_quantile_10_mae: 0.0548 - val_quantile_10_mape: 33.7603 - val_quantile_10_mse: 0.0075 - val_quantile_10_rmse: 0.0867 - val_quantile_25_loss: 0.0158 - val_quantile_25_mae: 0.0422 - val_quantile_25_mape: 30.3228 - val_quantile_25_mse: 0.0052 - val_quantile_25_rmse: 0.0718 - val_quantile_50_loss: 0.0194 - val_quantile_50_mae: 0.0386 - val_quantile_50_mape: 39.8175 - val_quantile_50_mse: 0.0045 - val_quantile_50_rmse: 0.0667 - val_quantile_75_loss: 0.0158 - val_quantile_75_mae: 0.0468 - val_quantile_75_mape: 57.7885 - val_quantile_75_mse: 0.0060 - val_quantile_75_rmse: 0.0778 - val_quantile_90_loss: 0.0092 - val_quantile_90_mae: 0.0632 - val_quantile_90_mape: 70.9923 - val_quantile_90_mse: 0.0099 - val_quantile_90_rmse: 0.0994\n",
            "Epoch 30/40\n",
            "\u001b[1m1209/1209\u001b[0m \u001b[32m━━━━━━━━━━━━━━━━━━━━\u001b[0m\u001b[37m\u001b[0m \u001b[1m81s\u001b[0m 35ms/step - loss: 0.0338 - quantile_10_loss: 0.0045 - quantile_10_mae: 0.0329 - quantile_10_mape: 1573.6447 - quantile_10_mse: 0.0036 - quantile_10_rmse: 0.0601 - quantile_25_loss: 0.0077 - quantile_25_mae: 0.0229 - quantile_25_mape: 1289.4482 - quantile_25_mse: 0.0020 - quantile_25_rmse: 0.0446 - quantile_50_loss: 0.0095 - quantile_50_mae: 0.0190 - quantile_50_mape: 1268.6276 - quantile_50_mse: 0.0015 - quantile_50_rmse: 0.0385 - quantile_75_loss: 0.0077 - quantile_75_mae: 0.0230 - quantile_75_mape: 2203.1851 - quantile_75_mse: 0.0021 - quantile_75_rmse: 0.0457 - quantile_90_loss: 0.0044 - quantile_90_mae: 0.0329 - quantile_90_mape: 3256.3828 - quantile_90_mse: 0.0037 - quantile_90_rmse: 0.0610 - val_loss: 0.0705 - val_quantile_10_loss: 0.0099 - val_quantile_10_mae: 0.0530 - val_quantile_10_mape: 33.3791 - val_quantile_10_mse: 0.0070 - val_quantile_10_rmse: 0.0834 - val_quantile_25_loss: 0.0168 - val_quantile_25_mae: 0.0410 - val_quantile_25_mape: 29.5469 - val_quantile_25_mse: 0.0048 - val_quantile_25_rmse: 0.0689 - val_quantile_50_loss: 0.0196 - val_quantile_50_mae: 0.0391 - val_quantile_50_mape: 32.7881 - val_quantile_50_mse: 0.0046 - val_quantile_50_rmse: 0.0678 - val_quantile_75_loss: 0.0155 - val_quantile_75_mae: 0.0464 - val_quantile_75_mape: 48.0314 - val_quantile_75_mse: 0.0062 - val_quantile_75_rmse: 0.0785 - val_quantile_90_loss: 0.0091 - val_quantile_90_mae: 0.0573 - val_quantile_90_mape: 66.8699 - val_quantile_90_mse: 0.0085 - val_quantile_90_rmse: 0.0920\n",
            "Epoch 31/40\n",
            "\u001b[1m1209/1209\u001b[0m \u001b[32m━━━━━━━━━━━━━━━━━━━━\u001b[0m\u001b[37m\u001b[0m \u001b[1m43s\u001b[0m 35ms/step - loss: 0.0333 - quantile_10_loss: 0.0045 - quantile_10_mae: 0.0324 - quantile_10_mape: 1617.9976 - quantile_10_mse: 0.0035 - quantile_10_rmse: 0.0593 - quantile_25_loss: 0.0076 - quantile_25_mae: 0.0225 - quantile_25_mape: 1279.5732 - quantile_25_mse: 0.0019 - quantile_25_rmse: 0.0440 - quantile_50_loss: 0.0094 - quantile_50_mae: 0.0187 - quantile_50_mape: 1447.7155 - quantile_50_mse: 0.0014 - quantile_50_rmse: 0.0379 - quantile_75_loss: 0.0075 - quantile_75_mae: 0.0226 - quantile_75_mape: 1827.6882 - quantile_75_mse: 0.0020 - quantile_75_rmse: 0.0450 - quantile_90_loss: 0.0043 - quantile_90_mae: 0.0322 - quantile_90_mape: 3149.7544 - quantile_90_mse: 0.0036 - quantile_90_rmse: 0.0599 - val_loss: 0.0707 - val_quantile_10_loss: 0.0096 - val_quantile_10_mae: 0.0589 - val_quantile_10_mape: 36.3791 - val_quantile_10_mse: 0.0084 - val_quantile_10_rmse: 0.0916 - val_quantile_25_loss: 0.0160 - val_quantile_25_mae: 0.0451 - val_quantile_25_mape: 30.7044 - val_quantile_25_mse: 0.0057 - val_quantile_25_rmse: 0.0753 - val_quantile_50_loss: 0.0196 - val_quantile_50_mae: 0.0390 - val_quantile_50_mape: 33.5554 - val_quantile_50_mse: 0.0047 - val_quantile_50_rmse: 0.0683 - val_quantile_75_loss: 0.0162 - val_quantile_75_mae: 0.0430 - val_quantile_75_mape: 46.9354 - val_quantile_75_mse: 0.0055 - val_quantile_75_rmse: 0.0745 - val_quantile_90_loss: 0.0097 - val_quantile_90_mae: 0.0569 - val_quantile_90_mape: 63.3339 - val_quantile_90_mse: 0.0087 - val_quantile_90_rmse: 0.0931\n",
            "Epoch 32/40\n",
            "\u001b[1m1209/1209\u001b[0m \u001b[32m━━━━━━━━━━━━━━━━━━━━\u001b[0m\u001b[37m\u001b[0m \u001b[1m44s\u001b[0m 36ms/step - loss: 0.0337 - quantile_10_loss: 0.0045 - quantile_10_mae: 0.0327 - quantile_10_mape: 1426.3267 - quantile_10_mse: 0.0036 - quantile_10_rmse: 0.0602 - quantile_25_loss: 0.0077 - quantile_25_mae: 0.0230 - quantile_25_mape: 1243.6838 - quantile_25_mse: 0.0020 - quantile_25_rmse: 0.0453 - quantile_50_loss: 0.0095 - quantile_50_mae: 0.0190 - quantile_50_mape: 1544.7631 - quantile_50_mse: 0.0015 - quantile_50_rmse: 0.0386 - quantile_75_loss: 0.0076 - quantile_75_mae: 0.0229 - quantile_75_mape: 2392.8660 - quantile_75_mse: 0.0021 - quantile_75_rmse: 0.0457 - quantile_90_loss: 0.0044 - quantile_90_mae: 0.0326 - quantile_90_mape: 3577.4551 - quantile_90_mse: 0.0037 - quantile_90_rmse: 0.0606 - val_loss: 0.0746 - val_quantile_10_loss: 0.0106 - val_quantile_10_mae: 0.0547 - val_quantile_10_mape: 44.9717 - val_quantile_10_mse: 0.0074 - val_quantile_10_rmse: 0.0862 - val_quantile_25_loss: 0.0167 - val_quantile_25_mae: 0.0446 - val_quantile_25_mape: 33.1149 - val_quantile_25_mse: 0.0056 - val_quantile_25_rmse: 0.0747 - val_quantile_50_loss: 0.0202 - val_quantile_50_mae: 0.0404 - val_quantile_50_mape: 29.9587 - val_quantile_50_mse: 0.0049 - val_quantile_50_rmse: 0.0703 - val_quantile_75_loss: 0.0166 - val_quantile_75_mae: 0.0444 - val_quantile_75_mape: 37.6795 - val_quantile_75_mse: 0.0058 - val_quantile_75_rmse: 0.0760 - val_quantile_90_loss: 0.0105 - val_quantile_90_mae: 0.0538 - val_quantile_90_mape: 50.6261 - val_quantile_90_mse: 0.0077 - val_quantile_90_rmse: 0.0876\n",
            "Epoch 33/40\n",
            "\u001b[1m1209/1209\u001b[0m \u001b[32m━━━━━━━━━━━━━━━━━━━━\u001b[0m\u001b[37m\u001b[0m \u001b[1m82s\u001b[0m 37ms/step - loss: 0.0337 - quantile_10_loss: 0.0045 - quantile_10_mae: 0.0326 - quantile_10_mape: 1420.9969 - quantile_10_mse: 0.0036 - quantile_10_rmse: 0.0599 - quantile_25_loss: 0.0077 - quantile_25_mae: 0.0229 - quantile_25_mape: 1327.8567 - quantile_25_mse: 0.0020 - quantile_25_rmse: 0.0451 - quantile_50_loss: 0.0095 - quantile_50_mae: 0.0189 - quantile_50_mape: 1509.7299 - quantile_50_mse: 0.0015 - quantile_50_rmse: 0.0387 - quantile_75_loss: 0.0076 - quantile_75_mae: 0.0230 - quantile_75_mape: 2099.3960 - quantile_75_mse: 0.0021 - quantile_75_rmse: 0.0461 - quantile_90_loss: 0.0044 - quantile_90_mae: 0.0324 - quantile_90_mape: 2789.9001 - quantile_90_mse: 0.0037 - quantile_90_rmse: 0.0607 - val_loss: 0.0691 - val_quantile_10_loss: 0.0096 - val_quantile_10_mae: 0.0580 - val_quantile_10_mape: 39.6375 - val_quantile_10_mse: 0.0079 - val_quantile_10_rmse: 0.0892 - val_quantile_25_loss: 0.0159 - val_quantile_25_mae: 0.0431 - val_quantile_25_mape: 30.2140 - val_quantile_25_mse: 0.0052 - val_quantile_25_rmse: 0.0718 - val_quantile_50_loss: 0.0191 - val_quantile_50_mae: 0.0381 - val_quantile_50_mape: 30.8445 - val_quantile_50_mse: 0.0045 - val_quantile_50_rmse: 0.0674 - val_quantile_75_loss: 0.0155 - val_quantile_75_mae: 0.0440 - val_quantile_75_mape: 41.5142 - val_quantile_75_mse: 0.0059 - val_quantile_75_rmse: 0.0768 - val_quantile_90_loss: 0.0092 - val_quantile_90_mae: 0.0571 - val_quantile_90_mape: 55.0065 - val_quantile_90_mse: 0.0089 - val_quantile_90_rmse: 0.0941\n",
            "Epoch 34/40\n",
            "\u001b[1m1209/1209\u001b[0m \u001b[32m━━━━━━━━━━━━━━━━━━━━\u001b[0m\u001b[37m\u001b[0m \u001b[1m82s\u001b[0m 37ms/step - loss: 0.0328 - quantile_10_loss: 0.0044 - quantile_10_mae: 0.0322 - quantile_10_mape: 1200.4235 - quantile_10_mse: 0.0035 - quantile_10_rmse: 0.0590 - quantile_25_loss: 0.0075 - quantile_25_mae: 0.0223 - quantile_25_mape: 959.5560 - quantile_25_mse: 0.0019 - quantile_25_rmse: 0.0435 - quantile_50_loss: 0.0092 - quantile_50_mae: 0.0185 - quantile_50_mape: 1105.1077 - quantile_50_mse: 0.0014 - quantile_50_rmse: 0.0375 - quantile_75_loss: 0.0074 - quantile_75_mae: 0.0224 - quantile_75_mape: 1639.4371 - quantile_75_mse: 0.0020 - quantile_75_rmse: 0.0446 - quantile_90_loss: 0.0042 - quantile_90_mae: 0.0320 - quantile_90_mape: 2537.7996 - quantile_90_mse: 0.0036 - quantile_90_rmse: 0.0596 - val_loss: 0.0728 - val_quantile_10_loss: 0.0109 - val_quantile_10_mae: 0.0516 - val_quantile_10_mape: 35.8698 - val_quantile_10_mse: 0.0070 - val_quantile_10_rmse: 0.0834 - val_quantile_25_loss: 0.0171 - val_quantile_25_mae: 0.0420 - val_quantile_25_mape: 30.3584 - val_quantile_25_mse: 0.0051 - val_quantile_25_rmse: 0.0714 - val_quantile_50_loss: 0.0200 - val_quantile_50_mae: 0.0398 - val_quantile_50_mape: 31.8961 - val_quantile_50_mse: 0.0049 - val_quantile_50_rmse: 0.0697 - val_quantile_75_loss: 0.0158 - val_quantile_75_mae: 0.0451 - val_quantile_75_mape: 44.2355 - val_quantile_75_mse: 0.0060 - val_quantile_75_rmse: 0.0773 - val_quantile_90_loss: 0.0093 - val_quantile_90_mae: 0.0603 - val_quantile_90_mape: 59.4698 - val_quantile_90_mse: 0.0094 - val_quantile_90_rmse: 0.0969\n",
            "Epoch 35/40\n",
            "\u001b[1m1209/1209\u001b[0m \u001b[32m━━━━━━━━━━━━━━━━━━━━\u001b[0m\u001b[37m\u001b[0m \u001b[1m81s\u001b[0m 36ms/step - loss: 0.0335 - quantile_10_loss: 0.0045 - quantile_10_mae: 0.0326 - quantile_10_mape: 1996.9733 - quantile_10_mse: 0.0036 - quantile_10_rmse: 0.0603 - quantile_25_loss: 0.0077 - quantile_25_mae: 0.0229 - quantile_25_mape: 1556.5636 - quantile_25_mse: 0.0020 - quantile_25_rmse: 0.0451 - quantile_50_loss: 0.0094 - quantile_50_mae: 0.0188 - quantile_50_mape: 1526.7395 - quantile_50_mse: 0.0015 - quantile_50_rmse: 0.0387 - quantile_75_loss: 0.0076 - quantile_75_mae: 0.0227 - quantile_75_mape: 1705.5992 - quantile_75_mse: 0.0021 - quantile_75_rmse: 0.0458 - quantile_90_loss: 0.0043 - quantile_90_mae: 0.0323 - quantile_90_mape: 2349.5659 - quantile_90_mse: 0.0037 - quantile_90_rmse: 0.0609 - val_loss: 0.0707 - val_quantile_10_loss: 0.0100 - val_quantile_10_mae: 0.0547 - val_quantile_10_mape: 39.1057 - val_quantile_10_mse: 0.0074 - val_quantile_10_rmse: 0.0858 - val_quantile_25_loss: 0.0164 - val_quantile_25_mae: 0.0423 - val_quantile_25_mape: 30.8850 - val_quantile_25_mse: 0.0050 - val_quantile_25_rmse: 0.0710 - val_quantile_50_loss: 0.0196 - val_quantile_50_mae: 0.0390 - val_quantile_50_mape: 32.8837 - val_quantile_50_mse: 0.0046 - val_quantile_50_rmse: 0.0680 - val_quantile_75_loss: 0.0158 - val_quantile_75_mae: 0.0461 - val_quantile_75_mape: 51.0872 - val_quantile_75_mse: 0.0060 - val_quantile_75_rmse: 0.0772 - val_quantile_90_loss: 0.0094 - val_quantile_90_mae: 0.0581 - val_quantile_90_mape: 64.2542 - val_quantile_90_mse: 0.0086 - val_quantile_90_rmse: 0.0927\n",
            "Epoch 36/40\n",
            "\u001b[1m1209/1209\u001b[0m \u001b[32m━━━━━━━━━━━━━━━━━━━━\u001b[0m\u001b[37m\u001b[0m \u001b[1m82s\u001b[0m 36ms/step - loss: 0.0334 - quantile_10_loss: 0.0045 - quantile_10_mae: 0.0321 - quantile_10_mape: 1538.0142 - quantile_10_mse: 0.0035 - quantile_10_rmse: 0.0591 - quantile_25_loss: 0.0076 - quantile_25_mae: 0.0226 - quantile_25_mape: 1175.9045 - quantile_25_mse: 0.0020 - quantile_25_rmse: 0.0445 - quantile_50_loss: 0.0094 - quantile_50_mae: 0.0188 - quantile_50_mape: 1545.0165 - quantile_50_mse: 0.0015 - quantile_50_rmse: 0.0386 - quantile_75_loss: 0.0076 - quantile_75_mae: 0.0227 - quantile_75_mape: 2126.3845 - quantile_75_mse: 0.0021 - quantile_75_rmse: 0.0456 - quantile_90_loss: 0.0043 - quantile_90_mae: 0.0321 - quantile_90_mape: 3351.0176 - quantile_90_mse: 0.0036 - quantile_90_rmse: 0.0601 - val_loss: 0.0724 - val_quantile_10_loss: 0.0104 - val_quantile_10_mae: 0.0536 - val_quantile_10_mape: 39.0662 - val_quantile_10_mse: 0.0070 - val_quantile_10_rmse: 0.0839 - val_quantile_25_loss: 0.0164 - val_quantile_25_mae: 0.0441 - val_quantile_25_mape: 31.0869 - val_quantile_25_mse: 0.0052 - val_quantile_25_rmse: 0.0724 - val_quantile_50_loss: 0.0198 - val_quantile_50_mae: 0.0393 - val_quantile_50_mape: 30.1217 - val_quantile_50_mse: 0.0046 - val_quantile_50_rmse: 0.0677 - val_quantile_75_loss: 0.0163 - val_quantile_75_mae: 0.0412 - val_quantile_75_mape: 36.0870 - val_quantile_75_mse: 0.0053 - val_quantile_75_rmse: 0.0727 - val_quantile_90_loss: 0.0098 - val_quantile_90_mae: 0.0518 - val_quantile_90_mape: 50.0660 - val_quantile_90_mse: 0.0078 - val_quantile_90_rmse: 0.0881\n",
            "Epoch 37/40\n",
            "\u001b[1m1209/1209\u001b[0m \u001b[32m━━━━━━━━━━━━━━━━━━━━\u001b[0m\u001b[37m\u001b[0m \u001b[1m43s\u001b[0m 36ms/step - loss: 0.0327 - quantile_10_loss: 0.0044 - quantile_10_mae: 0.0318 - quantile_10_mape: 2628.7344 - quantile_10_mse: 0.0034 - quantile_10_rmse: 0.0582 - quantile_25_loss: 0.0075 - quantile_25_mae: 0.0221 - quantile_25_mape: 1715.9371 - quantile_25_mse: 0.0019 - quantile_25_rmse: 0.0436 - quantile_50_loss: 0.0092 - quantile_50_mae: 0.0184 - quantile_50_mape: 1411.8879 - quantile_50_mse: 0.0014 - quantile_50_rmse: 0.0378 - quantile_75_loss: 0.0074 - quantile_75_mae: 0.0220 - quantile_75_mape: 1505.3643 - quantile_75_mse: 0.0020 - quantile_75_rmse: 0.0443 - quantile_90_loss: 0.0043 - quantile_90_mae: 0.0315 - quantile_90_mape: 2498.0315 - quantile_90_mse: 0.0034 - quantile_90_rmse: 0.0586 - val_loss: 0.0715 - val_quantile_10_loss: 0.0097 - val_quantile_10_mae: 0.0568 - val_quantile_10_mape: 36.6960 - val_quantile_10_mse: 0.0081 - val_quantile_10_rmse: 0.0900 - val_quantile_25_loss: 0.0167 - val_quantile_25_mae: 0.0435 - val_quantile_25_mape: 30.2025 - val_quantile_25_mse: 0.0053 - val_quantile_25_rmse: 0.0727 - val_quantile_50_loss: 0.0199 - val_quantile_50_mae: 0.0397 - val_quantile_50_mape: 33.2693 - val_quantile_50_mse: 0.0047 - val_quantile_50_rmse: 0.0686 - val_quantile_75_loss: 0.0159 - val_quantile_75_mae: 0.0453 - val_quantile_75_mape: 46.4599 - val_quantile_75_mse: 0.0060 - val_quantile_75_rmse: 0.0774 - val_quantile_90_loss: 0.0094 - val_quantile_90_mae: 0.0589 - val_quantile_90_mape: 67.8677 - val_quantile_90_mse: 0.0089 - val_quantile_90_rmse: 0.0944\n",
            "Epoch 38/40\n",
            "\u001b[1m1209/1209\u001b[0m \u001b[32m━━━━━━━━━━━━━━━━━━━━\u001b[0m\u001b[37m\u001b[0m \u001b[1m84s\u001b[0m 38ms/step - loss: 0.0325 - quantile_10_loss: 0.0044 - quantile_10_mae: 0.0318 - quantile_10_mape: 1595.6887 - quantile_10_mse: 0.0034 - quantile_10_rmse: 0.0586 - quantile_25_loss: 0.0075 - quantile_25_mae: 0.0221 - quantile_25_mape: 1439.0302 - quantile_25_mse: 0.0019 - quantile_25_rmse: 0.0433 - quantile_50_loss: 0.0091 - quantile_50_mae: 0.0183 - quantile_50_mape: 1472.0756 - quantile_50_mse: 0.0014 - quantile_50_rmse: 0.0374 - quantile_75_loss: 0.0073 - quantile_75_mae: 0.0220 - quantile_75_mape: 2230.8760 - quantile_75_mse: 0.0020 - quantile_75_rmse: 0.0443 - quantile_90_loss: 0.0042 - quantile_90_mae: 0.0314 - quantile_90_mape: 3472.5142 - quantile_90_mse: 0.0035 - quantile_90_rmse: 0.0589 - val_loss: 0.0739 - val_quantile_10_loss: 0.0098 - val_quantile_10_mae: 0.0575 - val_quantile_10_mape: 37.7305 - val_quantile_10_mse: 0.0083 - val_quantile_10_rmse: 0.0909 - val_quantile_25_loss: 0.0167 - val_quantile_25_mae: 0.0451 - val_quantile_25_mape: 31.0964 - val_quantile_25_mse: 0.0057 - val_quantile_25_rmse: 0.0752 - val_quantile_50_loss: 0.0205 - val_quantile_50_mae: 0.0408 - val_quantile_50_mape: 31.6141 - val_quantile_50_mse: 0.0050 - val_quantile_50_rmse: 0.0706 - val_quantile_75_loss: 0.0169 - val_quantile_75_mae: 0.0460 - val_quantile_75_mape: 38.7294 - val_quantile_75_mse: 0.0062 - val_quantile_75_rmse: 0.0789 - val_quantile_90_loss: 0.0103 - val_quantile_90_mae: 0.0584 - val_quantile_90_mape: 55.3855 - val_quantile_90_mse: 0.0091 - val_quantile_90_rmse: 0.0952\n",
            "Epoch 39/40\n",
            "\u001b[1m1209/1209\u001b[0m \u001b[32m━━━━━━━━━━━━━━━━━━━━\u001b[0m\u001b[37m\u001b[0m \u001b[1m44s\u001b[0m 36ms/step - loss: 0.0326 - quantile_10_loss: 0.0044 - quantile_10_mae: 0.0319 - quantile_10_mape: 1767.6340 - quantile_10_mse: 0.0034 - quantile_10_rmse: 0.0586 - quantile_25_loss: 0.0075 - quantile_25_mae: 0.0221 - quantile_25_mape: 1290.2102 - quantile_25_mse: 0.0019 - quantile_25_rmse: 0.0432 - quantile_50_loss: 0.0092 - quantile_50_mae: 0.0184 - quantile_50_mape: 1439.3466 - quantile_50_mse: 0.0014 - quantile_50_rmse: 0.0374 - quantile_75_loss: 0.0074 - quantile_75_mae: 0.0221 - quantile_75_mape: 1959.6036 - quantile_75_mse: 0.0020 - quantile_75_rmse: 0.0444 - quantile_90_loss: 0.0042 - quantile_90_mae: 0.0314 - quantile_90_mape: 2914.8184 - quantile_90_mse: 0.0034 - quantile_90_rmse: 0.0586 - val_loss: 0.0751 - val_quantile_10_loss: 0.0108 - val_quantile_10_mae: 0.0540 - val_quantile_10_mape: 35.6288 - val_quantile_10_mse: 0.0074 - val_quantile_10_rmse: 0.0863 - val_quantile_25_loss: 0.0180 - val_quantile_25_mae: 0.0431 - val_quantile_25_mape: 29.7762 - val_quantile_25_mse: 0.0052 - val_quantile_25_rmse: 0.0723 - val_quantile_50_loss: 0.0204 - val_quantile_50_mae: 0.0406 - val_quantile_50_mape: 35.3255 - val_quantile_50_mse: 0.0049 - val_quantile_50_rmse: 0.0700 - val_quantile_75_loss: 0.0164 - val_quantile_75_mae: 0.0444 - val_quantile_75_mape: 46.6119 - val_quantile_75_mse: 0.0058 - val_quantile_75_rmse: 0.0761 - val_quantile_90_loss: 0.0099 - val_quantile_90_mae: 0.0562 - val_quantile_90_mape: 65.7918 - val_quantile_90_mse: 0.0083 - val_quantile_90_rmse: 0.0911\n",
            "Epoch 40/40\n",
            "\u001b[1m1209/1209\u001b[0m \u001b[32m━━━━━━━━━━━━━━━━━━━━\u001b[0m\u001b[37m\u001b[0m \u001b[1m45s\u001b[0m 37ms/step - loss: 0.0324 - quantile_10_loss: 0.0043 - quantile_10_mae: 0.0316 - quantile_10_mape: 2253.6030 - quantile_10_mse: 0.0033 - quantile_10_rmse: 0.0578 - quantile_25_loss: 0.0074 - quantile_25_mae: 0.0220 - quantile_25_mape: 1606.7462 - quantile_25_mse: 0.0018 - quantile_25_rmse: 0.0430 - quantile_50_loss: 0.0091 - quantile_50_mae: 0.0182 - quantile_50_mape: 1636.7145 - quantile_50_mse: 0.0014 - quantile_50_rmse: 0.0372 - quantile_75_loss: 0.0073 - quantile_75_mae: 0.0218 - quantile_75_mape: 2642.7937 - quantile_75_mse: 0.0019 - quantile_75_rmse: 0.0438 - quantile_90_loss: 0.0042 - quantile_90_mae: 0.0311 - quantile_90_mape: 4044.9907 - quantile_90_mse: 0.0034 - quantile_90_rmse: 0.0580 - val_loss: 0.0739 - val_quantile_10_loss: 0.0104 - val_quantile_10_mae: 0.0528 - val_quantile_10_mape: 33.4852 - val_quantile_10_mse: 0.0070 - val_quantile_10_rmse: 0.0837 - val_quantile_25_loss: 0.0175 - val_quantile_25_mae: 0.0418 - val_quantile_25_mape: 31.4412 - val_quantile_25_mse: 0.0049 - val_quantile_25_rmse: 0.0702 - val_quantile_50_loss: 0.0199 - val_quantile_50_mae: 0.0395 - val_quantile_50_mape: 33.5904 - val_quantile_50_mse: 0.0047 - val_quantile_50_rmse: 0.0687 - val_quantile_75_loss: 0.0164 - val_quantile_75_mae: 0.0423 - val_quantile_75_mape: 45.0994 - val_quantile_75_mse: 0.0055 - val_quantile_75_rmse: 0.0739 - val_quantile_90_loss: 0.0103 - val_quantile_90_mae: 0.0523 - val_quantile_90_mape: 60.5471 - val_quantile_90_mse: 0.0076 - val_quantile_90_rmse: 0.0874\n"
          ]
        }
      ],
      "source": [
        "history = model.fit(\n",
        "    X_train_seq,\n",
        "    y_train_list,              # Liste von 5 Arrays (eines pro Quantil)\n",
        "    epochs=fit_config[\"epochs\"],\n",
        "    batch_size=fit_config[\"batch_size\"],\n",
        "    validation_data=(X_val_seq, y_val_list)\n",
        ")"
      ]
    },
    {
      "cell_type": "code",
      "execution_count": null,
      "metadata": {
        "id": "1s59gQgU6XIG"
      },
      "outputs": [],
      "source": [
        "preds = model.predict(X_test_seq)"
      ]
    },
    {
      "cell_type": "code",
      "execution_count": null,
      "metadata": {
        "id": "V3cL4klR6Ym8"
      },
      "outputs": [],
      "source": [
        "preds_inverses = []\n",
        "for i, q in enumerate(quantiles):\n",
        "    # Hier shape anpassen, so dass invert_transform() es annimmt (2D)\n",
        "    inv = scaler_y.inverse_transform(preds[i])\n",
        "    preds_inverses.append(inv)"
      ]
    },
    {
      "cell_type": "code",
      "execution_count": null,
      "metadata": {
        "id": "SNKxBf7HDRW6"
      },
      "outputs": [],
      "source": [
        "def compare_model_output_all_quantiles(model, X_test, y_test_list, quantiles, plot_indices=None):\n",
        "    \"\"\"\n",
        "    Vergleicht Modellvorhersagen für alle Quantile in einem Plot.\n",
        "\n",
        "    Parameter:\n",
        "    ----------\n",
        "    model         : Keras-Modell (Multi-Head) mit separaten Ausgängen für die Quantile.\n",
        "    X_test        : numpy-Array für Test-Sequenzen (shape (n_samples, seq_len, n_features)).\n",
        "    y_test_list   : Liste mit true-Werten pro Quantil (shape (n_samples,)),\n",
        "                    i.d.R. alle identisch, falls sie getiled wurden.\n",
        "    quantiles     : Liste mit Quantil-Werten (z.B. [0.1, 0.25, 0.5, 0.75, 0.9]).\n",
        "    plot_indices  : Optionales Tupel (start, end), um einen Detailplot für diesen\n",
        "                    Indexbereich zu erstellen.\n",
        "    \"\"\"\n",
        "    # Vorhersagen berechnen: Liste von Arrays, eins pro Quantil, shape jeweils (n_samples, 1)\n",
        "    preds_list = model.predict(X_test)\n",
        "\n",
        "    # Falls alle y_test_list[i] identisch sind (z.B. wegen np.tile):\n",
        "    # Dann können wir einmal das \"wahre\" y aus dem ersten Eintrag nehmen\n",
        "    y_true = y_test_list[0].flatten()\n",
        "\n",
        "    # Vorbereitung zur Speicherung der Metriken\n",
        "    metrics_data = []\n",
        "\n",
        "    # Flatten und Metrik-Berechnung pro Quantil\n",
        "    for i, q in enumerate(quantiles):\n",
        "        y_pred = preds_list[i].flatten()        # Vorhersagen für Quantil q\n",
        "        y_test_q = y_test_list[i].flatten()     # True-Werte (bei np.tile identisch)\n",
        "\n",
        "        # Metriken berechnen\n",
        "        mse = mean_squared_error(y_test_q, y_pred)\n",
        "        mae = mean_absolute_error(y_test_q, y_pred)\n",
        "\n",
        "        metrics_data.append((q, mse, mae))\n",
        "\n",
        "    # --- 1) Plot für den gesamten Bereich ---\n",
        "    plt.figure(figsize=(12, 5))\n",
        "\n",
        "    # Plot der True-Werte\n",
        "    plt.plot(y_true, label='Tatsächlicher Wert (y)', color='black', linewidth=2, alpha=0.7)\n",
        "\n",
        "    # Plot der Vorhersagen aller Quantile\n",
        "    for i, q in enumerate(quantiles):\n",
        "        plt.plot(preds_list[i].flatten(), label=f'Q={q}', alpha=0.7)\n",
        "\n",
        "    plt.title('Vorhersage für alle Quantile (gesamter Bereich)')\n",
        "    plt.legend()\n",
        "    plt.show()\n",
        "\n",
        "    # --- 2) Optionaler Detail-Plot ---\n",
        "    if plot_indices is not None:\n",
        "        start, end = plot_indices\n",
        "        plt.figure(figsize=(12, 5))\n",
        "\n",
        "        # Plot der True-Werte im angegebenen Bereich\n",
        "        plt.plot(np.arange(start, end), y_true[start:end], label='Tatsächlicher Wert (y)',\n",
        "                 color='black', linewidth=2, alpha=0.7)\n",
        "\n",
        "        # Plot der Vorhersagen aller Quantile im Detail-Bereich\n",
        "        for i, q in enumerate(quantiles):\n",
        "            y_pred = preds_list[i].flatten()\n",
        "            plt.plot(np.arange(start, end), y_pred[start:end], label=f'Q={q}', alpha=0.7)\n",
        "\n",
        "        plt.title(f'Detailplot aller Quantile (Index {start} - {end})')\n",
        "        plt.legend()\n",
        "        plt.show()\n",
        "\n",
        "    # --- 3) Zusammenfassung der Metriken ausgeben ---\n",
        "    print(\"Metriken pro Quantil:\")\n",
        "    for (q, mse, mae) in metrics_data:\n",
        "        print(f\"Quantil {q}: MSE={mse:.4f}, MAE={mae:.4f}\")\n"
      ]
    },
    {
      "cell_type": "code",
      "execution_count": null,
      "metadata": {
        "id": "pKj5BC74GxtB"
      },
      "outputs": [],
      "source": [
        "compare_model_output_all_quantiles(\n",
        "    model=model,\n",
        "    X_test=X_test_seq,\n",
        "    y_test_list=y_test_list,\n",
        "    quantiles=quantiles,\n",
        "    plot_indices=(2000, 2500)  # Beispielhafter Index-Bereich fürs Detailplot\n",
        ")"
      ]
    },
    {
      "cell_type": "code",
      "execution_count": null,
      "metadata": {
        "id": "TcRPFH4GG2dW"
      },
      "outputs": [],
      "source": [
        "def check_quantile_violations(model, X_test, y_test_seq):\n",
        "    \"\"\"\n",
        "    Berechnet, wie oft die gemessenen Werte (y_true) das 10%- und 25%-Quantil unterschreiten,\n",
        "    sowie das 75%- und 90%-Quantil überschreiten. Gibt außerdem die prozentualen Anteile\n",
        "    (bezogen auf alle Datenpunkte) zurück.\n",
        "\n",
        "    Parameter:\n",
        "    ----------\n",
        "    model       : Keras Multi-Head-Quantile-Modell\n",
        "    X_test      : numpy-Array (N, sequence_length, num_features)\n",
        "    y_test_seq  : numpy-Array (N, 5) oder (N, 1), in der Regel getiled,\n",
        "                  so dass in jeder Spalte der gleiche true-Wert steht.\n",
        "\n",
        "    Rückgabe:\n",
        "    ----------\n",
        "    dict\n",
        "        Dictionary mit absoluten Anzahlen und prozentualen Anteilen.\n",
        "    \"\"\"\n",
        "\n",
        "    # 1) Echte Y-Werte (1D) extrahieren:\n",
        "    #    Wenn y_test_seq.shape == (N, 5), ist jede Spalte identisch.\n",
        "    #    Wir nehmen einfach die erste Spalte als \"wahren Wert\".\n",
        "    y_true = y_test_seq[:, 0]\n",
        "\n",
        "    # 2) Vorhersagen vom Multi-Head-Modell abrufen (Liste aus 5 Arrays)\n",
        "    pred_list = model.predict(X_test)\n",
        "    # pred_list z.B. = [ array(N,1), array(N,1), array(N,1), array(N,1), array(N,1) ]\n",
        "    # Die Reihenfolge entspricht den Quantilen [0.1, 0.25, 0.5, 0.75, 0.9]\n",
        "\n",
        "    # 3) Zu einer 2D-Matrix (N, 5) zusammenführen (spaltenweise)\n",
        "    y_pred_2d = np.hstack(pred_list)  # shape (N, 5)\n",
        "    # Spalten: [q10, q25, q50, q75, q90]\n",
        "\n",
        "    # 4) Quantile interpretieren\n",
        "    #    y_pred_2d[:, 0] => 10%-Quantil\n",
        "    #    y_pred_2d[:, 1] => 25%-Quantil\n",
        "    #    y_pred_2d[:, 2] => 50%-Quantil\n",
        "    #    y_pred_2d[:, 3] => 75%-Quantil\n",
        "    #    y_pred_2d[:, 4] => 90%-Quantil\n",
        "\n",
        "    n = len(y_true)  # Gesamtzahl der Datenpunkte\n",
        "\n",
        "    # 5) Absolutzahlen für Verletzungen berechnen\n",
        "    below_10p = np.sum(y_true < y_pred_2d[:, 0])\n",
        "    below_25p = np.sum(y_true < y_pred_2d[:, 1])\n",
        "    above_75p = np.sum(y_true > y_pred_2d[:, 3])\n",
        "    above_90p = np.sum(y_true > y_pred_2d[:, 4])\n",
        "\n",
        "    # 6) Prozentsätze berechnen\n",
        "    below_10p_pct = (below_10p / n) * 100\n",
        "    below_25p_pct = (below_25p / n) * 100\n",
        "    above_75p_pct = (above_75p / n) * 100\n",
        "    above_90p_pct = (above_90p / n) * 100\n",
        "\n",
        "    return {\n",
        "        'below_10_percentile': {\n",
        "            'count': below_10p,\n",
        "            'percentage': below_10p_pct\n",
        "        },\n",
        "        'below_25_percentile': {\n",
        "            'count': below_25p,\n",
        "            'percentage': below_25p_pct\n",
        "        },\n",
        "        'above_75_percentile': {\n",
        "            'count': above_75p,\n",
        "            'percentage': above_75p_pct\n",
        "        },\n",
        "        'above_90_percentile': {\n",
        "            'count': above_90p,\n",
        "            'percentage': above_90p_pct\n",
        "        }\n",
        "    }"
      ]
    },
    {
      "cell_type": "code",
      "execution_count": null,
      "metadata": {
        "id": "Usy2Ca4gX3ov"
      },
      "outputs": [],
      "source": [
        "results = check_quantile_violations(model, X_test_seq, y_test_seq)"
      ]
    },
    {
      "cell_type": "code",
      "execution_count": null,
      "metadata": {
        "id": "yCiax0VaX6qZ"
      },
      "outputs": [],
      "source": [
        "results"
      ]
    },
    {
      "cell_type": "code",
      "execution_count": null,
      "metadata": {
        "id": "ykcldrREYY--"
      },
      "outputs": [],
      "source": []
    }
  ],
  "metadata": {
    "colab": {
      "provenance": [],
      "authorship_tag": "ABX9TyNsja9HkavxajHhR3+qI77j",
      "include_colab_link": true
    },
    "kernelspec": {
      "display_name": "Python 3",
      "name": "python3"
    },
    "language_info": {
      "name": "python"
    }
  },
  "nbformat": 4,
  "nbformat_minor": 0
}