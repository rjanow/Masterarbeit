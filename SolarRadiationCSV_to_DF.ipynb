{
  "nbformat": 4,
  "nbformat_minor": 0,
  "metadata": {
    "colab": {
      "provenance": [],
      "authorship_tag": "ABX9TyM1UZMe4PyfCWMPuebtJIqN",
      "include_colab_link": true
    },
    "kernelspec": {
      "name": "python3",
      "display_name": "Python 3"
    },
    "language_info": {
      "name": "python"
    }
  },
  "cells": [
    {
      "cell_type": "markdown",
      "metadata": {
        "id": "view-in-github",
        "colab_type": "text"
      },
      "source": [
        "<a href=\"https://colab.research.google.com/github/rjanow/Masterarbeit/blob/main/SolarRadiationCSV_to_DF.ipynb\" target=\"_parent\"><img src=\"https://colab.research.google.com/assets/colab-badge.svg\" alt=\"Open In Colab\"/></a>"
      ]
    },
    {
      "cell_type": "code",
      "execution_count": 55,
      "metadata": {
        "colab": {
          "base_uri": "https://localhost:8080/"
        },
        "id": "E7hxY7bdV5bF",
        "outputId": "db1631c3-1f2c-4ba3-8123-c50e5d9b2965"
      },
      "outputs": [
        {
          "output_type": "stream",
          "name": "stdout",
          "text": [
            "Drive already mounted at /content/drive; to attempt to forcibly remount, call drive.mount(\"/content/drive\", force_remount=True).\n"
          ]
        }
      ],
      "source": [
        "# Verbinden mit der Google-Drive\n",
        "from google.colab import drive\n",
        "drive.mount('/content/drive')"
      ]
    },
    {
      "cell_type": "code",
      "source": [
        "import os\n",
        "import numpy as np\n",
        "import pandas as pd"
      ],
      "metadata": {
        "id": "YpCtlPsBWav8"
      },
      "execution_count": 94,
      "outputs": []
    },
    {
      "cell_type": "code",
      "source": [
        "# Pfad zur CSV-Datei auf Google Drive\n",
        "file_path = '/content/drive/My Drive/Colab_Notebooks/CSV_SolarRadiation/CAMS_solar_radiation.csv'"
      ],
      "metadata": {
        "id": "f0Qcs9aSWS7i"
      },
      "execution_count": 78,
      "outputs": []
    },
    {
      "cell_type": "code",
      "source": [
        "df_import = pd.read_csv(file_path, sep = ';')"
      ],
      "metadata": {
        "id": "9pED9iKcWbfa"
      },
      "execution_count": 79,
      "outputs": []
    },
    {
      "cell_type": "code",
      "source": [
        "df_import['Observation_period'] = pd.to_datetime(df_import['Observation_period'].str.slice(0, 19).str.replace('T', ' '))"
      ],
      "metadata": {
        "id": "l8u7hcREebLe"
      },
      "execution_count": 80,
      "outputs": []
    },
    {
      "cell_type": "code",
      "source": [
        "def zusammenfassen_zeilen(df):\n",
        "    # Erstellen Sie eine neue Spalte \"Gruppennummer\", um die Zeilen zu gruppieren\n",
        "    df['group'] = (df.index // 2)\n",
        "\n",
        "    # Gruppieren Sie das DataFrame nach der neuen Spalte \"Gruppennummer\" und führen Sie die Aggregation durch\n",
        "    aggregationsfunktionen = {'Observation_period': 'first',  # Die erste Spalte bleibt unverändert\n",
        "                             'Clear_sky_GHI': 'sum',    # Summieren Sie alle anderen Spalten\n",
        "                             'Clear_sky_BHI': 'sum',    # Hier weitere Spalten hinzufügen, falls erforderlich\n",
        "                             'GHI': 'sum',\n",
        "                             'BHI': 'sum',\n",
        "                             }\n",
        "\n",
        "    zusammengefasstes_df = df.groupby('group').agg(aggregationsfunktionen).reset_index(drop=True)\n",
        "    zusammengefasstes_df['Observation_period'] = zusammengefasstes_df['Observation_period'] + pd.to_timedelta(1, unit='m')\n",
        "\n",
        "    return zusammengefasstes_df"
      ],
      "metadata": {
        "id": "0jdo1hsgkJ72"
      },
      "execution_count": 88,
      "outputs": []
    },
    {
      "cell_type": "code",
      "source": [
        "df_2min = zusammenfassen_zeilen(df_import)"
      ],
      "metadata": {
        "id": "WPpjs1kRjm5k"
      },
      "execution_count": 89,
      "outputs": []
    },
    {
      "cell_type": "code",
      "source": [
        "def save_dataframe_to_drive(dataframe, folder_path, filename):\n",
        "\n",
        "    # Erstelle den vollen Pfad zur Datei\n",
        "    full_path = os.path.join(folder_path, filename)\n",
        "\n",
        "    # Speichere den DataFrame als CSV-Datei auf Google Drive\n",
        "    dataframe.to_csv(full_path, index=False)\n",
        "\n",
        "    print(f'Der DataFrame wurde als {filename} in {folder_path} auf Google Drive gespeichert.')"
      ],
      "metadata": {
        "id": "7OaOIHoVmRCz"
      },
      "execution_count": 91,
      "outputs": []
    },
    {
      "cell_type": "code",
      "source": [
        "df_file_name = 'solar_radiation_forecast'\n",
        "save_dataframe_to_drive(df_2min, '/content/drive/My Drive/Colab_Notebooks/CSV_SolarRadiation', df_file_name)"
      ],
      "metadata": {
        "colab": {
          "base_uri": "https://localhost:8080/"
        },
        "id": "LfK5jPGY77Y7",
        "outputId": "30330ca8-37f2-4f41-9120-e4c8af722928"
      },
      "execution_count": 95,
      "outputs": [
        {
          "output_type": "stream",
          "name": "stdout",
          "text": [
            "Der DataFrame wurde als solar_radiation_forecast in /content/drive/My Drive/Colab_Notebooks/CSV_SolarRadiation auf Google Drive gespeichert.\n"
          ]
        }
      ]
    }
  ]
}