{
  "nbformat": 4,
  "nbformat_minor": 0,
  "metadata": {
    "colab": {
      "provenance": [],
      "authorship_tag": "ABX9TyMCHOQXsmyPlsfWU2fPkOx8",
      "include_colab_link": true
    },
    "kernelspec": {
      "name": "python3",
      "display_name": "Python 3"
    },
    "language_info": {
      "name": "python"
    }
  },
  "cells": [
    {
      "cell_type": "markdown",
      "metadata": {
        "id": "view-in-github",
        "colab_type": "text"
      },
      "source": [
        "<a href=\"https://colab.research.google.com/github/rjanow/Masterarbeit/blob/main/EDA_ChatGPT.ipynb\" target=\"_parent\"><img src=\"https://colab.research.google.com/assets/colab-badge.svg\" alt=\"Open In Colab\"/></a>"
      ]
    },
    {
      "cell_type": "markdown",
      "source": [],
      "metadata": {
        "id": "frgpTbYtSeYZ"
      }
    },
    {
      "cell_type": "code",
      "execution_count": null,
      "metadata": {
        "id": "T256_rJESIBn"
      },
      "outputs": [],
      "source": [
        "# Verbinden mit der Google-Drive\n",
        "from google.colab import drive\n",
        "drive.mount('/content/drive')"
      ]
    },
    {
      "cell_type": "code",
      "source": [
        "## import modules\n",
        "\n",
        "import io, os, sys, setuptools, tokenize\n",
        "import numpy as np\n",
        "import pandas as pd\n",
        "import matplotlib\n",
        "import matplotlib.pyplot as plt\n",
        "import matplotlib.dates as mdates\n",
        "import seaborn as sns\n",
        "\n",
        "from datetime import datetime\n",
        "from datetime import timedelta\n",
        "from math import sqrt"
      ],
      "metadata": {
        "id": "dXE2-pIpSR3V"
      },
      "execution_count": null,
      "outputs": []
    },
    {
      "cell_type": "code",
      "source": [
        "# Größe der Plots festlegen\n",
        "matplotlib.rcParams['figure.figsize'] = (16, 9)"
      ],
      "metadata": {
        "id": "_gFD37fzSTXw"
      },
      "execution_count": null,
      "outputs": []
    },
    {
      "cell_type": "code",
      "source": [
        "# Allgemeine Angaben\n",
        "latitude = 50.2\n",
        "longitude = 7.8\n",
        "\n",
        "seconds_in_day = 24*60*60\n",
        "seconds_in_year = (365.2425)*seconds_in_day\n",
        "\n",
        "# tz, altitude, name = 'Europe/Berlin', 70, 'SanktAugustin'\n",
        "# tus = pvlib.location.Location(latitude, longitude, tz, altitude, name)"
      ],
      "metadata": {
        "id": "xj80GA_4SVRq"
      },
      "execution_count": null,
      "outputs": []
    },
    {
      "cell_type": "code",
      "source": [
        "# Pfad zur CSV-Datei auf Google Drive\n",
        "name_Messwerte = 'Messdaten_CAMS_GHI.csv'\n",
        "name_Vorhersage = 'Vorhersagedaten_CAMS_VarIdx.csv'\n",
        "\n",
        "folder_import = '/content/drive/My Drive/Colab_Notebooks/Clean_Data/'\n",
        "folder_export = '/content/drive/My Drive/Colab_Notebooks/plot_daily_UVI/'"
      ],
      "metadata": {
        "id": "i5TPORdlSXFk"
      },
      "execution_count": null,
      "outputs": []
    },
    {
      "cell_type": "code",
      "source": [
        "df_Vorhersage = pd.read_csv(folder_import + name_Vorhersage)\n",
        "df_Vorhersage.set_index('Datetime', inplace=True)\n",
        "df_Vorhersage.index = pd.to_datetime(df_Vorhersage.index)"
      ],
      "metadata": {
        "id": "bb2dyYemSY0i"
      },
      "execution_count": null,
      "outputs": []
    },
    {
      "cell_type": "code",
      "source": [
        "df_Messwerte = pd.read_csv(folder_import + name_Messwerte)\n",
        "df_Messwerte.set_index('Datetime', inplace=True)\n",
        "df_Messwerte.index = pd.to_datetime(df_Messwerte.index)"
      ],
      "metadata": {
        "id": "Fc-UeQqSSbGv"
      },
      "execution_count": null,
      "outputs": []
    },
    {
      "cell_type": "markdown",
      "source": [
        "## Tägliche Durchschnittswerte der gemessenen UV und Glo-Strahlung"
      ],
      "metadata": {
        "id": "0SnKuRYdSdWw"
      }
    },
    {
      "cell_type": "code",
      "source": [],
      "metadata": {
        "id": "DdFmCc6NScug"
      },
      "execution_count": null,
      "outputs": []
    },
    {
      "cell_type": "markdown",
      "source": [
        "## Stündliche Durchschnittswerte der gemessenen UV und Glo-Strahlung"
      ],
      "metadata": {
        "id": "SekflQnRS_tj"
      }
    },
    {
      "cell_type": "code",
      "source": [],
      "metadata": {
        "id": "0PTNZ3UBTAJx"
      },
      "execution_count": null,
      "outputs": []
    },
    {
      "cell_type": "markdown",
      "source": [
        "Erste Analyse:\n",
        "\n",
        "1. Zeitliche Abdeckung\n",
        "2. Vorhersagedaten\n",
        "3. Gemeinsamer Zeitraum\n",
        "\n",
        "Vergleich zwischen gemessenen und vorhergesagten Daten:\n",
        "\n",
        "MAE:\n",
        "\n",
        "RSME:"
      ],
      "metadata": {
        "id": "fqmBDfJwTATk"
      }
    },
    {
      "cell_type": "code",
      "source": [],
      "metadata": {
        "id": "4vCIK4L8TAbR"
      },
      "execution_count": null,
      "outputs": []
    },
    {
      "cell_type": "markdown",
      "source": [
        "## Anomalierkennung\n",
        "\n",
        "Anaomalien wurden auf Basis von 2 Residuen (> 2 Standartabweichungen) identifiziert."
      ],
      "metadata": {
        "id": "gtyIoIRlTAkL"
      }
    },
    {
      "cell_type": "code",
      "source": [],
      "metadata": {
        "id": "_5v4uDUUTAsu"
      },
      "execution_count": null,
      "outputs": []
    },
    {
      "cell_type": "markdown",
      "source": [
        "## Saisonale Analyse"
      ],
      "metadata": {
        "id": "LJRnR6gHTBFN"
      }
    },
    {
      "cell_type": "code",
      "source": [],
      "metadata": {
        "id": "0hiwqV-BTBNk"
      },
      "execution_count": null,
      "outputs": []
    },
    {
      "cell_type": "markdown",
      "source": [
        "## Bewölkungseffekt"
      ],
      "metadata": {
        "id": "RlU35vTOZiyl"
      }
    },
    {
      "cell_type": "code",
      "source": [],
      "metadata": {
        "id": "gBN4ehVwZi7M"
      },
      "execution_count": null,
      "outputs": []
    },
    {
      "cell_type": "markdown",
      "source": [
        "## Fehleranalyse nach Stunden und Tagen"
      ],
      "metadata": {
        "id": "1DqKOL5iZjGE"
      }
    },
    {
      "cell_type": "code",
      "source": [],
      "metadata": {
        "id": "pFkh_c3LZjN_"
      },
      "execution_count": null,
      "outputs": []
    },
    {
      "cell_type": "markdown",
      "source": [
        "## Residuals über die Zeit"
      ],
      "metadata": {
        "id": "vfedqJrNZjW7"
      }
    },
    {
      "cell_type": "code",
      "source": [],
      "metadata": {
        "id": "KsRx_iX1Zjfs"
      },
      "execution_count": null,
      "outputs": []
    },
    {
      "cell_type": "markdown",
      "source": [
        "## Täglicher Durchschitt der UVI Werte"
      ],
      "metadata": {
        "id": "fj4_v5fzaG5U"
      }
    },
    {
      "cell_type": "code",
      "source": [],
      "metadata": {
        "id": "PgyqvdmzaHBd"
      },
      "execution_count": null,
      "outputs": []
    },
    {
      "cell_type": "markdown",
      "source": [
        "## Monatlicher Durchschitt der UVI Werte"
      ],
      "metadata": {
        "id": "UlVfmdLVaHQa"
      }
    },
    {
      "cell_type": "code",
      "source": [],
      "metadata": {
        "id": "1qw_w9q1aHW7"
      },
      "execution_count": null,
      "outputs": []
    },
    {
      "cell_type": "markdown",
      "source": [
        "## Durchschnittliche Residuals in Abhängigkeit der Cloud Cover Levels"
      ],
      "metadata": {
        "id": "y2adPcg-aY1J"
      }
    },
    {
      "cell_type": "code",
      "source": [],
      "metadata": {
        "id": "mNHeu453aY7B"
      },
      "execution_count": null,
      "outputs": []
    },
    {
      "cell_type": "markdown",
      "source": [
        "## Montalicher Durchschnitt der Residuen"
      ],
      "metadata": {
        "id": "2acv4JRganhb"
      }
    },
    {
      "cell_type": "code",
      "source": [],
      "metadata": {
        "id": "VBc_Zc37anpw"
      },
      "execution_count": null,
      "outputs": []
    },
    {
      "cell_type": "markdown",
      "source": [
        "## Größte positive und negative Residuen"
      ],
      "metadata": {
        "id": "gI4kjpOHbJqZ"
      }
    },
    {
      "cell_type": "code",
      "source": [],
      "metadata": {
        "id": "XaixKReYbJxK"
      },
      "execution_count": null,
      "outputs": []
    },
    {
      "cell_type": "markdown",
      "source": [
        "## Monatliche Residuen Trends"
      ],
      "metadata": {
        "id": "oexP-EcWbJ4q"
      }
    },
    {
      "cell_type": "code",
      "source": [],
      "metadata": {
        "id": "2jO_VCtFbKD6"
      },
      "execution_count": null,
      "outputs": []
    }
  ]
}
