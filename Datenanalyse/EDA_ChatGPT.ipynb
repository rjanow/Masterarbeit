{
  "nbformat": 4,
  "nbformat_minor": 0,
  "metadata": {
    "colab": {
      "provenance": [],
      "authorship_tag": "ABX9TyNWAn8C7NnhteM+WyhvYK4l",
      "include_colab_link": true
    },
    "kernelspec": {
      "name": "python3",
      "display_name": "Python 3"
    },
    "language_info": {
      "name": "python"
    }
  },
  "cells": [
    {
      "cell_type": "markdown",
      "metadata": {
        "id": "view-in-github",
        "colab_type": "text"
      },
      "source": [
        "<a href=\"https://colab.research.google.com/github/rjanow/Masterarbeit/blob/main/Datenanalyse/EDA_ChatGPT.ipynb\" target=\"_parent\"><img src=\"https://colab.research.google.com/assets/colab-badge.svg\" alt=\"Open In Colab\"/></a>"
      ]
    },
    {
      "cell_type": "markdown",
      "source": [],
      "metadata": {
        "id": "frgpTbYtSeYZ"
      }
    },
    {
      "cell_type": "code",
      "execution_count": 1,
      "metadata": {
        "id": "T256_rJESIBn",
        "colab": {
          "base_uri": "https://localhost:8080/"
        },
        "outputId": "8dbbf80f-6893-4b48-9ff1-e16048592a0e"
      },
      "outputs": [
        {
          "output_type": "stream",
          "name": "stdout",
          "text": [
            "Mounted at /content/drive\n"
          ]
        }
      ],
      "source": [
        "# Verbinden mit der Google-Drive\n",
        "from google.colab import drive\n",
        "drive.mount('/content/drive')"
      ]
    },
    {
      "cell_type": "code",
      "source": [
        "## import modules\n",
        "\n",
        "import io, os, sys, setuptools, tokenize\n",
        "import numpy as np\n",
        "import pandas as pd\n",
        "import matplotlib\n",
        "import matplotlib.pyplot as plt\n",
        "import matplotlib.dates as mdates\n",
        "import seaborn as sns\n",
        "\n",
        "from datetime import datetime\n",
        "from datetime import timedelta\n",
        "from math import sqrt"
      ],
      "metadata": {
        "id": "dXE2-pIpSR3V"
      },
      "execution_count": 2,
      "outputs": []
    },
    {
      "cell_type": "code",
      "source": [
        "# Größe der Plots festlegen\n",
        "matplotlib.rcParams['figure.figsize'] = (16, 9)"
      ],
      "metadata": {
        "id": "_gFD37fzSTXw"
      },
      "execution_count": 3,
      "outputs": []
    },
    {
      "cell_type": "code",
      "source": [
        "# Allgemeine Angaben\n",
        "latitude = 50.2\n",
        "longitude = 7.8\n",
        "\n",
        "seconds_in_day = 24*60*60\n",
        "seconds_in_year = (365.2425)*seconds_in_day\n",
        "\n",
        "# tz, altitude, name = 'Europe/Berlin', 70, 'SanktAugustin'\n",
        "# tus = pvlib.location.Location(latitude, longitude, tz, altitude, name)"
      ],
      "metadata": {
        "id": "xj80GA_4SVRq"
      },
      "execution_count": 4,
      "outputs": []
    },
    {
      "cell_type": "code",
      "source": [
        "# Pfad zur CSV-Datei auf Google Drive\n",
        "name_Messwerte = 'Messdaten_CAMS_GHI.csv'\n",
        "name_Vorhersage = 'Vorhersagedaten_CAMS_VarIdx.csv'\n",
        "\n",
        "folder_import = '/content/drive/My Drive/Colab_Notebooks/Clean_Data/'\n",
        "folder_export = '/content/drive/My Drive/Colab_Notebooks/plot_daily_UVI/'"
      ],
      "metadata": {
        "id": "i5TPORdlSXFk"
      },
      "execution_count": 5,
      "outputs": []
    },
    {
      "cell_type": "code",
      "source": [
        "df_Vorhersage = pd.read_csv(folder_import + name_Vorhersage)\n",
        "df_Vorhersage = pd.to_datetime(df_vorhersage['Datetime'])\n",
        "\n",
        "# df_Vorhersage.set_index('Datetime', inplace=True)\n",
        "# df_Vorhersage.index = pd.to_datetime(df_Vorhersage.index)"
      ],
      "metadata": {
        "id": "bb2dyYemSY0i"
      },
      "execution_count": 6,
      "outputs": []
    },
    {
      "cell_type": "code",
      "source": [
        "df_Messwerte = pd.read_csv(folder_import + name_Messwerte)\n",
        "df_Messwerte['Datetime'] = pd.to_datetime(df_Messwerte['Datetime'])\n",
        "\n",
        "# df_Messwerte.set_index('Datetime', inplace=True)\n",
        "# df_Messwerte.index = pd.to_datetime(df_Messwerte.index)"
      ],
      "metadata": {
        "id": "Fc-UeQqSSbGv"
      },
      "execution_count": 7,
      "outputs": []
    },
    {
      "cell_type": "markdown",
      "source": [
        "## Tägliche Durchschnittswerte der gemessenen UV und Glo-Strahlung"
      ],
      "metadata": {
        "id": "0SnKuRYdSdWw"
      }
    },
    {
      "cell_type": "code",
      "source": [
        "# Display basic information about the datasets\n",
        "info_Vorhersage = df_Vorhersage.info()\n",
        "info_Vorhersage = df_Vorhersage.info()"
      ],
      "metadata": {
        "id": "DdFmCc6NScug",
        "colab": {
          "base_uri": "https://localhost:8080/"
        },
        "outputId": "9d22f08f-e27a-4a2e-d605-539fc0b0f371"
      },
      "execution_count": 8,
      "outputs": [
        {
          "output_type": "stream",
          "name": "stdout",
          "text": [
            "<class 'pandas.core.frame.DataFrame'>\n",
            "DatetimeIndex: 10224 entries, 2022-06-01 00:00:00 to 2023-07-31 23:00:00\n",
            "Data columns (total 12 columns):\n",
            " #   Column         Non-Null Count  Dtype  \n",
            "---  ------         --------------  -----  \n",
            " 0   aod469         10224 non-null  float64\n",
            " 1   aod550         10224 non-null  float64\n",
            " 2   gtco3          10224 non-null  float64\n",
            " 3   uvbed          10224 non-null  float64\n",
            " 4   uvbedcs        10224 non-null  float64\n",
            " 5   hcc            10224 non-null  float64\n",
            " 6   lcc            10224 non-null  float64\n",
            " 7   tcc            10224 non-null  float64\n",
            " 8   index_sigma    1496 non-null   float64\n",
            " 9   index_coimbra  1496 non-null   float64\n",
            " 10  index_stein    1496 non-null   float64\n",
            " 11  kc             1496 non-null   float64\n",
            "dtypes: float64(12)\n",
            "memory usage: 1.0 MB\n",
            "<class 'pandas.core.frame.DataFrame'>\n",
            "DatetimeIndex: 10224 entries, 2022-06-01 00:00:00 to 2023-07-31 23:00:00\n",
            "Data columns (total 12 columns):\n",
            " #   Column         Non-Null Count  Dtype  \n",
            "---  ------         --------------  -----  \n",
            " 0   aod469         10224 non-null  float64\n",
            " 1   aod550         10224 non-null  float64\n",
            " 2   gtco3          10224 non-null  float64\n",
            " 3   uvbed          10224 non-null  float64\n",
            " 4   uvbedcs        10224 non-null  float64\n",
            " 5   hcc            10224 non-null  float64\n",
            " 6   lcc            10224 non-null  float64\n",
            " 7   tcc            10224 non-null  float64\n",
            " 8   index_sigma    1496 non-null   float64\n",
            " 9   index_coimbra  1496 non-null   float64\n",
            " 10  index_stein    1496 non-null   float64\n",
            " 11  kc             1496 non-null   float64\n",
            "dtypes: float64(12)\n",
            "memory usage: 1.0 MB\n"
          ]
        }
      ]
    },
    {
      "cell_type": "code",
      "source": [
        "# Vorhersage und Messung zusammenfügen:\n",
        "\n",
        "df_merged = pd.merge(df_Messwerte, df_Vorhersage, on = 'Datetime', how = 'inner')"
      ],
      "metadata": {
        "id": "D_dEhgtmCtVq"
      },
      "execution_count": 9,
      "outputs": []
    },
    {
      "cell_type": "markdown",
      "source": [
        "## Stündliche Durchschnittswerte der gemessenen UV und Glo-Strahlung"
      ],
      "metadata": {
        "id": "SekflQnRS_tj"
      }
    },
    {
      "cell_type": "code",
      "source": [
        "# Calculating MAE and RMSE for uvbed predictions vs. UVI measurements\n",
        "mae_uv = np.mean(np.abs(df_merged['UVI'] - df_merged['uvbed']))\n",
        "rmse_uv = np.sqrt(np.mean((df_merged['UVI'] - df_merged['uvbed']) ** 2))\n",
        "\n",
        "# Calculating MAE and RMSE for uvbed predictions vs. UVI measurements\n",
        "mae_uvcs = np.mean(np.abs(df_merged['UVI'] - df_merged['uvbedcs']))\n",
        "rmse_uvcs = np.sqrt(np.mean((df_merged['UVI'] - df_merged['uvbedcs']) ** 2))"
      ],
      "metadata": {
        "id": "0PTNZ3UBTAJx"
      },
      "execution_count": 16,
      "outputs": []
    },
    {
      "cell_type": "code",
      "source": [
        "print(mae_uv, rmse_uv, mae_uvcs, rmse_uvcs)"
      ],
      "metadata": {
        "colab": {
          "base_uri": "https://localhost:8080/"
        },
        "id": "SXlfw9_AIxbA",
        "outputId": "f8b9e948-ca10-4a5e-9907-d65bf28392d4"
      },
      "execution_count": 17,
      "outputs": [
        {
          "output_type": "stream",
          "name": "stdout",
          "text": [
            "0.33581164373521055 0.6515087270321994 0.5182937385309853 0.9886291986080578\n"
          ]
        }
      ]
    },
    {
      "cell_type": "markdown",
      "source": [
        "Erste Analyse:\n",
        "\n",
        "1. Zeitliche Abdeckung\n",
        "2. Vorhersagedaten\n",
        "3. Gemeinsamer Zeitraum\n",
        "\n",
        "Vergleich zwischen gemessenen und vorhergesagten Daten:\n",
        "\n",
        "MAE:\n",
        "\n",
        "RSME:"
      ],
      "metadata": {
        "id": "fqmBDfJwTATk"
      }
    },
    {
      "cell_type": "markdown",
      "source": [
        "## Allgemeine Beobachtungen zu den UVI-Messwerten"
      ],
      "metadata": {
        "id": "TP-tpR5VJVCf"
      }
    },
    {
      "cell_type": "code",
      "source": [],
      "metadata": {
        "id": "gXb29yFnJT4K"
      },
      "execution_count": null,
      "outputs": []
    },
    {
      "cell_type": "markdown",
      "source": [
        "## Anomalierkennung\n",
        "\n",
        "Anaomalien wurden auf Basis von 2 Residuen (> 2 Standartabweichungen) identifiziert."
      ],
      "metadata": {
        "id": "gtyIoIRlTAkL"
      }
    },
    {
      "cell_type": "code",
      "source": [],
      "metadata": {
        "id": "_5v4uDUUTAsu"
      },
      "execution_count": 7,
      "outputs": []
    },
    {
      "cell_type": "markdown",
      "source": [
        "## Saisonale Analyse"
      ],
      "metadata": {
        "id": "LJRnR6gHTBFN"
      }
    },
    {
      "cell_type": "code",
      "source": [],
      "metadata": {
        "id": "0hiwqV-BTBNk"
      },
      "execution_count": 7,
      "outputs": []
    },
    {
      "cell_type": "markdown",
      "source": [
        "## Bewölkungseffekt"
      ],
      "metadata": {
        "id": "RlU35vTOZiyl"
      }
    },
    {
      "cell_type": "code",
      "source": [],
      "metadata": {
        "id": "gBN4ehVwZi7M"
      },
      "execution_count": 7,
      "outputs": []
    },
    {
      "cell_type": "markdown",
      "source": [
        "## Fehleranalyse nach Stunden und Tagen"
      ],
      "metadata": {
        "id": "1DqKOL5iZjGE"
      }
    },
    {
      "cell_type": "code",
      "source": [],
      "metadata": {
        "id": "pFkh_c3LZjN_"
      },
      "execution_count": 7,
      "outputs": []
    },
    {
      "cell_type": "markdown",
      "source": [
        "## Residuals über die Zeit"
      ],
      "metadata": {
        "id": "vfedqJrNZjW7"
      }
    },
    {
      "cell_type": "code",
      "source": [],
      "metadata": {
        "id": "KsRx_iX1Zjfs"
      },
      "execution_count": 7,
      "outputs": []
    },
    {
      "cell_type": "markdown",
      "source": [
        "## Täglicher Durchschitt der UVI Werte"
      ],
      "metadata": {
        "id": "fj4_v5fzaG5U"
      }
    },
    {
      "cell_type": "code",
      "source": [],
      "metadata": {
        "id": "PgyqvdmzaHBd"
      },
      "execution_count": 7,
      "outputs": []
    },
    {
      "cell_type": "markdown",
      "source": [
        "## Monatlicher Durchschitt der UVI Werte"
      ],
      "metadata": {
        "id": "UlVfmdLVaHQa"
      }
    },
    {
      "cell_type": "code",
      "source": [],
      "metadata": {
        "id": "1qw_w9q1aHW7"
      },
      "execution_count": 7,
      "outputs": []
    },
    {
      "cell_type": "markdown",
      "source": [
        "## Durchschnittliche Residuals in Abhängigkeit der Cloud Cover Levels"
      ],
      "metadata": {
        "id": "y2adPcg-aY1J"
      }
    },
    {
      "cell_type": "code",
      "source": [],
      "metadata": {
        "id": "mNHeu453aY7B"
      },
      "execution_count": 7,
      "outputs": []
    },
    {
      "cell_type": "markdown",
      "source": [
        "## Montalicher Durchschnitt der Residuen"
      ],
      "metadata": {
        "id": "2acv4JRganhb"
      }
    },
    {
      "cell_type": "code",
      "source": [],
      "metadata": {
        "id": "VBc_Zc37anpw"
      },
      "execution_count": 7,
      "outputs": []
    },
    {
      "cell_type": "markdown",
      "source": [
        "## Größte positive und negative Residuen"
      ],
      "metadata": {
        "id": "gI4kjpOHbJqZ"
      }
    },
    {
      "cell_type": "code",
      "source": [],
      "metadata": {
        "id": "XaixKReYbJxK"
      },
      "execution_count": 7,
      "outputs": []
    },
    {
      "cell_type": "markdown",
      "source": [
        "## Monatliche Residuen Trends"
      ],
      "metadata": {
        "id": "oexP-EcWbJ4q"
      }
    },
    {
      "cell_type": "code",
      "source": [],
      "metadata": {
        "id": "2jO_VCtFbKD6"
      },
      "execution_count": 7,
      "outputs": []
    }
  ]
}