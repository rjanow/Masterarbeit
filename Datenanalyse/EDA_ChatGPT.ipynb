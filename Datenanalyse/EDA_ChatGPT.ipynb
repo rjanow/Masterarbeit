{
  "nbformat": 4,
  "nbformat_minor": 0,
  "metadata": {
    "colab": {
      "provenance": [],
      "authorship_tag": "ABX9TyPXlMbkH0ju09rtuAXFILfx",
      "include_colab_link": true
    },
    "kernelspec": {
      "name": "python3",
      "display_name": "Python 3"
    },
    "language_info": {
      "name": "python"
    }
  },
  "cells": [
    {
      "cell_type": "markdown",
      "metadata": {
        "id": "view-in-github",
        "colab_type": "text"
      },
      "source": [
        "<a href=\"https://colab.research.google.com/github/rjanow/Masterarbeit/blob/main/Datenanalyse/EDA_ChatGPT.ipynb\" target=\"_parent\"><img src=\"https://colab.research.google.com/assets/colab-badge.svg\" alt=\"Open In Colab\"/></a>"
      ]
    },
    {
      "cell_type": "markdown",
      "source": [],
      "metadata": {
        "id": "frgpTbYtSeYZ"
      }
    },
    {
      "cell_type": "code",
      "execution_count": 11,
      "metadata": {
        "id": "T256_rJESIBn",
        "colab": {
          "base_uri": "https://localhost:8080/"
        },
        "outputId": "62ecf553-d35e-4375-ac9f-cc936d7dd5e2"
      },
      "outputs": [
        {
          "output_type": "stream",
          "name": "stdout",
          "text": [
            "Drive already mounted at /content/drive; to attempt to forcibly remount, call drive.mount(\"/content/drive\", force_remount=True).\n"
          ]
        }
      ],
      "source": [
        "# Verbinden mit der Google-Drive\n",
        "from google.colab import drive\n",
        "drive.mount('/content/drive')"
      ]
    },
    {
      "cell_type": "code",
      "source": [
        "## import modules\n",
        "\n",
        "import io, os, sys, setuptools, tokenize\n",
        "import numpy as np\n",
        "import pandas as pd\n",
        "import matplotlib\n",
        "import matplotlib.pyplot as plt\n",
        "import matplotlib.dates as mdates\n",
        "import seaborn as sns\n",
        "\n",
        "from datetime import datetime\n",
        "from datetime import timedelta\n",
        "from math import sqrt"
      ],
      "metadata": {
        "id": "dXE2-pIpSR3V"
      },
      "execution_count": 12,
      "outputs": []
    },
    {
      "cell_type": "code",
      "source": [
        "# Größe der Plots festlegen\n",
        "matplotlib.rcParams['figure.figsize'] = (16, 9)"
      ],
      "metadata": {
        "id": "_gFD37fzSTXw"
      },
      "execution_count": 13,
      "outputs": []
    },
    {
      "cell_type": "code",
      "source": [
        "# Allgemeine Angaben\n",
        "latitude = 50.2\n",
        "longitude = 7.8\n",
        "\n",
        "seconds_in_day = 24*60*60\n",
        "seconds_in_year = (365.2425)*seconds_in_day\n",
        "\n",
        "# tz, altitude, name = 'Europe/Berlin', 70, 'SanktAugustin'\n",
        "# tus = pvlib.location.Location(latitude, longitude, tz, altitude, name)"
      ],
      "metadata": {
        "id": "xj80GA_4SVRq"
      },
      "execution_count": 14,
      "outputs": []
    },
    {
      "cell_type": "code",
      "source": [
        "# Pfad zur CSV-Datei auf Google Drive\n",
        "name_Messwerte = 'Messdaten_CAMS_GHI.csv'\n",
        "name_Vorhersage = 'Vorhersagedaten_CAMS_VarIdx.csv'\n",
        "\n",
        "folder_import = '/content/drive/My Drive/Colab_Notebooks/Clean_Data/'\n",
        "folder_export = '/content/drive/My Drive/Colab_Notebooks/plot_daily_UVI/'"
      ],
      "metadata": {
        "id": "i5TPORdlSXFk"
      },
      "execution_count": 15,
      "outputs": []
    },
    {
      "cell_type": "code",
      "source": [
        "df_Vorhersage = pd.read_csv(folder_import + name_Vorhersage)\n",
        "df_Vorhersage = pd.to_datetime(df_Vorhersage['Datetime'])\n",
        "\n",
        "# df_Vorhersage.set_index('Datetime', inplace=True)\n",
        "# df_Vorhersage.index = pd.to_datetime(df_Vorhersage.index)"
      ],
      "metadata": {
        "id": "bb2dyYemSY0i"
      },
      "execution_count": 16,
      "outputs": []
    },
    {
      "cell_type": "code",
      "source": [
        "df_Messwerte = pd.read_csv(folder_import + name_Messwerte)\n",
        "df_Messwerte['Datetime'] = pd.to_datetime(df_Messwerte['Datetime'])\n",
        "\n",
        "# df_Messwerte.set_index('Datetime', inplace=True)\n",
        "# df_Messwerte.index = pd.to_datetime(df_Messwerte.index)"
      ],
      "metadata": {
        "id": "Fc-UeQqSSbGv"
      },
      "execution_count": 17,
      "outputs": []
    },
    {
      "cell_type": "code",
      "source": [
        "df_Vorhersage"
      ],
      "metadata": {
        "id": "v14yT0mYZeH1",
        "outputId": "114141a8-ac33-42cd-aa3b-62ede366a72e",
        "colab": {
          "base_uri": "https://localhost:8080/",
          "height": 458
        }
      },
      "execution_count": 18,
      "outputs": [
        {
          "output_type": "execute_result",
          "data": {
            "text/plain": [
              "0      2022-06-15 07:00:00\n",
              "1      2022-06-15 08:00:00\n",
              "2      2022-06-15 09:00:00\n",
              "3      2022-06-15 10:00:00\n",
              "4      2022-06-15 11:00:00\n",
              "               ...        \n",
              "2865   2023-07-25 14:00:00\n",
              "2866   2023-07-25 15:00:00\n",
              "2867   2023-07-25 16:00:00\n",
              "2868   2023-07-25 17:00:00\n",
              "2869   2023-07-25 18:00:00\n",
              "Name: Datetime, Length: 2870, dtype: datetime64[ns]"
            ],
            "text/html": [
              "<div>\n",
              "<style scoped>\n",
              "    .dataframe tbody tr th:only-of-type {\n",
              "        vertical-align: middle;\n",
              "    }\n",
              "\n",
              "    .dataframe tbody tr th {\n",
              "        vertical-align: top;\n",
              "    }\n",
              "\n",
              "    .dataframe thead th {\n",
              "        text-align: right;\n",
              "    }\n",
              "</style>\n",
              "<table border=\"1\" class=\"dataframe\">\n",
              "  <thead>\n",
              "    <tr style=\"text-align: right;\">\n",
              "      <th></th>\n",
              "      <th>Datetime</th>\n",
              "    </tr>\n",
              "  </thead>\n",
              "  <tbody>\n",
              "    <tr>\n",
              "      <th>0</th>\n",
              "      <td>2022-06-15 07:00:00</td>\n",
              "    </tr>\n",
              "    <tr>\n",
              "      <th>1</th>\n",
              "      <td>2022-06-15 08:00:00</td>\n",
              "    </tr>\n",
              "    <tr>\n",
              "      <th>2</th>\n",
              "      <td>2022-06-15 09:00:00</td>\n",
              "    </tr>\n",
              "    <tr>\n",
              "      <th>3</th>\n",
              "      <td>2022-06-15 10:00:00</td>\n",
              "    </tr>\n",
              "    <tr>\n",
              "      <th>4</th>\n",
              "      <td>2022-06-15 11:00:00</td>\n",
              "    </tr>\n",
              "    <tr>\n",
              "      <th>...</th>\n",
              "      <td>...</td>\n",
              "    </tr>\n",
              "    <tr>\n",
              "      <th>2865</th>\n",
              "      <td>2023-07-25 14:00:00</td>\n",
              "    </tr>\n",
              "    <tr>\n",
              "      <th>2866</th>\n",
              "      <td>2023-07-25 15:00:00</td>\n",
              "    </tr>\n",
              "    <tr>\n",
              "      <th>2867</th>\n",
              "      <td>2023-07-25 16:00:00</td>\n",
              "    </tr>\n",
              "    <tr>\n",
              "      <th>2868</th>\n",
              "      <td>2023-07-25 17:00:00</td>\n",
              "    </tr>\n",
              "    <tr>\n",
              "      <th>2869</th>\n",
              "      <td>2023-07-25 18:00:00</td>\n",
              "    </tr>\n",
              "  </tbody>\n",
              "</table>\n",
              "<p>2870 rows × 1 columns</p>\n",
              "</div><br><label><b>dtype:</b> datetime64[ns]</label>"
            ]
          },
          "metadata": {},
          "execution_count": 18
        }
      ]
    },
    {
      "cell_type": "markdown",
      "source": [
        "## Tägliche Durchschnittswerte der gemessenen UV und Glo-Strahlung"
      ],
      "metadata": {
        "id": "0SnKuRYdSdWw"
      }
    },
    {
      "cell_type": "code",
      "source": [
        "# Display basic information about the datasets\n",
        "info_Vorhersage = df_Vorhersage.info()\n",
        "info_Messwerte = df_Messwerte.info()\n",
        "\n",
        "print(info_Messwerte)"
      ],
      "metadata": {
        "id": "DdFmCc6NScug",
        "colab": {
          "base_uri": "https://localhost:8080/"
        },
        "outputId": "e6041419-8f22-4f84-85ab-01ec5dcfb909"
      },
      "execution_count": 19,
      "outputs": [
        {
          "output_type": "stream",
          "name": "stdout",
          "text": [
            "<class 'pandas.core.series.Series'>\n",
            "RangeIndex: 2870 entries, 0 to 2869\n",
            "Series name: Datetime\n",
            "Non-Null Count  Dtype         \n",
            "--------------  -----         \n",
            "2870 non-null   datetime64[ns]\n",
            "dtypes: datetime64[ns](1)\n",
            "memory usage: 22.5 KB\n",
            "<class 'pandas.core.frame.DataFrame'>\n",
            "RangeIndex: 96732 entries, 0 to 96731\n",
            "Data columns (total 26 columns):\n",
            " #   Column              Non-Null Count  Dtype         \n",
            "---  ------              --------------  -----         \n",
            " 0   Datetime            96732 non-null  datetime64[ns]\n",
            " 1   Observation_period  96732 non-null  object        \n",
            " 2   Clear_sky_GHI       96732 non-null  float64       \n",
            " 3   Clear_sky_BHI       96732 non-null  float64       \n",
            " 4   GHI                 96732 non-null  float64       \n",
            " 5   BHI                 96732 non-null  float64       \n",
            " 6   UVI                 96732 non-null  float64       \n",
            " 7   UVA                 96732 non-null  float64       \n",
            " 8   UVB                 96732 non-null  float64       \n",
            " 9   erythem             96732 non-null  float64       \n",
            " 10  Datum               96732 non-null  object        \n",
            " 11  Uhrzeit             96732 non-null  object        \n",
            " 12  Messzeitpunkt       96732 non-null  float64       \n",
            " 13  ghi                 96732 non-null  float64       \n",
            " 14  Dif                 96732 non-null  float64       \n",
            " 15  Glo_SPLite          96732 non-null  float64       \n",
            " 16  Dir                 96732 non-null  float64       \n",
            " 17  Temp                96732 non-null  float64       \n",
            " 18  DiffGreater2        96732 non-null  int64         \n",
            " 19  SZA                 96732 non-null  float64       \n",
            " 20  time_sin            96732 non-null  float64       \n",
            " 21  time_cos            96732 non-null  float64       \n",
            " 22  date_sin            96732 non-null  float64       \n",
            " 23  date_cos            96732 non-null  float64       \n",
            " 24  Date                96732 non-null  object        \n",
            " 25  Hour                96732 non-null  int64         \n",
            "dtypes: datetime64[ns](1), float64(19), int64(2), object(4)\n",
            "memory usage: 19.2+ MB\n",
            "None\n"
          ]
        }
      ]
    },
    {
      "cell_type": "code",
      "source": [
        "# Vorhersage und Messung zusammenfügen:\n",
        "\n",
        "df_merged = pd.merge(df_Messwerte, df_Vorhersage, on = 'Datetime', how = 'inner')\n",
        "df_merged.info()"
      ],
      "metadata": {
        "colab": {
          "base_uri": "https://localhost:8080/"
        },
        "id": "D_dEhgtmCtVq",
        "outputId": "e8236c2a-0e79-48d0-8942-c3bb5665d519"
      },
      "execution_count": 20,
      "outputs": [
        {
          "output_type": "stream",
          "name": "stdout",
          "text": [
            "<class 'pandas.core.frame.DataFrame'>\n",
            "RangeIndex: 2811 entries, 0 to 2810\n",
            "Data columns (total 26 columns):\n",
            " #   Column              Non-Null Count  Dtype         \n",
            "---  ------              --------------  -----         \n",
            " 0   Datetime            2811 non-null   datetime64[ns]\n",
            " 1   Observation_period  2811 non-null   object        \n",
            " 2   Clear_sky_GHI       2811 non-null   float64       \n",
            " 3   Clear_sky_BHI       2811 non-null   float64       \n",
            " 4   GHI                 2811 non-null   float64       \n",
            " 5   BHI                 2811 non-null   float64       \n",
            " 6   UVI                 2811 non-null   float64       \n",
            " 7   UVA                 2811 non-null   float64       \n",
            " 8   UVB                 2811 non-null   float64       \n",
            " 9   erythem             2811 non-null   float64       \n",
            " 10  Datum               2811 non-null   object        \n",
            " 11  Uhrzeit             2811 non-null   object        \n",
            " 12  Messzeitpunkt       2811 non-null   float64       \n",
            " 13  ghi                 2811 non-null   float64       \n",
            " 14  Dif                 2811 non-null   float64       \n",
            " 15  Glo_SPLite          2811 non-null   float64       \n",
            " 16  Dir                 2811 non-null   float64       \n",
            " 17  Temp                2811 non-null   float64       \n",
            " 18  DiffGreater2        2811 non-null   int64         \n",
            " 19  SZA                 2811 non-null   float64       \n",
            " 20  time_sin            2811 non-null   float64       \n",
            " 21  time_cos            2811 non-null   float64       \n",
            " 22  date_sin            2811 non-null   float64       \n",
            " 23  date_cos            2811 non-null   float64       \n",
            " 24  Date                2811 non-null   object        \n",
            " 25  Hour                2811 non-null   int64         \n",
            "dtypes: datetime64[ns](1), float64(19), int64(2), object(4)\n",
            "memory usage: 571.1+ KB\n"
          ]
        }
      ]
    },
    {
      "cell_type": "markdown",
      "source": [
        "## Tägliche/Stündliche Durchschnittswerte der gemessenen UV und Glo-Strahlung"
      ],
      "metadata": {
        "id": "SekflQnRS_tj"
      }
    },
    {
      "cell_type": "code",
      "source": [
        "# Calculating MAE and RMSE for uvbed predictions vs. UVI measurements\n",
        "mae_uv = np.mean(np.abs(df_merged['UVI'] - df_merged['uvbed']))\n",
        "rmse_uv = np.sqrt(np.mean((df_merged['UVI'] - df_merged['uvbed']) ** 2))\n",
        "\n",
        "# Calculating MAE and RMSE for uvbed predictions vs. UVI measurements\n",
        "mae_uvcs = np.mean(np.abs(df_merged['UVI'] - df_merged['uvbedcs']))\n",
        "rmse_uvcs = np.sqrt(np.mean((df_merged['UVI'] - df_merged['uvbedcs']) ** 2))"
      ],
      "metadata": {
        "id": "0PTNZ3UBTAJx",
        "colab": {
          "base_uri": "https://localhost:8080/",
          "height": 547
        },
        "outputId": "ed55e63e-9da7-41d5-8430-1b985e57f063"
      },
      "execution_count": 21,
      "outputs": [
        {
          "output_type": "error",
          "ename": "KeyError",
          "evalue": "'uvbed'",
          "traceback": [
            "\u001b[0;31m---------------------------------------------------------------------------\u001b[0m",
            "\u001b[0;31mKeyError\u001b[0m                                  Traceback (most recent call last)",
            "\u001b[0;32m/usr/local/lib/python3.10/dist-packages/pandas/core/indexes/base.py\u001b[0m in \u001b[0;36mget_loc\u001b[0;34m(self, key)\u001b[0m\n\u001b[1;32m   3804\u001b[0m         \u001b[0;32mtry\u001b[0m\u001b[0;34m:\u001b[0m\u001b[0;34m\u001b[0m\u001b[0;34m\u001b[0m\u001b[0m\n\u001b[0;32m-> 3805\u001b[0;31m             \u001b[0;32mreturn\u001b[0m \u001b[0mself\u001b[0m\u001b[0;34m.\u001b[0m\u001b[0m_engine\u001b[0m\u001b[0;34m.\u001b[0m\u001b[0mget_loc\u001b[0m\u001b[0;34m(\u001b[0m\u001b[0mcasted_key\u001b[0m\u001b[0;34m)\u001b[0m\u001b[0;34m\u001b[0m\u001b[0;34m\u001b[0m\u001b[0m\n\u001b[0m\u001b[1;32m   3806\u001b[0m         \u001b[0;32mexcept\u001b[0m \u001b[0mKeyError\u001b[0m \u001b[0;32mas\u001b[0m \u001b[0merr\u001b[0m\u001b[0;34m:\u001b[0m\u001b[0;34m\u001b[0m\u001b[0;34m\u001b[0m\u001b[0m\n",
            "\u001b[0;32mindex.pyx\u001b[0m in \u001b[0;36mpandas._libs.index.IndexEngine.get_loc\u001b[0;34m()\u001b[0m\n",
            "\u001b[0;32mindex.pyx\u001b[0m in \u001b[0;36mpandas._libs.index.IndexEngine.get_loc\u001b[0;34m()\u001b[0m\n",
            "\u001b[0;32mpandas/_libs/hashtable_class_helper.pxi\u001b[0m in \u001b[0;36mpandas._libs.hashtable.PyObjectHashTable.get_item\u001b[0;34m()\u001b[0m\n",
            "\u001b[0;32mpandas/_libs/hashtable_class_helper.pxi\u001b[0m in \u001b[0;36mpandas._libs.hashtable.PyObjectHashTable.get_item\u001b[0;34m()\u001b[0m\n",
            "\u001b[0;31mKeyError\u001b[0m: 'uvbed'",
            "\nThe above exception was the direct cause of the following exception:\n",
            "\u001b[0;31mKeyError\u001b[0m                                  Traceback (most recent call last)",
            "\u001b[0;32m<ipython-input-21-57e1fcc63388>\u001b[0m in \u001b[0;36m<cell line: 2>\u001b[0;34m()\u001b[0m\n\u001b[1;32m      1\u001b[0m \u001b[0;31m# Calculating MAE and RMSE for uvbed predictions vs. UVI measurements\u001b[0m\u001b[0;34m\u001b[0m\u001b[0;34m\u001b[0m\u001b[0m\n\u001b[0;32m----> 2\u001b[0;31m \u001b[0mmae_uv\u001b[0m \u001b[0;34m=\u001b[0m \u001b[0mnp\u001b[0m\u001b[0;34m.\u001b[0m\u001b[0mmean\u001b[0m\u001b[0;34m(\u001b[0m\u001b[0mnp\u001b[0m\u001b[0;34m.\u001b[0m\u001b[0mabs\u001b[0m\u001b[0;34m(\u001b[0m\u001b[0mdf_merged\u001b[0m\u001b[0;34m[\u001b[0m\u001b[0;34m'UVI'\u001b[0m\u001b[0;34m]\u001b[0m \u001b[0;34m-\u001b[0m \u001b[0mdf_merged\u001b[0m\u001b[0;34m[\u001b[0m\u001b[0;34m'uvbed'\u001b[0m\u001b[0;34m]\u001b[0m\u001b[0;34m)\u001b[0m\u001b[0;34m)\u001b[0m\u001b[0;34m\u001b[0m\u001b[0;34m\u001b[0m\u001b[0m\n\u001b[0m\u001b[1;32m      3\u001b[0m \u001b[0mrmse_uv\u001b[0m \u001b[0;34m=\u001b[0m \u001b[0mnp\u001b[0m\u001b[0;34m.\u001b[0m\u001b[0msqrt\u001b[0m\u001b[0;34m(\u001b[0m\u001b[0mnp\u001b[0m\u001b[0;34m.\u001b[0m\u001b[0mmean\u001b[0m\u001b[0;34m(\u001b[0m\u001b[0;34m(\u001b[0m\u001b[0mdf_merged\u001b[0m\u001b[0;34m[\u001b[0m\u001b[0;34m'UVI'\u001b[0m\u001b[0;34m]\u001b[0m \u001b[0;34m-\u001b[0m \u001b[0mdf_merged\u001b[0m\u001b[0;34m[\u001b[0m\u001b[0;34m'uvbed'\u001b[0m\u001b[0;34m]\u001b[0m\u001b[0;34m)\u001b[0m \u001b[0;34m**\u001b[0m \u001b[0;36m2\u001b[0m\u001b[0;34m)\u001b[0m\u001b[0;34m)\u001b[0m\u001b[0;34m\u001b[0m\u001b[0;34m\u001b[0m\u001b[0m\n\u001b[1;32m      4\u001b[0m \u001b[0;34m\u001b[0m\u001b[0m\n\u001b[1;32m      5\u001b[0m \u001b[0;31m# Calculating MAE and RMSE for uvbed predictions vs. UVI measurements\u001b[0m\u001b[0;34m\u001b[0m\u001b[0;34m\u001b[0m\u001b[0m\n",
            "\u001b[0;32m/usr/local/lib/python3.10/dist-packages/pandas/core/frame.py\u001b[0m in \u001b[0;36m__getitem__\u001b[0;34m(self, key)\u001b[0m\n\u001b[1;32m   4100\u001b[0m             \u001b[0;32mif\u001b[0m \u001b[0mself\u001b[0m\u001b[0;34m.\u001b[0m\u001b[0mcolumns\u001b[0m\u001b[0;34m.\u001b[0m\u001b[0mnlevels\u001b[0m \u001b[0;34m>\u001b[0m \u001b[0;36m1\u001b[0m\u001b[0;34m:\u001b[0m\u001b[0;34m\u001b[0m\u001b[0;34m\u001b[0m\u001b[0m\n\u001b[1;32m   4101\u001b[0m                 \u001b[0;32mreturn\u001b[0m \u001b[0mself\u001b[0m\u001b[0;34m.\u001b[0m\u001b[0m_getitem_multilevel\u001b[0m\u001b[0;34m(\u001b[0m\u001b[0mkey\u001b[0m\u001b[0;34m)\u001b[0m\u001b[0;34m\u001b[0m\u001b[0;34m\u001b[0m\u001b[0m\n\u001b[0;32m-> 4102\u001b[0;31m             \u001b[0mindexer\u001b[0m \u001b[0;34m=\u001b[0m \u001b[0mself\u001b[0m\u001b[0;34m.\u001b[0m\u001b[0mcolumns\u001b[0m\u001b[0;34m.\u001b[0m\u001b[0mget_loc\u001b[0m\u001b[0;34m(\u001b[0m\u001b[0mkey\u001b[0m\u001b[0;34m)\u001b[0m\u001b[0;34m\u001b[0m\u001b[0;34m\u001b[0m\u001b[0m\n\u001b[0m\u001b[1;32m   4103\u001b[0m             \u001b[0;32mif\u001b[0m \u001b[0mis_integer\u001b[0m\u001b[0;34m(\u001b[0m\u001b[0mindexer\u001b[0m\u001b[0;34m)\u001b[0m\u001b[0;34m:\u001b[0m\u001b[0;34m\u001b[0m\u001b[0;34m\u001b[0m\u001b[0m\n\u001b[1;32m   4104\u001b[0m                 \u001b[0mindexer\u001b[0m \u001b[0;34m=\u001b[0m \u001b[0;34m[\u001b[0m\u001b[0mindexer\u001b[0m\u001b[0;34m]\u001b[0m\u001b[0;34m\u001b[0m\u001b[0;34m\u001b[0m\u001b[0m\n",
            "\u001b[0;32m/usr/local/lib/python3.10/dist-packages/pandas/core/indexes/base.py\u001b[0m in \u001b[0;36mget_loc\u001b[0;34m(self, key)\u001b[0m\n\u001b[1;32m   3810\u001b[0m             ):\n\u001b[1;32m   3811\u001b[0m                 \u001b[0;32mraise\u001b[0m \u001b[0mInvalidIndexError\u001b[0m\u001b[0;34m(\u001b[0m\u001b[0mkey\u001b[0m\u001b[0;34m)\u001b[0m\u001b[0;34m\u001b[0m\u001b[0;34m\u001b[0m\u001b[0m\n\u001b[0;32m-> 3812\u001b[0;31m             \u001b[0;32mraise\u001b[0m \u001b[0mKeyError\u001b[0m\u001b[0;34m(\u001b[0m\u001b[0mkey\u001b[0m\u001b[0;34m)\u001b[0m \u001b[0;32mfrom\u001b[0m \u001b[0merr\u001b[0m\u001b[0;34m\u001b[0m\u001b[0;34m\u001b[0m\u001b[0m\n\u001b[0m\u001b[1;32m   3813\u001b[0m         \u001b[0;32mexcept\u001b[0m \u001b[0mTypeError\u001b[0m\u001b[0;34m:\u001b[0m\u001b[0;34m\u001b[0m\u001b[0;34m\u001b[0m\u001b[0m\n\u001b[1;32m   3814\u001b[0m             \u001b[0;31m# If we have a listlike key, _check_indexing_error will raise\u001b[0m\u001b[0;34m\u001b[0m\u001b[0;34m\u001b[0m\u001b[0m\n",
            "\u001b[0;31mKeyError\u001b[0m: 'uvbed'"
          ]
        }
      ]
    },
    {
      "cell_type": "code",
      "source": [
        "  print(mae_uv, rmse_uv, mae_uvcs, rmse_uvcs)"
      ],
      "metadata": {
        "id": "SXlfw9_AIxbA"
      },
      "execution_count": null,
      "outputs": []
    },
    {
      "cell_type": "code",
      "source": [
        "# Bestimme des Tages und der Stunde für jede Zeile\n",
        "df_merged['Date'] =df_merged.index.date\n",
        "df_merged['Hour'] = df_merged.index.hour\n",
        "\n",
        "# Bestimmen der Täglichen und stündlichen Mittelwerte\n",
        "daily_aggregates = df_merged.groupby('Date')[['GHI', 'UVI', 'uvbed', 'uvbedcs']].mean()\n",
        "hourly_aggregates = df_merged.groupby('Hour')[['GHI', 'UVI', 'uvbed', 'uvbedcs']].mean()\n",
        "\n",
        "daily_aggregates.index = pd.to_datetime(daily_aggregates.index)\n",
        "weekly_aggregates = daily_aggregates.resample('W').mean()"
      ],
      "metadata": {
        "id": "6efmO9EyKXPD"
      },
      "execution_count": null,
      "outputs": []
    },
    {
      "cell_type": "code",
      "source": [
        "# 1. Wöchentlicher Durchschnitt\n",
        "plt.figure(figsize=(10, 6))\n",
        "plt.plot(weekly_aggregates.index, weekly_aggregates['UVI'], label='UVI (Messung)')\n",
        "plt.plot(weekly_aggregates.index, weekly_aggregates['uvbed'], label='UVI (Vorhersage)', linestyle='--')\n",
        "plt.plot(weekly_aggregates.index, weekly_aggregates['uvbedcs'], label='UVI Clear Sky (Vorhersage)', linestyle='-.')\n",
        "plt.title('Wöchentlicher Durchschnitt des UVI')\n",
        "plt.xlabel('Monat')\n",
        "plt.ylabel('UV-Index')\n",
        "plt.legend()\n",
        "plt.grid()\n",
        "plt.show()"
      ],
      "metadata": {
        "id": "LbDD5N5CVf1-"
      },
      "execution_count": null,
      "outputs": []
    },
    {
      "cell_type": "code",
      "source": [
        "# 2. Stündlicher Durchschnitt\n",
        "plt.figure(figsize=(10, 6))\n",
        "plt.plot(hourly_aggregates.index, hourly_aggregates['UVI'], label='UVI (Messung)')\n",
        "plt.plot(hourly_aggregates.index, hourly_aggregates['uvbed'], label='UVI (Vorhersage)', linestyle='--')\n",
        "plt.plot(hourly_aggregates.index, hourly_aggregates['uvbedcs'], label='UVI Clear Sky (Vorhersage)', linestyle='-.')\n",
        "plt.title('Stündlicher Durchschnitt des UVI')\n",
        "plt.xlabel('Tageszeit')\n",
        "plt.ylabel('UV-Index')\n",
        "plt.legend()\n",
        "plt.grid()\n",
        "plt.show()"
      ],
      "metadata": {
        "id": "_DPyik61UiH1"
      },
      "execution_count": null,
      "outputs": []
    },
    {
      "cell_type": "markdown",
      "source": [
        "## Anomaly Detektion:"
      ],
      "metadata": {
        "id": "na-AXdzqGvoF"
      }
    },
    {
      "cell_type": "code",
      "source": [
        "# Berechnen der residuen\n",
        "df_merged['Residuals_UV'] = df_merged['UVI'] - df_merged['uvbed']\n",
        "df_merged['Residuals_UVcs'] = df_merged['UVI'] - df_merged['uvbedcs']"
      ],
      "metadata": {
        "id": "TwekMJQ4VuMz"
      },
      "execution_count": null,
      "outputs": []
    },
    {
      "cell_type": "markdown",
      "source": [
        "Erste Analyse:\n",
        "\n",
        "1. Zeitliche Abdeckung\n",
        "2. Vorhersagedaten\n",
        "3. Gemeinsamer Zeitraum\n",
        "\n",
        "Vergleich zwischen gemessenen und vorhergesagten Daten:\n",
        "\n",
        "MAE:\n",
        "\n",
        "RSME:"
      ],
      "metadata": {
        "id": "fqmBDfJwTATk"
      }
    },
    {
      "cell_type": "markdown",
      "source": [
        "## Allgemeine Beobachtungen zu den UVI-Messwerten"
      ],
      "metadata": {
        "id": "TP-tpR5VJVCf"
      }
    },
    {
      "cell_type": "code",
      "source": [],
      "metadata": {
        "id": "gXb29yFnJT4K"
      },
      "execution_count": null,
      "outputs": []
    },
    {
      "cell_type": "markdown",
      "source": [
        "## Anomalierkennung\n",
        "\n",
        "Anaomalien wurden auf Basis von 2 Residuen (> 2 Standartabweichungen) identifiziert."
      ],
      "metadata": {
        "id": "gtyIoIRlTAkL"
      }
    },
    {
      "cell_type": "code",
      "source": [],
      "metadata": {
        "id": "_5v4uDUUTAsu"
      },
      "execution_count": null,
      "outputs": []
    },
    {
      "cell_type": "markdown",
      "source": [
        "## Saisonale Analyse"
      ],
      "metadata": {
        "id": "LJRnR6gHTBFN"
      }
    },
    {
      "cell_type": "code",
      "source": [],
      "metadata": {
        "id": "0hiwqV-BTBNk"
      },
      "execution_count": null,
      "outputs": []
    },
    {
      "cell_type": "markdown",
      "source": [
        "## Bewölkungseffekt"
      ],
      "metadata": {
        "id": "RlU35vTOZiyl"
      }
    },
    {
      "cell_type": "code",
      "source": [],
      "metadata": {
        "id": "gBN4ehVwZi7M"
      },
      "execution_count": null,
      "outputs": []
    },
    {
      "cell_type": "markdown",
      "source": [
        "## Fehleranalyse nach Stunden und Tagen"
      ],
      "metadata": {
        "id": "1DqKOL5iZjGE"
      }
    },
    {
      "cell_type": "code",
      "source": [],
      "metadata": {
        "id": "pFkh_c3LZjN_"
      },
      "execution_count": null,
      "outputs": []
    },
    {
      "cell_type": "markdown",
      "source": [
        "## Residuals über die Zeit"
      ],
      "metadata": {
        "id": "vfedqJrNZjW7"
      }
    },
    {
      "cell_type": "code",
      "source": [],
      "metadata": {
        "id": "KsRx_iX1Zjfs"
      },
      "execution_count": null,
      "outputs": []
    },
    {
      "cell_type": "markdown",
      "source": [
        "## Täglicher Durchschitt der UVI Werte"
      ],
      "metadata": {
        "id": "fj4_v5fzaG5U"
      }
    },
    {
      "cell_type": "code",
      "source": [],
      "metadata": {
        "id": "PgyqvdmzaHBd"
      },
      "execution_count": null,
      "outputs": []
    },
    {
      "cell_type": "markdown",
      "source": [
        "## Monatlicher Durchschitt der UVI Werte"
      ],
      "metadata": {
        "id": "UlVfmdLVaHQa"
      }
    },
    {
      "cell_type": "code",
      "source": [],
      "metadata": {
        "id": "1qw_w9q1aHW7"
      },
      "execution_count": null,
      "outputs": []
    },
    {
      "cell_type": "markdown",
      "source": [
        "## Durchschnittliche Residuals in Abhängigkeit der Cloud Cover Levels"
      ],
      "metadata": {
        "id": "y2adPcg-aY1J"
      }
    },
    {
      "cell_type": "code",
      "source": [],
      "metadata": {
        "id": "mNHeu453aY7B"
      },
      "execution_count": null,
      "outputs": []
    },
    {
      "cell_type": "markdown",
      "source": [
        "## Montalicher Durchschnitt der Residuen"
      ],
      "metadata": {
        "id": "2acv4JRganhb"
      }
    },
    {
      "cell_type": "code",
      "source": [],
      "metadata": {
        "id": "VBc_Zc37anpw"
      },
      "execution_count": null,
      "outputs": []
    },
    {
      "cell_type": "markdown",
      "source": [
        "## Größte positive und negative Residuen"
      ],
      "metadata": {
        "id": "gI4kjpOHbJqZ"
      }
    },
    {
      "cell_type": "code",
      "source": [],
      "metadata": {
        "id": "XaixKReYbJxK"
      },
      "execution_count": null,
      "outputs": []
    },
    {
      "cell_type": "markdown",
      "source": [
        "## Monatliche Residuen Trends"
      ],
      "metadata": {
        "id": "oexP-EcWbJ4q"
      }
    },
    {
      "cell_type": "code",
      "source": [],
      "metadata": {
        "id": "2jO_VCtFbKD6"
      },
      "execution_count": null,
      "outputs": []
    },
    {
      "cell_type": "code",
      "source": [],
      "metadata": {
        "id": "klFB-xr0VTX2"
      },
      "execution_count": null,
      "outputs": []
    },
    {
      "cell_type": "markdown",
      "source": [
        "## Sonstiges bzw. alt..."
      ],
      "metadata": {
        "id": "CXoq6iAyVTvl"
      }
    },
    {
      "cell_type": "code",
      "source": [
        "# 2. Stündliche Durchschnittswerte\n",
        "figsize=(10, 6)\n",
        "title = 'Vergleich der stündlichen Durchschnittswerte'\n",
        "x_label = 'Tageszeit'\n",
        "y1_color = 'b'\n",
        "y1_label = 'UVI'\n",
        "y2_color = 'r'\n",
        "y2_label = 'uvbedcs'\n",
        "y3_color = 'g'\n",
        "y3_label = 'uvbed'\n",
        "\n",
        "\n",
        "fig, ax1 = plt.subplots(figsize = figsize)\n",
        "ax1.plot(hourly_aggregates.index, hourly_aggregates['UVI'], color = y1_color, label = y1_label)\n",
        "ax1.plot(hourly_aggregates.index, hourly_aggregates['uvbed'], color = y3_color, label = y3_label)\n",
        "ax1.set_xlabel(x_label)\n",
        "ax1.set_ylabel(y1_label, color = y1_color)\n",
        "ax1.tick_params(axis='y', labelcolor=y1_color)\n",
        "\n",
        "ax2 = ax1.twinx()\n",
        "# ax2.plot(hourly_aggregates.index, hourly_aggregates['uvbedcs'], color = y2_color, label = y2_label)\n",
        "ax2.set_ylabel(y2_label, color = y2_color)\n",
        "ax2.tick_params(axis='y', labelcolor=y2_color)\n",
        "\n",
        "# Titel und Legenden\n",
        "fig.suptitle(title)\n",
        "ax1.legend(loc=\"upper left\")\n",
        "ax2.legend(loc=\"upper right\")\n",
        "\n",
        "# Plot anzeigen\n",
        "plt.show()"
      ],
      "metadata": {
        "id": "GrUsltvwL04Q"
      },
      "execution_count": null,
      "outputs": []
    }
  ]
}