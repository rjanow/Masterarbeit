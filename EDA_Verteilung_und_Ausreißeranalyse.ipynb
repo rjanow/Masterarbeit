{
  "nbformat": 4,
  "nbformat_minor": 0,
  "metadata": {
    "colab": {
      "provenance": [],
      "authorship_tag": "ABX9TyPwRZ8n7dPNaZ/pTFisbskP",
      "include_colab_link": true
    },
    "kernelspec": {
      "name": "python3",
      "display_name": "Python 3"
    },
    "language_info": {
      "name": "python"
    }
  },
  "cells": [
    {
      "cell_type": "markdown",
      "metadata": {
        "id": "view-in-github",
        "colab_type": "text"
      },
      "source": [
        "<a href=\"https://colab.research.google.com/github/rjanow/Masterarbeit/blob/main/EDA_Verteilung_und_Ausrei%C3%9Feranalyse.ipynb\" target=\"_parent\"><img src=\"https://colab.research.google.com/assets/colab-badge.svg\" alt=\"Open In Colab\"/></a>"
      ]
    },
    {
      "cell_type": "code",
      "execution_count": 1,
      "metadata": {
        "colab": {
          "base_uri": "https://localhost:8080/"
        },
        "id": "NT1iylpdxjMe",
        "outputId": "ab920139-4413-481c-e0ef-1f43d6d3c960"
      },
      "outputs": [
        {
          "output_type": "stream",
          "name": "stdout",
          "text": [
            "Mounted at /content/drive\n"
          ]
        }
      ],
      "source": [
        "# Verbinden mit der Google-Drive\n",
        "from google.colab import drive\n",
        "drive.mount('/content/drive')"
      ]
    },
    {
      "cell_type": "code",
      "source": [
        "import io, os, sys, setuptools, tokenize\n",
        "import numpy as np\n",
        "import pandas as pd\n",
        "import matplotlib\n",
        "import matplotlib.pyplot as plt\n",
        "import matplotlib.dates as mdates\n",
        "import seaborn as sns\n",
        "\n",
        "from datetime import datetime\n",
        "from datetime import timedelta\n",
        "from math import sqrt"
      ],
      "metadata": {
        "id": "Zs_pJ1fo39Du"
      },
      "execution_count": 2,
      "outputs": []
    },
    {
      "cell_type": "code",
      "source": [
        "# Größe der Plots festlegen\n",
        "matplotlib.rcParams['figure.figsize'] = (16, 9)"
      ],
      "metadata": {
        "id": "toKvCUeO3-fg"
      },
      "execution_count": 3,
      "outputs": []
    },
    {
      "cell_type": "code",
      "source": [
        "# Allgemeine Angaben\n",
        "latitude = 50.2\n",
        "longitude = 7.8\n",
        "\n",
        "seconds_in_day = 24*60*60\n",
        "seconds_in_year = (365.2425)*seconds_in_day"
      ],
      "metadata": {
        "id": "tjLSGLKM3_8L"
      },
      "execution_count": 4,
      "outputs": []
    },
    {
      "cell_type": "code",
      "source": [
        "# Pfad zur CSV-Datei auf Google Drive\n",
        "name_Messwerte = 'Messdaten_CAMS_GHI.csv'\n",
        "name_Vorhersage = 'Vorhersagedaten_CAMS_VarIdx.csv'\n",
        "\n",
        "folder_import = '/content/drive/My Drive/Colab_Notebooks/Clean_Data/'\n",
        "folder_export = '/content/drive/My Drive/Colab_Notebooks/plot_daily_UVI/'"
      ],
      "metadata": {
        "id": "YL8IsKLa4BVX"
      },
      "execution_count": 5,
      "outputs": []
    },
    {
      "cell_type": "code",
      "source": [
        "df_Vorhersage = pd.read_csv(folder_import + name_Vorhersage)\n",
        "df_Vorhersage.set_index('Datetime', inplace=True)\n",
        "df_Vorhersage.index = pd.to_datetime(df_Vorhersage.index)"
      ],
      "metadata": {
        "id": "O_Sxv_2E4DAe"
      },
      "execution_count": 6,
      "outputs": []
    },
    {
      "cell_type": "code",
      "source": [
        "df_Messwerte = pd.read_csv(folder_import + name_Messwerte)\n",
        "df_Messwerte.set_index('Datetime', inplace=True)\n",
        "df_Messwerte.index = pd.to_datetime(df_Messwerte.index)\n",
        "\n",
        "df_Messwerte['Observation_period'] = pd.to_datetime(df_Messwerte['Observation_period'])\n",
        "df_Messwerte['date'] = df_Messwerte['Observation_period'].dt.date"
      ],
      "metadata": {
        "id": "5NXcj42W4Eh-"
      },
      "execution_count": 7,
      "outputs": []
    },
    {
      "cell_type": "code",
      "source": [
        "def remove_sza_between_80_and_90(df: pd.DataFrame) -> pd.DataFrame:\n",
        "    df = df.copy()\n",
        "\n",
        "    result = pd.DataFrame()\n",
        "\n",
        "    for datum, df_tag in df.groupby('date'):\n",
        "        # Zeilen entfernen, in denen SZA zwischen 80° und 90° liegt (exklusiv)\n",
        "        df_filtered = df_tag[~df_tag['SZA'].between(70, 100)]\n",
        "        result = pd.concat([result, df_filtered], ignore_index=True)\n",
        "\n",
        "    return result"
      ],
      "metadata": {
        "id": "ng2g22NR4H8d"
      },
      "execution_count": 8,
      "outputs": []
    },
    {
      "cell_type": "code",
      "source": [
        "df_Messwerte = remove_sza_between_80_and_90(df_Messwerte)"
      ],
      "metadata": {
        "id": "OjpTcg0M4Jlt"
      },
      "execution_count": 9,
      "outputs": []
    },
    {
      "cell_type": "code",
      "source": [
        "hour_bins = [3, 6, 9, 12, 15, 18, 21]  # Beispiel für mögliche Bins\n",
        "hour_labels = ['03:00-06:00', '06:00-09:00', '09:00-12:00', '12:00-15:00', '15:00-18:00', '18:00-21:00']\n",
        "df_Messwerte['Time_bins'] = pd.cut(df_Messwerte['Hour'], bins=hour_bins, labels=hour_labels, right=False)"
      ],
      "metadata": {
        "id": "mb5llO-R4Lq0"
      },
      "execution_count": 10,
      "outputs": []
    }
  ]
}