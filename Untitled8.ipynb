{
  "nbformat": 4,
  "nbformat_minor": 0,
  "metadata": {
    "colab": {
      "provenance": [],
      "authorship_tag": "ABX9TyO7ytds3m5+svwBOHT04QF+",
      "include_colab_link": true
    },
    "kernelspec": {
      "name": "python3",
      "display_name": "Python 3"
    },
    "language_info": {
      "name": "python"
    }
  },
  "cells": [
    {
      "cell_type": "markdown",
      "metadata": {
        "id": "view-in-github",
        "colab_type": "text"
      },
      "source": [
        "<a href=\"https://colab.research.google.com/github/rjanow/Masterarbeit/blob/main/Untitled8.ipynb\" target=\"_parent\"><img src=\"https://colab.research.google.com/assets/colab-badge.svg\" alt=\"Open In Colab\"/></a>"
      ]
    },
    {
      "cell_type": "code",
      "execution_count": null,
      "metadata": {
        "id": "Evo8QrxhnRjl"
      },
      "outputs": [],
      "source": [
        "solar_dc = df_solar.pivot_table(values='DC_POWER', index='TIME', columns='DATE')\n",
        "\n",
        "def Daywise_plot(data= None, row = None, col = None, title='DC Power'):\n",
        "    cols = data.columns # take all column\n",
        "    gp = plt.figure(figsize=(20,40))\n",
        "\n",
        "    gp.subplots_adjust(wspace=0.2, hspace=0.5)\n",
        "    for i in range(1, len(cols)+1):\n",
        "        ax = gp.add_subplot(row,col, i)\n",
        "        data[cols[i-1]].plot(ax=ax, color='red')\n",
        "        ax.set_title('{} {}'.format(title, cols[i-1]),color='blue')\n",
        "\n",
        "Daywise_plot(data=solar_dc, row=12, col=3)"
      ]
    }
  ]
}