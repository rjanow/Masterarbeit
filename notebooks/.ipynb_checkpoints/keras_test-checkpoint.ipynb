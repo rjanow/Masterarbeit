{
 "cells": [
  {
   "cell_type": "code",
   "execution_count": 3,
   "id": "66a53ab5-6701-4da3-a439-302332abe971",
   "metadata": {},
   "outputs": [],
   "source": [
    "import datetime\n",
    "import numpy as np\n",
    "import pandas as pd\n",
    "import matplotlib.pyplot as plt\n",
    "import seaborn as sns\n",
    "import matplotlib.pyplot as plt\n",
    "import matplotlib.dates as mdates\n",
    "import tensorflow as tf\n",
    "%matplotlib inline\n",
    " \n",
    "from scipy.io import netcdf\n",
    "from datetime import timedelta\n",
    "from tensorflow import keras\n",
    "from tensorflow.keras import layers\n",
    "\n",
    "from sklearn.preprocessing import RobustScaler"
   ]
  },
  {
   "cell_type": "code",
   "execution_count": 4,
   "id": "52e8604f-179d-4426-ad94-cd5538772cc1",
   "metadata": {},
   "outputs": [],
   "source": [
    "# Seed\n",
    "RANDOM_SEED = 42\n",
    "\n",
    "np.random.seed(RANDOM_SEED)\n",
    "tf.random.set_seed(RANDOM_SEED)"
   ]
  },
  {
   "cell_type": "code",
   "execution_count": 5,
   "id": "217504c2-1723-447d-89c3-cc52aba6df4a",
   "metadata": {},
   "outputs": [],
   "source": [
    "# Laden der 2 Min Messwerte\n",
    "filename = 'csv_UVI_2M_Messung'\n",
    "df_UVI_2M = pd.read_csv(filename, sep=';')\n",
    "df_UVI_2M.set_index('Datetime', inplace = True)\n",
    "df_UVI_2M.index = pd.to_datetime(df_UVI_2M.index)"
   ]
  },
  {
   "cell_type": "code",
   "execution_count": 7,
   "id": "26ead8b9-ec08-41e3-8414-27e5e518b775",
   "metadata": {},
   "outputs": [],
   "source": [
    "train_size =int(len(df_UVI_2M)*0.9)\n",
    "test_size = len(df_UVI_2M) - train_size"
   ]
  },
  {
   "cell_type": "code",
   "execution_count": 8,
   "id": "603710c2-2717-45d0-84cb-c0a53073573f",
   "metadata": {},
   "outputs": [],
   "source": [
    "train, test = df_UVI_2M.iloc[0:train_size], df_UVI_2M.iloc[train_size:len(df_UVI_2M)]"
   ]
  },
  {
   "cell_type": "code",
   "execution_count": 11,
   "id": "12bf52c1-bc61-413b-87f0-d280f2dd3e87",
   "metadata": {},
   "outputs": [
    {
     "name": "stdout",
     "output_type": "stream",
     "text": [
      "(46658, 1) (5185, 1)\n"
     ]
    }
   ],
   "source": [
    "print(train.shape, test.shape)"
   ]
  },
  {
   "cell_type": "code",
   "execution_count": null,
   "id": "e9ffb851-0aac-4d5f-842d-6f0360b2bc09",
   "metadata": {},
   "outputs": [],
   "source": [
    "f_columns = []"
   ]
  },
  {
   "cell_type": "code",
   "execution_count": 1,
   "id": "26adb179-a746-49ef-864a-c0870fd3eac8",
   "metadata": {},
   "outputs": [],
   "source": [
    "# Test, dies ist die erste Änderung"
   ]
  },
  {
   "cell_type": "code",
   "execution_count": null,
   "id": "bb6aed68-0b15-4fec-b8f3-2e8bb7098a92",
   "metadata": {},
   "outputs": [],
   "source": [
    "#Noch eine änadrung\n"
   ]
  }
 ],
 "metadata": {
  "kernelspec": {
   "display_name": "Python 3 (ipykernel)",
   "language": "python",
   "name": "python3"
  },
  "language_info": {
   "codemirror_mode": {
    "name": "ipython",
    "version": 3
   },
   "file_extension": ".py",
   "mimetype": "text/x-python",
   "name": "python",
   "nbconvert_exporter": "python",
   "pygments_lexer": "ipython3",
   "version": "3.9.12"
  }
 },
 "nbformat": 4,
 "nbformat_minor": 5
}
