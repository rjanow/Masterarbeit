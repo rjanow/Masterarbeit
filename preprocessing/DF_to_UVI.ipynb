{
  "nbformat": 4,
  "nbformat_minor": 0,
  "metadata": {
    "colab": {
      "provenance": [],
      "authorship_tag": "ABX9TyNQEcTV0fKd9VxZPGbjcAqg",
      "include_colab_link": true
    },
    "kernelspec": {
      "name": "python3",
      "display_name": "Python 3"
    },
    "language_info": {
      "name": "python"
    }
  },
  "cells": [
    {
      "cell_type": "markdown",
      "metadata": {
        "id": "view-in-github",
        "colab_type": "text"
      },
      "source": [
        "<a href=\"https://colab.research.google.com/github/rjanow/Masterarbeit/blob/main/preprocessing/DF_to_UVI.ipynb\" target=\"_parent\"><img src=\"https://colab.research.google.com/assets/colab-badge.svg\" alt=\"Open In Colab\"/></a>"
      ]
    },
    {
      "cell_type": "markdown",
      "source": [
        "# Hier wird mit Hilfe der vorverarebiteten Messdaten der UVI berechnet:"
      ],
      "metadata": {
        "id": "NIP7or0zyBfy"
      }
    },
    {
      "cell_type": "markdown",
      "source": [
        "**Dokumentenname: DF_to_UVI.ipynb**\n",
        "\n",
        "Es werden die vorverarbeiteten UV-Spektren in einen UVI und in die UVA und UVB Strahlung aggregiert. Zu Beginn muss das Skript *UV_Measurement_to_CSV* ausgeführt werden, um die Spektren in einen Dataframe umzuwandeln. Aufgrund der großen Datenmenge geschieht die Verarbeitung für jeden Monat getrennt."
      ],
      "metadata": {
        "id": "xqfE_b8wwIq-"
      }
    },
    {
      "cell_type": "markdown",
      "source": [
        "## Import der benötigten Module:"
      ],
      "metadata": {
        "id": "dF2bn7NPxOTE"
      }
    },
    {
      "cell_type": "code",
      "source": [
        "# Import der benötigten Module\n",
        "import os\n",
        "import pandas as pd\n",
        "import numpy as np\n",
        "import matplotlib.pyplot as plt"
      ],
      "metadata": {
        "id": "_A1lAVyv5xfL"
      },
      "execution_count": null,
      "outputs": []
    },
    {
      "cell_type": "markdown",
      "source": [
        "Mount der Google-Drive:"
      ],
      "metadata": {
        "id": "z3pYHXSOxU6I"
      }
    },
    {
      "cell_type": "code",
      "source": [
        "# Mount google drive\n",
        "from google.colab import drive\n",
        "from google.colab import files\n",
        "\n",
        "drive.mount('/content/drive')"
      ],
      "metadata": {
        "colab": {
          "base_uri": "https://localhost:8080/"
        },
        "id": "_y2YMPgL78lg",
        "outputId": "ae650f3b-7bf0-4cab-c0e2-cfb1075ef011"
      },
      "execution_count": null,
      "outputs": [
        {
          "output_type": "stream",
          "name": "stdout",
          "text": [
            "Drive already mounted at /content/drive; to attempt to forcibly remount, call drive.mount(\"/content/drive\", force_remount=True).\n"
          ]
        }
      ]
    },
    {
      "cell_type": "markdown",
      "source": [
        "**Monat der Exportiert werden sollen:**\n",
        "\n",
        "22.06\n",
        "22.07\n",
        "22.08\n",
        "22.09\n",
        "22.10\n",
        "22.11\n",
        "22.12\n",
        "23.01\n",
        "23.02\n",
        "23.03\n",
        "23.04\n",
        "23.05\n",
        "23.06\n",
        "23.07\n",
        "23.08"
      ],
      "metadata": {
        "id": "EdODSS4Pjage"
      }
    },
    {
      "cell_type": "code",
      "source": [
        "month = '22.09'"
      ],
      "metadata": {
        "id": "-xtIHFgTHfLD"
      },
      "execution_count": null,
      "outputs": []
    },
    {
      "cell_type": "markdown",
      "source": [
        "## Daten einlesen:"
      ],
      "metadata": {
        "id": "kiskXWeUyEjq"
      }
    },
    {
      "cell_type": "code",
      "source": [
        "# Import der CSV mit den rohen Messdaten\n",
        "# Pfad zur CSV-Datei auf Google Drive\n",
        "# Import:\n",
        "folder_import = '/content/drive/My Drive/Colab_Notebooks/CSV_Messdaten/' + month\n",
        "\n",
        "# Export:\n",
        "folder_export = '/content/drive/My Drive/Colab_Notebooks/CSV_UVI'\n",
        "folder_export_Gewichtet = '/content/drive/My Drive/Colab_Notebooks/CSV_Gewichtet'\n",
        "\n",
        "# CSV-Datei einlesen und DataFrame erstellen\n",
        "df_Messdaten = pd.read_csv(folder_import)"
      ],
      "metadata": {
        "id": "fAFHfjJGyO4j"
      },
      "execution_count": null,
      "outputs": []
    },
    {
      "cell_type": "markdown",
      "source": [
        "## Definetion der UV-Gewichtungsfunktion und UVA und UVB Bereich:"
      ],
      "metadata": {
        "id": "SP5mGJoryJf5"
      }
    },
    {
      "cell_type": "code",
      "source": [
        "# Gewichtungsfunktion für den UVI\n",
        "def weight_function(Wellenlaenge):\n",
        "    if Wellenlaenge <= 298:\n",
        "        return 1\n",
        "    elif Wellenlaenge > 298 and Wellenlaenge <= 328:\n",
        "        return 10**(0.094 * (298.0 - Wellenlaenge))\n",
        "    elif Wellenlaenge > 328 and Wellenlaenge <= 400:\n",
        "        return 10**(0.015 * (139.0 - Wellenlaenge))\n",
        "    else:\n",
        "        return 0"
      ],
      "metadata": {
        "id": "W04C2o97vtra"
      },
      "execution_count": null,
      "outputs": []
    },
    {
      "cell_type": "code",
      "source": [
        "# Bereich von Spalte x bis Spalte y (einschließlich y)\n",
        "x_UVI = '290.0'\n",
        "y_UVI = '400.0'\n",
        "selected_columns_UVI = df_Messdaten.columns[(df_Messdaten.columns.get_loc(x_UVI)):(df_Messdaten.columns.get_loc(y_UVI)+1)]"
      ],
      "metadata": {
        "id": "keEeM8bm5OGW"
      },
      "execution_count": null,
      "outputs": []
    },
    {
      "cell_type": "code",
      "source": [
        "# UVB Bereich von 290 bis 320.1 nm\n",
        "x_UVB = '290.0'\n",
        "y_UVB = '315.0'\n",
        "selected_columns_UVA = df_Messdaten.columns[(df_Messdaten.columns.get_loc(x_UVB)):(df_Messdaten.columns.get_loc(y_UVB)+1)]"
      ],
      "metadata": {
        "id": "ckacBkgqej9G"
      },
      "execution_count": null,
      "outputs": []
    },
    {
      "cell_type": "code",
      "source": [
        "# UVA Bereich von 320.1 bis 400 nm\n",
        "x_UVA = '315.1'\n",
        "y_UVA = '400.0'\n",
        "selected_columns_UVB = df_Messdaten.columns[(df_Messdaten.columns.get_loc(x_UVA)):(df_Messdaten.columns.get_loc(y_UVA)+1)]"
      ],
      "metadata": {
        "id": "le_EoINHi-OD"
      },
      "execution_count": null,
      "outputs": []
    },
    {
      "cell_type": "markdown",
      "source": [
        "## Erythemgewichtete UV-Messwerte, UVI und UVA UVB bestimmen:"
      ],
      "metadata": {
        "id": "SaTSIaNdya6I"
      }
    },
    {
      "cell_type": "code",
      "source": [
        "# Erythemgewichtete UV-Messwerte\n",
        "df_Gewichtet = []\n",
        "df_Gewichtet = df_Messdaten[selected_columns_UVI].apply(lambda col: col * weight_function(float(col.name)), axis=0)"
      ],
      "metadata": {
        "id": "9a3VGaYEvyXR"
      },
      "execution_count": null,
      "outputs": []
    },
    {
      "cell_type": "code",
      "source": [
        "def integrate_row(row):\n",
        "    x_values = np.array([float(col) for col in row.index])  # X-Werte aus Spaltennamen extrahieren\n",
        "    y_values = np.array(row)\n",
        "    integral = np.trapz(y_values, x_values)\n",
        "    return integral"
      ],
      "metadata": {
        "id": "busivxMc0ShI"
      },
      "execution_count": null,
      "outputs": []
    },
    {
      "cell_type": "code",
      "source": [
        "def calculate_UV_ABC(df):\n",
        "    return df.sum(axis=1)"
      ],
      "metadata": {
        "id": "B5UyjcgjduGh"
      },
      "execution_count": null,
      "outputs": []
    },
    {
      "cell_type": "code",
      "source": [
        "# Summe der Messwerte über das UVA und UVB Spektrum\n",
        "UVA = calculate_UV_ABC(df_Messdaten[selected_columns_UVA])\n",
        "UVB = calculate_UV_ABC(df_Messdaten[selected_columns_UVB])\n",
        "# Spalte umbenennen\n",
        "UVA.name = 'UVA'\n",
        "UVB.name = 'UVB'"
      ],
      "metadata": {
        "id": "0Wh7HH1-kE3p"
      },
      "execution_count": null,
      "outputs": []
    },
    {
      "cell_type": "code",
      "source": [
        "ser_UVI = []\n",
        "df_UVI = []\n",
        "\n",
        "# Integration der gewichteten UV-Messwerte\n",
        "ser_UVI = df_Gewichtet.apply(integrate_row, axis=1)\n",
        "# Umwandeln der Serie in einen Dataframe\n",
        "df_UVI = pd.DataFrame(ser_UVI, columns=['erythem'])"
      ],
      "metadata": {
        "id": "pQ-Mg1syLv4k"
      },
      "execution_count": null,
      "outputs": []
    },
    {
      "cell_type": "code",
      "source": [
        "# Dem Dataframe die Werte für UVA und UVB hinzufügen\n",
        "df_UV = pd.concat([df_UVI, UVA, UVB], axis=1)"
      ],
      "metadata": {
        "id": "jnEEfuJ0IEou"
      },
      "execution_count": null,
      "outputs": []
    },
    {
      "cell_type": "code",
      "source": [
        "type(df_Gewichtet), type(df_UV)"
      ],
      "metadata": {
        "colab": {
          "base_uri": "https://localhost:8080/"
        },
        "id": "kAOX9B7gcgrZ",
        "outputId": "c10106a0-0816-4da5-a3ba-ab0d79360bd1"
      },
      "execution_count": null,
      "outputs": [
        {
          "output_type": "execute_result",
          "data": {
            "text/plain": [
              "(pandas.core.frame.DataFrame, pandas.core.frame.DataFrame)"
            ]
          },
          "metadata": {},
          "execution_count": 15
        }
      ]
    },
    {
      "cell_type": "markdown",
      "source": [
        "## Abspeichern der UVI, UVA, UVB Messwerte in einen Dataframe:"
      ],
      "metadata": {
        "id": "XEmhbwhIAJ3x"
      }
    },
    {
      "cell_type": "code",
      "source": [
        "# Exportieren\n",
        "\n",
        "columns_to_copy = ['Datetime', 'Datum', 'Uhrzeit', 'Messzeitpunkt']\n",
        "\n",
        "for col in columns_to_copy:\n",
        "  df_Gewichtet.insert(0, col, df_Messdaten[col])\n",
        "  df_UV.insert(0, col, df_Messdaten[col])\n",
        "  df_UV['UVI'] = df_UV['erythem'].copy() * 40"
      ],
      "metadata": {
        "id": "aPrTWfZraXOX"
      },
      "execution_count": null,
      "outputs": []
    },
    {
      "cell_type": "code",
      "source": [
        "# Ändern der Reihenfolge der Spalten\n",
        "# Aktuelle Spaltennamen\n",
        "new_columns = ['Datetime','UVI','UVA','UVB','erythem','Datum','Uhrzeit','Messzeitpunkt']\n",
        "df_UV = df_UV[new_columns]"
      ],
      "metadata": {
        "id": "iiu21SIlYbxZ"
      },
      "execution_count": null,
      "outputs": []
    },
    {
      "cell_type": "code",
      "source": [
        "df_UV"
      ],
      "metadata": {
        "id": "iI1gi53dbS_a",
        "colab": {
          "base_uri": "https://localhost:8080/",
          "height": 424
        },
        "outputId": "9c6cc0f5-756c-439d-f179-756d1a96375a"
      },
      "execution_count": null,
      "outputs": [
        {
          "output_type": "execute_result",
          "data": {
            "text/plain": [
              "                 Datetime       UVI       UVA         UVB   erythem  \\\n",
              "0     2022-09-06 04:32:00  0.000933  0.000827    0.318351  0.000023   \n",
              "1     2022-09-06 04:34:00  0.001327  0.001296    0.425413  0.000033   \n",
              "2     2022-09-06 04:36:00  0.001715  0.001611    0.567706  0.000043   \n",
              "3     2022-09-06 04:38:00  0.002398  0.002375    0.745764  0.000060   \n",
              "4     2022-09-06 04:40:00  0.002964  0.002872    0.951027  0.000074   \n",
              "...                   ...       ...       ...         ...       ...   \n",
              "8250  2022-09-02 06:56:00  1.045392  1.300969  121.782089  0.026135   \n",
              "8251  2022-09-02 06:58:00  0.432583  0.243762    0.000000  0.010815   \n",
              "8252  2022-09-02 07:00:00  0.752765  1.328714  137.612769  0.018819   \n",
              "8253  2022-09-02 07:02:00  0.843798  1.487536  139.274483  0.021095   \n",
              "8254  2022-09-02 07:04:00  0.885967  1.558132  145.443979  0.022149   \n",
              "\n",
              "           Datum   Uhrzeit  Messzeitpunkt  \n",
              "0     2022-09-06  04:32:00          16320  \n",
              "1     2022-09-06  04:34:00          16440  \n",
              "2     2022-09-06  04:36:00          16560  \n",
              "3     2022-09-06  04:38:00          16680  \n",
              "4     2022-09-06  04:40:00          16800  \n",
              "...          ...       ...            ...  \n",
              "8250  2022-09-02  06:56:00          24960  \n",
              "8251  2022-09-02  06:58:00          25080  \n",
              "8252  2022-09-02  07:00:00          25200  \n",
              "8253  2022-09-02  07:02:00          25320  \n",
              "8254  2022-09-02  07:04:00          25440  \n",
              "\n",
              "[8255 rows x 8 columns]"
            ],
            "text/html": [
              "\n",
              "  <div id=\"df-e88b1ac6-201b-4af3-9f30-1c3ab6fc6cf0\" class=\"colab-df-container\">\n",
              "    <div>\n",
              "<style scoped>\n",
              "    .dataframe tbody tr th:only-of-type {\n",
              "        vertical-align: middle;\n",
              "    }\n",
              "\n",
              "    .dataframe tbody tr th {\n",
              "        vertical-align: top;\n",
              "    }\n",
              "\n",
              "    .dataframe thead th {\n",
              "        text-align: right;\n",
              "    }\n",
              "</style>\n",
              "<table border=\"1\" class=\"dataframe\">\n",
              "  <thead>\n",
              "    <tr style=\"text-align: right;\">\n",
              "      <th></th>\n",
              "      <th>Datetime</th>\n",
              "      <th>UVI</th>\n",
              "      <th>UVA</th>\n",
              "      <th>UVB</th>\n",
              "      <th>erythem</th>\n",
              "      <th>Datum</th>\n",
              "      <th>Uhrzeit</th>\n",
              "      <th>Messzeitpunkt</th>\n",
              "    </tr>\n",
              "  </thead>\n",
              "  <tbody>\n",
              "    <tr>\n",
              "      <th>0</th>\n",
              "      <td>2022-09-06 04:32:00</td>\n",
              "      <td>0.000933</td>\n",
              "      <td>0.000827</td>\n",
              "      <td>0.318351</td>\n",
              "      <td>0.000023</td>\n",
              "      <td>2022-09-06</td>\n",
              "      <td>04:32:00</td>\n",
              "      <td>16320</td>\n",
              "    </tr>\n",
              "    <tr>\n",
              "      <th>1</th>\n",
              "      <td>2022-09-06 04:34:00</td>\n",
              "      <td>0.001327</td>\n",
              "      <td>0.001296</td>\n",
              "      <td>0.425413</td>\n",
              "      <td>0.000033</td>\n",
              "      <td>2022-09-06</td>\n",
              "      <td>04:34:00</td>\n",
              "      <td>16440</td>\n",
              "    </tr>\n",
              "    <tr>\n",
              "      <th>2</th>\n",
              "      <td>2022-09-06 04:36:00</td>\n",
              "      <td>0.001715</td>\n",
              "      <td>0.001611</td>\n",
              "      <td>0.567706</td>\n",
              "      <td>0.000043</td>\n",
              "      <td>2022-09-06</td>\n",
              "      <td>04:36:00</td>\n",
              "      <td>16560</td>\n",
              "    </tr>\n",
              "    <tr>\n",
              "      <th>3</th>\n",
              "      <td>2022-09-06 04:38:00</td>\n",
              "      <td>0.002398</td>\n",
              "      <td>0.002375</td>\n",
              "      <td>0.745764</td>\n",
              "      <td>0.000060</td>\n",
              "      <td>2022-09-06</td>\n",
              "      <td>04:38:00</td>\n",
              "      <td>16680</td>\n",
              "    </tr>\n",
              "    <tr>\n",
              "      <th>4</th>\n",
              "      <td>2022-09-06 04:40:00</td>\n",
              "      <td>0.002964</td>\n",
              "      <td>0.002872</td>\n",
              "      <td>0.951027</td>\n",
              "      <td>0.000074</td>\n",
              "      <td>2022-09-06</td>\n",
              "      <td>04:40:00</td>\n",
              "      <td>16800</td>\n",
              "    </tr>\n",
              "    <tr>\n",
              "      <th>...</th>\n",
              "      <td>...</td>\n",
              "      <td>...</td>\n",
              "      <td>...</td>\n",
              "      <td>...</td>\n",
              "      <td>...</td>\n",
              "      <td>...</td>\n",
              "      <td>...</td>\n",
              "      <td>...</td>\n",
              "    </tr>\n",
              "    <tr>\n",
              "      <th>8250</th>\n",
              "      <td>2022-09-02 06:56:00</td>\n",
              "      <td>1.045392</td>\n",
              "      <td>1.300969</td>\n",
              "      <td>121.782089</td>\n",
              "      <td>0.026135</td>\n",
              "      <td>2022-09-02</td>\n",
              "      <td>06:56:00</td>\n",
              "      <td>24960</td>\n",
              "    </tr>\n",
              "    <tr>\n",
              "      <th>8251</th>\n",
              "      <td>2022-09-02 06:58:00</td>\n",
              "      <td>0.432583</td>\n",
              "      <td>0.243762</td>\n",
              "      <td>0.000000</td>\n",
              "      <td>0.010815</td>\n",
              "      <td>2022-09-02</td>\n",
              "      <td>06:58:00</td>\n",
              "      <td>25080</td>\n",
              "    </tr>\n",
              "    <tr>\n",
              "      <th>8252</th>\n",
              "      <td>2022-09-02 07:00:00</td>\n",
              "      <td>0.752765</td>\n",
              "      <td>1.328714</td>\n",
              "      <td>137.612769</td>\n",
              "      <td>0.018819</td>\n",
              "      <td>2022-09-02</td>\n",
              "      <td>07:00:00</td>\n",
              "      <td>25200</td>\n",
              "    </tr>\n",
              "    <tr>\n",
              "      <th>8253</th>\n",
              "      <td>2022-09-02 07:02:00</td>\n",
              "      <td>0.843798</td>\n",
              "      <td>1.487536</td>\n",
              "      <td>139.274483</td>\n",
              "      <td>0.021095</td>\n",
              "      <td>2022-09-02</td>\n",
              "      <td>07:02:00</td>\n",
              "      <td>25320</td>\n",
              "    </tr>\n",
              "    <tr>\n",
              "      <th>8254</th>\n",
              "      <td>2022-09-02 07:04:00</td>\n",
              "      <td>0.885967</td>\n",
              "      <td>1.558132</td>\n",
              "      <td>145.443979</td>\n",
              "      <td>0.022149</td>\n",
              "      <td>2022-09-02</td>\n",
              "      <td>07:04:00</td>\n",
              "      <td>25440</td>\n",
              "    </tr>\n",
              "  </tbody>\n",
              "</table>\n",
              "<p>8255 rows × 8 columns</p>\n",
              "</div>\n",
              "    <div class=\"colab-df-buttons\">\n",
              "\n",
              "  <div class=\"colab-df-container\">\n",
              "    <button class=\"colab-df-convert\" onclick=\"convertToInteractive('df-e88b1ac6-201b-4af3-9f30-1c3ab6fc6cf0')\"\n",
              "            title=\"Convert this dataframe to an interactive table.\"\n",
              "            style=\"display:none;\">\n",
              "\n",
              "  <svg xmlns=\"http://www.w3.org/2000/svg\" height=\"24px\" viewBox=\"0 -960 960 960\">\n",
              "    <path d=\"M120-120v-720h720v720H120Zm60-500h600v-160H180v160Zm220 220h160v-160H400v160Zm0 220h160v-160H400v160ZM180-400h160v-160H180v160Zm440 0h160v-160H620v160ZM180-180h160v-160H180v160Zm440 0h160v-160H620v160Z\"/>\n",
              "  </svg>\n",
              "    </button>\n",
              "\n",
              "  <style>\n",
              "    .colab-df-container {\n",
              "      display:flex;\n",
              "      gap: 12px;\n",
              "    }\n",
              "\n",
              "    .colab-df-convert {\n",
              "      background-color: #E8F0FE;\n",
              "      border: none;\n",
              "      border-radius: 50%;\n",
              "      cursor: pointer;\n",
              "      display: none;\n",
              "      fill: #1967D2;\n",
              "      height: 32px;\n",
              "      padding: 0 0 0 0;\n",
              "      width: 32px;\n",
              "    }\n",
              "\n",
              "    .colab-df-convert:hover {\n",
              "      background-color: #E2EBFA;\n",
              "      box-shadow: 0px 1px 2px rgba(60, 64, 67, 0.3), 0px 1px 3px 1px rgba(60, 64, 67, 0.15);\n",
              "      fill: #174EA6;\n",
              "    }\n",
              "\n",
              "    .colab-df-buttons div {\n",
              "      margin-bottom: 4px;\n",
              "    }\n",
              "\n",
              "    [theme=dark] .colab-df-convert {\n",
              "      background-color: #3B4455;\n",
              "      fill: #D2E3FC;\n",
              "    }\n",
              "\n",
              "    [theme=dark] .colab-df-convert:hover {\n",
              "      background-color: #434B5C;\n",
              "      box-shadow: 0px 1px 3px 1px rgba(0, 0, 0, 0.15);\n",
              "      filter: drop-shadow(0px 1px 2px rgba(0, 0, 0, 0.3));\n",
              "      fill: #FFFFFF;\n",
              "    }\n",
              "  </style>\n",
              "\n",
              "    <script>\n",
              "      const buttonEl =\n",
              "        document.querySelector('#df-e88b1ac6-201b-4af3-9f30-1c3ab6fc6cf0 button.colab-df-convert');\n",
              "      buttonEl.style.display =\n",
              "        google.colab.kernel.accessAllowed ? 'block' : 'none';\n",
              "\n",
              "      async function convertToInteractive(key) {\n",
              "        const element = document.querySelector('#df-e88b1ac6-201b-4af3-9f30-1c3ab6fc6cf0');\n",
              "        const dataTable =\n",
              "          await google.colab.kernel.invokeFunction('convertToInteractive',\n",
              "                                                    [key], {});\n",
              "        if (!dataTable) return;\n",
              "\n",
              "        const docLinkHtml = 'Like what you see? Visit the ' +\n",
              "          '<a target=\"_blank\" href=https://colab.research.google.com/notebooks/data_table.ipynb>data table notebook</a>'\n",
              "          + ' to learn more about interactive tables.';\n",
              "        element.innerHTML = '';\n",
              "        dataTable['output_type'] = 'display_data';\n",
              "        await google.colab.output.renderOutput(dataTable, element);\n",
              "        const docLink = document.createElement('div');\n",
              "        docLink.innerHTML = docLinkHtml;\n",
              "        element.appendChild(docLink);\n",
              "      }\n",
              "    </script>\n",
              "  </div>\n",
              "\n",
              "\n",
              "<div id=\"df-c135f79a-947f-400f-8b55-cae225beefc7\">\n",
              "  <button class=\"colab-df-quickchart\" onclick=\"quickchart('df-c135f79a-947f-400f-8b55-cae225beefc7')\"\n",
              "            title=\"Suggest charts\"\n",
              "            style=\"display:none;\">\n",
              "\n",
              "<svg xmlns=\"http://www.w3.org/2000/svg\" height=\"24px\"viewBox=\"0 0 24 24\"\n",
              "     width=\"24px\">\n",
              "    <g>\n",
              "        <path d=\"M19 3H5c-1.1 0-2 .9-2 2v14c0 1.1.9 2 2 2h14c1.1 0 2-.9 2-2V5c0-1.1-.9-2-2-2zM9 17H7v-7h2v7zm4 0h-2V7h2v10zm4 0h-2v-4h2v4z\"/>\n",
              "    </g>\n",
              "</svg>\n",
              "  </button>\n",
              "\n",
              "<style>\n",
              "  .colab-df-quickchart {\n",
              "      --bg-color: #E8F0FE;\n",
              "      --fill-color: #1967D2;\n",
              "      --hover-bg-color: #E2EBFA;\n",
              "      --hover-fill-color: #174EA6;\n",
              "      --disabled-fill-color: #AAA;\n",
              "      --disabled-bg-color: #DDD;\n",
              "  }\n",
              "\n",
              "  [theme=dark] .colab-df-quickchart {\n",
              "      --bg-color: #3B4455;\n",
              "      --fill-color: #D2E3FC;\n",
              "      --hover-bg-color: #434B5C;\n",
              "      --hover-fill-color: #FFFFFF;\n",
              "      --disabled-bg-color: #3B4455;\n",
              "      --disabled-fill-color: #666;\n",
              "  }\n",
              "\n",
              "  .colab-df-quickchart {\n",
              "    background-color: var(--bg-color);\n",
              "    border: none;\n",
              "    border-radius: 50%;\n",
              "    cursor: pointer;\n",
              "    display: none;\n",
              "    fill: var(--fill-color);\n",
              "    height: 32px;\n",
              "    padding: 0;\n",
              "    width: 32px;\n",
              "  }\n",
              "\n",
              "  .colab-df-quickchart:hover {\n",
              "    background-color: var(--hover-bg-color);\n",
              "    box-shadow: 0 1px 2px rgba(60, 64, 67, 0.3), 0 1px 3px 1px rgba(60, 64, 67, 0.15);\n",
              "    fill: var(--button-hover-fill-color);\n",
              "  }\n",
              "\n",
              "  .colab-df-quickchart-complete:disabled,\n",
              "  .colab-df-quickchart-complete:disabled:hover {\n",
              "    background-color: var(--disabled-bg-color);\n",
              "    fill: var(--disabled-fill-color);\n",
              "    box-shadow: none;\n",
              "  }\n",
              "\n",
              "  .colab-df-spinner {\n",
              "    border: 2px solid var(--fill-color);\n",
              "    border-color: transparent;\n",
              "    border-bottom-color: var(--fill-color);\n",
              "    animation:\n",
              "      spin 1s steps(1) infinite;\n",
              "  }\n",
              "\n",
              "  @keyframes spin {\n",
              "    0% {\n",
              "      border-color: transparent;\n",
              "      border-bottom-color: var(--fill-color);\n",
              "      border-left-color: var(--fill-color);\n",
              "    }\n",
              "    20% {\n",
              "      border-color: transparent;\n",
              "      border-left-color: var(--fill-color);\n",
              "      border-top-color: var(--fill-color);\n",
              "    }\n",
              "    30% {\n",
              "      border-color: transparent;\n",
              "      border-left-color: var(--fill-color);\n",
              "      border-top-color: var(--fill-color);\n",
              "      border-right-color: var(--fill-color);\n",
              "    }\n",
              "    40% {\n",
              "      border-color: transparent;\n",
              "      border-right-color: var(--fill-color);\n",
              "      border-top-color: var(--fill-color);\n",
              "    }\n",
              "    60% {\n",
              "      border-color: transparent;\n",
              "      border-right-color: var(--fill-color);\n",
              "    }\n",
              "    80% {\n",
              "      border-color: transparent;\n",
              "      border-right-color: var(--fill-color);\n",
              "      border-bottom-color: var(--fill-color);\n",
              "    }\n",
              "    90% {\n",
              "      border-color: transparent;\n",
              "      border-bottom-color: var(--fill-color);\n",
              "    }\n",
              "  }\n",
              "</style>\n",
              "\n",
              "  <script>\n",
              "    async function quickchart(key) {\n",
              "      const quickchartButtonEl =\n",
              "        document.querySelector('#' + key + ' button');\n",
              "      quickchartButtonEl.disabled = true;  // To prevent multiple clicks.\n",
              "      quickchartButtonEl.classList.add('colab-df-spinner');\n",
              "      try {\n",
              "        const charts = await google.colab.kernel.invokeFunction(\n",
              "            'suggestCharts', [key], {});\n",
              "      } catch (error) {\n",
              "        console.error('Error during call to suggestCharts:', error);\n",
              "      }\n",
              "      quickchartButtonEl.classList.remove('colab-df-spinner');\n",
              "      quickchartButtonEl.classList.add('colab-df-quickchart-complete');\n",
              "    }\n",
              "    (() => {\n",
              "      let quickchartButtonEl =\n",
              "        document.querySelector('#df-c135f79a-947f-400f-8b55-cae225beefc7 button');\n",
              "      quickchartButtonEl.style.display =\n",
              "        google.colab.kernel.accessAllowed ? 'block' : 'none';\n",
              "    })();\n",
              "  </script>\n",
              "</div>\n",
              "    </div>\n",
              "  </div>\n"
            ],
            "application/vnd.google.colaboratory.intrinsic+json": {
              "type": "dataframe",
              "variable_name": "df_UV",
              "summary": "{\n  \"name\": \"df_UV\",\n  \"rows\": 8255,\n  \"fields\": [\n    {\n      \"column\": \"Datetime\",\n      \"properties\": {\n        \"dtype\": \"object\",\n        \"num_unique_values\": 8255,\n        \"samples\": [\n          \"2022-09-19 16:42:00\",\n          \"2022-09-07 11:18:00\",\n          \"2022-09-28 06:47:00\"\n        ],\n        \"semantic_type\": \"\",\n        \"description\": \"\"\n      }\n    },\n    {\n      \"column\": \"UVI\",\n      \"properties\": {\n        \"dtype\": \"number\",\n        \"std\": 1.1688882408720591,\n        \"min\": 6.861608313702691e-05,\n        \"max\": 5.158526624522136,\n        \"num_unique_values\": 8222,\n        \"samples\": [\n          0.9243539910577094,\n          4.328832706034532,\n          0.23917562795074365\n        ],\n        \"semantic_type\": \"\",\n        \"description\": \"\"\n      }\n    },\n    {\n      \"column\": \"UVA\",\n      \"properties\": {\n        \"dtype\": \"number\",\n        \"std\": 2.3322984111310907,\n        \"min\": 0.0,\n        \"max\": 10.025807446799996,\n        \"num_unique_values\": 8210,\n        \"samples\": [\n          0.02612676540000001,\n          2.9323220750999996,\n          7.3836683260000004\n        ],\n        \"semantic_type\": \"\",\n        \"description\": \"\"\n      }\n    },\n    {\n      \"column\": \"UVB\",\n      \"properties\": {\n        \"dtype\": \"number\",\n        \"std\": 107.67675960464716,\n        \"min\": 0.0,\n        \"max\": 480.0582699999999,\n        \"num_unique_values\": 8219,\n        \"samples\": [\n          149.22033699999992,\n          137.31699099999986,\n          103.72979700000006\n        ],\n        \"semantic_type\": \"\",\n        \"description\": \"\"\n      }\n    },\n    {\n      \"column\": \"erythem\",\n      \"properties\": {\n        \"dtype\": \"number\",\n        \"std\": 0.029222206021801478,\n        \"min\": 1.7154020784256728e-06,\n        \"max\": 0.1289631656130534,\n        \"num_unique_values\": 8222,\n        \"samples\": [\n          0.023108849776442737,\n          0.1082208176508633,\n          0.005979390698768591\n        ],\n        \"semantic_type\": \"\",\n        \"description\": \"\"\n      }\n    },\n    {\n      \"column\": \"Datum\",\n      \"properties\": {\n        \"dtype\": \"object\",\n        \"num_unique_values\": 24,\n        \"samples\": [\n          \"2022-09-16\",\n          \"2022-09-24\",\n          \"2022-09-06\"\n        ],\n        \"semantic_type\": \"\",\n        \"description\": \"\"\n      }\n    },\n    {\n      \"column\": \"Uhrzeit\",\n      \"properties\": {\n        \"dtype\": \"object\",\n        \"num_unique_values\": 758,\n        \"samples\": [\n          \"11:49:00\",\n          \"07:46:00\",\n          \"16:52:00\"\n        ],\n        \"semantic_type\": \"\",\n        \"description\": \"\"\n      }\n    },\n    {\n      \"column\": \"Messzeitpunkt\",\n      \"properties\": {\n        \"dtype\": \"number\",\n        \"std\": 13172,\n        \"min\": 16320,\n        \"max\": 64680,\n        \"num_unique_values\": 758,\n        \"samples\": [\n          42540,\n          27960,\n          60720\n        ],\n        \"semantic_type\": \"\",\n        \"description\": \"\"\n      }\n    }\n  ]\n}"
            }
          },
          "metadata": {},
          "execution_count": 18
        }
      ]
    },
    {
      "cell_type": "code",
      "source": [
        "def save_dataframe_to_drive(dataframe, folder_path, filename):\n",
        "\n",
        "    # Erstelle den vollen Pfad zur Datei\n",
        "    full_path = os.path.join(folder_path, filename)\n",
        "\n",
        "    # Speichere den DataFrame als CSV-Datei auf Google Drive\n",
        "    dataframe.to_csv(full_path, index=False)\n",
        "\n",
        "    print(f'Der DataFrame wurde als {filename} in {folder_path} auf Google Drive gespeichert.')"
      ],
      "metadata": {
        "id": "TcSpTUV4efjn"
      },
      "execution_count": null,
      "outputs": []
    },
    {
      "cell_type": "code",
      "source": [
        "plt.plot(df_UV['UVI'])"
      ],
      "metadata": {
        "colab": {
          "base_uri": "https://localhost:8080/",
          "height": 447
        },
        "id": "7u3jHrV3hP9C",
        "outputId": "674c3b44-9783-401b-e2e8-e560c93d9a80"
      },
      "execution_count": null,
      "outputs": [
        {
          "output_type": "execute_result",
          "data": {
            "text/plain": [
              "[<matplotlib.lines.Line2D at 0x7b6b86faa740>]"
            ]
          },
          "metadata": {},
          "execution_count": 20
        },
        {
          "output_type": "display_data",
          "data": {
            "text/plain": [
              "<Figure size 640x480 with 1 Axes>"
            ],
            "image/png": "[encoded data removed]"
          },
          "metadata": {}
        }
      ]
    },
    {
      "cell_type": "code",
      "source": [
        "save_dataframe_to_drive(df_UV, folder_export, month)"
      ],
      "metadata": {
        "id": "POBk1RHxegfB",
        "colab": {
          "base_uri": "https://localhost:8080/"
        },
        "outputId": "3b49ce88-47a3-478f-9aa3-cb776b466175"
      },
      "execution_count": null,
      "outputs": [
        {
          "output_type": "stream",
          "name": "stdout",
          "text": [
            "Der DataFrame wurde als 22.09 in /content/drive/My Drive/Colab_Notebooks/CSV_UVI auf Google Drive gespeichert.\n"
          ]
        }
      ]
    },
    {
      "cell_type": "code",
      "source": [
        "save_dataframe_to_drive(df_Gewichtet, folder_export_Gewichtet, month)"
      ],
      "metadata": {
        "id": "3Xcot1MzfZCt",
        "colab": {
          "base_uri": "https://localhost:8080/"
        },
        "outputId": "b01db3d6-dd91-4566-a0d5-b4b3b37c3fdb"
      },
      "execution_count": null,
      "outputs": [
        {
          "output_type": "stream",
          "name": "stdout",
          "text": [
            "Der DataFrame wurde als 22.09 in /content/drive/My Drive/Colab_Notebooks/CSV_Gewichtet auf Google Drive gespeichert.\n"
          ]
        }
      ]
    }
  ]
}