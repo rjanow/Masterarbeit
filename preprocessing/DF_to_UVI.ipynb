{
  "nbformat": 4,
  "nbformat_minor": 0,
  "metadata": {
    "colab": {
      "provenance": [],
      "authorship_tag": "ABX9TyMAXl+7adfOnTyaW+8P8Ixn",
      "include_colab_link": true
    },
    "kernelspec": {
      "name": "python3",
      "display_name": "Python 3"
    },
    "language_info": {
      "name": "python"
    }
  },
  "cells": [
    {
      "cell_type": "markdown",
      "metadata": {
        "id": "view-in-github",
        "colab_type": "text"
      },
      "source": [
        "<a href=\"https://colab.research.google.com/github/rjanow/Masterarbeit/blob/main/preprocessing/DF_to_UVI.ipynb\" target=\"_parent\"><img src=\"https://colab.research.google.com/assets/colab-badge.svg\" alt=\"Open In Colab\"/></a>"
      ]
    },
    {
      "cell_type": "markdown",
      "source": [
        "# Hier wird mit Hilfe der vorverarebiteten Messdaten der UVI berechnet:"
      ],
      "metadata": {
        "id": "NIP7or0zyBfy"
      }
    },
    {
      "cell_type": "markdown",
      "source": [
        "**Dokumentenname: DF_to_UVI.ipynb**\n",
        "\n",
        "Es werden die vorverarbeiteten UV-Spektren in einen UVI und in die UVA und UVB Strahlung aggregiert. Zu Beginn muss das Skript *UV_Measurement_to_CSV* ausgeführt werden, um die Spektren in einen Dataframe umzuwandeln. Aufgrund der großen Datenmenge geschieht die Verarbeitung für jeden Monat getrennt."
      ],
      "metadata": {
        "id": "xqfE_b8wwIq-"
      }
    },
    {
      "cell_type": "markdown",
      "source": [
        "## Import der benötigten Module:"
      ],
      "metadata": {
        "id": "dF2bn7NPxOTE"
      }
    },
    {
      "cell_type": "code",
      "source": [
        "# Import der benötigten Module\n",
        "import os\n",
        "import pandas as pd\n",
        "import numpy as np\n",
        "import matplotlib.pyplot as plt"
      ],
      "metadata": {
        "id": "_A1lAVyv5xfL"
      },
      "execution_count": 1,
      "outputs": []
    },
    {
      "cell_type": "markdown",
      "source": [
        "Mount der Google-Drive:"
      ],
      "metadata": {
        "id": "z3pYHXSOxU6I"
      }
    },
    {
      "cell_type": "code",
      "source": [
        "# Mount google drive\n",
        "from google.colab import drive\n",
        "from google.colab import files\n",
        "\n",
        "drive.mount('/content/drive')"
      ],
      "metadata": {
        "colab": {
          "base_uri": "https://localhost:8080/"
        },
        "id": "_y2YMPgL78lg",
        "outputId": "103f0b90-c3b6-4462-ecc2-47c0d3487b64"
      },
      "execution_count": 2,
      "outputs": [
        {
          "output_type": "stream",
          "name": "stdout",
          "text": [
            "Drive already mounted at /content/drive; to attempt to forcibly remount, call drive.mount(\"/content/drive\", force_remount=True).\n"
          ]
        }
      ]
    },
    {
      "cell_type": "markdown",
      "source": [
        "**Monat der Exportiert werden sollen:**\n",
        "\n",
        "22.06\n",
        "22.07\n",
        "22.08\n",
        "22.09\n",
        "22.10\n",
        "22.11\n",
        "22.12\n",
        "23.01\n",
        "23.02\n",
        "23.03\n",
        "23.04\n",
        "23.05\n",
        "(Keine Messdaten für 23.06)\n",
        "23.07\n",
        "23.08"
      ],
      "metadata": {
        "id": "EdODSS4Pjage"
      }
    },
    {
      "cell_type": "code",
      "source": [
        "month = '23.01'"
      ],
      "metadata": {
        "id": "-xtIHFgTHfLD"
      },
      "execution_count": 3,
      "outputs": []
    },
    {
      "cell_type": "markdown",
      "source": [
        "## Daten einlesen:"
      ],
      "metadata": {
        "id": "kiskXWeUyEjq"
      }
    },
    {
      "cell_type": "code",
      "source": [
        "# Import der CSV mit den rohen Messdaten\n",
        "# Pfad zur CSV-Datei auf Google Drive\n",
        "# Import:\n",
        "folder_import = '/content/drive/My Drive/Colab_Notebooks/CSV_Messdaten/' + month\n",
        "\n",
        "# Export:\n",
        "folder_export = '/content/drive/My Drive/Colab_Notebooks/CSV_UVI'\n",
        "folder_export_Gewichtet = '/content/drive/My Drive/Colab_Notebooks/CSV_Gewichtet'\n",
        "\n",
        "# CSV-Datei einlesen und DataFrame erstellen\n",
        "df_Messdaten = pd.read_csv(folder_import)"
      ],
      "metadata": {
        "id": "fAFHfjJGyO4j"
      },
      "execution_count": 4,
      "outputs": []
    },
    {
      "cell_type": "markdown",
      "source": [
        "## Definetion der UV-Gewichtungsfunktion und UVA und UVB Bereich:"
      ],
      "metadata": {
        "id": "SP5mGJoryJf5"
      }
    },
    {
      "cell_type": "code",
      "source": [
        "# Gewichtungsfunktion für den UVI\n",
        "def weight_function(Wellenlaenge):\n",
        "    if Wellenlaenge <= 298:\n",
        "        return 1\n",
        "    elif Wellenlaenge > 298 and Wellenlaenge <= 328:\n",
        "        return 10**(0.094 * (298.0 - Wellenlaenge))\n",
        "    elif Wellenlaenge > 328 and Wellenlaenge <= 400:\n",
        "        return 10**(0.015 * (139.0 - Wellenlaenge))\n",
        "    else:\n",
        "        return 0"
      ],
      "metadata": {
        "id": "W04C2o97vtra"
      },
      "execution_count": 5,
      "outputs": []
    },
    {
      "cell_type": "code",
      "source": [
        "# Bereich von Spalte x bis Spalte y (einschließlich y)\n",
        "x_UVI = '290.0'\n",
        "y_UVI = '400.0'\n",
        "selected_columns_UVI = df_Messdaten.columns[(df_Messdaten.columns.get_loc(x_UVI)):(df_Messdaten.columns.get_loc(y_UVI)+1)]"
      ],
      "metadata": {
        "id": "keEeM8bm5OGW"
      },
      "execution_count": 6,
      "outputs": []
    },
    {
      "cell_type": "code",
      "source": [
        "# UVB Bereich von 290 bis 320.1 nm\n",
        "x_UVB = '290.0'\n",
        "y_UVB = '315.0'\n",
        "selected_columns_UVA = df_Messdaten.columns[(df_Messdaten.columns.get_loc(x_UVB)):(df_Messdaten.columns.get_loc(y_UVB)+1)]"
      ],
      "metadata": {
        "id": "ckacBkgqej9G"
      },
      "execution_count": 7,
      "outputs": []
    },
    {
      "cell_type": "code",
      "source": [
        "# UVA Bereich von 320.1 bis 400 nm\n",
        "x_UVA = '315.1'\n",
        "y_UVA = '400.0'\n",
        "selected_columns_UVB = df_Messdaten.columns[(df_Messdaten.columns.get_loc(x_UVA)):(df_Messdaten.columns.get_loc(y_UVA)+1)]"
      ],
      "metadata": {
        "id": "le_EoINHi-OD"
      },
      "execution_count": 8,
      "outputs": []
    },
    {
      "cell_type": "markdown",
      "source": [
        "## Erythemgewichtete UV-Messwerte, UVI und UVA UVB bestimmen:"
      ],
      "metadata": {
        "id": "SaTSIaNdya6I"
      }
    },
    {
      "cell_type": "code",
      "source": [
        "# Erythemgewichtete UV-Messwerte\n",
        "df_Gewichtet = []\n",
        "df_Gewichtet = df_Messdaten[selected_columns_UVI].apply(lambda col: col * weight_function(float(col.name)), axis=0)"
      ],
      "metadata": {
        "id": "9a3VGaYEvyXR"
      },
      "execution_count": 9,
      "outputs": []
    },
    {
      "cell_type": "code",
      "source": [
        "def integrate_row(row):\n",
        "    x_values = np.array([float(col) for col in row.index])  # X-Werte aus Spaltennamen extrahieren\n",
        "    y_values = np.array(row)\n",
        "    integral = np.trapz(y_values, x_values)\n",
        "    return integral"
      ],
      "metadata": {
        "id": "busivxMc0ShI"
      },
      "execution_count": 10,
      "outputs": []
    },
    {
      "cell_type": "code",
      "source": [
        "def calculate_UV_ABC(df):\n",
        "    return df.sum(axis=1)"
      ],
      "metadata": {
        "id": "B5UyjcgjduGh"
      },
      "execution_count": 11,
      "outputs": []
    },
    {
      "cell_type": "code",
      "source": [
        "# Summe der Messwerte über das UVA und UVB Spektrum\n",
        "UVA = calculate_UV_ABC(df_Messdaten[selected_columns_UVA])\n",
        "UVB = calculate_UV_ABC(df_Messdaten[selected_columns_UVB])\n",
        "# Spalte umbenennen\n",
        "UVA.name = 'UVA'\n",
        "UVB.name = 'UVB'"
      ],
      "metadata": {
        "id": "0Wh7HH1-kE3p"
      },
      "execution_count": 12,
      "outputs": []
    },
    {
      "cell_type": "code",
      "source": [
        "ser_UVI = []\n",
        "df_UVI = []\n",
        "\n",
        "# Integration der gewichteten UV-Messwerte\n",
        "ser_UVI = df_Gewichtet.apply(integrate_row, axis=1)\n",
        "# Umwandeln der Serie in einen Dataframe\n",
        "df_UVI = pd.DataFrame(ser_UVI, columns=['erythem'])"
      ],
      "metadata": {
        "id": "pQ-Mg1syLv4k",
        "outputId": "68813cb8-b5ba-4a00-ea29-7630e6a5fec4",
        "colab": {
          "base_uri": "https://localhost:8080/"
        }
      },
      "execution_count": 13,
      "outputs": [
        {
          "output_type": "stream",
          "name": "stderr",
          "text": [
            "<ipython-input-10-21a93dca7bae>:4: DeprecationWarning: `trapz` is deprecated. Use `trapezoid` instead, or one of the numerical integration functions in `scipy.integrate`.\n",
            "  integral = np.trapz(y_values, x_values)\n"
          ]
        }
      ]
    },
    {
      "cell_type": "code",
      "source": [
        "# Dem Dataframe die Werte für UVA und UVB hinzufügen\n",
        "df_UV = pd.concat([df_UVI, UVA, UVB], axis=1)"
      ],
      "metadata": {
        "id": "jnEEfuJ0IEou"
      },
      "execution_count": 14,
      "outputs": []
    },
    {
      "cell_type": "code",
      "source": [
        "type(df_Gewichtet), type(df_UV)"
      ],
      "metadata": {
        "colab": {
          "base_uri": "https://localhost:8080/"
        },
        "id": "kAOX9B7gcgrZ",
        "outputId": "b957648d-a161-4ae2-9062-68038de89e91"
      },
      "execution_count": 15,
      "outputs": [
        {
          "output_type": "execute_result",
          "data": {
            "text/plain": [
              "(pandas.core.frame.DataFrame, pandas.core.frame.DataFrame)"
            ]
          },
          "metadata": {},
          "execution_count": 15
        }
      ]
    },
    {
      "cell_type": "markdown",
      "source": [
        "## Abspeichern der UVI, UVA, UVB Messwerte in einen Dataframe:"
      ],
      "metadata": {
        "id": "XEmhbwhIAJ3x"
      }
    },
    {
      "cell_type": "code",
      "source": [
        "# Exportieren\n",
        "\n",
        "columns_to_copy = ['Datetime', 'Datum', 'Uhrzeit', 'Messzeitpunkt']\n",
        "\n",
        "for col in columns_to_copy:\n",
        "  df_Gewichtet.insert(0, col, df_Messdaten[col])\n",
        "  df_UV.insert(0, col, df_Messdaten[col])\n",
        "  df_UV['UVI'] = df_UV['erythem'].copy() * 40"
      ],
      "metadata": {
        "id": "aPrTWfZraXOX"
      },
      "execution_count": 16,
      "outputs": []
    },
    {
      "cell_type": "code",
      "source": [
        "# Ändern der Reihenfolge der Spalten\n",
        "# Aktuelle Spaltennamen\n",
        "new_columns = ['Datetime','UVI','UVA','UVB','erythem','Datum','Uhrzeit','Messzeitpunkt']\n",
        "df_UV = df_UV[new_columns]"
      ],
      "metadata": {
        "id": "iiu21SIlYbxZ"
      },
      "execution_count": 17,
      "outputs": []
    },
    {
      "cell_type": "code",
      "source": [
        "df_UV"
      ],
      "metadata": {
        "id": "iI1gi53dbS_a",
        "colab": {
          "base_uri": "https://localhost:8080/",
          "height": 424
        },
        "outputId": "625d9b7d-a1b3-4f42-918a-a220232564fd"
      },
      "execution_count": 18,
      "outputs": [
        {
          "output_type": "execute_result",
          "data": {
            "text/plain": [
              "                 Datetime       UVI       UVA        UVB   erythem  \\\n",
              "0     2023-01-03 13:23:00  0.332390  0.371228  85.356765  0.008310   \n",
              "1     2023-01-03 13:25:00  0.322621  0.355891  83.298211  0.008066   \n",
              "2     2023-01-03 13:27:00  0.310985  0.341128  79.773881  0.007775   \n",
              "3     2023-01-03 13:29:00  0.304404  0.322217  82.499323  0.007610   \n",
              "4     2023-01-03 13:31:00  0.302564  0.318067  82.377771  0.007564   \n",
              "...                   ...       ...       ...        ...       ...   \n",
              "7390  2023-01-31 15:56:00  0.010694  0.008321   3.308028  0.000267   \n",
              "7391  2023-01-31 15:58:00  0.007971  0.006026   2.420866  0.000199   \n",
              "7392  2023-01-31 16:00:00  0.007300  0.005738   2.222130  0.000182   \n",
              "7393  2023-01-31 16:02:00  0.006579  0.005184   2.003991  0.000164   \n",
              "7394  2023-01-31 16:04:00  0.006703  0.005391   2.018423  0.000168   \n",
              "\n",
              "           Datum   Uhrzeit  Messzeitpunkt  \n",
              "0     2023-01-03  13:23:00          48180  \n",
              "1     2023-01-03  13:25:00          48300  \n",
              "2     2023-01-03  13:27:00          48420  \n",
              "3     2023-01-03  13:29:00          48540  \n",
              "4     2023-01-03  13:31:00          48660  \n",
              "...          ...       ...            ...  \n",
              "7390  2023-01-31  15:56:00          57360  \n",
              "7391  2023-01-31  15:58:00          57480  \n",
              "7392  2023-01-31  16:00:00          57600  \n",
              "7393  2023-01-31  16:02:00          57720  \n",
              "7394  2023-01-31  16:04:00          57840  \n",
              "\n",
              "[7395 rows x 8 columns]"
            ],
            "text/html": [
              "\n",
              "  <div id=\"df-06945bfd-6135-466d-8189-acbdc4221586\" class=\"colab-df-container\">\n",
              "    <div>\n",
              "<style scoped>\n",
              "    .dataframe tbody tr th:only-of-type {\n",
              "        vertical-align: middle;\n",
              "    }\n",
              "\n",
              "    .dataframe tbody tr th {\n",
              "        vertical-align: top;\n",
              "    }\n",
              "\n",
              "    .dataframe thead th {\n",
              "        text-align: right;\n",
              "    }\n",
              "</style>\n",
              "<table border=\"1\" class=\"dataframe\">\n",
              "  <thead>\n",
              "    <tr style=\"text-align: right;\">\n",
              "      <th></th>\n",
              "      <th>Datetime</th>\n",
              "      <th>UVI</th>\n",
              "      <th>UVA</th>\n",
              "      <th>UVB</th>\n",
              "      <th>erythem</th>\n",
              "      <th>Datum</th>\n",
              "      <th>Uhrzeit</th>\n",
              "      <th>Messzeitpunkt</th>\n",
              "    </tr>\n",
              "  </thead>\n",
              "  <tbody>\n",
              "    <tr>\n",
              "      <th>0</th>\n",
              "      <td>2023-01-03 13:23:00</td>\n",
              "      <td>0.332390</td>\n",
              "      <td>0.371228</td>\n",
              "      <td>85.356765</td>\n",
              "      <td>0.008310</td>\n",
              "      <td>2023-01-03</td>\n",
              "      <td>13:23:00</td>\n",
              "      <td>48180</td>\n",
              "    </tr>\n",
              "    <tr>\n",
              "      <th>1</th>\n",
              "      <td>2023-01-03 13:25:00</td>\n",
              "      <td>0.322621</td>\n",
              "      <td>0.355891</td>\n",
              "      <td>83.298211</td>\n",
              "      <td>0.008066</td>\n",
              "      <td>2023-01-03</td>\n",
              "      <td>13:25:00</td>\n",
              "      <td>48300</td>\n",
              "    </tr>\n",
              "    <tr>\n",
              "      <th>2</th>\n",
              "      <td>2023-01-03 13:27:00</td>\n",
              "      <td>0.310985</td>\n",
              "      <td>0.341128</td>\n",
              "      <td>79.773881</td>\n",
              "      <td>0.007775</td>\n",
              "      <td>2023-01-03</td>\n",
              "      <td>13:27:00</td>\n",
              "      <td>48420</td>\n",
              "    </tr>\n",
              "    <tr>\n",
              "      <th>3</th>\n",
              "      <td>2023-01-03 13:29:00</td>\n",
              "      <td>0.304404</td>\n",
              "      <td>0.322217</td>\n",
              "      <td>82.499323</td>\n",
              "      <td>0.007610</td>\n",
              "      <td>2023-01-03</td>\n",
              "      <td>13:29:00</td>\n",
              "      <td>48540</td>\n",
              "    </tr>\n",
              "    <tr>\n",
              "      <th>4</th>\n",
              "      <td>2023-01-03 13:31:00</td>\n",
              "      <td>0.302564</td>\n",
              "      <td>0.318067</td>\n",
              "      <td>82.377771</td>\n",
              "      <td>0.007564</td>\n",
              "      <td>2023-01-03</td>\n",
              "      <td>13:31:00</td>\n",
              "      <td>48660</td>\n",
              "    </tr>\n",
              "    <tr>\n",
              "      <th>...</th>\n",
              "      <td>...</td>\n",
              "      <td>...</td>\n",
              "      <td>...</td>\n",
              "      <td>...</td>\n",
              "      <td>...</td>\n",
              "      <td>...</td>\n",
              "      <td>...</td>\n",
              "      <td>...</td>\n",
              "    </tr>\n",
              "    <tr>\n",
              "      <th>7390</th>\n",
              "      <td>2023-01-31 15:56:00</td>\n",
              "      <td>0.010694</td>\n",
              "      <td>0.008321</td>\n",
              "      <td>3.308028</td>\n",
              "      <td>0.000267</td>\n",
              "      <td>2023-01-31</td>\n",
              "      <td>15:56:00</td>\n",
              "      <td>57360</td>\n",
              "    </tr>\n",
              "    <tr>\n",
              "      <th>7391</th>\n",
              "      <td>2023-01-31 15:58:00</td>\n",
              "      <td>0.007971</td>\n",
              "      <td>0.006026</td>\n",
              "      <td>2.420866</td>\n",
              "      <td>0.000199</td>\n",
              "      <td>2023-01-31</td>\n",
              "      <td>15:58:00</td>\n",
              "      <td>57480</td>\n",
              "    </tr>\n",
              "    <tr>\n",
              "      <th>7392</th>\n",
              "      <td>2023-01-31 16:00:00</td>\n",
              "      <td>0.007300</td>\n",
              "      <td>0.005738</td>\n",
              "      <td>2.222130</td>\n",
              "      <td>0.000182</td>\n",
              "      <td>2023-01-31</td>\n",
              "      <td>16:00:00</td>\n",
              "      <td>57600</td>\n",
              "    </tr>\n",
              "    <tr>\n",
              "      <th>7393</th>\n",
              "      <td>2023-01-31 16:02:00</td>\n",
              "      <td>0.006579</td>\n",
              "      <td>0.005184</td>\n",
              "      <td>2.003991</td>\n",
              "      <td>0.000164</td>\n",
              "      <td>2023-01-31</td>\n",
              "      <td>16:02:00</td>\n",
              "      <td>57720</td>\n",
              "    </tr>\n",
              "    <tr>\n",
              "      <th>7394</th>\n",
              "      <td>2023-01-31 16:04:00</td>\n",
              "      <td>0.006703</td>\n",
              "      <td>0.005391</td>\n",
              "      <td>2.018423</td>\n",
              "      <td>0.000168</td>\n",
              "      <td>2023-01-31</td>\n",
              "      <td>16:04:00</td>\n",
              "      <td>57840</td>\n",
              "    </tr>\n",
              "  </tbody>\n",
              "</table>\n",
              "<p>7395 rows × 8 columns</p>\n",
              "</div>\n",
              "    <div class=\"colab-df-buttons\">\n",
              "\n",
              "  <div class=\"colab-df-container\">\n",
              "    <button class=\"colab-df-convert\" onclick=\"convertToInteractive('df-06945bfd-6135-466d-8189-acbdc4221586')\"\n",
              "            title=\"Convert this dataframe to an interactive table.\"\n",
              "            style=\"display:none;\">\n",
              "\n",
              "  <svg xmlns=\"http://www.w3.org/2000/svg\" height=\"24px\" viewBox=\"0 -960 960 960\">\n",
              "    <path d=\"M120-120v-720h720v720H120Zm60-500h600v-160H180v160Zm220 220h160v-160H400v160Zm0 220h160v-160H400v160ZM180-400h160v-160H180v160Zm440 0h160v-160H620v160ZM180-180h160v-160H180v160Zm440 0h160v-160H620v160Z\"/>\n",
              "  </svg>\n",
              "    </button>\n",
              "\n",
              "  <style>\n",
              "    .colab-df-container {\n",
              "      display:flex;\n",
              "      gap: 12px;\n",
              "    }\n",
              "\n",
              "    .colab-df-convert {\n",
              "      background-color: #E8F0FE;\n",
              "      border: none;\n",
              "      border-radius: 50%;\n",
              "      cursor: pointer;\n",
              "      display: none;\n",
              "      fill: #1967D2;\n",
              "      height: 32px;\n",
              "      padding: 0 0 0 0;\n",
              "      width: 32px;\n",
              "    }\n",
              "\n",
              "    .colab-df-convert:hover {\n",
              "      background-color: #E2EBFA;\n",
              "      box-shadow: 0px 1px 2px rgba(60, 64, 67, 0.3), 0px 1px 3px 1px rgba(60, 64, 67, 0.15);\n",
              "      fill: #174EA6;\n",
              "    }\n",
              "\n",
              "    .colab-df-buttons div {\n",
              "      margin-bottom: 4px;\n",
              "    }\n",
              "\n",
              "    [theme=dark] .colab-df-convert {\n",
              "      background-color: #3B4455;\n",
              "      fill: #D2E3FC;\n",
              "    }\n",
              "\n",
              "    [theme=dark] .colab-df-convert:hover {\n",
              "      background-color: #434B5C;\n",
              "      box-shadow: 0px 1px 3px 1px rgba(0, 0, 0, 0.15);\n",
              "      filter: drop-shadow(0px 1px 2px rgba(0, 0, 0, 0.3));\n",
              "      fill: #FFFFFF;\n",
              "    }\n",
              "  </style>\n",
              "\n",
              "    <script>\n",
              "      const buttonEl =\n",
              "        document.querySelector('#df-06945bfd-6135-466d-8189-acbdc4221586 button.colab-df-convert');\n",
              "      buttonEl.style.display =\n",
              "        google.colab.kernel.accessAllowed ? 'block' : 'none';\n",
              "\n",
              "      async function convertToInteractive(key) {\n",
              "        const element = document.querySelector('#df-06945bfd-6135-466d-8189-acbdc4221586');\n",
              "        const dataTable =\n",
              "          await google.colab.kernel.invokeFunction('convertToInteractive',\n",
              "                                                    [key], {});\n",
              "        if (!dataTable) return;\n",
              "\n",
              "        const docLinkHtml = 'Like what you see? Visit the ' +\n",
              "          '<a target=\"_blank\" href=https://colab.research.google.com/notebooks/data_table.ipynb>data table notebook</a>'\n",
              "          + ' to learn more about interactive tables.';\n",
              "        element.innerHTML = '';\n",
              "        dataTable['output_type'] = 'display_data';\n",
              "        await google.colab.output.renderOutput(dataTable, element);\n",
              "        const docLink = document.createElement('div');\n",
              "        docLink.innerHTML = docLinkHtml;\n",
              "        element.appendChild(docLink);\n",
              "      }\n",
              "    </script>\n",
              "  </div>\n",
              "\n",
              "\n",
              "<div id=\"df-a2655f69-51bc-4a96-a4c6-3c66ed92290e\">\n",
              "  <button class=\"colab-df-quickchart\" onclick=\"quickchart('df-a2655f69-51bc-4a96-a4c6-3c66ed92290e')\"\n",
              "            title=\"Suggest charts\"\n",
              "            style=\"display:none;\">\n",
              "\n",
              "<svg xmlns=\"http://www.w3.org/2000/svg\" height=\"24px\"viewBox=\"0 0 24 24\"\n",
              "     width=\"24px\">\n",
              "    <g>\n",
              "        <path d=\"M19 3H5c-1.1 0-2 .9-2 2v14c0 1.1.9 2 2 2h14c1.1 0 2-.9 2-2V5c0-1.1-.9-2-2-2zM9 17H7v-7h2v7zm4 0h-2V7h2v10zm4 0h-2v-4h2v4z\"/>\n",
              "    </g>\n",
              "</svg>\n",
              "  </button>\n",
              "\n",
              "<style>\n",
              "  .colab-df-quickchart {\n",
              "      --bg-color: #E8F0FE;\n",
              "      --fill-color: #1967D2;\n",
              "      --hover-bg-color: #E2EBFA;\n",
              "      --hover-fill-color: #174EA6;\n",
              "      --disabled-fill-color: #AAA;\n",
              "      --disabled-bg-color: #DDD;\n",
              "  }\n",
              "\n",
              "  [theme=dark] .colab-df-quickchart {\n",
              "      --bg-color: #3B4455;\n",
              "      --fill-color: #D2E3FC;\n",
              "      --hover-bg-color: #434B5C;\n",
              "      --hover-fill-color: #FFFFFF;\n",
              "      --disabled-bg-color: #3B4455;\n",
              "      --disabled-fill-color: #666;\n",
              "  }\n",
              "\n",
              "  .colab-df-quickchart {\n",
              "    background-color: var(--bg-color);\n",
              "    border: none;\n",
              "    border-radius: 50%;\n",
              "    cursor: pointer;\n",
              "    display: none;\n",
              "    fill: var(--fill-color);\n",
              "    height: 32px;\n",
              "    padding: 0;\n",
              "    width: 32px;\n",
              "  }\n",
              "\n",
              "  .colab-df-quickchart:hover {\n",
              "    background-color: var(--hover-bg-color);\n",
              "    box-shadow: 0 1px 2px rgba(60, 64, 67, 0.3), 0 1px 3px 1px rgba(60, 64, 67, 0.15);\n",
              "    fill: var(--button-hover-fill-color);\n",
              "  }\n",
              "\n",
              "  .colab-df-quickchart-complete:disabled,\n",
              "  .colab-df-quickchart-complete:disabled:hover {\n",
              "    background-color: var(--disabled-bg-color);\n",
              "    fill: var(--disabled-fill-color);\n",
              "    box-shadow: none;\n",
              "  }\n",
              "\n",
              "  .colab-df-spinner {\n",
              "    border: 2px solid var(--fill-color);\n",
              "    border-color: transparent;\n",
              "    border-bottom-color: var(--fill-color);\n",
              "    animation:\n",
              "      spin 1s steps(1) infinite;\n",
              "  }\n",
              "\n",
              "  @keyframes spin {\n",
              "    0% {\n",
              "      border-color: transparent;\n",
              "      border-bottom-color: var(--fill-color);\n",
              "      border-left-color: var(--fill-color);\n",
              "    }\n",
              "    20% {\n",
              "      border-color: transparent;\n",
              "      border-left-color: var(--fill-color);\n",
              "      border-top-color: var(--fill-color);\n",
              "    }\n",
              "    30% {\n",
              "      border-color: transparent;\n",
              "      border-left-color: var(--fill-color);\n",
              "      border-top-color: var(--fill-color);\n",
              "      border-right-color: var(--fill-color);\n",
              "    }\n",
              "    40% {\n",
              "      border-color: transparent;\n",
              "      border-right-color: var(--fill-color);\n",
              "      border-top-color: var(--fill-color);\n",
              "    }\n",
              "    60% {\n",
              "      border-color: transparent;\n",
              "      border-right-color: var(--fill-color);\n",
              "    }\n",
              "    80% {\n",
              "      border-color: transparent;\n",
              "      border-right-color: var(--fill-color);\n",
              "      border-bottom-color: var(--fill-color);\n",
              "    }\n",
              "    90% {\n",
              "      border-color: transparent;\n",
              "      border-bottom-color: var(--fill-color);\n",
              "    }\n",
              "  }\n",
              "</style>\n",
              "\n",
              "  <script>\n",
              "    async function quickchart(key) {\n",
              "      const quickchartButtonEl =\n",
              "        document.querySelector('#' + key + ' button');\n",
              "      quickchartButtonEl.disabled = true;  // To prevent multiple clicks.\n",
              "      quickchartButtonEl.classList.add('colab-df-spinner');\n",
              "      try {\n",
              "        const charts = await google.colab.kernel.invokeFunction(\n",
              "            'suggestCharts', [key], {});\n",
              "      } catch (error) {\n",
              "        console.error('Error during call to suggestCharts:', error);\n",
              "      }\n",
              "      quickchartButtonEl.classList.remove('colab-df-spinner');\n",
              "      quickchartButtonEl.classList.add('colab-df-quickchart-complete');\n",
              "    }\n",
              "    (() => {\n",
              "      let quickchartButtonEl =\n",
              "        document.querySelector('#df-a2655f69-51bc-4a96-a4c6-3c66ed92290e button');\n",
              "      quickchartButtonEl.style.display =\n",
              "        google.colab.kernel.accessAllowed ? 'block' : 'none';\n",
              "    })();\n",
              "  </script>\n",
              "</div>\n",
              "\n",
              "  <div id=\"id_39fd6a57-a949-4483-af8a-67ff5f2d08d8\">\n",
              "    <style>\n",
              "      .colab-df-generate {\n",
              "        background-color: #E8F0FE;\n",
              "        border: none;\n",
              "        border-radius: 50%;\n",
              "        cursor: pointer;\n",
              "        display: none;\n",
              "        fill: #1967D2;\n",
              "        height: 32px;\n",
              "        padding: 0 0 0 0;\n",
              "        width: 32px;\n",
              "      }\n",
              "\n",
              "      .colab-df-generate:hover {\n",
              "        background-color: #E2EBFA;\n",
              "        box-shadow: 0px 1px 2px rgba(60, 64, 67, 0.3), 0px 1px 3px 1px rgba(60, 64, 67, 0.15);\n",
              "        fill: #174EA6;\n",
              "      }\n",
              "\n",
              "      [theme=dark] .colab-df-generate {\n",
              "        background-color: #3B4455;\n",
              "        fill: #D2E3FC;\n",
              "      }\n",
              "\n",
              "      [theme=dark] .colab-df-generate:hover {\n",
              "        background-color: #434B5C;\n",
              "        box-shadow: 0px 1px 3px 1px rgba(0, 0, 0, 0.15);\n",
              "        filter: drop-shadow(0px 1px 2px rgba(0, 0, 0, 0.3));\n",
              "        fill: #FFFFFF;\n",
              "      }\n",
              "    </style>\n",
              "    <button class=\"colab-df-generate\" onclick=\"generateWithVariable('df_UV')\"\n",
              "            title=\"Generate code using this dataframe.\"\n",
              "            style=\"display:none;\">\n",
              "\n",
              "  <svg xmlns=\"http://www.w3.org/2000/svg\" height=\"24px\"viewBox=\"0 0 24 24\"\n",
              "       width=\"24px\">\n",
              "    <path d=\"M7,19H8.4L18.45,9,17,7.55,7,17.6ZM5,21V16.75L18.45,3.32a2,2,0,0,1,2.83,0l1.4,1.43a1.91,1.91,0,0,1,.58,1.4,1.91,1.91,0,0,1-.58,1.4L9.25,21ZM18.45,9,17,7.55Zm-12,3A5.31,5.31,0,0,0,4.9,8.1,5.31,5.31,0,0,0,1,6.5,5.31,5.31,0,0,0,4.9,4.9,5.31,5.31,0,0,0,6.5,1,5.31,5.31,0,0,0,8.1,4.9,5.31,5.31,0,0,0,12,6.5,5.46,5.46,0,0,0,6.5,12Z\"/>\n",
              "  </svg>\n",
              "    </button>\n",
              "    <script>\n",
              "      (() => {\n",
              "      const buttonEl =\n",
              "        document.querySelector('#id_39fd6a57-a949-4483-af8a-67ff5f2d08d8 button.colab-df-generate');\n",
              "      buttonEl.style.display =\n",
              "        google.colab.kernel.accessAllowed ? 'block' : 'none';\n",
              "\n",
              "      buttonEl.onclick = () => {\n",
              "        google.colab.notebook.generateWithVariable('df_UV');\n",
              "      }\n",
              "      })();\n",
              "    </script>\n",
              "  </div>\n",
              "\n",
              "    </div>\n",
              "  </div>\n"
            ],
            "application/vnd.google.colaboratory.intrinsic+json": {
              "type": "dataframe",
              "variable_name": "df_UV",
              "summary": "{\n  \"name\": \"df_UV\",\n  \"rows\": 7395,\n  \"fields\": [\n    {\n      \"column\": \"Datetime\",\n      \"properties\": {\n        \"dtype\": \"object\",\n        \"num_unique_values\": 7395,\n        \"samples\": [\n          \"2023-01-14 11:21:00\",\n          \"2023-01-14 14:15:00\",\n          \"2023-01-29 10:50:00\"\n        ],\n        \"semantic_type\": \"\",\n        \"description\": \"\"\n      }\n    },\n    {\n      \"column\": \"UVI\",\n      \"properties\": {\n        \"dtype\": \"number\",\n        \"std\": 0.1750747445004914,\n        \"min\": 7.18314265700591e-05,\n        \"max\": 0.9137009851476243,\n        \"num_unique_values\": 7395,\n        \"samples\": [\n          0.10699107376090689,\n          0.049539414589712505,\n          0.7430201967361988\n        ],\n        \"semantic_type\": \"\",\n        \"description\": \"\"\n      }\n    },\n    {\n      \"column\": \"UVA\",\n      \"properties\": {\n        \"dtype\": \"number\",\n        \"std\": 0.29223242812358663,\n        \"min\": 0.0,\n        \"max\": 1.7176585557000001,\n        \"num_unique_values\": 7370,\n        \"samples\": [\n          0.028637468000000003,\n          0.0825330757,\n          0.9061826437\n        ],\n        \"semantic_type\": \"\",\n        \"description\": \"\"\n      }\n    },\n    {\n      \"column\": \"UVB\",\n      \"properties\": {\n        \"dtype\": \"number\",\n        \"std\": 33.43607055088982,\n        \"min\": 0.030311837599999995,\n        \"max\": 146.52006399999985,\n        \"num_unique_values\": 7395,\n        \"samples\": [\n          20.189032000000022,\n          12.177237099999997,\n          112.86121399999989\n        ],\n        \"semantic_type\": \"\",\n        \"description\": \"\"\n      }\n    },\n    {\n      \"column\": \"erythem\",\n      \"properties\": {\n        \"dtype\": \"number\",\n        \"std\": 0.004376868612512288,\n        \"min\": 1.7957856642514774e-06,\n        \"max\": 0.02284252462869061,\n        \"num_unique_values\": 7395,\n        \"samples\": [\n          0.0026747768440226723,\n          0.0012384853647428127,\n          0.01857550491840497\n        ],\n        \"semantic_type\": \"\",\n        \"description\": \"\"\n      }\n    },\n    {\n      \"column\": \"Datum\",\n      \"properties\": {\n        \"dtype\": \"object\",\n        \"num_unique_values\": 29,\n        \"samples\": [\n          \"2023-01-30\",\n          \"2023-01-19\",\n          \"2023-01-15\"\n        ],\n        \"semantic_type\": \"\",\n        \"description\": \"\"\n      }\n    },\n    {\n      \"column\": \"Uhrzeit\",\n      \"properties\": {\n        \"dtype\": \"object\",\n        \"num_unique_values\": 537,\n        \"samples\": [\n          \"14:40:00\",\n          \"07:21:00\",\n          \"09:50:00\"\n        ],\n        \"semantic_type\": \"\",\n        \"description\": \"\"\n      }\n    },\n    {\n      \"column\": \"Messzeitpunkt\",\n      \"properties\": {\n        \"dtype\": \"number\",\n        \"std\": 9157,\n        \"min\": 24600,\n        \"max\": 57840,\n        \"num_unique_values\": 537,\n        \"samples\": [\n          52800,\n          26460,\n          35400\n        ],\n        \"semantic_type\": \"\",\n        \"description\": \"\"\n      }\n    }\n  ]\n}"
            }
          },
          "metadata": {},
          "execution_count": 18
        }
      ]
    },
    {
      "cell_type": "code",
      "source": [
        "def save_dataframe_to_drive(dataframe, folder_path, filename):\n",
        "\n",
        "    # Erstelle den vollen Pfad zur Datei\n",
        "    full_path = os.path.join(folder_path, filename)\n",
        "\n",
        "    # Speichere den DataFrame als CSV-Datei auf Google Drive\n",
        "    dataframe.to_csv(full_path, index=False)\n",
        "\n",
        "    print(f'Der DataFrame wurde als {filename} in {folder_path} auf Google Drive gespeichert.')"
      ],
      "metadata": {
        "id": "TcSpTUV4efjn"
      },
      "execution_count": 19,
      "outputs": []
    },
    {
      "cell_type": "code",
      "source": [
        "plt.plot(df_UV['UVI'])"
      ],
      "metadata": {
        "colab": {
          "base_uri": "https://localhost:8080/",
          "height": 447
        },
        "id": "7u3jHrV3hP9C",
        "outputId": "981975ca-7fa1-4c07-d3c8-435249b0bd2a"
      },
      "execution_count": 20,
      "outputs": [
        {
          "output_type": "execute_result",
          "data": {
            "text/plain": [
              "[<matplotlib.lines.Line2D at 0x7e0df5454190>]"
            ]
          },
          "metadata": {},
          "execution_count": 20
        },
        {
          "output_type": "display_data",
          "data": {
            "text/plain": [
              "<Figure size 640x480 with 1 Axes>"
            ],
            "image/png": "[encoded data removed]"
          },
          "metadata": {}
        }
      ]
    },
    {
      "cell_type": "code",
      "source": [
        "df_UV[df_UV['Datum'].astype('string') == '2023-05-26']"
      ],
      "metadata": {
        "id": "1K0pthiOSy_B",
        "outputId": "42a3163a-c231-471e-83bd-104d5ba5d37a",
        "colab": {
          "base_uri": "https://localhost:8080/",
          "height": 53
        }
      },
      "execution_count": 21,
      "outputs": [
        {
          "output_type": "execute_result",
          "data": {
            "text/plain": [
              "Empty DataFrame\n",
              "Columns: [Datetime, UVI, UVA, UVB, erythem, Datum, Uhrzeit, Messzeitpunkt]\n",
              "Index: []"
            ],
            "text/html": [
              "\n",
              "  <div id=\"df-7c962a51-6320-4ec2-b5aa-8aae4af2272f\" class=\"colab-df-container\">\n",
              "    <div>\n",
              "<style scoped>\n",
              "    .dataframe tbody tr th:only-of-type {\n",
              "        vertical-align: middle;\n",
              "    }\n",
              "\n",
              "    .dataframe tbody tr th {\n",
              "        vertical-align: top;\n",
              "    }\n",
              "\n",
              "    .dataframe thead th {\n",
              "        text-align: right;\n",
              "    }\n",
              "</style>\n",
              "<table border=\"1\" class=\"dataframe\">\n",
              "  <thead>\n",
              "    <tr style=\"text-align: right;\">\n",
              "      <th></th>\n",
              "      <th>Datetime</th>\n",
              "      <th>UVI</th>\n",
              "      <th>UVA</th>\n",
              "      <th>UVB</th>\n",
              "      <th>erythem</th>\n",
              "      <th>Datum</th>\n",
              "      <th>Uhrzeit</th>\n",
              "      <th>Messzeitpunkt</th>\n",
              "    </tr>\n",
              "  </thead>\n",
              "  <tbody>\n",
              "  </tbody>\n",
              "</table>\n",
              "</div>\n",
              "    <div class=\"colab-df-buttons\">\n",
              "\n",
              "  <div class=\"colab-df-container\">\n",
              "    <button class=\"colab-df-convert\" onclick=\"convertToInteractive('df-7c962a51-6320-4ec2-b5aa-8aae4af2272f')\"\n",
              "            title=\"Convert this dataframe to an interactive table.\"\n",
              "            style=\"display:none;\">\n",
              "\n",
              "  <svg xmlns=\"http://www.w3.org/2000/svg\" height=\"24px\" viewBox=\"0 -960 960 960\">\n",
              "    <path d=\"M120-120v-720h720v720H120Zm60-500h600v-160H180v160Zm220 220h160v-160H400v160Zm0 220h160v-160H400v160ZM180-400h160v-160H180v160Zm440 0h160v-160H620v160ZM180-180h160v-160H180v160Zm440 0h160v-160H620v160Z\"/>\n",
              "  </svg>\n",
              "    </button>\n",
              "\n",
              "  <style>\n",
              "    .colab-df-container {\n",
              "      display:flex;\n",
              "      gap: 12px;\n",
              "    }\n",
              "\n",
              "    .colab-df-convert {\n",
              "      background-color: #E8F0FE;\n",
              "      border: none;\n",
              "      border-radius: 50%;\n",
              "      cursor: pointer;\n",
              "      display: none;\n",
              "      fill: #1967D2;\n",
              "      height: 32px;\n",
              "      padding: 0 0 0 0;\n",
              "      width: 32px;\n",
              "    }\n",
              "\n",
              "    .colab-df-convert:hover {\n",
              "      background-color: #E2EBFA;\n",
              "      box-shadow: 0px 1px 2px rgba(60, 64, 67, 0.3), 0px 1px 3px 1px rgba(60, 64, 67, 0.15);\n",
              "      fill: #174EA6;\n",
              "    }\n",
              "\n",
              "    .colab-df-buttons div {\n",
              "      margin-bottom: 4px;\n",
              "    }\n",
              "\n",
              "    [theme=dark] .colab-df-convert {\n",
              "      background-color: #3B4455;\n",
              "      fill: #D2E3FC;\n",
              "    }\n",
              "\n",
              "    [theme=dark] .colab-df-convert:hover {\n",
              "      background-color: #434B5C;\n",
              "      box-shadow: 0px 1px 3px 1px rgba(0, 0, 0, 0.15);\n",
              "      filter: drop-shadow(0px 1px 2px rgba(0, 0, 0, 0.3));\n",
              "      fill: #FFFFFF;\n",
              "    }\n",
              "  </style>\n",
              "\n",
              "    <script>\n",
              "      const buttonEl =\n",
              "        document.querySelector('#df-7c962a51-6320-4ec2-b5aa-8aae4af2272f button.colab-df-convert');\n",
              "      buttonEl.style.display =\n",
              "        google.colab.kernel.accessAllowed ? 'block' : 'none';\n",
              "\n",
              "      async function convertToInteractive(key) {\n",
              "        const element = document.querySelector('#df-7c962a51-6320-4ec2-b5aa-8aae4af2272f');\n",
              "        const dataTable =\n",
              "          await google.colab.kernel.invokeFunction('convertToInteractive',\n",
              "                                                    [key], {});\n",
              "        if (!dataTable) return;\n",
              "\n",
              "        const docLinkHtml = 'Like what you see? Visit the ' +\n",
              "          '<a target=\"_blank\" href=https://colab.research.google.com/notebooks/data_table.ipynb>data table notebook</a>'\n",
              "          + ' to learn more about interactive tables.';\n",
              "        element.innerHTML = '';\n",
              "        dataTable['output_type'] = 'display_data';\n",
              "        await google.colab.output.renderOutput(dataTable, element);\n",
              "        const docLink = document.createElement('div');\n",
              "        docLink.innerHTML = docLinkHtml;\n",
              "        element.appendChild(docLink);\n",
              "      }\n",
              "    </script>\n",
              "  </div>\n",
              "\n",
              "\n",
              "    </div>\n",
              "  </div>\n"
            ],
            "application/vnd.google.colaboratory.intrinsic+json": {
              "type": "dataframe",
              "repr_error": "Out of range float values are not JSON compliant: nan"
            }
          },
          "metadata": {},
          "execution_count": 21
        }
      ]
    },
    {
      "cell_type": "code",
      "source": [
        "df_UV.describe()"
      ],
      "metadata": {
        "id": "sxAjG1kALYgo",
        "outputId": "61e35c2f-2076-4e60-d4ea-74518808e2a2",
        "colab": {
          "base_uri": "https://localhost:8080/",
          "height": 300
        }
      },
      "execution_count": 22,
      "outputs": [
        {
          "output_type": "execute_result",
          "data": {
            "text/plain": [
              "               UVI          UVA          UVB      erythem  Messzeitpunkt\n",
              "count  7395.000000  7395.000000  7395.000000  7395.000000    7395.000000\n",
              "mean      0.198086     0.272001    42.135608     0.004952   41159.772819\n",
              "std       0.175075     0.292232    33.436071     0.004377    9157.773639\n",
              "min       0.000072     0.000000     0.030312     0.000002   24600.000000\n",
              "25%       0.054563     0.042390    15.603432     0.001364   33300.000000\n",
              "50%       0.144650     0.175907    33.523925     0.003616   41220.000000\n",
              "75%       0.306833     0.410477    64.056565     0.007671   49140.000000\n",
              "max       0.913701     1.717659   146.520064     0.022843   57840.000000"
            ],
            "text/html": [
              "\n",
              "  <div id=\"df-73e3b36a-9924-41d9-8665-97108baa8bd2\" class=\"colab-df-container\">\n",
              "    <div>\n",
              "<style scoped>\n",
              "    .dataframe tbody tr th:only-of-type {\n",
              "        vertical-align: middle;\n",
              "    }\n",
              "\n",
              "    .dataframe tbody tr th {\n",
              "        vertical-align: top;\n",
              "    }\n",
              "\n",
              "    .dataframe thead th {\n",
              "        text-align: right;\n",
              "    }\n",
              "</style>\n",
              "<table border=\"1\" class=\"dataframe\">\n",
              "  <thead>\n",
              "    <tr style=\"text-align: right;\">\n",
              "      <th></th>\n",
              "      <th>UVI</th>\n",
              "      <th>UVA</th>\n",
              "      <th>UVB</th>\n",
              "      <th>erythem</th>\n",
              "      <th>Messzeitpunkt</th>\n",
              "    </tr>\n",
              "  </thead>\n",
              "  <tbody>\n",
              "    <tr>\n",
              "      <th>count</th>\n",
              "      <td>7395.000000</td>\n",
              "      <td>7395.000000</td>\n",
              "      <td>7395.000000</td>\n",
              "      <td>7395.000000</td>\n",
              "      <td>7395.000000</td>\n",
              "    </tr>\n",
              "    <tr>\n",
              "      <th>mean</th>\n",
              "      <td>0.198086</td>\n",
              "      <td>0.272001</td>\n",
              "      <td>42.135608</td>\n",
              "      <td>0.004952</td>\n",
              "      <td>41159.772819</td>\n",
              "    </tr>\n",
              "    <tr>\n",
              "      <th>std</th>\n",
              "      <td>0.175075</td>\n",
              "      <td>0.292232</td>\n",
              "      <td>33.436071</td>\n",
              "      <td>0.004377</td>\n",
              "      <td>9157.773639</td>\n",
              "    </tr>\n",
              "    <tr>\n",
              "      <th>min</th>\n",
              "      <td>0.000072</td>\n",
              "      <td>0.000000</td>\n",
              "      <td>0.030312</td>\n",
              "      <td>0.000002</td>\n",
              "      <td>24600.000000</td>\n",
              "    </tr>\n",
              "    <tr>\n",
              "      <th>25%</th>\n",
              "      <td>0.054563</td>\n",
              "      <td>0.042390</td>\n",
              "      <td>15.603432</td>\n",
              "      <td>0.001364</td>\n",
              "      <td>33300.000000</td>\n",
              "    </tr>\n",
              "    <tr>\n",
              "      <th>50%</th>\n",
              "      <td>0.144650</td>\n",
              "      <td>0.175907</td>\n",
              "      <td>33.523925</td>\n",
              "      <td>0.003616</td>\n",
              "      <td>41220.000000</td>\n",
              "    </tr>\n",
              "    <tr>\n",
              "      <th>75%</th>\n",
              "      <td>0.306833</td>\n",
              "      <td>0.410477</td>\n",
              "      <td>64.056565</td>\n",
              "      <td>0.007671</td>\n",
              "      <td>49140.000000</td>\n",
              "    </tr>\n",
              "    <tr>\n",
              "      <th>max</th>\n",
              "      <td>0.913701</td>\n",
              "      <td>1.717659</td>\n",
              "      <td>146.520064</td>\n",
              "      <td>0.022843</td>\n",
              "      <td>57840.000000</td>\n",
              "    </tr>\n",
              "  </tbody>\n",
              "</table>\n",
              "</div>\n",
              "    <div class=\"colab-df-buttons\">\n",
              "\n",
              "  <div class=\"colab-df-container\">\n",
              "    <button class=\"colab-df-convert\" onclick=\"convertToInteractive('df-73e3b36a-9924-41d9-8665-97108baa8bd2')\"\n",
              "            title=\"Convert this dataframe to an interactive table.\"\n",
              "            style=\"display:none;\">\n",
              "\n",
              "  <svg xmlns=\"http://www.w3.org/2000/svg\" height=\"24px\" viewBox=\"0 -960 960 960\">\n",
              "    <path d=\"M120-120v-720h720v720H120Zm60-500h600v-160H180v160Zm220 220h160v-160H400v160Zm0 220h160v-160H400v160ZM180-400h160v-160H180v160Zm440 0h160v-160H620v160ZM180-180h160v-160H180v160Zm440 0h160v-160H620v160Z\"/>\n",
              "  </svg>\n",
              "    </button>\n",
              "\n",
              "  <style>\n",
              "    .colab-df-container {\n",
              "      display:flex;\n",
              "      gap: 12px;\n",
              "    }\n",
              "\n",
              "    .colab-df-convert {\n",
              "      background-color: #E8F0FE;\n",
              "      border: none;\n",
              "      border-radius: 50%;\n",
              "      cursor: pointer;\n",
              "      display: none;\n",
              "      fill: #1967D2;\n",
              "      height: 32px;\n",
              "      padding: 0 0 0 0;\n",
              "      width: 32px;\n",
              "    }\n",
              "\n",
              "    .colab-df-convert:hover {\n",
              "      background-color: #E2EBFA;\n",
              "      box-shadow: 0px 1px 2px rgba(60, 64, 67, 0.3), 0px 1px 3px 1px rgba(60, 64, 67, 0.15);\n",
              "      fill: #174EA6;\n",
              "    }\n",
              "\n",
              "    .colab-df-buttons div {\n",
              "      margin-bottom: 4px;\n",
              "    }\n",
              "\n",
              "    [theme=dark] .colab-df-convert {\n",
              "      background-color: #3B4455;\n",
              "      fill: #D2E3FC;\n",
              "    }\n",
              "\n",
              "    [theme=dark] .colab-df-convert:hover {\n",
              "      background-color: #434B5C;\n",
              "      box-shadow: 0px 1px 3px 1px rgba(0, 0, 0, 0.15);\n",
              "      filter: drop-shadow(0px 1px 2px rgba(0, 0, 0, 0.3));\n",
              "      fill: #FFFFFF;\n",
              "    }\n",
              "  </style>\n",
              "\n",
              "    <script>\n",
              "      const buttonEl =\n",
              "        document.querySelector('#df-73e3b36a-9924-41d9-8665-97108baa8bd2 button.colab-df-convert');\n",
              "      buttonEl.style.display =\n",
              "        google.colab.kernel.accessAllowed ? 'block' : 'none';\n",
              "\n",
              "      async function convertToInteractive(key) {\n",
              "        const element = document.querySelector('#df-73e3b36a-9924-41d9-8665-97108baa8bd2');\n",
              "        const dataTable =\n",
              "          await google.colab.kernel.invokeFunction('convertToInteractive',\n",
              "                                                    [key], {});\n",
              "        if (!dataTable) return;\n",
              "\n",
              "        const docLinkHtml = 'Like what you see? Visit the ' +\n",
              "          '<a target=\"_blank\" href=https://colab.research.google.com/notebooks/data_table.ipynb>data table notebook</a>'\n",
              "          + ' to learn more about interactive tables.';\n",
              "        element.innerHTML = '';\n",
              "        dataTable['output_type'] = 'display_data';\n",
              "        await google.colab.output.renderOutput(dataTable, element);\n",
              "        const docLink = document.createElement('div');\n",
              "        docLink.innerHTML = docLinkHtml;\n",
              "        element.appendChild(docLink);\n",
              "      }\n",
              "    </script>\n",
              "  </div>\n",
              "\n",
              "\n",
              "<div id=\"df-61d09ad1-acc1-4d5e-997f-1dd94b66c20d\">\n",
              "  <button class=\"colab-df-quickchart\" onclick=\"quickchart('df-61d09ad1-acc1-4d5e-997f-1dd94b66c20d')\"\n",
              "            title=\"Suggest charts\"\n",
              "            style=\"display:none;\">\n",
              "\n",
              "<svg xmlns=\"http://www.w3.org/2000/svg\" height=\"24px\"viewBox=\"0 0 24 24\"\n",
              "     width=\"24px\">\n",
              "    <g>\n",
              "        <path d=\"M19 3H5c-1.1 0-2 .9-2 2v14c0 1.1.9 2 2 2h14c1.1 0 2-.9 2-2V5c0-1.1-.9-2-2-2zM9 17H7v-7h2v7zm4 0h-2V7h2v10zm4 0h-2v-4h2v4z\"/>\n",
              "    </g>\n",
              "</svg>\n",
              "  </button>\n",
              "\n",
              "<style>\n",
              "  .colab-df-quickchart {\n",
              "      --bg-color: #E8F0FE;\n",
              "      --fill-color: #1967D2;\n",
              "      --hover-bg-color: #E2EBFA;\n",
              "      --hover-fill-color: #174EA6;\n",
              "      --disabled-fill-color: #AAA;\n",
              "      --disabled-bg-color: #DDD;\n",
              "  }\n",
              "\n",
              "  [theme=dark] .colab-df-quickchart {\n",
              "      --bg-color: #3B4455;\n",
              "      --fill-color: #D2E3FC;\n",
              "      --hover-bg-color: #434B5C;\n",
              "      --hover-fill-color: #FFFFFF;\n",
              "      --disabled-bg-color: #3B4455;\n",
              "      --disabled-fill-color: #666;\n",
              "  }\n",
              "\n",
              "  .colab-df-quickchart {\n",
              "    background-color: var(--bg-color);\n",
              "    border: none;\n",
              "    border-radius: 50%;\n",
              "    cursor: pointer;\n",
              "    display: none;\n",
              "    fill: var(--fill-color);\n",
              "    height: 32px;\n",
              "    padding: 0;\n",
              "    width: 32px;\n",
              "  }\n",
              "\n",
              "  .colab-df-quickchart:hover {\n",
              "    background-color: var(--hover-bg-color);\n",
              "    box-shadow: 0 1px 2px rgba(60, 64, 67, 0.3), 0 1px 3px 1px rgba(60, 64, 67, 0.15);\n",
              "    fill: var(--button-hover-fill-color);\n",
              "  }\n",
              "\n",
              "  .colab-df-quickchart-complete:disabled,\n",
              "  .colab-df-quickchart-complete:disabled:hover {\n",
              "    background-color: var(--disabled-bg-color);\n",
              "    fill: var(--disabled-fill-color);\n",
              "    box-shadow: none;\n",
              "  }\n",
              "\n",
              "  .colab-df-spinner {\n",
              "    border: 2px solid var(--fill-color);\n",
              "    border-color: transparent;\n",
              "    border-bottom-color: var(--fill-color);\n",
              "    animation:\n",
              "      spin 1s steps(1) infinite;\n",
              "  }\n",
              "\n",
              "  @keyframes spin {\n",
              "    0% {\n",
              "      border-color: transparent;\n",
              "      border-bottom-color: var(--fill-color);\n",
              "      border-left-color: var(--fill-color);\n",
              "    }\n",
              "    20% {\n",
              "      border-color: transparent;\n",
              "      border-left-color: var(--fill-color);\n",
              "      border-top-color: var(--fill-color);\n",
              "    }\n",
              "    30% {\n",
              "      border-color: transparent;\n",
              "      border-left-color: var(--fill-color);\n",
              "      border-top-color: var(--fill-color);\n",
              "      border-right-color: var(--fill-color);\n",
              "    }\n",
              "    40% {\n",
              "      border-color: transparent;\n",
              "      border-right-color: var(--fill-color);\n",
              "      border-top-color: var(--fill-color);\n",
              "    }\n",
              "    60% {\n",
              "      border-color: transparent;\n",
              "      border-right-color: var(--fill-color);\n",
              "    }\n",
              "    80% {\n",
              "      border-color: transparent;\n",
              "      border-right-color: var(--fill-color);\n",
              "      border-bottom-color: var(--fill-color);\n",
              "    }\n",
              "    90% {\n",
              "      border-color: transparent;\n",
              "      border-bottom-color: var(--fill-color);\n",
              "    }\n",
              "  }\n",
              "</style>\n",
              "\n",
              "  <script>\n",
              "    async function quickchart(key) {\n",
              "      const quickchartButtonEl =\n",
              "        document.querySelector('#' + key + ' button');\n",
              "      quickchartButtonEl.disabled = true;  // To prevent multiple clicks.\n",
              "      quickchartButtonEl.classList.add('colab-df-spinner');\n",
              "      try {\n",
              "        const charts = await google.colab.kernel.invokeFunction(\n",
              "            'suggestCharts', [key], {});\n",
              "      } catch (error) {\n",
              "        console.error('Error during call to suggestCharts:', error);\n",
              "      }\n",
              "      quickchartButtonEl.classList.remove('colab-df-spinner');\n",
              "      quickchartButtonEl.classList.add('colab-df-quickchart-complete');\n",
              "    }\n",
              "    (() => {\n",
              "      let quickchartButtonEl =\n",
              "        document.querySelector('#df-61d09ad1-acc1-4d5e-997f-1dd94b66c20d button');\n",
              "      quickchartButtonEl.style.display =\n",
              "        google.colab.kernel.accessAllowed ? 'block' : 'none';\n",
              "    })();\n",
              "  </script>\n",
              "</div>\n",
              "\n",
              "    </div>\n",
              "  </div>\n"
            ],
            "application/vnd.google.colaboratory.intrinsic+json": {
              "type": "dataframe",
              "summary": "{\n  \"name\": \"df_UV\",\n  \"rows\": 8,\n  \"fields\": [\n    {\n      \"column\": \"UVI\",\n      \"properties\": {\n        \"dtype\": \"number\",\n        \"std\": 2614.43677969437,\n        \"min\": 7.18314265700591e-05,\n        \"max\": 7395.0,\n        \"num_unique_values\": 8,\n        \"samples\": [\n          0.19808573655145098,\n          0.14465042261503136,\n          7395.0\n        ],\n        \"semantic_type\": \"\",\n        \"description\": \"\"\n      }\n    },\n    {\n      \"column\": \"UVA\",\n      \"properties\": {\n        \"dtype\": \"number\",\n        \"std\": 2614.3803700433555,\n        \"min\": 0.0,\n        \"max\": 7395.0,\n        \"num_unique_values\": 8,\n        \"samples\": [\n          0.2720006766811334,\n          0.17590654596000005,\n          7395.0\n        ],\n        \"semantic_type\": \"\",\n        \"description\": \"\"\n      }\n    },\n    {\n      \"column\": \"UVB\",\n      \"properties\": {\n        \"dtype\": \"number\",\n        \"std\": 2597.9704513771785,\n        \"min\": 0.030311837599999995,\n        \"max\": 7395.0,\n        \"num_unique_values\": 8,\n        \"samples\": [\n          42.13560787518178,\n          33.5239249,\n          7395.0\n        ],\n        \"semantic_type\": \"\",\n        \"description\": \"\"\n      }\n    },\n    {\n      \"column\": \"erythem\",\n      \"properties\": {\n        \"dtype\": \"number\",\n        \"std\": 2614.5250594684053,\n        \"min\": 1.7957856642514774e-06,\n        \"max\": 7395.0,\n        \"num_unique_values\": 8,\n        \"samples\": [\n          0.004952143413786276,\n          0.003616260565375784,\n          7395.0\n        ],\n        \"semantic_type\": \"\",\n        \"description\": \"\"\n      }\n    },\n    {\n      \"column\": \"Messzeitpunkt\",\n      \"properties\": {\n        \"dtype\": \"number\",\n        \"std\": 18151.6976104031,\n        \"min\": 7395.0,\n        \"max\": 57840.0,\n        \"num_unique_values\": 8,\n        \"samples\": [\n          41159.772819472615,\n          41220.0,\n          7395.0\n        ],\n        \"semantic_type\": \"\",\n        \"description\": \"\"\n      }\n    }\n  ]\n}"
            }
          },
          "metadata": {},
          "execution_count": 22
        }
      ]
    },
    {
      "cell_type": "code",
      "source": [
        "# save_dataframe_to_drive(df_UV, folder_export, month)"
      ],
      "metadata": {
        "id": "POBk1RHxegfB"
      },
      "execution_count": 23,
      "outputs": []
    },
    {
      "cell_type": "code",
      "source": [
        "# save_dataframe_to_drive(df_Gewichtet, folder_export_Gewichtet, month)"
      ],
      "metadata": {
        "id": "3Xcot1MzfZCt"
      },
      "execution_count": 24,
      "outputs": []
    }
  ]
}