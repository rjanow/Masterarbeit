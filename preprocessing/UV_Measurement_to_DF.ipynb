{
  "nbformat": 4,
  "nbformat_minor": 0,
  "metadata": {
    "colab": {
      "provenance": [],
      "include_colab_link": true
    },
    "kernelspec": {
      "name": "python3",
      "display_name": "Python 3"
    },
    "language_info": {
      "name": "python"
    }
  },
  "cells": [
    {
      "cell_type": "markdown",
      "metadata": {
        "id": "view-in-github",
        "colab_type": "text"
      },
      "source": [
        "<a href=\"https://colab.research.google.com/github/rjanow/Masterarbeit/blob/main/preprocessing/UV_Measurement_to_DF.ipynb\" target=\"_parent\"><img src=\"https://colab.research.google.com/assets/colab-badge.svg\" alt=\"Open In Colab\"/></a>"
      ]
    },
    {
      "cell_type": "markdown",
      "source": [
        "# Hier werden die Rohdaten des BTS2048-UV-WP in eine nutzbare CSV-Datei geschrieben"
      ],
      "metadata": {
        "id": "VbXcbReNyuop"
      }
    },
    {
      "cell_type": "markdown",
      "source": [
        "**Dokumentenname: UV_Measurement_to_CSV.ipynb**\n",
        "\n",
        "Es werden die OR0-Daten (NasaAmes-Format), die eigentlich für den Versand an das BFS gedacht sind umgewandelt und in eine CSV-Datei geschrieben. Aufgrund der großen Datenmenge geschieht dies für jeden Monat getrennt."
      ],
      "metadata": {
        "id": "_Euu6x1XyxGL"
      }
    },
    {
      "cell_type": "markdown",
      "source": [
        "# Import der benötigten Module:"
      ],
      "metadata": {
        "id": "S1AxQI5fjx42"
      }
    },
    {
      "cell_type": "code",
      "source": [
        "# Import der benötigten Module\n",
        "import os, sys\n",
        "import glob\n",
        "import datetime\n",
        "import pandas as pd\n",
        "import numpy as np\n",
        "import csv\n",
        "import re\n",
        "import matplotlib.pyplot as plt\n",
        "\n",
        "from scipy.io import netcdf\n",
        "from datetime import timedelta\n",
        "from datetime import datetime\n",
        "\n",
        "from google.colab import drive\n",
        "from google.colab import files"
      ],
      "metadata": {
        "id": "6GGZwyBJzVsp"
      },
      "execution_count": 1,
      "outputs": []
    },
    {
      "cell_type": "markdown",
      "source": [
        "Zu Beginn muss die Google-Drive eingerichtet werden, in der die Messdaten (OR0-Dateien) gespeichert sind. Danach werden alle verfügbaren Unterordner aufgerufen. So wird geprüft, ob der Mount richtig funktioniert hat."
      ],
      "metadata": {
        "id": "EKAQlrHyWWIP"
      }
    },
    {
      "cell_type": "code",
      "source": [
        "drive.mount('/content/drive')\n",
        "\n",
        "drive_path = '/content/drive/MyDrive'\n",
        "# Durchsuche den Google Drive-Pfad\n",
        "for root, dirs, files in os.walk(drive_path):\n",
        "    for dir in dirs:\n",
        "        # Gib den Namen des Unterordners aus\n",
        "        print(os.path.join(root, dir))"
      ],
      "metadata": {
        "id": "T_iN54-sVUVL",
        "outputId": "28d401e7-dc65-4efc-e082-85a2adf4d9f7",
        "colab": {
          "base_uri": "https://localhost:8080/"
        }
      },
      "execution_count": 2,
      "outputs": [
        {
          "output_type": "stream",
          "name": "stdout",
          "text": [
            "Mounted at /content/drive\n",
            "/content/drive/MyDrive/Colab_Notebooks\n",
            "/content/drive/MyDrive/Colab Notebooks\n",
            "/content/drive/MyDrive/Colab_Notebooks/CSV_Messdaten\n",
            "/content/drive/MyDrive/Colab_Notebooks/NasaAmes_Messdaten\n",
            "/content/drive/MyDrive/Colab_Notebooks/CSV_UVI\n",
            "/content/drive/MyDrive/Colab_Notebooks/CSV_Gewichtet\n",
            "/content/drive/MyDrive/Colab_Notebooks/CSV_SolarRadiation\n",
            "/content/drive/MyDrive/Colab_Notebooks/netCDF4_Wetterdaten\n",
            "/content/drive/MyDrive/Colab_Notebooks/CAMS_Vorhersage\n",
            "/content/drive/MyDrive/Colab_Notebooks/Clean_Data\n",
            "/content/drive/MyDrive/Colab_Notebooks/plot_daily_UVI\n",
            "/content/drive/MyDrive/Colab_Notebooks/SOLYS_Messdaten\n",
            "/content/drive/MyDrive/Colab_Notebooks/CSV_Zwischenspeicher\n",
            "/content/drive/MyDrive/Colab_Notebooks/SOLYS_CSV\n",
            "/content/drive/MyDrive/Colab_Notebooks/Modelle\n",
            "/content/drive/MyDrive/Colab_Notebooks/plot_TSA\n",
            "/content/drive/MyDrive/Colab_Notebooks/netCDF4_CloudCover\n",
            "/content/drive/MyDrive/Colab_Notebooks/HighVarDays_Plots\n",
            "/content/drive/MyDrive/Colab_Notebooks/LowVarDays_Plots\n",
            "/content/drive/MyDrive/Colab_Notebooks/NasaAmes_Messdaten/Data\n",
            "/content/drive/MyDrive/Colab_Notebooks/NasaAmes_Messdaten/Data/22.07\n",
            "/content/drive/MyDrive/Colab_Notebooks/NasaAmes_Messdaten/Data/22.08\n",
            "/content/drive/MyDrive/Colab_Notebooks/NasaAmes_Messdaten/Data/22.09\n",
            "/content/drive/MyDrive/Colab_Notebooks/NasaAmes_Messdaten/Data/22.10\n",
            "/content/drive/MyDrive/Colab_Notebooks/NasaAmes_Messdaten/Data/22.11\n",
            "/content/drive/MyDrive/Colab_Notebooks/NasaAmes_Messdaten/Data/22.12\n",
            "/content/drive/MyDrive/Colab_Notebooks/NasaAmes_Messdaten/Data/23.01\n",
            "/content/drive/MyDrive/Colab_Notebooks/NasaAmes_Messdaten/Data/23.02\n",
            "/content/drive/MyDrive/Colab_Notebooks/NasaAmes_Messdaten/Data/23.03\n",
            "/content/drive/MyDrive/Colab_Notebooks/NasaAmes_Messdaten/Data/23.04\n",
            "/content/drive/MyDrive/Colab_Notebooks/NasaAmes_Messdaten/Data/23.05\n",
            "/content/drive/MyDrive/Colab_Notebooks/NasaAmes_Messdaten/Data/23.07\n",
            "/content/drive/MyDrive/Colab_Notebooks/NasaAmes_Messdaten/Data/23.08\n",
            "/content/drive/MyDrive/Colab_Notebooks/NasaAmes_Messdaten/Data/22.06\n",
            "/content/drive/MyDrive/Colab_Notebooks/Modelle/variables\n",
            "/content/drive/MyDrive/Colab_Notebooks/Modelle/assets\n"
          ]
        }
      ]
    },
    {
      "cell_type": "markdown",
      "source": [
        "**Monat der Exportiert werden soll:**"
      ],
      "metadata": {
        "id": "HYdn1p8-PgJD"
      }
    },
    {
      "cell_type": "code",
      "source": [
        "month = '23.05'"
      ],
      "metadata": {
        "id": "b_lzKoe_Pfgd"
      },
      "execution_count": 3,
      "outputs": []
    },
    {
      "cell_type": "markdown",
      "source": [
        "Danach werden die einzelnen OR0-Dateien (NasaAmes Format) geladen und umgewandelt.\n",
        "\n",
        "Das NasaAmes Format: https://espoarchive.nasa.gov/content/Ames_Format_Specification_v20\n",
        "\n",
        "Die Messdaten sind unter dem FFI (File Format Index) 2005 gespeichert. Dieser Standard ist durch die Nasa nicht dokumentiert. Deshalb nachfolgend ein eigener Parser, der die Daten in eine nutzbare CSV umwandelt."
      ],
      "metadata": {
        "id": "ZRL9H_KEZpgG"
      }
    },
    {
      "cell_type": "markdown",
      "source": [
        "**Beschreibung der einzelnen Dictionaries und deren Inhalt:**\n",
        "\n",
        "- **file_names** = enthält die Dateinamen der einzelnen OR0-Dateien\n",
        "- **file_content** = Enthält den Inhalt der OR0-Dateien\n",
        "- **end_line_header** = enthält die Zeile an dem der Header endet"
      ],
      "metadata": {
        "id": "TI_gn6B6_qGL"
      }
    },
    {
      "cell_type": "markdown",
      "source": [
        "## Dateien einlesen und vor verarbeiten:"
      ],
      "metadata": {
        "id": "7_mIBaD2FwwZ"
      }
    },
    {
      "cell_type": "code",
      "source": [
        "# Pfad zum Ordner mit den Dateien in Google Drive\n",
        "folder_path = '/content/drive/MyDrive/Colab_Notebooks/NasaAmes_Messdaten/Data/' + month\n",
        "\n",
        "# OR0-Dateien im Ordner lesen\n",
        "file_paths = glob.glob(folder_path + '/*.OR0')\n",
        "\n",
        "# Liste für die Dateinamen erstellen\n",
        "file_names = []\n",
        "\n",
        "# Schleife über die Dateien\n",
        "for file_path in file_paths:\n",
        "\n",
        "    if os.path.getsize(file_path) > 100 * 1024:\n",
        "      # Dateiname extrahieren\n",
        "      file_name = os.path.splitext(os.path.basename(file_path))[0]\n",
        "\n",
        "      # Datei öffnen und Inhalt lesen\n",
        "      with open(file_path, 'r') as file:\n",
        "          file_content = file.read()\n",
        "\n",
        "      # Variable für die Datei erstellen\n",
        "      globals()[file_name] = file_content\n",
        "\n",
        "      file_names.append(file_name)"
      ],
      "metadata": {
        "id": "LJXRx3MKM8L1"
      },
      "execution_count": 4,
      "outputs": []
    },
    {
      "cell_type": "markdown",
      "source": [
        "**Dataframe mit Wellenlängen erstellen:**\n",
        "- Dieser wird später genutzt um die Spalten des Dataframe zu benennen."
      ],
      "metadata": {
        "id": "4sWE034DaFBt"
      }
    },
    {
      "cell_type": "code",
      "source": [
        "def create_df_Wellenlaenge(start, end, step):\n",
        "    # Erstelle eine Liste mit den gewünschten Werten\n",
        "    numbers_list = [round(num, 3) for num in list(np.arange(start, end + step, step))]\n",
        "    # Erstelle den Dataframe\n",
        "    df = pd.DataFrame({'Wellenlaenge': numbers_list})\n",
        "\n",
        "    return df"
      ],
      "metadata": {
        "id": "vR4lB-9hAJZ6"
      },
      "execution_count": 5,
      "outputs": []
    },
    {
      "cell_type": "code",
      "source": [
        "np_Wellenlaenge = np.round(np.arange(290.0, 420.05, 0.1), decimals = 1)\n",
        "df_Wellenlaenge = pd.DataFrame({'Wellenlaenge': np_Wellenlaenge})"
      ],
      "metadata": {
        "id": "ke6b38SlA3B1"
      },
      "execution_count": 6,
      "outputs": []
    },
    {
      "cell_type": "markdown",
      "source": [
        "**String aufteilen in einzelne Zeile schreiben:**\n",
        "\n",
        "- Zur weitern Verarbeitung müssen alle Elemente als einzelene Strings abgespeichet werden."
      ],
      "metadata": {
        "id": "P4FUkD2Lua3i"
      }
    },
    {
      "cell_type": "code",
      "source": [
        "file_content = {}  # Dictionary für die Messungen erstellen\n",
        "\n",
        "for file_name in file_names:\n",
        "    file_variables = globals()[file_name]\n",
        "    file_content[file_name] = file_variables\n",
        "\n",
        "# Auf Variablen zugreifen und String in Zeilen aufteilen\n",
        "for file_name, variable in file_content.items():\n",
        "    file_content[file_name] = file_content[file_name].split('\\n')"
      ],
      "metadata": {
        "id": "JxBOhrPFQIYc"
      },
      "execution_count": 7,
      "outputs": []
    },
    {
      "cell_type": "markdown",
      "source": [
        "**Header extrahieren:**"
      ],
      "metadata": {
        "id": "AaUuqtlgK2Qq"
      }
    },
    {
      "cell_type": "code",
      "source": [
        "# Funktion um den Dateiheader zu extrahieren\n",
        "def perform_action(file_variables, file_names):\n",
        "    header_dict = {file_name: \"\" for file_name in file_names}\n",
        "    end_line_header_fnc = 0\n",
        "\n",
        "    for file_name, data in file_variables.items():\n",
        "        for i, line in enumerate(data):\n",
        "            header_dict[file_name] += line + \"\\n\"\n",
        "            if line.strip() == \"Pyranometer: readout interval [secs]=5\":\n",
        "                end_line_header_fnc = i\n",
        "                break\n",
        "\n",
        "    return header_dict, end_line_header_fnc"
      ],
      "metadata": {
        "id": "rBjd_Y6lEw80"
      },
      "execution_count": 8,
      "outputs": []
    },
    {
      "cell_type": "code",
      "source": [
        "file_header, end_line_header = perform_action(file_content, file_names)"
      ],
      "metadata": {
        "id": "nUdv6oMbE2-q"
      },
      "execution_count": 9,
      "outputs": []
    },
    {
      "cell_type": "markdown",
      "source": [
        "**Header aus Datensatz löschen:**"
      ],
      "metadata": {
        "id": "L_0hAYmkOyxy"
      }
    },
    {
      "cell_type": "code",
      "source": [
        "def remove_header(lines_content, end_line):\n",
        "    lines_WO_header_fnc = {}\n",
        "    lines_WO_header_fnc = lines_content.copy()\n",
        "\n",
        "    for key, value in lines_WO_header_fnc.items():\n",
        "        del value[:end_line+1]\n",
        "\n",
        "    return lines_WO_header_fnc"
      ],
      "metadata": {
        "id": "a9HPMKEdffX1"
      },
      "execution_count": 10,
      "outputs": []
    },
    {
      "cell_type": "code",
      "source": [
        "lines_WO_header = remove_header(file_content, end_line_header)"
      ],
      "metadata": {
        "id": "hxWLzYdkff7w"
      },
      "execution_count": 11,
      "outputs": []
    },
    {
      "cell_type": "markdown",
      "source": [
        "##Elemente aufteilen:"
      ],
      "metadata": {
        "id": "glLu0-yiZ724"
      }
    },
    {
      "cell_type": "code",
      "source": [
        "def flatten_and_split(input_list):\n",
        "    result = []\n",
        "    for sublist in input_list:\n",
        "        elements = sublist.split()\n",
        "        result.extend(elements)\n",
        "    return result"
      ],
      "metadata": {
        "id": "scwLZbQNt1pO"
      },
      "execution_count": 12,
      "outputs": []
    },
    {
      "cell_type": "code",
      "source": [
        "def process_dict(input_dict):\n",
        "    processed_dict = {}\n",
        "    for key, value in input_dict.items():\n",
        "        processed_value = flatten_and_split(value)\n",
        "        sublists = []\n",
        "        sublist = []\n",
        "        for element in processed_value:\n",
        "            if element.isdigit() and len(element) == 5:\n",
        "                if sublist:\n",
        "                    sublists.append(sublist)\n",
        "                    sublist = []\n",
        "            sublist.append(element)\n",
        "        if sublist:\n",
        "            sublists.append(sublist)\n",
        "        processed_dict[key] = sublists\n",
        "    return processed_dict"
      ],
      "metadata": {
        "id": "aqXTQ0E3t1zT"
      },
      "execution_count": 13,
      "outputs": []
    },
    {
      "cell_type": "code",
      "source": [
        "processed_dict = process_dict(lines_WO_header)"
      ],
      "metadata": {
        "id": "lTaf7gzyt32j"
      },
      "execution_count": 14,
      "outputs": []
    },
    {
      "cell_type": "markdown",
      "source": [
        "**Zeitstempel in Datensatz finden:**"
      ],
      "metadata": {
        "id": "uscoR4cRFvIn"
      }
    },
    {
      "cell_type": "code",
      "source": [
        "# Funktion zum finden eines 5 stelligen Integers (= Zeitstempel)\n",
        "def find_5_digit_integers(input_list):\n",
        "    result = []\n",
        "    for sublist in input_list:\n",
        "        for element in sublist:\n",
        "            if isinstance(element, str) and element.isdigit() and len(element) == 5:\n",
        "                result.append(element)\n",
        "    return result"
      ],
      "metadata": {
        "id": "WI-aukhcgE1E"
      },
      "execution_count": 15,
      "outputs": []
    },
    {
      "cell_type": "code",
      "source": [
        "# Funktion, die durch das dict iterriert (und die Funktion \"find_5_digit_integers\" aufruft)\n",
        "def find_5_digit_integers_in_dict(input_dict):\n",
        "    result_dict = {}\n",
        "    for key, value in input_dict.items():\n",
        "        result_dict[key] = find_5_digit_integers(value)\n",
        "    return result_dict"
      ],
      "metadata": {
        "id": "gvgssDUayRve"
      },
      "execution_count": 16,
      "outputs": []
    },
    {
      "cell_type": "code",
      "source": [
        "result_dict = find_5_digit_integers_in_dict(processed_dict)"
      ],
      "metadata": {
        "id": "3dJYofTuiM6m"
      },
      "execution_count": 17,
      "outputs": []
    },
    {
      "cell_type": "markdown",
      "source": [
        "**Dict in Dataframe speichern:**"
      ],
      "metadata": {
        "id": "gapz7ewHV3F4"
      }
    },
    {
      "cell_type": "code",
      "source": [
        "# Erstelle eine leere Liste, um die Zeilen für den DataFrame aufzunehmen\n",
        "data_rows = []\n",
        "df_rows = pd.DataFrame()\n",
        "df_Messdaten = pd.DataFrame()\n",
        "\n",
        "# Iteriere durch das verschachtelte Dictionary und erstelle Zeilen für den DataFrame\n",
        "for key, value in processed_dict.items():\n",
        "    for sublist in value:\n",
        "        data_rows.append([key] + sublist)\n",
        "\n",
        "# Definiere Spaltennamen für den DataFrame\n",
        "columns = ['Datum'] + [f'Wert{i}' for i in range(1, len(data_rows[0]))]\n",
        "\n",
        "# Erstelle den Pandas DataFrame\n",
        "df_rows = pd.DataFrame(data_rows, columns=columns)\n",
        "df_Messdaten = df_rows.copy()"
      ],
      "metadata": {
        "id": "IxMzzikpWGXY"
      },
      "execution_count": 18,
      "outputs": []
    },
    {
      "cell_type": "markdown",
      "source": [
        "**Prüfen, ob der Inhalt des DF korrekt ist:**"
      ],
      "metadata": {
        "id": "otw05cgGuEG9"
      }
    },
    {
      "cell_type": "code",
      "source": [
        "df_rows[df_rows['Datum'].astype('string') == '2023-05-26']"
      ],
      "metadata": {
        "id": "A9285K3xuDk6",
        "outputId": "54b629ba-9fe4-4110-aa53-4d2d3d783020",
        "colab": {
          "base_uri": "https://localhost:8080/",
          "height": 403
        }
      },
      "execution_count": 50,
      "outputs": [
        {
          "output_type": "execute_result",
          "data": {
            "text/plain": [
              "         Datum  Wert1 Wert2      Wert3     Wert4      Wert5        Wert6  \\\n",
              "0     SA230501  16320    90  4.000E-02  9.999E+9  2.000E+00    0.000E+00   \n",
              "1     SA230501  16440    90  4.000E-02  9.999E+9  2.000E+00    0.000E+00   \n",
              "2     SA230501  16560    90  4.000E-02  9.999E+9  2.000E+00    0.000E+00   \n",
              "3     SA230501  16680    90  4.000E-02  9.999E+9  2.000E+00    0.000E+00   \n",
              "4     SA230501  16800    80  4.000E-02  9.999E+9  2.000E+00    0.000E+00   \n",
              "...        ...    ...   ...        ...       ...        ...          ...   \n",
              "9906  SA230526  32640    92  4.000E-02  9.999E+9  2.000E+00    0.000E+00   \n",
              "9907  SA230526  32760    92  4.000E-02  9.999E+9  2.000E+00    0.000E+00   \n",
              "9908  SA230526  32880   102  4.000E-02  9.999E+9  2.000E+00    0.000E+00   \n",
              "9909  SA230526  33000    21  99999.999  9.999E+9   99999.99  9.99999E+99   \n",
              "9910  SA230526  33120    21  99999.999  9.999E+9   99999.99  9.99999E+99   \n",
              "\n",
              "      Wert7     Wert8     Wert9  ...       419.1       419.2       419.3  \\\n",
              "0     999.9  9.999E+9  9.999E+9  ...  2.7018E-02  2.6991E-02  2.6701E-02   \n",
              "1     999.9  9.999E+9  9.999E+9  ...  2.9336E-02  2.9240E-02  2.8847E-02   \n",
              "2     999.9  9.999E+9  9.999E+9  ...  3.1711E-02  3.1652E-02  3.1280E-02   \n",
              "3     999.9  9.999E+9  9.999E+9  ...  3.3991E-02  3.3916E-02  3.3599E-02   \n",
              "4     999.9  9.999E+9  9.999E+9  ...  3.6120E-02  3.5907E-02  3.5448E-02   \n",
              "...     ...       ...       ...  ...         ...         ...         ...   \n",
              "9906  999.9  9.999E+9  9.999E+9  ...  9.6278E-01  9.6577E-01  9.5516E-01   \n",
              "9907  999.9  9.999E+9  9.999E+9  ...  9.9995E-01  9.9957E-01  9.8861E-01   \n",
              "9908  999.9  9.999E+9  9.999E+9  ...  6.0791E-01  6.0775E-01  5.9800E-01   \n",
              "9909  999.9  9.999E+9  9.999E+9  ...        None        None        None   \n",
              "9910  999.9  9.999E+9  9.999E+9  ...        None        None        None   \n",
              "\n",
              "           419.4       419.5       419.6       419.7       419.8       419.9  \\\n",
              "0     2.6287E-02  2.5952E-02  2.5509E-02  2.5245E-02  2.5162E-02  2.5195E-02   \n",
              "1     2.8347E-02  2.7855E-02  2.7341E-02  2.7222E-02  2.7299E-02  2.7362E-02   \n",
              "2     3.0730E-02  3.0171E-02  2.9663E-02  2.9293E-02  2.9152E-02  2.9222E-02   \n",
              "3     3.2866E-02  3.2338E-02  3.1786E-02  3.1437E-02  3.1291E-02  3.1311E-02   \n",
              "4     3.4677E-02  3.4047E-02  3.3592E-02  3.3253E-02  3.3133E-02  3.3251E-02   \n",
              "...          ...         ...         ...         ...         ...         ...   \n",
              "9906  9.2853E-01  9.1750E-01  9.0178E-01  8.8908E-01  8.8416E-01  8.8666E-01   \n",
              "9907  9.6214E-01  9.4860E-01  9.3375E-01  9.1818E-01  9.1090E-01  9.1194E-01   \n",
              "9908  5.8546E-01  5.7883E-01  5.6677E-01  5.6223E-01  5.5647E-01  5.5597E-01   \n",
              "9909        None        None        None        None        None        None   \n",
              "9910        None        None        None        None        None        None   \n",
              "\n",
              "           420.0  \n",
              "0     2.5366E-02  \n",
              "1     2.7502E-02  \n",
              "2     2.9503E-02  \n",
              "3     3.1518E-02  \n",
              "4     3.3638E-02  \n",
              "...          ...  \n",
              "9906  8.9575E-01  \n",
              "9907  9.1381E-01  \n",
              "9908  5.6405E-01  \n",
              "9909        None  \n",
              "9910        None  \n",
              "\n",
              "[9911 rows x 1319 columns]"
            ],
            "text/html": [
              "\n",
              "  <div id=\"df-ff30db9d-4093-46f9-99c8-88cf64771ca9\" class=\"colab-df-container\">\n",
              "    <div>\n",
              "<style scoped>\n",
              "    .dataframe tbody tr th:only-of-type {\n",
              "        vertical-align: middle;\n",
              "    }\n",
              "\n",
              "    .dataframe tbody tr th {\n",
              "        vertical-align: top;\n",
              "    }\n",
              "\n",
              "    .dataframe thead th {\n",
              "        text-align: right;\n",
              "    }\n",
              "</style>\n",
              "<table border=\"1\" class=\"dataframe\">\n",
              "  <thead>\n",
              "    <tr style=\"text-align: right;\">\n",
              "      <th></th>\n",
              "      <th>Datum</th>\n",
              "      <th>Wert1</th>\n",
              "      <th>Wert2</th>\n",
              "      <th>Wert3</th>\n",
              "      <th>Wert4</th>\n",
              "      <th>Wert5</th>\n",
              "      <th>Wert6</th>\n",
              "      <th>Wert7</th>\n",
              "      <th>Wert8</th>\n",
              "      <th>Wert9</th>\n",
              "      <th>...</th>\n",
              "      <th>419.1</th>\n",
              "      <th>419.2</th>\n",
              "      <th>419.3</th>\n",
              "      <th>419.4</th>\n",
              "      <th>419.5</th>\n",
              "      <th>419.6</th>\n",
              "      <th>419.7</th>\n",
              "      <th>419.8</th>\n",
              "      <th>419.9</th>\n",
              "      <th>420.0</th>\n",
              "    </tr>\n",
              "  </thead>\n",
              "  <tbody>\n",
              "    <tr>\n",
              "      <th>0</th>\n",
              "      <td>SA230501</td>\n",
              "      <td>16320</td>\n",
              "      <td>90</td>\n",
              "      <td>4.000E-02</td>\n",
              "      <td>9.999E+9</td>\n",
              "      <td>2.000E+00</td>\n",
              "      <td>0.000E+00</td>\n",
              "      <td>999.9</td>\n",
              "      <td>9.999E+9</td>\n",
              "      <td>9.999E+9</td>\n",
              "      <td>...</td>\n",
              "      <td>2.7018E-02</td>\n",
              "      <td>2.6991E-02</td>\n",
              "      <td>2.6701E-02</td>\n",
              "      <td>2.6287E-02</td>\n",
              "      <td>2.5952E-02</td>\n",
              "      <td>2.5509E-02</td>\n",
              "      <td>2.5245E-02</td>\n",
              "      <td>2.5162E-02</td>\n",
              "      <td>2.5195E-02</td>\n",
              "      <td>2.5366E-02</td>\n",
              "    </tr>\n",
              "    <tr>\n",
              "      <th>1</th>\n",
              "      <td>SA230501</td>\n",
              "      <td>16440</td>\n",
              "      <td>90</td>\n",
              "      <td>4.000E-02</td>\n",
              "      <td>9.999E+9</td>\n",
              "      <td>2.000E+00</td>\n",
              "      <td>0.000E+00</td>\n",
              "      <td>999.9</td>\n",
              "      <td>9.999E+9</td>\n",
              "      <td>9.999E+9</td>\n",
              "      <td>...</td>\n",
              "      <td>2.9336E-02</td>\n",
              "      <td>2.9240E-02</td>\n",
              "      <td>2.8847E-02</td>\n",
              "      <td>2.8347E-02</td>\n",
              "      <td>2.7855E-02</td>\n",
              "      <td>2.7341E-02</td>\n",
              "      <td>2.7222E-02</td>\n",
              "      <td>2.7299E-02</td>\n",
              "      <td>2.7362E-02</td>\n",
              "      <td>2.7502E-02</td>\n",
              "    </tr>\n",
              "    <tr>\n",
              "      <th>2</th>\n",
              "      <td>SA230501</td>\n",
              "      <td>16560</td>\n",
              "      <td>90</td>\n",
              "      <td>4.000E-02</td>\n",
              "      <td>9.999E+9</td>\n",
              "      <td>2.000E+00</td>\n",
              "      <td>0.000E+00</td>\n",
              "      <td>999.9</td>\n",
              "      <td>9.999E+9</td>\n",
              "      <td>9.999E+9</td>\n",
              "      <td>...</td>\n",
              "      <td>3.1711E-02</td>\n",
              "      <td>3.1652E-02</td>\n",
              "      <td>3.1280E-02</td>\n",
              "      <td>3.0730E-02</td>\n",
              "      <td>3.0171E-02</td>\n",
              "      <td>2.9663E-02</td>\n",
              "      <td>2.9293E-02</td>\n",
              "      <td>2.9152E-02</td>\n",
              "      <td>2.9222E-02</td>\n",
              "      <td>2.9503E-02</td>\n",
              "    </tr>\n",
              "    <tr>\n",
              "      <th>3</th>\n",
              "      <td>SA230501</td>\n",
              "      <td>16680</td>\n",
              "      <td>90</td>\n",
              "      <td>4.000E-02</td>\n",
              "      <td>9.999E+9</td>\n",
              "      <td>2.000E+00</td>\n",
              "      <td>0.000E+00</td>\n",
              "      <td>999.9</td>\n",
              "      <td>9.999E+9</td>\n",
              "      <td>9.999E+9</td>\n",
              "      <td>...</td>\n",
              "      <td>3.3991E-02</td>\n",
              "      <td>3.3916E-02</td>\n",
              "      <td>3.3599E-02</td>\n",
              "      <td>3.2866E-02</td>\n",
              "      <td>3.2338E-02</td>\n",
              "      <td>3.1786E-02</td>\n",
              "      <td>3.1437E-02</td>\n",
              "      <td>3.1291E-02</td>\n",
              "      <td>3.1311E-02</td>\n",
              "      <td>3.1518E-02</td>\n",
              "    </tr>\n",
              "    <tr>\n",
              "      <th>4</th>\n",
              "      <td>SA230501</td>\n",
              "      <td>16800</td>\n",
              "      <td>80</td>\n",
              "      <td>4.000E-02</td>\n",
              "      <td>9.999E+9</td>\n",
              "      <td>2.000E+00</td>\n",
              "      <td>0.000E+00</td>\n",
              "      <td>999.9</td>\n",
              "      <td>9.999E+9</td>\n",
              "      <td>9.999E+9</td>\n",
              "      <td>...</td>\n",
              "      <td>3.6120E-02</td>\n",
              "      <td>3.5907E-02</td>\n",
              "      <td>3.5448E-02</td>\n",
              "      <td>3.4677E-02</td>\n",
              "      <td>3.4047E-02</td>\n",
              "      <td>3.3592E-02</td>\n",
              "      <td>3.3253E-02</td>\n",
              "      <td>3.3133E-02</td>\n",
              "      <td>3.3251E-02</td>\n",
              "      <td>3.3638E-02</td>\n",
              "    </tr>\n",
              "    <tr>\n",
              "      <th>...</th>\n",
              "      <td>...</td>\n",
              "      <td>...</td>\n",
              "      <td>...</td>\n",
              "      <td>...</td>\n",
              "      <td>...</td>\n",
              "      <td>...</td>\n",
              "      <td>...</td>\n",
              "      <td>...</td>\n",
              "      <td>...</td>\n",
              "      <td>...</td>\n",
              "      <td>...</td>\n",
              "      <td>...</td>\n",
              "      <td>...</td>\n",
              "      <td>...</td>\n",
              "      <td>...</td>\n",
              "      <td>...</td>\n",
              "      <td>...</td>\n",
              "      <td>...</td>\n",
              "      <td>...</td>\n",
              "      <td>...</td>\n",
              "      <td>...</td>\n",
              "    </tr>\n",
              "    <tr>\n",
              "      <th>9906</th>\n",
              "      <td>SA230526</td>\n",
              "      <td>32640</td>\n",
              "      <td>92</td>\n",
              "      <td>4.000E-02</td>\n",
              "      <td>9.999E+9</td>\n",
              "      <td>2.000E+00</td>\n",
              "      <td>0.000E+00</td>\n",
              "      <td>999.9</td>\n",
              "      <td>9.999E+9</td>\n",
              "      <td>9.999E+9</td>\n",
              "      <td>...</td>\n",
              "      <td>9.6278E-01</td>\n",
              "      <td>9.6577E-01</td>\n",
              "      <td>9.5516E-01</td>\n",
              "      <td>9.2853E-01</td>\n",
              "      <td>9.1750E-01</td>\n",
              "      <td>9.0178E-01</td>\n",
              "      <td>8.8908E-01</td>\n",
              "      <td>8.8416E-01</td>\n",
              "      <td>8.8666E-01</td>\n",
              "      <td>8.9575E-01</td>\n",
              "    </tr>\n",
              "    <tr>\n",
              "      <th>9907</th>\n",
              "      <td>SA230526</td>\n",
              "      <td>32760</td>\n",
              "      <td>92</td>\n",
              "      <td>4.000E-02</td>\n",
              "      <td>9.999E+9</td>\n",
              "      <td>2.000E+00</td>\n",
              "      <td>0.000E+00</td>\n",
              "      <td>999.9</td>\n",
              "      <td>9.999E+9</td>\n",
              "      <td>9.999E+9</td>\n",
              "      <td>...</td>\n",
              "      <td>9.9995E-01</td>\n",
              "      <td>9.9957E-01</td>\n",
              "      <td>9.8861E-01</td>\n",
              "      <td>9.6214E-01</td>\n",
              "      <td>9.4860E-01</td>\n",
              "      <td>9.3375E-01</td>\n",
              "      <td>9.1818E-01</td>\n",
              "      <td>9.1090E-01</td>\n",
              "      <td>9.1194E-01</td>\n",
              "      <td>9.1381E-01</td>\n",
              "    </tr>\n",
              "    <tr>\n",
              "      <th>9908</th>\n",
              "      <td>SA230526</td>\n",
              "      <td>32880</td>\n",
              "      <td>102</td>\n",
              "      <td>4.000E-02</td>\n",
              "      <td>9.999E+9</td>\n",
              "      <td>2.000E+00</td>\n",
              "      <td>0.000E+00</td>\n",
              "      <td>999.9</td>\n",
              "      <td>9.999E+9</td>\n",
              "      <td>9.999E+9</td>\n",
              "      <td>...</td>\n",
              "      <td>6.0791E-01</td>\n",
              "      <td>6.0775E-01</td>\n",
              "      <td>5.9800E-01</td>\n",
              "      <td>5.8546E-01</td>\n",
              "      <td>5.7883E-01</td>\n",
              "      <td>5.6677E-01</td>\n",
              "      <td>5.6223E-01</td>\n",
              "      <td>5.5647E-01</td>\n",
              "      <td>5.5597E-01</td>\n",
              "      <td>5.6405E-01</td>\n",
              "    </tr>\n",
              "    <tr>\n",
              "      <th>9909</th>\n",
              "      <td>SA230526</td>\n",
              "      <td>33000</td>\n",
              "      <td>21</td>\n",
              "      <td>99999.999</td>\n",
              "      <td>9.999E+9</td>\n",
              "      <td>99999.99</td>\n",
              "      <td>9.99999E+99</td>\n",
              "      <td>999.9</td>\n",
              "      <td>9.999E+9</td>\n",
              "      <td>9.999E+9</td>\n",
              "      <td>...</td>\n",
              "      <td>None</td>\n",
              "      <td>None</td>\n",
              "      <td>None</td>\n",
              "      <td>None</td>\n",
              "      <td>None</td>\n",
              "      <td>None</td>\n",
              "      <td>None</td>\n",
              "      <td>None</td>\n",
              "      <td>None</td>\n",
              "      <td>None</td>\n",
              "    </tr>\n",
              "    <tr>\n",
              "      <th>9910</th>\n",
              "      <td>SA230526</td>\n",
              "      <td>33120</td>\n",
              "      <td>21</td>\n",
              "      <td>99999.999</td>\n",
              "      <td>9.999E+9</td>\n",
              "      <td>99999.99</td>\n",
              "      <td>9.99999E+99</td>\n",
              "      <td>999.9</td>\n",
              "      <td>9.999E+9</td>\n",
              "      <td>9.999E+9</td>\n",
              "      <td>...</td>\n",
              "      <td>None</td>\n",
              "      <td>None</td>\n",
              "      <td>None</td>\n",
              "      <td>None</td>\n",
              "      <td>None</td>\n",
              "      <td>None</td>\n",
              "      <td>None</td>\n",
              "      <td>None</td>\n",
              "      <td>None</td>\n",
              "      <td>None</td>\n",
              "    </tr>\n",
              "  </tbody>\n",
              "</table>\n",
              "<p>9911 rows × 1319 columns</p>\n",
              "</div>\n",
              "    <div class=\"colab-df-buttons\">\n",
              "\n",
              "  <div class=\"colab-df-container\">\n",
              "    <button class=\"colab-df-convert\" onclick=\"convertToInteractive('df-ff30db9d-4093-46f9-99c8-88cf64771ca9')\"\n",
              "            title=\"Convert this dataframe to an interactive table.\"\n",
              "            style=\"display:none;\">\n",
              "\n",
              "  <svg xmlns=\"http://www.w3.org/2000/svg\" height=\"24px\" viewBox=\"0 -960 960 960\">\n",
              "    <path d=\"M120-120v-720h720v720H120Zm60-500h600v-160H180v160Zm220 220h160v-160H400v160Zm0 220h160v-160H400v160ZM180-400h160v-160H180v160Zm440 0h160v-160H620v160ZM180-180h160v-160H180v160Zm440 0h160v-160H620v160Z\"/>\n",
              "  </svg>\n",
              "    </button>\n",
              "\n",
              "  <style>\n",
              "    .colab-df-container {\n",
              "      display:flex;\n",
              "      gap: 12px;\n",
              "    }\n",
              "\n",
              "    .colab-df-convert {\n",
              "      background-color: #E8F0FE;\n",
              "      border: none;\n",
              "      border-radius: 50%;\n",
              "      cursor: pointer;\n",
              "      display: none;\n",
              "      fill: #1967D2;\n",
              "      height: 32px;\n",
              "      padding: 0 0 0 0;\n",
              "      width: 32px;\n",
              "    }\n",
              "\n",
              "    .colab-df-convert:hover {\n",
              "      background-color: #E2EBFA;\n",
              "      box-shadow: 0px 1px 2px rgba(60, 64, 67, 0.3), 0px 1px 3px 1px rgba(60, 64, 67, 0.15);\n",
              "      fill: #174EA6;\n",
              "    }\n",
              "\n",
              "    .colab-df-buttons div {\n",
              "      margin-bottom: 4px;\n",
              "    }\n",
              "\n",
              "    [theme=dark] .colab-df-convert {\n",
              "      background-color: #3B4455;\n",
              "      fill: #D2E3FC;\n",
              "    }\n",
              "\n",
              "    [theme=dark] .colab-df-convert:hover {\n",
              "      background-color: #434B5C;\n",
              "      box-shadow: 0px 1px 3px 1px rgba(0, 0, 0, 0.15);\n",
              "      filter: drop-shadow(0px 1px 2px rgba(0, 0, 0, 0.3));\n",
              "      fill: #FFFFFF;\n",
              "    }\n",
              "  </style>\n",
              "\n",
              "    <script>\n",
              "      const buttonEl =\n",
              "        document.querySelector('#df-ff30db9d-4093-46f9-99c8-88cf64771ca9 button.colab-df-convert');\n",
              "      buttonEl.style.display =\n",
              "        google.colab.kernel.accessAllowed ? 'block' : 'none';\n",
              "\n",
              "      async function convertToInteractive(key) {\n",
              "        const element = document.querySelector('#df-ff30db9d-4093-46f9-99c8-88cf64771ca9');\n",
              "        const dataTable =\n",
              "          await google.colab.kernel.invokeFunction('convertToInteractive',\n",
              "                                                    [key], {});\n",
              "        if (!dataTable) return;\n",
              "\n",
              "        const docLinkHtml = 'Like what you see? Visit the ' +\n",
              "          '<a target=\"_blank\" href=https://colab.research.google.com/notebooks/data_table.ipynb>data table notebook</a>'\n",
              "          + ' to learn more about interactive tables.';\n",
              "        element.innerHTML = '';\n",
              "        dataTable['output_type'] = 'display_data';\n",
              "        await google.colab.output.renderOutput(dataTable, element);\n",
              "        const docLink = document.createElement('div');\n",
              "        docLink.innerHTML = docLinkHtml;\n",
              "        element.appendChild(docLink);\n",
              "      }\n",
              "    </script>\n",
              "  </div>\n",
              "\n",
              "\n",
              "<div id=\"df-0621d8b8-6dbb-4f49-a0aa-ced370225874\">\n",
              "  <button class=\"colab-df-quickchart\" onclick=\"quickchart('df-0621d8b8-6dbb-4f49-a0aa-ced370225874')\"\n",
              "            title=\"Suggest charts\"\n",
              "            style=\"display:none;\">\n",
              "\n",
              "<svg xmlns=\"http://www.w3.org/2000/svg\" height=\"24px\"viewBox=\"0 0 24 24\"\n",
              "     width=\"24px\">\n",
              "    <g>\n",
              "        <path d=\"M19 3H5c-1.1 0-2 .9-2 2v14c0 1.1.9 2 2 2h14c1.1 0 2-.9 2-2V5c0-1.1-.9-2-2-2zM9 17H7v-7h2v7zm4 0h-2V7h2v10zm4 0h-2v-4h2v4z\"/>\n",
              "    </g>\n",
              "</svg>\n",
              "  </button>\n",
              "\n",
              "<style>\n",
              "  .colab-df-quickchart {\n",
              "      --bg-color: #E8F0FE;\n",
              "      --fill-color: #1967D2;\n",
              "      --hover-bg-color: #E2EBFA;\n",
              "      --hover-fill-color: #174EA6;\n",
              "      --disabled-fill-color: #AAA;\n",
              "      --disabled-bg-color: #DDD;\n",
              "  }\n",
              "\n",
              "  [theme=dark] .colab-df-quickchart {\n",
              "      --bg-color: #3B4455;\n",
              "      --fill-color: #D2E3FC;\n",
              "      --hover-bg-color: #434B5C;\n",
              "      --hover-fill-color: #FFFFFF;\n",
              "      --disabled-bg-color: #3B4455;\n",
              "      --disabled-fill-color: #666;\n",
              "  }\n",
              "\n",
              "  .colab-df-quickchart {\n",
              "    background-color: var(--bg-color);\n",
              "    border: none;\n",
              "    border-radius: 50%;\n",
              "    cursor: pointer;\n",
              "    display: none;\n",
              "    fill: var(--fill-color);\n",
              "    height: 32px;\n",
              "    padding: 0;\n",
              "    width: 32px;\n",
              "  }\n",
              "\n",
              "  .colab-df-quickchart:hover {\n",
              "    background-color: var(--hover-bg-color);\n",
              "    box-shadow: 0 1px 2px rgba(60, 64, 67, 0.3), 0 1px 3px 1px rgba(60, 64, 67, 0.15);\n",
              "    fill: var(--button-hover-fill-color);\n",
              "  }\n",
              "\n",
              "  .colab-df-quickchart-complete:disabled,\n",
              "  .colab-df-quickchart-complete:disabled:hover {\n",
              "    background-color: var(--disabled-bg-color);\n",
              "    fill: var(--disabled-fill-color);\n",
              "    box-shadow: none;\n",
              "  }\n",
              "\n",
              "  .colab-df-spinner {\n",
              "    border: 2px solid var(--fill-color);\n",
              "    border-color: transparent;\n",
              "    border-bottom-color: var(--fill-color);\n",
              "    animation:\n",
              "      spin 1s steps(1) infinite;\n",
              "  }\n",
              "\n",
              "  @keyframes spin {\n",
              "    0% {\n",
              "      border-color: transparent;\n",
              "      border-bottom-color: var(--fill-color);\n",
              "      border-left-color: var(--fill-color);\n",
              "    }\n",
              "    20% {\n",
              "      border-color: transparent;\n",
              "      border-left-color: var(--fill-color);\n",
              "      border-top-color: var(--fill-color);\n",
              "    }\n",
              "    30% {\n",
              "      border-color: transparent;\n",
              "      border-left-color: var(--fill-color);\n",
              "      border-top-color: var(--fill-color);\n",
              "      border-right-color: var(--fill-color);\n",
              "    }\n",
              "    40% {\n",
              "      border-color: transparent;\n",
              "      border-right-color: var(--fill-color);\n",
              "      border-top-color: var(--fill-color);\n",
              "    }\n",
              "    60% {\n",
              "      border-color: transparent;\n",
              "      border-right-color: var(--fill-color);\n",
              "    }\n",
              "    80% {\n",
              "      border-color: transparent;\n",
              "      border-right-color: var(--fill-color);\n",
              "      border-bottom-color: var(--fill-color);\n",
              "    }\n",
              "    90% {\n",
              "      border-color: transparent;\n",
              "      border-bottom-color: var(--fill-color);\n",
              "    }\n",
              "  }\n",
              "</style>\n",
              "\n",
              "  <script>\n",
              "    async function quickchart(key) {\n",
              "      const quickchartButtonEl =\n",
              "        document.querySelector('#' + key + ' button');\n",
              "      quickchartButtonEl.disabled = true;  // To prevent multiple clicks.\n",
              "      quickchartButtonEl.classList.add('colab-df-spinner');\n",
              "      try {\n",
              "        const charts = await google.colab.kernel.invokeFunction(\n",
              "            'suggestCharts', [key], {});\n",
              "      } catch (error) {\n",
              "        console.error('Error during call to suggestCharts:', error);\n",
              "      }\n",
              "      quickchartButtonEl.classList.remove('colab-df-spinner');\n",
              "      quickchartButtonEl.classList.add('colab-df-quickchart-complete');\n",
              "    }\n",
              "    (() => {\n",
              "      let quickchartButtonEl =\n",
              "        document.querySelector('#df-0621d8b8-6dbb-4f49-a0aa-ced370225874 button');\n",
              "      quickchartButtonEl.style.display =\n",
              "        google.colab.kernel.accessAllowed ? 'block' : 'none';\n",
              "    })();\n",
              "  </script>\n",
              "</div>\n",
              "    </div>\n",
              "  </div>\n"
            ],
            "application/vnd.google.colaboratory.intrinsic+json": {
              "type": "dataframe",
              "variable_name": "df_rows"
            }
          },
          "metadata": {},
          "execution_count": 50
        },
        {
          "output_type": "stream",
          "name": "stdout",
          "text": [
            "Warning: Total number of columns (1319) exceeds max_columns (20) limiting to first (20) columns.\n"
          ]
        }
      ]
    },
    {
      "cell_type": "markdown",
      "source": [
        "##Konvertieren des DF:"
      ],
      "metadata": {
        "id": "hEUUcL5RuL_t"
      }
    },
    {
      "cell_type": "code",
      "source": [
        "# Bestimme die Indexposition, ab der die neuen Spaltennamen zugewiesen werden sollen\n",
        "start_index = 18  # Beginne ab der 18ten Spalte um an die Messdaten zu kommen\n",
        "\n",
        "new_column_names = []\n",
        "\n",
        "# Extrahiere die neuen Spaltennamen aus dem zweiten DataFrame\n",
        "new_column_names = df_Wellenlaenge['Wellenlaenge'].tolist()\n",
        "print(new_column_names)\n",
        "\n",
        "# Ändere die Spaltennamen des DataFrames ab der angegebenen Indexposition\n",
        "for i, new_name in enumerate(new_column_names):\n",
        "    df_Messdaten.columns.values[start_index + i] = new_name"
      ],
      "metadata": {
        "id": "HK9mS7hkjQGB",
        "colab": {
          "base_uri": "https://localhost:8080/"
        },
        "outputId": "d8b7c92f-67f9-4efa-87de-714402d6c2a5"
      },
      "execution_count": 20,
      "outputs": [
        {
          "output_type": "stream",
          "name": "stdout",
          "text": [
            "[290.0, 290.1, 290.2, 290.3, 290.4, 290.5, 290.6, 290.7, 290.8, 290.9, 291.0, 291.1, 291.2, 291.3, 291.4, 291.5, 291.6, 291.7, 291.8, 291.9, 292.0, 292.1, 292.2, 292.3, 292.4, 292.5, 292.6, 292.7, 292.8, 292.9, 293.0, 293.1, 293.2, 293.3, 293.4, 293.5, 293.6, 293.7, 293.8, 293.9, 294.0, 294.1, 294.2, 294.3, 294.4, 294.5, 294.6, 294.7, 294.8, 294.9, 295.0, 295.1, 295.2, 295.3, 295.4, 295.5, 295.6, 295.7, 295.8, 295.9, 296.0, 296.1, 296.2, 296.3, 296.4, 296.5, 296.6, 296.7, 296.8, 296.9, 297.0, 297.1, 297.2, 297.3, 297.4, 297.5, 297.6, 297.7, 297.8, 297.9, 298.0, 298.1, 298.2, 298.3, 298.4, 298.5, 298.6, 298.7, 298.8, 298.9, 299.0, 299.1, 299.2, 299.3, 299.4, 299.5, 299.6, 299.7, 299.8, 299.9, 300.0, 300.1, 300.2, 300.3, 300.4, 300.5, 300.6, 300.7, 300.8, 300.9, 301.0, 301.1, 301.2, 301.3, 301.4, 301.5, 301.6, 301.7, 301.8, 301.9, 302.0, 302.1, 302.2, 302.3, 302.4, 302.5, 302.6, 302.7, 302.8, 302.9, 303.0, 303.1, 303.2, 303.3, 303.4, 303.5, 303.6, 303.7, 303.8, 303.9, 304.0, 304.1, 304.2, 304.3, 304.4, 304.5, 304.6, 304.7, 304.8, 304.9, 305.0, 305.1, 305.2, 305.3, 305.4, 305.5, 305.6, 305.7, 305.8, 305.9, 306.0, 306.1, 306.2, 306.3, 306.4, 306.5, 306.6, 306.7, 306.8, 306.9, 307.0, 307.1, 307.2, 307.3, 307.4, 307.5, 307.6, 307.7, 307.8, 307.9, 308.0, 308.1, 308.2, 308.3, 308.4, 308.5, 308.6, 308.7, 308.8, 308.9, 309.0, 309.1, 309.2, 309.3, 309.4, 309.5, 309.6, 309.7, 309.8, 309.9, 310.0, 310.1, 310.2, 310.3, 310.4, 310.5, 310.6, 310.7, 310.8, 310.9, 311.0, 311.1, 311.2, 311.3, 311.4, 311.5, 311.6, 311.7, 311.8, 311.9, 312.0, 312.1, 312.2, 312.3, 312.4, 312.5, 312.6, 312.7, 312.8, 312.9, 313.0, 313.1, 313.2, 313.3, 313.4, 313.5, 313.6, 313.7, 313.8, 313.9, 314.0, 314.1, 314.2, 314.3, 314.4, 314.5, 314.6, 314.7, 314.8, 314.9, 315.0, 315.1, 315.2, 315.3, 315.4, 315.5, 315.6, 315.7, 315.8, 315.9, 316.0, 316.1, 316.2, 316.3, 316.4, 316.5, 316.6, 316.7, 316.8, 316.9, 317.0, 317.1, 317.2, 317.3, 317.4, 317.5, 317.6, 317.7, 317.8, 317.9, 318.0, 318.1, 318.2, 318.3, 318.4, 318.5, 318.6, 318.7, 318.8, 318.9, 319.0, 319.1, 319.2, 319.3, 319.4, 319.5, 319.6, 319.7, 319.8, 319.9, 320.0, 320.1, 320.2, 320.3, 320.4, 320.5, 320.6, 320.7, 320.8, 320.9, 321.0, 321.1, 321.2, 321.3, 321.4, 321.5, 321.6, 321.7, 321.8, 321.9, 322.0, 322.1, 322.2, 322.3, 322.4, 322.5, 322.6, 322.7, 322.8, 322.9, 323.0, 323.1, 323.2, 323.3, 323.4, 323.5, 323.6, 323.7, 323.8, 323.9, 324.0, 324.1, 324.2, 324.3, 324.4, 324.5, 324.6, 324.7, 324.8, 324.9, 325.0, 325.1, 325.2, 325.3, 325.4, 325.5, 325.6, 325.7, 325.8, 325.9, 326.0, 326.1, 326.2, 326.3, 326.4, 326.5, 326.6, 326.7, 326.8, 326.9, 327.0, 327.1, 327.2, 327.3, 327.4, 327.5, 327.6, 327.7, 327.8, 327.9, 328.0, 328.1, 328.2, 328.3, 328.4, 328.5, 328.6, 328.7, 328.8, 328.9, 329.0, 329.1, 329.2, 329.3, 329.4, 329.5, 329.6, 329.7, 329.8, 329.9, 330.0, 330.1, 330.2, 330.3, 330.4, 330.5, 330.6, 330.7, 330.8, 330.9, 331.0, 331.1, 331.2, 331.3, 331.4, 331.5, 331.6, 331.7, 331.8, 331.9, 332.0, 332.1, 332.2, 332.3, 332.4, 332.5, 332.6, 332.7, 332.8, 332.9, 333.0, 333.1, 333.2, 333.3, 333.4, 333.5, 333.6, 333.7, 333.8, 333.9, 334.0, 334.1, 334.2, 334.3, 334.4, 334.5, 334.6, 334.7, 334.8, 334.9, 335.0, 335.1, 335.2, 335.3, 335.4, 335.5, 335.6, 335.7, 335.8, 335.9, 336.0, 336.1, 336.2, 336.3, 336.4, 336.5, 336.6, 336.7, 336.8, 336.9, 337.0, 337.1, 337.2, 337.3, 337.4, 337.5, 337.6, 337.7, 337.8, 337.9, 338.0, 338.1, 338.2, 338.3, 338.4, 338.5, 338.6, 338.7, 338.8, 338.9, 339.0, 339.1, 339.2, 339.3, 339.4, 339.5, 339.6, 339.7, 339.8, 339.9, 340.0, 340.1, 340.2, 340.3, 340.4, 340.5, 340.6, 340.7, 340.8, 340.9, 341.0, 341.1, 341.2, 341.3, 341.4, 341.5, 341.6, 341.7, 341.8, 341.9, 342.0, 342.1, 342.2, 342.3, 342.4, 342.5, 342.6, 342.7, 342.8, 342.9, 343.0, 343.1, 343.2, 343.3, 343.4, 343.5, 343.6, 343.7, 343.8, 343.9, 344.0, 344.1, 344.2, 344.3, 344.4, 344.5, 344.6, 344.7, 344.8, 344.9, 345.0, 345.1, 345.2, 345.3, 345.4, 345.5, 345.6, 345.7, 345.8, 345.9, 346.0, 346.1, 346.2, 346.3, 346.4, 346.5, 346.6, 346.7, 346.8, 346.9, 347.0, 347.1, 347.2, 347.3, 347.4, 347.5, 347.6, 347.7, 347.8, 347.9, 348.0, 348.1, 348.2, 348.3, 348.4, 348.5, 348.6, 348.7, 348.8, 348.9, 349.0, 349.1, 349.2, 349.3, 349.4, 349.5, 349.6, 349.7, 349.8, 349.9, 350.0, 350.1, 350.2, 350.3, 350.4, 350.5, 350.6, 350.7, 350.8, 350.9, 351.0, 351.1, 351.2, 351.3, 351.4, 351.5, 351.6, 351.7, 351.8, 351.9, 352.0, 352.1, 352.2, 352.3, 352.4, 352.5, 352.6, 352.7, 352.8, 352.9, 353.0, 353.1, 353.2, 353.3, 353.4, 353.5, 353.6, 353.7, 353.8, 353.9, 354.0, 354.1, 354.2, 354.3, 354.4, 354.5, 354.6, 354.7, 354.8, 354.9, 355.0, 355.1, 355.2, 355.3, 355.4, 355.5, 355.6, 355.7, 355.8, 355.9, 356.0, 356.1, 356.2, 356.3, 356.4, 356.5, 356.6, 356.7, 356.8, 356.9, 357.0, 357.1, 357.2, 357.3, 357.4, 357.5, 357.6, 357.7, 357.8, 357.9, 358.0, 358.1, 358.2, 358.3, 358.4, 358.5, 358.6, 358.7, 358.8, 358.9, 359.0, 359.1, 359.2, 359.3, 359.4, 359.5, 359.6, 359.7, 359.8, 359.9, 360.0, 360.1, 360.2, 360.3, 360.4, 360.5, 360.6, 360.7, 360.8, 360.9, 361.0, 361.1, 361.2, 361.3, 361.4, 361.5, 361.6, 361.7, 361.8, 361.9, 362.0, 362.1, 362.2, 362.3, 362.4, 362.5, 362.6, 362.7, 362.8, 362.9, 363.0, 363.1, 363.2, 363.3, 363.4, 363.5, 363.6, 363.7, 363.8, 363.9, 364.0, 364.1, 364.2, 364.3, 364.4, 364.5, 364.6, 364.7, 364.8, 364.9, 365.0, 365.1, 365.2, 365.3, 365.4, 365.5, 365.6, 365.7, 365.8, 365.9, 366.0, 366.1, 366.2, 366.3, 366.4, 366.5, 366.6, 366.7, 366.8, 366.9, 367.0, 367.1, 367.2, 367.3, 367.4, 367.5, 367.6, 367.7, 367.8, 367.9, 368.0, 368.1, 368.2, 368.3, 368.4, 368.5, 368.6, 368.7, 368.8, 368.9, 369.0, 369.1, 369.2, 369.3, 369.4, 369.5, 369.6, 369.7, 369.8, 369.9, 370.0, 370.1, 370.2, 370.3, 370.4, 370.5, 370.6, 370.7, 370.8, 370.9, 371.0, 371.1, 371.2, 371.3, 371.4, 371.5, 371.6, 371.7, 371.8, 371.9, 372.0, 372.1, 372.2, 372.3, 372.4, 372.5, 372.6, 372.7, 372.8, 372.9, 373.0, 373.1, 373.2, 373.3, 373.4, 373.5, 373.6, 373.7, 373.8, 373.9, 374.0, 374.1, 374.2, 374.3, 374.4, 374.5, 374.6, 374.7, 374.8, 374.9, 375.0, 375.1, 375.2, 375.3, 375.4, 375.5, 375.6, 375.7, 375.8, 375.9, 376.0, 376.1, 376.2, 376.3, 376.4, 376.5, 376.6, 376.7, 376.8, 376.9, 377.0, 377.1, 377.2, 377.3, 377.4, 377.5, 377.6, 377.7, 377.8, 377.9, 378.0, 378.1, 378.2, 378.3, 378.4, 378.5, 378.6, 378.7, 378.8, 378.9, 379.0, 379.1, 379.2, 379.3, 379.4, 379.5, 379.6, 379.7, 379.8, 379.9, 380.0, 380.1, 380.2, 380.3, 380.4, 380.5, 380.6, 380.7, 380.8, 380.9, 381.0, 381.1, 381.2, 381.3, 381.4, 381.5, 381.6, 381.7, 381.8, 381.9, 382.0, 382.1, 382.2, 382.3, 382.4, 382.5, 382.6, 382.7, 382.8, 382.9, 383.0, 383.1, 383.2, 383.3, 383.4, 383.5, 383.6, 383.7, 383.8, 383.9, 384.0, 384.1, 384.2, 384.3, 384.4, 384.5, 384.6, 384.7, 384.8, 384.9, 385.0, 385.1, 385.2, 385.3, 385.4, 385.5, 385.6, 385.7, 385.8, 385.9, 386.0, 386.1, 386.2, 386.3, 386.4, 386.5, 386.6, 386.7, 386.8, 386.9, 387.0, 387.1, 387.2, 387.3, 387.4, 387.5, 387.6, 387.7, 387.8, 387.9, 388.0, 388.1, 388.2, 388.3, 388.4, 388.5, 388.6, 388.7, 388.8, 388.9, 389.0, 389.1, 389.2, 389.3, 389.4, 389.5, 389.6, 389.7, 389.8, 389.9, 390.0, 390.1, 390.2, 390.3, 390.4, 390.5, 390.6, 390.7, 390.8, 390.9, 391.0, 391.1, 391.2, 391.3, 391.4, 391.5, 391.6, 391.7, 391.8, 391.9, 392.0, 392.1, 392.2, 392.3, 392.4, 392.5, 392.6, 392.7, 392.8, 392.9, 393.0, 393.1, 393.2, 393.3, 393.4, 393.5, 393.6, 393.7, 393.8, 393.9, 394.0, 394.1, 394.2, 394.3, 394.4, 394.5, 394.6, 394.7, 394.8, 394.9, 395.0, 395.1, 395.2, 395.3, 395.4, 395.5, 395.6, 395.7, 395.8, 395.9, 396.0, 396.1, 396.2, 396.3, 396.4, 396.5, 396.6, 396.7, 396.8, 396.9, 397.0, 397.1, 397.2, 397.3, 397.4, 397.5, 397.6, 397.7, 397.8, 397.9, 398.0, 398.1, 398.2, 398.3, 398.4, 398.5, 398.6, 398.7, 398.8, 398.9, 399.0, 399.1, 399.2, 399.3, 399.4, 399.5, 399.6, 399.7, 399.8, 399.9, 400.0, 400.1, 400.2, 400.3, 400.4, 400.5, 400.6, 400.7, 400.8, 400.9, 401.0, 401.1, 401.2, 401.3, 401.4, 401.5, 401.6, 401.7, 401.8, 401.9, 402.0, 402.1, 402.2, 402.3, 402.4, 402.5, 402.6, 402.7, 402.8, 402.9, 403.0, 403.1, 403.2, 403.3, 403.4, 403.5, 403.6, 403.7, 403.8, 403.9, 404.0, 404.1, 404.2, 404.3, 404.4, 404.5, 404.6, 404.7, 404.8, 404.9, 405.0, 405.1, 405.2, 405.3, 405.4, 405.5, 405.6, 405.7, 405.8, 405.9, 406.0, 406.1, 406.2, 406.3, 406.4, 406.5, 406.6, 406.7, 406.8, 406.9, 407.0, 407.1, 407.2, 407.3, 407.4, 407.5, 407.6, 407.7, 407.8, 407.9, 408.0, 408.1, 408.2, 408.3, 408.4, 408.5, 408.6, 408.7, 408.8, 408.9, 409.0, 409.1, 409.2, 409.3, 409.4, 409.5, 409.6, 409.7, 409.8, 409.9, 410.0, 410.1, 410.2, 410.3, 410.4, 410.5, 410.6, 410.7, 410.8, 410.9, 411.0, 411.1, 411.2, 411.3, 411.4, 411.5, 411.6, 411.7, 411.8, 411.9, 412.0, 412.1, 412.2, 412.3, 412.4, 412.5, 412.6, 412.7, 412.8, 412.9, 413.0, 413.1, 413.2, 413.3, 413.4, 413.5, 413.6, 413.7, 413.8, 413.9, 414.0, 414.1, 414.2, 414.3, 414.4, 414.5, 414.6, 414.7, 414.8, 414.9, 415.0, 415.1, 415.2, 415.3, 415.4, 415.5, 415.6, 415.7, 415.8, 415.9, 416.0, 416.1, 416.2, 416.3, 416.4, 416.5, 416.6, 416.7, 416.8, 416.9, 417.0, 417.1, 417.2, 417.3, 417.4, 417.5, 417.6, 417.7, 417.8, 417.9, 418.0, 418.1, 418.2, 418.3, 418.4, 418.5, 418.6, 418.7, 418.8, 418.9, 419.0, 419.1, 419.2, 419.3, 419.4, 419.5, 419.6, 419.7, 419.8, 419.9, 420.0]\n"
          ]
        }
      ]
    },
    {
      "cell_type": "code",
      "source": [
        "# df_Messdaten"
      ],
      "metadata": {
        "id": "FYgIYarXhCIc"
      },
      "execution_count": 21,
      "outputs": []
    },
    {
      "cell_type": "code",
      "source": [
        "# Splaten in float umwandeln\n",
        "for spalte in new_column_names:\n",
        "    # Konvertiere nur, wenn die Spalte im DataFrame existiert\n",
        "    if str(spalte) in df_Messdaten.columns:\n",
        "        df_Messdaten[str(spalte)] = df_Messdaten[str(spalte)].astype(float)"
      ],
      "metadata": {
        "id": "mIi1pCXGsjJe"
      },
      "execution_count": 22,
      "outputs": []
    },
    {
      "cell_type": "code",
      "source": [
        "# Funktion zum Konvertieren des Datumsformats\n",
        "def convert_date_format(date_str):\n",
        "    date_str = date_str[2:]  # Entferne das \"SA\"-Präfix\n",
        "    date_obj = datetime.strptime(date_str, \"%y%m%d\")\n",
        "    return date_obj"
      ],
      "metadata": {
        "id": "QMcU_jOo6MlD"
      },
      "execution_count": 23,
      "outputs": []
    },
    {
      "cell_type": "code",
      "source": [
        "# Wende die Funktion auf die Spalte an\n",
        "df_Messdaten['Datum'] = df_Messdaten['Datum'].apply(convert_date_format)"
      ],
      "metadata": {
        "id": "3ymirsQx747Z"
      },
      "execution_count": 24,
      "outputs": []
    },
    {
      "cell_type": "markdown",
      "source": [
        "## Export und Import:\n",
        " !Dataframe muss exportiert und wieder importiert werden, damit die Zeilen ordnungsgemäß gelöscht werden können!"
      ],
      "metadata": {
        "id": "hNL9z9a0N1Sx"
      }
    },
    {
      "cell_type": "code",
      "source": [
        "def save_dataframe_to_drive(dataframe, folder_path, filename):\n",
        "\n",
        "    # Erstelle den vollen Pfad zur Datei\n",
        "    full_path = os.path.join(folder_path, filename)\n",
        "\n",
        "    # Speichere den DataFrame als CSV-Datei auf Google Drive\n",
        "    dataframe.to_csv(full_path, index=False)\n",
        "\n",
        "    print(f'Der DataFrame wurde als {filename} in {folder_path} auf Google Drive gespeichert.')"
      ],
      "metadata": {
        "id": "w8FRjN2a0pic"
      },
      "execution_count": 25,
      "outputs": []
    },
    {
      "cell_type": "code",
      "source": [
        "# Dataframe abspeichern und wieder importieren\n",
        "folder_path2 = '/content/drive/My Drive/Colab_Notebooks/CSV_Zwischenspeicher/'\n",
        "save_dataframe_to_drive(df_Messdaten, folder_path2, month)"
      ],
      "metadata": {
        "id": "J8HZF6_0l9Ae",
        "colab": {
          "base_uri": "https://localhost:8080/"
        },
        "outputId": "daca19b4-cdb4-4a63-a0e1-fc0a25add407"
      },
      "execution_count": 26,
      "outputs": [
        {
          "output_type": "stream",
          "name": "stdout",
          "text": [
            "Der DataFrame wurde als 23.05 in /content/drive/My Drive/Colab_Notebooks/CSV_Zwischenspeicher/ auf Google Drive gespeichert.\n"
          ]
        }
      ]
    },
    {
      "cell_type": "code",
      "source": [
        "df_Messdaten_drop = pd.DataFrame()\n",
        "df_drop = pd.DataFrame()\n",
        "df_drop = pd.read_csv(folder_path2 + month)"
      ],
      "metadata": {
        "id": "jJEYuId5m1CZ"
      },
      "execution_count": 27,
      "outputs": []
    },
    {
      "cell_type": "markdown",
      "source": [
        "## Löschen nicht gebrauchter Spalten:"
      ],
      "metadata": {
        "id": "VnkuDSYyppPR"
      }
    },
    {
      "cell_type": "code",
      "source": [
        "spalten_zum_loeschen = df_drop.columns[2:18]  # Index 3 bis Index 19\n",
        "df_Messdaten_drop = df_drop.drop(spalten_zum_loeschen, axis=1).copy()"
      ],
      "metadata": {
        "id": "wqjrgDVjk70T"
      },
      "execution_count": 28,
      "outputs": []
    },
    {
      "cell_type": "code",
      "source": [
        "# Umbenennen der Spalte mit dem Zeitstempel\n",
        "df_Messdaten_drop.rename(columns={'Wert1': 'Messzeitpunkt'}, inplace=True)"
      ],
      "metadata": {
        "id": "6_sh7TVXcPqB"
      },
      "execution_count": 29,
      "outputs": []
    },
    {
      "cell_type": "code",
      "source": [
        "# df_Messdaten_drop"
      ],
      "metadata": {
        "id": "2zsIqOGrk-K3"
      },
      "execution_count": 30,
      "outputs": []
    },
    {
      "cell_type": "code",
      "source": [
        "# print(df_Messdaten.isnull().sum(), df_Messdaten_drop.isnull().sum())"
      ],
      "metadata": {
        "id": "tbYaaFvtpQBF"
      },
      "execution_count": 31,
      "outputs": []
    },
    {
      "cell_type": "code",
      "source": [
        "df_Messdaten_drop.columns"
      ],
      "metadata": {
        "id": "H50uAN6ooqTR",
        "colab": {
          "base_uri": "https://localhost:8080/"
        },
        "outputId": "a8ee87b7-b2b1-4aa9-a4d4-13917ebc61a5"
      },
      "execution_count": 32,
      "outputs": [
        {
          "output_type": "execute_result",
          "data": {
            "text/plain": [
              "Index(['Datum', 'Messzeitpunkt', '290.0', '290.1', '290.2', '290.3', '290.4',\n",
              "       '290.5', '290.6', '290.7',\n",
              "       ...\n",
              "       '419.1', '419.2', '419.3', '419.4', '419.5', '419.6', '419.7', '419.8',\n",
              "       '419.9', '420.0'],\n",
              "      dtype='object', length=1303)"
            ]
          },
          "metadata": {},
          "execution_count": 32
        }
      ]
    },
    {
      "cell_type": "markdown",
      "source": [
        "## Zeitstempel in Uhrzeit decodieren:\n",
        "\n",
        "Der Zeitstempel ist als Zeit in Sekunden ab Tagesbeginn codiert und wir in eine Uhrzeit umgewandelt."
      ],
      "metadata": {
        "id": "trCCCWT_p6HN"
      }
    },
    {
      "cell_type": "code",
      "source": [
        "def seconds_to_time(seconds):\n",
        "    # Sicherstellen, dass die Eingabe eine Ganzzahl ist\n",
        "    if not isinstance(seconds, int):\n",
        "        raise ValueError(\"Die Eingabe muss eine Ganzzahl sein\")\n",
        "\n",
        "    # Sicherstellen, dass die Eingabe im Bereich eines Tages liegt\n",
        "    if seconds < 0 or seconds >= 24*60*60:\n",
        "        raise ValueError(\"Die Eingabe muss zwischen 0 und 86399 Sekunden liegen\")\n",
        "\n",
        "    # Erstellen eines datetime.time-Objekts aus den Sekunden\n",
        "    return (datetime.min + timedelta(seconds=seconds)).time()"
      ],
      "metadata": {
        "id": "Qo3UqmUGbLJF"
      },
      "execution_count": 33,
      "outputs": []
    },
    {
      "cell_type": "markdown",
      "source": [
        "Die Splate Uhrzeit gibt es noch nicht und muss noch eingefügt werden."
      ],
      "metadata": {
        "id": "_OWBjwQaKsN-"
      }
    },
    {
      "cell_type": "code",
      "source": [
        "df_Messdaten_drop.insert(1, 'Uhrzeit', df_Messdaten_drop['Messzeitpunkt'].apply(seconds_to_time))"
      ],
      "metadata": {
        "id": "F9An-Y14bDzD"
      },
      "execution_count": 34,
      "outputs": []
    },
    {
      "cell_type": "code",
      "source": [
        "# df_Messdaten_drop"
      ],
      "metadata": {
        "id": "I5szUUFEbNs-"
      },
      "execution_count": 35,
      "outputs": []
    },
    {
      "cell_type": "markdown",
      "source": [
        "## Splaten umbennen und ordnen\n",
        "spalte_uhrzeit = pd.to_datetime(df_Messdaten_drop['Wert1'], unit='s').dt.time\n",
        "\n",
        "print(spalte_uhrzeit)\n",
        "\n",
        "position = 1\n",
        "df_Messdaten_drop.insert(position, 'Uhrzeit', spalte_uhrzeit)\n",
        "\n",
        "spaltenname = 'Messzeitpunkt'\n",
        "df_Messdaten_drop.rename(columns={'Wert1': spaltenname}, inplace=True)"
      ],
      "metadata": {
        "id": "RUMO_4LRKVfs"
      }
    },
    {
      "cell_type": "code",
      "source": [
        "# Datum Spalte einfügen\n",
        "df_Messdaten_drop['Datum'] = pd.to_datetime(df_Messdaten_drop['Datum'], format=\"%Y-%m-%d\").dt.date\n",
        "# Datetime Spalte einfügen\n",
        "df_Messdaten_drop['Datetime'] = df_Messdaten_drop.apply(lambda row: datetime.combine(row['Datum'], row['Uhrzeit']), axis=1)\n",
        "\n",
        "# Datetime Spalte an den Index 0 verschieben\n",
        "df_Messdaten_drop.insert(0, 'Datetime', df_Messdaten_drop.pop('Datetime'))"
      ],
      "metadata": {
        "id": "XWd1u0bkm4Y8"
      },
      "execution_count": 36,
      "outputs": []
    },
    {
      "cell_type": "code",
      "source": [
        "# df_Messdaten_drop"
      ],
      "metadata": {
        "id": "U4i77KdFzcVD"
      },
      "execution_count": 37,
      "outputs": []
    },
    {
      "cell_type": "markdown",
      "source": [
        "## Allgemeine Informationen über den Dataframe:"
      ],
      "metadata": {
        "id": "yBJ_HtttaxJl"
      }
    },
    {
      "cell_type": "markdown",
      "source": [
        "Es gibt ein paar Ausreißer in den Messdaten, die im Folgenden gelöscht werden."
      ],
      "metadata": {
        "id": "8cUq_J8Pq5iq"
      }
    },
    {
      "cell_type": "code",
      "source": [
        "def finde_max_werte_fuer_alle_spalten(df):\n",
        "    # Erstellt ein Dictionary, um die maximalen Werte jeder Spalte zu speichern\n",
        "    max_werte = {}\n",
        "    id_werte = {}\n",
        "    # Iteriere über alle Spalten im DataFrame\n",
        "    for spalte in df.columns:\n",
        "        # Ignoriere nicht-numerische Spalten\n",
        "        if pd.api.types.is_numeric_dtype(df[spalte]):\n",
        "            max_werte[spalte] = df[spalte].max()      # Maximaler Wert\n",
        "            id_werte[spalte] = df[spalte].idxmax()    # Spalte mit dem höchsten Wert\n",
        "    return max_werte, id_werte"
      ],
      "metadata": {
        "id": "ZOJ5WxI4a5V2"
      },
      "execution_count": 38,
      "outputs": []
    },
    {
      "cell_type": "code",
      "source": [
        "threshold = 1 # Messdaten über 1 werden aussotiert\n",
        "selected_rows = df_Messdaten_drop[df_Messdaten_drop.iloc[:, 4:1305].gt(threshold).any(axis=1)]"
      ],
      "metadata": {
        "id": "pVHO_7FzpGZ2"
      },
      "execution_count": 39,
      "outputs": []
    },
    {
      "cell_type": "code",
      "source": [
        "selected_rows"
      ],
      "metadata": {
        "id": "IXtd9p757y9T",
        "colab": {
          "base_uri": "https://localhost:8080/",
          "height": 424
        },
        "outputId": "c4709e1f-3061-441f-81e5-8ca51f859fe0"
      },
      "execution_count": 40,
      "outputs": [
        {
          "output_type": "execute_result",
          "data": {
            "text/plain": [
              "                Datetime       Datum   Uhrzeit  Messzeitpunkt  290.0  290.1  \\\n",
              "161  2023-05-01 09:54:00  2023-05-01  09:54:00          35640    0.0    0.0   \n",
              "162  2023-05-01 09:56:00  2023-05-01  09:56:00          35760    0.0    0.0   \n",
              "163  2023-05-01 09:58:00  2023-05-01  09:58:00          35880    0.0    0.0   \n",
              "164  2023-05-01 10:00:00  2023-05-01  10:00:00          36000    0.0    0.0   \n",
              "166  2023-05-01 10:04:00  2023-05-01  10:04:00          36240    0.0    0.0   \n",
              "...                  ...         ...       ...            ...    ...    ...   \n",
              "9903 2023-05-26 08:58:00  2023-05-26  08:58:00          32280    0.0    0.0   \n",
              "9904 2023-05-26 09:00:00  2023-05-26  09:00:00          32400    0.0    0.0   \n",
              "9905 2023-05-26 09:02:00  2023-05-26  09:02:00          32520    0.0    0.0   \n",
              "9906 2023-05-26 09:04:00  2023-05-26  09:04:00          32640    0.0    0.0   \n",
              "9907 2023-05-26 09:06:00  2023-05-26  09:06:00          32760    0.0    0.0   \n",
              "\n",
              "      290.2  290.3  290.4  290.5  ...    419.1    419.2    419.3    419.4  \\\n",
              "161     0.0    0.0    0.0    0.0  ...  0.94632  0.94554  0.93939  0.91866   \n",
              "162     0.0    0.0    0.0    0.0  ...  0.96846  0.97098  0.95832  0.93884   \n",
              "163     0.0    0.0    0.0    0.0  ...  0.98247  0.98218  0.97096  0.94726   \n",
              "164     0.0    0.0    0.0    0.0  ...  0.89715  0.89857  0.88559  0.86391   \n",
              "166     0.0    0.0    0.0    0.0  ...  1.04180  1.04460  1.03760  1.01650   \n",
              "...     ...    ...    ...    ...  ...      ...      ...      ...      ...   \n",
              "9903    0.0    0.0    0.0    0.0  ...  0.94388  0.94197  0.93077  0.91135   \n",
              "9904    0.0    0.0    0.0    0.0  ...  0.96309  0.95893  0.94224  0.92149   \n",
              "9905    0.0    0.0    0.0    0.0  ...  0.96617  0.96773  0.95651  0.92981   \n",
              "9906    0.0    0.0    0.0    0.0  ...  0.96278  0.96577  0.95516  0.92853   \n",
              "9907    0.0    0.0    0.0    0.0  ...  0.99995  0.99957  0.98861  0.96214   \n",
              "\n",
              "        419.5    419.6    419.7    419.8    419.9    420.0  \n",
              "161   0.89903  0.88722  0.87584  0.86395  0.86349  0.86951  \n",
              "162   0.92291  0.90991  0.89760  0.88918  0.88912  0.89396  \n",
              "163   0.93137  0.91463  0.90394  0.89899  0.90131  0.91095  \n",
              "164   0.85673  0.84171  0.82933  0.82253  0.82145  0.82856  \n",
              "166   0.99615  0.98397  0.96704  0.95242  0.94650  0.95889  \n",
              "...       ...      ...      ...      ...      ...      ...  \n",
              "9903  0.89711  0.88094  0.86732  0.86153  0.86216  0.86868  \n",
              "9904  0.90975  0.89042  0.88084  0.87558  0.88084  0.89502  \n",
              "9905  0.91879  0.90456  0.89261  0.88745  0.88793  0.89322  \n",
              "9906  0.91750  0.90178  0.88908  0.88416  0.88666  0.89575  \n",
              "9907  0.94860  0.93375  0.91818  0.91090  0.91194  0.91381  \n",
              "\n",
              "[1137 rows x 1305 columns]"
            ],
            "text/html": [
              "\n",
              "  <div id=\"df-0ae4a11c-1c0f-441c-bc0c-9ed6fc8f6008\" class=\"colab-df-container\">\n",
              "    <div>\n",
              "<style scoped>\n",
              "    .dataframe tbody tr th:only-of-type {\n",
              "        vertical-align: middle;\n",
              "    }\n",
              "\n",
              "    .dataframe tbody tr th {\n",
              "        vertical-align: top;\n",
              "    }\n",
              "\n",
              "    .dataframe thead th {\n",
              "        text-align: right;\n",
              "    }\n",
              "</style>\n",
              "<table border=\"1\" class=\"dataframe\">\n",
              "  <thead>\n",
              "    <tr style=\"text-align: right;\">\n",
              "      <th></th>\n",
              "      <th>Datetime</th>\n",
              "      <th>Datum</th>\n",
              "      <th>Uhrzeit</th>\n",
              "      <th>Messzeitpunkt</th>\n",
              "      <th>290.0</th>\n",
              "      <th>290.1</th>\n",
              "      <th>290.2</th>\n",
              "      <th>290.3</th>\n",
              "      <th>290.4</th>\n",
              "      <th>290.5</th>\n",
              "      <th>...</th>\n",
              "      <th>419.1</th>\n",
              "      <th>419.2</th>\n",
              "      <th>419.3</th>\n",
              "      <th>419.4</th>\n",
              "      <th>419.5</th>\n",
              "      <th>419.6</th>\n",
              "      <th>419.7</th>\n",
              "      <th>419.8</th>\n",
              "      <th>419.9</th>\n",
              "      <th>420.0</th>\n",
              "    </tr>\n",
              "  </thead>\n",
              "  <tbody>\n",
              "    <tr>\n",
              "      <th>161</th>\n",
              "      <td>2023-05-01 09:54:00</td>\n",
              "      <td>2023-05-01</td>\n",
              "      <td>09:54:00</td>\n",
              "      <td>35640</td>\n",
              "      <td>0.0</td>\n",
              "      <td>0.0</td>\n",
              "      <td>0.0</td>\n",
              "      <td>0.0</td>\n",
              "      <td>0.0</td>\n",
              "      <td>0.0</td>\n",
              "      <td>...</td>\n",
              "      <td>0.94632</td>\n",
              "      <td>0.94554</td>\n",
              "      <td>0.93939</td>\n",
              "      <td>0.91866</td>\n",
              "      <td>0.89903</td>\n",
              "      <td>0.88722</td>\n",
              "      <td>0.87584</td>\n",
              "      <td>0.86395</td>\n",
              "      <td>0.86349</td>\n",
              "      <td>0.86951</td>\n",
              "    </tr>\n",
              "    <tr>\n",
              "      <th>162</th>\n",
              "      <td>2023-05-01 09:56:00</td>\n",
              "      <td>2023-05-01</td>\n",
              "      <td>09:56:00</td>\n",
              "      <td>35760</td>\n",
              "      <td>0.0</td>\n",
              "      <td>0.0</td>\n",
              "      <td>0.0</td>\n",
              "      <td>0.0</td>\n",
              "      <td>0.0</td>\n",
              "      <td>0.0</td>\n",
              "      <td>...</td>\n",
              "      <td>0.96846</td>\n",
              "      <td>0.97098</td>\n",
              "      <td>0.95832</td>\n",
              "      <td>0.93884</td>\n",
              "      <td>0.92291</td>\n",
              "      <td>0.90991</td>\n",
              "      <td>0.89760</td>\n",
              "      <td>0.88918</td>\n",
              "      <td>0.88912</td>\n",
              "      <td>0.89396</td>\n",
              "    </tr>\n",
              "    <tr>\n",
              "      <th>163</th>\n",
              "      <td>2023-05-01 09:58:00</td>\n",
              "      <td>2023-05-01</td>\n",
              "      <td>09:58:00</td>\n",
              "      <td>35880</td>\n",
              "      <td>0.0</td>\n",
              "      <td>0.0</td>\n",
              "      <td>0.0</td>\n",
              "      <td>0.0</td>\n",
              "      <td>0.0</td>\n",
              "      <td>0.0</td>\n",
              "      <td>...</td>\n",
              "      <td>0.98247</td>\n",
              "      <td>0.98218</td>\n",
              "      <td>0.97096</td>\n",
              "      <td>0.94726</td>\n",
              "      <td>0.93137</td>\n",
              "      <td>0.91463</td>\n",
              "      <td>0.90394</td>\n",
              "      <td>0.89899</td>\n",
              "      <td>0.90131</td>\n",
              "      <td>0.91095</td>\n",
              "    </tr>\n",
              "    <tr>\n",
              "      <th>164</th>\n",
              "      <td>2023-05-01 10:00:00</td>\n",
              "      <td>2023-05-01</td>\n",
              "      <td>10:00:00</td>\n",
              "      <td>36000</td>\n",
              "      <td>0.0</td>\n",
              "      <td>0.0</td>\n",
              "      <td>0.0</td>\n",
              "      <td>0.0</td>\n",
              "      <td>0.0</td>\n",
              "      <td>0.0</td>\n",
              "      <td>...</td>\n",
              "      <td>0.89715</td>\n",
              "      <td>0.89857</td>\n",
              "      <td>0.88559</td>\n",
              "      <td>0.86391</td>\n",
              "      <td>0.85673</td>\n",
              "      <td>0.84171</td>\n",
              "      <td>0.82933</td>\n",
              "      <td>0.82253</td>\n",
              "      <td>0.82145</td>\n",
              "      <td>0.82856</td>\n",
              "    </tr>\n",
              "    <tr>\n",
              "      <th>166</th>\n",
              "      <td>2023-05-01 10:04:00</td>\n",
              "      <td>2023-05-01</td>\n",
              "      <td>10:04:00</td>\n",
              "      <td>36240</td>\n",
              "      <td>0.0</td>\n",
              "      <td>0.0</td>\n",
              "      <td>0.0</td>\n",
              "      <td>0.0</td>\n",
              "      <td>0.0</td>\n",
              "      <td>0.0</td>\n",
              "      <td>...</td>\n",
              "      <td>1.04180</td>\n",
              "      <td>1.04460</td>\n",
              "      <td>1.03760</td>\n",
              "      <td>1.01650</td>\n",
              "      <td>0.99615</td>\n",
              "      <td>0.98397</td>\n",
              "      <td>0.96704</td>\n",
              "      <td>0.95242</td>\n",
              "      <td>0.94650</td>\n",
              "      <td>0.95889</td>\n",
              "    </tr>\n",
              "    <tr>\n",
              "      <th>...</th>\n",
              "      <td>...</td>\n",
              "      <td>...</td>\n",
              "      <td>...</td>\n",
              "      <td>...</td>\n",
              "      <td>...</td>\n",
              "      <td>...</td>\n",
              "      <td>...</td>\n",
              "      <td>...</td>\n",
              "      <td>...</td>\n",
              "      <td>...</td>\n",
              "      <td>...</td>\n",
              "      <td>...</td>\n",
              "      <td>...</td>\n",
              "      <td>...</td>\n",
              "      <td>...</td>\n",
              "      <td>...</td>\n",
              "      <td>...</td>\n",
              "      <td>...</td>\n",
              "      <td>...</td>\n",
              "      <td>...</td>\n",
              "      <td>...</td>\n",
              "    </tr>\n",
              "    <tr>\n",
              "      <th>9903</th>\n",
              "      <td>2023-05-26 08:58:00</td>\n",
              "      <td>2023-05-26</td>\n",
              "      <td>08:58:00</td>\n",
              "      <td>32280</td>\n",
              "      <td>0.0</td>\n",
              "      <td>0.0</td>\n",
              "      <td>0.0</td>\n",
              "      <td>0.0</td>\n",
              "      <td>0.0</td>\n",
              "      <td>0.0</td>\n",
              "      <td>...</td>\n",
              "      <td>0.94388</td>\n",
              "      <td>0.94197</td>\n",
              "      <td>0.93077</td>\n",
              "      <td>0.91135</td>\n",
              "      <td>0.89711</td>\n",
              "      <td>0.88094</td>\n",
              "      <td>0.86732</td>\n",
              "      <td>0.86153</td>\n",
              "      <td>0.86216</td>\n",
              "      <td>0.86868</td>\n",
              "    </tr>\n",
              "    <tr>\n",
              "      <th>9904</th>\n",
              "      <td>2023-05-26 09:00:00</td>\n",
              "      <td>2023-05-26</td>\n",
              "      <td>09:00:00</td>\n",
              "      <td>32400</td>\n",
              "      <td>0.0</td>\n",
              "      <td>0.0</td>\n",
              "      <td>0.0</td>\n",
              "      <td>0.0</td>\n",
              "      <td>0.0</td>\n",
              "      <td>0.0</td>\n",
              "      <td>...</td>\n",
              "      <td>0.96309</td>\n",
              "      <td>0.95893</td>\n",
              "      <td>0.94224</td>\n",
              "      <td>0.92149</td>\n",
              "      <td>0.90975</td>\n",
              "      <td>0.89042</td>\n",
              "      <td>0.88084</td>\n",
              "      <td>0.87558</td>\n",
              "      <td>0.88084</td>\n",
              "      <td>0.89502</td>\n",
              "    </tr>\n",
              "    <tr>\n",
              "      <th>9905</th>\n",
              "      <td>2023-05-26 09:02:00</td>\n",
              "      <td>2023-05-26</td>\n",
              "      <td>09:02:00</td>\n",
              "      <td>32520</td>\n",
              "      <td>0.0</td>\n",
              "      <td>0.0</td>\n",
              "      <td>0.0</td>\n",
              "      <td>0.0</td>\n",
              "      <td>0.0</td>\n",
              "      <td>0.0</td>\n",
              "      <td>...</td>\n",
              "      <td>0.96617</td>\n",
              "      <td>0.96773</td>\n",
              "      <td>0.95651</td>\n",
              "      <td>0.92981</td>\n",
              "      <td>0.91879</td>\n",
              "      <td>0.90456</td>\n",
              "      <td>0.89261</td>\n",
              "      <td>0.88745</td>\n",
              "      <td>0.88793</td>\n",
              "      <td>0.89322</td>\n",
              "    </tr>\n",
              "    <tr>\n",
              "      <th>9906</th>\n",
              "      <td>2023-05-26 09:04:00</td>\n",
              "      <td>2023-05-26</td>\n",
              "      <td>09:04:00</td>\n",
              "      <td>32640</td>\n",
              "      <td>0.0</td>\n",
              "      <td>0.0</td>\n",
              "      <td>0.0</td>\n",
              "      <td>0.0</td>\n",
              "      <td>0.0</td>\n",
              "      <td>0.0</td>\n",
              "      <td>...</td>\n",
              "      <td>0.96278</td>\n",
              "      <td>0.96577</td>\n",
              "      <td>0.95516</td>\n",
              "      <td>0.92853</td>\n",
              "      <td>0.91750</td>\n",
              "      <td>0.90178</td>\n",
              "      <td>0.88908</td>\n",
              "      <td>0.88416</td>\n",
              "      <td>0.88666</td>\n",
              "      <td>0.89575</td>\n",
              "    </tr>\n",
              "    <tr>\n",
              "      <th>9907</th>\n",
              "      <td>2023-05-26 09:06:00</td>\n",
              "      <td>2023-05-26</td>\n",
              "      <td>09:06:00</td>\n",
              "      <td>32760</td>\n",
              "      <td>0.0</td>\n",
              "      <td>0.0</td>\n",
              "      <td>0.0</td>\n",
              "      <td>0.0</td>\n",
              "      <td>0.0</td>\n",
              "      <td>0.0</td>\n",
              "      <td>...</td>\n",
              "      <td>0.99995</td>\n",
              "      <td>0.99957</td>\n",
              "      <td>0.98861</td>\n",
              "      <td>0.96214</td>\n",
              "      <td>0.94860</td>\n",
              "      <td>0.93375</td>\n",
              "      <td>0.91818</td>\n",
              "      <td>0.91090</td>\n",
              "      <td>0.91194</td>\n",
              "      <td>0.91381</td>\n",
              "    </tr>\n",
              "  </tbody>\n",
              "</table>\n",
              "<p>1137 rows × 1305 columns</p>\n",
              "</div>\n",
              "    <div class=\"colab-df-buttons\">\n",
              "\n",
              "  <div class=\"colab-df-container\">\n",
              "    <button class=\"colab-df-convert\" onclick=\"convertToInteractive('df-0ae4a11c-1c0f-441c-bc0c-9ed6fc8f6008')\"\n",
              "            title=\"Convert this dataframe to an interactive table.\"\n",
              "            style=\"display:none;\">\n",
              "\n",
              "  <svg xmlns=\"http://www.w3.org/2000/svg\" height=\"24px\" viewBox=\"0 -960 960 960\">\n",
              "    <path d=\"M120-120v-720h720v720H120Zm60-500h600v-160H180v160Zm220 220h160v-160H400v160Zm0 220h160v-160H400v160ZM180-400h160v-160H180v160Zm440 0h160v-160H620v160ZM180-180h160v-160H180v160Zm440 0h160v-160H620v160Z\"/>\n",
              "  </svg>\n",
              "    </button>\n",
              "\n",
              "  <style>\n",
              "    .colab-df-container {\n",
              "      display:flex;\n",
              "      gap: 12px;\n",
              "    }\n",
              "\n",
              "    .colab-df-convert {\n",
              "      background-color: #E8F0FE;\n",
              "      border: none;\n",
              "      border-radius: 50%;\n",
              "      cursor: pointer;\n",
              "      display: none;\n",
              "      fill: #1967D2;\n",
              "      height: 32px;\n",
              "      padding: 0 0 0 0;\n",
              "      width: 32px;\n",
              "    }\n",
              "\n",
              "    .colab-df-convert:hover {\n",
              "      background-color: #E2EBFA;\n",
              "      box-shadow: 0px 1px 2px rgba(60, 64, 67, 0.3), 0px 1px 3px 1px rgba(60, 64, 67, 0.15);\n",
              "      fill: #174EA6;\n",
              "    }\n",
              "\n",
              "    .colab-df-buttons div {\n",
              "      margin-bottom: 4px;\n",
              "    }\n",
              "\n",
              "    [theme=dark] .colab-df-convert {\n",
              "      background-color: #3B4455;\n",
              "      fill: #D2E3FC;\n",
              "    }\n",
              "\n",
              "    [theme=dark] .colab-df-convert:hover {\n",
              "      background-color: #434B5C;\n",
              "      box-shadow: 0px 1px 3px 1px rgba(0, 0, 0, 0.15);\n",
              "      filter: drop-shadow(0px 1px 2px rgba(0, 0, 0, 0.3));\n",
              "      fill: #FFFFFF;\n",
              "    }\n",
              "  </style>\n",
              "\n",
              "    <script>\n",
              "      const buttonEl =\n",
              "        document.querySelector('#df-0ae4a11c-1c0f-441c-bc0c-9ed6fc8f6008 button.colab-df-convert');\n",
              "      buttonEl.style.display =\n",
              "        google.colab.kernel.accessAllowed ? 'block' : 'none';\n",
              "\n",
              "      async function convertToInteractive(key) {\n",
              "        const element = document.querySelector('#df-0ae4a11c-1c0f-441c-bc0c-9ed6fc8f6008');\n",
              "        const dataTable =\n",
              "          await google.colab.kernel.invokeFunction('convertToInteractive',\n",
              "                                                    [key], {});\n",
              "        if (!dataTable) return;\n",
              "\n",
              "        const docLinkHtml = 'Like what you see? Visit the ' +\n",
              "          '<a target=\"_blank\" href=https://colab.research.google.com/notebooks/data_table.ipynb>data table notebook</a>'\n",
              "          + ' to learn more about interactive tables.';\n",
              "        element.innerHTML = '';\n",
              "        dataTable['output_type'] = 'display_data';\n",
              "        await google.colab.output.renderOutput(dataTable, element);\n",
              "        const docLink = document.createElement('div');\n",
              "        docLink.innerHTML = docLinkHtml;\n",
              "        element.appendChild(docLink);\n",
              "      }\n",
              "    </script>\n",
              "  </div>\n",
              "\n",
              "\n",
              "<div id=\"df-14c504b5-3159-407e-8db8-af28df06bb30\">\n",
              "  <button class=\"colab-df-quickchart\" onclick=\"quickchart('df-14c504b5-3159-407e-8db8-af28df06bb30')\"\n",
              "            title=\"Suggest charts\"\n",
              "            style=\"display:none;\">\n",
              "\n",
              "<svg xmlns=\"http://www.w3.org/2000/svg\" height=\"24px\"viewBox=\"0 0 24 24\"\n",
              "     width=\"24px\">\n",
              "    <g>\n",
              "        <path d=\"M19 3H5c-1.1 0-2 .9-2 2v14c0 1.1.9 2 2 2h14c1.1 0 2-.9 2-2V5c0-1.1-.9-2-2-2zM9 17H7v-7h2v7zm4 0h-2V7h2v10zm4 0h-2v-4h2v4z\"/>\n",
              "    </g>\n",
              "</svg>\n",
              "  </button>\n",
              "\n",
              "<style>\n",
              "  .colab-df-quickchart {\n",
              "      --bg-color: #E8F0FE;\n",
              "      --fill-color: #1967D2;\n",
              "      --hover-bg-color: #E2EBFA;\n",
              "      --hover-fill-color: #174EA6;\n",
              "      --disabled-fill-color: #AAA;\n",
              "      --disabled-bg-color: #DDD;\n",
              "  }\n",
              "\n",
              "  [theme=dark] .colab-df-quickchart {\n",
              "      --bg-color: #3B4455;\n",
              "      --fill-color: #D2E3FC;\n",
              "      --hover-bg-color: #434B5C;\n",
              "      --hover-fill-color: #FFFFFF;\n",
              "      --disabled-bg-color: #3B4455;\n",
              "      --disabled-fill-color: #666;\n",
              "  }\n",
              "\n",
              "  .colab-df-quickchart {\n",
              "    background-color: var(--bg-color);\n",
              "    border: none;\n",
              "    border-radius: 50%;\n",
              "    cursor: pointer;\n",
              "    display: none;\n",
              "    fill: var(--fill-color);\n",
              "    height: 32px;\n",
              "    padding: 0;\n",
              "    width: 32px;\n",
              "  }\n",
              "\n",
              "  .colab-df-quickchart:hover {\n",
              "    background-color: var(--hover-bg-color);\n",
              "    box-shadow: 0 1px 2px rgba(60, 64, 67, 0.3), 0 1px 3px 1px rgba(60, 64, 67, 0.15);\n",
              "    fill: var(--button-hover-fill-color);\n",
              "  }\n",
              "\n",
              "  .colab-df-quickchart-complete:disabled,\n",
              "  .colab-df-quickchart-complete:disabled:hover {\n",
              "    background-color: var(--disabled-bg-color);\n",
              "    fill: var(--disabled-fill-color);\n",
              "    box-shadow: none;\n",
              "  }\n",
              "\n",
              "  .colab-df-spinner {\n",
              "    border: 2px solid var(--fill-color);\n",
              "    border-color: transparent;\n",
              "    border-bottom-color: var(--fill-color);\n",
              "    animation:\n",
              "      spin 1s steps(1) infinite;\n",
              "  }\n",
              "\n",
              "  @keyframes spin {\n",
              "    0% {\n",
              "      border-color: transparent;\n",
              "      border-bottom-color: var(--fill-color);\n",
              "      border-left-color: var(--fill-color);\n",
              "    }\n",
              "    20% {\n",
              "      border-color: transparent;\n",
              "      border-left-color: var(--fill-color);\n",
              "      border-top-color: var(--fill-color);\n",
              "    }\n",
              "    30% {\n",
              "      border-color: transparent;\n",
              "      border-left-color: var(--fill-color);\n",
              "      border-top-color: var(--fill-color);\n",
              "      border-right-color: var(--fill-color);\n",
              "    }\n",
              "    40% {\n",
              "      border-color: transparent;\n",
              "      border-right-color: var(--fill-color);\n",
              "      border-top-color: var(--fill-color);\n",
              "    }\n",
              "    60% {\n",
              "      border-color: transparent;\n",
              "      border-right-color: var(--fill-color);\n",
              "    }\n",
              "    80% {\n",
              "      border-color: transparent;\n",
              "      border-right-color: var(--fill-color);\n",
              "      border-bottom-color: var(--fill-color);\n",
              "    }\n",
              "    90% {\n",
              "      border-color: transparent;\n",
              "      border-bottom-color: var(--fill-color);\n",
              "    }\n",
              "  }\n",
              "</style>\n",
              "\n",
              "  <script>\n",
              "    async function quickchart(key) {\n",
              "      const quickchartButtonEl =\n",
              "        document.querySelector('#' + key + ' button');\n",
              "      quickchartButtonEl.disabled = true;  // To prevent multiple clicks.\n",
              "      quickchartButtonEl.classList.add('colab-df-spinner');\n",
              "      try {\n",
              "        const charts = await google.colab.kernel.invokeFunction(\n",
              "            'suggestCharts', [key], {});\n",
              "      } catch (error) {\n",
              "        console.error('Error during call to suggestCharts:', error);\n",
              "      }\n",
              "      quickchartButtonEl.classList.remove('colab-df-spinner');\n",
              "      quickchartButtonEl.classList.add('colab-df-quickchart-complete');\n",
              "    }\n",
              "    (() => {\n",
              "      let quickchartButtonEl =\n",
              "        document.querySelector('#df-14c504b5-3159-407e-8db8-af28df06bb30 button');\n",
              "      quickchartButtonEl.style.display =\n",
              "        google.colab.kernel.accessAllowed ? 'block' : 'none';\n",
              "    })();\n",
              "  </script>\n",
              "</div>\n",
              "    </div>\n",
              "  </div>\n"
            ],
            "application/vnd.google.colaboratory.intrinsic+json": {
              "type": "dataframe",
              "variable_name": "selected_rows"
            }
          },
          "metadata": {},
          "execution_count": 40
        }
      ]
    },
    {
      "cell_type": "markdown",
      "source": [
        "NAN-Einträge aus den Messdaten löschen."
      ],
      "metadata": {
        "id": "hicCpxjJq3Sy"
      }
    },
    {
      "cell_type": "code",
      "source": [
        "nan_eintraege = df_Messdaten_drop[df_Messdaten_drop.isna().any(axis=1)]"
      ],
      "metadata": {
        "id": "m4MGEpHpGJuv"
      },
      "execution_count": 41,
      "outputs": []
    },
    {
      "cell_type": "code",
      "source": [
        "nan_eintraege, df_Messdaten_drop"
      ],
      "metadata": {
        "id": "S7i3GzksIHy1",
        "colab": {
          "base_uri": "https://localhost:8080/"
        },
        "outputId": "75370db0-ed44-4a66-93a9-feb941663d49"
      },
      "execution_count": 42,
      "outputs": [
        {
          "output_type": "execute_result",
          "data": {
            "text/plain": [
              "(                Datetime       Datum   Uhrzeit  Messzeitpunkt  290.0  290.1  \\\n",
              " 9500 2023-05-25 08:12:00  2023-05-25  08:12:00          29520    NaN    NaN   \n",
              " 9501 2023-05-25 08:14:00  2023-05-25  08:14:00          29640    NaN    NaN   \n",
              " 9502 2023-05-25 08:16:00  2023-05-25  08:16:00          29760    NaN    NaN   \n",
              " 9503 2023-05-25 08:18:00  2023-05-25  08:18:00          29880    NaN    NaN   \n",
              " 9849 2023-05-26 07:10:00  2023-05-26  07:10:00          25800    NaN    NaN   \n",
              " 9850 2023-05-26 07:12:00  2023-05-26  07:12:00          25920    NaN    NaN   \n",
              " 9909 2023-05-26 09:10:00  2023-05-26  09:10:00          33000    NaN    NaN   \n",
              " 9910 2023-05-26 09:12:00  2023-05-26  09:12:00          33120    NaN    NaN   \n",
              " \n",
              "       290.2  290.3  290.4  290.5  ...  419.1  419.2  419.3  419.4  419.5  \\\n",
              " 9500    NaN    NaN    NaN    NaN  ...    NaN    NaN    NaN    NaN    NaN   \n",
              " 9501    NaN    NaN    NaN    NaN  ...    NaN    NaN    NaN    NaN    NaN   \n",
              " 9502    NaN    NaN    NaN    NaN  ...    NaN    NaN    NaN    NaN    NaN   \n",
              " 9503    NaN    NaN    NaN    NaN  ...    NaN    NaN    NaN    NaN    NaN   \n",
              " 9849    NaN    NaN    NaN    NaN  ...    NaN    NaN    NaN    NaN    NaN   \n",
              " 9850    NaN    NaN    NaN    NaN  ...    NaN    NaN    NaN    NaN    NaN   \n",
              " 9909    NaN    NaN    NaN    NaN  ...    NaN    NaN    NaN    NaN    NaN   \n",
              " 9910    NaN    NaN    NaN    NaN  ...    NaN    NaN    NaN    NaN    NaN   \n",
              " \n",
              "       419.6  419.7  419.8  419.9  420.0  \n",
              " 9500    NaN    NaN    NaN    NaN    NaN  \n",
              " 9501    NaN    NaN    NaN    NaN    NaN  \n",
              " 9502    NaN    NaN    NaN    NaN    NaN  \n",
              " 9503    NaN    NaN    NaN    NaN    NaN  \n",
              " 9849    NaN    NaN    NaN    NaN    NaN  \n",
              " 9850    NaN    NaN    NaN    NaN    NaN  \n",
              " 9909    NaN    NaN    NaN    NaN    NaN  \n",
              " 9910    NaN    NaN    NaN    NaN    NaN  \n",
              " \n",
              " [8 rows x 1305 columns],\n",
              "                 Datetime       Datum   Uhrzeit  Messzeitpunkt  290.0  290.1  \\\n",
              " 0    2023-05-01 04:32:00  2023-05-01  04:32:00          16320    0.0    0.0   \n",
              " 1    2023-05-01 04:34:00  2023-05-01  04:34:00          16440    0.0    0.0   \n",
              " 2    2023-05-01 04:36:00  2023-05-01  04:36:00          16560    0.0    0.0   \n",
              " 3    2023-05-01 04:38:00  2023-05-01  04:38:00          16680    0.0    0.0   \n",
              " 4    2023-05-01 04:40:00  2023-05-01  04:40:00          16800    0.0    0.0   \n",
              " ...                  ...         ...       ...            ...    ...    ...   \n",
              " 9906 2023-05-26 09:04:00  2023-05-26  09:04:00          32640    0.0    0.0   \n",
              " 9907 2023-05-26 09:06:00  2023-05-26  09:06:00          32760    0.0    0.0   \n",
              " 9908 2023-05-26 09:08:00  2023-05-26  09:08:00          32880    0.0    0.0   \n",
              " 9909 2023-05-26 09:10:00  2023-05-26  09:10:00          33000    NaN    NaN   \n",
              " 9910 2023-05-26 09:12:00  2023-05-26  09:12:00          33120    NaN    NaN   \n",
              " \n",
              "       290.2  290.3  290.4  290.5  ...     419.1     419.2     419.3     419.4  \\\n",
              " 0       0.0    0.0    0.0    0.0  ...  0.027018  0.026991  0.026701  0.026287   \n",
              " 1       0.0    0.0    0.0    0.0  ...  0.029336  0.029240  0.028847  0.028347   \n",
              " 2       0.0    0.0    0.0    0.0  ...  0.031711  0.031652  0.031280  0.030730   \n",
              " 3       0.0    0.0    0.0    0.0  ...  0.033991  0.033916  0.033599  0.032866   \n",
              " 4       0.0    0.0    0.0    0.0  ...  0.036120  0.035907  0.035448  0.034677   \n",
              " ...     ...    ...    ...    ...  ...       ...       ...       ...       ...   \n",
              " 9906    0.0    0.0    0.0    0.0  ...  0.962780  0.965770  0.955160  0.928530   \n",
              " 9907    0.0    0.0    0.0    0.0  ...  0.999950  0.999570  0.988610  0.962140   \n",
              " 9908    0.0    0.0    0.0    0.0  ...  0.607910  0.607750  0.598000  0.585460   \n",
              " 9909    NaN    NaN    NaN    NaN  ...       NaN       NaN       NaN       NaN   \n",
              " 9910    NaN    NaN    NaN    NaN  ...       NaN       NaN       NaN       NaN   \n",
              " \n",
              "          419.5     419.6     419.7     419.8     419.9     420.0  \n",
              " 0     0.025952  0.025509  0.025245  0.025162  0.025195  0.025366  \n",
              " 1     0.027855  0.027341  0.027222  0.027299  0.027362  0.027502  \n",
              " 2     0.030171  0.029663  0.029293  0.029152  0.029222  0.029503  \n",
              " 3     0.032338  0.031786  0.031437  0.031291  0.031311  0.031518  \n",
              " 4     0.034047  0.033592  0.033253  0.033133  0.033251  0.033638  \n",
              " ...        ...       ...       ...       ...       ...       ...  \n",
              " 9906  0.917500  0.901780  0.889080  0.884160  0.886660  0.895750  \n",
              " 9907  0.948600  0.933750  0.918180  0.910900  0.911940  0.913810  \n",
              " 9908  0.578830  0.566770  0.562230  0.556470  0.555970  0.564050  \n",
              " 9909       NaN       NaN       NaN       NaN       NaN       NaN  \n",
              " 9910       NaN       NaN       NaN       NaN       NaN       NaN  \n",
              " \n",
              " [9911 rows x 1305 columns])"
            ]
          },
          "metadata": {},
          "execution_count": 42
        }
      ]
    },
    {
      "cell_type": "markdown",
      "source": [
        "## Fehlende Spalten interpolieren und plotten\n",
        "Durch das entfernen von Ausreißern gibt es Datenlücken im Spektrum, diese werden im Folgenden interpoliert und ersetzt."
      ],
      "metadata": {
        "id": "BaXvpmLzxMTq"
      }
    },
    {
      "cell_type": "code",
      "source": [
        "def interpolate_missing_values(df):\n",
        "\n",
        "    index_start = df_Messdaten_drop.columns.get_loc('290.0')\n",
        "    index_ende = df_Messdaten_drop.columns.get_loc('420.0')\n",
        "    # Interpolieren der fehlenden Werte im DataFrame\n",
        "    # 'limit_direction'='both' ermöglicht die Interpolation in beide Richtungen\n",
        "    # 'limit_area'='inside' sorgt dafür, dass nur innerhalb des existierenden Datenbereichs interpoliert wird\n",
        "    df_interpolated = df.iloc[:, index_start : index_ende].interpolate(method='linear', limit_direction='both', limit_area='inside')\n",
        "    result = pd.concat([df.iloc[:, :4], df_interpolated], axis=1)\n",
        "\n",
        "    return result"
      ],
      "metadata": {
        "id": "YR9_bk-JnVek"
      },
      "execution_count": 43,
      "outputs": []
    },
    {
      "cell_type": "code",
      "source": [
        "# Interpolieren der fehlenden Messwerte.\n",
        "df_Messdaten_inter = interpolate_missing_values(df_Messdaten_drop)"
      ],
      "metadata": {
        "id": "1ZV8AxiHnWoC"
      },
      "execution_count": 44,
      "outputs": []
    },
    {
      "cell_type": "code",
      "source": [
        "# Löschen aller NAN-Einträge\n",
        "nan_inter_eintraege = df_Messdaten_inter[df_Messdaten_inter.isna().any(axis=1)]\n",
        "nan_inter_eintraege"
      ],
      "metadata": {
        "id": "pHyFNAj3nxPv",
        "colab": {
          "base_uri": "https://localhost:8080/",
          "height": 141
        },
        "outputId": "a0ec2965-f0ea-4c45-8bec-ac461f7ddae2"
      },
      "execution_count": 45,
      "outputs": [
        {
          "output_type": "execute_result",
          "data": {
            "text/plain": [
              "                Datetime       Datum   Uhrzeit  Messzeitpunkt  290.0  290.1  \\\n",
              "9909 2023-05-26 09:10:00  2023-05-26  09:10:00          33000    NaN    NaN   \n",
              "9910 2023-05-26 09:12:00  2023-05-26  09:12:00          33120    NaN    NaN   \n",
              "\n",
              "      290.2  290.3  290.4  290.5  ...  419.0  419.1  419.2  419.3  419.4  \\\n",
              "9909    NaN    NaN    NaN    NaN  ...    NaN    NaN    NaN    NaN    NaN   \n",
              "9910    NaN    NaN    NaN    NaN  ...    NaN    NaN    NaN    NaN    NaN   \n",
              "\n",
              "      419.5  419.6  419.7  419.8  419.9  \n",
              "9909    NaN    NaN    NaN    NaN    NaN  \n",
              "9910    NaN    NaN    NaN    NaN    NaN  \n",
              "\n",
              "[2 rows x 1304 columns]"
            ],
            "text/html": [
              "\n",
              "  <div id=\"df-717271f6-3fa6-4789-b58e-92853cc144dc\" class=\"colab-df-container\">\n",
              "    <div>\n",
              "<style scoped>\n",
              "    .dataframe tbody tr th:only-of-type {\n",
              "        vertical-align: middle;\n",
              "    }\n",
              "\n",
              "    .dataframe tbody tr th {\n",
              "        vertical-align: top;\n",
              "    }\n",
              "\n",
              "    .dataframe thead th {\n",
              "        text-align: right;\n",
              "    }\n",
              "</style>\n",
              "<table border=\"1\" class=\"dataframe\">\n",
              "  <thead>\n",
              "    <tr style=\"text-align: right;\">\n",
              "      <th></th>\n",
              "      <th>Datetime</th>\n",
              "      <th>Datum</th>\n",
              "      <th>Uhrzeit</th>\n",
              "      <th>Messzeitpunkt</th>\n",
              "      <th>290.0</th>\n",
              "      <th>290.1</th>\n",
              "      <th>290.2</th>\n",
              "      <th>290.3</th>\n",
              "      <th>290.4</th>\n",
              "      <th>290.5</th>\n",
              "      <th>...</th>\n",
              "      <th>419.0</th>\n",
              "      <th>419.1</th>\n",
              "      <th>419.2</th>\n",
              "      <th>419.3</th>\n",
              "      <th>419.4</th>\n",
              "      <th>419.5</th>\n",
              "      <th>419.6</th>\n",
              "      <th>419.7</th>\n",
              "      <th>419.8</th>\n",
              "      <th>419.9</th>\n",
              "    </tr>\n",
              "  </thead>\n",
              "  <tbody>\n",
              "    <tr>\n",
              "      <th>9909</th>\n",
              "      <td>2023-05-26 09:10:00</td>\n",
              "      <td>2023-05-26</td>\n",
              "      <td>09:10:00</td>\n",
              "      <td>33000</td>\n",
              "      <td>NaN</td>\n",
              "      <td>NaN</td>\n",
              "      <td>NaN</td>\n",
              "      <td>NaN</td>\n",
              "      <td>NaN</td>\n",
              "      <td>NaN</td>\n",
              "      <td>...</td>\n",
              "      <td>NaN</td>\n",
              "      <td>NaN</td>\n",
              "      <td>NaN</td>\n",
              "      <td>NaN</td>\n",
              "      <td>NaN</td>\n",
              "      <td>NaN</td>\n",
              "      <td>NaN</td>\n",
              "      <td>NaN</td>\n",
              "      <td>NaN</td>\n",
              "      <td>NaN</td>\n",
              "    </tr>\n",
              "    <tr>\n",
              "      <th>9910</th>\n",
              "      <td>2023-05-26 09:12:00</td>\n",
              "      <td>2023-05-26</td>\n",
              "      <td>09:12:00</td>\n",
              "      <td>33120</td>\n",
              "      <td>NaN</td>\n",
              "      <td>NaN</td>\n",
              "      <td>NaN</td>\n",
              "      <td>NaN</td>\n",
              "      <td>NaN</td>\n",
              "      <td>NaN</td>\n",
              "      <td>...</td>\n",
              "      <td>NaN</td>\n",
              "      <td>NaN</td>\n",
              "      <td>NaN</td>\n",
              "      <td>NaN</td>\n",
              "      <td>NaN</td>\n",
              "      <td>NaN</td>\n",
              "      <td>NaN</td>\n",
              "      <td>NaN</td>\n",
              "      <td>NaN</td>\n",
              "      <td>NaN</td>\n",
              "    </tr>\n",
              "  </tbody>\n",
              "</table>\n",
              "<p>2 rows × 1304 columns</p>\n",
              "</div>\n",
              "    <div class=\"colab-df-buttons\">\n",
              "\n",
              "  <div class=\"colab-df-container\">\n",
              "    <button class=\"colab-df-convert\" onclick=\"convertToInteractive('df-717271f6-3fa6-4789-b58e-92853cc144dc')\"\n",
              "            title=\"Convert this dataframe to an interactive table.\"\n",
              "            style=\"display:none;\">\n",
              "\n",
              "  <svg xmlns=\"http://www.w3.org/2000/svg\" height=\"24px\" viewBox=\"0 -960 960 960\">\n",
              "    <path d=\"M120-120v-720h720v720H120Zm60-500h600v-160H180v160Zm220 220h160v-160H400v160Zm0 220h160v-160H400v160ZM180-400h160v-160H180v160Zm440 0h160v-160H620v160ZM180-180h160v-160H180v160Zm440 0h160v-160H620v160Z\"/>\n",
              "  </svg>\n",
              "    </button>\n",
              "\n",
              "  <style>\n",
              "    .colab-df-container {\n",
              "      display:flex;\n",
              "      gap: 12px;\n",
              "    }\n",
              "\n",
              "    .colab-df-convert {\n",
              "      background-color: #E8F0FE;\n",
              "      border: none;\n",
              "      border-radius: 50%;\n",
              "      cursor: pointer;\n",
              "      display: none;\n",
              "      fill: #1967D2;\n",
              "      height: 32px;\n",
              "      padding: 0 0 0 0;\n",
              "      width: 32px;\n",
              "    }\n",
              "\n",
              "    .colab-df-convert:hover {\n",
              "      background-color: #E2EBFA;\n",
              "      box-shadow: 0px 1px 2px rgba(60, 64, 67, 0.3), 0px 1px 3px 1px rgba(60, 64, 67, 0.15);\n",
              "      fill: #174EA6;\n",
              "    }\n",
              "\n",
              "    .colab-df-buttons div {\n",
              "      margin-bottom: 4px;\n",
              "    }\n",
              "\n",
              "    [theme=dark] .colab-df-convert {\n",
              "      background-color: #3B4455;\n",
              "      fill: #D2E3FC;\n",
              "    }\n",
              "\n",
              "    [theme=dark] .colab-df-convert:hover {\n",
              "      background-color: #434B5C;\n",
              "      box-shadow: 0px 1px 3px 1px rgba(0, 0, 0, 0.15);\n",
              "      filter: drop-shadow(0px 1px 2px rgba(0, 0, 0, 0.3));\n",
              "      fill: #FFFFFF;\n",
              "    }\n",
              "  </style>\n",
              "\n",
              "    <script>\n",
              "      const buttonEl =\n",
              "        document.querySelector('#df-717271f6-3fa6-4789-b58e-92853cc144dc button.colab-df-convert');\n",
              "      buttonEl.style.display =\n",
              "        google.colab.kernel.accessAllowed ? 'block' : 'none';\n",
              "\n",
              "      async function convertToInteractive(key) {\n",
              "        const element = document.querySelector('#df-717271f6-3fa6-4789-b58e-92853cc144dc');\n",
              "        const dataTable =\n",
              "          await google.colab.kernel.invokeFunction('convertToInteractive',\n",
              "                                                    [key], {});\n",
              "        if (!dataTable) return;\n",
              "\n",
              "        const docLinkHtml = 'Like what you see? Visit the ' +\n",
              "          '<a target=\"_blank\" href=https://colab.research.google.com/notebooks/data_table.ipynb>data table notebook</a>'\n",
              "          + ' to learn more about interactive tables.';\n",
              "        element.innerHTML = '';\n",
              "        dataTable['output_type'] = 'display_data';\n",
              "        await google.colab.output.renderOutput(dataTable, element);\n",
              "        const docLink = document.createElement('div');\n",
              "        docLink.innerHTML = docLinkHtml;\n",
              "        element.appendChild(docLink);\n",
              "      }\n",
              "    </script>\n",
              "  </div>\n",
              "\n",
              "\n",
              "<div id=\"df-a16fde54-9bbd-4c4a-a7df-977d2a6835a3\">\n",
              "  <button class=\"colab-df-quickchart\" onclick=\"quickchart('df-a16fde54-9bbd-4c4a-a7df-977d2a6835a3')\"\n",
              "            title=\"Suggest charts\"\n",
              "            style=\"display:none;\">\n",
              "\n",
              "<svg xmlns=\"http://www.w3.org/2000/svg\" height=\"24px\"viewBox=\"0 0 24 24\"\n",
              "     width=\"24px\">\n",
              "    <g>\n",
              "        <path d=\"M19 3H5c-1.1 0-2 .9-2 2v14c0 1.1.9 2 2 2h14c1.1 0 2-.9 2-2V5c0-1.1-.9-2-2-2zM9 17H7v-7h2v7zm4 0h-2V7h2v10zm4 0h-2v-4h2v4z\"/>\n",
              "    </g>\n",
              "</svg>\n",
              "  </button>\n",
              "\n",
              "<style>\n",
              "  .colab-df-quickchart {\n",
              "      --bg-color: #E8F0FE;\n",
              "      --fill-color: #1967D2;\n",
              "      --hover-bg-color: #E2EBFA;\n",
              "      --hover-fill-color: #174EA6;\n",
              "      --disabled-fill-color: #AAA;\n",
              "      --disabled-bg-color: #DDD;\n",
              "  }\n",
              "\n",
              "  [theme=dark] .colab-df-quickchart {\n",
              "      --bg-color: #3B4455;\n",
              "      --fill-color: #D2E3FC;\n",
              "      --hover-bg-color: #434B5C;\n",
              "      --hover-fill-color: #FFFFFF;\n",
              "      --disabled-bg-color: #3B4455;\n",
              "      --disabled-fill-color: #666;\n",
              "  }\n",
              "\n",
              "  .colab-df-quickchart {\n",
              "    background-color: var(--bg-color);\n",
              "    border: none;\n",
              "    border-radius: 50%;\n",
              "    cursor: pointer;\n",
              "    display: none;\n",
              "    fill: var(--fill-color);\n",
              "    height: 32px;\n",
              "    padding: 0;\n",
              "    width: 32px;\n",
              "  }\n",
              "\n",
              "  .colab-df-quickchart:hover {\n",
              "    background-color: var(--hover-bg-color);\n",
              "    box-shadow: 0 1px 2px rgba(60, 64, 67, 0.3), 0 1px 3px 1px rgba(60, 64, 67, 0.15);\n",
              "    fill: var(--button-hover-fill-color);\n",
              "  }\n",
              "\n",
              "  .colab-df-quickchart-complete:disabled,\n",
              "  .colab-df-quickchart-complete:disabled:hover {\n",
              "    background-color: var(--disabled-bg-color);\n",
              "    fill: var(--disabled-fill-color);\n",
              "    box-shadow: none;\n",
              "  }\n",
              "\n",
              "  .colab-df-spinner {\n",
              "    border: 2px solid var(--fill-color);\n",
              "    border-color: transparent;\n",
              "    border-bottom-color: var(--fill-color);\n",
              "    animation:\n",
              "      spin 1s steps(1) infinite;\n",
              "  }\n",
              "\n",
              "  @keyframes spin {\n",
              "    0% {\n",
              "      border-color: transparent;\n",
              "      border-bottom-color: var(--fill-color);\n",
              "      border-left-color: var(--fill-color);\n",
              "    }\n",
              "    20% {\n",
              "      border-color: transparent;\n",
              "      border-left-color: var(--fill-color);\n",
              "      border-top-color: var(--fill-color);\n",
              "    }\n",
              "    30% {\n",
              "      border-color: transparent;\n",
              "      border-left-color: var(--fill-color);\n",
              "      border-top-color: var(--fill-color);\n",
              "      border-right-color: var(--fill-color);\n",
              "    }\n",
              "    40% {\n",
              "      border-color: transparent;\n",
              "      border-right-color: var(--fill-color);\n",
              "      border-top-color: var(--fill-color);\n",
              "    }\n",
              "    60% {\n",
              "      border-color: transparent;\n",
              "      border-right-color: var(--fill-color);\n",
              "    }\n",
              "    80% {\n",
              "      border-color: transparent;\n",
              "      border-right-color: var(--fill-color);\n",
              "      border-bottom-color: var(--fill-color);\n",
              "    }\n",
              "    90% {\n",
              "      border-color: transparent;\n",
              "      border-bottom-color: var(--fill-color);\n",
              "    }\n",
              "  }\n",
              "</style>\n",
              "\n",
              "  <script>\n",
              "    async function quickchart(key) {\n",
              "      const quickchartButtonEl =\n",
              "        document.querySelector('#' + key + ' button');\n",
              "      quickchartButtonEl.disabled = true;  // To prevent multiple clicks.\n",
              "      quickchartButtonEl.classList.add('colab-df-spinner');\n",
              "      try {\n",
              "        const charts = await google.colab.kernel.invokeFunction(\n",
              "            'suggestCharts', [key], {});\n",
              "      } catch (error) {\n",
              "        console.error('Error during call to suggestCharts:', error);\n",
              "      }\n",
              "      quickchartButtonEl.classList.remove('colab-df-spinner');\n",
              "      quickchartButtonEl.classList.add('colab-df-quickchart-complete');\n",
              "    }\n",
              "    (() => {\n",
              "      let quickchartButtonEl =\n",
              "        document.querySelector('#df-a16fde54-9bbd-4c4a-a7df-977d2a6835a3 button');\n",
              "      quickchartButtonEl.style.display =\n",
              "        google.colab.kernel.accessAllowed ? 'block' : 'none';\n",
              "    })();\n",
              "  </script>\n",
              "</div>\n",
              "    </div>\n",
              "  </div>\n"
            ],
            "application/vnd.google.colaboratory.intrinsic+json": {
              "type": "dataframe",
              "variable_name": "nan_inter_eintraege"
            }
          },
          "metadata": {},
          "execution_count": 45
        }
      ]
    },
    {
      "cell_type": "code",
      "source": [
        "# Funktion um den Maximalen Eintrag einer Spalte zu finden\n",
        "max_werte, id_werte = finde_max_werte_fuer_alle_spalten(df_Messdaten_inter.iloc[:, 4:1306])"
      ],
      "metadata": {
        "id": "6PNKCiOWa_8q"
      },
      "execution_count": 46,
      "outputs": []
    },
    {
      "cell_type": "markdown",
      "source": [
        "## Plotten der IDs und Maximalwerte:"
      ],
      "metadata": {
        "id": "3tnFaCk9vHl6"
      }
    },
    {
      "cell_type": "code",
      "source": [
        "schluessel_id = list(id_werte.keys())\n",
        "werte_id = list(id_werte.values())\n",
        "plt.plot(schluessel_id, werte_id)"
      ],
      "metadata": {
        "id": "kgPDlZ2qbIR6",
        "colab": {
          "base_uri": "https://localhost:8080/",
          "height": 450
        },
        "outputId": "a3b1155b-b0f1-4c3a-90d6-90d79122a459"
      },
      "execution_count": 47,
      "outputs": [
        {
          "output_type": "execute_result",
          "data": {
            "text/plain": [
              "[<matplotlib.lines.Line2D at 0x7b733db10eb0>]"
            ]
          },
          "metadata": {},
          "execution_count": 47
        },
        {
          "output_type": "display_data",
          "data": {
            "text/plain": [
              "<Figure size 640x480 with 1 Axes>"
            ],
            "image/png": "[encoded data removed]"
          },
          "metadata": {}
        }
      ]
    },
    {
      "cell_type": "code",
      "source": [
        "# Plotten der maximalen Werte nach Wellenlänge\n",
        "schluessel_max = list(max_werte.keys())\n",
        "werte_max = list(max_werte.values())\n",
        "plt.plot(schluessel_max, werte_max)"
      ],
      "metadata": {
        "id": "jpxT-qAJbH2h",
        "colab": {
          "base_uri": "https://localhost:8080/",
          "height": 447
        },
        "outputId": "c8ddb8c5-193c-4885-bf95-daab4bd2763f"
      },
      "execution_count": 48,
      "outputs": [
        {
          "output_type": "execute_result",
          "data": {
            "text/plain": [
              "[<matplotlib.lines.Line2D at 0x7b73362f66e0>]"
            ]
          },
          "metadata": {},
          "execution_count": 48
        },
        {
          "output_type": "display_data",
          "data": {
            "text/plain": [
              "<Figure size 640x480 with 1 Axes>"
            ],
            "image/png": "[encoded data removed]"
          },
          "metadata": {}
        }
      ]
    },
    {
      "cell_type": "markdown",
      "source": [
        "## Abspeichern der spektralen Messwerte in einen Dataframe:"
      ],
      "metadata": {
        "id": "xVwGDJOfvQ0g"
      }
    },
    {
      "cell_type": "code",
      "source": [
        "save_dataframe_to_drive(df_Messdaten_inter, '/content/drive/My Drive/Colab_Notebooks/CSV_Messdaten', month)"
      ],
      "metadata": {
        "id": "DO8lF9Vxz6L_",
        "colab": {
          "base_uri": "https://localhost:8080/"
        },
        "outputId": "a1ac70e4-ab91-4a5d-de06-bab36c925233"
      },
      "execution_count": 49,
      "outputs": [
        {
          "output_type": "stream",
          "name": "stdout",
          "text": [
            "Der DataFrame wurde als 23.05 in /content/drive/My Drive/Colab_Notebooks/CSV_Messdaten auf Google Drive gespeichert.\n"
          ]
        }
      ]
    }
  ]
}