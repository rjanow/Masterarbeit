{
  "nbformat": 4,
  "nbformat_minor": 0,
  "metadata": {
    "colab": {
      "provenance": [],
      "include_colab_link": true
    },
    "kernelspec": {
      "name": "python3",
      "display_name": "Python 3"
    },
    "language_info": {
      "name": "python"
    }
  },
  "cells": [
    {
      "cell_type": "markdown",
      "metadata": {
        "id": "view-in-github",
        "colab_type": "text"
      },
      "source": [
        "<a href=\"https://colab.research.google.com/github/rjanow/Masterarbeit/blob/main/preprocessing/UV_Measurement_to_DF.ipynb\" target=\"_parent\"><img src=\"https://colab.research.google.com/assets/colab-badge.svg\" alt=\"Open In Colab\"/></a>"
      ]
    },
    {
      "cell_type": "markdown",
      "source": [
        "# Hier werden die Rohdaten des BTS2048-UV-WP in eine nutzbare CSV-Datei geschrieben"
      ],
      "metadata": {
        "id": "VbXcbReNyuop"
      }
    },
    {
      "cell_type": "markdown",
      "source": [
        "**Dokumentenname: UV_Measurement_to_CSV.ipynb**\n",
        "\n",
        "Es werden die OR0-Daten (NasaAmes-Format), die eigentlich für den Versand an das BFS gedacht sind umgewandelt und in eine CSV-Datei geschrieben. Aufgrund der großen Datenmenge geschieht dies für jeden Monat getrennt."
      ],
      "metadata": {
        "id": "_Euu6x1XyxGL"
      }
    },
    {
      "cell_type": "markdown",
      "source": [
        "# Import der benötigten Module:"
      ],
      "metadata": {
        "id": "S1AxQI5fjx42"
      }
    },
    {
      "cell_type": "code",
      "source": [
        "# Import der benötigten Module\n",
        "import os, sys\n",
        "import glob\n",
        "import datetime\n",
        "import pandas as pd\n",
        "import numpy as np\n",
        "import csv\n",
        "import re\n",
        "import matplotlib.pyplot as plt\n",
        "\n",
        "from scipy.io import netcdf\n",
        "from datetime import timedelta\n",
        "from datetime import datetime\n",
        "\n",
        "from google.colab import drive\n",
        "from google.colab import files"
      ],
      "metadata": {
        "id": "6GGZwyBJzVsp"
      },
      "execution_count": 1,
      "outputs": []
    },
    {
      "cell_type": "markdown",
      "source": [
        "Zu Beginn muss die Google-Drive eingerichtet werden, in der die Messdaten (OR0-Dateien) gespeichert sind. Danach werden alle verfügbaren Unterordner aufgerufen. So wird geprüft, ob der Mount richtig funktioniert hat."
      ],
      "metadata": {
        "id": "EKAQlrHyWWIP"
      }
    },
    {
      "cell_type": "code",
      "source": [
        "drive.mount('/content/drive')\n",
        "\n",
        "drive_path = '/content/drive/MyDrive'\n",
        "# Durchsuche den Google Drive-Pfad\n",
        "for root, dirs, files in os.walk(drive_path):\n",
        "    for dir in dirs:\n",
        "        # Gib den Namen des Unterordners aus\n",
        "        print(os.path.join(root, dir))"
      ],
      "metadata": {
        "id": "T_iN54-sVUVL",
        "outputId": "74063421-48b8-48df-db21-b55c35354538",
        "colab": {
          "base_uri": "https://localhost:8080/"
        }
      },
      "execution_count": 2,
      "outputs": [
        {
          "output_type": "stream",
          "name": "stdout",
          "text": [
            "Drive already mounted at /content/drive; to attempt to forcibly remount, call drive.mount(\"/content/drive\", force_remount=True).\n",
            "/content/drive/MyDrive/Colab_Notebooks\n",
            "/content/drive/MyDrive/Colab Notebooks\n",
            "/content/drive/MyDrive/Plots\n",
            "/content/drive/MyDrive/Colab_Notebooks/CSV_Messdaten\n",
            "/content/drive/MyDrive/Colab_Notebooks/NasaAmes_Messdaten\n",
            "/content/drive/MyDrive/Colab_Notebooks/CSV_UVI\n",
            "/content/drive/MyDrive/Colab_Notebooks/CSV_Gewichtet\n",
            "/content/drive/MyDrive/Colab_Notebooks/CSV_SolarRadiation\n",
            "/content/drive/MyDrive/Colab_Notebooks/netCDF4_Wetterdaten\n",
            "/content/drive/MyDrive/Colab_Notebooks/CAMS_Vorhersage\n",
            "/content/drive/MyDrive/Colab_Notebooks/Clean_Data\n",
            "/content/drive/MyDrive/Colab_Notebooks/plot_daily_UVI\n",
            "/content/drive/MyDrive/Colab_Notebooks/SOLYS_Messdaten\n",
            "/content/drive/MyDrive/Colab_Notebooks/CSV_Zwischenspeicher\n",
            "/content/drive/MyDrive/Colab_Notebooks/SOLYS_CSV\n",
            "/content/drive/MyDrive/Colab_Notebooks/Modelle\n",
            "/content/drive/MyDrive/Colab_Notebooks/plot_TSA\n",
            "/content/drive/MyDrive/Colab_Notebooks/netCDF4_CloudCover\n",
            "/content/drive/MyDrive/Colab_Notebooks/HighVarDays_Plots\n",
            "/content/drive/MyDrive/Colab_Notebooks/LowVarDays_Plots\n",
            "/content/drive/MyDrive/Colab_Notebooks/LSTM_Model\n",
            "/content/drive/MyDrive/Colab_Notebooks/Auswertung Datenbereinigung\n",
            "/content/drive/MyDrive/Colab_Notebooks/NasaAmes_Messdaten/Data\n",
            "/content/drive/MyDrive/Colab_Notebooks/NasaAmes_Messdaten/Data/22.07\n",
            "/content/drive/MyDrive/Colab_Notebooks/NasaAmes_Messdaten/Data/22.08\n",
            "/content/drive/MyDrive/Colab_Notebooks/NasaAmes_Messdaten/Data/22.09\n",
            "/content/drive/MyDrive/Colab_Notebooks/NasaAmes_Messdaten/Data/22.10\n",
            "/content/drive/MyDrive/Colab_Notebooks/NasaAmes_Messdaten/Data/22.11\n",
            "/content/drive/MyDrive/Colab_Notebooks/NasaAmes_Messdaten/Data/22.12\n",
            "/content/drive/MyDrive/Colab_Notebooks/NasaAmes_Messdaten/Data/23.01\n",
            "/content/drive/MyDrive/Colab_Notebooks/NasaAmes_Messdaten/Data/23.02\n",
            "/content/drive/MyDrive/Colab_Notebooks/NasaAmes_Messdaten/Data/23.03\n",
            "/content/drive/MyDrive/Colab_Notebooks/NasaAmes_Messdaten/Data/23.04\n",
            "/content/drive/MyDrive/Colab_Notebooks/NasaAmes_Messdaten/Data/23.05\n",
            "/content/drive/MyDrive/Colab_Notebooks/NasaAmes_Messdaten/Data/23.07\n",
            "/content/drive/MyDrive/Colab_Notebooks/NasaAmes_Messdaten/Data/23.08\n",
            "/content/drive/MyDrive/Colab_Notebooks/NasaAmes_Messdaten/Data/22.06\n",
            "/content/drive/MyDrive/Colab_Notebooks/Modelle/variables\n",
            "/content/drive/MyDrive/Colab_Notebooks/Modelle/assets\n",
            "/content/drive/MyDrive/Colab_Notebooks/LSTM_Model/kerastuner_dir\n",
            "/content/drive/MyDrive/Colab_Notebooks/LSTM_Model/kerastuner_dir/lstm_quantiles_tuning\n",
            "/content/drive/MyDrive/Colab_Notebooks/LSTM_Model/kerastuner_dir/lstm_quantiles_tuning/trial_0\n",
            "/content/drive/MyDrive/Colab_Notebooks/LSTM_Model/kerastuner_dir/lstm_quantiles_tuning/trial_1\n",
            "/content/drive/MyDrive/Colab_Notebooks/LSTM_Model/kerastuner_dir/lstm_quantiles_tuning/trial_2\n",
            "/content/drive/MyDrive/Colab_Notebooks/LSTM_Model/kerastuner_dir/lstm_quantiles_tuning/trial_3\n"
          ]
        }
      ]
    },
    {
      "cell_type": "markdown",
      "source": [
        "**Monat der Exportiert werden soll:**"
      ],
      "metadata": {
        "id": "HYdn1p8-PgJD"
      }
    },
    {
      "cell_type": "code",
      "source": [
        "month = '23.01'"
      ],
      "metadata": {
        "id": "b_lzKoe_Pfgd"
      },
      "execution_count": 3,
      "outputs": []
    },
    {
      "cell_type": "markdown",
      "source": [
        "Danach werden die einzelnen OR0-Dateien (NasaAmes Format) geladen und umgewandelt.\n",
        "\n",
        "Das NasaAmes Format: https://espoarchive.nasa.gov/content/Ames_Format_Specification_v20\n",
        "\n",
        "Die Messdaten sind unter dem FFI (File Format Index) 2005 gespeichert. Dieser Standard ist durch die Nasa nicht dokumentiert. Deshalb nachfolgend ein eigener Parser, der die Daten in eine nutzbare CSV umwandelt."
      ],
      "metadata": {
        "id": "ZRL9H_KEZpgG"
      }
    },
    {
      "cell_type": "markdown",
      "source": [
        "**Beschreibung der einzelnen Dictionaries und deren Inhalt:**\n",
        "\n",
        "- **file_names** = enthält die Dateinamen der einzelnen OR0-Dateien\n",
        "- **file_content** = Enthält den Inhalt der OR0-Dateien\n",
        "- **end_line_header** = enthält die Zeile an dem der Header endet"
      ],
      "metadata": {
        "id": "TI_gn6B6_qGL"
      }
    },
    {
      "cell_type": "markdown",
      "source": [
        "## Dateien einlesen und vor verarbeiten:"
      ],
      "metadata": {
        "id": "7_mIBaD2FwwZ"
      }
    },
    {
      "cell_type": "code",
      "source": [
        "save_path = '/content/drive/MyDrive/Colab_Notebooks/Auswertung Datenbereinigung'"
      ],
      "metadata": {
        "id": "PmToQmyxt6px"
      },
      "execution_count": 4,
      "outputs": []
    },
    {
      "cell_type": "code",
      "source": [
        "# Pfad zum Ordner mit den Dateien in Google Drive\n",
        "folder_path = '/content/drive/MyDrive/Colab_Notebooks/NasaAmes_Messdaten/Data/' + month\n",
        "\n",
        "# OR0-Dateien im Ordner lesen\n",
        "file_paths = glob.glob(folder_path + '/*.OR0')\n",
        "\n",
        "# Liste für die Dateinamen erstellen\n",
        "file_names = []\n",
        "\n",
        "# Schleife über die Dateien\n",
        "for file_path in file_paths:\n",
        "\n",
        "    if os.path.getsize(file_path) > 100 * 1024:\n",
        "      # Dateiname extrahieren\n",
        "      file_name = os.path.splitext(os.path.basename(file_path))[0]\n",
        "\n",
        "      # Datei öffnen und Inhalt lesen\n",
        "      with open(file_path, 'r') as file:\n",
        "          file_content = file.read()\n",
        "\n",
        "      # Variable für die Datei erstellen\n",
        "      globals()[file_name] = file_content\n",
        "\n",
        "      file_names.append(file_name)"
      ],
      "metadata": {
        "id": "LJXRx3MKM8L1"
      },
      "execution_count": 5,
      "outputs": []
    },
    {
      "cell_type": "markdown",
      "source": [
        "**Dataframe mit Wellenlängen erstellen:**\n",
        "- Dieser wird später genutzt um die Spalten des Dataframe zu benennen."
      ],
      "metadata": {
        "id": "4sWE034DaFBt"
      }
    },
    {
      "cell_type": "code",
      "source": [
        "def create_df_Wellenlaenge(start, end, step):\n",
        "    # Erstelle eine Liste mit den gewünschten Werten\n",
        "    numbers_list = [round(num, 3) for num in list(np.arange(start, end + step, step))]\n",
        "    # Erstelle den Dataframe\n",
        "    df = pd.DataFrame({'Wellenlaenge': numbers_list})\n",
        "\n",
        "    return df"
      ],
      "metadata": {
        "id": "vR4lB-9hAJZ6"
      },
      "execution_count": 6,
      "outputs": []
    },
    {
      "cell_type": "code",
      "source": [
        "np_Wellenlaenge = np.round(np.arange(290.0, 420.05, 0.1), decimals = 1)\n",
        "df_Wellenlaenge = pd.DataFrame({'Wellenlaenge': np_Wellenlaenge})"
      ],
      "metadata": {
        "id": "ke6b38SlA3B1"
      },
      "execution_count": 7,
      "outputs": []
    },
    {
      "cell_type": "markdown",
      "source": [
        "**String aufteilen in einzelne Zeile schreiben:**\n",
        "\n",
        "- Zur weitern Verarbeitung müssen alle Elemente als einzelene Strings abgespeichet werden."
      ],
      "metadata": {
        "id": "P4FUkD2Lua3i"
      }
    },
    {
      "cell_type": "code",
      "source": [
        "file_content = {}  # Dictionary für die Messungen erstellen\n",
        "\n",
        "for file_name in file_names:\n",
        "    file_variables = globals()[file_name]\n",
        "    file_content[file_name] = file_variables\n",
        "\n",
        "# Auf Variablen zugreifen und String in Zeilen aufteilen\n",
        "for file_name, variable in file_content.items():\n",
        "    file_content[file_name] = file_content[file_name].split('\\n')"
      ],
      "metadata": {
        "id": "JxBOhrPFQIYc"
      },
      "execution_count": 8,
      "outputs": []
    },
    {
      "cell_type": "markdown",
      "source": [
        "**Header extrahieren:**"
      ],
      "metadata": {
        "id": "AaUuqtlgK2Qq"
      }
    },
    {
      "cell_type": "code",
      "source": [
        "# Funktion um den Dateiheader zu extrahieren\n",
        "def perform_action(file_variables, file_names):\n",
        "    header_dict = {file_name: \"\" for file_name in file_names}\n",
        "    end_line_header_fnc = 0\n",
        "\n",
        "    for file_name, data in file_variables.items():\n",
        "        for i, line in enumerate(data):\n",
        "            header_dict[file_name] += line + \"\\n\"\n",
        "            if line.strip() == \"Pyranometer: readout interval [secs]=5\":\n",
        "                end_line_header_fnc = i\n",
        "                break\n",
        "\n",
        "    return header_dict, end_line_header_fnc"
      ],
      "metadata": {
        "id": "rBjd_Y6lEw80"
      },
      "execution_count": 9,
      "outputs": []
    },
    {
      "cell_type": "code",
      "source": [
        "file_header, end_line_header = perform_action(file_content, file_names)"
      ],
      "metadata": {
        "id": "nUdv6oMbE2-q"
      },
      "execution_count": 10,
      "outputs": []
    },
    {
      "cell_type": "markdown",
      "source": [
        "**Header aus Datensatz löschen:**"
      ],
      "metadata": {
        "id": "L_0hAYmkOyxy"
      }
    },
    {
      "cell_type": "code",
      "source": [
        "def remove_header(lines_content, end_line):\n",
        "    lines_WO_header_fnc = {}\n",
        "    lines_WO_header_fnc = lines_content.copy()\n",
        "\n",
        "    for key, value in lines_WO_header_fnc.items():\n",
        "        del value[:end_line+1]\n",
        "\n",
        "    return lines_WO_header_fnc"
      ],
      "metadata": {
        "id": "a9HPMKEdffX1"
      },
      "execution_count": 11,
      "outputs": []
    },
    {
      "cell_type": "code",
      "source": [
        "lines_WO_header = remove_header(file_content, end_line_header)"
      ],
      "metadata": {
        "id": "hxWLzYdkff7w"
      },
      "execution_count": 12,
      "outputs": []
    },
    {
      "cell_type": "markdown",
      "source": [
        "##Elemente aufteilen:"
      ],
      "metadata": {
        "id": "glLu0-yiZ724"
      }
    },
    {
      "cell_type": "code",
      "source": [
        "def flatten_and_split(input_list):\n",
        "    result = []\n",
        "    for sublist in input_list:\n",
        "        elements = sublist.split()\n",
        "        result.extend(elements)\n",
        "    return result"
      ],
      "metadata": {
        "id": "scwLZbQNt1pO"
      },
      "execution_count": 13,
      "outputs": []
    },
    {
      "cell_type": "code",
      "source": [
        "def process_dict(input_dict):\n",
        "    processed_dict = {}\n",
        "    for key, value in input_dict.items():\n",
        "        processed_value = flatten_and_split(value)\n",
        "        sublists = []\n",
        "        sublist = []\n",
        "        for element in processed_value:\n",
        "            if element.isdigit() and len(element) == 5:\n",
        "                if sublist:\n",
        "                    sublists.append(sublist)\n",
        "                    sublist = []\n",
        "            sublist.append(element)\n",
        "        if sublist:\n",
        "            sublists.append(sublist)\n",
        "        processed_dict[key] = sublists\n",
        "    return processed_dict"
      ],
      "metadata": {
        "id": "aqXTQ0E3t1zT"
      },
      "execution_count": 14,
      "outputs": []
    },
    {
      "cell_type": "code",
      "source": [
        "processed_dict = process_dict(lines_WO_header)"
      ],
      "metadata": {
        "id": "lTaf7gzyt32j"
      },
      "execution_count": 15,
      "outputs": []
    },
    {
      "cell_type": "markdown",
      "source": [
        "**Zeitstempel in Datensatz finden:**"
      ],
      "metadata": {
        "id": "uscoR4cRFvIn"
      }
    },
    {
      "cell_type": "code",
      "source": [
        "# Funktion zum finden eines 5 stelligen Integers (= Zeitstempel)\n",
        "def find_5_digit_integers(input_list):\n",
        "    result = []\n",
        "    for sublist in input_list:\n",
        "        for element in sublist:\n",
        "            if isinstance(element, str) and element.isdigit() and len(element) == 5:\n",
        "                result.append(element)\n",
        "    return result"
      ],
      "metadata": {
        "id": "WI-aukhcgE1E"
      },
      "execution_count": 16,
      "outputs": []
    },
    {
      "cell_type": "code",
      "source": [
        "# Funktion, die durch das dict iterriert (und die Funktion \"find_5_digit_integers\" aufruft)\n",
        "def find_5_digit_integers_in_dict(input_dict):\n",
        "    result_dict = {}\n",
        "    for key, value in input_dict.items():\n",
        "        result_dict[key] = find_5_digit_integers(value)\n",
        "    return result_dict"
      ],
      "metadata": {
        "id": "gvgssDUayRve"
      },
      "execution_count": 17,
      "outputs": []
    },
    {
      "cell_type": "code",
      "source": [
        "result_dict = find_5_digit_integers_in_dict(processed_dict)"
      ],
      "metadata": {
        "id": "3dJYofTuiM6m"
      },
      "execution_count": 18,
      "outputs": []
    },
    {
      "cell_type": "markdown",
      "source": [
        "**Dict in Dataframe speichern:**"
      ],
      "metadata": {
        "id": "gapz7ewHV3F4"
      }
    },
    {
      "cell_type": "code",
      "source": [
        "# Erstelle eine leere Liste, um die Zeilen für den DataFrame aufzunehmen\n",
        "data_rows = []\n",
        "df_rows = pd.DataFrame()\n",
        "df_Messdaten = pd.DataFrame()\n",
        "\n",
        "# Iteriere durch das verschachtelte Dictionary und erstelle Zeilen für den DataFrame\n",
        "for key, value in processed_dict.items():\n",
        "    for sublist in value:\n",
        "        data_rows.append([key] + sublist)\n",
        "\n",
        "# Definiere Spaltennamen für den DataFrame\n",
        "columns = ['Datum'] + [f'Wert{i}' for i in range(1, len(data_rows[0]))]\n",
        "\n",
        "# Erstelle den Pandas DataFrame\n",
        "df_rows = pd.DataFrame(data_rows, columns=columns)\n",
        "df_Messdaten = df_rows.copy()"
      ],
      "metadata": {
        "id": "IxMzzikpWGXY"
      },
      "execution_count": 19,
      "outputs": []
    },
    {
      "cell_type": "markdown",
      "source": [
        "**Prüfen, ob der Inhalt des DF korrekt ist:**"
      ],
      "metadata": {
        "id": "otw05cgGuEG9"
      }
    },
    {
      "cell_type": "code",
      "source": [
        "df_rows[df_rows['Datum'].astype('string') == '2023-05-26']"
      ],
      "metadata": {
        "id": "A9285K3xuDk6",
        "outputId": "2703d888-5145-444a-a267-f1016582b9ec",
        "colab": {
          "base_uri": "https://localhost:8080/",
          "height": 99
        }
      },
      "execution_count": 20,
      "outputs": [
        {
          "output_type": "execute_result",
          "data": {
            "text/plain": [
              "Empty DataFrame\n",
              "Columns: [Datum, Wert1, Wert2, Wert3, Wert4, Wert5, Wert6, Wert7, Wert8, Wert9, Wert10, Wert11, Wert12, Wert13, Wert14, Wert15, Wert16, Wert17, Wert18, Wert19, Wert20, Wert21, Wert22, Wert23, Wert24, Wert25, Wert26, Wert27, Wert28, Wert29, Wert30, Wert31, Wert32, Wert33, Wert34, Wert35, Wert36, Wert37, Wert38, Wert39, Wert40, Wert41, Wert42, Wert43, Wert44, Wert45, Wert46, Wert47, Wert48, Wert49, Wert50, Wert51, Wert52, Wert53, Wert54, Wert55, Wert56, Wert57, Wert58, Wert59, Wert60, Wert61, Wert62, Wert63, Wert64, Wert65, Wert66, Wert67, Wert68, Wert69, Wert70, Wert71, Wert72, Wert73, Wert74, Wert75, Wert76, Wert77, Wert78, Wert79, Wert80, Wert81, Wert82, Wert83, Wert84, Wert85, Wert86, Wert87, Wert88, Wert89, Wert90, Wert91, Wert92, Wert93, Wert94, Wert95, Wert96, Wert97, Wert98, Wert99, ...]\n",
              "Index: []\n",
              "\n",
              "[0 rows x 1319 columns]"
            ],
            "text/html": [
              "\n",
              "  <div id=\"df-3724f0d2-b7b4-4158-aba2-47e9fc2b3a6d\" class=\"colab-df-container\">\n",
              "    <div>\n",
              "<style scoped>\n",
              "    .dataframe tbody tr th:only-of-type {\n",
              "        vertical-align: middle;\n",
              "    }\n",
              "\n",
              "    .dataframe tbody tr th {\n",
              "        vertical-align: top;\n",
              "    }\n",
              "\n",
              "    .dataframe thead th {\n",
              "        text-align: right;\n",
              "    }\n",
              "</style>\n",
              "<table border=\"1\" class=\"dataframe\">\n",
              "  <thead>\n",
              "    <tr style=\"text-align: right;\">\n",
              "      <th></th>\n",
              "      <th>Datum</th>\n",
              "      <th>Wert1</th>\n",
              "      <th>Wert2</th>\n",
              "      <th>Wert3</th>\n",
              "      <th>Wert4</th>\n",
              "      <th>Wert5</th>\n",
              "      <th>Wert6</th>\n",
              "      <th>Wert7</th>\n",
              "      <th>Wert8</th>\n",
              "      <th>Wert9</th>\n",
              "      <th>...</th>\n",
              "      <th>Wert1309</th>\n",
              "      <th>Wert1310</th>\n",
              "      <th>Wert1311</th>\n",
              "      <th>Wert1312</th>\n",
              "      <th>Wert1313</th>\n",
              "      <th>Wert1314</th>\n",
              "      <th>Wert1315</th>\n",
              "      <th>Wert1316</th>\n",
              "      <th>Wert1317</th>\n",
              "      <th>Wert1318</th>\n",
              "    </tr>\n",
              "  </thead>\n",
              "  <tbody>\n",
              "  </tbody>\n",
              "</table>\n",
              "<p>0 rows × 1319 columns</p>\n",
              "</div>\n",
              "    <div class=\"colab-df-buttons\">\n",
              "\n",
              "  <div class=\"colab-df-container\">\n",
              "    <button class=\"colab-df-convert\" onclick=\"convertToInteractive('df-3724f0d2-b7b4-4158-aba2-47e9fc2b3a6d')\"\n",
              "            title=\"Convert this dataframe to an interactive table.\"\n",
              "            style=\"display:none;\">\n",
              "\n",
              "  <svg xmlns=\"http://www.w3.org/2000/svg\" height=\"24px\" viewBox=\"0 -960 960 960\">\n",
              "    <path d=\"M120-120v-720h720v720H120Zm60-500h600v-160H180v160Zm220 220h160v-160H400v160Zm0 220h160v-160H400v160ZM180-400h160v-160H180v160Zm440 0h160v-160H620v160ZM180-180h160v-160H180v160Zm440 0h160v-160H620v160Z\"/>\n",
              "  </svg>\n",
              "    </button>\n",
              "\n",
              "  <style>\n",
              "    .colab-df-container {\n",
              "      display:flex;\n",
              "      gap: 12px;\n",
              "    }\n",
              "\n",
              "    .colab-df-convert {\n",
              "      background-color: #E8F0FE;\n",
              "      border: none;\n",
              "      border-radius: 50%;\n",
              "      cursor: pointer;\n",
              "      display: none;\n",
              "      fill: #1967D2;\n",
              "      height: 32px;\n",
              "      padding: 0 0 0 0;\n",
              "      width: 32px;\n",
              "    }\n",
              "\n",
              "    .colab-df-convert:hover {\n",
              "      background-color: #E2EBFA;\n",
              "      box-shadow: 0px 1px 2px rgba(60, 64, 67, 0.3), 0px 1px 3px 1px rgba(60, 64, 67, 0.15);\n",
              "      fill: #174EA6;\n",
              "    }\n",
              "\n",
              "    .colab-df-buttons div {\n",
              "      margin-bottom: 4px;\n",
              "    }\n",
              "\n",
              "    [theme=dark] .colab-df-convert {\n",
              "      background-color: #3B4455;\n",
              "      fill: #D2E3FC;\n",
              "    }\n",
              "\n",
              "    [theme=dark] .colab-df-convert:hover {\n",
              "      background-color: #434B5C;\n",
              "      box-shadow: 0px 1px 3px 1px rgba(0, 0, 0, 0.15);\n",
              "      filter: drop-shadow(0px 1px 2px rgba(0, 0, 0, 0.3));\n",
              "      fill: #FFFFFF;\n",
              "    }\n",
              "  </style>\n",
              "\n",
              "    <script>\n",
              "      const buttonEl =\n",
              "        document.querySelector('#df-3724f0d2-b7b4-4158-aba2-47e9fc2b3a6d button.colab-df-convert');\n",
              "      buttonEl.style.display =\n",
              "        google.colab.kernel.accessAllowed ? 'block' : 'none';\n",
              "\n",
              "      async function convertToInteractive(key) {\n",
              "        const element = document.querySelector('#df-3724f0d2-b7b4-4158-aba2-47e9fc2b3a6d');\n",
              "        const dataTable =\n",
              "          await google.colab.kernel.invokeFunction('convertToInteractive',\n",
              "                                                    [key], {});\n",
              "        if (!dataTable) return;\n",
              "\n",
              "        const docLinkHtml = 'Like what you see? Visit the ' +\n",
              "          '<a target=\"_blank\" href=https://colab.research.google.com/notebooks/data_table.ipynb>data table notebook</a>'\n",
              "          + ' to learn more about interactive tables.';\n",
              "        element.innerHTML = '';\n",
              "        dataTable['output_type'] = 'display_data';\n",
              "        await google.colab.output.renderOutput(dataTable, element);\n",
              "        const docLink = document.createElement('div');\n",
              "        docLink.innerHTML = docLinkHtml;\n",
              "        element.appendChild(docLink);\n",
              "      }\n",
              "    </script>\n",
              "  </div>\n",
              "\n",
              "\n",
              "    </div>\n",
              "  </div>\n"
            ],
            "application/vnd.google.colaboratory.intrinsic+json": {
              "type": "dataframe"
            }
          },
          "metadata": {},
          "execution_count": 20
        }
      ]
    },
    {
      "cell_type": "markdown",
      "source": [
        "##Konvertieren des DF:"
      ],
      "metadata": {
        "id": "hEUUcL5RuL_t"
      }
    },
    {
      "cell_type": "code",
      "source": [
        "# Bestimme die Indexposition, ab der die neuen Spaltennamen zugewiesen werden sollen\n",
        "start_index = 18  # Beginne ab der 18ten Spalte um an die Messdaten zu kommen\n",
        "\n",
        "new_column_names = []\n",
        "\n",
        "# Extrahiere die neuen Spaltennamen aus dem zweiten DataFrame\n",
        "new_column_names = df_Wellenlaenge['Wellenlaenge'].tolist()\n",
        "print(new_column_names)\n",
        "\n",
        "# Ändere die Spaltennamen des DataFrames ab der angegebenen Indexposition\n",
        "for i, new_name in enumerate(new_column_names):\n",
        "    df_Messdaten.columns.values[start_index + i] = new_name"
      ],
      "metadata": {
        "id": "HK9mS7hkjQGB",
        "colab": {
          "base_uri": "https://localhost:8080/"
        },
        "outputId": "f822dc67-0393-413f-995a-4409e9736b1a"
      },
      "execution_count": 21,
      "outputs": [
        {
          "output_type": "stream",
          "name": "stdout",
          "text": [
            "[290.0, 290.1, 290.2, 290.3, 290.4, 290.5, 290.6, 290.7, 290.8, 290.9, 291.0, 291.1, 291.2, 291.3, 291.4, 291.5, 291.6, 291.7, 291.8, 291.9, 292.0, 292.1, 292.2, 292.3, 292.4, 292.5, 292.6, 292.7, 292.8, 292.9, 293.0, 293.1, 293.2, 293.3, 293.4, 293.5, 293.6, 293.7, 293.8, 293.9, 294.0, 294.1, 294.2, 294.3, 294.4, 294.5, 294.6, 294.7, 294.8, 294.9, 295.0, 295.1, 295.2, 295.3, 295.4, 295.5, 295.6, 295.7, 295.8, 295.9, 296.0, 296.1, 296.2, 296.3, 296.4, 296.5, 296.6, 296.7, 296.8, 296.9, 297.0, 297.1, 297.2, 297.3, 297.4, 297.5, 297.6, 297.7, 297.8, 297.9, 298.0, 298.1, 298.2, 298.3, 298.4, 298.5, 298.6, 298.7, 298.8, 298.9, 299.0, 299.1, 299.2, 299.3, 299.4, 299.5, 299.6, 299.7, 299.8, 299.9, 300.0, 300.1, 300.2, 300.3, 300.4, 300.5, 300.6, 300.7, 300.8, 300.9, 301.0, 301.1, 301.2, 301.3, 301.4, 301.5, 301.6, 301.7, 301.8, 301.9, 302.0, 302.1, 302.2, 302.3, 302.4, 302.5, 302.6, 302.7, 302.8, 302.9, 303.0, 303.1, 303.2, 303.3, 303.4, 303.5, 303.6, 303.7, 303.8, 303.9, 304.0, 304.1, 304.2, 304.3, 304.4, 304.5, 304.6, 304.7, 304.8, 304.9, 305.0, 305.1, 305.2, 305.3, 305.4, 305.5, 305.6, 305.7, 305.8, 305.9, 306.0, 306.1, 306.2, 306.3, 306.4, 306.5, 306.6, 306.7, 306.8, 306.9, 307.0, 307.1, 307.2, 307.3, 307.4, 307.5, 307.6, 307.7, 307.8, 307.9, 308.0, 308.1, 308.2, 308.3, 308.4, 308.5, 308.6, 308.7, 308.8, 308.9, 309.0, 309.1, 309.2, 309.3, 309.4, 309.5, 309.6, 309.7, 309.8, 309.9, 310.0, 310.1, 310.2, 310.3, 310.4, 310.5, 310.6, 310.7, 310.8, 310.9, 311.0, 311.1, 311.2, 311.3, 311.4, 311.5, 311.6, 311.7, 311.8, 311.9, 312.0, 312.1, 312.2, 312.3, 312.4, 312.5, 312.6, 312.7, 312.8, 312.9, 313.0, 313.1, 313.2, 313.3, 313.4, 313.5, 313.6, 313.7, 313.8, 313.9, 314.0, 314.1, 314.2, 314.3, 314.4, 314.5, 314.6, 314.7, 314.8, 314.9, 315.0, 315.1, 315.2, 315.3, 315.4, 315.5, 315.6, 315.7, 315.8, 315.9, 316.0, 316.1, 316.2, 316.3, 316.4, 316.5, 316.6, 316.7, 316.8, 316.9, 317.0, 317.1, 317.2, 317.3, 317.4, 317.5, 317.6, 317.7, 317.8, 317.9, 318.0, 318.1, 318.2, 318.3, 318.4, 318.5, 318.6, 318.7, 318.8, 318.9, 319.0, 319.1, 319.2, 319.3, 319.4, 319.5, 319.6, 319.7, 319.8, 319.9, 320.0, 320.1, 320.2, 320.3, 320.4, 320.5, 320.6, 320.7, 320.8, 320.9, 321.0, 321.1, 321.2, 321.3, 321.4, 321.5, 321.6, 321.7, 321.8, 321.9, 322.0, 322.1, 322.2, 322.3, 322.4, 322.5, 322.6, 322.7, 322.8, 322.9, 323.0, 323.1, 323.2, 323.3, 323.4, 323.5, 323.6, 323.7, 323.8, 323.9, 324.0, 324.1, 324.2, 324.3, 324.4, 324.5, 324.6, 324.7, 324.8, 324.9, 325.0, 325.1, 325.2, 325.3, 325.4, 325.5, 325.6, 325.7, 325.8, 325.9, 326.0, 326.1, 326.2, 326.3, 326.4, 326.5, 326.6, 326.7, 326.8, 326.9, 327.0, 327.1, 327.2, 327.3, 327.4, 327.5, 327.6, 327.7, 327.8, 327.9, 328.0, 328.1, 328.2, 328.3, 328.4, 328.5, 328.6, 328.7, 328.8, 328.9, 329.0, 329.1, 329.2, 329.3, 329.4, 329.5, 329.6, 329.7, 329.8, 329.9, 330.0, 330.1, 330.2, 330.3, 330.4, 330.5, 330.6, 330.7, 330.8, 330.9, 331.0, 331.1, 331.2, 331.3, 331.4, 331.5, 331.6, 331.7, 331.8, 331.9, 332.0, 332.1, 332.2, 332.3, 332.4, 332.5, 332.6, 332.7, 332.8, 332.9, 333.0, 333.1, 333.2, 333.3, 333.4, 333.5, 333.6, 333.7, 333.8, 333.9, 334.0, 334.1, 334.2, 334.3, 334.4, 334.5, 334.6, 334.7, 334.8, 334.9, 335.0, 335.1, 335.2, 335.3, 335.4, 335.5, 335.6, 335.7, 335.8, 335.9, 336.0, 336.1, 336.2, 336.3, 336.4, 336.5, 336.6, 336.7, 336.8, 336.9, 337.0, 337.1, 337.2, 337.3, 337.4, 337.5, 337.6, 337.7, 337.8, 337.9, 338.0, 338.1, 338.2, 338.3, 338.4, 338.5, 338.6, 338.7, 338.8, 338.9, 339.0, 339.1, 339.2, 339.3, 339.4, 339.5, 339.6, 339.7, 339.8, 339.9, 340.0, 340.1, 340.2, 340.3, 340.4, 340.5, 340.6, 340.7, 340.8, 340.9, 341.0, 341.1, 341.2, 341.3, 341.4, 341.5, 341.6, 341.7, 341.8, 341.9, 342.0, 342.1, 342.2, 342.3, 342.4, 342.5, 342.6, 342.7, 342.8, 342.9, 343.0, 343.1, 343.2, 343.3, 343.4, 343.5, 343.6, 343.7, 343.8, 343.9, 344.0, 344.1, 344.2, 344.3, 344.4, 344.5, 344.6, 344.7, 344.8, 344.9, 345.0, 345.1, 345.2, 345.3, 345.4, 345.5, 345.6, 345.7, 345.8, 345.9, 346.0, 346.1, 346.2, 346.3, 346.4, 346.5, 346.6, 346.7, 346.8, 346.9, 347.0, 347.1, 347.2, 347.3, 347.4, 347.5, 347.6, 347.7, 347.8, 347.9, 348.0, 348.1, 348.2, 348.3, 348.4, 348.5, 348.6, 348.7, 348.8, 348.9, 349.0, 349.1, 349.2, 349.3, 349.4, 349.5, 349.6, 349.7, 349.8, 349.9, 350.0, 350.1, 350.2, 350.3, 350.4, 350.5, 350.6, 350.7, 350.8, 350.9, 351.0, 351.1, 351.2, 351.3, 351.4, 351.5, 351.6, 351.7, 351.8, 351.9, 352.0, 352.1, 352.2, 352.3, 352.4, 352.5, 352.6, 352.7, 352.8, 352.9, 353.0, 353.1, 353.2, 353.3, 353.4, 353.5, 353.6, 353.7, 353.8, 353.9, 354.0, 354.1, 354.2, 354.3, 354.4, 354.5, 354.6, 354.7, 354.8, 354.9, 355.0, 355.1, 355.2, 355.3, 355.4, 355.5, 355.6, 355.7, 355.8, 355.9, 356.0, 356.1, 356.2, 356.3, 356.4, 356.5, 356.6, 356.7, 356.8, 356.9, 357.0, 357.1, 357.2, 357.3, 357.4, 357.5, 357.6, 357.7, 357.8, 357.9, 358.0, 358.1, 358.2, 358.3, 358.4, 358.5, 358.6, 358.7, 358.8, 358.9, 359.0, 359.1, 359.2, 359.3, 359.4, 359.5, 359.6, 359.7, 359.8, 359.9, 360.0, 360.1, 360.2, 360.3, 360.4, 360.5, 360.6, 360.7, 360.8, 360.9, 361.0, 361.1, 361.2, 361.3, 361.4, 361.5, 361.6, 361.7, 361.8, 361.9, 362.0, 362.1, 362.2, 362.3, 362.4, 362.5, 362.6, 362.7, 362.8, 362.9, 363.0, 363.1, 363.2, 363.3, 363.4, 363.5, 363.6, 363.7, 363.8, 363.9, 364.0, 364.1, 364.2, 364.3, 364.4, 364.5, 364.6, 364.7, 364.8, 364.9, 365.0, 365.1, 365.2, 365.3, 365.4, 365.5, 365.6, 365.7, 365.8, 365.9, 366.0, 366.1, 366.2, 366.3, 366.4, 366.5, 366.6, 366.7, 366.8, 366.9, 367.0, 367.1, 367.2, 367.3, 367.4, 367.5, 367.6, 367.7, 367.8, 367.9, 368.0, 368.1, 368.2, 368.3, 368.4, 368.5, 368.6, 368.7, 368.8, 368.9, 369.0, 369.1, 369.2, 369.3, 369.4, 369.5, 369.6, 369.7, 369.8, 369.9, 370.0, 370.1, 370.2, 370.3, 370.4, 370.5, 370.6, 370.7, 370.8, 370.9, 371.0, 371.1, 371.2, 371.3, 371.4, 371.5, 371.6, 371.7, 371.8, 371.9, 372.0, 372.1, 372.2, 372.3, 372.4, 372.5, 372.6, 372.7, 372.8, 372.9, 373.0, 373.1, 373.2, 373.3, 373.4, 373.5, 373.6, 373.7, 373.8, 373.9, 374.0, 374.1, 374.2, 374.3, 374.4, 374.5, 374.6, 374.7, 374.8, 374.9, 375.0, 375.1, 375.2, 375.3, 375.4, 375.5, 375.6, 375.7, 375.8, 375.9, 376.0, 376.1, 376.2, 376.3, 376.4, 376.5, 376.6, 376.7, 376.8, 376.9, 377.0, 377.1, 377.2, 377.3, 377.4, 377.5, 377.6, 377.7, 377.8, 377.9, 378.0, 378.1, 378.2, 378.3, 378.4, 378.5, 378.6, 378.7, 378.8, 378.9, 379.0, 379.1, 379.2, 379.3, 379.4, 379.5, 379.6, 379.7, 379.8, 379.9, 380.0, 380.1, 380.2, 380.3, 380.4, 380.5, 380.6, 380.7, 380.8, 380.9, 381.0, 381.1, 381.2, 381.3, 381.4, 381.5, 381.6, 381.7, 381.8, 381.9, 382.0, 382.1, 382.2, 382.3, 382.4, 382.5, 382.6, 382.7, 382.8, 382.9, 383.0, 383.1, 383.2, 383.3, 383.4, 383.5, 383.6, 383.7, 383.8, 383.9, 384.0, 384.1, 384.2, 384.3, 384.4, 384.5, 384.6, 384.7, 384.8, 384.9, 385.0, 385.1, 385.2, 385.3, 385.4, 385.5, 385.6, 385.7, 385.8, 385.9, 386.0, 386.1, 386.2, 386.3, 386.4, 386.5, 386.6, 386.7, 386.8, 386.9, 387.0, 387.1, 387.2, 387.3, 387.4, 387.5, 387.6, 387.7, 387.8, 387.9, 388.0, 388.1, 388.2, 388.3, 388.4, 388.5, 388.6, 388.7, 388.8, 388.9, 389.0, 389.1, 389.2, 389.3, 389.4, 389.5, 389.6, 389.7, 389.8, 389.9, 390.0, 390.1, 390.2, 390.3, 390.4, 390.5, 390.6, 390.7, 390.8, 390.9, 391.0, 391.1, 391.2, 391.3, 391.4, 391.5, 391.6, 391.7, 391.8, 391.9, 392.0, 392.1, 392.2, 392.3, 392.4, 392.5, 392.6, 392.7, 392.8, 392.9, 393.0, 393.1, 393.2, 393.3, 393.4, 393.5, 393.6, 393.7, 393.8, 393.9, 394.0, 394.1, 394.2, 394.3, 394.4, 394.5, 394.6, 394.7, 394.8, 394.9, 395.0, 395.1, 395.2, 395.3, 395.4, 395.5, 395.6, 395.7, 395.8, 395.9, 396.0, 396.1, 396.2, 396.3, 396.4, 396.5, 396.6, 396.7, 396.8, 396.9, 397.0, 397.1, 397.2, 397.3, 397.4, 397.5, 397.6, 397.7, 397.8, 397.9, 398.0, 398.1, 398.2, 398.3, 398.4, 398.5, 398.6, 398.7, 398.8, 398.9, 399.0, 399.1, 399.2, 399.3, 399.4, 399.5, 399.6, 399.7, 399.8, 399.9, 400.0, 400.1, 400.2, 400.3, 400.4, 400.5, 400.6, 400.7, 400.8, 400.9, 401.0, 401.1, 401.2, 401.3, 401.4, 401.5, 401.6, 401.7, 401.8, 401.9, 402.0, 402.1, 402.2, 402.3, 402.4, 402.5, 402.6, 402.7, 402.8, 402.9, 403.0, 403.1, 403.2, 403.3, 403.4, 403.5, 403.6, 403.7, 403.8, 403.9, 404.0, 404.1, 404.2, 404.3, 404.4, 404.5, 404.6, 404.7, 404.8, 404.9, 405.0, 405.1, 405.2, 405.3, 405.4, 405.5, 405.6, 405.7, 405.8, 405.9, 406.0, 406.1, 406.2, 406.3, 406.4, 406.5, 406.6, 406.7, 406.8, 406.9, 407.0, 407.1, 407.2, 407.3, 407.4, 407.5, 407.6, 407.7, 407.8, 407.9, 408.0, 408.1, 408.2, 408.3, 408.4, 408.5, 408.6, 408.7, 408.8, 408.9, 409.0, 409.1, 409.2, 409.3, 409.4, 409.5, 409.6, 409.7, 409.8, 409.9, 410.0, 410.1, 410.2, 410.3, 410.4, 410.5, 410.6, 410.7, 410.8, 410.9, 411.0, 411.1, 411.2, 411.3, 411.4, 411.5, 411.6, 411.7, 411.8, 411.9, 412.0, 412.1, 412.2, 412.3, 412.4, 412.5, 412.6, 412.7, 412.8, 412.9, 413.0, 413.1, 413.2, 413.3, 413.4, 413.5, 413.6, 413.7, 413.8, 413.9, 414.0, 414.1, 414.2, 414.3, 414.4, 414.5, 414.6, 414.7, 414.8, 414.9, 415.0, 415.1, 415.2, 415.3, 415.4, 415.5, 415.6, 415.7, 415.8, 415.9, 416.0, 416.1, 416.2, 416.3, 416.4, 416.5, 416.6, 416.7, 416.8, 416.9, 417.0, 417.1, 417.2, 417.3, 417.4, 417.5, 417.6, 417.7, 417.8, 417.9, 418.0, 418.1, 418.2, 418.3, 418.4, 418.5, 418.6, 418.7, 418.8, 418.9, 419.0, 419.1, 419.2, 419.3, 419.4, 419.5, 419.6, 419.7, 419.8, 419.9, 420.0]\n"
          ]
        }
      ]
    },
    {
      "cell_type": "code",
      "source": [
        "# df_Messdaten"
      ],
      "metadata": {
        "id": "FYgIYarXhCIc"
      },
      "execution_count": 22,
      "outputs": []
    },
    {
      "cell_type": "code",
      "source": [
        "# Splaten in float umwandeln\n",
        "for spalte in new_column_names:\n",
        "    # Konvertiere nur, wenn die Spalte im DataFrame existiert\n",
        "    if str(spalte) in df_Messdaten.columns:\n",
        "        df_Messdaten[str(spalte)] = df_Messdaten[str(spalte)].astype(float)"
      ],
      "metadata": {
        "id": "mIi1pCXGsjJe"
      },
      "execution_count": 23,
      "outputs": []
    },
    {
      "cell_type": "code",
      "source": [
        "# Funktion zum Konvertieren des Datumsformats\n",
        "def convert_date_format(date_str):\n",
        "    date_str = date_str[2:]  # Entferne das \"SA\"-Präfix\n",
        "    date_obj = datetime.strptime(date_str, \"%y%m%d\")\n",
        "    return date_obj"
      ],
      "metadata": {
        "id": "QMcU_jOo6MlD"
      },
      "execution_count": 24,
      "outputs": []
    },
    {
      "cell_type": "code",
      "source": [
        "# Wende die Funktion auf die Spalte an\n",
        "df_Messdaten['Datum'] = df_Messdaten['Datum'].apply(convert_date_format)"
      ],
      "metadata": {
        "id": "3ymirsQx747Z"
      },
      "execution_count": 25,
      "outputs": []
    },
    {
      "cell_type": "markdown",
      "source": [
        "## Export und Import:\n",
        " !Dataframe muss exportiert und wieder importiert werden, damit die Zeilen ordnungsgemäß gelöscht werden können!"
      ],
      "metadata": {
        "id": "hNL9z9a0N1Sx"
      }
    },
    {
      "cell_type": "code",
      "source": [
        "def save_dataframe_to_drive(dataframe, folder_path, filename):\n",
        "\n",
        "    # Erstelle den vollen Pfad zur Datei\n",
        "    full_path = os.path.join(folder_path, filename)\n",
        "\n",
        "    # Speichere den DataFrame als CSV-Datei auf Google Drive\n",
        "    dataframe.to_csv(full_path, index=False)\n",
        "\n",
        "    print(f'Der DataFrame wurde als {filename} in {folder_path} auf Google Drive gespeichert.')"
      ],
      "metadata": {
        "id": "w8FRjN2a0pic"
      },
      "execution_count": 26,
      "outputs": []
    },
    {
      "cell_type": "code",
      "source": [
        "# Dataframe abspeichern und wieder importieren\n",
        "folder_path2 = '/content/drive/My Drive/Colab_Notebooks/CSV_Zwischenspeicher/'\n",
        "save_dataframe_to_drive(df_Messdaten, folder_path2, month)"
      ],
      "metadata": {
        "id": "J8HZF6_0l9Ae",
        "colab": {
          "base_uri": "https://localhost:8080/"
        },
        "outputId": "9b3aaff4-6e86-4d5d-e128-f21ecd5ead84"
      },
      "execution_count": 27,
      "outputs": [
        {
          "output_type": "stream",
          "name": "stdout",
          "text": [
            "Der DataFrame wurde als 23.01 in /content/drive/My Drive/Colab_Notebooks/CSV_Zwischenspeicher/ auf Google Drive gespeichert.\n"
          ]
        }
      ]
    },
    {
      "cell_type": "code",
      "source": [
        "df_Messdaten_drop = pd.DataFrame()\n",
        "df_drop = pd.DataFrame()\n",
        "df_drop = pd.read_csv(folder_path2 + month)"
      ],
      "metadata": {
        "id": "jJEYuId5m1CZ"
      },
      "execution_count": 28,
      "outputs": []
    },
    {
      "cell_type": "markdown",
      "source": [
        "## Löschen nicht gebrauchter Spalten:"
      ],
      "metadata": {
        "id": "VnkuDSYyppPR"
      }
    },
    {
      "cell_type": "code",
      "source": [
        "spalten_zum_loeschen = df_drop.columns[2:18]  # Index 3 bis Index 19\n",
        "df_Messdaten_drop = df_drop.drop(spalten_zum_loeschen, axis=1).copy()"
      ],
      "metadata": {
        "id": "wqjrgDVjk70T"
      },
      "execution_count": 29,
      "outputs": []
    },
    {
      "cell_type": "code",
      "source": [
        "# Umbenennen der Spalte mit dem Zeitstempel\n",
        "df_Messdaten_drop.rename(columns={'Wert1': 'Messzeitpunkt'}, inplace=True)"
      ],
      "metadata": {
        "id": "6_sh7TVXcPqB"
      },
      "execution_count": 30,
      "outputs": []
    },
    {
      "cell_type": "code",
      "source": [
        "# df_Messdaten_drop"
      ],
      "metadata": {
        "id": "2zsIqOGrk-K3"
      },
      "execution_count": 31,
      "outputs": []
    },
    {
      "cell_type": "code",
      "source": [
        "# print(df_Messdaten.isnull().sum(), df_Messdaten_drop.isnull().sum())"
      ],
      "metadata": {
        "id": "tbYaaFvtpQBF"
      },
      "execution_count": 32,
      "outputs": []
    },
    {
      "cell_type": "code",
      "source": [
        "df_Messdaten_drop.columns"
      ],
      "metadata": {
        "id": "H50uAN6ooqTR",
        "colab": {
          "base_uri": "https://localhost:8080/"
        },
        "outputId": "1bef6e29-7520-4227-9241-03c1862d443b"
      },
      "execution_count": 33,
      "outputs": [
        {
          "output_type": "execute_result",
          "data": {
            "text/plain": [
              "Index(['Datum', 'Messzeitpunkt', '290.0', '290.1', '290.2', '290.3', '290.4',\n",
              "       '290.5', '290.6', '290.7',\n",
              "       ...\n",
              "       '419.1', '419.2', '419.3', '419.4', '419.5', '419.6', '419.7', '419.8',\n",
              "       '419.9', '420.0'],\n",
              "      dtype='object', length=1303)"
            ]
          },
          "metadata": {},
          "execution_count": 33
        }
      ]
    },
    {
      "cell_type": "markdown",
      "source": [
        "## Zeitstempel in Uhrzeit decodieren:\n",
        "\n",
        "Der Zeitstempel ist als Zeit in Sekunden ab Tagesbeginn codiert und wir in eine Uhrzeit umgewandelt."
      ],
      "metadata": {
        "id": "trCCCWT_p6HN"
      }
    },
    {
      "cell_type": "code",
      "source": [
        "def seconds_to_time(seconds):\n",
        "    # Sicherstellen, dass die Eingabe eine Ganzzahl ist\n",
        "    if not isinstance(seconds, int):\n",
        "        raise ValueError(\"Die Eingabe muss eine Ganzzahl sein\")\n",
        "\n",
        "    # Sicherstellen, dass die Eingabe im Bereich eines Tages liegt\n",
        "    if seconds < 0 or seconds >= 24*60*60:\n",
        "        raise ValueError(\"Die Eingabe muss zwischen 0 und 86399 Sekunden liegen\")\n",
        "\n",
        "    # Erstellen eines datetime.time-Objekts aus den Sekunden\n",
        "    return (datetime.min + timedelta(seconds=seconds)).time()"
      ],
      "metadata": {
        "id": "Qo3UqmUGbLJF"
      },
      "execution_count": 34,
      "outputs": []
    },
    {
      "cell_type": "markdown",
      "source": [
        "Die Splate Uhrzeit gibt es noch nicht und muss noch eingefügt werden."
      ],
      "metadata": {
        "id": "_OWBjwQaKsN-"
      }
    },
    {
      "cell_type": "code",
      "source": [
        "df_Messdaten_drop.insert(1, 'Uhrzeit', df_Messdaten_drop['Messzeitpunkt'].apply(seconds_to_time))"
      ],
      "metadata": {
        "id": "F9An-Y14bDzD"
      },
      "execution_count": 35,
      "outputs": []
    },
    {
      "cell_type": "code",
      "source": [
        "# df_Messdaten_drop"
      ],
      "metadata": {
        "id": "I5szUUFEbNs-"
      },
      "execution_count": 36,
      "outputs": []
    },
    {
      "cell_type": "markdown",
      "source": [
        "## Splaten umbennen und ordnen\n",
        "spalte_uhrzeit = pd.to_datetime(df_Messdaten_drop['Wert1'], unit='s').dt.time\n",
        "\n",
        "print(spalte_uhrzeit)\n",
        "\n",
        "position = 1\n",
        "df_Messdaten_drop.insert(position, 'Uhrzeit', spalte_uhrzeit)\n",
        "\n",
        "spaltenname = 'Messzeitpunkt'\n",
        "df_Messdaten_drop.rename(columns={'Wert1': spaltenname}, inplace=True)"
      ],
      "metadata": {
        "id": "RUMO_4LRKVfs"
      }
    },
    {
      "cell_type": "code",
      "source": [
        "# Datum Spalte einfügen\n",
        "df_Messdaten_drop['Datum'] = pd.to_datetime(df_Messdaten_drop['Datum'], format=\"%Y-%m-%d\").dt.date\n",
        "# Datetime Spalte einfügen\n",
        "df_Messdaten_drop['Datetime'] = df_Messdaten_drop.apply(lambda row: datetime.combine(row['Datum'], row['Uhrzeit']), axis=1)\n",
        "\n",
        "# Datetime Spalte an den Index 0 verschieben\n",
        "df_Messdaten_drop.insert(0, 'Datetime', df_Messdaten_drop.pop('Datetime'))"
      ],
      "metadata": {
        "id": "XWd1u0bkm4Y8"
      },
      "execution_count": 37,
      "outputs": []
    },
    {
      "cell_type": "code",
      "source": [
        "df_Messdaten_drop"
      ],
      "metadata": {
        "id": "U4i77KdFzcVD",
        "colab": {
          "base_uri": "https://localhost:8080/",
          "height": 791
        },
        "outputId": "3c60e7dd-ea02-4ddd-c6de-d506d23d804c"
      },
      "execution_count": 38,
      "outputs": [
        {
          "output_type": "execute_result",
          "data": {
            "text/plain": [
              "                Datetime       Datum   Uhrzeit  Messzeitpunkt  290.0  290.1  \\\n",
              "0    2023-01-03 13:23:00  2023-01-03  13:23:00          48180    0.0    0.0   \n",
              "1    2023-01-03 13:25:00  2023-01-03  13:25:00          48300    0.0    0.0   \n",
              "2    2023-01-03 13:27:00  2023-01-03  13:27:00          48420    0.0    0.0   \n",
              "3    2023-01-03 13:29:00  2023-01-03  13:29:00          48540    0.0    0.0   \n",
              "4    2023-01-03 13:31:00  2023-01-03  13:31:00          48660    0.0    0.0   \n",
              "...                  ...         ...       ...            ...    ...    ...   \n",
              "7390 2023-01-31 15:56:00  2023-01-31  15:56:00          57360    0.0    0.0   \n",
              "7391 2023-01-31 15:58:00  2023-01-31  15:58:00          57480    0.0    0.0   \n",
              "7392 2023-01-31 16:00:00  2023-01-31  16:00:00          57600    0.0    0.0   \n",
              "7393 2023-01-31 16:02:00  2023-01-31  16:02:00          57720    0.0    0.0   \n",
              "7394 2023-01-31 16:04:00  2023-01-31  16:04:00          57840    0.0    0.0   \n",
              "\n",
              "      290.2  290.3  290.4  290.5  ...     419.1     419.2     419.3     419.4  \\\n",
              "0       0.0    0.0    0.0    0.0  ...  0.231380  0.231590  0.229700  0.225740   \n",
              "1       0.0    0.0    0.0    0.0  ...  0.224010  0.223890  0.222140  0.217220   \n",
              "2       0.0    0.0    0.0    0.0  ...  0.203460  0.203160  0.201080  0.196740   \n",
              "3       0.0    0.0    0.0    0.0  ...  0.237260  0.236590  0.233180  0.229990   \n",
              "4       0.0    0.0    0.0    0.0  ...  0.234130  0.233910  0.231640  0.227120   \n",
              "...     ...    ...    ...    ...  ...       ...       ...       ...       ...   \n",
              "7390    0.0    0.0    0.0    0.0  ...  0.008140  0.008079  0.007964  0.007826   \n",
              "7391    0.0    0.0    0.0    0.0  ...  0.005387  0.005368  0.005287  0.005189   \n",
              "7392    0.0    0.0    0.0    0.0  ...  0.005244  0.005231  0.005168  0.005071   \n",
              "7393    0.0    0.0    0.0    0.0  ...  0.004785  0.004739  0.004654  0.004562   \n",
              "7394    0.0    0.0    0.0    0.0  ...  0.004438  0.004407  0.004359  0.004309   \n",
              "\n",
              "         419.5     419.6     419.7     419.8     419.9     420.0  \n",
              "0     0.220830  0.217020  0.214900  0.213760  0.214050  0.216430  \n",
              "1     0.213480  0.209840  0.206860  0.206550  0.207620  0.209700  \n",
              "2     0.194060  0.190330  0.188790  0.188170  0.188580  0.190350  \n",
              "3     0.225480  0.222360  0.219070  0.217900  0.219060  0.221310  \n",
              "4     0.222590  0.219220  0.217400  0.216080  0.215980  0.218380  \n",
              "...        ...       ...       ...       ...       ...       ...  \n",
              "7390  0.007727  0.007543  0.007499  0.007493  0.007519  0.007578  \n",
              "7391  0.005085  0.004984  0.004967  0.004968  0.004983  0.005002  \n",
              "7392  0.004973  0.004908  0.004841  0.004825  0.004877  0.004912  \n",
              "7393  0.004510  0.004458  0.004409  0.004433  0.004401  0.004421  \n",
              "7394  0.004202  0.004157  0.004110  0.004098  0.004111  0.004127  \n",
              "\n",
              "[7395 rows x 1305 columns]"
            ],
            "text/html": [
              "\n",
              "  <div id=\"df-a21fbde6-72e5-4b12-87b1-baf608ef2ce2\" class=\"colab-df-container\">\n",
              "    <div>\n",
              "<style scoped>\n",
              "    .dataframe tbody tr th:only-of-type {\n",
              "        vertical-align: middle;\n",
              "    }\n",
              "\n",
              "    .dataframe tbody tr th {\n",
              "        vertical-align: top;\n",
              "    }\n",
              "\n",
              "    .dataframe thead th {\n",
              "        text-align: right;\n",
              "    }\n",
              "</style>\n",
              "<table border=\"1\" class=\"dataframe\">\n",
              "  <thead>\n",
              "    <tr style=\"text-align: right;\">\n",
              "      <th></th>\n",
              "      <th>Datetime</th>\n",
              "      <th>Datum</th>\n",
              "      <th>Uhrzeit</th>\n",
              "      <th>Messzeitpunkt</th>\n",
              "      <th>290.0</th>\n",
              "      <th>290.1</th>\n",
              "      <th>290.2</th>\n",
              "      <th>290.3</th>\n",
              "      <th>290.4</th>\n",
              "      <th>290.5</th>\n",
              "      <th>...</th>\n",
              "      <th>419.1</th>\n",
              "      <th>419.2</th>\n",
              "      <th>419.3</th>\n",
              "      <th>419.4</th>\n",
              "      <th>419.5</th>\n",
              "      <th>419.6</th>\n",
              "      <th>419.7</th>\n",
              "      <th>419.8</th>\n",
              "      <th>419.9</th>\n",
              "      <th>420.0</th>\n",
              "    </tr>\n",
              "  </thead>\n",
              "  <tbody>\n",
              "    <tr>\n",
              "      <th>0</th>\n",
              "      <td>2023-01-03 13:23:00</td>\n",
              "      <td>2023-01-03</td>\n",
              "      <td>13:23:00</td>\n",
              "      <td>48180</td>\n",
              "      <td>0.0</td>\n",
              "      <td>0.0</td>\n",
              "      <td>0.0</td>\n",
              "      <td>0.0</td>\n",
              "      <td>0.0</td>\n",
              "      <td>0.0</td>\n",
              "      <td>...</td>\n",
              "      <td>0.231380</td>\n",
              "      <td>0.231590</td>\n",
              "      <td>0.229700</td>\n",
              "      <td>0.225740</td>\n",
              "      <td>0.220830</td>\n",
              "      <td>0.217020</td>\n",
              "      <td>0.214900</td>\n",
              "      <td>0.213760</td>\n",
              "      <td>0.214050</td>\n",
              "      <td>0.216430</td>\n",
              "    </tr>\n",
              "    <tr>\n",
              "      <th>1</th>\n",
              "      <td>2023-01-03 13:25:00</td>\n",
              "      <td>2023-01-03</td>\n",
              "      <td>13:25:00</td>\n",
              "      <td>48300</td>\n",
              "      <td>0.0</td>\n",
              "      <td>0.0</td>\n",
              "      <td>0.0</td>\n",
              "      <td>0.0</td>\n",
              "      <td>0.0</td>\n",
              "      <td>0.0</td>\n",
              "      <td>...</td>\n",
              "      <td>0.224010</td>\n",
              "      <td>0.223890</td>\n",
              "      <td>0.222140</td>\n",
              "      <td>0.217220</td>\n",
              "      <td>0.213480</td>\n",
              "      <td>0.209840</td>\n",
              "      <td>0.206860</td>\n",
              "      <td>0.206550</td>\n",
              "      <td>0.207620</td>\n",
              "      <td>0.209700</td>\n",
              "    </tr>\n",
              "    <tr>\n",
              "      <th>2</th>\n",
              "      <td>2023-01-03 13:27:00</td>\n",
              "      <td>2023-01-03</td>\n",
              "      <td>13:27:00</td>\n",
              "      <td>48420</td>\n",
              "      <td>0.0</td>\n",
              "      <td>0.0</td>\n",
              "      <td>0.0</td>\n",
              "      <td>0.0</td>\n",
              "      <td>0.0</td>\n",
              "      <td>0.0</td>\n",
              "      <td>...</td>\n",
              "      <td>0.203460</td>\n",
              "      <td>0.203160</td>\n",
              "      <td>0.201080</td>\n",
              "      <td>0.196740</td>\n",
              "      <td>0.194060</td>\n",
              "      <td>0.190330</td>\n",
              "      <td>0.188790</td>\n",
              "      <td>0.188170</td>\n",
              "      <td>0.188580</td>\n",
              "      <td>0.190350</td>\n",
              "    </tr>\n",
              "    <tr>\n",
              "      <th>3</th>\n",
              "      <td>2023-01-03 13:29:00</td>\n",
              "      <td>2023-01-03</td>\n",
              "      <td>13:29:00</td>\n",
              "      <td>48540</td>\n",
              "      <td>0.0</td>\n",
              "      <td>0.0</td>\n",
              "      <td>0.0</td>\n",
              "      <td>0.0</td>\n",
              "      <td>0.0</td>\n",
              "      <td>0.0</td>\n",
              "      <td>...</td>\n",
              "      <td>0.237260</td>\n",
              "      <td>0.236590</td>\n",
              "      <td>0.233180</td>\n",
              "      <td>0.229990</td>\n",
              "      <td>0.225480</td>\n",
              "      <td>0.222360</td>\n",
              "      <td>0.219070</td>\n",
              "      <td>0.217900</td>\n",
              "      <td>0.219060</td>\n",
              "      <td>0.221310</td>\n",
              "    </tr>\n",
              "    <tr>\n",
              "      <th>4</th>\n",
              "      <td>2023-01-03 13:31:00</td>\n",
              "      <td>2023-01-03</td>\n",
              "      <td>13:31:00</td>\n",
              "      <td>48660</td>\n",
              "      <td>0.0</td>\n",
              "      <td>0.0</td>\n",
              "      <td>0.0</td>\n",
              "      <td>0.0</td>\n",
              "      <td>0.0</td>\n",
              "      <td>0.0</td>\n",
              "      <td>...</td>\n",
              "      <td>0.234130</td>\n",
              "      <td>0.233910</td>\n",
              "      <td>0.231640</td>\n",
              "      <td>0.227120</td>\n",
              "      <td>0.222590</td>\n",
              "      <td>0.219220</td>\n",
              "      <td>0.217400</td>\n",
              "      <td>0.216080</td>\n",
              "      <td>0.215980</td>\n",
              "      <td>0.218380</td>\n",
              "    </tr>\n",
              "    <tr>\n",
              "      <th>...</th>\n",
              "      <td>...</td>\n",
              "      <td>...</td>\n",
              "      <td>...</td>\n",
              "      <td>...</td>\n",
              "      <td>...</td>\n",
              "      <td>...</td>\n",
              "      <td>...</td>\n",
              "      <td>...</td>\n",
              "      <td>...</td>\n",
              "      <td>...</td>\n",
              "      <td>...</td>\n",
              "      <td>...</td>\n",
              "      <td>...</td>\n",
              "      <td>...</td>\n",
              "      <td>...</td>\n",
              "      <td>...</td>\n",
              "      <td>...</td>\n",
              "      <td>...</td>\n",
              "      <td>...</td>\n",
              "      <td>...</td>\n",
              "      <td>...</td>\n",
              "    </tr>\n",
              "    <tr>\n",
              "      <th>7390</th>\n",
              "      <td>2023-01-31 15:56:00</td>\n",
              "      <td>2023-01-31</td>\n",
              "      <td>15:56:00</td>\n",
              "      <td>57360</td>\n",
              "      <td>0.0</td>\n",
              "      <td>0.0</td>\n",
              "      <td>0.0</td>\n",
              "      <td>0.0</td>\n",
              "      <td>0.0</td>\n",
              "      <td>0.0</td>\n",
              "      <td>...</td>\n",
              "      <td>0.008140</td>\n",
              "      <td>0.008079</td>\n",
              "      <td>0.007964</td>\n",
              "      <td>0.007826</td>\n",
              "      <td>0.007727</td>\n",
              "      <td>0.007543</td>\n",
              "      <td>0.007499</td>\n",
              "      <td>0.007493</td>\n",
              "      <td>0.007519</td>\n",
              "      <td>0.007578</td>\n",
              "    </tr>\n",
              "    <tr>\n",
              "      <th>7391</th>\n",
              "      <td>2023-01-31 15:58:00</td>\n",
              "      <td>2023-01-31</td>\n",
              "      <td>15:58:00</td>\n",
              "      <td>57480</td>\n",
              "      <td>0.0</td>\n",
              "      <td>0.0</td>\n",
              "      <td>0.0</td>\n",
              "      <td>0.0</td>\n",
              "      <td>0.0</td>\n",
              "      <td>0.0</td>\n",
              "      <td>...</td>\n",
              "      <td>0.005387</td>\n",
              "      <td>0.005368</td>\n",
              "      <td>0.005287</td>\n",
              "      <td>0.005189</td>\n",
              "      <td>0.005085</td>\n",
              "      <td>0.004984</td>\n",
              "      <td>0.004967</td>\n",
              "      <td>0.004968</td>\n",
              "      <td>0.004983</td>\n",
              "      <td>0.005002</td>\n",
              "    </tr>\n",
              "    <tr>\n",
              "      <th>7392</th>\n",
              "      <td>2023-01-31 16:00:00</td>\n",
              "      <td>2023-01-31</td>\n",
              "      <td>16:00:00</td>\n",
              "      <td>57600</td>\n",
              "      <td>0.0</td>\n",
              "      <td>0.0</td>\n",
              "      <td>0.0</td>\n",
              "      <td>0.0</td>\n",
              "      <td>0.0</td>\n",
              "      <td>0.0</td>\n",
              "      <td>...</td>\n",
              "      <td>0.005244</td>\n",
              "      <td>0.005231</td>\n",
              "      <td>0.005168</td>\n",
              "      <td>0.005071</td>\n",
              "      <td>0.004973</td>\n",
              "      <td>0.004908</td>\n",
              "      <td>0.004841</td>\n",
              "      <td>0.004825</td>\n",
              "      <td>0.004877</td>\n",
              "      <td>0.004912</td>\n",
              "    </tr>\n",
              "    <tr>\n",
              "      <th>7393</th>\n",
              "      <td>2023-01-31 16:02:00</td>\n",
              "      <td>2023-01-31</td>\n",
              "      <td>16:02:00</td>\n",
              "      <td>57720</td>\n",
              "      <td>0.0</td>\n",
              "      <td>0.0</td>\n",
              "      <td>0.0</td>\n",
              "      <td>0.0</td>\n",
              "      <td>0.0</td>\n",
              "      <td>0.0</td>\n",
              "      <td>...</td>\n",
              "      <td>0.004785</td>\n",
              "      <td>0.004739</td>\n",
              "      <td>0.004654</td>\n",
              "      <td>0.004562</td>\n",
              "      <td>0.004510</td>\n",
              "      <td>0.004458</td>\n",
              "      <td>0.004409</td>\n",
              "      <td>0.004433</td>\n",
              "      <td>0.004401</td>\n",
              "      <td>0.004421</td>\n",
              "    </tr>\n",
              "    <tr>\n",
              "      <th>7394</th>\n",
              "      <td>2023-01-31 16:04:00</td>\n",
              "      <td>2023-01-31</td>\n",
              "      <td>16:04:00</td>\n",
              "      <td>57840</td>\n",
              "      <td>0.0</td>\n",
              "      <td>0.0</td>\n",
              "      <td>0.0</td>\n",
              "      <td>0.0</td>\n",
              "      <td>0.0</td>\n",
              "      <td>0.0</td>\n",
              "      <td>...</td>\n",
              "      <td>0.004438</td>\n",
              "      <td>0.004407</td>\n",
              "      <td>0.004359</td>\n",
              "      <td>0.004309</td>\n",
              "      <td>0.004202</td>\n",
              "      <td>0.004157</td>\n",
              "      <td>0.004110</td>\n",
              "      <td>0.004098</td>\n",
              "      <td>0.004111</td>\n",
              "      <td>0.004127</td>\n",
              "    </tr>\n",
              "  </tbody>\n",
              "</table>\n",
              "<p>7395 rows × 1305 columns</p>\n",
              "</div>\n",
              "    <div class=\"colab-df-buttons\">\n",
              "\n",
              "  <div class=\"colab-df-container\">\n",
              "    <button class=\"colab-df-convert\" onclick=\"convertToInteractive('df-a21fbde6-72e5-4b12-87b1-baf608ef2ce2')\"\n",
              "            title=\"Convert this dataframe to an interactive table.\"\n",
              "            style=\"display:none;\">\n",
              "\n",
              "  <svg xmlns=\"http://www.w3.org/2000/svg\" height=\"24px\" viewBox=\"0 -960 960 960\">\n",
              "    <path d=\"M120-120v-720h720v720H120Zm60-500h600v-160H180v160Zm220 220h160v-160H400v160Zm0 220h160v-160H400v160ZM180-400h160v-160H180v160Zm440 0h160v-160H620v160ZM180-180h160v-160H180v160Zm440 0h160v-160H620v160Z\"/>\n",
              "  </svg>\n",
              "    </button>\n",
              "\n",
              "  <style>\n",
              "    .colab-df-container {\n",
              "      display:flex;\n",
              "      gap: 12px;\n",
              "    }\n",
              "\n",
              "    .colab-df-convert {\n",
              "      background-color: #E8F0FE;\n",
              "      border: none;\n",
              "      border-radius: 50%;\n",
              "      cursor: pointer;\n",
              "      display: none;\n",
              "      fill: #1967D2;\n",
              "      height: 32px;\n",
              "      padding: 0 0 0 0;\n",
              "      width: 32px;\n",
              "    }\n",
              "\n",
              "    .colab-df-convert:hover {\n",
              "      background-color: #E2EBFA;\n",
              "      box-shadow: 0px 1px 2px rgba(60, 64, 67, 0.3), 0px 1px 3px 1px rgba(60, 64, 67, 0.15);\n",
              "      fill: #174EA6;\n",
              "    }\n",
              "\n",
              "    .colab-df-buttons div {\n",
              "      margin-bottom: 4px;\n",
              "    }\n",
              "\n",
              "    [theme=dark] .colab-df-convert {\n",
              "      background-color: #3B4455;\n",
              "      fill: #D2E3FC;\n",
              "    }\n",
              "\n",
              "    [theme=dark] .colab-df-convert:hover {\n",
              "      background-color: #434B5C;\n",
              "      box-shadow: 0px 1px 3px 1px rgba(0, 0, 0, 0.15);\n",
              "      filter: drop-shadow(0px 1px 2px rgba(0, 0, 0, 0.3));\n",
              "      fill: #FFFFFF;\n",
              "    }\n",
              "  </style>\n",
              "\n",
              "    <script>\n",
              "      const buttonEl =\n",
              "        document.querySelector('#df-a21fbde6-72e5-4b12-87b1-baf608ef2ce2 button.colab-df-convert');\n",
              "      buttonEl.style.display =\n",
              "        google.colab.kernel.accessAllowed ? 'block' : 'none';\n",
              "\n",
              "      async function convertToInteractive(key) {\n",
              "        const element = document.querySelector('#df-a21fbde6-72e5-4b12-87b1-baf608ef2ce2');\n",
              "        const dataTable =\n",
              "          await google.colab.kernel.invokeFunction('convertToInteractive',\n",
              "                                                    [key], {});\n",
              "        if (!dataTable) return;\n",
              "\n",
              "        const docLinkHtml = 'Like what you see? Visit the ' +\n",
              "          '<a target=\"_blank\" href=https://colab.research.google.com/notebooks/data_table.ipynb>data table notebook</a>'\n",
              "          + ' to learn more about interactive tables.';\n",
              "        element.innerHTML = '';\n",
              "        dataTable['output_type'] = 'display_data';\n",
              "        await google.colab.output.renderOutput(dataTable, element);\n",
              "        const docLink = document.createElement('div');\n",
              "        docLink.innerHTML = docLinkHtml;\n",
              "        element.appendChild(docLink);\n",
              "      }\n",
              "    </script>\n",
              "  </div>\n",
              "\n",
              "\n",
              "<div id=\"df-587b6550-130c-4f83-8760-be27c0ab2978\">\n",
              "  <button class=\"colab-df-quickchart\" onclick=\"quickchart('df-587b6550-130c-4f83-8760-be27c0ab2978')\"\n",
              "            title=\"Suggest charts\"\n",
              "            style=\"display:none;\">\n",
              "\n",
              "<svg xmlns=\"http://www.w3.org/2000/svg\" height=\"24px\"viewBox=\"0 0 24 24\"\n",
              "     width=\"24px\">\n",
              "    <g>\n",
              "        <path d=\"M19 3H5c-1.1 0-2 .9-2 2v14c0 1.1.9 2 2 2h14c1.1 0 2-.9 2-2V5c0-1.1-.9-2-2-2zM9 17H7v-7h2v7zm4 0h-2V7h2v10zm4 0h-2v-4h2v4z\"/>\n",
              "    </g>\n",
              "</svg>\n",
              "  </button>\n",
              "\n",
              "<style>\n",
              "  .colab-df-quickchart {\n",
              "      --bg-color: #E8F0FE;\n",
              "      --fill-color: #1967D2;\n",
              "      --hover-bg-color: #E2EBFA;\n",
              "      --hover-fill-color: #174EA6;\n",
              "      --disabled-fill-color: #AAA;\n",
              "      --disabled-bg-color: #DDD;\n",
              "  }\n",
              "\n",
              "  [theme=dark] .colab-df-quickchart {\n",
              "      --bg-color: #3B4455;\n",
              "      --fill-color: #D2E3FC;\n",
              "      --hover-bg-color: #434B5C;\n",
              "      --hover-fill-color: #FFFFFF;\n",
              "      --disabled-bg-color: #3B4455;\n",
              "      --disabled-fill-color: #666;\n",
              "  }\n",
              "\n",
              "  .colab-df-quickchart {\n",
              "    background-color: var(--bg-color);\n",
              "    border: none;\n",
              "    border-radius: 50%;\n",
              "    cursor: pointer;\n",
              "    display: none;\n",
              "    fill: var(--fill-color);\n",
              "    height: 32px;\n",
              "    padding: 0;\n",
              "    width: 32px;\n",
              "  }\n",
              "\n",
              "  .colab-df-quickchart:hover {\n",
              "    background-color: var(--hover-bg-color);\n",
              "    box-shadow: 0 1px 2px rgba(60, 64, 67, 0.3), 0 1px 3px 1px rgba(60, 64, 67, 0.15);\n",
              "    fill: var(--button-hover-fill-color);\n",
              "  }\n",
              "\n",
              "  .colab-df-quickchart-complete:disabled,\n",
              "  .colab-df-quickchart-complete:disabled:hover {\n",
              "    background-color: var(--disabled-bg-color);\n",
              "    fill: var(--disabled-fill-color);\n",
              "    box-shadow: none;\n",
              "  }\n",
              "\n",
              "  .colab-df-spinner {\n",
              "    border: 2px solid var(--fill-color);\n",
              "    border-color: transparent;\n",
              "    border-bottom-color: var(--fill-color);\n",
              "    animation:\n",
              "      spin 1s steps(1) infinite;\n",
              "  }\n",
              "\n",
              "  @keyframes spin {\n",
              "    0% {\n",
              "      border-color: transparent;\n",
              "      border-bottom-color: var(--fill-color);\n",
              "      border-left-color: var(--fill-color);\n",
              "    }\n",
              "    20% {\n",
              "      border-color: transparent;\n",
              "      border-left-color: var(--fill-color);\n",
              "      border-top-color: var(--fill-color);\n",
              "    }\n",
              "    30% {\n",
              "      border-color: transparent;\n",
              "      border-left-color: var(--fill-color);\n",
              "      border-top-color: var(--fill-color);\n",
              "      border-right-color: var(--fill-color);\n",
              "    }\n",
              "    40% {\n",
              "      border-color: transparent;\n",
              "      border-right-color: var(--fill-color);\n",
              "      border-top-color: var(--fill-color);\n",
              "    }\n",
              "    60% {\n",
              "      border-color: transparent;\n",
              "      border-right-color: var(--fill-color);\n",
              "    }\n",
              "    80% {\n",
              "      border-color: transparent;\n",
              "      border-right-color: var(--fill-color);\n",
              "      border-bottom-color: var(--fill-color);\n",
              "    }\n",
              "    90% {\n",
              "      border-color: transparent;\n",
              "      border-bottom-color: var(--fill-color);\n",
              "    }\n",
              "  }\n",
              "</style>\n",
              "\n",
              "  <script>\n",
              "    async function quickchart(key) {\n",
              "      const quickchartButtonEl =\n",
              "        document.querySelector('#' + key + ' button');\n",
              "      quickchartButtonEl.disabled = true;  // To prevent multiple clicks.\n",
              "      quickchartButtonEl.classList.add('colab-df-spinner');\n",
              "      try {\n",
              "        const charts = await google.colab.kernel.invokeFunction(\n",
              "            'suggestCharts', [key], {});\n",
              "      } catch (error) {\n",
              "        console.error('Error during call to suggestCharts:', error);\n",
              "      }\n",
              "      quickchartButtonEl.classList.remove('colab-df-spinner');\n",
              "      quickchartButtonEl.classList.add('colab-df-quickchart-complete');\n",
              "    }\n",
              "    (() => {\n",
              "      let quickchartButtonEl =\n",
              "        document.querySelector('#df-587b6550-130c-4f83-8760-be27c0ab2978 button');\n",
              "      quickchartButtonEl.style.display =\n",
              "        google.colab.kernel.accessAllowed ? 'block' : 'none';\n",
              "    })();\n",
              "  </script>\n",
              "</div>\n",
              "\n",
              "  <div id=\"id_b2e50161-b29c-46ac-a389-918b2e94e177\">\n",
              "    <style>\n",
              "      .colab-df-generate {\n",
              "        background-color: #E8F0FE;\n",
              "        border: none;\n",
              "        border-radius: 50%;\n",
              "        cursor: pointer;\n",
              "        display: none;\n",
              "        fill: #1967D2;\n",
              "        height: 32px;\n",
              "        padding: 0 0 0 0;\n",
              "        width: 32px;\n",
              "      }\n",
              "\n",
              "      .colab-df-generate:hover {\n",
              "        background-color: #E2EBFA;\n",
              "        box-shadow: 0px 1px 2px rgba(60, 64, 67, 0.3), 0px 1px 3px 1px rgba(60, 64, 67, 0.15);\n",
              "        fill: #174EA6;\n",
              "      }\n",
              "\n",
              "      [theme=dark] .colab-df-generate {\n",
              "        background-color: #3B4455;\n",
              "        fill: #D2E3FC;\n",
              "      }\n",
              "\n",
              "      [theme=dark] .colab-df-generate:hover {\n",
              "        background-color: #434B5C;\n",
              "        box-shadow: 0px 1px 3px 1px rgba(0, 0, 0, 0.15);\n",
              "        filter: drop-shadow(0px 1px 2px rgba(0, 0, 0, 0.3));\n",
              "        fill: #FFFFFF;\n",
              "      }\n",
              "    </style>\n",
              "    <button class=\"colab-df-generate\" onclick=\"generateWithVariable('df_Messdaten_drop')\"\n",
              "            title=\"Generate code using this dataframe.\"\n",
              "            style=\"display:none;\">\n",
              "\n",
              "  <svg xmlns=\"http://www.w3.org/2000/svg\" height=\"24px\"viewBox=\"0 0 24 24\"\n",
              "       width=\"24px\">\n",
              "    <path d=\"M7,19H8.4L18.45,9,17,7.55,7,17.6ZM5,21V16.75L18.45,3.32a2,2,0,0,1,2.83,0l1.4,1.43a1.91,1.91,0,0,1,.58,1.4,1.91,1.91,0,0,1-.58,1.4L9.25,21ZM18.45,9,17,7.55Zm-12,3A5.31,5.31,0,0,0,4.9,8.1,5.31,5.31,0,0,0,1,6.5,5.31,5.31,0,0,0,4.9,4.9,5.31,5.31,0,0,0,6.5,1,5.31,5.31,0,0,0,8.1,4.9,5.31,5.31,0,0,0,12,6.5,5.46,5.46,0,0,0,6.5,12Z\"/>\n",
              "  </svg>\n",
              "    </button>\n",
              "    <script>\n",
              "      (() => {\n",
              "      const buttonEl =\n",
              "        document.querySelector('#id_b2e50161-b29c-46ac-a389-918b2e94e177 button.colab-df-generate');\n",
              "      buttonEl.style.display =\n",
              "        google.colab.kernel.accessAllowed ? 'block' : 'none';\n",
              "\n",
              "      buttonEl.onclick = () => {\n",
              "        google.colab.notebook.generateWithVariable('df_Messdaten_drop');\n",
              "      }\n",
              "      })();\n",
              "    </script>\n",
              "  </div>\n",
              "\n",
              "    </div>\n",
              "  </div>\n"
            ],
            "application/vnd.google.colaboratory.intrinsic+json": {
              "type": "dataframe",
              "variable_name": "df_Messdaten_drop"
            }
          },
          "metadata": {},
          "execution_count": 38
        }
      ]
    },
    {
      "cell_type": "markdown",
      "source": [
        "## Allgemeine Informationen über den Dataframe:"
      ],
      "metadata": {
        "id": "yBJ_HtttaxJl"
      }
    },
    {
      "cell_type": "code",
      "source": [
        "df_Messdaten_stats = df_Messdaten_drop.describe()"
      ],
      "metadata": {
        "id": "H_qLb7CPhCoV"
      },
      "execution_count": 39,
      "outputs": []
    },
    {
      "cell_type": "code",
      "source": [
        "def plot_spektrale_statistiken(df_stats, skip_cols, filename, save_path = save_path):\n",
        "    \"\"\"\n",
        "    Plottet Min, Max und Mittelwert (mean) für jede Wellenlänge und speichert den Plot als PNG in Google Drive.\n",
        "\n",
        "    Parameter:\n",
        "    - df_stats: DataFrame, der von df.describe() stammt\n",
        "    - skip_cols: Anzahl der Spalten am Anfang, die nicht geplottet werden sollen\n",
        "    - filename: Dateiname für den gespeicherten Plot (z. B. 'mein_plot.png')\n",
        "    - save_path: Pfad im Google Drive, wo der Plot gespeichert wird\n",
        "    \"\"\"\n",
        "\n",
        "    # Stelle sicher, dass das Verzeichnis existiert\n",
        "    os.makedirs(save_path, exist_ok=True)\n",
        "\n",
        "    # Reduziere auf Wellenlängen-Spalten\n",
        "    df_stats_reduced = df_stats.iloc[:, skip_cols:]\n",
        "    wellenlaengen = df_stats_reduced.columns.astype(float)\n",
        "\n",
        "    # Werte extrahieren\n",
        "    min_werte = df_stats_reduced.loc[\"min\"]\n",
        "    max_werte = df_stats_reduced.loc[\"max\"]\n",
        "    mittelwerte = df_stats_reduced.loc[\"mean\"]\n",
        "\n",
        "    # Plot erstellen\n",
        "    plt.figure(figsize=(12, 6))\n",
        "    plt.plot(wellenlaengen, min_werte, label=\"Minimum\", linestyle='--')\n",
        "    plt.plot(wellenlaengen, mittelwerte, label=\"Mittelwert\", linestyle='-')\n",
        "    plt.plot(wellenlaengen, max_werte, label=\"Maximum\", linestyle='--')\n",
        "\n",
        "    plt.xlabel(\"Wellenlänge [nm]\")\n",
        "    plt.ylabel(\"Spektrale Einstrahlung [W/(m^2 nm)]\")\n",
        "    plt.title(\"Spektrale Statistikwerte \" + month)\n",
        "    plt.legend()\n",
        "    plt.grid(True)\n",
        "    plt.tight_layout()\n",
        "\n",
        "    # Plot speichern\n",
        "    full_path = os.path.join(save_path, filename)\n",
        "    plt.savefig(full_path)\n",
        "    plt.close()  # schließt den Plot, um Speicher zu sparen\n",
        "\n",
        "    print(f\"✅ Plot gespeichert unter: {full_path}\")"
      ],
      "metadata": {
        "id": "fqbvzM2qhy7a"
      },
      "execution_count": 40,
      "outputs": []
    },
    {
      "cell_type": "code",
      "source": [
        "plot_spektrale_statistiken(df_Messdaten_stats, skip_cols=2, filename = month + '.png')"
      ],
      "metadata": {
        "colab": {
          "base_uri": "https://localhost:8080/"
        },
        "id": "0iqb7bUFienW",
        "outputId": "b0974a4b-8e8f-4a84-a040-453bab5dca84"
      },
      "execution_count": 41,
      "outputs": [
        {
          "output_type": "stream",
          "name": "stdout",
          "text": [
            "✅ Plot gespeichert unter: /content/drive/MyDrive/Colab_Notebooks/Auswertung Datenbereinigung/23.01.png\n"
          ]
        }
      ]
    },
    {
      "cell_type": "code",
      "source": [
        "df_Messdaten_stats"
      ],
      "metadata": {
        "colab": {
          "base_uri": "https://localhost:8080/",
          "height": 454
        },
        "id": "2BmF9iQQHr0g",
        "outputId": "fdef1792-10e9-4842-e29c-1746febcf065"
      },
      "execution_count": 42,
      "outputs": [
        {
          "output_type": "execute_result",
          "data": {
            "text/plain": [
              "                            Datetime  Messzeitpunkt         290.0  \\\n",
              "count                           7395    7395.000000  7.395000e+03   \n",
              "mean   2023-01-18 01:03:15.716024576   41159.772819  2.906162e-07   \n",
              "min              2023-01-03 13:23:00   24600.000000 -1.686300e-05   \n",
              "25%              2023-01-10 15:32:00   33300.000000  0.000000e+00   \n",
              "50%              2023-01-18 08:05:00   41220.000000  0.000000e+00   \n",
              "75%              2023-01-25 09:57:00   49140.000000  0.000000e+00   \n",
              "max              2023-01-31 16:04:00   57840.000000  1.850700e-04   \n",
              "std                              NaN    9157.773639  3.172622e-06   \n",
              "\n",
              "              290.1         290.2         290.3         290.4         290.5  \\\n",
              "count  7.395000e+03  7.395000e+03  7.395000e+03  7.395000e+03  7.395000e+03   \n",
              "mean   2.827676e-07  2.740656e-07  2.878453e-07  2.653555e-07  2.801028e-07   \n",
              "min   -2.218900e-05 -2.811700e-05 -2.452900e-05 -2.242900e-05 -1.723300e-05   \n",
              "25%    0.000000e+00  0.000000e+00  0.000000e+00  0.000000e+00  0.000000e+00   \n",
              "50%    0.000000e+00  0.000000e+00  0.000000e+00  0.000000e+00  0.000000e+00   \n",
              "75%    0.000000e+00  0.000000e+00  0.000000e+00  0.000000e+00  0.000000e+00   \n",
              "max    1.397900e-04  9.933000e-05  7.657600e-05  8.042900e-05  7.063300e-05   \n",
              "std    2.726884e-06  2.651771e-06  2.682922e-06  2.464524e-06  2.387151e-06   \n",
              "\n",
              "              290.6         290.7  ...        419.1        419.2        419.3  \\\n",
              "count  7.395000e+03  7.395000e+03  ...  7395.000000  7395.000000  7395.000000   \n",
              "mean   3.054341e-07  2.893302e-07  ...     0.101006     0.100876     0.099719   \n",
              "min   -3.160700e-05 -1.840600e-05  ...     0.000059     0.000063     0.000067   \n",
              "25%    0.000000e+00  0.000000e+00  ...     0.036581     0.036521     0.036117   \n",
              "50%    0.000000e+00  0.000000e+00  ...     0.077793     0.077704     0.076817   \n",
              "75%    0.000000e+00  0.000000e+00  ...     0.148700     0.148330     0.146755   \n",
              "max    6.119000e-05  5.535500e-05  ...     0.473670     0.472460     0.466180   \n",
              "std    2.676341e-06  2.488635e-06  ...     0.084256     0.084163     0.083178   \n",
              "\n",
              "             419.4        419.5        419.6        419.7        419.8  \\\n",
              "count  7395.000000  7395.000000  7395.000000  7395.000000  7395.000000   \n",
              "mean      0.097776     0.095958     0.094338     0.093306     0.092913   \n",
              "min       0.000064     0.000057     0.000055     0.000000     0.000000   \n",
              "25%       0.035357     0.034769     0.034237     0.033876     0.033688   \n",
              "50%       0.075332     0.073951     0.072736     0.071948     0.071763   \n",
              "75%       0.143820     0.141420     0.139005     0.137440     0.136690   \n",
              "max       0.456670     0.448110     0.439480     0.436300     0.434820   \n",
              "std       0.081456     0.079960     0.078577     0.077704     0.077358   \n",
              "\n",
              "             419.9        420.0  \n",
              "count  7395.000000  7395.000000  \n",
              "mean      0.093072     0.093810  \n",
              "min       0.000000     0.000000  \n",
              "25%       0.033686     0.033957  \n",
              "50%       0.071902     0.072438  \n",
              "75%       0.136980     0.138150  \n",
              "max       0.435930     0.440770  \n",
              "std       0.077493     0.078181  \n",
              "\n",
              "[8 rows x 1303 columns]"
            ],
            "text/html": [
              "\n",
              "  <div id=\"df-d4ec0b2d-c894-4fec-96db-07d81a19cd0b\" class=\"colab-df-container\">\n",
              "    <div>\n",
              "<style scoped>\n",
              "    .dataframe tbody tr th:only-of-type {\n",
              "        vertical-align: middle;\n",
              "    }\n",
              "\n",
              "    .dataframe tbody tr th {\n",
              "        vertical-align: top;\n",
              "    }\n",
              "\n",
              "    .dataframe thead th {\n",
              "        text-align: right;\n",
              "    }\n",
              "</style>\n",
              "<table border=\"1\" class=\"dataframe\">\n",
              "  <thead>\n",
              "    <tr style=\"text-align: right;\">\n",
              "      <th></th>\n",
              "      <th>Datetime</th>\n",
              "      <th>Messzeitpunkt</th>\n",
              "      <th>290.0</th>\n",
              "      <th>290.1</th>\n",
              "      <th>290.2</th>\n",
              "      <th>290.3</th>\n",
              "      <th>290.4</th>\n",
              "      <th>290.5</th>\n",
              "      <th>290.6</th>\n",
              "      <th>290.7</th>\n",
              "      <th>...</th>\n",
              "      <th>419.1</th>\n",
              "      <th>419.2</th>\n",
              "      <th>419.3</th>\n",
              "      <th>419.4</th>\n",
              "      <th>419.5</th>\n",
              "      <th>419.6</th>\n",
              "      <th>419.7</th>\n",
              "      <th>419.8</th>\n",
              "      <th>419.9</th>\n",
              "      <th>420.0</th>\n",
              "    </tr>\n",
              "  </thead>\n",
              "  <tbody>\n",
              "    <tr>\n",
              "      <th>count</th>\n",
              "      <td>7395</td>\n",
              "      <td>7395.000000</td>\n",
              "      <td>7.395000e+03</td>\n",
              "      <td>7.395000e+03</td>\n",
              "      <td>7.395000e+03</td>\n",
              "      <td>7.395000e+03</td>\n",
              "      <td>7.395000e+03</td>\n",
              "      <td>7.395000e+03</td>\n",
              "      <td>7.395000e+03</td>\n",
              "      <td>7.395000e+03</td>\n",
              "      <td>...</td>\n",
              "      <td>7395.000000</td>\n",
              "      <td>7395.000000</td>\n",
              "      <td>7395.000000</td>\n",
              "      <td>7395.000000</td>\n",
              "      <td>7395.000000</td>\n",
              "      <td>7395.000000</td>\n",
              "      <td>7395.000000</td>\n",
              "      <td>7395.000000</td>\n",
              "      <td>7395.000000</td>\n",
              "      <td>7395.000000</td>\n",
              "    </tr>\n",
              "    <tr>\n",
              "      <th>mean</th>\n",
              "      <td>2023-01-18 01:03:15.716024576</td>\n",
              "      <td>41159.772819</td>\n",
              "      <td>2.906162e-07</td>\n",
              "      <td>2.827676e-07</td>\n",
              "      <td>2.740656e-07</td>\n",
              "      <td>2.878453e-07</td>\n",
              "      <td>2.653555e-07</td>\n",
              "      <td>2.801028e-07</td>\n",
              "      <td>3.054341e-07</td>\n",
              "      <td>2.893302e-07</td>\n",
              "      <td>...</td>\n",
              "      <td>0.101006</td>\n",
              "      <td>0.100876</td>\n",
              "      <td>0.099719</td>\n",
              "      <td>0.097776</td>\n",
              "      <td>0.095958</td>\n",
              "      <td>0.094338</td>\n",
              "      <td>0.093306</td>\n",
              "      <td>0.092913</td>\n",
              "      <td>0.093072</td>\n",
              "      <td>0.093810</td>\n",
              "    </tr>\n",
              "    <tr>\n",
              "      <th>min</th>\n",
              "      <td>2023-01-03 13:23:00</td>\n",
              "      <td>24600.000000</td>\n",
              "      <td>-1.686300e-05</td>\n",
              "      <td>-2.218900e-05</td>\n",
              "      <td>-2.811700e-05</td>\n",
              "      <td>-2.452900e-05</td>\n",
              "      <td>-2.242900e-05</td>\n",
              "      <td>-1.723300e-05</td>\n",
              "      <td>-3.160700e-05</td>\n",
              "      <td>-1.840600e-05</td>\n",
              "      <td>...</td>\n",
              "      <td>0.000059</td>\n",
              "      <td>0.000063</td>\n",
              "      <td>0.000067</td>\n",
              "      <td>0.000064</td>\n",
              "      <td>0.000057</td>\n",
              "      <td>0.000055</td>\n",
              "      <td>0.000000</td>\n",
              "      <td>0.000000</td>\n",
              "      <td>0.000000</td>\n",
              "      <td>0.000000</td>\n",
              "    </tr>\n",
              "    <tr>\n",
              "      <th>25%</th>\n",
              "      <td>2023-01-10 15:32:00</td>\n",
              "      <td>33300.000000</td>\n",
              "      <td>0.000000e+00</td>\n",
              "      <td>0.000000e+00</td>\n",
              "      <td>0.000000e+00</td>\n",
              "      <td>0.000000e+00</td>\n",
              "      <td>0.000000e+00</td>\n",
              "      <td>0.000000e+00</td>\n",
              "      <td>0.000000e+00</td>\n",
              "      <td>0.000000e+00</td>\n",
              "      <td>...</td>\n",
              "      <td>0.036581</td>\n",
              "      <td>0.036521</td>\n",
              "      <td>0.036117</td>\n",
              "      <td>0.035357</td>\n",
              "      <td>0.034769</td>\n",
              "      <td>0.034237</td>\n",
              "      <td>0.033876</td>\n",
              "      <td>0.033688</td>\n",
              "      <td>0.033686</td>\n",
              "      <td>0.033957</td>\n",
              "    </tr>\n",
              "    <tr>\n",
              "      <th>50%</th>\n",
              "      <td>2023-01-18 08:05:00</td>\n",
              "      <td>41220.000000</td>\n",
              "      <td>0.000000e+00</td>\n",
              "      <td>0.000000e+00</td>\n",
              "      <td>0.000000e+00</td>\n",
              "      <td>0.000000e+00</td>\n",
              "      <td>0.000000e+00</td>\n",
              "      <td>0.000000e+00</td>\n",
              "      <td>0.000000e+00</td>\n",
              "      <td>0.000000e+00</td>\n",
              "      <td>...</td>\n",
              "      <td>0.077793</td>\n",
              "      <td>0.077704</td>\n",
              "      <td>0.076817</td>\n",
              "      <td>0.075332</td>\n",
              "      <td>0.073951</td>\n",
              "      <td>0.072736</td>\n",
              "      <td>0.071948</td>\n",
              "      <td>0.071763</td>\n",
              "      <td>0.071902</td>\n",
              "      <td>0.072438</td>\n",
              "    </tr>\n",
              "    <tr>\n",
              "      <th>75%</th>\n",
              "      <td>2023-01-25 09:57:00</td>\n",
              "      <td>49140.000000</td>\n",
              "      <td>0.000000e+00</td>\n",
              "      <td>0.000000e+00</td>\n",
              "      <td>0.000000e+00</td>\n",
              "      <td>0.000000e+00</td>\n",
              "      <td>0.000000e+00</td>\n",
              "      <td>0.000000e+00</td>\n",
              "      <td>0.000000e+00</td>\n",
              "      <td>0.000000e+00</td>\n",
              "      <td>...</td>\n",
              "      <td>0.148700</td>\n",
              "      <td>0.148330</td>\n",
              "      <td>0.146755</td>\n",
              "      <td>0.143820</td>\n",
              "      <td>0.141420</td>\n",
              "      <td>0.139005</td>\n",
              "      <td>0.137440</td>\n",
              "      <td>0.136690</td>\n",
              "      <td>0.136980</td>\n",
              "      <td>0.138150</td>\n",
              "    </tr>\n",
              "    <tr>\n",
              "      <th>max</th>\n",
              "      <td>2023-01-31 16:04:00</td>\n",
              "      <td>57840.000000</td>\n",
              "      <td>1.850700e-04</td>\n",
              "      <td>1.397900e-04</td>\n",
              "      <td>9.933000e-05</td>\n",
              "      <td>7.657600e-05</td>\n",
              "      <td>8.042900e-05</td>\n",
              "      <td>7.063300e-05</td>\n",
              "      <td>6.119000e-05</td>\n",
              "      <td>5.535500e-05</td>\n",
              "      <td>...</td>\n",
              "      <td>0.473670</td>\n",
              "      <td>0.472460</td>\n",
              "      <td>0.466180</td>\n",
              "      <td>0.456670</td>\n",
              "      <td>0.448110</td>\n",
              "      <td>0.439480</td>\n",
              "      <td>0.436300</td>\n",
              "      <td>0.434820</td>\n",
              "      <td>0.435930</td>\n",
              "      <td>0.440770</td>\n",
              "    </tr>\n",
              "    <tr>\n",
              "      <th>std</th>\n",
              "      <td>NaN</td>\n",
              "      <td>9157.773639</td>\n",
              "      <td>3.172622e-06</td>\n",
              "      <td>2.726884e-06</td>\n",
              "      <td>2.651771e-06</td>\n",
              "      <td>2.682922e-06</td>\n",
              "      <td>2.464524e-06</td>\n",
              "      <td>2.387151e-06</td>\n",
              "      <td>2.676341e-06</td>\n",
              "      <td>2.488635e-06</td>\n",
              "      <td>...</td>\n",
              "      <td>0.084256</td>\n",
              "      <td>0.084163</td>\n",
              "      <td>0.083178</td>\n",
              "      <td>0.081456</td>\n",
              "      <td>0.079960</td>\n",
              "      <td>0.078577</td>\n",
              "      <td>0.077704</td>\n",
              "      <td>0.077358</td>\n",
              "      <td>0.077493</td>\n",
              "      <td>0.078181</td>\n",
              "    </tr>\n",
              "  </tbody>\n",
              "</table>\n",
              "<p>8 rows × 1303 columns</p>\n",
              "</div>\n",
              "    <div class=\"colab-df-buttons\">\n",
              "\n",
              "  <div class=\"colab-df-container\">\n",
              "    <button class=\"colab-df-convert\" onclick=\"convertToInteractive('df-d4ec0b2d-c894-4fec-96db-07d81a19cd0b')\"\n",
              "            title=\"Convert this dataframe to an interactive table.\"\n",
              "            style=\"display:none;\">\n",
              "\n",
              "  <svg xmlns=\"http://www.w3.org/2000/svg\" height=\"24px\" viewBox=\"0 -960 960 960\">\n",
              "    <path d=\"M120-120v-720h720v720H120Zm60-500h600v-160H180v160Zm220 220h160v-160H400v160Zm0 220h160v-160H400v160ZM180-400h160v-160H180v160Zm440 0h160v-160H620v160ZM180-180h160v-160H180v160Zm440 0h160v-160H620v160Z\"/>\n",
              "  </svg>\n",
              "    </button>\n",
              "\n",
              "  <style>\n",
              "    .colab-df-container {\n",
              "      display:flex;\n",
              "      gap: 12px;\n",
              "    }\n",
              "\n",
              "    .colab-df-convert {\n",
              "      background-color: #E8F0FE;\n",
              "      border: none;\n",
              "      border-radius: 50%;\n",
              "      cursor: pointer;\n",
              "      display: none;\n",
              "      fill: #1967D2;\n",
              "      height: 32px;\n",
              "      padding: 0 0 0 0;\n",
              "      width: 32px;\n",
              "    }\n",
              "\n",
              "    .colab-df-convert:hover {\n",
              "      background-color: #E2EBFA;\n",
              "      box-shadow: 0px 1px 2px rgba(60, 64, 67, 0.3), 0px 1px 3px 1px rgba(60, 64, 67, 0.15);\n",
              "      fill: #174EA6;\n",
              "    }\n",
              "\n",
              "    .colab-df-buttons div {\n",
              "      margin-bottom: 4px;\n",
              "    }\n",
              "\n",
              "    [theme=dark] .colab-df-convert {\n",
              "      background-color: #3B4455;\n",
              "      fill: #D2E3FC;\n",
              "    }\n",
              "\n",
              "    [theme=dark] .colab-df-convert:hover {\n",
              "      background-color: #434B5C;\n",
              "      box-shadow: 0px 1px 3px 1px rgba(0, 0, 0, 0.15);\n",
              "      filter: drop-shadow(0px 1px 2px rgba(0, 0, 0, 0.3));\n",
              "      fill: #FFFFFF;\n",
              "    }\n",
              "  </style>\n",
              "\n",
              "    <script>\n",
              "      const buttonEl =\n",
              "        document.querySelector('#df-d4ec0b2d-c894-4fec-96db-07d81a19cd0b button.colab-df-convert');\n",
              "      buttonEl.style.display =\n",
              "        google.colab.kernel.accessAllowed ? 'block' : 'none';\n",
              "\n",
              "      async function convertToInteractive(key) {\n",
              "        const element = document.querySelector('#df-d4ec0b2d-c894-4fec-96db-07d81a19cd0b');\n",
              "        const dataTable =\n",
              "          await google.colab.kernel.invokeFunction('convertToInteractive',\n",
              "                                                    [key], {});\n",
              "        if (!dataTable) return;\n",
              "\n",
              "        const docLinkHtml = 'Like what you see? Visit the ' +\n",
              "          '<a target=\"_blank\" href=https://colab.research.google.com/notebooks/data_table.ipynb>data table notebook</a>'\n",
              "          + ' to learn more about interactive tables.';\n",
              "        element.innerHTML = '';\n",
              "        dataTable['output_type'] = 'display_data';\n",
              "        await google.colab.output.renderOutput(dataTable, element);\n",
              "        const docLink = document.createElement('div');\n",
              "        docLink.innerHTML = docLinkHtml;\n",
              "        element.appendChild(docLink);\n",
              "      }\n",
              "    </script>\n",
              "  </div>\n",
              "\n",
              "\n",
              "<div id=\"df-5dd47189-0ece-4174-bcb0-c3bd3e3ea5c6\">\n",
              "  <button class=\"colab-df-quickchart\" onclick=\"quickchart('df-5dd47189-0ece-4174-bcb0-c3bd3e3ea5c6')\"\n",
              "            title=\"Suggest charts\"\n",
              "            style=\"display:none;\">\n",
              "\n",
              "<svg xmlns=\"http://www.w3.org/2000/svg\" height=\"24px\"viewBox=\"0 0 24 24\"\n",
              "     width=\"24px\">\n",
              "    <g>\n",
              "        <path d=\"M19 3H5c-1.1 0-2 .9-2 2v14c0 1.1.9 2 2 2h14c1.1 0 2-.9 2-2V5c0-1.1-.9-2-2-2zM9 17H7v-7h2v7zm4 0h-2V7h2v10zm4 0h-2v-4h2v4z\"/>\n",
              "    </g>\n",
              "</svg>\n",
              "  </button>\n",
              "\n",
              "<style>\n",
              "  .colab-df-quickchart {\n",
              "      --bg-color: #E8F0FE;\n",
              "      --fill-color: #1967D2;\n",
              "      --hover-bg-color: #E2EBFA;\n",
              "      --hover-fill-color: #174EA6;\n",
              "      --disabled-fill-color: #AAA;\n",
              "      --disabled-bg-color: #DDD;\n",
              "  }\n",
              "\n",
              "  [theme=dark] .colab-df-quickchart {\n",
              "      --bg-color: #3B4455;\n",
              "      --fill-color: #D2E3FC;\n",
              "      --hover-bg-color: #434B5C;\n",
              "      --hover-fill-color: #FFFFFF;\n",
              "      --disabled-bg-color: #3B4455;\n",
              "      --disabled-fill-color: #666;\n",
              "  }\n",
              "\n",
              "  .colab-df-quickchart {\n",
              "    background-color: var(--bg-color);\n",
              "    border: none;\n",
              "    border-radius: 50%;\n",
              "    cursor: pointer;\n",
              "    display: none;\n",
              "    fill: var(--fill-color);\n",
              "    height: 32px;\n",
              "    padding: 0;\n",
              "    width: 32px;\n",
              "  }\n",
              "\n",
              "  .colab-df-quickchart:hover {\n",
              "    background-color: var(--hover-bg-color);\n",
              "    box-shadow: 0 1px 2px rgba(60, 64, 67, 0.3), 0 1px 3px 1px rgba(60, 64, 67, 0.15);\n",
              "    fill: var(--button-hover-fill-color);\n",
              "  }\n",
              "\n",
              "  .colab-df-quickchart-complete:disabled,\n",
              "  .colab-df-quickchart-complete:disabled:hover {\n",
              "    background-color: var(--disabled-bg-color);\n",
              "    fill: var(--disabled-fill-color);\n",
              "    box-shadow: none;\n",
              "  }\n",
              "\n",
              "  .colab-df-spinner {\n",
              "    border: 2px solid var(--fill-color);\n",
              "    border-color: transparent;\n",
              "    border-bottom-color: var(--fill-color);\n",
              "    animation:\n",
              "      spin 1s steps(1) infinite;\n",
              "  }\n",
              "\n",
              "  @keyframes spin {\n",
              "    0% {\n",
              "      border-color: transparent;\n",
              "      border-bottom-color: var(--fill-color);\n",
              "      border-left-color: var(--fill-color);\n",
              "    }\n",
              "    20% {\n",
              "      border-color: transparent;\n",
              "      border-left-color: var(--fill-color);\n",
              "      border-top-color: var(--fill-color);\n",
              "    }\n",
              "    30% {\n",
              "      border-color: transparent;\n",
              "      border-left-color: var(--fill-color);\n",
              "      border-top-color: var(--fill-color);\n",
              "      border-right-color: var(--fill-color);\n",
              "    }\n",
              "    40% {\n",
              "      border-color: transparent;\n",
              "      border-right-color: var(--fill-color);\n",
              "      border-top-color: var(--fill-color);\n",
              "    }\n",
              "    60% {\n",
              "      border-color: transparent;\n",
              "      border-right-color: var(--fill-color);\n",
              "    }\n",
              "    80% {\n",
              "      border-color: transparent;\n",
              "      border-right-color: var(--fill-color);\n",
              "      border-bottom-color: var(--fill-color);\n",
              "    }\n",
              "    90% {\n",
              "      border-color: transparent;\n",
              "      border-bottom-color: var(--fill-color);\n",
              "    }\n",
              "  }\n",
              "</style>\n",
              "\n",
              "  <script>\n",
              "    async function quickchart(key) {\n",
              "      const quickchartButtonEl =\n",
              "        document.querySelector('#' + key + ' button');\n",
              "      quickchartButtonEl.disabled = true;  // To prevent multiple clicks.\n",
              "      quickchartButtonEl.classList.add('colab-df-spinner');\n",
              "      try {\n",
              "        const charts = await google.colab.kernel.invokeFunction(\n",
              "            'suggestCharts', [key], {});\n",
              "      } catch (error) {\n",
              "        console.error('Error during call to suggestCharts:', error);\n",
              "      }\n",
              "      quickchartButtonEl.classList.remove('colab-df-spinner');\n",
              "      quickchartButtonEl.classList.add('colab-df-quickchart-complete');\n",
              "    }\n",
              "    (() => {\n",
              "      let quickchartButtonEl =\n",
              "        document.querySelector('#df-5dd47189-0ece-4174-bcb0-c3bd3e3ea5c6 button');\n",
              "      quickchartButtonEl.style.display =\n",
              "        google.colab.kernel.accessAllowed ? 'block' : 'none';\n",
              "    })();\n",
              "  </script>\n",
              "</div>\n",
              "\n",
              "  <div id=\"id_f2b53b27-523f-4ba7-9a80-2f717c3fabd2\">\n",
              "    <style>\n",
              "      .colab-df-generate {\n",
              "        background-color: #E8F0FE;\n",
              "        border: none;\n",
              "        border-radius: 50%;\n",
              "        cursor: pointer;\n",
              "        display: none;\n",
              "        fill: #1967D2;\n",
              "        height: 32px;\n",
              "        padding: 0 0 0 0;\n",
              "        width: 32px;\n",
              "      }\n",
              "\n",
              "      .colab-df-generate:hover {\n",
              "        background-color: #E2EBFA;\n",
              "        box-shadow: 0px 1px 2px rgba(60, 64, 67, 0.3), 0px 1px 3px 1px rgba(60, 64, 67, 0.15);\n",
              "        fill: #174EA6;\n",
              "      }\n",
              "\n",
              "      [theme=dark] .colab-df-generate {\n",
              "        background-color: #3B4455;\n",
              "        fill: #D2E3FC;\n",
              "      }\n",
              "\n",
              "      [theme=dark] .colab-df-generate:hover {\n",
              "        background-color: #434B5C;\n",
              "        box-shadow: 0px 1px 3px 1px rgba(0, 0, 0, 0.15);\n",
              "        filter: drop-shadow(0px 1px 2px rgba(0, 0, 0, 0.3));\n",
              "        fill: #FFFFFF;\n",
              "      }\n",
              "    </style>\n",
              "    <button class=\"colab-df-generate\" onclick=\"generateWithVariable('df_Messdaten_stats')\"\n",
              "            title=\"Generate code using this dataframe.\"\n",
              "            style=\"display:none;\">\n",
              "\n",
              "  <svg xmlns=\"http://www.w3.org/2000/svg\" height=\"24px\"viewBox=\"0 0 24 24\"\n",
              "       width=\"24px\">\n",
              "    <path d=\"M7,19H8.4L18.45,9,17,7.55,7,17.6ZM5,21V16.75L18.45,3.32a2,2,0,0,1,2.83,0l1.4,1.43a1.91,1.91,0,0,1,.58,1.4,1.91,1.91,0,0,1-.58,1.4L9.25,21ZM18.45,9,17,7.55Zm-12,3A5.31,5.31,0,0,0,4.9,8.1,5.31,5.31,0,0,0,1,6.5,5.31,5.31,0,0,0,4.9,4.9,5.31,5.31,0,0,0,6.5,1,5.31,5.31,0,0,0,8.1,4.9,5.31,5.31,0,0,0,12,6.5,5.46,5.46,0,0,0,6.5,12Z\"/>\n",
              "  </svg>\n",
              "    </button>\n",
              "    <script>\n",
              "      (() => {\n",
              "      const buttonEl =\n",
              "        document.querySelector('#id_f2b53b27-523f-4ba7-9a80-2f717c3fabd2 button.colab-df-generate');\n",
              "      buttonEl.style.display =\n",
              "        google.colab.kernel.accessAllowed ? 'block' : 'none';\n",
              "\n",
              "      buttonEl.onclick = () => {\n",
              "        google.colab.notebook.generateWithVariable('df_Messdaten_stats');\n",
              "      }\n",
              "      })();\n",
              "    </script>\n",
              "  </div>\n",
              "\n",
              "    </div>\n",
              "  </div>\n"
            ],
            "application/vnd.google.colaboratory.intrinsic+json": {
              "type": "dataframe",
              "variable_name": "df_Messdaten_stats"
            }
          },
          "metadata": {},
          "execution_count": 42
        }
      ]
    },
    {
      "cell_type": "markdown",
      "source": [
        "Es gibt ein paar Ausreißer in den Messdaten, die im Folgenden gelöscht werden."
      ],
      "metadata": {
        "id": "8cUq_J8Pq5iq"
      }
    },
    {
      "cell_type": "code",
      "source": [
        "def finde_max_werte_fuer_alle_spalten(df):\n",
        "    # Erstellt ein Dictionary, um die maximalen Werte jeder Spalte zu speichern\n",
        "    max_werte = {}\n",
        "    id_werte = {}\n",
        "    # Iteriere über alle Spalten im DataFrame\n",
        "    for spalte in df.columns:\n",
        "        # Ignoriere nicht-numerische Spalten\n",
        "        if pd.api.types.is_numeric_dtype(df[spalte]):\n",
        "            max_werte[spalte] = df[spalte].max()      # Maximaler Wert\n",
        "            id_werte[spalte] = df[spalte].idxmax()    # Spalte mit dem höchsten Wert\n",
        "    return max_werte, id_werte"
      ],
      "metadata": {
        "id": "ZOJ5WxI4a5V2"
      },
      "execution_count": 43,
      "outputs": []
    },
    {
      "cell_type": "code",
      "source": [
        "max_werte, id_werte = finde_max_werte_fuer_alle_spalten(df_Messdaten_drop)"
      ],
      "metadata": {
        "id": "Uh7qY1FRaXki"
      },
      "execution_count": 44,
      "outputs": []
    },
    {
      "cell_type": "code",
      "source": [
        "threshold = 10 # Messdaten über 1 werden aussotiert\n",
        "selected_rows = df_Messdaten_drop[df_Messdaten_drop.iloc[:, 4:1305].gt(threshold).any(axis=1)]"
      ],
      "metadata": {
        "id": "pVHO_7FzpGZ2"
      },
      "execution_count": 45,
      "outputs": []
    },
    {
      "cell_type": "code",
      "source": [
        "sorted_items = sorted(max_werte.items(), key=lambda item: item[1])"
      ],
      "metadata": {
        "id": "oECf0kHdL9r6"
      },
      "execution_count": 46,
      "outputs": []
    },
    {
      "cell_type": "code",
      "source": [
        "selected_rows"
      ],
      "metadata": {
        "id": "IXtd9p757y9T",
        "colab": {
          "base_uri": "https://localhost:8080/",
          "height": 109
        },
        "outputId": "7fa0246c-bc9d-4e74-e5e8-3e6f22ad21df"
      },
      "execution_count": 47,
      "outputs": [
        {
          "output_type": "execute_result",
          "data": {
            "text/plain": [
              "Empty DataFrame\n",
              "Columns: [Datetime, Datum, Uhrzeit, Messzeitpunkt, 290.0, 290.1, 290.2, 290.3, 290.4, 290.5, 290.6, 290.7, 290.8, 290.9, 291.0, 291.1, 291.2, 291.3, 291.4, 291.5, 291.6, 291.7, 291.8, 291.9, 292.0, 292.1, 292.2, 292.3, 292.4, 292.5, 292.6, 292.7, 292.8, 292.9, 293.0, 293.1, 293.2, 293.3, 293.4, 293.5, 293.6, 293.7, 293.8, 293.9, 294.0, 294.1, 294.2, 294.3, 294.4, 294.5, 294.6, 294.7, 294.8, 294.9, 295.0, 295.1, 295.2, 295.3, 295.4, 295.5, 295.6, 295.7, 295.8, 295.9, 296.0, 296.1, 296.2, 296.3, 296.4, 296.5, 296.6, 296.7, 296.8, 296.9, 297.0, 297.1, 297.2, 297.3, 297.4, 297.5, 297.6, 297.7, 297.8, 297.9, 298.0, 298.1, 298.2, 298.3, 298.4, 298.5, 298.6, 298.7, 298.8, 298.9, 299.0, 299.1, 299.2, 299.3, 299.4, 299.5, ...]\n",
              "Index: []\n",
              "\n",
              "[0 rows x 1305 columns]"
            ],
            "text/html": [
              "\n",
              "  <div id=\"df-2c3ffe60-c415-49ca-8c4c-3224a60af757\" class=\"colab-df-container\">\n",
              "    <div>\n",
              "<style scoped>\n",
              "    .dataframe tbody tr th:only-of-type {\n",
              "        vertical-align: middle;\n",
              "    }\n",
              "\n",
              "    .dataframe tbody tr th {\n",
              "        vertical-align: top;\n",
              "    }\n",
              "\n",
              "    .dataframe thead th {\n",
              "        text-align: right;\n",
              "    }\n",
              "</style>\n",
              "<table border=\"1\" class=\"dataframe\">\n",
              "  <thead>\n",
              "    <tr style=\"text-align: right;\">\n",
              "      <th></th>\n",
              "      <th>Datetime</th>\n",
              "      <th>Datum</th>\n",
              "      <th>Uhrzeit</th>\n",
              "      <th>Messzeitpunkt</th>\n",
              "      <th>290.0</th>\n",
              "      <th>290.1</th>\n",
              "      <th>290.2</th>\n",
              "      <th>290.3</th>\n",
              "      <th>290.4</th>\n",
              "      <th>290.5</th>\n",
              "      <th>...</th>\n",
              "      <th>419.1</th>\n",
              "      <th>419.2</th>\n",
              "      <th>419.3</th>\n",
              "      <th>419.4</th>\n",
              "      <th>419.5</th>\n",
              "      <th>419.6</th>\n",
              "      <th>419.7</th>\n",
              "      <th>419.8</th>\n",
              "      <th>419.9</th>\n",
              "      <th>420.0</th>\n",
              "    </tr>\n",
              "  </thead>\n",
              "  <tbody>\n",
              "  </tbody>\n",
              "</table>\n",
              "<p>0 rows × 1305 columns</p>\n",
              "</div>\n",
              "    <div class=\"colab-df-buttons\">\n",
              "\n",
              "  <div class=\"colab-df-container\">\n",
              "    <button class=\"colab-df-convert\" onclick=\"convertToInteractive('df-2c3ffe60-c415-49ca-8c4c-3224a60af757')\"\n",
              "            title=\"Convert this dataframe to an interactive table.\"\n",
              "            style=\"display:none;\">\n",
              "\n",
              "  <svg xmlns=\"http://www.w3.org/2000/svg\" height=\"24px\" viewBox=\"0 -960 960 960\">\n",
              "    <path d=\"M120-120v-720h720v720H120Zm60-500h600v-160H180v160Zm220 220h160v-160H400v160Zm0 220h160v-160H400v160ZM180-400h160v-160H180v160Zm440 0h160v-160H620v160ZM180-180h160v-160H180v160Zm440 0h160v-160H620v160Z\"/>\n",
              "  </svg>\n",
              "    </button>\n",
              "\n",
              "  <style>\n",
              "    .colab-df-container {\n",
              "      display:flex;\n",
              "      gap: 12px;\n",
              "    }\n",
              "\n",
              "    .colab-df-convert {\n",
              "      background-color: #E8F0FE;\n",
              "      border: none;\n",
              "      border-radius: 50%;\n",
              "      cursor: pointer;\n",
              "      display: none;\n",
              "      fill: #1967D2;\n",
              "      height: 32px;\n",
              "      padding: 0 0 0 0;\n",
              "      width: 32px;\n",
              "    }\n",
              "\n",
              "    .colab-df-convert:hover {\n",
              "      background-color: #E2EBFA;\n",
              "      box-shadow: 0px 1px 2px rgba(60, 64, 67, 0.3), 0px 1px 3px 1px rgba(60, 64, 67, 0.15);\n",
              "      fill: #174EA6;\n",
              "    }\n",
              "\n",
              "    .colab-df-buttons div {\n",
              "      margin-bottom: 4px;\n",
              "    }\n",
              "\n",
              "    [theme=dark] .colab-df-convert {\n",
              "      background-color: #3B4455;\n",
              "      fill: #D2E3FC;\n",
              "    }\n",
              "\n",
              "    [theme=dark] .colab-df-convert:hover {\n",
              "      background-color: #434B5C;\n",
              "      box-shadow: 0px 1px 3px 1px rgba(0, 0, 0, 0.15);\n",
              "      filter: drop-shadow(0px 1px 2px rgba(0, 0, 0, 0.3));\n",
              "      fill: #FFFFFF;\n",
              "    }\n",
              "  </style>\n",
              "\n",
              "    <script>\n",
              "      const buttonEl =\n",
              "        document.querySelector('#df-2c3ffe60-c415-49ca-8c4c-3224a60af757 button.colab-df-convert');\n",
              "      buttonEl.style.display =\n",
              "        google.colab.kernel.accessAllowed ? 'block' : 'none';\n",
              "\n",
              "      async function convertToInteractive(key) {\n",
              "        const element = document.querySelector('#df-2c3ffe60-c415-49ca-8c4c-3224a60af757');\n",
              "        const dataTable =\n",
              "          await google.colab.kernel.invokeFunction('convertToInteractive',\n",
              "                                                    [key], {});\n",
              "        if (!dataTable) return;\n",
              "\n",
              "        const docLinkHtml = 'Like what you see? Visit the ' +\n",
              "          '<a target=\"_blank\" href=https://colab.research.google.com/notebooks/data_table.ipynb>data table notebook</a>'\n",
              "          + ' to learn more about interactive tables.';\n",
              "        element.innerHTML = '';\n",
              "        dataTable['output_type'] = 'display_data';\n",
              "        await google.colab.output.renderOutput(dataTable, element);\n",
              "        const docLink = document.createElement('div');\n",
              "        docLink.innerHTML = docLinkHtml;\n",
              "        element.appendChild(docLink);\n",
              "      }\n",
              "    </script>\n",
              "  </div>\n",
              "\n",
              "\n",
              "  <div id=\"id_b4a9b84a-6240-47c2-903d-e1701dc6d0ee\">\n",
              "    <style>\n",
              "      .colab-df-generate {\n",
              "        background-color: #E8F0FE;\n",
              "        border: none;\n",
              "        border-radius: 50%;\n",
              "        cursor: pointer;\n",
              "        display: none;\n",
              "        fill: #1967D2;\n",
              "        height: 32px;\n",
              "        padding: 0 0 0 0;\n",
              "        width: 32px;\n",
              "      }\n",
              "\n",
              "      .colab-df-generate:hover {\n",
              "        background-color: #E2EBFA;\n",
              "        box-shadow: 0px 1px 2px rgba(60, 64, 67, 0.3), 0px 1px 3px 1px rgba(60, 64, 67, 0.15);\n",
              "        fill: #174EA6;\n",
              "      }\n",
              "\n",
              "      [theme=dark] .colab-df-generate {\n",
              "        background-color: #3B4455;\n",
              "        fill: #D2E3FC;\n",
              "      }\n",
              "\n",
              "      [theme=dark] .colab-df-generate:hover {\n",
              "        background-color: #434B5C;\n",
              "        box-shadow: 0px 1px 3px 1px rgba(0, 0, 0, 0.15);\n",
              "        filter: drop-shadow(0px 1px 2px rgba(0, 0, 0, 0.3));\n",
              "        fill: #FFFFFF;\n",
              "      }\n",
              "    </style>\n",
              "    <button class=\"colab-df-generate\" onclick=\"generateWithVariable('selected_rows')\"\n",
              "            title=\"Generate code using this dataframe.\"\n",
              "            style=\"display:none;\">\n",
              "\n",
              "  <svg xmlns=\"http://www.w3.org/2000/svg\" height=\"24px\"viewBox=\"0 0 24 24\"\n",
              "       width=\"24px\">\n",
              "    <path d=\"M7,19H8.4L18.45,9,17,7.55,7,17.6ZM5,21V16.75L18.45,3.32a2,2,0,0,1,2.83,0l1.4,1.43a1.91,1.91,0,0,1,.58,1.4,1.91,1.91,0,0,1-.58,1.4L9.25,21ZM18.45,9,17,7.55Zm-12,3A5.31,5.31,0,0,0,4.9,8.1,5.31,5.31,0,0,0,1,6.5,5.31,5.31,0,0,0,4.9,4.9,5.31,5.31,0,0,0,6.5,1,5.31,5.31,0,0,0,8.1,4.9,5.31,5.31,0,0,0,12,6.5,5.46,5.46,0,0,0,6.5,12Z\"/>\n",
              "  </svg>\n",
              "    </button>\n",
              "    <script>\n",
              "      (() => {\n",
              "      const buttonEl =\n",
              "        document.querySelector('#id_b4a9b84a-6240-47c2-903d-e1701dc6d0ee button.colab-df-generate');\n",
              "      buttonEl.style.display =\n",
              "        google.colab.kernel.accessAllowed ? 'block' : 'none';\n",
              "\n",
              "      buttonEl.onclick = () => {\n",
              "        google.colab.notebook.generateWithVariable('selected_rows');\n",
              "      }\n",
              "      })();\n",
              "    </script>\n",
              "  </div>\n",
              "\n",
              "    </div>\n",
              "  </div>\n"
            ],
            "application/vnd.google.colaboratory.intrinsic+json": {
              "type": "dataframe",
              "variable_name": "selected_rows"
            }
          },
          "metadata": {},
          "execution_count": 47
        }
      ]
    },
    {
      "cell_type": "markdown",
      "source": [
        "NAN-Einträge aus den Messdaten löschen."
      ],
      "metadata": {
        "id": "hicCpxjJq3Sy"
      }
    },
    {
      "cell_type": "code",
      "source": [
        "nan_eintraege = df_Messdaten_drop[df_Messdaten_drop.isna().any(axis=1)]"
      ],
      "metadata": {
        "id": "m4MGEpHpGJuv"
      },
      "execution_count": 48,
      "outputs": []
    },
    {
      "cell_type": "code",
      "source": [
        "nan_eintraege, df_Messdaten_drop"
      ],
      "metadata": {
        "id": "S7i3GzksIHy1",
        "colab": {
          "base_uri": "https://localhost:8080/"
        },
        "outputId": "b1970375-b8cb-4eb4-e0b1-8951492cf1b6"
      },
      "execution_count": 49,
      "outputs": [
        {
          "output_type": "execute_result",
          "data": {
            "text/plain": [
              "(Empty DataFrame\n",
              " Columns: [Datetime, Datum, Uhrzeit, Messzeitpunkt, 290.0, 290.1, 290.2, 290.3, 290.4, 290.5, 290.6, 290.7, 290.8, 290.9, 291.0, 291.1, 291.2, 291.3, 291.4, 291.5, 291.6, 291.7, 291.8, 291.9, 292.0, 292.1, 292.2, 292.3, 292.4, 292.5, 292.6, 292.7, 292.8, 292.9, 293.0, 293.1, 293.2, 293.3, 293.4, 293.5, 293.6, 293.7, 293.8, 293.9, 294.0, 294.1, 294.2, 294.3, 294.4, 294.5, 294.6, 294.7, 294.8, 294.9, 295.0, 295.1, 295.2, 295.3, 295.4, 295.5, 295.6, 295.7, 295.8, 295.9, 296.0, 296.1, 296.2, 296.3, 296.4, 296.5, 296.6, 296.7, 296.8, 296.9, 297.0, 297.1, 297.2, 297.3, 297.4, 297.5, 297.6, 297.7, 297.8, 297.9, 298.0, 298.1, 298.2, 298.3, 298.4, 298.5, 298.6, 298.7, 298.8, 298.9, 299.0, 299.1, 299.2, 299.3, 299.4, 299.5, ...]\n",
              " Index: []\n",
              " \n",
              " [0 rows x 1305 columns],\n",
              "                 Datetime       Datum   Uhrzeit  Messzeitpunkt  290.0  290.1  \\\n",
              " 0    2023-01-03 13:23:00  2023-01-03  13:23:00          48180    0.0    0.0   \n",
              " 1    2023-01-03 13:25:00  2023-01-03  13:25:00          48300    0.0    0.0   \n",
              " 2    2023-01-03 13:27:00  2023-01-03  13:27:00          48420    0.0    0.0   \n",
              " 3    2023-01-03 13:29:00  2023-01-03  13:29:00          48540    0.0    0.0   \n",
              " 4    2023-01-03 13:31:00  2023-01-03  13:31:00          48660    0.0    0.0   \n",
              " ...                  ...         ...       ...            ...    ...    ...   \n",
              " 7390 2023-01-31 15:56:00  2023-01-31  15:56:00          57360    0.0    0.0   \n",
              " 7391 2023-01-31 15:58:00  2023-01-31  15:58:00          57480    0.0    0.0   \n",
              " 7392 2023-01-31 16:00:00  2023-01-31  16:00:00          57600    0.0    0.0   \n",
              " 7393 2023-01-31 16:02:00  2023-01-31  16:02:00          57720    0.0    0.0   \n",
              " 7394 2023-01-31 16:04:00  2023-01-31  16:04:00          57840    0.0    0.0   \n",
              " \n",
              "       290.2  290.3  290.4  290.5  ...     419.1     419.2     419.3     419.4  \\\n",
              " 0       0.0    0.0    0.0    0.0  ...  0.231380  0.231590  0.229700  0.225740   \n",
              " 1       0.0    0.0    0.0    0.0  ...  0.224010  0.223890  0.222140  0.217220   \n",
              " 2       0.0    0.0    0.0    0.0  ...  0.203460  0.203160  0.201080  0.196740   \n",
              " 3       0.0    0.0    0.0    0.0  ...  0.237260  0.236590  0.233180  0.229990   \n",
              " 4       0.0    0.0    0.0    0.0  ...  0.234130  0.233910  0.231640  0.227120   \n",
              " ...     ...    ...    ...    ...  ...       ...       ...       ...       ...   \n",
              " 7390    0.0    0.0    0.0    0.0  ...  0.008140  0.008079  0.007964  0.007826   \n",
              " 7391    0.0    0.0    0.0    0.0  ...  0.005387  0.005368  0.005287  0.005189   \n",
              " 7392    0.0    0.0    0.0    0.0  ...  0.005244  0.005231  0.005168  0.005071   \n",
              " 7393    0.0    0.0    0.0    0.0  ...  0.004785  0.004739  0.004654  0.004562   \n",
              " 7394    0.0    0.0    0.0    0.0  ...  0.004438  0.004407  0.004359  0.004309   \n",
              " \n",
              "          419.5     419.6     419.7     419.8     419.9     420.0  \n",
              " 0     0.220830  0.217020  0.214900  0.213760  0.214050  0.216430  \n",
              " 1     0.213480  0.209840  0.206860  0.206550  0.207620  0.209700  \n",
              " 2     0.194060  0.190330  0.188790  0.188170  0.188580  0.190350  \n",
              " 3     0.225480  0.222360  0.219070  0.217900  0.219060  0.221310  \n",
              " 4     0.222590  0.219220  0.217400  0.216080  0.215980  0.218380  \n",
              " ...        ...       ...       ...       ...       ...       ...  \n",
              " 7390  0.007727  0.007543  0.007499  0.007493  0.007519  0.007578  \n",
              " 7391  0.005085  0.004984  0.004967  0.004968  0.004983  0.005002  \n",
              " 7392  0.004973  0.004908  0.004841  0.004825  0.004877  0.004912  \n",
              " 7393  0.004510  0.004458  0.004409  0.004433  0.004401  0.004421  \n",
              " 7394  0.004202  0.004157  0.004110  0.004098  0.004111  0.004127  \n",
              " \n",
              " [7395 rows x 1305 columns])"
            ]
          },
          "metadata": {},
          "execution_count": 49
        }
      ]
    },
    {
      "cell_type": "markdown",
      "source": [
        "## Fehlende Spalten interpolieren und plotten\n",
        "Durch das entfernen von Ausreißern gibt es Datenlücken im Spektrum, diese werden im Folgenden interpoliert und ersetzt."
      ],
      "metadata": {
        "id": "BaXvpmLzxMTq"
      }
    },
    {
      "cell_type": "code",
      "source": [
        "def interpolate_missing_values(df):\n",
        "\n",
        "    index_start = df_Messdaten_drop.columns.get_loc('290.0')\n",
        "    index_ende = df_Messdaten_drop.columns.get_loc('420.0')\n",
        "    # Interpolieren der fehlenden Werte im DataFrame\n",
        "    # 'limit_direction'='both' ermöglicht die Interpolation in beide Richtungen\n",
        "    # 'limit_area'='inside' sorgt dafür, dass nur innerhalb des existierenden Datenbereichs interpoliert wird\n",
        "    df_interpolated = df.iloc[:, index_start : index_ende].interpolate(method='linear', limit_direction='both', limit_area='inside')\n",
        "    result = pd.concat([df.iloc[:, :4], df_interpolated], axis=1)\n",
        "\n",
        "    return result"
      ],
      "metadata": {
        "id": "YR9_bk-JnVek"
      },
      "execution_count": 50,
      "outputs": []
    },
    {
      "cell_type": "code",
      "source": [
        "# Interpolieren der fehlenden Messwerte.\n",
        "df_Messdaten_inter = interpolate_missing_values(df_Messdaten_drop)"
      ],
      "metadata": {
        "id": "1ZV8AxiHnWoC"
      },
      "execution_count": 51,
      "outputs": []
    },
    {
      "cell_type": "code",
      "source": [
        "# Löschen aller NAN-Einträge\n",
        "nan_inter_eintraege = df_Messdaten_inter[df_Messdaten_inter.isna().any(axis=1)]\n",
        "nan_inter_eintraege"
      ],
      "metadata": {
        "id": "pHyFNAj3nxPv",
        "colab": {
          "base_uri": "https://localhost:8080/",
          "height": 109
        },
        "outputId": "8dba3143-e4ba-4fb2-a16e-dd766601fb21"
      },
      "execution_count": 52,
      "outputs": [
        {
          "output_type": "execute_result",
          "data": {
            "text/plain": [
              "Empty DataFrame\n",
              "Columns: [Datetime, Datum, Uhrzeit, Messzeitpunkt, 290.0, 290.1, 290.2, 290.3, 290.4, 290.5, 290.6, 290.7, 290.8, 290.9, 291.0, 291.1, 291.2, 291.3, 291.4, 291.5, 291.6, 291.7, 291.8, 291.9, 292.0, 292.1, 292.2, 292.3, 292.4, 292.5, 292.6, 292.7, 292.8, 292.9, 293.0, 293.1, 293.2, 293.3, 293.4, 293.5, 293.6, 293.7, 293.8, 293.9, 294.0, 294.1, 294.2, 294.3, 294.4, 294.5, 294.6, 294.7, 294.8, 294.9, 295.0, 295.1, 295.2, 295.3, 295.4, 295.5, 295.6, 295.7, 295.8, 295.9, 296.0, 296.1, 296.2, 296.3, 296.4, 296.5, 296.6, 296.7, 296.8, 296.9, 297.0, 297.1, 297.2, 297.3, 297.4, 297.5, 297.6, 297.7, 297.8, 297.9, 298.0, 298.1, 298.2, 298.3, 298.4, 298.5, 298.6, 298.7, 298.8, 298.9, 299.0, 299.1, 299.2, 299.3, 299.4, 299.5, ...]\n",
              "Index: []\n",
              "\n",
              "[0 rows x 1304 columns]"
            ],
            "text/html": [
              "\n",
              "  <div id=\"df-c64a1d33-d40f-4b09-a53c-e6b293cacdc3\" class=\"colab-df-container\">\n",
              "    <div>\n",
              "<style scoped>\n",
              "    .dataframe tbody tr th:only-of-type {\n",
              "        vertical-align: middle;\n",
              "    }\n",
              "\n",
              "    .dataframe tbody tr th {\n",
              "        vertical-align: top;\n",
              "    }\n",
              "\n",
              "    .dataframe thead th {\n",
              "        text-align: right;\n",
              "    }\n",
              "</style>\n",
              "<table border=\"1\" class=\"dataframe\">\n",
              "  <thead>\n",
              "    <tr style=\"text-align: right;\">\n",
              "      <th></th>\n",
              "      <th>Datetime</th>\n",
              "      <th>Datum</th>\n",
              "      <th>Uhrzeit</th>\n",
              "      <th>Messzeitpunkt</th>\n",
              "      <th>290.0</th>\n",
              "      <th>290.1</th>\n",
              "      <th>290.2</th>\n",
              "      <th>290.3</th>\n",
              "      <th>290.4</th>\n",
              "      <th>290.5</th>\n",
              "      <th>...</th>\n",
              "      <th>419.0</th>\n",
              "      <th>419.1</th>\n",
              "      <th>419.2</th>\n",
              "      <th>419.3</th>\n",
              "      <th>419.4</th>\n",
              "      <th>419.5</th>\n",
              "      <th>419.6</th>\n",
              "      <th>419.7</th>\n",
              "      <th>419.8</th>\n",
              "      <th>419.9</th>\n",
              "    </tr>\n",
              "  </thead>\n",
              "  <tbody>\n",
              "  </tbody>\n",
              "</table>\n",
              "<p>0 rows × 1304 columns</p>\n",
              "</div>\n",
              "    <div class=\"colab-df-buttons\">\n",
              "\n",
              "  <div class=\"colab-df-container\">\n",
              "    <button class=\"colab-df-convert\" onclick=\"convertToInteractive('df-c64a1d33-d40f-4b09-a53c-e6b293cacdc3')\"\n",
              "            title=\"Convert this dataframe to an interactive table.\"\n",
              "            style=\"display:none;\">\n",
              "\n",
              "  <svg xmlns=\"http://www.w3.org/2000/svg\" height=\"24px\" viewBox=\"0 -960 960 960\">\n",
              "    <path d=\"M120-120v-720h720v720H120Zm60-500h600v-160H180v160Zm220 220h160v-160H400v160Zm0 220h160v-160H400v160ZM180-400h160v-160H180v160Zm440 0h160v-160H620v160ZM180-180h160v-160H180v160Zm440 0h160v-160H620v160Z\"/>\n",
              "  </svg>\n",
              "    </button>\n",
              "\n",
              "  <style>\n",
              "    .colab-df-container {\n",
              "      display:flex;\n",
              "      gap: 12px;\n",
              "    }\n",
              "\n",
              "    .colab-df-convert {\n",
              "      background-color: #E8F0FE;\n",
              "      border: none;\n",
              "      border-radius: 50%;\n",
              "      cursor: pointer;\n",
              "      display: none;\n",
              "      fill: #1967D2;\n",
              "      height: 32px;\n",
              "      padding: 0 0 0 0;\n",
              "      width: 32px;\n",
              "    }\n",
              "\n",
              "    .colab-df-convert:hover {\n",
              "      background-color: #E2EBFA;\n",
              "      box-shadow: 0px 1px 2px rgba(60, 64, 67, 0.3), 0px 1px 3px 1px rgba(60, 64, 67, 0.15);\n",
              "      fill: #174EA6;\n",
              "    }\n",
              "\n",
              "    .colab-df-buttons div {\n",
              "      margin-bottom: 4px;\n",
              "    }\n",
              "\n",
              "    [theme=dark] .colab-df-convert {\n",
              "      background-color: #3B4455;\n",
              "      fill: #D2E3FC;\n",
              "    }\n",
              "\n",
              "    [theme=dark] .colab-df-convert:hover {\n",
              "      background-color: #434B5C;\n",
              "      box-shadow: 0px 1px 3px 1px rgba(0, 0, 0, 0.15);\n",
              "      filter: drop-shadow(0px 1px 2px rgba(0, 0, 0, 0.3));\n",
              "      fill: #FFFFFF;\n",
              "    }\n",
              "  </style>\n",
              "\n",
              "    <script>\n",
              "      const buttonEl =\n",
              "        document.querySelector('#df-c64a1d33-d40f-4b09-a53c-e6b293cacdc3 button.colab-df-convert');\n",
              "      buttonEl.style.display =\n",
              "        google.colab.kernel.accessAllowed ? 'block' : 'none';\n",
              "\n",
              "      async function convertToInteractive(key) {\n",
              "        const element = document.querySelector('#df-c64a1d33-d40f-4b09-a53c-e6b293cacdc3');\n",
              "        const dataTable =\n",
              "          await google.colab.kernel.invokeFunction('convertToInteractive',\n",
              "                                                    [key], {});\n",
              "        if (!dataTable) return;\n",
              "\n",
              "        const docLinkHtml = 'Like what you see? Visit the ' +\n",
              "          '<a target=\"_blank\" href=https://colab.research.google.com/notebooks/data_table.ipynb>data table notebook</a>'\n",
              "          + ' to learn more about interactive tables.';\n",
              "        element.innerHTML = '';\n",
              "        dataTable['output_type'] = 'display_data';\n",
              "        await google.colab.output.renderOutput(dataTable, element);\n",
              "        const docLink = document.createElement('div');\n",
              "        docLink.innerHTML = docLinkHtml;\n",
              "        element.appendChild(docLink);\n",
              "      }\n",
              "    </script>\n",
              "  </div>\n",
              "\n",
              "\n",
              "  <div id=\"id_e4127831-ad92-453d-a8a5-602f3cfdce92\">\n",
              "    <style>\n",
              "      .colab-df-generate {\n",
              "        background-color: #E8F0FE;\n",
              "        border: none;\n",
              "        border-radius: 50%;\n",
              "        cursor: pointer;\n",
              "        display: none;\n",
              "        fill: #1967D2;\n",
              "        height: 32px;\n",
              "        padding: 0 0 0 0;\n",
              "        width: 32px;\n",
              "      }\n",
              "\n",
              "      .colab-df-generate:hover {\n",
              "        background-color: #E2EBFA;\n",
              "        box-shadow: 0px 1px 2px rgba(60, 64, 67, 0.3), 0px 1px 3px 1px rgba(60, 64, 67, 0.15);\n",
              "        fill: #174EA6;\n",
              "      }\n",
              "\n",
              "      [theme=dark] .colab-df-generate {\n",
              "        background-color: #3B4455;\n",
              "        fill: #D2E3FC;\n",
              "      }\n",
              "\n",
              "      [theme=dark] .colab-df-generate:hover {\n",
              "        background-color: #434B5C;\n",
              "        box-shadow: 0px 1px 3px 1px rgba(0, 0, 0, 0.15);\n",
              "        filter: drop-shadow(0px 1px 2px rgba(0, 0, 0, 0.3));\n",
              "        fill: #FFFFFF;\n",
              "      }\n",
              "    </style>\n",
              "    <button class=\"colab-df-generate\" onclick=\"generateWithVariable('nan_inter_eintraege')\"\n",
              "            title=\"Generate code using this dataframe.\"\n",
              "            style=\"display:none;\">\n",
              "\n",
              "  <svg xmlns=\"http://www.w3.org/2000/svg\" height=\"24px\"viewBox=\"0 0 24 24\"\n",
              "       width=\"24px\">\n",
              "    <path d=\"M7,19H8.4L18.45,9,17,7.55,7,17.6ZM5,21V16.75L18.45,3.32a2,2,0,0,1,2.83,0l1.4,1.43a1.91,1.91,0,0,1,.58,1.4,1.91,1.91,0,0,1-.58,1.4L9.25,21ZM18.45,9,17,7.55Zm-12,3A5.31,5.31,0,0,0,4.9,8.1,5.31,5.31,0,0,0,1,6.5,5.31,5.31,0,0,0,4.9,4.9,5.31,5.31,0,0,0,6.5,1,5.31,5.31,0,0,0,8.1,4.9,5.31,5.31,0,0,0,12,6.5,5.46,5.46,0,0,0,6.5,12Z\"/>\n",
              "  </svg>\n",
              "    </button>\n",
              "    <script>\n",
              "      (() => {\n",
              "      const buttonEl =\n",
              "        document.querySelector('#id_e4127831-ad92-453d-a8a5-602f3cfdce92 button.colab-df-generate');\n",
              "      buttonEl.style.display =\n",
              "        google.colab.kernel.accessAllowed ? 'block' : 'none';\n",
              "\n",
              "      buttonEl.onclick = () => {\n",
              "        google.colab.notebook.generateWithVariable('nan_inter_eintraege');\n",
              "      }\n",
              "      })();\n",
              "    </script>\n",
              "  </div>\n",
              "\n",
              "    </div>\n",
              "  </div>\n"
            ],
            "application/vnd.google.colaboratory.intrinsic+json": {
              "type": "dataframe",
              "variable_name": "nan_inter_eintraege"
            }
          },
          "metadata": {},
          "execution_count": 52
        }
      ]
    },
    {
      "cell_type": "code",
      "source": [
        "# Funktion um den Maximalen Eintrag einer Spalte zu finden\n",
        "max_werte, id_werte = finde_max_werte_fuer_alle_spalten(df_Messdaten_inter.iloc[:, 4:1306])"
      ],
      "metadata": {
        "id": "6PNKCiOWa_8q"
      },
      "execution_count": 53,
      "outputs": []
    },
    {
      "cell_type": "markdown",
      "source": [
        "## Plotten der IDs und Maximalwerte:"
      ],
      "metadata": {
        "id": "3tnFaCk9vHl6"
      }
    },
    {
      "cell_type": "code",
      "source": [
        "schluessel_id = list(id_werte.keys())\n",
        "werte_id = list(id_werte.values())\n",
        "plt.plot(schluessel_id, werte_id)"
      ],
      "metadata": {
        "id": "kgPDlZ2qbIR6",
        "colab": {
          "base_uri": "https://localhost:8080/",
          "height": 447
        },
        "outputId": "1ce4b78b-6cb1-4878-9b13-9595c0a08196"
      },
      "execution_count": 54,
      "outputs": [
        {
          "output_type": "execute_result",
          "data": {
            "text/plain": [
              "[<matplotlib.lines.Line2D at 0x7823ddd1f650>]"
            ]
          },
          "metadata": {},
          "execution_count": 54
        },
        {
          "output_type": "display_data",
          "data": {
            "text/plain": [
              "<Figure size 640x480 with 1 Axes>"
            ],
            "image/png": "[encoded data removed]"
          },
          "metadata": {}
        }
      ]
    },
    {
      "cell_type": "code",
      "source": [
        "plot_spektrale_statistiken(df_Messdaten_inter.describe(), skip_cols=2, filename = month + \"_bereinigt.png\")"
      ],
      "metadata": {
        "id": "jpxT-qAJbH2h",
        "colab": {
          "base_uri": "https://localhost:8080/"
        },
        "outputId": "d2960047-92e0-48ef-88c2-02fba4cac241"
      },
      "execution_count": 55,
      "outputs": [
        {
          "output_type": "stream",
          "name": "stdout",
          "text": [
            "✅ Plot gespeichert unter: /content/drive/MyDrive/Colab_Notebooks/Auswertung Datenbereinigung/23.01_bereinigt.png\n"
          ]
        }
      ]
    },
    {
      "cell_type": "markdown",
      "source": [
        "## Abspeichern der spektralen Messwerte in einen Dataframe:"
      ],
      "metadata": {
        "id": "xVwGDJOfvQ0g"
      }
    },
    {
      "cell_type": "code",
      "source": [
        "# save_dataframe_to_drive(df_Messdaten_inter, '/content/drive/My Drive/Colab_Notebooks/CSV_Messdaten', month)"
      ],
      "metadata": {
        "id": "DO8lF9Vxz6L_"
      },
      "execution_count": 56,
      "outputs": []
    },
    {
      "cell_type": "code",
      "source": [],
      "metadata": {
        "id": "Ije4MyUdk-fI"
      },
      "execution_count": 56,
      "outputs": []
    }
  ]
}