{
  "nbformat": 4,
  "nbformat_minor": 0,
  "metadata": {
    "colab": {
      "provenance": [],
      "authorship_tag": "ABX9TyPQ/qWt1GyEG8I/tnGf/FF1",
      "include_colab_link": true
    },
    "kernelspec": {
      "name": "python3",
      "display_name": "Python 3"
    },
    "language_info": {
      "name": "python"
    }
  },
  "cells": [
    {
      "cell_type": "markdown",
      "metadata": {
        "id": "view-in-github",
        "colab_type": "text"
      },
      "source": [
        "<a href=\"https://colab.research.google.com/github/rjanow/Masterarbeit/blob/main/preprocessing/SOLYS_to_DF.ipynb\" target=\"_parent\"><img src=\"https://colab.research.google.com/assets/colab-badge.svg\" alt=\"Open In Colab\"/></a>"
      ]
    },
    {
      "cell_type": "markdown",
      "source": [
        "# Hier werden die Messwerte des SOLYS-Datenloggers in einen Dataframe umgewandelt:"
      ],
      "metadata": {
        "id": "3LK9CU9zPOU0"
      }
    },
    {
      "cell_type": "markdown",
      "source": [
        "**Dokumentenname: SOLYS_to_DF.ipynb**\n",
        "\n",
        "Hier werden die Daten des SOLYS-Sun-Tracker in einen Dataframe umgewandelt:"
      ],
      "metadata": {
        "id": "OOTOrkjJPXYI"
      }
    },
    {
      "cell_type": "markdown",
      "source": [
        "## Import der benötigten Module und allgemeine Settings:"
      ],
      "metadata": {
        "id": "bDOd7lEdEPsn"
      }
    },
    {
      "cell_type": "code",
      "source": [
        "%matplotlib inline"
      ],
      "metadata": {
        "id": "LvRd613WeskB"
      },
      "execution_count": 1,
      "outputs": []
    },
    {
      "cell_type": "code",
      "source": [
        "# Import der benötigten Module\n",
        "import os\n",
        "import pandas as pd\n",
        "import matplotlib.pyplot  as plt\n",
        "\n",
        "from google.colab import drive"
      ],
      "metadata": {
        "id": "3udlYHXdT3qP"
      },
      "execution_count": 2,
      "outputs": []
    },
    {
      "cell_type": "code",
      "source": [
        "# Verbinden mit der Google-Drive\n",
        "from google.colab import drive\n",
        "drive.mount('/content/drive')"
      ],
      "metadata": {
        "colab": {
          "base_uri": "https://localhost:8080/"
        },
        "id": "nTH4RANHg8qC",
        "outputId": "12d4a647-cc0b-4990-ab00-ab7751d60b1b"
      },
      "execution_count": 3,
      "outputs": [
        {
          "output_type": "stream",
          "name": "stdout",
          "text": [
            "Drive already mounted at /content/drive; to attempt to forcibly remount, call drive.mount(\"/content/drive\", force_remount=True).\n"
          ]
        }
      ]
    },
    {
      "cell_type": "code",
      "source": [
        "# Pfad zum Ordner der Drive in dem die Messdaten gespeichert sind\n",
        "# Import:\n",
        "folder_import = f'/content/drive/My Drive/Colab_Notebooks/SOLYS_Messdaten'\n",
        "\n",
        "# Export:\n",
        "folder_export = f'/content/drive/My Drive/Colab_Notebooks/SOLYS_CSV'\n",
        "name_export = 'Solys_CSV'"
      ],
      "metadata": {
        "id": "PcVioCsdUJiE"
      },
      "execution_count": 4,
      "outputs": []
    },
    {
      "cell_type": "markdown",
      "source": [
        "## Daten einlesen:"
      ],
      "metadata": {
        "id": "9TMGY14XEajZ"
      }
    },
    {
      "cell_type": "code",
      "execution_count": 5,
      "metadata": {
        "id": "hnRLH004OjzA"
      },
      "outputs": [],
      "source": [
        "# Funktion zum Laden aller Dateien in einem Google Drive-Ordner\n",
        "def load_data_from_drive_folder(folder_path, header_lines=7, encoding = 'cp1252'):\n",
        "\n",
        "    # Liste, um alle DataFrames zu speichern\n",
        "    dfs = []\n",
        "\n",
        "    # Durchlaufen alle Dateien im angegebenen Ordner\n",
        "    for filename in os.listdir(folder_path):\n",
        "        file_path = os.path.join(folder_path, filename)\n",
        "\n",
        "        # Überprüfe, ob es eine Datei ist und lade sie\n",
        "        if os.path.isfile(file_path):\n",
        "            df = pd.read_csv(file_path, skiprows=header_lines, sep = '\\t', encoding=encoding)\n",
        "            dfs.append(df)\n",
        "\n",
        "    # Kombinieren aller DataFrames\n",
        "    combined_df = pd.concat(dfs, ignore_index=True)\n",
        "\n",
        "    return combined_df"
      ]
    },
    {
      "cell_type": "code",
      "source": [
        "# Aufruf der Funktion zum Einlesen der Messdaten\n",
        "df = load_data_from_drive_folder(folder_import)"
      ],
      "metadata": {
        "id": "GYBWYgqqT60k"
      },
      "execution_count": 6,
      "outputs": []
    },
    {
      "cell_type": "markdown",
      "source": [
        "## Löschen und umbenennen von Spalten:"
      ],
      "metadata": {
        "id": "kfhcpY6SZAZD"
      }
    },
    {
      "cell_type": "code",
      "source": [
        "# Löschen von nicht benötigten Splaten\n",
        "df_Solys = df.drop(columns = ['Unit', 'Unnamed: 10', ' °C', 'V', ' °C.1', 'Unnamed: 9'], axis=1)"
      ],
      "metadata": {
        "id": "-CtH1nwgZ31E"
      },
      "execution_count": 7,
      "outputs": []
    },
    {
      "cell_type": "code",
      "source": [
        "# Umbenennen der Splatennamen\n",
        "df_Solys.columns = ['Datetime', 'Glo', 'Dif', 'Glo_SPLite', 'Dir', 'Temp']"
      ],
      "metadata": {
        "id": "B96T1O5fZF60"
      },
      "execution_count": 8,
      "outputs": []
    },
    {
      "cell_type": "code",
      "source": [
        "# Löschen aller NaN Zeilen\n",
        "df_Solys = df_Solys.dropna()\n",
        "\n",
        "# Datetime-Spalte als Index setzen\n",
        "df_Solys.set_index('Datetime', inplace = True)\n",
        "\n",
        "# Index in Datetime umwandeln\n",
        "df_Solys.index = pd.to_datetime(df_Solys.index, format='%d.%m.%Y %H:%M:%S')"
      ],
      "metadata": {
        "id": "3PM8RydsbR9u"
      },
      "execution_count": null,
      "outputs": []
    },
    {
      "cell_type": "code",
      "source": [
        "# Dateityp der Spalten und Anzahl der Nullwerte\n",
        "# print(df_Solys.info(), '\\n --------------------- \\n', df_Solys.isnull().sum(), df_Solys)"
      ],
      "metadata": {
        "id": "zmdtz-9CcuHQ"
      },
      "execution_count": null,
      "outputs": []
    },
    {
      "cell_type": "markdown",
      "source": [
        "## Messungen in die richtige Reihenfolge bringen:"
      ],
      "metadata": {
        "id": "GZ3of4DUdsrz"
      }
    },
    {
      "cell_type": "code",
      "source": [
        "# Sotieren des Index in chronologischer Reihenfolge\n",
        "df_Solys.sort_index(ascending=True, inplace = True)"
      ],
      "metadata": {
        "id": "4iRf6Ae1fn7y"
      },
      "execution_count": null,
      "outputs": []
    },
    {
      "cell_type": "code",
      "source": [
        "# Prüfen, ob die Messdaten in chronologischer Reihenfolge sind\n",
        "chronologisch = df_Solys.index.is_monotonic_increasing\n",
        "print(f\"Der Index ist in chronologischer Reihenfolge: {chronologisch}\")"
      ],
      "metadata": {
        "id": "ukuyzDbPeKpg"
      },
      "execution_count": null,
      "outputs": []
    },
    {
      "cell_type": "markdown",
      "source": [
        "## Umformen der Trennzeichen:"
      ],
      "metadata": {
        "id": "U5e0PbBdGLWu"
      }
    },
    {
      "cell_type": "code",
      "source": [
        "for column in df_Solys[['Glo','Dif','Glo_SPLite','Dir','Temp']]:\n",
        "    try:\n",
        "        df_Solys[column] = df_Solys[column].str.replace(',', '.').astype(float)\n",
        "    except ValueError:\n",
        "        print(f\"Spalte {column} konnte nicht in float umgewandelt werden.\")"
      ],
      "metadata": {
        "id": "RJVFwoBABroV"
      },
      "execution_count": null,
      "outputs": []
    },
    {
      "cell_type": "markdown",
      "source": [
        "## Prüfen, ob die Daten zusammen hängen:"
      ],
      "metadata": {
        "id": "aWPSe2ezdy6w"
      }
    },
    {
      "cell_type": "code",
      "source": [
        "# Allgemeine Informationen\n",
        "# round(df_Solys.describe(), 2).T"
      ],
      "metadata": {
        "id": "o2UAe_RLiLxg"
      },
      "execution_count": null,
      "outputs": []
    },
    {
      "cell_type": "code",
      "source": [
        "def pruefe_zeitlichen_abstand(df, min_abstand):\n",
        "    ergebnisse = []\n",
        "\n",
        "    for datum, gruppe in df.groupby(df.index.date):\n",
        "        gruppe = gruppe.sort_index()\n",
        "        abstaende = gruppe.index.to_series().diff().dropna()\n",
        "\n",
        "        # Finden von Zeitstempeln, bei denen der Abstand zu klein ist\n",
        "        zu_kleine_abstaende = abstaende[abstaende < min_abstand].index\n",
        "\n",
        "        # Für jeden zu kleinen Abstand, speichern des Datums und der Uhrzeit mit der Bedingung False\n",
        "        for zeit in zu_kleine_abstaende:\n",
        "            ergebnisse.append({'Datum': datum, 'Uhrzeit': zeit.time(), 'Erfuellt': False})\n",
        "\n",
        "        # Für jeden richtigen Abstand, speichern des Datums und der Uhrzeit mit der Bedingung True\n",
        "        if zu_kleine_abstaende.empty:\n",
        "            ergebnisse.append({'Datum': datum, 'Uhrzeit': None, 'Erfuellt': True})\n",
        "\n",
        "    ergebnis_df = pd.DataFrame(ergebnisse)\n",
        "    ergebnis_df['Datum'] = pd.to_datetime(ergebnis_df['Datum'])\n",
        "\n",
        "    return ergebnis_df"
      ],
      "metadata": {
        "id": "inPPjrkVxMIs"
      },
      "execution_count": null,
      "outputs": []
    },
    {
      "cell_type": "code",
      "source": [
        "# Aufruf der Funktion um zu prüfen, ob die Daten zusammenhängend sind\n",
        "ergebnis_df = pruefe_zeitlichen_abstand(df_Solys, pd.Timedelta('10S'))\n",
        "print(len(pd.unique(df_Solys.index.date)), len(ergebnis_df[ergebnis_df['Erfuellt']]))"
      ],
      "metadata": {
        "id": "RDjEwZFPm_z_"
      },
      "execution_count": null,
      "outputs": []
    },
    {
      "cell_type": "code",
      "source": [
        "# Tage an denen die Messdaten nicht zusammenhängen finden\n",
        "# print(ergebnis_df[~ergebnis_df['Erfuellt']])"
      ],
      "metadata": {
        "id": "4duWTZzJhMkg"
      },
      "execution_count": null,
      "outputs": []
    },
    {
      "cell_type": "markdown",
      "source": [
        "***Tage mit fehlenden Daten:***\n",
        "    \n",
        "         Datum    \t    Erfuellt\n",
        "1.   96  2022-08-08     False\n",
        "2.   97  2022-08-09     False\n",
        "3.   98  2022-08-10     False\n",
        "4.   99  2022-08-11     False\n",
        "5.   100 2022-08-12     False"
      ],
      "metadata": {
        "id": "cAw8AePah1sp"
      }
    },
    {
      "cell_type": "markdown",
      "source": [
        "## Plotten der fehlenden Messdaten:"
      ],
      "metadata": {
        "id": "8QGojw_nQvf7"
      }
    },
    {
      "cell_type": "code",
      "source": [
        "df_plot = df_Solys"
      ],
      "metadata": {
        "id": "UfFYILk-UaLL"
      },
      "execution_count": null,
      "outputs": []
    },
    {
      "cell_type": "code",
      "source": [
        "def plot_selected_days(df, date_column, value_columns, selected_dates):\n",
        "    # Stelle sicher, dass das Datum in den DataFrames korrekt formatiert ist\n",
        "    df_func = df\n",
        "\n",
        "    df_func[date_column] = pd.to_datetime(df_func[date_column])\n",
        "    selected_dates = pd.to_datetime(selected_dates)\n",
        "\n",
        "    # print(selected_dates.dtype, df_func[date_column].dtype)\n",
        "\n",
        "    # Gruppiere den DataFrame nach dem Datum\n",
        "    grouped = df_func.groupby(df_func.index.date)\n",
        "\n",
        "    # Erstelle für jeden ausgewählten Tag ein Plot\n",
        "    for date, group in grouped:\n",
        "        for selected_dates in date:\n",
        "            print(date)"
      ],
      "metadata": {
        "id": "3SjHdEu4XkA1"
      },
      "execution_count": null,
      "outputs": []
    },
    {
      "cell_type": "code",
      "source": [
        "# plot_selected_days(df_plot, 'date', ['Glo', 'Dir'], ['2022-08-11', '2022-08-12'])\n",
        "# ergebnis_df['Datum'][~ergebnis_df['Erfuellt']]"
      ],
      "metadata": {
        "id": "C9Q2J5nlc3uJ"
      },
      "execution_count": null,
      "outputs": []
    },
    {
      "cell_type": "markdown",
      "source": [
        "## Daten reduzieren:"
      ],
      "metadata": {
        "id": "kutajKg16vwl"
      }
    },
    {
      "cell_type": "markdown",
      "source": [
        "Daten reduzieren damit die Auflösung mit der des Spektrometers überein stimmt:"
      ],
      "metadata": {
        "id": "bS2Kl7EC67nJ"
      }
    },
    {
      "cell_type": "code",
      "source": [
        "# Durchschnittswerte für 2 Min. berechnen\n",
        "df_Solys_mean = df_Solys.resample('2T').mean()"
      ],
      "metadata": {
        "id": "7xTGn9cu66_3"
      },
      "execution_count": null,
      "outputs": []
    },
    {
      "cell_type": "markdown",
      "source": [
        "## Abspeichern der Messdaten als CSV in der Google-Drive"
      ],
      "metadata": {
        "id": "pa1FosQZ7Wt_"
      }
    },
    {
      "cell_type": "code",
      "source": [
        "def save_dataframe_to_drive(dataframe, folder_path, filename):\n",
        "\n",
        "    # Erstelle den vollen Pfad zur Datei\n",
        "    full_path = os.path.join(folder_path, filename)\n",
        "\n",
        "    # Speichere den DataFrame als CSV-Datei auf Google Drive\n",
        "    dataframe.to_csv(full_path, index=False)"
      ],
      "metadata": {
        "id": "I161fgLS7b8a"
      },
      "execution_count": null,
      "outputs": []
    },
    {
      "cell_type": "code",
      "source": [
        "save_dataframe_to_drive(df_Solys_mean, folder_export, name_export, index = True)"
      ],
      "metadata": {
        "id": "_wL23lwVtJ6M"
      },
      "execution_count": null,
      "outputs": []
    },
    {
      "cell_type": "code",
      "source": [
        "df_Solys_mean"
      ],
      "metadata": {
        "id": "3LLgdjuYUC-u"
      },
      "execution_count": null,
      "outputs": []
    }
  ]
}