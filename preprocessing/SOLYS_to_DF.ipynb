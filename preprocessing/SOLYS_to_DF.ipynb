{
  "nbformat": 4,
  "nbformat_minor": 0,
  "metadata": {
    "colab": {
      "provenance": [],
      "authorship_tag": "ABX9TyMqFJp8HuNQPpoPYO6YNMxy",
      "include_colab_link": true
    },
    "kernelspec": {
      "name": "python3",
      "display_name": "Python 3"
    },
    "language_info": {
      "name": "python"
    }
  },
  "cells": [
    {
      "cell_type": "markdown",
      "metadata": {
        "id": "view-in-github",
        "colab_type": "text"
      },
      "source": [
        "<a href=\"https://colab.research.google.com/github/rjanow/Masterarbeit/blob/main/preprocessing/SOLYS_to_DF.ipynb\" target=\"_parent\"><img src=\"https://colab.research.google.com/assets/colab-badge.svg\" alt=\"Open In Colab\"/></a>"
      ]
    },
    {
      "cell_type": "markdown",
      "source": [
        "# Hier werden die Messwerte des SOLYS-Datenloggers in einen Dataframe umgewandelt:"
      ],
      "metadata": {
        "id": "3LK9CU9zPOU0"
      }
    },
    {
      "cell_type": "markdown",
      "source": [
        "**Dokumentenname: SOLYS_to_DF.ipynb**\n",
        "\n",
        "Hier werden die Daten des SOLYS-Sun-Tracker in einen Dataframe umgewandelt:"
      ],
      "metadata": {
        "id": "OOTOrkjJPXYI"
      }
    },
    {
      "cell_type": "markdown",
      "source": [
        "## Import der benötigten Module und allgemeine Settings:"
      ],
      "metadata": {
        "id": "bDOd7lEdEPsn"
      }
    },
    {
      "cell_type": "code",
      "source": [
        "%matplotlib inline"
      ],
      "metadata": {
        "id": "LvRd613WeskB"
      },
      "execution_count": 1,
      "outputs": []
    },
    {
      "cell_type": "code",
      "source": [
        "# Import der benötigten Module\n",
        "import os\n",
        "import pandas as pd\n",
        "import matplotlib.pyplot  as plt\n",
        "\n",
        "from google.colab import drive"
      ],
      "metadata": {
        "id": "3udlYHXdT3qP"
      },
      "execution_count": 2,
      "outputs": []
    },
    {
      "cell_type": "code",
      "source": [
        "# Verbinden mit der Google-Drive\n",
        "from google.colab import drive\n",
        "drive.mount('/content/drive')"
      ],
      "metadata": {
        "colab": {
          "base_uri": "https://localhost:8080/"
        },
        "id": "nTH4RANHg8qC",
        "outputId": "6a05330a-eeee-4cbe-eac8-dc150e83b35a"
      },
      "execution_count": 3,
      "outputs": [
        {
          "output_type": "stream",
          "name": "stdout",
          "text": [
            "Mounted at /content/drive\n"
          ]
        }
      ]
    },
    {
      "cell_type": "code",
      "source": [
        "# Pfad zum Ordner der Drive in dem die Messdaten gespeichert sind\n",
        "# Import:\n",
        "folder_import = f'/content/drive/My Drive/Colab_Notebooks/SOLYS_Messdaten'\n",
        "\n",
        "# Export:\n",
        "folder_export = f'/content/drive/My Drive/Colab_Notebooks/SOLYS_CSV'\n",
        "name_export = 'Solys_CSV'"
      ],
      "metadata": {
        "id": "PcVioCsdUJiE"
      },
      "execution_count": 4,
      "outputs": []
    },
    {
      "cell_type": "markdown",
      "source": [
        "## Daten einlesen:"
      ],
      "metadata": {
        "id": "9TMGY14XEajZ"
      }
    },
    {
      "cell_type": "code",
      "execution_count": 5,
      "metadata": {
        "id": "hnRLH004OjzA"
      },
      "outputs": [],
      "source": [
        "# Funktion zum Laden aller Dateien in einem Google Drive-Ordner\n",
        "def load_data_from_drive_folder(folder_path, header_lines=7, encoding = 'cp1252'):\n",
        "\n",
        "    # Liste, um alle DataFrames zu speichern\n",
        "    dfs = []\n",
        "\n",
        "    # Durchlaufen alle Dateien im angegebenen Ordner\n",
        "    for filename in os.listdir(folder_path):\n",
        "        file_path = os.path.join(folder_path, filename)\n",
        "\n",
        "        # Überprüfe, ob es eine Datei ist und lade sie\n",
        "        if os.path.isfile(file_path):\n",
        "            df = pd.read_csv(file_path, skiprows=header_lines, sep = '\\t', encoding=encoding)\n",
        "            dfs.append(df)\n",
        "\n",
        "    # Kombinieren aller DataFrames\n",
        "    combined_df = pd.concat(dfs, ignore_index=True)\n",
        "\n",
        "    return combined_df"
      ]
    },
    {
      "cell_type": "code",
      "source": [
        "# Aufruf der Funktion zum Einlesen der Messdaten\n",
        "df = load_data_from_drive_folder(folder_import)"
      ],
      "metadata": {
        "id": "GYBWYgqqT60k"
      },
      "execution_count": 6,
      "outputs": []
    },
    {
      "cell_type": "markdown",
      "source": [
        "## Löschen und umbenennen von Spalten:"
      ],
      "metadata": {
        "id": "kfhcpY6SZAZD"
      }
    },
    {
      "cell_type": "code",
      "source": [
        "# Löschen von nicht benötigten Splaten\n",
        "df_Solys = df.drop(columns = ['Unit', 'Unnamed: 10', ' °C', 'V', ' °C.1', 'Unnamed: 9'], axis=1)"
      ],
      "metadata": {
        "id": "-CtH1nwgZ31E"
      },
      "execution_count": 7,
      "outputs": []
    },
    {
      "cell_type": "code",
      "source": [
        "# Umbenennen der Splatennamen\n",
        "df_Solys.columns = ['Datetime', 'Glo', 'Dif', 'Glo_SPLite', 'Dir', 'Temp']"
      ],
      "metadata": {
        "id": "B96T1O5fZF60"
      },
      "execution_count": 8,
      "outputs": []
    },
    {
      "cell_type": "code",
      "source": [
        "# Löschen aller NaN Zeilen\n",
        "df_Solys = df_Solys.dropna()\n",
        "\n",
        "# Datetime-Spalte als Index setzen\n",
        "df_Solys.set_index('Datetime', inplace = True)\n",
        "\n",
        "# Index in Datetime umwandeln\n",
        "df_Solys.index = pd.to_datetime(df_Solys.index, format='%d.%m.%Y %H:%M:%S')"
      ],
      "metadata": {
        "id": "3PM8RydsbR9u"
      },
      "execution_count": 9,
      "outputs": []
    },
    {
      "cell_type": "code",
      "source": [
        "# Dateityp der Spalten und Anzahl der Nullwerte\n",
        "# print(df_Solys.info(), '\\n --------------------- \\n', df_Solys.isnull().sum(), df_Solys)"
      ],
      "metadata": {
        "id": "zmdtz-9CcuHQ"
      },
      "execution_count": 10,
      "outputs": []
    },
    {
      "cell_type": "markdown",
      "source": [
        "## Messungen in die richtige Reihenfolge bringen:"
      ],
      "metadata": {
        "id": "GZ3of4DUdsrz"
      }
    },
    {
      "cell_type": "code",
      "source": [
        "# Sotieren des Index in chronologischer Reihenfolge\n",
        "df_Solys.sort_index(ascending=True, inplace = True)"
      ],
      "metadata": {
        "id": "4iRf6Ae1fn7y"
      },
      "execution_count": 11,
      "outputs": []
    },
    {
      "cell_type": "code",
      "source": [
        "# Prüfen, ob die Messdaten in chronologischer Reihenfolge sind\n",
        "chronologisch = df_Solys.index.is_monotonic_increasing\n",
        "print(f\"Der Index ist in chronologischer Reihenfolge: {chronologisch}\")"
      ],
      "metadata": {
        "colab": {
          "base_uri": "https://localhost:8080/"
        },
        "id": "ukuyzDbPeKpg",
        "outputId": "8e2b6565-c21a-4009-fd98-2bde69559027"
      },
      "execution_count": 12,
      "outputs": [
        {
          "output_type": "stream",
          "name": "stdout",
          "text": [
            "Der Index ist in chronologischer Reihenfolge: True\n"
          ]
        }
      ]
    },
    {
      "cell_type": "markdown",
      "source": [
        "## Umformen der Trennzeichen:"
      ],
      "metadata": {
        "id": "U5e0PbBdGLWu"
      }
    },
    {
      "cell_type": "code",
      "source": [
        "for column in df_Solys[['Glo','Dif','Glo_SPLite','Dir','Temp']]:\n",
        "    try:\n",
        "        df_Solys[column] = df_Solys[column].str.replace(',', '.').astype(float)\n",
        "    except ValueError:\n",
        "        print(f\"Spalte {column} konnte nicht in float umgewandelt werden.\")"
      ],
      "metadata": {
        "id": "RJVFwoBABroV"
      },
      "execution_count": 13,
      "outputs": []
    },
    {
      "cell_type": "markdown",
      "source": [
        "## Prüfen, ob die Daten zusammen hängen:"
      ],
      "metadata": {
        "id": "aWPSe2ezdy6w"
      }
    },
    {
      "cell_type": "code",
      "source": [
        "# Allgemeine Informationen\n",
        "# round(df_Solys.describe(), 2).T"
      ],
      "metadata": {
        "id": "o2UAe_RLiLxg"
      },
      "execution_count": 14,
      "outputs": []
    },
    {
      "cell_type": "code",
      "source": [
        "def pruefe_zeitlichen_abstand(df, min_abstand):\n",
        "    ergebnisse = []\n",
        "\n",
        "    for datum, gruppe in df.groupby(df.index.date):\n",
        "        gruppe = gruppe.sort_index()\n",
        "        abstaende = gruppe.index.to_series().diff().dropna()\n",
        "\n",
        "        # Finden von Zeitstempeln, bei denen der Abstand zu klein ist\n",
        "        zu_kleine_abstaende = abstaende[abstaende < min_abstand].index\n",
        "\n",
        "        # Für jeden zu kleinen Abstand, speichern des Datums und der Uhrzeit mit der Bedingung False\n",
        "        for zeit in zu_kleine_abstaende:\n",
        "            ergebnisse.append({'Datum': datum, 'Uhrzeit': zeit.time(), 'Erfuellt': False})\n",
        "\n",
        "        # Für jeden richtigen Abstand, speichern des Datums und der Uhrzeit mit der Bedingung True\n",
        "        if zu_kleine_abstaende.empty:\n",
        "            ergebnisse.append({'Datum': datum, 'Uhrzeit': None, 'Erfuellt': True})\n",
        "\n",
        "    ergebnis_df = pd.DataFrame(ergebnisse)\n",
        "    ergebnis_df['Datum'] = pd.to_datetime(ergebnis_df['Datum'])\n",
        "\n",
        "    return ergebnis_df"
      ],
      "metadata": {
        "id": "inPPjrkVxMIs"
      },
      "execution_count": 15,
      "outputs": []
    },
    {
      "cell_type": "code",
      "source": [
        "# Aufruf der Funktion um zu prüfen, ob die Daten zusammenhängend sind\n",
        "ergebnis_df = pruefe_zeitlichen_abstand(df_Solys, pd.Timedelta('10S'))\n",
        "print(len(pd.unique(df_Solys.index.date)), len(ergebnis_df[ergebnis_df['Erfuellt']]))"
      ],
      "metadata": {
        "colab": {
          "base_uri": "https://localhost:8080/"
        },
        "id": "RDjEwZFPm_z_",
        "outputId": "1a0cd8d3-acb9-4a3d-9456-19216e5590df"
      },
      "execution_count": 16,
      "outputs": [
        {
          "output_type": "stream",
          "name": "stdout",
          "text": [
            "504 499\n"
          ]
        }
      ]
    },
    {
      "cell_type": "code",
      "source": [
        "# Tage an denen die Messdaten nicht zusammenhängen finden\n",
        "# print(ergebnis_df[~ergebnis_df['Erfuellt']])"
      ],
      "metadata": {
        "id": "4duWTZzJhMkg"
      },
      "execution_count": 17,
      "outputs": []
    },
    {
      "cell_type": "markdown",
      "source": [
        "***Tage mit fehlenden Daten:***\n",
        "    \n",
        "         Datum    \t    Erfuellt\n",
        "1.   96  2022-08-08     False\n",
        "2.   97  2022-08-09     False\n",
        "3.   98  2022-08-10     False\n",
        "4.   99  2022-08-11     False\n",
        "5.   100 2022-08-12     False"
      ],
      "metadata": {
        "id": "cAw8AePah1sp"
      }
    },
    {
      "cell_type": "markdown",
      "source": [
        "## Plotten der fehlenden Messdaten:"
      ],
      "metadata": {
        "id": "8QGojw_nQvf7"
      }
    },
    {
      "cell_type": "code",
      "source": [
        "df_plot = df_Solys"
      ],
      "metadata": {
        "id": "UfFYILk-UaLL"
      },
      "execution_count": 18,
      "outputs": []
    },
    {
      "cell_type": "code",
      "source": [
        "def plot_selected_days(df, date_column, value_columns, selected_dates):\n",
        "    # Stelle sicher, dass das Datum in den DataFrames korrekt formatiert ist\n",
        "    df_func = df\n",
        "\n",
        "    df_func[date_column] = pd.to_datetime(df_func[date_column])\n",
        "    selected_dates = pd.to_datetime(selected_dates)\n",
        "\n",
        "    # print(selected_dates.dtype, df_func[date_column].dtype)\n",
        "\n",
        "    # Gruppiere den DataFrame nach dem Datum\n",
        "    grouped = df_func.groupby(df_func.index.date)\n",
        "\n",
        "    # Erstelle für jeden ausgewählten Tag ein Plot\n",
        "    for date, group in grouped:\n",
        "        for selected_dates in date:\n",
        "            print(date)"
      ],
      "metadata": {
        "id": "3SjHdEu4XkA1"
      },
      "execution_count": 19,
      "outputs": []
    },
    {
      "cell_type": "code",
      "source": [
        "# plot_selected_days(df_plot, 'date', ['Glo', 'Dir'], ['2022-08-11', '2022-08-12'])\n",
        "# ergebnis_df['Datum'][~ergebnis_df['Erfuellt']]"
      ],
      "metadata": {
        "id": "C9Q2J5nlc3uJ"
      },
      "execution_count": 20,
      "outputs": []
    },
    {
      "cell_type": "markdown",
      "source": [
        "## Daten reduzieren:"
      ],
      "metadata": {
        "id": "kutajKg16vwl"
      }
    },
    {
      "cell_type": "markdown",
      "source": [
        "Daten reduzieren damit die Auflösung mit der des Spektrometers überein stimmt:"
      ],
      "metadata": {
        "id": "bS2Kl7EC67nJ"
      }
    },
    {
      "cell_type": "code",
      "source": [
        "# Durchschnittswerte für 2 Min. berechnen\n",
        "df_Solys_mean = df_Solys.resample('2T').mean()"
      ],
      "metadata": {
        "id": "7xTGn9cu66_3"
      },
      "execution_count": 21,
      "outputs": []
    },
    {
      "cell_type": "markdown",
      "source": [
        "## Abspeichern der Messdaten als CSV in der Google-Drive"
      ],
      "metadata": {
        "id": "pa1FosQZ7Wt_"
      }
    },
    {
      "cell_type": "code",
      "source": [
        "def save_dataframe_to_drive(dataframe, folder_path, filename):\n",
        "\n",
        "    # Erstelle den vollen Pfad zur Datei\n",
        "    full_path = os.path.join(folder_path, filename)\n",
        "\n",
        "    # Speichere den DataFrame als CSV-Datei auf Google Drive\n",
        "    dataframe.to_csv(full_path, index=True)"
      ],
      "metadata": {
        "id": "I161fgLS7b8a"
      },
      "execution_count": 22,
      "outputs": []
    },
    {
      "cell_type": "code",
      "source": [
        "save_dataframe_to_drive(df_Solys_mean, folder_export, name_export)"
      ],
      "metadata": {
        "id": "_wL23lwVtJ6M"
      },
      "execution_count": 23,
      "outputs": []
    },
    {
      "cell_type": "code",
      "source": [
        "df_Solys_mean"
      ],
      "metadata": {
        "colab": {
          "base_uri": "https://localhost:8080/",
          "height": 455
        },
        "id": "3LLgdjuYUC-u",
        "outputId": "f55e4f8a-69b9-4eb4-fe39-812a605cf4e0"
      },
      "execution_count": 24,
      "outputs": [
        {
          "output_type": "execute_result",
          "data": {
            "text/plain": [
              "                            Glo         Dif  Glo_SPLite       Dir       Temp\n",
              "Datetime                                                                    \n",
              "2022-04-25 08:06:00  245.833333  246.866667  259.233333  2.400000  10.766667\n",
              "2022-04-25 08:08:00  237.058333  237.666667  249.200000  2.350000  10.658333\n",
              "2022-04-25 08:10:00  206.466667  206.675000  217.633333  2.316667  10.058333\n",
              "2022-04-25 08:12:00  188.858333  189.400000  200.900000  2.316667  10.608333\n",
              "2022-04-25 08:14:00  186.991667  187.616667  199.800000  2.208333  10.391667\n",
              "...                         ...         ...         ...       ...        ...\n",
              "2023-11-09 08:10:00    9.975000   10.500000   11.266667  1.400000   8.683333\n",
              "2023-11-09 08:12:00   10.233333   10.741667   11.291667  1.400000   8.708333\n",
              "2023-11-09 08:14:00   10.775000   11.275000   11.691667  1.416667   8.716667\n",
              "2023-11-09 08:16:00   11.916667   12.441667   12.883333  1.416667   8.700000\n",
              "2023-11-09 08:18:00   14.000000   14.530000   15.100000  1.470000   8.810000\n",
              "\n",
              "[405367 rows x 5 columns]"
            ],
            "text/html": [
              "\n",
              "  <div id=\"df-f10311c4-0976-4da0-b7ad-ec0042d3b1f6\" class=\"colab-df-container\">\n",
              "    <div>\n",
              "<style scoped>\n",
              "    .dataframe tbody tr th:only-of-type {\n",
              "        vertical-align: middle;\n",
              "    }\n",
              "\n",
              "    .dataframe tbody tr th {\n",
              "        vertical-align: top;\n",
              "    }\n",
              "\n",
              "    .dataframe thead th {\n",
              "        text-align: right;\n",
              "    }\n",
              "</style>\n",
              "<table border=\"1\" class=\"dataframe\">\n",
              "  <thead>\n",
              "    <tr style=\"text-align: right;\">\n",
              "      <th></th>\n",
              "      <th>Glo</th>\n",
              "      <th>Dif</th>\n",
              "      <th>Glo_SPLite</th>\n",
              "      <th>Dir</th>\n",
              "      <th>Temp</th>\n",
              "    </tr>\n",
              "    <tr>\n",
              "      <th>Datetime</th>\n",
              "      <th></th>\n",
              "      <th></th>\n",
              "      <th></th>\n",
              "      <th></th>\n",
              "      <th></th>\n",
              "    </tr>\n",
              "  </thead>\n",
              "  <tbody>\n",
              "    <tr>\n",
              "      <th>2022-04-25 08:06:00</th>\n",
              "      <td>245.833333</td>\n",
              "      <td>246.866667</td>\n",
              "      <td>259.233333</td>\n",
              "      <td>2.400000</td>\n",
              "      <td>10.766667</td>\n",
              "    </tr>\n",
              "    <tr>\n",
              "      <th>2022-04-25 08:08:00</th>\n",
              "      <td>237.058333</td>\n",
              "      <td>237.666667</td>\n",
              "      <td>249.200000</td>\n",
              "      <td>2.350000</td>\n",
              "      <td>10.658333</td>\n",
              "    </tr>\n",
              "    <tr>\n",
              "      <th>2022-04-25 08:10:00</th>\n",
              "      <td>206.466667</td>\n",
              "      <td>206.675000</td>\n",
              "      <td>217.633333</td>\n",
              "      <td>2.316667</td>\n",
              "      <td>10.058333</td>\n",
              "    </tr>\n",
              "    <tr>\n",
              "      <th>2022-04-25 08:12:00</th>\n",
              "      <td>188.858333</td>\n",
              "      <td>189.400000</td>\n",
              "      <td>200.900000</td>\n",
              "      <td>2.316667</td>\n",
              "      <td>10.608333</td>\n",
              "    </tr>\n",
              "    <tr>\n",
              "      <th>2022-04-25 08:14:00</th>\n",
              "      <td>186.991667</td>\n",
              "      <td>187.616667</td>\n",
              "      <td>199.800000</td>\n",
              "      <td>2.208333</td>\n",
              "      <td>10.391667</td>\n",
              "    </tr>\n",
              "    <tr>\n",
              "      <th>...</th>\n",
              "      <td>...</td>\n",
              "      <td>...</td>\n",
              "      <td>...</td>\n",
              "      <td>...</td>\n",
              "      <td>...</td>\n",
              "    </tr>\n",
              "    <tr>\n",
              "      <th>2023-11-09 08:10:00</th>\n",
              "      <td>9.975000</td>\n",
              "      <td>10.500000</td>\n",
              "      <td>11.266667</td>\n",
              "      <td>1.400000</td>\n",
              "      <td>8.683333</td>\n",
              "    </tr>\n",
              "    <tr>\n",
              "      <th>2023-11-09 08:12:00</th>\n",
              "      <td>10.233333</td>\n",
              "      <td>10.741667</td>\n",
              "      <td>11.291667</td>\n",
              "      <td>1.400000</td>\n",
              "      <td>8.708333</td>\n",
              "    </tr>\n",
              "    <tr>\n",
              "      <th>2023-11-09 08:14:00</th>\n",
              "      <td>10.775000</td>\n",
              "      <td>11.275000</td>\n",
              "      <td>11.691667</td>\n",
              "      <td>1.416667</td>\n",
              "      <td>8.716667</td>\n",
              "    </tr>\n",
              "    <tr>\n",
              "      <th>2023-11-09 08:16:00</th>\n",
              "      <td>11.916667</td>\n",
              "      <td>12.441667</td>\n",
              "      <td>12.883333</td>\n",
              "      <td>1.416667</td>\n",
              "      <td>8.700000</td>\n",
              "    </tr>\n",
              "    <tr>\n",
              "      <th>2023-11-09 08:18:00</th>\n",
              "      <td>14.000000</td>\n",
              "      <td>14.530000</td>\n",
              "      <td>15.100000</td>\n",
              "      <td>1.470000</td>\n",
              "      <td>8.810000</td>\n",
              "    </tr>\n",
              "  </tbody>\n",
              "</table>\n",
              "<p>405367 rows × 5 columns</p>\n",
              "</div>\n",
              "    <div class=\"colab-df-buttons\">\n",
              "\n",
              "  <div class=\"colab-df-container\">\n",
              "    <button class=\"colab-df-convert\" onclick=\"convertToInteractive('df-f10311c4-0976-4da0-b7ad-ec0042d3b1f6')\"\n",
              "            title=\"Convert this dataframe to an interactive table.\"\n",
              "            style=\"display:none;\">\n",
              "\n",
              "  <svg xmlns=\"http://www.w3.org/2000/svg\" height=\"24px\" viewBox=\"0 -960 960 960\">\n",
              "    <path d=\"M120-120v-720h720v720H120Zm60-500h600v-160H180v160Zm220 220h160v-160H400v160Zm0 220h160v-160H400v160ZM180-400h160v-160H180v160Zm440 0h160v-160H620v160ZM180-180h160v-160H180v160Zm440 0h160v-160H620v160Z\"/>\n",
              "  </svg>\n",
              "    </button>\n",
              "\n",
              "  <style>\n",
              "    .colab-df-container {\n",
              "      display:flex;\n",
              "      gap: 12px;\n",
              "    }\n",
              "\n",
              "    .colab-df-convert {\n",
              "      background-color: #E8F0FE;\n",
              "      border: none;\n",
              "      border-radius: 50%;\n",
              "      cursor: pointer;\n",
              "      display: none;\n",
              "      fill: #1967D2;\n",
              "      height: 32px;\n",
              "      padding: 0 0 0 0;\n",
              "      width: 32px;\n",
              "    }\n",
              "\n",
              "    .colab-df-convert:hover {\n",
              "      background-color: #E2EBFA;\n",
              "      box-shadow: 0px 1px 2px rgba(60, 64, 67, 0.3), 0px 1px 3px 1px rgba(60, 64, 67, 0.15);\n",
              "      fill: #174EA6;\n",
              "    }\n",
              "\n",
              "    .colab-df-buttons div {\n",
              "      margin-bottom: 4px;\n",
              "    }\n",
              "\n",
              "    [theme=dark] .colab-df-convert {\n",
              "      background-color: #3B4455;\n",
              "      fill: #D2E3FC;\n",
              "    }\n",
              "\n",
              "    [theme=dark] .colab-df-convert:hover {\n",
              "      background-color: #434B5C;\n",
              "      box-shadow: 0px 1px 3px 1px rgba(0, 0, 0, 0.15);\n",
              "      filter: drop-shadow(0px 1px 2px rgba(0, 0, 0, 0.3));\n",
              "      fill: #FFFFFF;\n",
              "    }\n",
              "  </style>\n",
              "\n",
              "    <script>\n",
              "      const buttonEl =\n",
              "        document.querySelector('#df-f10311c4-0976-4da0-b7ad-ec0042d3b1f6 button.colab-df-convert');\n",
              "      buttonEl.style.display =\n",
              "        google.colab.kernel.accessAllowed ? 'block' : 'none';\n",
              "\n",
              "      async function convertToInteractive(key) {\n",
              "        const element = document.querySelector('#df-f10311c4-0976-4da0-b7ad-ec0042d3b1f6');\n",
              "        const dataTable =\n",
              "          await google.colab.kernel.invokeFunction('convertToInteractive',\n",
              "                                                    [key], {});\n",
              "        if (!dataTable) return;\n",
              "\n",
              "        const docLinkHtml = 'Like what you see? Visit the ' +\n",
              "          '<a target=\"_blank\" href=https://colab.research.google.com/notebooks/data_table.ipynb>data table notebook</a>'\n",
              "          + ' to learn more about interactive tables.';\n",
              "        element.innerHTML = '';\n",
              "        dataTable['output_type'] = 'display_data';\n",
              "        await google.colab.output.renderOutput(dataTable, element);\n",
              "        const docLink = document.createElement('div');\n",
              "        docLink.innerHTML = docLinkHtml;\n",
              "        element.appendChild(docLink);\n",
              "      }\n",
              "    </script>\n",
              "  </div>\n",
              "\n",
              "\n",
              "<div id=\"df-5e61ac06-d522-4fbd-9dd1-4462c216c1ef\">\n",
              "  <button class=\"colab-df-quickchart\" onclick=\"quickchart('df-5e61ac06-d522-4fbd-9dd1-4462c216c1ef')\"\n",
              "            title=\"Suggest charts\"\n",
              "            style=\"display:none;\">\n",
              "\n",
              "<svg xmlns=\"http://www.w3.org/2000/svg\" height=\"24px\"viewBox=\"0 0 24 24\"\n",
              "     width=\"24px\">\n",
              "    <g>\n",
              "        <path d=\"M19 3H5c-1.1 0-2 .9-2 2v14c0 1.1.9 2 2 2h14c1.1 0 2-.9 2-2V5c0-1.1-.9-2-2-2zM9 17H7v-7h2v7zm4 0h-2V7h2v10zm4 0h-2v-4h2v4z\"/>\n",
              "    </g>\n",
              "</svg>\n",
              "  </button>\n",
              "\n",
              "<style>\n",
              "  .colab-df-quickchart {\n",
              "      --bg-color: #E8F0FE;\n",
              "      --fill-color: #1967D2;\n",
              "      --hover-bg-color: #E2EBFA;\n",
              "      --hover-fill-color: #174EA6;\n",
              "      --disabled-fill-color: #AAA;\n",
              "      --disabled-bg-color: #DDD;\n",
              "  }\n",
              "\n",
              "  [theme=dark] .colab-df-quickchart {\n",
              "      --bg-color: #3B4455;\n",
              "      --fill-color: #D2E3FC;\n",
              "      --hover-bg-color: #434B5C;\n",
              "      --hover-fill-color: #FFFFFF;\n",
              "      --disabled-bg-color: #3B4455;\n",
              "      --disabled-fill-color: #666;\n",
              "  }\n",
              "\n",
              "  .colab-df-quickchart {\n",
              "    background-color: var(--bg-color);\n",
              "    border: none;\n",
              "    border-radius: 50%;\n",
              "    cursor: pointer;\n",
              "    display: none;\n",
              "    fill: var(--fill-color);\n",
              "    height: 32px;\n",
              "    padding: 0;\n",
              "    width: 32px;\n",
              "  }\n",
              "\n",
              "  .colab-df-quickchart:hover {\n",
              "    background-color: var(--hover-bg-color);\n",
              "    box-shadow: 0 1px 2px rgba(60, 64, 67, 0.3), 0 1px 3px 1px rgba(60, 64, 67, 0.15);\n",
              "    fill: var(--button-hover-fill-color);\n",
              "  }\n",
              "\n",
              "  .colab-df-quickchart-complete:disabled,\n",
              "  .colab-df-quickchart-complete:disabled:hover {\n",
              "    background-color: var(--disabled-bg-color);\n",
              "    fill: var(--disabled-fill-color);\n",
              "    box-shadow: none;\n",
              "  }\n",
              "\n",
              "  .colab-df-spinner {\n",
              "    border: 2px solid var(--fill-color);\n",
              "    border-color: transparent;\n",
              "    border-bottom-color: var(--fill-color);\n",
              "    animation:\n",
              "      spin 1s steps(1) infinite;\n",
              "  }\n",
              "\n",
              "  @keyframes spin {\n",
              "    0% {\n",
              "      border-color: transparent;\n",
              "      border-bottom-color: var(--fill-color);\n",
              "      border-left-color: var(--fill-color);\n",
              "    }\n",
              "    20% {\n",
              "      border-color: transparent;\n",
              "      border-left-color: var(--fill-color);\n",
              "      border-top-color: var(--fill-color);\n",
              "    }\n",
              "    30% {\n",
              "      border-color: transparent;\n",
              "      border-left-color: var(--fill-color);\n",
              "      border-top-color: var(--fill-color);\n",
              "      border-right-color: var(--fill-color);\n",
              "    }\n",
              "    40% {\n",
              "      border-color: transparent;\n",
              "      border-right-color: var(--fill-color);\n",
              "      border-top-color: var(--fill-color);\n",
              "    }\n",
              "    60% {\n",
              "      border-color: transparent;\n",
              "      border-right-color: var(--fill-color);\n",
              "    }\n",
              "    80% {\n",
              "      border-color: transparent;\n",
              "      border-right-color: var(--fill-color);\n",
              "      border-bottom-color: var(--fill-color);\n",
              "    }\n",
              "    90% {\n",
              "      border-color: transparent;\n",
              "      border-bottom-color: var(--fill-color);\n",
              "    }\n",
              "  }\n",
              "</style>\n",
              "\n",
              "  <script>\n",
              "    async function quickchart(key) {\n",
              "      const quickchartButtonEl =\n",
              "        document.querySelector('#' + key + ' button');\n",
              "      quickchartButtonEl.disabled = true;  // To prevent multiple clicks.\n",
              "      quickchartButtonEl.classList.add('colab-df-spinner');\n",
              "      try {\n",
              "        const charts = await google.colab.kernel.invokeFunction(\n",
              "            'suggestCharts', [key], {});\n",
              "      } catch (error) {\n",
              "        console.error('Error during call to suggestCharts:', error);\n",
              "      }\n",
              "      quickchartButtonEl.classList.remove('colab-df-spinner');\n",
              "      quickchartButtonEl.classList.add('colab-df-quickchart-complete');\n",
              "    }\n",
              "    (() => {\n",
              "      let quickchartButtonEl =\n",
              "        document.querySelector('#df-5e61ac06-d522-4fbd-9dd1-4462c216c1ef button');\n",
              "      quickchartButtonEl.style.display =\n",
              "        google.colab.kernel.accessAllowed ? 'block' : 'none';\n",
              "    })();\n",
              "  </script>\n",
              "</div>\n",
              "    </div>\n",
              "  </div>\n"
            ],
            "application/vnd.google.colaboratory.intrinsic+json": {
              "type": "dataframe",
              "variable_name": "df_Solys_mean"
            }
          },
          "metadata": {},
          "execution_count": 24
        }
      ]
    }
  ]
}