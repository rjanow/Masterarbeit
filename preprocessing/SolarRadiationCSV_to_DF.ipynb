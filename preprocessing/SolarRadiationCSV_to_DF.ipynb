{
  "nbformat": 4,
  "nbformat_minor": 0,
  "metadata": {
    "colab": {
      "provenance": [],
      "authorship_tag": "ABX9TyP8/pl4no2I+JWWkRCbNuXH",
      "include_colab_link": true
    },
    "kernelspec": {
      "name": "python3",
      "display_name": "Python 3"
    },
    "language_info": {
      "name": "python"
    }
  },
  "cells": [
    {
      "cell_type": "markdown",
      "metadata": {
        "id": "view-in-github",
        "colab_type": "text"
      },
      "source": [
        "<a href=\"https://colab.research.google.com/github/rjanow/Masterarbeit/blob/main/preprocessing/SolarRadiationCSV_to_DF.ipynb\" target=\"_parent\"><img src=\"https://colab.research.google.com/assets/colab-badge.svg\" alt=\"Open In Colab\"/></a>"
      ]
    },
    {
      "cell_type": "markdown",
      "source": [
        "# Hier werden die Solarstrahlungsdaten aus der Vorhersage von CAMS in einen Dataframe gespeichert:"
      ],
      "metadata": {
        "id": "DzRPyVb0gxST"
      }
    },
    {
      "cell_type": "markdown",
      "source": [
        "**Dateiname: SolarRadiationCSV_to_DF**\n",
        "\n",
        "Die Daten können als CSV-Datei über https://www.soda-pro.com/ heruntergeladen werden."
      ],
      "metadata": {
        "id": "52o1bLVZyKJV"
      }
    },
    {
      "cell_type": "markdown",
      "source": [
        "## Import der benötigten Module und allgemeines Setup:"
      ],
      "metadata": {
        "id": "1KY10z4xxS00"
      }
    },
    {
      "cell_type": "code",
      "source": [
        "# Import der erfordelichen Module\n",
        "import os\n",
        "import numpy as np\n",
        "import pandas as pd"
      ],
      "metadata": {
        "id": "YpCtlPsBWav8"
      },
      "execution_count": null,
      "outputs": []
    },
    {
      "cell_type": "code",
      "execution_count": null,
      "metadata": {
        "colab": {
          "base_uri": "https://localhost:8080/"
        },
        "id": "E7hxY7bdV5bF",
        "outputId": "269e4021-c843-4357-9c2b-8afeb89943f8"
      },
      "outputs": [
        {
          "output_type": "stream",
          "name": "stdout",
          "text": [
            "Drive already mounted at /content/drive; to attempt to forcibly remount, call drive.mount(\"/content/drive\", force_remount=True).\n"
          ]
        }
      ],
      "source": [
        "# Verbinden mit der Google-Drive\n",
        "from google.colab import drive\n",
        "drive.mount('/content/drive')"
      ]
    },
    {
      "cell_type": "code",
      "source": [
        "# Pfad zur CSV-Datei auf Google Drive\n",
        "import_folder = '/content/drive/My Drive/Colab_Notebooks/CSV_SolarRadiation/'\n",
        "export_folder = '/content/drive/My Drive/Colab_Notebooks/CSV_SolarRadiation/'\n",
        "\n",
        "import_file_name = 'CAMS_solar_radiation.csv'\n",
        "export_file_name = 'solar_radiation_forecast.csv'"
      ],
      "metadata": {
        "id": "f0Qcs9aSWS7i"
      },
      "execution_count": null,
      "outputs": []
    },
    {
      "cell_type": "markdown",
      "source": [
        "## Import der Vorhersagewerte:"
      ],
      "metadata": {
        "id": "rLWuJyFPyGWz"
      }
    },
    {
      "cell_type": "code",
      "source": [
        "df_import = pd.read_csv(import_folder + import_file_name , sep = ';')\n",
        "# Anpassen des Zeitstempels\n",
        "df_import['Observation_period'] = pd.to_datetime(df_import['Observation_period'].str.slice(0, 19).str.replace('T', ' '))"
      ],
      "metadata": {
        "id": "l8u7hcREebLe"
      },
      "execution_count": null,
      "outputs": []
    },
    {
      "cell_type": "markdown",
      "source": [
        "## Aggregieren der Vorhersagewerte:\n",
        "\n",
        "Die Daten liegen mit einer minütlichen Auflösung vor und werden im Folgenden zu 2 minütlichen Werten aggregiert."
      ],
      "metadata": {
        "id": "CLSXZXGx3KQE"
      }
    },
    {
      "cell_type": "code",
      "source": [
        "def zeilen_aggregieren(df):\n",
        "    # Spalte erstellen, die zwei Zeilen eine Gruppe zuordnet\n",
        "    df['group'] = (df.index // 2)\n",
        "\n",
        "    # Gruppieren des Dataframes und anwenden der Aggregationsfunktion\n",
        "    aggregationsfunktionen = {'Observation_period': 'first',  # Die erste Spalte bleibt unverändert\n",
        "                             'Clear_sky_GHI': 'sum',          # Summe aller anderen Spalten\n",
        "                             'Clear_sky_BHI': 'sum',\n",
        "                             'GHI': 'sum',\n",
        "                             'BHI': 'sum',\n",
        "                             }\n",
        "\n",
        "    zusammengefasstes_df = df.groupby('group').agg(aggregationsfunktionen).reset_index(drop=True)\n",
        "    # Verschieben des Zeitstempels um eine Minute\n",
        "    zusammengefasstes_df['Observation_period'] = zusammengefasstes_df['Observation_period'] + pd.to_timedelta(1, unit='m')\n",
        "\n",
        "    return zusammengefasstes_df"
      ],
      "metadata": {
        "id": "0jdo1hsgkJ72"
      },
      "execution_count": null,
      "outputs": []
    },
    {
      "cell_type": "code",
      "source": [
        "df_2min = zeilen_aggregieren(df_import)"
      ],
      "metadata": {
        "id": "WPpjs1kRjm5k",
        "colab": {
          "base_uri": "https://localhost:8080/"
        },
        "outputId": "5828b6e2-1ad5-4e6f-f59a-509d600caa66"
      },
      "execution_count": null,
      "outputs": [
        {
          "output_type": "stream",
          "name": "stdout",
          "text": [
            "0              0\n",
            "1              0\n",
            "2              1\n",
            "3              1\n",
            "4              2\n",
            "           ...  \n",
            "658075    329037\n",
            "658076    329038\n",
            "658077    329038\n",
            "658078    329039\n",
            "658079    329039\n",
            "Name: group, Length: 658080, dtype: int64\n"
          ]
        }
      ]
    },
    {
      "cell_type": "markdown",
      "source": [
        "## Abspeichern der Globalstrahlungs-Vorhersagewerte in einen Dataframe:"
      ],
      "metadata": {
        "id": "yZGFVaMEB28A"
      }
    },
    {
      "cell_type": "code",
      "source": [
        "def save_dataframe_to_drive(dataframe, folder_path, filename):\n",
        "\n",
        "    # Erstelle den vollen Pfad zur Datei\n",
        "    full_path = os.path.join(folder_path, filename)\n",
        "\n",
        "    # Speichere den DataFrame als CSV-Datei auf Google Drive\n",
        "    dataframe.to_csv(full_path, index=False)\n",
        "\n",
        "    print(f'Der DataFrame wurde als {filename} in {folder_path} auf Google Drive gespeichert.')"
      ],
      "metadata": {
        "id": "7OaOIHoVmRCz"
      },
      "execution_count": null,
      "outputs": []
    },
    {
      "cell_type": "code",
      "source": [
        "save_dataframe_to_drive(df_2min, export_folder, export_file_name)"
      ],
      "metadata": {
        "id": "LfK5jPGY77Y7"
      },
      "execution_count": null,
      "outputs": []
    }
  ]
}