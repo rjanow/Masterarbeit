{
  "nbformat": 4,
  "nbformat_minor": 0,
  "metadata": {
    "colab": {
      "provenance": [],
      "authorship_tag": "ABX9TyN9LmWvPbJ4W5WryrVEVov5",
      "include_colab_link": true
    },
    "kernelspec": {
      "name": "python3",
      "display_name": "Python 3"
    },
    "language_info": {
      "name": "python"
    }
  },
  "cells": [
    {
      "cell_type": "markdown",
      "metadata": {
        "id": "view-in-github",
        "colab_type": "text"
      },
      "source": [
        "<a href=\"https://colab.research.google.com/github/rjanow/Masterarbeit/blob/main/2.1_Modeling_and_Prediction.ipynb\" target=\"_parent\"><img src=\"https://colab.research.google.com/assets/colab-badge.svg\" alt=\"Open In Colab\"/></a>"
      ]
    },
    {
      "cell_type": "markdown",
      "source": [
        "# Modeling and Predictions\n",
        "[Notebook 1: EDA and Data Cleaning](./1_EDA_and_DataCleaning.ipynb)\n",
        "\n",
        "[Notebook 2: Modeling and Predictions](./2_Modeling_and_Predictions.ipynb)\n",
        "\n",
        "Notebook 3: Discussion and Technical Report\n",
        "\n",
        "... Was geschieht in diesem Dokument? ...\n",
        "\n",
        "1. Features\n",
        "2. Resampling\n",
        "3. Modeling\n",
        "4. Scaling\n",
        "5. Lagged features\n",
        "6. Train test split, fit models, evaluate"
      ],
      "metadata": {
        "id": "980eB95e3ZFF"
      }
    },
    {
      "cell_type": "markdown",
      "source": [
        "## Verbinden mit der Google-Drive und Import der benötigten Module:"
      ],
      "metadata": {
        "id": "MpPQKeH5opsK"
      }
    },
    {
      "cell_type": "code",
      "source": [
        "# Verbinden mit der Google-Drive\n",
        "from google.colab import drive\n",
        "drive.mount('/content/drive')"
      ],
      "metadata": {
        "id": "jLXkSI6nopV8",
        "outputId": "4c1c702f-12ae-47cf-ebef-6e6076c23cda",
        "colab": {
          "base_uri": "https://localhost:8080/"
        }
      },
      "execution_count": null,
      "outputs": [
        {
          "output_type": "stream",
          "name": "stdout",
          "text": [
            "Mounted at /content/drive\n"
          ]
        }
      ]
    },
    {
      "cell_type": "code",
      "source": [
        "## import modules\n",
        "import os\n",
        "import pandas as pd\n",
        "import tensorflow as tf\n",
        "import numpy as np\n",
        "\n",
        "from tensorflow import keras\n",
        "from keras.utils import to_categorical, normalize\n",
        "from keras.layers import Input, Dense, LSTM\n",
        "from keras.models import Model\n",
        "from sklearn.model_selection import train_test_split\n",
        "from sklearn.metrics import accuracy_score\n",
        "from sklearn.metrics import mean_squared_error, mean_absolute_error"
      ],
      "metadata": {
        "id": "n8kTUCRv4Mrx"
      },
      "execution_count": null,
      "outputs": []
    },
    {
      "cell_type": "code",
      "source": [
        "## Pfad an dem die Daten liegen\n",
        "drive_path = '/content/drive/My Drive/Colab_Notebooks/Clean_Data/'\n",
        "model_path = '/content/drive/My Drive/Colab_Notebooks/Modelle/'\n",
        "\n",
        "name_Messwerte = 'UVI_Messdaten.csv'\n",
        "name_Vorhersage = 'Vorhersage.csv'\n",
        "name_Solar_Messwerte = 'Solys_Messdaten.csv'"
      ],
      "metadata": {
        "id": "iSU_JbtVodSZ"
      },
      "execution_count": null,
      "outputs": []
    },
    {
      "cell_type": "code",
      "source": [
        "# check tensorflow version\n",
        "print(\"tensorflow version:\", tf.__version__)\n",
        "# check available gpu\n",
        "gpus =  tf.config.list_physical_devices('GPU')\n",
        "print(\"available gpus:\", gpus)\n",
        "# limit the gpu usage, prevent it from allocating all gpu memory for a simple model\n",
        "for gpu in gpus:\n",
        "    tf.config.experimental.set_memory_growth(gpu, True)\n",
        "# check number of cpus available\n",
        "print(\"available cpus:\", os.cpu_count())"
      ],
      "metadata": {
        "id": "UL4UTjkSxnkp",
        "outputId": "2494c761-42a8-4181-c541-99e1694761b6",
        "colab": {
          "base_uri": "https://localhost:8080/"
        }
      },
      "execution_count": null,
      "outputs": [
        {
          "output_type": "stream",
          "name": "stdout",
          "text": [
            "tensorflow version: 2.15.0\n",
            "available gpus: []\n",
            "available cpus: 2\n"
          ]
        }
      ]
    },
    {
      "cell_type": "code",
      "source": [
        "# change model name for different models\n",
        "\n",
        "# model_name = 'SUNSET_forecast_2017_2019_data'\n",
        "# output_folder = os.path.join(pardir,\"model_output\", model_name)\n",
        "# if os.path.isdir(output_folder)==False:\n",
        "#     os.makedirs(output_folder)"
      ],
      "metadata": {
        "id": "uWtcF7i9yGs4"
      },
      "execution_count": null,
      "outputs": []
    },
    {
      "cell_type": "markdown",
      "source": [
        "## Import der Daten:"
      ],
      "metadata": {
        "id": "vcZ-mWj9-151"
      }
    },
    {
      "cell_type": "code",
      "source": [
        "# Import der Daten für die Modellbildung\n",
        "df_UVI = pd.read_csv(drive_path + name_Messwerte)\n",
        "df_Solys = pd.read_csv(drive_path + name_Solar_Messwerte)\n",
        "df_CAMS = pd.read_csv(drive_path + name_Vorhersage)\n",
        "\n",
        "# Messzeitpunkt in Datetime umwandeln\n",
        "df_UVI.set_index('Datetime', inplace=True)\n",
        "df_Solys.set_index('Datetime', inplace=True)\n",
        "df_CAMS.set_index('Datetime', inplace=True)\n",
        "\n",
        "# Index in Datetime umwandeln\n",
        "df_UVI.index = pd.to_datetime(df_UVI.index)\n",
        "df_Solys.index = pd.to_datetime(df_Solys.index)\n",
        "df_CAMS.index = pd.to_datetime(df_CAMS.index)"
      ],
      "metadata": {
        "id": "UgqLv3jxpAn0"
      },
      "execution_count": null,
      "outputs": []
    },
    {
      "cell_type": "markdown",
      "source": [
        "## Allgemeine Informationen:"
      ],
      "metadata": {
        "id": "-vsl0PorpBTi"
      }
    },
    {
      "cell_type": "code",
      "source": [
        "# Allgemeine Informationen über die Messdaten\n",
        "round(df_UVI.describe(), 2).T"
      ],
      "metadata": {
        "id": "d3VSx3IzqRnJ",
        "outputId": "e0d38794-f42b-418f-f6d4-b99a49130334",
        "colab": {
          "base_uri": "https://localhost:8080/",
          "height": 394
        }
      },
      "execution_count": null,
      "outputs": [
        {
          "output_type": "execute_result",
          "data": {
            "text/plain": [
              "                  count      mean       std       min       25%       50%  \\\n",
              "Unnamed: 0     120028.0  60013.50  34649.24      0.00  30006.75  60013.50   \n",
              "Messzeitpunkt  120028.0  40465.35  13493.43  12360.00  29460.00  40500.00   \n",
              "erythem        120026.0      0.03      0.04      0.00      0.00      0.02   \n",
              "UVI            120026.0      1.33      1.65      0.00      0.15      0.61   \n",
              "DiffGreater2   120028.0      0.01      0.10      0.00      0.00      0.00   \n",
              "SZA            120028.0     64.29     17.05     27.36     51.10     67.07   \n",
              "time_sin       120028.0      0.12      0.70     -1.00     -0.57      0.20   \n",
              "time_cos       120028.0     -0.58      0.40     -1.00     -0.92     -0.70   \n",
              "date_sin       120028.0     -0.07      0.70     -1.00     -0.70     -0.25   \n",
              "date_cos       120028.0     -0.18      0.69     -1.00     -0.81     -0.33   \n",
              "Hour           120028.0     10.75      3.76      3.00      8.00     11.00   \n",
              "\n",
              "                    75%        max  \n",
              "Unnamed: 0     90020.25  120027.00  \n",
              "Messzeitpunkt  51480.00   68220.00  \n",
              "erythem            0.05       0.21  \n",
              "UVI                1.90       8.54  \n",
              "DiffGreater2       0.00       1.00  \n",
              "SZA               77.85      97.87  \n",
              "time_sin           0.83       1.00  \n",
              "time_cos          -0.32       0.62  \n",
              "date_sin           0.70       1.00  \n",
              "date_cos           0.48       1.00  \n",
              "Hour              14.00      18.00  "
            ],
            "text/html": [
              "\n",
              "  <div id=\"df-ae3f8621-3b40-4d55-b26c-dd8e1920c729\" class=\"colab-df-container\">\n",
              "    <div>\n",
              "<style scoped>\n",
              "    .dataframe tbody tr th:only-of-type {\n",
              "        vertical-align: middle;\n",
              "    }\n",
              "\n",
              "    .dataframe tbody tr th {\n",
              "        vertical-align: top;\n",
              "    }\n",
              "\n",
              "    .dataframe thead th {\n",
              "        text-align: right;\n",
              "    }\n",
              "</style>\n",
              "<table border=\"1\" class=\"dataframe\">\n",
              "  <thead>\n",
              "    <tr style=\"text-align: right;\">\n",
              "      <th></th>\n",
              "      <th>count</th>\n",
              "      <th>mean</th>\n",
              "      <th>std</th>\n",
              "      <th>min</th>\n",
              "      <th>25%</th>\n",
              "      <th>50%</th>\n",
              "      <th>75%</th>\n",
              "      <th>max</th>\n",
              "    </tr>\n",
              "  </thead>\n",
              "  <tbody>\n",
              "    <tr>\n",
              "      <th>Unnamed: 0</th>\n",
              "      <td>120028.0</td>\n",
              "      <td>60013.50</td>\n",
              "      <td>34649.24</td>\n",
              "      <td>0.00</td>\n",
              "      <td>30006.75</td>\n",
              "      <td>60013.50</td>\n",
              "      <td>90020.25</td>\n",
              "      <td>120027.00</td>\n",
              "    </tr>\n",
              "    <tr>\n",
              "      <th>Messzeitpunkt</th>\n",
              "      <td>120028.0</td>\n",
              "      <td>40465.35</td>\n",
              "      <td>13493.43</td>\n",
              "      <td>12360.00</td>\n",
              "      <td>29460.00</td>\n",
              "      <td>40500.00</td>\n",
              "      <td>51480.00</td>\n",
              "      <td>68220.00</td>\n",
              "    </tr>\n",
              "    <tr>\n",
              "      <th>erythem</th>\n",
              "      <td>120026.0</td>\n",
              "      <td>0.03</td>\n",
              "      <td>0.04</td>\n",
              "      <td>0.00</td>\n",
              "      <td>0.00</td>\n",
              "      <td>0.02</td>\n",
              "      <td>0.05</td>\n",
              "      <td>0.21</td>\n",
              "    </tr>\n",
              "    <tr>\n",
              "      <th>UVI</th>\n",
              "      <td>120026.0</td>\n",
              "      <td>1.33</td>\n",
              "      <td>1.65</td>\n",
              "      <td>0.00</td>\n",
              "      <td>0.15</td>\n",
              "      <td>0.61</td>\n",
              "      <td>1.90</td>\n",
              "      <td>8.54</td>\n",
              "    </tr>\n",
              "    <tr>\n",
              "      <th>DiffGreater2</th>\n",
              "      <td>120028.0</td>\n",
              "      <td>0.01</td>\n",
              "      <td>0.10</td>\n",
              "      <td>0.00</td>\n",
              "      <td>0.00</td>\n",
              "      <td>0.00</td>\n",
              "      <td>0.00</td>\n",
              "      <td>1.00</td>\n",
              "    </tr>\n",
              "    <tr>\n",
              "      <th>SZA</th>\n",
              "      <td>120028.0</td>\n",
              "      <td>64.29</td>\n",
              "      <td>17.05</td>\n",
              "      <td>27.36</td>\n",
              "      <td>51.10</td>\n",
              "      <td>67.07</td>\n",
              "      <td>77.85</td>\n",
              "      <td>97.87</td>\n",
              "    </tr>\n",
              "    <tr>\n",
              "      <th>time_sin</th>\n",
              "      <td>120028.0</td>\n",
              "      <td>0.12</td>\n",
              "      <td>0.70</td>\n",
              "      <td>-1.00</td>\n",
              "      <td>-0.57</td>\n",
              "      <td>0.20</td>\n",
              "      <td>0.83</td>\n",
              "      <td>1.00</td>\n",
              "    </tr>\n",
              "    <tr>\n",
              "      <th>time_cos</th>\n",
              "      <td>120028.0</td>\n",
              "      <td>-0.58</td>\n",
              "      <td>0.40</td>\n",
              "      <td>-1.00</td>\n",
              "      <td>-0.92</td>\n",
              "      <td>-0.70</td>\n",
              "      <td>-0.32</td>\n",
              "      <td>0.62</td>\n",
              "    </tr>\n",
              "    <tr>\n",
              "      <th>date_sin</th>\n",
              "      <td>120028.0</td>\n",
              "      <td>-0.07</td>\n",
              "      <td>0.70</td>\n",
              "      <td>-1.00</td>\n",
              "      <td>-0.70</td>\n",
              "      <td>-0.25</td>\n",
              "      <td>0.70</td>\n",
              "      <td>1.00</td>\n",
              "    </tr>\n",
              "    <tr>\n",
              "      <th>date_cos</th>\n",
              "      <td>120028.0</td>\n",
              "      <td>-0.18</td>\n",
              "      <td>0.69</td>\n",
              "      <td>-1.00</td>\n",
              "      <td>-0.81</td>\n",
              "      <td>-0.33</td>\n",
              "      <td>0.48</td>\n",
              "      <td>1.00</td>\n",
              "    </tr>\n",
              "    <tr>\n",
              "      <th>Hour</th>\n",
              "      <td>120028.0</td>\n",
              "      <td>10.75</td>\n",
              "      <td>3.76</td>\n",
              "      <td>3.00</td>\n",
              "      <td>8.00</td>\n",
              "      <td>11.00</td>\n",
              "      <td>14.00</td>\n",
              "      <td>18.00</td>\n",
              "    </tr>\n",
              "  </tbody>\n",
              "</table>\n",
              "</div>\n",
              "    <div class=\"colab-df-buttons\">\n",
              "\n",
              "  <div class=\"colab-df-container\">\n",
              "    <button class=\"colab-df-convert\" onclick=\"convertToInteractive('df-ae3f8621-3b40-4d55-b26c-dd8e1920c729')\"\n",
              "            title=\"Convert this dataframe to an interactive table.\"\n",
              "            style=\"display:none;\">\n",
              "\n",
              "  <svg xmlns=\"http://www.w3.org/2000/svg\" height=\"24px\" viewBox=\"0 -960 960 960\">\n",
              "    <path d=\"M120-120v-720h720v720H120Zm60-500h600v-160H180v160Zm220 220h160v-160H400v160Zm0 220h160v-160H400v160ZM180-400h160v-160H180v160Zm440 0h160v-160H620v160ZM180-180h160v-160H180v160Zm440 0h160v-160H620v160Z\"/>\n",
              "  </svg>\n",
              "    </button>\n",
              "\n",
              "  <style>\n",
              "    .colab-df-container {\n",
              "      display:flex;\n",
              "      gap: 12px;\n",
              "    }\n",
              "\n",
              "    .colab-df-convert {\n",
              "      background-color: #E8F0FE;\n",
              "      border: none;\n",
              "      border-radius: 50%;\n",
              "      cursor: pointer;\n",
              "      display: none;\n",
              "      fill: #1967D2;\n",
              "      height: 32px;\n",
              "      padding: 0 0 0 0;\n",
              "      width: 32px;\n",
              "    }\n",
              "\n",
              "    .colab-df-convert:hover {\n",
              "      background-color: #E2EBFA;\n",
              "      box-shadow: 0px 1px 2px rgba(60, 64, 67, 0.3), 0px 1px 3px 1px rgba(60, 64, 67, 0.15);\n",
              "      fill: #174EA6;\n",
              "    }\n",
              "\n",
              "    .colab-df-buttons div {\n",
              "      margin-bottom: 4px;\n",
              "    }\n",
              "\n",
              "    [theme=dark] .colab-df-convert {\n",
              "      background-color: #3B4455;\n",
              "      fill: #D2E3FC;\n",
              "    }\n",
              "\n",
              "    [theme=dark] .colab-df-convert:hover {\n",
              "      background-color: #434B5C;\n",
              "      box-shadow: 0px 1px 3px 1px rgba(0, 0, 0, 0.15);\n",
              "      filter: drop-shadow(0px 1px 2px rgba(0, 0, 0, 0.3));\n",
              "      fill: #FFFFFF;\n",
              "    }\n",
              "  </style>\n",
              "\n",
              "    <script>\n",
              "      const buttonEl =\n",
              "        document.querySelector('#df-ae3f8621-3b40-4d55-b26c-dd8e1920c729 button.colab-df-convert');\n",
              "      buttonEl.style.display =\n",
              "        google.colab.kernel.accessAllowed ? 'block' : 'none';\n",
              "\n",
              "      async function convertToInteractive(key) {\n",
              "        const element = document.querySelector('#df-ae3f8621-3b40-4d55-b26c-dd8e1920c729');\n",
              "        const dataTable =\n",
              "          await google.colab.kernel.invokeFunction('convertToInteractive',\n",
              "                                                    [key], {});\n",
              "        if (!dataTable) return;\n",
              "\n",
              "        const docLinkHtml = 'Like what you see? Visit the ' +\n",
              "          '<a target=\"_blank\" href=https://colab.research.google.com/notebooks/data_table.ipynb>data table notebook</a>'\n",
              "          + ' to learn more about interactive tables.';\n",
              "        element.innerHTML = '';\n",
              "        dataTable['output_type'] = 'display_data';\n",
              "        await google.colab.output.renderOutput(dataTable, element);\n",
              "        const docLink = document.createElement('div');\n",
              "        docLink.innerHTML = docLinkHtml;\n",
              "        element.appendChild(docLink);\n",
              "      }\n",
              "    </script>\n",
              "  </div>\n",
              "\n",
              "\n",
              "<div id=\"df-59ee5ec6-3915-48e4-86b7-a7ca48a66b96\">\n",
              "  <button class=\"colab-df-quickchart\" onclick=\"quickchart('df-59ee5ec6-3915-48e4-86b7-a7ca48a66b96')\"\n",
              "            title=\"Suggest charts\"\n",
              "            style=\"display:none;\">\n",
              "\n",
              "<svg xmlns=\"http://www.w3.org/2000/svg\" height=\"24px\"viewBox=\"0 0 24 24\"\n",
              "     width=\"24px\">\n",
              "    <g>\n",
              "        <path d=\"M19 3H5c-1.1 0-2 .9-2 2v14c0 1.1.9 2 2 2h14c1.1 0 2-.9 2-2V5c0-1.1-.9-2-2-2zM9 17H7v-7h2v7zm4 0h-2V7h2v10zm4 0h-2v-4h2v4z\"/>\n",
              "    </g>\n",
              "</svg>\n",
              "  </button>\n",
              "\n",
              "<style>\n",
              "  .colab-df-quickchart {\n",
              "      --bg-color: #E8F0FE;\n",
              "      --fill-color: #1967D2;\n",
              "      --hover-bg-color: #E2EBFA;\n",
              "      --hover-fill-color: #174EA6;\n",
              "      --disabled-fill-color: #AAA;\n",
              "      --disabled-bg-color: #DDD;\n",
              "  }\n",
              "\n",
              "  [theme=dark] .colab-df-quickchart {\n",
              "      --bg-color: #3B4455;\n",
              "      --fill-color: #D2E3FC;\n",
              "      --hover-bg-color: #434B5C;\n",
              "      --hover-fill-color: #FFFFFF;\n",
              "      --disabled-bg-color: #3B4455;\n",
              "      --disabled-fill-color: #666;\n",
              "  }\n",
              "\n",
              "  .colab-df-quickchart {\n",
              "    background-color: var(--bg-color);\n",
              "    border: none;\n",
              "    border-radius: 50%;\n",
              "    cursor: pointer;\n",
              "    display: none;\n",
              "    fill: var(--fill-color);\n",
              "    height: 32px;\n",
              "    padding: 0;\n",
              "    width: 32px;\n",
              "  }\n",
              "\n",
              "  .colab-df-quickchart:hover {\n",
              "    background-color: var(--hover-bg-color);\n",
              "    box-shadow: 0 1px 2px rgba(60, 64, 67, 0.3), 0 1px 3px 1px rgba(60, 64, 67, 0.15);\n",
              "    fill: var(--button-hover-fill-color);\n",
              "  }\n",
              "\n",
              "  .colab-df-quickchart-complete:disabled,\n",
              "  .colab-df-quickchart-complete:disabled:hover {\n",
              "    background-color: var(--disabled-bg-color);\n",
              "    fill: var(--disabled-fill-color);\n",
              "    box-shadow: none;\n",
              "  }\n",
              "\n",
              "  .colab-df-spinner {\n",
              "    border: 2px solid var(--fill-color);\n",
              "    border-color: transparent;\n",
              "    border-bottom-color: var(--fill-color);\n",
              "    animation:\n",
              "      spin 1s steps(1) infinite;\n",
              "  }\n",
              "\n",
              "  @keyframes spin {\n",
              "    0% {\n",
              "      border-color: transparent;\n",
              "      border-bottom-color: var(--fill-color);\n",
              "      border-left-color: var(--fill-color);\n",
              "    }\n",
              "    20% {\n",
              "      border-color: transparent;\n",
              "      border-left-color: var(--fill-color);\n",
              "      border-top-color: var(--fill-color);\n",
              "    }\n",
              "    30% {\n",
              "      border-color: transparent;\n",
              "      border-left-color: var(--fill-color);\n",
              "      border-top-color: var(--fill-color);\n",
              "      border-right-color: var(--fill-color);\n",
              "    }\n",
              "    40% {\n",
              "      border-color: transparent;\n",
              "      border-right-color: var(--fill-color);\n",
              "      border-top-color: var(--fill-color);\n",
              "    }\n",
              "    60% {\n",
              "      border-color: transparent;\n",
              "      border-right-color: var(--fill-color);\n",
              "    }\n",
              "    80% {\n",
              "      border-color: transparent;\n",
              "      border-right-color: var(--fill-color);\n",
              "      border-bottom-color: var(--fill-color);\n",
              "    }\n",
              "    90% {\n",
              "      border-color: transparent;\n",
              "      border-bottom-color: var(--fill-color);\n",
              "    }\n",
              "  }\n",
              "</style>\n",
              "\n",
              "  <script>\n",
              "    async function quickchart(key) {\n",
              "      const quickchartButtonEl =\n",
              "        document.querySelector('#' + key + ' button');\n",
              "      quickchartButtonEl.disabled = true;  // To prevent multiple clicks.\n",
              "      quickchartButtonEl.classList.add('colab-df-spinner');\n",
              "      try {\n",
              "        const charts = await google.colab.kernel.invokeFunction(\n",
              "            'suggestCharts', [key], {});\n",
              "      } catch (error) {\n",
              "        console.error('Error during call to suggestCharts:', error);\n",
              "      }\n",
              "      quickchartButtonEl.classList.remove('colab-df-spinner');\n",
              "      quickchartButtonEl.classList.add('colab-df-quickchart-complete');\n",
              "    }\n",
              "    (() => {\n",
              "      let quickchartButtonEl =\n",
              "        document.querySelector('#df-59ee5ec6-3915-48e4-86b7-a7ca48a66b96 button');\n",
              "      quickchartButtonEl.style.display =\n",
              "        google.colab.kernel.accessAllowed ? 'block' : 'none';\n",
              "    })();\n",
              "  </script>\n",
              "</div>\n",
              "    </div>\n",
              "  </div>\n"
            ]
          },
          "metadata": {},
          "execution_count": 7
        }
      ]
    },
    {
      "cell_type": "code",
      "source": [
        "# Allgemeine Informationen über die Messdaten\n",
        "round(df_Solys.describe(), 2).T"
      ],
      "metadata": {
        "id": "OcSV9NxLsm_i",
        "outputId": "5ff2139a-95d9-42e0-b4c6-bcdb15220167",
        "colab": {
          "base_uri": "https://localhost:8080/",
          "height": 206
        }
      },
      "execution_count": null,
      "outputs": [
        {
          "output_type": "execute_result",
          "data": {
            "text/plain": [
              "              count    mean     std  min    25%     50%     75%      max\n",
              "Glo         97260.0  254.13  250.23  0.0  52.90  167.03  387.52  1232.83\n",
              "Dif         97260.0  125.54  109.78  0.0  45.45   91.53  178.38   655.32\n",
              "Glo_SPLite  97260.0  259.03  248.57  0.0  57.96  173.37  397.06  1189.92\n",
              "Dir         97260.0  249.70  324.94  0.0   2.04   17.96  531.48  1016.76\n",
              "Temp        97260.0   16.69    8.59 -7.8  10.60   16.76   23.00    54.32"
            ],
            "text/html": [
              "\n",
              "  <div id=\"df-bc4645f0-b69a-4a39-882c-cb1490f0288d\" class=\"colab-df-container\">\n",
              "    <div>\n",
              "<style scoped>\n",
              "    .dataframe tbody tr th:only-of-type {\n",
              "        vertical-align: middle;\n",
              "    }\n",
              "\n",
              "    .dataframe tbody tr th {\n",
              "        vertical-align: top;\n",
              "    }\n",
              "\n",
              "    .dataframe thead th {\n",
              "        text-align: right;\n",
              "    }\n",
              "</style>\n",
              "<table border=\"1\" class=\"dataframe\">\n",
              "  <thead>\n",
              "    <tr style=\"text-align: right;\">\n",
              "      <th></th>\n",
              "      <th>count</th>\n",
              "      <th>mean</th>\n",
              "      <th>std</th>\n",
              "      <th>min</th>\n",
              "      <th>25%</th>\n",
              "      <th>50%</th>\n",
              "      <th>75%</th>\n",
              "      <th>max</th>\n",
              "    </tr>\n",
              "  </thead>\n",
              "  <tbody>\n",
              "    <tr>\n",
              "      <th>Glo</th>\n",
              "      <td>97260.0</td>\n",
              "      <td>254.13</td>\n",
              "      <td>250.23</td>\n",
              "      <td>0.0</td>\n",
              "      <td>52.90</td>\n",
              "      <td>167.03</td>\n",
              "      <td>387.52</td>\n",
              "      <td>1232.83</td>\n",
              "    </tr>\n",
              "    <tr>\n",
              "      <th>Dif</th>\n",
              "      <td>97260.0</td>\n",
              "      <td>125.54</td>\n",
              "      <td>109.78</td>\n",
              "      <td>0.0</td>\n",
              "      <td>45.45</td>\n",
              "      <td>91.53</td>\n",
              "      <td>178.38</td>\n",
              "      <td>655.32</td>\n",
              "    </tr>\n",
              "    <tr>\n",
              "      <th>Glo_SPLite</th>\n",
              "      <td>97260.0</td>\n",
              "      <td>259.03</td>\n",
              "      <td>248.57</td>\n",
              "      <td>0.0</td>\n",
              "      <td>57.96</td>\n",
              "      <td>173.37</td>\n",
              "      <td>397.06</td>\n",
              "      <td>1189.92</td>\n",
              "    </tr>\n",
              "    <tr>\n",
              "      <th>Dir</th>\n",
              "      <td>97260.0</td>\n",
              "      <td>249.70</td>\n",
              "      <td>324.94</td>\n",
              "      <td>0.0</td>\n",
              "      <td>2.04</td>\n",
              "      <td>17.96</td>\n",
              "      <td>531.48</td>\n",
              "      <td>1016.76</td>\n",
              "    </tr>\n",
              "    <tr>\n",
              "      <th>Temp</th>\n",
              "      <td>97260.0</td>\n",
              "      <td>16.69</td>\n",
              "      <td>8.59</td>\n",
              "      <td>-7.8</td>\n",
              "      <td>10.60</td>\n",
              "      <td>16.76</td>\n",
              "      <td>23.00</td>\n",
              "      <td>54.32</td>\n",
              "    </tr>\n",
              "  </tbody>\n",
              "</table>\n",
              "</div>\n",
              "    <div class=\"colab-df-buttons\">\n",
              "\n",
              "  <div class=\"colab-df-container\">\n",
              "    <button class=\"colab-df-convert\" onclick=\"convertToInteractive('df-bc4645f0-b69a-4a39-882c-cb1490f0288d')\"\n",
              "            title=\"Convert this dataframe to an interactive table.\"\n",
              "            style=\"display:none;\">\n",
              "\n",
              "  <svg xmlns=\"http://www.w3.org/2000/svg\" height=\"24px\" viewBox=\"0 -960 960 960\">\n",
              "    <path d=\"M120-120v-720h720v720H120Zm60-500h600v-160H180v160Zm220 220h160v-160H400v160Zm0 220h160v-160H400v160ZM180-400h160v-160H180v160Zm440 0h160v-160H620v160ZM180-180h160v-160H180v160Zm440 0h160v-160H620v160Z\"/>\n",
              "  </svg>\n",
              "    </button>\n",
              "\n",
              "  <style>\n",
              "    .colab-df-container {\n",
              "      display:flex;\n",
              "      gap: 12px;\n",
              "    }\n",
              "\n",
              "    .colab-df-convert {\n",
              "      background-color: #E8F0FE;\n",
              "      border: none;\n",
              "      border-radius: 50%;\n",
              "      cursor: pointer;\n",
              "      display: none;\n",
              "      fill: #1967D2;\n",
              "      height: 32px;\n",
              "      padding: 0 0 0 0;\n",
              "      width: 32px;\n",
              "    }\n",
              "\n",
              "    .colab-df-convert:hover {\n",
              "      background-color: #E2EBFA;\n",
              "      box-shadow: 0px 1px 2px rgba(60, 64, 67, 0.3), 0px 1px 3px 1px rgba(60, 64, 67, 0.15);\n",
              "      fill: #174EA6;\n",
              "    }\n",
              "\n",
              "    .colab-df-buttons div {\n",
              "      margin-bottom: 4px;\n",
              "    }\n",
              "\n",
              "    [theme=dark] .colab-df-convert {\n",
              "      background-color: #3B4455;\n",
              "      fill: #D2E3FC;\n",
              "    }\n",
              "\n",
              "    [theme=dark] .colab-df-convert:hover {\n",
              "      background-color: #434B5C;\n",
              "      box-shadow: 0px 1px 3px 1px rgba(0, 0, 0, 0.15);\n",
              "      filter: drop-shadow(0px 1px 2px rgba(0, 0, 0, 0.3));\n",
              "      fill: #FFFFFF;\n",
              "    }\n",
              "  </style>\n",
              "\n",
              "    <script>\n",
              "      const buttonEl =\n",
              "        document.querySelector('#df-bc4645f0-b69a-4a39-882c-cb1490f0288d button.colab-df-convert');\n",
              "      buttonEl.style.display =\n",
              "        google.colab.kernel.accessAllowed ? 'block' : 'none';\n",
              "\n",
              "      async function convertToInteractive(key) {\n",
              "        const element = document.querySelector('#df-bc4645f0-b69a-4a39-882c-cb1490f0288d');\n",
              "        const dataTable =\n",
              "          await google.colab.kernel.invokeFunction('convertToInteractive',\n",
              "                                                    [key], {});\n",
              "        if (!dataTable) return;\n",
              "\n",
              "        const docLinkHtml = 'Like what you see? Visit the ' +\n",
              "          '<a target=\"_blank\" href=https://colab.research.google.com/notebooks/data_table.ipynb>data table notebook</a>'\n",
              "          + ' to learn more about interactive tables.';\n",
              "        element.innerHTML = '';\n",
              "        dataTable['output_type'] = 'display_data';\n",
              "        await google.colab.output.renderOutput(dataTable, element);\n",
              "        const docLink = document.createElement('div');\n",
              "        docLink.innerHTML = docLinkHtml;\n",
              "        element.appendChild(docLink);\n",
              "      }\n",
              "    </script>\n",
              "  </div>\n",
              "\n",
              "\n",
              "<div id=\"df-be4b2463-6fa5-4b66-9f8d-75443f93ac20\">\n",
              "  <button class=\"colab-df-quickchart\" onclick=\"quickchart('df-be4b2463-6fa5-4b66-9f8d-75443f93ac20')\"\n",
              "            title=\"Suggest charts\"\n",
              "            style=\"display:none;\">\n",
              "\n",
              "<svg xmlns=\"http://www.w3.org/2000/svg\" height=\"24px\"viewBox=\"0 0 24 24\"\n",
              "     width=\"24px\">\n",
              "    <g>\n",
              "        <path d=\"M19 3H5c-1.1 0-2 .9-2 2v14c0 1.1.9 2 2 2h14c1.1 0 2-.9 2-2V5c0-1.1-.9-2-2-2zM9 17H7v-7h2v7zm4 0h-2V7h2v10zm4 0h-2v-4h2v4z\"/>\n",
              "    </g>\n",
              "</svg>\n",
              "  </button>\n",
              "\n",
              "<style>\n",
              "  .colab-df-quickchart {\n",
              "      --bg-color: #E8F0FE;\n",
              "      --fill-color: #1967D2;\n",
              "      --hover-bg-color: #E2EBFA;\n",
              "      --hover-fill-color: #174EA6;\n",
              "      --disabled-fill-color: #AAA;\n",
              "      --disabled-bg-color: #DDD;\n",
              "  }\n",
              "\n",
              "  [theme=dark] .colab-df-quickchart {\n",
              "      --bg-color: #3B4455;\n",
              "      --fill-color: #D2E3FC;\n",
              "      --hover-bg-color: #434B5C;\n",
              "      --hover-fill-color: #FFFFFF;\n",
              "      --disabled-bg-color: #3B4455;\n",
              "      --disabled-fill-color: #666;\n",
              "  }\n",
              "\n",
              "  .colab-df-quickchart {\n",
              "    background-color: var(--bg-color);\n",
              "    border: none;\n",
              "    border-radius: 50%;\n",
              "    cursor: pointer;\n",
              "    display: none;\n",
              "    fill: var(--fill-color);\n",
              "    height: 32px;\n",
              "    padding: 0;\n",
              "    width: 32px;\n",
              "  }\n",
              "\n",
              "  .colab-df-quickchart:hover {\n",
              "    background-color: var(--hover-bg-color);\n",
              "    box-shadow: 0 1px 2px rgba(60, 64, 67, 0.3), 0 1px 3px 1px rgba(60, 64, 67, 0.15);\n",
              "    fill: var(--button-hover-fill-color);\n",
              "  }\n",
              "\n",
              "  .colab-df-quickchart-complete:disabled,\n",
              "  .colab-df-quickchart-complete:disabled:hover {\n",
              "    background-color: var(--disabled-bg-color);\n",
              "    fill: var(--disabled-fill-color);\n",
              "    box-shadow: none;\n",
              "  }\n",
              "\n",
              "  .colab-df-spinner {\n",
              "    border: 2px solid var(--fill-color);\n",
              "    border-color: transparent;\n",
              "    border-bottom-color: var(--fill-color);\n",
              "    animation:\n",
              "      spin 1s steps(1) infinite;\n",
              "  }\n",
              "\n",
              "  @keyframes spin {\n",
              "    0% {\n",
              "      border-color: transparent;\n",
              "      border-bottom-color: var(--fill-color);\n",
              "      border-left-color: var(--fill-color);\n",
              "    }\n",
              "    20% {\n",
              "      border-color: transparent;\n",
              "      border-left-color: var(--fill-color);\n",
              "      border-top-color: var(--fill-color);\n",
              "    }\n",
              "    30% {\n",
              "      border-color: transparent;\n",
              "      border-left-color: var(--fill-color);\n",
              "      border-top-color: var(--fill-color);\n",
              "      border-right-color: var(--fill-color);\n",
              "    }\n",
              "    40% {\n",
              "      border-color: transparent;\n",
              "      border-right-color: var(--fill-color);\n",
              "      border-top-color: var(--fill-color);\n",
              "    }\n",
              "    60% {\n",
              "      border-color: transparent;\n",
              "      border-right-color: var(--fill-color);\n",
              "    }\n",
              "    80% {\n",
              "      border-color: transparent;\n",
              "      border-right-color: var(--fill-color);\n",
              "      border-bottom-color: var(--fill-color);\n",
              "    }\n",
              "    90% {\n",
              "      border-color: transparent;\n",
              "      border-bottom-color: var(--fill-color);\n",
              "    }\n",
              "  }\n",
              "</style>\n",
              "\n",
              "  <script>\n",
              "    async function quickchart(key) {\n",
              "      const quickchartButtonEl =\n",
              "        document.querySelector('#' + key + ' button');\n",
              "      quickchartButtonEl.disabled = true;  // To prevent multiple clicks.\n",
              "      quickchartButtonEl.classList.add('colab-df-spinner');\n",
              "      try {\n",
              "        const charts = await google.colab.kernel.invokeFunction(\n",
              "            'suggestCharts', [key], {});\n",
              "      } catch (error) {\n",
              "        console.error('Error during call to suggestCharts:', error);\n",
              "      }\n",
              "      quickchartButtonEl.classList.remove('colab-df-spinner');\n",
              "      quickchartButtonEl.classList.add('colab-df-quickchart-complete');\n",
              "    }\n",
              "    (() => {\n",
              "      let quickchartButtonEl =\n",
              "        document.querySelector('#df-be4b2463-6fa5-4b66-9f8d-75443f93ac20 button');\n",
              "      quickchartButtonEl.style.display =\n",
              "        google.colab.kernel.accessAllowed ? 'block' : 'none';\n",
              "    })();\n",
              "  </script>\n",
              "</div>\n",
              "    </div>\n",
              "  </div>\n"
            ]
          },
          "metadata": {},
          "execution_count": 8
        }
      ]
    },
    {
      "cell_type": "code",
      "source": [
        "# Allgemeine Informationen über die Vorhersagedaten\n",
        "round(df_CAMS.describe(), 2).T"
      ],
      "metadata": {
        "id": "GVgpZL7WsnKh",
        "outputId": "37e03aa9-589c-4e0e-a7f8-e24147e5ccb7",
        "colab": {
          "base_uri": "https://localhost:8080/",
          "height": 394
        }
      },
      "execution_count": null,
      "outputs": [
        {
          "output_type": "execute_result",
          "data": {
            "text/plain": [
              "          count     mean      std    min     25%     50%      75%       max\n",
              "aod469   4307.0     0.20     0.15   0.02    0.10    0.15     0.26      1.31\n",
              "aod550   4307.0     0.16     0.12   0.01    0.08    0.13     0.21      1.08\n",
              "aod670   4307.0     0.12     0.09   0.01    0.06    0.10     0.16      0.82\n",
              "aod865   4307.0     0.01     0.00   0.00    0.01    0.01     0.01      0.01\n",
              "uvbed    4307.0     1.26     1.56  -0.00    0.12    0.60     1.83      7.56\n",
              "uvbedcs  4307.0     1.73     1.91  -0.00    0.21    0.90     2.79      7.67\n",
              "hcc      4307.0     0.43     0.42   0.00    0.00    0.29     0.94      1.00\n",
              "lcc      4307.0     0.41     0.40   0.00    0.01    0.28     0.87      1.00\n",
              "mcc      4307.0     0.32     0.36   0.00    0.00    0.16     0.61      1.00\n",
              "tcc      4307.0     0.72     0.35   0.00    0.46    0.93     1.00      1.00\n",
              "cbh      3696.0  1627.58  2228.56  28.67  345.60  747.26  1643.51  12586.77"
            ],
            "text/html": [
              "\n",
              "  <div id=\"df-b227eb77-e490-4091-9070-46a5c6fa9ec7\" class=\"colab-df-container\">\n",
              "    <div>\n",
              "<style scoped>\n",
              "    .dataframe tbody tr th:only-of-type {\n",
              "        vertical-align: middle;\n",
              "    }\n",
              "\n",
              "    .dataframe tbody tr th {\n",
              "        vertical-align: top;\n",
              "    }\n",
              "\n",
              "    .dataframe thead th {\n",
              "        text-align: right;\n",
              "    }\n",
              "</style>\n",
              "<table border=\"1\" class=\"dataframe\">\n",
              "  <thead>\n",
              "    <tr style=\"text-align: right;\">\n",
              "      <th></th>\n",
              "      <th>count</th>\n",
              "      <th>mean</th>\n",
              "      <th>std</th>\n",
              "      <th>min</th>\n",
              "      <th>25%</th>\n",
              "      <th>50%</th>\n",
              "      <th>75%</th>\n",
              "      <th>max</th>\n",
              "    </tr>\n",
              "  </thead>\n",
              "  <tbody>\n",
              "    <tr>\n",
              "      <th>aod469</th>\n",
              "      <td>4307.0</td>\n",
              "      <td>0.20</td>\n",
              "      <td>0.15</td>\n",
              "      <td>0.02</td>\n",
              "      <td>0.10</td>\n",
              "      <td>0.15</td>\n",
              "      <td>0.26</td>\n",
              "      <td>1.31</td>\n",
              "    </tr>\n",
              "    <tr>\n",
              "      <th>aod550</th>\n",
              "      <td>4307.0</td>\n",
              "      <td>0.16</td>\n",
              "      <td>0.12</td>\n",
              "      <td>0.01</td>\n",
              "      <td>0.08</td>\n",
              "      <td>0.13</td>\n",
              "      <td>0.21</td>\n",
              "      <td>1.08</td>\n",
              "    </tr>\n",
              "    <tr>\n",
              "      <th>aod670</th>\n",
              "      <td>4307.0</td>\n",
              "      <td>0.12</td>\n",
              "      <td>0.09</td>\n",
              "      <td>0.01</td>\n",
              "      <td>0.06</td>\n",
              "      <td>0.10</td>\n",
              "      <td>0.16</td>\n",
              "      <td>0.82</td>\n",
              "    </tr>\n",
              "    <tr>\n",
              "      <th>aod865</th>\n",
              "      <td>4307.0</td>\n",
              "      <td>0.01</td>\n",
              "      <td>0.00</td>\n",
              "      <td>0.00</td>\n",
              "      <td>0.01</td>\n",
              "      <td>0.01</td>\n",
              "      <td>0.01</td>\n",
              "      <td>0.01</td>\n",
              "    </tr>\n",
              "    <tr>\n",
              "      <th>uvbed</th>\n",
              "      <td>4307.0</td>\n",
              "      <td>1.26</td>\n",
              "      <td>1.56</td>\n",
              "      <td>-0.00</td>\n",
              "      <td>0.12</td>\n",
              "      <td>0.60</td>\n",
              "      <td>1.83</td>\n",
              "      <td>7.56</td>\n",
              "    </tr>\n",
              "    <tr>\n",
              "      <th>uvbedcs</th>\n",
              "      <td>4307.0</td>\n",
              "      <td>1.73</td>\n",
              "      <td>1.91</td>\n",
              "      <td>-0.00</td>\n",
              "      <td>0.21</td>\n",
              "      <td>0.90</td>\n",
              "      <td>2.79</td>\n",
              "      <td>7.67</td>\n",
              "    </tr>\n",
              "    <tr>\n",
              "      <th>hcc</th>\n",
              "      <td>4307.0</td>\n",
              "      <td>0.43</td>\n",
              "      <td>0.42</td>\n",
              "      <td>0.00</td>\n",
              "      <td>0.00</td>\n",
              "      <td>0.29</td>\n",
              "      <td>0.94</td>\n",
              "      <td>1.00</td>\n",
              "    </tr>\n",
              "    <tr>\n",
              "      <th>lcc</th>\n",
              "      <td>4307.0</td>\n",
              "      <td>0.41</td>\n",
              "      <td>0.40</td>\n",
              "      <td>0.00</td>\n",
              "      <td>0.01</td>\n",
              "      <td>0.28</td>\n",
              "      <td>0.87</td>\n",
              "      <td>1.00</td>\n",
              "    </tr>\n",
              "    <tr>\n",
              "      <th>mcc</th>\n",
              "      <td>4307.0</td>\n",
              "      <td>0.32</td>\n",
              "      <td>0.36</td>\n",
              "      <td>0.00</td>\n",
              "      <td>0.00</td>\n",
              "      <td>0.16</td>\n",
              "      <td>0.61</td>\n",
              "      <td>1.00</td>\n",
              "    </tr>\n",
              "    <tr>\n",
              "      <th>tcc</th>\n",
              "      <td>4307.0</td>\n",
              "      <td>0.72</td>\n",
              "      <td>0.35</td>\n",
              "      <td>0.00</td>\n",
              "      <td>0.46</td>\n",
              "      <td>0.93</td>\n",
              "      <td>1.00</td>\n",
              "      <td>1.00</td>\n",
              "    </tr>\n",
              "    <tr>\n",
              "      <th>cbh</th>\n",
              "      <td>3696.0</td>\n",
              "      <td>1627.58</td>\n",
              "      <td>2228.56</td>\n",
              "      <td>28.67</td>\n",
              "      <td>345.60</td>\n",
              "      <td>747.26</td>\n",
              "      <td>1643.51</td>\n",
              "      <td>12586.77</td>\n",
              "    </tr>\n",
              "  </tbody>\n",
              "</table>\n",
              "</div>\n",
              "    <div class=\"colab-df-buttons\">\n",
              "\n",
              "  <div class=\"colab-df-container\">\n",
              "    <button class=\"colab-df-convert\" onclick=\"convertToInteractive('df-b227eb77-e490-4091-9070-46a5c6fa9ec7')\"\n",
              "            title=\"Convert this dataframe to an interactive table.\"\n",
              "            style=\"display:none;\">\n",
              "\n",
              "  <svg xmlns=\"http://www.w3.org/2000/svg\" height=\"24px\" viewBox=\"0 -960 960 960\">\n",
              "    <path d=\"M120-120v-720h720v720H120Zm60-500h600v-160H180v160Zm220 220h160v-160H400v160Zm0 220h160v-160H400v160ZM180-400h160v-160H180v160Zm440 0h160v-160H620v160ZM180-180h160v-160H180v160Zm440 0h160v-160H620v160Z\"/>\n",
              "  </svg>\n",
              "    </button>\n",
              "\n",
              "  <style>\n",
              "    .colab-df-container {\n",
              "      display:flex;\n",
              "      gap: 12px;\n",
              "    }\n",
              "\n",
              "    .colab-df-convert {\n",
              "      background-color: #E8F0FE;\n",
              "      border: none;\n",
              "      border-radius: 50%;\n",
              "      cursor: pointer;\n",
              "      display: none;\n",
              "      fill: #1967D2;\n",
              "      height: 32px;\n",
              "      padding: 0 0 0 0;\n",
              "      width: 32px;\n",
              "    }\n",
              "\n",
              "    .colab-df-convert:hover {\n",
              "      background-color: #E2EBFA;\n",
              "      box-shadow: 0px 1px 2px rgba(60, 64, 67, 0.3), 0px 1px 3px 1px rgba(60, 64, 67, 0.15);\n",
              "      fill: #174EA6;\n",
              "    }\n",
              "\n",
              "    .colab-df-buttons div {\n",
              "      margin-bottom: 4px;\n",
              "    }\n",
              "\n",
              "    [theme=dark] .colab-df-convert {\n",
              "      background-color: #3B4455;\n",
              "      fill: #D2E3FC;\n",
              "    }\n",
              "\n",
              "    [theme=dark] .colab-df-convert:hover {\n",
              "      background-color: #434B5C;\n",
              "      box-shadow: 0px 1px 3px 1px rgba(0, 0, 0, 0.15);\n",
              "      filter: drop-shadow(0px 1px 2px rgba(0, 0, 0, 0.3));\n",
              "      fill: #FFFFFF;\n",
              "    }\n",
              "  </style>\n",
              "\n",
              "    <script>\n",
              "      const buttonEl =\n",
              "        document.querySelector('#df-b227eb77-e490-4091-9070-46a5c6fa9ec7 button.colab-df-convert');\n",
              "      buttonEl.style.display =\n",
              "        google.colab.kernel.accessAllowed ? 'block' : 'none';\n",
              "\n",
              "      async function convertToInteractive(key) {\n",
              "        const element = document.querySelector('#df-b227eb77-e490-4091-9070-46a5c6fa9ec7');\n",
              "        const dataTable =\n",
              "          await google.colab.kernel.invokeFunction('convertToInteractive',\n",
              "                                                    [key], {});\n",
              "        if (!dataTable) return;\n",
              "\n",
              "        const docLinkHtml = 'Like what you see? Visit the ' +\n",
              "          '<a target=\"_blank\" href=https://colab.research.google.com/notebooks/data_table.ipynb>data table notebook</a>'\n",
              "          + ' to learn more about interactive tables.';\n",
              "        element.innerHTML = '';\n",
              "        dataTable['output_type'] = 'display_data';\n",
              "        await google.colab.output.renderOutput(dataTable, element);\n",
              "        const docLink = document.createElement('div');\n",
              "        docLink.innerHTML = docLinkHtml;\n",
              "        element.appendChild(docLink);\n",
              "      }\n",
              "    </script>\n",
              "  </div>\n",
              "\n",
              "\n",
              "<div id=\"df-5f11c380-ee2e-4a72-96b4-24c017b2be67\">\n",
              "  <button class=\"colab-df-quickchart\" onclick=\"quickchart('df-5f11c380-ee2e-4a72-96b4-24c017b2be67')\"\n",
              "            title=\"Suggest charts\"\n",
              "            style=\"display:none;\">\n",
              "\n",
              "<svg xmlns=\"http://www.w3.org/2000/svg\" height=\"24px\"viewBox=\"0 0 24 24\"\n",
              "     width=\"24px\">\n",
              "    <g>\n",
              "        <path d=\"M19 3H5c-1.1 0-2 .9-2 2v14c0 1.1.9 2 2 2h14c1.1 0 2-.9 2-2V5c0-1.1-.9-2-2-2zM9 17H7v-7h2v7zm4 0h-2V7h2v10zm4 0h-2v-4h2v4z\"/>\n",
              "    </g>\n",
              "</svg>\n",
              "  </button>\n",
              "\n",
              "<style>\n",
              "  .colab-df-quickchart {\n",
              "      --bg-color: #E8F0FE;\n",
              "      --fill-color: #1967D2;\n",
              "      --hover-bg-color: #E2EBFA;\n",
              "      --hover-fill-color: #174EA6;\n",
              "      --disabled-fill-color: #AAA;\n",
              "      --disabled-bg-color: #DDD;\n",
              "  }\n",
              "\n",
              "  [theme=dark] .colab-df-quickchart {\n",
              "      --bg-color: #3B4455;\n",
              "      --fill-color: #D2E3FC;\n",
              "      --hover-bg-color: #434B5C;\n",
              "      --hover-fill-color: #FFFFFF;\n",
              "      --disabled-bg-color: #3B4455;\n",
              "      --disabled-fill-color: #666;\n",
              "  }\n",
              "\n",
              "  .colab-df-quickchart {\n",
              "    background-color: var(--bg-color);\n",
              "    border: none;\n",
              "    border-radius: 50%;\n",
              "    cursor: pointer;\n",
              "    display: none;\n",
              "    fill: var(--fill-color);\n",
              "    height: 32px;\n",
              "    padding: 0;\n",
              "    width: 32px;\n",
              "  }\n",
              "\n",
              "  .colab-df-quickchart:hover {\n",
              "    background-color: var(--hover-bg-color);\n",
              "    box-shadow: 0 1px 2px rgba(60, 64, 67, 0.3), 0 1px 3px 1px rgba(60, 64, 67, 0.15);\n",
              "    fill: var(--button-hover-fill-color);\n",
              "  }\n",
              "\n",
              "  .colab-df-quickchart-complete:disabled,\n",
              "  .colab-df-quickchart-complete:disabled:hover {\n",
              "    background-color: var(--disabled-bg-color);\n",
              "    fill: var(--disabled-fill-color);\n",
              "    box-shadow: none;\n",
              "  }\n",
              "\n",
              "  .colab-df-spinner {\n",
              "    border: 2px solid var(--fill-color);\n",
              "    border-color: transparent;\n",
              "    border-bottom-color: var(--fill-color);\n",
              "    animation:\n",
              "      spin 1s steps(1) infinite;\n",
              "  }\n",
              "\n",
              "  @keyframes spin {\n",
              "    0% {\n",
              "      border-color: transparent;\n",
              "      border-bottom-color: var(--fill-color);\n",
              "      border-left-color: var(--fill-color);\n",
              "    }\n",
              "    20% {\n",
              "      border-color: transparent;\n",
              "      border-left-color: var(--fill-color);\n",
              "      border-top-color: var(--fill-color);\n",
              "    }\n",
              "    30% {\n",
              "      border-color: transparent;\n",
              "      border-left-color: var(--fill-color);\n",
              "      border-top-color: var(--fill-color);\n",
              "      border-right-color: var(--fill-color);\n",
              "    }\n",
              "    40% {\n",
              "      border-color: transparent;\n",
              "      border-right-color: var(--fill-color);\n",
              "      border-top-color: var(--fill-color);\n",
              "    }\n",
              "    60% {\n",
              "      border-color: transparent;\n",
              "      border-right-color: var(--fill-color);\n",
              "    }\n",
              "    80% {\n",
              "      border-color: transparent;\n",
              "      border-right-color: var(--fill-color);\n",
              "      border-bottom-color: var(--fill-color);\n",
              "    }\n",
              "    90% {\n",
              "      border-color: transparent;\n",
              "      border-bottom-color: var(--fill-color);\n",
              "    }\n",
              "  }\n",
              "</style>\n",
              "\n",
              "  <script>\n",
              "    async function quickchart(key) {\n",
              "      const quickchartButtonEl =\n",
              "        document.querySelector('#' + key + ' button');\n",
              "      quickchartButtonEl.disabled = true;  // To prevent multiple clicks.\n",
              "      quickchartButtonEl.classList.add('colab-df-spinner');\n",
              "      try {\n",
              "        const charts = await google.colab.kernel.invokeFunction(\n",
              "            'suggestCharts', [key], {});\n",
              "      } catch (error) {\n",
              "        console.error('Error during call to suggestCharts:', error);\n",
              "      }\n",
              "      quickchartButtonEl.classList.remove('colab-df-spinner');\n",
              "      quickchartButtonEl.classList.add('colab-df-quickchart-complete');\n",
              "    }\n",
              "    (() => {\n",
              "      let quickchartButtonEl =\n",
              "        document.querySelector('#df-5f11c380-ee2e-4a72-96b4-24c017b2be67 button');\n",
              "      quickchartButtonEl.style.display =\n",
              "        google.colab.kernel.accessAllowed ? 'block' : 'none';\n",
              "    })();\n",
              "  </script>\n",
              "</div>\n",
              "    </div>\n",
              "  </div>\n"
            ]
          },
          "metadata": {},
          "execution_count": 9
        }
      ]
    },
    {
      "cell_type": "code",
      "source": [
        "# Daten zusammen führen\n",
        "df_model = pd.concat([df_UVI[['UVI', 'SZA', 'time_sin', 'time_cos', 'date_sin', 'date_cos']], df_Solys[['Glo', 'Glo_SPLite']]], axis = 1)"
      ],
      "metadata": {
        "id": "dhAcbozIuoCv"
      },
      "execution_count": null,
      "outputs": []
    },
    {
      "cell_type": "code",
      "source": [
        "df_model.fillna(0, inplace=True)"
      ],
      "metadata": {
        "id": "BTBya8pQnbah"
      },
      "execution_count": null,
      "outputs": []
    },
    {
      "cell_type": "code",
      "source": [
        "df_model.dtypes     # solange alle Splaten das slebe Gleikommeformat haben kann der Dataframe wie ein np.array angesehen werden."
      ],
      "metadata": {
        "id": "bBf7efmiOar4",
        "outputId": "87c493f5-f80a-449b-8204-1892d8a1110c",
        "colab": {
          "base_uri": "https://localhost:8080/"
        }
      },
      "execution_count": null,
      "outputs": [
        {
          "output_type": "execute_result",
          "data": {
            "text/plain": [
              "UVI           float64\n",
              "SZA           float64\n",
              "time_sin      float64\n",
              "time_cos      float64\n",
              "date_sin      float64\n",
              "date_cos      float64\n",
              "Glo           float64\n",
              "Glo_SPLite    float64\n",
              "dtype: object"
            ]
          },
          "metadata": {},
          "execution_count": 12
        }
      ]
    },
    {
      "cell_type": "code",
      "source": [
        "# Extrahieren der Spalten, die für das Modell genutzt werden sollen\n",
        "cols = list(df_model)[1:]"
      ],
      "metadata": {
        "id": "oFpbHlhNvSNH"
      },
      "execution_count": null,
      "outputs": []
    },
    {
      "cell_type": "code",
      "source": [
        "cols"
      ],
      "metadata": {
        "colab": {
          "base_uri": "https://localhost:8080/"
        },
        "id": "nJd-9cENwRL7",
        "outputId": "92a82909-f1b0-4b52-aaf5-7602893df903"
      },
      "execution_count": null,
      "outputs": [
        {
          "output_type": "execute_result",
          "data": {
            "text/plain": [
              "['SZA', 'time_sin', 'time_cos', 'date_sin', 'date_cos', 'Glo', 'Glo_SPLite']"
            ]
          },
          "metadata": {},
          "execution_count": 14
        }
      ]
    },
    {
      "cell_type": "markdown",
      "source": [
        "## Normalisieren der Daten:"
      ],
      "metadata": {
        "id": "GFVDVD0Dp46X"
      }
    },
    {
      "cell_type": "markdown",
      "source": [
        "Keras.utils.normalize():\n",
        "- Min-Max-Norm = Eine Norm die die Features in einen bestimmen Zahlenbereich bringt.\n",
        "- Z-Score = eine Norm die von dem Feature den Mittelwert abzieht und durch die Standardabweichung teilt."
      ],
      "metadata": {
        "id": "KAeEL-AVFEXu"
      }
    },
    {
      "cell_type": "code",
      "source": [
        "def normalize_ZScore(df):\n",
        "    \"\"\"\n",
        "    Normalisiert einen DataFrame, indem für jede Spalte der Z-Score berechnet wird.\n",
        "\n",
        "    :param df: Der DataFrame, der normalisiert werden soll.\n",
        "    :return: Ein normalisierter DataFrame sowie die Mittelwerte und Standardabweichungen.\n",
        "    \"\"\"\n",
        "    # Berechnen des Mittelwerts und der Standardabweichung für jede Spalte\n",
        "    mean = df.mean(axis=0)\n",
        "    std = df.std(axis=0)\n",
        "\n",
        "    # Anwenden der Z-Score-Normalisierung\n",
        "    normalized_df = (df - mean) / std\n",
        "\n",
        "    return normalized_df, mean, std"
      ],
      "metadata": {
        "id": "N9XpkxVKvukT"
      },
      "execution_count": null,
      "outputs": []
    },
    {
      "cell_type": "code",
      "source": [
        "def normalize_MinMax(df):\n",
        "    \"\"\"\n",
        "    Normalisiert einen DataFrame, indem für jede Spalte die Min-Max-Normalisierung durchgeführt wird.\n",
        "\n",
        "    :param df: Der DataFrame, der normalisiert werden soll.\n",
        "    :return: Ein normalisierter DataFrame sowie die Minima und Maxima für jede Spalte.\n",
        "    \"\"\"\n",
        "    # Berechnen des Minimums und Maximums für jede Spalte\n",
        "    min_val = df.min(axis=0)\n",
        "    max_val = df.max(axis=0)\n",
        "\n",
        "    # Anwenden der Min-Max-Normalisierung\n",
        "    normalized_df = (df - min_val) / (max_val - min_val)\n",
        "\n",
        "    return normalized_df, min_val, max_val"
      ],
      "metadata": {
        "id": "N_xqLnoyMIzx"
      },
      "execution_count": null,
      "outputs": []
    },
    {
      "cell_type": "code",
      "source": [
        "normalized_ZS_df, mean, std = normalize_ZScore(df_model)\n",
        "normalized_MinMax_df, Min, Max = normalize_MinMax(df_model)\n",
        "normalized_MinMax_df.head()"
      ],
      "metadata": {
        "colab": {
          "base_uri": "https://localhost:8080/",
          "height": 237
        },
        "id": "TwS2FLTeCrpB",
        "outputId": "b68a50ec-327f-4800-a167-8345b3d3c65d"
      },
      "execution_count": null,
      "outputs": [
        {
          "output_type": "execute_result",
          "data": {
            "text/plain": [
              "                          UVI       SZA  time_sin  time_cos  date_sin  \\\n",
              "Datetime                                                                \n",
              "2022-06-15 07:21:00  0.281919  0.392430  0.969096  0.403006  0.640625   \n",
              "2022-06-15 07:23:00  0.288240  0.387969  0.967568  0.397968  0.640623   \n",
              "2022-06-15 07:25:00  0.290191  0.383511  0.966004  0.392947  0.640621   \n",
              "2022-06-15 07:27:00  0.297739  0.379057  0.964405  0.387943  0.640619   \n",
              "2022-06-15 07:29:00  0.301597  0.374606  0.962770  0.382956  0.640618   \n",
              "\n",
              "                     date_cos       Glo  Glo_SPLite  \n",
              "Datetime                                             \n",
              "2022-06-15 07:21:00  0.020185  0.449763    0.476942  \n",
              "2022-06-15 07:23:00  0.020184  0.452447    0.480058  \n",
              "2022-06-15 07:25:00  0.020184  0.455624    0.483028  \n",
              "2022-06-15 07:27:00  0.020183  0.458118    0.485640  \n",
              "2022-06-15 07:29:00  0.020183  0.463850    0.491593  "
            ],
            "text/html": [
              "\n",
              "  <div id=\"df-b08cae8d-acc5-4ab7-94a6-660f4c1c47ab\" class=\"colab-df-container\">\n",
              "    <div>\n",
              "<style scoped>\n",
              "    .dataframe tbody tr th:only-of-type {\n",
              "        vertical-align: middle;\n",
              "    }\n",
              "\n",
              "    .dataframe tbody tr th {\n",
              "        vertical-align: top;\n",
              "    }\n",
              "\n",
              "    .dataframe thead th {\n",
              "        text-align: right;\n",
              "    }\n",
              "</style>\n",
              "<table border=\"1\" class=\"dataframe\">\n",
              "  <thead>\n",
              "    <tr style=\"text-align: right;\">\n",
              "      <th></th>\n",
              "      <th>UVI</th>\n",
              "      <th>SZA</th>\n",
              "      <th>time_sin</th>\n",
              "      <th>time_cos</th>\n",
              "      <th>date_sin</th>\n",
              "      <th>date_cos</th>\n",
              "      <th>Glo</th>\n",
              "      <th>Glo_SPLite</th>\n",
              "    </tr>\n",
              "    <tr>\n",
              "      <th>Datetime</th>\n",
              "      <th></th>\n",
              "      <th></th>\n",
              "      <th></th>\n",
              "      <th></th>\n",
              "      <th></th>\n",
              "      <th></th>\n",
              "      <th></th>\n",
              "      <th></th>\n",
              "    </tr>\n",
              "  </thead>\n",
              "  <tbody>\n",
              "    <tr>\n",
              "      <th>2022-06-15 07:21:00</th>\n",
              "      <td>0.281919</td>\n",
              "      <td>0.392430</td>\n",
              "      <td>0.969096</td>\n",
              "      <td>0.403006</td>\n",
              "      <td>0.640625</td>\n",
              "      <td>0.020185</td>\n",
              "      <td>0.449763</td>\n",
              "      <td>0.476942</td>\n",
              "    </tr>\n",
              "    <tr>\n",
              "      <th>2022-06-15 07:23:00</th>\n",
              "      <td>0.288240</td>\n",
              "      <td>0.387969</td>\n",
              "      <td>0.967568</td>\n",
              "      <td>0.397968</td>\n",
              "      <td>0.640623</td>\n",
              "      <td>0.020184</td>\n",
              "      <td>0.452447</td>\n",
              "      <td>0.480058</td>\n",
              "    </tr>\n",
              "    <tr>\n",
              "      <th>2022-06-15 07:25:00</th>\n",
              "      <td>0.290191</td>\n",
              "      <td>0.383511</td>\n",
              "      <td>0.966004</td>\n",
              "      <td>0.392947</td>\n",
              "      <td>0.640621</td>\n",
              "      <td>0.020184</td>\n",
              "      <td>0.455624</td>\n",
              "      <td>0.483028</td>\n",
              "    </tr>\n",
              "    <tr>\n",
              "      <th>2022-06-15 07:27:00</th>\n",
              "      <td>0.297739</td>\n",
              "      <td>0.379057</td>\n",
              "      <td>0.964405</td>\n",
              "      <td>0.387943</td>\n",
              "      <td>0.640619</td>\n",
              "      <td>0.020183</td>\n",
              "      <td>0.458118</td>\n",
              "      <td>0.485640</td>\n",
              "    </tr>\n",
              "    <tr>\n",
              "      <th>2022-06-15 07:29:00</th>\n",
              "      <td>0.301597</td>\n",
              "      <td>0.374606</td>\n",
              "      <td>0.962770</td>\n",
              "      <td>0.382956</td>\n",
              "      <td>0.640618</td>\n",
              "      <td>0.020183</td>\n",
              "      <td>0.463850</td>\n",
              "      <td>0.491593</td>\n",
              "    </tr>\n",
              "  </tbody>\n",
              "</table>\n",
              "</div>\n",
              "    <div class=\"colab-df-buttons\">\n",
              "\n",
              "  <div class=\"colab-df-container\">\n",
              "    <button class=\"colab-df-convert\" onclick=\"convertToInteractive('df-b08cae8d-acc5-4ab7-94a6-660f4c1c47ab')\"\n",
              "            title=\"Convert this dataframe to an interactive table.\"\n",
              "            style=\"display:none;\">\n",
              "\n",
              "  <svg xmlns=\"http://www.w3.org/2000/svg\" height=\"24px\" viewBox=\"0 -960 960 960\">\n",
              "    <path d=\"M120-120v-720h720v720H120Zm60-500h600v-160H180v160Zm220 220h160v-160H400v160Zm0 220h160v-160H400v160ZM180-400h160v-160H180v160Zm440 0h160v-160H620v160ZM180-180h160v-160H180v160Zm440 0h160v-160H620v160Z\"/>\n",
              "  </svg>\n",
              "    </button>\n",
              "\n",
              "  <style>\n",
              "    .colab-df-container {\n",
              "      display:flex;\n",
              "      gap: 12px;\n",
              "    }\n",
              "\n",
              "    .colab-df-convert {\n",
              "      background-color: #E8F0FE;\n",
              "      border: none;\n",
              "      border-radius: 50%;\n",
              "      cursor: pointer;\n",
              "      display: none;\n",
              "      fill: #1967D2;\n",
              "      height: 32px;\n",
              "      padding: 0 0 0 0;\n",
              "      width: 32px;\n",
              "    }\n",
              "\n",
              "    .colab-df-convert:hover {\n",
              "      background-color: #E2EBFA;\n",
              "      box-shadow: 0px 1px 2px rgba(60, 64, 67, 0.3), 0px 1px 3px 1px rgba(60, 64, 67, 0.15);\n",
              "      fill: #174EA6;\n",
              "    }\n",
              "\n",
              "    .colab-df-buttons div {\n",
              "      margin-bottom: 4px;\n",
              "    }\n",
              "\n",
              "    [theme=dark] .colab-df-convert {\n",
              "      background-color: #3B4455;\n",
              "      fill: #D2E3FC;\n",
              "    }\n",
              "\n",
              "    [theme=dark] .colab-df-convert:hover {\n",
              "      background-color: #434B5C;\n",
              "      box-shadow: 0px 1px 3px 1px rgba(0, 0, 0, 0.15);\n",
              "      filter: drop-shadow(0px 1px 2px rgba(0, 0, 0, 0.3));\n",
              "      fill: #FFFFFF;\n",
              "    }\n",
              "  </style>\n",
              "\n",
              "    <script>\n",
              "      const buttonEl =\n",
              "        document.querySelector('#df-b08cae8d-acc5-4ab7-94a6-660f4c1c47ab button.colab-df-convert');\n",
              "      buttonEl.style.display =\n",
              "        google.colab.kernel.accessAllowed ? 'block' : 'none';\n",
              "\n",
              "      async function convertToInteractive(key) {\n",
              "        const element = document.querySelector('#df-b08cae8d-acc5-4ab7-94a6-660f4c1c47ab');\n",
              "        const dataTable =\n",
              "          await google.colab.kernel.invokeFunction('convertToInteractive',\n",
              "                                                    [key], {});\n",
              "        if (!dataTable) return;\n",
              "\n",
              "        const docLinkHtml = 'Like what you see? Visit the ' +\n",
              "          '<a target=\"_blank\" href=https://colab.research.google.com/notebooks/data_table.ipynb>data table notebook</a>'\n",
              "          + ' to learn more about interactive tables.';\n",
              "        element.innerHTML = '';\n",
              "        dataTable['output_type'] = 'display_data';\n",
              "        await google.colab.output.renderOutput(dataTable, element);\n",
              "        const docLink = document.createElement('div');\n",
              "        docLink.innerHTML = docLinkHtml;\n",
              "        element.appendChild(docLink);\n",
              "      }\n",
              "    </script>\n",
              "  </div>\n",
              "\n",
              "\n",
              "<div id=\"df-08320a8b-b1ba-47db-9f96-a2195c4b8bdf\">\n",
              "  <button class=\"colab-df-quickchart\" onclick=\"quickchart('df-08320a8b-b1ba-47db-9f96-a2195c4b8bdf')\"\n",
              "            title=\"Suggest charts\"\n",
              "            style=\"display:none;\">\n",
              "\n",
              "<svg xmlns=\"http://www.w3.org/2000/svg\" height=\"24px\"viewBox=\"0 0 24 24\"\n",
              "     width=\"24px\">\n",
              "    <g>\n",
              "        <path d=\"M19 3H5c-1.1 0-2 .9-2 2v14c0 1.1.9 2 2 2h14c1.1 0 2-.9 2-2V5c0-1.1-.9-2-2-2zM9 17H7v-7h2v7zm4 0h-2V7h2v10zm4 0h-2v-4h2v4z\"/>\n",
              "    </g>\n",
              "</svg>\n",
              "  </button>\n",
              "\n",
              "<style>\n",
              "  .colab-df-quickchart {\n",
              "      --bg-color: #E8F0FE;\n",
              "      --fill-color: #1967D2;\n",
              "      --hover-bg-color: #E2EBFA;\n",
              "      --hover-fill-color: #174EA6;\n",
              "      --disabled-fill-color: #AAA;\n",
              "      --disabled-bg-color: #DDD;\n",
              "  }\n",
              "\n",
              "  [theme=dark] .colab-df-quickchart {\n",
              "      --bg-color: #3B4455;\n",
              "      --fill-color: #D2E3FC;\n",
              "      --hover-bg-color: #434B5C;\n",
              "      --hover-fill-color: #FFFFFF;\n",
              "      --disabled-bg-color: #3B4455;\n",
              "      --disabled-fill-color: #666;\n",
              "  }\n",
              "\n",
              "  .colab-df-quickchart {\n",
              "    background-color: var(--bg-color);\n",
              "    border: none;\n",
              "    border-radius: 50%;\n",
              "    cursor: pointer;\n",
              "    display: none;\n",
              "    fill: var(--fill-color);\n",
              "    height: 32px;\n",
              "    padding: 0;\n",
              "    width: 32px;\n",
              "  }\n",
              "\n",
              "  .colab-df-quickchart:hover {\n",
              "    background-color: var(--hover-bg-color);\n",
              "    box-shadow: 0 1px 2px rgba(60, 64, 67, 0.3), 0 1px 3px 1px rgba(60, 64, 67, 0.15);\n",
              "    fill: var(--button-hover-fill-color);\n",
              "  }\n",
              "\n",
              "  .colab-df-quickchart-complete:disabled,\n",
              "  .colab-df-quickchart-complete:disabled:hover {\n",
              "    background-color: var(--disabled-bg-color);\n",
              "    fill: var(--disabled-fill-color);\n",
              "    box-shadow: none;\n",
              "  }\n",
              "\n",
              "  .colab-df-spinner {\n",
              "    border: 2px solid var(--fill-color);\n",
              "    border-color: transparent;\n",
              "    border-bottom-color: var(--fill-color);\n",
              "    animation:\n",
              "      spin 1s steps(1) infinite;\n",
              "  }\n",
              "\n",
              "  @keyframes spin {\n",
              "    0% {\n",
              "      border-color: transparent;\n",
              "      border-bottom-color: var(--fill-color);\n",
              "      border-left-color: var(--fill-color);\n",
              "    }\n",
              "    20% {\n",
              "      border-color: transparent;\n",
              "      border-left-color: var(--fill-color);\n",
              "      border-top-color: var(--fill-color);\n",
              "    }\n",
              "    30% {\n",
              "      border-color: transparent;\n",
              "      border-left-color: var(--fill-color);\n",
              "      border-top-color: var(--fill-color);\n",
              "      border-right-color: var(--fill-color);\n",
              "    }\n",
              "    40% {\n",
              "      border-color: transparent;\n",
              "      border-right-color: var(--fill-color);\n",
              "      border-top-color: var(--fill-color);\n",
              "    }\n",
              "    60% {\n",
              "      border-color: transparent;\n",
              "      border-right-color: var(--fill-color);\n",
              "    }\n",
              "    80% {\n",
              "      border-color: transparent;\n",
              "      border-right-color: var(--fill-color);\n",
              "      border-bottom-color: var(--fill-color);\n",
              "    }\n",
              "    90% {\n",
              "      border-color: transparent;\n",
              "      border-bottom-color: var(--fill-color);\n",
              "    }\n",
              "  }\n",
              "</style>\n",
              "\n",
              "  <script>\n",
              "    async function quickchart(key) {\n",
              "      const quickchartButtonEl =\n",
              "        document.querySelector('#' + key + ' button');\n",
              "      quickchartButtonEl.disabled = true;  // To prevent multiple clicks.\n",
              "      quickchartButtonEl.classList.add('colab-df-spinner');\n",
              "      try {\n",
              "        const charts = await google.colab.kernel.invokeFunction(\n",
              "            'suggestCharts', [key], {});\n",
              "      } catch (error) {\n",
              "        console.error('Error during call to suggestCharts:', error);\n",
              "      }\n",
              "      quickchartButtonEl.classList.remove('colab-df-spinner');\n",
              "      quickchartButtonEl.classList.add('colab-df-quickchart-complete');\n",
              "    }\n",
              "    (() => {\n",
              "      let quickchartButtonEl =\n",
              "        document.querySelector('#df-08320a8b-b1ba-47db-9f96-a2195c4b8bdf button');\n",
              "      quickchartButtonEl.style.display =\n",
              "        google.colab.kernel.accessAllowed ? 'block' : 'none';\n",
              "    })();\n",
              "  </script>\n",
              "</div>\n",
              "    </div>\n",
              "  </div>\n"
            ]
          },
          "metadata": {},
          "execution_count": 17
        }
      ]
    },
    {
      "cell_type": "markdown",
      "source": [
        "## Aufteilen der Daten:"
      ],
      "metadata": {
        "id": "cBoMoIoMPCf7"
      }
    },
    {
      "cell_type": "code",
      "source": [
        "# Angabe der Timesteps die für die Modellbildung genutzt werden sollen und Angabe der Features, die für das Training genutzt werden sollen.\n",
        "# Auch für das Erstellen des Netzwerks relevant!\n",
        "n_timesteps = 15\n",
        "n_features = len(normalized_MinMax_df.columns)-1"
      ],
      "metadata": {
        "id": "8o31Ze1YxMdT"
      },
      "execution_count": null,
      "outputs": []
    },
    {
      "cell_type": "code",
      "source": [
        "def create_sequences(df, n_timesteps, target_column):\n",
        "    \"\"\"\n",
        "    Erstellt sequentielle Eingabedaten für ein neuronales Netzwerk aus einem DataFrame.\n",
        "\n",
        "    :param df: DataFrame, der die Zeitreihendaten enthält.\n",
        "    :param n_timesteps: Anzahl der Timesteps, die in jeder Sequenz verwendet werden sollen.\n",
        "    :param target_column: Name der Spalte, die als Zielvariable verwendet werden soll.\n",
        "    :return: Eine Liste von Sequenzen, wobei jede Sequenz aus Eingabedaten und einem Zielwert besteht.\n",
        "    \"\"\"\n",
        "    transformed_data = []\n",
        "\n",
        "    # Schleife durch den DataFrame, um sequentielle Daten zu erstellen\n",
        "    for i in range(n_timesteps, len(df)):\n",
        "        # Alle Features außer der Zielvariablen\n",
        "        input_data = df.iloc[i-n_timesteps:i].drop(columns=target_column).values.reshape(1, -1)\n",
        "        # Zielvariable\n",
        "        target = df.iloc[i][target_column]\n",
        "        # Hinzufügen zur Liste\n",
        "        transformed_data.append(np.append(input_data, target))\n",
        "\n",
        "    return transformed_data"
      ],
      "metadata": {
        "id": "vOqs-wsx1OAp"
      },
      "execution_count": null,
      "outputs": []
    },
    {
      "cell_type": "code",
      "source": [
        "# Funktionsaufruf um den Datensatz in passende Sequenzen zu unterteilen\n",
        "transformed_data = create_sequences(normalized_MinMax_df, n_timesteps, target_column='UVI')\n",
        "transformed_df = pd.DataFrame(transformed_data)"
      ],
      "metadata": {
        "id": "QvPJtBvW1quF"
      },
      "execution_count": null,
      "outputs": []
    },
    {
      "cell_type": "code",
      "source": [
        "# Aufteilen des Datensatzes in Trainings-, Validierungs- und Testdaten\n",
        "train_size = int(0.7 * len(transformed_df))\n",
        "val_size = int(0.15 * len(transformed_df))\n",
        "test_size = int(len(transformed_df) - (train_size + val_size))"
      ],
      "metadata": {
        "id": "X8QeuZ5E6ccP"
      },
      "execution_count": null,
      "outputs": []
    },
    {
      "cell_type": "code",
      "source": [
        "# Aufteilen des Datensatzes in Trainings-, Validierungs- und Testdaten\n",
        "train_data = transformed_df[:train_size]\n",
        "val_data = transformed_df[train_size:train_size + val_size]\n",
        "test_data = transformed_df[train_size + val_size:]"
      ],
      "metadata": {
        "id": "gp4v17Q36kAB"
      },
      "execution_count": null,
      "outputs": []
    },
    {
      "cell_type": "code",
      "source": [
        "# Trennen der Features und der Zielvariable\n",
        "\n",
        "X_train = train_data.iloc[:, :-1].values.reshape((train_size, n_timesteps, n_features))  # Alle Spalten außer der letzten\n",
        "y_train = train_data.iloc[:, -1].values   # Nur die letzte Spalte\n",
        "\n",
        "X_val = val_data.iloc[:, :-1].values.reshape((val_size, n_timesteps, n_features))  # Alle Spalten außer der letzten\n",
        "y_val = val_data.iloc[:, -1].values   # Nur die letzte Spalte\n",
        "\n",
        "X_test = test_data.iloc[:, :-1].values.reshape((test_size, n_timesteps, n_features))  # Alle Spalten außer der letzten\n",
        "y_test = test_data.iloc[:, -1].values   # Nur die letzte Spalte"
      ],
      "metadata": {
        "id": "qKrDtxQ3i-Tg"
      },
      "execution_count": null,
      "outputs": []
    },
    {
      "cell_type": "code",
      "source": [
        "# Länge der Trainings-, Validierungs- und Testdaten bestimmen und ausgeben\n",
        "len_train, len_val, len_test = len(X_train), len(X_val), len(X_test)\n",
        "len_train, len_val, len_test"
      ],
      "metadata": {
        "colab": {
          "base_uri": "https://localhost:8080/"
        },
        "id": "UUYLQNMb6mMS",
        "outputId": "4337ab6b-618e-40e5-d1b7-0c2122796195"
      },
      "execution_count": null,
      "outputs": [
        {
          "output_type": "execute_result",
          "data": {
            "text/plain": [
              "(84009, 18001, 18003)"
            ]
          },
          "metadata": {},
          "execution_count": 24
        }
      ]
    },
    {
      "cell_type": "markdown",
      "source": [
        "## Building a Network:"
      ],
      "metadata": {
        "id": "zgZdLMw2qKo-"
      }
    },
    {
      "cell_type": "markdown",
      "source": [
        "Datenformatierung:\n",
        "**Input**: shape: 15 timesteps und 7 features"
      ],
      "metadata": {
        "id": "u97Pq-Ec6_Uw"
      }
    },
    {
      "cell_type": "code",
      "source": [
        "# Eingabeschi<cht erstellen\n",
        "input_layer = Input(shape=(n_timesteps, n_features))"
      ],
      "metadata": {
        "id": "I7nKzOYbtWks"
      },
      "execution_count": null,
      "outputs": []
    },
    {
      "cell_type": "code",
      "source": [
        "# LSTM Schicht erstellen\n",
        "x = LSTM(50, return_sequences=True)(input_layer)\n",
        "x = LSTM(50)(x)\n",
        "output_layer = Dense(1)(x)"
      ],
      "metadata": {
        "id": "zcSjykGfesRJ"
      },
      "execution_count": null,
      "outputs": []
    },
    {
      "cell_type": "code",
      "source": [
        "# Modell erstellen\n",
        "model = Model(inputs=input_layer, outputs=output_layer)"
      ],
      "metadata": {
        "id": "jpp85mCiexL2"
      },
      "execution_count": null,
      "outputs": []
    },
    {
      "cell_type": "code",
      "source": [
        "# Modell kompilieren\n",
        "model.compile(optimizer='adam', loss='mean_squared_error')"
      ],
      "metadata": {
        "id": "U_ZXSJM_7Mr2"
      },
      "execution_count": null,
      "outputs": []
    },
    {
      "cell_type": "code",
      "source": [
        "# Modellstruktur anzeigen\n",
        "model.summary()"
      ],
      "metadata": {
        "id": "5kAWMtbue4Yu",
        "outputId": "f9449080-7aec-4d8c-f5f1-592cabfae2c2",
        "colab": {
          "base_uri": "https://localhost:8080/"
        }
      },
      "execution_count": null,
      "outputs": [
        {
          "output_type": "stream",
          "name": "stdout",
          "text": [
            "Model: \"model\"\n",
            "_________________________________________________________________\n",
            " Layer (type)                Output Shape              Param #   \n",
            "=================================================================\n",
            " input_1 (InputLayer)        [(None, 15, 7)]           0         \n",
            "                                                                 \n",
            " lstm (LSTM)                 (None, 15, 50)            11600     \n",
            "                                                                 \n",
            " lstm_1 (LSTM)               (None, 50)                20200     \n",
            "                                                                 \n",
            " dense (Dense)               (None, 1)                 51        \n",
            "                                                                 \n",
            "=================================================================\n",
            "Total params: 31851 (124.42 KB)\n",
            "Trainable params: 31851 (124.42 KB)\n",
            "Non-trainable params: 0 (0.00 Byte)\n",
            "_________________________________________________________________\n"
          ]
        }
      ]
    },
    {
      "cell_type": "markdown",
      "source": [
        "## Modell fitten:"
      ],
      "metadata": {
        "id": "pSMstO7Q6z5H"
      }
    },
    {
      "cell_type": "code",
      "source": [
        "# Training des Modells\n",
        "history = model.fit(X_train, y_train,\n",
        "                    epochs=5,       # Anzahl der Trainingszyklen\n",
        "                    batch_size=32,  # Anzahl der Beispiele pro Batch\n",
        "                    validation_data=(X_val, y_val))"
      ],
      "metadata": {
        "id": "TNGGeUupwd9h",
        "colab": {
          "base_uri": "https://localhost:8080/"
        },
        "outputId": "015bb34c-23bb-4282-d795-5bef12fa992e"
      },
      "execution_count": null,
      "outputs": [
        {
          "output_type": "stream",
          "name": "stdout",
          "text": [
            "Epoch 1/5\n",
            "2626/2626 [==============================] - 70s 24ms/step - loss: 0.0043 - val_loss: 0.0078\n",
            "Epoch 2/5\n",
            "2626/2626 [==============================] - 55s 21ms/step - loss: 0.0033 - val_loss: 0.0100\n",
            "Epoch 3/5\n",
            "2626/2626 [==============================] - 59s 22ms/step - loss: 0.0031 - val_loss: 0.0070\n",
            "Epoch 4/5\n",
            "2626/2626 [==============================] - 58s 22ms/step - loss: 0.0030 - val_loss: 0.0071\n",
            "Epoch 5/5\n",
            "2626/2626 [==============================] - 58s 22ms/step - loss: 0.0029 - val_loss: 0.0127\n"
          ]
        }
      ]
    },
    {
      "cell_type": "code",
      "source": [
        "model.save(model_path)"
      ],
      "metadata": {
        "id": "n8DXxgkCPmVu"
      },
      "execution_count": null,
      "outputs": []
    },
    {
      "cell_type": "markdown",
      "source": [
        "## Validierung des Netzwerks:"
      ],
      "metadata": {
        "id": "6EEIxbsRp9KS"
      }
    },
    {
      "cell_type": "markdown",
      "source": [],
      "metadata": {
        "id": "3NlexDtb6xMg"
      }
    },
    {
      "cell_type": "code",
      "source": [
        "# Überwachung der Trainingsleistung\n",
        "import matplotlib.pyplot as plt\n",
        "\n",
        "plt.plot(history.history['loss'], label='Trainingsverlust')\n",
        "plt.plot(history.history['val_loss'], label='Validierungsverlust')\n",
        "plt.title('Modellverlust')\n",
        "plt.ylabel('Verlust')\n",
        "plt.xlabel('Epoche')\n",
        "plt.legend()\n",
        "plt.show()"
      ],
      "metadata": {
        "id": "UaIqnGxuqmtX",
        "colab": {
          "base_uri": "https://localhost:8080/",
          "height": 472
        },
        "outputId": "8da34af4-5cba-4c95-894e-d09da3d17861"
      },
      "execution_count": null,
      "outputs": [
        {
          "output_type": "display_data",
          "data": {
            "text/plain": [
              "<Figure size 640x480 with 1 Axes>"
            ],
            "image/png": "[encoded data removed]"
          },
          "metadata": {}
        }
      ]
    },
    {
      "cell_type": "code",
      "source": [
        "# Angenommen, Sie haben Testdaten: X_test und y_test\n",
        "test_loss = model.evaluate(X_test, y_test)"
      ],
      "metadata": {
        "id": "IPm1rLpLrtd4",
        "outputId": "8df2d9d9-53ae-450a-fb5e-7a6b2877fd60",
        "colab": {
          "base_uri": "https://localhost:8080/"
        }
      },
      "execution_count": null,
      "outputs": [
        {
          "output_type": "stream",
          "name": "stdout",
          "text": [
            "563/563 [==============================] - 4s 7ms/step - loss: 0.0070\n"
          ]
        }
      ]
    },
    {
      "cell_type": "code",
      "source": [
        "model.compile(optimizer='adam', loss='mean_squared_error', metrics=['accuracy'])"
      ],
      "metadata": {
        "id": "vPhzhKKDt0PY"
      },
      "execution_count": null,
      "outputs": []
    },
    {
      "cell_type": "code",
      "source": [
        "test_loss, test_metric = model.evaluate(X_test, y_test)\n",
        "\n",
        "print(\"Testverlust:\", test_loss)\n",
        "print(\"Testmetrik:\", test_metric)  # z.B. Genauigkeit"
      ],
      "metadata": {
        "id": "buMS5QEHt1Mi",
        "outputId": "05770940-0579-479b-876a-aa3bfe58ea01",
        "colab": {
          "base_uri": "https://localhost:8080/"
        }
      },
      "execution_count": null,
      "outputs": [
        {
          "output_type": "stream",
          "name": "stdout",
          "text": [
            "563/563 [==============================] - 6s 8ms/step - loss: 0.0070 - accuracy: 0.0033\n",
            "Testverlust: 0.007049506530165672\n",
            "Testmetrik: 0.0033327778801321983\n"
          ]
        }
      ]
    },
    {
      "cell_type": "code",
      "source": [
        "# Vorhersagen mit dem Testdatensatz\n",
        "predicted = model.predict(X_test)\n",
        "\n",
        "# Plotten der Vorhersagen gegen die tatsächlichen Werte\n",
        "plt.scatter(y_test, predicted)\n",
        "plt.xlabel(\"Tatsächliche Werte\")\n",
        "plt.ylabel(\"Vorhergesagte Werte\")\n",
        "plt.title(\"Vorhergesagte Werte vs. Tatsächliche Werte\")\n",
        "plt.show()"
      ],
      "metadata": {
        "id": "k8hlMp1st5sc",
        "outputId": "8e08111d-e647-4bb5-9775-fafc2bbd82fa",
        "colab": {
          "base_uri": "https://localhost:8080/",
          "height": 489
        }
      },
      "execution_count": null,
      "outputs": [
        {
          "output_type": "stream",
          "name": "stdout",
          "text": [
            "563/563 [==============================] - 5s 7ms/step\n"
          ]
        },
        {
          "output_type": "display_data",
          "data": {
            "text/plain": [
              "<Figure size 640x480 with 1 Axes>"
            ],
            "image/png": "[encoded data removed]"
          },
          "metadata": {}
        }
      ]
    },
    {
      "cell_type": "code",
      "source": [
        "plt.plot(y_test)"
      ],
      "metadata": {
        "id": "uvQRSto4u1CH",
        "outputId": "9233091c-eda4-4c38-dfef-e8770da60700",
        "colab": {
          "base_uri": "https://localhost:8080/",
          "height": 447
        }
      },
      "execution_count": null,
      "outputs": [
        {
          "output_type": "execute_result",
          "data": {
            "text/plain": [
              "[<matplotlib.lines.Line2D at 0x7bfa79d07d30>]"
            ]
          },
          "metadata": {},
          "execution_count": 36
        },
        {
          "output_type": "display_data",
          "data": {
            "text/plain": [
              "<Figure size 640x480 with 1 Axes>"
            ],
            "image/png": "[encoded data removed]"
          },
          "metadata": {}
        }
      ]
    },
    {
      "cell_type": "code",
      "source": [
        "predicted, y_test"
      ],
      "metadata": {
        "id": "qeFQrqNrvfKU",
        "outputId": "73eba63f-b9ae-434d-a54b-1841c909042a",
        "colab": {
          "base_uri": "https://localhost:8080/"
        }
      },
      "execution_count": null,
      "outputs": [
        {
          "output_type": "execute_result",
          "data": {
            "text/plain": [
              "(array([[0.15645605],\n",
              "        [0.15625085],\n",
              "        [0.15599678],\n",
              "        ...,\n",
              "        [0.05056442],\n",
              "        [0.05007456],\n",
              "        [0.05123916]], dtype=float32),\n",
              " array([0.09246179, 0.09492652, 0.09832911, ..., 0.03678404, 0.03708798,\n",
              "        0.03657019]))"
            ]
          },
          "metadata": {},
          "execution_count": 41
        }
      ]
    },
    {
      "cell_type": "code",
      "source": [
        "def evaluate_regression(predicted, actual):\n",
        "    mse = mean_squared_error(actual, predicted)\n",
        "    mae = mean_absolute_error(actual, predicted)\n",
        "    return mse, mae"
      ],
      "metadata": {
        "id": "hN1J5bHNR-IO"
      },
      "execution_count": null,
      "outputs": []
    },
    {
      "cell_type": "code",
      "source": [
        "# Verwendung der Funktion\n",
        "mse, mae = evaluate_regression(predicted, y_test)\n",
        "print(\"Mean Squared Error:\", mse)\n",
        "print(\"Mean Absolute Error:\", mae)"
      ],
      "metadata": {
        "id": "RgxxNgmdUVTT",
        "outputId": "5e7cd0a0-ad20-42fd-d642-4d35f0014de0",
        "colab": {
          "base_uri": "https://localhost:8080/"
        }
      },
      "execution_count": null,
      "outputs": [
        {
          "output_type": "stream",
          "name": "stdout",
          "text": [
            "Mean Squared Error: 0.007049505810255998\n",
            "Mean Absolute Error: 0.041975299646037884\n"
          ]
        }
      ]
    },
    {
      "cell_type": "code",
      "source": [
        "def mean_absolute_percentage_error(y_true, y_pred):\n",
        "    y_true, y_pred = np.array(y_true), np.array(y_pred)\n",
        "    return np.mean(np.abs((y_true - y_pred) / y_true)) * 100"
      ],
      "metadata": {
        "id": "_v94rNBVUdQT"
      },
      "execution_count": null,
      "outputs": []
    },
    {
      "cell_type": "code",
      "source": [
        "# Berechnung des MAPE\n",
        "mape = mean_absolute_percentage_error(y_test, predicted)\n",
        "print(\"Mean Absolute Percentage Error (MAPE):\", mape, \"%\")"
      ],
      "metadata": {
        "id": "-LVuDaAgVPQv",
        "outputId": "b28fcf73-3040-45fc-f29d-dd5a6e45002d",
        "colab": {
          "base_uri": "https://localhost:8080/"
        }
      },
      "execution_count": null,
      "outputs": [
        {
          "output_type": "stream",
          "name": "stderr",
          "text": [
            "<ipython-input-49-199972fad748>:3: RuntimeWarning: divide by zero encountered in divide\n",
            "  return np.mean(np.abs((y_true - y_pred) / y_true)) * 100\n"
          ]
        },
        {
          "output_type": "stream",
          "name": "stdout",
          "text": [
            "Mean Absolute Percentage Error (MAPE): inf %\n"
          ]
        }
      ]
    },
    {
      "cell_type": "code",
      "source": [
        "# Erstellen des Plots\n",
        "plt.figure(figsize=(12, 6))\n",
        "\n",
        "# Plotten der vorhergesagten Werte\n",
        "plt.plot(predicted, label='Vorhergesagte Werte', color='red')\n",
        "\n",
        "# Plotten der tatsächlichen Werte\n",
        "plt.plot(y_test, label='Tatsächliche Werte', color='blue')\n",
        "\n",
        "# Hinzufügen von Titel, Legende und Achsenbeschriftungen\n",
        "plt.title('Vergleich von tatsächlichen und vorhergesagten Werten')\n",
        "plt.xlabel('Eintragsnummer')\n",
        "plt.ylabel('Werte')\n",
        "plt.legend()\n",
        "\n",
        "# Anzeigen des Plots\n",
        "plt.show()"
      ],
      "metadata": {
        "id": "SGoWxkiOVP6K",
        "outputId": "78dd1798-c06b-4add-dbdf-d115a0c2bc3c",
        "colab": {
          "base_uri": "https://localhost:8080/",
          "height": 488
        }
      },
      "execution_count": null,
      "outputs": [
        {
          "output_type": "display_data",
          "data": {
            "text/plain": [
              "<Figure size 1200x600 with 1 Axes>"
            ],
            "image/png": "[encoded data removed]"
          },
          "metadata": {}
        }
      ]
    }
  ]
}