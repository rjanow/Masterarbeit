{
  "nbformat": 4,
  "nbformat_minor": 0,
  "metadata": {
    "colab": {
      "provenance": [],
      "authorship_tag": "ABX9TyNqOO4WOTg28pNhz32HgsZs",
      "include_colab_link": true
    },
    "kernelspec": {
      "name": "python3",
      "display_name": "Python 3"
    },
    "language_info": {
      "name": "python"
    }
  },
  "cells": [
    {
      "cell_type": "markdown",
      "metadata": {
        "id": "view-in-github",
        "colab_type": "text"
      },
      "source": [
        "<a href=\"https://colab.research.google.com/github/rjanow/Masterarbeit/blob/main/netCDF4_to_DF.ipynb\" target=\"_parent\"><img src=\"https://colab.research.google.com/assets/colab-badge.svg\" alt=\"Open In Colab\"/></a>"
      ]
    },
    {
      "cell_type": "markdown",
      "source": [
        "# Script um die netCDF4 Vorhersagewerte in einen Dataframe abzuspeichern"
      ],
      "metadata": {
        "id": "i2B2OHrSGmDT"
      }
    },
    {
      "cell_type": "code",
      "execution_count": null,
      "metadata": {
        "colab": {
          "base_uri": "https://localhost:8080/"
        },
        "id": "-s8BHga-2vKo",
        "outputId": "dd49b2d4-38ad-4e4e-af33-59d9d9d276c9"
      },
      "outputs": [
        {
          "output_type": "stream",
          "name": "stdout",
          "text": [
            "Collecting netCDF4\n",
            "  Downloading netCDF4-1.6.4-cp310-cp310-manylinux_2_17_x86_64.manylinux2014_x86_64.whl (5.4 MB)\n",
            "\u001b[2K     \u001b[90m━━━━━━━━━━━━━━━━━━━━━━━━━━━━━━━━━━━━━━━━\u001b[0m \u001b[32m5.4/5.4 MB\u001b[0m \u001b[31m15.8 MB/s\u001b[0m eta \u001b[36m0:00:00\u001b[0m\n",
            "\u001b[?25hCollecting cftime (from netCDF4)\n",
            "  Downloading cftime-1.6.2-cp310-cp310-manylinux_2_17_x86_64.manylinux2014_x86_64.whl (1.2 MB)\n",
            "\u001b[2K     \u001b[90m━━━━━━━━━━━━━━━━━━━━━━━━━━━━━━━━━━━━━━━━\u001b[0m \u001b[32m1.2/1.2 MB\u001b[0m \u001b[31m32.6 MB/s\u001b[0m eta \u001b[36m0:00:00\u001b[0m\n",
            "\u001b[?25hRequirement already satisfied: certifi in /usr/local/lib/python3.10/dist-packages (from netCDF4) (2023.7.22)\n",
            "Requirement already satisfied: numpy in /usr/local/lib/python3.10/dist-packages (from netCDF4) (1.23.5)\n",
            "Installing collected packages: cftime, netCDF4\n",
            "Successfully installed cftime-1.6.2 netCDF4-1.6.4\n"
          ]
        }
      ],
      "source": [
        "!pip install netCDF4"
      ]
    },
    {
      "cell_type": "code",
      "source": [
        "from google.colab import drive\n",
        "\n",
        "# Mounten Sie Ihr Google Drive-Konto\n",
        "drive.mount('/content/drive')"
      ],
      "metadata": {
        "colab": {
          "base_uri": "https://localhost:8080/"
        },
        "id": "h2_FeYPA_Mfq",
        "outputId": "6ab97a05-b068-4f07-8994-7e6d0ffad10c"
      },
      "execution_count": null,
      "outputs": [
        {
          "output_type": "stream",
          "name": "stdout",
          "text": [
            "Mounted at /content/drive\n"
          ]
        }
      ]
    },
    {
      "cell_type": "code",
      "source": [
        "# coordinates of the location\n",
        "latitude = 50.7\n",
        "longitude = 7.2\n",
        "# time is given in hours from 1.1.1900 00:00\n",
        "origin = datetime.datetime(1900, 1, 1, 0, 0, 0, 0)"
      ],
      "metadata": {
        "id": "WDT9g8r_LvX2"
      },
      "execution_count": null,
      "outputs": []
    },
    {
      "cell_type": "code",
      "source": [
        "import netCDF4 as nc\n",
        "import numpy as np"
      ],
      "metadata": {
        "id": "aIT9A4pzVh0d"
      },
      "execution_count": null,
      "outputs": []
    },
    {
      "cell_type": "code",
      "source": [
        "dateipfad_in_google_drive = '/content/drive/My Drive/Colab_Notebooks/netCDF4_Wetterdaten/levtype_sfc.nc'"
      ],
      "metadata": {
        "id": "pALUt9Lh_Q4Y"
      },
      "execution_count": null,
      "outputs": []
    },
    {
      "cell_type": "code",
      "source": [
        "netcdf_datei = nc.Dataset(dateipfad_in_google_drive, 'r')"
      ],
      "metadata": {
        "id": "LVVMJu5s_Rh3"
      },
      "execution_count": null,
      "outputs": []
    },
    {
      "cell_type": "code",
      "source": [
        "netcdf_datei"
      ],
      "metadata": {
        "colab": {
          "base_uri": "https://localhost:8080/"
        },
        "id": "4zq74A-g_oh2",
        "outputId": "2ef7f73c-7041-4bb9-bb2f-5f24f88217ad"
      },
      "execution_count": null,
      "outputs": [
        {
          "output_type": "execute_result",
          "data": {
            "text/plain": [
              "<class 'netCDF4._netCDF4.Dataset'>\n",
              "root group (NETCDF3_64BIT_OFFSET data model, file format NETCDF3):\n",
              "    Conventions: CF-1.6\n",
              "    history: 2023-09-27 16:01:47 GMT by grib_to_netcdf-2.25.1: /opt/ecmwf/mars-client/bin/grib_to_netcdf.bin -S param -o /cache/tmp/01a6a208-466d-4f3f-b543-4548666ebe19-adaptor.mars_constrained.external-1695830499.545562-4927-17-tmp.nc /cache/tmp/01a6a208-466d-4f3f-b543-4548666ebe19-adaptor.mars_constrained.external-1695830496.0147333-4927-15-tmp.grib\n",
              "    dimensions(sizes): longitude(1), latitude(1), time(720)\n",
              "    variables(dimensions): float32 longitude(longitude), float32 latitude(latitude), int32 time(time), int16 aod550(time, latitude, longitude), int16 aod670(time, latitude, longitude), int16 aod865(time, latitude, longitude), int16 gtco3(time, latitude, longitude), int16 uvbed(time, latitude, longitude), int16 uvbedcs(time, latitude, longitude), int16 aod469(time, latitude, longitude)\n",
              "    groups: "
            ]
          },
          "metadata": {},
          "execution_count": 24
        }
      ]
    },
    {
      "cell_type": "code",
      "source": [
        "latitudes = netcdf_datei.variables['latitude']\n",
        "longitudes = netcdf_datei.variables['longitude']\n",
        "time = netcdf_datei.variables['time']\n",
        "aod469 = netcdf_datei.variables['aod469']\n",
        "aod550 = netcdf_datei.variables['aod550']\n",
        "aod670 = netcdf_datei.variables['aod670']\n",
        "aod865 = netcdf_datei.variables['aod865']\n",
        "gtco3 = netcdf_datei.variables['gtco3']\n",
        "uvbed = netcdf_datei.variables['uvbed']\n",
        "uvbedcs = netcdf_datei.variables['uvbedcs']"
      ],
      "metadata": {
        "id": "WpEhJuiYGKJf"
      },
      "execution_count": null,
      "outputs": []
    },
    {
      "cell_type": "code",
      "source": [
        "# get the index of the nearest coordinates\n",
        "lat = netcdf_datei['latitude'][:]\n",
        "long = netcdf_datei['longitude'][:]"
      ],
      "metadata": {
        "id": "4pqAOfY6LoEk"
      },
      "execution_count": null,
      "outputs": []
    },
    {
      "cell_type": "code",
      "source": [
        "lat, long"
      ],
      "metadata": {
        "colab": {
          "base_uri": "https://localhost:8080/"
        },
        "id": "ekaQVwxPL9C9",
        "outputId": "4894c10d-60a4-4f5f-9786-f306edb2e84e"
      },
      "execution_count": null,
      "outputs": [
        {
          "output_type": "execute_result",
          "data": {
            "text/plain": [
              "(masked_array(data=[50.7],\n",
              "              mask=False,\n",
              "        fill_value=1e+20,\n",
              "             dtype=float32),\n",
              " masked_array(data=[7.1],\n",
              "              mask=False,\n",
              "        fill_value=1e+20,\n",
              "             dtype=float32))"
            ]
          },
          "metadata": {},
          "execution_count": 49
        }
      ]
    }
  ]
}