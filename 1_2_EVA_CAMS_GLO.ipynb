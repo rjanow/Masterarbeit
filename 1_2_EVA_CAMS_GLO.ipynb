{
  "nbformat": 4,
  "nbformat_minor": 0,
  "metadata": {
    "colab": {
      "provenance": [],
      "authorship_tag": "ABX9TyPhit1Y6eON1Q/+UoVtCaIZ",
      "include_colab_link": true
    },
    "kernelspec": {
      "name": "python3",
      "display_name": "Python 3"
    },
    "language_info": {
      "name": "python"
    }
  },
  "cells": [
    {
      "cell_type": "markdown",
      "metadata": {
        "id": "view-in-github",
        "colab_type": "text"
      },
      "source": [
        "<a href=\"https://colab.research.google.com/github/rjanow/Masterarbeit/blob/main/1_2_EVA_CAMS_GLO.ipynb\" target=\"_parent\"><img src=\"https://colab.research.google.com/assets/colab-badge.svg\" alt=\"Open In Colab\"/></a>"
      ]
    },
    {
      "cell_type": "markdown",
      "source": [
        "Verbinden mit der Google Drive und Import der benötigten Module:"
      ],
      "metadata": {
        "id": "uckxHAV2TCA4"
      }
    },
    {
      "cell_type": "code",
      "execution_count": 2,
      "metadata": {
        "colab": {
          "base_uri": "https://localhost:8080/"
        },
        "id": "GHS-Bzu1SA_n",
        "outputId": "8a9f6d06-443c-420d-c631-33341ae3f5ba"
      },
      "outputs": [
        {
          "output_type": "stream",
          "name": "stdout",
          "text": [
            "Mounted at /content/drive\n"
          ]
        }
      ],
      "source": [
        "# Verbinden mit der Google-Drive\n",
        "from google.colab import drive\n",
        "drive.mount('/content/drive')"
      ]
    },
    {
      "cell_type": "code",
      "source": [
        "import os, sys"
      ],
      "metadata": {
        "id": "TgZJLpXRTUjQ"
      },
      "execution_count": null,
      "outputs": []
    },
    {
      "cell_type": "code",
      "source": [
        "!pip install factor_analyzer\n",
        "!pip install prophet"
      ],
      "metadata": {
        "id": "oGI7vb8tTg0B"
      },
      "execution_count": null,
      "outputs": []
    },
    {
      "cell_type": "code",
      "source": [
        "## import modules\n",
        "\n",
        "import numpy as np\n",
        "import pandas as pd\n",
        "import matplotlib\n",
        "\n",
        "import seaborn as sns\n",
        "\n",
        "from datetime import datetime\n",
        "from datetime import timedelta"
      ],
      "metadata": {
        "id": "hl6J8SFpTkH8"
      },
      "execution_count": null,
      "outputs": []
    },
    {
      "cell_type": "code",
      "source": [
        "latitude = 50.2\n",
        "longitude = 7.8\n",
        "\n",
        "seconds_in_day = 24*60*60\n",
        "seconds_in_year = (365.2425)*seconds_in_day"
      ],
      "metadata": {
        "id": "_s-trb_CTnFz"
      },
      "execution_count": null,
      "outputs": []
    },
    {
      "cell_type": "code",
      "source": [
        "# Pfad zur CSV-Datei auf Google Drive\n",
        "# UVI Index Messwerte\n",
        "name_Messwerte = 'UVI_Messdaten.csv'\n",
        "# Globalstrahlungsmesswerte\n",
        "name_Solar_Messwerte = 'Solys_Messdaten.csv'\n",
        "# CAMS Meteorologische Vorhersagedaten\n",
        "name_Vorhersage = 'Vorhersage.csv'\n",
        "# CAMS Globalstrahlungsvorhersage\n",
        "name_GlobalVorhersage = 'Cams_solar_radiation.csv'\n",
        "\n",
        "drive_path = '/content/drive/My Drive/Colab_Notebooks/Clean_Data/'\n",
        "output_plot_path = '/content/drive/My Drive/Colab_Notebooks/plot_daily_UVI/'"
      ],
      "metadata": {
        "id": "NDktkvD1To81"
      },
      "execution_count": null,
      "outputs": []
    }
  ]
}