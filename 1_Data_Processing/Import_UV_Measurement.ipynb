{
  "nbformat": 4,
  "nbformat_minor": 0,
  "metadata": {
    "colab": {
      "provenance": [],
      "authorship_tag": "ABX9TyN2XpdV0fyitIv9nOQF2c4w",
      "include_colab_link": true
    },
    "kernelspec": {
      "name": "python3",
      "display_name": "Python 3"
    },
    "language_info": {
      "name": "python"
    }
  },
  "cells": [
    {
      "cell_type": "markdown",
      "metadata": {
        "id": "view-in-github",
        "colab_type": "text"
      },
      "source": [
        "<a href=\"https://colab.research.google.com/github/rjanow/Masterarbeit/blob/main/1_Data_processing_Import_UV_Measurement.ipynb\" target=\"_parent\"><img src=\"https://colab.research.google.com/assets/colab-badge.svg\" alt=\"Open In Colab\"/></a>"
      ]
    },
    {
      "cell_type": "markdown",
      "source": [],
      "metadata": {
        "id": "VbXcbReNyuop"
      }
    },
    {
      "cell_type": "markdown",
      "source": [
        "Import_UV_Measurement.ipynb\n",
        "\n",
        "In diesem Dokument werden die JSON-Dateien der Messstation eine CSV-Datei gespeichert.\n",
        "\n"
      ],
      "metadata": {
        "id": "_Euu6x1XyxGL"
      }
    },
    {
      "cell_type": "code",
      "source": [
        "# import der benötigten Module\n",
        "import os\n",
        "import json\n",
        "import datetime\n",
        "import pandas as pd\n",
        "import numpy as np\n",
        "\n",
        "from scipy.io import netcdf\n",
        "from datetime import timedelta"
      ],
      "metadata": {
        "id": "6GGZwyBJzVsp"
      },
      "execution_count": null,
      "outputs": []
    },
    {
      "cell_type": "code",
      "source": [
        "# Funktion für den JSON-Import\n",
        "def read_file(filename):\n",
        "    n = {}\n",
        "    with open(os.path.join(os.getcwd(), filename), 'r') as f:\n",
        "        data = f.read()\n",
        "    d = json.loads(data)\n",
        "    # convert POSIX time to CET (POSIX = UNIX-Time, Central Europe Time = UTC + 1)\n",
        "    for key, value in d.items():\n",
        "        if np.array(value).any():\n",
        "            n[datetime.datetime.fromtimestamp((int(key)/1000)).strftime(\n",
        "                '%d.%m.%Y %H:%M:%S')] = d[key]\n",
        "    return n"
      ],
      "metadata": {
        "id": "wjzbwwzbzsLG"
      },
      "execution_count": null,
      "outputs": []
    },
    {
      "cell_type": "code",
      "source": [
        "# Funktion um den UVI zu berechen\n",
        "def calc_uvi(wavelength, spec):\n",
        "    s_er = np.array(\n",
        "        [(lambda x: 1 if x <= 298 else (10**(0.094*(298.0-x)) if x <= 328\n",
        "                                        else 10**(0.015*(139.0-x))))(i)\n",
        "         for i in wavelength])\n",
        "\n",
        "    uvi = 40 * np.sum(np.array(spec) * s_er * 0.1)\n",
        "    # uvi = 40 * uvi_temp.sum()\n",
        "\n",
        "    return uvi"
      ],
      "metadata": {
        "id": "Ww1CdXbAz2Q3"
      },
      "execution_count": null,
      "outputs": []
    },
    {
      "cell_type": "markdown",
      "source": [
        "Im folgenden Abschnitt werden die..."
      ],
      "metadata": {
        "id": "soC9m4O90W6E"
      }
    },
    {
      "cell_type": "code",
      "source": [
        "# Lesen der Json-Datei\n",
        "month = 'Oktober'\n",
        "data = read_file(filename=f'CouchdbJsonDump{month}.json')"
      ],
      "metadata": {
        "id": "erjjgZ6-0QDy"
      },
      "execution_count": null,
      "outputs": []
    }
  ]
}
