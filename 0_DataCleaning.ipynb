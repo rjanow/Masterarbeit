{
  "nbformat": 4,
  "nbformat_minor": 0,
  "metadata": {
    "colab": {
      "provenance": [],
      "authorship_tag": "ABX9TyPaxnQP/vmu2LfNIk/7eDRR",
      "include_colab_link": true
    },
    "kernelspec": {
      "name": "python3",
      "display_name": "Python 3"
    },
    "language_info": {
      "name": "python"
    }
  },
  "cells": [
    {
      "cell_type": "markdown",
      "metadata": {
        "id": "view-in-github",
        "colab_type": "text"
      },
      "source": [
        "<a href=\"https://colab.research.google.com/github/rjanow/Masterarbeit/blob/main/0_DataCleaning.ipynb\" target=\"_parent\"><img src=\"https://colab.research.google.com/assets/colab-badge.svg\" alt=\"Open In Colab\"/></a>"
      ]
    },
    {
      "cell_type": "markdown",
      "source": [
        "# Predicting UVI with LSTMs\n",
        "\n",
        "[Notebook 0: Data Cleaning](./0_DataCleaning.ipynb)\n",
        "\n",
        "[Notebook 1: EDA](./1_EDA_and_Cleaning.ipynb)\n",
        "\n",
        "[Notebook 2: Modeling and Predictions](./2_Modeling_and_Predictions.ipynb)\n",
        "\n",
        "[Notebook 3: Technical Report](./3_Technical_Report.ipynb)"
      ],
      "metadata": {
        "id": "Pya7NE9rw_L7"
      }
    },
    {
      "cell_type": "markdown",
      "source": [
        "## Allgemeine Einstellungen:"
      ],
      "metadata": {
        "id": "XyGPXUGTlUJn"
      }
    },
    {
      "cell_type": "code",
      "source": [
        "# Installation der pvlib um den Sonnenstandswinkel zu berechnen\n",
        "pip install pvlib"
      ],
      "metadata": {
        "id": "sZo5aGbp6Qzv",
        "outputId": "905afb89-732b-4ef3-f7a4-2be47508ef79",
        "colab": {
          "base_uri": "https://localhost:8080/"
        }
      },
      "execution_count": 1,
      "outputs": [
        {
          "output_type": "stream",
          "name": "stdout",
          "text": [
            "Collecting pvlib\n",
            "  Downloading pvlib-0.10.2-py3-none-any.whl (29.5 MB)\n",
            "\u001b[2K     \u001b[90m━━━━━━━━━━━━━━━━━━━━━━━━━━━━━━━━━━━━━━━━\u001b[0m \u001b[32m29.5/29.5 MB\u001b[0m \u001b[31m39.7 MB/s\u001b[0m eta \u001b[36m0:00:00\u001b[0m\n",
            "\u001b[?25hRequirement already satisfied: numpy>=1.16.0 in /usr/local/lib/python3.10/dist-packages (from pvlib) (1.23.5)\n",
            "Requirement already satisfied: pandas>=0.25.0 in /usr/local/lib/python3.10/dist-packages (from pvlib) (1.5.3)\n",
            "Requirement already satisfied: pytz in /usr/local/lib/python3.10/dist-packages (from pvlib) (2023.3.post1)\n",
            "Requirement already satisfied: requests in /usr/local/lib/python3.10/dist-packages (from pvlib) (2.31.0)\n",
            "Requirement already satisfied: scipy>=1.4.0 in /usr/local/lib/python3.10/dist-packages (from pvlib) (1.11.4)\n",
            "Requirement already satisfied: h5py in /usr/local/lib/python3.10/dist-packages (from pvlib) (3.9.0)\n",
            "Requirement already satisfied: python-dateutil>=2.8.1 in /usr/local/lib/python3.10/dist-packages (from pandas>=0.25.0->pvlib) (2.8.2)\n",
            "Requirement already satisfied: charset-normalizer<4,>=2 in /usr/local/lib/python3.10/dist-packages (from requests->pvlib) (3.3.2)\n",
            "Requirement already satisfied: idna<4,>=2.5 in /usr/local/lib/python3.10/dist-packages (from requests->pvlib) (3.6)\n",
            "Requirement already satisfied: urllib3<3,>=1.21.1 in /usr/local/lib/python3.10/dist-packages (from requests->pvlib) (2.0.7)\n",
            "Requirement already satisfied: certifi>=2017.4.17 in /usr/local/lib/python3.10/dist-packages (from requests->pvlib) (2023.11.17)\n",
            "Requirement already satisfied: six>=1.5 in /usr/local/lib/python3.10/dist-packages (from python-dateutil>=2.8.1->pandas>=0.25.0->pvlib) (1.16.0)\n",
            "Installing collected packages: pvlib\n",
            "Successfully installed pvlib-0.10.2\n"
          ]
        }
      ]
    },
    {
      "cell_type": "markdown",
      "source": [
        "In deiesem Notebook werden die aufgezeichenten UVI-Messungen weiter verarbeitet und für das Training vorbereitet.\n",
        "\n",
        "\n",
        "- Einlesen der UVI-Werte\n",
        "- Ersetzen von fehlenden Messwerten\n",
        "\n",
        "- Einlesen der weiteren Inputwerte\n",
        "- EDA (exploratory data analysis)"
      ],
      "metadata": {
        "id": "CT_W0-FVw943"
      }
    },
    {
      "cell_type": "code",
      "source": [
        "# Verbinden mit der Google-Drive\n",
        "from google.colab import drive\n",
        "drive.mount('/content/drive')"
      ],
      "metadata": {
        "id": "1SZflPUFXQMy",
        "colab": {
          "base_uri": "https://localhost:8080/"
        },
        "outputId": "ccbb3f53-0877-43b0-82d6-a4da66394a2e"
      },
      "execution_count": 2,
      "outputs": [
        {
          "output_type": "stream",
          "name": "stdout",
          "text": [
            "Mounted at /content/drive\n"
          ]
        }
      ]
    },
    {
      "cell_type": "code",
      "source": [
        "# import der benötigten Module\n",
        "\n",
        "import numpy as np\n",
        "import pandas as pd\n",
        "import matplotlib.pyplot as plt\n",
        "import matplotlib.dates as mdates\n",
        "import pvlib\n",
        "\n",
        "from datetime import datetime\n",
        "from datetime import timedelta\n",
        "\n",
        "import matplotlib\n",
        "import seaborn as sns"
      ],
      "metadata": {
        "id": "PkdOG-2sz6ni"
      },
      "execution_count": 3,
      "outputs": []
    },
    {
      "cell_type": "code",
      "source": [
        "# Standort der Messstaion für die Berechnung des Sonnenstandswinkel\n",
        "latitude = 50.8\n",
        "longitude = 7.2\n",
        "\n",
        "# Angaben um das Datum und die Uhrzeit in Sin und Cos zu codieren\n",
        "seconds_in_day = 24*60*60\n",
        "seconds_in_year = (365.2425)*seconds_in_day"
      ],
      "metadata": {
        "id": "shv1JklsbKRR"
      },
      "execution_count": 4,
      "outputs": []
    },
    {
      "cell_type": "code",
      "source": [
        "# Pfad zu den Messwerten / Vorhersagewerten und dem Speicherort auf Google Drive\n",
        "drive_path = '/content/drive/My Drive/Colab_Notebooks/CSV_UVI/'\n",
        "pickle_path = '/content/drive/My Drive/Colab_Notebooks/CAMS_Vorhersage/'\n",
        "save_folder = '/content/drive/My Drive/Colab_Notebooks/Clean_Data/'"
      ],
      "metadata": {
        "id": "9Y0wG7A1TZGS"
      },
      "execution_count": 5,
      "outputs": []
    },
    {
      "cell_type": "markdown",
      "source": [
        "## Import der UVI-Messdaten:\n",
        "\n",
        "Die Messdaten sind in CSV-Dateien gespeichert, diese müssen importiert werden."
      ],
      "metadata": {
        "id": "xQ--fkAQ0mTI"
      }
    },
    {
      "cell_type": "code",
      "source": [
        "## Code zum Import der Messdaten\n",
        "file_list = ['22.06', '22.07', '22.08', '22.09', '22.10', '22.11', '22.12', '23.01', '23.02', '23.03', '23.04', '23.05', '23.07', '23.08']  # Hier wird angegeben, welche Monate importiert werden sollen\n",
        "dataframes = []\n",
        "df_UVI_combined = []\n",
        "\n",
        "for filename in file_list:\n",
        "    file_path = drive_path + filename\n",
        "    df_import = pd.read_csv(file_path)\n",
        "    dataframes.append(df_import)\n",
        "\n",
        "df_UVI_combined = pd.concat(dataframes, ignore_index=True)\n",
        "df_UVI_combined['Datetime'] = pd.to_datetime(df_UVI_combined['Datetime'])"
      ],
      "metadata": {
        "id": "oBIFSSvi1Dox"
      },
      "execution_count": 6,
      "outputs": []
    },
    {
      "cell_type": "code",
      "source": [
        "# Dataframe ausgeben\n",
        "df_UVI_combined.fillna(0)"
      ],
      "metadata": {
        "id": "1zmKoxHXuzVp",
        "outputId": "8f56cdaa-3b7c-42fc-9fb1-a6d44ab15f9f",
        "colab": {
          "base_uri": "https://localhost:8080/",
          "height": 424
        }
      },
      "execution_count": 7,
      "outputs": [
        {
          "output_type": "execute_result",
          "data": {
            "text/plain": [
              "        Messzeitpunkt   Uhrzeit       Datum            Datetime   erythem  \\\n",
              "0               26460  07:21:00  2022-06-15 2022-06-15 07:21:00  0.060209   \n",
              "1               26580  07:23:00  2022-06-15 2022-06-15 07:23:00  0.061560   \n",
              "2               26700  07:25:00  2022-06-15 2022-06-15 07:25:00  0.061976   \n",
              "3               26820  07:27:00  2022-06-15 2022-06-15 07:27:00  0.063588   \n",
              "4               26940  07:29:00  2022-06-15 2022-06-15 07:29:00  0.064412   \n",
              "...               ...       ...         ...                 ...       ...   \n",
              "107933          32640  09:04:00  2023-05-26 2023-05-26 09:04:00  0.117537   \n",
              "107934          32760  09:06:00  2023-05-26 2023-05-26 09:06:00  0.118624   \n",
              "107935          32880  09:08:00  2023-05-26 2023-05-26 09:08:00  0.094757   \n",
              "107936          33000  09:10:00  2023-05-26 2023-05-26 09:10:00  0.000000   \n",
              "107937          33120  09:12:00  2023-05-26 2023-05-26 09:12:00  0.000000   \n",
              "\n",
              "             UVI  \n",
              "0       2.408378  \n",
              "1       2.462381  \n",
              "2       2.479048  \n",
              "3       2.543531  \n",
              "4       2.576485  \n",
              "...          ...  \n",
              "107933  4.701465  \n",
              "107934  4.744953  \n",
              "107935  3.790279  \n",
              "107936  0.000000  \n",
              "107937  0.000000  \n",
              "\n",
              "[107938 rows x 6 columns]"
            ],
            "text/html": [
              "\n",
              "  <div id=\"df-ed342e4a-7260-4844-9234-0ef9475506a0\" class=\"colab-df-container\">\n",
              "    <div>\n",
              "<style scoped>\n",
              "    .dataframe tbody tr th:only-of-type {\n",
              "        vertical-align: middle;\n",
              "    }\n",
              "\n",
              "    .dataframe tbody tr th {\n",
              "        vertical-align: top;\n",
              "    }\n",
              "\n",
              "    .dataframe thead th {\n",
              "        text-align: right;\n",
              "    }\n",
              "</style>\n",
              "<table border=\"1\" class=\"dataframe\">\n",
              "  <thead>\n",
              "    <tr style=\"text-align: right;\">\n",
              "      <th></th>\n",
              "      <th>Messzeitpunkt</th>\n",
              "      <th>Uhrzeit</th>\n",
              "      <th>Datum</th>\n",
              "      <th>Datetime</th>\n",
              "      <th>erythem</th>\n",
              "      <th>UVI</th>\n",
              "    </tr>\n",
              "  </thead>\n",
              "  <tbody>\n",
              "    <tr>\n",
              "      <th>0</th>\n",
              "      <td>26460</td>\n",
              "      <td>07:21:00</td>\n",
              "      <td>2022-06-15</td>\n",
              "      <td>2022-06-15 07:21:00</td>\n",
              "      <td>0.060209</td>\n",
              "      <td>2.408378</td>\n",
              "    </tr>\n",
              "    <tr>\n",
              "      <th>1</th>\n",
              "      <td>26580</td>\n",
              "      <td>07:23:00</td>\n",
              "      <td>2022-06-15</td>\n",
              "      <td>2022-06-15 07:23:00</td>\n",
              "      <td>0.061560</td>\n",
              "      <td>2.462381</td>\n",
              "    </tr>\n",
              "    <tr>\n",
              "      <th>2</th>\n",
              "      <td>26700</td>\n",
              "      <td>07:25:00</td>\n",
              "      <td>2022-06-15</td>\n",
              "      <td>2022-06-15 07:25:00</td>\n",
              "      <td>0.061976</td>\n",
              "      <td>2.479048</td>\n",
              "    </tr>\n",
              "    <tr>\n",
              "      <th>3</th>\n",
              "      <td>26820</td>\n",
              "      <td>07:27:00</td>\n",
              "      <td>2022-06-15</td>\n",
              "      <td>2022-06-15 07:27:00</td>\n",
              "      <td>0.063588</td>\n",
              "      <td>2.543531</td>\n",
              "    </tr>\n",
              "    <tr>\n",
              "      <th>4</th>\n",
              "      <td>26940</td>\n",
              "      <td>07:29:00</td>\n",
              "      <td>2022-06-15</td>\n",
              "      <td>2022-06-15 07:29:00</td>\n",
              "      <td>0.064412</td>\n",
              "      <td>2.576485</td>\n",
              "    </tr>\n",
              "    <tr>\n",
              "      <th>...</th>\n",
              "      <td>...</td>\n",
              "      <td>...</td>\n",
              "      <td>...</td>\n",
              "      <td>...</td>\n",
              "      <td>...</td>\n",
              "      <td>...</td>\n",
              "    </tr>\n",
              "    <tr>\n",
              "      <th>107933</th>\n",
              "      <td>32640</td>\n",
              "      <td>09:04:00</td>\n",
              "      <td>2023-05-26</td>\n",
              "      <td>2023-05-26 09:04:00</td>\n",
              "      <td>0.117537</td>\n",
              "      <td>4.701465</td>\n",
              "    </tr>\n",
              "    <tr>\n",
              "      <th>107934</th>\n",
              "      <td>32760</td>\n",
              "      <td>09:06:00</td>\n",
              "      <td>2023-05-26</td>\n",
              "      <td>2023-05-26 09:06:00</td>\n",
              "      <td>0.118624</td>\n",
              "      <td>4.744953</td>\n",
              "    </tr>\n",
              "    <tr>\n",
              "      <th>107935</th>\n",
              "      <td>32880</td>\n",
              "      <td>09:08:00</td>\n",
              "      <td>2023-05-26</td>\n",
              "      <td>2023-05-26 09:08:00</td>\n",
              "      <td>0.094757</td>\n",
              "      <td>3.790279</td>\n",
              "    </tr>\n",
              "    <tr>\n",
              "      <th>107936</th>\n",
              "      <td>33000</td>\n",
              "      <td>09:10:00</td>\n",
              "      <td>2023-05-26</td>\n",
              "      <td>2023-05-26 09:10:00</td>\n",
              "      <td>0.000000</td>\n",
              "      <td>0.000000</td>\n",
              "    </tr>\n",
              "    <tr>\n",
              "      <th>107937</th>\n",
              "      <td>33120</td>\n",
              "      <td>09:12:00</td>\n",
              "      <td>2023-05-26</td>\n",
              "      <td>2023-05-26 09:12:00</td>\n",
              "      <td>0.000000</td>\n",
              "      <td>0.000000</td>\n",
              "    </tr>\n",
              "  </tbody>\n",
              "</table>\n",
              "<p>107938 rows × 6 columns</p>\n",
              "</div>\n",
              "    <div class=\"colab-df-buttons\">\n",
              "\n",
              "  <div class=\"colab-df-container\">\n",
              "    <button class=\"colab-df-convert\" onclick=\"convertToInteractive('df-ed342e4a-7260-4844-9234-0ef9475506a0')\"\n",
              "            title=\"Convert this dataframe to an interactive table.\"\n",
              "            style=\"display:none;\">\n",
              "\n",
              "  <svg xmlns=\"http://www.w3.org/2000/svg\" height=\"24px\" viewBox=\"0 -960 960 960\">\n",
              "    <path d=\"M120-120v-720h720v720H120Zm60-500h600v-160H180v160Zm220 220h160v-160H400v160Zm0 220h160v-160H400v160ZM180-400h160v-160H180v160Zm440 0h160v-160H620v160ZM180-180h160v-160H180v160Zm440 0h160v-160H620v160Z\"/>\n",
              "  </svg>\n",
              "    </button>\n",
              "\n",
              "  <style>\n",
              "    .colab-df-container {\n",
              "      display:flex;\n",
              "      gap: 12px;\n",
              "    }\n",
              "\n",
              "    .colab-df-convert {\n",
              "      background-color: #E8F0FE;\n",
              "      border: none;\n",
              "      border-radius: 50%;\n",
              "      cursor: pointer;\n",
              "      display: none;\n",
              "      fill: #1967D2;\n",
              "      height: 32px;\n",
              "      padding: 0 0 0 0;\n",
              "      width: 32px;\n",
              "    }\n",
              "\n",
              "    .colab-df-convert:hover {\n",
              "      background-color: #E2EBFA;\n",
              "      box-shadow: 0px 1px 2px rgba(60, 64, 67, 0.3), 0px 1px 3px 1px rgba(60, 64, 67, 0.15);\n",
              "      fill: #174EA6;\n",
              "    }\n",
              "\n",
              "    .colab-df-buttons div {\n",
              "      margin-bottom: 4px;\n",
              "    }\n",
              "\n",
              "    [theme=dark] .colab-df-convert {\n",
              "      background-color: #3B4455;\n",
              "      fill: #D2E3FC;\n",
              "    }\n",
              "\n",
              "    [theme=dark] .colab-df-convert:hover {\n",
              "      background-color: #434B5C;\n",
              "      box-shadow: 0px 1px 3px 1px rgba(0, 0, 0, 0.15);\n",
              "      filter: drop-shadow(0px 1px 2px rgba(0, 0, 0, 0.3));\n",
              "      fill: #FFFFFF;\n",
              "    }\n",
              "  </style>\n",
              "\n",
              "    <script>\n",
              "      const buttonEl =\n",
              "        document.querySelector('#df-ed342e4a-7260-4844-9234-0ef9475506a0 button.colab-df-convert');\n",
              "      buttonEl.style.display =\n",
              "        google.colab.kernel.accessAllowed ? 'block' : 'none';\n",
              "\n",
              "      async function convertToInteractive(key) {\n",
              "        const element = document.querySelector('#df-ed342e4a-7260-4844-9234-0ef9475506a0');\n",
              "        const dataTable =\n",
              "          await google.colab.kernel.invokeFunction('convertToInteractive',\n",
              "                                                    [key], {});\n",
              "        if (!dataTable) return;\n",
              "\n",
              "        const docLinkHtml = 'Like what you see? Visit the ' +\n",
              "          '<a target=\"_blank\" href=https://colab.research.google.com/notebooks/data_table.ipynb>data table notebook</a>'\n",
              "          + ' to learn more about interactive tables.';\n",
              "        element.innerHTML = '';\n",
              "        dataTable['output_type'] = 'display_data';\n",
              "        await google.colab.output.renderOutput(dataTable, element);\n",
              "        const docLink = document.createElement('div');\n",
              "        docLink.innerHTML = docLinkHtml;\n",
              "        element.appendChild(docLink);\n",
              "      }\n",
              "    </script>\n",
              "  </div>\n",
              "\n",
              "\n",
              "<div id=\"df-4040222e-2502-4f40-a62e-c8b4037ce10f\">\n",
              "  <button class=\"colab-df-quickchart\" onclick=\"quickchart('df-4040222e-2502-4f40-a62e-c8b4037ce10f')\"\n",
              "            title=\"Suggest charts\"\n",
              "            style=\"display:none;\">\n",
              "\n",
              "<svg xmlns=\"http://www.w3.org/2000/svg\" height=\"24px\"viewBox=\"0 0 24 24\"\n",
              "     width=\"24px\">\n",
              "    <g>\n",
              "        <path d=\"M19 3H5c-1.1 0-2 .9-2 2v14c0 1.1.9 2 2 2h14c1.1 0 2-.9 2-2V5c0-1.1-.9-2-2-2zM9 17H7v-7h2v7zm4 0h-2V7h2v10zm4 0h-2v-4h2v4z\"/>\n",
              "    </g>\n",
              "</svg>\n",
              "  </button>\n",
              "\n",
              "<style>\n",
              "  .colab-df-quickchart {\n",
              "      --bg-color: #E8F0FE;\n",
              "      --fill-color: #1967D2;\n",
              "      --hover-bg-color: #E2EBFA;\n",
              "      --hover-fill-color: #174EA6;\n",
              "      --disabled-fill-color: #AAA;\n",
              "      --disabled-bg-color: #DDD;\n",
              "  }\n",
              "\n",
              "  [theme=dark] .colab-df-quickchart {\n",
              "      --bg-color: #3B4455;\n",
              "      --fill-color: #D2E3FC;\n",
              "      --hover-bg-color: #434B5C;\n",
              "      --hover-fill-color: #FFFFFF;\n",
              "      --disabled-bg-color: #3B4455;\n",
              "      --disabled-fill-color: #666;\n",
              "  }\n",
              "\n",
              "  .colab-df-quickchart {\n",
              "    background-color: var(--bg-color);\n",
              "    border: none;\n",
              "    border-radius: 50%;\n",
              "    cursor: pointer;\n",
              "    display: none;\n",
              "    fill: var(--fill-color);\n",
              "    height: 32px;\n",
              "    padding: 0;\n",
              "    width: 32px;\n",
              "  }\n",
              "\n",
              "  .colab-df-quickchart:hover {\n",
              "    background-color: var(--hover-bg-color);\n",
              "    box-shadow: 0 1px 2px rgba(60, 64, 67, 0.3), 0 1px 3px 1px rgba(60, 64, 67, 0.15);\n",
              "    fill: var(--button-hover-fill-color);\n",
              "  }\n",
              "\n",
              "  .colab-df-quickchart-complete:disabled,\n",
              "  .colab-df-quickchart-complete:disabled:hover {\n",
              "    background-color: var(--disabled-bg-color);\n",
              "    fill: var(--disabled-fill-color);\n",
              "    box-shadow: none;\n",
              "  }\n",
              "\n",
              "  .colab-df-spinner {\n",
              "    border: 2px solid var(--fill-color);\n",
              "    border-color: transparent;\n",
              "    border-bottom-color: var(--fill-color);\n",
              "    animation:\n",
              "      spin 1s steps(1) infinite;\n",
              "  }\n",
              "\n",
              "  @keyframes spin {\n",
              "    0% {\n",
              "      border-color: transparent;\n",
              "      border-bottom-color: var(--fill-color);\n",
              "      border-left-color: var(--fill-color);\n",
              "    }\n",
              "    20% {\n",
              "      border-color: transparent;\n",
              "      border-left-color: var(--fill-color);\n",
              "      border-top-color: var(--fill-color);\n",
              "    }\n",
              "    30% {\n",
              "      border-color: transparent;\n",
              "      border-left-color: var(--fill-color);\n",
              "      border-top-color: var(--fill-color);\n",
              "      border-right-color: var(--fill-color);\n",
              "    }\n",
              "    40% {\n",
              "      border-color: transparent;\n",
              "      border-right-color: var(--fill-color);\n",
              "      border-top-color: var(--fill-color);\n",
              "    }\n",
              "    60% {\n",
              "      border-color: transparent;\n",
              "      border-right-color: var(--fill-color);\n",
              "    }\n",
              "    80% {\n",
              "      border-color: transparent;\n",
              "      border-right-color: var(--fill-color);\n",
              "      border-bottom-color: var(--fill-color);\n",
              "    }\n",
              "    90% {\n",
              "      border-color: transparent;\n",
              "      border-bottom-color: var(--fill-color);\n",
              "    }\n",
              "  }\n",
              "</style>\n",
              "\n",
              "  <script>\n",
              "    async function quickchart(key) {\n",
              "      const quickchartButtonEl =\n",
              "        document.querySelector('#' + key + ' button');\n",
              "      quickchartButtonEl.disabled = true;  // To prevent multiple clicks.\n",
              "      quickchartButtonEl.classList.add('colab-df-spinner');\n",
              "      try {\n",
              "        const charts = await google.colab.kernel.invokeFunction(\n",
              "            'suggestCharts', [key], {});\n",
              "      } catch (error) {\n",
              "        console.error('Error during call to suggestCharts:', error);\n",
              "      }\n",
              "      quickchartButtonEl.classList.remove('colab-df-spinner');\n",
              "      quickchartButtonEl.classList.add('colab-df-quickchart-complete');\n",
              "    }\n",
              "    (() => {\n",
              "      let quickchartButtonEl =\n",
              "        document.querySelector('#df-4040222e-2502-4f40-a62e-c8b4037ce10f button');\n",
              "      quickchartButtonEl.style.display =\n",
              "        google.colab.kernel.accessAllowed ? 'block' : 'none';\n",
              "    })();\n",
              "  </script>\n",
              "</div>\n",
              "    </div>\n",
              "  </div>\n"
            ]
          },
          "metadata": {},
          "execution_count": 7
        }
      ]
    },
    {
      "cell_type": "markdown",
      "source": [
        "## Bereinigen der Messdaten\n",
        "\n",
        "Hier wird erklärt, was zum Bereinigen der Messdaten getan werden muss.\n",
        "\n",
        "- Fehlende Messtage müssen ersetzt werden:\n",
        "  - Prüfen, ob die Messwerte zusammenhängen.\n",
        "  - Hinzufügen neuer Zeilen, falls die Messwerte nicht zusammen Hängen."
      ],
      "metadata": {
        "id": "D0HkvdeS1C2o"
      }
    },
    {
      "cell_type": "markdown",
      "source": [
        "**Hier wird geprüft, ob die Messwerte zusammenhängend sind:**"
      ],
      "metadata": {
        "id": "_3NzWoAvWWlw"
      }
    },
    {
      "cell_type": "code",
      "source": [
        "def insert_missing_rows(df):\n",
        "    # Sortieren des DataFrame nach 'Datetime'\n",
        "    df.sort_values(by='Datetime', inplace=True)\n",
        "\n",
        "    # Initialisieren einer Liste, um die Zeilen mit fehlenden Daten einzufügen\n",
        "    rows_to_insert = []\n",
        "\n",
        "    # Gruppieren des DataFrame nach 'Datum'\n",
        "    grouped = df.groupby('Datum')\n",
        "\n",
        "    for date, group in grouped:\n",
        "        # Sortieren der Gruppe nach 'Datetime'\n",
        "        group.sort_values(by='Datetime', inplace=True)\n",
        "\n",
        "        for i in range(1, len(group)):\n",
        "            current_time = group.iloc[i]['Datetime']\n",
        "            prev_time = group.iloc[i - 1]['Datetime']\n",
        "            time_diff = current_time - prev_time\n",
        "\n",
        "            if time_diff > timedelta(minutes=2):\n",
        "                while prev_time + timedelta(minutes=2) < current_time:\n",
        "                    prev_time += timedelta(minutes=2)\n",
        "                    new_row = {\n",
        "                        'Datetime': prev_time,\n",
        "                        'Datum': date,\n",
        "                        'Uhrzeit': prev_time.time(),\n",
        "                        'Messzeitpunkt': (prev_time - prev_time.replace(hour=0, minute=0, second=0, microsecond=0)).total_seconds(),\n",
        "                        'erythem': 0,\n",
        "                        'UVI': 0,\n",
        "                        'DiffGreater2': 1,\n",
        "                    }\n",
        "                    rows_to_insert.append(new_row)\n",
        "\n",
        "    # Einfügen der fehlenden Zeilen in einen DataFrame\n",
        "    if rows_to_insert:\n",
        "        df = df.append(rows_to_insert, ignore_index=True)\n",
        "\n",
        "    # Sortieren des DataFrame nach 'Datetime'\n",
        "    df.sort_values(by='Datetime', inplace=True)\n",
        "    df = df.reset_index(drop = True)\n",
        "    df['DiffGreater2'] = df['DiffGreater2'].fillna(0)\n",
        "\n",
        "    return df"
      ],
      "metadata": {
        "id": "WRBAj8ZtBLVF"
      },
      "execution_count": 8,
      "outputs": []
    },
    {
      "cell_type": "code",
      "source": [
        "df_UVI_WRows = pd.DataFrame()\n",
        "df_UVI_WRows = insert_missing_rows(df_UVI_combined)"
      ],
      "metadata": {
        "id": "rqr4oMiBFyCu",
        "outputId": "1f9e5486-86c3-400d-eb38-77be32dfa155",
        "colab": {
          "base_uri": "https://localhost:8080/"
        }
      },
      "execution_count": 9,
      "outputs": [
        {
          "output_type": "stream",
          "name": "stderr",
          "text": [
            "<ipython-input-8-a09571970f8b>:36: FutureWarning: The frame.append method is deprecated and will be removed from pandas in a future version. Use pandas.concat instead.\n",
            "  df = df.append(rows_to_insert, ignore_index=True)\n"
          ]
        }
      ]
    },
    {
      "cell_type": "markdown",
      "source": [
        "## Sonnenstandswinkel hinzufügen"
      ],
      "metadata": {
        "id": "vZRrJ5IvZZi1"
      }
    },
    {
      "cell_type": "code",
      "source": [
        "def calculate_solar_zenith_angle(dataframe, date_column, latitude, longitude, altitude=0):\n",
        "\n",
        "    # Kopiere das ursprüngliche DataFrame, um es nicht zu ändern.\n",
        "    result_df = dataframe.copy()\n",
        "\n",
        "    # Konvertiere die Datumsspalte in einen datetime-Datentyp, falls sie es nicht bereits ist.\n",
        "    if not pd.api.types.is_datetime64_any_dtype(dataframe[date_column]):\n",
        "        result_df[date_column] = pd.to_datetime(dataframe[date_column])\n",
        "\n",
        "    # Iteriere über die Zeilen des DataFrames und berechne den Solarzenitwinkel für jedes Datum.\n",
        "    solar_zenith_angles = []\n",
        "    for date in result_df[date_column]:\n",
        "        solar_position = pvlib.solarposition.get_solarposition(date, latitude, longitude, altitude)\n",
        "        solar_zenith_angle = solar_position['zenith'].values[0]\n",
        "        solar_zenith_angles.append(solar_zenith_angle)\n",
        "\n",
        "    # Füge die berechneten Solarzenitwinkel dem DataFrame hinzu.\n",
        "    result_df['SZA'] = solar_zenith_angles\n",
        "\n",
        "    return result_df"
      ],
      "metadata": {
        "id": "HAPp0JwnZfZ2"
      },
      "execution_count": 10,
      "outputs": []
    },
    {
      "cell_type": "code",
      "source": [
        "df_UVI_WRows_SZ = pd.DataFrame()\n",
        "df_UVI_WRows_SZ = calculate_solar_zenith_angle(df_UVI_WRows, 'Datetime', latitude, longitude)"
      ],
      "metadata": {
        "id": "SflssDZzZ3FR"
      },
      "execution_count": 11,
      "outputs": []
    },
    {
      "cell_type": "markdown",
      "source": [
        "## Zeit und Datum in Sin und Cos codieren\n",
        "- Cyclical Encoding der Messzeit als Sinus und Cosinus"
      ],
      "metadata": {
        "id": "hO9In_g6XMGp"
      }
    },
    {
      "cell_type": "code",
      "source": [
        "def calculate_date_in_sine_cosine(dataframe, day, year):\n",
        "\n",
        "    result_df = dataframe.copy()\n",
        "\n",
        "    result_df['time_sin'] = np.sin(2*np.pi*result_df['Messzeitpunkt']/day)\n",
        "    result_df['time_cos'] = np.cos(2*np.pi*result_df['Messzeitpunkt']/day)\n",
        "    result_df['date_sin'] = np.sin((2*np.pi*result_df['Datetime'].dt.dayofyear * 24 * 60 * 60 + result_df['Datetime'].dt.hour * 60 * 60 + result_df['Datetime'].dt.minute * 60) / year)\n",
        "    result_df['date_cos'] = np.cos((2*np.pi*result_df['Datetime'].dt.dayofyear * 24 * 60 * 60 + result_df['Datetime'].dt.hour * 60 * 60 + result_df['Datetime'].dt.minute * 60) / year)\n",
        "\n",
        "    return result_df"
      ],
      "metadata": {
        "id": "AYaxsEifXX_h"
      },
      "execution_count": 12,
      "outputs": []
    },
    {
      "cell_type": "code",
      "source": [
        "df_UVI_SZ_SC = calculate_date_in_sine_cosine(df_UVI_WRows_SZ, seconds_in_day, seconds_in_year)"
      ],
      "metadata": {
        "id": "t7OSPXlHwbwu"
      },
      "execution_count": 13,
      "outputs": []
    },
    {
      "cell_type": "markdown",
      "source": [
        "## Erstellen einer Liste mit Stunden an denen es Messwerte gibt:"
      ],
      "metadata": {
        "id": "puBlU4G34r6n"
      }
    },
    {
      "cell_type": "code",
      "source": [
        "# Herausschreiben des Datums und der Stunde aus den Messdaten um im Folgeden nur die relevanten Vorhersagedaten auszuwählen\n",
        "df_UVI_SZ_SC['Date'] = df_UVI_SZ_SC['Datetime'].dt.date\n",
        "df_UVI_SZ_SC['Hour'] = df_UVI_SZ_SC['Datetime'].dt.hour"
      ],
      "metadata": {
        "id": "r2gGQHzM4z5L"
      },
      "execution_count": 14,
      "outputs": []
    },
    {
      "cell_type": "code",
      "source": [
        "df_date_std = df_UVI_SZ_SC.groupby(['Date', 'Hour']).size().reset_index(name='Count')"
      ],
      "metadata": {
        "id": "mGKWHPUr5XzO"
      },
      "execution_count": 15,
      "outputs": []
    },
    {
      "cell_type": "code",
      "source": [
        "df_date_std['Datetime'] = pd.to_datetime(df_date_std['Date'].astype(str) + ' ' + df_date_std['Hour'].astype(str) + ':00:00')"
      ],
      "metadata": {
        "id": "TdQYu9hO5WIf"
      },
      "execution_count": 16,
      "outputs": []
    },
    {
      "cell_type": "code",
      "source": [
        "df_date_std.set_index('Datetime', inplace=True)"
      ],
      "metadata": {
        "id": "e7MUFEcC7UFz"
      },
      "execution_count": 17,
      "outputs": []
    },
    {
      "cell_type": "markdown",
      "source": [
        "## Import der Vorhersagedaten und löschen nicht gebrauchter Einträge:"
      ],
      "metadata": {
        "id": "4fZwJA-GTByt"
      }
    },
    {
      "cell_type": "code",
      "source": [
        "dateiname = 'CSV_Cams_std'\n",
        "df_cams_std = pd.read_csv(pickle_path + dateiname)\n",
        "df_cams_std['Datetime'] = pd.to_datetime(df_cams_std['Datetime'])"
      ],
      "metadata": {
        "id": "5pzdBLEuqsSy"
      },
      "execution_count": 18,
      "outputs": []
    },
    {
      "cell_type": "code",
      "source": [
        "# Datetime als Index festlegen\n",
        "df_cams_std.set_index('Datetime', inplace=True)"
      ],
      "metadata": {
        "id": "B4uNPvoBTkhR"
      },
      "execution_count": 19,
      "outputs": []
    },
    {
      "cell_type": "code",
      "source": [
        "# Löschen aller nicht relevanten Einträge\n",
        "df_cams_std = df_cams_std[df_cams_std.index.isin(df_date_std.index)]"
      ],
      "metadata": {
        "id": "J_vSdZXXvOU6"
      },
      "execution_count": 20,
      "outputs": []
    },
    {
      "cell_type": "markdown",
      "source": [
        "## Abspeichern des DataFrames als CSV"
      ],
      "metadata": {
        "id": "fgusUV49Sv8-"
      }
    },
    {
      "cell_type": "code",
      "source": [
        "df_UVI_SZ_SC.isnull().sum()"
      ],
      "metadata": {
        "id": "4WO7uXJFsPlP",
        "outputId": "f9dd97b5-a436-428d-d602-a04a7201e47e",
        "colab": {
          "base_uri": "https://localhost:8080/"
        }
      },
      "execution_count": 21,
      "outputs": [
        {
          "output_type": "execute_result",
          "data": {
            "text/plain": [
              "Messzeitpunkt    0\n",
              "Uhrzeit          0\n",
              "Datum            0\n",
              "Datetime         0\n",
              "erythem          2\n",
              "UVI              2\n",
              "DiffGreater2     0\n",
              "SZA              0\n",
              "time_sin         0\n",
              "time_cos         0\n",
              "date_sin         0\n",
              "date_cos         0\n",
              "Date             0\n",
              "Hour             0\n",
              "dtype: int64"
            ]
          },
          "metadata": {},
          "execution_count": 21
        }
      ]
    },
    {
      "cell_type": "code",
      "source": [
        "# Irradiance metrics over time\n",
        "df_UVI_SZ_SC[['UVI']].plot()\n",
        "plt.title('UVI über die Zeit');"
      ],
      "metadata": {
        "id": "yQVN-oWMjof_",
        "outputId": "03099375-66ae-45a7-fbd4-42194250f32a",
        "colab": {
          "base_uri": "https://localhost:8080/",
          "height": 452
        }
      },
      "execution_count": 22,
      "outputs": [
        {
          "output_type": "display_data",
          "data": {
            "text/plain": [
              "<Figure size 640x480 with 1 Axes>"
            ],
            "image/png": "[encoded data removed]"
          },
          "metadata": {}
        }
      ]
    },
    {
      "cell_type": "code",
      "source": [
        "def export_dataframes_to_csv(df1, df2, file1_name, file2_name, folder_name):\n",
        "\n",
        "    try:\n",
        "        # Exportiere den ersten DataFrame in eine CSV-Datei\n",
        "        df1.to_csv(folder_name + file1_name)\n",
        "        print(f'DataFrame 1 wurde erfolgreich in \"{file1_name}\" exportiert.')\n",
        "\n",
        "        # Exportiere den zweiten DataFrame in eine CSV-Datei\n",
        "        df2.to_csv(folder_name + file2_name)\n",
        "        print(f'DataFrame 2 wurde erfolgreich in \"{file2_name}\" exportiert.')\n",
        "\n",
        "    except Exception as e:\n",
        "        print(f'Fehler beim Export der DataFrames: {str(e)}')"
      ],
      "metadata": {
        "id": "BvYSzsdmqjtc"
      },
      "execution_count": 23,
      "outputs": []
    },
    {
      "cell_type": "code",
      "source": [
        "export_dataframes_to_csv(df_UVI_SZ_SC, df_cams_std, 'Messdaten.csv', 'Vorhersage.csv', save_folder)"
      ],
      "metadata": {
        "id": "VwaVNp7B4fxv",
        "outputId": "1cc9d2c2-45c5-46ea-e2ed-7f5d3bb2c4af",
        "colab": {
          "base_uri": "https://localhost:8080/"
        }
      },
      "execution_count": 24,
      "outputs": [
        {
          "output_type": "stream",
          "name": "stdout",
          "text": [
            "DataFrame 1 wurde erfolgreich in \"Messdaten.csv\" exportiert.\n",
            "DataFrame 2 wurde erfolgreich in \"Vorhersage.csv\" exportiert.\n"
          ]
        }
      ]
    }
  ]
}