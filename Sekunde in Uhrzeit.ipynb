{
  "nbformat": 4,
  "nbformat_minor": 0,
  "metadata": {
    "colab": {
      "provenance": [],
      "authorship_tag": "ABX9TyNE02fzwC9iesHMeZ4Tr+wn",
      "include_colab_link": true
    },
    "kernelspec": {
      "name": "python3",
      "display_name": "Python 3"
    },
    "language_info": {
      "name": "python"
    }
  },
  "cells": [
    {
      "cell_type": "markdown",
      "metadata": {
        "id": "view-in-github",
        "colab_type": "text"
      },
      "source": [
        "<a href=\"https://colab.research.google.com/github/rjanow/Masterarbeit/blob/main/Sekunde%20in%20Uhrzeit.ipynb\" target=\"_parent\"><img src=\"https://colab.research.google.com/assets/colab-badge.svg\" alt=\"Open In Colab\"/></a>"
      ]
    },
    {
      "cell_type": "code",
      "execution_count": 2,
      "metadata": {
        "id": "JO-ayqTnSmJ6"
      },
      "outputs": [],
      "source": [
        "def seconds_to_time(seconds):\n",
        "    hours = seconds // 3600\n",
        "    minutes = (seconds % 3600) // 60\n",
        "    seconds = seconds % 60\n",
        "\n",
        "    return f\"{hours:02d}:{minutes:02d}:{seconds:02d}\""
      ]
    },
    {
      "cell_type": "code",
      "source": [
        "total_seconds = 10000\n",
        "\n",
        "time_string = seconds_to_time(total_seconds)\n",
        "print(time_string)"
      ],
      "metadata": {
        "colab": {
          "base_uri": "https://localhost:8080/"
        },
        "id": "jQwkE1t7Snt0",
        "outputId": "cbaa8fd3-1969-4391-81c0-f8af04d01ae8"
      },
      "execution_count": 3,
      "outputs": [
        {
          "output_type": "stream",
          "name": "stdout",
          "text": [
            "02:46:40\n"
          ]
        }
      ]
    },
    {
      "cell_type": "code",
      "source": [
        "def seconds_to_time(time_seconds):\n",
        "    hours = []\n",
        "    minutes = []\n",
        "    seconds = []\n",
        "\n",
        "    for i, sec in enumerate(time_seconds):\n",
        "        hours.append(int(sec) // 3600)\n",
        "        minutes.append((int(sec) % 3600) // 60)\n",
        "        seconds.append(int(sec) % 60)\n",
        "\n",
        "    return hours, minutes, seconds\n",
        "\n",
        "# Beispielaufruf mit einer Liste von Sekundenwerten\n",
        "package = ['3661', '7200', '18000']\n",
        "hours, minutes, seconds = seconds_to_time(package)\n",
        "\n",
        "# Ausgabe der umgerechneten Zeiten\n",
        "for i in range(len(package)):\n",
        "    print(\"Datenpaket\", i+1)\n",
        "    print(\"Stunden:\", hours[i])\n",
        "    print(\"Minuten:\", minutes[i])\n",
        "    print(\"Sekunden:\", seconds[i])\n",
        "    print()"
      ],
      "metadata": {
        "colab": {
          "base_uri": "https://localhost:8080/"
        },
        "id": "w2x01xIARKhh",
        "outputId": "0a120fd2-1ef1-46f6-81a6-cb6951783278"
      },
      "execution_count": 1,
      "outputs": [
        {
          "output_type": "stream",
          "name": "stdout",
          "text": [
            "Datenpaket 1\n",
            "Stunden: 1\n",
            "Minuten: 1\n",
            "Sekunden: 1\n",
            "\n",
            "Datenpaket 2\n",
            "Stunden: 2\n",
            "Minuten: 0\n",
            "Sekunden: 0\n",
            "\n",
            "Datenpaket 3\n",
            "Stunden: 5\n",
            "Minuten: 0\n",
            "Sekunden: 0\n",
            "\n"
          ]
        }
      ]
    }
  ]
}