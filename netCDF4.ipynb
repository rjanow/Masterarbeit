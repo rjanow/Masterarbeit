{
  "nbformat": 4,
  "nbformat_minor": 0,
  "metadata": {
    "colab": {
      "provenance": [],
      "authorship_tag": "ABX9TyP8jsCHc5CVshj4O9Nlm9wr",
      "include_colab_link": true
    },
    "kernelspec": {
      "name": "python3",
      "display_name": "Python 3"
    },
    "language_info": {
      "name": "python"
    }
  },
  "cells": [
    {
      "cell_type": "markdown",
      "metadata": {
        "id": "view-in-github",
        "colab_type": "text"
      },
      "source": [
        "<a href=\"https://colab.research.google.com/github/rjanow/Masterarbeit/blob/main/netCDF4.ipynb\" target=\"_parent\"><img src=\"https://colab.research.google.com/assets/colab-badge.svg\" alt=\"Open In Colab\"/></a>"
      ]
    },
    {
      "cell_type": "markdown",
      "source": [
        "# Script um die netCDF4 Vorhersagewerte in einen Dataframe abzuspeichern"
      ],
      "metadata": {
        "id": "i2B2OHrSGmDT"
      }
    },
    {
      "cell_type": "code",
      "execution_count": 19,
      "metadata": {
        "colab": {
          "base_uri": "https://localhost:8080/"
        },
        "id": "-s8BHga-2vKo",
        "outputId": "1da17b34-509d-40bb-da30-8c245c9b1607"
      },
      "outputs": [
        {
          "output_type": "stream",
          "name": "stdout",
          "text": [
            "Requirement already satisfied: netCDF4 in /usr/local/lib/python3.10/dist-packages (1.6.4)\n",
            "Requirement already satisfied: cftime in /usr/local/lib/python3.10/dist-packages (from netCDF4) (1.6.2)\n",
            "Requirement already satisfied: certifi in /usr/local/lib/python3.10/dist-packages (from netCDF4) (2023.7.22)\n",
            "Requirement already satisfied: numpy in /usr/local/lib/python3.10/dist-packages (from netCDF4) (1.23.5)\n"
          ]
        }
      ],
      "source": [
        "!pip install netCDF4"
      ]
    },
    {
      "cell_type": "code",
      "source": [
        "from google.colab import drive\n",
        "\n",
        "# Mounten Sie Ihr Google Drive-Konto\n",
        "drive.mount('/content/drive')"
      ],
      "metadata": {
        "colab": {
          "base_uri": "https://localhost:8080/"
        },
        "id": "h2_FeYPA_Mfq",
        "outputId": "eacd439a-8997-4fff-d295-26c422538268"
      },
      "execution_count": 20,
      "outputs": [
        {
          "output_type": "stream",
          "name": "stdout",
          "text": [
            "Drive already mounted at /content/drive; to attempt to forcibly remount, call drive.mount(\"/content/drive\", force_remount=True).\n"
          ]
        }
      ]
    },
    {
      "cell_type": "code",
      "source": [
        "# Import der benötigten Module\n",
        "import os\n",
        "import netCDF4 as nc\n",
        "import numpy as np\n",
        "import pandas as pd\n",
        "import datetime\n",
        "import matplotlib.pyplot as plt"
      ],
      "metadata": {
        "id": "aIT9A4pzVh0d"
      },
      "execution_count": 39,
      "outputs": []
    },
    {
      "cell_type": "code",
      "source": [
        "# coordinates of the location\n",
        "latitude = 50.7\n",
        "longitude = 7.2\n",
        "# time is given in hours from 1.1.1900 00:00\n",
        "origin = datetime.datetime(1900, 1, 1, 0, 0, 0, 0)\n",
        "# Monat der Vorhersage\n",
        "dateiname = 'CSV_Cams'"
      ],
      "metadata": {
        "id": "WDT9g8r_LvX2"
      },
      "execution_count": 42,
      "outputs": []
    },
    {
      "cell_type": "code",
      "source": [
        "# Dateipfad der Vorhersagewerte in der Google-Drive\n",
        "dateipfad_in_google_drive = '/content/drive/My Drive/Colab_Notebooks/netCDF4_Wetterdaten/levtype_sfc.nc'"
      ],
      "metadata": {
        "id": "pALUt9Lh_Q4Y"
      },
      "execution_count": 23,
      "outputs": []
    },
    {
      "cell_type": "code",
      "source": [
        "# Import der Vorhersagewerte\n",
        "cams_netcdf = nc.Dataset(dateipfad_in_google_drive, 'r')"
      ],
      "metadata": {
        "id": "LVVMJu5s_Rh3"
      },
      "execution_count": 24,
      "outputs": []
    },
    {
      "cell_type": "code",
      "source": [
        "# Zuordnen der Variabeln zu entsprechenden NP-Arrays\n",
        "# fehlende Werte werden durch NaN Werte ersetzt, das mehrdimensionale Array wird zu einem eindimensonalen formatiert\n",
        "latitudes = cams_netcdf.variables['latitude'][0]\n",
        "longitudes = cams_netcdf.variables['longitude'][0]\n",
        "time = cams_netcdf.variables['time'][:].filled(np.nan)\n",
        "aod469 = cams_netcdf.variables['aod469'][:].filled(np.nan).reshape(-2)\n",
        "aod550 = cams_netcdf.variables['aod550'][:].filled(np.nan).reshape(-2)\n",
        "aod670 = cams_netcdf.variables['aod670'][:].filled(np.nan).reshape(-2)\n",
        "aod865 = cams_netcdf.variables['aod865'][:].filled(np.nan).reshape(-2)\n",
        "gtco3 = cams_netcdf.variables['gtco3'][:].filled(np.nan).reshape(-2)\n",
        "uvbed = cams_netcdf.variables['uvbed'][:].filled(np.nan).reshape(-2)\n",
        "uvbedcs = cams_netcdf.variables['uvbedcs'][:].filled(np.nan).reshape(-2)"
      ],
      "metadata": {
        "id": "WpEhJuiYGKJf"
      },
      "execution_count": 25,
      "outputs": []
    },
    {
      "cell_type": "code",
      "source": [
        "# richtige Datetime berechen\n",
        "datetime = np.array([origin + datetime.timedelta(hours=int(i)) for i in time])"
      ],
      "metadata": {
        "id": "V8Sfh_WRC5pi"
      },
      "execution_count": 26,
      "outputs": []
    },
    {
      "cell_type": "code",
      "source": [
        "# Zuorden der NP-Arrays in einen Dataframe\n",
        "df_cams = pd.DataFrame({'time': datetime, 'aod469': aod469, 'aod550': aod550,'aod670': aod670,'aod865': aod865,'aod865': gtco3,'uvbed': uvbed,'uvbedcs': uvbedcs,})"
      ],
      "metadata": {
        "id": "tggfH_Un_F_f"
      },
      "execution_count": 27,
      "outputs": []
    },
    {
      "cell_type": "code",
      "source": [
        "# Index des DF setzen\n",
        "df_cams.set_index('time', inplace=True)"
      ],
      "metadata": {
        "id": "EqRlKYcOCayt"
      },
      "execution_count": 28,
      "outputs": []
    },
    {
      "cell_type": "code",
      "source": [
        "# Resampling der Zeitreihe auf 2 Min. und interpolation der fehlenden Messwerte\n",
        "df_cams_resampled = df_cams.resample('2T')\n",
        "df_cams_interpolated = df_cams_resampled.interpolate(method='polynomial', order = 1)"
      ],
      "metadata": {
        "id": "ZZC3q3n-IUv_"
      },
      "execution_count": 31,
      "outputs": []
    },
    {
      "cell_type": "code",
      "source": [
        "# Plotten eines Tages mit 2 Min. Auflösung und mit 1 Std. Auflösung\n",
        "fig, axes = plt.subplots(1, 2, figsize=(10, 4))\n",
        "\n",
        "axes[0].plot(df_cams_interpolated['aod865'][0:700])\n",
        "axes[1].plot(df_cams['aod865'][0:25])"
      ],
      "metadata": {
        "colab": {
          "base_uri": "https://localhost:8080/",
          "height": 385
        },
        "id": "DqHr-ig8O_O3",
        "outputId": "2187ae8e-34bd-4998-df7f-cd5320712200"
      },
      "execution_count": 32,
      "outputs": [
        {
          "output_type": "execute_result",
          "data": {
            "text/plain": [
              "[<matplotlib.lines.Line2D at 0x7bb41eda7550>]"
            ]
          },
          "metadata": {},
          "execution_count": 32
        },
        {
          "output_type": "display_data",
          "data": {
            "text/plain": [
              "<Figure size 1000x400 with 2 Axes>"
            ],
            "image/png": "[encoded data removed]"
          },
          "metadata": {}
        }
      ]
    },
    {
      "cell_type": "code",
      "source": [
        "def save_dataframe_to_drive(dataframe, folder_path, filename):\n",
        "\n",
        "    # Erstelle den vollen Pfad zur Datei\n",
        "    full_path = os.path.join(folder_path, filename)\n",
        "\n",
        "    # Speichere den DataFrame als CSV-Datei auf Google Drive\n",
        "    dataframe.to_csv(full_path, index=False)\n",
        "\n",
        "    print(f'Der DataFrame wurde als {filename} in {folder_path} auf Google Drive gespeichert.')"
      ],
      "metadata": {
        "id": "38Mwi6sJDihp"
      },
      "execution_count": 43,
      "outputs": []
    },
    {
      "cell_type": "code",
      "source": [
        "# Abspeichern des konvertierten DF als CSV\n",
        "save_dataframe_to_drive(df_cams_interpolated, '/content/drive/My Drive/Colab_Notebooks/CSV_Vorhersage', dateiname)"
      ],
      "metadata": {
        "id": "d7XCZUzEDAz3",
        "colab": {
          "base_uri": "https://localhost:8080/"
        },
        "outputId": "e85ed6d7-13bd-4466-d474-164f801ee506"
      },
      "execution_count": 44,
      "outputs": [
        {
          "output_type": "stream",
          "name": "stdout",
          "text": [
            "Der DataFrame wurde als CSV_Cams in /content/drive/My Drive/Colab_Notebooks/CSV_Vorhersage auf Google Drive gespeichert.\n"
          ]
        }
      ]
    }
  ]
}