{
  "nbformat": 4,
  "nbformat_minor": 0,
  "metadata": {
    "colab": {
      "provenance": [],
      "authorship_tag": "ABX9TyMDL4mfXHttd/vv3YtbpyDO",
      "include_colab_link": true
    },
    "kernelspec": {
      "name": "python3",
      "display_name": "Python 3"
    },
    "language_info": {
      "name": "python"
    }
  },
  "cells": [
    {
      "cell_type": "markdown",
      "metadata": {
        "id": "view-in-github",
        "colab_type": "text"
      },
      "source": [
        "<a href=\"https://colab.research.google.com/github/rjanow/Masterarbeit/blob/main/UV_Measurement_to_CSV.ipynb\" target=\"_parent\"><img src=\"https://colab.research.google.com/assets/colab-badge.svg\" alt=\"Open In Colab\"/></a>"
      ]
    },
    {
      "cell_type": "markdown",
      "source": [
        "**Hier werden die Rohdaten des BTS2048-UV-WP in eine nutzbare CSV-Datei geschrieben**"
      ],
      "metadata": {
        "id": "VbXcbReNyuop"
      }
    },
    {
      "cell_type": "markdown",
      "source": [
        "Dokumentenname: Import_UV_Measurement.ipynb\n",
        "\n",
        "Es werden die OR0-Daten (NasaAmes-Format), die eigentlich für den Versand an das BFS gedacht sind umgewandelt und in eine CSV-Datei geschrieben."
      ],
      "metadata": {
        "id": "_Euu6x1XyxGL"
      }
    },
    {
      "cell_type": "code",
      "source": [
        "# Import der benötigten Module\n",
        "import os, sys\n",
        "import glob\n",
        "import json\n",
        "import datetime\n",
        "import pandas as pd\n",
        "import numpy as np\n",
        "import csv\n",
        "import re\n",
        "\n",
        "from scipy.io import netcdf\n",
        "from datetime import timedelta\n",
        "from datetime import datetime\n",
        "\n",
        "from google.colab import drive\n",
        "from google.colab import files"
      ],
      "metadata": {
        "id": "6GGZwyBJzVsp"
      },
      "execution_count": 1,
      "outputs": []
    },
    {
      "cell_type": "markdown",
      "source": [
        "Zu Beginn muss die Google-Drive eingerichtet werden, in der die Messdaten (OR0-Dateien) gespeichert sind. Danach werden alle verfügbaren Unterordner aufgerufen. So wird geprüft, ob der Mount richtig funktioniert hat."
      ],
      "metadata": {
        "id": "EKAQlrHyWWIP"
      }
    },
    {
      "cell_type": "code",
      "source": [
        "drive.mount('/content/drive')\n",
        "\n",
        "drive_path = '/content/drive/MyDrive'\n",
        "# Durchsuche den Google Drive-Pfad\n",
        "for root, dirs, files in os.walk(drive_path):\n",
        "    for dir in dirs:\n",
        "        # Gib den Namen des Unterordners aus\n",
        "        print(os.path.join(root, dir))"
      ],
      "metadata": {
        "colab": {
          "base_uri": "https://localhost:8080/"
        },
        "id": "T_iN54-sVUVL",
        "outputId": "109db5a9-1d87-45d5-c116-3c1359d635a5"
      },
      "execution_count": 18,
      "outputs": [
        {
          "output_type": "stream",
          "name": "stdout",
          "text": [
            "Mounted at /content/drive\n",
            "/content/drive/MyDrive/Colab_Notebooks\n",
            "/content/drive/MyDrive/Colab_Notebooks/CSV_Messdaten\n",
            "/content/drive/MyDrive/Colab_Notebooks/CouchDB File\n",
            "/content/drive/MyDrive/Colab_Notebooks/NasaAmes_Messdaten\n",
            "/content/drive/MyDrive/Colab_Notebooks/NasaAmes_Messdaten/Data\n"
          ]
        }
      ]
    },
    {
      "cell_type": "markdown",
      "source": [
        "Danach werden die einzelnen OR0-Dateien (NasaAmes Format) geladen und umgewandelt.\n",
        "\n",
        "Das NasaAmes Format: https://espoarchive.nasa.gov/content/Ames_Format_Specification_v20\n",
        "\n",
        "Die Messdaten sind unter dem FFI (File Format Index) 2005 gespeichert. Dieser Standard ist durch die Nasa nicht dokumentiert. Deshalb nachfolgend ein eigener Parser, der die Daten in eine nutzbare CSV umwandelt."
      ],
      "metadata": {
        "id": "ZRL9H_KEZpgG"
      }
    },
    {
      "cell_type": "markdown",
      "source": [
        "**Umwandeln einer Datei...**\n",
        "\n",
        "- **lines** = enthält die OR0-Datei in Zeilen aufgeteilt\n",
        "- **header** = Enthält den Dateikopf\n",
        "- **end_line_header** = enthält die Zeile an dem der Header endet"
      ],
      "metadata": {
        "id": "TI_gn6B6_qGL"
      }
    },
    {
      "cell_type": "markdown",
      "source": [
        "**Dateien einlesen:**"
      ],
      "metadata": {
        "id": "7_mIBaD2FwwZ"
      }
    },
    {
      "cell_type": "code",
      "source": [
        "# Pfad zum Ordner mit den Dateien in Google Drive\n",
        "folder_path = '/content/drive/MyDrive/Colab_Notebooks/NasaAmes_Messdaten/Data'\n",
        "\n",
        "# OR0-Dateien im Ordner lesen\n",
        "file_paths = glob.glob(folder_path + '/*.OR0')\n",
        "\n",
        "# Liste für die Dateinamen erstellen\n",
        "file_names = []\n",
        "\n",
        "# Schleife über die Dateien\n",
        "for file_path in file_paths:\n",
        "\n",
        "    if os.path.getsize(file_path) > 100 * 1024:\n",
        "      # Dateiname extrahieren\n",
        "      file_name = os.path.splitext(os.path.basename(file_path))[0]\n",
        "\n",
        "      # Datei öffnen und Inhalt lesen\n",
        "      with open(file_path, 'r') as file:\n",
        "          file_content = file.read()\n",
        "\n",
        "      # Variable für die Datei erstellen\n",
        "      globals()[file_name] = file_content\n",
        "\n",
        "      file_names.append(file_name)"
      ],
      "metadata": {
        "id": "LJXRx3MKM8L1"
      },
      "execution_count": 4,
      "outputs": []
    },
    {
      "cell_type": "code",
      "source": [
        "print(file_names)"
      ],
      "metadata": {
        "id": "79U8aYImoj-J",
        "outputId": "fae7d38a-150b-4012-f6d9-c42f3744ffb0",
        "colab": {
          "base_uri": "https://localhost:8080/"
        }
      },
      "execution_count": 5,
      "outputs": [
        {
          "output_type": "stream",
          "name": "stdout",
          "text": [
            "[]\n"
          ]
        }
      ]
    },
    {
      "cell_type": "markdown",
      "source": [
        "**String aufteilen in einzelne Zeile schreiben:**"
      ],
      "metadata": {
        "id": "P4FUkD2Lua3i"
      }
    },
    {
      "cell_type": "code",
      "source": [
        "file_variables = {}  # Dictionary für die Variablen erstellen\n",
        "\n",
        "for file_name in file_names:\n",
        "    file_content = globals()[file_name]\n",
        "    file_variables[file_name] = file_content\n",
        "\n",
        "# Auf Variablen zugreifen und String in Zeilen aufteilen\n",
        "for file_name, variable in file_variables.items():\n",
        "    file_variables[file_name] = file_variables[file_name].split('\\n')"
      ],
      "metadata": {
        "id": "JxBOhrPFQIYc",
        "outputId": "f415bbbd-1f0e-4b47-b0a1-96dedb530a16",
        "colab": {
          "base_uri": "https://localhost:8080/",
          "height": 235
        }
      },
      "execution_count": 9,
      "outputs": [
        {
          "output_type": "error",
          "ename": "NameError",
          "evalue": "ignored",
          "traceback": [
            "\u001b[0;31m---------------------------------------------------------------------------\u001b[0m",
            "\u001b[0;31mNameError\u001b[0m                                 Traceback (most recent call last)",
            "\u001b[0;32m<ipython-input-9-7b5befddacb2>\u001b[0m in \u001b[0;36m<cell line: 3>\u001b[0;34m()\u001b[0m\n\u001b[1;32m      1\u001b[0m \u001b[0mfile_variables\u001b[0m \u001b[0;34m=\u001b[0m \u001b[0;34m{\u001b[0m\u001b[0;34m}\u001b[0m  \u001b[0;31m# Dictionary für die Variablen erstellen\u001b[0m\u001b[0;34m\u001b[0m\u001b[0;34m\u001b[0m\u001b[0m\n\u001b[1;32m      2\u001b[0m \u001b[0;34m\u001b[0m\u001b[0m\n\u001b[0;32m----> 3\u001b[0;31m \u001b[0;32mfor\u001b[0m \u001b[0mfile_name\u001b[0m \u001b[0;32min\u001b[0m \u001b[0mfile_names\u001b[0m\u001b[0;34m:\u001b[0m\u001b[0;34m\u001b[0m\u001b[0;34m\u001b[0m\u001b[0m\n\u001b[0m\u001b[1;32m      4\u001b[0m     \u001b[0mfile_content\u001b[0m \u001b[0;34m=\u001b[0m \u001b[0mglobals\u001b[0m\u001b[0;34m(\u001b[0m\u001b[0;34m)\u001b[0m\u001b[0;34m[\u001b[0m\u001b[0mfile_name\u001b[0m\u001b[0;34m]\u001b[0m\u001b[0;34m\u001b[0m\u001b[0;34m\u001b[0m\u001b[0m\n\u001b[1;32m      5\u001b[0m     \u001b[0mfile_variables\u001b[0m\u001b[0;34m[\u001b[0m\u001b[0mfile_name\u001b[0m\u001b[0;34m]\u001b[0m \u001b[0;34m=\u001b[0m \u001b[0mfile_content\u001b[0m\u001b[0;34m\u001b[0m\u001b[0;34m\u001b[0m\u001b[0m\n",
            "\u001b[0;31mNameError\u001b[0m: name 'file_names' is not defined"
          ]
        }
      ]
    },
    {
      "cell_type": "code",
      "source": [
        "# die ersten 10 File Namen ausgeben und die ersten 20 Zeilen der ersten Datei\n",
        "print(file_names[:10])\n",
        "file_variables['SA220615'][:20]"
      ],
      "metadata": {
        "colab": {
          "base_uri": "https://localhost:8080/",
          "height": 200
        },
        "id": "39IUSb11vuGi",
        "outputId": "32e9e4cc-f720-4c55-d3d5-d1ab66257e60"
      },
      "execution_count": 10,
      "outputs": [
        {
          "output_type": "error",
          "ename": "NameError",
          "evalue": "ignored",
          "traceback": [
            "\u001b[0;31m---------------------------------------------------------------------------\u001b[0m",
            "\u001b[0;31mNameError\u001b[0m                                 Traceback (most recent call last)",
            "\u001b[0;32m<ipython-input-10-d8a8e1e395b5>\u001b[0m in \u001b[0;36m<cell line: 2>\u001b[0;34m()\u001b[0m\n\u001b[1;32m      1\u001b[0m \u001b[0;31m# die ersten 10 File Namen ausgeben und die ersten 20 Zeilen der ersten Datei\u001b[0m\u001b[0;34m\u001b[0m\u001b[0;34m\u001b[0m\u001b[0m\n\u001b[0;32m----> 2\u001b[0;31m \u001b[0mprint\u001b[0m\u001b[0;34m(\u001b[0m\u001b[0mfile_names\u001b[0m\u001b[0;34m[\u001b[0m\u001b[0;34m:\u001b[0m\u001b[0;36m10\u001b[0m\u001b[0;34m]\u001b[0m\u001b[0;34m)\u001b[0m\u001b[0;34m\u001b[0m\u001b[0;34m\u001b[0m\u001b[0m\n\u001b[0m\u001b[1;32m      3\u001b[0m \u001b[0mfile_variables\u001b[0m\u001b[0;34m[\u001b[0m\u001b[0;34m'SA220615'\u001b[0m\u001b[0;34m]\u001b[0m\u001b[0;34m[\u001b[0m\u001b[0;34m:\u001b[0m\u001b[0;36m20\u001b[0m\u001b[0;34m]\u001b[0m\u001b[0;34m\u001b[0m\u001b[0;34m\u001b[0m\u001b[0m\n",
            "\u001b[0;31mNameError\u001b[0m: name 'file_names' is not defined"
          ]
        }
      ]
    },
    {
      "cell_type": "markdown",
      "source": [
        "**Header extrahieren:**"
      ],
      "metadata": {
        "id": "AaUuqtlgK2Qq"
      }
    },
    {
      "cell_type": "code",
      "source": [
        "# Funktion um den Dateiheader zu extrahieren\n",
        "def extract_header(dataset):\n",
        "    header_content = \"\"\n",
        "    end_line_header = None\n",
        "\n",
        "    for i, line in enumerate(dataset):\n",
        "        header_content += line + \"\\n\"\n",
        "        if line.strip() == \"Pyranometer: readout interval [secs]=5\":\n",
        "            end_line_header = i\n",
        "            break\n",
        "\n",
        "\n",
        "    return header_content, end_line_header"
      ],
      "metadata": {
        "id": "YQTw-OjYPUkp"
      },
      "execution_count": 22,
      "outputs": []
    },
    {
      "cell_type": "code",
      "source": [
        "new_dict = {file_name: None for file_name in file_names}"
      ],
      "metadata": {
        "id": "HJpasS1MMspW"
      },
      "execution_count": 23,
      "outputs": []
    },
    {
      "cell_type": "code",
      "source": [
        "def perform_action(file_variables, file_names):\n",
        "    header_dict = {file_name: \"\" for file_name in file_names}\n",
        "\n",
        "    for file_name, data in file_variables.items():\n",
        "        for i, line in enumerate(data):\n",
        "            header_dict[file_name] += line + \"\\n\"\n",
        "            if line.strip() == \"Pyranometer: readout interval [secs]=5\":\n",
        "                end_line_header_fnc = i\n",
        "                break\n",
        "\n",
        "    return header_dict, end_line_header_fnc"
      ],
      "metadata": {
        "id": "rBjd_Y6lEw80"
      },
      "execution_count": 24,
      "outputs": []
    },
    {
      "cell_type": "code",
      "source": [
        "file_header, end_line_header = perform_action(file_variables, file_names)"
      ],
      "metadata": {
        "id": "nUdv6oMbE2-q"
      },
      "execution_count": 25,
      "outputs": []
    },
    {
      "cell_type": "markdown",
      "source": [
        "**Dataframe mit Wellenlängen erstellen:**"
      ],
      "metadata": {
        "id": "4sWE034DaFBt"
      }
    },
    {
      "cell_type": "code",
      "source": [
        "def create_df_Wellenlaenge(start, end, step):\n",
        "    # Erstelle eine Liste mit den gewünschten Werten\n",
        "    numbers_list = [round(num, 3) for num in list(np.arange(start, end + step, step))]\n",
        "    # Erstelle den Dataframe\n",
        "    df = pd.DataFrame({'Wellenlaenge': numbers_list})\n",
        "\n",
        "    return df"
      ],
      "metadata": {
        "id": "vR4lB-9hAJZ6"
      },
      "execution_count": 26,
      "outputs": []
    },
    {
      "cell_type": "code",
      "source": [
        "np_Wellenlaenge = np.round(np.arange(290.0, 420.05, 0.1), decimals = 1)\n",
        "df_Wellenlaenge = pd.DataFrame({'Wellenlaenge': np_Wellenlaenge})"
      ],
      "metadata": {
        "id": "ke6b38SlA3B1"
      },
      "execution_count": 27,
      "outputs": []
    },
    {
      "cell_type": "markdown",
      "source": [
        "**Nach Datum in Header suchen:**"
      ],
      "metadata": {
        "id": "OTl6cJnMLlVd"
      }
    },
    {
      "cell_type": "code",
      "source": [
        "def extract_dates_from_dict(dictionary):\n",
        "    dates = {}\n",
        "\n",
        "    for key, value in dictionary.items():\n",
        "        header_content = value  # Annahme: Der Wert im Dictionary enthält den Header-Inhalt\n",
        "        header_split = header_content.split('\\n')\n",
        "        print(header_split[6])\n",
        "        date_line = header_split[6].split()\n",
        "        # print(date_line)\n",
        "        start_date = \"-\".join(date_line[:3])\n",
        "        end_date = \"-\".join(date_line[3:])\n",
        "        # print(start_date)\n",
        "\n",
        "        if start_date == end_date:\n",
        "            date_object = datetime.strptime(start_date, \"%Y-%m-%d\")\n",
        "            dates[key] = date_object\n",
        "        else:\n",
        "            dates[key] = \"Error: Start and end dates are not the same\"\n",
        "            print(\"Error: Start and end dates are not the same\")\n",
        "\n",
        "    return dates"
      ],
      "metadata": {
        "id": "yMbKmP07It7V"
      },
      "execution_count": 28,
      "outputs": []
    },
    {
      "cell_type": "code",
      "source": [
        "date = extract_dates_from_dict(file_header)"
      ],
      "metadata": {
        "id": "MZ-113EHGHDR"
      },
      "execution_count": null,
      "outputs": []
    },
    {
      "cell_type": "code",
      "source": [
        "date"
      ],
      "metadata": {
        "id": "qDdSElyGh946"
      },
      "execution_count": null,
      "outputs": []
    },
    {
      "cell_type": "markdown",
      "source": [
        "**Header aus Datensatz löschen:**"
      ],
      "metadata": {
        "id": "L_0hAYmkOyxy"
      }
    },
    {
      "cell_type": "code",
      "source": [
        "def remove_header(lines_content, end_line):\n",
        "    lines_WO_header_fnc = {}\n",
        "    lines_WO_header_fnc = lines_content.copy()\n",
        "\n",
        "    for key, value in lines_WO_header_fnc.items():\n",
        "        del value[:end_line+1]\n",
        "\n",
        "    return lines_WO_header_fnc"
      ],
      "metadata": {
        "id": "a9HPMKEdffX1"
      },
      "execution_count": 5,
      "outputs": []
    },
    {
      "cell_type": "code",
      "source": [
        "lines_WO_header = remove_header(file_variables, end_line_header)"
      ],
      "metadata": {
        "id": "hxWLzYdkff7w",
        "outputId": "f2ace42c-43b8-408a-82a8-58e47d1f6fea",
        "colab": {
          "base_uri": "https://localhost:8080/",
          "height": 165
        }
      },
      "execution_count": 6,
      "outputs": [
        {
          "output_type": "error",
          "ename": "NameError",
          "evalue": "ignored",
          "traceback": [
            "\u001b[0;31m---------------------------------------------------------------------------\u001b[0m",
            "\u001b[0;31mNameError\u001b[0m                                 Traceback (most recent call last)",
            "\u001b[0;32m<ipython-input-6-f16ae949aca3>\u001b[0m in \u001b[0;36m<cell line: 1>\u001b[0;34m()\u001b[0m\n\u001b[0;32m----> 1\u001b[0;31m \u001b[0mlines_WO_header\u001b[0m \u001b[0;34m=\u001b[0m \u001b[0mremove_header\u001b[0m\u001b[0;34m(\u001b[0m\u001b[0mfile_variables\u001b[0m\u001b[0;34m,\u001b[0m \u001b[0mend_line_header\u001b[0m\u001b[0;34m)\u001b[0m\u001b[0;34m\u001b[0m\u001b[0;34m\u001b[0m\u001b[0m\n\u001b[0m",
            "\u001b[0;31mNameError\u001b[0m: name 'file_variables' is not defined"
          ]
        }
      ]
    },
    {
      "cell_type": "code",
      "source": [
        "print(lines_WO_header)"
      ],
      "metadata": {
        "id": "fOR-FkULhDAQ",
        "outputId": "65b8d67b-9cf6-483b-882c-76332a70a665",
        "colab": {
          "base_uri": "https://localhost:8080/",
          "height": 165
        }
      },
      "execution_count": 4,
      "outputs": [
        {
          "output_type": "error",
          "ename": "NameError",
          "evalue": "ignored",
          "traceback": [
            "\u001b[0;31m---------------------------------------------------------------------------\u001b[0m",
            "\u001b[0;31mNameError\u001b[0m                                 Traceback (most recent call last)",
            "\u001b[0;32m<ipython-input-4-113ebf1b8295>\u001b[0m in \u001b[0;36m<cell line: 1>\u001b[0;34m()\u001b[0m\n\u001b[0;32m----> 1\u001b[0;31m \u001b[0mprint\u001b[0m\u001b[0;34m(\u001b[0m\u001b[0mlines_WO_header\u001b[0m\u001b[0;34m)\u001b[0m\u001b[0;34m\u001b[0m\u001b[0;34m\u001b[0m\u001b[0m\n\u001b[0m",
            "\u001b[0;31mNameError\u001b[0m: name 'lines_WO_header' is not defined"
          ]
        }
      ]
    },
    {
      "cell_type": "markdown",
      "source": [
        "Spalten des Datensatz in einzelne Elemente aufteilen:"
      ],
      "metadata": {
        "id": "FBHCpg_g5GPa"
      }
    },
    {
      "cell_type": "code",
      "source": [
        "def extract_numbers(dictionary):\n",
        "    neue_liste = []\n",
        "\n",
        "    for key, value in dictionary.items():\n",
        "        print(key, value)\n",
        "        # ursprungs_liste = value.split()\n",
        "\n",
        "        # for element in ursprungs_liste:\n",
        "        #     zahlen = element.split()\n",
        "        #     for zahl in zahlen:\n",
        "        #         neue_liste.append(zahl)\n",
        "\n",
        "    return neue_liste"
      ],
      "metadata": {
        "id": "suxZzFoO5GbL"
      },
      "execution_count": 2,
      "outputs": []
    },
    {
      "cell_type": "code",
      "source": [
        "result_list = extract_numbers(lines_WO_header)\n",
        "print(result_list['SA220615'])"
      ],
      "metadata": {
        "id": "_K6jgcAeO57S",
        "colab": {
          "base_uri": "https://localhost:8080/",
          "height": 183
        },
        "outputId": "0d7fd5d1-5625-42ef-c5e0-10d26f5a06f2"
      },
      "execution_count": 3,
      "outputs": [
        {
          "output_type": "error",
          "ename": "NameError",
          "evalue": "ignored",
          "traceback": [
            "\u001b[0;31m---------------------------------------------------------------------------\u001b[0m",
            "\u001b[0;31mNameError\u001b[0m                                 Traceback (most recent call last)",
            "\u001b[0;32m<ipython-input-3-c8891760ebf5>\u001b[0m in \u001b[0;36m<cell line: 1>\u001b[0;34m()\u001b[0m\n\u001b[0;32m----> 1\u001b[0;31m \u001b[0mresult_list\u001b[0m \u001b[0;34m=\u001b[0m \u001b[0mextract_numbers\u001b[0m\u001b[0;34m(\u001b[0m\u001b[0mlines_WO_header\u001b[0m\u001b[0;34m)\u001b[0m\u001b[0;34m\u001b[0m\u001b[0;34m\u001b[0m\u001b[0m\n\u001b[0m\u001b[1;32m      2\u001b[0m \u001b[0mprint\u001b[0m\u001b[0;34m(\u001b[0m\u001b[0mresult_list\u001b[0m\u001b[0;34m[\u001b[0m\u001b[0;34m'SA220615'\u001b[0m\u001b[0;34m]\u001b[0m\u001b[0;34m)\u001b[0m\u001b[0;34m\u001b[0m\u001b[0;34m\u001b[0m\u001b[0m\n",
            "\u001b[0;31mNameError\u001b[0m: name 'lines_WO_header' is not defined"
          ]
        }
      ]
    },
    {
      "cell_type": "markdown",
      "source": [
        "**Zeitstempel in Datensatz finden:**"
      ],
      "metadata": {
        "id": "uscoR4cRFvIn"
      }
    },
    {
      "cell_type": "code",
      "source": [
        "# Funktion um den Anfang einer einzelnen Messung zu finden\n",
        "def split_dataset(dataset):\n",
        "    data_packages = []\n",
        "    current_package = []\n",
        "\n",
        "    for i, line in enumerate(dataset):\n",
        "        if line.strip().isdigit() and len(line.strip()) == 5:\n",
        "            if i + 1 < len(dataset) and dataset[i + 1].strip().isdigit() and len(dataset[i + 1].strip()) in [2, 3]:\n",
        "                if current_package:\n",
        "                    data_packages.append(current_package)\n",
        "                    current_package = []\n",
        "            current_package.append(line)\n",
        "\n",
        "    if current_package:\n",
        "        data_packages.append(current_package)\n",
        "\n",
        "    return data_packages"
      ],
      "metadata": {
        "id": "WI-aukhcgE1E"
      },
      "execution_count": null,
      "outputs": []
    },
    {
      "cell_type": "code",
      "source": [
        "data_packages = split_dataset(lines_WO_header)"
      ],
      "metadata": {
        "id": "3dJYofTuiM6m"
      },
      "execution_count": null,
      "outputs": []
    },
    {
      "cell_type": "code",
      "source": [
        "for i, package in enumerate(data_packages):\n",
        "    print(package)"
      ],
      "metadata": {
        "id": "KVBa3PwWiXSi"
      },
      "execution_count": null,
      "outputs": []
    },
    {
      "cell_type": "markdown",
      "source": [
        "Den Zeitstempeln ein Indice zuorden:"
      ],
      "metadata": {
        "id": "zyN8Idu93o1H"
      }
    },
    {
      "cell_type": "code",
      "source": [
        "def find_indices(elemente, meine_liste):\n",
        "    indices = []\n",
        "\n",
        "    for element in elemente:\n",
        "        if element in meine_liste:\n",
        "            indices.append(meine_liste.index(element))\n",
        "        else:\n",
        "            indices.append(-1)\n",
        "\n",
        "    return indices"
      ],
      "metadata": {
        "id": "ud464ZrF3pL5"
      },
      "execution_count": null,
      "outputs": []
    },
    {
      "cell_type": "code",
      "source": [
        "# Beispielaufruf der Funktion\n",
        "indices_Timestamp = find_indices(package, lines_WOH_split)\n",
        "print(indices_Timestamp)"
      ],
      "metadata": {
        "id": "NwmqQb2U32ZZ"
      },
      "execution_count": null,
      "outputs": []
    },
    {
      "cell_type": "markdown",
      "source": [
        "**Zeitstempel in eine Uhrzeit umwandeln:**"
      ],
      "metadata": {
        "id": "Qh26OqFdZOgN"
      }
    },
    {
      "cell_type": "code",
      "source": [
        "# Funktion um den Zeitstempel der Messung in eine Uhrzeit und ein Datum umzuwandeln\n",
        "def seconds_to_time(time_seconds, date):\n",
        "    data = []\n",
        "\n",
        "    for sec in time_seconds:\n",
        "        hours = int(sec) // 3600\n",
        "        minutes = (int(sec) % 3600) // 60\n",
        "        seconds = int(sec) % 60\n",
        "        time = pd.to_datetime(f\"{date} {hours:02d}:{minutes:02d}:{seconds:02d}\")\n",
        "        data.append({'Datum':date,'Stunden': hours, 'Minuten': minutes, 'Sekunden': seconds, 'Uhrzeit': time})\n",
        "\n",
        "    df = pd.DataFrame(data)\n",
        "    return df"
      ],
      "metadata": {
        "id": "vOmsONI3iaNz"
      },
      "execution_count": null,
      "outputs": []
    },
    {
      "cell_type": "code",
      "source": [
        "df_time = seconds_to_time(package, date)\n",
        "\n",
        "# Ausgabe des DataFrames\n",
        "print(df_time)"
      ],
      "metadata": {
        "id": "DbmsPJVw7Rcm"
      },
      "execution_count": null,
      "outputs": []
    },
    {
      "cell_type": "markdown",
      "source": [
        "**Herausschreiben der einzelnen Messungen**"
      ],
      "metadata": {
        "id": "5hJxnPp03cSX"
      }
    },
    {
      "cell_type": "code",
      "source": [
        "\n",
        "\n",
        "def split_data(lines_WOH_fnc, split_indices):\n",
        "    data_parts = []\n",
        "    for i in range(len(split_indices)):\n",
        "        if i == 0:\n",
        "            data_parts.append(lines_WOH_fnc[:split_indices[i]])\n",
        "        else:\n",
        "            data_parts.append(lines_WOH_fnc[split_indices[i-1]:split_indices[i]])\n",
        "    data_parts.append(lines_WOH_fnc[split_indices[-1]:])\n",
        "    df = pd.DataFrame(data_parts)\n",
        "    num_cols = max([len(x) for x in data_parts])\n",
        "    col_names = ['Col{}'.format(i+1) for i in range(num_cols)]\n",
        "    df.columns = col_names\n",
        "    df = df.drop(df.index[0]).reset_index(drop=True)\n",
        "    return df\n"
      ],
      "metadata": {
        "id": "1IEkUxzb3i-V"
      },
      "execution_count": null,
      "outputs": []
    },
    {
      "cell_type": "code",
      "source": [
        "print(lines_WO_header[:5], type(data_packages[0]))"
      ],
      "metadata": {
        "id": "DWzXzxAC6J_9"
      },
      "execution_count": null,
      "outputs": []
    },
    {
      "cell_type": "code",
      "source": [
        "df_Messung = split_data(lines_WOH_split, indices_Timestamp)\n",
        "print(df_Messung)"
      ],
      "metadata": {
        "id": "ry_pkWk-3-GY"
      },
      "execution_count": null,
      "outputs": []
    },
    {
      "cell_type": "markdown",
      "source": [
        "Dataframe in die richtige Form bringen:"
      ],
      "metadata": {
        "id": "V1Ix8IzK-7Nm"
      }
    },
    {
      "cell_type": "code",
      "source": [
        "df_Mea_Time = pd.concat([df_time, df_Messung], axis = 1)"
      ],
      "metadata": {
        "id": "3b5raYOF-2QS"
      },
      "execution_count": null,
      "outputs": []
    },
    {
      "cell_type": "code",
      "source": [
        "start_index = 18\n",
        "num_elements = 1301\n",
        "\n",
        "columns_to_rename = [\"Col\" + str(i) for i in range(start_index, start_index + num_elements)]"
      ],
      "metadata": {
        "id": "wyS4DeYMGCWU"
      },
      "execution_count": null,
      "outputs": []
    },
    {
      "cell_type": "code",
      "source": [
        "for item in columns_to_rename:\n",
        "    old_column_name = item\n",
        "    new_column_name = str(df_Wellenlaenge.loc[columns_to_rename.index(item), 'Wellenlaenge'])\n",
        "    df_Mea_Time.rename(columns={old_column_name: new_column_name}, inplace=True)"
      ],
      "metadata": {
        "id": "8Coe44KnkCIL"
      },
      "execution_count": null,
      "outputs": []
    },
    {
      "cell_type": "code",
      "source": [
        "df_Mea_Time"
      ],
      "metadata": {
        "id": "Ajb2jGIaa8De"
      },
      "execution_count": null,
      "outputs": []
    },
    {
      "cell_type": "markdown",
      "source": [
        "**Abspeichern der Messdaten als CSV**"
      ],
      "metadata": {
        "id": "g7Cbzs6Yy2DB"
      }
    },
    {
      "cell_type": "code",
      "source": [
        "df_Mea_Time.to_csv('/content/drive/MyDrive/Colab_Notebooks/CSV_Messdaten/mea_time.csv', index=False)"
      ],
      "metadata": {
        "id": "nrQIIzsSlO7A"
      },
      "execution_count": null,
      "outputs": []
    }
  ]
}