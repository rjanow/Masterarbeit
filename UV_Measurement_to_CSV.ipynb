{
  "nbformat": 4,
  "nbformat_minor": 0,
  "metadata": {
    "colab": {
      "provenance": [],
      "authorship_tag": "ABX9TyN9VHCNo8fJd304PHW6olIy",
      "include_colab_link": true
    },
    "kernelspec": {
      "name": "python3",
      "display_name": "Python 3"
    },
    "language_info": {
      "name": "python"
    }
  },
  "cells": [
    {
      "cell_type": "markdown",
      "metadata": {
        "id": "view-in-github",
        "colab_type": "text"
      },
      "source": [
        "<a href=\"https://colab.research.google.com/github/rjanow/Masterarbeit/blob/main/UV_Measurement_to_CSV.ipynb\" target=\"_parent\"><img src=\"https://colab.research.google.com/assets/colab-badge.svg\" alt=\"Open In Colab\"/></a>"
      ]
    },
    {
      "cell_type": "markdown",
      "source": [
        "# Hier werden die Rohdaten des BTS2048-UV-WP in eine nutzbare CSV-Datei geschrieben"
      ],
      "metadata": {
        "id": "VbXcbReNyuop"
      }
    },
    {
      "cell_type": "markdown",
      "source": [
        "Dokumentenname: UV_Measurement_to_CSV.ipynb\n",
        "\n",
        "\n",
        "\n",
        "\n",
        "Es werden die OR0-Daten (NasaAmes-Format), die eigentlich für den Versand an das BFS gedacht sind umgewandelt und in eine CSV-Datei geschrieben. Aufgrund der großen Datenmenge geschieht dies für jeden Monat getrennt."
      ],
      "metadata": {
        "id": "_Euu6x1XyxGL"
      }
    },
    {
      "cell_type": "code",
      "source": [
        "# Import der benötigten Module\n",
        "import os, sys\n",
        "import glob\n",
        "import datetime\n",
        "import pandas as pd\n",
        "import numpy as np\n",
        "import csv\n",
        "import re\n",
        "import matplotlib.pyplot as plt\n",
        "\n",
        "from scipy.io import netcdf\n",
        "from datetime import timedelta\n",
        "from datetime import datetime\n",
        "\n",
        "from google.colab import drive\n",
        "from google.colab import files"
      ],
      "metadata": {
        "id": "6GGZwyBJzVsp"
      },
      "execution_count": 1,
      "outputs": []
    },
    {
      "cell_type": "markdown",
      "source": [
        "**Monat der Exportiert werden soll:**"
      ],
      "metadata": {
        "id": "HYdn1p8-PgJD"
      }
    },
    {
      "cell_type": "code",
      "source": [
        "month = '22.09'"
      ],
      "metadata": {
        "id": "b_lzKoe_Pfgd"
      },
      "execution_count": 2,
      "outputs": []
    },
    {
      "cell_type": "markdown",
      "source": [
        "Zu Beginn muss die Google-Drive eingerichtet werden, in der die Messdaten (OR0-Dateien) gespeichert sind. Danach werden alle verfügbaren Unterordner aufgerufen. So wird geprüft, ob der Mount richtig funktioniert hat."
      ],
      "metadata": {
        "id": "EKAQlrHyWWIP"
      }
    },
    {
      "cell_type": "code",
      "source": [
        "drive.mount('/content/drive')\n",
        "\n",
        "drive_path = '/content/drive/MyDrive'\n",
        "# Durchsuche den Google Drive-Pfad\n",
        "for root, dirs, files in os.walk(drive_path):\n",
        "    for dir in dirs:\n",
        "        # Gib den Namen des Unterordners aus\n",
        "        print(os.path.join(root, dir))"
      ],
      "metadata": {
        "colab": {
          "base_uri": "https://localhost:8080/"
        },
        "id": "T_iN54-sVUVL",
        "outputId": "cda0f152-d09e-43ad-b9e0-a6de99603246"
      },
      "execution_count": 3,
      "outputs": [
        {
          "output_type": "stream",
          "name": "stdout",
          "text": [
            "Mounted at /content/drive\n",
            "/content/drive/MyDrive/Colab_Notebooks\n",
            "/content/drive/MyDrive/Colab Notebooks\n",
            "/content/drive/MyDrive/Colab_Notebooks/CSV_Messdaten\n",
            "/content/drive/MyDrive/Colab_Notebooks/NasaAmes_Messdaten\n",
            "/content/drive/MyDrive/Colab_Notebooks/CSV_UVI\n",
            "/content/drive/MyDrive/Colab_Notebooks/CSV_Gewichtet\n",
            "/content/drive/MyDrive/Colab_Notebooks/CSV_SolarRadiation\n",
            "/content/drive/MyDrive/Colab_Notebooks/netCDF4_Wetterdaten\n",
            "/content/drive/MyDrive/Colab_Notebooks/CAMS_Vorhersage\n",
            "/content/drive/MyDrive/Colab_Notebooks/Clean_Data\n",
            "/content/drive/MyDrive/Colab_Notebooks/plot_daily_UVI\n",
            "/content/drive/MyDrive/Colab_Notebooks/SOLYS_Messdaten\n",
            "/content/drive/MyDrive/Colab_Notebooks/NasaAmes_Messdaten/Data\n",
            "/content/drive/MyDrive/Colab_Notebooks/NasaAmes_Messdaten/Data/22.07\n",
            "/content/drive/MyDrive/Colab_Notebooks/NasaAmes_Messdaten/Data/22.08\n",
            "/content/drive/MyDrive/Colab_Notebooks/NasaAmes_Messdaten/Data/22.09\n",
            "/content/drive/MyDrive/Colab_Notebooks/NasaAmes_Messdaten/Data/22.10\n",
            "/content/drive/MyDrive/Colab_Notebooks/NasaAmes_Messdaten/Data/22.11\n",
            "/content/drive/MyDrive/Colab_Notebooks/NasaAmes_Messdaten/Data/22.12\n",
            "/content/drive/MyDrive/Colab_Notebooks/NasaAmes_Messdaten/Data/23.01\n",
            "/content/drive/MyDrive/Colab_Notebooks/NasaAmes_Messdaten/Data/23.02\n",
            "/content/drive/MyDrive/Colab_Notebooks/NasaAmes_Messdaten/Data/23.03\n",
            "/content/drive/MyDrive/Colab_Notebooks/NasaAmes_Messdaten/Data/23.04\n",
            "/content/drive/MyDrive/Colab_Notebooks/NasaAmes_Messdaten/Data/23.05\n",
            "/content/drive/MyDrive/Colab_Notebooks/NasaAmes_Messdaten/Data/23.06\n",
            "/content/drive/MyDrive/Colab_Notebooks/NasaAmes_Messdaten/Data/23.07\n",
            "/content/drive/MyDrive/Colab_Notebooks/NasaAmes_Messdaten/Data/23.08\n",
            "/content/drive/MyDrive/Colab_Notebooks/NasaAmes_Messdaten/Data/22.06\n"
          ]
        }
      ]
    },
    {
      "cell_type": "markdown",
      "source": [
        "Danach werden die einzelnen OR0-Dateien (NasaAmes Format) geladen und umgewandelt.\n",
        "\n",
        "Das NasaAmes Format: https://espoarchive.nasa.gov/content/Ames_Format_Specification_v20\n",
        "\n",
        "Die Messdaten sind unter dem FFI (File Format Index) 2005 gespeichert. Dieser Standard ist durch die Nasa nicht dokumentiert. Deshalb nachfolgend ein eigener Parser, der die Daten in eine nutzbare CSV umwandelt."
      ],
      "metadata": {
        "id": "ZRL9H_KEZpgG"
      }
    },
    {
      "cell_type": "markdown",
      "source": [
        "**Beschreibung der einzelnen Dictionaries und deren Inhalt:**\n",
        "\n",
        "- **file_names** = enthält die Dateinamen der einzelnen OR0-Dateien\n",
        "- **file_content** = Enthält den Inhalt der OR0-Dateien\n",
        "- **end_line_header** = enthält die Zeile an dem der Header endet"
      ],
      "metadata": {
        "id": "TI_gn6B6_qGL"
      }
    },
    {
      "cell_type": "markdown",
      "source": [
        "**Dateien einlesen:**"
      ],
      "metadata": {
        "id": "7_mIBaD2FwwZ"
      }
    },
    {
      "cell_type": "code",
      "source": [
        "# Pfad zum Ordner mit den Dateien in Google Drive\n",
        "folder_path = '/content/drive/MyDrive/Colab_Notebooks/NasaAmes_Messdaten/Data/' + month\n",
        "\n",
        "# OR0-Dateien im Ordner lesen\n",
        "file_paths = glob.glob(folder_path + '/*.OR0')\n",
        "\n",
        "# Liste für die Dateinamen erstellen\n",
        "file_names = []\n",
        "\n",
        "# Schleife über die Dateien\n",
        "for file_path in file_paths:\n",
        "\n",
        "    if os.path.getsize(file_path) > 100 * 1024:\n",
        "      # Dateiname extrahieren\n",
        "      file_name = os.path.splitext(os.path.basename(file_path))[0]\n",
        "\n",
        "      # Datei öffnen und Inhalt lesen\n",
        "      with open(file_path, 'r') as file:\n",
        "          file_content = file.read()\n",
        "\n",
        "      # Variable für die Datei erstellen\n",
        "      globals()[file_name] = file_content\n",
        "\n",
        "      file_names.append(file_name)"
      ],
      "metadata": {
        "id": "LJXRx3MKM8L1"
      },
      "execution_count": 4,
      "outputs": []
    },
    {
      "cell_type": "markdown",
      "source": [
        "**Dataframe mit Wellenlängen erstellen:**\n",
        "- Dieser wird später genutzt um die Spalten des Dataframe zu benennen."
      ],
      "metadata": {
        "id": "4sWE034DaFBt"
      }
    },
    {
      "cell_type": "code",
      "source": [
        "def create_df_Wellenlaenge(start, end, step):\n",
        "    # Erstelle eine Liste mit den gewünschten Werten\n",
        "    numbers_list = [round(num, 3) for num in list(np.arange(start, end + step, step))]\n",
        "    # Erstelle den Dataframe\n",
        "    df = pd.DataFrame({'Wellenlaenge': numbers_list})\n",
        "\n",
        "    return df"
      ],
      "metadata": {
        "id": "vR4lB-9hAJZ6"
      },
      "execution_count": 5,
      "outputs": []
    },
    {
      "cell_type": "code",
      "source": [
        "np_Wellenlaenge = np.round(np.arange(290.0, 420.05, 0.1), decimals = 1)\n",
        "df_Wellenlaenge = pd.DataFrame({'Wellenlaenge': np_Wellenlaenge})"
      ],
      "metadata": {
        "id": "ke6b38SlA3B1"
      },
      "execution_count": 6,
      "outputs": []
    },
    {
      "cell_type": "markdown",
      "source": [
        "**String aufteilen in einzelne Zeile schreiben:**\n",
        "\n",
        "- Zur weitern Verarbeitung müssen alle Elemente als einzelene Strings abgespeichet werden."
      ],
      "metadata": {
        "id": "P4FUkD2Lua3i"
      }
    },
    {
      "cell_type": "code",
      "source": [
        "file_content = {}  # Dictionary für die Messungen erstellen\n",
        "\n",
        "for file_name in file_names:\n",
        "    file_variables = globals()[file_name]\n",
        "    file_content[file_name] = file_variables\n",
        "\n",
        "# Auf Variablen zugreifen und String in Zeilen aufteilen\n",
        "for file_name, variable in file_content.items():\n",
        "    file_content[file_name] = file_content[file_name].split('\\n')"
      ],
      "metadata": {
        "id": "JxBOhrPFQIYc"
      },
      "execution_count": 7,
      "outputs": []
    },
    {
      "cell_type": "markdown",
      "source": [
        "**Header extrahieren:**"
      ],
      "metadata": {
        "id": "AaUuqtlgK2Qq"
      }
    },
    {
      "cell_type": "code",
      "source": [
        "# Funktion um den Dateiheader zu extrahieren\n",
        "def perform_action(file_variables, file_names):\n",
        "    header_dict = {file_name: \"\" for file_name in file_names}\n",
        "    end_line_header_fnc = 0\n",
        "\n",
        "    for file_name, data in file_variables.items():\n",
        "        for i, line in enumerate(data):\n",
        "            header_dict[file_name] += line + \"\\n\"\n",
        "            if line.strip() == \"Pyranometer: readout interval [secs]=5\":\n",
        "                end_line_header_fnc = i\n",
        "                break\n",
        "\n",
        "    return header_dict, end_line_header_fnc"
      ],
      "metadata": {
        "id": "rBjd_Y6lEw80"
      },
      "execution_count": 8,
      "outputs": []
    },
    {
      "cell_type": "code",
      "source": [
        "file_header, end_line_header = perform_action(file_content, file_names)"
      ],
      "metadata": {
        "id": "nUdv6oMbE2-q"
      },
      "execution_count": 9,
      "outputs": []
    },
    {
      "cell_type": "markdown",
      "source": [
        "**Header aus Datensatz löschen:**"
      ],
      "metadata": {
        "id": "L_0hAYmkOyxy"
      }
    },
    {
      "cell_type": "code",
      "source": [
        "def remove_header(lines_content, end_line):\n",
        "    lines_WO_header_fnc = {}\n",
        "    lines_WO_header_fnc = lines_content.copy()\n",
        "\n",
        "    for key, value in lines_WO_header_fnc.items():\n",
        "        del value[:end_line+1]\n",
        "\n",
        "    return lines_WO_header_fnc"
      ],
      "metadata": {
        "id": "a9HPMKEdffX1"
      },
      "execution_count": 10,
      "outputs": []
    },
    {
      "cell_type": "code",
      "source": [
        "lines_WO_header = remove_header(file_content, end_line_header)"
      ],
      "metadata": {
        "id": "hxWLzYdkff7w"
      },
      "execution_count": 11,
      "outputs": []
    },
    {
      "cell_type": "markdown",
      "source": [
        "**Elemente aufteilen:**"
      ],
      "metadata": {
        "id": "glLu0-yiZ724"
      }
    },
    {
      "cell_type": "code",
      "source": [
        "def flatten_and_split(input_list):\n",
        "    result = []\n",
        "    for sublist in input_list:\n",
        "        elements = sublist.split()\n",
        "        result.extend(elements)\n",
        "    return result"
      ],
      "metadata": {
        "id": "scwLZbQNt1pO"
      },
      "execution_count": 12,
      "outputs": []
    },
    {
      "cell_type": "code",
      "source": [
        "def process_dict(input_dict):\n",
        "    processed_dict = {}\n",
        "    for key, value in input_dict.items():\n",
        "        processed_value = flatten_and_split(value)\n",
        "        sublists = []\n",
        "        sublist = []\n",
        "        for element in processed_value:\n",
        "            if element.isdigit() and len(element) == 5:\n",
        "                if sublist:\n",
        "                    sublists.append(sublist)\n",
        "                    sublist = []\n",
        "            sublist.append(element)\n",
        "        if sublist:\n",
        "            sublists.append(sublist)\n",
        "        processed_dict[key] = sublists\n",
        "    return processed_dict"
      ],
      "metadata": {
        "id": "aqXTQ0E3t1zT"
      },
      "execution_count": 13,
      "outputs": []
    },
    {
      "cell_type": "code",
      "source": [
        "processed_dict = process_dict(lines_WO_header)"
      ],
      "metadata": {
        "id": "lTaf7gzyt32j"
      },
      "execution_count": 14,
      "outputs": []
    },
    {
      "cell_type": "markdown",
      "source": [
        "**Zeitstempel in Datensatz finden:**"
      ],
      "metadata": {
        "id": "uscoR4cRFvIn"
      }
    },
    {
      "cell_type": "code",
      "source": [
        "# Funktion zum finden eines 5 stelligen Integers (= Zeitstempel)\n",
        "def find_5_digit_integers(input_list):\n",
        "    result = []\n",
        "    for sublist in input_list:\n",
        "        for element in sublist:\n",
        "            if isinstance(element, str) and element.isdigit() and len(element) == 5:\n",
        "                result.append(element)\n",
        "    return result"
      ],
      "metadata": {
        "id": "WI-aukhcgE1E"
      },
      "execution_count": 15,
      "outputs": []
    },
    {
      "cell_type": "code",
      "source": [
        "# Funktion, die durch das dict iterriert\n",
        "def find_5_digit_integers_in_dict(input_dict):\n",
        "    result_dict = {}\n",
        "    for key, value in input_dict.items():\n",
        "        result_dict[key] = find_5_digit_integers(value)\n",
        "    return result_dict"
      ],
      "metadata": {
        "id": "gvgssDUayRve"
      },
      "execution_count": 16,
      "outputs": []
    },
    {
      "cell_type": "code",
      "source": [
        "result_dict = find_5_digit_integers_in_dict(processed_dict)"
      ],
      "metadata": {
        "id": "3dJYofTuiM6m"
      },
      "execution_count": 17,
      "outputs": []
    },
    {
      "cell_type": "markdown",
      "source": [
        "**Dict in Dataframe speichern:**"
      ],
      "metadata": {
        "id": "gapz7ewHV3F4"
      }
    },
    {
      "cell_type": "code",
      "source": [
        "# Erstelle eine leere Liste, um die Zeilen für den DataFrame aufzunehmen\n",
        "data_rows = []\n",
        "df_Messdaten = []\n",
        "\n",
        "# Iteriere durch das verschachtelte Dictionary und erstelle Zeilen für den DataFrame\n",
        "for key, value in processed_dict.items():\n",
        "    for sublist in value:\n",
        "        data_rows.append([key] + sublist)\n",
        "\n",
        "# Definiere Spaltennamen für den DataFrame\n",
        "columns = ['Datum'] + [f'Wert{i}' for i in range(1, len(data_rows[0]))]\n",
        "\n",
        "# Erstelle den Pandas DataFrame\n",
        "df_rows = pd.DataFrame(data_rows, columns=columns)\n",
        "df_Messdaten = df_rows"
      ],
      "metadata": {
        "id": "IxMzzikpWGXY"
      },
      "execution_count": 18,
      "outputs": []
    },
    {
      "cell_type": "markdown",
      "source": [
        "**Prüfen, ob der Inhalt des DF korrekt ist:**"
      ],
      "metadata": {
        "id": "otw05cgGuEG9"
      }
    },
    {
      "cell_type": "code",
      "source": [
        "df_rows"
      ],
      "metadata": {
        "colab": {
          "base_uri": "https://localhost:8080/",
          "height": 424
        },
        "id": "A9285K3xuDk6",
        "outputId": "07669658-9a4e-4777-f986-b13b0f1426b0"
      },
      "execution_count": 19,
      "outputs": [
        {
          "output_type": "execute_result",
          "data": {
            "text/plain": [
              "         Datum  Wert1 Wert2       Wert3     Wert4      Wert5      Wert6  \\\n",
              "0     SA220906  16320    97   4.000E-02  9.999E+9  2.000E+00  0.000E+00   \n",
              "1     SA220906  16440    95  -6.000E-02  9.999E+9  2.000E+00  0.000E+00   \n",
              "2     SA220906  16560    95  -6.000E-02  9.999E+9  2.000E+00  0.000E+00   \n",
              "3     SA220906  16680    80   4.000E-02  9.999E+9  2.000E+00  0.000E+00   \n",
              "4     SA220906  16800    65   4.000E-02  9.999E+9  2.000E+00  0.000E+00   \n",
              "...        ...    ...   ...         ...       ...        ...        ...   \n",
              "8254  SA220901  59400    66   4.000E-02  9.999E+9  2.000E+00  0.000E+00   \n",
              "8255  SA220901  59520    63   4.000E-02  9.999E+9  2.000E+00  0.000E+00   \n",
              "8256  SA220901  59640   111   4.000E-02  9.999E+9  2.000E+00  0.000E+00   \n",
              "8257  SA220901  59760    78   4.000E-02  9.999E+9  2.000E+00  0.000E+00   \n",
              "8258  SA220901  59880    78   4.000E-02  9.999E+9  2.000E+00  0.000E+00   \n",
              "\n",
              "      Wert7     Wert8     Wert9  ...    Wert1309    Wert1310    Wert1311  \\\n",
              "0     999.9  9.999E+9  9.999E+9  ...  7.8661E-04  7.7102E-04  7.7257E-04   \n",
              "1     999.9  9.999E+9  9.999E+9  ...  1.1227E-03  1.1170E-03  1.1140E-03   \n",
              "2     999.9  9.999E+9  9.999E+9  ...  1.5345E-03  1.5176E-03  1.4873E-03   \n",
              "3     999.9  9.999E+9  9.999E+9  ...  2.0209E-03  1.9990E-03  1.9614E-03   \n",
              "4     999.9  9.999E+9  9.999E+9  ...  2.5355E-03  2.5455E-03  2.5154E-03   \n",
              "...     ...       ...       ...  ...         ...         ...         ...   \n",
              "8254  999.9  9.999E+9  9.999E+9  ...  2.7140E-01  2.7109E-01  2.6810E-01   \n",
              "8255  999.9  9.999E+9  9.999E+9  ...  2.6426E-01  2.6422E-01  2.6067E-01   \n",
              "8256  999.9  9.999E+9  9.999E+9  ...  2.5048E-01  2.4962E-01  2.4697E-01   \n",
              "8257  999.9  9.999E+9  9.999E+9  ...  2.4472E-01  2.4430E-01  2.4125E-01   \n",
              "8258  999.9  9.999E+9  9.999E+9  ...  2.4065E-01  2.4078E-01  2.3677E-01   \n",
              "\n",
              "        Wert1312    Wert1313    Wert1314    Wert1315    Wert1316    Wert1317  \\\n",
              "0     7.7377E-04  7.7653E-04  7.8976E-04  5.1281E-04  0.0000E+00  0.0000E+00   \n",
              "1     1.0805E-03  1.0680E-03  1.0401E-03  1.0363E-03  1.0408E-03  1.0423E-03   \n",
              "2     1.4577E-03  1.4299E-03  1.4139E-03  1.4246E-03  1.4172E-03  1.4134E-03   \n",
              "3     1.9108E-03  1.8568E-03  1.8448E-03  1.8441E-03  1.8296E-03  1.8533E-03   \n",
              "4     2.4803E-03  2.4475E-03  2.3887E-03  2.3293E-03  2.3383E-03  2.3774E-03   \n",
              "...          ...         ...         ...         ...         ...         ...   \n",
              "8254  2.6345E-01  2.5861E-01  2.5476E-01  2.5227E-01  2.5079E-01  2.5025E-01   \n",
              "8255  2.5452E-01  2.5061E-01  2.4746E-01  2.4503E-01  2.4379E-01  2.4375E-01   \n",
              "8256  2.4124E-01  2.3864E-01  2.3564E-01  2.3276E-01  2.3154E-01  2.3206E-01   \n",
              "8257  2.3657E-01  2.3358E-01  2.3066E-01  2.2762E-01  2.2667E-01  2.2782E-01   \n",
              "8258  2.3288E-01  2.2949E-01  2.2646E-01  2.2385E-01  2.2220E-01  2.2220E-01   \n",
              "\n",
              "        Wert1318  \n",
              "0     0.0000E+00  \n",
              "1     1.0564E-03  \n",
              "2     1.4313E-03  \n",
              "3     1.8479E-03  \n",
              "4     2.3850E-03  \n",
              "...          ...  \n",
              "8254  2.5176E-01  \n",
              "8255  2.4554E-01  \n",
              "8256  2.3369E-01  \n",
              "8257  2.2902E-01  \n",
              "8258  2.2415E-01  \n",
              "\n",
              "[8259 rows x 1319 columns]"
            ],
            "text/html": [
              "\n",
              "  <div id=\"df-7d788746-92cb-4b25-873b-c916c0ecb043\" class=\"colab-df-container\">\n",
              "    <div>\n",
              "<style scoped>\n",
              "    .dataframe tbody tr th:only-of-type {\n",
              "        vertical-align: middle;\n",
              "    }\n",
              "\n",
              "    .dataframe tbody tr th {\n",
              "        vertical-align: top;\n",
              "    }\n",
              "\n",
              "    .dataframe thead th {\n",
              "        text-align: right;\n",
              "    }\n",
              "</style>\n",
              "<table border=\"1\" class=\"dataframe\">\n",
              "  <thead>\n",
              "    <tr style=\"text-align: right;\">\n",
              "      <th></th>\n",
              "      <th>Datum</th>\n",
              "      <th>Wert1</th>\n",
              "      <th>Wert2</th>\n",
              "      <th>Wert3</th>\n",
              "      <th>Wert4</th>\n",
              "      <th>Wert5</th>\n",
              "      <th>Wert6</th>\n",
              "      <th>Wert7</th>\n",
              "      <th>Wert8</th>\n",
              "      <th>Wert9</th>\n",
              "      <th>...</th>\n",
              "      <th>Wert1309</th>\n",
              "      <th>Wert1310</th>\n",
              "      <th>Wert1311</th>\n",
              "      <th>Wert1312</th>\n",
              "      <th>Wert1313</th>\n",
              "      <th>Wert1314</th>\n",
              "      <th>Wert1315</th>\n",
              "      <th>Wert1316</th>\n",
              "      <th>Wert1317</th>\n",
              "      <th>Wert1318</th>\n",
              "    </tr>\n",
              "  </thead>\n",
              "  <tbody>\n",
              "    <tr>\n",
              "      <th>0</th>\n",
              "      <td>SA220906</td>\n",
              "      <td>16320</td>\n",
              "      <td>97</td>\n",
              "      <td>4.000E-02</td>\n",
              "      <td>9.999E+9</td>\n",
              "      <td>2.000E+00</td>\n",
              "      <td>0.000E+00</td>\n",
              "      <td>999.9</td>\n",
              "      <td>9.999E+9</td>\n",
              "      <td>9.999E+9</td>\n",
              "      <td>...</td>\n",
              "      <td>7.8661E-04</td>\n",
              "      <td>7.7102E-04</td>\n",
              "      <td>7.7257E-04</td>\n",
              "      <td>7.7377E-04</td>\n",
              "      <td>7.7653E-04</td>\n",
              "      <td>7.8976E-04</td>\n",
              "      <td>5.1281E-04</td>\n",
              "      <td>0.0000E+00</td>\n",
              "      <td>0.0000E+00</td>\n",
              "      <td>0.0000E+00</td>\n",
              "    </tr>\n",
              "    <tr>\n",
              "      <th>1</th>\n",
              "      <td>SA220906</td>\n",
              "      <td>16440</td>\n",
              "      <td>95</td>\n",
              "      <td>-6.000E-02</td>\n",
              "      <td>9.999E+9</td>\n",
              "      <td>2.000E+00</td>\n",
              "      <td>0.000E+00</td>\n",
              "      <td>999.9</td>\n",
              "      <td>9.999E+9</td>\n",
              "      <td>9.999E+9</td>\n",
              "      <td>...</td>\n",
              "      <td>1.1227E-03</td>\n",
              "      <td>1.1170E-03</td>\n",
              "      <td>1.1140E-03</td>\n",
              "      <td>1.0805E-03</td>\n",
              "      <td>1.0680E-03</td>\n",
              "      <td>1.0401E-03</td>\n",
              "      <td>1.0363E-03</td>\n",
              "      <td>1.0408E-03</td>\n",
              "      <td>1.0423E-03</td>\n",
              "      <td>1.0564E-03</td>\n",
              "    </tr>\n",
              "    <tr>\n",
              "      <th>2</th>\n",
              "      <td>SA220906</td>\n",
              "      <td>16560</td>\n",
              "      <td>95</td>\n",
              "      <td>-6.000E-02</td>\n",
              "      <td>9.999E+9</td>\n",
              "      <td>2.000E+00</td>\n",
              "      <td>0.000E+00</td>\n",
              "      <td>999.9</td>\n",
              "      <td>9.999E+9</td>\n",
              "      <td>9.999E+9</td>\n",
              "      <td>...</td>\n",
              "      <td>1.5345E-03</td>\n",
              "      <td>1.5176E-03</td>\n",
              "      <td>1.4873E-03</td>\n",
              "      <td>1.4577E-03</td>\n",
              "      <td>1.4299E-03</td>\n",
              "      <td>1.4139E-03</td>\n",
              "      <td>1.4246E-03</td>\n",
              "      <td>1.4172E-03</td>\n",
              "      <td>1.4134E-03</td>\n",
              "      <td>1.4313E-03</td>\n",
              "    </tr>\n",
              "    <tr>\n",
              "      <th>3</th>\n",
              "      <td>SA220906</td>\n",
              "      <td>16680</td>\n",
              "      <td>80</td>\n",
              "      <td>4.000E-02</td>\n",
              "      <td>9.999E+9</td>\n",
              "      <td>2.000E+00</td>\n",
              "      <td>0.000E+00</td>\n",
              "      <td>999.9</td>\n",
              "      <td>9.999E+9</td>\n",
              "      <td>9.999E+9</td>\n",
              "      <td>...</td>\n",
              "      <td>2.0209E-03</td>\n",
              "      <td>1.9990E-03</td>\n",
              "      <td>1.9614E-03</td>\n",
              "      <td>1.9108E-03</td>\n",
              "      <td>1.8568E-03</td>\n",
              "      <td>1.8448E-03</td>\n",
              "      <td>1.8441E-03</td>\n",
              "      <td>1.8296E-03</td>\n",
              "      <td>1.8533E-03</td>\n",
              "      <td>1.8479E-03</td>\n",
              "    </tr>\n",
              "    <tr>\n",
              "      <th>4</th>\n",
              "      <td>SA220906</td>\n",
              "      <td>16800</td>\n",
              "      <td>65</td>\n",
              "      <td>4.000E-02</td>\n",
              "      <td>9.999E+9</td>\n",
              "      <td>2.000E+00</td>\n",
              "      <td>0.000E+00</td>\n",
              "      <td>999.9</td>\n",
              "      <td>9.999E+9</td>\n",
              "      <td>9.999E+9</td>\n",
              "      <td>...</td>\n",
              "      <td>2.5355E-03</td>\n",
              "      <td>2.5455E-03</td>\n",
              "      <td>2.5154E-03</td>\n",
              "      <td>2.4803E-03</td>\n",
              "      <td>2.4475E-03</td>\n",
              "      <td>2.3887E-03</td>\n",
              "      <td>2.3293E-03</td>\n",
              "      <td>2.3383E-03</td>\n",
              "      <td>2.3774E-03</td>\n",
              "      <td>2.3850E-03</td>\n",
              "    </tr>\n",
              "    <tr>\n",
              "      <th>...</th>\n",
              "      <td>...</td>\n",
              "      <td>...</td>\n",
              "      <td>...</td>\n",
              "      <td>...</td>\n",
              "      <td>...</td>\n",
              "      <td>...</td>\n",
              "      <td>...</td>\n",
              "      <td>...</td>\n",
              "      <td>...</td>\n",
              "      <td>...</td>\n",
              "      <td>...</td>\n",
              "      <td>...</td>\n",
              "      <td>...</td>\n",
              "      <td>...</td>\n",
              "      <td>...</td>\n",
              "      <td>...</td>\n",
              "      <td>...</td>\n",
              "      <td>...</td>\n",
              "      <td>...</td>\n",
              "      <td>...</td>\n",
              "      <td>...</td>\n",
              "    </tr>\n",
              "    <tr>\n",
              "      <th>8254</th>\n",
              "      <td>SA220901</td>\n",
              "      <td>59400</td>\n",
              "      <td>66</td>\n",
              "      <td>4.000E-02</td>\n",
              "      <td>9.999E+9</td>\n",
              "      <td>2.000E+00</td>\n",
              "      <td>0.000E+00</td>\n",
              "      <td>999.9</td>\n",
              "      <td>9.999E+9</td>\n",
              "      <td>9.999E+9</td>\n",
              "      <td>...</td>\n",
              "      <td>2.7140E-01</td>\n",
              "      <td>2.7109E-01</td>\n",
              "      <td>2.6810E-01</td>\n",
              "      <td>2.6345E-01</td>\n",
              "      <td>2.5861E-01</td>\n",
              "      <td>2.5476E-01</td>\n",
              "      <td>2.5227E-01</td>\n",
              "      <td>2.5079E-01</td>\n",
              "      <td>2.5025E-01</td>\n",
              "      <td>2.5176E-01</td>\n",
              "    </tr>\n",
              "    <tr>\n",
              "      <th>8255</th>\n",
              "      <td>SA220901</td>\n",
              "      <td>59520</td>\n",
              "      <td>63</td>\n",
              "      <td>4.000E-02</td>\n",
              "      <td>9.999E+9</td>\n",
              "      <td>2.000E+00</td>\n",
              "      <td>0.000E+00</td>\n",
              "      <td>999.9</td>\n",
              "      <td>9.999E+9</td>\n",
              "      <td>9.999E+9</td>\n",
              "      <td>...</td>\n",
              "      <td>2.6426E-01</td>\n",
              "      <td>2.6422E-01</td>\n",
              "      <td>2.6067E-01</td>\n",
              "      <td>2.5452E-01</td>\n",
              "      <td>2.5061E-01</td>\n",
              "      <td>2.4746E-01</td>\n",
              "      <td>2.4503E-01</td>\n",
              "      <td>2.4379E-01</td>\n",
              "      <td>2.4375E-01</td>\n",
              "      <td>2.4554E-01</td>\n",
              "    </tr>\n",
              "    <tr>\n",
              "      <th>8256</th>\n",
              "      <td>SA220901</td>\n",
              "      <td>59640</td>\n",
              "      <td>111</td>\n",
              "      <td>4.000E-02</td>\n",
              "      <td>9.999E+9</td>\n",
              "      <td>2.000E+00</td>\n",
              "      <td>0.000E+00</td>\n",
              "      <td>999.9</td>\n",
              "      <td>9.999E+9</td>\n",
              "      <td>9.999E+9</td>\n",
              "      <td>...</td>\n",
              "      <td>2.5048E-01</td>\n",
              "      <td>2.4962E-01</td>\n",
              "      <td>2.4697E-01</td>\n",
              "      <td>2.4124E-01</td>\n",
              "      <td>2.3864E-01</td>\n",
              "      <td>2.3564E-01</td>\n",
              "      <td>2.3276E-01</td>\n",
              "      <td>2.3154E-01</td>\n",
              "      <td>2.3206E-01</td>\n",
              "      <td>2.3369E-01</td>\n",
              "    </tr>\n",
              "    <tr>\n",
              "      <th>8257</th>\n",
              "      <td>SA220901</td>\n",
              "      <td>59760</td>\n",
              "      <td>78</td>\n",
              "      <td>4.000E-02</td>\n",
              "      <td>9.999E+9</td>\n",
              "      <td>2.000E+00</td>\n",
              "      <td>0.000E+00</td>\n",
              "      <td>999.9</td>\n",
              "      <td>9.999E+9</td>\n",
              "      <td>9.999E+9</td>\n",
              "      <td>...</td>\n",
              "      <td>2.4472E-01</td>\n",
              "      <td>2.4430E-01</td>\n",
              "      <td>2.4125E-01</td>\n",
              "      <td>2.3657E-01</td>\n",
              "      <td>2.3358E-01</td>\n",
              "      <td>2.3066E-01</td>\n",
              "      <td>2.2762E-01</td>\n",
              "      <td>2.2667E-01</td>\n",
              "      <td>2.2782E-01</td>\n",
              "      <td>2.2902E-01</td>\n",
              "    </tr>\n",
              "    <tr>\n",
              "      <th>8258</th>\n",
              "      <td>SA220901</td>\n",
              "      <td>59880</td>\n",
              "      <td>78</td>\n",
              "      <td>4.000E-02</td>\n",
              "      <td>9.999E+9</td>\n",
              "      <td>2.000E+00</td>\n",
              "      <td>0.000E+00</td>\n",
              "      <td>999.9</td>\n",
              "      <td>9.999E+9</td>\n",
              "      <td>9.999E+9</td>\n",
              "      <td>...</td>\n",
              "      <td>2.4065E-01</td>\n",
              "      <td>2.4078E-01</td>\n",
              "      <td>2.3677E-01</td>\n",
              "      <td>2.3288E-01</td>\n",
              "      <td>2.2949E-01</td>\n",
              "      <td>2.2646E-01</td>\n",
              "      <td>2.2385E-01</td>\n",
              "      <td>2.2220E-01</td>\n",
              "      <td>2.2220E-01</td>\n",
              "      <td>2.2415E-01</td>\n",
              "    </tr>\n",
              "  </tbody>\n",
              "</table>\n",
              "<p>8259 rows × 1319 columns</p>\n",
              "</div>\n",
              "    <div class=\"colab-df-buttons\">\n",
              "\n",
              "  <div class=\"colab-df-container\">\n",
              "    <button class=\"colab-df-convert\" onclick=\"convertToInteractive('df-7d788746-92cb-4b25-873b-c916c0ecb043')\"\n",
              "            title=\"Convert this dataframe to an interactive table.\"\n",
              "            style=\"display:none;\">\n",
              "\n",
              "  <svg xmlns=\"http://www.w3.org/2000/svg\" height=\"24px\" viewBox=\"0 -960 960 960\">\n",
              "    <path d=\"M120-120v-720h720v720H120Zm60-500h600v-160H180v160Zm220 220h160v-160H400v160Zm0 220h160v-160H400v160ZM180-400h160v-160H180v160Zm440 0h160v-160H620v160ZM180-180h160v-160H180v160Zm440 0h160v-160H620v160Z\"/>\n",
              "  </svg>\n",
              "    </button>\n",
              "\n",
              "  <style>\n",
              "    .colab-df-container {\n",
              "      display:flex;\n",
              "      gap: 12px;\n",
              "    }\n",
              "\n",
              "    .colab-df-convert {\n",
              "      background-color: #E8F0FE;\n",
              "      border: none;\n",
              "      border-radius: 50%;\n",
              "      cursor: pointer;\n",
              "      display: none;\n",
              "      fill: #1967D2;\n",
              "      height: 32px;\n",
              "      padding: 0 0 0 0;\n",
              "      width: 32px;\n",
              "    }\n",
              "\n",
              "    .colab-df-convert:hover {\n",
              "      background-color: #E2EBFA;\n",
              "      box-shadow: 0px 1px 2px rgba(60, 64, 67, 0.3), 0px 1px 3px 1px rgba(60, 64, 67, 0.15);\n",
              "      fill: #174EA6;\n",
              "    }\n",
              "\n",
              "    .colab-df-buttons div {\n",
              "      margin-bottom: 4px;\n",
              "    }\n",
              "\n",
              "    [theme=dark] .colab-df-convert {\n",
              "      background-color: #3B4455;\n",
              "      fill: #D2E3FC;\n",
              "    }\n",
              "\n",
              "    [theme=dark] .colab-df-convert:hover {\n",
              "      background-color: #434B5C;\n",
              "      box-shadow: 0px 1px 3px 1px rgba(0, 0, 0, 0.15);\n",
              "      filter: drop-shadow(0px 1px 2px rgba(0, 0, 0, 0.3));\n",
              "      fill: #FFFFFF;\n",
              "    }\n",
              "  </style>\n",
              "\n",
              "    <script>\n",
              "      const buttonEl =\n",
              "        document.querySelector('#df-7d788746-92cb-4b25-873b-c916c0ecb043 button.colab-df-convert');\n",
              "      buttonEl.style.display =\n",
              "        google.colab.kernel.accessAllowed ? 'block' : 'none';\n",
              "\n",
              "      async function convertToInteractive(key) {\n",
              "        const element = document.querySelector('#df-7d788746-92cb-4b25-873b-c916c0ecb043');\n",
              "        const dataTable =\n",
              "          await google.colab.kernel.invokeFunction('convertToInteractive',\n",
              "                                                    [key], {});\n",
              "        if (!dataTable) return;\n",
              "\n",
              "        const docLinkHtml = 'Like what you see? Visit the ' +\n",
              "          '<a target=\"_blank\" href=https://colab.research.google.com/notebooks/data_table.ipynb>data table notebook</a>'\n",
              "          + ' to learn more about interactive tables.';\n",
              "        element.innerHTML = '';\n",
              "        dataTable['output_type'] = 'display_data';\n",
              "        await google.colab.output.renderOutput(dataTable, element);\n",
              "        const docLink = document.createElement('div');\n",
              "        docLink.innerHTML = docLinkHtml;\n",
              "        element.appendChild(docLink);\n",
              "      }\n",
              "    </script>\n",
              "  </div>\n",
              "\n",
              "\n",
              "<div id=\"df-4d99f31a-5309-4a3c-8284-048f28c708f9\">\n",
              "  <button class=\"colab-df-quickchart\" onclick=\"quickchart('df-4d99f31a-5309-4a3c-8284-048f28c708f9')\"\n",
              "            title=\"Suggest charts\"\n",
              "            style=\"display:none;\">\n",
              "\n",
              "<svg xmlns=\"http://www.w3.org/2000/svg\" height=\"24px\"viewBox=\"0 0 24 24\"\n",
              "     width=\"24px\">\n",
              "    <g>\n",
              "        <path d=\"M19 3H5c-1.1 0-2 .9-2 2v14c0 1.1.9 2 2 2h14c1.1 0 2-.9 2-2V5c0-1.1-.9-2-2-2zM9 17H7v-7h2v7zm4 0h-2V7h2v10zm4 0h-2v-4h2v4z\"/>\n",
              "    </g>\n",
              "</svg>\n",
              "  </button>\n",
              "\n",
              "<style>\n",
              "  .colab-df-quickchart {\n",
              "      --bg-color: #E8F0FE;\n",
              "      --fill-color: #1967D2;\n",
              "      --hover-bg-color: #E2EBFA;\n",
              "      --hover-fill-color: #174EA6;\n",
              "      --disabled-fill-color: #AAA;\n",
              "      --disabled-bg-color: #DDD;\n",
              "  }\n",
              "\n",
              "  [theme=dark] .colab-df-quickchart {\n",
              "      --bg-color: #3B4455;\n",
              "      --fill-color: #D2E3FC;\n",
              "      --hover-bg-color: #434B5C;\n",
              "      --hover-fill-color: #FFFFFF;\n",
              "      --disabled-bg-color: #3B4455;\n",
              "      --disabled-fill-color: #666;\n",
              "  }\n",
              "\n",
              "  .colab-df-quickchart {\n",
              "    background-color: var(--bg-color);\n",
              "    border: none;\n",
              "    border-radius: 50%;\n",
              "    cursor: pointer;\n",
              "    display: none;\n",
              "    fill: var(--fill-color);\n",
              "    height: 32px;\n",
              "    padding: 0;\n",
              "    width: 32px;\n",
              "  }\n",
              "\n",
              "  .colab-df-quickchart:hover {\n",
              "    background-color: var(--hover-bg-color);\n",
              "    box-shadow: 0 1px 2px rgba(60, 64, 67, 0.3), 0 1px 3px 1px rgba(60, 64, 67, 0.15);\n",
              "    fill: var(--button-hover-fill-color);\n",
              "  }\n",
              "\n",
              "  .colab-df-quickchart-complete:disabled,\n",
              "  .colab-df-quickchart-complete:disabled:hover {\n",
              "    background-color: var(--disabled-bg-color);\n",
              "    fill: var(--disabled-fill-color);\n",
              "    box-shadow: none;\n",
              "  }\n",
              "\n",
              "  .colab-df-spinner {\n",
              "    border: 2px solid var(--fill-color);\n",
              "    border-color: transparent;\n",
              "    border-bottom-color: var(--fill-color);\n",
              "    animation:\n",
              "      spin 1s steps(1) infinite;\n",
              "  }\n",
              "\n",
              "  @keyframes spin {\n",
              "    0% {\n",
              "      border-color: transparent;\n",
              "      border-bottom-color: var(--fill-color);\n",
              "      border-left-color: var(--fill-color);\n",
              "    }\n",
              "    20% {\n",
              "      border-color: transparent;\n",
              "      border-left-color: var(--fill-color);\n",
              "      border-top-color: var(--fill-color);\n",
              "    }\n",
              "    30% {\n",
              "      border-color: transparent;\n",
              "      border-left-color: var(--fill-color);\n",
              "      border-top-color: var(--fill-color);\n",
              "      border-right-color: var(--fill-color);\n",
              "    }\n",
              "    40% {\n",
              "      border-color: transparent;\n",
              "      border-right-color: var(--fill-color);\n",
              "      border-top-color: var(--fill-color);\n",
              "    }\n",
              "    60% {\n",
              "      border-color: transparent;\n",
              "      border-right-color: var(--fill-color);\n",
              "    }\n",
              "    80% {\n",
              "      border-color: transparent;\n",
              "      border-right-color: var(--fill-color);\n",
              "      border-bottom-color: var(--fill-color);\n",
              "    }\n",
              "    90% {\n",
              "      border-color: transparent;\n",
              "      border-bottom-color: var(--fill-color);\n",
              "    }\n",
              "  }\n",
              "</style>\n",
              "\n",
              "  <script>\n",
              "    async function quickchart(key) {\n",
              "      const quickchartButtonEl =\n",
              "        document.querySelector('#' + key + ' button');\n",
              "      quickchartButtonEl.disabled = true;  // To prevent multiple clicks.\n",
              "      quickchartButtonEl.classList.add('colab-df-spinner');\n",
              "      try {\n",
              "        const charts = await google.colab.kernel.invokeFunction(\n",
              "            'suggestCharts', [key], {});\n",
              "      } catch (error) {\n",
              "        console.error('Error during call to suggestCharts:', error);\n",
              "      }\n",
              "      quickchartButtonEl.classList.remove('colab-df-spinner');\n",
              "      quickchartButtonEl.classList.add('colab-df-quickchart-complete');\n",
              "    }\n",
              "    (() => {\n",
              "      let quickchartButtonEl =\n",
              "        document.querySelector('#df-4d99f31a-5309-4a3c-8284-048f28c708f9 button');\n",
              "      quickchartButtonEl.style.display =\n",
              "        google.colab.kernel.accessAllowed ? 'block' : 'none';\n",
              "    })();\n",
              "  </script>\n",
              "</div>\n",
              "    </div>\n",
              "  </div>\n"
            ]
          },
          "metadata": {},
          "execution_count": 19
        }
      ]
    },
    {
      "cell_type": "markdown",
      "source": [
        "**Konvertieren des DF:**"
      ],
      "metadata": {
        "id": "hEUUcL5RuL_t"
      }
    },
    {
      "cell_type": "code",
      "source": [
        "# Bestimme die Indexposition, ab der die neuen Spaltennamen zugewiesen werden sollen\n",
        "start_index = 18  # Beispiel: Beginne ab der dritten Spalte\n",
        "\n",
        "# Extrahiere die neuen Spaltennamen aus dem zweiten DataFrame\n",
        "new_column_names = df_Wellenlaenge['Wellenlaenge'].tolist()\n",
        "\n",
        "# Ändere die Spaltennamen des DataFrames ab der angegebenen Indexposition\n",
        "for i, new_name in enumerate(new_column_names):\n",
        "    df_Messdaten.columns.values[start_index + i] = new_name"
      ],
      "metadata": {
        "id": "HK9mS7hkjQGB"
      },
      "execution_count": 20,
      "outputs": []
    },
    {
      "cell_type": "code",
      "source": [
        "# Funktion zum Konvertieren des Datumsformats\n",
        "def convert_date_format(date_str):\n",
        "    date_str = date_str[2:]  # Entferne das \"SA\"-Präfix\n",
        "    date_obj = datetime.strptime(date_str, \"%y%m%d\")\n",
        "    return date_obj"
      ],
      "metadata": {
        "id": "QMcU_jOo6MlD"
      },
      "execution_count": 21,
      "outputs": []
    },
    {
      "cell_type": "code",
      "source": [
        "# Wende die Funktion auf die Spalte an\n",
        "df_Messdaten['Datum'] = df_Messdaten['Datum'].apply(convert_date_format)"
      ],
      "metadata": {
        "id": "3ymirsQx747Z"
      },
      "execution_count": 22,
      "outputs": []
    },
    {
      "cell_type": "code",
      "source": [
        "spalten_zum_loeschen = df_Messdaten.columns[2:18]  # Index 3 bis Index 19\n",
        "df_Messdaten.drop(spalten_zum_loeschen, axis=1, inplace=True)"
      ],
      "metadata": {
        "id": "wqjrgDVjk70T"
      },
      "execution_count": 23,
      "outputs": []
    },
    {
      "cell_type": "code",
      "source": [
        "# Splaten umbennen und ordnen\n",
        "spalte_uhrzeit = pd.to_datetime(df_Messdaten['Wert1'], unit='s').dt.time\n",
        "\n",
        "position = 1\n",
        "df_Messdaten.insert(position, 'Uhrzeit', spalte_uhrzeit)\n",
        "\n",
        "spaltenname = 'Messzeitpunkt'\n",
        "df_Messdaten.rename(columns={'Wert1': spaltenname}, inplace=True)\n",
        "\n",
        "df_Messdaten.insert(0, 'Datetime', df_Messdaten['Datum'] + pd.to_timedelta(df_Messdaten['Uhrzeit'].astype(str)))"
      ],
      "metadata": {
        "id": "XWd1u0bkm4Y8"
      },
      "execution_count": 24,
      "outputs": []
    },
    {
      "cell_type": "code",
      "source": [
        "# Splaten in float umwandeln\n",
        "df_Messdaten[np_Wellenlaenge] = df_Messdaten[np_Wellenlaenge].astype(float)"
      ],
      "metadata": {
        "id": "mIi1pCXGsjJe"
      },
      "execution_count": 25,
      "outputs": []
    },
    {
      "cell_type": "code",
      "source": [
        "print(df_Messdaten)"
      ],
      "metadata": {
        "id": "OthU3VWUsafB",
        "outputId": "2619f91c-3d68-4109-8b32-b6e424c50102",
        "colab": {
          "base_uri": "https://localhost:8080/"
        }
      },
      "execution_count": 26,
      "outputs": [
        {
          "output_type": "stream",
          "name": "stdout",
          "text": [
            "                Datetime      Datum   Uhrzeit Messzeitpunkt  290.0  290.1  \\\n",
            "0    2022-09-06 04:32:00 2022-09-06  04:32:00         16320    NaN    NaN   \n",
            "1    2022-09-06 04:34:00 2022-09-06  04:34:00         16440    NaN    NaN   \n",
            "2    2022-09-06 04:36:00 2022-09-06  04:36:00         16560    NaN    NaN   \n",
            "3    2022-09-06 04:38:00 2022-09-06  04:38:00         16680    NaN    NaN   \n",
            "4    2022-09-06 04:40:00 2022-09-06  04:40:00         16800    NaN    NaN   \n",
            "...                  ...        ...       ...           ...    ...    ...   \n",
            "8254 2022-09-01 16:30:00 2022-09-01  16:30:00         59400    NaN    NaN   \n",
            "8255 2022-09-01 16:32:00 2022-09-01  16:32:00         59520    NaN    NaN   \n",
            "8256 2022-09-01 16:34:00 2022-09-01  16:34:00         59640    NaN    NaN   \n",
            "8257 2022-09-01 16:36:00 2022-09-01  16:36:00         59760    NaN    NaN   \n",
            "8258 2022-09-01 16:38:00 2022-09-01  16:38:00         59880    NaN    NaN   \n",
            "\n",
            "      290.2  290.3  290.4  290.5  ...  419.1  419.2  419.3  419.4  419.5  \\\n",
            "0       NaN    NaN    NaN    NaN  ...    NaN    NaN    NaN    NaN    NaN   \n",
            "1       NaN    NaN    NaN    NaN  ...    NaN    NaN    NaN    NaN    NaN   \n",
            "2       NaN    NaN    NaN    NaN  ...    NaN    NaN    NaN    NaN    NaN   \n",
            "3       NaN    NaN    NaN    NaN  ...    NaN    NaN    NaN    NaN    NaN   \n",
            "4       NaN    NaN    NaN    NaN  ...    NaN    NaN    NaN    NaN    NaN   \n",
            "...     ...    ...    ...    ...  ...    ...    ...    ...    ...    ...   \n",
            "8254    NaN    NaN    NaN    NaN  ...    NaN    NaN    NaN    NaN    NaN   \n",
            "8255    NaN    NaN    NaN    NaN  ...    NaN    NaN    NaN    NaN    NaN   \n",
            "8256    NaN    NaN    NaN    NaN  ...    NaN    NaN    NaN    NaN    NaN   \n",
            "8257    NaN    NaN    NaN    NaN  ...    NaN    NaN    NaN    NaN    NaN   \n",
            "8258    NaN    NaN    NaN    NaN  ...    NaN    NaN    NaN    NaN    NaN   \n",
            "\n",
            "      419.6  419.7  419.8  419.9  420.0  \n",
            "0       NaN    NaN    NaN    NaN    NaN  \n",
            "1       NaN    NaN    NaN    NaN    NaN  \n",
            "2       NaN    NaN    NaN    NaN    NaN  \n",
            "3       NaN    NaN    NaN    NaN    NaN  \n",
            "4       NaN    NaN    NaN    NaN    NaN  \n",
            "...     ...    ...    ...    ...    ...  \n",
            "8254    NaN    NaN    NaN    NaN    NaN  \n",
            "8255    NaN    NaN    NaN    NaN    NaN  \n",
            "8256    NaN    NaN    NaN    NaN    NaN  \n",
            "8257    NaN    NaN    NaN    NaN    NaN  \n",
            "8258    NaN    NaN    NaN    NaN    NaN  \n",
            "\n",
            "[8259 rows x 1305 columns]\n"
          ]
        }
      ]
    },
    {
      "cell_type": "code",
      "source": [
        "def save_dataframe_to_drive(dataframe, folder_path, filename):\n",
        "\n",
        "    # Erstelle den vollen Pfad zur Datei\n",
        "    full_path = os.path.join(folder_path, filename)\n",
        "\n",
        "    # Speichere den DataFrame als CSV-Datei auf Google Drive\n",
        "    dataframe.to_csv(full_path, index=False)\n",
        "\n",
        "    print(f'Der DataFrame wurde als {filename} in {folder_path} auf Google Drive gespeichert.')"
      ],
      "metadata": {
        "id": "w8FRjN2a0pic"
      },
      "execution_count": 27,
      "outputs": []
    },
    {
      "cell_type": "code",
      "source": [
        "save_dataframe_to_drive(df_Messdaten, '/content/drive/My Drive/Colab_Notebooks/CSV_Messdaten', month)"
      ],
      "metadata": {
        "colab": {
          "base_uri": "https://localhost:8080/"
        },
        "id": "DO8lF9Vxz6L_",
        "outputId": "9b4e84c9-85fb-4334-da94-dd09e88d66a9"
      },
      "execution_count": 28,
      "outputs": [
        {
          "output_type": "stream",
          "name": "stdout",
          "text": [
            "Der DataFrame wurde als 22.09 in /content/drive/My Drive/Colab_Notebooks/CSV_Messdaten auf Google Drive gespeichert.\n"
          ]
        }
      ]
    },
    {
      "cell_type": "markdown",
      "source": [
        "**Allgemeine Informationen über den Dataframe:**"
      ],
      "metadata": {
        "id": "yBJ_HtttaxJl"
      }
    },
    {
      "cell_type": "code",
      "source": [
        "def finde_max_werte_fuer_alle_spalten(df):\n",
        "    # Erstellt ein Dictionary, um die maximalen Werte jeder Spalte zu speichern\n",
        "    max_werte = {}\n",
        "    id_werte = {}\n",
        "    # Iteriere über alle Spalten im DataFrame\n",
        "    for spalte in df.columns:\n",
        "        # Ignoriere nicht-numerische Spalten\n",
        "        if pd.api.types.is_numeric_dtype(df[spalte]):\n",
        "            max_werte[spalte] = df[spalte].max()      # Maximaler Wert\n",
        "            id_werte[spalte] = df[spalte].idxmax()    # Spalte mit dem höchsten Wert\n",
        "    return max_werte, id_werte"
      ],
      "metadata": {
        "id": "ZOJ5WxI4a5V2"
      },
      "execution_count": 29,
      "outputs": []
    },
    {
      "cell_type": "code",
      "source": [
        "# Funktion um den Maximalen Eintrag einer Spalte zu finden\n",
        "max_werte, id_werte = finde_max_werte_fuer_alle_spalten(df_Messdaten[np_Wellenlaenge])"
      ],
      "metadata": {
        "id": "6PNKCiOWa_8q"
      },
      "execution_count": 30,
      "outputs": []
    },
    {
      "cell_type": "code",
      "source": [
        "# Plotten der maximalen Werte nach Wellenlänge\n",
        "schluessel_max = list(max_werte.keys())\n",
        "werte_max = list(max_werte.values())\n",
        "plt.plot(schluessel_max, werte_max)"
      ],
      "metadata": {
        "id": "jpxT-qAJbH2h",
        "outputId": "f5d9ef3e-bb7b-4108-d534-3fbc1a87773f",
        "colab": {
          "base_uri": "https://localhost:8080/",
          "height": 447
        }
      },
      "execution_count": 31,
      "outputs": [
        {
          "output_type": "execute_result",
          "data": {
            "text/plain": [
              "[<matplotlib.lines.Line2D at 0x7ae15303e140>]"
            ]
          },
          "metadata": {},
          "execution_count": 31
        },
        {
          "output_type": "display_data",
          "data": {
            "text/plain": [
              "<Figure size 640x480 with 1 Axes>"
            ],
            "image/png": "[encoded data removed]"
          },
          "metadata": {}
        }
      ]
    },
    {
      "cell_type": "code",
      "source": [
        "max_werte_rows, id_werte_rows = finde_max_werte_fuer_alle_spalten(df_rows[np_Wellenlaenge])\n",
        "\n",
        "schluessel_max = list(max_werte_rows.keys())      # Spalte mit dem maximalen Eintrag\n",
        "werte_max = list(max_werte_rows.values())         # Maximaler Wert\n",
        "plt.plot(schluessel_max, werte_max)               # Plotten der maximalen Werte über den jeweiligen Wellenlängen"
      ],
      "metadata": {
        "colab": {
          "base_uri": "https://localhost:8080/",
          "height": 447
        },
        "id": "ZJDQWYFev54X",
        "outputId": "eb8a8ac1-7695-44ba-bec9-8b79a426b720"
      },
      "execution_count": 32,
      "outputs": [
        {
          "output_type": "execute_result",
          "data": {
            "text/plain": [
              "[<matplotlib.lines.Line2D at 0x7ae156631c60>]"
            ]
          },
          "metadata": {},
          "execution_count": 32
        },
        {
          "output_type": "display_data",
          "data": {
            "text/plain": [
              "<Figure size 640x480 with 1 Axes>"
            ],
            "image/png": "[encoded data removed]"
          },
          "metadata": {}
        }
      ]
    },
    {
      "cell_type": "code",
      "source": [
        "#\n",
        "schluessel_id = list(id_werte.keys())\n",
        "werte_id = list(id_werte.values())\n",
        "plt.plot(schluessel_id, werte_id)"
      ],
      "metadata": {
        "id": "kgPDlZ2qbIR6",
        "outputId": "5cff5e13-1a94-4d8d-c2fb-eaa1eac96175",
        "colab": {
          "base_uri": "https://localhost:8080/",
          "height": 447
        }
      },
      "execution_count": 33,
      "outputs": [
        {
          "output_type": "execute_result",
          "data": {
            "text/plain": [
              "[<matplotlib.lines.Line2D at 0x7ae15672fd00>]"
            ]
          },
          "metadata": {},
          "execution_count": 33
        },
        {
          "output_type": "display_data",
          "data": {
            "text/plain": [
              "<Figure size 640x480 with 1 Axes>"
            ],
            "image/png": "[encoded data removed]"
          },
          "metadata": {}
        }
      ]
    },
    {
      "cell_type": "code",
      "source": [
        "threshold = 0.000002\n",
        "selected_rows = df_Messdaten[df_Messdaten.iloc[:, 18:1305].gt(threshold).any(axis=1)]"
      ],
      "metadata": {
        "id": "pVHO_7FzpGZ2"
      },
      "execution_count": 48,
      "outputs": []
    },
    {
      "cell_type": "code",
      "source": [
        "selected_rows"
      ],
      "metadata": {
        "id": "IXtd9p757y9T",
        "outputId": "4c19e0f4-9bdb-4c53-fea7-ec1843a20ee1",
        "colab": {
          "base_uri": "https://localhost:8080/",
          "height": 79
        }
      },
      "execution_count": 49,
      "outputs": [
        {
          "output_type": "execute_result",
          "data": {
            "text/plain": [
              "Empty DataFrame\n",
              "Columns: [Datetime, Datum, Uhrzeit, Messzeitpunkt, 290.0, 290.1, 290.2, 290.3, 290.4, 290.5, 290.6, 290.7, 290.8, 290.9, 291.0, 291.1, 291.2, 291.3, 291.4, 291.5, 291.6, 291.7, 291.8, 291.9, 292.0, 292.1, 292.2, 292.3, 292.4, 292.5, 292.6, 292.7, 292.8, 292.9, 293.0, 293.1, 293.2, 293.3, 293.4, 293.5, 293.6, 293.7, 293.8, 293.9, 294.0, 294.1, 294.2, 294.3, 294.4, 294.5, 294.6, 294.7, 294.8, 294.9, 295.0, 295.1, 295.2, 295.3, 295.4, 295.5, 295.6, 295.7, 295.8, 295.9, 296.0, 296.1, 296.2, 296.3, 296.4, 296.5, 296.6, 296.7, 296.8, 296.9, 297.0, 297.1, 297.2, 297.3, 297.4, 297.5, 297.6, 297.7, 297.8, 297.9, 298.0, 298.1, 298.2, 298.3, 298.4, 298.5, 298.6, 298.7, 298.8, 298.9, 299.0, 299.1, 299.2, 299.3, 299.4, 299.5, ...]\n",
              "Index: []\n",
              "\n",
              "[0 rows x 1305 columns]"
            ],
            "text/html": [
              "\n",
              "  <div id=\"df-5cf4840c-4a31-4623-bd54-2e24f2c3ce67\" class=\"colab-df-container\">\n",
              "    <div>\n",
              "<style scoped>\n",
              "    .dataframe tbody tr th:only-of-type {\n",
              "        vertical-align: middle;\n",
              "    }\n",
              "\n",
              "    .dataframe tbody tr th {\n",
              "        vertical-align: top;\n",
              "    }\n",
              "\n",
              "    .dataframe thead th {\n",
              "        text-align: right;\n",
              "    }\n",
              "</style>\n",
              "<table border=\"1\" class=\"dataframe\">\n",
              "  <thead>\n",
              "    <tr style=\"text-align: right;\">\n",
              "      <th></th>\n",
              "      <th>Datetime</th>\n",
              "      <th>Datum</th>\n",
              "      <th>Uhrzeit</th>\n",
              "      <th>Messzeitpunkt</th>\n",
              "      <th>290.0</th>\n",
              "      <th>290.1</th>\n",
              "      <th>290.2</th>\n",
              "      <th>290.3</th>\n",
              "      <th>290.4</th>\n",
              "      <th>290.5</th>\n",
              "      <th>...</th>\n",
              "      <th>419.1</th>\n",
              "      <th>419.2</th>\n",
              "      <th>419.3</th>\n",
              "      <th>419.4</th>\n",
              "      <th>419.5</th>\n",
              "      <th>419.6</th>\n",
              "      <th>419.7</th>\n",
              "      <th>419.8</th>\n",
              "      <th>419.9</th>\n",
              "      <th>420.0</th>\n",
              "    </tr>\n",
              "  </thead>\n",
              "  <tbody>\n",
              "  </tbody>\n",
              "</table>\n",
              "<p>0 rows × 1305 columns</p>\n",
              "</div>\n",
              "    <div class=\"colab-df-buttons\">\n",
              "\n",
              "  <div class=\"colab-df-container\">\n",
              "    <button class=\"colab-df-convert\" onclick=\"convertToInteractive('df-5cf4840c-4a31-4623-bd54-2e24f2c3ce67')\"\n",
              "            title=\"Convert this dataframe to an interactive table.\"\n",
              "            style=\"display:none;\">\n",
              "\n",
              "  <svg xmlns=\"http://www.w3.org/2000/svg\" height=\"24px\" viewBox=\"0 -960 960 960\">\n",
              "    <path d=\"M120-120v-720h720v720H120Zm60-500h600v-160H180v160Zm220 220h160v-160H400v160Zm0 220h160v-160H400v160ZM180-400h160v-160H180v160Zm440 0h160v-160H620v160ZM180-180h160v-160H180v160Zm440 0h160v-160H620v160Z\"/>\n",
              "  </svg>\n",
              "    </button>\n",
              "\n",
              "  <style>\n",
              "    .colab-df-container {\n",
              "      display:flex;\n",
              "      gap: 12px;\n",
              "    }\n",
              "\n",
              "    .colab-df-convert {\n",
              "      background-color: #E8F0FE;\n",
              "      border: none;\n",
              "      border-radius: 50%;\n",
              "      cursor: pointer;\n",
              "      display: none;\n",
              "      fill: #1967D2;\n",
              "      height: 32px;\n",
              "      padding: 0 0 0 0;\n",
              "      width: 32px;\n",
              "    }\n",
              "\n",
              "    .colab-df-convert:hover {\n",
              "      background-color: #E2EBFA;\n",
              "      box-shadow: 0px 1px 2px rgba(60, 64, 67, 0.3), 0px 1px 3px 1px rgba(60, 64, 67, 0.15);\n",
              "      fill: #174EA6;\n",
              "    }\n",
              "\n",
              "    .colab-df-buttons div {\n",
              "      margin-bottom: 4px;\n",
              "    }\n",
              "\n",
              "    [theme=dark] .colab-df-convert {\n",
              "      background-color: #3B4455;\n",
              "      fill: #D2E3FC;\n",
              "    }\n",
              "\n",
              "    [theme=dark] .colab-df-convert:hover {\n",
              "      background-color: #434B5C;\n",
              "      box-shadow: 0px 1px 3px 1px rgba(0, 0, 0, 0.15);\n",
              "      filter: drop-shadow(0px 1px 2px rgba(0, 0, 0, 0.3));\n",
              "      fill: #FFFFFF;\n",
              "    }\n",
              "  </style>\n",
              "\n",
              "    <script>\n",
              "      const buttonEl =\n",
              "        document.querySelector('#df-5cf4840c-4a31-4623-bd54-2e24f2c3ce67 button.colab-df-convert');\n",
              "      buttonEl.style.display =\n",
              "        google.colab.kernel.accessAllowed ? 'block' : 'none';\n",
              "\n",
              "      async function convertToInteractive(key) {\n",
              "        const element = document.querySelector('#df-5cf4840c-4a31-4623-bd54-2e24f2c3ce67');\n",
              "        const dataTable =\n",
              "          await google.colab.kernel.invokeFunction('convertToInteractive',\n",
              "                                                    [key], {});\n",
              "        if (!dataTable) return;\n",
              "\n",
              "        const docLinkHtml = 'Like what you see? Visit the ' +\n",
              "          '<a target=\"_blank\" href=https://colab.research.google.com/notebooks/data_table.ipynb>data table notebook</a>'\n",
              "          + ' to learn more about interactive tables.';\n",
              "        element.innerHTML = '';\n",
              "        dataTable['output_type'] = 'display_data';\n",
              "        await google.colab.output.renderOutput(dataTable, element);\n",
              "        const docLink = document.createElement('div');\n",
              "        docLink.innerHTML = docLinkHtml;\n",
              "        element.appendChild(docLink);\n",
              "      }\n",
              "    </script>\n",
              "  </div>\n",
              "\n",
              "    </div>\n",
              "  </div>\n"
            ]
          },
          "metadata": {},
          "execution_count": 49
        }
      ]
    },
    {
      "cell_type": "markdown",
      "source": [
        "am 01.09 und 02.09 gibt es fehlerhafte Einträge. Diese am besten händisch korregieren."
      ],
      "metadata": {
        "id": "i1cz9If8_cgT"
      }
    }
  ]
}