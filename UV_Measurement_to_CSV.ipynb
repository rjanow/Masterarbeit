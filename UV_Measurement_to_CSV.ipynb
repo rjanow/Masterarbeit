{
  "nbformat": 4,
  "nbformat_minor": 0,
  "metadata": {
    "colab": {
      "provenance": [],
      "authorship_tag": "ABX9TyOQHv81DhSi9Red6a1XonUN",
      "include_colab_link": true
    },
    "kernelspec": {
      "name": "python3",
      "display_name": "Python 3"
    },
    "language_info": {
      "name": "python"
    }
  },
  "cells": [
    {
      "cell_type": "markdown",
      "metadata": {
        "id": "view-in-github",
        "colab_type": "text"
      },
      "source": [
        "<a href=\"https://colab.research.google.com/github/rjanow/Masterarbeit/blob/main/UV_Measurement_to_CSV.ipynb\" target=\"_parent\"><img src=\"https://colab.research.google.com/assets/colab-badge.svg\" alt=\"Open In Colab\"/></a>"
      ]
    },
    {
      "cell_type": "markdown",
      "source": [
        "# Hier werden die Rohdaten des BTS2048-UV-WP in eine nutzbare CSV-Datei geschrieben"
      ],
      "metadata": {
        "id": "VbXcbReNyuop"
      }
    },
    {
      "cell_type": "markdown",
      "source": [
        "Dokumentenname: UV_Measurement_to_CSV.ipynb\n",
        "\n",
        "\n",
        "\n",
        "\n",
        "Es werden die OR0-Daten (NasaAmes-Format), die eigentlich für den Versand an das BFS gedacht sind umgewandelt und in eine CSV-Datei geschrieben. Aufgrund der großen Datenmenge geschieht dies für jeden Monat getrennt."
      ],
      "metadata": {
        "id": "_Euu6x1XyxGL"
      }
    },
    {
      "cell_type": "code",
      "source": [
        "# Import der benötigten Module\n",
        "import os, sys\n",
        "import glob\n",
        "import datetime\n",
        "import pandas as pd\n",
        "import numpy as np\n",
        "import csv\n",
        "import re\n",
        "import matplotlib.pyplot as plt\n",
        "\n",
        "from scipy.io import netcdf\n",
        "from datetime import timedelta\n",
        "from datetime import datetime\n",
        "\n",
        "from google.colab import drive\n",
        "from google.colab import files"
      ],
      "metadata": {
        "id": "6GGZwyBJzVsp"
      },
      "execution_count": 19,
      "outputs": []
    },
    {
      "cell_type": "markdown",
      "source": [
        "**Monat der Exportiert werden soll:**"
      ],
      "metadata": {
        "id": "HYdn1p8-PgJD"
      }
    },
    {
      "cell_type": "code",
      "source": [
        "month = '22.09'"
      ],
      "metadata": {
        "id": "b_lzKoe_Pfgd"
      },
      "execution_count": 20,
      "outputs": []
    },
    {
      "cell_type": "markdown",
      "source": [
        "Zu Beginn muss die Google-Drive eingerichtet werden, in der die Messdaten (OR0-Dateien) gespeichert sind. Danach werden alle verfügbaren Unterordner aufgerufen. So wird geprüft, ob der Mount richtig funktioniert hat."
      ],
      "metadata": {
        "id": "EKAQlrHyWWIP"
      }
    },
    {
      "cell_type": "code",
      "source": [
        "drive.mount('/content/drive')\n",
        "\n",
        "drive_path = '/content/drive/MyDrive'\n",
        "# Durchsuche den Google Drive-Pfad\n",
        "for root, dirs, files in os.walk(drive_path):\n",
        "    for dir in dirs:\n",
        "        # Gib den Namen des Unterordners aus\n",
        "        print(os.path.join(root, dir))"
      ],
      "metadata": {
        "colab": {
          "base_uri": "https://localhost:8080/"
        },
        "id": "T_iN54-sVUVL",
        "outputId": "53a3dfe5-65d7-4801-bbd7-1921716262ec"
      },
      "execution_count": 21,
      "outputs": [
        {
          "output_type": "stream",
          "name": "stdout",
          "text": [
            "Drive already mounted at /content/drive; to attempt to forcibly remount, call drive.mount(\"/content/drive\", force_remount=True).\n",
            "/content/drive/MyDrive/Colab_Notebooks\n",
            "/content/drive/MyDrive/Colab Notebooks\n",
            "/content/drive/MyDrive/Colab_Notebooks/CSV_Messdaten\n",
            "/content/drive/MyDrive/Colab_Notebooks/NasaAmes_Messdaten\n",
            "/content/drive/MyDrive/Colab_Notebooks/CSV_UVI\n",
            "/content/drive/MyDrive/Colab_Notebooks/CSV_Gewichtet\n",
            "/content/drive/MyDrive/Colab_Notebooks/CSV_SolarRadiation\n",
            "/content/drive/MyDrive/Colab_Notebooks/netCDF4_Wetterdaten\n",
            "/content/drive/MyDrive/Colab_Notebooks/CAMS_Vorhersage\n",
            "/content/drive/MyDrive/Colab_Notebooks/Clean_Data\n",
            "/content/drive/MyDrive/Colab_Notebooks/plot_daily_UVI\n",
            "/content/drive/MyDrive/Colab_Notebooks/SOLYS_Messdaten\n",
            "/content/drive/MyDrive/Colab_Notebooks/NasaAmes_Messdaten/Data\n",
            "/content/drive/MyDrive/Colab_Notebooks/NasaAmes_Messdaten/Data/22.07\n",
            "/content/drive/MyDrive/Colab_Notebooks/NasaAmes_Messdaten/Data/22.08\n",
            "/content/drive/MyDrive/Colab_Notebooks/NasaAmes_Messdaten/Data/22.09\n",
            "/content/drive/MyDrive/Colab_Notebooks/NasaAmes_Messdaten/Data/22.10\n",
            "/content/drive/MyDrive/Colab_Notebooks/NasaAmes_Messdaten/Data/22.11\n",
            "/content/drive/MyDrive/Colab_Notebooks/NasaAmes_Messdaten/Data/22.12\n",
            "/content/drive/MyDrive/Colab_Notebooks/NasaAmes_Messdaten/Data/23.01\n",
            "/content/drive/MyDrive/Colab_Notebooks/NasaAmes_Messdaten/Data/23.02\n",
            "/content/drive/MyDrive/Colab_Notebooks/NasaAmes_Messdaten/Data/23.03\n",
            "/content/drive/MyDrive/Colab_Notebooks/NasaAmes_Messdaten/Data/23.04\n",
            "/content/drive/MyDrive/Colab_Notebooks/NasaAmes_Messdaten/Data/23.05\n",
            "/content/drive/MyDrive/Colab_Notebooks/NasaAmes_Messdaten/Data/23.06\n",
            "/content/drive/MyDrive/Colab_Notebooks/NasaAmes_Messdaten/Data/23.07\n",
            "/content/drive/MyDrive/Colab_Notebooks/NasaAmes_Messdaten/Data/23.08\n",
            "/content/drive/MyDrive/Colab_Notebooks/NasaAmes_Messdaten/Data/22.06\n"
          ]
        }
      ]
    },
    {
      "cell_type": "markdown",
      "source": [
        "Danach werden die einzelnen OR0-Dateien (NasaAmes Format) geladen und umgewandelt.\n",
        "\n",
        "Das NasaAmes Format: https://espoarchive.nasa.gov/content/Ames_Format_Specification_v20\n",
        "\n",
        "Die Messdaten sind unter dem FFI (File Format Index) 2005 gespeichert. Dieser Standard ist durch die Nasa nicht dokumentiert. Deshalb nachfolgend ein eigener Parser, der die Daten in eine nutzbare CSV umwandelt."
      ],
      "metadata": {
        "id": "ZRL9H_KEZpgG"
      }
    },
    {
      "cell_type": "markdown",
      "source": [
        "**Beschreibung der einzelnen Dictionaries und deren Inhalt:**\n",
        "\n",
        "- **file_names** = enthält die Dateinamen der einzelnen OR0-Dateien\n",
        "- **file_content** = Enthält den Inhalt der OR0-Dateien\n",
        "- **end_line_header** = enthält die Zeile an dem der Header endet"
      ],
      "metadata": {
        "id": "TI_gn6B6_qGL"
      }
    },
    {
      "cell_type": "markdown",
      "source": [
        "**Dateien einlesen:**"
      ],
      "metadata": {
        "id": "7_mIBaD2FwwZ"
      }
    },
    {
      "cell_type": "code",
      "source": [
        "# Pfad zum Ordner mit den Dateien in Google Drive\n",
        "folder_path = '/content/drive/MyDrive/Colab_Notebooks/NasaAmes_Messdaten/Data/' + month\n",
        "\n",
        "# OR0-Dateien im Ordner lesen\n",
        "file_paths = glob.glob(folder_path + '/*.OR0')\n",
        "\n",
        "# Liste für die Dateinamen erstellen\n",
        "file_names = []\n",
        "\n",
        "# Schleife über die Dateien\n",
        "for file_path in file_paths:\n",
        "\n",
        "    if os.path.getsize(file_path) > 100 * 1024:\n",
        "      # Dateiname extrahieren\n",
        "      file_name = os.path.splitext(os.path.basename(file_path))[0]\n",
        "\n",
        "      # Datei öffnen und Inhalt lesen\n",
        "      with open(file_path, 'r') as file:\n",
        "          file_content = file.read()\n",
        "\n",
        "      # Variable für die Datei erstellen\n",
        "      globals()[file_name] = file_content\n",
        "\n",
        "      file_names.append(file_name)"
      ],
      "metadata": {
        "id": "LJXRx3MKM8L1"
      },
      "execution_count": 22,
      "outputs": []
    },
    {
      "cell_type": "markdown",
      "source": [
        "**Dataframe mit Wellenlängen erstellen:**\n",
        "- Dieser wird später genutzt um die Spalten des Dataframe zu benennen."
      ],
      "metadata": {
        "id": "4sWE034DaFBt"
      }
    },
    {
      "cell_type": "code",
      "source": [
        "def create_df_Wellenlaenge(start, end, step):\n",
        "    # Erstelle eine Liste mit den gewünschten Werten\n",
        "    numbers_list = [round(num, 3) for num in list(np.arange(start, end + step, step))]\n",
        "    # Erstelle den Dataframe\n",
        "    df = pd.DataFrame({'Wellenlaenge': numbers_list})\n",
        "\n",
        "    return df"
      ],
      "metadata": {
        "id": "vR4lB-9hAJZ6"
      },
      "execution_count": 23,
      "outputs": []
    },
    {
      "cell_type": "code",
      "source": [
        "np_Wellenlaenge = np.round(np.arange(290.0, 420.05, 0.1), decimals = 1)\n",
        "df_Wellenlaenge = pd.DataFrame({'Wellenlaenge': np_Wellenlaenge})"
      ],
      "metadata": {
        "id": "ke6b38SlA3B1"
      },
      "execution_count": 24,
      "outputs": []
    },
    {
      "cell_type": "markdown",
      "source": [
        "**String aufteilen in einzelne Zeile schreiben:**\n",
        "\n",
        "- Zur weitern Verarbeitung müssen alle Elemente als einzelene Strings abgespeichet werden."
      ],
      "metadata": {
        "id": "P4FUkD2Lua3i"
      }
    },
    {
      "cell_type": "code",
      "source": [
        "file_content = {}  # Dictionary für die Messungen erstellen\n",
        "\n",
        "for file_name in file_names:\n",
        "    file_variables = globals()[file_name]\n",
        "    file_content[file_name] = file_variables\n",
        "\n",
        "# Auf Variablen zugreifen und String in Zeilen aufteilen\n",
        "for file_name, variable in file_content.items():\n",
        "    file_content[file_name] = file_content[file_name].split('\\n')"
      ],
      "metadata": {
        "id": "JxBOhrPFQIYc"
      },
      "execution_count": 25,
      "outputs": []
    },
    {
      "cell_type": "markdown",
      "source": [
        "**Header extrahieren:**"
      ],
      "metadata": {
        "id": "AaUuqtlgK2Qq"
      }
    },
    {
      "cell_type": "code",
      "source": [
        "# Funktion um den Dateiheader zu extrahieren\n",
        "def perform_action(file_variables, file_names):\n",
        "    header_dict = {file_name: \"\" for file_name in file_names}\n",
        "    end_line_header_fnc = 0\n",
        "\n",
        "    for file_name, data in file_variables.items():\n",
        "        for i, line in enumerate(data):\n",
        "            header_dict[file_name] += line + \"\\n\"\n",
        "            if line.strip() == \"Pyranometer: readout interval [secs]=5\":\n",
        "                end_line_header_fnc = i\n",
        "                break\n",
        "\n",
        "    return header_dict, end_line_header_fnc"
      ],
      "metadata": {
        "id": "rBjd_Y6lEw80"
      },
      "execution_count": 26,
      "outputs": []
    },
    {
      "cell_type": "code",
      "source": [
        "file_header, end_line_header = perform_action(file_content, file_names)"
      ],
      "metadata": {
        "id": "nUdv6oMbE2-q"
      },
      "execution_count": 27,
      "outputs": []
    },
    {
      "cell_type": "markdown",
      "source": [
        "**Header aus Datensatz löschen:**"
      ],
      "metadata": {
        "id": "L_0hAYmkOyxy"
      }
    },
    {
      "cell_type": "code",
      "source": [
        "def remove_header(lines_content, end_line):\n",
        "    lines_WO_header_fnc = {}\n",
        "    lines_WO_header_fnc = lines_content.copy()\n",
        "\n",
        "    for key, value in lines_WO_header_fnc.items():\n",
        "        del value[:end_line+1]\n",
        "\n",
        "    return lines_WO_header_fnc"
      ],
      "metadata": {
        "id": "a9HPMKEdffX1"
      },
      "execution_count": 28,
      "outputs": []
    },
    {
      "cell_type": "code",
      "source": [
        "lines_WO_header = remove_header(file_content, end_line_header)"
      ],
      "metadata": {
        "id": "hxWLzYdkff7w"
      },
      "execution_count": 29,
      "outputs": []
    },
    {
      "cell_type": "markdown",
      "source": [
        "**Elemente aufteilen:**"
      ],
      "metadata": {
        "id": "glLu0-yiZ724"
      }
    },
    {
      "cell_type": "code",
      "source": [
        "def flatten_and_split(input_list):\n",
        "    result = []\n",
        "    for sublist in input_list:\n",
        "        elements = sublist.split()\n",
        "        result.extend(elements)\n",
        "    return result"
      ],
      "metadata": {
        "id": "scwLZbQNt1pO"
      },
      "execution_count": 30,
      "outputs": []
    },
    {
      "cell_type": "code",
      "source": [
        "def process_dict(input_dict):\n",
        "    processed_dict = {}\n",
        "    for key, value in input_dict.items():\n",
        "        processed_value = flatten_and_split(value)\n",
        "        sublists = []\n",
        "        sublist = []\n",
        "        for element in processed_value:\n",
        "            if element.isdigit() and len(element) == 5:\n",
        "                if sublist:\n",
        "                    sublists.append(sublist)\n",
        "                    sublist = []\n",
        "            sublist.append(element)\n",
        "        if sublist:\n",
        "            sublists.append(sublist)\n",
        "        processed_dict[key] = sublists\n",
        "    return processed_dict"
      ],
      "metadata": {
        "id": "aqXTQ0E3t1zT"
      },
      "execution_count": 31,
      "outputs": []
    },
    {
      "cell_type": "code",
      "source": [
        "processed_dict = process_dict(lines_WO_header)"
      ],
      "metadata": {
        "id": "lTaf7gzyt32j"
      },
      "execution_count": 32,
      "outputs": []
    },
    {
      "cell_type": "markdown",
      "source": [
        "**Zeitstempel in Datensatz finden:**"
      ],
      "metadata": {
        "id": "uscoR4cRFvIn"
      }
    },
    {
      "cell_type": "code",
      "source": [
        "# Funktion zum finden eines 5 stelligen Integers (= Zeitstempel)\n",
        "def find_5_digit_integers(input_list):\n",
        "    result = []\n",
        "    for sublist in input_list:\n",
        "        for element in sublist:\n",
        "            if isinstance(element, str) and element.isdigit() and len(element) == 5:\n",
        "                result.append(element)\n",
        "    return result"
      ],
      "metadata": {
        "id": "WI-aukhcgE1E"
      },
      "execution_count": 33,
      "outputs": []
    },
    {
      "cell_type": "code",
      "source": [
        "# Funktion, die durch das dict iterriert\n",
        "def find_5_digit_integers_in_dict(input_dict):\n",
        "    result_dict = {}\n",
        "    for key, value in input_dict.items():\n",
        "        result_dict[key] = find_5_digit_integers(value)\n",
        "    return result_dict"
      ],
      "metadata": {
        "id": "gvgssDUayRve"
      },
      "execution_count": 34,
      "outputs": []
    },
    {
      "cell_type": "code",
      "source": [
        "result_dict = find_5_digit_integers_in_dict(processed_dict)"
      ],
      "metadata": {
        "id": "3dJYofTuiM6m"
      },
      "execution_count": 35,
      "outputs": []
    },
    {
      "cell_type": "markdown",
      "source": [
        "**Dict in Dataframe speichern:**"
      ],
      "metadata": {
        "id": "gapz7ewHV3F4"
      }
    },
    {
      "cell_type": "code",
      "source": [
        "# Erstelle eine leere Liste, um die Zeilen für den DataFrame aufzunehmen\n",
        "data_rows = []\n",
        "df_Messdaten = []\n",
        "\n",
        "# Iteriere durch das verschachtelte Dictionary und erstelle Zeilen für den DataFrame\n",
        "for key, value in processed_dict.items():\n",
        "    for sublist in value:\n",
        "        data_rows.append([key] + sublist)\n",
        "\n",
        "# Definiere Spaltennamen für den DataFrame\n",
        "columns = ['Datum'] + [f'Wert{i}' for i in range(1, len(data_rows[0]))]\n",
        "\n",
        "# Erstelle den Pandas DataFrame\n",
        "df_rows = pd.DataFrame(data_rows, columns=columns)\n",
        "df_Messdaten = df_rows"
      ],
      "metadata": {
        "id": "IxMzzikpWGXY"
      },
      "execution_count": 36,
      "outputs": []
    },
    {
      "cell_type": "markdown",
      "source": [
        "**Prüfen, ob der Inhalt des DF korrekt ist:**"
      ],
      "metadata": {
        "id": "otw05cgGuEG9"
      }
    },
    {
      "cell_type": "code",
      "source": [
        "df_rows"
      ],
      "metadata": {
        "colab": {
          "base_uri": "https://localhost:8080/",
          "height": 424
        },
        "id": "A9285K3xuDk6",
        "outputId": "6c963257-cc75-4c92-f15d-c94c62117fb1"
      },
      "execution_count": 54,
      "outputs": [
        {
          "output_type": "execute_result",
          "data": {
            "text/plain": [
              "                Datetime      Datum   Uhrzeit Messzeitpunkt  290.0  290.1  \\\n",
              "0    2022-09-01 04:32:00 2022-09-01  04:32:00         16320    0.0    0.0   \n",
              "1    2022-09-01 04:34:00 2022-09-01  04:34:00         16440    0.0    0.0   \n",
              "2    2022-09-01 04:36:00 2022-09-01  04:36:00         16560    0.0    0.0   \n",
              "3    2022-09-01 04:38:00 2022-09-01  04:38:00         16680    0.0    0.0   \n",
              "4    2022-09-01 04:40:00 2022-09-01  04:40:00         16800    0.0    0.0   \n",
              "...                  ...        ...       ...           ...    ...    ...   \n",
              "8254 2022-09-30 16:49:00 2022-09-30  16:49:00         60540    0.0    0.0   \n",
              "8255 2022-09-30 16:51:00 2022-09-30  16:51:00         60660    0.0    0.0   \n",
              "8256 2022-09-30 16:53:00 2022-09-30  16:53:00         60780    0.0    0.0   \n",
              "8257 2022-09-30 16:55:00 2022-09-30  16:55:00         60900    0.0    0.0   \n",
              "8258 2022-09-30 16:57:00 2022-09-30  16:57:00         61020    0.0    0.0   \n",
              "\n",
              "      290.2  290.3  290.4  290.5  ...     419.1     419.2     419.3     419.4  \\\n",
              "0       0.0    0.0    0.0    0.0  ...  0.002490  0.002473  0.002423  0.002397   \n",
              "1       0.0    0.0    0.0    0.0  ...  0.003292  0.003265  0.003226  0.003177   \n",
              "2       0.0    0.0    0.0    0.0  ...  0.004140  0.004188  0.004159  0.004103   \n",
              "3       0.0    0.0    0.0    0.0  ...  0.005367  0.005333  0.005260  0.005172   \n",
              "4       0.0    0.0    0.0    0.0  ...  0.006457  0.006432  0.006323  0.006246   \n",
              "...     ...    ...    ...    ...  ...       ...       ...       ...       ...   \n",
              "8254    0.0    0.0    0.0    0.0  ...  0.038798  0.038906  0.038292  0.037494   \n",
              "8255    0.0    0.0    0.0    0.0  ...  0.035141  0.034845  0.034859  0.034050   \n",
              "8256    0.0    0.0    0.0    0.0  ...  0.031837  0.031670  0.031334  0.030829   \n",
              "8257    0.0    0.0    0.0    0.0  ...  0.028340  0.028327  0.027938  0.027533   \n",
              "8258    0.0    0.0    0.0    0.0  ...  0.025196  0.024954  0.024324  0.023959   \n",
              "\n",
              "         419.5     419.6     419.7     419.8     419.9     420.0  \n",
              "0     0.002377  0.002324  0.002312  0.002336  0.002355  0.002355  \n",
              "1     0.003120  0.003073  0.003029  0.003003  0.003032  0.003049  \n",
              "2     0.004046  0.003979  0.003907  0.003866  0.003850  0.003851  \n",
              "3     0.005072  0.004978  0.004917  0.004925  0.004959  0.004964  \n",
              "4     0.006134  0.006043  0.005962  0.005936  0.005979  0.006046  \n",
              "...        ...       ...       ...       ...       ...       ...  \n",
              "8254  0.036998  0.036385  0.035963  0.035801  0.035791  0.036085  \n",
              "8255  0.033600  0.032955  0.032384  0.032201  0.032285  0.032462  \n",
              "8256  0.030298  0.029833  0.029508  0.029329  0.029266  0.029417  \n",
              "8257  0.027039  0.026324  0.025835  0.025747  0.025855  0.026017  \n",
              "8258  0.023347  0.023118  0.022882  0.022875  0.022950  0.023158  \n",
              "\n",
              "[8259 rows x 1305 columns]"
            ],
            "text/html": [
              "\n",
              "  <div id=\"df-64496347-a07e-488e-94ae-694288b69ada\" class=\"colab-df-container\">\n",
              "    <div>\n",
              "<style scoped>\n",
              "    .dataframe tbody tr th:only-of-type {\n",
              "        vertical-align: middle;\n",
              "    }\n",
              "\n",
              "    .dataframe tbody tr th {\n",
              "        vertical-align: top;\n",
              "    }\n",
              "\n",
              "    .dataframe thead th {\n",
              "        text-align: right;\n",
              "    }\n",
              "</style>\n",
              "<table border=\"1\" class=\"dataframe\">\n",
              "  <thead>\n",
              "    <tr style=\"text-align: right;\">\n",
              "      <th></th>\n",
              "      <th>Datetime</th>\n",
              "      <th>Datum</th>\n",
              "      <th>Uhrzeit</th>\n",
              "      <th>Messzeitpunkt</th>\n",
              "      <th>290.0</th>\n",
              "      <th>290.1</th>\n",
              "      <th>290.2</th>\n",
              "      <th>290.3</th>\n",
              "      <th>290.4</th>\n",
              "      <th>290.5</th>\n",
              "      <th>...</th>\n",
              "      <th>419.1</th>\n",
              "      <th>419.2</th>\n",
              "      <th>419.3</th>\n",
              "      <th>419.4</th>\n",
              "      <th>419.5</th>\n",
              "      <th>419.6</th>\n",
              "      <th>419.7</th>\n",
              "      <th>419.8</th>\n",
              "      <th>419.9</th>\n",
              "      <th>420.0</th>\n",
              "    </tr>\n",
              "  </thead>\n",
              "  <tbody>\n",
              "    <tr>\n",
              "      <th>0</th>\n",
              "      <td>2022-09-01 04:32:00</td>\n",
              "      <td>2022-09-01</td>\n",
              "      <td>04:32:00</td>\n",
              "      <td>16320</td>\n",
              "      <td>0.0</td>\n",
              "      <td>0.0</td>\n",
              "      <td>0.0</td>\n",
              "      <td>0.0</td>\n",
              "      <td>0.0</td>\n",
              "      <td>0.0</td>\n",
              "      <td>...</td>\n",
              "      <td>0.002490</td>\n",
              "      <td>0.002473</td>\n",
              "      <td>0.002423</td>\n",
              "      <td>0.002397</td>\n",
              "      <td>0.002377</td>\n",
              "      <td>0.002324</td>\n",
              "      <td>0.002312</td>\n",
              "      <td>0.002336</td>\n",
              "      <td>0.002355</td>\n",
              "      <td>0.002355</td>\n",
              "    </tr>\n",
              "    <tr>\n",
              "      <th>1</th>\n",
              "      <td>2022-09-01 04:34:00</td>\n",
              "      <td>2022-09-01</td>\n",
              "      <td>04:34:00</td>\n",
              "      <td>16440</td>\n",
              "      <td>0.0</td>\n",
              "      <td>0.0</td>\n",
              "      <td>0.0</td>\n",
              "      <td>0.0</td>\n",
              "      <td>0.0</td>\n",
              "      <td>0.0</td>\n",
              "      <td>...</td>\n",
              "      <td>0.003292</td>\n",
              "      <td>0.003265</td>\n",
              "      <td>0.003226</td>\n",
              "      <td>0.003177</td>\n",
              "      <td>0.003120</td>\n",
              "      <td>0.003073</td>\n",
              "      <td>0.003029</td>\n",
              "      <td>0.003003</td>\n",
              "      <td>0.003032</td>\n",
              "      <td>0.003049</td>\n",
              "    </tr>\n",
              "    <tr>\n",
              "      <th>2</th>\n",
              "      <td>2022-09-01 04:36:00</td>\n",
              "      <td>2022-09-01</td>\n",
              "      <td>04:36:00</td>\n",
              "      <td>16560</td>\n",
              "      <td>0.0</td>\n",
              "      <td>0.0</td>\n",
              "      <td>0.0</td>\n",
              "      <td>0.0</td>\n",
              "      <td>0.0</td>\n",
              "      <td>0.0</td>\n",
              "      <td>...</td>\n",
              "      <td>0.004140</td>\n",
              "      <td>0.004188</td>\n",
              "      <td>0.004159</td>\n",
              "      <td>0.004103</td>\n",
              "      <td>0.004046</td>\n",
              "      <td>0.003979</td>\n",
              "      <td>0.003907</td>\n",
              "      <td>0.003866</td>\n",
              "      <td>0.003850</td>\n",
              "      <td>0.003851</td>\n",
              "    </tr>\n",
              "    <tr>\n",
              "      <th>3</th>\n",
              "      <td>2022-09-01 04:38:00</td>\n",
              "      <td>2022-09-01</td>\n",
              "      <td>04:38:00</td>\n",
              "      <td>16680</td>\n",
              "      <td>0.0</td>\n",
              "      <td>0.0</td>\n",
              "      <td>0.0</td>\n",
              "      <td>0.0</td>\n",
              "      <td>0.0</td>\n",
              "      <td>0.0</td>\n",
              "      <td>...</td>\n",
              "      <td>0.005367</td>\n",
              "      <td>0.005333</td>\n",
              "      <td>0.005260</td>\n",
              "      <td>0.005172</td>\n",
              "      <td>0.005072</td>\n",
              "      <td>0.004978</td>\n",
              "      <td>0.004917</td>\n",
              "      <td>0.004925</td>\n",
              "      <td>0.004959</td>\n",
              "      <td>0.004964</td>\n",
              "    </tr>\n",
              "    <tr>\n",
              "      <th>4</th>\n",
              "      <td>2022-09-01 04:40:00</td>\n",
              "      <td>2022-09-01</td>\n",
              "      <td>04:40:00</td>\n",
              "      <td>16800</td>\n",
              "      <td>0.0</td>\n",
              "      <td>0.0</td>\n",
              "      <td>0.0</td>\n",
              "      <td>0.0</td>\n",
              "      <td>0.0</td>\n",
              "      <td>0.0</td>\n",
              "      <td>...</td>\n",
              "      <td>0.006457</td>\n",
              "      <td>0.006432</td>\n",
              "      <td>0.006323</td>\n",
              "      <td>0.006246</td>\n",
              "      <td>0.006134</td>\n",
              "      <td>0.006043</td>\n",
              "      <td>0.005962</td>\n",
              "      <td>0.005936</td>\n",
              "      <td>0.005979</td>\n",
              "      <td>0.006046</td>\n",
              "    </tr>\n",
              "    <tr>\n",
              "      <th>...</th>\n",
              "      <td>...</td>\n",
              "      <td>...</td>\n",
              "      <td>...</td>\n",
              "      <td>...</td>\n",
              "      <td>...</td>\n",
              "      <td>...</td>\n",
              "      <td>...</td>\n",
              "      <td>...</td>\n",
              "      <td>...</td>\n",
              "      <td>...</td>\n",
              "      <td>...</td>\n",
              "      <td>...</td>\n",
              "      <td>...</td>\n",
              "      <td>...</td>\n",
              "      <td>...</td>\n",
              "      <td>...</td>\n",
              "      <td>...</td>\n",
              "      <td>...</td>\n",
              "      <td>...</td>\n",
              "      <td>...</td>\n",
              "      <td>...</td>\n",
              "    </tr>\n",
              "    <tr>\n",
              "      <th>8254</th>\n",
              "      <td>2022-09-30 16:49:00</td>\n",
              "      <td>2022-09-30</td>\n",
              "      <td>16:49:00</td>\n",
              "      <td>60540</td>\n",
              "      <td>0.0</td>\n",
              "      <td>0.0</td>\n",
              "      <td>0.0</td>\n",
              "      <td>0.0</td>\n",
              "      <td>0.0</td>\n",
              "      <td>0.0</td>\n",
              "      <td>...</td>\n",
              "      <td>0.038798</td>\n",
              "      <td>0.038906</td>\n",
              "      <td>0.038292</td>\n",
              "      <td>0.037494</td>\n",
              "      <td>0.036998</td>\n",
              "      <td>0.036385</td>\n",
              "      <td>0.035963</td>\n",
              "      <td>0.035801</td>\n",
              "      <td>0.035791</td>\n",
              "      <td>0.036085</td>\n",
              "    </tr>\n",
              "    <tr>\n",
              "      <th>8255</th>\n",
              "      <td>2022-09-30 16:51:00</td>\n",
              "      <td>2022-09-30</td>\n",
              "      <td>16:51:00</td>\n",
              "      <td>60660</td>\n",
              "      <td>0.0</td>\n",
              "      <td>0.0</td>\n",
              "      <td>0.0</td>\n",
              "      <td>0.0</td>\n",
              "      <td>0.0</td>\n",
              "      <td>0.0</td>\n",
              "      <td>...</td>\n",
              "      <td>0.035141</td>\n",
              "      <td>0.034845</td>\n",
              "      <td>0.034859</td>\n",
              "      <td>0.034050</td>\n",
              "      <td>0.033600</td>\n",
              "      <td>0.032955</td>\n",
              "      <td>0.032384</td>\n",
              "      <td>0.032201</td>\n",
              "      <td>0.032285</td>\n",
              "      <td>0.032462</td>\n",
              "    </tr>\n",
              "    <tr>\n",
              "      <th>8256</th>\n",
              "      <td>2022-09-30 16:53:00</td>\n",
              "      <td>2022-09-30</td>\n",
              "      <td>16:53:00</td>\n",
              "      <td>60780</td>\n",
              "      <td>0.0</td>\n",
              "      <td>0.0</td>\n",
              "      <td>0.0</td>\n",
              "      <td>0.0</td>\n",
              "      <td>0.0</td>\n",
              "      <td>0.0</td>\n",
              "      <td>...</td>\n",
              "      <td>0.031837</td>\n",
              "      <td>0.031670</td>\n",
              "      <td>0.031334</td>\n",
              "      <td>0.030829</td>\n",
              "      <td>0.030298</td>\n",
              "      <td>0.029833</td>\n",
              "      <td>0.029508</td>\n",
              "      <td>0.029329</td>\n",
              "      <td>0.029266</td>\n",
              "      <td>0.029417</td>\n",
              "    </tr>\n",
              "    <tr>\n",
              "      <th>8257</th>\n",
              "      <td>2022-09-30 16:55:00</td>\n",
              "      <td>2022-09-30</td>\n",
              "      <td>16:55:00</td>\n",
              "      <td>60900</td>\n",
              "      <td>0.0</td>\n",
              "      <td>0.0</td>\n",
              "      <td>0.0</td>\n",
              "      <td>0.0</td>\n",
              "      <td>0.0</td>\n",
              "      <td>0.0</td>\n",
              "      <td>...</td>\n",
              "      <td>0.028340</td>\n",
              "      <td>0.028327</td>\n",
              "      <td>0.027938</td>\n",
              "      <td>0.027533</td>\n",
              "      <td>0.027039</td>\n",
              "      <td>0.026324</td>\n",
              "      <td>0.025835</td>\n",
              "      <td>0.025747</td>\n",
              "      <td>0.025855</td>\n",
              "      <td>0.026017</td>\n",
              "    </tr>\n",
              "    <tr>\n",
              "      <th>8258</th>\n",
              "      <td>2022-09-30 16:57:00</td>\n",
              "      <td>2022-09-30</td>\n",
              "      <td>16:57:00</td>\n",
              "      <td>61020</td>\n",
              "      <td>0.0</td>\n",
              "      <td>0.0</td>\n",
              "      <td>0.0</td>\n",
              "      <td>0.0</td>\n",
              "      <td>0.0</td>\n",
              "      <td>0.0</td>\n",
              "      <td>...</td>\n",
              "      <td>0.025196</td>\n",
              "      <td>0.024954</td>\n",
              "      <td>0.024324</td>\n",
              "      <td>0.023959</td>\n",
              "      <td>0.023347</td>\n",
              "      <td>0.023118</td>\n",
              "      <td>0.022882</td>\n",
              "      <td>0.022875</td>\n",
              "      <td>0.022950</td>\n",
              "      <td>0.023158</td>\n",
              "    </tr>\n",
              "  </tbody>\n",
              "</table>\n",
              "<p>8259 rows × 1305 columns</p>\n",
              "</div>\n",
              "    <div class=\"colab-df-buttons\">\n",
              "\n",
              "  <div class=\"colab-df-container\">\n",
              "    <button class=\"colab-df-convert\" onclick=\"convertToInteractive('df-64496347-a07e-488e-94ae-694288b69ada')\"\n",
              "            title=\"Convert this dataframe to an interactive table.\"\n",
              "            style=\"display:none;\">\n",
              "\n",
              "  <svg xmlns=\"http://www.w3.org/2000/svg\" height=\"24px\" viewBox=\"0 -960 960 960\">\n",
              "    <path d=\"M120-120v-720h720v720H120Zm60-500h600v-160H180v160Zm220 220h160v-160H400v160Zm0 220h160v-160H400v160ZM180-400h160v-160H180v160Zm440 0h160v-160H620v160ZM180-180h160v-160H180v160Zm440 0h160v-160H620v160Z\"/>\n",
              "  </svg>\n",
              "    </button>\n",
              "\n",
              "  <style>\n",
              "    .colab-df-container {\n",
              "      display:flex;\n",
              "      gap: 12px;\n",
              "    }\n",
              "\n",
              "    .colab-df-convert {\n",
              "      background-color: #E8F0FE;\n",
              "      border: none;\n",
              "      border-radius: 50%;\n",
              "      cursor: pointer;\n",
              "      display: none;\n",
              "      fill: #1967D2;\n",
              "      height: 32px;\n",
              "      padding: 0 0 0 0;\n",
              "      width: 32px;\n",
              "    }\n",
              "\n",
              "    .colab-df-convert:hover {\n",
              "      background-color: #E2EBFA;\n",
              "      box-shadow: 0px 1px 2px rgba(60, 64, 67, 0.3), 0px 1px 3px 1px rgba(60, 64, 67, 0.15);\n",
              "      fill: #174EA6;\n",
              "    }\n",
              "\n",
              "    .colab-df-buttons div {\n",
              "      margin-bottom: 4px;\n",
              "    }\n",
              "\n",
              "    [theme=dark] .colab-df-convert {\n",
              "      background-color: #3B4455;\n",
              "      fill: #D2E3FC;\n",
              "    }\n",
              "\n",
              "    [theme=dark] .colab-df-convert:hover {\n",
              "      background-color: #434B5C;\n",
              "      box-shadow: 0px 1px 3px 1px rgba(0, 0, 0, 0.15);\n",
              "      filter: drop-shadow(0px 1px 2px rgba(0, 0, 0, 0.3));\n",
              "      fill: #FFFFFF;\n",
              "    }\n",
              "  </style>\n",
              "\n",
              "    <script>\n",
              "      const buttonEl =\n",
              "        document.querySelector('#df-64496347-a07e-488e-94ae-694288b69ada button.colab-df-convert');\n",
              "      buttonEl.style.display =\n",
              "        google.colab.kernel.accessAllowed ? 'block' : 'none';\n",
              "\n",
              "      async function convertToInteractive(key) {\n",
              "        const element = document.querySelector('#df-64496347-a07e-488e-94ae-694288b69ada');\n",
              "        const dataTable =\n",
              "          await google.colab.kernel.invokeFunction('convertToInteractive',\n",
              "                                                    [key], {});\n",
              "        if (!dataTable) return;\n",
              "\n",
              "        const docLinkHtml = 'Like what you see? Visit the ' +\n",
              "          '<a target=\"_blank\" href=https://colab.research.google.com/notebooks/data_table.ipynb>data table notebook</a>'\n",
              "          + ' to learn more about interactive tables.';\n",
              "        element.innerHTML = '';\n",
              "        dataTable['output_type'] = 'display_data';\n",
              "        await google.colab.output.renderOutput(dataTable, element);\n",
              "        const docLink = document.createElement('div');\n",
              "        docLink.innerHTML = docLinkHtml;\n",
              "        element.appendChild(docLink);\n",
              "      }\n",
              "    </script>\n",
              "  </div>\n",
              "\n",
              "\n",
              "<div id=\"df-260e91a3-5301-44ce-a43b-ce9d19d9eecd\">\n",
              "  <button class=\"colab-df-quickchart\" onclick=\"quickchart('df-260e91a3-5301-44ce-a43b-ce9d19d9eecd')\"\n",
              "            title=\"Suggest charts\"\n",
              "            style=\"display:none;\">\n",
              "\n",
              "<svg xmlns=\"http://www.w3.org/2000/svg\" height=\"24px\"viewBox=\"0 0 24 24\"\n",
              "     width=\"24px\">\n",
              "    <g>\n",
              "        <path d=\"M19 3H5c-1.1 0-2 .9-2 2v14c0 1.1.9 2 2 2h14c1.1 0 2-.9 2-2V5c0-1.1-.9-2-2-2zM9 17H7v-7h2v7zm4 0h-2V7h2v10zm4 0h-2v-4h2v4z\"/>\n",
              "    </g>\n",
              "</svg>\n",
              "  </button>\n",
              "\n",
              "<style>\n",
              "  .colab-df-quickchart {\n",
              "      --bg-color: #E8F0FE;\n",
              "      --fill-color: #1967D2;\n",
              "      --hover-bg-color: #E2EBFA;\n",
              "      --hover-fill-color: #174EA6;\n",
              "      --disabled-fill-color: #AAA;\n",
              "      --disabled-bg-color: #DDD;\n",
              "  }\n",
              "\n",
              "  [theme=dark] .colab-df-quickchart {\n",
              "      --bg-color: #3B4455;\n",
              "      --fill-color: #D2E3FC;\n",
              "      --hover-bg-color: #434B5C;\n",
              "      --hover-fill-color: #FFFFFF;\n",
              "      --disabled-bg-color: #3B4455;\n",
              "      --disabled-fill-color: #666;\n",
              "  }\n",
              "\n",
              "  .colab-df-quickchart {\n",
              "    background-color: var(--bg-color);\n",
              "    border: none;\n",
              "    border-radius: 50%;\n",
              "    cursor: pointer;\n",
              "    display: none;\n",
              "    fill: var(--fill-color);\n",
              "    height: 32px;\n",
              "    padding: 0;\n",
              "    width: 32px;\n",
              "  }\n",
              "\n",
              "  .colab-df-quickchart:hover {\n",
              "    background-color: var(--hover-bg-color);\n",
              "    box-shadow: 0 1px 2px rgba(60, 64, 67, 0.3), 0 1px 3px 1px rgba(60, 64, 67, 0.15);\n",
              "    fill: var(--button-hover-fill-color);\n",
              "  }\n",
              "\n",
              "  .colab-df-quickchart-complete:disabled,\n",
              "  .colab-df-quickchart-complete:disabled:hover {\n",
              "    background-color: var(--disabled-bg-color);\n",
              "    fill: var(--disabled-fill-color);\n",
              "    box-shadow: none;\n",
              "  }\n",
              "\n",
              "  .colab-df-spinner {\n",
              "    border: 2px solid var(--fill-color);\n",
              "    border-color: transparent;\n",
              "    border-bottom-color: var(--fill-color);\n",
              "    animation:\n",
              "      spin 1s steps(1) infinite;\n",
              "  }\n",
              "\n",
              "  @keyframes spin {\n",
              "    0% {\n",
              "      border-color: transparent;\n",
              "      border-bottom-color: var(--fill-color);\n",
              "      border-left-color: var(--fill-color);\n",
              "    }\n",
              "    20% {\n",
              "      border-color: transparent;\n",
              "      border-left-color: var(--fill-color);\n",
              "      border-top-color: var(--fill-color);\n",
              "    }\n",
              "    30% {\n",
              "      border-color: transparent;\n",
              "      border-left-color: var(--fill-color);\n",
              "      border-top-color: var(--fill-color);\n",
              "      border-right-color: var(--fill-color);\n",
              "    }\n",
              "    40% {\n",
              "      border-color: transparent;\n",
              "      border-right-color: var(--fill-color);\n",
              "      border-top-color: var(--fill-color);\n",
              "    }\n",
              "    60% {\n",
              "      border-color: transparent;\n",
              "      border-right-color: var(--fill-color);\n",
              "    }\n",
              "    80% {\n",
              "      border-color: transparent;\n",
              "      border-right-color: var(--fill-color);\n",
              "      border-bottom-color: var(--fill-color);\n",
              "    }\n",
              "    90% {\n",
              "      border-color: transparent;\n",
              "      border-bottom-color: var(--fill-color);\n",
              "    }\n",
              "  }\n",
              "</style>\n",
              "\n",
              "  <script>\n",
              "    async function quickchart(key) {\n",
              "      const quickchartButtonEl =\n",
              "        document.querySelector('#' + key + ' button');\n",
              "      quickchartButtonEl.disabled = true;  // To prevent multiple clicks.\n",
              "      quickchartButtonEl.classList.add('colab-df-spinner');\n",
              "      try {\n",
              "        const charts = await google.colab.kernel.invokeFunction(\n",
              "            'suggestCharts', [key], {});\n",
              "      } catch (error) {\n",
              "        console.error('Error during call to suggestCharts:', error);\n",
              "      }\n",
              "      quickchartButtonEl.classList.remove('colab-df-spinner');\n",
              "      quickchartButtonEl.classList.add('colab-df-quickchart-complete');\n",
              "    }\n",
              "    (() => {\n",
              "      let quickchartButtonEl =\n",
              "        document.querySelector('#df-260e91a3-5301-44ce-a43b-ce9d19d9eecd button');\n",
              "      quickchartButtonEl.style.display =\n",
              "        google.colab.kernel.accessAllowed ? 'block' : 'none';\n",
              "    })();\n",
              "  </script>\n",
              "</div>\n",
              "    </div>\n",
              "  </div>\n"
            ]
          },
          "metadata": {},
          "execution_count": 54
        }
      ]
    },
    {
      "cell_type": "markdown",
      "source": [
        "**Konvertieren des DF:**"
      ],
      "metadata": {
        "id": "hEUUcL5RuL_t"
      }
    },
    {
      "cell_type": "code",
      "source": [
        "# Bestimme die Indexposition, ab der die neuen Spaltennamen zugewiesen werden sollen\n",
        "start_index = 18  # Beispiel: Beginne ab der dritten Spalte\n",
        "\n",
        "# Extrahiere die neuen Spaltennamen aus dem zweiten DataFrame\n",
        "new_column_names = df_Wellenlaenge['Wellenlaenge'].tolist()\n",
        "\n",
        "# Ändere die Spaltennamen des DataFrames ab der angegebenen Indexposition\n",
        "for i, new_name in enumerate(new_column_names):\n",
        "    df_Messdaten.columns.values[start_index + i] = new_name"
      ],
      "metadata": {
        "id": "HK9mS7hkjQGB"
      },
      "execution_count": 37,
      "outputs": []
    },
    {
      "cell_type": "code",
      "source": [
        "# Funktion zum Konvertieren des Datumsformats\n",
        "def convert_date_format(date_str):\n",
        "    date_str = date_str[2:]  # Entferne das \"SA\"-Präfix\n",
        "    date_obj = datetime.strptime(date_str, \"%y%m%d\")\n",
        "    return date_obj"
      ],
      "metadata": {
        "id": "QMcU_jOo6MlD"
      },
      "execution_count": 38,
      "outputs": []
    },
    {
      "cell_type": "code",
      "source": [
        "# Wende die Funktion auf die Spalte an\n",
        "df_Messdaten['Datum'] = df_Messdaten['Datum'].apply(convert_date_format)"
      ],
      "metadata": {
        "id": "3ymirsQx747Z"
      },
      "execution_count": 39,
      "outputs": []
    },
    {
      "cell_type": "code",
      "source": [
        "spalten_zum_loeschen = df_Messdaten.columns[2:18]  # Index 3 bis Index 19\n",
        "df_Messdaten.drop(spalten_zum_loeschen, axis=1, inplace=True)"
      ],
      "metadata": {
        "id": "wqjrgDVjk70T"
      },
      "execution_count": 40,
      "outputs": []
    },
    {
      "cell_type": "code",
      "source": [
        "# Splaten umbennen und ordnen\n",
        "spalte_uhrzeit = pd.to_datetime(df_Messdaten['Wert1'], unit='s').dt.time\n",
        "\n",
        "position = 1\n",
        "df_Messdaten.insert(position, 'Uhrzeit', spalte_uhrzeit)\n",
        "\n",
        "spaltenname = 'Messzeitpunkt'\n",
        "df_Messdaten.rename(columns={'Wert1': spaltenname}, inplace=True)\n",
        "\n",
        "df_Messdaten.insert(0, 'Datetime', df_Messdaten['Datum'] + pd.to_timedelta(df_Messdaten['Uhrzeit'].astype(str)))"
      ],
      "metadata": {
        "id": "XWd1u0bkm4Y8"
      },
      "execution_count": 41,
      "outputs": []
    },
    {
      "cell_type": "code",
      "source": [
        "# Splaten in float umwandeln\n",
        "df_Messdaten[np_Wellenlaenge] = df_Messdaten[np_Wellenlaenge].astype(float)"
      ],
      "metadata": {
        "id": "mIi1pCXGsjJe"
      },
      "execution_count": 43,
      "outputs": []
    },
    {
      "cell_type": "code",
      "source": [
        "print(df_Messdaten)"
      ],
      "metadata": {
        "id": "OthU3VWUsafB",
        "outputId": "d33b4630-ded4-49be-d27d-3e8a4af32ae4",
        "colab": {
          "base_uri": "https://localhost:8080/"
        }
      },
      "execution_count": 44,
      "outputs": [
        {
          "output_type": "stream",
          "name": "stdout",
          "text": [
            "                Datetime      Datum   Uhrzeit Messzeitpunkt  290.0  290.1  \\\n",
            "0    2022-09-01 04:32:00 2022-09-01  04:32:00         16320    0.0    0.0   \n",
            "1    2022-09-01 04:34:00 2022-09-01  04:34:00         16440    0.0    0.0   \n",
            "2    2022-09-01 04:36:00 2022-09-01  04:36:00         16560    0.0    0.0   \n",
            "3    2022-09-01 04:38:00 2022-09-01  04:38:00         16680    0.0    0.0   \n",
            "4    2022-09-01 04:40:00 2022-09-01  04:40:00         16800    0.0    0.0   \n",
            "...                  ...        ...       ...           ...    ...    ...   \n",
            "8254 2022-09-30 16:49:00 2022-09-30  16:49:00         60540    0.0    0.0   \n",
            "8255 2022-09-30 16:51:00 2022-09-30  16:51:00         60660    0.0    0.0   \n",
            "8256 2022-09-30 16:53:00 2022-09-30  16:53:00         60780    0.0    0.0   \n",
            "8257 2022-09-30 16:55:00 2022-09-30  16:55:00         60900    0.0    0.0   \n",
            "8258 2022-09-30 16:57:00 2022-09-30  16:57:00         61020    0.0    0.0   \n",
            "\n",
            "      290.2  290.3  290.4  290.5  ...     419.1     419.2     419.3     419.4  \\\n",
            "0       0.0    0.0    0.0    0.0  ...  0.002490  0.002473  0.002423  0.002397   \n",
            "1       0.0    0.0    0.0    0.0  ...  0.003292  0.003265  0.003226  0.003177   \n",
            "2       0.0    0.0    0.0    0.0  ...  0.004140  0.004188  0.004159  0.004103   \n",
            "3       0.0    0.0    0.0    0.0  ...  0.005367  0.005333  0.005260  0.005172   \n",
            "4       0.0    0.0    0.0    0.0  ...  0.006457  0.006432  0.006323  0.006246   \n",
            "...     ...    ...    ...    ...  ...       ...       ...       ...       ...   \n",
            "8254    0.0    0.0    0.0    0.0  ...  0.038798  0.038906  0.038292  0.037494   \n",
            "8255    0.0    0.0    0.0    0.0  ...  0.035141  0.034845  0.034859  0.034050   \n",
            "8256    0.0    0.0    0.0    0.0  ...  0.031837  0.031670  0.031334  0.030829   \n",
            "8257    0.0    0.0    0.0    0.0  ...  0.028340  0.028327  0.027938  0.027533   \n",
            "8258    0.0    0.0    0.0    0.0  ...  0.025196  0.024954  0.024324  0.023959   \n",
            "\n",
            "         419.5     419.6     419.7     419.8     419.9     420.0  \n",
            "0     0.002377  0.002324  0.002312  0.002336  0.002355  0.002355  \n",
            "1     0.003120  0.003073  0.003029  0.003003  0.003032  0.003049  \n",
            "2     0.004046  0.003979  0.003907  0.003866  0.003850  0.003851  \n",
            "3     0.005072  0.004978  0.004917  0.004925  0.004959  0.004964  \n",
            "4     0.006134  0.006043  0.005962  0.005936  0.005979  0.006046  \n",
            "...        ...       ...       ...       ...       ...       ...  \n",
            "8254  0.036998  0.036385  0.035963  0.035801  0.035791  0.036085  \n",
            "8255  0.033600  0.032955  0.032384  0.032201  0.032285  0.032462  \n",
            "8256  0.030298  0.029833  0.029508  0.029329  0.029266  0.029417  \n",
            "8257  0.027039  0.026324  0.025835  0.025747  0.025855  0.026017  \n",
            "8258  0.023347  0.023118  0.022882  0.022875  0.022950  0.023158  \n",
            "\n",
            "[8259 rows x 1305 columns]\n"
          ]
        }
      ]
    },
    {
      "cell_type": "code",
      "source": [
        "def save_dataframe_to_drive(dataframe, folder_path, filename):\n",
        "\n",
        "    # Erstelle den vollen Pfad zur Datei\n",
        "    full_path = os.path.join(folder_path, filename)\n",
        "\n",
        "    # Speichere den DataFrame als CSV-Datei auf Google Drive\n",
        "    dataframe.to_csv(full_path, index=False)\n",
        "\n",
        "    print(f'Der DataFrame wurde als {filename} in {folder_path} auf Google Drive gespeichert.')"
      ],
      "metadata": {
        "id": "w8FRjN2a0pic"
      },
      "execution_count": 45,
      "outputs": []
    },
    {
      "cell_type": "code",
      "source": [
        "save_dataframe_to_drive(df_Messdaten, '/content/drive/My Drive/Colab_Notebooks/CSV_Messdaten', month)"
      ],
      "metadata": {
        "colab": {
          "base_uri": "https://localhost:8080/"
        },
        "id": "DO8lF9Vxz6L_",
        "outputId": "75714c54-9723-4d02-a9c4-77f650c24054"
      },
      "execution_count": 46,
      "outputs": [
        {
          "output_type": "stream",
          "name": "stdout",
          "text": [
            "Der DataFrame wurde als 22.09 in /content/drive/My Drive/Colab_Notebooks/CSV_Messdaten auf Google Drive gespeichert.\n"
          ]
        }
      ]
    },
    {
      "cell_type": "markdown",
      "source": [
        "**Allgemeine Informationen über den Dataframe:**"
      ],
      "metadata": {
        "id": "yBJ_HtttaxJl"
      }
    },
    {
      "cell_type": "code",
      "source": [
        "def finde_max_werte_fuer_alle_spalten(df):\n",
        "    # Erstellt ein Dictionary, um die maximalen Werte jeder Spalte zu speichern\n",
        "    max_werte = {}\n",
        "    id_werte = {}\n",
        "    # Iteriere über alle Spalten im DataFrame\n",
        "    for spalte in df.columns:\n",
        "        # Ignoriere nicht-numerische Spalten\n",
        "        if pd.api.types.is_numeric_dtype(df[spalte]):\n",
        "            max_werte[spalte] = df[spalte].max()      # Maximaler Wert\n",
        "            id_werte[spalte] = df[spalte].idxmax()    # Spalte mit dem höchsten Wert\n",
        "    return max_werte, id_werte"
      ],
      "metadata": {
        "id": "ZOJ5WxI4a5V2"
      },
      "execution_count": 49,
      "outputs": []
    },
    {
      "cell_type": "code",
      "source": [
        "# Funktion um den Maximalen Eintrag einer Spalte zu finden\n",
        "max_werte, id_werte = finde_max_werte_fuer_alle_spalten(df_Messdaten[np_Wellenlaenge])"
      ],
      "metadata": {
        "id": "6PNKCiOWa_8q"
      },
      "execution_count": 50,
      "outputs": []
    },
    {
      "cell_type": "code",
      "source": [
        "# Plotten der maximalen Werte nach Wellenlänge\n",
        "schluessel_max = list(max_werte.keys())\n",
        "werte_max = list(max_werte.values())\n",
        "plt.plot(schluessel_max, werte_max)"
      ],
      "metadata": {
        "id": "jpxT-qAJbH2h",
        "outputId": "ef43ead0-4a49-41f6-c026-c49f3e3c9e13",
        "colab": {
          "base_uri": "https://localhost:8080/",
          "height": 462
        }
      },
      "execution_count": 51,
      "outputs": [
        {
          "output_type": "execute_result",
          "data": {
            "text/plain": [
              "[<matplotlib.lines.Line2D at 0x7902bbc8cc70>]"
            ]
          },
          "metadata": {},
          "execution_count": 51
        },
        {
          "output_type": "display_data",
          "data": {
            "text/plain": [
              "<Figure size 640x480 with 1 Axes>"
            ],
            "image/png": "[encoded data removed]"
          },
          "metadata": {}
        }
      ]
    },
    {
      "cell_type": "code",
      "source": [
        "max_werte_rows, id_werte_rows = finde_max_werte_fuer_alle_spalten(df_rows[np_Wellenlaenge])\n",
        "\n",
        "schluessel_max = list(max_werte_rows.keys())      # Spalte mit dem maximalen Eintrag\n",
        "werte_max = list(max_werte_rows.values())         # Maximaler Wert\n",
        "plt.plot(schluessel_max, werte_max)               # Plotten der maximalen Werte über den jeweiligen Wellenlängen"
      ],
      "metadata": {
        "colab": {
          "base_uri": "https://localhost:8080/",
          "height": 462
        },
        "id": "ZJDQWYFev54X",
        "outputId": "cc4e5401-a12d-455a-cca3-294537ba0fb4"
      },
      "execution_count": 60,
      "outputs": [
        {
          "output_type": "execute_result",
          "data": {
            "text/plain": [
              "[<matplotlib.lines.Line2D at 0x7902bbaa84f0>]"
            ]
          },
          "metadata": {},
          "execution_count": 60
        },
        {
          "output_type": "display_data",
          "data": {
            "text/plain": [
              "<Figure size 640x480 with 1 Axes>"
            ],
            "image/png": "[encoded data removed]"
          },
          "metadata": {}
        }
      ]
    },
    {
      "cell_type": "code",
      "source": [
        "#\n",
        "schluessel_id = list(id_werte.keys())\n",
        "werte_id = list(id_werte.values())\n",
        "plt.plot(schluessel_id, werte_id)"
      ],
      "metadata": {
        "id": "kgPDlZ2qbIR6",
        "outputId": "d1327814-b47f-4485-b52a-27b29978a415",
        "colab": {
          "base_uri": "https://localhost:8080/",
          "height": 447
        }
      },
      "execution_count": 52,
      "outputs": [
        {
          "output_type": "execute_result",
          "data": {
            "text/plain": [
              "[<matplotlib.lines.Line2D at 0x7902bbc63a30>]"
            ]
          },
          "metadata": {},
          "execution_count": 52
        },
        {
          "output_type": "display_data",
          "data": {
            "text/plain": [
              "<Figure size 640x480 with 1 Axes>"
            ],
            "image/png": "[encoded data removed]"
          },
          "metadata": {}
        }
      ]
    },
    {
      "cell_type": "code",
      "source": [
        "threshold = 50\n",
        "selected_rows = df_Messdaten[df_Messdaten.iloc[:, 18:1305].gt(threshold).any(axis=1)]"
      ],
      "metadata": {
        "id": "pVHO_7FzpGZ2"
      },
      "execution_count": 109,
      "outputs": []
    },
    {
      "cell_type": "code",
      "source": [
        "selected_rows"
      ],
      "metadata": {
        "id": "IXtd9p757y9T",
        "outputId": "7fd9379a-f409-406c-ebcb-88bd03f57549",
        "colab": {
          "base_uri": "https://localhost:8080/",
          "height": 517
        }
      },
      "execution_count": 110,
      "outputs": [
        {
          "output_type": "execute_result",
          "data": {
            "text/plain": [
              "               Datetime      Datum   Uhrzeit Messzeitpunkt   290.0   290.1  \\\n",
              "331 2022-09-01 15:34:00 2022-09-01  15:34:00         56040     0.0     0.0   \n",
              "337 2022-09-01 15:52:00 2022-09-01  15:52:00         57120     0.0     0.0   \n",
              "340 2022-09-01 15:58:00 2022-09-01  15:58:00         57480     0.0     0.0   \n",
              "341 2022-09-01 16:00:00 2022-09-01  16:00:00         57600     0.0     0.0   \n",
              "361 2022-09-02 04:32:00 2022-09-02  04:32:00         16320     0.0     0.0   \n",
              "402 2022-09-02 06:06:00 2022-09-02  06:06:00         21960  4389.9  4319.3   \n",
              "406 2022-09-02 06:16:00 2022-09-02  06:16:00         22560  5357.8  5626.1   \n",
              "407 2022-09-02 06:20:00 2022-09-02  06:20:00         22800  5357.8  5626.1   \n",
              "417 2022-09-02 06:42:00 2022-09-02  06:42:00         24120  4318.3  4322.3   \n",
              "\n",
              "      290.2   290.3   290.4   290.5  ...       419.1          419.2  \\\n",
              "331     0.0     0.0     0.0     0.0  ...  861.020000   6.705500e+01   \n",
              "337     0.0     0.0     0.0     0.0  ...  800.570000  3.249700e-317   \n",
              "340     0.0     0.0     0.0     0.0  ...    0.000166   1.875300e-04   \n",
              "341     0.0     0.0     0.0     0.0  ...    0.353450   3.542100e-01   \n",
              "361     0.0     0.0     0.0     0.0  ...    0.000000   0.000000e+00   \n",
              "402  4323.3  4239.1  4180.4  4162.6  ...    0.127620   1.271300e-01   \n",
              "406  5524.6  5320.7  5461.9  5354.7  ...    0.180330   1.800200e-01   \n",
              "407  5524.6  5320.7  5461.9  5354.7  ...    0.180330   1.800200e-01   \n",
              "417  4260.7  4184.7  4166.9  4123.9  ...    0.243290   2.451500e-01   \n",
              "\n",
              "             419.3          419.4     419.5       419.6       419.7  \\\n",
              "331 -4.008700e-318 -1.297500e-309  0.000003  497.040000  675.860000   \n",
              "337  3.113700e-315 -2.459100e-309  0.258540  598.750000  603.170000   \n",
              "340   1.168800e-04   1.353900e-04  0.000011    0.000174    0.000254   \n",
              "341   3.511600e-01   3.442200e-01  0.337560    0.333560    0.329760   \n",
              "361   0.000000e+00   0.000000e+00  0.000000    0.000000    0.000000   \n",
              "402   1.251100e-01   1.228900e-01  0.121030    0.118640    0.117630   \n",
              "406   1.785900e-01   1.761300e-01  0.172980    0.169790    0.167520   \n",
              "407   1.785900e-01   1.761300e-01  0.172980    0.169790    0.167520   \n",
              "417   2.446200e-01   2.415100e-01  0.237610    0.233270    0.229290   \n",
              "\n",
              "             419.8          419.9         420.0  \n",
              "331 -1.216800e-318 -2.916900e-310  1.471300e-07  \n",
              "337  1.334100e-315 -7.930400e-310  4.066700e-02  \n",
              "340   2.594100e-04   2.404700e-04  2.050700e-04  \n",
              "341   3.272800e-01   3.249100e-01  3.262500e-01  \n",
              "361   0.000000e+00   0.000000e+00  0.000000e+00  \n",
              "402   1.172300e-01   1.178500e-01  1.193900e-01  \n",
              "406   1.666100e-01   1.665400e-01  1.670100e-01  \n",
              "407   1.666100e-01   1.665400e-01  1.670100e-01  \n",
              "417   2.278100e-01   2.260100e-01  2.270800e-01  \n",
              "\n",
              "[9 rows x 1305 columns]"
            ],
            "text/html": [
              "\n",
              "  <div id=\"df-1a409af2-c97a-4df5-9a79-efd9ee39f4dd\" class=\"colab-df-container\">\n",
              "    <div>\n",
              "<style scoped>\n",
              "    .dataframe tbody tr th:only-of-type {\n",
              "        vertical-align: middle;\n",
              "    }\n",
              "\n",
              "    .dataframe tbody tr th {\n",
              "        vertical-align: top;\n",
              "    }\n",
              "\n",
              "    .dataframe thead th {\n",
              "        text-align: right;\n",
              "    }\n",
              "</style>\n",
              "<table border=\"1\" class=\"dataframe\">\n",
              "  <thead>\n",
              "    <tr style=\"text-align: right;\">\n",
              "      <th></th>\n",
              "      <th>Datetime</th>\n",
              "      <th>Datum</th>\n",
              "      <th>Uhrzeit</th>\n",
              "      <th>Messzeitpunkt</th>\n",
              "      <th>290.0</th>\n",
              "      <th>290.1</th>\n",
              "      <th>290.2</th>\n",
              "      <th>290.3</th>\n",
              "      <th>290.4</th>\n",
              "      <th>290.5</th>\n",
              "      <th>...</th>\n",
              "      <th>419.1</th>\n",
              "      <th>419.2</th>\n",
              "      <th>419.3</th>\n",
              "      <th>419.4</th>\n",
              "      <th>419.5</th>\n",
              "      <th>419.6</th>\n",
              "      <th>419.7</th>\n",
              "      <th>419.8</th>\n",
              "      <th>419.9</th>\n",
              "      <th>420.0</th>\n",
              "    </tr>\n",
              "  </thead>\n",
              "  <tbody>\n",
              "    <tr>\n",
              "      <th>331</th>\n",
              "      <td>2022-09-01 15:34:00</td>\n",
              "      <td>2022-09-01</td>\n",
              "      <td>15:34:00</td>\n",
              "      <td>56040</td>\n",
              "      <td>0.0</td>\n",
              "      <td>0.0</td>\n",
              "      <td>0.0</td>\n",
              "      <td>0.0</td>\n",
              "      <td>0.0</td>\n",
              "      <td>0.0</td>\n",
              "      <td>...</td>\n",
              "      <td>861.020000</td>\n",
              "      <td>6.705500e+01</td>\n",
              "      <td>-4.008700e-318</td>\n",
              "      <td>-1.297500e-309</td>\n",
              "      <td>0.000003</td>\n",
              "      <td>497.040000</td>\n",
              "      <td>675.860000</td>\n",
              "      <td>-1.216800e-318</td>\n",
              "      <td>-2.916900e-310</td>\n",
              "      <td>1.471300e-07</td>\n",
              "    </tr>\n",
              "    <tr>\n",
              "      <th>337</th>\n",
              "      <td>2022-09-01 15:52:00</td>\n",
              "      <td>2022-09-01</td>\n",
              "      <td>15:52:00</td>\n",
              "      <td>57120</td>\n",
              "      <td>0.0</td>\n",
              "      <td>0.0</td>\n",
              "      <td>0.0</td>\n",
              "      <td>0.0</td>\n",
              "      <td>0.0</td>\n",
              "      <td>0.0</td>\n",
              "      <td>...</td>\n",
              "      <td>800.570000</td>\n",
              "      <td>3.249700e-317</td>\n",
              "      <td>3.113700e-315</td>\n",
              "      <td>-2.459100e-309</td>\n",
              "      <td>0.258540</td>\n",
              "      <td>598.750000</td>\n",
              "      <td>603.170000</td>\n",
              "      <td>1.334100e-315</td>\n",
              "      <td>-7.930400e-310</td>\n",
              "      <td>4.066700e-02</td>\n",
              "    </tr>\n",
              "    <tr>\n",
              "      <th>340</th>\n",
              "      <td>2022-09-01 15:58:00</td>\n",
              "      <td>2022-09-01</td>\n",
              "      <td>15:58:00</td>\n",
              "      <td>57480</td>\n",
              "      <td>0.0</td>\n",
              "      <td>0.0</td>\n",
              "      <td>0.0</td>\n",
              "      <td>0.0</td>\n",
              "      <td>0.0</td>\n",
              "      <td>0.0</td>\n",
              "      <td>...</td>\n",
              "      <td>0.000166</td>\n",
              "      <td>1.875300e-04</td>\n",
              "      <td>1.168800e-04</td>\n",
              "      <td>1.353900e-04</td>\n",
              "      <td>0.000011</td>\n",
              "      <td>0.000174</td>\n",
              "      <td>0.000254</td>\n",
              "      <td>2.594100e-04</td>\n",
              "      <td>2.404700e-04</td>\n",
              "      <td>2.050700e-04</td>\n",
              "    </tr>\n",
              "    <tr>\n",
              "      <th>341</th>\n",
              "      <td>2022-09-01 16:00:00</td>\n",
              "      <td>2022-09-01</td>\n",
              "      <td>16:00:00</td>\n",
              "      <td>57600</td>\n",
              "      <td>0.0</td>\n",
              "      <td>0.0</td>\n",
              "      <td>0.0</td>\n",
              "      <td>0.0</td>\n",
              "      <td>0.0</td>\n",
              "      <td>0.0</td>\n",
              "      <td>...</td>\n",
              "      <td>0.353450</td>\n",
              "      <td>3.542100e-01</td>\n",
              "      <td>3.511600e-01</td>\n",
              "      <td>3.442200e-01</td>\n",
              "      <td>0.337560</td>\n",
              "      <td>0.333560</td>\n",
              "      <td>0.329760</td>\n",
              "      <td>3.272800e-01</td>\n",
              "      <td>3.249100e-01</td>\n",
              "      <td>3.262500e-01</td>\n",
              "    </tr>\n",
              "    <tr>\n",
              "      <th>361</th>\n",
              "      <td>2022-09-02 04:32:00</td>\n",
              "      <td>2022-09-02</td>\n",
              "      <td>04:32:00</td>\n",
              "      <td>16320</td>\n",
              "      <td>0.0</td>\n",
              "      <td>0.0</td>\n",
              "      <td>0.0</td>\n",
              "      <td>0.0</td>\n",
              "      <td>0.0</td>\n",
              "      <td>0.0</td>\n",
              "      <td>...</td>\n",
              "      <td>0.000000</td>\n",
              "      <td>0.000000e+00</td>\n",
              "      <td>0.000000e+00</td>\n",
              "      <td>0.000000e+00</td>\n",
              "      <td>0.000000</td>\n",
              "      <td>0.000000</td>\n",
              "      <td>0.000000</td>\n",
              "      <td>0.000000e+00</td>\n",
              "      <td>0.000000e+00</td>\n",
              "      <td>0.000000e+00</td>\n",
              "    </tr>\n",
              "    <tr>\n",
              "      <th>402</th>\n",
              "      <td>2022-09-02 06:06:00</td>\n",
              "      <td>2022-09-02</td>\n",
              "      <td>06:06:00</td>\n",
              "      <td>21960</td>\n",
              "      <td>4389.9</td>\n",
              "      <td>4319.3</td>\n",
              "      <td>4323.3</td>\n",
              "      <td>4239.1</td>\n",
              "      <td>4180.4</td>\n",
              "      <td>4162.6</td>\n",
              "      <td>...</td>\n",
              "      <td>0.127620</td>\n",
              "      <td>1.271300e-01</td>\n",
              "      <td>1.251100e-01</td>\n",
              "      <td>1.228900e-01</td>\n",
              "      <td>0.121030</td>\n",
              "      <td>0.118640</td>\n",
              "      <td>0.117630</td>\n",
              "      <td>1.172300e-01</td>\n",
              "      <td>1.178500e-01</td>\n",
              "      <td>1.193900e-01</td>\n",
              "    </tr>\n",
              "    <tr>\n",
              "      <th>406</th>\n",
              "      <td>2022-09-02 06:16:00</td>\n",
              "      <td>2022-09-02</td>\n",
              "      <td>06:16:00</td>\n",
              "      <td>22560</td>\n",
              "      <td>5357.8</td>\n",
              "      <td>5626.1</td>\n",
              "      <td>5524.6</td>\n",
              "      <td>5320.7</td>\n",
              "      <td>5461.9</td>\n",
              "      <td>5354.7</td>\n",
              "      <td>...</td>\n",
              "      <td>0.180330</td>\n",
              "      <td>1.800200e-01</td>\n",
              "      <td>1.785900e-01</td>\n",
              "      <td>1.761300e-01</td>\n",
              "      <td>0.172980</td>\n",
              "      <td>0.169790</td>\n",
              "      <td>0.167520</td>\n",
              "      <td>1.666100e-01</td>\n",
              "      <td>1.665400e-01</td>\n",
              "      <td>1.670100e-01</td>\n",
              "    </tr>\n",
              "    <tr>\n",
              "      <th>407</th>\n",
              "      <td>2022-09-02 06:20:00</td>\n",
              "      <td>2022-09-02</td>\n",
              "      <td>06:20:00</td>\n",
              "      <td>22800</td>\n",
              "      <td>5357.8</td>\n",
              "      <td>5626.1</td>\n",
              "      <td>5524.6</td>\n",
              "      <td>5320.7</td>\n",
              "      <td>5461.9</td>\n",
              "      <td>5354.7</td>\n",
              "      <td>...</td>\n",
              "      <td>0.180330</td>\n",
              "      <td>1.800200e-01</td>\n",
              "      <td>1.785900e-01</td>\n",
              "      <td>1.761300e-01</td>\n",
              "      <td>0.172980</td>\n",
              "      <td>0.169790</td>\n",
              "      <td>0.167520</td>\n",
              "      <td>1.666100e-01</td>\n",
              "      <td>1.665400e-01</td>\n",
              "      <td>1.670100e-01</td>\n",
              "    </tr>\n",
              "    <tr>\n",
              "      <th>417</th>\n",
              "      <td>2022-09-02 06:42:00</td>\n",
              "      <td>2022-09-02</td>\n",
              "      <td>06:42:00</td>\n",
              "      <td>24120</td>\n",
              "      <td>4318.3</td>\n",
              "      <td>4322.3</td>\n",
              "      <td>4260.7</td>\n",
              "      <td>4184.7</td>\n",
              "      <td>4166.9</td>\n",
              "      <td>4123.9</td>\n",
              "      <td>...</td>\n",
              "      <td>0.243290</td>\n",
              "      <td>2.451500e-01</td>\n",
              "      <td>2.446200e-01</td>\n",
              "      <td>2.415100e-01</td>\n",
              "      <td>0.237610</td>\n",
              "      <td>0.233270</td>\n",
              "      <td>0.229290</td>\n",
              "      <td>2.278100e-01</td>\n",
              "      <td>2.260100e-01</td>\n",
              "      <td>2.270800e-01</td>\n",
              "    </tr>\n",
              "  </tbody>\n",
              "</table>\n",
              "<p>9 rows × 1305 columns</p>\n",
              "</div>\n",
              "    <div class=\"colab-df-buttons\">\n",
              "\n",
              "  <div class=\"colab-df-container\">\n",
              "    <button class=\"colab-df-convert\" onclick=\"convertToInteractive('df-1a409af2-c97a-4df5-9a79-efd9ee39f4dd')\"\n",
              "            title=\"Convert this dataframe to an interactive table.\"\n",
              "            style=\"display:none;\">\n",
              "\n",
              "  <svg xmlns=\"http://www.w3.org/2000/svg\" height=\"24px\" viewBox=\"0 -960 960 960\">\n",
              "    <path d=\"M120-120v-720h720v720H120Zm60-500h600v-160H180v160Zm220 220h160v-160H400v160Zm0 220h160v-160H400v160ZM180-400h160v-160H180v160Zm440 0h160v-160H620v160ZM180-180h160v-160H180v160Zm440 0h160v-160H620v160Z\"/>\n",
              "  </svg>\n",
              "    </button>\n",
              "\n",
              "  <style>\n",
              "    .colab-df-container {\n",
              "      display:flex;\n",
              "      gap: 12px;\n",
              "    }\n",
              "\n",
              "    .colab-df-convert {\n",
              "      background-color: #E8F0FE;\n",
              "      border: none;\n",
              "      border-radius: 50%;\n",
              "      cursor: pointer;\n",
              "      display: none;\n",
              "      fill: #1967D2;\n",
              "      height: 32px;\n",
              "      padding: 0 0 0 0;\n",
              "      width: 32px;\n",
              "    }\n",
              "\n",
              "    .colab-df-convert:hover {\n",
              "      background-color: #E2EBFA;\n",
              "      box-shadow: 0px 1px 2px rgba(60, 64, 67, 0.3), 0px 1px 3px 1px rgba(60, 64, 67, 0.15);\n",
              "      fill: #174EA6;\n",
              "    }\n",
              "\n",
              "    .colab-df-buttons div {\n",
              "      margin-bottom: 4px;\n",
              "    }\n",
              "\n",
              "    [theme=dark] .colab-df-convert {\n",
              "      background-color: #3B4455;\n",
              "      fill: #D2E3FC;\n",
              "    }\n",
              "\n",
              "    [theme=dark] .colab-df-convert:hover {\n",
              "      background-color: #434B5C;\n",
              "      box-shadow: 0px 1px 3px 1px rgba(0, 0, 0, 0.15);\n",
              "      filter: drop-shadow(0px 1px 2px rgba(0, 0, 0, 0.3));\n",
              "      fill: #FFFFFF;\n",
              "    }\n",
              "  </style>\n",
              "\n",
              "    <script>\n",
              "      const buttonEl =\n",
              "        document.querySelector('#df-1a409af2-c97a-4df5-9a79-efd9ee39f4dd button.colab-df-convert');\n",
              "      buttonEl.style.display =\n",
              "        google.colab.kernel.accessAllowed ? 'block' : 'none';\n",
              "\n",
              "      async function convertToInteractive(key) {\n",
              "        const element = document.querySelector('#df-1a409af2-c97a-4df5-9a79-efd9ee39f4dd');\n",
              "        const dataTable =\n",
              "          await google.colab.kernel.invokeFunction('convertToInteractive',\n",
              "                                                    [key], {});\n",
              "        if (!dataTable) return;\n",
              "\n",
              "        const docLinkHtml = 'Like what you see? Visit the ' +\n",
              "          '<a target=\"_blank\" href=https://colab.research.google.com/notebooks/data_table.ipynb>data table notebook</a>'\n",
              "          + ' to learn more about interactive tables.';\n",
              "        element.innerHTML = '';\n",
              "        dataTable['output_type'] = 'display_data';\n",
              "        await google.colab.output.renderOutput(dataTable, element);\n",
              "        const docLink = document.createElement('div');\n",
              "        docLink.innerHTML = docLinkHtml;\n",
              "        element.appendChild(docLink);\n",
              "      }\n",
              "    </script>\n",
              "  </div>\n",
              "\n",
              "\n",
              "<div id=\"df-caed8825-c543-403c-81f0-af89d86ffa2d\">\n",
              "  <button class=\"colab-df-quickchart\" onclick=\"quickchart('df-caed8825-c543-403c-81f0-af89d86ffa2d')\"\n",
              "            title=\"Suggest charts\"\n",
              "            style=\"display:none;\">\n",
              "\n",
              "<svg xmlns=\"http://www.w3.org/2000/svg\" height=\"24px\"viewBox=\"0 0 24 24\"\n",
              "     width=\"24px\">\n",
              "    <g>\n",
              "        <path d=\"M19 3H5c-1.1 0-2 .9-2 2v14c0 1.1.9 2 2 2h14c1.1 0 2-.9 2-2V5c0-1.1-.9-2-2-2zM9 17H7v-7h2v7zm4 0h-2V7h2v10zm4 0h-2v-4h2v4z\"/>\n",
              "    </g>\n",
              "</svg>\n",
              "  </button>\n",
              "\n",
              "<style>\n",
              "  .colab-df-quickchart {\n",
              "      --bg-color: #E8F0FE;\n",
              "      --fill-color: #1967D2;\n",
              "      --hover-bg-color: #E2EBFA;\n",
              "      --hover-fill-color: #174EA6;\n",
              "      --disabled-fill-color: #AAA;\n",
              "      --disabled-bg-color: #DDD;\n",
              "  }\n",
              "\n",
              "  [theme=dark] .colab-df-quickchart {\n",
              "      --bg-color: #3B4455;\n",
              "      --fill-color: #D2E3FC;\n",
              "      --hover-bg-color: #434B5C;\n",
              "      --hover-fill-color: #FFFFFF;\n",
              "      --disabled-bg-color: #3B4455;\n",
              "      --disabled-fill-color: #666;\n",
              "  }\n",
              "\n",
              "  .colab-df-quickchart {\n",
              "    background-color: var(--bg-color);\n",
              "    border: none;\n",
              "    border-radius: 50%;\n",
              "    cursor: pointer;\n",
              "    display: none;\n",
              "    fill: var(--fill-color);\n",
              "    height: 32px;\n",
              "    padding: 0;\n",
              "    width: 32px;\n",
              "  }\n",
              "\n",
              "  .colab-df-quickchart:hover {\n",
              "    background-color: var(--hover-bg-color);\n",
              "    box-shadow: 0 1px 2px rgba(60, 64, 67, 0.3), 0 1px 3px 1px rgba(60, 64, 67, 0.15);\n",
              "    fill: var(--button-hover-fill-color);\n",
              "  }\n",
              "\n",
              "  .colab-df-quickchart-complete:disabled,\n",
              "  .colab-df-quickchart-complete:disabled:hover {\n",
              "    background-color: var(--disabled-bg-color);\n",
              "    fill: var(--disabled-fill-color);\n",
              "    box-shadow: none;\n",
              "  }\n",
              "\n",
              "  .colab-df-spinner {\n",
              "    border: 2px solid var(--fill-color);\n",
              "    border-color: transparent;\n",
              "    border-bottom-color: var(--fill-color);\n",
              "    animation:\n",
              "      spin 1s steps(1) infinite;\n",
              "  }\n",
              "\n",
              "  @keyframes spin {\n",
              "    0% {\n",
              "      border-color: transparent;\n",
              "      border-bottom-color: var(--fill-color);\n",
              "      border-left-color: var(--fill-color);\n",
              "    }\n",
              "    20% {\n",
              "      border-color: transparent;\n",
              "      border-left-color: var(--fill-color);\n",
              "      border-top-color: var(--fill-color);\n",
              "    }\n",
              "    30% {\n",
              "      border-color: transparent;\n",
              "      border-left-color: var(--fill-color);\n",
              "      border-top-color: var(--fill-color);\n",
              "      border-right-color: var(--fill-color);\n",
              "    }\n",
              "    40% {\n",
              "      border-color: transparent;\n",
              "      border-right-color: var(--fill-color);\n",
              "      border-top-color: var(--fill-color);\n",
              "    }\n",
              "    60% {\n",
              "      border-color: transparent;\n",
              "      border-right-color: var(--fill-color);\n",
              "    }\n",
              "    80% {\n",
              "      border-color: transparent;\n",
              "      border-right-color: var(--fill-color);\n",
              "      border-bottom-color: var(--fill-color);\n",
              "    }\n",
              "    90% {\n",
              "      border-color: transparent;\n",
              "      border-bottom-color: var(--fill-color);\n",
              "    }\n",
              "  }\n",
              "</style>\n",
              "\n",
              "  <script>\n",
              "    async function quickchart(key) {\n",
              "      const quickchartButtonEl =\n",
              "        document.querySelector('#' + key + ' button');\n",
              "      quickchartButtonEl.disabled = true;  // To prevent multiple clicks.\n",
              "      quickchartButtonEl.classList.add('colab-df-spinner');\n",
              "      try {\n",
              "        const charts = await google.colab.kernel.invokeFunction(\n",
              "            'suggestCharts', [key], {});\n",
              "      } catch (error) {\n",
              "        console.error('Error during call to suggestCharts:', error);\n",
              "      }\n",
              "      quickchartButtonEl.classList.remove('colab-df-spinner');\n",
              "      quickchartButtonEl.classList.add('colab-df-quickchart-complete');\n",
              "    }\n",
              "    (() => {\n",
              "      let quickchartButtonEl =\n",
              "        document.querySelector('#df-caed8825-c543-403c-81f0-af89d86ffa2d button');\n",
              "      quickchartButtonEl.style.display =\n",
              "        google.colab.kernel.accessAllowed ? 'block' : 'none';\n",
              "    })();\n",
              "  </script>\n",
              "</div>\n",
              "    </div>\n",
              "  </div>\n"
            ]
          },
          "metadata": {},
          "execution_count": 110
        }
      ]
    },
    {
      "cell_type": "markdown",
      "source": [
        "am 01.09 und 02.09 gibt es fehlerhafte Einträge. Diese am besten händisch korregieren."
      ],
      "metadata": {
        "id": "i1cz9If8_cgT"
      }
    }
  ]
}