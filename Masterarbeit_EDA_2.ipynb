{
  "nbformat": 4,
  "nbformat_minor": 0,
  "metadata": {
    "colab": {
      "provenance": [],
      "authorship_tag": "ABX9TyNmtjM30N8atCLIzhTHr4jk",
      "include_colab_link": true
    },
    "kernelspec": {
      "name": "python3",
      "display_name": "Python 3"
    },
    "language_info": {
      "name": "python"
    }
  },
  "cells": [
    {
      "cell_type": "markdown",
      "metadata": {
        "id": "view-in-github",
        "colab_type": "text"
      },
      "source": [
        "<a href=\"https://colab.research.google.com/github/rjanow/Masterarbeit/blob/main/Masterarbeit_EDA_2.ipynb\" target=\"_parent\"><img src=\"https://colab.research.google.com/assets/colab-badge.svg\" alt=\"Open In Colab\"/></a>"
      ]
    },
    {
      "cell_type": "markdown",
      "source": [
        "Aktuelle Version der EDA:\n",
        "Die Struktur ist an die Gliederung des 2ten Materprojektes angepasst."
      ],
      "metadata": {
        "id": "Z0m0im9L1srG"
      }
    },
    {
      "cell_type": "code",
      "execution_count": 1,
      "metadata": {
        "colab": {
          "base_uri": "https://localhost:8080/"
        },
        "id": "2yLBjHPw1j0y",
        "outputId": "bc8855dd-8cc1-4d75-bd14-477e292384de"
      },
      "outputs": [
        {
          "output_type": "stream",
          "name": "stdout",
          "text": [
            "Drive already mounted at /content/drive; to attempt to forcibly remount, call drive.mount(\"/content/drive\", force_remount=True).\n"
          ]
        }
      ],
      "source": [
        "# Verbinden mit der Google-Drive\n",
        "from google.colab import drive\n",
        "drive.mount('/content/drive')"
      ]
    },
    {
      "cell_type": "code",
      "source": [
        "# import modules\n",
        "\n",
        "import io, os, sys, setuptools, tokenize\n",
        "import numpy as np\n",
        "import pandas as pd\n",
        "import matplotlib\n",
        "import matplotlib.pyplot as plt\n",
        "import matplotlib.dates as mdates\n",
        "import seaborn as sns\n",
        "\n",
        "from datetime import datetime\n",
        "from datetime import timedelta\n",
        "from math import sqrt"
      ],
      "metadata": {
        "id": "d4ZELD7a2C3r"
      },
      "execution_count": 2,
      "outputs": []
    },
    {
      "cell_type": "code",
      "source": [
        "# Größe der Plots festlegen\n",
        "matplotlib.rcParams['figure.figsize'] = (16, 9)"
      ],
      "metadata": {
        "id": "GUxBpEJJ2H40"
      },
      "execution_count": 3,
      "outputs": []
    },
    {
      "cell_type": "code",
      "source": [
        "# Allgemeine Angaben\n",
        "latitude = 50.2\n",
        "longitude = 7.8\n",
        "\n",
        "seconds_in_day = 24*60*60\n",
        "seconds_in_year = (365.2425)*seconds_in_day\n",
        "\n",
        "# tz, altitude, name = 'Europe/Berlin', 70, 'SanktAugustin'\n",
        "# tus = pvlib.location.Location(latitude, longitude, tz, altitude, name)"
      ],
      "metadata": {
        "id": "oQ7BsbMK2I-P"
      },
      "execution_count": 4,
      "outputs": []
    },
    {
      "cell_type": "code",
      "source": [
        "# Pfad zur CSV-Datei auf Google Drive\n",
        "name_Messwerte = 'Messdaten_CAMS_GHI.csv'\n",
        "name_Vorhersage = 'Vorhersagedaten_CAMS_VarIdx.csv'\n",
        "\n",
        "folder_import = '/content/drive/My Drive/Colab_Notebooks/Clean_Data/'\n",
        "folder_export = '/content/drive/My Drive/Colab_Notebooks/plot_daily_UVI/'"
      ],
      "metadata": {
        "id": "_PCV8RRw2K6H"
      },
      "execution_count": 5,
      "outputs": []
    },
    {
      "cell_type": "markdown",
      "source": [
        "# Import der Vorhersagewerte:"
      ],
      "metadata": {
        "id": "OYIIL62O2OHs"
      }
    },
    {
      "cell_type": "code",
      "source": [
        "df_Vorhersage = pd.read_csv(folder_import + name_Vorhersage)\n",
        "df_Vorhersage.set_index('Datetime', inplace=True)\n",
        "df_Vorhersage.index = pd.to_datetime(df_Vorhersage.index)"
      ],
      "metadata": {
        "id": "kBCQk1uw2SaP"
      },
      "execution_count": 6,
      "outputs": []
    },
    {
      "cell_type": "markdown",
      "source": [
        "# Import der Messwerte:"
      ],
      "metadata": {
        "id": "iIPF6q4R2U7X"
      }
    },
    {
      "cell_type": "code",
      "source": [
        "df_Messwerte = pd.read_csv(folder_import + name_Messwerte)\n",
        "df_Messwerte.set_index('Datetime', inplace=True)\n",
        "df_Messwerte.index = pd.to_datetime(df_Messwerte.index)"
      ],
      "metadata": {
        "id": "o7AlJKWW2Twf"
      },
      "execution_count": 7,
      "outputs": []
    },
    {
      "cell_type": "code",
      "source": [
        "df_Messwerte['Observation_period'] = pd.to_datetime(df_Messwerte['Observation_period'])\n",
        "df_Messwerte['date'] = df_Messwerte['Observation_period'].dt.date"
      ],
      "metadata": {
        "id": "I5jJ--GOSNj8"
      },
      "execution_count": 8,
      "outputs": []
    },
    {
      "cell_type": "code",
      "source": [
        "def remove_sza_between_80_and_90(df: pd.DataFrame) -> pd.DataFrame:\n",
        "    df = df.copy()\n",
        "\n",
        "    result = pd.DataFrame()\n",
        "\n",
        "    for datum, df_tag in df.groupby('date'):\n",
        "        # Zeilen entfernen, in denen SZA zwischen 80° und 100° liegt (exklusiv)\n",
        "        df_filtered = df_tag[~df_tag['SZA'].between(70, 100)]\n",
        "        result = pd.concat([result, df_filtered], ignore_index=True)\n",
        "\n",
        "    return result"
      ],
      "metadata": {
        "id": "WwvXKYLjDqGI"
      },
      "execution_count": 9,
      "outputs": []
    },
    {
      "cell_type": "code",
      "source": [
        "df_Messwerte = remove_sza_between_80_and_90(df_Messwerte)"
      ],
      "metadata": {
        "colab": {
          "base_uri": "https://localhost:8080/",
          "height": 141
        },
        "id": "iYMuotBbDqjF",
        "outputId": "4e795391-f67a-4c9b-9436-c9db7c5c45fb"
      },
      "execution_count": 10,
      "outputs": [
        {
          "output_type": "error",
          "ename": "NameError",
          "evalue": "name 'remove_sza_between_80_and_100' is not defined",
          "traceback": [
            "\u001b[0;31m---------------------------------------------------------------------------\u001b[0m",
            "\u001b[0;31mNameError\u001b[0m                                 Traceback (most recent call last)",
            "\u001b[0;32m/tmp/ipython-input-3235964052.py\u001b[0m in \u001b[0;36m<cell line: 0>\u001b[0;34m()\u001b[0m\n\u001b[0;32m----> 1\u001b[0;31m \u001b[0mdf_Messwerte\u001b[0m \u001b[0;34m=\u001b[0m \u001b[0mremove_sza_between_80_and_100\u001b[0m\u001b[0;34m(\u001b[0m\u001b[0mdf_Messwerte\u001b[0m\u001b[0;34m)\u001b[0m\u001b[0;34m\u001b[0m\u001b[0;34m\u001b[0m\u001b[0m\n\u001b[0m",
            "\u001b[0;31mNameError\u001b[0m: name 'remove_sza_between_80_and_100' is not defined"
          ]
        }
      ]
    },
    {
      "cell_type": "code",
      "source": [
        "hour_bins = [3, 6, 9, 12, 15, 18, 21]  # Beispiel für mögliche Bins\n",
        "hour_labels = ['03:00-06:00', '06:00-09:00', '09:00-12:00', '12:00-15:00', '15:00-18:00', '18:00-21:00']\n",
        "df_Messwerte['Time_bins'] = pd.cut(df_Messwerte['Hour'], bins=hour_bins, labels=hour_labels, right=False)"
      ],
      "metadata": {
        "id": "eR-EuWE81grN"
      },
      "execution_count": null,
      "outputs": []
    },
    {
      "cell_type": "code",
      "source": [
        "df_Messwerte"
      ],
      "metadata": {
        "id": "3D52QcMFUgB_"
      },
      "execution_count": null,
      "outputs": []
    },
    {
      "cell_type": "code",
      "source": [
        "df_Vorhersage"
      ],
      "metadata": {
        "id": "VaFMTTcDUq-D"
      },
      "execution_count": null,
      "outputs": []
    },
    {
      "cell_type": "markdown",
      "source": [
        "Allgemeine Informationen über die Vorhersagewerte und Messwerte:"
      ],
      "metadata": {
        "id": "6KUaZftN2eEy"
      }
    },
    {
      "cell_type": "code",
      "source": [
        "print(df_Vorhersage.describe(),\n",
        "df_Vorhersage.isna().sum())"
      ],
      "metadata": {
        "id": "Bu-Qt2dm2bpl"
      },
      "execution_count": null,
      "outputs": []
    },
    {
      "cell_type": "code",
      "source": [
        "df_Messwerte.describe(percentiles=[0.1, 0.25, 0.5, 0.75, 0.9])"
      ],
      "metadata": {
        "id": "67HMysa72pDq"
      },
      "execution_count": null,
      "outputs": []
    },
    {
      "cell_type": "markdown",
      "source": [],
      "metadata": {
        "id": "kXy7yJRh2dJl"
      }
    },
    {
      "cell_type": "code",
      "source": [
        "# Interquartile Range berechnen\n",
        "\n",
        "Q1_UVI = df_Messwerte['UVI'].quantile(0.25)\n",
        "Q2_UVI = df_Messwerte['UVI'].quantile(0.5)\n",
        "Q3_UVI = df_Messwerte['UVI'].quantile(0.75)\n",
        "\n",
        "IQR_UVI = Q3_UVI - Q1_UVI\n",
        "\n",
        "print(f\"25. Perzentil: {round(Q1_UVI, 3)}, 5. Perzentil: {round(Q2_UVI, 3)}, 75. Perzentil: {round(Q3_UVI, 3)}, IQR: {round(IQR_UVI, 3)}\")\n",
        ""
      ],
      "metadata": {
        "id": "tsJlrq-R2jc0"
      },
      "execution_count": null,
      "outputs": []
    },
    {
      "cell_type": "code",
      "source": [
        "# Z-score über alle Messdaten berechnen\n",
        "df_ZScore = pd.DataFrame()\n",
        "\n",
        "mittelwert = df_Messwerte['UVI'].mean()\n",
        "standardabweichung = df_Messwerte['UVI'].std()\n",
        "\n",
        "df_ZScore['Z-Score'] = (df_Messwerte['UVI'] - mittelwert) / standardabweichung\n",
        "plt.plot(df_ZScore)\n",
        "plt.title('Z-Score des UVI')\n",
        "plt.savefig('/content/drive/My Drive/Colab_Notebooks/plot_TSA/Z_Score_UVI.png')"
      ],
      "metadata": {
        "id": "tshOwRv72t66"
      },
      "execution_count": null,
      "outputs": []
    },
    {
      "cell_type": "markdown",
      "source": [
        "# Qunatilspezifische Analyse des UVI:"
      ],
      "metadata": {
        "id": "uy-YDMj4zuez"
      }
    },
    {
      "cell_type": "code",
      "source": [
        "import pandas as pd\n",
        "import seaborn as sns\n",
        "import matplotlib.pyplot as plt\n",
        "\n",
        "# Datum in datetime, falls nicht bereits erfolgt\n",
        "df_Messwerte['Datum'] = pd.to_datetime(df_Messwerte['Datum'])\n",
        "\n",
        "# Monat extrahieren\n",
        "df_Messwerte['Monat'] = df_Messwerte['Datum'].dt.month\n",
        "\n",
        "# Uhrzeit binär in Kategorien gruppiert (falls noch nicht vorhanden)\n",
        "# z. B. 06:00–09:00 etc. scheint schon in 'Time_bins' zu sein"
      ],
      "metadata": {
        "id": "-MtLHv1b2wRa"
      },
      "execution_count": null,
      "outputs": []
    },
    {
      "cell_type": "code",
      "source": [
        "df_Messwerte, df_Vorhersage"
      ],
      "metadata": {
        "id": "Q9GI5eS5ZhZD"
      },
      "execution_count": null,
      "outputs": []
    },
    {
      "cell_type": "code",
      "source": [
        "plt.figure(figsize=(12, 6))\n",
        "sns.boxplot(data=df_Messwerte, x='Time_bins', y='UVI')\n",
        "plt.title('UVI nach Tageszeit (Time_bins)')\n",
        "plt.xticks(rotation=45)\n",
        "plt.tight_layout()\n",
        "plt.show()"
      ],
      "metadata": {
        "id": "6ntln_bJ0xlu"
      },
      "execution_count": null,
      "outputs": []
    },
    {
      "cell_type": "code",
      "source": [
        "plt.figure(figsize=(12, 6))\n",
        "sns.violinplot(data=df_Messwerte, x='Time_bins', y='UVI', inner='quartile')\n",
        "plt.title('UVI Verteilung nach Tageszeit (Violinplot)')\n",
        "plt.xticks(rotation=45)\n",
        "plt.tight_layout()\n",
        "plt.show()"
      ],
      "metadata": {
        "id": "PzRvsZc400WM"
      },
      "execution_count": null,
      "outputs": []
    },
    {
      "cell_type": "code",
      "source": [
        "# Stelle sicher, dass 'Monat' numerisch ist\n",
        "df_Messwerte['Monat'] = df_Messwerte['Monat'].astype(int)\n",
        "\n",
        "# Berechnung der Quantile und Median pro Monat\n",
        "uvi_quantiles = df_Messwerte.groupby('Monat')['UVI'].quantile([0.1, 0.5, 0.9]).unstack()\n",
        "\n",
        "plt.figure(figsize=(12, 6))\n",
        "\n",
        "# Boxplot\n",
        "sns.boxplot(data=df_Messwerte, x='Monat', y='UVI')\n",
        "\n",
        "# Liniendiagramme für Quantile\n",
        "plt.plot(uvi_quantiles.index - 1, uvi_quantiles[0.1], label='10%-Quantil', color='blue', linestyle='dashed', marker='o')\n",
        "plt.plot(uvi_quantiles.index - 1, uvi_quantiles[0.5], label='Median', color='orange', linestyle='solid', marker='o')\n",
        "plt.plot(uvi_quantiles.index - 1, uvi_quantiles[0.9], label='90%-Quantil', color='red', linestyle='solid', marker='o')\n",
        "\n",
        "# Plot-Details\n",
        "plt.title('UVI nach Monat mit 10%, 50% (Median) und 90%-Quantil')\n",
        "plt.xlabel('Monat')\n",
        "plt.ylabel('UVI')\n",
        "plt.legend()\n",
        "plt.tight_layout()\n",
        "plt.show()"
      ],
      "metadata": {
        "id": "9N4pkWJM02a3"
      },
      "execution_count": null,
      "outputs": []
    },
    {
      "cell_type": "code",
      "source": [
        "plt.figure(figsize=(12, 6))\n",
        "sns.violinplot(data=df_Messwerte, x='Monat', y='UVI', inner='quartile')\n",
        "plt.title('UVI Verteilung nach Monat (Violinplot)')\n",
        "plt.tight_layout()\n",
        "plt.show()"
      ],
      "metadata": {
        "id": "4MMW_6J404MY"
      },
      "execution_count": null,
      "outputs": []
    },
    {
      "cell_type": "code",
      "source": [
        "df_Messwerte['Cloud_Index'] = df_Messwerte['ghi'] / df_Messwerte['Clear_sky_GHI']\n",
        "# z. B. in Klassen einteilen\n",
        "df_Messwerte['Bewölkung'] = pd.cut(df_Messwerte['Cloud_Index'],\n",
        "                                   bins=[0, 0.2, 0.5, 0.8, 1.0, 1.5],\n",
        "                                   labels=['sehr bewölkt', 'bewölkt', 'teilweise', 'klar', 'überklar'])"
      ],
      "metadata": {
        "id": "E7tVNFxo1Ap8"
      },
      "execution_count": null,
      "outputs": []
    },
    {
      "cell_type": "code",
      "source": [
        "sns.boxplot(data=df_Messwerte, x='Bewölkung', y='UVI')\n",
        "plt.title('UVI nach geschätzter Bewölkung (Cloud Index)')\n",
        "plt.show()"
      ],
      "metadata": {
        "id": "kyF3sbs41Cc8"
      },
      "execution_count": null,
      "outputs": []
    },
    {
      "cell_type": "code",
      "source": [
        "quantiles = df_Messwerte.groupby('Time_bins')['UVI'].quantile([0.1, 0.5, 0.9]).unstack()\n",
        "quantiles.columns = ['10%', '50%', '90%']\n",
        "print(quantiles)"
      ],
      "metadata": {
        "id": "XRKFcLN81GGi"
      },
      "execution_count": null,
      "outputs": []
    },
    {
      "cell_type": "code",
      "source": [
        "# Heatmap 1: 90%-Quantil\n",
        "pivot_90 = df_Messwerte.pivot_table(\n",
        "    index='Time_bins',\n",
        "    columns='Monat',\n",
        "    values='UVI',\n",
        "    aggfunc=lambda x: x.quantile(0.9)\n",
        ")\n",
        "\n",
        "# Heatmap 2: Median (50%-Quantil)\n",
        "pivot_50 = df_Messwerte.pivot_table(\n",
        "    index='Time_bins',\n",
        "    columns='Monat',\n",
        "    values='UVI',\n",
        "    aggfunc='median'  # oder: lambda x: x.quantile(0.5)\n",
        ")\n",
        "\n",
        "# Plot: zwei Heatmaps nebeneinander\n",
        "fig, axes = plt.subplots(1, 2, figsize=(16, 6), sharey=True)\n",
        "\n",
        "# Heatmap für 90%-Quantil\n",
        "sns.heatmap(pivot_90, annot=True, fmt=\".2f\", cmap=\"YlOrRd\", ax=axes[0])\n",
        "axes[0].set_title(\"90%-Quantil des UVI\")\n",
        "axes[0].set_ylabel(\"Tageszeit\")\n",
        "axes[0].set_xlabel(\"Monat\")\n",
        "\n",
        "# Heatmap für Median\n",
        "sns.heatmap(pivot_50, annot=True, fmt=\".2f\", cmap=\"YlGnBu\", ax=axes[1])\n",
        "axes[1].set_title(\"Median des UVI\")\n",
        "axes[1.].set_ylabel(\"Tageszeit\")\n",
        "axes[1].set_xlabel(\"Monat\")\n",
        "\n",
        "plt.tight_layout()\n",
        "plt.show()"
      ],
      "metadata": {
        "id": "gS4Rrf021Hn9"
      },
      "execution_count": null,
      "outputs": []
    },
    {
      "cell_type": "code",
      "source": [],
      "metadata": {
        "id": "cWvUAV0w2Ut1"
      },
      "execution_count": null,
      "outputs": []
    }
  ]
}